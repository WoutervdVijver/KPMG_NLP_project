{
  "nbformat": 4,
  "nbformat_minor": 0,
  "metadata": {
    "colab": {
      "name": "LDA_Mallet_SpacyLG.ipynb",
      "provenance": [],
      "collapsed_sections": []
    },
    "kernelspec": {
      "name": "python3",
      "display_name": "Python 3"
    },
    "language_info": {
      "name": "python"
    }
  },
  "cells": [
    {
      "cell_type": "markdown",
      "source": [
        "## Further text preprocessing"
      ],
      "metadata": {
        "id": "2v-ju9XmWFJI"
      }
    },
    {
      "cell_type": "markdown",
      "source": [
        "### Objectives of this test"
      ],
      "metadata": {
        "id": "9CiTfVEiluGf"
      }
    },
    {
      "cell_type": "markdown",
      "source": [
        "- Implement Latent Dirichlet Allocation (**LDA**) from **Gensim** package along with the Mallet’s implementation (via Gensim). \n",
        "\n",
        "- Implement **Mallet** that optimizes LDA. Mallet is known to run faster and gives better topic segregation.\n",
        "\n",
        "- Also extract the volume and percentage contribution of each topic to get **an idea of how important a topic is**."
      ],
      "metadata": {
        "id": "nOmYI8FIlwj8"
      }
    },
    {
      "cell_type": "markdown",
      "source": [
        "### Pre-requisites: Downloading NLTK Dutch stopwords, data handling tools, model preprocessing & plotting tools, and SpaCy model"
      ],
      "metadata": {
        "id": "HliZG8C-V8gW"
      }
    },
    {
      "cell_type": "code",
      "source": [
        "from google.colab import drive\n",
        "drive.mount('/content/drive')"
      ],
      "metadata": {
        "id": "JOSxNYZEvmtE",
        "colab": {
          "base_uri": "https://localhost:8080/"
        },
        "outputId": "7984ca64-c6a1-433b-d169-38a8040a6873"
      },
      "execution_count": 2,
      "outputs": [
        {
          "output_type": "stream",
          "name": "stdout",
          "text": [
            "Mounted at /content/drive\n"
          ]
        }
      ]
    },
    {
      "cell_type": "code",
      "source": [
        "# NLTK\n",
        "import nltk\n",
        "nltk.download('stopwords', 'dutch')"
      ],
      "metadata": {
        "id": "kjP68jeYftR4"
      },
      "execution_count": null,
      "outputs": []
    },
    {
      "cell_type": "code",
      "source": [
        "# Python data analysis tools and python module for printing\n",
        "import re\n",
        "import numpy as np\n",
        "import pandas as pd\n",
        "from pprint import pprint"
      ],
      "metadata": {
        "id": "-gP7ww_liQub"
      },
      "execution_count": 4,
      "outputs": []
    },
    {
      "cell_type": "code",
      "source": [
        "# Gensim\n",
        "import gensim\n",
        "import gensim.corpora as corpora\n",
        "from gensim.utils import simple_preprocess\n",
        "from gensim.models import CoherenceModel"
      ],
      "metadata": {
        "id": "ZTlhs2HnmGyB"
      },
      "execution_count": 5,
      "outputs": []
    },
    {
      "cell_type": "code",
      "source": [
        "# SpaCy for lemmatization\n",
        "import spacy"
      ],
      "metadata": {
        "id": "fBAzmTMOmp9f"
      },
      "execution_count": 6,
      "outputs": []
    },
    {
      "cell_type": "code",
      "source": [
        "# Plotting tools\n",
        "!pip install pyLDAvis\n",
        "\n",
        "import pyLDAvis\n",
        "import pyLDAvis.gensim_models as gensimvis\n",
        "pyLDAvis.enable_notebook()\n",
        "\n",
        "import matplotlib.pyplot as plt"
      ],
      "metadata": {
        "id": "1oTmcphNmuBR"
      },
      "execution_count": null,
      "outputs": []
    },
    {
      "cell_type": "code",
      "source": [
        "# Ignoring warnings\n",
        "import warnings\n",
        "warnings.filterwarnings('ignore', category=DeprecationWarning)"
      ],
      "metadata": {
        "id": "958NglFuoAJm"
      },
      "execution_count": 8,
      "outputs": []
    },
    {
      "cell_type": "markdown",
      "source": [
        "### Preparing stopwords"
      ],
      "metadata": {
        "id": "JhmR5NYqodQe"
      }
    },
    {
      "cell_type": "code",
      "source": [
        "# NLTK Stop words\n",
        "import nltk\n",
        "from nltk.corpus import stopwords\n",
        "nltk.download('stopwords')\n",
        "\n",
        "stop_words = nltk.corpus.stopwords.words('dutch')"
      ],
      "metadata": {
        "id": "i2F9qd3Aodpz"
      },
      "execution_count": null,
      "outputs": []
    },
    {
      "cell_type": "markdown",
      "source": [
        "## Loading 628 articles into a list"
      ],
      "metadata": {
        "id": "_X85dMwl25bs"
      }
    },
    {
      "cell_type": "code",
      "source": [
        "# Importing file handling library\n",
        "import os\n",
        "\n",
        "data = []\n",
        "path = 'drive/MyDrive/clean_texts/'\n",
        "for name in os.listdir(path)[:628]:\n",
        "    with open(path+name, 'r') as file:\n",
        "        data.append(file.read())\n"
      ],
      "metadata": {
        "id": "L0Dai1aW3BLN"
      },
      "execution_count": 10,
      "outputs": []
    },
    {
      "cell_type": "markdown",
      "source": [
        "### Tokenizing words and cleaning-up text"
      ],
      "metadata": {
        "id": "arIOjuW-G9RL"
      }
    },
    {
      "cell_type": "code",
      "source": [
        "# Tokenizing each sentence into a list of words, removing punctuations and unnecessary characters altogether.\n",
        "def sent_to_words(sentences):\n",
        "    for sentence in sentences:\n",
        "        yield(gensim.utils.simple_preprocess(str(sentence), deacc=True))  # deacc=True removes punctuations\n",
        "\n",
        "data_words = list(sent_to_words(data))\n",
        "\n",
        "#print(data_words)"
      ],
      "metadata": {
        "id": "dO9v16DbxMyV"
      },
      "execution_count": 11,
      "outputs": []
    },
    {
      "cell_type": "markdown",
      "source": [
        "### Creating bigrams and trigrams"
      ],
      "metadata": {
        "id": "iLpiDNyRTGc7"
      }
    },
    {
      "cell_type": "markdown",
      "source": [
        "**Bigrams** are two (2) words frequently occurring together in the document. **Trigrams** are three (3) words frequently occurring."
      ],
      "metadata": {
        "id": "KQdTRjR-zrja"
      }
    },
    {
      "cell_type": "code",
      "source": [
        "# Building the bigram and trigram models\n",
        "bigram = gensim.models.Phrases(data_words, min_count=5, threshold=100) # higher threshold fewer phrases.\n",
        "trigram = gensim.models.Phrases(bigram[data_words], threshold=100)  \n",
        "\n",
        "# Faster way to get a sentence clubbed as a trigram/bigram\n",
        "bigram_mod = gensim.models.phrases.Phraser(bigram)\n",
        "trigram_mod = gensim.models.phrases.Phraser(trigram)\n",
        "\n",
        "# Seeing trigram example\n",
        "#print(trigram_mod[bigram_mod[data_words]])"
      ],
      "metadata": {
        "id": "oTf8PZhLOIwG"
      },
      "execution_count": null,
      "outputs": []
    },
    {
      "cell_type": "markdown",
      "source": [
        "###  Removing stopwords, making bigrams & trigtrams, and lemmatizing"
      ],
      "metadata": {
        "id": "4b9GkSVFZIUC"
      }
    },
    {
      "cell_type": "code",
      "source": [
        "# Define functions for stopwords, bigrams, trigrams and lemmatization\n",
        "def remove_stopwords(texts):\n",
        "    return [[word for word in simple_preprocess(str(doc)) if word not in stop_words] for doc in texts]\n",
        "\n",
        "def make_bigrams(texts):\n",
        "    return [bigram_mod[doc] for doc in texts]\n",
        "\n",
        "def make_trigrams(texts):\n",
        "    return [trigram_mod[bigram_mod[doc]] for doc in texts]\n",
        "\n",
        "empty_words = [\n",
        "    'advies',\n",
        "    'algemeen',\n",
        "    'art',\n",
        "    'artikel',\n",
        "    'bedoelen',\n",
        "    'bepalen',\n",
        "    'bepaling',\n",
        "    'besluit',\n",
        "    'betreffen',\n",
        "    'bevoegd',\n",
        "    'deel',\n",
        "    'drie',\n",
        "    'een',\n",
        "    'één',\n",
        "    'gegeven',\n",
        "    'gelet',\n",
        "    'geven',\n",
        "    'goed',\n",
        "    'hoofdstuk',\n",
        "    'inlichting',\n",
        "    'lid',\n",
        "    'leten',\n",
        "    'maatregel',\n",
        "    'minister',\n",
        "    'naam',\n",
        "    'nemen',\n",
        "    'ontwerp',\n",
        "    'overwegen',\n",
        "    'overwegende',\n",
        "    'paragraaf',\n",
        "    'persoon',\n",
        "    'toepassing',\n",
        "    'twee',\n",
        "    'volgen',\n",
        "    'voorzien',\n",
        "    'wet'\n",
        "] \n",
        "def lemmatization(texts, allowed_postags=['NOUN', 'ADJ', 'VERB', 'ADV']):\n",
        "    \"\"\"https://spacy.io/api/annotation\"\"\"\n",
        "    texts_out = []\n",
        "    for sent in texts:\n",
        "        doc = nlp(\" \".join(sent)) \n",
        "        texts_out.append([token.lemma_ for token in doc if (token.pos_ in allowed_postags) and (token.lemma_ not in  empty_words )])\n",
        "    return texts_out"
      ],
      "metadata": {
        "id": "1cuUNtqNT9kb"
      },
      "execution_count": 13,
      "outputs": []
    },
    {
      "cell_type": "markdown",
      "source": [
        "### Initializing SpaCy's Dutch NLP model (large size)"
      ],
      "metadata": {
        "id": "uanPqGrdGyiE"
      }
    },
    {
      "cell_type": "code",
      "source": [
        " !pip install -U spacy\n",
        " !python -m spacy download nl_core_news_lg"
      ],
      "metadata": {
        "id": "EwTE8mGpbFf6"
      },
      "execution_count": null,
      "outputs": []
    },
    {
      "cell_type": "markdown",
      "source": [
        "### Calling the functions in order"
      ],
      "metadata": {
        "id": "C4QnnSElG_vg"
      }
    },
    {
      "cell_type": "code",
      "source": [
        " # Removing Stop Words\n",
        "data_words_nostops = remove_stopwords(data_words)\n",
        "\n",
        "# Forming Bigrams\n",
        "data_words_bigrams = make_bigrams(data_words_nostops)\n",
        "\n",
        "# Loading the SpaCy 'nl' model, keeping only tagger component (for efficiency)\n",
        "nlp = spacy.load('nl_core_news_lg', disable=['parser', 'ner'])\n",
        "\n",
        "# Doing lemmatization keeping only noun, adj, vb, adv\n",
        "data_lemmatized = lemmatization(data_words_bigrams, allowed_postags=['NOUN', 'ADJ', 'VERB', 'ADV'])\n",
        "\n",
        "#print(data_lemmatized)"
      ],
      "metadata": {
        "id": "dPJP2KeuZw67"
      },
      "execution_count": 14,
      "outputs": []
    },
    {
      "cell_type": "markdown",
      "source": [
        "### Creating the Dictionary and Corpus needed for Topic Modeling"
      ],
      "metadata": {
        "id": "GgN2SSzn2fTU"
      }
    },
    {
      "cell_type": "code",
      "source": [
        "# Creating Dictionary\n",
        "id2word = corpora.Dictionary(data_lemmatized)\n",
        "\n",
        "# Creating Corpus\n",
        "texts = data_lemmatized\n",
        "\n",
        "# Term Document Frequency\n",
        "corpus = [id2word.doc2bow(text) for text in texts]\n",
        "\n",
        "# Viewing corpus\n",
        "#print(corpus)"
      ],
      "metadata": {
        "id": "lp6FqTgr2hr8"
      },
      "execution_count": 15,
      "outputs": []
    },
    {
      "cell_type": "markdown",
      "source": [
        "Gensim creates a unique id for each word in the document. The produced corpus shown above is a mapping of (word_id, word_frequency).\n",
        "\n",
        "For example, (0, 1) above implies, **word id 0 occurs once** in the document. Likewise, **word id 1 occurs once too**, and so on.\n",
        "\n",
        "This is used as the input by the LDA model.\n",
        "\n",
        "If you want to see what word a given id corresponds to, pass the id as a key to the dictionary. (From https://www.machinelearningplus.com/nlp/topic-modeling-gensim-python/)"
      ],
      "metadata": {
        "id": "mat49mSv24fY"
      }
    },
    {
      "cell_type": "code",
      "source": [
        "# Passing the id as a key to the dictionary to see what word a given ID corresponds to\n",
        "id2word[0]"
      ],
      "metadata": {
        "colab": {
          "base_uri": "https://localhost:8080/",
          "height": 35
        },
        "id": "iCYlDxcR2050",
        "outputId": "ea2fbdca-9c21-4fbd-cebc-ff9a969082d7"
      },
      "execution_count": 16,
      "outputs": [
        {
          "output_type": "execute_result",
          "data": {
            "text/plain": [
              "'aanslagjaar'"
            ],
            "application/vnd.google.colaboratory.intrinsic+json": {
              "type": "string"
            }
          },
          "metadata": {},
          "execution_count": 16
        }
      ]
    },
    {
      "cell_type": "code",
      "source": [
        "# Human readable format of corpus (term-frequency)\n",
        "[[(id2word[id], freq) for id, freq in cp] for cp in corpus]"
      ],
      "metadata": {
        "id": "P6HbEyFs3STL"
      },
      "execution_count": null,
      "outputs": []
    },
    {
      "cell_type": "markdown",
      "source": [
        "### Building the topic model"
      ],
      "metadata": {
        "id": "xr7zp7cU3mnE"
      }
    },
    {
      "cell_type": "markdown",
      "source": [
        "The LDA model shall be built with 20 different topics where each topic is a combination of keywords and each keyword contributes a certain weightage to the topic."
      ],
      "metadata": {
        "id": "nPSZSoCl1ky7"
      }
    },
    {
      "cell_type": "code",
      "source": [
        "# Building LDA model\n",
        "lda_model = gensim.models.ldamodel.LdaModel(corpus=corpus,\n",
        "                                           id2word=id2word,\n",
        "                                           num_topics=20, \n",
        "                                           random_state=100,\n",
        "                                           update_every=1,\n",
        "                                           chunksize=100,\n",
        "                                           passes=10,\n",
        "                                           alpha='auto',\n",
        "                                           per_word_topics=True)"
      ],
      "metadata": {
        "id": "4eNI1JKD3rS8"
      },
      "execution_count": 18,
      "outputs": []
    },
    {
      "cell_type": "markdown",
      "source": [
        "###  Viewing the topics in LDA model"
      ],
      "metadata": {
        "id": "I4pNmnJP3vMM"
      }
    },
    {
      "cell_type": "markdown",
      "source": [
        "You can see the keywords for each topic and the weightage (importance) of each keyword using lda_model.print_topics() as shown next."
      ],
      "metadata": {
        "id": "r0YYrNee30UJ"
      }
    },
    {
      "cell_type": "code",
      "source": [
        "# Printing keywords for 20 topics\n",
        "pprint(lda_model.print_topics())\n",
        "doc_lda = lda_model[corpus]"
      ],
      "metadata": {
        "colab": {
          "base_uri": "https://localhost:8080/"
        },
        "id": "NrllJgXK3xAl",
        "outputId": "a0aa0b3e-99cc-4cfc-a9ec-c4cb5a696528"
      },
      "execution_count": 19,
      "outputs": [
        {
          "output_type": "stream",
          "name": "stdout",
          "text": [
            "[(0,\n",
            "  '0.023*\"cov_id\" + 0.016*\"orgaan\" + 0.016*\"patiënt\" + 0.015*\"ziekenhuis\" + '\n",
            "  '0.013*\"verplichte_verzekering\" + 0.011*\"verstrekking\" + 0.010*\"koninklijk\" '\n",
            "  '+ 0.010*\"arts\" + 0.010*\"kader\" + 0.010*\"tegemoetkoming\"'),\n",
            " (1,\n",
            "  '0.038*\"werknemer\" + 0.013*\"werk\" + 0.012*\"dienen\" + 0.012*\"werkgever\" + '\n",
            "  '0.010*\"huishouden\" + 0.009*\"la_sante\" + 0.009*\"mogelijk\" + '\n",
            "  '0.008*\"binnenlandse_zaken\" + 0.008*\"citeren\" + 0.008*\"blootstelling\"'),\n",
            " (2,\n",
            "  '0.045*\"Vlaams\" + 0.034*\"decreet\" + 0.026*\"vermellen\" + 0.025*\"subsidie\" + '\n",
            "  '0.018*\"regering\" + 0.014*\"periode\" + 0.013*\"organisator\" + 0.010*\"aantal\" + '\n",
            "  '0.010*\"vermeld\" + 0.009*\"agentschap\"'),\n",
            " (3,\n",
            "  '0.042*\"waals\" + 0.032*\"regering\" + 0.020*\"decreet\" + 0.019*\"code\" + '\n",
            "  '0.016*\"cov_id\" + 0.013*\"nace_bel\" + 0.012*\"onderneming\" + 0.011*\"sector\" + '\n",
            "  '0.011*\"vereniging\" + 0.010*\"crisis\"'),\n",
            " (4,\n",
            "  '0.031*\"fiscaal\" + 0.018*\"fiscaliteit\" + 0.017*\"kennisgeving\" + '\n",
            "  '0.016*\"administratie\" + 0.016*\"overheid_dienst\" + 0.015*\"bericht\" + '\n",
            "  '0.015*\"procedure\" + 0.013*\"wetboek\" + 0.012*\"datum\" + 0.011*\"natuurlijk\"'),\n",
            " (5,\n",
            "  '0.018*\"verwerking\" + 0.012*\"oog\" + 0.012*\"coronavirus\" + 0.009*\"daten\" + '\n",
            "  '0.009*\"quarantaine\" + 0.007*\"noodzakelijk\" + 0.006*\"maximale\" + '\n",
            "  '0.006*\"sociaal_inspecteurs\" + 0.006*\"diese\" + 0.006*\"opsporen\"'),\n",
            " (6,\n",
            "  '0.036*\"voertuig\" + 0.024*\"gebruik\" + 0.021*\"laadstation\" + '\n",
            "  '0.014*\"gehuurd_voertuig\" + 0.014*\"co\" + 0.014*\"betrekking\" + '\n",
            "  '0.013*\"elektrisch\" + 0.013*\"jaar\" + 0.010*\"kandidaat\" + '\n",
            "  '0.008*\"vast_stellen\"'),\n",
            " (7,\n",
            "  '0.038*\"onderdeel\" + 0.027*\"aanslagjaar\" + 0.027*\"aangifte\" + 0.023*\"beeld\" '\n",
            "  '+ 0.023*\"tabel_zie\" + 0.022*\"raadpleging\" + 0.021*\"bevatten\" + '\n",
            "  '0.019*\"vullen\" + 0.018*\"belgisch_staatsblad\" + '\n",
            "  '0.017*\"opschrift_voorbereiding\"'),\n",
            " (8,\n",
            "  '0.048*\"koninklijk\" + 0.040*\"woord\" + 0.031*\"vervangen\" + 0.016*\"wetboek\" + '\n",
            "  '0.012*\"aan_vullen\" + 0.012*\"koning\" + 0.011*\"bedrag\" + 0.010*\"wijziging\" + '\n",
            "  '0.010*\"hetzelfde\" + 0.009*\"cov_id\"'),\n",
            " (9,\n",
            "  '0.017*\"steun\" + 0.014*\"onderneming\" + 0.011*\"euro\" + 0.010*\"activiteit\" + '\n",
            "  '0.009*\"cov_id\" + 0.009*\"financieel\" + 0.009*\"sociaal\" + 0.009*\"economisch\" '\n",
            "  '+ 0.008*\"voorwaarde\" + 0.008*\"kost\"'),\n",
            " (10,\n",
            "  '0.030*\"onderwijs\" + 0.028*\"decreet\" + 0.020*\"regering\" + 0.017*\"leerling\" + '\n",
            "  '0.012*\"sociaal\" + 0.011*\"opleiding\" + 0.011*\"afwijking\" + '\n",
            "  '0.010*\"organisatie\" + 0.010*\"promotie\" + 0.010*\"organiseren\"'),\n",
            " (11,\n",
            "  '0.020*\"federaal\" + 0.019*\"overheid\" + 0.018*\"bevoegdheid\" + '\n",
            "  '0.015*\"ministerieel\" + 0.012*\"plaats\" + 0.011*\"verplichten\" + '\n",
            "  '0.011*\"besmetting\" + 0.008*\"proef\" + 0.007*\"behoren\" + 0.007*\"bevolking\"'),\n",
            " (12,\n",
            "  '0.040*\"wetboek\" + 0.026*\"belasting\" + 0.025*\"regeling\" + 0.023*\"lidstaat\" + '\n",
            "  '0.019*\"bijzonder\" + 0.017*\"verrichten\" + 0.017*\"btw\" + 0.017*\"koninklijk\" + '\n",
            "  '0.015*\"nieuw\" + 0.015*\"aangifte\"'),\n",
            " (13,\n",
            "  '0.025*\"vennootschap\" + 0.017*\"aandeel\" + 0.013*\"voorwaarde\" + 0.013*\"maand\" '\n",
            "  '+ 0.013*\"jaar\" + 0.012*\"betrekking\" + 0.010*\"huurder\" + 0.010*\"lening\" + '\n",
            "  '0.010*\"attest\" + 0.009*\"verkrijgen\"'),\n",
            " (14,\n",
            "  '0.033*\"regering\" + 0.026*\"brusselse_hoofdstedelijk\" + 0.018*\"cov_id\" + '\n",
            "  '0.016*\"ordonnantie\" + 0.014*\"gewest\" + 0.013*\"gewestelijk\" + 0.011*\"kader\" '\n",
            "  '+ 0.010*\"verspreiding\" + 0.010*\"coronavirus\" + 0.010*\"raad\"'),\n",
            " (15,\n",
            "  '0.036*\"overeenkomst\" + 0.030*\"akkoord\" + 0.028*\"generaal\" + '\n",
            "  '0.017*\"bevoegde_autoriteiten\" + 0.016*\"specifieke_materies\" + '\n",
            "  '0.015*\"verlenging\" + 0.015*\"dag\" + 0.014*\"bevoegde_autoriteit\" + '\n",
            "  '0.014*\"aanvang\" + 0.013*\"verlengen\"'),\n",
            " (16,\n",
            "  '0.013*\"bevoegdheid\" + 0.012*\"raad\" + 0.010*\"ontwerpen\" + 0.010*\"koninklijk\" '\n",
            "  '+ 0.010*\"ministerieel\" + 0.009*\"cov_id\" + 0.008*\"kader\" + '\n",
            "  '0.008*\"rechtsgrond\" + 0.008*\"zelfstandig\" + 0.007*\"vergadering\"'),\n",
            " (17,\n",
            "  '0.027*\"cov_id\" + 0.010*\"kader\" + 0.010*\"coronavirus\" + 0.010*\"federaal\" + '\n",
            "  '0.008*\"gezondheid\" + 0.006*\"uitvoering\" + 0.006*\"vaccinatie\" + '\n",
            "  '0.006*\"grond_gebied\" + 0.005*\"bijzonder\" + 0.005*\"dag\"'),\n",
            " (18,\n",
            "  '0.021*\"personeel_lid\" + 0.015*\"kind\" + 0.014*\"personeelslid\" + '\n",
            "  '0.013*\"functie\" + 0.009*\"personeel\" + 0.008*\"verenigd_koninkrijk\" + '\n",
            "  '0.008*\"organiseren\" + 0.008*\"kader\" + 0.008*\"medisch\" + '\n",
            "  '0.007*\"coronavirus\"'),\n",
            " (19,\n",
            "  '0.062*\"regering\" + 0.024*\"dienst\" + 0.024*\"telewerk\" + 0.024*\"letten\" + '\n",
            "  '0.022*\"lijst\" + 0.021*\"bijzonder\" + 0.019*\"besluiten\" + 0.019*\"instelling\" '\n",
            "  '+ 0.017*\"statuut\" + 0.017*\"ambtenarenzaken\"')]\n"
          ]
        }
      ]
    },
    {
      "cell_type": "markdown",
      "source": [
        "**NOTE**: \n",
        "\n",
        "The weights reflect how important a keyword is to that topic.\n",
        "\n",
        "Looking at these keywords, you can guess what this topic could be."
      ],
      "metadata": {
        "id": "2XyHR2UuKUIp"
      }
    },
    {
      "cell_type": "markdown",
      "source": [
        "### Compute Model Perplexity and Coherence Score"
      ],
      "metadata": {
        "id": "iW0vFYMM4QhX"
      }
    },
    {
      "cell_type": "markdown",
      "source": [
        "**Model perplexity** and **topic coherence** provide a convenient measure to judge how good a given topic model is."
      ],
      "metadata": {
        "id": "5s_26Rbn0c6j"
      }
    },
    {
      "cell_type": "code",
      "source": [
        "# Computing Perplexity\n",
        "print('\\nPerplexity: ', lda_model.log_perplexity(corpus))  # a measure of how good the model is. lower the better.\n",
        "\n",
        "# Computing Coherence Score\n",
        "coherence_model_lda = CoherenceModel(model=lda_model, texts=data_lemmatized, dictionary=id2word, coherence='c_v')\n",
        "coherence_lda = coherence_model_lda.get_coherence()\n",
        "print('\\nCoherence Score: ', coherence_lda)"
      ],
      "metadata": {
        "colab": {
          "base_uri": "https://localhost:8080/"
        },
        "id": "y1ZNKyu64R0N",
        "outputId": "b702529d-f293-4e12-cd80-c5bf2e83c2d1"
      },
      "execution_count": 20,
      "outputs": [
        {
          "output_type": "stream",
          "name": "stdout",
          "text": [
            "\n",
            "Perplexity:  -7.4568653512831\n",
            "\n",
            "Coherence Score:  0.4801422476656797\n"
          ]
        }
      ]
    },
    {
      "cell_type": "markdown",
      "source": [
        "### Visualizing topic-keywords distribution"
      ],
      "metadata": {
        "id": "KOQtvx9LSSUs"
      }
    },
    {
      "cell_type": "code",
      "source": [
        "# Feeding the model into the pyLDAvis instance\n",
        "vis = gensimvis.prepare(lda_model, corpus, id2word)\n",
        "vis"
      ],
      "metadata": {
        "id": "qlI5CMBmyMmG",
        "colab": {
          "base_uri": "https://localhost:8080/",
          "height": 916
        },
        "outputId": "693179ab-efde-405f-f105-d53a5ebbdda9"
      },
      "execution_count": 21,
      "outputs": [
        {
          "output_type": "stream",
          "name": "stderr",
          "text": [
            "/usr/local/lib/python3.7/dist-packages/pyLDAvis/_prepare.py:247: FutureWarning: In a future version of pandas all arguments of DataFrame.drop except for the argument 'labels' will be keyword-only\n",
            "  by='saliency', ascending=False).head(R).drop('saliency', 1)\n"
          ]
        },
        {
          "output_type": "execute_result",
          "data": {
            "text/plain": [
              "PreparedData(topic_coordinates=              x         y  topics  cluster       Freq\n",
              "topic                                                \n",
              "9     -0.114240  0.040312       1        1  11.785249\n",
              "8     -0.067254  0.173937       2        1   9.842563\n",
              "17    -0.104706 -0.078964       3        1   9.455035\n",
              "3     -0.162843 -0.042645       4        1   7.987127\n",
              "14    -0.144630 -0.024155       5        1   7.980208\n",
              "16    -0.144885  0.030858       6        1   6.592068\n",
              "2     -0.079353  0.030600       7        1   5.965460\n",
              "12     0.009568  0.272894       8        1   5.280077\n",
              "0     -0.056177 -0.056055       9        1   5.213694\n",
              "10    -0.090651 -0.065123      10        1   5.145902\n",
              "4      0.058451  0.167338      11        1   4.326066\n",
              "11    -0.051060 -0.091319      12        1   3.729592\n",
              "1     -0.035472 -0.116667      13        1   3.594209\n",
              "13     0.098244  0.128127      14        1   3.414537\n",
              "18     0.040755 -0.144824      15        1   2.516644\n",
              "6      0.235280  0.010239      16        1   2.100228\n",
              "15     0.090222 -0.016306      17        1   1.777676\n",
              "19     0.021725 -0.093838      18        1   1.494978\n",
              "5      0.250499 -0.167380      19        1   1.114746\n",
              "7      0.246527  0.042974      20        1   0.683943, topic_info=            Term         Freq        Total Category  logprob  loglift\n",
              "534     regering  2970.000000  2970.000000  Default  30.0000  30.0000\n",
              "205   koninklijk  2416.000000  2416.000000  Default  29.0000  29.0000\n",
              "454      decreet  1800.000000  1800.000000  Default  28.0000  28.0000\n",
              "951        waals  1212.000000  1212.000000  Default  27.0000  27.0000\n",
              "1033       woord  1586.000000  1586.000000  Default  26.0000  26.0000\n",
              "...          ...          ...          ...      ...      ...      ...\n",
              "1025   vermellen    26.392440   766.173013  Topic20  -4.4971   1.6167\n",
              "7          basis    22.820960   764.082192  Topic20  -4.6425   1.4741\n",
              "123       dienst    22.044363  1132.215768  Topic20  -4.6771   1.0462\n",
              "23        hierna    20.048782   426.933512  Topic20  -4.7720   1.9266\n",
              "214        maken    19.518005   833.555011  Topic20  -4.7988   1.2307\n",
              "\n",
              "[1327 rows x 6 columns], token_table=       Topic      Freq                     Term\n",
              "term                                           \n",
              "11361     19  0.963003                Agenturen\n",
              "5958      13  0.986340              Arbeidsarts\n",
              "8155       5  0.974352      Brussel_fiscaliteit\n",
              "1467       3  0.112988                 Brussels\n",
              "1467       5  0.857383                 Brussels\n",
              "...      ...       ...                      ...\n",
              "2218      15  0.065367                     zorg\n",
              "15133     20  0.833764           zorgverblijven\n",
              "5544       9  0.992790             zorgverlener\n",
              "12224     19  0.963003              zustandigen\n",
              "12225     19  0.970324  zustandigen_foderierten\n",
              "\n",
              "[3488 rows x 3 columns], R=30, lambda_step=0.01, plot_opts={'xlab': 'PC1', 'ylab': 'PC2'}, topic_order=[10, 9, 18, 4, 15, 17, 3, 13, 1, 11, 5, 12, 2, 14, 19, 7, 16, 20, 6, 8])"
            ],
            "text/html": [
              "\n",
              "<link rel=\"stylesheet\" type=\"text/css\" href=\"https://cdn.jsdelivr.net/gh/bmabey/pyLDAvis@3.3.1/pyLDAvis/js/ldavis.v1.0.0.css\">\n",
              "\n",
              "\n",
              "<div id=\"ldavis_el611405828637627688981092723\"></div>\n",
              "<script type=\"text/javascript\">\n",
              "\n",
              "var ldavis_el611405828637627688981092723_data = {\"mdsDat\": {\"x\": [-0.11424019110387715, -0.06725443911026892, -0.10470589565062373, -0.16284332154633652, -0.1446296689367012, -0.14488463889915593, -0.07935267829161198, 0.009568014098444136, -0.05617696293690143, -0.09065106601850265, 0.0584513803592447, -0.05105970729752295, -0.03547240358406761, 0.09824417736076597, 0.040755009400544155, 0.23527983648340034, 0.09022235154704124, 0.021724687456408445, 0.2504987916796764, 0.24652672499004363], \"y\": [0.04031197463012241, 0.17393716289115924, -0.07896449792769615, -0.04264492195692715, -0.024155199743354137, 0.030857562934419953, 0.03059962675201342, 0.2728936440663896, -0.05605479399441106, -0.06512339331783973, 0.16733780122724456, -0.09131877301762542, -0.11666724522004754, 0.12812674898225274, -0.14482419843081573, 0.010238832348549663, -0.016306427363981073, -0.09383796994488197, -0.16738013743045904, 0.042974204515887605], \"topics\": [1, 2, 3, 4, 5, 6, 7, 8, 9, 10, 11, 12, 13, 14, 15, 16, 17, 18, 19, 20], \"cluster\": [1, 1, 1, 1, 1, 1, 1, 1, 1, 1, 1, 1, 1, 1, 1, 1, 1, 1, 1, 1], \"Freq\": [11.785248719088678, 9.84256349587544, 9.455034537422193, 7.987126755617078, 7.980208050392933, 6.592067812066517, 5.965459561200935, 5.28007710483164, 5.2136935099241954, 5.1459020997285565, 4.326066172319298, 3.729591938567222, 3.5942094539986593, 3.4145366008205045, 2.5166441658444656, 2.1002281968454515, 1.777675565617599, 1.4949781139876694, 1.1147456157929432, 0.6839425300580029]}, \"tinfo\": {\"Term\": [\"regering\", \"koninklijk\", \"decreet\", \"waals\", \"woord\", \"wetboek\", \"Vlaams\", \"vervangen\", \"werknemer\", \"brusselse_hoofdstedelijk\", \"vermellen\", \"onderwijs\", \"belasting\", \"fiscaal\", \"bijzonder\", \"letten\", \"dienst\", \"steun\", \"subsidie\", \"cov_id\", \"onderneming\", \"regeling\", \"lidstaat\", \"aangifte\", \"code\", \"jaar\", \"bevoegdheid\", \"besluiten\", \"coronavirus\", \"bedrag\", \"begunstigen\", \"aanvrager\", \"factuur\", \"geschieden\", \"europese_unie\", \"civiele_bescherming\", \"evenredigheid\", \"zogenaamd\", \"behoef\", \"restaurant\", \"toeristisch\", \"discriminatie\", \"creatief\", \"semester\", \"steun_aanvraag\", \"tijdelijke_kaderregeling\", \"weerslag\", \"aso\", \"terugvordering\", \"formule\", \"factur\", \"museum\", \"stopzetting\", \"rechtspersoon\", \"bew\", \"strekking\", \"rijst\", \"vat\", \"vte\", \"gerechtelijke_reorganisatie\", \"verenigbaar\", \"vereffening\", \"bestemming\", \"steun\", \"premie\", \"aanzienlijk\", \"kost\", \"voorschot\", \"steunen\", \"financieel\", \"cultureel\", \"kosten\", \"aanvaarden\", \"onderneming\", \"economisch\", \"economie\", \"euro\", \"dekken\", \"activiteit\", \"forfaitair\", \"epidemie\", \"basis\", \"ziekenhuis\", \"voorwaarde\", \"sociaal\", \"bedrag\", \"aanvraag\", \"commissie\", \"toe_kennen\", \"gevolg\", \"ontvangen\", \"verlenen\", \"cov_id\", \"beperken\", \"maken\", \"middel\", \"kader\", \"vaststelling\", \"raad\", \"komen\", \"sector\", \"programma_wet\", \"voortaan\", \"tien\", \"vroegste_aanvangt\", \"arbeider\", \"afschrijving\", \"minnelijk\", \"wagen\", \"moss\", \"hetgeen_volgt\", \"laatstelijk_gewijzigen\", \"proportionele_fiscale\", \"loon\", \"benaming\", \"wij_bekrachtigen\", \"hypothecair\", \"periodieke_btw\", \"be_stukken\", \"integraal_verslag\", \"laatstelijk_gewijzigd\", \"aangemerken\", \"kwijtgescholden\", \"schulde_naar\", \"koninklijke_be_sluit\", \"groot_brittannie\", \"noord_ierland\", \"elektronische_weg\", \"verschuldigde\", \"rsz\", \"zegelen\", \"accijnzen\", \"herziening\", \"woord\", \"ingevoegd_luidende\", \"besluitwet\", \"aftrekbaar\", \"bekleed\", \"kwartaal\", \"koninklijk\", \"vervangen\", \"telkens\", \"wijzigingen_aangebracht\", \"aan_vullen\", \"luiden\", \"in_voegen\", \"vrijstelling\", \"uitkering\", \"tarief\", \"hetzelfde\", \"koning\", \"bezoldiging\", \"wijziging\", \"zekerheid\", \"vier\", \"groet\", \"wetboek\", \"titel\", \"bedrag\", \"ingevoegd\", \"op_heffen\", \"ingang\", \"datum\", \"werkgever\", \"bis\", \"hierna\", \"sociaal\", \"uitvoering\", \"periode\", \"maand\", \"tijdelijk\", \"recht\", \"betrekking\", \"afwijking\", \"wijzigen\", \"houdende\", \"cov_id\", \"werknemer\", \"kader\", \"werking\", \"tussenpersoon\", \"volwassen\", \"lokale_besturen\", \"contactcentrum\", \"opvordering\", \"contact_centrum\", \"uitwisseling\", \"sluit\", \"collectiviteit\", \"contacteren\", \"betrokkene\", \"vermoedelijk\", \"aanraking\", \"uitstrekt\", \"waken\", \"overle_gcomite\", \"structureren\", \"gefedereerde_entitei\", \"wisten\", \"gemeenschaps\", \"uit_vaardigen\", \"zone\", \"bron_opsporing\", \"interview\", \"gevaarlijk\", \"ad_hoc\", \"handel_zaak\", \"contactcentra\", \"geslacht\", \"selecteren\", \"bijeenkomst\", \"verzamelen\", \"vaccin\", \"spoor\", \"openbare_orde\", \"operationeel\", \"vervat\", \"vaccinatie\", \"digitaal\", \"verwerken\", \"gezondheid\", \"vermoedelijk_besmette\", \"fase\", \"besmeten\", \"databank\", \"protocol\", \"besmet\", \"gege_vensbank\", \"grond_gebied\", \"opdracht\", \"cov_id\", \"federaal\", \"gemeente\", \"contact\", \"coronavirus\", \"verwerking\", \"volksgezondheid\", \"test\", \"kader\", \"uitvoering\", \"overheid\", \"basis\", \"bijzonder\", \"dag\", \"nodig\", \"verspreiding\", \"komen\", \"raad\", \"mogelijk\", \"gewest\", \"betrekking\", \"noodzakelijk\", \"instelling\", \"regering\", \"nace_bel\", \"Waals\", \"middelgrote_ondernemingen\", \"operator\", \"plaatsgehad\", \"resolutie\", \"verenigde_naties\", \"gewestelijke_beleidslijnen\", \"kunst\", \"ten_gunste\", \"ondernemer\", \"authentieke_bronnen\", \"kunstenaar\", \"economie_buitenlandse\", \"morreaal\", \"waalse_ambtenarencode\", \"ingediende_aanvragen\", \"handel_onderzoek\", \"innovatie_digitaal\", \"ordening_landbouw\", \"technologieen_ruimtelijk\", \"begrotings_jaar\", \"rust\", \"sportieve_recreatieve\", \"gewestelijke_incentives\", \"faillissemen\", \"culturele_feestelijk\", \"overnachting\", \"activering\", \"groei\", \"waals\", \"code\", \"winst_oogmerk\", \"instemming\", \"vereniging\", \"genderdimensie\", \"klein\", \"vergoeding\", \"inzonderheid\", \"wins_toogmerk\", \"crisis\", \"golf\", \"rapport\", \"sector\", \"regering\", \"integratie\", \"strekken\", \"decreet\", \"sociale_actie\", \"letn\", \"bijzondere_machten\", \"onderneming\", \"activiteit\", \"bij_komen\", \"toekenning\", \"letten\", \"cov_id\", \"dringend\", \"begroting\", \"overeenkomstig\", \"houdende\", \"economie\", \"uitvoering\", \"raad\", \"coronavirus\", \"besluiten\", \"kader\", \"beperken\", \"ministerieel\", \"economisch\", \"aanvraag\", \"gevolg\", \"steun\", \"brusselse_hoofdstedelijk\", \"brussel_fiscaliteit\", \"alinea\", \"werkloosheid\", \"gemeente_raad\", \"bijzon_dere_macht\", \"chauffeur\", \"brussels_hoofdstedelijk\", \"bedinen\", \"exploitant\", \"belasting_jaar\", \"imago\", \"algemeen_verbindend\", \"johan_put\", \"integendeel\", \"openbare_werken\", \"Brussel_fiscaliteit\", \"gobf\", \"Lockdown\", \"virtueel\", \"gatz\", \"toeristisch_logies\", \"territoriale_ontwikkeling\", \"griffie\", \"proces_verbaal\", \"biculturele_zaken\", \"plaatselijke_besturen\", \"notariaat\", \"fiscaal_kenteken\", \"attaches\", \"openbaar_ambt\", \"retroactiviteit\", \"bijzondere_machtenbesluit\", \"ordonnantie\", \"Brussels\", \"gewestelijk\", \"automatisch\", \"functioneel\", \"collectief\", \"justitie\", \"gewest\", \"Brussels_hoofdstedelijk\", \"college\", \"regering\", \"mobiliteit\", \"verspreiding\", \"tijdelijke_werkloosheid\", \"belasten\", \"aanwezig\", \"werk\", \"invoering\", \"verlengen\", \"cov_id\", \"coronavirus\", \"raad\", \"termijn\", \"kader\", \"bevoegdheid\", \"periode\", \"groot\", \"verlenging\", \"letten\", \"overheid_dienst\", \"begroting\", \"virus\", \"regeling\", \"dag\", \"procedure\", \"uitvoering\", \"beperken\", \"houdende\", \"besluiten\", \"werking\", \"geval\", \"betrekking\", \"gemachtigde\", \"ibp\", \"beroepsziekten\", \"voor_ontwerp\", \"vijf_werkdagen\", \"steller\", \"meewerkende_echtgenoten\", \"auditeur\", \"aanhef\", \"civiele_besc_herming\", \"voorgelegde_ontwerp\", \"nederlandse_tekst\", \"la_partie\", \"beroepsziekte\", \"nagezien\", \"voormalig\", \"beleidsdomeinen\", \"federale_loyauteit\", \"gelijkheid\", \"oorlog_tijd\", \"iedere_verplaatsing\", \"fedris\", \"ministeriele_departementen\", \"feitelijke_toestand\", \"rechten_geeerbiedigd\", \"perfect\", \"prerogatieven\", \"wibp\", \"assessor\", \"parl_st\", \"voetnoot\", \"ontwerpen\", \"cruciale_sectoren\", \"wetsbepaling\", \"sanitaire_politie\", \"rechtsgrond\", \"wetgever\", \"opmerking\", \"adverse\", \"griffier\", \"terugwerkende_kracht\", \"adviesaanvraag\", \"op_merken\", \"beginsel\", \"pas\", \"vergadering\", \"verwijzing\", \"verwijzen\", \"bevoegdheid\", \"zelfstandig\", \"tekst\", \"lijken\", \"ministerieel\", \"voorliggen\", \"raad\", \"voornoemd\", \"koning\", \"instelling\", \"koninklijk\", \"houdende\", \"ziekte\", \"verslag\", \"kader\", \"zien\", \"cov_id\", \"regeling\", \"termijn\", \"wijziging\", \"geval\", \"periode\", \"besluiten\", \"maken\", \"bestaan\", \"pandemie\", \"buitenschoolse_opvang\", \"kind_opvang\", \"initiatiefnemer\", \"Regering\", \"interne_markt\", \"rit\", \"organisator\", \"indiendatum\", \"inkomenstarief\", \"besteding\", \"kortverblijf\", \"peuter\", \"Vlaams\", \"subsidiebes_luit\", \"actieplan\", \"looptijd\", \"opvan_glocatie\", \"reiskosten\", \"visienota\", \"kinderopvang\", \"woonzorgcentrum\", \"sportfederatie\", \"eindresultaat\", \"school_dag\", \"buitenschools\", \"beke\", \"aandachtspunt\", \"dagv_erzorging\", \"centra\", \"opvangcentra\", \"vormvereisen\", \"subsidie\", \"volksgezondheid_gezin\", \"subsidiering\", \"agentschap\", \"vermellen\", \"vermelnen\", \"zinsnede\", \"eenmalig\", \"baseren\", \"vermeld\", \"gezin\", \"decreet\", \"project\", \"centrum\", \"voorziening\", \"ondersteuning\", \"opvang\", \"periode\", \"aantal\", \"verplichte_sluiting\", \"maximaal\", \"regering\", \"uiterlijk\", \"organisatie\", \"afwijking\", \"besluiten\", \"hetzelfde\", \"voldoen\", \"voorwaarde\", \"ontvangen\", \"jaar\", \"cov_id\", \"uitvoering\", \"euro\", \"lidstaat\", \"btw\", \"invoer\", \"teruggaaf\", \"ingevoerde_goederen\", \"ter_uggaaf\", \"derde_landen\", \"aansprakelijk\", \"voldoening\", \"sexie\", \"heffing\", \"intrinsieke_waarde\", \"maatstaf\", \"koper\", \"richtlijn_eg\", \"afstandsverkoop\", \"vervoeren\", \"ingeval\", \"gebruikmaakt\", \"lopende_kalenderjaar\", \"tbe_diensten\", \"ambtenaren\", \"eg\", \"geleverde_goederen\", \"drempel\", \"postr_ekening\", \"voornamen\", \"geldboeten\", \"aftrek_brengen\", \"levering\", \"register\", \"douane\", \"keuze\", \"gebruikmaken\", \"vestigen\", \"quater\", \"verbruik\", \"aangifte\", \"zending\", \"quinquie\", \"belasting\", \"verrichten\", \"verschuldigen\", \"handeling\", \"regeling\", \"wetboek\", \"bijzonder\", \"nieuw\", \"leverancier\", \"dienst\", \"gemeenschap\", \"betaling\", \"koninklijk\", \"betrekking\", \"plaats\", \"administratie\", \"euro\", \"bedrag\", \"geval\", \"houden\", \"maken\", \"verstrekking\", \"zorgverlener\", \"financiele_tussenkomst\", \"geneeskundig\", \"triage\", \"geneeskunde\", \"mogelijks\", \"andersluiden\", \"codenummer\", \"toelaatbaar\", \"kennelijk\", \"regulariseren\", \"bijstand_vorderen\", \"verplichte_verzekering\", \"ambulance_dienst\", \"apotheek\", \"doelgroep\", \"nomenclatuur\", \"hgr\", \"meteen\", \"bet_reffen\", \"revalidatie\", \"geneeskundige_verzorging\", \"afnamecentrum\", \"facturatie\", \"protocolakkoord\", \"moleculair\", \"kortst_mogelijk\", \"veertien_dagen\", \"honoraria\", \"orgaan\", \"pati\\u00ebnt\", \"regelgeven\", \"uitkeringen_gecoordineerd\", \"arts\", \"riziv\", \"verzekering\", \"ziekenhuis\", \"laboratoria\", \"tegemoetkoming\", \"afgevaardigen\", \"zorg\", \"mening\", \"uitzonderlijk\", \"volksgezondheid\", \"continuiteit\", \"uit_voeren\", \"cov_id\", \"verlenen\", \"medisch\", \"pandemie\", \"financiering\", \"koning\", \"termijn\", \"kader\", \"koninklijk\", \"tijdelijk\", \"verrichten\", \"vaststelling\", \"zaak\", \"werking\", \"stellen\", \"centrum\", \"waarbij\", \"school_jaar\", \"opleiding\", \"behalen\", \"cursus\", \"basisonderwijs\", \"jeugd_justitiehuizen\", \"jeugd_sport\", \"jeugd\", \"medium\", \"promotie_universitair\", \"ziekenhuizen_hulpverlening\", \"wijk\", \"wallonie_bruxelles\", \"leerling\", \"theoretisch\", \"enseignement_fr\", \"pedagogisch\", \"belastingexperen\", \"examens\", \"externe_evaluatie\", \"bachelor_specialisatie\", \"diploma\", \"leerjaar\", \"gezondheid_cultuur\", \"opleidingsjaar\", \"klassen_raad\", \"internat\", \"competentie\", \"onderwijs\", \"uitreiking\", \"graad\", \"toelating\", \"promotie\", \"evaluatie\", \"stage\", \"franse_gemeenschap\", \"getuigschrift\", \"school\", \"organiseren\", \"decreet\", \"president_jeholet\", \"examen\", \"organisatie\", \"afwijking\", \"slagen\", \"regering\", \"sociaal\", \"bijzondere_machten\", \"einde\", \"hoog\", \"proef\", \"jaar\", \"dossier\", \"afdeling\", \"toekenning\", \"vaststelling\", \"kader\", \"erkenning\", \"cov_id\", \"voorwaarde\", \"raad\", \"stellen\", \"termijn\", \"besluiten\", \"bericht\", \"adresseren\", \"schuld\", \"aangetekende_brief\", \"beslag\", \"fiscaliteit\", \"dir_ectiecomite\", \"gedwongen_invordering\", \"notaris\", \"raden\", \"accountant\", \"binnenlandse__zak\", \"rechtsvorm\", \"onroerend\", \"fraude\", \"afzender\", \"particulieren\", \"standplaats\", \"automatische_uitwisseling\", \"volledige_adres\", \"bedoeld\", \"evenredig\", \"kmo_centrum\", \"erflater\", \"berichten_kennisgevingen\", \"onroerende_voorheffing\", \"procureur_des\", \"administrateur_generaal\", \"elektronische_handtekening\", \"mandaat\", \"identiteit\", \"civiele_noodsituatie\", \"kennisgeving\", \"algemeen_reglement\", \"fiscaal\", \"rechtsper_soon\", \"akte\", \"zetel\", \"verzending\", \"overheid_dienst\", \"verzonden\", \"natuurlijk\", \"invordering\", \"procedure\", \"administratie\", \"gebrek\", \"elektronisch\", \"ambtenaar\", \"overheids_dienst\", \"mee_delen\", \"datum\", \"waarbij\", \"middel\", \"wetboek\", \"gebruiken\", \"gewestelijk\", \"beroep\", \"dergelijk\", \"geval\", \"kennis\", \"dienst\", \"stellen\", \"administratief\", \"belasting\", \"vervangen\", \"pilootproject\", \"bestuurlijke_politie\", \"verordenen\", \"epidemische_noodsituatie\", \"opgesomd\", \"gebeurtenis\", \"beschikking\", \"raadzaam\", \"antwoorden\", \"incident\", \"ramp\", \"plf\", \"cluster\", \"laatstgenoemd\", \"duurzaam_onderhouden\", \"sport\", \"inzicht\", \"deelnemer\", \"raken\", \"daarin\", \"grondrechten\", \"vooropgestelde\", \"proteger\", \"politioneel\", \"baby\", \"trekken\", \"contactperson\", \"kalender\", \"uitmaakt\", \"stappen_plan\", \"verbod\", \"av\", \"dans\", \"mb\", \"handhaving\", \"oordeelen\", \"versoepeling\", \"protocolal\", \"daardoor\", \"einddatum\", \"uit_spreken\", \"verbieden\", \"ministeriele_besluit\", \"besmetting\", \"proef\", \"verplichten\", \"burgemeester\", \"overheid\", \"verstrijken\", \"social_distancing\", \"federaal\", \"bevoegdheid\", \"plaats\", \"naleving\", \"ministerieel\", \"bevolking\", \"behoren\", \"overlegcomite\", \"overleg\", \"verschillend\", \"leiden\", \"virus\", \"gaan\", \"organiseren\", \"betrekken\", \"geval\", \"coronavirus\", \"verplichting\", \"stellen\", \"bieden\", \"ervan\", \"citeren\", \"blootstelling\", \"protocoll\", \"randnummer\", \"zonecommandant\", \"rang\", \"Arbeidsarts\", \"senaat\", \"huishouden\", \"plegen\", \"bezoeker\", \"algemene_directie\", \"veronderstelen\", \"arbeidsarts\", \"la_sante\", \"kandidatuur\", \"kandi_datuur\", \"allen_tijde\", \"vertrekken\", \"gebracht\", \"attache\", \"aan_voeren\", \"besmettelijke_ziekten\", \"daartoe_voorziene\", \"uitvoerig\", \"exact\", \"zijde\", \"versoepeld\", \"aa_nvatten\", \"democratische_vernieuwing\", \"verkeer\", \"rusten\", \"domein\", \"inbreu\", \"werknemer\", \"minuut\", \"nauw_contact\", \"bevelen\", \"centraal\", \"juist\", \"binnenlandse_zaken\", \"werkgever\", \"preventie\", \"horeca\", \"werk\", \"taak\", \"veiligheid\", \"dienen\", \"overleg\", \"opdracht\", \"mogelijk\", \"overheid\", \"gaan\", \"land\", \"specifiek\", \"kader\", \"onderneming\", \"dienst\", \"geval\", \"houden\", \"cov_id\", \"bescherming\", \"verspreiding\", \"huurvoordelen\", \"huurprijs\", \"huren\", \"verhuurder\", \"vaste_activa\", \"sport_vlaanderen\", \"huur\", \"beroeps_kost\", \"huurder\", \"verlaagen\", \"sport_club\", \"vereenvoudigde_aangifte\", \"deelneming\", \"wib\", \"aangetekend_schrijven\", \"aandeel\", \"lening\", \"kapitaal\", \"inschrijver\", \"vennootschap\", \"rentevoet\", \"hypothecaire_leningen\", \"handelshuur\", \"streep\", \"technische_documentatie\", \"scanen\", \"gehuurde\", \"oppervlakte\", \"huurgelen\", \"tijdperk\", \"investering\", \"gedeelte\", \"belastbare_tijdperken\", \"verwerving\", \"stand_gebracht\", \"bezitten\", \"belastbare_tijdperk\", \"ten_gevolge\", \"voldaan\", \"streepje\", \"verkrijgen\", \"attest\", \"aanslagjaar\", \"maand\", \"jaar\", \"voorwaarde\", \"aanmerking\", \"document\", \"uitgave\", \"betrekking\", \"administratie\", \"waarin\", \"onderneming\", \"doen\", \"recht\", \"bedrag\", \"stellen\", \"geval\", \"verenigd_koninkrijk\", \"kostprijs\", \"officier\", \"binnenlandse_zak\", \"militair\", \"leeftijd\", \"wettigen\", \"procureur\", \"samenwonen\", \"inrichtende_macht\", \"arbeidstijd\", \"raamden\", \"aanstelling\", \"erover\", \"grensarbeiders\", \"hernomen\", \"schoonmaak\", \"risico_gebied\", \"setting\", \"tafel\", \"telew_erken\", \"industrieel\", \"rechtspositie\", \"talent_brussels\", \"defensie\", \"selectieproef\", \"passagier\", \"geacht\", \"gehandicapt\", \"gebruik_maken\", \"personeelslid\", \"reizen\", \"statutair\", \"personeel_lid\", \"verlof\", \"contractueel\", \"verlaten\", \"ouder\", \"verplaatsing\", \"kind\", \"functie\", \"personeel\", \"medisch\", \"school\", \"opvang\", \"prestatie\", \"organiseren\", \"afwezigheid\", \"uitzondering\", \"duur\", \"toe_staan\", \"coronavirus\", \"quarantaine\", \"kader\", \"ter_beschikking\", \"aanwezig\", \"cov_id\", \"gaan\", \"attest\", \"mogelijk\", \"dringend\", \"beperken\", \"activiteit\", \"dag\", \"elektrisch\", \"gehuurd_voertuig\", \"laadstation\", \"collectieve_belegging\", \"geleased\", \"voertuigen_aangekocht\", \"vernieuwing\", \"co\", \"wegv_erkeer\", \"sop\", \"rijbewijs\", \"werkzaam_bestanddeel\", \"auf\", \"connectie\", \"wapen\", \"promotor\", \"selectie\", \"vom\", \"in_roepen\", \"nicht\", \"aan_dreven\", \"bedrijf_wagen\", \"vrachtwagen\", \"gecorrigeerd_jaarlijks\", \"parket\", \"benzine\", \"kilo_meter\", \"jury\", \"grondstof\", \"coordinaten\", \"voertuig\", \"geneesmiddel\", \"genereren\", \"specialiteit\", \"specificatie\", \"vaccins\", \"uitrusting\", \"geneesmiddelen\", \"kandidaat\", \"gebruik\", \"politie\", \"alternatief\", \"jaar\", \"betrekking\", \"ter_beschikking\", \"vast_stellen\", \"titel\", \"bis\", \"minstens\", \"wetboek\", \"voornoemd\", \"koning\", \"grond\", \"generaal\", \"bevoegde_autoriteiten\", \"specifieke_materies\", \"bevoegde_autoriteit\", \"aanvang\", \"kalendermaand\", \"onderling_overleg\", \"verwijderen\", \"letter\", \"fictie\", \"grensarbeider\", \"verzuim\", \"vermogen\", \"koninkrijk\", \"door_brengen\", \"adjunct_directeur\", \"nederlandse_staatscourant\", \"ongeldig\", \"desgevallen\", \"trachten\", \"ondergetekende_bevoegde\", \"thuiswerkdagen\", \"vos_adviseur\", \"toe_lichten\", \"schriftelijke_overeenkomst\", \"sub\", \"sloten_nederland\", \"overeen\", \"enig_ander\", \"arbiter\", \"overeenkomst\", \"overeen_komen\", \"overeenkomen\", \"akkoord\", \"publiceren\", \"thuis\", \"verlenging\", \"verlengen\", \"dag\", \"week\", \"daadwerkelijk\", \"pandemie\", \"staan\", \"schriftelijk\", \"toe_passen\", \"cov_id\", \"waarop\", \"belgisch_staatsblad\", \"uit_oefenen\", \"belasting\", \"staat\", \"betrekking\", \"ambtenarenzaken\", \"rechtsgebiead\", \"ambtenarenzak\", \"beoefenen\", \"liter\", \"federaal_openbaar\", \"technische_ingraving\", \"rma\", \"vastlegt\", \"hierarchische_meerdere\", \"rapportering_onderworpen\", \"departement_vestiging\", \"afval\", \"rechtsgebieden\", \"sutter\", \"sectorcomite\", \"telewerk\", \"budgetmeter\", \"deelnemende_rechtsgebieden\", \"netbeheerder\", \"tel_ewerken\", \"water_beleid\", \"coverbranding\", \"superieur\", \"departement_bodem\", \"vuurwapen\", \"wapenen\", \"conjunctureel_beschermde\", \"internationaal_niveau\", \"afvalstof\", \"afval_stof\", \"planning\", \"gas\", \"ambt\", \"lijst\", \"statuut\", \"elektriciteit\", \"openbaar_nut\", \"franse_gemeenschap\", \"tele_werk\", \"regering\", \"instelling\", \"afnemer\", \"personeel\", \"letten\", \"dienst\", \"bijzonder\", \"divers\", \"voorkomen\", \"besluiten\", \"personeel_lid\", \"ambtenaar\", \"vervangen\", \"begroting\", \"kader\", \"wijzigen\", \"openbaar\", \"pandemie\", \"woord\", \"cov_id\", \"voordracht\", \"belasten\", \"daten\", \"maximale\", \"diese\", \"oder_nicht\", \"erforderlich_ist\", \"wurde\", \"zustandigen_foderierten\", \"hoe_danigheid\", \"teilgebieten_bestimmten\", \"diese_daten\", \"ergeben\", \"gemeinsame\", \"lss\", \"notwendig\", \"Agenturen\", \"dat\", \"ergebnisdaten\", \"im_ausland\", \"quarantane_und\", \"zustandigen\", \"vergelijkende_selectie\", \"belgien\", \"die\", \"erwahnt\", \"konnen\", \"oder\", \"sich_aus\", \"landesamt\", \"tes_tpflicht\", \"lisen\", \"sociaal_inspecteurs\", \"verwerking\", \"quarantaine\", \"opsporen\", \"oog\", \"gefedereerde_entiteiten\", \"aanduiding\", \"coronavirus\", \"identificatie\", \"onderzoeken\", \"noodzakelijk\", \"resulteren\", \"lang\", \"zekerheid\", \"gege_vensbank\", \"punt\", \"verblijven\", \"datum\", \"toezicht\", \"categorie\", \"sociaal\", \"cov_id\", \"verspreiding\", \"tabel_zie\", \"nodige_vermeldingen\", \"opschrift_voorbereiding\", \"toerisme_vlaanderen\", \"indexcijfer\", \"teruggezonden\", \"netwerkpartner\", \"vrijwaarden\", \"gescand\", \"samenvatting_vormt\", \"scanning\", \"voorbereidend_formulier\", \"lokaliseren\", \"rap\", \"subsidie_bedrag\", \"scannen\", \"stap_kantoren\", \"zorgverblijven\", \"vakanti_efond\", \"aanslagjaar_afgekort\", \"jonge_kinderen\", \"verdient_vakantie\", \"basisbe_drag\", \"geindexeerde_bedragen\", \"gemiddelden\", \"vermenigvuldigdn\", \"uitvoerende\", \"aanslagjaar_zijnde\", \"attesteren\", \"ov_ernachting\", \"voor_komen\", \"beeld\", \"vullen\", \"raadpleging\", \"onderdeel\", \"model\", \"vermelen\", \"deelen\", \"aanslagjaar\", \"coefficient\", \"aangifte\", \"bevatten\", \"indexeren\", \"noemen\", \"gemiddeld\", \"belgisch_staatsblad\", \"formulier\", \"jaar\", \"vast_leggen\", \"wetboek\", \"mogelijk\", \"vermellen\", \"basis\", \"dienst\", \"hierna\", \"maken\"], \"Freq\": [2970.0, 2416.0, 1800.0, 1212.0, 1586.0, 1649.0, 955.0, 1575.0, 797.0, 717.0, 766.0, 552.0, 838.0, 624.0, 987.0, 1018.0, 1132.0, 858.0, 585.0, 3783.0, 1186.0, 893.0, 426.0, 354.0, 551.0, 1015.0, 892.0, 1080.0, 1409.0, 1131.0, 238.54414960898586, 135.75143802060194, 107.84091357833685, 91.86224114292477, 86.13304152772577, 73.87271306532094, 70.17822848158423, 62.982961820550734, 58.82694227519482, 58.50951403315702, 57.01066349268452, 53.264891438643716, 49.70704830849679, 48.725396718075096, 48.30677634408828, 46.081276484937725, 44.53708312581965, 42.7718019465062, 40.48319659253137, 39.77457130562052, 39.56666293496545, 38.57712790961052, 38.2103177171048, 35.87814438652632, 34.55200237085718, 34.487834821959616, 34.383261699079306, 33.06005874580088, 32.03418578980429, 31.67049285668146, 47.29878961418495, 70.82380529670829, 156.95132984555673, 706.7382045234542, 170.23427619890134, 99.05745553284056, 329.93065705395594, 84.83686987017838, 50.262267368795264, 368.77786745276677, 104.21066544633469, 133.02588888992625, 69.97160075331283, 555.8631545146301, 347.91709163177586, 222.67060864702952, 442.85710370412374, 86.06236147275466, 394.22827550004104, 96.24631482288964, 171.56728473866846, 286.3936059443095, 219.05749593779365, 340.25243508570867, 353.85273365037443, 328.7252660720955, 201.4555486941019, 152.09623637206982, 233.61638977805524, 238.11250422285195, 166.41110962722476, 189.89011722233178, 369.19535211792356, 215.87979213516616, 185.43796753944125, 150.24110589334845, 235.38887486777182, 166.00191231018346, 187.38317540972056, 156.46547455844726, 153.27348648492804, 123.697029230919, 91.80539511722746, 53.264463745043244, 49.98425562611315, 45.545498722078186, 42.0944537887541, 41.651001152324504, 39.85370833302678, 39.56452355844873, 35.9701522248682, 34.596552325902145, 34.329968793175404, 33.05221085921539, 31.949204774783052, 31.553877504342925, 30.74198295531723, 28.388138027965702, 28.085400445499626, 25.75185496539472, 41.27701905823158, 24.863211440747833, 23.59947064220816, 23.521225500093916, 23.50133680412589, 22.128534596048706, 22.128534596048706, 21.863030525619347, 21.827340803412337, 20.992884698649195, 20.97514103713607, 71.00822844206566, 64.08274361128869, 1376.4670778234524, 103.78066410430255, 36.79574642040324, 52.5093719308056, 41.964057124397854, 168.2961252582179, 1620.2175382960604, 1057.5140984662085, 104.70335831465344, 196.95872252820865, 419.5713427869365, 268.3213082810565, 220.92797647366186, 123.69768008318654, 171.7589768104195, 158.05429810182844, 350.88776021393943, 395.4114843737686, 55.664902154388706, 353.44319670963176, 211.65453811913795, 219.07019011098578, 104.62735940658447, 552.8469330902893, 194.2311435449759, 390.6782326931192, 136.46849690898256, 162.29060026454587, 148.08360647542708, 313.0433995124741, 167.8311944969596, 185.3611224752054, 182.26119249715995, 313.47912129392097, 310.2787695733284, 299.5223405155558, 247.31562282637717, 218.13799504497342, 191.75871452506277, 284.03259627935165, 213.76526789720222, 217.51200215916833, 226.72570497508886, 323.6400681502349, 208.96129556162913, 216.58815705151508, 195.8298272073905, 149.44556681342965, 112.40450833778138, 111.87651225679589, 104.68415159353793, 102.45748397110212, 93.4867201493238, 73.42662043035264, 69.15540144002034, 67.05860554308455, 65.08061028931296, 99.6110644792309, 56.076850524829226, 54.10108168706457, 47.86355231464088, 44.997373380708176, 43.318327848853166, 43.28223246057646, 42.2101559678979, 39.49057356601042, 38.54046578447852, 37.47033740580602, 37.04888143052193, 34.978196361037256, 34.91009243030478, 33.97664845761926, 33.26623494595653, 31.276970367327966, 30.639065963959368, 29.41714481177342, 28.451905788578, 73.60970502336073, 94.37127827876131, 115.26231914990723, 46.07323554306975, 75.13832260521339, 89.65826058058845, 95.93680709311238, 202.2630472377328, 115.77204642009615, 161.8114473021017, 261.65460040063016, 53.31296091946141, 152.4876287995535, 73.73335498358112, 122.3878949576697, 147.88225679037316, 76.38805870806124, 102.78661230450986, 193.86759846179953, 160.7284636584029, 878.0283867765309, 324.0576252036932, 109.88830751318433, 144.0886574065134, 337.30178105882425, 141.75226254861286, 168.55579511695183, 126.14692389572325, 341.0463992905316, 208.54515449092534, 164.19453589844892, 170.436399919845, 178.18298567458106, 175.96452986734886, 149.3341240176856, 165.7932093373963, 142.2251624581392, 169.3794012958435, 144.663789459262, 143.06032770095726, 146.5851254755422, 130.06241955596232, 129.07675774073073, 131.87527116489125, 357.8808437016184, 136.284733545933, 88.83652949176931, 83.04478179621188, 82.65201176660229, 75.63469018298231, 75.63469018298231, 65.02351638746984, 51.14398131252316, 47.06811306363717, 42.6562647712201, 37.77944323450136, 35.45512127451317, 35.3239864529678, 35.2472262557249, 34.78376985861858, 34.17343048118704, 33.609778436645385, 33.609778436645385, 33.609778436645385, 33.609778436645385, 33.123469496655254, 32.200463147555084, 32.196476190383414, 31.905563577111085, 30.60564807406406, 30.557782044627462, 29.476434238936484, 29.42547976690891, 28.771944059474475, 1167.3923959624324, 531.6107440736944, 121.62967089144945, 110.26342924088445, 301.11958432582793, 78.4985041287869, 137.28303155231623, 278.0048168856788, 165.46897664009703, 90.29086712436519, 289.35590938718434, 70.02588520882536, 56.98858034422296, 310.7192496962833, 873.9890358627779, 99.27885339672396, 53.84180515611279, 555.5249125291749, 91.04741640130703, 98.23680191688815, 158.17482883308264, 329.77971323748307, 286.13486021421943, 173.88961053367322, 212.27863633224962, 242.0711383722354, 451.64549701422976, 228.2386255603449, 181.73458964492195, 156.60137843962139, 210.8294450304779, 145.90310347798214, 233.64045657367083, 238.06367316884717, 224.53043334245652, 194.3701650979668, 222.5948976753886, 172.98457769666922, 164.9645331638923, 159.84452012163126, 148.63527054554484, 150.93340676339827, 151.04222042165057, 716.9865679624997, 176.90363401579515, 76.6842772599327, 71.6181745797855, 64.26888083178565, 59.16433959484724, 53.73410350453477, 205.37854106022013, 44.30491894778005, 40.19388859211058, 38.92475015561518, 38.917677667097934, 38.37092410870854, 37.95737337431763, 37.953228986141916, 33.072951276131114, 33.00348129110497, 32.832711905032376, 31.491880057866872, 31.143448987994677, 28.44376299694615, 28.32600831551879, 25.820539037123936, 25.50594200581357, 25.106703568476675, 24.097471040758556, 23.98750639331676, 23.975264681504257, 23.3802360797917, 23.352269503837338, 70.69348692731343, 52.90697951190417, 66.93821432775536, 432.5976216833322, 129.03512685696919, 360.2378139878109, 139.54928520950736, 53.061705482259285, 195.12747413221544, 81.80397382940808, 376.2531199420097, 66.7080527701398, 78.56837146892653, 907.4600743641784, 63.76035668016308, 289.3691623062199, 98.7214178457564, 262.09532984496667, 102.49748961081742, 163.37384120997123, 119.69002061002148, 179.33877096752482, 509.25577771406427, 289.34277722621925, 277.44277150588033, 216.3977355855125, 296.52029123264407, 196.73839266780726, 216.09133401746575, 116.82191093086627, 131.52582692594905, 180.13594789435467, 130.79227021884762, 143.93427957328618, 127.51808772309681, 157.48560517854477, 161.39637599470188, 135.6963942493322, 160.30342875644996, 149.91715438190525, 148.80087243631615, 146.50652884562416, 142.18277360898836, 141.72417517703533, 140.78347628577262, 101.57332081786952, 144.53010353240117, 79.44964588459963, 75.65274535453005, 45.6564098505807, 41.48752741494461, 38.86244603859029, 38.829734255642165, 141.7364688933612, 35.45906769921046, 34.348121646419706, 33.43221830369098, 31.952022750702262, 31.502199187914755, 29.65003767725078, 28.354324672330677, 28.67411178779787, 27.567516851338155, 27.24908530662773, 27.194365433746196, 27.07058055979827, 26.37402451340586, 26.200500824612057, 25.73778870770775, 25.57977965912425, 25.206431550873464, 25.206431550873464, 25.206431550873464, 24.046049693170698, 23.313164350496905, 72.75067568687615, 238.37285417471927, 45.725570538994624, 46.64299956332018, 47.124748146420515, 183.07798538991062, 52.58445024234296, 117.10912919583338, 34.46540775468077, 40.412812313105825, 91.1759974261116, 48.5397513779362, 41.473626169733045, 115.49857292173547, 61.41175689957595, 168.84386516012415, 67.54907426304231, 79.17068005478428, 287.31667727341113, 176.56417552563414, 109.777756002277, 66.56742308062847, 218.8051743528823, 67.56984904938525, 273.70883073325143, 112.22262089147371, 150.308130853759, 132.6199844399452, 226.9175476770321, 147.60746178881456, 76.92262809157903, 89.57103354588084, 192.49009058757707, 103.371169126879, 211.79898929396518, 131.24253317637388, 137.58603019396278, 117.011294198941, 130.75461275935743, 132.4799406908617, 123.07759560264398, 115.52603519047847, 101.70495471229732, 105.9984459962629, 143.7668415140988, 71.05060008962477, 56.639680427807114, 51.51323433655804, 50.070836277428, 45.574610100319184, 272.7152671771728, 42.173645086768786, 36.794550588506425, 35.28643416559584, 33.23174309977215, 31.519455244580477, 929.024770406382, 30.435742059373222, 29.93388967463198, 29.882184750108646, 29.87564947471183, 29.543389531046458, 28.13388432839467, 25.429550327146483, 25.33674316265968, 25.275226906394128, 24.74819074049549, 22.466532951652546, 22.11415725232153, 21.187908845860093, 21.11400515187147, 20.675434533937285, 18.474226538454484, 18.0988282449164, 69.2425777861193, 507.5639412306964, 68.11149167160022, 108.95769893196452, 188.61985330045255, 541.0870128124382, 117.20275823782016, 110.37624576149028, 81.69695577945113, 100.87566311719992, 200.22584815605524, 127.43135661041482, 694.3625381145654, 136.2259082216997, 179.992558557034, 61.78827958729493, 164.5979223990307, 89.74050635080424, 298.8126880131545, 207.95077939720463, 65.45462440744468, 108.45309966297478, 379.09396411371404, 128.5148028042459, 135.09977227161443, 141.72125461366963, 162.11258386476015, 129.4735279454912, 112.12874829071924, 141.99096882080818, 107.6800658211899, 128.72184379248887, 160.28266826840897, 118.73670306971529, 115.85913255590572, 425.3205789810662, 313.66284397915587, 217.90506260977253, 96.07223953039043, 93.71198943592047, 91.51793566572647, 83.35538492824058, 59.31255228958032, 53.93026014274456, 50.48234639634738, 47.73816116241138, 47.513490403792275, 35.18728998701203, 31.843434164134475, 30.53470623766946, 30.049953475021308, 27.988138873792217, 27.036797765368252, 26.46298996781972, 25.481159804774467, 24.499325383778707, 21.344697139481493, 20.790880419573757, 19.45331552328504, 131.87921886066312, 17.155215538935316, 17.094963410254568, 17.52782027209632, 16.670839604907226, 158.93447484148885, 102.39170232635546, 58.09104422134621, 132.82185246029573, 53.33629307851012, 221.01484824828185, 110.24877917840874, 43.9768367108324, 270.37132440278276, 72.13923646716505, 156.70354721988497, 483.2621563656872, 317.8910569620216, 227.79061005261715, 225.9497788248662, 460.9352011391343, 723.6212484770099, 351.18972874271765, 278.55205658894306, 94.78010483705985, 256.4495123860282, 115.3132280935826, 133.49243708599312, 303.4694126508904, 238.9913362169483, 138.71583529367624, 144.4016639584629, 164.1773233670981, 159.82811646256235, 145.49907405910574, 116.89184621307466, 112.93874792851082, 194.04016053308143, 163.31410877557872, 121.26180176041098, 100.01348262416084, 52.18396951831089, 51.39612052807118, 51.394215926913255, 39.84772066382776, 38.88958435328296, 36.93833518245218, 36.10243810825497, 33.9806451476475, 33.66847344991228, 240.68294314526017, 30.580114321537852, 29.895332423539486, 29.394832249718494, 29.26649871010731, 27.19401936314505, 25.064107672215396, 24.664471475830556, 24.54131988087089, 161.00583307819744, 24.324344605691287, 23.852844402039775, 21.372963299446134, 20.633931801578708, 20.498623133223607, 20.39843816922455, 20.050783289431283, 289.0871412706949, 287.2542842941377, 69.91885029689409, 65.90501477363657, 186.35823556078418, 41.18934610509072, 88.5770043555552, 268.6854236557679, 30.167297276079967, 179.7688369021484, 71.77510065279492, 134.4080232503722, 46.87768762607347, 144.06763056674498, 159.6056611223118, 88.2525914960732, 160.45486938252662, 412.69715228653996, 141.30307465730536, 89.2765185327089, 159.66300937792786, 81.40758947585952, 132.30235002671722, 151.26160765386803, 180.5448042083433, 187.4773337934701, 118.65676145346936, 107.69134612908825, 110.58417040966678, 91.81741624524594, 110.51451161941408, 98.29641530740327, 89.46585186459322, 89.83424293182772, 173.9182521841538, 203.50526780023955, 73.27004917162401, 61.06864078954681, 52.403022180450286, 47.43633658977566, 47.43633658977566, 47.380497562694785, 46.93134529343757, 46.79003802900849, 46.79003802900849, 43.64894336473344, 39.48989858905489, 301.434604844052, 38.61701541497993, 36.55119134970263, 36.51707211065247, 36.358701076948975, 35.97198593621872, 34.73187484430084, 33.683007025460796, 33.49099189900625, 31.818427129163897, 29.982563498280168, 40.37810678743198, 28.22908691586181, 27.45818590662231, 27.064912087064677, 534.912217384829, 25.86733177610338, 102.3652613947652, 98.69629371630695, 183.67743348732628, 171.108954877881, 50.52156317872447, 168.00135699025552, 84.26178072342206, 141.34182354156496, 180.32875176220898, 494.96271330793655, 57.07451120227646, 45.429517810323475, 186.2181922144926, 202.85584862797086, 56.14146081256198, 352.48090382646075, 217.70436551322717, 111.76843570230245, 104.70754591063366, 122.71198866429604, 79.27334214672203, 142.65198240229418, 80.7534249433094, 106.16634049312138, 105.89260642784474, 110.59315199452973, 143.51435011154877, 88.50222698209842, 145.53157646233853, 111.32171518615682, 120.53293868835425, 104.47453748535195, 104.58743556581881, 104.0930593282852, 231.37268493304856, 104.75959801079554, 78.5695537304211, 70.48617305006093, 62.892113004099976, 267.6839725458327, 48.20400267423694, 47.33492147533132, 45.01467258359147, 44.0382256559477, 42.38436572872904, 41.98904941349339, 38.594114091859105, 35.38119745026489, 34.835137921526005, 32.98644212920802, 31.329016833690346, 29.588593810969357, 29.48199557834254, 29.23465774629998, 28.42622792759247, 56.55022635239796, 25.029438405125582, 24.56458694220314, 23.044546939232813, 22.370934789718373, 22.002505258710205, 21.842225906023653, 20.8979353211354, 20.659641733041166, 56.390939511728114, 62.71794720472632, 258.87959206401126, 36.583595233085184, 463.3112517262205, 79.52119309057538, 61.47544077285149, 63.56088818380367, 156.02905690330877, 244.26387057192173, 68.07047206240203, 166.8065163881458, 80.94860329014516, 226.92412397253858, 245.09047783830243, 99.0419752529586, 124.53051413309964, 132.6543069723402, 75.44959133376543, 82.95346360940734, 182.03400205334174, 133.0788858211298, 119.90547093040725, 199.7728745395677, 109.02008056060463, 108.72562718887292, 91.00695380484977, 90.29699897015436, 118.14614657163534, 77.39553586062671, 96.26363932993209, 87.7186516020292, 78.08659633650858, 79.1453432676181, 79.30752915041757, 79.29371464703368, 52.462137343495264, 48.315032786730306, 46.62952849265594, 37.73053091690577, 35.494540576917544, 35.44297207899512, 30.344581221438315, 32.258453417486876, 27.216001116611462, 26.543057181894998, 26.06349060297115, 25.264166854729652, 24.96397269105393, 40.09903960443628, 23.371316355649988, 20.832450566794282, 19.939720948044926, 19.613865847458314, 19.356683528457065, 18.456113067873826, 18.344378816032755, 18.091736485811044, 18.001902153346045, 17.616926443657537, 17.13609516431514, 17.100279028918596, 16.963916954539453, 16.7337956153619, 16.63369781041584, 66.51410489331911, 45.30711803455991, 37.618016190014494, 40.248439672428724, 60.86636486680019, 51.110583134969495, 64.04581871141228, 44.53733203378699, 39.78429010740609, 43.365681083847925, 26.236127473421814, 61.587890741732494, 51.313019415044295, 136.9101573438793, 108.49844739707206, 141.3005836444282, 78.90612381959505, 241.27406598287527, 54.042282017208, 56.38002585198869, 260.2377991211212, 229.51108287856826, 154.41205920927985, 81.27245198916255, 190.4788248442997, 86.0120980162231, 89.56433922701324, 56.90197267728049, 85.26193366950628, 81.97938493560311, 55.631599904420305, 66.46459360130937, 69.38844863410301, 64.12612793989265, 67.81439738024277, 69.21496361735501, 68.79442140398159, 59.646682369455256, 64.24515715217412, 57.092023615325395, 57.774745293349085, 103.1664004456578, 102.37163767934466, 82.17746254039871, 54.307353339394446, 53.58691227099162, 49.5308118391734, 48.797061152300714, 44.05191841011191, 118.56571017149803, 35.51955445574637, 33.66450609245685, 80.52839733385954, 28.127249754530123, 25.234564173777173, 115.86328952864481, 24.019757152614105, 23.68965716613456, 22.239233377760357, 22.155280176763068, 21.99484739219544, 20.500471719135483, 20.191375249694666, 19.34023645244771, 19.002135333175033, 16.885930633173675, 16.543160133379452, 16.521311722224002, 15.88017766178554, 15.756637620835862, 15.643260945993452, 65.13259471567362, 16.44086707809905, 41.67264440558729, 16.816439178987228, 472.57924351202047, 34.93119222097881, 64.94092113784001, 36.09057244902359, 43.98320518601239, 31.772844684630886, 103.308667282107, 149.50794133396784, 92.37047385187083, 62.4354550233544, 155.8373605410458, 80.66955117085482, 57.54181090871277, 155.46190872525486, 97.73280667405831, 84.77924368575398, 113.04139535065927, 98.66203368689885, 90.53590293947188, 57.45030148486031, 68.58429586590508, 92.9496799270682, 81.62160046937299, 80.19958715143468, 73.81481940901253, 70.72917334480736, 72.47493617577848, 60.235211618491455, 64.70033355275521, 102.34253454587324, 90.02059863803932, 88.23370789102046, 87.87329092978388, 69.99697091750225, 57.30680899591465, 52.27665022161809, 51.78795663112862, 123.69326613426706, 40.74858600706686, 39.79652868296548, 36.52778761449045, 36.494340308099375, 36.17813150559406, 31.168583012711608, 199.31631795080094, 120.9902435596879, 34.709867173249066, 25.109030860366204, 295.7232456479084, 23.524977223579693, 23.40903096709534, 23.225581564469778, 22.7263198697629, 21.438459519703592, 19.595702106070053, 18.86952079996212, 18.595066747939583, 18.400678889346413, 17.725124254458233, 85.25714268768503, 76.14323494319592, 34.413329693445476, 78.33185132770713, 49.00678846048634, 62.94196007089525, 52.5097598013049, 57.35096483729831, 53.752423470117556, 98.45065256418239, 108.33339952789466, 116.4268050898842, 88.69492661338033, 154.7112082283944, 151.91662478840684, 155.54326332479928, 92.8481144715757, 79.66524979854488, 73.40790227615007, 142.90323794349067, 104.08024147904857, 93.81652509712242, 96.01688259585539, 70.43742240640518, 74.47590861028041, 77.94417427482063, 75.95192967779488, 74.94851048606257, 73.87528949052458, 52.12259749602703, 42.20363465407633, 35.09241205940265, 34.62015085038293, 30.42191467207185, 26.118600770500095, 25.38606031997502, 24.140470417188318, 24.0794341740049, 20.873207930084007, 20.459868258831346, 20.440436104933383, 18.448675846078135, 18.14826387942059, 17.13932006595733, 16.89232774994231, 16.807250431555207, 15.57663800091127, 15.414399303174037, 15.089804198568906, 14.463777319751793, 13.979797963827965, 13.842432423080123, 13.460618504166986, 13.062899646340183, 12.874225101430637, 12.823200222756737, 12.117717651275484, 11.96997138288398, 122.22511046101577, 48.36714044844056, 21.81493577100413, 183.44336443192196, 59.551963517264944, 37.983827262837686, 30.865795803795578, 50.80407663945681, 44.817714968866746, 126.90982832901112, 112.83958510454434, 78.12876169313236, 67.08829466678965, 64.42295811399956, 51.11245832604723, 44.63863473283998, 71.48205179953244, 39.293942063904474, 56.19444856895998, 41.52746470033139, 31.550986741778264, 64.63415264801915, 34.06208374404667, 68.63256540022607, 42.47654530298231, 37.99337793816341, 59.97260318408638, 42.49672227155187, 39.415986137722534, 42.22508206946993, 41.9002698118134, 41.88467944040409, 41.2779456969427, 40.63982420495014, 92.88746778241266, 104.45799978703543, 155.98593525542898, 51.3415784143094, 52.403894240916145, 52.403894240916145, 39.92440075950397, 103.55336731117521, 33.11904531993099, 31.88108654717358, 27.72782849022638, 27.511300535300172, 26.638100738721864, 26.238613216356246, 23.43628967824652, 23.36545055740783, 55.45073519770621, 22.376043507013584, 21.654025091476356, 20.42840634249437, 19.69221366687253, 19.69221366687253, 19.69221366687253, 18.457107021487865, 17.153452780404248, 16.379726853768535, 14.763149865941795, 13.978308433399125, 13.907552302014864, 13.729441689841584, 262.121155303871, 29.672842171788126, 23.889820272071084, 29.283448876941243, 24.089384505046347, 42.45615496489088, 41.75812558267166, 45.01207434447867, 75.05186878517019, 171.16343961171617, 43.43248694205615, 37.5654814081157, 92.30014633240647, 103.23887453944721, 49.92474518766547, 60.107724000097996, 42.274987292202276, 40.954648783453045, 37.6377432053161, 47.88645644030854, 38.12909158542688, 41.28266375526654, 35.484244771258766, 175.214273611948, 104.0580692994318, 95.53005805755541, 89.1028512773076, 83.18241015935436, 65.8989004918124, 49.67838535836164, 43.5101923936955, 42.688277964576464, 39.43781800372749, 81.65469885182537, 32.597089387954505, 32.41030929021393, 29.935245060699923, 29.856881483021393, 29.42443392028065, 25.882604920152428, 25.180110940962642, 24.865501188941472, 24.804242729967395, 23.623532236907376, 21.553769867168345, 21.4912226467364, 29.384414938236272, 20.00158499388991, 19.79423201997371, 19.786536723526716, 18.460289366477973, 17.451715257819103, 17.20436623865866, 223.7968590778181, 52.13766333517925, 25.022474914900034, 186.27566016349448, 59.36046743348538, 40.513410575295616, 93.49865461895062, 82.38309707967335, 92.35714741798, 43.720700611180966, 39.8080466289883, 77.83970116332904, 61.3159557978266, 36.67839479447704, 42.80535025959137, 80.02100232504918, 52.354226867901694, 49.12655461799188, 47.55174259137527, 48.35595267788619, 38.50990115276116, 41.12041865550231, 88.33734066177288, 59.231711757234095, 56.39407618630791, 27.576922718455627, 21.876495993856818, 20.204833618446944, 18.191234466520637, 16.612752391410563, 15.823965856620571, 14.304074854139529, 13.455794269078549, 13.446713858398676, 12.837545128545441, 11.877315810701354, 10.103985868503857, 9.210593774251404, 122.21576940880935, 8.942096567196002, 8.720357085580527, 8.55269077444023, 8.48280464503216, 8.185525477730966, 7.931116048025491, 7.711960119262775, 7.396285645753556, 7.396285645753556, 7.396285645753556, 7.3907122603880415, 7.141877421625708, 7.031051684401324, 35.33198886852884, 16.336495483964693, 11.090300269444121, 27.654458237901373, 113.08920921740844, 88.66411006617521, 25.47342846526067, 36.017297058936784, 83.87382934809894, 20.20665886297288, 323.3642359304412, 97.46163436723671, 37.9941405601982, 58.16359891436215, 122.10948568529135, 126.4380880402929, 107.7300791076066, 64.10821538712989, 55.962190057529654, 98.85705671328748, 47.42243754217286, 50.29991022017627, 82.30209368538458, 51.272276087982426, 75.24301232117617, 53.51548955457797, 39.092359087549404, 49.52411137315238, 55.053160415888904, 54.30070155170654, 36.13388123769229, 38.940311637344195, 36.37810642008789, 25.076585393807857, 24.269647240635567, 16.197345915407098, 14.58288349287852, 14.58288349287852, 14.58288349287852, 14.479149917822971, 13.775654079516634, 12.968422868252345, 12.968422868252345, 12.968422868252345, 11.353961344674968, 11.353961344674968, 10.546731931313083, 10.546731931313083, 10.546731931313083, 10.546731931313083, 10.546731931313083, 10.546731931313083, 10.181149153154205, 9.739501618999995, 9.739501618999995, 9.739501618999995, 9.739501618999995, 9.739501618999995, 9.739501618999995, 8.932271306686909, 8.932271306686909, 8.476790711429395, 24.675773616976155, 67.71746190146872, 35.85734398850843, 24.10282706809446, 47.714754863554866, 20.059991804338807, 16.52636385340631, 44.92798096532529, 20.644642697876403, 18.816337763308947, 26.236334925405814, 13.994650278799158, 18.87443697952331, 21.312730646220626, 17.497979079453067, 20.97551607115747, 14.553647801872431, 22.21141036540778, 18.97124503451518, 18.243732815884186, 21.045522794999492, 23.08866268373333, 16.34243843738498, 53.9669836111551, 40.81210076574263, 40.81210076574263, 38.195537578761574, 24.523337596962936, 24.499482227364137, 20.77239676211188, 16.645274420149043, 16.34317516434983, 16.34317516434983, 16.34317516434983, 16.34317516434983, 13.283691472223774, 10.816316453038839, 9.312693512060445, 8.186869204422994, 7.49762320052907, 7.49762320052907, 6.667949749515694, 6.010239361721614, 5.405718748582319, 5.008602847488943, 4.911500263791407, 4.911500263791407, 4.560220404742514, 4.246253858182817, 4.240609083833448, 4.164040473366357, 3.3835638961428245, 3.3492559454621906, 20.522600398642595, 54.48259758048954, 44.79098138895751, 52.921005186854345, 89.98029207522401, 38.76944751464355, 24.867099363368684, 9.265918191036336, 63.745695176868324, 14.103212657718675, 62.800463937261796, 49.21017923089119, 13.521712376964347, 29.810268165299917, 24.312235335721827, 42.815541463503216, 20.572215066811218, 32.35714931688118, 22.149162438011164, 34.483531319206875, 26.893246013585653, 26.392439890431472, 22.82096035586842, 22.044362509956816, 20.048782413498408, 19.518005403818783], \"Total\": [2970.0, 2416.0, 1800.0, 1212.0, 1586.0, 1649.0, 955.0, 1575.0, 797.0, 717.0, 766.0, 552.0, 838.0, 624.0, 987.0, 1018.0, 1132.0, 858.0, 585.0, 3783.0, 1186.0, 893.0, 426.0, 354.0, 551.0, 1015.0, 892.0, 1080.0, 1409.0, 1131.0, 239.42638197071628, 136.6301992217063, 108.71967463146945, 92.74100231522459, 87.01180268476008, 74.75147589605679, 71.05698953986779, 63.861722942485265, 59.70570334166212, 59.388275025284976, 57.88950823472844, 54.14407793645558, 50.58585246087643, 49.60415891872733, 49.18553742428175, 46.96228196146082, 45.415845590199716, 43.65056433490255, 41.361957592963115, 40.653332406990415, 40.44542395392071, 39.45588892714215, 39.10551668289695, 36.75690566118282, 35.43090824415405, 35.366603890461995, 35.26202336162093, 33.93882035878907, 32.91294677356862, 32.549253851135084, 49.005991164880285, 74.53953513612622, 171.93776599619608, 858.6468513384827, 195.95776632081274, 111.08348148495048, 421.4080297983874, 96.38493983385234, 53.268716406776704, 531.0850905206743, 131.48200254953193, 182.26562399963595, 81.78448989301448, 1186.9302739005589, 695.9011011451835, 388.41020418047697, 1000.0510627159271, 109.89651964470926, 949.8087156884976, 137.10409041431376, 338.7719833282699, 764.0821919079688, 525.3553487611582, 1083.370895666406, 1241.0745866215861, 1131.6957359452188, 499.286223824923, 311.5738196701886, 694.5786040203996, 736.1987472770459, 403.11500788026154, 579.6683830277345, 3783.1149429603747, 926.731025835928, 833.5550107927102, 436.8922680903424, 2138.6335716544845, 711.5132989464897, 1657.9239838756944, 609.5364839811657, 643.9738953062315, 124.5828732436421, 92.69123927649393, 54.15030547464071, 50.87009607356894, 46.43133922088728, 42.98029430914953, 42.536953772241084, 40.73955176114173, 40.4503640413311, 36.871506119959484, 35.48239276797991, 35.21580935876896, 33.938051368997066, 32.83713098033715, 32.443686979553206, 31.627857923911986, 29.27397850876899, 28.97706105878061, 26.637711885406684, 42.715422546447336, 25.749051905686457, 24.48531109653985, 24.407065974659975, 24.387177852365188, 23.014375071373102, 23.014375071373102, 22.748871080867346, 22.71318131079172, 21.878725522184986, 21.860994003118094, 74.99724939640643, 68.05344579431576, 1586.2230452453014, 112.11729990059085, 38.82014425135876, 56.06562793904163, 44.84870847575993, 195.1407594356994, 2416.6588050795085, 1575.6058446432555, 128.15994392574433, 262.9822644074453, 649.0572635541257, 388.61090484112776, 316.0352625711466, 160.5029273418561, 241.22531578906745, 226.18004107503802, 599.0887339775599, 739.4632653038615, 63.87591492426766, 700.6694803132798, 361.0553428209008, 396.17230755267775, 153.17562339917123, 1649.3175911513365, 383.3513176350716, 1131.6957359452188, 245.69002293748275, 334.20261665575384, 290.7203301865702, 1012.5482810597699, 359.00044103591637, 437.4196793284631, 426.9335124067215, 1241.0745866215861, 1299.9337989859528, 1240.8209316794762, 878.7372038821842, 687.032561340118, 513.735617975987, 1562.7136060522535, 724.3169286678205, 774.6802189376689, 942.1422987416099, 3783.1149429603747, 797.5679557450187, 2138.6335716544845, 968.5111924648779, 150.321895344031, 113.28083820629648, 112.7528407069272, 105.56059984770047, 103.3340742533619, 94.36304889500656, 74.30294917914107, 70.03172988982902, 67.93542977330588, 65.95693945712269, 101.12928511780676, 56.953231388880646, 54.989362788637806, 48.73988080106795, 45.87466999306421, 44.19466652869616, 44.158561007371986, 43.086484478261085, 40.366925453831605, 39.4167942238047, 38.34697677901584, 37.92521043353411, 35.85452478480556, 35.78642129758435, 34.85297691413555, 34.14256347310876, 32.153298844154804, 31.51539438713333, 30.293473260187508, 29.328234268563033, 75.91679851626974, 97.89085911274975, 120.09021314260085, 47.73490619347824, 79.62981387838406, 96.00531781454303, 105.51007260889969, 242.75899451959867, 132.01060575837002, 194.83792574594574, 344.18343854545293, 56.81995739552889, 197.27934510380538, 84.22410424514106, 159.07986333782932, 204.3796436322016, 91.04893879420719, 137.05543913446823, 338.37366928488336, 268.21379518197125, 3783.1149429603747, 875.6987534286083, 166.68655957458589, 267.1524258395053, 1409.620513301132, 279.98571389753147, 419.19489647324133, 233.041451456857, 2138.6335716544845, 1299.9337989859528, 637.5802621154602, 764.0821919079688, 987.670900414277, 1039.6379749523562, 590.6094102912405, 942.6434016250911, 609.5364839811657, 1657.9239838756944, 746.7485907176281, 707.4705707439667, 1562.7136060522535, 461.8940563782435, 635.8569472441185, 2970.01370553725, 358.7635507782476, 137.16457506615066, 89.73315405437454, 83.92197895498151, 83.52920892815989, 76.51188729493093, 76.51188729493093, 65.90071350149753, 52.02388233418283, 47.94531035646553, 43.533464068583584, 38.65684131122767, 36.332318459029686, 36.20118358154904, 36.12442340422912, 35.66096703349066, 35.05062763958732, 34.486975563147546, 34.486975563147546, 34.486975563147546, 34.486975563147546, 34.00066661323958, 33.07766031701683, 33.07367331171457, 32.782761067451794, 31.48284530036194, 31.434979168654937, 30.353631390582954, 30.30267689142656, 29.654736942030734, 1212.3346371946516, 551.7694967337009, 132.72582294319355, 120.03846803003023, 376.33957691457255, 94.49246835425427, 188.40243682735374, 465.0429001651142, 252.44225982510488, 119.1156895065597, 524.7607688335505, 89.34095863743484, 68.46390109410476, 643.9738953062315, 2970.01370553725, 152.25677334158797, 65.28336704287783, 1800.6109613776289, 140.24739671164474, 158.54577102263278, 327.87923113193887, 1186.9302739005589, 949.8087156884976, 416.66965432031, 593.5454624133566, 1018.9784284750768, 3783.1149429603747, 927.1948921338626, 599.6884372462382, 444.3393517077552, 942.1422987416099, 388.41020418047697, 1299.9337989859528, 1657.9239838756944, 1409.620513301132, 1080.2005034887018, 2138.6335716544845, 926.731025835928, 812.7961115989201, 695.9011011451835, 499.286223824923, 736.1987472770459, 858.6468513384827, 717.8517069649735, 177.76880313822917, 77.54940799200502, 72.48330497698085, 65.13401167029116, 60.03319850847882, 54.59923401744105, 208.7171771757707, 45.205458784623175, 41.059018994498665, 39.78988054425852, 39.78280804799009, 39.23605457409593, 38.82250403961781, 38.8183598954905, 33.93812946784164, 33.868666616883914, 33.697842309772504, 32.35701079760295, 32.02546029064267, 29.308893987665204, 29.191138730900004, 26.68566941801609, 26.371072425177925, 25.971856190035375, 24.96260142165071, 24.85263677793192, 24.840395152283385, 24.245366464559453, 24.217414054943738, 73.90339676894152, 55.90626078676772, 71.25840835506249, 491.59936018818024, 150.45780703028547, 495.86332065704255, 173.6448237246838, 59.786236496019505, 280.7010199056917, 106.85917835478111, 707.4705707439667, 85.20896953108607, 108.15164189519457, 2970.01370553725, 84.47031318087797, 942.6434016250911, 176.7895120294154, 851.0262139996436, 190.0769064922874, 458.8716729114447, 273.283218009382, 557.5325319289351, 3783.1149429603747, 1409.620513301132, 1657.9239838756944, 1037.6675423287634, 2138.6335716544845, 892.3728154478838, 1240.8209316794762, 286.33459819597056, 413.23394081592573, 1018.9784284750768, 439.86468283716545, 599.6884372462382, 411.9414903134729, 893.9551075285793, 1039.6379749523562, 543.1587638473995, 1299.9337989859528, 926.731025835928, 942.1422987416099, 1080.2005034887018, 968.5111924648779, 1142.8264469924961, 1562.7136060522535, 102.47754429700838, 146.14266990748268, 80.35386920950805, 76.55696920645076, 46.598564957901786, 42.391760978101715, 39.76666935396211, 39.733958362052164, 145.11638942993335, 36.38821728743478, 35.252345130495215, 34.33644208296007, 32.85691219875145, 32.40642438523238, 30.554261711452405, 29.25876235710026, 29.59404191521073, 28.471742097650207, 28.153308635002, 28.098590477025905, 27.974805809260676, 27.278247847683584, 27.104725501157507, 26.64201202330985, 26.484002974726348, 26.111147922428145, 26.111147922428145, 26.111147922428145, 24.95027301559202, 24.217387664930243, 77.1266931919396, 260.9813641641016, 48.180936892536735, 49.4444881624237, 50.24843275560162, 216.70062679067271, 57.368045803552725, 143.98559489374992, 37.06509847819826, 45.556992748335915, 126.35767595511564, 58.44073400970091, 48.30642399513734, 188.14953657614794, 81.2198993911352, 315.01850547997174, 95.73511088369682, 123.03618403598118, 892.3728154478838, 427.56655632264045, 208.80986326124568, 103.60314886792725, 812.7961115989201, 113.25170943385913, 1657.9239838756944, 316.2975589957005, 739.4632653038615, 635.8569472441185, 2416.6588050795085, 942.1422987416099, 179.87222042546853, 269.11390711466885, 2138.6335716544845, 426.9170091042168, 3783.1149429603747, 893.9551075285793, 1037.6675423287634, 700.6694803132798, 1142.8264469924961, 1240.8209316794762, 1080.2005034887018, 833.5550107927102, 498.75481801170315, 916.4801032311155, 144.64108251792146, 71.99560632475288, 57.513916894669414, 52.38747019284767, 50.94507223875469, 46.448845898076925, 278.23514817920193, 43.04788089735802, 37.66878710147246, 36.160670054998704, 34.10597893996159, 32.393694271721316, 955.1249802682871, 31.309977934984197, 30.808125457779468, 30.756420523000852, 30.749885300391764, 30.4176253455321, 29.008120116514224, 26.303837566141823, 26.210979737982765, 26.149463353359252, 25.622426688766343, 23.340768718590077, 22.988393183737784, 22.062144769163794, 21.988240932545015, 21.549670415061605, 19.348462369915847, 18.973064175548764, 73.0060900692513, 585.4313757500433, 75.57493499199376, 124.20605322149704, 231.13123876776663, 766.1730128008335, 147.7488893200118, 139.3207015645283, 99.46962216718345, 140.89845368102021, 341.06957778189746, 198.271048391478, 1800.6109613776289, 228.32686948590413, 334.9037250591263, 84.9812589290601, 339.41316553903306, 151.53620987372233, 1240.8209316794762, 714.0567957945252, 105.26710577033006, 261.4185670763462, 2970.01370553725, 457.33169054413247, 611.4616683023114, 724.3169286678205, 1080.2005034887018, 599.0887339775599, 422.9740329252664, 1083.370895666406, 403.11500788026154, 1015.6406904681154, 3783.1149429603747, 1299.9337989859528, 1000.0510627159271, 426.2302283718932, 314.5724899314738, 218.81470535609105, 96.9818820391684, 94.62163195176237, 92.42757817921373, 84.26502743230925, 60.22219489003205, 54.83990265387719, 51.39198890839755, 48.647816722139055, 48.42313291257027, 36.09693249983113, 32.753077016046625, 31.444352789598774, 30.959595983799293, 28.89778220404461, 27.946442525875188, 27.372632476597705, 26.390802313552452, 25.408967950986852, 22.256046001076726, 21.70052393868438, 20.362958032063023, 138.78455321897496, 18.06485807437374, 18.00460610537192, 18.466427190299633, 17.58048211368521, 167.70656574690753, 111.66648455043415, 62.832597082531244, 148.28452328340856, 58.114298687567086, 255.8542288312853, 125.15349266282479, 48.04563877066959, 354.8726788608214, 83.68056769053119, 199.38715399185264, 838.2379443704046, 513.7058227331243, 345.4727213913707, 361.12109681138827, 893.9551075285793, 1649.3175911513365, 987.670900414277, 768.1099317722529, 155.0758748082517, 1132.2157680054563, 249.5415496994237, 387.23816083932473, 2416.6588050795085, 1562.7136060522535, 475.2879054168562, 630.0869293395614, 1000.0510627159271, 1131.6957359452188, 1142.8264469924961, 826.2774622872329, 833.5550107927102, 194.9096699613826, 164.18375472038173, 122.13131083074498, 100.88299166117064, 53.053478235173785, 52.265629231802016, 52.263724705075866, 40.71722949357216, 39.759093241887946, 37.80825427151124, 36.97194683995739, 34.85015385397402, 34.53798247478927, 247.48718286950935, 31.44962303931643, 30.764841146711575, 30.26478830452519, 30.136007418478698, 28.063957996965886, 25.93361646323438, 25.533981496445428, 25.41082858460173, 166.75625401418327, 25.193853315083135, 24.727644500382088, 22.2424720222736, 21.50344050530955, 21.36813198282355, 21.267946907245236, 20.922158281816756, 335.00706574695846, 345.8978573399058, 78.41929793211952, 79.92745561102471, 264.20086569805716, 46.93166177797353, 128.82877765945466, 525.3553487611582, 33.39831001364405, 367.7781337073305, 109.38641296322933, 275.3699084850462, 61.62816901503685, 347.9542395722868, 419.19489647324133, 178.17904580077524, 484.35090047491417, 3783.1149429603747, 579.6683830277345, 247.484732106513, 916.4801032311155, 229.34835071955717, 739.4632653038615, 1037.6675423287634, 2138.6335716544845, 2416.6588050795085, 687.032561340118, 513.7058227331243, 711.5132989464897, 330.8555080864234, 968.5111924648779, 956.1133129134797, 334.9037250591263, 537.398281397874, 174.79062451749795, 205.00376670665094, 74.14242151489024, 61.94101518017088, 53.27539450750444, 48.30870891682981, 48.30870891682981, 48.252881777751476, 47.80371764380465, 47.662410356062644, 47.662410356062644, 44.52131588538853, 40.362270927882264, 308.1510169505636, 39.48938774203408, 37.42356368382071, 37.38944443770662, 37.23107340816128, 36.84500254873515, 35.60424717135499, 34.55537935251495, 34.36338067735973, 32.690799456218045, 30.85493582905732, 41.596161319876586, 29.10145924291596, 28.33055900531321, 27.93728444273454, 552.8118769273119, 26.73970413346077, 114.32727956513956, 114.73947253198841, 240.16047310232833, 225.75351749335707, 57.004994414705244, 252.70884101625208, 110.37113204093244, 236.41632637044225, 394.19370228356865, 1800.6109613776289, 74.27142636572339, 53.33745883928095, 611.4616683023114, 724.3169286678205, 80.44662123320319, 2970.01370553725, 1241.0745866215861, 327.87923113193887, 311.8602952250811, 474.6451276300225, 188.79541255823787, 1015.6406904681154, 218.90511004119122, 492.69282266459754, 593.5454624133566, 711.5132989464897, 2138.6335716544845, 363.51896418938003, 3783.1149429603747, 1083.370895666406, 1657.9239838756944, 956.1133129134797, 1037.6675423287634, 1080.2005034887018, 232.25371319381946, 105.64062660448451, 79.4858690370239, 71.3672013132029, 63.77314133495261, 272.2329060373502, 49.085030903138055, 48.21594971807495, 45.895700818777144, 44.91925415401901, 43.26540310196055, 42.87007794099015, 39.47514232907653, 36.26222568132047, 35.716166307577794, 33.86747035810914, 32.210045157196824, 30.46962204769094, 30.363038236237934, 30.1156859752011, 29.307283873775717, 58.30985269405028, 25.910466802054987, 25.44561518257915, 23.925575168133932, 23.25196302490405, 22.883830692891408, 22.72325424034132, 21.77896355003652, 21.540669976175327, 60.62160180589493, 68.06827228739034, 298.99084084842394, 39.458162402872134, 624.7920022074236, 94.72079429563625, 75.71782931179415, 79.93110202101735, 239.4458773882296, 439.86468283716545, 87.51381526044396, 275.18861962686935, 114.12543576598655, 543.1587638473995, 630.0869293395614, 172.81084856052055, 274.74970400168974, 315.75530718200514, 136.76029946498582, 176.5175794528119, 1012.5482810597699, 537.398281397874, 436.8922680903424, 1649.3175911513365, 393.5855730815828, 495.86332065704255, 303.08441828538565, 341.7406201565441, 1142.8264469924961, 249.37626006056547, 1132.2157680054563, 956.1133129134797, 314.0069014789953, 838.2379443704046, 1575.6058446432555, 80.19252059458869, 53.36094327746167, 49.2138390583662, 47.5283344634189, 38.629336938086546, 36.39335196549577, 36.34177950328771, 31.243387186091738, 33.24792193814888, 28.114807088075665, 27.441863248392927, 26.962296613273637, 26.162972829713265, 25.862778967902898, 41.59697220866454, 24.270122341166115, 21.731256537735813, 20.838528266307982, 20.51267182830034, 20.255490932573345, 19.35644755862903, 19.243184845916964, 18.990573617638052, 18.900717860806186, 18.515732377681307, 18.03490123608057, 17.999084961967462, 17.86276804382746, 17.632607888638347, 17.53250374723951, 70.71430605856922, 49.00481356313097, 40.65512646230802, 44.027760364788925, 69.89711770723949, 58.19725405925343, 80.00048664944683, 54.59126836222948, 48.084663282552896, 53.81329599883411, 29.42324527434311, 85.27598631346912, 71.06480205079491, 254.32051400592044, 188.79541255823787, 278.0458112843919, 130.4062396693208, 637.5802621154602, 77.19036931759, 84.54901788974281, 875.6987534286083, 892.3728154478838, 475.2879054168562, 165.00845337629983, 812.7961115989201, 211.5249845216556, 268.69530270438446, 104.94966464828222, 333.15217612854843, 354.9336920319009, 172.7489468727941, 411.9414903134729, 519.8224805638455, 394.19370228356865, 605.7971886347319, 1142.8264469924961, 1409.620513301132, 329.2358097576969, 956.1133129134797, 213.5088429528547, 493.69885554742785, 104.04898471873331, 103.25317167277912, 83.05899672776852, 55.18888845476846, 54.46844888131872, 50.41266852858161, 49.67859515973847, 44.93345239453797, 120.9924567849879, 36.401089308219554, 34.546113720325174, 82.70931277725343, 29.008783766365845, 26.116098163205017, 120.07963076472255, 24.901291148900746, 24.5711911557951, 23.120816376706934, 23.03764172108835, 22.876381617480124, 21.382005754218138, 21.072979821860166, 20.22177071359698, 19.88366940593256, 17.76746462846486, 17.42469412616907, 17.402845725299475, 16.76171172749642, 16.63817161407329, 16.524794930419517, 70.93718565623985, 17.402760768998185, 47.375530173014965, 17.85448773027785, 797.5679557450187, 42.28861271066593, 91.2048152056281, 45.61578349528543, 58.505988542613544, 38.95395605027278, 195.4646501064726, 359.00044103591637, 184.57562609737147, 104.15550035953835, 458.8716729114447, 205.32481742010614, 114.76902733367034, 686.9885101172865, 333.15217612854843, 268.21379518197125, 746.7485907176281, 637.5802621154602, 519.8224805638455, 185.6742455655235, 400.64518313502504, 2138.6335716544845, 1186.9302739005589, 1132.2157680054563, 1142.8264469924961, 826.2774622872329, 3783.1149429603747, 273.04881595968425, 942.6434016250911, 103.20571266127935, 90.88303157642795, 89.0961407958218, 88.73572375237335, 70.8594056180533, 58.16924181545083, 53.139083053488655, 52.65038946879487, 125.76191943699178, 41.61101902852691, 40.658961511175804, 37.39022052545012, 37.356773196967495, 37.040564770785096, 32.031015854238845, 204.89806203454503, 125.06915862911426, 35.89242990980567, 25.971463680804284, 306.55097899700297, 24.387410044702527, 24.271464188564106, 24.088015009116187, 23.5887960940285, 22.300892345033336, 20.45813504625317, 19.731953644146966, 19.45749975666095, 19.263111950946303, 18.58755709699423, 91.26020188147021, 82.14022383042361, 37.84911665210022, 94.78264651861812, 56.95210471792531, 81.69860858806275, 70.36809914921972, 87.11522558713445, 81.89014100397458, 203.82404231676318, 249.67381677086252, 286.30715087453825, 233.64338828522034, 878.7372038821842, 1015.6406904681154, 1083.370895666406, 361.82436431415414, 262.8035377939901, 214.02831245382774, 1562.7136060522535, 630.0869293395614, 581.0598771262192, 1186.9302739005589, 332.01757622494557, 513.735617975987, 1131.6957359452188, 956.1133129134797, 1142.8264469924961, 74.7475600630206, 52.994868090641944, 43.07590536572095, 35.96468288360988, 35.49242302287935, 31.294185238843482, 26.990871432529204, 26.258514677117493, 25.01274101698915, 24.951704746597382, 21.745478704501398, 21.332169565834324, 21.312724073357362, 19.321001711867208, 19.020534520483608, 18.011590670446697, 17.764598318892624, 17.67952103060372, 16.448908599173468, 16.286670116804, 15.962075205193834, 15.336049326750812, 14.852075898041795, 14.714702995669679, 14.332938052715422, 13.93517056562502, 13.746495710468446, 13.695470785422492, 12.989988213941238, 12.842242544479168, 139.27486432859934, 54.999672027478724, 24.309830224124855, 260.51250090038803, 81.21146052528022, 50.437781055154716, 40.88563437165251, 81.98360472619929, 72.8180557075308, 316.0483068034893, 278.76115508608916, 268.664779023243, 247.484732106513, 236.41632637044225, 151.53620987372233, 122.07115195127368, 394.19370228356865, 107.65511681790689, 270.7842020939262, 155.02113838118498, 71.35984914393765, 1409.620513301132, 103.97394424385233, 2138.6335716544845, 300.81468928242816, 190.0769064922874, 3783.1149429603747, 519.8224805638455, 286.30715087453825, 746.7485907176281, 927.1948921338626, 926.731025835928, 949.8087156884976, 1039.6379749523562, 93.76535859103834, 105.6391369239212, 157.88850977325424, 52.220272230529346, 53.307300067485556, 53.307300067485556, 40.80229159764331, 106.18787600880015, 33.99693612779172, 32.758977355641115, 28.605719284957903, 28.389191338649567, 27.51599165305682, 27.119722382209282, 24.314180496279086, 24.243394220380253, 57.56466080545707, 23.25393433686039, 22.531917301525656, 21.30629724629474, 20.57203214456787, 20.57203214456787, 20.57203214456787, 19.334997820528322, 18.03134359562678, 17.25761764850006, 15.641040664548914, 14.8561992315375, 14.785444522088952, 14.607332662613448, 289.7728794450388, 31.912514677651476, 26.705357001198465, 34.053403624441636, 27.531637951825328, 55.70639785131002, 56.37081504853743, 66.49766045934896, 139.1903971491928, 514.9684011289969, 80.78342324136814, 89.8840257931794, 1015.6406904681154, 1562.7136060522535, 300.81468928242816, 733.0542875973506, 383.3513176350716, 437.4196793284631, 258.4999963733512, 1649.3175911513365, 316.2975589957005, 739.4632653038615, 351.28570688299163, 176.10671014934917, 104.95050563082938, 96.42249447906939, 89.99528760870517, 84.07484653834396, 66.79133684663644, 50.57082168975922, 44.4026288406052, 43.580744952345825, 40.330254335125076, 83.86519064160994, 33.48952605476313, 33.30274565144151, 30.82768141408519, 30.749317814418976, 30.316870257962787, 26.77504125155001, 26.072547406137428, 25.7579517732462, 25.69667918547015, 24.51596856830496, 22.44620619856593, 22.383658978133983, 30.66435736052546, 20.894021385968053, 20.686668495191768, 20.6789730549243, 19.352725709538127, 18.34415163050802, 18.09680257402005, 285.286156745577, 64.99186040731462, 27.794353259080133, 304.9822893811654, 108.98431043883237, 77.26589724637613, 413.23394081592573, 557.5325319289351, 1039.6379749523562, 145.20574924799985, 111.52253691851296, 916.4801032311155, 448.22799692997944, 93.40780574280048, 192.02194298227099, 3783.1149429603747, 565.4369892311128, 405.31187532272736, 434.7690530604655, 838.2379443704046, 133.7220498486436, 1562.7136060522535, 89.22722436544606, 60.12159555143348, 57.28395989096828, 28.46680644042613, 22.76637988071058, 21.09471732307011, 19.08111817683607, 17.502636097010946, 16.713849576284876, 15.19395855152816, 14.345677972575016, 14.33661571497244, 13.727430966941427, 12.76719951139792, 10.993869596217241, 10.100477471640035, 134.24036005000326, 9.831980385410922, 9.610240786277092, 9.44257459265515, 9.372688350677485, 9.075409281352256, 8.820999749723057, 8.601843855311223, 8.286169354918123, 8.286169396063793, 8.286169396063793, 8.280595971755671, 8.03176111901434, 7.920935381789956, 42.45936017649899, 20.401445652986293, 13.47203479228225, 41.29636670892207, 256.02490966208256, 199.37713200881555, 42.6549973946086, 71.59732630883067, 252.70884101625208, 35.55557928582741, 2970.01370553725, 635.8569472441185, 123.42259498439913, 268.664779023243, 1018.9784284750768, 1132.2157680054563, 987.670900414277, 378.6583925177159, 301.39538635991454, 1080.2005034887018, 260.51250090038803, 315.75530718200514, 1575.6058446432555, 599.6884372462382, 2138.6335716544845, 774.6802189376689, 291.27731571165447, 916.4801032311155, 1586.2230452453014, 3783.1149429603747, 312.4242366335331, 851.0262139996436, 37.2539707584265, 25.952449998787948, 25.145511578974173, 17.073210253745703, 15.458747831217124, 15.458747831217124, 15.458747831217124, 15.35501676029607, 14.65151841785524, 13.844287206590952, 13.844287206590952, 13.844287206590952, 12.229825683013573, 12.229825683013573, 11.422596269651688, 11.422596269651688, 11.422596269651688, 11.422596269651688, 11.422596269651688, 11.422596269651688, 11.05701350554392, 10.6153659573386, 10.6153659573386, 10.6153659573386, 10.6153659573386, 10.6153659573386, 10.6153659573386, 9.808135645025516, 9.808135645025516, 9.352655858272254, 32.773937037275886, 279.98571389753147, 103.97394424385233, 59.297315825527676, 323.4461265152458, 71.90915664188955, 45.444681535954416, 1409.620513301132, 125.12899994342818, 99.31413279809148, 461.8940563782435, 36.42444527525873, 168.3053791326212, 361.0553428209008, 137.05543913446823, 369.8227044892221, 58.49650753318533, 1012.5482810597699, 353.9746276548355, 274.2231111410373, 1241.0745866215861, 3783.1149429603747, 942.6434016250911, 54.86502341405629, 41.710140284691555, 41.710140284691555, 39.09357717398575, 25.421377077155896, 25.39752172693508, 21.670436283679813, 17.543314052896054, 17.24121465616958, 17.24121465616958, 17.24121465616958, 17.24121465616958, 14.181731045948185, 11.714355942570249, 10.210733009775334, 9.084908692367145, 8.39566269006048, 8.39566269006048, 7.565989239047105, 6.908278841914572, 6.303758272672362, 5.906642332379807, 5.809539743984365, 5.809539743984365, 5.458259884935472, 5.144293449658236, 5.138648564026406, 5.062079953559315, 4.28160362207546, 4.247295430353054, 27.409736275664542, 76.292522549969, 71.66465093105298, 89.61088665323008, 183.07018691507554, 82.5011183945776, 49.34414930646119, 13.444836467681373, 233.64338828522034, 29.410670772927013, 354.8726788608214, 260.2561678750771, 27.734023252510354, 146.71870256261764, 97.06167254554082, 405.31187532272736, 105.33209826140546, 1015.6406904681154, 216.0240470024432, 1649.3175911513365, 746.7485907176281, 766.1730128008335, 764.0821919079688, 1132.2157680054563, 426.9335124067215, 833.5550107927102], \"Category\": [\"Default\", \"Default\", \"Default\", \"Default\", \"Default\", \"Default\", \"Default\", \"Default\", \"Default\", \"Default\", \"Default\", \"Default\", \"Default\", \"Default\", \"Default\", \"Default\", \"Default\", \"Default\", \"Default\", \"Default\", \"Default\", \"Default\", \"Default\", \"Default\", \"Default\", \"Default\", \"Default\", \"Default\", \"Default\", \"Default\", \"Topic1\", \"Topic1\", \"Topic1\", \"Topic1\", \"Topic1\", \"Topic1\", \"Topic1\", \"Topic1\", \"Topic1\", \"Topic1\", \"Topic1\", \"Topic1\", \"Topic1\", \"Topic1\", \"Topic1\", \"Topic1\", \"Topic1\", \"Topic1\", \"Topic1\", \"Topic1\", \"Topic1\", \"Topic1\", \"Topic1\", \"Topic1\", \"Topic1\", \"Topic1\", \"Topic1\", \"Topic1\", \"Topic1\", \"Topic1\", \"Topic1\", \"Topic1\", \"Topic1\", \"Topic1\", \"Topic1\", \"Topic1\", \"Topic1\", \"Topic1\", \"Topic1\", \"Topic1\", \"Topic1\", \"Topic1\", \"Topic1\", \"Topic1\", \"Topic1\", \"Topic1\", \"Topic1\", \"Topic1\", \"Topic1\", \"Topic1\", \"Topic1\", \"Topic1\", \"Topic1\", \"Topic1\", \"Topic1\", \"Topic1\", \"Topic1\", \"Topic1\", \"Topic1\", \"Topic1\", \"Topic1\", \"Topic1\", \"Topic1\", \"Topic1\", \"Topic1\", \"Topic1\", \"Topic1\", \"Topic1\", \"Topic1\", \"Topic1\", \"Topic1\", \"Topic2\", \"Topic2\", \"Topic2\", \"Topic2\", \"Topic2\", \"Topic2\", \"Topic2\", \"Topic2\", \"Topic2\", \"Topic2\", \"Topic2\", \"Topic2\", \"Topic2\", \"Topic2\", \"Topic2\", \"Topic2\", \"Topic2\", \"Topic2\", \"Topic2\", \"Topic2\", \"Topic2\", \"Topic2\", \"Topic2\", \"Topic2\", \"Topic2\", \"Topic2\", \"Topic2\", \"Topic2\", \"Topic2\", \"Topic2\", \"Topic2\", \"Topic2\", \"Topic2\", \"Topic2\", \"Topic2\", \"Topic2\", \"Topic2\", \"Topic2\", \"Topic2\", \"Topic2\", \"Topic2\", \"Topic2\", \"Topic2\", \"Topic2\", \"Topic2\", \"Topic2\", \"Topic2\", \"Topic2\", \"Topic2\", \"Topic2\", \"Topic2\", \"Topic2\", \"Topic2\", \"Topic2\", \"Topic2\", \"Topic2\", \"Topic2\", \"Topic2\", \"Topic2\", \"Topic2\", \"Topic2\", \"Topic2\", \"Topic2\", \"Topic2\", \"Topic2\", \"Topic2\", \"Topic2\", \"Topic2\", \"Topic2\", \"Topic2\", \"Topic2\", \"Topic2\", \"Topic2\", \"Topic2\", \"Topic2\", \"Topic2\", \"Topic2\", \"Topic2\", \"Topic2\", \"Topic3\", \"Topic3\", \"Topic3\", \"Topic3\", \"Topic3\", \"Topic3\", \"Topic3\", \"Topic3\", \"Topic3\", \"Topic3\", \"Topic3\", \"Topic3\", \"Topic3\", \"Topic3\", \"Topic3\", \"Topic3\", \"Topic3\", \"Topic3\", \"Topic3\", \"Topic3\", \"Topic3\", \"Topic3\", \"Topic3\", \"Topic3\", \"Topic3\", \"Topic3\", \"Topic3\", \"Topic3\", \"Topic3\", \"Topic3\", \"Topic3\", \"Topic3\", \"Topic3\", \"Topic3\", \"Topic3\", \"Topic3\", \"Topic3\", \"Topic3\", \"Topic3\", \"Topic3\", \"Topic3\", \"Topic3\", \"Topic3\", \"Topic3\", \"Topic3\", \"Topic3\", \"Topic3\", \"Topic3\", \"Topic3\", \"Topic3\", \"Topic3\", \"Topic3\", \"Topic3\", \"Topic3\", \"Topic3\", \"Topic3\", \"Topic3\", \"Topic3\", \"Topic3\", \"Topic3\", \"Topic3\", \"Topic3\", \"Topic3\", \"Topic3\", \"Topic3\", \"Topic3\", \"Topic3\", \"Topic3\", \"Topic3\", \"Topic3\", \"Topic3\", \"Topic3\", \"Topic3\", \"Topic3\", \"Topic4\", \"Topic4\", \"Topic4\", \"Topic4\", \"Topic4\", \"Topic4\", \"Topic4\", \"Topic4\", \"Topic4\", \"Topic4\", \"Topic4\", \"Topic4\", \"Topic4\", \"Topic4\", \"Topic4\", \"Topic4\", \"Topic4\", \"Topic4\", \"Topic4\", \"Topic4\", \"Topic4\", \"Topic4\", \"Topic4\", \"Topic4\", \"Topic4\", \"Topic4\", \"Topic4\", \"Topic4\", \"Topic4\", \"Topic4\", \"Topic4\", \"Topic4\", \"Topic4\", \"Topic4\", \"Topic4\", \"Topic4\", \"Topic4\", \"Topic4\", \"Topic4\", \"Topic4\", \"Topic4\", \"Topic4\", \"Topic4\", \"Topic4\", \"Topic4\", \"Topic4\", \"Topic4\", \"Topic4\", \"Topic4\", \"Topic4\", \"Topic4\", \"Topic4\", \"Topic4\", \"Topic4\", \"Topic4\", \"Topic4\", \"Topic4\", \"Topic4\", \"Topic4\", \"Topic4\", \"Topic4\", \"Topic4\", \"Topic4\", \"Topic4\", \"Topic4\", \"Topic4\", \"Topic4\", \"Topic4\", \"Topic4\", \"Topic4\", \"Topic4\", \"Topic4\", \"Topic4\", \"Topic5\", \"Topic5\", \"Topic5\", \"Topic5\", \"Topic5\", \"Topic5\", \"Topic5\", \"Topic5\", \"Topic5\", \"Topic5\", \"Topic5\", \"Topic5\", \"Topic5\", \"Topic5\", \"Topic5\", \"Topic5\", \"Topic5\", \"Topic5\", \"Topic5\", \"Topic5\", \"Topic5\", \"Topic5\", \"Topic5\", \"Topic5\", \"Topic5\", \"Topic5\", \"Topic5\", \"Topic5\", \"Topic5\", \"Topic5\", \"Topic5\", \"Topic5\", \"Topic5\", \"Topic5\", \"Topic5\", \"Topic5\", \"Topic5\", \"Topic5\", \"Topic5\", \"Topic5\", \"Topic5\", \"Topic5\", \"Topic5\", \"Topic5\", \"Topic5\", \"Topic5\", \"Topic5\", \"Topic5\", \"Topic5\", \"Topic5\", \"Topic5\", \"Topic5\", \"Topic5\", \"Topic5\", \"Topic5\", \"Topic5\", \"Topic5\", \"Topic5\", \"Topic5\", \"Topic5\", \"Topic5\", \"Topic5\", \"Topic5\", \"Topic5\", \"Topic5\", \"Topic5\", \"Topic5\", \"Topic5\", \"Topic5\", \"Topic5\", \"Topic5\", \"Topic5\", \"Topic5\", \"Topic5\", \"Topic5\", \"Topic6\", \"Topic6\", \"Topic6\", \"Topic6\", \"Topic6\", \"Topic6\", \"Topic6\", \"Topic6\", \"Topic6\", \"Topic6\", \"Topic6\", \"Topic6\", \"Topic6\", \"Topic6\", \"Topic6\", \"Topic6\", \"Topic6\", \"Topic6\", \"Topic6\", \"Topic6\", \"Topic6\", \"Topic6\", \"Topic6\", \"Topic6\", \"Topic6\", \"Topic6\", \"Topic6\", \"Topic6\", \"Topic6\", \"Topic6\", \"Topic6\", \"Topic6\", \"Topic6\", \"Topic6\", \"Topic6\", \"Topic6\", \"Topic6\", \"Topic6\", \"Topic6\", \"Topic6\", \"Topic6\", \"Topic6\", \"Topic6\", \"Topic6\", \"Topic6\", \"Topic6\", \"Topic6\", \"Topic6\", \"Topic6\", \"Topic6\", \"Topic6\", \"Topic6\", \"Topic6\", \"Topic6\", \"Topic6\", \"Topic6\", \"Topic6\", \"Topic6\", \"Topic6\", \"Topic6\", \"Topic6\", \"Topic6\", \"Topic6\", \"Topic6\", \"Topic6\", \"Topic6\", \"Topic6\", \"Topic6\", \"Topic6\", \"Topic6\", \"Topic6\", \"Topic6\", \"Topic6\", \"Topic6\", \"Topic7\", \"Topic7\", \"Topic7\", \"Topic7\", \"Topic7\", \"Topic7\", \"Topic7\", \"Topic7\", \"Topic7\", \"Topic7\", \"Topic7\", \"Topic7\", \"Topic7\", \"Topic7\", \"Topic7\", \"Topic7\", \"Topic7\", \"Topic7\", \"Topic7\", \"Topic7\", \"Topic7\", \"Topic7\", \"Topic7\", \"Topic7\", \"Topic7\", \"Topic7\", \"Topic7\", \"Topic7\", \"Topic7\", \"Topic7\", \"Topic7\", \"Topic7\", \"Topic7\", \"Topic7\", \"Topic7\", \"Topic7\", \"Topic7\", \"Topic7\", \"Topic7\", \"Topic7\", \"Topic7\", \"Topic7\", \"Topic7\", \"Topic7\", \"Topic7\", \"Topic7\", \"Topic7\", \"Topic7\", \"Topic7\", \"Topic7\", \"Topic7\", \"Topic7\", \"Topic7\", \"Topic7\", \"Topic7\", \"Topic7\", \"Topic7\", \"Topic7\", \"Topic7\", \"Topic7\", \"Topic7\", \"Topic7\", \"Topic7\", \"Topic7\", \"Topic7\", \"Topic8\", \"Topic8\", \"Topic8\", \"Topic8\", \"Topic8\", \"Topic8\", \"Topic8\", \"Topic8\", \"Topic8\", \"Topic8\", \"Topic8\", \"Topic8\", \"Topic8\", \"Topic8\", \"Topic8\", \"Topic8\", \"Topic8\", \"Topic8\", \"Topic8\", \"Topic8\", \"Topic8\", \"Topic8\", \"Topic8\", \"Topic8\", \"Topic8\", \"Topic8\", \"Topic8\", \"Topic8\", \"Topic8\", \"Topic8\", \"Topic8\", \"Topic8\", \"Topic8\", \"Topic8\", \"Topic8\", \"Topic8\", \"Topic8\", \"Topic8\", \"Topic8\", \"Topic8\", \"Topic8\", \"Topic8\", \"Topic8\", \"Topic8\", \"Topic8\", \"Topic8\", \"Topic8\", \"Topic8\", \"Topic8\", \"Topic8\", \"Topic8\", \"Topic8\", \"Topic8\", \"Topic8\", \"Topic8\", \"Topic8\", \"Topic8\", \"Topic8\", \"Topic8\", \"Topic8\", \"Topic8\", \"Topic9\", \"Topic9\", \"Topic9\", \"Topic9\", \"Topic9\", \"Topic9\", \"Topic9\", \"Topic9\", \"Topic9\", \"Topic9\", \"Topic9\", \"Topic9\", \"Topic9\", \"Topic9\", \"Topic9\", \"Topic9\", \"Topic9\", \"Topic9\", \"Topic9\", \"Topic9\", \"Topic9\", \"Topic9\", \"Topic9\", \"Topic9\", \"Topic9\", \"Topic9\", \"Topic9\", \"Topic9\", \"Topic9\", \"Topic9\", \"Topic9\", \"Topic9\", \"Topic9\", \"Topic9\", \"Topic9\", \"Topic9\", \"Topic9\", \"Topic9\", \"Topic9\", \"Topic9\", \"Topic9\", \"Topic9\", \"Topic9\", \"Topic9\", \"Topic9\", \"Topic9\", \"Topic9\", \"Topic9\", \"Topic9\", \"Topic9\", \"Topic9\", \"Topic9\", \"Topic9\", \"Topic9\", \"Topic9\", \"Topic9\", \"Topic9\", \"Topic9\", \"Topic9\", \"Topic9\", \"Topic9\", \"Topic9\", \"Topic9\", \"Topic9\", \"Topic10\", \"Topic10\", \"Topic10\", \"Topic10\", \"Topic10\", \"Topic10\", \"Topic10\", \"Topic10\", \"Topic10\", \"Topic10\", \"Topic10\", \"Topic10\", \"Topic10\", \"Topic10\", \"Topic10\", \"Topic10\", \"Topic10\", \"Topic10\", \"Topic10\", \"Topic10\", \"Topic10\", \"Topic10\", \"Topic10\", \"Topic10\", \"Topic10\", \"Topic10\", \"Topic10\", \"Topic10\", \"Topic10\", \"Topic10\", \"Topic10\", \"Topic10\", \"Topic10\", \"Topic10\", \"Topic10\", \"Topic10\", \"Topic10\", \"Topic10\", \"Topic10\", \"Topic10\", \"Topic10\", \"Topic10\", \"Topic10\", \"Topic10\", \"Topic10\", \"Topic10\", \"Topic10\", \"Topic10\", \"Topic10\", \"Topic10\", \"Topic10\", \"Topic10\", \"Topic10\", \"Topic10\", \"Topic10\", \"Topic10\", \"Topic10\", \"Topic10\", \"Topic10\", \"Topic10\", \"Topic10\", \"Topic10\", \"Topic10\", \"Topic10\", \"Topic11\", \"Topic11\", \"Topic11\", \"Topic11\", \"Topic11\", \"Topic11\", \"Topic11\", \"Topic11\", \"Topic11\", \"Topic11\", \"Topic11\", \"Topic11\", \"Topic11\", \"Topic11\", \"Topic11\", \"Topic11\", \"Topic11\", \"Topic11\", \"Topic11\", \"Topic11\", \"Topic11\", \"Topic11\", \"Topic11\", \"Topic11\", \"Topic11\", \"Topic11\", \"Topic11\", \"Topic11\", \"Topic11\", \"Topic11\", \"Topic11\", \"Topic11\", \"Topic11\", \"Topic11\", \"Topic11\", \"Topic11\", \"Topic11\", \"Topic11\", \"Topic11\", \"Topic11\", \"Topic11\", \"Topic11\", \"Topic11\", \"Topic11\", \"Topic11\", \"Topic11\", \"Topic11\", \"Topic11\", \"Topic11\", \"Topic11\", \"Topic11\", \"Topic11\", \"Topic11\", \"Topic11\", \"Topic11\", \"Topic11\", \"Topic11\", \"Topic11\", \"Topic11\", \"Topic11\", \"Topic11\", \"Topic11\", \"Topic11\", \"Topic11\", \"Topic11\", \"Topic12\", \"Topic12\", \"Topic12\", \"Topic12\", \"Topic12\", \"Topic12\", \"Topic12\", \"Topic12\", \"Topic12\", \"Topic12\", \"Topic12\", \"Topic12\", \"Topic12\", \"Topic12\", \"Topic12\", \"Topic12\", \"Topic12\", \"Topic12\", \"Topic12\", \"Topic12\", \"Topic12\", \"Topic12\", \"Topic12\", \"Topic12\", \"Topic12\", \"Topic12\", \"Topic12\", \"Topic12\", \"Topic12\", \"Topic12\", \"Topic12\", \"Topic12\", \"Topic12\", \"Topic12\", \"Topic12\", \"Topic12\", \"Topic12\", \"Topic12\", \"Topic12\", \"Topic12\", \"Topic12\", \"Topic12\", \"Topic12\", \"Topic12\", \"Topic12\", \"Topic12\", \"Topic12\", \"Topic12\", \"Topic12\", \"Topic12\", \"Topic12\", \"Topic12\", \"Topic12\", \"Topic12\", \"Topic12\", \"Topic12\", \"Topic12\", \"Topic12\", \"Topic12\", \"Topic12\", \"Topic12\", \"Topic12\", \"Topic12\", \"Topic12\", \"Topic12\", \"Topic12\", \"Topic12\", \"Topic12\", \"Topic12\", \"Topic12\", \"Topic12\", \"Topic13\", \"Topic13\", \"Topic13\", \"Topic13\", \"Topic13\", \"Topic13\", \"Topic13\", \"Topic13\", \"Topic13\", \"Topic13\", \"Topic13\", \"Topic13\", \"Topic13\", \"Topic13\", \"Topic13\", \"Topic13\", \"Topic13\", \"Topic13\", \"Topic13\", \"Topic13\", \"Topic13\", \"Topic13\", \"Topic13\", \"Topic13\", \"Topic13\", \"Topic13\", \"Topic13\", \"Topic13\", \"Topic13\", \"Topic13\", \"Topic13\", \"Topic13\", \"Topic13\", \"Topic13\", \"Topic13\", \"Topic13\", \"Topic13\", \"Topic13\", \"Topic13\", \"Topic13\", \"Topic13\", \"Topic13\", \"Topic13\", \"Topic13\", \"Topic13\", \"Topic13\", \"Topic13\", \"Topic13\", \"Topic13\", \"Topic13\", \"Topic13\", \"Topic13\", \"Topic13\", \"Topic13\", \"Topic13\", \"Topic13\", \"Topic13\", \"Topic13\", \"Topic13\", \"Topic13\", \"Topic13\", \"Topic13\", \"Topic13\", \"Topic14\", \"Topic14\", \"Topic14\", \"Topic14\", \"Topic14\", \"Topic14\", \"Topic14\", \"Topic14\", \"Topic14\", \"Topic14\", \"Topic14\", \"Topic14\", \"Topic14\", \"Topic14\", \"Topic14\", \"Topic14\", \"Topic14\", \"Topic14\", \"Topic14\", \"Topic14\", \"Topic14\", \"Topic14\", \"Topic14\", \"Topic14\", \"Topic14\", \"Topic14\", \"Topic14\", \"Topic14\", \"Topic14\", \"Topic14\", \"Topic14\", \"Topic14\", \"Topic14\", \"Topic14\", \"Topic14\", \"Topic14\", \"Topic14\", \"Topic14\", \"Topic14\", \"Topic14\", \"Topic14\", \"Topic14\", \"Topic14\", \"Topic14\", \"Topic14\", \"Topic14\", \"Topic14\", \"Topic14\", \"Topic14\", \"Topic14\", \"Topic14\", \"Topic14\", \"Topic14\", \"Topic14\", \"Topic14\", \"Topic14\", \"Topic14\", \"Topic14\", \"Topic15\", \"Topic15\", \"Topic15\", \"Topic15\", \"Topic15\", \"Topic15\", \"Topic15\", \"Topic15\", \"Topic15\", \"Topic15\", \"Topic15\", \"Topic15\", \"Topic15\", \"Topic15\", \"Topic15\", \"Topic15\", \"Topic15\", \"Topic15\", \"Topic15\", \"Topic15\", \"Topic15\", \"Topic15\", \"Topic15\", \"Topic15\", \"Topic15\", \"Topic15\", \"Topic15\", \"Topic15\", \"Topic15\", \"Topic15\", \"Topic15\", \"Topic15\", \"Topic15\", \"Topic15\", \"Topic15\", \"Topic15\", \"Topic15\", \"Topic15\", \"Topic15\", \"Topic15\", \"Topic15\", \"Topic15\", \"Topic15\", \"Topic15\", \"Topic15\", \"Topic15\", \"Topic15\", \"Topic15\", \"Topic15\", \"Topic15\", \"Topic15\", \"Topic15\", \"Topic15\", \"Topic15\", \"Topic15\", \"Topic15\", \"Topic15\", \"Topic15\", \"Topic15\", \"Topic15\", \"Topic15\", \"Topic15\", \"Topic15\", \"Topic15\", \"Topic16\", \"Topic16\", \"Topic16\", \"Topic16\", \"Topic16\", \"Topic16\", \"Topic16\", \"Topic16\", \"Topic16\", \"Topic16\", \"Topic16\", \"Topic16\", \"Topic16\", \"Topic16\", \"Topic16\", \"Topic16\", \"Topic16\", \"Topic16\", \"Topic16\", \"Topic16\", \"Topic16\", \"Topic16\", \"Topic16\", \"Topic16\", \"Topic16\", \"Topic16\", \"Topic16\", \"Topic16\", \"Topic16\", \"Topic16\", \"Topic16\", \"Topic16\", \"Topic16\", \"Topic16\", \"Topic16\", \"Topic16\", \"Topic16\", \"Topic16\", \"Topic16\", \"Topic16\", \"Topic16\", \"Topic16\", \"Topic16\", \"Topic16\", \"Topic16\", \"Topic16\", \"Topic16\", \"Topic16\", \"Topic16\", \"Topic16\", \"Topic16\", \"Topic16\", \"Topic16\", \"Topic17\", \"Topic17\", \"Topic17\", \"Topic17\", \"Topic17\", \"Topic17\", \"Topic17\", \"Topic17\", \"Topic17\", \"Topic17\", \"Topic17\", \"Topic17\", \"Topic17\", \"Topic17\", \"Topic17\", \"Topic17\", \"Topic17\", \"Topic17\", \"Topic17\", \"Topic17\", \"Topic17\", \"Topic17\", \"Topic17\", \"Topic17\", \"Topic17\", \"Topic17\", \"Topic17\", \"Topic17\", \"Topic17\", \"Topic17\", \"Topic17\", \"Topic17\", \"Topic17\", \"Topic17\", \"Topic17\", \"Topic17\", \"Topic17\", \"Topic17\", \"Topic17\", \"Topic17\", \"Topic17\", \"Topic17\", \"Topic17\", \"Topic17\", \"Topic17\", \"Topic17\", \"Topic17\", \"Topic17\", \"Topic17\", \"Topic17\", \"Topic17\", \"Topic17\", \"Topic18\", \"Topic18\", \"Topic18\", \"Topic18\", \"Topic18\", \"Topic18\", \"Topic18\", \"Topic18\", \"Topic18\", \"Topic18\", \"Topic18\", \"Topic18\", \"Topic18\", \"Topic18\", \"Topic18\", \"Topic18\", \"Topic18\", \"Topic18\", \"Topic18\", \"Topic18\", \"Topic18\", \"Topic18\", \"Topic18\", \"Topic18\", \"Topic18\", \"Topic18\", \"Topic18\", \"Topic18\", \"Topic18\", \"Topic18\", \"Topic18\", \"Topic18\", \"Topic18\", \"Topic18\", \"Topic18\", \"Topic18\", \"Topic18\", \"Topic18\", \"Topic18\", \"Topic18\", \"Topic18\", \"Topic18\", \"Topic18\", \"Topic18\", \"Topic18\", \"Topic18\", \"Topic18\", \"Topic18\", \"Topic18\", \"Topic18\", \"Topic18\", \"Topic18\", \"Topic18\", \"Topic18\", \"Topic18\", \"Topic18\", \"Topic18\", \"Topic18\", \"Topic18\", \"Topic18\", \"Topic18\", \"Topic18\", \"Topic19\", \"Topic19\", \"Topic19\", \"Topic19\", \"Topic19\", \"Topic19\", \"Topic19\", \"Topic19\", \"Topic19\", \"Topic19\", \"Topic19\", \"Topic19\", \"Topic19\", \"Topic19\", \"Topic19\", \"Topic19\", \"Topic19\", \"Topic19\", \"Topic19\", \"Topic19\", \"Topic19\", \"Topic19\", \"Topic19\", \"Topic19\", \"Topic19\", \"Topic19\", \"Topic19\", \"Topic19\", \"Topic19\", \"Topic19\", \"Topic19\", \"Topic19\", \"Topic19\", \"Topic19\", \"Topic19\", \"Topic19\", \"Topic19\", \"Topic19\", \"Topic19\", \"Topic19\", \"Topic19\", \"Topic19\", \"Topic19\", \"Topic19\", \"Topic19\", \"Topic19\", \"Topic19\", \"Topic19\", \"Topic19\", \"Topic19\", \"Topic19\", \"Topic19\", \"Topic19\", \"Topic20\", \"Topic20\", \"Topic20\", \"Topic20\", \"Topic20\", \"Topic20\", \"Topic20\", \"Topic20\", \"Topic20\", \"Topic20\", \"Topic20\", \"Topic20\", \"Topic20\", \"Topic20\", \"Topic20\", \"Topic20\", \"Topic20\", \"Topic20\", \"Topic20\", \"Topic20\", \"Topic20\", \"Topic20\", \"Topic20\", \"Topic20\", \"Topic20\", \"Topic20\", \"Topic20\", \"Topic20\", \"Topic20\", \"Topic20\", \"Topic20\", \"Topic20\", \"Topic20\", \"Topic20\", \"Topic20\", \"Topic20\", \"Topic20\", \"Topic20\", \"Topic20\", \"Topic20\", \"Topic20\", \"Topic20\", \"Topic20\", \"Topic20\", \"Topic20\", \"Topic20\", \"Topic20\", \"Topic20\", \"Topic20\", \"Topic20\", \"Topic20\", \"Topic20\", \"Topic20\", \"Topic20\", \"Topic20\", \"Topic20\"], \"logprob\": [30.0, 29.0, 28.0, 27.0, 26.0, 25.0, 24.0, 23.0, 22.0, 21.0, 20.0, 19.0, 18.0, 17.0, 16.0, 15.0, 14.0, 13.0, 12.0, 11.0, 10.0, 9.0, 8.0, 7.0, 6.0, 5.0, 4.0, 3.0, 2.0, 1.0, -5.1423, -5.7061, -5.9362, -6.0966, -6.161, -6.3146, -6.3659, -6.474, -6.5423, -6.5477, -6.5737, -6.6416, -6.7107, -6.7307, -6.7393, -6.7865, -6.8206, -6.861, -6.916, -6.9337, -6.9389, -6.9642, -6.9738, -7.0368, -7.0744, -7.0763, -7.0793, -7.1186, -7.1501, -7.1615, -6.7604, -6.3567, -5.561, -4.0562, -5.4797, -6.0212, -4.818, -6.1762, -6.6996, -4.7067, -5.9705, -5.7264, -6.3688, -4.2964, -4.7649, -5.2112, -4.5236, -6.1618, -4.64, -6.05, -5.4719, -4.9595, -5.2276, -4.7872, -4.748, -4.8217, -5.3113, -5.5924, -5.1632, -5.1442, -5.5024, -5.3704, -4.7056, -5.2422, -5.3942, -5.6047, -5.1557, -5.5049, -5.3837, -5.5641, -5.5847, -5.6189, -5.9171, -6.4615, -6.5251, -6.6181, -6.6968, -6.7074, -6.7515, -6.7588, -6.8541, -6.893, -6.9007, -6.9387, -6.9726, -6.9851, -7.0111, -7.0908, -7.1015, -7.1883, -6.7165, -7.2234, -7.2755, -7.2789, -7.2797, -7.3399, -7.3399, -7.352, -7.3536, -7.3926, -7.3934, -6.174, -6.2766, -3.2095, -5.7945, -6.8314, -6.4758, -6.6999, -5.311, -3.0464, -3.4731, -5.7856, -5.1538, -4.3975, -4.8446, -5.0389, -5.6189, -5.2907, -5.3738, -4.5763, -4.4568, -6.4174, -4.569, -5.0818, -5.0474, -5.7864, -4.1217, -5.1677, -4.4689, -5.5207, -5.3474, -5.439, -4.6904, -5.3138, -5.2145, -5.2313, -4.689, -4.6993, -4.7346, -4.9261, -5.0516, -5.1805, -4.7877, -5.0719, -5.0545, -5.013, -4.6571, -5.0946, -5.0588, -5.1595, -5.3897, -5.6745, -5.6792, -5.7456, -5.7671, -5.8588, -6.1003, -6.1602, -6.191, -6.221, -5.7953, -6.3699, -6.4057, -6.5282, -6.59, -6.628, -6.6289, -6.6539, -6.7205, -6.7449, -6.773, -6.7844, -6.8419, -6.8438, -6.8709, -6.8921, -6.9537, -6.9743, -7.015, -7.0484, -6.0978, -5.8494, -5.6494, -6.5664, -6.0773, -5.9006, -5.8329, -5.087, -5.645, -5.3102, -4.8296, -6.4204, -5.3695, -6.0961, -5.5894, -5.4002, -6.0608, -5.7639, -5.1294, -5.3169, -3.6189, -4.6157, -5.6971, -5.4262, -4.5756, -5.4425, -5.2693, -5.5591, -4.5646, -5.0564, -5.2955, -5.2582, -5.2138, -5.2263, -5.3904, -5.2859, -5.4392, -5.2645, -5.4222, -5.4333, -5.409, -5.5286, -5.5362, -5.5147, -4.3477, -5.3131, -5.7411, -5.8085, -5.8132, -5.902, -5.902, -6.0531, -6.2932, -6.3763, -6.4747, -6.5961, -6.6596, -6.6633, -6.6655, -6.6787, -6.6964, -6.7131, -6.7131, -6.7131, -6.7131, -6.7276, -6.7559, -6.756, -6.7651, -6.8067, -6.8083, -6.8443, -6.846, -6.8685, -3.1653, -3.952, -5.4269, -5.525, -4.5204, -5.8648, -5.3058, -4.6002, -5.1191, -5.7248, -4.5602, -5.979, -6.185, -4.489, -3.4548, -5.6299, -6.2418, -3.908, -5.7165, -5.6405, -5.1642, -4.4295, -4.5714, -5.0695, -4.87, -4.7386, -4.115, -4.7975, -5.0253, -5.1742, -4.8768, -5.2449, -4.7741, -4.7553, -4.8139, -4.9581, -4.8225, -5.0747, -5.1221, -5.1537, -5.2264, -5.211, -5.2103, -3.652, -5.0514, -5.8873, -5.9557, -6.0639, -6.1467, -6.243, -4.9022, -6.4359, -6.5333, -6.5654, -6.5656, -6.5797, -6.5905, -6.5907, -6.7283, -6.7304, -6.7356, -6.7773, -6.7884, -6.8791, -6.8832, -6.9758, -6.9881, -7.0039, -7.0449, -7.0495, -7.05, -7.0751, -7.0763, -5.9687, -6.2585, -6.0232, -4.1572, -5.3669, -4.3402, -5.2886, -6.2556, -4.9534, -5.8227, -4.2967, -6.0267, -5.863, -3.4164, -6.0719, -4.5593, -5.6347, -4.6583, -5.5972, -5.131, -5.4421, -5.0377, -3.9941, -4.5594, -4.6014, -4.8499, -4.5349, -4.9451, -4.8513, -5.4664, -5.3478, -5.0333, -5.3534, -5.2577, -5.3788, -5.1677, -5.1431, -5.3166, -5.1499, -5.2169, -5.2244, -5.2399, -5.2699, -5.2731, -5.2798, -5.4151, -5.0624, -5.6608, -5.7098, -6.2148, -6.3105, -6.3759, -6.3767, -5.0819, -6.4675, -6.4994, -6.5264, -6.5717, -6.5859, -6.6465, -6.6911, -6.6799, -6.7193, -6.7309, -6.7329, -6.7375, -6.7635, -6.7701, -6.788, -6.7941, -6.8088, -6.8088, -6.8088, -6.8559, -6.8869, -5.7489, -4.5621, -6.2133, -6.1934, -6.1831, -4.826, -6.0735, -5.2728, -6.496, -6.3368, -5.5231, -6.1535, -6.3109, -5.2867, -5.9183, -4.9069, -5.8231, -5.6643, -4.3753, -4.8622, -5.3375, -5.8377, -4.6477, -5.8228, -4.4238, -5.3154, -5.0232, -5.1484, -4.6113, -5.0414, -5.6931, -5.5409, -4.7759, -5.3976, -4.6803, -5.1589, -5.1117, -5.2736, -5.1626, -5.1495, -5.2231, -5.2864, -5.4138, -5.3725, -4.9678, -5.6726, -5.8993, -5.9942, -6.0226, -6.1167, -4.3276, -6.1942, -6.3307, -6.3725, -6.4325, -6.4854, -3.1019, -6.5204, -6.537, -6.5388, -6.539, -6.5502, -6.5991, -6.7001, -6.7038, -6.7062, -6.7273, -6.824, -6.8398, -6.8826, -6.8861, -6.9071, -7.0197, -7.0402, -5.6984, -3.7064, -5.7149, -5.2451, -4.6963, -3.6425, -5.1721, -5.2321, -5.533, -5.3221, -4.6366, -5.0885, -3.393, -5.0217, -4.7431, -5.8123, -4.8325, -5.4391, -4.2362, -4.5987, -5.7547, -5.2497, -3.9982, -5.08, -5.03, -4.9822, -4.8477, -5.0726, -5.2164, -4.9803, -5.2569, -5.0784, -4.8591, -5.1591, -5.1837, -3.7611, -4.0657, -4.4299, -5.2489, -5.2738, -5.2975, -5.3909, -5.7312, -5.8263, -5.8924, -5.9483, -5.953, -6.2533, -6.3532, -6.3951, -6.4111, -6.4822, -6.5168, -6.5382, -6.576, -6.6153, -6.7532, -6.7795, -6.846, -4.9321, -6.9717, -6.9752, -6.9502, -7.0003, -4.7455, -5.1852, -5.752, -4.925, -5.8374, -4.4158, -5.1112, -6.0303, -4.2142, -5.5354, -4.7596, -3.6334, -4.0523, -4.3856, -4.3937, -3.6807, -3.2297, -3.9527, -4.1844, -5.2624, -4.2671, -5.0663, -4.9199, -4.0987, -4.3376, -4.8816, -4.8414, -4.713, -4.7399, -4.8338, -5.0527, -5.0871, -4.5333, -4.7057, -5.0034, -5.196, -5.8466, -5.8618, -5.8618, -6.1163, -6.1406, -6.1921, -6.215, -6.2755, -6.2848, -4.3179, -6.381, -6.4036, -6.4205, -6.4249, -6.4983, -6.5799, -6.596, -6.601, -4.7199, -6.6099, -6.6294, -6.7392, -6.7744, -6.781, -6.7859, -6.8031, -4.1346, -4.141, -5.554, -5.6131, -4.5737, -6.0832, -5.3175, -4.2078, -6.3946, -4.6097, -5.5278, -4.9005, -5.9538, -4.8311, -4.7286, -5.3211, -4.7233, -3.7786, -4.8504, -5.3096, -4.7283, -5.4019, -4.9162, -4.7823, -4.6054, -4.5677, -5.0251, -5.1221, -5.0956, -5.2815, -5.0962, -5.2133, -5.3075, -5.3034, -4.6297, -4.4726, -5.4941, -5.6762, -5.8293, -5.9289, -5.9289, -5.93, -5.9396, -5.9426, -5.9426, -6.0121, -6.1122, -4.0797, -6.1346, -6.1895, -6.1905, -6.1948, -6.2055, -6.2406, -6.2713, -6.277, -6.3282, -6.3876, -6.09, -6.4479, -6.4756, -6.49, -3.5061, -6.5353, -5.1597, -5.1962, -4.5751, -4.6459, -5.8658, -4.6643, -5.3543, -4.8371, -4.5935, -3.5838, -5.7439, -5.9721, -4.5613, -4.4758, -5.7604, -3.9233, -4.4051, -5.0718, -5.1371, -4.9784, -5.4153, -4.8278, -5.3968, -5.1232, -5.1258, -5.0824, -4.8218, -5.3052, -4.8079, -5.0758, -4.9963, -5.1393, -5.1382, -5.143, -4.1707, -4.963, -5.2507, -5.3593, -5.4733, -4.0249, -5.7393, -5.7575, -5.8077, -5.8296, -5.8679, -5.8773, -5.9616, -6.0485, -6.0641, -6.1186, -6.1702, -6.2273, -6.2309, -6.2394, -6.2674, -5.5796, -6.3947, -6.4134, -6.4773, -6.5069, -6.5235, -6.5309, -6.5751, -6.5865, -5.5824, -5.4761, -4.0583, -6.0151, -3.4763, -5.2387, -5.4961, -5.4627, -4.5647, -4.1165, -5.3942, -4.4979, -5.2209, -4.1901, -4.1131, -5.0192, -4.7902, -4.727, -5.2912, -5.1964, -4.4105, -4.7238, -4.828, -4.3175, -4.9232, -4.9259, -5.1038, -5.1116, -4.8428, -5.2658, -5.0476, -5.1406, -5.2569, -5.2434, -5.2414, -5.0932, -5.5063, -5.5886, -5.6241, -5.8359, -5.897, -5.8984, -6.0537, -5.9926, -6.1625, -6.1876, -6.2058, -6.237, -6.2489, -5.775, -6.3148, -6.4298, -6.4736, -6.4901, -6.5033, -6.5509, -6.557, -6.5709, -6.5759, -6.5975, -6.6252, -6.6273, -6.6353, -6.6489, -6.6549, -5.2689, -5.6529, -5.8389, -5.7713, -5.3577, -5.5324, -5.3067, -5.67, -5.7829, -5.6967, -6.1992, -5.3459, -5.5284, -4.547, -4.7796, -4.5155, -5.0981, -3.9804, -5.4766, -5.4342, -3.9047, -4.0304, -4.4267, -5.0685, -4.2168, -5.0119, -4.9714, -5.425, -5.0206, -5.0599, -5.4476, -5.2697, -5.2266, -5.3055, -5.2496, -5.2291, -5.2352, -5.3779, -5.3036, -5.4217, -5.4098, -4.793, -4.8008, -5.0205, -5.4347, -5.4481, -5.5268, -5.5417, -5.644, -4.6539, -5.8593, -5.9129, -5.0408, -6.0926, -6.2012, -4.677, -6.2505, -6.2643, -6.3275, -6.3313, -6.3386, -6.4089, -6.4241, -6.4672, -6.4848, -6.6029, -6.6234, -6.6247, -6.6643, -6.6721, -6.6793, -5.2529, -6.6296, -5.6995, -6.607, -3.2712, -5.876, -5.2559, -5.8433, -5.6456, -5.9708, -4.7916, -4.422, -4.9036, -5.2952, -4.3806, -5.039, -5.3769, -4.383, -4.8471, -4.9893, -4.7016, -4.8377, -4.9236, -5.3785, -5.2013, -4.8973, -5.0273, -5.0449, -5.1278, -5.1705, -5.1461, -5.3311, -5.2596, -4.7498, -4.878, -4.8981, -4.9022, -5.1296, -5.3297, -5.4215, -5.4309, -4.5603, -5.6707, -5.6943, -5.78, -5.7809, -5.7896, -5.9387, -4.0832, -4.5824, -5.8311, -6.1549, -3.6887, -6.22, -6.225, -6.2328, -6.2546, -6.3129, -6.4028, -6.4405, -6.4552, -6.4657, -6.5031, -4.9324, -5.0455, -5.8396, -5.0171, -5.4861, -5.2359, -5.4171, -5.3289, -5.3937, -4.7885, -4.6929, -4.6208, -4.8929, -4.3365, -4.3548, -4.3312, -4.8471, -5.0003, -5.0821, -4.4159, -4.7329, -4.8367, -4.8136, -5.1234, -5.0676, -5.0221, -5.048, -5.0613, -4.7706, -5.1194, -5.3305, -5.515, -5.5285, -5.6578, -5.8103, -5.8388, -5.8891, -5.8916, -6.0345, -6.0545, -6.0555, -6.158, -6.1744, -6.2316, -6.2461, -6.2512, -6.3272, -6.3377, -6.359, -6.4013, -6.4354, -6.4452, -6.4732, -6.5032, -6.5177, -6.5217, -6.5783, -6.5906, -4.2671, -5.1942, -5.9904, -3.8611, -4.9861, -5.4358, -5.6433, -5.145, -5.2704, -4.2295, -4.347, -4.7146, -4.867, -4.9075, -5.1389, -5.2744, -4.8035, -5.4019, -5.0442, -5.3466, -5.6214, -4.9042, -5.5448, -4.8442, -5.324, -5.4356, -4.9791, -5.3235, -5.3988, -5.33, -5.3377, -5.3381, -5.3526, -5.3682, -4.3607, -4.2433, -3.8423, -4.9536, -4.9331, -4.9331, -5.2051, -4.252, -5.392, -5.4301, -5.5697, -5.5775, -5.6097, -5.6249, -5.7378, -5.7408, -4.8766, -5.7841, -5.8169, -5.8752, -5.9119, -5.9119, -5.9119, -5.9766, -6.0499, -6.096, -6.2, -6.2546, -6.2597, -6.2725, -3.3233, -5.5019, -5.7186, -5.5151, -5.7103, -5.1436, -5.1602, -5.0852, -4.5739, -3.7495, -5.1209, -5.266, -4.367, -4.255, -4.9816, -4.796, -5.1479, -5.1796, -5.2641, -5.0233, -5.2511, -5.1716, -5.323, -3.5593, -4.0804, -4.1659, -4.2356, -4.3043, -4.5372, -4.8198, -4.9524, -4.9714, -5.0506, -4.3229, -5.2411, -5.2469, -5.3263, -5.3289, -5.3435, -5.4718, -5.4993, -5.5119, -5.5143, -5.5631, -5.6548, -5.6577, -5.3449, -5.7295, -5.74, -5.7404, -5.8097, -5.8659, -5.8802, -3.3146, -4.7715, -5.5056, -3.4981, -4.6417, -5.0237, -4.1874, -4.314, -4.1997, -4.9475, -5.0413, -4.3707, -4.6093, -5.1232, -4.9687, -4.3431, -4.7673, -4.831, -4.8635, -4.8468, -5.0744, -5.0088, -4.071, -4.4707, -4.5198, -5.2352, -5.4667, -5.5462, -5.6512, -5.742, -5.7906, -5.8916, -5.9527, -5.9534, -5.9998, -6.0775, -6.2392, -6.3318, -3.7464, -6.3614, -6.3865, -6.4059, -6.4141, -6.4498, -6.4814, -6.5094, -6.5512, -6.5512, -6.5512, -6.5519, -6.5862, -6.6018, -4.9874, -5.7588, -6.1461, -5.2324, -3.824, -4.0673, -5.3145, -4.9682, -4.1228, -5.5461, -2.7734, -3.9727, -4.9147, -4.4889, -3.7472, -3.7124, -3.8725, -4.3916, -4.5275, -3.9585, -4.6931, -4.6342, -4.1418, -4.615, -4.2314, -4.5722, -4.8862, -4.6497, -4.5439, -4.5576, -4.9649, -4.8901, -4.6647, -5.0367, -5.0694, -5.4738, -5.5788, -5.5788, -5.5788, -5.586, -5.6358, -5.6962, -5.6962, -5.6962, -5.8291, -5.8291, -5.9029, -5.9029, -5.9029, -5.9029, -5.9029, -5.9029, -5.9381, -5.9825, -5.9825, -5.9825, -5.9825, -5.9825, -5.9825, -6.069, -6.069, -6.1213, -5.0529, -4.0433, -4.6791, -5.0763, -4.3934, -5.2599, -5.4537, -4.4536, -5.2312, -5.3239, -4.9915, -5.62, -5.3209, -5.1994, -5.3966, -5.2153, -5.5808, -5.1581, -5.3157, -5.3549, -5.212, -5.1193, -5.4649, -3.7818, -4.0612, -4.0612, -4.1274, -4.5705, -4.5715, -4.7365, -4.958, -4.9764, -4.9764, -4.9764, -4.9764, -5.1836, -5.3891, -5.5388, -5.6676, -5.7556, -5.7556, -5.8729, -5.9767, -6.0827, -6.159, -6.1786, -6.1786, -6.2528, -6.3241, -6.3255, -6.3437, -6.5512, -6.5614, -4.7486, -3.7723, -3.9682, -3.8014, -3.2706, -4.1125, -4.5566, -5.5438, -3.6153, -5.1238, -3.6302, -3.8741, -5.1659, -4.3753, -4.5792, -4.0133, -4.7462, -4.2933, -4.6724, -4.2297, -4.4783, -4.4971, -4.6425, -4.6771, -4.772, -4.7988], \"loglift\": [30.0, 29.0, 28.0, 27.0, 26.0, 25.0, 24.0, 23.0, 22.0, 21.0, 20.0, 19.0, 18.0, 17.0, 16.0, 15.0, 14.0, 13.0, 12.0, 11.0, 10.0, 9.0, 8.0, 7.0, 6.0, 5.0, 4.0, 3.0, 2.0, 1.0, 2.1346, 2.1319, 2.1302, 2.1288, 2.1282, 2.1265, 2.1259, 2.1245, 2.1235, 2.1234, 2.123, 2.122, 2.1208, 2.1204, 2.1203, 2.1194, 2.1188, 2.118, 2.1168, 2.1165, 2.1164, 2.1158, 2.1152, 2.1141, 2.1132, 2.1132, 2.1131, 2.1121, 2.1113, 2.111, 2.1029, 2.0872, 2.0471, 1.9436, 1.9976, 2.0237, 1.8936, 2.0107, 2.0802, 1.7736, 1.9059, 1.8234, 1.9823, 1.3797, 1.4451, 1.582, 1.3238, 1.8939, 1.259, 1.7845, 1.458, 1.157, 1.2636, 0.9802, 0.8835, 0.9021, 1.2307, 1.4212, 1.0487, 1.0096, 1.2536, 1.0223, -0.1887, 0.6814, 0.6353, 1.0709, -0.0684, 0.6829, -0.0418, 0.7785, 0.7029, 2.3113, 2.3089, 2.302, 2.3009, 2.2992, 2.2976, 2.2974, 2.2965, 2.2963, 2.2937, 2.2932, 2.293, 2.292, 2.291, 2.2906, 2.29, 2.2877, 2.2872, 2.2846, 2.2842, 2.2834, 2.2816, 2.2815, 2.2815, 2.2792, 2.2792, 2.2787, 2.2787, 2.2771, 2.2771, 2.2638, 2.2583, 2.1766, 2.2412, 2.2649, 2.2529, 2.252, 2.1705, 1.9186, 1.9197, 2.1163, 2.0294, 1.8822, 1.9481, 1.9604, 2.058, 1.9788, 1.9601, 1.7835, 1.6925, 2.1809, 1.6341, 1.7844, 1.726, 1.9373, 1.2254, 1.6386, 1.2549, 1.7305, 1.5961, 1.6439, 1.1446, 1.5581, 1.4599, 1.4673, 0.9425, 0.8859, 0.8971, 1.0506, 1.1712, 1.333, 0.6134, 1.0981, 1.0483, 0.894, -0.1402, 0.979, 0.0285, 0.7199, 2.3528, 2.3509, 2.3508, 2.3503, 2.3501, 2.3493, 2.3468, 2.346, 2.3456, 2.3452, 2.3435, 2.3431, 2.3423, 2.3405, 2.3393, 2.3386, 2.3386, 2.3381, 2.3367, 2.3361, 2.3355, 2.3352, 2.3339, 2.3338, 2.3332, 2.3326, 2.331, 2.3304, 2.3293, 2.3283, 2.3278, 2.322, 2.3176, 2.3232, 2.3006, 2.2902, 2.2635, 2.1761, 2.2274, 2.1729, 2.0845, 2.2949, 2.1011, 2.2256, 2.0964, 2.0351, 2.1831, 2.0709, 1.8016, 1.8466, 0.898, 1.3645, 1.942, 1.7412, 0.9285, 1.678, 1.4476, 1.7449, 0.5227, 0.5287, 1.002, 0.8583, 0.6461, 0.5823, 0.9837, 0.6207, 0.9033, 0.0774, 0.7173, 0.7602, -0.0079, 1.0913, 0.7641, -0.7558, 2.5249, 2.5209, 2.5173, 2.5168, 2.5168, 2.5158, 2.5158, 2.5139, 2.5103, 2.5089, 2.507, 2.5044, 2.5029, 2.5028, 2.5028, 2.5024, 2.502, 2.5016, 2.5016, 2.5016, 2.5016, 2.5012, 2.5005, 2.5005, 2.5002, 2.4991, 2.499, 2.498, 2.498, 2.4971, 2.4896, 2.4901, 2.44, 2.4424, 2.3044, 2.3419, 2.2108, 2.0128, 2.1049, 2.2503, 1.9321, 2.2837, 2.3439, 1.7986, 1.3041, 2.0997, 2.3347, 1.3514, 2.0953, 2.0487, 1.7984, 1.2466, 1.3275, 1.6535, 1.4991, 1.09, 0.4019, 1.1256, 1.3335, 1.4845, 1.0302, 1.5482, 0.8111, 0.5866, 0.6903, 0.8122, 0.2648, 0.8489, 0.9326, 1.0563, 1.3157, 0.9427, 0.7895, 2.527, 2.5233, 2.517, 2.5162, 2.5148, 2.5136, 2.5122, 2.5121, 2.5081, 2.5069, 2.5062, 2.5062, 2.5059, 2.5057, 2.5057, 2.5024, 2.5023, 2.5022, 2.5011, 2.5003, 2.4982, 2.4981, 2.4952, 2.4948, 2.4943, 2.4929, 2.4928, 2.4928, 2.4919, 2.4918, 2.4838, 2.4731, 2.4657, 2.4003, 2.3746, 2.2087, 2.3096, 2.4089, 2.1646, 2.261, 1.8968, 2.2834, 2.2086, 1.3425, 2.2469, 1.3472, 1.9455, 1.3505, 1.9106, 1.4955, 1.7026, 1.394, 0.5229, 0.9447, 0.7405, 0.9606, 0.5524, 1.0162, 0.7804, 1.6317, 1.3834, 0.7954, 1.3153, 1.1012, 1.3556, 0.7919, 0.6654, 1.1412, 0.4352, 0.7066, 0.6827, 0.5304, 0.6096, 0.4408, 0.1212, 2.7104, 2.7082, 2.708, 2.7074, 2.6989, 2.6977, 2.6963, 2.6963, 2.6957, 2.6934, 2.6933, 2.6926, 2.6914, 2.691, 2.6893, 2.6879, 2.6877, 2.687, 2.6867, 2.6866, 2.6864, 2.6856, 2.6854, 2.6848, 2.6846, 2.684, 2.684, 2.684, 2.6824, 2.6813, 2.6609, 2.6287, 2.667, 2.661, 2.6551, 2.5507, 2.6322, 2.5127, 2.6466, 2.5995, 2.393, 2.5337, 2.5668, 2.2313, 2.4397, 2.0956, 2.3706, 2.2784, 1.586, 1.8349, 2.0763, 2.277, 1.407, 2.2029, 0.918, 1.6831, 1.1261, 1.1518, 0.3537, 0.8657, 1.8699, 1.6192, 0.3114, 1.301, -0.1634, 0.8007, 0.6988, 0.9295, 0.5514, 0.4822, 0.5472, 0.7431, 1.1293, 0.5622, 2.8131, 2.806, 2.8039, 2.8024, 2.8019, 2.8002, 2.7991, 2.7987, 2.7957, 2.7947, 2.7932, 2.7918, 2.7915, 2.7909, 2.7904, 2.7903, 2.7903, 2.79, 2.7886, 2.7854, 2.7853, 2.7852, 2.7845, 2.781, 2.7804, 2.7788, 2.7786, 2.7778, 2.7729, 2.772, 2.7663, 2.6765, 2.7152, 2.6882, 2.6159, 2.4714, 2.5876, 2.5863, 2.6223, 2.485, 2.2865, 2.3771, 1.8663, 2.3027, 2.1983, 2.5005, 2.0955, 2.2953, 1.3955, 1.5855, 2.344, 1.9394, 0.7606, 1.5498, 1.3093, 1.1878, 0.9226, 1.2873, 1.4915, 0.7871, 1.4991, 0.7536, -0.3422, 0.426, 0.6638, 2.9391, 2.9383, 2.9371, 2.9318, 2.9316, 2.9313, 2.9304, 2.926, 2.9245, 2.9234, 2.9224, 2.9223, 2.9157, 2.9131, 2.9119, 2.9114, 2.9092, 2.9081, 2.9074, 2.9062, 2.9048, 2.8994, 2.8984, 2.8955, 2.8902, 2.8896, 2.8894, 2.8891, 2.8881, 2.8875, 2.8545, 2.8628, 2.8311, 2.8554, 2.7949, 2.8144, 2.8527, 2.6693, 2.7928, 2.7003, 2.3905, 2.4613, 2.5247, 2.4723, 2.2788, 2.1174, 1.9072, 1.9269, 2.4489, 1.4562, 2.1693, 1.8762, 0.8664, 1.0635, 1.7097, 1.468, 1.1344, 0.9839, 0.8801, 0.9855, 0.9424, 2.9494, 2.9486, 2.9467, 2.9452, 2.9374, 2.9371, 2.9371, 2.9323, 2.9318, 2.9306, 2.9301, 2.9286, 2.9284, 2.926, 2.9258, 2.9252, 2.9247, 2.9246, 2.9224, 2.9198, 2.9192, 2.9191, 2.9188, 2.9188, 2.9179, 2.914, 2.9126, 2.9123, 2.9121, 2.9113, 2.8065, 2.7681, 2.8391, 2.761, 2.6048, 2.8234, 2.5793, 2.2833, 2.8521, 2.2381, 2.5325, 2.2366, 2.6803, 2.0721, 1.9883, 2.2513, 1.8491, 0.7383, 1.5423, 1.9343, 1.2064, 1.9181, 1.233, 1.0282, 0.4819, 0.3974, 1.1977, 1.3915, 1.0923, 1.672, 0.7833, 0.679, 1.6339, 1.1651, 2.962, 2.9596, 2.9551, 2.9528, 2.9505, 2.9487, 2.9487, 2.9487, 2.9486, 2.9485, 2.9485, 2.9472, 2.9451, 2.9449, 2.9446, 2.9434, 2.9434, 2.9433, 2.943, 2.9422, 2.9414, 2.9413, 2.9399, 2.9383, 2.9372, 2.9365, 2.9357, 2.9352, 2.9341, 2.9338, 2.8565, 2.8164, 2.6988, 2.6898, 2.8462, 2.5587, 2.697, 2.4526, 2.1849, 1.6756, 2.7036, 2.8065, 1.778, 1.6942, 2.6073, 0.8356, 1.2264, 1.8908, 1.8756, 1.6142, 2.0992, 1.0041, 1.9697, 1.4321, 1.2433, 1.1054, 0.2655, 1.5542, -0.2909, 0.6916, 0.3456, 0.753, 0.6723, 0.6274, 3.1367, 3.1321, 3.1289, 3.1281, 3.1266, 3.1237, 3.1224, 3.1221, 3.1211, 3.1207, 3.1199, 3.1197, 3.1179, 3.1159, 3.1155, 3.1142, 3.1128, 3.1112, 3.1111, 3.1108, 3.11, 3.1099, 3.1059, 3.1053, 3.103, 3.1019, 3.1012, 3.101, 3.0992, 3.0988, 3.0682, 3.0586, 2.9965, 3.0649, 2.8415, 2.9656, 2.9321, 2.9113, 2.7122, 2.5523, 2.8893, 2.6399, 2.797, 2.2677, 2.1963, 2.5839, 2.3492, 2.2733, 2.5457, 2.3854, 1.4245, 1.7447, 1.8475, 1.0296, 1.8567, 1.623, 1.9374, 1.8096, 0.8712, 1.9705, 0.6757, 0.7518, 1.7489, 0.7805, 0.1514, 3.2776, 3.2719, 3.2704, 3.2698, 3.2653, 3.2639, 3.2638, 3.2597, 3.2587, 3.2564, 3.2556, 3.255, 3.2539, 3.2535, 3.2522, 3.2511, 3.2466, 3.2448, 3.2441, 3.2435, 3.2412, 3.241, 3.2404, 3.2401, 3.2391, 3.2377, 3.2376, 3.2372, 3.2366, 3.2362, 3.2276, 3.2104, 3.2112, 3.1991, 3.1505, 3.159, 3.0664, 3.0853, 3.0994, 3.073, 3.1742, 2.9634, 2.9632, 2.6696, 2.7349, 2.612, 2.7865, 2.3171, 2.9324, 2.8837, 2.0754, 1.9309, 2.1646, 2.5807, 1.8379, 2.389, 2.1903, 2.6767, 1.926, 1.8234, 2.1558, 1.4647, 1.2751, 1.4729, 1.0991, 0.4848, 0.2689, 1.5805, 0.5887, 1.9699, 1.1435, 3.3173, 3.3173, 3.3152, 3.3097, 3.3095, 3.3082, 3.3079, 3.306, 3.3056, 3.3013, 3.3, 3.2991, 3.295, 3.2915, 3.2901, 3.2898, 3.2893, 3.287, 3.2868, 3.2865, 3.2837, 3.2831, 3.2813, 3.2805, 3.275, 3.2739, 3.2739, 3.2718, 3.2714, 3.271, 3.2405, 3.269, 3.1976, 3.2659, 2.8025, 3.1347, 2.9862, 3.0916, 3.0405, 3.1221, 2.6882, 2.4499, 2.6336, 2.8141, 2.2459, 2.3916, 2.6354, 1.8399, 2.0995, 2.1741, 1.4379, 1.4599, 1.5781, 2.1528, 1.5608, 0.19, 0.6488, 0.6784, 0.5861, 0.8678, -0.6292, 1.8145, 0.6469, 3.3687, 3.3676, 3.3674, 3.3674, 3.3649, 3.3622, 3.3608, 3.3606, 3.3605, 3.3562, 3.3557, 3.3538, 3.3538, 3.3536, 3.3498, 3.3495, 3.344, 3.3436, 3.3434, 3.3412, 3.3411, 3.3409, 3.3407, 3.3399, 3.3377, 3.3341, 3.3324, 3.3318, 3.3313, 3.3296, 3.3091, 3.3013, 3.282, 3.1865, 3.2269, 3.1163, 3.0844, 2.9591, 2.9561, 2.6494, 2.5422, 2.4773, 2.4085, 1.6402, 1.4772, 1.4362, 2.0169, 2.1836, 2.3071, 0.9851, 1.5764, 1.5536, 0.8625, 1.8267, 1.4459, 0.7016, 0.8444, 0.6527, 3.6705, 3.6656, 3.6618, 3.6577, 3.6574, 3.654, 3.6494, 3.6485, 3.6467, 3.6467, 3.6413, 3.6405, 3.6405, 3.636, 3.6353, 3.6326, 3.6319, 3.6316, 3.6278, 3.6272, 3.626, 3.6237, 3.6217, 3.6211, 3.6195, 3.6176, 3.6167, 3.6164, 3.6127, 3.6119, 3.5517, 3.5537, 3.574, 3.3315, 3.372, 3.3987, 3.4011, 3.2037, 3.1969, 2.7698, 2.7779, 2.4471, 2.3769, 2.3821, 2.5954, 2.6762, 1.9748, 2.6744, 2.1097, 2.365, 2.8661, 0.5999, 2.5663, 0.2431, 1.7247, 2.0722, -0.4622, 1.1782, 1.6994, 0.8095, 0.5854, 0.5855, 0.5463, 0.4404, 3.8537, 3.8519, 3.851, 3.8462, 3.846, 3.846, 3.8414, 3.838, 3.837, 3.836, 3.832, 3.8317, 3.8307, 3.8301, 3.8264, 3.8262, 3.8257, 3.8246, 3.8234, 3.821, 3.8194, 3.8194, 3.8194, 3.8167, 3.8132, 3.8109, 3.8054, 3.8022, 3.8019, 3.8011, 3.7628, 3.7904, 3.7517, 3.7122, 3.7296, 3.5915, 3.5631, 3.4729, 3.2455, 2.7616, 3.2426, 2.9907, 1.4649, 1.146, 2.0671, 1.362, 1.6584, 1.4947, 1.9362, 0.3238, 1.7474, 0.9776, 1.5706, 4.0248, 4.0213, 4.0206, 4.0199, 4.0192, 4.0164, 4.0121, 4.0096, 4.0092, 4.0075, 4.0032, 4.0029, 4.0027, 4.0005, 4.0004, 4.0, 3.996, 3.995, 3.9946, 3.9945, 3.9928, 3.9893, 3.9892, 3.9872, 3.9862, 3.9858, 3.9857, 3.9827, 3.98, 3.9793, 3.7871, 3.8095, 3.9248, 3.5368, 3.4223, 3.3842, 2.5438, 2.1177, 1.6089, 2.8295, 2.9997, 1.564, 2.0406, 3.0951, 2.5289, 0.1738, 1.6503, 1.9196, 1.8169, 1.1772, 2.785, 0.3922, 4.193, 4.1881, 4.1874, 4.1713, 4.1632, 4.16, 4.1553, 4.1509, 4.1483, 4.1427, 4.139, 4.139, 4.136, 4.1308, 4.1187, 4.1108, 4.1092, 4.1082, 4.1059, 4.1041, 4.1033, 4.0999, 4.0967, 4.0939, 4.0894, 4.0894, 4.0894, 4.0894, 4.0856, 4.0839, 4.0193, 3.9809, 4.0085, 3.8021, 3.386, 3.3927, 3.6876, 3.516, 3.1001, 3.638, 1.9855, 2.3275, 3.0249, 2.6729, 2.0814, 2.0109, 1.9873, 2.427, 2.5193, 1.8118, 2.4995, 2.3661, 1.2511, 1.7438, 0.8559, 1.5306, 2.1947, 1.285, 0.8422, -0.0407, 2.0459, 1.1186, 4.4728, 4.4622, 4.4611, 4.4439, 4.4382, 4.4382, 4.4382, 4.4378, 4.4349, 4.4312, 4.4312, 4.4312, 4.4222, 4.4222, 4.4168, 4.4168, 4.4168, 4.4168, 4.4168, 4.4168, 4.414, 4.4104, 4.4104, 4.4104, 4.4104, 4.4104, 4.4104, 4.403, 4.403, 4.3982, 4.2127, 3.0771, 3.432, 3.5963, 2.5828, 3.2199, 3.485, 1.0505, 2.6947, 2.833, 1.6284, 3.54, 2.3086, 1.6668, 2.4382, 1.6269, 3.1054, 0.6769, 1.5702, 1.7864, 0.4195, -0.6024, 0.4416, 4.9685, 4.9633, 4.9633, 4.9618, 4.9491, 4.9491, 4.9427, 4.9325, 4.9316, 4.9316, 4.9316, 4.9316, 4.9196, 4.9053, 4.893, 4.881, 4.8719, 4.8719, 4.8587, 4.8458, 4.8314, 4.8201, 4.8171, 4.8171, 4.8053, 4.7932, 4.793, 4.7898, 4.7497, 4.7475, 4.6957, 4.6484, 4.5151, 4.4584, 4.2748, 4.2299, 4.2998, 4.6128, 3.6862, 4.2501, 3.2533, 3.3195, 4.2667, 3.3914, 3.6007, 2.7373, 3.3519, 1.5386, 2.7075, 1.1174, 1.6612, 1.6167, 1.4741, 1.0462, 1.9266, 1.2307]}, \"token.table\": {\"Topic\": [19, 13, 5, 3, 5, 11, 3, 5, 5, 7, 3, 7, 4, 13, 16, 13, 1, 2, 4, 5, 6, 8, 9, 10, 13, 17, 7, 7, 14, 2, 19, 2, 14, 11, 1, 2, 8, 20, 5, 6, 1, 2, 4, 7, 10, 14, 16, 3, 2, 5, 14, 20, 20, 20, 8, 15, 1, 2, 3, 4, 5, 6, 7, 9, 10, 11, 12, 13, 14, 15, 17, 20, 1, 8, 17, 1, 4, 5, 7, 8, 14, 1, 3, 5, 13, 15, 1, 3, 4, 2, 19, 11, 7, 4, 1, 3, 4, 5, 6, 7, 8, 10, 12, 13, 14, 15, 3, 17, 11, 3, 4, 5, 8, 11, 14, 1, 2, 3, 4, 5, 7, 8, 9, 10, 11, 15, 16, 11, 6, 12, 4, 5, 6, 1, 2, 3, 4, 6, 7, 8, 9, 10, 11, 12, 13, 1, 9, 9, 1, 18, 2, 8, 8, 2, 12, 18, 16, 18, 18, 3, 5, 11, 12, 15, 18, 2, 4, 5, 7, 8, 9, 10, 12, 15, 16, 18, 20, 11, 3, 7, 1, 3, 5, 7, 9, 11, 17, 4, 5, 7, 11, 11, 18, 5, 1, 13, 5, 13, 9, 12, 15, 16, 5, 11, 18, 3, 5, 8, 11, 13, 15, 18, 8, 18, 18, 9, 9, 12, 9, 2, 13, 15, 17, 3, 9, 12, 13, 15, 1, 6, 13, 5, 5, 7, 11, 12, 14, 15, 20, 6, 16, 4, 2, 5, 7, 8, 16, 11, 3, 12, 12, 10, 3, 7, 10, 12, 1, 2, 3, 5, 6, 7, 8, 9, 10, 12, 13, 14, 15, 16, 17, 20, 20, 10, 2, 5, 11, 1, 2, 4, 5, 7, 8, 11, 14, 20, 16, 1, 20, 1, 2, 6, 10, 12, 1, 2, 3, 4, 5, 7, 9, 10, 11, 18, 4, 1, 10, 1, 1, 2, 3, 4, 5, 9, 12, 13, 14, 15, 7, 2, 11, 2, 14, 2, 14, 1, 2, 3, 4, 5, 7, 8, 9, 10, 11, 15, 17, 18, 2, 5, 8, 11, 17, 5, 10, 6, 19, 1, 2, 3, 4, 5, 10, 13, 17, 20, 2, 16, 18, 1, 2, 3, 4, 5, 6, 7, 9, 10, 12, 13, 15, 11, 11, 3, 4, 6, 7, 9, 10, 11, 13, 15, 17, 14, 6, 6, 1, 3, 5, 7, 11, 12, 13, 15, 16, 12, 11, 1, 2, 3, 4, 5, 6, 7, 9, 10, 11, 12, 13, 15, 18, 2, 6, 3, 9, 13, 3, 12, 13, 3, 6, 9, 12, 13, 15, 1, 2, 3, 4, 5, 6, 7, 8, 10, 11, 12, 13, 14, 16, 20, 7, 1, 11, 12, 9, 1, 2, 5, 8, 9, 14, 1, 2, 3, 4, 5, 6, 8, 9, 10, 11, 12, 13, 14, 16, 1, 2, 3, 5, 6, 7, 8, 9, 10, 11, 12, 13, 14, 15, 16, 17, 2, 3, 1, 2, 3, 5, 6, 8, 9, 11, 12, 16, 20, 4, 13, 17, 17, 1, 3, 4, 5, 6, 9, 10, 11, 12, 13, 1, 3, 4, 6, 10, 12, 1, 2, 14, 13, 2, 15, 5, 1, 2, 3, 4, 6, 7, 10, 12, 13, 1, 3, 4, 5, 7, 8, 9, 13, 15, 3, 4, 9, 5, 1, 3, 4, 5, 6, 8, 9, 11, 12, 13, 17, 18, 20, 4, 5, 6, 10, 5, 13, 14, 11, 15, 3, 4, 5, 13, 1, 2, 3, 4, 5, 6, 8, 11, 16, 18, 13, 3, 5, 3, 5, 5, 8, 18, 7, 7, 3, 5, 12, 1, 2, 3, 6, 8, 12, 16, 19, 7, 9, 12, 13, 7, 9, 10, 11, 14, 15, 5, 13, 6, 1, 1, 11, 12, 12, 16, 4, 13, 19, 9, 2, 20, 5, 7, 13, 15, 16, 16, 3, 3, 5, 9, 10, 1, 4, 7, 8, 9, 10, 10, 18, 16, 3, 4, 6, 9, 12, 13, 15, 3, 3, 3, 3, 12, 5, 6, 9, 13, 15, 18, 1, 11, 15, 16, 1, 2, 3, 4, 5, 6, 9, 10, 12, 13, 15, 19, 1, 2, 3, 4, 5, 6, 7, 9, 10, 12, 13, 14, 15, 17, 18, 19, 18, 1, 1, 3, 4, 5, 6, 9, 2, 6, 1, 4, 12, 4, 10, 1, 2, 6, 13, 15, 17, 1, 12, 12, 13, 1, 2, 3, 4, 5, 6, 7, 8, 9, 10, 11, 12, 13, 15, 17, 18, 7, 1, 12, 19, 3, 4, 19, 1, 2, 3, 4, 5, 6, 7, 8, 9, 10, 11, 12, 16, 17, 19, 3, 4, 7, 10, 4, 20, 18, 12, 14, 15, 1, 4, 13, 18, 18, 8, 1, 3, 5, 6, 8, 9, 11, 12, 14, 15, 17, 19, 1, 2, 3, 4, 5, 6, 8, 9, 10, 11, 12, 13, 15, 16, 17, 1, 2, 3, 4, 5, 6, 7, 8, 9, 10, 11, 12, 13, 14, 15, 18, 20, 19, 19, 3, 14, 10, 11, 1, 2, 3, 5, 6, 7, 10, 14, 16, 18, 1, 4, 5, 7, 9, 11, 14, 16, 9, 1, 2, 3, 6, 8, 9, 11, 12, 13, 14, 15, 17, 3, 13, 17, 1, 4, 6, 7, 9, 10, 11, 2, 8, 6, 8, 1, 2, 3, 4, 5, 6, 7, 9, 10, 12, 13, 15, 4, 5, 7, 12, 13, 15, 17, 12, 13, 1, 4, 5, 6, 12, 4, 1, 2, 4, 5, 6, 8, 14, 15, 1, 7, 8, 1, 10, 12, 1, 2, 3, 4, 5, 8, 9, 10, 14, 17, 7, 1, 18, 16, 3, 5, 7, 8, 9, 10, 11, 14, 11, 2, 17, 10, 1, 3, 4, 7, 9, 12, 11, 19, 19, 19, 1, 2, 4, 5, 6, 7, 9, 10, 15, 1, 2, 3, 4, 5, 6, 8, 9, 10, 11, 12, 14, 17, 19, 1, 2, 4, 7, 8, 9, 11, 14, 15, 1, 3, 6, 10, 7, 11, 1, 13, 6, 10, 15, 10, 5, 10, 1, 9, 1, 4, 1, 3, 4, 10, 13, 1, 2, 3, 4, 5, 11, 12, 13, 14, 15, 16, 17, 19, 18, 6, 6, 6, 17, 1, 2, 4, 5, 7, 14, 20, 9, 1, 2, 4, 5, 7, 9, 10, 16, 2, 5, 8, 11, 14, 20, 5, 7, 11, 1, 2, 4, 9, 13, 1, 1, 2, 4, 8, 11, 13, 20, 10, 18, 11, 1, 2, 3, 9, 11, 13, 14, 15, 16, 19, 20, 1, 5, 1, 2, 3, 4, 5, 6, 7, 8, 9, 11, 12, 13, 15, 16, 17, 18, 19, 1, 18, 5, 15, 12, 13, 5, 8, 10, 11, 12, 15, 1, 2, 3, 5, 7, 8, 9, 12, 13, 14, 15, 16, 15, 1, 3, 8, 9, 11, 12, 13, 14, 16, 17, 8, 7, 8, 16, 2, 14, 11, 3, 3, 9, 19, 3, 12, 19, 15, 16, 14, 20, 8, 16, 8, 6, 6, 1, 3, 8, 12, 13, 15, 3, 3, 11, 5, 19, 1, 3, 4, 7, 20, 20, 4, 10, 9, 9, 1, 9, 16, 9, 16, 9, 15, 16, 17, 7, 16, 1, 20, 1, 3, 1, 9, 10, 3, 1, 2, 3, 4, 5, 6, 7, 8, 9, 10, 11, 12, 13, 14, 15, 17, 1, 2, 3, 4, 5, 6, 7, 8, 9, 10, 13, 15, 1, 3, 4, 5, 12, 14, 20, 4, 5, 11, 4, 4, 4, 5, 7, 12, 14, 3, 4, 10, 12, 13, 15, 16, 10, 5, 3, 4, 10, 10, 14, 15, 17, 15, 5, 2, 6, 4, 2, 5, 6, 9, 20, 1, 2, 3, 4, 5, 6, 8, 12, 14, 16, 1, 3, 4, 5, 6, 8, 9, 12, 12, 16, 1, 2, 3, 4, 5, 7, 9, 13, 15, 17, 2, 4, 3, 2, 6, 7, 8, 9, 12, 13, 14, 4, 12, 8, 15, 2, 7, 2, 1, 2, 4, 7, 8, 10, 11, 12, 15, 18, 9, 18, 1, 2, 3, 4, 5, 6, 8, 9, 14, 17, 20, 19, 9, 1, 2, 3, 4, 6, 7, 8, 10, 13, 15, 18, 1, 4, 13, 1, 2, 3, 4, 5, 6, 7, 8, 9, 10, 11, 13, 14, 15, 17, 18, 20, 1, 2, 3, 4, 5, 6, 7, 10, 1, 13, 14, 14, 5, 14, 14, 14, 14, 2, 14, 6, 9, 1, 8, 11, 19, 2, 11, 6, 19, 5, 16, 2, 3, 4, 6, 7, 8, 16, 13, 12, 20, 2, 20, 7, 15, 2, 3, 4, 5, 6, 7, 9, 10, 18, 4, 8, 2, 7, 8, 11, 2, 11, 8, 7, 7, 4, 15, 14, 1, 2, 3, 4, 5, 6, 9, 10, 13, 15, 16, 18, 4, 11, 13, 5, 2, 2, 4, 10, 10, 18, 7, 3, 8, 1, 14, 8, 1, 2, 5, 6, 8, 11, 20, 12, 4, 5, 10, 11, 1, 2, 3, 4, 5, 7, 8, 10, 11, 13, 14, 15, 16, 18, 20, 10, 10, 10, 5, 20, 3, 13, 15, 16, 2, 5, 7, 16, 1, 2, 3, 4, 5, 6, 7, 8, 9, 10, 11, 13, 14, 15, 17, 18, 12, 17, 13, 1, 5, 10, 13, 16, 13, 14, 9, 1, 2, 4, 8, 10, 11, 13, 17, 1, 5, 11, 17, 1, 3, 5, 8, 16, 3, 4, 7, 10, 12, 14, 15, 7, 7, 10, 1, 4, 8, 14, 11, 1, 2, 3, 4, 5, 6, 7, 8, 9, 10, 12, 13, 14, 17, 1, 2, 6, 9, 11, 13, 16, 1, 2, 3, 6, 8, 9, 11, 2, 17, 19, 8, 9, 7, 1, 2, 7, 9, 14, 1, 7, 9, 15, 15, 4, 4, 2, 4, 2, 6, 1, 13, 2, 16, 2, 8, 2, 12, 9, 15, 1, 2, 3, 8, 13, 19, 19, 1, 2, 3, 5, 6, 7, 8, 10, 13, 14, 19, 15, 10, 10, 15, 1, 3, 5, 6, 10, 12, 1, 5, 14, 2, 3, 4, 11, 20, 1, 2, 3, 4, 5, 6, 9, 10, 11, 18, 20, 17, 1, 3, 8, 18, 1, 3, 8, 8, 3, 6, 12, 18, 1, 2, 3, 6, 9, 10, 14, 15, 16, 17, 18, 19, 18, 3, 20, 2, 7, 8, 19, 2, 6, 7, 12, 15, 1, 2, 4, 5, 6, 7, 8, 9, 11, 14, 17, 20, 8, 1, 2, 3, 4, 5, 6, 7, 8, 9, 10, 11, 12, 13, 15, 16, 20, 11, 1, 3, 5, 7, 12, 13, 15, 18, 19, 19, 3, 12, 3, 9, 13, 15, 10, 1, 3, 5, 8, 9, 10, 11, 17, 20, 6, 1, 9, 10, 9, 1, 2, 3, 6, 8, 9, 10, 11, 17, 4, 15, 1, 3, 4, 5, 6, 7, 10, 11, 12, 15, 1, 4, 12, 13, 6, 2, 1, 3, 4, 7, 9, 13, 14, 15, 16, 10, 13, 15, 4, 5, 16, 2, 11, 13, 14, 15, 20, 1, 2, 3, 4, 5, 6, 7, 9, 10, 12, 13, 15, 16, 18, 20, 9, 9, 4, 2, 1, 4, 6, 1, 3, 12, 13, 14, 19, 1, 2, 3, 8, 11, 14, 4, 13, 17, 6, 18, 20, 16, 1, 2, 3, 4, 6, 7, 8, 9, 10, 11, 12, 13, 14, 16, 20, 1, 2, 3, 4, 5, 6, 8, 9, 10, 11, 12, 13, 15, 17, 18, 20, 1, 3, 4, 6, 7, 8, 10, 17, 20, 9, 1, 3, 4, 5, 6, 7, 9, 10, 12, 13, 15, 18, 19, 2, 5, 11, 19, 19, 19, 15, 2, 3, 4, 16, 17, 20, 17, 17, 4, 1, 2, 4, 5, 13, 14, 1, 3, 4, 5, 7, 10, 15, 1, 3, 8, 9, 12, 13, 19, 17, 11, 11, 1, 3, 5, 7, 8, 11, 12, 14, 15, 17, 1, 5, 6, 1, 2, 3, 5, 6, 9, 10, 12, 13, 14, 17, 19, 12, 13, 6, 2, 3, 5, 6, 7, 8, 11, 13, 15, 2, 6, 3, 11, 13, 14, 1, 2, 3, 4, 5, 6, 9, 12, 14, 15, 18, 5, 11, 5, 18, 3, 4, 5, 3, 15, 4, 12, 10, 15, 10, 1, 6, 14, 20, 3, 9, 13, 19, 7, 2, 7, 15, 7, 3, 4, 3, 5, 11, 6, 9, 1, 3, 4, 5, 6, 7, 10, 11, 12, 13, 14, 15, 18, 7, 12, 3, 6, 7, 9, 10, 12, 13, 15, 10, 15, 20, 17, 1, 17, 14, 17, 1, 5, 7, 9, 17, 1, 2, 4, 5, 8, 10, 11, 16, 20, 1, 3, 6, 9, 12, 13, 14, 15, 1, 5, 11, 13, 14, 17, 19, 4, 11, 3, 2, 3, 4, 6, 9, 10, 11, 12, 13, 14, 15, 3, 4, 12, 13, 4, 1, 2, 3, 4, 5, 6, 9, 10, 13, 14, 15, 17, 18, 16, 6, 11, 1, 3, 5, 6, 10, 11, 15, 3, 9, 12, 13, 15, 10, 6, 1, 2, 4, 5, 6, 7, 9, 10, 13, 14, 15, 17, 2, 1, 3, 9, 10, 13, 15, 16, 18, 3, 4, 15, 18, 4, 11, 15, 18, 7, 12, 1, 2, 3, 5, 6, 7, 8, 10, 11, 12, 13, 5, 4, 15, 18, 13, 12, 12, 16, 12, 8, 1, 4, 5, 14, 6, 10, 18, 1, 2, 7, 13, 15, 3, 10, 12, 13, 15, 1, 2, 3, 5, 9, 10, 11, 13, 16, 5, 15, 11, 10, 12, 2, 1, 4, 5, 7, 14, 16, 5, 10, 11, 10, 16, 2, 12, 3, 13, 15, 17, 9, 6, 12, 13, 13, 1, 5, 9, 17, 1, 2, 3, 4, 5, 7, 8, 10, 11, 13, 15, 19, 3, 12, 13, 15, 19, 19, 2, 8, 2, 8, 11, 1, 2, 3, 4, 5, 6, 7, 8, 9, 10, 11, 13, 15, 18, 20, 3, 9, 10, 13, 20, 12, 15, 11, 12, 12, 13, 13, 20, 3, 4, 18, 2, 3, 5, 6, 7, 8, 9, 10, 14, 15, 6, 18, 18, 3, 5, 6, 7, 5, 8, 11, 1, 15, 11, 9, 10, 1, 2, 3, 5, 6, 7, 8, 10, 13, 17, 18, 1, 3, 4, 5, 7, 10, 18, 3, 8, 11, 9, 7, 3, 4, 15, 14, 4, 1, 2, 3, 19, 3, 5, 9, 8, 16, 1, 15, 7, 1, 9, 18, 2, 4, 13, 20, 15, 6, 12, 14, 20, 20, 10, 12, 15, 7, 10, 15, 5, 6, 7, 9, 17, 17, 11, 2, 1, 4, 5, 6, 7, 12, 13, 15, 18, 3, 9, 16, 15, 1, 13, 15, 8, 19, 10, 16, 18, 17, 3, 1, 2, 3, 4, 5, 6, 7, 9, 10, 11, 13, 19, 2, 13, 19, 1, 4, 12, 3, 4, 16, 9, 16, 9, 16, 1, 3, 4, 5, 6, 7, 8, 9, 10, 12, 13, 17, 3, 12, 12, 14, 14, 7, 4, 1, 2, 3, 4, 5, 6, 8, 9, 10, 12, 13, 15, 17, 2, 3, 11, 12, 13, 16, 17, 10, 15, 6, 14, 11, 20, 12, 11, 15, 1, 5, 10, 18, 1, 2, 3, 4, 5, 6, 8, 9, 10, 11, 12, 13, 14, 15, 16, 17, 18, 6, 1, 4, 1, 1, 4, 1, 14, 2, 14, 1, 4, 1, 3, 17, 1, 4, 7, 10, 20, 7, 4, 7, 18, 18, 1, 3, 13, 15, 20, 15, 15, 1, 2, 7, 8, 14, 20, 8, 14, 18, 4, 1, 4, 9, 19, 2, 5, 6, 7, 9, 10, 12, 18, 12, 15, 18, 15, 12, 18, 2, 6, 7, 18, 1, 2, 5, 7, 14, 4, 1, 2, 3, 7, 9, 10, 14, 15, 16, 8, 2, 4, 5, 6, 7, 8, 9, 10, 11, 14, 15, 16, 17, 5, 8, 20, 1, 4, 6, 9, 10, 19, 3, 9, 13, 15, 19, 10, 3, 6, 9, 10, 17, 18, 17, 2, 2, 3, 4, 5, 6, 7, 9, 13, 15, 1, 1, 2, 5, 14, 2, 6, 8, 9, 10, 11, 13, 14, 16, 20, 1, 2, 3, 4, 5, 6, 7, 8, 11, 14, 17, 2, 3, 6, 7, 8, 13, 16, 17, 3, 4, 6, 10, 12, 14, 15, 18, 1, 2, 4, 5, 6, 7, 10, 14, 9, 6, 10, 15, 20, 1, 5, 1, 3, 5, 6, 7, 9, 10, 12, 13, 14, 18, 19, 17, 12, 9, 3, 1, 3, 4, 5, 6, 8, 11, 13, 14, 15, 17, 12, 13, 3, 1, 2, 3, 4, 5, 6, 8, 9, 10, 11, 13, 15, 1, 2, 3, 5, 6, 7, 8, 10, 18, 1, 2, 3, 4, 14, 1, 2, 6, 9, 14, 6, 9, 16, 12, 10, 1, 9, 16, 3, 20, 13, 1, 2, 3, 4, 5, 6, 7, 9, 10, 11, 13, 14, 18, 3, 1, 2, 5, 6, 7, 8, 9, 10, 11, 12, 13, 14, 15, 16, 1, 2, 4, 5, 6, 9, 10, 15, 3, 15, 3, 15, 16, 3, 16, 20, 1, 2, 3, 5, 6, 7, 9, 10, 16, 17, 20, 1, 2, 3, 4, 5, 6, 8, 9, 10, 11, 12, 13, 14, 16, 14, 18, 1, 2, 3, 5, 7, 8, 9, 10, 11, 12, 15, 18, 1, 9, 1, 3, 4, 7, 13, 15, 18, 2, 14, 1, 3, 4, 12, 3, 7, 9, 11, 13, 15, 19, 4, 12, 8, 18, 20, 14, 1, 5, 1, 4, 15, 4, 4, 7, 13, 14, 3, 5, 6, 9, 10, 12, 19, 1, 2, 4, 7, 9, 14, 18, 14, 3, 13, 1, 2, 4, 7, 8, 9, 10, 14, 16, 18, 20, 14, 15, 17, 1, 2, 4, 5, 6, 7, 8, 9, 11, 12, 14, 15, 2, 4, 5, 6, 7, 10, 12, 17, 18, 2, 4, 5, 6, 7, 9, 17, 5, 15, 18, 2, 3, 7, 8, 9, 11, 12, 13, 14, 15, 2, 20, 2, 3, 5, 6, 7, 11, 12, 15, 20, 3, 7, 12, 15, 20, 3, 3, 12, 17, 16, 13, 12, 4, 5, 12, 13, 15, 18, 1, 7, 9, 16, 1, 2, 6, 10, 12, 13, 14, 15, 17, 18, 19, 1, 2, 5, 6, 7, 8, 10, 12, 13, 14, 15, 1, 2, 3, 4, 8, 9, 13, 15, 18, 1, 2, 3, 4, 5, 6, 8, 9, 10, 12, 13, 2, 2, 5, 6, 8, 9, 1, 2, 3, 4, 5, 6, 7, 11, 13, 5, 12, 1, 2, 3, 4, 5, 6, 9, 10, 12, 13, 15, 19, 9, 8, 12, 13, 1, 2, 3, 4, 5, 6, 7, 8, 11, 12, 18, 3, 5, 8, 1, 3, 12, 14, 1, 3, 11, 12, 19, 8, 11, 14, 17, 1, 2, 6, 9, 12, 1, 3, 6, 8, 3, 14, 1, 2, 6, 9, 8, 11, 14, 3, 8, 10, 11, 17, 1, 6, 8, 9, 11, 14, 15, 2, 4, 5, 6, 7, 8, 10, 11, 15, 17, 20, 6, 5, 1, 2, 3, 4, 5, 7, 9, 12, 13, 7, 5, 16, 16, 6, 14, 1, 2, 5, 7, 8, 14, 1, 2, 4, 5, 6, 7, 8, 9, 10, 12, 13, 14, 15, 16, 18, 8, 1, 2, 3, 4, 7, 9, 13, 3, 7, 11, 3, 16, 14, 20, 6, 20, 1, 2, 3, 4, 5, 9, 10, 18, 20, 6, 3, 4, 5, 6, 9, 11, 12, 13, 16, 17, 18, 1, 3, 6, 9, 12, 6, 8, 1, 2, 3, 4, 5, 6, 9, 10, 15, 16, 12, 1, 2, 2, 1, 2, 3, 4, 6, 7, 8, 9, 10, 12, 13, 14, 15, 16, 18, 3, 6, 7, 10, 3, 7, 17, 16, 2, 8, 12, 20, 2, 1, 1, 2, 20, 18, 3, 4, 12, 4, 1, 2, 3, 4, 6, 7, 8, 9, 11, 12, 13, 15, 1, 2, 3, 4, 5, 6, 7, 8, 9, 12, 13, 14, 15, 17, 1, 2, 3, 4, 5, 6, 7, 8, 9, 10, 12, 14, 17, 2, 3, 10, 16, 18, 18, 1, 3, 5, 9, 15, 17, 18, 1, 16, 1, 2, 3, 4, 5, 7, 13, 15, 18, 19, 2, 5, 13, 15, 1, 2, 3, 4, 5, 6, 7, 8, 9, 10, 11, 12, 15, 16, 17, 18, 5, 2, 4, 5, 13, 14, 15, 16, 2, 3, 6, 8, 10, 11, 14, 16, 20, 5, 6, 9, 1, 6, 15, 14, 6, 2, 10, 1, 2, 3, 4, 5, 6, 7, 8, 10, 11, 12, 13, 17, 18, 1, 2, 3, 4, 5, 6, 7, 8, 10, 11, 1, 2, 7, 8, 11, 15, 1, 4, 1, 4, 3, 7, 2, 4, 7, 11, 16, 18, 19, 1, 2, 3, 6, 9, 11, 15, 17, 2, 2, 3, 5, 8, 11, 19, 1, 2, 4, 6, 19, 8, 15, 8, 11, 1, 3, 9, 10, 1, 6, 9, 12, 13, 15, 1, 2, 3, 4, 5, 6, 8, 9, 10, 12, 13, 14, 19, 13, 1, 7, 1, 3, 13, 3, 7, 9, 13, 15, 20, 9, 19, 19], \"Freq\": [0.9630034836498187, 0.9863402908726285, 0.9743519097840458, 0.11298848717486684, 0.8573832262092838, 0.026585526394086317, 0.2112453665272083, 0.7863021976290531, 0.9580613052889458, 0.9926037620938495, 0.02617458501920628, 0.9726475793137053, 0.9915096513397208, 0.9616441259967834, 0.9721936977082296, 0.9490826721740081, 0.013866264974399255, 0.6470923654719652, 0.19874979796638934, 0.026191833840531926, 0.024651137732265342, 0.004622088324799752, 0.01848835329919901, 0.021569745515732177, 0.0385174027066646, 0.004622088324799752, 0.9550559348709742, 0.024402378189194482, 0.9712146519299404, 0.6161337048395261, 0.3740811779382837, 0.9709095345168404, 0.9678119526732898, 0.9808427220341347, 0.04508659289117912, 0.014089560278493474, 0.7608362550386476, 0.17752845950901777, 0.020673061201322764, 0.9785248968626108, 0.3841642899407216, 0.11331464667316249, 0.03316526244092561, 0.16582631220462804, 0.030401490570848472, 0.25703078391717343, 0.016582631220462805, 0.9820081059596815, 0.3338421025840519, 0.008560053912411587, 0.3809223991023156, 0.2739217251971708, 0.8685231354004161, 0.790189020461336, 0.9797052416926381, 0.9384065561568278, 0.19186148889957866, 0.03221032295394386, 0.13724398476028254, 0.06021929943563418, 0.008402692944507094, 0.044814362370704505, 0.2912933554095793, 0.03921256707436644, 0.0266085276576058, 0.015404937064929673, 0.008402692944507094, 0.05041615766704256, 0.06161974825971869, 0.011203590592676126, 0.011203590592676126, 0.008402692944507094, 0.8559080100832048, 0.13449983015593217, 0.9872155991643261, 0.4025746964540355, 0.29842601876443425, 0.03605146535409273, 0.11616583280763212, 0.11616583280763212, 0.030042887795077276, 0.9953875554211576, 0.04734925544658517, 0.5366248950612986, 0.2104411353181563, 0.1999190785522485, 0.8912216170809559, 0.027006715669119878, 0.07201790845098634, 0.9467013866698162, 0.0400014670423866, 0.9707525410319542, 0.973769080534064, 0.9570111612220265, 0.41482036697715197, 0.014739809994111999, 0.30111326130828797, 0.067381988544512, 0.065276301402496, 0.008422748568064, 0.0263210892752, 0.02105687142016, 0.016845497136128, 0.007369904997055999, 0.011581279281088, 0.043166586411328, 0.9665355100237667, 0.9565631199145002, 0.968171185663306, 0.019044991161105418, 0.18410158122401904, 0.012696660774070279, 0.22853989393326501, 0.38883523620590227, 0.16505659006291362, 0.07961608449447508, 0.03503107717756903, 0.057323580836022056, 0.04140036393712704, 0.17834002926762416, 0.09235465801359108, 0.057323580836022056, 0.11783180505182311, 0.01910786027867402, 0.24840218362276223, 0.07006215435513806, 0.003184643379779003, 0.9939357932163447, 0.9173049956955827, 0.0539591173938578, 0.03422270500004344, 0.11977946750015203, 0.8384562725010642, 0.0750975015221358, 0.2334111533796113, 0.014207635423106773, 0.01014831101650484, 0.008118648813203871, 0.06291952830233, 0.12786871880796097, 0.09945344796174742, 0.21514419354990258, 0.06291952830233, 0.07712716372543678, 0.01014831101650484, 0.3382504188380114, 0.6582170312523464, 0.9526133100739935, 0.6886907539964151, 0.3078852782572209, 0.9771920056643063, 0.9690048932065705, 0.9669814451087582, 0.9453207240918662, 0.05350872023161507, 0.9470089510052365, 0.14131159713803143, 0.82431764997185, 0.8837340115275824, 0.1486227545232539, 0.23222305394258425, 0.05573353294622022, 0.04644461078851685, 0.36226796415043144, 0.1486227545232539, 0.2954507778709431, 0.04832138890412621, 0.0635081111311373, 0.19604677783959776, 0.023470388896289874, 0.01794794445010402, 0.28026405564393203, 0.024851000007836337, 0.019328555561650484, 0.0013806111115464632, 0.027612222230929264, 0.0013806111115464632, 0.9743863256116667, 0.18171494352695558, 0.8177172458713001, 0.016394394606143912, 0.02295215244860148, 0.12459739900669374, 0.12459739900669374, 0.029509910291059042, 0.06885645734580444, 0.6098714793485536, 0.052827716224254494, 0.026413858112127247, 0.09244850339244536, 0.805622672419881, 0.9377020557172929, 0.05068659760634016, 0.9684969707705527, 0.012090536922887096, 0.9793334907538547, 0.9929153812230048, 0.9515234947397403, 0.022250894776363748, 0.3003870794809106, 0.2558852899281831, 0.4227670007509112, 0.2905824641809809, 0.024215205348415075, 0.6780257497556221, 0.038004111813972, 0.18368654043419802, 0.009501027953493, 0.421212239271523, 0.15835046589155, 0.03167009317831, 0.15835046589155, 0.9435638297559252, 0.9775860486353926, 0.9862460770894347, 0.9857033885985107, 0.9823851106155101, 0.9624661673451235, 0.975139116010247, 0.9907101705846718, 0.9572639773280723, 0.9657179906392642, 0.9393924661810352, 0.24980993088579928, 0.7040098052236162, 0.003784998952815141, 0.037849989528151405, 0.003784998952815141, 0.9850960842129969, 0.9619133219504984, 0.9821342413518537, 0.9497298079728205, 0.06636229637284166, 0.29688395745744955, 0.08382605857622105, 0.006985504881351754, 0.4051592831184017, 0.1362173451863592, 0.7006720529972327, 0.9815281841450478, 0.9812475719733148, 0.9830084070775618, 0.08638322570318999, 0.8062434398964399, 0.051829935421914, 0.005758881713546, 0.051829935421914, 0.9551086348594996, 0.06121847593880177, 0.9182771390820265, 0.9721462609654606, 0.9839278467514632, 0.17033543926843628, 0.716828306921336, 0.04258385981710907, 0.07097309969518178, 0.37430528158997817, 0.0026175194516781693, 0.22248915339264438, 0.007852558355034508, 0.0013087597258390846, 0.12171465450303487, 0.0026175194516781693, 0.05496790848524155, 0.077216823824506, 0.0026175194516781693, 0.020940155613425354, 0.010470077806712677, 0.03533651259765528, 0.006543798629195423, 0.028792713968459862, 0.030101473694298945, 0.8606533770902207, 0.9760603460698019, 0.9662815681411369, 0.9733337783304786, 0.9553938918595769, 0.2907141818690441, 0.3454992252607788, 0.005301778392748524, 0.010603556785497048, 0.06450497044510704, 0.14138075713996065, 0.06450497044510704, 0.06892311910573082, 0.007952667589122785, 0.9721936977082296, 0.2752563330992984, 0.7078019993981959, 0.02125968563510715, 0.3242102059353841, 0.6112159620093306, 0.010629842817553576, 0.02125968563510715, 0.08337662841991647, 0.06670130273593318, 0.003335065136796659, 0.30349092744849593, 0.24012468984935945, 0.07170390044112816, 0.03835324907316158, 0.07503896557792482, 0.03335065136796659, 0.0850441609883148, 0.9705692060505093, 0.9982191520950752, 0.984591526800068, 0.9881803026819099, 0.0930421922094586, 0.007443375376756688, 0.08187712914432357, 0.1377024444699987, 0.14142413215837707, 0.05210362763729682, 0.33495189195405095, 0.06326869070243185, 0.08187712914432357, 0.003721687688378344, 0.9518566857267499, 0.9364818169223399, 0.044594372234397134, 0.241586744640501, 0.753182203879209, 0.0792620876089464, 0.8983036595680592, 0.02467609064743662, 0.18448315388797853, 0.117505193559222, 0.0646278564575721, 0.30786360712516164, 0.02232598677625218, 0.058752596779611, 0.010575467420329979, 0.0470020774236888, 0.07755342774908652, 0.00705031161355332, 0.03055135032539772, 0.04582702548809658, 0.201613397645623, 0.06919276368903038, 0.5762087045138219, 0.09424531605919655, 0.057262976846094105, 0.980148707825852, 0.9669342488553816, 0.9799269759462831, 0.9420306412598818, 0.061680896914490566, 0.412028391388797, 0.022205122889216604, 0.046877481655012834, 0.18997716249663096, 0.007401707629738868, 0.032074066395535096, 0.12089455795240152, 0.10609114269292377, 0.9745065736455958, 0.92712681007802, 0.9836017278087362, 0.23307733741315517, 0.042083408144041906, 0.11330148346472821, 0.18667768227998074, 0.16185926209246887, 0.07661338405710193, 0.01726498795653001, 0.00755343223098188, 0.01726498795653001, 0.05071590212230691, 0.04855777862774066, 0.045320593385891283, 0.9946019670618862, 0.9613144026160471, 0.14187466397401863, 0.17816818266504666, 0.10888055607308407, 0.032994107900934565, 0.01979646474056074, 0.18476700424523357, 0.30024638189850456, 0.006598821580186914, 0.006598821580186914, 0.01979646474056074, 0.9876470150485716, 0.9874585242604678, 0.983151163437095, 0.07690932453301924, 0.238052671173631, 0.04028583666015294, 0.05127288302201283, 0.09888341725673902, 0.19776683451347804, 0.21974092723719785, 0.04028583666015294, 0.032961139085579676, 0.9630788717111025, 0.9878766935614497, 0.0703573084390762, 0.007406032467271179, 0.05924825973816943, 0.1795962873313261, 0.13608584658610792, 0.11386774918429438, 0.14997215746224138, 0.0018515081168177948, 0.09627842207452533, 0.048139211037262666, 0.013886310876133462, 0.022218097401813536, 0.010183294642497872, 0.09164965178248084, 0.9531134083486809, 0.025759821847261645, 0.8347159341612815, 0.1317972527623076, 0.021966208793717936, 0.878608335027429, 0.1187308560847877, 0.939581417923235, 0.15334980016237346, 0.031456369264076606, 0.11402933858227769, 0.5386903236473118, 0.13762161553033517, 0.02752432310606703, 0.1904743504608528, 0.04410984958040801, 0.14235451455495313, 0.024059917952949827, 0.06415978120786621, 0.20450930260007352, 0.03408488376667892, 0.04210485641766219, 0.050124829068645474, 0.10225465130003676, 0.012029958976474913, 0.032079890603933105, 0.004009986325491638, 0.024059917952949827, 0.030074897441187284, 0.9679024184774956, 0.9131210882632582, 0.08142481041837972, 0.9744955168729841, 0.9790874174276439, 0.12395472568086197, 0.36153461656918073, 0.0568125826037284, 0.34345788574072167, 0.010329560473405164, 0.10329560473405164, 0.06602869863121497, 0.1271052448650888, 0.09739233048104208, 0.1271052448650888, 0.07758372089167759, 0.01980860958936449, 0.08088515582323834, 0.057775111302313095, 0.09244017808370096, 0.06272726369965421, 0.11224878767306545, 0.009904304794682245, 0.01980860958936449, 0.0511722414391916, 0.05119300151362795, 0.18173515537337923, 0.09406714028129136, 0.09022766516776926, 0.06399125189203493, 0.05375265158930934, 0.15293909202196349, 0.008318862745964542, 0.05823203922175179, 0.03455527602169887, 0.004479387632442445, 0.014078075416247686, 0.09150749020560996, 0.00895877526488489, 0.06591098944879599, 0.026236413275734324, 0.00988833253231334, 0.9888332532313341, 0.034581312994357155, 0.06147788976774605, 0.09990157087258733, 0.04226604921532541, 0.10374393898307145, 0.11527104331452384, 0.02305420866290477, 0.14600998819839686, 0.09990157087258733, 0.08453209843065082, 0.18827603741372229, 0.19730012970028643, 0.7892005188011457, 0.9889406697267014, 0.990943296317477, 0.024653373140863948, 0.06163343285215987, 0.019050333790667597, 0.22075975039773627, 0.3216144587012706, 0.007844255090274893, 0.019050333790667597, 0.03361823610117811, 0.2577398101090322, 0.03473884397121738, 0.04727573918804006, 0.38766106134192846, 0.014182721756412017, 0.10400662621368813, 0.037820591350432045, 0.4065713570171445, 0.9878380694848503, 0.22032198970191566, 0.7711269639567048, 0.9841917465812119, 0.8766997712110194, 0.10958747140137742, 0.9614382569592358, 0.12645846245329484, 0.0983565819081182, 0.07493834812047101, 0.018734587030117753, 0.14987669624094202, 0.15456034299847146, 0.0983565819081182, 0.266967865179178, 0.014050940272588314, 0.1271990879356356, 0.19439860609031104, 0.41759700567548297, 0.04319969024229134, 0.05039963861600656, 0.028799793494860892, 0.028799793494860892, 0.10799922560572835, 0.002399982791238408, 0.9747513257443418, 0.013172315212761375, 0.9844234539414118, 0.9827895475478806, 0.018224694068084753, 0.18022197467328255, 0.036449388136169505, 0.13466023950307068, 0.04353676916264691, 0.3553815343276527, 0.04657421817399437, 0.005062415018912431, 0.05467408220425426, 0.007087381026477404, 0.006074898022694918, 0.10934816440850852, 0.0010124830037824863, 0.48188474596129777, 0.13114584858440384, 0.042698648376317525, 0.3415891870105402, 0.9402399175990022, 0.028066863211910514, 0.014033431605955257, 0.9797043069950142, 0.9731769389783911, 0.35300500608378366, 0.04604413122831961, 0.0665081895520172, 0.5269495018352133, 0.04572267994596052, 0.4229347895001348, 0.03886427795406644, 0.07087015391623881, 0.01143066998649013, 0.1143066998649013, 0.17146004979735194, 0.013716803983788156, 0.09373149388921907, 0.01143066998649013, 0.9878631169146982, 0.9761668913495768, 0.9956752640246367, 0.01437351750629301, 0.9821903629300224, 0.9988135335519721, 0.9981801017260012, 0.9153801825474095, 0.9570046859805328, 0.9955677701883763, 0.19170861811056014, 0.19170861811056014, 0.60579923322937, 0.3136132459520118, 0.10210663821693408, 0.2625599268435448, 0.0036466656506047887, 0.010939996951814366, 0.1568066229760059, 0.08022664431330535, 0.0656399817108862, 0.9303064840949574, 0.17092267388519347, 0.06836906955407739, 0.7520597650948513, 0.5374678945963396, 0.26574801455041236, 0.10450764617151048, 0.04478899121636163, 0.008957798243272327, 0.03583119297308931, 0.9890248640255717, 0.9899183569972457, 0.961849813183507, 0.9899470092456538, 0.0734556619696406, 0.9255413408174715, 0.9555489035102128, 0.018834541900379035, 0.9793961788197098, 0.9641707327956149, 0.019935861016450684, 0.016311159013459652, 0.9809076822434117, 0.4760177048694592, 0.4760177048694592, 0.6946893177143246, 0.017812546608059605, 0.2030630313318795, 0.057000149145790734, 0.024937565251283447, 0.9766322123878944, 0.9862306049078172, 0.027738829919079545, 0.7304558545357613, 0.13869414959539772, 0.09246276639693182, 0.487845866385363, 0.2310848840772772, 0.10591390520208538, 0.03851414734621287, 0.10270439292323431, 0.032095122788510726, 0.9664504098579884, 0.8453497820538929, 0.9587118788891501, 0.5390181262531734, 0.014972725729254814, 0.08983635437552888, 0.014972725729254814, 0.20213179734494, 0.09357953580784259, 0.04491817718776444, 0.985555268603888, 0.9836462656693343, 0.9946893078619363, 0.9854914514681996, 0.9444924581400358, 0.19081929554172114, 0.08418498332722991, 0.4938852355197489, 0.02244932888726131, 0.09540964777086057, 0.10663431221449123, 0.1982640748819779, 0.03965281497639558, 0.753403484551516, 0.9584227540618776, 0.08654811621199612, 0.0482399336263585, 0.23907143576592374, 0.15961742744015678, 0.2050197179120236, 0.0297952531221626, 0.044692879683243904, 0.025538788390425088, 0.048949344414981416, 0.03476112864252304, 0.04611170126048974, 0.03192348548803136, 0.09753867000172323, 0.08564371024541552, 0.2320838814675149, 0.11947826244113523, 0.13454521146579168, 0.05603847707416077, 0.04229319024464964, 0.10916929731900188, 0.0385925360982428, 0.004757983902523084, 0.019031935610092338, 0.003436321707377783, 0.015859946341743616, 0.02114659512232482, 0.014273951707569253, 0.006079646097668386, 0.9069266780390927, 0.9884186500300745, 0.09528151296664397, 0.02858445388999319, 0.5507271449472021, 0.221053110082614, 0.013339411815330155, 0.09147025244797821, 0.041510193221456465, 0.9547344440934986, 0.790982780786451, 0.03802801830704091, 0.16732328055098, 0.9861625749353551, 0.9848078825083234, 0.3407383032163782, 0.08966797453062585, 0.10760156943675102, 0.03586718981225034, 0.05380078471837551, 0.3586718981225034, 0.14557656271536978, 0.8318660726592558, 0.9380172548395577, 0.9555580316745305, 0.022123085683796832, 0.15389972649597794, 0.16928969914557576, 0.05578865085479201, 0.15486159978657782, 0.034627438461595036, 0.09522545576938636, 0.01250435277779821, 0.050979284401792696, 0.04232242478639394, 0.020199339102597108, 0.016351845940197656, 0.019237465811997242, 0.03943680491459435, 0.08849234273518733, 0.023084958974396694, 0.974492862096052, 0.049194288003364846, 0.934691472063932, 0.9630034836498187, 0.766910389789028, 0.22630142649512303, 0.9663399435577519, 0.06419446975108055, 0.3091210620321263, 0.05826882638944234, 0.020739751765733713, 0.04839275412004533, 0.05036796857392473, 0.05826882638944234, 0.07407054202047755, 0.07209532756659814, 0.03160343126207042, 0.17974451530302551, 0.005925643361638204, 0.002962821680819102, 0.002962821680819102, 0.021727358992673414, 0.03054518781665089, 0.3087840804737799, 0.3854247335410131, 0.27490669034985804, 0.22313398955884545, 0.6694019686765363, 0.9365009889087812, 0.9597606771653003, 0.963680664017372, 0.9070017572243053, 0.7825543545695015, 0.20928779250114576, 0.9682419701648791, 0.8447811890116949, 0.9067690910082394, 0.9849875153327938, 0.13460501118927093, 0.035114350745027195, 0.017557175372513598, 0.16094077424804132, 0.1433835988755277, 0.06730250559463546, 0.26335763058770395, 0.13460501118927093, 0.02926195895418933, 0.011704783581675732, 0.9705740666059691, 0.9420306412598818, 0.0960714757641756, 0.08588207681949031, 0.13391781470157813, 0.10189398944685292, 0.11499464523287686, 0.12809530101890082, 0.023290054730709237, 0.026201311572047893, 0.010189398944685292, 0.016011912627362603, 0.010189398944685292, 0.22562240520374574, 0.011645027365354619, 0.007278142103346636, 0.007278142103346636, 0.11923522336896956, 0.0008832238768071819, 0.07949014891264637, 0.053876656485238095, 0.09627140257198283, 0.021197373043372367, 0.04592764159397346, 0.22610531246263857, 0.007949014891264638, 0.015898029782529275, 0.08478949217348947, 0.015014805905722092, 0.07065791014457455, 0.01413158202891491, 0.016781253659336456, 0.11128620847770491, 0.019430925289758, 0.9544446898454828, 0.9390154802488491, 0.8787172767945967, 0.1136272340682668, 0.96032460571442, 0.9778948717526693, 0.9788697493787171, 0.3169083331340284, 0.055458958298454965, 0.19278590265653395, 0.13468604158196207, 0.044895347193987356, 0.044895347193987356, 0.03961354164175355, 0.002640902776116903, 0.1690177776714818, 0.13317933348156166, 0.026635866696312335, 0.2473330478943288, 0.09132297153021372, 0.08751784771645481, 0.026635866696312335, 0.30440990510071236, 0.0837127239026959, 0.9582092466070189, 0.09638043974611647, 0.23191543313909277, 0.09035666226198419, 0.0301188874206614, 0.09939232848818261, 0.04216644238892596, 0.07228532980958735, 0.0030118887420661398, 0.009035666226198419, 0.21083221194462978, 0.0150594437103307, 0.09035666226198419, 0.10553971600402254, 0.8865336144337893, 0.9756314003796336, 0.08222740892897819, 0.3654551507954586, 0.08679559831392142, 0.004568189384943233, 0.05938646200426202, 0.37002334018040184, 0.031977325694602626, 0.06366122340520097, 0.923087739375414, 0.043232476964011765, 0.9511144932082588, 0.08412470847470851, 0.1606997636247637, 0.1315796722296723, 0.24590299400299412, 0.11648036558036563, 0.0539260951760952, 0.04314087614087616, 0.02157043807043808, 0.03990531043031045, 0.030198613298613314, 0.0269630475880476, 0.04529791994791997, 0.1032117307812386, 0.23222639425778688, 0.16771906251951274, 0.08385953125975637, 0.07740879808592896, 0.27093079330075137, 0.06450733173827414, 0.961608450714788, 0.0240402112678697, 0.5741352765705965, 0.3758912573063098, 0.033469769486178275, 0.002574597652782944, 0.010298390611131776, 0.9668192179727169, 0.5000710581249648, 0.027302730184983706, 0.229917727873547, 0.16669035270832158, 0.03879861657866106, 0.008621914795258012, 0.02442875858656437, 0.0028739715984193374, 0.1709064499252573, 0.8243722878747705, 0.9677185702675319, 0.13007937666839176, 0.037165536190969066, 0.799059028105835, 0.00961969204138279, 0.016032820068971318, 0.032065640137942636, 0.03847876816553116, 0.18918727681386155, 0.06092471626209101, 0.09299035640003364, 0.3366892214483977, 0.10902317646900496, 0.11543630449659349, 0.9757077385242658, 0.3751025900196709, 0.5860977969057358, 0.9918375122482442, 0.17106478848003034, 0.05823482161022309, 0.018198381753194718, 0.16378543577875246, 0.06551417431150099, 0.014558705402555773, 0.4549595438298679, 0.05459514525958415, 0.964233213015538, 0.9670809563162378, 0.9267258765855069, 0.9886818987256463, 0.507716129032229, 0.2125323330832586, 0.11512168042009842, 0.020662865716427923, 0.14464006001499544, 0.9888838001713369, 0.9824875453243421, 0.9703243861517207, 0.9390154802488491, 0.9630034836498187, 0.09903197232165671, 0.18430950404308333, 0.00825266436013806, 0.0687722030011505, 0.12929174164216292, 0.24757993080414178, 0.01650532872027612, 0.24482904268409575, 0.9316287151376923, 0.24508867833171627, 0.022280788939246933, 0.07494447188655787, 0.2005271004532224, 0.06886789308494506, 0.10532736589462187, 0.010127631336021334, 0.0243063152064512, 0.03240842027526827, 0.04658710414569813, 0.11748052349784746, 0.0425360516112896, 0.008102105068817067, 0.9420306412598818, 0.44297738037186396, 0.06599663003282849, 0.09799499610935139, 0.11599407702739553, 0.16399162614217988, 0.003999795759565363, 0.03699811077597961, 0.06399673215304581, 0.007999591519130727, 0.9883716616189898, 0.16389556366973881, 0.07530336709150162, 0.7574632807439281, 0.017149760354342933, 0.9775363401975472, 0.9851247632820872, 0.9756268819932256, 0.09374274869498837, 0.8436847382548953, 0.03749709947799535, 0.9770660200764687, 0.9742073965615068, 0.9830287895585352, 0.9889870370890863, 0.9705736427757669, 0.993380456353379, 0.9846632254564237, 0.09124117879917269, 0.7704810654152361, 0.030413726266390897, 0.045620589399586346, 0.055758498155049976, 0.10163312400701706, 0.012561397349181883, 0.3699902491940846, 0.04910364418316555, 0.014845287776305864, 0.04453586332891759, 0.29690575552611725, 0.053671425037413505, 0.01941306863055382, 0.01827112341699183, 0.0011419452135619894, 0.01598723298986785, 0.003425835640685968, 0.9481046696997982, 0.9834312176602239, 0.9531403976230046, 0.9759022695902947, 0.9670159695976301, 0.6948039148269696, 0.03389287389399852, 0.0979127468048846, 0.04142462364822041, 0.11109330887477291, 0.01882937438555473, 0.001882937438555473, 0.9907369304148974, 0.0654026939933905, 0.08720359199118734, 0.2659709555731214, 0.008720359199118734, 0.10028413078986544, 0.3531745475643087, 0.0784832327920686, 0.034881436796474936, 0.05281757750324786, 0.08002663258067856, 0.0016005326516135713, 0.7410466176970836, 0.10083355705165499, 0.02080692447097643, 0.9486348673516706, 0.014693300887921324, 0.9844511594907288, 0.70019792779266, 0.12399338304661689, 0.007293728414506875, 0.13128711146112376, 0.0291749136580275, 0.9839291795208879, 0.4651953280033917, 0.05696269322490511, 0.11392538644981022, 0.009493782204150852, 0.12341916865396106, 0.047468911020754255, 0.1993694262871679, 0.664796685879287, 0.3323983429396435, 0.9799483992371867, 0.09685711049540476, 0.03946030427590564, 0.053809505830780424, 0.017936501943593475, 0.0681587073856552, 0.09685711049540476, 0.08609520932924868, 0.4053649439252125, 0.07892060855181128, 0.0035873003887186947, 0.04663490505334303, 0.1003575463459633, 0.8864916593893425, 0.07117814520038941, 0.05001707500567905, 0.06540694423819568, 0.007694934616258316, 0.03462720577316242, 0.06925441154632483, 0.036550939427227, 0.07502561250851858, 0.06733067789226026, 0.08079681347071231, 0.13273762213045595, 0.17505976251987668, 0.08079681347071231, 0.003847467308129158, 0.01731360288658121, 0.011542401924387474, 0.01731360288658121, 0.14845567361106757, 0.8165062048608716, 0.9553414063247812, 0.9492189208885938, 0.9617141073782708, 0.9616905491377854, 0.23725362349367365, 0.04050671620623696, 0.04050671620623696, 0.5728807006310657, 0.0925867798999702, 0.011573347487496275, 0.08544213567965742, 0.11845386991952506, 0.027186134079890997, 0.04854666799980535, 0.015534933759937712, 0.18836107183924478, 0.07184906863971192, 0.05048853471979756, 0.013593067039945499, 0.009709333599961071, 0.040779201119836496, 0.3320592091186686, 0.9344162406556287, 0.12957792024919743, 0.22866691808681897, 0.05081487068595977, 0.09400751076902558, 0.27694104523848073, 0.0025407435342979885, 0.04827412715166178, 0.10417048490621753, 0.025407435342979887, 0.040651896548767816, 0.9498538374863565, 0.06882987647333953, 0.9119958632717488, 0.9309543330224258, 0.06087151661921901, 0.9252470526121289, 0.9747811725127313, 0.9747836359494759, 0.5284445232648396, 0.1807836526958662, 0.27812869645517874, 0.7515207032312256, 0.11674108011358844, 0.12403739762068772, 0.9237883670380275, 0.9844836206386117, 0.9629051609715248, 0.8606533770902207, 0.974741882363436, 0.975476153062891, 0.9330667956042072, 0.9590347035243975, 0.9953400103380275, 0.060110230212434404, 0.23242622348807968, 0.46084509829533044, 0.17231599327564529, 0.01602939472331584, 0.05610288153160544, 0.9894259735726304, 0.65992123348601, 0.3359599006837869, 0.9825895620243456, 0.9390154802488491, 0.05151363940956227, 0.05151363940956227, 0.25756819704781136, 0.38120093163076085, 0.24726546916589892, 0.9160428608025339, 0.8254626147300581, 0.15874281052501119, 0.9757846743566627, 0.9912473683954944, 0.005996776588150907, 0.9654810306922961, 0.023987106352603628, 0.03133566909724936, 0.9400700729174808, 0.24060996867372567, 0.07519061521053927, 0.6767155368948534, 0.9937156843801658, 0.0748913410859943, 0.8986960930319315, 0.9831254549291019, 0.9280088624309644, 0.9920099815968568, 0.9573019161890748, 0.018120680317551482, 0.20838782365184202, 0.7610685733371622, 0.9755264258706806, 0.06212666865283543, 0.05512648063561454, 0.08925239721956639, 0.009625258523678728, 0.12425333730567086, 0.11462807878199213, 0.056001504137767145, 0.1268784078121287, 0.009625258523678728, 0.02012554054951007, 0.10325277325400818, 0.06037662164853021, 0.06475173915929326, 0.06562676266144588, 0.011375305527983952, 0.027125728566730962, 0.3232822670240649, 0.06519978494602989, 0.0054333154121691575, 0.2051076568093857, 0.11002463709642545, 0.05025816756256471, 0.13990787186335582, 0.0027166577060845788, 0.0027166577060845788, 0.02173326164867663, 0.05840814068081845, 0.013583288530422894, 0.06926083151200516, 0.20212854910646402, 0.13004074487968315, 0.5314708703778355, 0.03816413164947222, 0.007067431786939301, 0.019788809003430042, 0.05243380366498728, 0.7260065122844392, 0.21981863844167743, 0.986332264802003, 0.9761227839887789, 0.11600281627899324, 0.05043600707782315, 0.640537289888354, 0.015130802123346944, 0.1714824240645987, 0.76122198414669, 0.13655508875913902, 0.014527137102036068, 0.05520312098773705, 0.01743256452244328, 0.00871628226122164, 0.00871628226122164, 0.9722917644750959, 0.9792911871520591, 0.06715844660173519, 0.7835152103535772, 0.14550996763709292, 0.8921755191584356, 0.09621500696806659, 0.011923898250865565, 0.9777596565709764, 0.9463456445251539, 0.9859288079303274, 0.08780210805609223, 0.8780210805609223, 0.9779213370426918, 0.6854876622657708, 0.058756085337066076, 0.019585361779022026, 0.1827967099375389, 0.0522276314107254, 0.2220414849556652, 0.03416022845471772, 0.039853599863837345, 0.09109394254591392, 0.14802765663711012, 0.1708011422735886, 0.07116714261399526, 0.0854005711367943, 0.03700691415927753, 0.09963399965959335, 0.12707844582256034, 0.5733306625482955, 0.01773187616128749, 0.05615094117741038, 0.04432969040321872, 0.08570406811288953, 0.008865938080643745, 0.08865938080643744, 0.9299227012332473, 0.9468771790448691, 0.2724085754618306, 0.024446923438882235, 0.12921945246266325, 0.02793934107300827, 0.408612863192746, 0.06286351741426861, 0.0034924176341260336, 0.02793934107300827, 0.0034924176341260336, 0.03492417634126034, 0.955924283486852, 0.9858794354913534, 0.964131243585774, 0.01661492516770287, 0.14953432650932583, 0.013845770973085725, 0.6258288479834748, 0.1467651723147087, 0.002769154194617145, 0.04430646711387432, 0.9548316866830071, 0.11445393261432599, 0.8727112361842356, 0.986683539657305, 0.9438366833359971, 0.9404373173613153, 0.04408299925131166, 0.9763636962069278, 0.005007605434477043, 0.5858898358338139, 0.003338403622984695, 0.21532703368251283, 0.025038027172385215, 0.06342966883670921, 0.00667680724596939, 0.06509887064820155, 0.02169962354940052, 0.005007605434477043, 0.9620880990100927, 0.9214188621431987, 0.021080565798793704, 0.42629588615338376, 0.04216113159758741, 0.011711425443774279, 0.014053710532529136, 0.16161767112408507, 0.11242968426023309, 0.08432226319517482, 0.035134276331322836, 0.04216113159758741, 0.046845701775097115, 0.9117541334243425, 0.9559243234184785, 0.15169227662676593, 0.09059399854098521, 0.12219655617156146, 0.18750850860808568, 0.033709394805947986, 0.02738888327983274, 0.014747860227602244, 0.25914097257072516, 0.03160255763057624, 0.05267092938429373, 0.03160255763057624, 0.1536164671550613, 0.2400257299297833, 0.5952638102258626, 0.15975263277133148, 0.06898409142398404, 0.059302113680266985, 0.05204063037247919, 0.08471730525752426, 0.05567137202637309, 0.07382508029584257, 0.14159892450186198, 0.043568899846726766, 0.049620135936549924, 0.01573321383354022, 0.08592755247548889, 0.032676674885045075, 0.010892224961681692, 0.02057420270539875, 0.030256180449115808, 0.013312719397610955, 0.00636846472981206, 0.24094024894455626, 0.10083402488869095, 0.22395767633172411, 0.15815020745699948, 0.1570887966686975, 0.06474605808642261, 0.04776348547359045, 0.01652995610754595, 0.983532388398984, 0.9876971012882165, 0.9785641191372821, 0.007951532582174145, 0.985990040189594, 0.934428458176289, 0.9902838675040745, 0.9883173844723451, 0.9801485789703988, 0.9476148542714132, 0.9921811343106974, 0.006842628512487569, 0.23176082293561948, 0.43155463581115355, 0.1678268028154486, 0.1678268028154486, 0.049487309979134794, 0.923763119610516, 0.9651541527792132, 0.9630034836498187, 0.9803229564125845, 0.9763927190745707, 0.6992890546517668, 0.04429885414083591, 0.01265681546881026, 0.003164203867202565, 0.13922497015691285, 0.0822693005472667, 0.015821019336012824, 0.9521415711732351, 0.9603480441966651, 0.9834243016860581, 0.46873833924630104, 0.5047951345729396, 0.9756577820902136, 0.9128817795062559, 0.5090803243963736, 0.024078123451179833, 0.010319195764791357, 0.07911383419673373, 0.017198659607985594, 0.13414954494228762, 0.1100714214911078, 0.044716514980762546, 0.06879463843194238, 0.9700254257815142, 0.9661337028854785, 0.5535430310680788, 0.284911854226217, 0.1465260964591973, 0.008140338692177628, 0.927599934106618, 0.0624346109494839, 0.9934303399873797, 0.9910644775661759, 0.9822455897061172, 0.9858794354913534, 0.9618581272797737, 0.9625949583456745, 0.10694229306563416, 0.09750620838337233, 0.20287582066862953, 0.004718042341130919, 0.13682322789279666, 0.2091665437901374, 0.020444850144900648, 0.040889700289801295, 0.004718042341130919, 0.018872169364523676, 0.004718042341130919, 0.1525500356965664, 0.9163729078288563, 0.016661325596888297, 0.058314639589109034, 0.9789182258680236, 0.9760598099360008, 0.13792489844039, 0.6502173783618386, 0.20360342150724237, 0.9530344951872051, 0.8715398648284304, 0.9814491922923262, 0.9780245895211257, 0.9912617609163321, 0.054788395126432625, 0.9314027171493546, 0.9962767339847419, 0.17564195983066963, 0.3366470896754501, 0.43910489957667403, 0.04756969745413969, 0.1752457711619158, 0.709745373205759, 0.10514746269714947, 0.9663500112629932, 0.6536148112218376, 0.1861811886510689, 0.14260686790294638, 0.011883905658578865, 0.0856602150903398, 0.09550621682486163, 0.01181520208142618, 0.04135320728499163, 0.09944461751867036, 0.12701342237533145, 0.050214608846061264, 0.140797824803662, 0.03544560624427854, 0.015753602775234906, 0.1496592263647316, 0.02264580398940018, 0.09058321595760072, 0.0039384006938087265, 0.03150720555046981, 0.9740350890642732, 0.9729094619547185, 0.9729094619547185, 0.9788137303359294, 0.7931776225740874, 0.051342667158602875, 0.821482674537646, 0.10268533431720575, 0.9423675451443921, 0.18716221019029722, 0.7673650617802186, 0.01871622101902972, 0.01871622101902972, 0.10988324653400063, 0.1014666574377793, 0.15944760454508175, 0.10427218713651974, 0.13887372008765184, 0.08977695035969412, 0.01496282505994902, 0.003740706264987255, 0.08463347924533665, 0.0673327127697706, 0.005143471114357476, 0.043485710330476844, 0.004675882831234069, 0.03226359153551508, 0.005143471114357476, 0.03506912123425552, 0.9517002044861914, 0.9881521034913034, 0.9767536236980362, 0.028737614676913055, 0.007184403669228264, 0.273007339430674, 0.15805688072302182, 0.5388302751921198, 0.963805445126867, 0.9751359851632151, 0.9737112345161397, 0.012030014401817545, 0.09223011041393452, 0.22055026403332165, 0.02005002400302924, 0.17644021122665732, 0.30877036964665033, 0.05213006240787603, 0.1162901392175696, 0.05351334493925632, 0.03010125652833168, 0.8662472712042117, 0.046824176821849285, 0.06069412910205581, 0.006743792122450645, 0.02697516848980258, 0.8969243522859359, 0.959015472288755, 0.00949221981393282, 0.0063281465426218795, 0.3005869607745393, 0.1740240299221017, 0.025312586170487518, 0.0791018317827735, 0.4018373054564894, 0.986171290505396, 0.9504316599103351, 0.9621510648754122, 0.10615573947340921, 0.7271668153928531, 0.02123114789468184, 0.14331024828910244, 0.9648610421027699, 0.25593217813820035, 0.01148413619850899, 0.23296390574118236, 0.08202954427506422, 0.004921772656503853, 0.06890481719105394, 0.08038895338956292, 0.0032811817710025684, 0.03445240859552697, 0.016405908855012842, 0.050858317450539814, 0.04429595390853468, 0.06890481719105394, 0.04429595390853468, 0.001352332221113213, 0.5341712273397191, 0.20284983316698194, 0.1785078531869441, 0.021637315537811407, 0.004056996663339639, 0.05544562106564173, 0.001241383348652438, 0.6703470082723166, 0.026482844771252012, 0.09393134004803448, 0.12537971821389626, 0.07737956206600198, 0.00455173894505894, 0.9841237122758082, 0.9731513569584568, 0.9420306412598818, 0.9770074422113785, 0.9359732528831579, 0.9675722857300623, 0.7830890174491468, 0.03084896129345124, 0.068816913654622, 0.01898397618058538, 0.09729287792550007, 0.7297042474683303, 0.04937848291139078, 0.15362194683543798, 0.06583797721518769, 0.9812270861974723, 0.9803189941187823, 0.9633296603261892, 0.8609170143942044, 0.13323715698957925, 0.9801795004920958, 0.9739198804328297, 0.024983421258831448, 0.9660256220081492, 0.00633358311783494, 0.9880389663822506, 0.9598406747684155, 0.023410748165083307, 0.9864047283638878, 0.9666401290838215, 0.8982490427732495, 0.05988326951821663, 0.02154310624942553, 0.08617242499770213, 0.5224203265485691, 0.03231465937413829, 0.3069892640543138, 0.02154310624942553, 0.9176055802781046, 0.06535738819929353, 0.09506529192624513, 0.16042268012553867, 0.13071477639858706, 0.05941580745390321, 0.05941580745390321, 0.16636426087092898, 0.035649484472341925, 0.06535738819929353, 0.047532645963122566, 0.1128900341624161, 0.9586445459766406, 0.9788686888143187, 0.9767937908453801, 0.019470972574990968, 0.3299585961700402, 0.08104246221720286, 0.07525371491597409, 0.11577494602457551, 0.0694649676147453, 0.32416984886881145, 0.007995576295235545, 0.01599115259047109, 0.9674647317235009, 0.15137584462327883, 0.1576831714825821, 0.6181180322117218, 0.012614653718606568, 0.05676594173372956, 0.07164037820628458, 0.14033663128080404, 0.10206300456785748, 0.23749276062905297, 0.17664750790590716, 0.026497126185886077, 0.0745845033380497, 0.03631087662510314, 0.006869625307451946, 0.11972775535844819, 0.006869625307451946, 0.9866742766104423, 0.32242281439214204, 0.012896912575685683, 0.6126033473450699, 0.05158765030274273, 0.023851183060039253, 0.023851183060039253, 0.9480845266365603, 0.9971136998504484, 0.009652216278433726, 0.6466984906550597, 0.2895664883530118, 0.057913297670602354, 0.10936435847963435, 0.042964569402713496, 0.007811739891402454, 0.07030565902262209, 0.1288937082081405, 0.019529349728506135, 0.015623479782804909, 0.04687043934841473, 0.09374087869682945, 0.023435219674207364, 0.44136330386423867, 0.8553720056880042, 0.9663372093092448, 0.9933230887824457, 0.9166722988809033, 0.9723598930652221, 0.9754060937476398, 0.9472997335576178, 0.8994404568887912, 0.6896358199458247, 0.02315941186385232, 0.15954261506209377, 0.11579705931926161, 0.01029307193948992, 0.16956150182526813, 0.2810851741667197, 0.052347846201089496, 0.028449916413635593, 0.039829882979089834, 0.11379966565454237, 0.027311919757090172, 0.04210587629218068, 0.007965976595817966, 0.1763894817645407, 0.044381869605271525, 0.01593195319163593, 0.9696114759935277, 0.22194096083000586, 0.11396968258838139, 0.08397766085459682, 0.045587873035352555, 0.005998404346756915, 0.13916298084476042, 0.025193298256379042, 0.1355639382367063, 0.03599042608054149, 0.0635830860756233, 0.01199680869351383, 0.005998404346756915, 0.06238340520627192, 0.01919489390962213, 0.003599042608054149, 0.02399361738702766, 0.9749000390065247, 0.3136732058364173, 0.08415622595611194, 0.0038252829980050885, 0.41313056378454954, 0.022951697988030532, 0.007650565996010177, 0.08798150895411704, 0.011475848994015266, 0.04972867897406615, 0.963300189429806, 0.06813882821074045, 0.9085177094765394, 0.26668311793712907, 0.3596181438849165, 0.09697567924986511, 0.27072377123920677, 0.9831871309718353, 0.02266063251263488, 0.18128506010107903, 0.09064253005053952, 0.0566515812815872, 0.03399094876895232, 0.06798189753790464, 0.47020812463717376, 0.03965610689711104, 0.0283257906407936, 0.9807208054781253, 0.17848980710940926, 0.7626382667402032, 0.04867903830256616, 0.9639997582073464, 0.3433340687296905, 0.06637791995440684, 0.08011128270359447, 0.12588915853421986, 0.009155575166125082, 0.0778223889120632, 0.009155575166125082, 0.27466725498375244, 0.009155575166125082, 0.9918296190287674, 0.986125967715365, 0.06766764655382619, 0.066437325707393, 0.2030029396614786, 0.07258892993955901, 0.2694402653688716, 0.0356793045465629, 0.01722449185006485, 0.028297379467963683, 0.23376096082230868, 0.003690962539299611, 0.14071663765210113, 0.08442998259126067, 0.7176548520257158, 0.028143327530420224, 0.9592423283862318, 0.9873767694998533, 0.21663443243967892, 0.06189555212562255, 0.003868472007851409, 0.14700193629835354, 0.06189555212562255, 0.18181818436901623, 0.11218568822769087, 0.06576402413347396, 0.14700193629835354, 0.07094108337215203, 0.8276459726751071, 0.09458811116286937, 0.03551543598016548, 0.7576626342435303, 0.20125413722093774, 0.09696838243741676, 0.08484733463273966, 0.04848419121870838, 0.20605781267951062, 0.07272628682806258, 0.47272086438240674, 0.17007062561437516, 0.017408804196747067, 0.19417512373294804, 0.08570488219937017, 0.02410449811857286, 0.04686985745278056, 0.013391387843651589, 0.10043540882738691, 0.06561780043389279, 0.02410449811857286, 0.15132268263326296, 0.05624382894333667, 0.002678277568730318, 0.013391387843651589, 0.036156747177859286, 0.9758202326334936, 0.9765879090285463, 0.9688735958039546, 0.988866254927374, 0.9884456049644712, 0.9978717158513142, 0.9818597576767939, 0.2363515274642382, 0.0666632513360672, 0.49088394165649474, 0.09090443364009163, 0.04848236460804887, 0.0666632513360672, 0.12718549207251667, 0.003633871202071905, 0.14535484808287621, 0.01453548480828762, 0.6068564907460081, 0.10174839365801334, 0.27410833456145517, 0.7126816698597834, 0.971053592624992, 0.9610780266711647, 0.9531298812297014, 0.9690621695427183, 0.9386896169149282, 0.04686829125739532, 0.005207587917488369, 0.11586883116411621, 0.10545365532913947, 0.09634037647353483, 0.05598157011299997, 0.36322925724481375, 0.0169246607318372, 0.013018969793720922, 0.015622763752465107, 0.02733983656681394, 0.024736042608069754, 0.08071761272106973, 0.019528454690581384, 0.014320866773093015, 0.11005581500631237, 0.06603348900378742, 0.2522817913221622, 0.06434032261907492, 0.09312415115918739, 0.0846583192356249, 0.005079499154137494, 0.11513531416044986, 0.018624830231837478, 0.03894282684838745, 0.020317996616549976, 0.06941982177321242, 0.03217016130953746, 0.010158998308274988, 0.020317996616549976, 0.982974397116756, 0.013631527304069677, 0.08178916382441806, 0.23173596416918452, 0.15676256399680127, 0.006815763652034838, 0.09542069112848774, 0.13631527304069677, 0.07497340017238323, 0.20447290956104516, 0.9623039839782451, 0.14288990968516127, 0.2814498221071358, 0.028144982210713584, 0.10175493568488757, 0.023814984947526877, 0.06711495757939394, 0.06927995621098729, 0.028144982210713584, 0.03896997536868035, 0.08010494936895404, 0.05628996442142717, 0.023814984947526877, 0.05628996442142717, 0.955924283486852, 0.966168205170193, 0.9804839929928537, 0.8994404568887912, 0.9420306412598818, 0.9371406877912576, 0.9750230353468755, 0.04916147272070581, 0.10924771715712403, 0.15294680401997363, 0.04916147272070581, 0.14748441816211744, 0.4916147272070581, 0.9789537759086533, 0.9887124300004243, 0.9877458851484193, 0.46843526719799694, 0.0033700378935107695, 0.27802812621463846, 0.10025862733194539, 0.06908577681697077, 0.08088090944425846, 0.24748598029954694, 0.05303271006418863, 0.19150700856512562, 0.01767757002139621, 0.48613317558839575, 0.9677794966593057, 0.03075187185646392, 0.2215193284195175, 0.04027624153082136, 0.01006906038270534, 0.08055248306164273, 0.15103590574058012, 0.29200275109845486, 0.19131214727140147, 0.9588629607444897, 0.9651917206513148, 0.9461566740165923, 0.4117931527106713, 0.054574996142378124, 0.02232613478551832, 0.2679136174262199, 0.04961363285670738, 0.05953635942804886, 0.0024806816428353693, 0.08186249421356719, 0.014884089857012214, 0.037210224642530536, 0.07663382427346141, 0.007663382427346141, 0.9119425088541908, 0.027825344816969945, 0.22878616849508623, 0.05874239461360322, 0.07729262449158318, 0.04637557469494991, 0.12675990416619642, 0.05565068963393989, 0.08965944441023649, 0.04328386971528658, 0.061834099593266544, 0.03710045975595993, 0.14840183902383972, 0.8763300060184015, 0.10309764776687076, 0.9609022923080737, 0.48473588154717673, 0.014960983998369651, 0.07480491999184825, 0.10173469118891362, 0.08677370719054397, 0.03291416479641323, 0.15260203678337045, 0.026929771197065373, 0.023937574397391442, 0.12420708269782042, 0.8487483984351062, 0.6002674094028929, 0.04474042803002928, 0.3169113652127074, 0.0372836900250244, 0.08239570576020562, 0.17165772033376173, 0.17165772033376173, 0.06179677932015422, 0.11672724982695797, 0.1304598674536589, 0.006866308813350468, 0.010299463220025703, 0.037764698473427574, 0.07896255135353039, 0.13389302186033414, 0.9607136221624701, 0.0270623555538724, 0.48884507012216694, 0.5028120721256575, 0.9418582858242641, 0.050232441910627416, 0.9723576554585728, 0.9374480710938979, 0.06249653807292652, 0.9890138558877872, 0.9837083163219907, 0.995103667006825, 0.0048779591519942395, 0.9616271966155236, 0.1805736193206408, 0.8125812869428836, 0.9764872279387112, 0.982974397116756, 0.10118501852012973, 0.37101173457380904, 0.11804918827348469, 0.40474007408051893, 0.9756133952024136, 0.06599082825374324, 0.5939174542836891, 0.3365532240940905, 0.9487133882779575, 0.9870896965691014, 0.9858794354913534, 0.022375944500394162, 0.8807985426064247, 0.09560630831986597, 0.1343255250442686, 0.8626683719509693, 0.03434393534153221, 0.173355102200115, 0.04742733928116353, 0.011447978447177404, 0.004906276477361745, 0.2207824414812785, 0.3041891415964282, 0.01962510590944698, 0.031073084356624384, 0.05396904125097919, 0.031073084356624384, 0.03925021181889396, 0.027802233371716552, 0.981184446992189, 0.017970411117073058, 0.043126006076501994, 0.08117836437929787, 0.012684119434265293, 0.05073647773706117, 0.4566282996335505, 0.16235672875859575, 0.010147295547412234, 0.18011449596656715, 0.365926822810378, 0.6220755987776427, 0.7063318408605795, 0.9301015407420657, 0.18463850588049083, 0.8001001921487937, 0.07195706197432819, 0.8994632746791025, 0.007010504900816599, 0.11216807841306559, 0.010515757351224899, 0.08412605880979919, 0.7851765488914592, 0.15753725104689678, 0.11252660789064056, 0.3533335487766114, 0.03825904668281779, 0.13503192946876869, 0.08552022199688683, 0.09227181847032526, 0.024755853735940924, 0.0022505321578128114, 0.1050848088955848, 0.25722251729665535, 0.06744248929119621, 0.023526449752742866, 0.37799162602740205, 0.1552745683681029, 0.0047052899505485735, 0.006273719934064764, 0.004546852880071722, 0.29781886364469773, 0.55471605136875, 0.06592936676103996, 0.006820279320107582, 0.06592936676103996, 0.004546852880071722, 0.43872381264682414, 0.5484047658085301, 0.9729680836505362, 0.06603588863099964, 0.13807503986481742, 0.018009787808454445, 0.06603588863099964, 0.057030994726772415, 0.02701468171268167, 0.012006525205636297, 0.2551386606197713, 0.2941598675380893, 0.009004893904227223, 0.05402936342536334, 0.22868105467922353, 0.20962430012262157, 0.5431175048631559, 0.00952837727830098, 0.9554046310583151, 0.0010911311620126058, 0.19094795335220602, 0.14075591989962613, 0.04364524648050423, 0.055647689262642894, 0.11565990317333621, 0.17458098592201693, 0.034916197184403384, 0.01527583626817648, 0.06983239436880677, 0.016366967430189085, 0.08510823063698325, 0.05455655810063029, 0.9428027318010336, 0.949730842906183, 0.9624326774057174, 0.07387352169824128, 0.03693676084912064, 0.03693676084912064, 0.7510474705987864, 0.03693676084912064, 0.06156126808186774, 0.9456955629862843, 0.14166031665194398, 0.829724711818529, 0.011564107481791345, 0.011564107481791345, 0.0028910268704478363, 0.9895841073981331, 0.9574454587087025, 0.11766403698750154, 0.24177541846746892, 0.011282852861815216, 0.17407830129657761, 0.10638118412568631, 0.24096950040591067, 0.0515787559397267, 0.010476934800256986, 0.009671016738698756, 0.021759787662072202, 0.008865098677140526, 0.004835508369349378, 0.9564808552282236, 0.14516231022833848, 0.14516231022833848, 0.10794120504158501, 0.0744422103735069, 0.00744422103735069, 0.29032462045667695, 0.00744422103735069, 0.21588241008317002, 0.019192936932849323, 0.09212609727767675, 0.7024614917422852, 0.18041360716878363, 0.014360092968974524, 0.03590023242243631, 0.8759656711074459, 0.06462041836038536, 0.9878465769165143, 0.9851292790680886, 0.056807673185622874, 0.03997577001951239, 0.07153558845596954, 0.0210398789576381, 0.03997577001951239, 0.0631196368729143, 0.29245431751116957, 0.02945583054069334, 0.03576779422798477, 0.32401413594762674, 0.02524785474916572, 0.965692301161017, 0.9936643847709005, 0.1470484028939817, 0.7842581487679023, 0.988981392704394, 0.9643095457677039, 0.4580147574267784, 0.532287420793283, 0.9523447803708041, 0.9410536152573313, 0.8675338732004328, 0.015309421291772344, 0.020412561722363123, 0.09185652775063406, 0.9574454587087025, 0.7674553026533198, 0.21542604986759856, 0.24575830997298115, 0.05734360566036227, 0.07372749299189435, 0.24575830997298115, 0.36863746495947175, 0.2654738387513334, 0.07584966821466668, 0.13002800265371434, 0.49844067683923826, 0.027089167219523817, 0.09389519859487797, 0.03313948185701575, 0.031298399531625984, 0.25038719625300787, 0.07364329301559056, 0.047868140460133865, 0.4179256878634764, 0.047868140460133865, 0.001841082325389764, 0.9625804107752511, 0.9520721300274382, 0.961377502536498, 0.4184423706568125, 0.5720477978599462, 0.9953214015019368, 0.2934389638453668, 0.021898430137713937, 0.0350374882203423, 0.5956372997458191, 0.004379686027542787, 0.04817654630297066, 0.22484965699160459, 0.7661543867862082, 0.008327765073763132, 0.9861020382495534, 0.9487120405221563, 0.9654754673850421, 0.947838667878993, 0.7241425680648435, 0.13699994530956497, 0.03424998632739124, 0.09785710379254642, 0.9441396612287795, 0.12822563406207924, 0.8243076475419379, 0.036635895446308346, 0.9872500659833462, 0.22939081689222865, 0.05505379605413488, 0.17433702083809377, 0.5413623278656596, 0.2595838460826511, 0.05137596953719137, 0.054079967933885656, 0.03244798076033139, 0.02974398236363711, 0.24065585730579117, 0.06759995991735707, 0.07300795671074563, 0.062191963123968505, 0.024335985570248544, 0.05137596953719137, 0.05678396633057994, 0.048088971101003845, 0.01923558844040154, 0.25006264972522, 0.32700500348682615, 0.3462405919272277, 0.9630034836498187, 0.11186263924505334, 0.8789207369254192, 0.11535346956674965, 0.7874128139991172, 0.09529199659861928, 0.11279166102830239, 0.06996701967531058, 0.10193470969937489, 0.14355302312693033, 0.1670764176729399, 0.16526692578478533, 0.03679300172580987, 0.03920565757668265, 0.022920230583291394, 0.07298283948890155, 0.04041198550211904, 0.004825311701745557, 0.0024126558508727786, 0.010253787366209308, 0.009047459440772919, 0.044637433568522976, 0.08927486713704595, 0.21202780945048413, 0.05579679196065372, 0.5914459947829295, 0.9602031886400191, 0.9375511449164584, 0.9795354092285888, 0.9750070672123252, 0.983898205293374, 0.9784578293193412, 0.9918141899521219, 0.9390187607349149, 0.16066861257117557, 0.8325555378688189, 0.9061962791059731, 0.37373309009883454, 0.02335831813117716, 0.08759369299191434, 0.08954021950284578, 0.12068464367774866, 0.03698400370769717, 0.03309095068583431, 0.03503747719676574, 0.1440429618089258, 0.05450274230608004, 0.9817247047137009, 0.9813445478093813, 0.9399085515415497, 0.01845864527131201, 0.023073306589140016, 0.8444830211625245, 0.10613721031004407, 0.09501609511328418, 0.0527867195073801, 0.8445875121180816, 0.9794077970501703, 0.942629171579029, 0.9879635056128334, 0.8926374227501075, 0.10201570545715515, 0.022372488094275594, 0.03691460535555473, 0.004474497618855119, 0.17562403154006342, 0.14653979701750514, 0.016779366070706694, 0.5156858505730525, 0.012304868451851577, 0.012304868451851577, 0.025728361308416933, 0.027965610117844493, 0.0003366987829502654, 0.04444423934943503, 0.29427473629853196, 0.3053857961358907, 0.12760883873815057, 0.11851797159849341, 0.10875370689293572, 0.053731430913723274, 0.9134343255332957, 0.017910476971241093, 0.9756054490451819, 0.986270284389789, 0.036363853206265805, 0.07272770641253161, 0.8727324769503794, 0.98411434244176, 0.9933097024131982, 0.993462092894268, 0.4118113504995156, 0.16472454019980626, 0.3843572604662146, 0.03577416861464242, 0.9480154682880242, 0.9838325388235989, 0.9858685980095683, 0.9788252384453616, 0.9642101263254644, 0.9615645113107164, 0.9903367696355291, 0.1065378853119293, 0.8736106595578202, 0.9712822631845277, 0.9598365306382238, 0.967420297968825, 0.9193943542856081, 0.9280088624309644, 0.9595109941648827, 0.9353525557423582, 0.03980223641456843, 0.9776062165384388, 0.8805812222110001, 0.9280088624309644, 0.5964055112634912, 0.12689478963053002, 0.27070888454513076, 0.9425567883065392, 0.9954767338369525, 0.9569594366747108, 0.2783493284446839, 0.05352871700859305, 0.1070574340171861, 0.1712918944274978, 0.3961125058635886, 0.9572116171677484, 0.9938873532753654, 0.9833217980775485, 0.23758727040828773, 0.48293883069919924, 0.16305008753509942, 0.03726859143659415, 0.02639858560092086, 0.031057159530495128, 0.015528579765247564, 0.004658573929574269, 0.8910469851816473, 0.9547114137046168, 0.017371769172401706, 0.9554473044820939, 0.9328913441553505, 0.9878203978880642, 0.9792258919625895, 0.9727089127848869, 0.9729142822069279, 0.9420306412598818, 0.696113760174763, 0.28590386578606336, 0.012430602860263625, 0.9671660167494336, 0.9852676795011047, 0.28523668425412496, 0.2522007970947489, 0.06365451428270019, 0.059625747555947024, 0.02336684701516843, 0.02820136708727224, 0.017726573597713978, 0.040287667267531774, 0.17565422928643853, 0.007251780108155719, 0.029812873777973512, 0.016920820252363345, 0.15256024914898633, 0.0915361494893918, 0.7628012457449317, 0.07096475097823578, 0.24837662842382519, 0.6623376757968672, 0.3422523421143443, 0.6488533985917777, 0.9768314698166114, 0.11746256098550521, 0.8516035671449128, 0.10896554739130958, 0.8717243791304766, 0.19219000562412736, 0.06489532657438067, 0.13478260134679063, 0.02495974099014641, 0.0074879222970439235, 0.032447663287190336, 0.07737519706945388, 0.18470208332708343, 0.10483091215861493, 0.0074879222970439235, 0.17222221283201022, 0.9956182996369058, 0.9636553974475963, 0.02094903037929557, 0.9476672460356008, 0.9837929576485942, 0.9798993114065265, 0.9560425643223922, 0.9675369197247806, 0.08254727561290645, 0.008924029795989887, 0.10708835755187864, 0.02677208938796966, 0.1405534692868407, 0.09593332030689128, 0.06693022346992415, 0.08254727561290645, 0.13609145438884576, 0.04462014897994943, 0.029003096836967134, 0.04238914153095196, 0.13609145438884576, 0.07478198256247741, 0.4412136971186167, 0.007478198256247741, 0.08226018081872515, 0.037390991281238704, 0.07478198256247741, 0.2916497319936619, 0.8946584509592344, 0.10525393540696874, 0.1229102951448394, 0.8603720660138757, 0.9845872046933865, 0.833763844310612, 0.9696276267830057, 0.082271245070861, 0.9049836957794711, 0.16551547144604772, 0.04514058312164938, 0.3410621835857953, 0.44639021086964387, 0.09936060790798414, 0.03346883634795255, 0.06589177156003158, 0.11086552040259282, 0.057524562473043446, 0.042881946570814206, 0.07321307951114621, 0.10249831131560469, 0.10877371813084578, 0.0920392999568695, 0.0669376726959051, 0.011504912494608688, 0.0794884863263873, 0.013596714766355723, 0.015688517038102756, 0.005229505679367586, 0.01882622044572331, 0.9671690690363003, 0.8233885664378884, 0.17585809551926612, 0.9758966255861936, 0.9386372222334821, 0.037545488889339285, 0.9717299047123842, 0.9750391630127511, 0.5151502188187367, 0.4808068708974876, 0.16849621118309122, 0.827163218535175, 0.9613589166012473, 0.9737636150059652, 0.9668062310104998, 0.111029238767265, 0.011956994944167, 0.867736204519548, 0.010248852809286, 0.8814254560748745, 0.9581610074045919, 0.11271592355514072, 0.8775739762507384, 0.9300331573747861, 0.909597836547087, 0.004870331860341771, 0.44320019929110116, 0.39449688068768346, 0.15585061953093668, 0.9842336089510413, 0.9209985768990028, 0.9514293291628104, 0.013263769808073884, 0.6985585432252245, 0.0795826188484433, 0.09726764525920847, 0.06189759243767812, 0.044212566026912946, 0.944548399065058, 0.9416663546504649, 0.9433409422437037, 0.9858794354913534, 0.15226571366682592, 0.3561930087563249, 0.4894255082147976, 0.9555323619522424, 0.12930423677458103, 0.04310141225819367, 0.526795038711256, 0.062257595484057536, 0.03831236645172771, 0.16282755741984278, 0.03352332064526175, 0.8535437966868638, 0.14062490614498352, 0.25312483106097033, 0.5624996245799341, 0.9397274356356379, 0.08194256925340937, 0.9088175862650857, 0.8192887479791411, 0.1248439996920596, 0.01560549996150745, 0.03901374990376862, 0.05739524826230171, 0.11479049652460342, 0.14922764548198444, 0.022958099304920685, 0.6543058301902395, 0.980283569979268, 0.23602570795118216, 0.049864586186869474, 0.029918751712121685, 0.043215974695286874, 0.14626945281481712, 0.013297222983165193, 0.1728638987811475, 0.13962084132323452, 0.16621528728956492, 0.995373911254229, 0.027947294115914394, 0.13877277078247147, 0.20815915617370723, 0.1329905719998685, 0.10118847869555211, 0.015419196753607941, 0.14551866936217495, 0.10118847869555211, 0.059749387420230775, 0.04047539147822085, 0.0009636997971004963, 0.019273995942009927, 0.007709598376803971, 0.974305706659426, 0.9898756136865663, 0.9449740907022062, 0.9670722163016089, 0.023742127079526616, 0.7201778547456407, 0.1345387201173175, 0.11079659303779087, 0.9176055802781046, 0.5406763441109377, 0.19738977642145344, 0.19738977642145344, 0.004291082096118553, 0.05578406724954119, 0.9876071073770243, 0.15530784508637563, 0.012942320423864635, 0.15530784508637563, 0.03882696127159391, 0.53063513737845, 0.10353856339091708, 0.9801210861818406, 0.9787571747830783, 0.3173066493017036, 0.0029110701770798495, 0.043666052656197746, 0.20086384221850961, 0.09897638602071489, 0.0829655000467757, 0.17320867553625105, 0.04803265792181752, 0.03202177194787834, 0.979509471829957, 0.016969332431331335, 0.4185768666395063, 0.5599879702339341, 0.9683897623593988, 0.5060632142777107, 0.007825719808418207, 0.023477159425254624, 0.08869149116207302, 0.05999718519787292, 0.02608573269472736, 0.05738861192840019, 0.1095600773178549, 0.1095600773178549, 0.007825719808418207, 0.3368949153422634, 0.1554899609271985, 0.005758887441748092, 0.16700773581069467, 0.10365997395146566, 0.02735471534830344, 0.12669552371845802, 0.03599304651092557, 0.017276662325244278, 0.024475271627429393, 0.9457233901575904, 0.24476369351360755, 0.18747857375510366, 0.11977797767687177, 0.026038690799319954, 0.1562321447959197, 0.01041547631972798, 0.031246428959183944, 0.2239327408741516, 0.0700674126975053, 0.0700674126975053, 0.16816179047401272, 0.01401348253950106, 0.04204044761850318, 0.15414830793451167, 0.44843144126403395, 0.05605393015800424, 0.23250114563910879, 0.09940266371527115, 0.35717567301080483, 0.09771787280484283, 0.0016847909104283246, 0.026956654566853193, 0.17858783650540241, 0.005054372731284973, 0.978622280052738, 0.07843856871043986, 0.8628242558148385, 0.05229237914029324, 0.9720266792389248, 0.9846343791499887, 0.9591951947513738, 0.12430269449398186, 0.05085110229299258, 0.07345159220098928, 0.11017738830148392, 0.08192677591648805, 0.1666786130714757, 0.11865257201698269, 0.05085110229299258, 0.04520097981599341, 0.07062653096248969, 0.05367616353149217, 0.05367616353149217, 0.9728883572682, 0.9426167505697147, 0.9801430882532535, 0.9912062355187469, 0.13110408755811956, 0.06900215134637872, 0.1725053783659468, 0.1817056652121306, 0.13800430269275743, 0.03450107567318936, 0.009200286846183828, 0.07820243819256255, 0.029900932250097444, 0.043701362519373184, 0.11040344215420594, 0.883655074672264, 0.06797346728248185, 0.9648739772426355, 0.06606780325714985, 0.008258475407143731, 0.1692987458464465, 0.033033901628574926, 0.07432627866429359, 0.030969282776788995, 0.022710807369645262, 0.3303390162857493, 0.08258475407143732, 0.033033901628574926, 0.08052013521965139, 0.06400318440536393, 0.13994219364910598, 0.19242051626752074, 0.10058345168529492, 0.030612354860741934, 0.010932983878836405, 0.28207098407397924, 0.07434429037608756, 0.15087517752794238, 0.017492774206138248, 0.1682020457352635, 0.4018159981453517, 0.004672279048201764, 0.07475646477122823, 0.34107637051872874, 0.07876453571155859, 0.713026323283583, 0.02487301127733429, 0.1699655770617843, 0.00829100375911143, 0.03753403604638452, 0.8257487930204593, 0.13762479883674322, 0.9641228403289129, 0.9723368617031503, 0.2128761131033415, 0.035479352183890256, 0.7450663958616953, 0.9848198069238664, 0.7784147816611506, 0.956805056629446, 0.047694736492246544, 0.2384736824612327, 0.16077741817547625, 0.18000916676105952, 0.12308319094773301, 0.03154006768035658, 0.09154312326737643, 0.005384889603963319, 0.03769422722774323, 0.033078607567203246, 0.030770797736933253, 0.002307809830269994, 0.016923938755313287, 0.9824643679216593, 0.05170168677397161, 0.11817528405479226, 0.003692977626712258, 0.12186826168150452, 0.003692977626712258, 0.048008709147259354, 0.13664017218835356, 0.08124550778766967, 0.03323679864041032, 0.09232444066780646, 0.03323679864041032, 0.011078932880136774, 0.20680674709588645, 0.05170168677397161, 0.16668858546254506, 0.03448729354397484, 0.0574788225732914, 0.12645340966124108, 0.04023517580130398, 0.4138475225276981, 0.14944493869055764, 0.00862182338599371, 0.9576134223647643, 0.03330829295181789, 0.8321009913545837, 0.06590898941422445, 0.09886348412133668, 0.215415113216081, 0.7539528962562835, 0.9251929627224281, 0.050920257039141534, 0.2777468565771356, 0.1527607711174246, 0.18979368532770935, 0.009258228552571187, 0.009258228552571187, 0.09721139980199747, 0.02314557138142797, 0.07869494269685509, 0.009258228552571187, 0.10184051407828307, 0.18961760725196034, 0.20053085083480696, 0.10776828038061055, 0.06002283970565651, 0.030011419852828253, 0.08730594866277311, 0.05593037336208902, 0.04638128522709821, 0.1145890576198897, 0.0013641554478558298, 0.010913243582846639, 0.005456621791423319, 0.005456621791423319, 0.08184932687134978, 0.9878716789880277, 0.9572899365267862, 0.23330554783134735, 0.09557094730440735, 0.023892736826101837, 0.07308366558572327, 0.10119276773407837, 0.06043456961896347, 0.1560055169233708, 0.1560055169233708, 0.05762365940412796, 0.03794728790027939, 0.0014054551074177551, 0.0028109102148355103, 0.9723378612201544, 0.9403822610252384, 0.12198413043353164, 0.10455782608588426, 0.0784183695644132, 0.13069728260735533, 0.505362826081774, 0.026139456521471066, 0.026139456521471066, 0.032621001677172155, 0.9655816496442958, 0.046906522843327234, 0.17589946066247714, 0.03517989213249543, 0.7270511040715721, 0.11966526370875849, 0.11966526370875849, 0.2222354897448372, 0.06838015069071914, 0.06838015069071914, 0.13676030138143827, 0.25642556509019676, 0.04242423021892127, 0.9474744748892417, 0.9157959208331031, 0.0624406309658934, 0.8465046160981077, 0.9895635671583025, 0.9525146604461348, 0.04024709832870992, 0.9590664096940485, 0.020405668291362734, 0.9899988700314722, 0.9933097024131982, 0.7998095827915693, 0.042514795098555186, 0.05048631917953428, 0.10362981305272825, 0.06031391702227469, 0.34283700202135087, 0.5364764198297065, 0.05079066696612605, 0.0031744166853828783, 0.0031744166853828783, 0.9044033449887766, 0.16557612205811773, 0.04085644570265243, 0.5977943108072302, 0.096765266137861, 0.030104749465112313, 0.05590882043520858, 0.012902035485048135, 0.9917088211910406, 0.07048489383593391, 0.9163036198671409, 0.04806270899848889, 0.14819335274534073, 0.08811496649722964, 0.03204180599899259, 0.02803658024911852, 0.04405748324861482, 0.04405748324861482, 0.4325643809864, 0.08811496649722964, 0.020026128749370372, 0.024031354499244446, 0.9853159321066369, 0.7582125232106811, 0.22012621641600422, 0.3277736125741213, 0.03622760981082393, 0.043128106917647534, 0.02070149132047082, 0.04140298264094164, 0.06727984679153015, 0.02070149132047082, 0.24324252301553212, 0.008625621383529507, 0.07073009534494196, 0.09833208377223639, 0.02070149132047082, 0.07174469238881746, 0.016142555787483928, 0.3210574984399582, 0.12017235975126925, 0.10941065589294663, 0.11658512513182838, 0.04125319812357004, 0.1470766193970758, 0.055602136601333535, 0.05565854526515116, 0.14761614179018354, 0.31943165108695454, 0.11857690078227857, 0.08227784952239738, 0.05081867176383367, 0.22505411781126342, 0.0492541320415589, 0.7388119806233835, 0.2093300611766253, 0.0029319530827210463, 0.13780179488788918, 0.5863906165442093, 0.09089054556435244, 0.035183436992652556, 0.029319530827210463, 0.04691124932353674, 0.02345562466176837, 0.011727812330884185, 0.035183436992652556, 0.4863798512553829, 0.5066456783910239, 0.013051882320213617, 0.13051882320213617, 0.0039155646960640856, 0.015662258784256342, 0.7061068335235567, 0.03524008226457677, 0.03524008226457677, 0.02349338817638451, 0.0339348940325554, 0.0744506442696494, 0.7918841254135436, 0.06091416349334951, 0.06091416349334951, 0.7775606191877996, 0.9832629094849437, 0.93277085076045, 0.05279835004304433, 0.960881734344774, 0.980337094652555, 0.9652248858659329, 0.9753354121200214, 0.05493143096357518, 0.04119857322268138, 0.08239714644536276, 0.17852715063161934, 0.6179785983402208, 0.02746571548178759, 0.37048610498601076, 0.6174768416433513, 0.9737878026882313, 0.024243679734976712, 0.10070282976268587, 0.10789588903144914, 0.007193059268763276, 0.014386118537526553, 0.507110678447811, 0.06114100378448785, 0.0755271223220144, 0.07193059268763277, 0.035965296343816386, 0.014386118537526553, 0.007193059268763276, 0.1670535171750533, 0.08504542692548167, 0.015186683379550299, 0.12453080371231245, 0.03341070343501066, 0.17920286387869352, 0.02733603008319054, 0.18224020055460358, 0.07593341689775149, 0.024298693407280476, 0.08504542692548167, 0.025306312338129057, 0.007786557642501248, 0.003893278821250624, 0.035039509391255615, 0.6190313325788492, 0.2102370563475337, 0.036986148801880926, 0.04671934585500749, 0.015573115285002496, 0.18876765295636727, 0.04226141484097774, 0.09579254030621623, 0.019721993592456282, 0.025356848904586646, 0.1634108040517806, 0.04226141484097774, 0.13241909983506361, 0.04507884249704293, 0.231029067797345, 0.008452282968195548, 0.9686005539676263, 0.196831749048475, 0.101310459069068, 0.011578338179322058, 0.6599652762213574, 0.028945845448305144, 0.18207903309553305, 0.12262465494188961, 0.011147695903808147, 0.17093133719172493, 0.08918156723046518, 0.3344308771142444, 0.07803387132665703, 0.011147695903808147, 0.9545564474631261, 0.18749885942229727, 0.799995133535135, 0.13578835833288766, 0.016973544791610957, 0.17610052721296368, 0.13472751178341197, 0.3065846527984729, 0.02227777753898938, 0.0074259258463297935, 0.033947089583221915, 0.04985978782535719, 0.06895502571591951, 0.030764549934794858, 0.016973544791610957, 0.995332863877083, 0.2850096481529164, 0.6995691363753402, 0.9549588567418988, 0.007616117978235228, 0.6714877350810726, 0.001269352996372538, 0.03363785440387226, 0.05648620833857794, 0.001904029494558807, 0.0450620313712251, 0.05585153184039167, 0.05013944335671525, 0.02411770693107822, 0.05204347285127406, 0.9098657372348589, 0.08529991286576802, 0.9689324877007706, 0.0667221227603862, 0.8314602990140433, 0.005132470981568168, 0.09238447766822702, 0.10714832404263074, 0.5071687338017855, 0.1321495996525779, 0.010714832404263073, 0.24286953449662965, 0.0211009090108825, 0.14770636307617752, 0.8229354514244175, 0.9909323197495683, 0.17880918668256351, 0.11378766425254042, 0.6420875339964781, 0.048766141822517324, 0.008127690303752887, 0.08356390801822697, 0.06267293101367022, 0.7102932181549292, 0.13579135052961883, 0.9602530905539577, 0.030646375230445458, 0.03881120422656632, 0.10090913098907245, 0.16300705775157856, 0.6908394352328806, 0.3132231835355323, 0.6515042217539071, 0.033410472910456776, 0.10284090544122328, 0.10284090544122328, 0.011426767271247031, 0.7770201744447981, 0.9853827117779259, 0.007816951117578887, 0.011725426676368332, 0.8637730984924671, 0.015633902235157773, 0.03908475558789444, 0.054718657823052214, 0.007816951117578887, 0.5527897730986164, 0.03533815901087045, 0.010096616860248701, 0.020193233720497403, 0.13630432761335745, 0.0908695517422383, 0.0908695517422383, 0.020193233720497403, 0.015144925290373052, 0.022717387935559576, 0.0025241542150621753, 0.9871548628494774, 0.9679798422462551, 0.03884046733875863, 0.0339854089214138, 0.1359416356856552, 0.03641293813008622, 0.31072373871006903, 0.05826070100813795, 0.15778939856370694, 0.16021692777237936, 0.0679708178428276, 0.9652469683500688, 0.09317642165722788, 0.9041563879331002, 0.975476153062891, 0.9464946178663489, 0.0518627187871972, 0.1709607509324047, 0.03663444662837244, 0.04884592883782992, 0.061057411047287395, 0.01221148220945748, 0.6594200393107039, 0.1796800609115126, 0.0661979171779257, 0.03309895858896285, 0.016549479294481424, 0.07092633983349182, 0.2647916687117028, 0.07092633983349182, 0.03309895858896285, 0.04728422655566121, 0.030734747261179786, 0.026006324605613664, 0.08038318514462406, 0.04492001522787815, 0.03309895858896285, 0.0023642113277830604, 0.984684461254823, 0.03578287838472648, 0.007156575676945295, 0.40315376313458495, 0.019084201805187453, 0.12643283695936688, 0.38168403610374907, 0.02624077748213275, 0.0926233016375279, 0.8997692159074139, 0.9629533268436982, 0.9886932492151591, 0.9460764652253814, 0.21890031847285737, 0.7661511146550009, 0.9927247746061004, 0.9280088624309644, 0.025606208040075417, 0.27206596042580133, 0.04161008806512256, 0.16003880025047135, 0.16323957625548077, 0.07681862412022625, 0.11202716017532995, 0.11522793618033939, 0.03200776005009427, 0.9644748420038624, 0.17916664436102323, 0.23557095832653055, 0.09621912382351247, 0.05640431396550731, 0.01990740492900258, 0.01990740492900258, 0.0331790082150043, 0.09621912382351247, 0.03649690903650473, 0.03649690903650473, 0.1858024460040241, 0.026489666381168838, 0.04414944396861473, 0.6004324379731604, 0.1147885543183983, 0.2119173310493507, 0.9569782774220867, 0.944202827904567, 0.03477737872820424, 0.02845421895943983, 0.031615798843822034, 0.0853626568783195, 0.13278635514405254, 0.3540969470508068, 0.01896947930629322, 0.1738868936410212, 0.01896947930629322, 0.12014003560652373, 0.9353960970665027, 0.8818805110686626, 0.11412571319712105, 0.9925425608516033, 0.31383527225997543, 0.059074874778348316, 0.012922628857763694, 0.021230033123468925, 0.05538269510470155, 0.13107237841446032, 0.039690931491702774, 0.03138352722599754, 0.10245798594369786, 0.0489213806758197, 0.0027691347552350775, 0.14399500727222403, 0.033229617062820925, 0.0027691347552350775, 0.0009230449184116924, 0.18827680598796892, 0.011767300374248058, 0.7295726232033796, 0.07060380224548835, 0.0410924622473864, 0.9451266316898871, 0.9381844148230795, 0.9721936977082296, 0.7725715789338328, 0.099686655346301, 0.12460831918287625, 0.9690301358535867, 0.982895725765672, 0.9722617734641196, 0.32093925947016483, 0.04186164253958671, 0.6279246380938007, 0.8447811848168629, 0.026395352420226285, 0.9626055085751273, 0.009898257157584857, 0.9814652521096829, 0.18049927466772828, 0.13025720852310288, 0.07629350784924598, 0.01302572085231029, 0.07443269058463022, 0.022329807175389065, 0.02046898991077331, 0.167473553815418, 0.2474886961938955, 0.02605144170462058, 0.03721634529231511, 0.005582451793847266, 0.09465461678754454, 0.19791419873759314, 0.07400270039753482, 0.06539773523503077, 0.02065191639000972, 0.1738202962825818, 0.04474581884502105, 0.10325958195004858, 0.00860496516250405, 0.0034419860650016197, 0.027535888520012958, 0.16177334505507612, 0.0034419860650016197, 0.022372909422510526, 0.014148349245560474, 0.21399378233910216, 0.06366757160502214, 0.05305630967085178, 0.07074174622780237, 0.035370873113901184, 0.11141825030878873, 0.12733514321004427, 0.06720465891641225, 0.0689732025721073, 0.014148349245560474, 0.06720465891641225, 0.09196427009614308, 0.9818468360801373, 0.9809334869722998, 0.9662489028351176, 0.9459500394644105, 0.8447811848168629, 0.8815029440532276, 0.1859430507388943, 0.11707525416893345, 0.006886779656996086, 0.020660338970988255, 0.1859430507388943, 0.3030183049078278, 0.17216949142490215, 0.9908436012850667, 0.9706757066564964, 0.002179258513944017, 0.08281182352987264, 0.004358517027888034, 0.06973627244620854, 0.3552191377728748, 0.032688877709160256, 0.3399643281752666, 0.052302204334656405, 0.04794368730676837, 0.010896292569720085, 0.46796599891416946, 0.044568190372778045, 0.4178267847447942, 0.06963779745746569, 0.0991212086622131, 0.20237246768535175, 0.08569854498920508, 0.12803156118869194, 0.1466167878128569, 0.04956060433110655, 0.05265814210180071, 0.002065025180462773, 0.1146088975156839, 0.056788192462726254, 0.022715276985090502, 0.0010325125902313865, 0.025812814755784664, 0.0010325125902313865, 0.0030975377706941596, 0.009292613312082478, 0.9933321890173974, 0.2620466362703481, 0.08902062763251059, 0.05140627792863288, 0.593052913664472, 0.001253811656795924, 0.0037614349703877716, 0.9862908621099146, 0.3352901848418219, 0.013338850029873565, 0.0024252454599770117, 0.4389694282558391, 0.006063113649942529, 0.12126227299885059, 0.032134502344695406, 0.02910294551972414, 0.0206145864098046, 0.03486261335881416, 0.9238592540085753, 0.03486261335881416, 0.040449402437538806, 0.950560957282162, 0.9632886461259264, 0.9719074269729867, 0.9574454587087025, 0.986324397105889, 0.9882906451657772, 0.016781117785383888, 0.2814064367087452, 0.09035986499822093, 0.1561934809254962, 0.03872565642780897, 0.06841532635579585, 0.06712447114153555, 0.06583361592727525, 0.034853090785028074, 0.05163420857041196, 0.0012908552142602992, 0.01290855214260299, 0.04905249814189137, 0.06970618157005615, 0.044243399878269904, 0.5038038760332024, 0.02140809671529189, 0.002854412895372252, 0.03996178053521152, 0.16698315437927674, 0.06136987725050341, 0.14985667700704322, 0.008563238686116756, 0.001427206447686126, 0.026617764569684885, 0.749099945746846, 0.12168120946141661, 0.003802537795669269, 0.05323552913936977, 0.04182791575236196, 0.23506559140941746, 0.7555679723874134, 0.07534328873048303, 0.919188122511893, 0.9661374890838544, 0.9537987610502054, 0.8674694294251718, 0.020173707661050505, 0.03467356004243056, 0.042238700415324494, 0.0006304283644078283, 0.03467356004243056, 0.9703243861517207, 0.06347181620598727, 0.1178762300968335, 0.06347181620598727, 0.26899960201585077, 0.27806700433099185, 0.1118312952200728, 0.006044934876760692, 0.09067402315141038, 0.9606150569825285, 0.5871676024613247, 0.0969380475761621, 0.0027696585021760598, 0.2077243876632045, 0.044314536034816956, 0.05816282854569726, 0.32041795125019135, 0.19412182448004292, 0.04911516041061327, 0.4139706377465976, 0.021049354461691403, 0.8604148129858721, 0.13145226309506378, 0.20017239341693183, 0.8006895736677273, 0.41686070298213285, 0.07042852059515486, 0.5120343794620719, 0.9861020382495534, 0.07783303039727033, 0.4280816671849868, 0.35024863678771645, 0.06115452388356954, 0.05003551954110235, 0.027797510856167974, 0.09369502537256698, 0.03982038578334097, 0.08901027410393864, 0.12180353298433708, 0.11243403044708038, 0.24126469033435996, 0.02108138070882757, 0.03747801014902679, 0.0819831472009961, 0.028108507611770094, 0.07261364466373942, 0.04684751268628349, 0.011711878171570872, 0.9768517326615247, 0.20097515793108045, 0.7895452633006732, 0.9865064250887602, 0.9756043427852407, 0.9913996287586705, 0.21788873130724906, 0.21425725245212826, 0.4866181665861896, 0.010894436565362453, 0.06536661939217472, 0.833763844310612, 0.9927900618279941, 0.9630034836498187, 0.9703243861517207], \"Term\": [\"Agenturen\", \"Arbeidsarts\", \"Brussel_fiscaliteit\", \"Brussels\", \"Brussels\", \"Brussels\", \"Brussels_hoofdstedelijk\", \"Brussels_hoofdstedelijk\", \"Lockdown\", \"Regering\", \"Vlaams\", \"Vlaams\", \"Waals\", \"aa_nvatten\", \"aan_dreven\", \"aan_voeren\", \"aan_vullen\", \"aan_vullen\", \"aan_vullen\", \"aan_vullen\", \"aan_vullen\", \"aan_vullen\", \"aan_vullen\", \"aan_vullen\", \"aan_vullen\", \"aan_vullen\", \"aandachtspunt\", \"aandeel\", \"aandeel\", \"aanduiding\", \"aanduiding\", \"aangemerken\", \"aangetekend_schrijven\", \"aangetekende_brief\", \"aangifte\", \"aangifte\", \"aangifte\", \"aangifte\", \"aanhef\", \"aanhef\", \"aanmerking\", \"aanmerking\", \"aanmerking\", \"aanmerking\", \"aanmerking\", \"aanmerking\", \"aanmerking\", \"aanraking\", \"aanslagjaar\", \"aanslagjaar\", \"aanslagjaar\", \"aanslagjaar\", \"aanslagjaar_afgekort\", \"aanslagjaar_zijnde\", \"aansprakelijk\", \"aanstelling\", \"aantal\", \"aantal\", \"aantal\", \"aantal\", \"aantal\", \"aantal\", \"aantal\", \"aantal\", \"aantal\", \"aantal\", \"aantal\", \"aantal\", \"aantal\", \"aantal\", \"aantal\", \"aantal\", \"aanvaarden\", \"aanvaarden\", \"aanvang\", \"aanvraag\", \"aanvraag\", \"aanvraag\", \"aanvraag\", \"aanvraag\", \"aanvraag\", \"aanvrager\", \"aanwezig\", \"aanwezig\", \"aanwezig\", \"aanwezig\", \"aanzienlijk\", \"aanzienlijk\", \"aanzienlijk\", \"accijnzen\", \"accijnzen\", \"accountant\", \"actieplan\", \"activering\", \"activiteit\", \"activiteit\", \"activiteit\", \"activiteit\", \"activiteit\", \"activiteit\", \"activiteit\", \"activiteit\", \"activiteit\", \"activiteit\", \"activiteit\", \"activiteit\", \"ad_hoc\", \"adjunct_directeur\", \"administrateur_generaal\", \"administratie\", \"administratie\", \"administratie\", \"administratie\", \"administratie\", \"administratie\", \"administratief\", \"administratief\", \"administratief\", \"administratief\", \"administratief\", \"administratief\", \"administratief\", \"administratief\", \"administratief\", \"administratief\", \"administratief\", \"administratief\", \"adresseren\", \"adverse\", \"adverse\", \"adviesaanvraag\", \"adviesaanvraag\", \"adviesaanvraag\", \"afdeling\", \"afdeling\", \"afdeling\", \"afdeling\", \"afdeling\", \"afdeling\", \"afdeling\", \"afdeling\", \"afdeling\", \"afdeling\", \"afdeling\", \"afdeling\", \"afgevaardigen\", \"afgevaardigen\", \"afnamecentrum\", \"afnemer\", \"afnemer\", \"afschrijving\", \"afstandsverkoop\", \"aftrek_brengen\", \"aftrekbaar\", \"aftrekbaar\", \"afval\", \"afval_stof\", \"afval_stof\", \"afvalstof\", \"afwezigheid\", \"afwezigheid\", \"afwezigheid\", \"afwezigheid\", \"afwezigheid\", \"afwezigheid\", \"afwijking\", \"afwijking\", \"afwijking\", \"afwijking\", \"afwijking\", \"afwijking\", \"afwijking\", \"afwijking\", \"afwijking\", \"afwijking\", \"afwijking\", \"afwijking\", \"afzender\", \"agentschap\", \"agentschap\", \"akkoord\", \"akkoord\", \"akkoord\", \"akkoord\", \"akkoord\", \"akkoord\", \"akkoord\", \"akte\", \"akte\", \"akte\", \"akte\", \"algemeen_reglement\", \"algemeen_reglement\", \"algemeen_verbindend\", \"algemene_directie\", \"algemene_directie\", \"alinea\", \"allen_tijde\", \"alternatief\", \"alternatief\", \"alternatief\", \"alternatief\", \"ambt\", \"ambt\", \"ambt\", \"ambtenaar\", \"ambtenaar\", \"ambtenaar\", \"ambtenaar\", \"ambtenaar\", \"ambtenaar\", \"ambtenaar\", \"ambtenaren\", \"ambtenarenzak\", \"ambtenarenzaken\", \"ambulance_dienst\", \"andersluiden\", \"antwoorden\", \"apotheek\", \"arbeider\", \"arbeidsarts\", \"arbeidstijd\", \"arbiter\", \"arts\", \"arts\", \"arts\", \"arts\", \"arts\", \"aso\", \"assessor\", \"attache\", \"attaches\", \"attest\", \"attest\", \"attest\", \"attest\", \"attest\", \"attest\", \"attesteren\", \"auditeur\", \"auf\", \"authentieke_bronnen\", \"automatisch\", \"automatisch\", \"automatisch\", \"automatisch\", \"automatisch\", \"automatische_uitwisseling\", \"av\", \"av\", \"baby\", \"bachelor_specialisatie\", \"baseren\", \"baseren\", \"baseren\", \"baseren\", \"basis\", \"basis\", \"basis\", \"basis\", \"basis\", \"basis\", \"basis\", \"basis\", \"basis\", \"basis\", \"basis\", \"basis\", \"basis\", \"basis\", \"basis\", \"basis\", \"basisbe_drag\", \"basisonderwijs\", \"be_stukken\", \"bedinen\", \"bedoeld\", \"bedrag\", \"bedrag\", \"bedrag\", \"bedrag\", \"bedrag\", \"bedrag\", \"bedrag\", \"bedrag\", \"bedrag\", \"bedrijf_wagen\", \"beeld\", \"beeld\", \"beginsel\", \"beginsel\", \"beginsel\", \"beginsel\", \"beginsel\", \"begroting\", \"begroting\", \"begroting\", \"begroting\", \"begroting\", \"begroting\", \"begroting\", \"begroting\", \"begroting\", \"begroting\", \"begrotings_jaar\", \"begunstigen\", \"behalen\", \"behoef\", \"behoren\", \"behoren\", \"behoren\", \"behoren\", \"behoren\", \"behoren\", \"behoren\", \"behoren\", \"behoren\", \"behoren\", \"beke\", \"bekleed\", \"bekleed\", \"belastbare_tijdperk\", \"belastbare_tijdperk\", \"belastbare_tijdperken\", \"belastbare_tijdperken\", \"belasten\", \"belasten\", \"belasten\", \"belasten\", \"belasten\", \"belasten\", \"belasten\", \"belasten\", \"belasten\", \"belasten\", \"belasten\", \"belasten\", \"belasten\", \"belasting\", \"belasting\", \"belasting\", \"belasting\", \"belasting\", \"belasting_jaar\", \"belastingexperen\", \"beleidsdomeinen\", \"belgien\", \"belgisch_staatsblad\", \"belgisch_staatsblad\", \"belgisch_staatsblad\", \"belgisch_staatsblad\", \"belgisch_staatsblad\", \"belgisch_staatsblad\", \"belgisch_staatsblad\", \"belgisch_staatsblad\", \"belgisch_staatsblad\", \"benaming\", \"benzine\", \"beoefenen\", \"beperken\", \"beperken\", \"beperken\", \"beperken\", \"beperken\", \"beperken\", \"beperken\", \"beperken\", \"beperken\", \"beperken\", \"beperken\", \"beperken\", \"bericht\", \"berichten_kennisgevingen\", \"beroep\", \"beroep\", \"beroep\", \"beroep\", \"beroep\", \"beroep\", \"beroep\", \"beroep\", \"beroep\", \"beroep\", \"beroeps_kost\", \"beroepsziekte\", \"beroepsziekten\", \"bescherming\", \"bescherming\", \"bescherming\", \"bescherming\", \"bescherming\", \"bescherming\", \"bescherming\", \"bescherming\", \"bescherming\", \"beschikking\", \"beslag\", \"besluiten\", \"besluiten\", \"besluiten\", \"besluiten\", \"besluiten\", \"besluiten\", \"besluiten\", \"besluiten\", \"besluiten\", \"besluiten\", \"besluiten\", \"besluiten\", \"besluiten\", \"besluiten\", \"besluitwet\", \"besluitwet\", \"besmet\", \"besmet\", \"besmet\", \"besmeten\", \"besmeten\", \"besmettelijke_ziekten\", \"besmetting\", \"besmetting\", \"besmetting\", \"besmetting\", \"besmetting\", \"besmetting\", \"bestaan\", \"bestaan\", \"bestaan\", \"bestaan\", \"bestaan\", \"bestaan\", \"bestaan\", \"bestaan\", \"bestaan\", \"bestaan\", \"bestaan\", \"bestaan\", \"bestaan\", \"bestaan\", \"bestaan\", \"besteding\", \"bestemming\", \"bestemming\", \"bestuurlijke_politie\", \"bet_reffen\", \"betaling\", \"betaling\", \"betaling\", \"betaling\", \"betaling\", \"betaling\", \"betrekken\", \"betrekken\", \"betrekken\", \"betrekken\", \"betrekken\", \"betrekken\", \"betrekken\", \"betrekken\", \"betrekken\", \"betrekken\", \"betrekken\", \"betrekken\", \"betrekken\", \"betrekken\", \"betrekking\", \"betrekking\", \"betrekking\", \"betrekking\", \"betrekking\", \"betrekking\", \"betrekking\", \"betrekking\", \"betrekking\", \"betrekking\", \"betrekking\", \"betrekking\", \"betrekking\", \"betrekking\", \"betrekking\", \"betrekking\", \"betrokkene\", \"betrokkene\", \"bevatten\", \"bevatten\", \"bevatten\", \"bevatten\", \"bevatten\", \"bevatten\", \"bevatten\", \"bevatten\", \"bevatten\", \"bevatten\", \"bevatten\", \"bevelen\", \"bevelen\", \"bevoegde_autoriteit\", \"bevoegde_autoriteiten\", \"bevoegdheid\", \"bevoegdheid\", \"bevoegdheid\", \"bevoegdheid\", \"bevoegdheid\", \"bevoegdheid\", \"bevoegdheid\", \"bevoegdheid\", \"bevoegdheid\", \"bevoegdheid\", \"bevolking\", \"bevolking\", \"bevolking\", \"bevolking\", \"bevolking\", \"bevolking\", \"bew\", \"bezitten\", \"bezitten\", \"bezoeker\", \"bezoldiging\", \"bezoldiging\", \"biculturele_zaken\", \"bieden\", \"bieden\", \"bieden\", \"bieden\", \"bieden\", \"bieden\", \"bieden\", \"bieden\", \"bieden\", \"bij_komen\", \"bij_komen\", \"bij_komen\", \"bij_komen\", \"bij_komen\", \"bij_komen\", \"bij_komen\", \"bij_komen\", \"bij_komen\", \"bijeenkomst\", \"bijeenkomst\", \"bijstand_vorderen\", \"bijzon_dere_macht\", \"bijzonder\", \"bijzonder\", \"bijzonder\", \"bijzonder\", \"bijzonder\", \"bijzonder\", \"bijzonder\", \"bijzonder\", \"bijzonder\", \"bijzonder\", \"bijzonder\", \"bijzonder\", \"bijzonder\", \"bijzondere_machten\", \"bijzondere_machten\", \"bijzondere_machten\", \"bijzondere_machten\", \"bijzondere_machtenbesluit\", \"bijzondere_machtenbesluit\", \"bijzondere_machtenbesluit\", \"binnenlandse__zak\", \"binnenlandse_zak\", \"binnenlandse_zaken\", \"binnenlandse_zaken\", \"binnenlandse_zaken\", \"binnenlandse_zaken\", \"bis\", \"bis\", \"bis\", \"bis\", \"bis\", \"bis\", \"bis\", \"bis\", \"bis\", \"bis\", \"blootstelling\", \"bron_opsporing\", \"brussel_fiscaliteit\", \"brussels_hoofdstedelijk\", \"brussels_hoofdstedelijk\", \"brusselse_hoofdstedelijk\", \"btw\", \"budgetmeter\", \"buitenschools\", \"buitenschoolse_opvang\", \"burgemeester\", \"burgemeester\", \"burgemeester\", \"categorie\", \"categorie\", \"categorie\", \"categorie\", \"categorie\", \"categorie\", \"categorie\", \"categorie\", \"centra\", \"centraal\", \"centraal\", \"centraal\", \"centrum\", \"centrum\", \"centrum\", \"centrum\", \"centrum\", \"centrum\", \"chauffeur\", \"citeren\", \"civiele_besc_herming\", \"civiele_bescherming\", \"civiele_noodsituatie\", \"civiele_noodsituatie\", \"cluster\", \"co\", \"co\", \"code\", \"code\", \"code\", \"codenummer\", \"coefficient\", \"coefficient\", \"collectief\", \"collectief\", \"collectief\", \"collectief\", \"collectief\", \"collectieve_belegging\", \"collectiviteit\", \"college\", \"college\", \"college\", \"college\", \"commissie\", \"commissie\", \"commissie\", \"commissie\", \"commissie\", \"commissie\", \"competentie\", \"conjunctureel_beschermde\", \"connectie\", \"contact\", \"contact\", \"contact\", \"contact\", \"contact\", \"contact\", \"contact\", \"contact_centrum\", \"contactcentra\", \"contactcentrum\", \"contacteren\", \"contactperson\", \"continuiteit\", \"continuiteit\", \"continuiteit\", \"continuiteit\", \"continuiteit\", \"continuiteit\", \"contractueel\", \"contractueel\", \"contractueel\", \"coordinaten\", \"coronavirus\", \"coronavirus\", \"coronavirus\", \"coronavirus\", \"coronavirus\", \"coronavirus\", \"coronavirus\", \"coronavirus\", \"coronavirus\", \"coronavirus\", \"coronavirus\", \"coronavirus\", \"cov_id\", \"cov_id\", \"cov_id\", \"cov_id\", \"cov_id\", \"cov_id\", \"cov_id\", \"cov_id\", \"cov_id\", \"cov_id\", \"cov_id\", \"cov_id\", \"cov_id\", \"cov_id\", \"cov_id\", \"cov_id\", \"coverbranding\", \"creatief\", \"crisis\", \"crisis\", \"crisis\", \"crisis\", \"crisis\", \"crisis\", \"cruciale_sectoren\", \"cruciale_sectoren\", \"cultureel\", \"cultureel\", \"cultureel\", \"culturele_feestelijk\", \"cursus\", \"daadwerkelijk\", \"daadwerkelijk\", \"daadwerkelijk\", \"daadwerkelijk\", \"daadwerkelijk\", \"daadwerkelijk\", \"daardoor\", \"daardoor\", \"daarin\", \"daartoe_voorziene\", \"dag\", \"dag\", \"dag\", \"dag\", \"dag\", \"dag\", \"dag\", \"dag\", \"dag\", \"dag\", \"dag\", \"dag\", \"dag\", \"dag\", \"dag\", \"dag\", \"dagv_erzorging\", \"dans\", \"dans\", \"dat\", \"databank\", \"databank\", \"daten\", \"datum\", \"datum\", \"datum\", \"datum\", \"datum\", \"datum\", \"datum\", \"datum\", \"datum\", \"datum\", \"datum\", \"datum\", \"datum\", \"datum\", \"datum\", \"decreet\", \"decreet\", \"decreet\", \"decreet\", \"deelen\", \"deelen\", \"deelnemende_rechtsgebieden\", \"deelnemer\", \"deelneming\", \"defensie\", \"dekken\", \"dekken\", \"democratische_vernieuwing\", \"departement_bodem\", \"departement_vestiging\", \"derde_landen\", \"dergelijk\", \"dergelijk\", \"dergelijk\", \"dergelijk\", \"dergelijk\", \"dergelijk\", \"dergelijk\", \"dergelijk\", \"dergelijk\", \"dergelijk\", \"desgevallen\", \"die\", \"dienen\", \"dienen\", \"dienen\", \"dienen\", \"dienen\", \"dienen\", \"dienen\", \"dienen\", \"dienen\", \"dienen\", \"dienen\", \"dienen\", \"dienen\", \"dienen\", \"dienen\", \"dienst\", \"dienst\", \"dienst\", \"dienst\", \"dienst\", \"dienst\", \"dienst\", \"dienst\", \"dienst\", \"dienst\", \"dienst\", \"dienst\", \"dienst\", \"dienst\", \"dienst\", \"dienst\", \"dienst\", \"diese\", \"diese_daten\", \"digitaal\", \"digitaal\", \"diploma\", \"dir_ectiecomite\", \"discriminatie\", \"divers\", \"divers\", \"divers\", \"divers\", \"divers\", \"divers\", \"divers\", \"divers\", \"divers\", \"document\", \"document\", \"document\", \"document\", \"document\", \"document\", \"document\", \"document\", \"doelgroep\", \"doen\", \"doen\", \"doen\", \"doen\", \"doen\", \"doen\", \"doen\", \"doen\", \"doen\", \"doen\", \"doen\", \"doen\", \"domein\", \"domein\", \"door_brengen\", \"dossier\", \"dossier\", \"dossier\", \"dossier\", \"dossier\", \"dossier\", \"dossier\", \"douane\", \"douane\", \"drempel\", \"drempel\", \"dringend\", \"dringend\", \"dringend\", \"dringend\", \"dringend\", \"dringend\", \"dringend\", \"dringend\", \"dringend\", \"dringend\", \"dringend\", \"dringend\", \"duur\", \"duur\", \"duur\", \"duur\", \"duur\", \"duur\", \"duur\", \"duurzaam_onderhouden\", \"duurzaam_onderhouden\", \"economie\", \"economie\", \"economie\", \"economie\", \"economie\", \"economie_buitenlandse\", \"economisch\", \"economisch\", \"economisch\", \"economisch\", \"economisch\", \"economisch\", \"economisch\", \"economisch\", \"eenmalig\", \"eenmalig\", \"eg\", \"einddatum\", \"einddatum\", \"einddatum\", \"einde\", \"einde\", \"einde\", \"einde\", \"einde\", \"einde\", \"einde\", \"einde\", \"einde\", \"einde\", \"eindresultaat\", \"elektriciteit\", \"elektriciteit\", \"elektrisch\", \"elektronisch\", \"elektronisch\", \"elektronisch\", \"elektronisch\", \"elektronisch\", \"elektronisch\", \"elektronisch\", \"elektronisch\", \"elektronische_handtekening\", \"elektronische_weg\", \"enig_ander\", \"enseignement_fr\", \"epidemie\", \"epidemie\", \"epidemie\", \"epidemie\", \"epidemie\", \"epidemische_noodsituatie\", \"erflater\", \"erforderlich_ist\", \"ergeben\", \"ergebnisdaten\", \"erkenning\", \"erkenning\", \"erkenning\", \"erkenning\", \"erkenning\", \"erkenning\", \"erkenning\", \"erkenning\", \"erover\", \"ervan\", \"ervan\", \"ervan\", \"ervan\", \"ervan\", \"ervan\", \"ervan\", \"ervan\", \"ervan\", \"ervan\", \"ervan\", \"ervan\", \"ervan\", \"erwahnt\", \"euro\", \"euro\", \"euro\", \"euro\", \"euro\", \"euro\", \"euro\", \"euro\", \"euro\", \"europese_unie\", \"evaluatie\", \"evaluatie\", \"evaluatie\", \"evenredig\", \"evenredig\", \"evenredigheid\", \"exact\", \"examen\", \"examen\", \"examen\", \"examens\", \"exploitant\", \"externe_evaluatie\", \"factur\", \"facturatie\", \"factuur\", \"faillissemen\", \"fase\", \"fase\", \"fase\", \"fase\", \"fase\", \"federaal\", \"federaal\", \"federaal\", \"federaal\", \"federaal\", \"federaal\", \"federaal\", \"federaal\", \"federaal\", \"federaal\", \"federaal\", \"federaal\", \"federaal\", \"federaal_openbaar\", \"federale_loyauteit\", \"fedris\", \"feitelijke_toestand\", \"fictie\", \"financieel\", \"financieel\", \"financieel\", \"financieel\", \"financieel\", \"financieel\", \"financieel\", \"financiele_tussenkomst\", \"financiering\", \"financiering\", \"financiering\", \"financiering\", \"financiering\", \"financiering\", \"financiering\", \"financiering\", \"fiscaal\", \"fiscaal\", \"fiscaal\", \"fiscaal\", \"fiscaal\", \"fiscaal\", \"fiscaal_kenteken\", \"fiscaliteit\", \"fiscaliteit\", \"forfaitair\", \"forfaitair\", \"forfaitair\", \"forfaitair\", \"forfaitair\", \"formule\", \"formulier\", \"formulier\", \"formulier\", \"formulier\", \"formulier\", \"formulier\", \"formulier\", \"franse_gemeenschap\", \"franse_gemeenschap\", \"fraude\", \"functie\", \"functie\", \"functie\", \"functie\", \"functie\", \"functie\", \"functie\", \"functie\", \"functie\", \"functie\", \"functie\", \"functioneel\", \"functioneel\", \"gaan\", \"gaan\", \"gaan\", \"gaan\", \"gaan\", \"gaan\", \"gaan\", \"gaan\", \"gaan\", \"gaan\", \"gaan\", \"gaan\", \"gaan\", \"gaan\", \"gaan\", \"gaan\", \"gaan\", \"gas\", \"gas\", \"gatz\", \"geacht\", \"gebeurtenis\", \"gebracht\", \"gebrek\", \"gebrek\", \"gebrek\", \"gebrek\", \"gebrek\", \"gebrek\", \"gebruik\", \"gebruik\", \"gebruik\", \"gebruik\", \"gebruik\", \"gebruik\", \"gebruik\", \"gebruik\", \"gebruik\", \"gebruik\", \"gebruik\", \"gebruik\", \"gebruik_maken\", \"gebruiken\", \"gebruiken\", \"gebruiken\", \"gebruiken\", \"gebruiken\", \"gebruiken\", \"gebruiken\", \"gebruiken\", \"gebruiken\", \"gebruiken\", \"gebruikmaakt\", \"gebruikmaken\", \"gebruikmaken\", \"gecorrigeerd_jaarlijks\", \"gedeelte\", \"gedeelte\", \"gedwongen_invordering\", \"gefedereerde_entitei\", \"gefedereerde_entiteiten\", \"gefedereerde_entiteiten\", \"gefedereerde_entiteiten\", \"gege_vensbank\", \"gege_vensbank\", \"gege_vensbank\", \"gehandicapt\", \"gehuurd_voertuig\", \"gehuurde\", \"geindexeerde_bedragen\", \"geldboeten\", \"geleased\", \"geleverde_goederen\", \"gelijkheid\", \"gemachtigde\", \"gemeenschap\", \"gemeenschap\", \"gemeenschap\", \"gemeenschap\", \"gemeenschap\", \"gemeenschap\", \"gemeenschaps\", \"gemeente\", \"gemeente\", \"gemeente_raad\", \"gemeinsame\", \"gemiddeld\", \"gemiddeld\", \"gemiddeld\", \"gemiddeld\", \"gemiddeld\", \"gemiddelden\", \"genderdimensie\", \"genderdimensie\", \"geneeskunde\", \"geneeskundig\", \"geneeskundige_verzorging\", \"geneeskundige_verzorging\", \"geneeskundige_verzorging\", \"geneesmiddel\", \"geneesmiddel\", \"geneesmiddelen\", \"geneesmiddelen\", \"geneesmiddelen\", \"generaal\", \"genereren\", \"genereren\", \"gerechtelijke_reorganisatie\", \"gescand\", \"geschieden\", \"geslacht\", \"getuigschrift\", \"getuigschrift\", \"getuigschrift\", \"gevaarlijk\", \"geval\", \"geval\", \"geval\", \"geval\", \"geval\", \"geval\", \"geval\", \"geval\", \"geval\", \"geval\", \"geval\", \"geval\", \"geval\", \"geval\", \"geval\", \"geval\", \"gevolg\", \"gevolg\", \"gevolg\", \"gevolg\", \"gevolg\", \"gevolg\", \"gevolg\", \"gevolg\", \"gevolg\", \"gevolg\", \"gevolg\", \"gevolg\", \"gewest\", \"gewest\", \"gewest\", \"gewest\", \"gewest\", \"gewest\", \"gewest\", \"gewestelijk\", \"gewestelijk\", \"gewestelijk\", \"gewestelijke_beleidslijnen\", \"gewestelijke_incentives\", \"gezin\", \"gezin\", \"gezin\", \"gezin\", \"gezin\", \"gezondheid\", \"gezondheid\", \"gezondheid\", \"gezondheid\", \"gezondheid\", \"gezondheid\", \"gezondheid\", \"gezondheid_cultuur\", \"gobf\", \"golf\", \"golf\", \"golf\", \"graad\", \"graad\", \"grensarbeider\", \"grensarbeider\", \"grensarbeiders\", \"griffie\", \"griffier\", \"griffier\", \"groei\", \"groet\", \"groet\", \"groet\", \"groet\", \"groet\", \"grond\", \"grond\", \"grond\", \"grond\", \"grond\", \"grond\", \"grond\", \"grond\", \"grond\", \"grond\", \"grond_gebied\", \"grond_gebied\", \"grond_gebied\", \"grond_gebied\", \"grond_gebied\", \"grond_gebied\", \"grond_gebied\", \"grond_gebied\", \"grondrechten\", \"grondstof\", \"groot\", \"groot\", \"groot\", \"groot\", \"groot\", \"groot\", \"groot\", \"groot\", \"groot\", \"groot\", \"groot_brittannie\", \"handel_onderzoek\", \"handel_zaak\", \"handeling\", \"handeling\", \"handeling\", \"handeling\", \"handeling\", \"handeling\", \"handeling\", \"handelshuur\", \"handhaving\", \"handhaving\", \"heffing\", \"hernomen\", \"herziening\", \"herziening\", \"hetgeen_volgt\", \"hetzelfde\", \"hetzelfde\", \"hetzelfde\", \"hetzelfde\", \"hetzelfde\", \"hetzelfde\", \"hetzelfde\", \"hetzelfde\", \"hetzelfde\", \"hetzelfde\", \"hgr\", \"hierarchische_meerdere\", \"hierna\", \"hierna\", \"hierna\", \"hierna\", \"hierna\", \"hierna\", \"hierna\", \"hierna\", \"hierna\", \"hierna\", \"hierna\", \"hoe_danigheid\", \"honoraria\", \"hoog\", \"hoog\", \"hoog\", \"hoog\", \"hoog\", \"hoog\", \"hoog\", \"hoog\", \"hoog\", \"hoog\", \"hoog\", \"horeca\", \"horeca\", \"horeca\", \"houden\", \"houden\", \"houden\", \"houden\", \"houden\", \"houden\", \"houden\", \"houden\", \"houden\", \"houden\", \"houden\", \"houden\", \"houden\", \"houden\", \"houden\", \"houden\", \"houden\", \"houdende\", \"houdende\", \"houdende\", \"houdende\", \"houdende\", \"houdende\", \"houdende\", \"houdende\", \"huishouden\", \"huishouden\", \"huren\", \"huur\", \"huurder\", \"huurder\", \"huurgelen\", \"huurprijs\", \"huurvoordelen\", \"hypothecair\", \"hypothecaire_leningen\", \"ibp\", \"ibp\", \"identificatie\", \"identificatie\", \"identificatie\", \"identificatie\", \"identiteit\", \"identiteit\", \"iedere_verplaatsing\", \"im_ausland\", \"imago\", \"in_roepen\", \"in_voegen\", \"in_voegen\", \"in_voegen\", \"in_voegen\", \"in_voegen\", \"in_voegen\", \"in_voegen\", \"inbreu\", \"incident\", \"indexcijfer\", \"indexeren\", \"indexeren\", \"indiendatum\", \"industrieel\", \"ingang\", \"ingang\", \"ingang\", \"ingang\", \"ingang\", \"ingang\", \"ingang\", \"ingang\", \"ingang\", \"ingediende_aanvragen\", \"ingeval\", \"ingevoegd\", \"ingevoegd\", \"ingevoegd\", \"ingevoegd\", \"ingevoegd_luidende\", \"ingevoegd_luidende\", \"ingevoerde_goederen\", \"initiatiefnemer\", \"inkomenstarief\", \"innovatie_digitaal\", \"inrichtende_macht\", \"inschrijver\", \"instelling\", \"instelling\", \"instelling\", \"instelling\", \"instelling\", \"instelling\", \"instelling\", \"instelling\", \"instelling\", \"instelling\", \"instelling\", \"instelling\", \"instemming\", \"instemming\", \"instemming\", \"integendeel\", \"integraal_verslag\", \"integratie\", \"integratie\", \"integratie\", \"internat\", \"internationaal_niveau\", \"interne_markt\", \"interview\", \"intrinsieke_waarde\", \"investering\", \"investering\", \"invoer\", \"invoering\", \"invoering\", \"invoering\", \"invoering\", \"invordering\", \"invordering\", \"invordering\", \"inzicht\", \"inzonderheid\", \"inzonderheid\", \"inzonderheid\", \"inzonderheid\", \"jaar\", \"jaar\", \"jaar\", \"jaar\", \"jaar\", \"jaar\", \"jaar\", \"jaar\", \"jaar\", \"jaar\", \"jaar\", \"jaar\", \"jaar\", \"jaar\", \"jaar\", \"jeugd\", \"jeugd_justitiehuizen\", \"jeugd_sport\", \"johan_put\", \"jonge_kinderen\", \"juist\", \"juist\", \"juist\", \"jury\", \"justitie\", \"justitie\", \"justitie\", \"justitie\", \"kader\", \"kader\", \"kader\", \"kader\", \"kader\", \"kader\", \"kader\", \"kader\", \"kader\", \"kader\", \"kader\", \"kader\", \"kader\", \"kader\", \"kader\", \"kader\", \"kalender\", \"kalendermaand\", \"kandi_datuur\", \"kandidaat\", \"kandidaat\", \"kandidaat\", \"kandidaat\", \"kandidaat\", \"kandidatuur\", \"kapitaal\", \"kennelijk\", \"kennis\", \"kennis\", \"kennis\", \"kennis\", \"kennis\", \"kennis\", \"kennis\", \"kennis\", \"kennisgeving\", \"kennisgeving\", \"kennisgeving\", \"kennisgeving\", \"keuze\", \"keuze\", \"keuze\", \"keuze\", \"kilo_meter\", \"kind\", \"kind\", \"kind\", \"kind\", \"kind\", \"kind\", \"kind\", \"kind_opvang\", \"kinderopvang\", \"klassen_raad\", \"klein\", \"klein\", \"klein\", \"klein\", \"kmo_centrum\", \"komen\", \"komen\", \"komen\", \"komen\", \"komen\", \"komen\", \"komen\", \"komen\", \"komen\", \"komen\", \"komen\", \"komen\", \"komen\", \"komen\", \"koning\", \"koning\", \"koning\", \"koning\", \"koning\", \"koning\", \"koning\", \"koninklijk\", \"koninklijk\", \"koninklijk\", \"koninklijk\", \"koninklijk\", \"koninklijk\", \"koninklijk\", \"koninklijke_be_sluit\", \"koninkrijk\", \"konnen\", \"koper\", \"kortst_mogelijk\", \"kortverblijf\", \"kost\", \"kost\", \"kost\", \"kost\", \"kost\", \"kosten\", \"kosten\", \"kosten\", \"kosten\", \"kostprijs\", \"kunst\", \"kunstenaar\", \"kwartaal\", \"kwartaal\", \"kwijtgescholden\", \"la_partie\", \"la_sante\", \"la_sante\", \"laadstation\", \"laadstation\", \"laatstelijk_gewijzigd\", \"laatstelijk_gewijzigd\", \"laatstelijk_gewijzigen\", \"laatstgenoemd\", \"laboratoria\", \"laboratoria\", \"land\", \"land\", \"land\", \"land\", \"land\", \"land\", \"landesamt\", \"lang\", \"lang\", \"lang\", \"lang\", \"lang\", \"lang\", \"lang\", \"lang\", \"lang\", \"lang\", \"lang\", \"leeftijd\", \"leerjaar\", \"leerling\", \"leerling\", \"leiden\", \"leiden\", \"leiden\", \"leiden\", \"leiden\", \"leiden\", \"lening\", \"lening\", \"lening\", \"letn\", \"letn\", \"letn\", \"letn\", \"letn\", \"letten\", \"letten\", \"letten\", \"letten\", \"letten\", \"letten\", \"letten\", \"letten\", \"letten\", \"letten\", \"letten\", \"letter\", \"leverancier\", \"leverancier\", \"leverancier\", \"leverancier\", \"levering\", \"levering\", \"levering\", \"lidstaat\", \"lijken\", \"lijken\", \"lijken\", \"lijken\", \"lijst\", \"lijst\", \"lijst\", \"lijst\", \"lijst\", \"lijst\", \"lijst\", \"lijst\", \"lijst\", \"lijst\", \"lijst\", \"lisen\", \"liter\", \"lokale_besturen\", \"lokaliseren\", \"loon\", \"looptijd\", \"lopende_kalenderjaar\", \"lss\", \"luiden\", \"luiden\", \"luiden\", \"luiden\", \"luiden\", \"maand\", \"maand\", \"maand\", \"maand\", \"maand\", \"maand\", \"maand\", \"maand\", \"maand\", \"maand\", \"maand\", \"maand\", \"maatstaf\", \"maken\", \"maken\", \"maken\", \"maken\", \"maken\", \"maken\", \"maken\", \"maken\", \"maken\", \"maken\", \"maken\", \"maken\", \"maken\", \"maken\", \"maken\", \"maken\", \"mandaat\", \"maximaal\", \"maximaal\", \"maximaal\", \"maximaal\", \"maximaal\", \"maximaal\", \"maximaal\", \"maximaal\", \"maximaal\", \"maximale\", \"mb\", \"mb\", \"medisch\", \"medisch\", \"medisch\", \"medisch\", \"medium\", \"mee_delen\", \"mee_delen\", \"mee_delen\", \"mee_delen\", \"mee_delen\", \"mee_delen\", \"mee_delen\", \"mee_delen\", \"mee_delen\", \"meewerkende_echtgenoten\", \"mening\", \"mening\", \"mening\", \"meteen\", \"middel\", \"middel\", \"middel\", \"middel\", \"middel\", \"middel\", \"middel\", \"middel\", \"middel\", \"middelgrote_ondernemingen\", \"militair\", \"ministerieel\", \"ministerieel\", \"ministerieel\", \"ministerieel\", \"ministerieel\", \"ministerieel\", \"ministerieel\", \"ministerieel\", \"ministerieel\", \"ministerieel\", \"ministeriele_besluit\", \"ministeriele_besluit\", \"ministeriele_besluit\", \"ministeriele_besluit\", \"ministeriele_departementen\", \"minnelijk\", \"minstens\", \"minstens\", \"minstens\", \"minstens\", \"minstens\", \"minstens\", \"minstens\", \"minstens\", \"minstens\", \"minuut\", \"minuut\", \"minuut\", \"mobiliteit\", \"mobiliteit\", \"mobiliteit\", \"model\", \"model\", \"model\", \"model\", \"model\", \"model\", \"mogelijk\", \"mogelijk\", \"mogelijk\", \"mogelijk\", \"mogelijk\", \"mogelijk\", \"mogelijk\", \"mogelijk\", \"mogelijk\", \"mogelijk\", \"mogelijk\", \"mogelijk\", \"mogelijk\", \"mogelijk\", \"mogelijk\", \"mogelijks\", \"moleculair\", \"morreaal\", \"moss\", \"museum\", \"nace_bel\", \"nagezien\", \"naleving\", \"naleving\", \"naleving\", \"naleving\", \"naleving\", \"naleving\", \"natuurlijk\", \"natuurlijk\", \"natuurlijk\", \"natuurlijk\", \"natuurlijk\", \"natuurlijk\", \"nauw_contact\", \"nauw_contact\", \"nederlandse_staatscourant\", \"nederlandse_tekst\", \"netbeheerder\", \"netwerkpartner\", \"nicht\", \"nieuw\", \"nieuw\", \"nieuw\", \"nieuw\", \"nieuw\", \"nieuw\", \"nieuw\", \"nieuw\", \"nieuw\", \"nieuw\", \"nieuw\", \"nieuw\", \"nieuw\", \"nieuw\", \"nieuw\", \"nodig\", \"nodig\", \"nodig\", \"nodig\", \"nodig\", \"nodig\", \"nodig\", \"nodig\", \"nodig\", \"nodig\", \"nodig\", \"nodig\", \"nodig\", \"nodig\", \"nodig\", \"nodige_vermeldingen\", \"noemen\", \"noemen\", \"noemen\", \"noemen\", \"noemen\", \"noemen\", \"noemen\", \"noemen\", \"noemen\", \"nomenclatuur\", \"noodzakelijk\", \"noodzakelijk\", \"noodzakelijk\", \"noodzakelijk\", \"noodzakelijk\", \"noodzakelijk\", \"noodzakelijk\", \"noodzakelijk\", \"noodzakelijk\", \"noodzakelijk\", \"noodzakelijk\", \"noodzakelijk\", \"noodzakelijk\", \"noord_ierland\", \"notariaat\", \"notaris\", \"notwendig\", \"oder\", \"oder_nicht\", \"officier\", \"onderdeel\", \"onderdeel\", \"onderdeel\", \"onderdeel\", \"onderdeel\", \"onderdeel\", \"ondergetekende_bevoegde\", \"onderling_overleg\", \"ondernemer\", \"onderneming\", \"onderneming\", \"onderneming\", \"onderneming\", \"onderneming\", \"onderneming\", \"ondersteuning\", \"ondersteuning\", \"ondersteuning\", \"ondersteuning\", \"ondersteuning\", \"onderwijs\", \"onderwijs\", \"onderzoeken\", \"onderzoeken\", \"onderzoeken\", \"onderzoeken\", \"onderzoeken\", \"onderzoeken\", \"onderzoeken\", \"ongeldig\", \"onroerend\", \"onroerende_voorheffing\", \"ontvangen\", \"ontvangen\", \"ontvangen\", \"ontvangen\", \"ontvangen\", \"ontvangen\", \"ontvangen\", \"ontvangen\", \"ontvangen\", \"ontvangen\", \"ontwerpen\", \"ontwerpen\", \"ontwerpen\", \"oog\", \"oog\", \"oog\", \"oog\", \"oog\", \"oog\", \"oog\", \"oog\", \"oog\", \"oog\", \"oog\", \"oog\", \"oordeelen\", \"oordeelen\", \"oorlog_tijd\", \"op_heffen\", \"op_heffen\", \"op_heffen\", \"op_heffen\", \"op_heffen\", \"op_heffen\", \"op_heffen\", \"op_heffen\", \"op_heffen\", \"op_merken\", \"op_merken\", \"opdracht\", \"opdracht\", \"opdracht\", \"opdracht\", \"openbaar\", \"openbaar\", \"openbaar\", \"openbaar\", \"openbaar\", \"openbaar\", \"openbaar\", \"openbaar\", \"openbaar\", \"openbaar\", \"openbaar\", \"openbaar_ambt\", \"openbaar_ambt\", \"openbaar_nut\", \"openbaar_nut\", \"openbare_orde\", \"openbare_orde\", \"openbare_werken\", \"operationeel\", \"operationeel\", \"operator\", \"opgesomd\", \"opleiding\", \"opleiding\", \"opleidingsjaar\", \"opmerking\", \"opmerking\", \"oppervlakte\", \"opschrift_voorbereiding\", \"opsporen\", \"opsporen\", \"opsporen\", \"opsporen\", \"opvan_glocatie\", \"opvang\", \"opvang\", \"opvang\", \"opvangcentra\", \"opvordering\", \"ordening_landbouw\", \"ordonnantie\", \"ordonnantie\", \"ordonnantie\", \"orgaan\", \"orgaan\", \"organisatie\", \"organisatie\", \"organisatie\", \"organisatie\", \"organisatie\", \"organisatie\", \"organisatie\", \"organisatie\", \"organisatie\", \"organisatie\", \"organisatie\", \"organisatie\", \"organisatie\", \"organisator\", \"organisator\", \"organiseren\", \"organiseren\", \"organiseren\", \"organiseren\", \"organiseren\", \"organiseren\", \"organiseren\", \"organiseren\", \"ouder\", \"ouder\", \"ov_ernachting\", \"overeen\", \"overeen_komen\", \"overeen_komen\", \"overeenkomen\", \"overeenkomen\", \"overeenkomst\", \"overeenkomst\", \"overeenkomst\", \"overeenkomst\", \"overeenkomst\", \"overeenkomstig\", \"overeenkomstig\", \"overeenkomstig\", \"overeenkomstig\", \"overeenkomstig\", \"overeenkomstig\", \"overeenkomstig\", \"overeenkomstig\", \"overeenkomstig\", \"overheid\", \"overheid\", \"overheid\", \"overheid\", \"overheid\", \"overheid\", \"overheid\", \"overheid\", \"overheid_dienst\", \"overheid_dienst\", \"overheid_dienst\", \"overheid_dienst\", \"overheid_dienst\", \"overheid_dienst\", \"overheid_dienst\", \"overheids_dienst\", \"overheids_dienst\", \"overle_gcomite\", \"overleg\", \"overleg\", \"overleg\", \"overleg\", \"overleg\", \"overleg\", \"overleg\", \"overleg\", \"overleg\", \"overleg\", \"overleg\", \"overlegcomite\", \"overlegcomite\", \"overlegcomite\", \"overlegcomite\", \"overnachting\", \"pandemie\", \"pandemie\", \"pandemie\", \"pandemie\", \"pandemie\", \"pandemie\", \"pandemie\", \"pandemie\", \"pandemie\", \"pandemie\", \"pandemie\", \"pandemie\", \"pandemie\", \"parket\", \"parl_st\", \"particulieren\", \"pas\", \"pas\", \"pas\", \"pas\", \"pas\", \"pas\", \"passagier\", \"pati\\u00ebnt\", \"pati\\u00ebnt\", \"pati\\u00ebnt\", \"pati\\u00ebnt\", \"pati\\u00ebnt\", \"pedagogisch\", \"perfect\", \"periode\", \"periode\", \"periode\", \"periode\", \"periode\", \"periode\", \"periode\", \"periode\", \"periode\", \"periode\", \"periode\", \"periode\", \"periodieke_btw\", \"personeel\", \"personeel\", \"personeel\", \"personeel\", \"personeel\", \"personeel\", \"personeel\", \"personeel\", \"personeel_lid\", \"personeel_lid\", \"personeel_lid\", \"personeel_lid\", \"personeelslid\", \"personeelslid\", \"personeelslid\", \"personeelslid\", \"peuter\", \"pilootproject\", \"plaats\", \"plaats\", \"plaats\", \"plaats\", \"plaats\", \"plaats\", \"plaats\", \"plaats\", \"plaats\", \"plaats\", \"plaats\", \"plaatselijke_besturen\", \"plaatsgehad\", \"planning\", \"planning\", \"plegen\", \"plf\", \"politie\", \"politie\", \"politioneel\", \"postr_ekening\", \"premie\", \"premie\", \"premie\", \"premie\", \"prerogatieven\", \"president_jeholet\", \"president_jeholet\", \"prestatie\", \"prestatie\", \"prestatie\", \"prestatie\", \"prestatie\", \"preventie\", \"preventie\", \"preventie\", \"preventie\", \"preventie\", \"procedure\", \"procedure\", \"procedure\", \"procedure\", \"procedure\", \"procedure\", \"procedure\", \"procedure\", \"procedure\", \"proces_verbaal\", \"procureur\", \"procureur_des\", \"proef\", \"proef\", \"programma_wet\", \"project\", \"project\", \"project\", \"project\", \"project\", \"project\", \"promotie\", \"promotie\", \"promotie\", \"promotie_universitair\", \"promotor\", \"proportionele_fiscale\", \"proteger\", \"protocol\", \"protocol\", \"protocol\", \"protocol\", \"protocolakkoord\", \"protocolal\", \"protocolal\", \"protocolal\", \"protocoll\", \"publiceren\", \"publiceren\", \"publiceren\", \"publiceren\", \"punt\", \"punt\", \"punt\", \"punt\", \"punt\", \"punt\", \"punt\", \"punt\", \"punt\", \"punt\", \"punt\", \"punt\", \"quarantaine\", \"quarantaine\", \"quarantaine\", \"quarantaine\", \"quarantaine\", \"quarantane_und\", \"quater\", \"quater\", \"quinquie\", \"quinquie\", \"quinquie\", \"raad\", \"raad\", \"raad\", \"raad\", \"raad\", \"raad\", \"raad\", \"raad\", \"raad\", \"raad\", \"raad\", \"raad\", \"raad\", \"raad\", \"raad\", \"raadpleging\", \"raadpleging\", \"raadpleging\", \"raadpleging\", \"raadpleging\", \"raadzaam\", \"raamden\", \"raden\", \"raken\", \"ramp\", \"randnummer\", \"rang\", \"rap\", \"rapport\", \"rapport\", \"rapportering_onderworpen\", \"recht\", \"recht\", \"recht\", \"recht\", \"recht\", \"recht\", \"recht\", \"recht\", \"recht\", \"recht\", \"rechten_geeerbiedigd\", \"rechtsgebiead\", \"rechtsgebieden\", \"rechtsgrond\", \"rechtsgrond\", \"rechtsgrond\", \"rechtsgrond\", \"rechtsper_soon\", \"rechtsper_soon\", \"rechtsper_soon\", \"rechtspersoon\", \"rechtspositie\", \"rechtsvorm\", \"regelgeven\", \"regelgeven\", \"regeling\", \"regeling\", \"regeling\", \"regeling\", \"regeling\", \"regeling\", \"regeling\", \"regeling\", \"regeling\", \"regeling\", \"regeling\", \"regering\", \"regering\", \"regering\", \"regering\", \"regering\", \"regering\", \"regering\", \"register\", \"register\", \"register\", \"regulariseren\", \"reiskosten\", \"reizen\", \"reizen\", \"reizen\", \"rentevoet\", \"resolutie\", \"restaurant\", \"resulteren\", \"resulteren\", \"resulteren\", \"retroactiviteit\", \"retroactiviteit\", \"revalidatie\", \"richtlijn_eg\", \"rijbewijs\", \"rijst\", \"risico_gebied\", \"rit\", \"riziv\", \"riziv\", \"rma\", \"rsz\", \"rust\", \"rusten\", \"samenvatting_vormt\", \"samenwonen\", \"sanitaire_politie\", \"sanitaire_politie\", \"scanen\", \"scannen\", \"scanning\", \"school\", \"school\", \"school\", \"school_dag\", \"school_jaar\", \"schoonmaak\", \"schriftelijk\", \"schriftelijk\", \"schriftelijk\", \"schriftelijk\", \"schriftelijk\", \"schriftelijke_overeenkomst\", \"schuld\", \"schulde_naar\", \"sector\", \"sector\", \"sector\", \"sector\", \"sector\", \"sector\", \"sector\", \"sector\", \"sectorcomite\", \"selecteren\", \"selectie\", \"selectie\", \"selectieproef\", \"semester\", \"senaat\", \"setting\", \"sexie\", \"sich_aus\", \"slagen\", \"slagen\", \"slagen\", \"sloten_nederland\", \"sluit\", \"sociaal\", \"sociaal\", \"sociaal\", \"sociaal\", \"sociaal\", \"sociaal\", \"sociaal\", \"sociaal\", \"sociaal\", \"sociaal\", \"sociaal\", \"sociaal\", \"sociaal_inspecteurs\", \"sociaal_inspecteurs\", \"sociaal_inspecteurs\", \"social_distancing\", \"social_distancing\", \"social_distancing\", \"sociale_actie\", \"sociale_actie\", \"sop\", \"specialiteit\", \"specialiteit\", \"specificatie\", \"specificatie\", \"specifiek\", \"specifiek\", \"specifiek\", \"specifiek\", \"specifiek\", \"specifiek\", \"specifiek\", \"specifiek\", \"specifiek\", \"specifiek\", \"specifiek\", \"specifieke_materies\", \"spoor\", \"spoor\", \"sport\", \"sport_club\", \"sport_vlaanderen\", \"sportfederatie\", \"sportieve_recreatieve\", \"staan\", \"staan\", \"staan\", \"staan\", \"staan\", \"staan\", \"staan\", \"staan\", \"staan\", \"staan\", \"staan\", \"staan\", \"staan\", \"staat\", \"staat\", \"staat\", \"staat\", \"staat\", \"staat\", \"staat\", \"stage\", \"stage\", \"stand_gebracht\", \"stand_gebracht\", \"standplaats\", \"stap_kantoren\", \"stappen_plan\", \"statutair\", \"statutair\", \"statuut\", \"statuut\", \"statuut\", \"statuut\", \"stellen\", \"stellen\", \"stellen\", \"stellen\", \"stellen\", \"stellen\", \"stellen\", \"stellen\", \"stellen\", \"stellen\", \"stellen\", \"stellen\", \"stellen\", \"stellen\", \"stellen\", \"stellen\", \"stellen\", \"steller\", \"steun\", \"steun\", \"steun_aanvraag\", \"steunen\", \"steunen\", \"stopzetting\", \"streep\", \"streepje\", \"streepje\", \"strekken\", \"strekken\", \"strekking\", \"structureren\", \"sub\", \"subsidie\", \"subsidie\", \"subsidie\", \"subsidie\", \"subsidie_bedrag\", \"subsidiebes_luit\", \"subsidiering\", \"subsidiering\", \"superieur\", \"sutter\", \"taak\", \"taak\", \"taak\", \"taak\", \"tabel_zie\", \"tafel\", \"talent_brussels\", \"tarief\", \"tarief\", \"tarief\", \"tarief\", \"tarief\", \"tarief\", \"tbe_diensten\", \"technische_documentatie\", \"technische_ingraving\", \"technologieen_ruimtelijk\", \"tegemoetkoming\", \"tegemoetkoming\", \"tegemoetkoming\", \"teilgebieten_bestimmten\", \"tekst\", \"tekst\", \"tekst\", \"tekst\", \"tekst\", \"tekst\", \"tekst\", \"tel_ewerken\", \"tele_werk\", \"tele_werk\", \"tele_werk\", \"telew_erken\", \"telewerk\", \"telewerk\", \"telkens\", \"telkens\", \"telkens\", \"telkens\", \"ten_gevolge\", \"ten_gevolge\", \"ten_gevolge\", \"ten_gevolge\", \"ten_gevolge\", \"ten_gunste\", \"ter_beschikking\", \"ter_beschikking\", \"ter_beschikking\", \"ter_beschikking\", \"ter_beschikking\", \"ter_beschikking\", \"ter_beschikking\", \"ter_beschikking\", \"ter_beschikking\", \"ter_uggaaf\", \"termijn\", \"termijn\", \"termijn\", \"termijn\", \"termijn\", \"termijn\", \"termijn\", \"termijn\", \"termijn\", \"termijn\", \"termijn\", \"termijn\", \"termijn\", \"territoriale_ontwikkeling\", \"teruggaaf\", \"teruggezonden\", \"terugvordering\", \"terugwerkende_kracht\", \"terugwerkende_kracht\", \"terugwerkende_kracht\", \"terugwerkende_kracht\", \"tes_tpflicht\", \"test\", \"test\", \"test\", \"test\", \"test\", \"theoretisch\", \"thuis\", \"thuis\", \"thuis\", \"thuis\", \"thuis\", \"thuis\", \"thuiswerkdagen\", \"tien\", \"tijdelijk\", \"tijdelijk\", \"tijdelijk\", \"tijdelijk\", \"tijdelijk\", \"tijdelijk\", \"tijdelijk\", \"tijdelijk\", \"tijdelijk\", \"tijdelijke_kaderregeling\", \"tijdelijke_werkloosheid\", \"tijdelijke_werkloosheid\", \"tijdelijke_werkloosheid\", \"tijdperk\", \"titel\", \"titel\", \"titel\", \"titel\", \"titel\", \"titel\", \"titel\", \"titel\", \"titel\", \"titel\", \"toe_kennen\", \"toe_kennen\", \"toe_kennen\", \"toe_kennen\", \"toe_kennen\", \"toe_kennen\", \"toe_kennen\", \"toe_kennen\", \"toe_kennen\", \"toe_kennen\", \"toe_lichten\", \"toe_passen\", \"toe_passen\", \"toe_passen\", \"toe_passen\", \"toe_passen\", \"toe_passen\", \"toe_passen\", \"toe_passen\", \"toe_staan\", \"toe_staan\", \"toe_staan\", \"toe_staan\", \"toe_staan\", \"toe_staan\", \"toe_staan\", \"toe_staan\", \"toekenning\", \"toekenning\", \"toekenning\", \"toekenning\", \"toekenning\", \"toekenning\", \"toekenning\", \"toekenning\", \"toelaatbaar\", \"toelating\", \"toelating\", \"toelating\", \"toerisme_vlaanderen\", \"toeristisch\", \"toeristisch_logies\", \"toezicht\", \"toezicht\", \"toezicht\", \"toezicht\", \"toezicht\", \"toezicht\", \"toezicht\", \"toezicht\", \"toezicht\", \"toezicht\", \"toezicht\", \"toezicht\", \"trachten\", \"trekken\", \"triage\", \"tussenpersoon\", \"uit_oefenen\", \"uit_oefenen\", \"uit_oefenen\", \"uit_oefenen\", \"uit_oefenen\", \"uit_oefenen\", \"uit_oefenen\", \"uit_oefenen\", \"uit_oefenen\", \"uit_oefenen\", \"uit_oefenen\", \"uit_spreken\", \"uit_spreken\", \"uit_vaardigen\", \"uit_voeren\", \"uit_voeren\", \"uit_voeren\", \"uit_voeren\", \"uit_voeren\", \"uit_voeren\", \"uit_voeren\", \"uit_voeren\", \"uit_voeren\", \"uit_voeren\", \"uit_voeren\", \"uit_voeren\", \"uiterlijk\", \"uiterlijk\", \"uiterlijk\", \"uiterlijk\", \"uiterlijk\", \"uiterlijk\", \"uiterlijk\", \"uiterlijk\", \"uiterlijk\", \"uitgave\", \"uitgave\", \"uitgave\", \"uitgave\", \"uitgave\", \"uitkering\", \"uitkering\", \"uitkering\", \"uitkering\", \"uitkering\", \"uitkeringen_gecoordineerd\", \"uitkeringen_gecoordineerd\", \"uitkeringen_gecoordineerd\", \"uitmaakt\", \"uitreiking\", \"uitrusting\", \"uitrusting\", \"uitrusting\", \"uitstrekt\", \"uitvoerende\", \"uitvoerig\", \"uitvoering\", \"uitvoering\", \"uitvoering\", \"uitvoering\", \"uitvoering\", \"uitvoering\", \"uitvoering\", \"uitvoering\", \"uitvoering\", \"uitvoering\", \"uitvoering\", \"uitvoering\", \"uitvoering\", \"uitwisseling\", \"uitzondering\", \"uitzondering\", \"uitzondering\", \"uitzondering\", \"uitzondering\", \"uitzondering\", \"uitzondering\", \"uitzondering\", \"uitzondering\", \"uitzondering\", \"uitzondering\", \"uitzondering\", \"uitzondering\", \"uitzondering\", \"uitzonderlijk\", \"uitzonderlijk\", \"uitzonderlijk\", \"uitzonderlijk\", \"uitzonderlijk\", \"uitzonderlijk\", \"uitzonderlijk\", \"uitzonderlijk\", \"vaccin\", \"vaccin\", \"vaccinatie\", \"vaccinatie\", \"vaccinatie\", \"vaccins\", \"vaccins\", \"vakanti_efond\", \"vast_leggen\", \"vast_leggen\", \"vast_leggen\", \"vast_leggen\", \"vast_leggen\", \"vast_leggen\", \"vast_leggen\", \"vast_leggen\", \"vast_leggen\", \"vast_leggen\", \"vast_leggen\", \"vast_stellen\", \"vast_stellen\", \"vast_stellen\", \"vast_stellen\", \"vast_stellen\", \"vast_stellen\", \"vast_stellen\", \"vast_stellen\", \"vast_stellen\", \"vast_stellen\", \"vast_stellen\", \"vast_stellen\", \"vast_stellen\", \"vast_stellen\", \"vaste_activa\", \"vastlegt\", \"vaststelling\", \"vaststelling\", \"vaststelling\", \"vaststelling\", \"vaststelling\", \"vaststelling\", \"vaststelling\", \"vaststelling\", \"vaststelling\", \"vaststelling\", \"vaststelling\", \"vaststelling\", \"vat\", \"veertien_dagen\", \"veiligheid\", \"veiligheid\", \"veiligheid\", \"veiligheid\", \"veiligheid\", \"veiligheid\", \"veiligheid\", \"vennootschap\", \"vennootschap\", \"verbieden\", \"verbieden\", \"verbieden\", \"verbieden\", \"verblijven\", \"verblijven\", \"verblijven\", \"verblijven\", \"verblijven\", \"verblijven\", \"verblijven\", \"verbod\", \"verbod\", \"verbruik\", \"verbruik\", \"verdient_vakantie\", \"vereenvoudigde_aangifte\", \"vereffening\", \"vereffening\", \"verenigbaar\", \"verenigbaar\", \"verenigd_koninkrijk\", \"verenigde_naties\", \"vereniging\", \"vereniging\", \"vereniging\", \"vereniging\", \"vergadering\", \"vergadering\", \"vergadering\", \"vergadering\", \"vergadering\", \"vergadering\", \"vergelijkende_selectie\", \"vergoeding\", \"vergoeding\", \"vergoeding\", \"vergoeding\", \"vergoeding\", \"vergoeding\", \"vergoeding\", \"verhuurder\", \"verkeer\", \"verkeer\", \"verkrijgen\", \"verkrijgen\", \"verkrijgen\", \"verkrijgen\", \"verkrijgen\", \"verkrijgen\", \"verkrijgen\", \"verkrijgen\", \"verkrijgen\", \"verkrijgen\", \"verkrijgen\", \"verlaagen\", \"verlaten\", \"verlaten\", \"verlenen\", \"verlenen\", \"verlenen\", \"verlenen\", \"verlenen\", \"verlenen\", \"verlenen\", \"verlenen\", \"verlenen\", \"verlenen\", \"verlenen\", \"verlenen\", \"verlengen\", \"verlengen\", \"verlengen\", \"verlengen\", \"verlengen\", \"verlengen\", \"verlengen\", \"verlengen\", \"verlengen\", \"verlenging\", \"verlenging\", \"verlenging\", \"verlenging\", \"verlenging\", \"verlenging\", \"verlenging\", \"verlof\", \"verlof\", \"verlof\", \"vermeld\", \"vermeld\", \"vermeld\", \"vermeld\", \"vermeld\", \"vermeld\", \"vermeld\", \"vermeld\", \"vermeld\", \"vermeld\", \"vermelen\", \"vermelen\", \"vermellen\", \"vermellen\", \"vermellen\", \"vermellen\", \"vermellen\", \"vermellen\", \"vermellen\", \"vermellen\", \"vermellen\", \"vermelnen\", \"vermelnen\", \"vermelnen\", \"vermelnen\", \"vermenigvuldigdn\", \"vermoedelijk\", \"vermoedelijk_besmette\", \"vermoedelijk_besmette\", \"vermogen\", \"vernieuwing\", \"veronderstelen\", \"verordenen\", \"verplaatsing\", \"verplaatsing\", \"verplaatsing\", \"verplaatsing\", \"verplaatsing\", \"verplaatsing\", \"verplichte_sluiting\", \"verplichte_sluiting\", \"verplichte_verzekering\", \"verplichte_verzekering\", \"verplichten\", \"verplichten\", \"verplichten\", \"verplichten\", \"verplichten\", \"verplichten\", \"verplichten\", \"verplichten\", \"verplichten\", \"verplichten\", \"verplichten\", \"verplichting\", \"verplichting\", \"verplichting\", \"verplichting\", \"verplichting\", \"verplichting\", \"verplichting\", \"verplichting\", \"verplichting\", \"verplichting\", \"verplichting\", \"verrichten\", \"verrichten\", \"verrichten\", \"verrichten\", \"verrichten\", \"verrichten\", \"verrichten\", \"verrichten\", \"verrichten\", \"verschillend\", \"verschillend\", \"verschillend\", \"verschillend\", \"verschillend\", \"verschillend\", \"verschillend\", \"verschillend\", \"verschillend\", \"verschillend\", \"verschillend\", \"verschuldigde\", \"verschuldigen\", \"verschuldigen\", \"verschuldigen\", \"verschuldigen\", \"verschuldigen\", \"verslag\", \"verslag\", \"verslag\", \"verslag\", \"verslag\", \"verslag\", \"verslag\", \"verslag\", \"versoepeld\", \"versoepeling\", \"versoepeling\", \"verspreiding\", \"verspreiding\", \"verspreiding\", \"verspreiding\", \"verspreiding\", \"verspreiding\", \"verspreiding\", \"verspreiding\", \"verspreiding\", \"verspreiding\", \"verspreiding\", \"verspreiding\", \"verstrekking\", \"verstrijken\", \"verstrijken\", \"vertrekken\", \"vervangen\", \"vervangen\", \"vervangen\", \"vervangen\", \"vervangen\", \"vervangen\", \"vervangen\", \"vervangen\", \"vervangen\", \"vervangen\", \"vervangen\", \"vervat\", \"vervat\", \"vervoeren\", \"verwerken\", \"verwerken\", \"verwerken\", \"verwerken\", \"verwerking\", \"verwerking\", \"verwerking\", \"verwerking\", \"verwerking\", \"verwerving\", \"verwerving\", \"verwerving\", \"verwijderen\", \"verwijzen\", \"verwijzen\", \"verwijzen\", \"verwijzen\", \"verwijzen\", \"verwijzing\", \"verwijzing\", \"verwijzing\", \"verwijzing\", \"verzamelen\", \"verzamelen\", \"verzekering\", \"verzekering\", \"verzekering\", \"verzekering\", \"verzending\", \"verzending\", \"verzending\", \"verzonden\", \"verzonden\", \"verzonden\", \"verzonden\", \"verzuim\", \"vestigen\", \"vestigen\", \"vestigen\", \"vestigen\", \"vestigen\", \"vestigen\", \"vestigen\", \"vier\", \"vier\", \"vier\", \"vier\", \"vier\", \"vier\", \"vier\", \"vier\", \"vier\", \"vier\", \"vier\", \"vijf_werkdagen\", \"virtueel\", \"virus\", \"virus\", \"virus\", \"virus\", \"virus\", \"virus\", \"virus\", \"virus\", \"virus\", \"visienota\", \"voertuig\", \"voertuig\", \"voertuigen_aangekocht\", \"voetnoot\", \"voetnoot\", \"voldaan\", \"voldaan\", \"voldaan\", \"voldaan\", \"voldaan\", \"voldaan\", \"voldoen\", \"voldoen\", \"voldoen\", \"voldoen\", \"voldoen\", \"voldoen\", \"voldoen\", \"voldoen\", \"voldoen\", \"voldoen\", \"voldoen\", \"voldoen\", \"voldoen\", \"voldoen\", \"voldoen\", \"voldoening\", \"volksgezondheid\", \"volksgezondheid\", \"volksgezondheid\", \"volksgezondheid\", \"volksgezondheid\", \"volksgezondheid\", \"volksgezondheid\", \"volksgezondheid_gezin\", \"volksgezondheid_gezin\", \"volledige_adres\", \"volwassen\", \"vom\", \"voor_komen\", \"voor_komen\", \"voor_ontwerp\", \"voorbereidend_formulier\", \"voordracht\", \"voordracht\", \"voordracht\", \"voordracht\", \"voordracht\", \"voordracht\", \"voordracht\", \"voordracht\", \"voordracht\", \"voorgelegde_ontwerp\", \"voorkomen\", \"voorkomen\", \"voorkomen\", \"voorkomen\", \"voorkomen\", \"voorkomen\", \"voorkomen\", \"voorkomen\", \"voorkomen\", \"voorkomen\", \"voorkomen\", \"voorliggen\", \"voorliggen\", \"voorliggen\", \"voorliggen\", \"voorliggen\", \"voormalig\", \"voornamen\", \"voornoemd\", \"voornoemd\", \"voornoemd\", \"voornoemd\", \"voornoemd\", \"voornoemd\", \"voornoemd\", \"voornoemd\", \"voornoemd\", \"voornoemd\", \"vooropgestelde\", \"voorschot\", \"voorschot\", \"voortaan\", \"voorwaarde\", \"voorwaarde\", \"voorwaarde\", \"voorwaarde\", \"voorwaarde\", \"voorwaarde\", \"voorwaarde\", \"voorwaarde\", \"voorwaarde\", \"voorwaarde\", \"voorwaarde\", \"voorwaarde\", \"voorwaarde\", \"voorwaarde\", \"voorwaarde\", \"voorziening\", \"voorziening\", \"voorziening\", \"voorziening\", \"vormvereisen\", \"vormvereisen\", \"vos_adviseur\", \"vrachtwagen\", \"vrijstelling\", \"vrijstelling\", \"vrijstelling\", \"vrijwaarden\", \"vroegste_aanvangt\", \"vte\", \"vullen\", \"vullen\", \"vullen\", \"vuurwapen\", \"waals\", \"waals\", \"waals\", \"waalse_ambtenarencode\", \"waarbij\", \"waarbij\", \"waarbij\", \"waarbij\", \"waarbij\", \"waarbij\", \"waarbij\", \"waarbij\", \"waarbij\", \"waarbij\", \"waarbij\", \"waarbij\", \"waarin\", \"waarin\", \"waarin\", \"waarin\", \"waarin\", \"waarin\", \"waarin\", \"waarin\", \"waarin\", \"waarin\", \"waarin\", \"waarin\", \"waarin\", \"waarin\", \"waarop\", \"waarop\", \"waarop\", \"waarop\", \"waarop\", \"waarop\", \"waarop\", \"waarop\", \"waarop\", \"waarop\", \"waarop\", \"waarop\", \"waarop\", \"wagen\", \"waken\", \"wallonie_bruxelles\", \"wapen\", \"wapenen\", \"water_beleid\", \"week\", \"week\", \"week\", \"week\", \"week\", \"week\", \"week\", \"weerslag\", \"wegv_erkeer\", \"werk\", \"werk\", \"werk\", \"werk\", \"werk\", \"werk\", \"werk\", \"werk\", \"werk\", \"werk\", \"werkgever\", \"werkgever\", \"werkgever\", \"werkgever\", \"werking\", \"werking\", \"werking\", \"werking\", \"werking\", \"werking\", \"werking\", \"werking\", \"werking\", \"werking\", \"werking\", \"werking\", \"werking\", \"werking\", \"werking\", \"werking\", \"werkloosheid\", \"werknemer\", \"werknemer\", \"werknemer\", \"werknemer\", \"werknemer\", \"werknemer\", \"werkzaam_bestanddeel\", \"wetboek\", \"wetboek\", \"wetboek\", \"wetboek\", \"wetboek\", \"wetboek\", \"wetboek\", \"wetboek\", \"wetboek\", \"wetgever\", \"wetgever\", \"wetgever\", \"wetsbepaling\", \"wetsbepaling\", \"wettigen\", \"wib\", \"wibp\", \"wij_bekrachtigen\", \"wijk\", \"wijzigen\", \"wijzigen\", \"wijzigen\", \"wijzigen\", \"wijzigen\", \"wijzigen\", \"wijzigen\", \"wijzigen\", \"wijzigen\", \"wijzigen\", \"wijzigen\", \"wijzigen\", \"wijzigen\", \"wijzigen\", \"wijziging\", \"wijziging\", \"wijziging\", \"wijziging\", \"wijziging\", \"wijziging\", \"wijziging\", \"wijziging\", \"wijziging\", \"wijziging\", \"wijzigingen_aangebracht\", \"wijzigingen_aangebracht\", \"wijzigingen_aangebracht\", \"wijzigingen_aangebracht\", \"wijzigingen_aangebracht\", \"wijzigingen_aangebracht\", \"wins_toogmerk\", \"wins_toogmerk\", \"winst_oogmerk\", \"winst_oogmerk\", \"wisten\", \"woonzorgcentrum\", \"woord\", \"woord\", \"woord\", \"woord\", \"woord\", \"woord\", \"wurde\", \"zaak\", \"zaak\", \"zaak\", \"zaak\", \"zaak\", \"zaak\", \"zaak\", \"zaak\", \"zegelen\", \"zekerheid\", \"zekerheid\", \"zekerheid\", \"zekerheid\", \"zekerheid\", \"zekerheid\", \"zelfstandig\", \"zelfstandig\", \"zelfstandig\", \"zelfstandig\", \"zelfstandig\", \"zending\", \"zending\", \"zetel\", \"zetel\", \"ziekenhuis\", \"ziekenhuis\", \"ziekenhuis\", \"ziekenhuizen_hulpverlening\", \"ziekte\", \"ziekte\", \"ziekte\", \"ziekte\", \"ziekte\", \"ziekte\", \"zien\", \"zien\", \"zien\", \"zien\", \"zien\", \"zien\", \"zien\", \"zien\", \"zien\", \"zien\", \"zien\", \"zien\", \"zien\", \"zijde\", \"zinsnede\", \"zinsnede\", \"zogenaamd\", \"zone\", \"zonecommandant\", \"zorg\", \"zorg\", \"zorg\", \"zorg\", \"zorg\", \"zorgverblijven\", \"zorgverlener\", \"zustandigen\", \"zustandigen_foderierten\"]}, \"R\": 30, \"lambda.step\": 0.01, \"plot.opts\": {\"xlab\": \"PC1\", \"ylab\": \"PC2\"}, \"topic.order\": [10, 9, 18, 4, 15, 17, 3, 13, 1, 11, 5, 12, 2, 14, 19, 7, 16, 20, 6, 8]};\n",
              "\n",
              "function LDAvis_load_lib(url, callback){\n",
              "  var s = document.createElement('script');\n",
              "  s.src = url;\n",
              "  s.async = true;\n",
              "  s.onreadystatechange = s.onload = callback;\n",
              "  s.onerror = function(){console.warn(\"failed to load library \" + url);};\n",
              "  document.getElementsByTagName(\"head\")[0].appendChild(s);\n",
              "}\n",
              "\n",
              "if(typeof(LDAvis) !== \"undefined\"){\n",
              "   // already loaded: just create the visualization\n",
              "   !function(LDAvis){\n",
              "       new LDAvis(\"#\" + \"ldavis_el611405828637627688981092723\", ldavis_el611405828637627688981092723_data);\n",
              "   }(LDAvis);\n",
              "}else if(typeof define === \"function\" && define.amd){\n",
              "   // require.js is available: use it to load d3/LDAvis\n",
              "   require.config({paths: {d3: \"https://d3js.org/d3.v5\"}});\n",
              "   require([\"d3\"], function(d3){\n",
              "      window.d3 = d3;\n",
              "      LDAvis_load_lib(\"https://cdn.jsdelivr.net/gh/bmabey/pyLDAvis@3.3.1/pyLDAvis/js/ldavis.v3.0.0.js\", function(){\n",
              "        new LDAvis(\"#\" + \"ldavis_el611405828637627688981092723\", ldavis_el611405828637627688981092723_data);\n",
              "      });\n",
              "    });\n",
              "}else{\n",
              "    // require.js not available: dynamically load d3 & LDAvis\n",
              "    LDAvis_load_lib(\"https://d3js.org/d3.v5.js\", function(){\n",
              "         LDAvis_load_lib(\"https://cdn.jsdelivr.net/gh/bmabey/pyLDAvis@3.3.1/pyLDAvis/js/ldavis.v3.0.0.js\", function(){\n",
              "                 new LDAvis(\"#\" + \"ldavis_el611405828637627688981092723\", ldavis_el611405828637627688981092723_data);\n",
              "            })\n",
              "         });\n",
              "}\n",
              "</script>"
            ]
          },
          "metadata": {},
          "execution_count": 21
        }
      ]
    },
    {
      "cell_type": "markdown",
      "source": [
        "**How to make inferences from pyLDAvis' output:**\n",
        "\n",
        "Each bubble on the left-hand side plot represents a topic. The larger the bubble, the more prevalent is that topic.\n",
        "\n",
        "A good topic model will have fairly big, non-overlapping bubbles scattered throughout the chart instead of being clustered in one quadrant.\n",
        "\n",
        "A model with too many topics, will typically have many overlaps, small sized bubbles clustered in one region of the chart.\n",
        "\n",
        "Alright, if you move the cursor over one of the bubbles, the words and bars on the right-hand side will update. These words are the salient keywords that form the selected topic."
      ],
      "metadata": {
        "id": "2gk22bIUd26A"
      }
    },
    {
      "cell_type": "markdown",
      "source": [
        "## Mallet's version of LDA"
      ],
      "metadata": {
        "id": "ETy1_-3dfOJV"
      }
    },
    {
      "cell_type": "markdown",
      "source": [
        "Up next, we will improve upon this model by using **Mallet’s version of LDA algorithm** and then we will focus on how to arrive at the optimal number of topics given any large corpus of text."
      ],
      "metadata": {
        "id": "OK3o1pfYfR_C"
      }
    },
    {
      "cell_type": "markdown",
      "source": [
        "Gensim provides a wrapper to implement Mallet’s LDA from within Gensim itself. "
      ],
      "metadata": {
        "id": "BufgXlalgeK7"
      }
    },
    {
      "cell_type": "code",
      "source": [
        "# Upgrading Gensim\n",
        "# Updated to enforce Gensim v3.8 in Colab (the last version to support running topic models via Mallet).\n",
        "# https://github.com/polsci/colab-gensim-mallet\n",
        "!pip install --upgrade gensim==3.8"
      ],
      "metadata": {
        "id": "10EAD6GgiyVo"
      },
      "execution_count": null,
      "outputs": []
    },
    {
      "cell_type": "code",
      "source": [
        "# Installing Mallet\n",
        "!wget http://mallet.cs.umass.edu/dist/mallet-2.0.8.zip\n",
        "!unzip mallet-2.0.8.zip"
      ],
      "metadata": {
        "id": "RnZJ8JBxjnod"
      },
      "execution_count": null,
      "outputs": []
    },
    {
      "cell_type": "code",
      "source": [
        "mallet_path = 'mallet-2.0.8/bin/mallet'\n",
        "ldamallet = gensim.models.wrappers.LdaMallet(mallet_path, corpus=corpus, num_topics=20, id2word=id2word)"
      ],
      "metadata": {
        "id": "bmx7cxdXk8Is"
      },
      "execution_count": 24,
      "outputs": []
    },
    {
      "cell_type": "code",
      "source": [
        "# Showing Topics\n",
        "pprint(ldamallet.show_topics(formatted=False))"
      ],
      "metadata": {
        "colab": {
          "base_uri": "https://localhost:8080/"
        },
        "id": "59BxDHcTjhBr",
        "outputId": "292ebb9c-9aa8-4e58-edac-492813f1014d"
      },
      "execution_count": 25,
      "outputs": [
        {
          "output_type": "stream",
          "name": "stdout",
          "text": [
            "[(11,\n",
            "  [('werknemer', 0.03968620212275035),\n",
            "   ('werk', 0.0239386248269497),\n",
            "   ('werkgever', 0.018285648361790495),\n",
            "   ('collectief', 0.01545916012921089),\n",
            "   ('onderneming', 0.015113059529303184),\n",
            "   ('personeel_lid', 0.011940470696815874),\n",
            "   ('cov_id', 0.01119058606368251),\n",
            "   ('coronavirus', 0.011017535763728657),\n",
            "   ('kader', 0.010498384863867097),\n",
            "   ('mogelijk', 0.009921550530687587)]),\n",
            " (16,\n",
            "  [('steun', 0.043249688363774325),\n",
            "   ('onderneming', 0.029429299224974257),\n",
            "   ('regering', 0.015663107690640075),\n",
            "   ('economisch', 0.015121131645981247),\n",
            "   ('begunstigen', 0.014470760392390656),\n",
            "   ('brusselse_hoofdstedelijk', 0.01327841309414124),\n",
            "   ('cov_id', 0.011977670586960056),\n",
            "   ('gewest', 0.011327299333369465),\n",
            "   ('economie', 0.011056311311040052),\n",
            "   ('premie', 0.01100211370657417)]),\n",
            " (10,\n",
            "  [('koninklijk', 0.06316730163209633),\n",
            "   ('cov_id', 0.046140821221955695),\n",
            "   ('zelfstandig', 0.028079582333850713),\n",
            "   ('houdende', 0.0230939278491134),\n",
            "   ('tijdelijk', 0.022529514133860118),\n",
            "   ('kader', 0.021259583274540236),\n",
            "   ('coronavirus', 0.020318893749118102),\n",
            "   ('periode', 0.0182023423169183),\n",
            "   ('sociaal', 0.01448661869150087),\n",
            "   ('datum', 0.013828136023705376)]),\n",
            " (9,\n",
            "  [('onderwijs', 0.029857125412138235),\n",
            "   ('decreet', 0.024056661375015265),\n",
            "   ('leerling', 0.022469165954328976),\n",
            "   ('regering', 0.01807302478935157),\n",
            "   ('organiseren', 0.015386494077420931),\n",
            "   ('afwijking', 0.013493711075833435),\n",
            "   ('organisatie', 0.013066308462571742),\n",
            "   ('school', 0.012944193430211259),\n",
            "   ('school_jaar', 0.01196727317132739),\n",
            "   ('opleiding', 0.011356698009524973)]),\n",
            " (0,\n",
            "  [('woord', 0.09871552454847754),\n",
            "   ('vervangen', 0.07602529829823303),\n",
            "   ('hetzelfde', 0.03234009258655539),\n",
            "   ('wijzigingen_aangebracht', 0.015844037295429353),\n",
            "   ('wijzigen', 0.015126817500163004),\n",
            "   ('luiden', 0.014148790506617983),\n",
            "   ('in_voegen', 0.013366368911781966),\n",
            "   ('wijziging', 0.011866727521679598),\n",
            "   ('lijst', 0.011801525722109931),\n",
            "   ('aan_vullen', 0.011671122122970595)]),\n",
            " (3,\n",
            "  [('ministerieel', 0.01810454269470663),\n",
            "   ('overheid', 0.014019981233095988),\n",
            "   ('federaal', 0.011204945631175139),\n",
            "   ('bevoegdheid', 0.010542584313076116),\n",
            "   ('activiteit', 0.010101010101010102),\n",
            "   ('beperken', 0.008113926146713033),\n",
            "   ('cov_id', 0.007893139040680024),\n",
            "   ('kader', 0.006844400287023238),\n",
            "   ('voorwaarde', 0.006844400287023238),\n",
            "   ('overleg', 0.006789203510514986)]),\n",
            " (18,\n",
            "  [('code', 0.03374354902739182),\n",
            "   ('onderneming', 0.03103083234087601),\n",
            "   ('nace_bel', 0.02507608839486569),\n",
            "   ('waals', 0.023818975784041286),\n",
            "   ('regering', 0.017798068016408628),\n",
            "   ('sector', 0.013563583432579065),\n",
            "   ('vergoeding', 0.012901945216355697),\n",
            "   ('activiteit', 0.012372634643377001),\n",
            "   ('decreet', 0.012372634643377001),\n",
            "   ('administratie', 0.011512504962286622)]),\n",
            " (13,\n",
            "  [('Vlaams', 0.04918441662094079),\n",
            "   ('vermellen', 0.025589863820022946),\n",
            "   ('subsidie', 0.022447248964932408),\n",
            "   ('decreet', 0.022347483413977152),\n",
            "   ('periode', 0.016610964234049983),\n",
            "   ('regering', 0.014565770439467251),\n",
            "   ('aantal', 0.014166708235646232),\n",
            "   ('organisator', 0.011572803910809597),\n",
            "   ('centrum', 0.011024093380555693),\n",
            "   ('vermeld', 0.009826906769092633)]),\n",
            " (19,\n",
            "  [('fiscaal', 0.027579998363204846),\n",
            "   ('kennisgeving', 0.02463376708404943),\n",
            "   ('procedure', 0.022096734593665603),\n",
            "   ('bericht', 0.021442016531631067),\n",
            "   ('datum', 0.018741304525738602),\n",
            "   ('elektronisch', 0.016695310581880677),\n",
            "   ('verzending', 0.015385874457811605),\n",
            "   ('wetboek', 0.014649316638022752),\n",
            "   ('middel', 0.0144037973647598),\n",
            "   ('waarbij', 0.01301252148293641)]),\n",
            " (5,\n",
            "  [('bedrag', 0.022603101868170602),\n",
            "   ('wetboek', 0.018549524145223827),\n",
            "   ('vennootschap', 0.016170250264363764),\n",
            "   ('maand', 0.015289037715897074),\n",
            "   ('betrekking', 0.01211667254141699),\n",
            "   ('jaar', 0.012028551286570321),\n",
            "   ('voorwaarde', 0.0112354599929503),\n",
            "   ('aandeel', 0.01114733873810363),\n",
            "   ('kwartaal', 0.010310186817060274),\n",
            "   ('waarin', 0.009340853013746916)])]\n"
          ]
        }
      ]
    },
    {
      "cell_type": "code",
      "source": [
        "# Compute Coherence Score\n",
        "coherence_model_ldamallet = CoherenceModel(model=ldamallet, texts=data_lemmatized, dictionary=id2word, coherence='c_v')\n",
        "coherence_ldamallet = coherence_model_ldamallet.get_coherence()\n",
        "print('\\nCoherence Score: ', coherence_ldamallet)"
      ],
      "metadata": {
        "colab": {
          "base_uri": "https://localhost:8080/"
        },
        "id": "gIX9rBgujzdk",
        "outputId": "aeaf7c6f-75b7-4b90-c7fd-35d88fbc4d10"
      },
      "execution_count": 26,
      "outputs": [
        {
          "output_type": "stream",
          "name": "stdout",
          "text": [
            "\n",
            "Coherence Score:  0.5182866140021632\n"
          ]
        }
      ]
    },
    {
      "cell_type": "markdown",
      "source": [
        "**NOTE:** A *remarkable increase* in **coherence score** from  **0.4801422476656797** to **0.5182866140021632**."
      ],
      "metadata": {
        "id": "Jw3eiFejkNuV"
      }
    },
    {
      "cell_type": "markdown",
      "source": [
        "### Finding the optimal number of topics for LDA"
      ],
      "metadata": {
        "id": "p_OfPJxEk16s"
      }
    },
    {
      "cell_type": "markdown",
      "source": [
        "The approach to finding the optimal number of topics is to build many LDA models with different values of number of topics (k) and pick the one that gives the highest coherence value."
      ],
      "metadata": {
        "id": "rYN-JJP8k-4d"
      }
    },
    {
      "cell_type": "code",
      "source": [
        "def compute_coherence_values(dictionary, corpus, texts, limit, start=2, step=3):\n",
        "    \"\"\"\n",
        "    Compute c_v coherence for various number of topics\n",
        "\n",
        "    Parameters:\n",
        "    ----------\n",
        "    dictionary : Gensim dictionary\n",
        "    corpus : Gensim corpus\n",
        "    texts : List of input texts\n",
        "    limit : Max num of topics\n",
        "\n",
        "    Returns:\n",
        "    -------\n",
        "    model_list : List of LDA topic models\n",
        "    coherence_values : Coherence values corresponding to the LDA model with respective number of topics\n",
        "    \"\"\"\n",
        "    coherence_values = []\n",
        "    model_list = []\n",
        "    for num_topics in range(start, limit, step):\n",
        "        model = gensim.models.wrappers.LdaMallet(mallet_path, corpus=corpus, num_topics=num_topics, id2word=id2word)\n",
        "        model_list.append(model)\n",
        "        coherencemodel = CoherenceModel(model=model, texts=texts, dictionary=dictionary, coherence='c_v')\n",
        "        coherence_values.append(coherencemodel.get_coherence())\n",
        "    \n",
        "    return model_list, coherence_values"
      ],
      "metadata": {
        "id": "OvCJUPmjj4_H"
      },
      "execution_count": 27,
      "outputs": []
    },
    {
      "cell_type": "code",
      "source": [
        "# Can take a long time to run.\n",
        "model_list, coherence_values = compute_coherence_values(dictionary=id2word, corpus=corpus, texts=data_lemmatized, start=2, limit=40, step=6)"
      ],
      "metadata": {
        "id": "a2XYtjZplyTR"
      },
      "execution_count": 28,
      "outputs": []
    },
    {
      "cell_type": "code",
      "source": [
        "# Showing graph\n",
        "limit=40; start=2; step=6;\n",
        "x = range(start, limit, step)\n",
        "plt.plot(x, coherence_values)\n",
        "plt.xlabel(\"Num Topics\")\n",
        "plt.ylabel(\"Coherence score\")\n",
        "plt.legend((\"coherence_values\"), loc='best')\n",
        "plt.show()"
      ],
      "metadata": {
        "colab": {
          "base_uri": "https://localhost:8080/",
          "height": 279
        },
        "id": "k-rMtgaqmfBz",
        "outputId": "9aa0027c-62ed-4218-eacc-32575d8764b5"
      },
      "execution_count": 29,
      "outputs": [
        {
          "output_type": "display_data",
          "data": {
            "text/plain": [
              "<Figure size 432x288 with 1 Axes>"
            ],
            "image/png": "[encoded data removed]"
          },
          "metadata": {
            "needs_background": "light"
          }
        }
      ]
    },
    {
      "cell_type": "markdown",
      "source": [
        "**NOTE:**\n",
        "The optimal **coherence score** shown in this plot lies **around 14 number of topics**."
      ],
      "metadata": {
        "id": "K3CVzCuq01Yt"
      }
    },
    {
      "cell_type": "code",
      "source": [
        "# Printing the coherence scores\n",
        "for m, cv in zip(x, coherence_values):\n",
        "    print(\"Num Topics =\", m, \" has Coherence Value of\", round(cv, 4))"
      ],
      "metadata": {
        "colab": {
          "base_uri": "https://localhost:8080/"
        },
        "id": "OQlk6b8OmmUG",
        "outputId": "376aeebd-6a00-4e7f-ee0a-2bf430fb744c"
      },
      "execution_count": 30,
      "outputs": [
        {
          "output_type": "stream",
          "name": "stdout",
          "text": [
            "Num Topics = 2  has Coherence Value of 0.4459\n",
            "Num Topics = 8  has Coherence Value of 0.4843\n",
            "Num Topics = 14  has Coherence Value of 0.5225\n",
            "Num Topics = 20  has Coherence Value of 0.5194\n",
            "Num Topics = 26  has Coherence Value of 0.5218\n",
            "Num Topics = 32  has Coherence Value of 0.5149\n",
            "Num Topics = 38  has Coherence Value of 0.5233\n"
          ]
        }
      ]
    },
    {
      "cell_type": "markdown",
      "source": [
        "If the coherence score seems to keep increasing, it may make better sense to pick the model that gave the highest CV before flattening out."
      ],
      "metadata": {
        "id": "gKIMg0vbmtiA"
      }
    },
    {
      "cell_type": "markdown",
      "source": [
        "### Choosing the model with fourteen (14) topics"
      ],
      "metadata": {
        "id": "yGPOHR2Vm128"
      }
    },
    {
      "cell_type": "code",
      "source": [
        "# Select the model and print the topics\n",
        "# The best LDA model with the optimal coherence score has 14 topics, which is\n",
        "# index 2 from the model_list list\n",
        "optimal_model = model_list[2]\n",
        "model_topics = optimal_model.show_topics(formatted=False)\n",
        "pprint(optimal_model.print_topics(num_words=10))"
      ],
      "metadata": {
        "colab": {
          "base_uri": "https://localhost:8080/"
        },
        "id": "PHB5hvHsmveV",
        "outputId": "84a1dcf6-056f-4342-8713-461887b21c13"
      },
      "execution_count": 31,
      "outputs": [
        {
          "output_type": "stream",
          "name": "stdout",
          "text": [
            "[(0,\n",
            "  '0.086*\"woord\" + 0.075*\"vervangen\" + 0.032*\"hetzelfde\" + 0.018*\"wijzigen\" + '\n",
            "  '0.016*\"belgisch_staatsblad\" + 0.015*\"decreet\" + 0.014*\"aan_vullen\" + '\n",
            "  '0.013*\"wijzigingen_aangebracht\" + 0.013*\"in_voegen\" + 0.013*\"op_heffen\"'),\n",
            " (1,\n",
            "  '0.019*\"cov_id\" + 0.013*\"overheid\" + 0.013*\"federaal\" + 0.012*\"ministerieel\" '\n",
            "  '+ 0.011*\"vaccinatie\" + 0.008*\"beperken\" + 0.008*\"coronavirus\" + '\n",
            "  '0.007*\"dringend\" + 0.007*\"grond_gebied\" + 0.006*\"verspreiding\"'),\n",
            " (2,\n",
            "  '0.025*\"fiscaal\" + 0.017*\"procedure\" + 0.016*\"kennisgeving\" + '\n",
            "  '0.015*\"gewestelijk\" + 0.015*\"administratie\" + 0.014*\"bericht\" + '\n",
            "  '0.013*\"overheid_dienst\" + 0.013*\"geval\" + 0.012*\"betrekking\" + '\n",
            "  '0.011*\"datum\"'),\n",
            " (3,\n",
            "  '0.036*\"regering\" + 0.029*\"onderneming\" + 0.028*\"steun\" + 0.023*\"waals\" + '\n",
            "  '0.014*\"cov_id\" + 0.014*\"activiteit\" + 0.012*\"decreet\" + 0.012*\"economie\" + '\n",
            "  '0.011*\"economisch\" + 0.011*\"sector\"'),\n",
            " (4,\n",
            "  '0.052*\"koninklijk\" + 0.041*\"cov_id\" + 0.022*\"zelfstandig\" + '\n",
            "  '0.019*\"houdende\" + 0.019*\"periode\" + 0.018*\"coronavirus\" + 0.018*\"kader\" + '\n",
            "  '0.017*\"tijdelijk\" + 0.014*\"verspreiding\" + 0.014*\"raad\"'),\n",
            " (5,\n",
            "  '0.038*\"code\" + 0.028*\"nace_bel\" + 0.016*\"coronavirus\" + 0.014*\"cov_id\" + '\n",
            "  '0.013*\"euro\" + 0.011*\"tegemoetkoming\" + 0.010*\"federaal\" + '\n",
            "  '0.008*\"verwerking\" + 0.007*\"bij_komen\" + 0.007*\"administratie\"'),\n",
            " (6,\n",
            "  '0.036*\"wetboek\" + 0.033*\"belasting\" + 0.023*\"regeling\" + 0.022*\"bijzonder\" '\n",
            "  '+ 0.018*\"lidstaat\" + 0.018*\"koninklijk\" + 0.017*\"aangifte\" + 0.016*\"dienst\" '\n",
            "  '+ 0.014*\"verrichten\" + 0.013*\"betrekking\"'),\n",
            " (7,\n",
            "  '0.033*\"regering\" + 0.026*\"decreet\" + 0.020*\"onderwijs\" + 0.015*\"leerling\" + '\n",
            "  '0.013*\"afwijking\" + 0.011*\"franse_gemeenschap\" + 0.011*\"organiseren\" + '\n",
            "  '0.011*\"organisatie\" + 0.010*\"kader\" + 0.010*\"besluiten\"'),\n",
            " (8,\n",
            "  '0.032*\"regering\" + 0.025*\"cov_id\" + 0.017*\"brusselse_hoofdstedelijk\" + '\n",
            "  '0.013*\"kader\" + 0.012*\"belasten\" + 0.011*\"ordonnantie\" + 0.010*\"president\" '\n",
            "  '+ 0.009*\"decreet\" + 0.009*\"bijzonder\" + 0.008*\"gewest\"'),\n",
            " (9,\n",
            "  '0.022*\"cov_id\" + 0.021*\"ziekenhuis\" + 0.016*\"patiënt\" + '\n",
            "  '0.012*\"verstrekking\" + 0.008*\"tegemoetkoming\" + 0.008*\"zorg\" + '\n",
            "  '0.007*\"volksgezondheid\" + 0.007*\"uit_voeren\" + '\n",
            "  '0.007*\"verplichte_verzekering\" + 0.006*\"zorgverlener\"'),\n",
            " (10,\n",
            "  '0.011*\"bevoegdheid\" + 0.010*\"raad\" + 0.009*\"ontwerpen\" + 0.008*\"termijn\" + '\n",
            "  '0.007*\"betrekking\" + 0.007*\"geval\" + 0.006*\"regel\" + 0.006*\"instelling\" + '\n",
            "  '0.006*\"rechtsgrond\" + 0.006*\"maken\"'),\n",
            " (11,\n",
            "  '0.042*\"Vlaams\" + 0.023*\"vermellen\" + 0.019*\"subsidie\" + 0.019*\"decreet\" + '\n",
            "  '0.015*\"periode\" + 0.012*\"regering\" + 0.012*\"aantal\" + 0.012*\"akkoord\" + '\n",
            "  '0.010*\"overeenkomst\" + 0.010*\"organisator\"'),\n",
            " (12,\n",
            "  '0.033*\"werknemer\" + 0.022*\"werk\" + 0.017*\"werkgever\" + 0.016*\"onderneming\" '\n",
            "  '+ 0.011*\"collectief\" + 0.010*\"cov_id\" + 0.010*\"regeling\" + '\n",
            "  '0.010*\"tijdelijk\" + 0.009*\"kader\" + 0.009*\"coronavirus\"'),\n",
            " (13,\n",
            "  '0.023*\"bedrag\" + 0.021*\"wetboek\" + 0.018*\"maand\" + 0.014*\"vennootschap\" + '\n",
            "  '0.012*\"jaar\" + 0.011*\"voorwaarde\" + 0.011*\"betrekking\" + 0.010*\"aandeel\" + '\n",
            "  '0.009*\"recht\" + 0.008*\"periode\"')]\n"
          ]
        }
      ]
    },
    {
      "cell_type": "markdown",
      "source": [
        "### Finding the dominant topic in each sentence"
      ],
      "metadata": {
        "id": "jM5BBtRPm-BA"
      }
    },
    {
      "cell_type": "markdown",
      "source": [
        "One of the practical application of topic modeling is to determine what topic a given document is about.\n",
        "\n",
        "To find that, we find the **topic number that has the highest percentage contribution** in the document/set of documents."
      ],
      "metadata": {
        "id": "snt2Rep5nGWg"
      }
    },
    {
      "cell_type": "code",
      "source": [
        "def format_topics_sentences(ldamodel=lda_model, corpus=corpus, texts=data_words):\n",
        "    # Init output\n",
        "    sent_topics_df = pd.DataFrame()\n",
        "\n",
        "    # Get main topic in each document\n",
        "    for i, row in enumerate(ldamodel[corpus]):\n",
        "        row = sorted(row, key=lambda x: (x[1]), reverse=True)\n",
        "        # Get the Dominant topic, Perc Contribution and Keywords for each document\n",
        "        for j, (topic_num, prop_topic) in enumerate(row):\n",
        "            if j == 0:  # => dominant topic\n",
        "                wp = ldamodel.show_topic(topic_num)\n",
        "                topic_keywords = \", \".join([word for word, prop in wp])\n",
        "                sent_topics_df = sent_topics_df.append(pd.Series([int(topic_num), round(prop_topic,4), topic_keywords]), ignore_index=True)\n",
        "            else:\n",
        "                break\n",
        "    sent_topics_df.columns = ['Dominant_Topic', 'Perc_Contribution', 'Topic_Keywords']\n",
        "\n",
        "    # Add original text to the end of the output\n",
        "    contents = pd.Series(texts)\n",
        "    sent_topics_df = pd.concat([sent_topics_df, contents], axis=1)\n",
        "    return(sent_topics_df)\n",
        "\n",
        "df_topic_sents_keywords = format_topics_sentences(ldamodel=optimal_model, corpus=corpus, texts=data_words)"
      ],
      "metadata": {
        "id": "4dZDyOL2mn1T"
      },
      "execution_count": 32,
      "outputs": []
    },
    {
      "cell_type": "code",
      "source": [
        "# Formatting\n",
        "df_dominant_topic = df_topic_sents_keywords.reset_index()\n",
        "df_dominant_topic.columns = ['Document_No', 'Dominant_Topic', 'Topic_Perc_Contrib', 'Keywords', 'Text']\n",
        "\n",
        "# Showing\n",
        "df_dominant_topic.head(10)"
      ],
      "metadata": {
        "colab": {
          "base_uri": "https://localhost:8080/",
          "height": 363
        },
        "id": "Rko8z_8PnYaa",
        "outputId": "b9245d51-5ac8-4b8a-f279-79d475ae1c04"
      },
      "execution_count": 33,
      "outputs": [
        {
          "output_type": "execute_result",
          "data": {
            "text/plain": [
              "   Document_No  Dominant_Topic  Topic_Perc_Contrib  \\\n",
              "0            0            13.0              0.8212   \n",
              "1            1            12.0              0.5261   \n",
              "2            2             4.0              0.3717   \n",
              "3            3             7.0              0.7241   \n",
              "4            4             3.0              0.4985   \n",
              "5            5            11.0              0.3633   \n",
              "6            6             0.0              0.3460   \n",
              "7            7             7.0              0.1947   \n",
              "8            8             0.0              0.3447   \n",
              "9            9             0.0              0.2264   \n",
              "\n",
              "                                            Keywords  \\\n",
              "0  bedrag, wetboek, maand, vennootschap, jaar, vo...   \n",
              "1  werknemer, werk, werkgever, onderneming, colle...   \n",
              "2  koninklijk, cov_id, zelfstandig, houdende, per...   \n",
              "3  regering, decreet, onderwijs, leerling, afwijk...   \n",
              "4  regering, onderneming, steun, waals, cov_id, a...   \n",
              "5  Vlaams, vermellen, subsidie, decreet, periode,...   \n",
              "6  woord, vervangen, hetzelfde, wijzigen, belgisc...   \n",
              "7  regering, decreet, onderwijs, leerling, afwijk...   \n",
              "8  woord, vervangen, hetzelfde, wijzigen, belgisc...   \n",
              "9  woord, vervangen, hetzelfde, wijzigen, belgisc...   \n",
              "\n",
              "                                                Text  \n",
              "0  [de, coefficient, bedoeld, in, artikel, van, h...  \n",
              "1  [filip, koning, der, belgen, aan, allen, die, ...  \n",
              "2  [verslag, aan, de, koning, sire, het, koninkli...  \n",
              "3  [de, regering, van, de, franse, gemeenschap, g...  \n",
              "4  [de, waalse, regering, gelet, op, het, decreet...  \n",
              "5  [het, vlaams, parlement, heeft, aangenomen, en...  \n",
              "6  [in, worden, de, woorden, pct, vervangen, door...  \n",
              "7  [de, regering, van, de, franse, gemeenschap, g...  \n",
              "8  [filip, koning, der, belgen, aan, allen, die, ...  \n",
              "9  [de, brusselse, hoofdstedelijke, regering, gel...  "
            ],
            "text/html": [
              "\n",
              "  <div id=\"df-00e7afc3-5832-402a-9007-df0a3d085561\">\n",
              "    <div class=\"colab-df-container\">\n",
              "      <div>\n",
              "<style scoped>\n",
              "    .dataframe tbody tr th:only-of-type {\n",
              "        vertical-align: middle;\n",
              "    }\n",
              "\n",
              "    .dataframe tbody tr th {\n",
              "        vertical-align: top;\n",
              "    }\n",
              "\n",
              "    .dataframe thead th {\n",
              "        text-align: right;\n",
              "    }\n",
              "</style>\n",
              "<table border=\"1\" class=\"dataframe\">\n",
              "  <thead>\n",
              "    <tr style=\"text-align: right;\">\n",
              "      <th></th>\n",
              "      <th>Document_No</th>\n",
              "      <th>Dominant_Topic</th>\n",
              "      <th>Topic_Perc_Contrib</th>\n",
              "      <th>Keywords</th>\n",
              "      <th>Text</th>\n",
              "    </tr>\n",
              "  </thead>\n",
              "  <tbody>\n",
              "    <tr>\n",
              "      <th>0</th>\n",
              "      <td>0</td>\n",
              "      <td>13.0</td>\n",
              "      <td>0.8212</td>\n",
              "      <td>bedrag, wetboek, maand, vennootschap, jaar, vo...</td>\n",
              "      <td>[de, coefficient, bedoeld, in, artikel, van, h...</td>\n",
              "    </tr>\n",
              "    <tr>\n",
              "      <th>1</th>\n",
              "      <td>1</td>\n",
              "      <td>12.0</td>\n",
              "      <td>0.5261</td>\n",
              "      <td>werknemer, werk, werkgever, onderneming, colle...</td>\n",
              "      <td>[filip, koning, der, belgen, aan, allen, die, ...</td>\n",
              "    </tr>\n",
              "    <tr>\n",
              "      <th>2</th>\n",
              "      <td>2</td>\n",
              "      <td>4.0</td>\n",
              "      <td>0.3717</td>\n",
              "      <td>koninklijk, cov_id, zelfstandig, houdende, per...</td>\n",
              "      <td>[verslag, aan, de, koning, sire, het, koninkli...</td>\n",
              "    </tr>\n",
              "    <tr>\n",
              "      <th>3</th>\n",
              "      <td>3</td>\n",
              "      <td>7.0</td>\n",
              "      <td>0.7241</td>\n",
              "      <td>regering, decreet, onderwijs, leerling, afwijk...</td>\n",
              "      <td>[de, regering, van, de, franse, gemeenschap, g...</td>\n",
              "    </tr>\n",
              "    <tr>\n",
              "      <th>4</th>\n",
              "      <td>4</td>\n",
              "      <td>3.0</td>\n",
              "      <td>0.4985</td>\n",
              "      <td>regering, onderneming, steun, waals, cov_id, a...</td>\n",
              "      <td>[de, waalse, regering, gelet, op, het, decreet...</td>\n",
              "    </tr>\n",
              "    <tr>\n",
              "      <th>5</th>\n",
              "      <td>5</td>\n",
              "      <td>11.0</td>\n",
              "      <td>0.3633</td>\n",
              "      <td>Vlaams, vermellen, subsidie, decreet, periode,...</td>\n",
              "      <td>[het, vlaams, parlement, heeft, aangenomen, en...</td>\n",
              "    </tr>\n",
              "    <tr>\n",
              "      <th>6</th>\n",
              "      <td>6</td>\n",
              "      <td>0.0</td>\n",
              "      <td>0.3460</td>\n",
              "      <td>woord, vervangen, hetzelfde, wijzigen, belgisc...</td>\n",
              "      <td>[in, worden, de, woorden, pct, vervangen, door...</td>\n",
              "    </tr>\n",
              "    <tr>\n",
              "      <th>7</th>\n",
              "      <td>7</td>\n",
              "      <td>7.0</td>\n",
              "      <td>0.1947</td>\n",
              "      <td>regering, decreet, onderwijs, leerling, afwijk...</td>\n",
              "      <td>[de, regering, van, de, franse, gemeenschap, g...</td>\n",
              "    </tr>\n",
              "    <tr>\n",
              "      <th>8</th>\n",
              "      <td>8</td>\n",
              "      <td>0.0</td>\n",
              "      <td>0.3447</td>\n",
              "      <td>woord, vervangen, hetzelfde, wijzigen, belgisc...</td>\n",
              "      <td>[filip, koning, der, belgen, aan, allen, die, ...</td>\n",
              "    </tr>\n",
              "    <tr>\n",
              "      <th>9</th>\n",
              "      <td>9</td>\n",
              "      <td>0.0</td>\n",
              "      <td>0.2264</td>\n",
              "      <td>woord, vervangen, hetzelfde, wijzigen, belgisc...</td>\n",
              "      <td>[de, brusselse, hoofdstedelijke, regering, gel...</td>\n",
              "    </tr>\n",
              "  </tbody>\n",
              "</table>\n",
              "</div>\n",
              "      <button class=\"colab-df-convert\" onclick=\"convertToInteractive('df-00e7afc3-5832-402a-9007-df0a3d085561')\"\n",
              "              title=\"Convert this dataframe to an interactive table.\"\n",
              "              style=\"display:none;\">\n",
              "        \n",
              "  <svg xmlns=\"http://www.w3.org/2000/svg\" height=\"24px\"viewBox=\"0 0 24 24\"\n",
              "       width=\"24px\">\n",
              "    <path d=\"M0 0h24v24H0V0z\" fill=\"none\"/>\n",
              "    <path d=\"M18.56 5.44l.94 2.06.94-2.06 2.06-.94-2.06-.94-.94-2.06-.94 2.06-2.06.94zm-11 1L8.5 8.5l.94-2.06 2.06-.94-2.06-.94L8.5 2.5l-.94 2.06-2.06.94zm10 10l.94 2.06.94-2.06 2.06-.94-2.06-.94-.94-2.06-.94 2.06-2.06.94z\"/><path d=\"M17.41 7.96l-1.37-1.37c-.4-.4-.92-.59-1.43-.59-.52 0-1.04.2-1.43.59L10.3 9.45l-7.72 7.72c-.78.78-.78 2.05 0 2.83L4 21.41c.39.39.9.59 1.41.59.51 0 1.02-.2 1.41-.59l7.78-7.78 2.81-2.81c.8-.78.8-2.07 0-2.86zM5.41 20L4 18.59l7.72-7.72 1.47 1.35L5.41 20z\"/>\n",
              "  </svg>\n",
              "      </button>\n",
              "      \n",
              "  <style>\n",
              "    .colab-df-container {\n",
              "      display:flex;\n",
              "      flex-wrap:wrap;\n",
              "      gap: 12px;\n",
              "    }\n",
              "\n",
              "    .colab-df-convert {\n",
              "      background-color: #E8F0FE;\n",
              "      border: none;\n",
              "      border-radius: 50%;\n",
              "      cursor: pointer;\n",
              "      display: none;\n",
              "      fill: #1967D2;\n",
              "      height: 32px;\n",
              "      padding: 0 0 0 0;\n",
              "      width: 32px;\n",
              "    }\n",
              "\n",
              "    .colab-df-convert:hover {\n",
              "      background-color: #E2EBFA;\n",
              "      box-shadow: 0px 1px 2px rgba(60, 64, 67, 0.3), 0px 1px 3px 1px rgba(60, 64, 67, 0.15);\n",
              "      fill: #174EA6;\n",
              "    }\n",
              "\n",
              "    [theme=dark] .colab-df-convert {\n",
              "      background-color: #3B4455;\n",
              "      fill: #D2E3FC;\n",
              "    }\n",
              "\n",
              "    [theme=dark] .colab-df-convert:hover {\n",
              "      background-color: #434B5C;\n",
              "      box-shadow: 0px 1px 3px 1px rgba(0, 0, 0, 0.15);\n",
              "      filter: drop-shadow(0px 1px 2px rgba(0, 0, 0, 0.3));\n",
              "      fill: #FFFFFF;\n",
              "    }\n",
              "  </style>\n",
              "\n",
              "      <script>\n",
              "        const buttonEl =\n",
              "          document.querySelector('#df-00e7afc3-5832-402a-9007-df0a3d085561 button.colab-df-convert');\n",
              "        buttonEl.style.display =\n",
              "          google.colab.kernel.accessAllowed ? 'block' : 'none';\n",
              "\n",
              "        async function convertToInteractive(key) {\n",
              "          const element = document.querySelector('#df-00e7afc3-5832-402a-9007-df0a3d085561');\n",
              "          const dataTable =\n",
              "            await google.colab.kernel.invokeFunction('convertToInteractive',\n",
              "                                                     [key], {});\n",
              "          if (!dataTable) return;\n",
              "\n",
              "          const docLinkHtml = 'Like what you see? Visit the ' +\n",
              "            '<a target=\"_blank\" href=https://colab.research.google.com/notebooks/data_table.ipynb>data table notebook</a>'\n",
              "            + ' to learn more about interactive tables.';\n",
              "          element.innerHTML = '';\n",
              "          dataTable['output_type'] = 'display_data';\n",
              "          await google.colab.output.renderOutput(dataTable, element);\n",
              "          const docLink = document.createElement('div');\n",
              "          docLink.innerHTML = docLinkHtml;\n",
              "          element.appendChild(docLink);\n",
              "        }\n",
              "      </script>\n",
              "    </div>\n",
              "  </div>\n",
              "  "
            ]
          },
          "metadata": {},
          "execution_count": 33
        }
      ]
    },
    {
      "cell_type": "markdown",
      "source": [
        "### Finding the most representative document for each topic"
      ],
      "metadata": {
        "id": "rH-gdgkgpfiM"
      }
    },
    {
      "cell_type": "markdown",
      "source": [
        "With understanding the topic, you can find the documents a given topic has contributed to the most and infer the topic by reading that document."
      ],
      "metadata": {
        "id": "Z1e_t-Ufpiyf"
      }
    },
    {
      "cell_type": "code",
      "source": [
        "# Grouping the top 5 sentences under each topic\n",
        "sent_topics_sorteddf_mallet = pd.DataFrame()\n",
        "\n",
        "sent_topics_outdf_grpd = df_topic_sents_keywords.groupby('Dominant_Topic')\n",
        "\n",
        "for i, grp in sent_topics_outdf_grpd:\n",
        "    sent_topics_sorteddf_mallet = pd.concat([sent_topics_sorteddf_mallet, \n",
        "                                             grp.sort_values(['Perc_Contribution'], ascending=[0]).head(1)], \n",
        "                                            axis=0)\n",
        "\n",
        "# Reseting Index    \n",
        "sent_topics_sorteddf_mallet.reset_index(drop=True, inplace=True)\n",
        "\n",
        "# Formating\n",
        "sent_topics_sorteddf_mallet.columns = ['Topic_Num', \"Topic_Perc_Contrib\", \"Keywords\", \"Text\"]\n",
        "\n",
        "# Showing\n",
        "sent_topics_sorteddf_mallet.head()"
      ],
      "metadata": {
        "colab": {
          "base_uri": "https://localhost:8080/",
          "height": 206
        },
        "id": "RNhW5j47pqBn",
        "outputId": "6355bccd-7ce0-49ad-f03f-bc39230bfada"
      },
      "execution_count": 34,
      "outputs": [
        {
          "output_type": "execute_result",
          "data": {
            "text/plain": [
              "   Topic_Num  Topic_Perc_Contrib  \\\n",
              "0        0.0              0.8247   \n",
              "1        1.0              0.8490   \n",
              "2        2.0              0.9051   \n",
              "3        3.0              0.8454   \n",
              "4        4.0              0.6698   \n",
              "\n",
              "                                            Keywords  \\\n",
              "0  woord, vervangen, hetzelfde, wijzigen, belgisc...   \n",
              "1  cov_id, overheid, federaal, ministerieel, vacc...   \n",
              "2  fiscaal, procedure, kennisgeving, gewestelijk,...   \n",
              "3  regering, onderneming, steun, waals, cov_id, a...   \n",
              "4  koninklijk, cov_id, zelfstandig, houdende, per...   \n",
              "\n",
              "                                                Text  \n",
              "0  [filip, koning, der, belgen, aan, allen, die, ...  \n",
              "1  [de, waalse, regering, gelet, op, het, waalse,...  \n",
              "2  [de, brusselse, hoofdstedelijke, regering, gel...  \n",
              "3  [de, minister, van, economie, gelet, op, het, ...  \n",
              "4  [filip, koning, der, belgen, aan, allen, die, ...  "
            ],
            "text/html": [
              "\n",
              "  <div id=\"df-9876a7b4-313a-42be-a53d-f992865ec3a8\">\n",
              "    <div class=\"colab-df-container\">\n",
              "      <div>\n",
              "<style scoped>\n",
              "    .dataframe tbody tr th:only-of-type {\n",
              "        vertical-align: middle;\n",
              "    }\n",
              "\n",
              "    .dataframe tbody tr th {\n",
              "        vertical-align: top;\n",
              "    }\n",
              "\n",
              "    .dataframe thead th {\n",
              "        text-align: right;\n",
              "    }\n",
              "</style>\n",
              "<table border=\"1\" class=\"dataframe\">\n",
              "  <thead>\n",
              "    <tr style=\"text-align: right;\">\n",
              "      <th></th>\n",
              "      <th>Topic_Num</th>\n",
              "      <th>Topic_Perc_Contrib</th>\n",
              "      <th>Keywords</th>\n",
              "      <th>Text</th>\n",
              "    </tr>\n",
              "  </thead>\n",
              "  <tbody>\n",
              "    <tr>\n",
              "      <th>0</th>\n",
              "      <td>0.0</td>\n",
              "      <td>0.8247</td>\n",
              "      <td>woord, vervangen, hetzelfde, wijzigen, belgisc...</td>\n",
              "      <td>[filip, koning, der, belgen, aan, allen, die, ...</td>\n",
              "    </tr>\n",
              "    <tr>\n",
              "      <th>1</th>\n",
              "      <td>1.0</td>\n",
              "      <td>0.8490</td>\n",
              "      <td>cov_id, overheid, federaal, ministerieel, vacc...</td>\n",
              "      <td>[de, waalse, regering, gelet, op, het, waalse,...</td>\n",
              "    </tr>\n",
              "    <tr>\n",
              "      <th>2</th>\n",
              "      <td>2.0</td>\n",
              "      <td>0.9051</td>\n",
              "      <td>fiscaal, procedure, kennisgeving, gewestelijk,...</td>\n",
              "      <td>[de, brusselse, hoofdstedelijke, regering, gel...</td>\n",
              "    </tr>\n",
              "    <tr>\n",
              "      <th>3</th>\n",
              "      <td>3.0</td>\n",
              "      <td>0.8454</td>\n",
              "      <td>regering, onderneming, steun, waals, cov_id, a...</td>\n",
              "      <td>[de, minister, van, economie, gelet, op, het, ...</td>\n",
              "    </tr>\n",
              "    <tr>\n",
              "      <th>4</th>\n",
              "      <td>4.0</td>\n",
              "      <td>0.6698</td>\n",
              "      <td>koninklijk, cov_id, zelfstandig, houdende, per...</td>\n",
              "      <td>[filip, koning, der, belgen, aan, allen, die, ...</td>\n",
              "    </tr>\n",
              "  </tbody>\n",
              "</table>\n",
              "</div>\n",
              "      <button class=\"colab-df-convert\" onclick=\"convertToInteractive('df-9876a7b4-313a-42be-a53d-f992865ec3a8')\"\n",
              "              title=\"Convert this dataframe to an interactive table.\"\n",
              "              style=\"display:none;\">\n",
              "        \n",
              "  <svg xmlns=\"http://www.w3.org/2000/svg\" height=\"24px\"viewBox=\"0 0 24 24\"\n",
              "       width=\"24px\">\n",
              "    <path d=\"M0 0h24v24H0V0z\" fill=\"none\"/>\n",
              "    <path d=\"M18.56 5.44l.94 2.06.94-2.06 2.06-.94-2.06-.94-.94-2.06-.94 2.06-2.06.94zm-11 1L8.5 8.5l.94-2.06 2.06-.94-2.06-.94L8.5 2.5l-.94 2.06-2.06.94zm10 10l.94 2.06.94-2.06 2.06-.94-2.06-.94-.94-2.06-.94 2.06-2.06.94z\"/><path d=\"M17.41 7.96l-1.37-1.37c-.4-.4-.92-.59-1.43-.59-.52 0-1.04.2-1.43.59L10.3 9.45l-7.72 7.72c-.78.78-.78 2.05 0 2.83L4 21.41c.39.39.9.59 1.41.59.51 0 1.02-.2 1.41-.59l7.78-7.78 2.81-2.81c.8-.78.8-2.07 0-2.86zM5.41 20L4 18.59l7.72-7.72 1.47 1.35L5.41 20z\"/>\n",
              "  </svg>\n",
              "      </button>\n",
              "      \n",
              "  <style>\n",
              "    .colab-df-container {\n",
              "      display:flex;\n",
              "      flex-wrap:wrap;\n",
              "      gap: 12px;\n",
              "    }\n",
              "\n",
              "    .colab-df-convert {\n",
              "      background-color: #E8F0FE;\n",
              "      border: none;\n",
              "      border-radius: 50%;\n",
              "      cursor: pointer;\n",
              "      display: none;\n",
              "      fill: #1967D2;\n",
              "      height: 32px;\n",
              "      padding: 0 0 0 0;\n",
              "      width: 32px;\n",
              "    }\n",
              "\n",
              "    .colab-df-convert:hover {\n",
              "      background-color: #E2EBFA;\n",
              "      box-shadow: 0px 1px 2px rgba(60, 64, 67, 0.3), 0px 1px 3px 1px rgba(60, 64, 67, 0.15);\n",
              "      fill: #174EA6;\n",
              "    }\n",
              "\n",
              "    [theme=dark] .colab-df-convert {\n",
              "      background-color: #3B4455;\n",
              "      fill: #D2E3FC;\n",
              "    }\n",
              "\n",
              "    [theme=dark] .colab-df-convert:hover {\n",
              "      background-color: #434B5C;\n",
              "      box-shadow: 0px 1px 3px 1px rgba(0, 0, 0, 0.15);\n",
              "      filter: drop-shadow(0px 1px 2px rgba(0, 0, 0, 0.3));\n",
              "      fill: #FFFFFF;\n",
              "    }\n",
              "  </style>\n",
              "\n",
              "      <script>\n",
              "        const buttonEl =\n",
              "          document.querySelector('#df-9876a7b4-313a-42be-a53d-f992865ec3a8 button.colab-df-convert');\n",
              "        buttonEl.style.display =\n",
              "          google.colab.kernel.accessAllowed ? 'block' : 'none';\n",
              "\n",
              "        async function convertToInteractive(key) {\n",
              "          const element = document.querySelector('#df-9876a7b4-313a-42be-a53d-f992865ec3a8');\n",
              "          const dataTable =\n",
              "            await google.colab.kernel.invokeFunction('convertToInteractive',\n",
              "                                                     [key], {});\n",
              "          if (!dataTable) return;\n",
              "\n",
              "          const docLinkHtml = 'Like what you see? Visit the ' +\n",
              "            '<a target=\"_blank\" href=https://colab.research.google.com/notebooks/data_table.ipynb>data table notebook</a>'\n",
              "            + ' to learn more about interactive tables.';\n",
              "          element.innerHTML = '';\n",
              "          dataTable['output_type'] = 'display_data';\n",
              "          await google.colab.output.renderOutput(dataTable, element);\n",
              "          const docLink = document.createElement('div');\n",
              "          docLink.innerHTML = docLinkHtml;\n",
              "          element.appendChild(docLink);\n",
              "        }\n",
              "      </script>\n",
              "    </div>\n",
              "  </div>\n",
              "  "
            ]
          },
          "metadata": {},
          "execution_count": 34
        }
      ]
    },
    {
      "cell_type": "markdown",
      "source": [
        "The tabular output above actually has 20 rows, one each for a topic. It has the topic number, the keywords, and the most representative document. The **Perc_Contribution column** is nothing but the percentage contribution of the topic in the given document."
      ],
      "metadata": {
        "id": "DoYcEQQNp6Lm"
      }
    },
    {
      "cell_type": "markdown",
      "source": [
        "## Topic distribution across documents"
      ],
      "metadata": {
        "id": "GP4W5PoIp-pK"
      }
    },
    {
      "cell_type": "markdown",
      "source": [
        "Finally, we want to understand the volume and distribution of topics in order to judge how widely it was discussed. "
      ],
      "metadata": {
        "id": "nFRFXvosqB4n"
      }
    },
    {
      "cell_type": "code",
      "source": [
        "# Number of Documents for Each Topic\n",
        "topic_counts = df_topic_sents_keywords['Dominant_Topic'].value_counts()\n",
        "\n",
        "# Percentage of Documents for Each Topic\n",
        "topic_contribution = round(topic_counts/topic_counts.sum(), 4)\n",
        "\n",
        "# Topic Number and Keywords\n",
        "topic_num_keywords = df_topic_sents_keywords[['Dominant_Topic', 'Topic_Keywords']]\n",
        "\n",
        "# Concatenatinate Column wise\n",
        "df_dominant_topics = pd.concat([topic_num_keywords, topic_counts, topic_contribution], axis=1)\n",
        "\n",
        "# Change Column names\n",
        "df_dominant_topics.columns = ['Dominant_Topic', 'Topic_Keywords', 'Num_Documents', 'Perc_Documents']\n",
        "\n",
        "# Show\n",
        "df_dominant_topics"
      ],
      "metadata": {
        "id": "UhzZdILGqUaT",
        "colab": {
          "base_uri": "https://localhost:8080/",
          "height": 424
        },
        "outputId": "95bf77d1-ab3f-4612-e56c-1a5d30e05b3e"
      },
      "execution_count": 35,
      "outputs": [
        {
          "output_type": "execute_result",
          "data": {
            "text/plain": [
              "       Dominant_Topic                                     Topic_Keywords  \\\n",
              "0.0              13.0  bedrag, wetboek, maand, vennootschap, jaar, vo...   \n",
              "1.0              12.0  werknemer, werk, werkgever, onderneming, colle...   \n",
              "2.0               4.0  koninklijk, cov_id, zelfstandig, houdende, per...   \n",
              "3.0               7.0  regering, decreet, onderwijs, leerling, afwijk...   \n",
              "4.0               3.0  regering, onderneming, steun, waals, cov_id, a...   \n",
              "...               ...                                                ...   \n",
              "623.0            11.0  Vlaams, vermellen, subsidie, decreet, periode,...   \n",
              "624.0             7.0  regering, decreet, onderwijs, leerling, afwijk...   \n",
              "625.0             7.0  regering, decreet, onderwijs, leerling, afwijk...   \n",
              "626.0             0.0  woord, vervangen, hetzelfde, wijzigen, belgisc...   \n",
              "627.0             8.0  regering, cov_id, brusselse_hoofdstedelijk, ka...   \n",
              "\n",
              "       Num_Documents  Perc_Documents  \n",
              "0.0             50.0          0.0796  \n",
              "1.0             28.0          0.0446  \n",
              "2.0             51.0          0.0812  \n",
              "3.0             72.0          0.1146  \n",
              "4.0             65.0          0.1035  \n",
              "...              ...             ...  \n",
              "623.0            NaN             NaN  \n",
              "624.0            NaN             NaN  \n",
              "625.0            NaN             NaN  \n",
              "626.0            NaN             NaN  \n",
              "627.0            NaN             NaN  \n",
              "\n",
              "[628 rows x 4 columns]"
            ],
            "text/html": [
              "\n",
              "  <div id=\"df-12405cf1-da96-49c6-8f23-f05a72ee8c87\">\n",
              "    <div class=\"colab-df-container\">\n",
              "      <div>\n",
              "<style scoped>\n",
              "    .dataframe tbody tr th:only-of-type {\n",
              "        vertical-align: middle;\n",
              "    }\n",
              "\n",
              "    .dataframe tbody tr th {\n",
              "        vertical-align: top;\n",
              "    }\n",
              "\n",
              "    .dataframe thead th {\n",
              "        text-align: right;\n",
              "    }\n",
              "</style>\n",
              "<table border=\"1\" class=\"dataframe\">\n",
              "  <thead>\n",
              "    <tr style=\"text-align: right;\">\n",
              "      <th></th>\n",
              "      <th>Dominant_Topic</th>\n",
              "      <th>Topic_Keywords</th>\n",
              "      <th>Num_Documents</th>\n",
              "      <th>Perc_Documents</th>\n",
              "    </tr>\n",
              "  </thead>\n",
              "  <tbody>\n",
              "    <tr>\n",
              "      <th>0.0</th>\n",
              "      <td>13.0</td>\n",
              "      <td>bedrag, wetboek, maand, vennootschap, jaar, vo...</td>\n",
              "      <td>50.0</td>\n",
              "      <td>0.0796</td>\n",
              "    </tr>\n",
              "    <tr>\n",
              "      <th>1.0</th>\n",
              "      <td>12.0</td>\n",
              "      <td>werknemer, werk, werkgever, onderneming, colle...</td>\n",
              "      <td>28.0</td>\n",
              "      <td>0.0446</td>\n",
              "    </tr>\n",
              "    <tr>\n",
              "      <th>2.0</th>\n",
              "      <td>4.0</td>\n",
              "      <td>koninklijk, cov_id, zelfstandig, houdende, per...</td>\n",
              "      <td>51.0</td>\n",
              "      <td>0.0812</td>\n",
              "    </tr>\n",
              "    <tr>\n",
              "      <th>3.0</th>\n",
              "      <td>7.0</td>\n",
              "      <td>regering, decreet, onderwijs, leerling, afwijk...</td>\n",
              "      <td>72.0</td>\n",
              "      <td>0.1146</td>\n",
              "    </tr>\n",
              "    <tr>\n",
              "      <th>4.0</th>\n",
              "      <td>3.0</td>\n",
              "      <td>regering, onderneming, steun, waals, cov_id, a...</td>\n",
              "      <td>65.0</td>\n",
              "      <td>0.1035</td>\n",
              "    </tr>\n",
              "    <tr>\n",
              "      <th>...</th>\n",
              "      <td>...</td>\n",
              "      <td>...</td>\n",
              "      <td>...</td>\n",
              "      <td>...</td>\n",
              "    </tr>\n",
              "    <tr>\n",
              "      <th>623.0</th>\n",
              "      <td>11.0</td>\n",
              "      <td>Vlaams, vermellen, subsidie, decreet, periode,...</td>\n",
              "      <td>NaN</td>\n",
              "      <td>NaN</td>\n",
              "    </tr>\n",
              "    <tr>\n",
              "      <th>624.0</th>\n",
              "      <td>7.0</td>\n",
              "      <td>regering, decreet, onderwijs, leerling, afwijk...</td>\n",
              "      <td>NaN</td>\n",
              "      <td>NaN</td>\n",
              "    </tr>\n",
              "    <tr>\n",
              "      <th>625.0</th>\n",
              "      <td>7.0</td>\n",
              "      <td>regering, decreet, onderwijs, leerling, afwijk...</td>\n",
              "      <td>NaN</td>\n",
              "      <td>NaN</td>\n",
              "    </tr>\n",
              "    <tr>\n",
              "      <th>626.0</th>\n",
              "      <td>0.0</td>\n",
              "      <td>woord, vervangen, hetzelfde, wijzigen, belgisc...</td>\n",
              "      <td>NaN</td>\n",
              "      <td>NaN</td>\n",
              "    </tr>\n",
              "    <tr>\n",
              "      <th>627.0</th>\n",
              "      <td>8.0</td>\n",
              "      <td>regering, cov_id, brusselse_hoofdstedelijk, ka...</td>\n",
              "      <td>NaN</td>\n",
              "      <td>NaN</td>\n",
              "    </tr>\n",
              "  </tbody>\n",
              "</table>\n",
              "<p>628 rows × 4 columns</p>\n",
              "</div>\n",
              "      <button class=\"colab-df-convert\" onclick=\"convertToInteractive('df-12405cf1-da96-49c6-8f23-f05a72ee8c87')\"\n",
              "              title=\"Convert this dataframe to an interactive table.\"\n",
              "              style=\"display:none;\">\n",
              "        \n",
              "  <svg xmlns=\"http://www.w3.org/2000/svg\" height=\"24px\"viewBox=\"0 0 24 24\"\n",
              "       width=\"24px\">\n",
              "    <path d=\"M0 0h24v24H0V0z\" fill=\"none\"/>\n",
              "    <path d=\"M18.56 5.44l.94 2.06.94-2.06 2.06-.94-2.06-.94-.94-2.06-.94 2.06-2.06.94zm-11 1L8.5 8.5l.94-2.06 2.06-.94-2.06-.94L8.5 2.5l-.94 2.06-2.06.94zm10 10l.94 2.06.94-2.06 2.06-.94-2.06-.94-.94-2.06-.94 2.06-2.06.94z\"/><path d=\"M17.41 7.96l-1.37-1.37c-.4-.4-.92-.59-1.43-.59-.52 0-1.04.2-1.43.59L10.3 9.45l-7.72 7.72c-.78.78-.78 2.05 0 2.83L4 21.41c.39.39.9.59 1.41.59.51 0 1.02-.2 1.41-.59l7.78-7.78 2.81-2.81c.8-.78.8-2.07 0-2.86zM5.41 20L4 18.59l7.72-7.72 1.47 1.35L5.41 20z\"/>\n",
              "  </svg>\n",
              "      </button>\n",
              "      \n",
              "  <style>\n",
              "    .colab-df-container {\n",
              "      display:flex;\n",
              "      flex-wrap:wrap;\n",
              "      gap: 12px;\n",
              "    }\n",
              "\n",
              "    .colab-df-convert {\n",
              "      background-color: #E8F0FE;\n",
              "      border: none;\n",
              "      border-radius: 50%;\n",
              "      cursor: pointer;\n",
              "      display: none;\n",
              "      fill: #1967D2;\n",
              "      height: 32px;\n",
              "      padding: 0 0 0 0;\n",
              "      width: 32px;\n",
              "    }\n",
              "\n",
              "    .colab-df-convert:hover {\n",
              "      background-color: #E2EBFA;\n",
              "      box-shadow: 0px 1px 2px rgba(60, 64, 67, 0.3), 0px 1px 3px 1px rgba(60, 64, 67, 0.15);\n",
              "      fill: #174EA6;\n",
              "    }\n",
              "\n",
              "    [theme=dark] .colab-df-convert {\n",
              "      background-color: #3B4455;\n",
              "      fill: #D2E3FC;\n",
              "    }\n",
              "\n",
              "    [theme=dark] .colab-df-convert:hover {\n",
              "      background-color: #434B5C;\n",
              "      box-shadow: 0px 1px 3px 1px rgba(0, 0, 0, 0.15);\n",
              "      filter: drop-shadow(0px 1px 2px rgba(0, 0, 0, 0.3));\n",
              "      fill: #FFFFFF;\n",
              "    }\n",
              "  </style>\n",
              "\n",
              "      <script>\n",
              "        const buttonEl =\n",
              "          document.querySelector('#df-12405cf1-da96-49c6-8f23-f05a72ee8c87 button.colab-df-convert');\n",
              "        buttonEl.style.display =\n",
              "          google.colab.kernel.accessAllowed ? 'block' : 'none';\n",
              "\n",
              "        async function convertToInteractive(key) {\n",
              "          const element = document.querySelector('#df-12405cf1-da96-49c6-8f23-f05a72ee8c87');\n",
              "          const dataTable =\n",
              "            await google.colab.kernel.invokeFunction('convertToInteractive',\n",
              "                                                     [key], {});\n",
              "          if (!dataTable) return;\n",
              "\n",
              "          const docLinkHtml = 'Like what you see? Visit the ' +\n",
              "            '<a target=\"_blank\" href=https://colab.research.google.com/notebooks/data_table.ipynb>data table notebook</a>'\n",
              "            + ' to learn more about interactive tables.';\n",
              "          element.innerHTML = '';\n",
              "          dataTable['output_type'] = 'display_data';\n",
              "          await google.colab.output.renderOutput(dataTable, element);\n",
              "          const docLink = document.createElement('div');\n",
              "          docLink.innerHTML = docLinkHtml;\n",
              "          element.appendChild(docLink);\n",
              "        }\n",
              "      </script>\n",
              "    </div>\n",
              "  </div>\n",
              "  "
            ]
          },
          "metadata": {},
          "execution_count": 35
        }
      ]
    },
    {
      "cell_type": "markdown",
      "source": [
        "## CONCLUSION"
      ],
      "metadata": {
        "id": "OXf89-LI3xO-"
      }
    },
    {
      "cell_type": "markdown",
      "source": [
        "From ten (10) Dutch legal text files that were cleaned, further ML preprocessing and unsupervised topic extraction were carried out via:\n",
        "\n",
        "- A basic topic model using Gensim’s LDA; \n",
        "\n",
        "- pyLDAvis for topic visualisation; and \n",
        "\n",
        "- Mallet’s LDA implementation."
      ],
      "metadata": {
        "id": "5pc767Ni3zK7"
      }
    }
  ]
}