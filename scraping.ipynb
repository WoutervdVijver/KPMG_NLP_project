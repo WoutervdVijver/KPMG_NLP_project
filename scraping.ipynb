{
  "cells": [
    {
      "cell_type": "markdown",
      "metadata": {
        "id": "BVLf5oZagMiq"
      },
      "source": [
        "## Web scraping of the data sourced from meta data file provided by client\n",
        "## The data was scraped using code written by our ad hoc teammate, Anzeem"
      ]
    },
    {
      "cell_type": "code",
      "execution_count": null,
      "metadata": {},
      "outputs": [],
      "source": [
        "import pandas as pd\n",
        "import re\n",
        "import requests\n",
        "import bs4 as BeautifulSoup\n",
        "\n",
        "from random import randrange\n",
        "from time import sleep"
      ]
    },
    {
      "cell_type": "code",
      "execution_count": null,
      "metadata": {},
      "outputs": [],
      "source": [
        "df = pd.read_csv('./data/KPMG Tax Case - Data Set.xlsx - Sheet1.csv')"
      ]
    },
    {
      "cell_type": "code",
      "execution_count": null,
      "metadata": {
        "id": "5lglIImYgOIq"
      },
      "outputs": [],
      "source": [
        "links=[]\n",
        "for line in df['Link NL']:\n",
        "    line=str(line)\n",
        "    index = line.find('.pl')\n",
        "    links.append(line[:index] + '_body' + line[index:])\n"
      ]
    },
    {
      "cell_type": "code",
      "execution_count": null,
      "metadata": {
        "id": "3Rm4Pj7BguY1"
      },
      "outputs": [],
      "source": [
        "for url in links:\n",
        "    index = url.find('numac=')\n",
        "    name=url[index:]\n",
        "    response = requests.get(url)\n",
        "    rnd=randrange(1,2)\n",
        "    sleep(rnd)\n",
        "    soup = BeautifulSoup(response.text, 'lxml')\n",
        "    soup.prettify()\n",
        "    count=0\n",
        "    for element in soup.find_all('br'):"
      ]
    },
    {
      "cell_type": "code",
      "execution_count": null,
      "metadata": {
        "id": "76WBl-j2gwux"
      },
      "outputs": [],
      "source": [
        "if element.name=='br':\n",
        "        line=element.next_element\n",
        "        if 'www' in line:\n",
        "                continue\n",
        "        if 'Numac' in line:\n",
        "                continue\n",
        "        line=re.sub(\"<[^>]*>\", \"\", str(line))\n",
        "        if line==' ':\n",
        "                break\n",
        "        with open(f'{name}.txt', 'a+') as fp:\n",
        "                fp.write(str(line))\n"
      ]
    }
  ],
  "metadata": {
    "colab": {
      "collapsed_sections": [],
      "name": "Scraping.ipynb",
      "provenance": []
    },
    "interpreter": {
      "hash": "35c267216a8a9a5de802732b368407c9e859165faf5cda25a6a24bab33258039"
    },
    "kernelspec": {
      "display_name": "Python 3.8.8 64-bit ('3.8.8')",
      "language": "python",
      "name": "python3"
    },
    "language_info": {
      "name": "python",
      "version": "3.8.8"
    }
  },
  "nbformat": 4,
  "nbformat_minor": 0
}
