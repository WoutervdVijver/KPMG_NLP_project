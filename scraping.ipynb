{
  "nbformat": 4,
  "nbformat_minor": 0,
  "metadata": {
    "colab": {
      "name": "Scraping.ipynb",
      "provenance": [],
      "collapsed_sections": []
    },
    "kernelspec": {
      "name": "python3",
      "display_name": "Python 3"
    },
    "language_info": {
      "name": "python"
    }
  },
  "cells": [
    {
      "cell_type": "markdown",
      "source": [
        "## Web scraping of the data sourced from meta data file provided by client\n",
        "## The data was scraped using code written by our ad hoc teammate, Anzeem"
      ],
      "metadata": {
        "id": "BVLf5oZagMiq"
      }
    },
    {
      "cell_type": "code",
      "source": [
        "links=[]\n",
        "for line in df['Link NL']:\n",
        "    line=str(line)\n",
        "    index = line.find('.pl')\n",
        "    links.append(line[:index] + '_body' + line[index:])\n"
      ],
      "metadata": {
        "id": "5lglIImYgOIq"
      },
      "execution_count": null,
      "outputs": []
    },
    {
      "cell_type": "code",
      "source": [
        "for url in links:\n",
        "    index = url.find('numac=')\n",
        "    name=url[index:]\n",
        "    response = requests.get(url)\n",
        "    rnd=randrange(1,2)\n",
        "    sleep(rnd)\n",
        "    soup = BeautifulSoup(response.text, 'lxml')\n",
        "    soup.prettify()\n",
        "    count=0\n",
        "    for element in soup.find_all('br'):"
      ],
      "metadata": {
        "id": "3Rm4Pj7BguY1"
      },
      "execution_count": null,
      "outputs": []
    },
    {
      "cell_type": "code",
      "source": [
        "    if element.name=='br':\n",
        "                line=element.next_element\n",
        "                if 'www' in line:\n",
        "                        continue\n",
        "                if 'Numac' in line:\n",
        "                        continue\n",
        "                line=re.sub(\"<[^>]*>\", \"\", str(line))\n",
        "                if line==' ':\n",
        "                    break\n",
        "                with open(f'{name}.txt', 'a+') as fp:\n",
        "                    fp.write(str(line))\n"
      ],
      "metadata": {
        "id": "76WBl-j2gwux"
      },
      "execution_count": null,
      "outputs": []
    }
  ]
}
