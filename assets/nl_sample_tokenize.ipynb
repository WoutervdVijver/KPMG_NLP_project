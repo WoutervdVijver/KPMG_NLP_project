{
  "nbformat": 4,
  "nbformat_minor": 0,
  "metadata": {
    "colab": {
      "name": "sample_tokenize.ipynb",
      "provenance": []
    },
    "kernelspec": {
      "name": "python3",
      "display_name": "Python 3"
    },
    "language_info": {
      "name": "python"
    }
  },
  "cells": [
    {
      "cell_type": "code",
      "source": [
        "import nltk\n",
        "nltk.download('punkt')\n",
        "\n",
        "from nltk.tokenize import word_tokenize\n",
        "\n",
        "with open ('/content/drive/MyDrive/nl_sample.txt') as fin:\n",
        "    for line in fin:\n",
        "        print(word_tokenize(line))"
      ],
      "metadata": {
        "id": "YLiGO7AJQQ6q",
        "colab": {
          "base_uri": "https://localhost:8080/"
        },
        "outputId": "7bbc403a-9a1f-4945-9254-7bd16d60acf1"
      },
      "execution_count": 3,
      "outputs": [
        {
          "output_type": "stream",
          "name": "stdout",
          "text": [
            "[nltk_data] Downloading package punkt to /root/nltk_data...\n",
            "[nltk_data]   Unzipping tokenizers/punkt.zip.\n",
            "['Publicatie', ':', '2020-01-29']\n",
            "['Numac', ':', '2020020106']\n",
            "['MINISTERIE', 'VAN', 'DE', 'FRANSE', 'GEMEENSCHAP']\n",
            "['20', 'DECEMBER', '2019', '.', '-', 'Ministerieel', 'besluit', 'tot', 'goedkeuring', 'van', 'het', 'referentiedossier', 'van', 'de', 'afdeling', 'van', '«', 'Bachelor', 'specialisatie', ':', 'accountant', 'en', 'belastingexpert', '»', '(', 'code', '711704S32D2', ')', 'gerangschikt', 'op', 'het', 'gebied', 'van', 'de', 'economische', 'en', 'beheerswetenschappen', 'van', 'het', 'hoger', 'onderwijs', 'voor', 'sociale', 'promotie', 'van', 'het', 'korte', 'type']\n",
            "[]\n",
            "[]\n",
            "['De', 'Minister', 'van', 'Onderwijs', 'voor', 'sociale', 'promotie', ',']\n",
            "['Gelet', 'op', 'de', 'wetten', 'op', 'het', 'toekennen', 'van', 'de', 'academische', 'graden', 'en', 'het', 'programma', 'van', 'de', 'universitaire', 'examens', ',', 'gecoördineerd', 'bij', 'het', 'besluit', 'van', 'de', 'Regent', 'van', '31', 'december', '1949', ',', 'inzonderheid', 'op', 'artikel', '6', ',', 'gewijzigd', 'bij', 'artikel', '124', 'van', 'het', 'decreet', 'van', 'de', 'Franse', 'Gemeenschap', 'van', '16', 'april', '1991', 'houdende', 'organisatie', 'van', 'het', 'onderwijs', 'voor', 'sociale', 'promotie', ';']\n",
            "['Gelet', 'op', 'de', 'wet', 'van', '29', 'mei', '1959', 'tot', 'wijziging', 'van', 'sommige', 'bepalingen', 'van', 'de', 'onderwijswetgeving', ',', 'zoals', 'gewijzigd', ';']\n",
            "['Gelet', 'op', 'het', 'decreet', 'van', 'de', 'Franse', 'Gemeenschap', 'van', '16', 'april', '1991', 'houdende', 'organisatie', 'van', 'het', 'onderwijs', 'voor', 'sociale', 'promotie', ',', 'de', 'artikelen', '47', ',', '71', ',', '74', ',', '75', 'en', '137', ';']\n",
            "['Gelet', 'op', 'het', 'besluit', 'van', 'de', 'Executieve', 'van', 'de', 'Franse', 'Gemeenschap', 'van', '27', 'april', '1992', 'houdende', 'bevoegdheidsoverdracht', 'inzake', 'het', 'onderwijs', 'voor', 'sociale', 'promotie', ';']\n",
            "['Gelet', 'op', 'het', 'decreet', 'van', '7', 'november', '2013', 'tot', 'bepaling', 'van', 'het', 'hogeronderwijslandschap', 'en', 'de', 'academische', 'organisatie', 'van', 'de', 'studies', ',', 'de', 'artikelen', '1', ',', '37', ',', 'tweede', 'lid', ',', '2°', ',', '39', ',', '85', ',', '§', '1', ',', '121', ',', '157', ',', '171', 'en', '172', ';']\n",
            "['Gelet', 'op', 'het', 'eensluidend', 'advies', 'van', 'de', 'Algemene', 'Raad', 'voor', 'het', 'onderwijs', 'voor', 'sociale', 'promotie', 'van', '8', 'november', '2019', ';']\n",
            "['Overwegende', 'dat', 'de', 'Raad', 'van', 'bestuur', 'van', 'de', 'Academie', 'voor', 'Onderzoek', 'en', 'Hoger', 'Onderwijs', 'op', 'de', 'hoogte', 'werd', 'gebracht', 'van', 'het', 'pedagogisch', 'dossier', 'van', 'de', 'afdeling', 'van', '«', 'Bachelor', 'specialisatie', ':', 'accountant', 'en', 'belastingexpert', '»', '(', 'code', '711704S32D2', ')', 'door', 'een', 'brief', 'van', '8', 'november', '2019', 'van', 'de', 'Algemene', 'Raad', 'voor', 'het', 'onderwijs', 'voor', 'sociale', 'promotie', ',']\n",
            "['Besluit', ':']\n",
            "['Artikel', '1', '.', 'Het', 'referentiedossier', 'van', 'de', 'afdeling', 'van', '«', 'Bachelor', 'specialisatie', ':', 'accountant', 'en', 'belastingexpert', '»', '(', 'code', '711704S32D2', ')', 'alsook', 'de', 'referentiedossiers', 'van', 'de', 'onderwijseenheden', 'waaruit', 'die', 'afdeling', 'bestaat', ',', 'worden', 'goedgekeurd', '.']\n",
            "['Die', 'afdeling', 'wordt', 'gerangschikt', 'op', 'het', 'niveau', 'van', 'de', 'economische', 'en', 'beheerswetenschappen', 'van', 'het', 'hoger', 'onderwijs', 'voor', 'sociale', 'promotie', 'van', 'het', 'korte', 'type', '.']\n",
            "['Elf', 'onderwijseenheden', 'waaruit', 'die', 'afdeling', 'bestaat', ',', 'worden', 'gerangschikt', 'op', 'het', 'gebied', 'van', 'de', 'economische', 'en', 'beheerswetenschappen', 'van', 'het', 'hoger', 'onderwijs', 'voor', 'sociale', 'promotie', 'van', 'het', 'korte', 'type', 'en', 'één', 'onderwijseenheid', 'wordt', 'gerangschikt', 'op', 'het', 'gebied', 'van', 'de', 'juridische', 'wetenschappen', 'van', 'het', 'hoger', 'onderwijs', 'voor', 'sociale', 'promotie', 'van', 'het', 'korte', 'type', '.']\n",
            "['Art', '.', '2', '.', 'Het', 'bekwaamheidsbewijs', 'voorzien', 'door', 'het', 'pedagogisch', 'dossier', 'van', 'de', 'afdeling', 'van', '«', 'Bachelor', 'specialisatie', ':', 'accountant', 'en', 'belastingexpert', '»', '(', 'code', '711704S32D2', ')', 'is', 'het', 'Diploma', 'van', '«', 'Bachelor', 'specialisatie', ':', 'accountant', 'en', 'belastingexpert', '»', '.']\n",
            "['Art', '.', '3', '.', 'De', 'geleidelijke', 'transformatie', 'van', 'de', 'betrokken', 'bestaande', 'structuren', 'begint', ',', 'ten', 'laatste', ',', 'op', '1', 'september', '2020', '.']\n",
            "['De', 'afdeling', 'bedoeld', 'in', 'dit', 'besluit', 'vervangt', 'de', 'afdeling', 'van', '«', 'Specialisatie', 'accountant', 'en', 'belastingexpert', '»', '(', 'code', '711704S32D1', ')', '.']\n",
            "['Art', '.', '4', '.', 'Dit', 'besluit', 'treedt', 'in', 'werking', 'op', '1', 'februari', '2020', '.']\n",
            "['Brussel', ',', '20', 'december', '2019', '.']\n",
            "['V.', 'GLATIGNY', ',']\n",
            "['Minister', 'van', 'Hoger', 'Onderwijs', ',', 'Onderwijs', 'voor', 'sociale', 'promotie', ',', 'Universitaire', 'ziekenhuizen', ',', 'Hulpverlening', 'aan', 'de', 'Jeugd', ',', 'Justitiehuizen', ',', 'Jeugd', ',', 'Sport', 'en', 'Promotie', 'van', 'Brussel']\n",
            "[]\n"
          ]
        }
      ]
    }
  ]
}