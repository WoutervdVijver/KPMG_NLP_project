{
 "cells": [
  {
   "cell_type": "markdown",
   "id": "81cfebf2",
   "metadata": {},
   "source": [
    "## "
   ]
  },
  {
   "cell_type": "code",
   "execution_count": null,
   "id": "55ee1651",
   "metadata": {},
   "outputs": [],
   "source": [
    "# Accessing the txt file containing the sample text\n",
    "# Importing file operations Python library\n",
    "import os\n",
    "\n",
    "file = open('numac=2019041722.txt','rt')\n",
    "raw_text = file.read()\n",
    "file.close()"
   ]
  },
  {
   "cell_type": "code",
   "execution_count": null,
   "id": "6a566811",
   "metadata": {},
   "outputs": [],
   "source": [
    "# Removing white space and putting the text in lower case\n",
    "raw_text = raw_text.lower()\n",
    "raw_text = raw_text.replace('\\n','')\n",
    "print(raw_text)"
   ]
  },
  {
   "cell_type": "code",
   "execution_count": null,
   "id": "7b080040",
   "metadata": {},
   "outputs": [],
   "source": [
    "raw_text = raw_text.replace('\\x0c','')\n",
    "print(raw_text)"
   ]
  },
  {
   "cell_type": "code",
   "execution_count": null,
   "id": "e0db874a",
   "metadata": {},
   "outputs": [],
   "source": [
    "# Load the dutch model (small version) of Spacy\n",
    "\n",
    "import spacy\n",
    "nlp = spacy.load('en_core_web_sm')\n",
    "\n",
    "# Store the tokens in doc\n",
    "\n",
    "doc = nlp(raw_text)"
   ]
  }
 ],
 "metadata": {
  "kernelspec": {
   "display_name": "tf",
   "language": "python",
   "name": "tf"
  },
  "language_info": {
   "codemirror_mode": {
    "name": "ipython",
    "version": 3
   },
   "file_extension": ".py",
   "mimetype": "text/x-python",
   "name": "python",
   "nbconvert_exporter": "python",
   "pygments_lexer": "ipython3",
   "version": "3.7.13"
  }
 },
 "nbformat": 4,
 "nbformat_minor": 5
}
