{
  "nbformat": 4,
  "nbformat_minor": 0,
  "metadata": {
    "colab": {
      "name": "NLTK_nl_sample_tokenize.ipynb",
      "provenance": [],
      "collapsed_sections": []
    },
    "kernelspec": {
      "name": "python3",
      "display_name": "Python 3"
    },
    "language_info": {
      "name": "python"
    }
  },
  "cells": [
    {
      "cell_type": "markdown",
      "source": [
        "## Attempting to tokenize"
      ],
      "metadata": {
        "id": "6sCRiqlgdRk4"
      }
    },
    {
      "cell_type": "markdown",
      "source": [
        "https://www.ejustice.just.fgov.be/cgi/article.pl?language=nl&pub_date=2020-01-29&caller=list&numac=2020020106"
      ],
      "metadata": {
        "id": "crt9FPp2w8KQ"
      }
    },
    {
      "cell_type": "code",
      "source": [
        "# Importing file handling library and NLP library\n",
        "import os\n",
        "import nltk\n",
        "import nltk.data"
      ],
      "metadata": {
        "id": "zpWPH0redJcv"
      },
      "execution_count": null,
      "outputs": []
    },
    {
      "cell_type": "code",
      "source": [
        "tokenize_dutch = nltk.data.load('tokenizers/punkt/PY3/dutch.pickle')"
      ],
      "metadata": {
        "id": "IpFYO1-8udCF"
      },
      "execution_count": null,
      "outputs": []
    },
    {
      "cell_type": "code",
      "source": [
        "file = open(os.getcwd()+ '/drive/MyDrive/nl_sample.txt','rt')\n",
        "raw_text = file.read()\n",
        "file.close()"
      ],
      "metadata": {
        "id": "ATaJw2lZeJ3m"
      },
      "execution_count": null,
      "outputs": []
    },
    {
      "cell_type": "code",
      "source": [
        "tokenize_dutch.tokenize(raw_text)"
      ],
      "metadata": {
        "colab": {
          "base_uri": "https://localhost:8080/"
        },
        "id": "78okA7TMugi-",
        "outputId": "f3dd1013-0ee8-4e7c-861d-dd6a0c2ff62f"
      },
      "execution_count": null,
      "outputs": [
        {
          "output_type": "execute_result",
          "data": {
            "text/plain": [
              "['Publicatie : 2020-01-29\\nNumac : 2020020106\\nMINISTERIE VAN DE FRANSE GEMEENSCHAP\\n20 DECEMBER 2019.',\n",
              " '- Ministerieel besluit tot goedkeuring van het referentiedossier van de afdeling van « Bachelor specialisatie : accountant en belastingexpert » (code 711704S32D2) gerangschikt op het gebied van de economische en beheerswetenschappen van het hoger onderwijs voor sociale promotie van het korte type\\n\\n\\nDe Minister van Onderwijs voor sociale promotie,\\nGelet op de wetten op het toekennen van de academische graden en het programma van de universitaire examens, gecoördineerd bij het besluit van de Regent van 31 december 1949, inzonderheid op artikel 6, gewijzigd bij artikel 124 van het decreet van de Franse Gemeenschap van 16 april 1991 houdende organisatie van het onderwijs voor sociale promotie;\\nGelet op de wet van 29 mei 1959 tot wijziging van sommige bepalingen van de onderwijswetgeving, zoals gewijzigd;\\nGelet op het decreet van de Franse Gemeenschap van 16 april 1991 houdende organisatie van het onderwijs voor sociale promotie, de artikelen 47, 71, 74, 75 en 137 ;\\nGelet op het besluit van de Executieve van de Franse Gemeenschap van 27 april 1992 houdende bevoegdheidsoverdracht inzake het onderwijs voor sociale promotie;\\nGelet op het decreet van 7 november 2013 tot bepaling van het hogeronderwijslandschap en de academische organisatie van de studies, de artikelen 1, 37, tweede lid, 2°, 39, 85, § 1, 121, 157, 171 en 172;\\nGelet op het eensluidend advies van de Algemene Raad voor het onderwijs voor sociale promotie van 8 november 2019 ;\\nOverwegende dat de Raad van bestuur van de Academie voor Onderzoek en Hoger Onderwijs op de hoogte werd gebracht van het pedagogisch dossier van de afdeling van « Bachelor specialisatie : accountant en belastingexpert » (code 711704S32D2) door een brief van 8 november 2019 van de Algemene Raad voor het onderwijs voor sociale promotie,\\nBesluit :\\nArtikel 1.',\n",
              " 'Het referentiedossier van de afdeling van « Bachelor specialisatie : accountant en belastingexpert » (code 711704S32D2) alsook de referentiedossiers van de onderwijseenheden waaruit die afdeling bestaat, worden goedgekeurd.',\n",
              " 'Die afdeling wordt gerangschikt op het niveau van de economische en beheerswetenschappen van het hoger onderwijs voor sociale promotie van het korte type.',\n",
              " 'Elf onderwijseenheden waaruit die afdeling bestaat, worden gerangschikt op het gebied van de economische en beheerswetenschappen van het hoger onderwijs voor sociale promotie van het korte type en één onderwijseenheid wordt gerangschikt op het gebied van de juridische wetenschappen van het hoger onderwijs voor sociale promotie van het korte type.',\n",
              " 'Art.',\n",
              " '2.',\n",
              " 'Het bekwaamheidsbewijs voorzien door het pedagogisch dossier van de afdeling van « Bachelor specialisatie : accountant en belastingexpert » (code 711704S32D2) is het Diploma van « Bachelor specialisatie : accountant en belastingexpert ».',\n",
              " 'Art.',\n",
              " '3.',\n",
              " 'De geleidelijke transformatie van de betrokken bestaande structuren begint, ten laatste, op 1 september 2020.',\n",
              " 'De afdeling bedoeld in dit besluit vervangt de afdeling van « Specialisatie accountant en belastingexpert » (code 711704S32D1).',\n",
              " 'Art.',\n",
              " '4.',\n",
              " 'Dit besluit treedt in werking op 1 februari 2020.',\n",
              " 'Brussel, 20 december 2019.',\n",
              " 'V. GLATIGNY,\\nMinister van Hoger Onderwijs, Onderwijs voor sociale promotie, Universitaire ziekenhuizen, Hulpverlening aan de Jeugd, Justitiehuizen, Jeugd, Sport en Promotie van Brussel']"
            ]
          },
          "metadata": {},
          "execution_count": 28
        }
      ]
    },
    {
      "cell_type": "code",
      "source": [
        "# Passing tokenized raw dutch/nl text into a variable and printing it\n",
        "nl_text = tokenize_dutch.tokenize(raw_text)\n",
        "print(nl_text)"
      ],
      "metadata": {
        "colab": {
          "base_uri": "https://localhost:8080/"
        },
        "outputId": "e17bc5df-3d7e-4c42-d1e4-338519d3bc39",
        "id": "sVbRn7c_vb46"
      },
      "execution_count": null,
      "outputs": [
        {
          "output_type": "stream",
          "name": "stdout",
          "text": [
            "['Publicatie : 2020-01-29\\nNumac : 2020020106\\nMINISTERIE VAN DE FRANSE GEMEENSCHAP\\n20 DECEMBER 2019.', '- Ministerieel besluit tot goedkeuring van het referentiedossier van de afdeling van « Bachelor specialisatie : accountant en belastingexpert » (code 711704S32D2) gerangschikt op het gebied van de economische en beheerswetenschappen van het hoger onderwijs voor sociale promotie van het korte type\\n\\n\\nDe Minister van Onderwijs voor sociale promotie,\\nGelet op de wetten op het toekennen van de academische graden en het programma van de universitaire examens, gecoördineerd bij het besluit van de Regent van 31 december 1949, inzonderheid op artikel 6, gewijzigd bij artikel 124 van het decreet van de Franse Gemeenschap van 16 april 1991 houdende organisatie van het onderwijs voor sociale promotie;\\nGelet op de wet van 29 mei 1959 tot wijziging van sommige bepalingen van de onderwijswetgeving, zoals gewijzigd;\\nGelet op het decreet van de Franse Gemeenschap van 16 april 1991 houdende organisatie van het onderwijs voor sociale promotie, de artikelen 47, 71, 74, 75 en 137 ;\\nGelet op het besluit van de Executieve van de Franse Gemeenschap van 27 april 1992 houdende bevoegdheidsoverdracht inzake het onderwijs voor sociale promotie;\\nGelet op het decreet van 7 november 2013 tot bepaling van het hogeronderwijslandschap en de academische organisatie van de studies, de artikelen 1, 37, tweede lid, 2°, 39, 85, § 1, 121, 157, 171 en 172;\\nGelet op het eensluidend advies van de Algemene Raad voor het onderwijs voor sociale promotie van 8 november 2019 ;\\nOverwegende dat de Raad van bestuur van de Academie voor Onderzoek en Hoger Onderwijs op de hoogte werd gebracht van het pedagogisch dossier van de afdeling van « Bachelor specialisatie : accountant en belastingexpert » (code 711704S32D2) door een brief van 8 november 2019 van de Algemene Raad voor het onderwijs voor sociale promotie,\\nBesluit :\\nArtikel 1.', 'Het referentiedossier van de afdeling van « Bachelor specialisatie : accountant en belastingexpert » (code 711704S32D2) alsook de referentiedossiers van de onderwijseenheden waaruit die afdeling bestaat, worden goedgekeurd.', 'Die afdeling wordt gerangschikt op het niveau van de economische en beheerswetenschappen van het hoger onderwijs voor sociale promotie van het korte type.', 'Elf onderwijseenheden waaruit die afdeling bestaat, worden gerangschikt op het gebied van de economische en beheerswetenschappen van het hoger onderwijs voor sociale promotie van het korte type en één onderwijseenheid wordt gerangschikt op het gebied van de juridische wetenschappen van het hoger onderwijs voor sociale promotie van het korte type.', 'Art.', '2.', 'Het bekwaamheidsbewijs voorzien door het pedagogisch dossier van de afdeling van « Bachelor specialisatie : accountant en belastingexpert » (code 711704S32D2) is het Diploma van « Bachelor specialisatie : accountant en belastingexpert ».', 'Art.', '3.', 'De geleidelijke transformatie van de betrokken bestaande structuren begint, ten laatste, op 1 september 2020.', 'De afdeling bedoeld in dit besluit vervangt de afdeling van « Specialisatie accountant en belastingexpert » (code 711704S32D1).', 'Art.', '4.', 'Dit besluit treedt in werking op 1 februari 2020.', 'Brussel, 20 december 2019.', 'V. GLATIGNY,\\nMinister van Hoger Onderwijs, Onderwijs voor sociale promotie, Universitaire ziekenhuizen, Hulpverlening aan de Jeugd, Justitiehuizen, Jeugd, Sport en Promotie van Brussel']\n"
          ]
        }
      ]
    }
  ]
}