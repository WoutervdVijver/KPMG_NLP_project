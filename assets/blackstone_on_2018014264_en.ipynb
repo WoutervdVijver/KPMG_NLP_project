{
 "cells": [
  {
   "cell_type": "markdown",
   "id": "207420d9",
   "metadata": {},
   "source": [
    "# SPACY (en) and BLACKSTONE (en) trials"
   ]
  },
  {
   "cell_type": "markdown",
   "id": "414fda13",
   "metadata": {},
   "source": [
    "### File Ops"
   ]
  },
  {
   "cell_type": "code",
   "execution_count": 1,
   "id": "906108db",
   "metadata": {},
   "outputs": [
    {
     "ename": "FileNotFoundError",
     "evalue": "[Errno 2] No such file or directory: 'en_2018014264_blackstone.txt'",
     "output_type": "error",
     "traceback": [
      "\u001b[0;31m---------------------------------------------------------------------------\u001b[0m",
      "\u001b[0;31mFileNotFoundError\u001b[0m                         Traceback (most recent call last)",
      "\u001b[0;32m/var/folders/hm/tsyh26qd4_qc7x70p8ch6mc80000gp/T/ipykernel_57946/3678706027.py\u001b[0m in \u001b[0;36m<module>\u001b[0;34m\u001b[0m\n\u001b[1;32m      3\u001b[0m \u001b[0;32mimport\u001b[0m \u001b[0mos\u001b[0m\u001b[0;34m\u001b[0m\u001b[0;34m\u001b[0m\u001b[0m\n\u001b[1;32m      4\u001b[0m \u001b[0;34m\u001b[0m\u001b[0m\n\u001b[0;32m----> 5\u001b[0;31m \u001b[0mfile\u001b[0m \u001b[0;34m=\u001b[0m \u001b[0mopen\u001b[0m\u001b[0;34m(\u001b[0m\u001b[0;34m\"en_2018014264_blackstone.txt\"\u001b[0m\u001b[0;34m,\u001b[0m\u001b[0;34m\"rt\"\u001b[0m\u001b[0;34m)\u001b[0m\u001b[0;34m\u001b[0m\u001b[0;34m\u001b[0m\u001b[0m\n\u001b[0m\u001b[1;32m      6\u001b[0m \u001b[0mraw_text\u001b[0m \u001b[0;34m=\u001b[0m \u001b[0mfile\u001b[0m\u001b[0;34m.\u001b[0m\u001b[0mread\u001b[0m\u001b[0;34m(\u001b[0m\u001b[0;34m)\u001b[0m\u001b[0;34m\u001b[0m\u001b[0;34m\u001b[0m\u001b[0m\n\u001b[1;32m      7\u001b[0m \u001b[0mfile\u001b[0m\u001b[0;34m.\u001b[0m\u001b[0mclose\u001b[0m\u001b[0;34m(\u001b[0m\u001b[0;34m)\u001b[0m\u001b[0;34m\u001b[0m\u001b[0;34m\u001b[0m\u001b[0m\n",
      "\u001b[0;31mFileNotFoundError\u001b[0m: [Errno 2] No such file or directory: 'en_2018014264_blackstone.txt'"
     ]
    }
   ],
   "source": [
    "# Accessing the txt file containing the sample nl text\n",
    "# Importing file operations Python library\n",
    "import os\n",
    "\n",
    "file = open(\"en_2018014264_blackstone.txt\",\"rt\")\n",
    "raw_text = file.read()\n",
    "file.close()"
   ]
  },
  {
   "cell_type": "markdown",
   "id": "4902fd6f",
   "metadata": {},
   "source": [
    "### Light pre-processing"
   ]
  },
  {
   "cell_type": "code",
   "execution_count": null,
   "id": "dce04e74",
   "metadata": {},
   "outputs": [],
   "source": [
    "# Removing white space and putting the text in lower case\n",
    "raw_text = raw_text.lower()\n",
    "raw_text = raw_text.replace('\\n','')\n",
    "print(raw_text)"
   ]
  },
  {
   "cell_type": "code",
   "execution_count": null,
   "id": "55c1698c",
   "metadata": {},
   "outputs": [],
   "source": [
    "raw_text = raw_text.replace('\\x0c','')\n",
    "print(raw_text)"
   ]
  },
  {
   "cell_type": "markdown",
   "id": "7bce54a5",
   "metadata": {},
   "source": [
    "## SpaCy"
   ]
  },
  {
   "cell_type": "code",
   "execution_count": null,
   "id": "94752d85",
   "metadata": {},
   "outputs": [],
   "source": [
    "# Load the dutch model (small version) of Spacy\n",
    "\n",
    "import spacy\n",
    "nlp = spacy.load(\"en_core_news_sm\")\n",
    "\n",
    "# Store the tokens in doc\n",
    "\n",
    "doc = nlp(raw_text)"
   ]
  },
  {
   "cell_type": "markdown",
   "id": "26481fa7",
   "metadata": {},
   "source": [
    "**Tokenizing via SpaCy**"
   ]
  },
  {
   "cell_type": "code",
   "execution_count": null,
   "id": "5e0ecf6b",
   "metadata": {},
   "outputs": [],
   "source": [
    "for token in doc:\n",
    "    print(token)"
   ]
  },
  {
   "cell_type": "markdown",
   "id": "e2818bc8",
   "metadata": {},
   "source": [
    "## Blackstone"
   ]
  },
  {
   "cell_type": "markdown",
   "id": "d0324df7",
   "metadata": {},
   "source": [
    "## NER"
   ]
  },
  {
   "cell_type": "code",
   "execution_count": null,
   "id": "759137e6",
   "metadata": {},
   "outputs": [],
   "source": []
  },
  {
   "cell_type": "code",
   "execution_count": null,
   "id": "7cf70c8e",
   "metadata": {},
   "outputs": [],
   "source": []
  },
  {
   "cell_type": "markdown",
   "id": "bd4ff251",
   "metadata": {},
   "source": [
    "## Vectors (word embeddings)"
   ]
  }
 ],
 "metadata": {
  "kernelspec": {
   "display_name": "tf",
   "language": "python",
   "name": "tf"
  },
  "language_info": {
   "codemirror_mode": {
    "name": "ipython",
    "version": 3
   },
   "file_extension": ".py",
   "mimetype": "text/x-python",
   "name": "python",
   "nbconvert_exporter": "python",
   "pygments_lexer": "ipython3",
   "version": "3.7.13"
  }
 },
 "nbformat": 4,
 "nbformat_minor": 5
}
