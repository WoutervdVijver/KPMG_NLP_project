{
 "cells": [
  {
   "cell_type": "markdown",
   "id": "5c26553c",
   "metadata": {},
   "source": [
    "# SPACY (en) and BLACKSTONE (en) trials"
   ]
  },
  {
   "cell_type": "markdown",
   "id": "7bbda9b9",
   "metadata": {},
   "source": [
    "### File Ops"
   ]
  },
  {
   "cell_type": "code",
   "execution_count": null,
   "id": "96c22ef7",
   "metadata": {},
   "outputs": [],
   "source": [
    "# Accessing the txt file containing the sample nl text\n",
    "# Importing file operations Python library\n",
    "import os\n",
    "\n",
    "file = open(\"\",\"rt\")\n",
    "raw_text = file.read()\n",
    "file.close()"
   ]
  },
  {
   "cell_type": "markdown",
   "id": "1387470b",
   "metadata": {},
   "source": [
    "### Light pre-processing"
   ]
  },
  {
   "cell_type": "code",
   "execution_count": null,
   "id": "7ad07caf",
   "metadata": {},
   "outputs": [],
   "source": [
    "# Removing white space and putting the text in lower case\n",
    "raw_text = raw_text.lower()\n",
    "raw_text = raw_text.replace('\\n','')\n",
    "print(raw_text)"
   ]
  },
  {
   "cell_type": "code",
   "execution_count": null,
   "id": "49533fa6",
   "metadata": {},
   "outputs": [],
   "source": [
    "raw_text = raw_text.replace('\\x0c','')\n",
    "print(raw_text)"
   ]
  },
  {
   "cell_type": "markdown",
   "id": "40386955",
   "metadata": {},
   "source": [
    "## SpaCy"
   ]
  },
  {
   "cell_type": "code",
   "execution_count": null,
   "id": "fb78b9b1",
   "metadata": {},
   "outputs": [],
   "source": [
    "# Load the dutch model (small version) of Spacy\n",
    "\n",
    "import spacy\n",
    "nlp = spacy.load(\"en_core_news_sm\")\n",
    "\n",
    "# Store the tokens in doc\n",
    "\n",
    "doc = nlp(raw_text)"
   ]
  },
  {
   "cell_type": "markdown",
   "id": "7160c306",
   "metadata": {},
   "source": [
    "**Tokenizing via SpaCy**"
   ]
  },
  {
   "cell_type": "code",
   "execution_count": null,
   "id": "9485bb61",
   "metadata": {},
   "outputs": [],
   "source": [
    "for token in doc:\n",
    "    print(token)"
   ]
  },
  {
   "cell_type": "markdown",
   "id": "f94cc19c",
   "metadata": {},
   "source": [
    "## Blackstone"
   ]
  },
  {
   "cell_type": "markdown",
   "id": "ddfe3e05",
   "metadata": {},
   "source": [
    "## NER"
   ]
  },
  {
   "cell_type": "code",
   "execution_count": null,
   "id": "7ab833eb",
   "metadata": {},
   "outputs": [],
   "source": []
  },
  {
   "cell_type": "code",
   "execution_count": null,
   "id": "18c44576",
   "metadata": {},
   "outputs": [],
   "source": []
  },
  {
   "cell_type": "markdown",
   "id": "88d62212",
   "metadata": {},
   "source": [
    "## Vectors (word embeddings)"
   ]
  }
 ],
 "metadata": {
  "kernelspec": {
   "display_name": "tf",
   "language": "python",
   "name": "tf"
  },
  "language_info": {
   "codemirror_mode": {
    "name": "ipython",
    "version": 3
   },
   "file_extension": ".py",
   "mimetype": "text/x-python",
   "name": "python",
   "nbconvert_exporter": "python",
   "pygments_lexer": "ipython3",
   "version": "3.7.13"
  }
 },
 "nbformat": 4,
 "nbformat_minor": 5
}
