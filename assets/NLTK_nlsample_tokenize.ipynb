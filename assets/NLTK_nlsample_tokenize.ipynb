{
 "cells": [
  {
   "cell_type": "markdown",
   "metadata": {
    "id": "6sCRiqlgdRk4"
   },
   "source": [
    "## Attempting to tokenize"
   ]
  },
  {
   "cell_type": "markdown",
   "metadata": {
    "id": "crt9FPp2w8KQ"
   },
   "source": [
    "https://www.ejustice.just.fgov.be/cgi/article.pl?language=nl&pub_date=2020-01-29&caller=list&numac=2020020106"
   ]
  },
  {
   "cell_type": "code",
   "execution_count": 4,
   "metadata": {
    "id": "zpWPH0redJcv"
   },
   "outputs": [],
   "source": [
    "# Importing file handling library and NLP library\n",
    "import os\n",
    "import nltk\n",
    "import nltk.data"
   ]
  },
  {
   "cell_type": "code",
   "execution_count": 5,
   "metadata": {
    "id": "IpFYO1-8udCF"
   },
   "outputs": [],
   "source": [
    "tokenize_dutch = nltk.data.load('tokenizers/punkt/PY3/dutch.pickle')"
   ]
  },
  {
   "cell_type": "code",
   "execution_count": 6,
   "metadata": {
    "id": "ATaJw2lZeJ3m"
   },
   "outputs": [
    {
     "ename": "FileNotFoundError",
     "evalue": "[Errno 2] No such file or directory: '/Users/anix/KPMG_NLP_project/assets/Users/anix/KPMG_NLP_project/assets/nl_sample.txt'",
     "output_type": "error",
     "traceback": [
      "\u001b[0;31m---------------------------------------------------------------------------\u001b[0m",
      "\u001b[0;31mFileNotFoundError\u001b[0m                         Traceback (most recent call last)",
      "\u001b[0;32m/var/folders/hm/tsyh26qd4_qc7x70p8ch6mc80000gp/T/ipykernel_45850/3613942603.py\u001b[0m in \u001b[0;36m<module>\u001b[0;34m\u001b[0m\n\u001b[0;32m----> 1\u001b[0;31m \u001b[0mfile\u001b[0m \u001b[0;34m=\u001b[0m \u001b[0mopen\u001b[0m\u001b[0;34m(\u001b[0m\u001b[0mos\u001b[0m\u001b[0;34m.\u001b[0m\u001b[0mgetcwd\u001b[0m\u001b[0;34m(\u001b[0m\u001b[0;34m)\u001b[0m\u001b[0;34m+\u001b[0m \u001b[0;34m'/Users/anix/KPMG_NLP_project/assets/nl_sample.txt'\u001b[0m\u001b[0;34m,\u001b[0m\u001b[0;34m'rt'\u001b[0m\u001b[0;34m)\u001b[0m\u001b[0;34m\u001b[0m\u001b[0;34m\u001b[0m\u001b[0m\n\u001b[0m\u001b[1;32m      2\u001b[0m \u001b[0mraw_text\u001b[0m \u001b[0;34m=\u001b[0m \u001b[0mfile\u001b[0m\u001b[0;34m.\u001b[0m\u001b[0mread\u001b[0m\u001b[0;34m(\u001b[0m\u001b[0;34m)\u001b[0m\u001b[0;34m\u001b[0m\u001b[0;34m\u001b[0m\u001b[0m\n\u001b[1;32m      3\u001b[0m \u001b[0mfile\u001b[0m\u001b[0;34m.\u001b[0m\u001b[0mclose\u001b[0m\u001b[0;34m(\u001b[0m\u001b[0;34m)\u001b[0m\u001b[0;34m\u001b[0m\u001b[0;34m\u001b[0m\u001b[0m\n",
      "\u001b[0;31mFileNotFoundError\u001b[0m: [Errno 2] No such file or directory: '/Users/anix/KPMG_NLP_project/assets/Users/anix/KPMG_NLP_project/assets/nl_sample.txt'"
     ]
    }
   ],
   "source": [
    "file = open(os.getcwd()+ '/Users/anix/KPMG_NLP_project/assets/nl_sample.txt','rt')\n",
    "raw_text = file.read()\n",
    "file.close()"
   ]
  },
  {
   "cell_type": "code",
   "execution_count": null,
   "metadata": {
    "colab": {
     "base_uri": "https://localhost:8080/"
    },
    "id": "78okA7TMugi-",
    "outputId": "f3dd1013-0ee8-4e7c-861d-dd6a0c2ff62f"
   },
   "outputs": [
    {
     "data": {
      "text/plain": [
       "['Publicatie : 2020-01-29\\nNumac : 2020020106\\nMINISTERIE VAN DE FRANSE GEMEENSCHAP\\n20 DECEMBER 2019.',\n",
       " '- Ministerieel besluit tot goedkeuring van het referentiedossier van de afdeling van « Bachelor specialisatie : accountant en belastingexpert » (code 711704S32D2) gerangschikt op het gebied van de economische en beheerswetenschappen van het hoger onderwijs voor sociale promotie van het korte type\\n\\n\\nDe Minister van Onderwijs voor sociale promotie,\\nGelet op de wetten op het toekennen van de academische graden en het programma van de universitaire examens, gecoördineerd bij het besluit van de Regent van 31 december 1949, inzonderheid op artikel 6, gewijzigd bij artikel 124 van het decreet van de Franse Gemeenschap van 16 april 1991 houdende organisatie van het onderwijs voor sociale promotie;\\nGelet op de wet van 29 mei 1959 tot wijziging van sommige bepalingen van de onderwijswetgeving, zoals gewijzigd;\\nGelet op het decreet van de Franse Gemeenschap van 16 april 1991 houdende organisatie van het onderwijs voor sociale promotie, de artikelen 47, 71, 74, 75 en 137 ;\\nGelet op het besluit van de Executieve van de Franse Gemeenschap van 27 april 1992 houdende bevoegdheidsoverdracht inzake het onderwijs voor sociale promotie;\\nGelet op het decreet van 7 november 2013 tot bepaling van het hogeronderwijslandschap en de academische organisatie van de studies, de artikelen 1, 37, tweede lid, 2°, 39, 85, § 1, 121, 157, 171 en 172;\\nGelet op het eensluidend advies van de Algemene Raad voor het onderwijs voor sociale promotie van 8 november 2019 ;\\nOverwegende dat de Raad van bestuur van de Academie voor Onderzoek en Hoger Onderwijs op de hoogte werd gebracht van het pedagogisch dossier van de afdeling van « Bachelor specialisatie : accountant en belastingexpert » (code 711704S32D2) door een brief van 8 november 2019 van de Algemene Raad voor het onderwijs voor sociale promotie,\\nBesluit :\\nArtikel 1.',\n",
       " 'Het referentiedossier van de afdeling van « Bachelor specialisatie : accountant en belastingexpert » (code 711704S32D2) alsook de referentiedossiers van de onderwijseenheden waaruit die afdeling bestaat, worden goedgekeurd.',\n",
       " 'Die afdeling wordt gerangschikt op het niveau van de economische en beheerswetenschappen van het hoger onderwijs voor sociale promotie van het korte type.',\n",
       " 'Elf onderwijseenheden waaruit die afdeling bestaat, worden gerangschikt op het gebied van de economische en beheerswetenschappen van het hoger onderwijs voor sociale promotie van het korte type en één onderwijseenheid wordt gerangschikt op het gebied van de juridische wetenschappen van het hoger onderwijs voor sociale promotie van het korte type.',\n",
       " 'Art.',\n",
       " '2.',\n",
       " 'Het bekwaamheidsbewijs voorzien door het pedagogisch dossier van de afdeling van « Bachelor specialisatie : accountant en belastingexpert » (code 711704S32D2) is het Diploma van « Bachelor specialisatie : accountant en belastingexpert ».',\n",
       " 'Art.',\n",
       " '3.',\n",
       " 'De geleidelijke transformatie van de betrokken bestaande structuren begint, ten laatste, op 1 september 2020.',\n",
       " 'De afdeling bedoeld in dit besluit vervangt de afdeling van « Specialisatie accountant en belastingexpert » (code 711704S32D1).',\n",
       " 'Art.',\n",
       " '4.',\n",
       " 'Dit besluit treedt in werking op 1 februari 2020.',\n",
       " 'Brussel, 20 december 2019.',\n",
       " 'V. GLATIGNY,\\nMinister van Hoger Onderwijs, Onderwijs voor sociale promotie, Universitaire ziekenhuizen, Hulpverlening aan de Jeugd, Justitiehuizen, Jeugd, Sport en Promotie van Brussel']"
      ]
     },
     "execution_count": 28,
     "metadata": {},
     "output_type": "execute_result"
    }
   ],
   "source": [
    "tokenize_dutch.tokenize(raw_text)"
   ]
  },
  {
   "cell_type": "code",
   "execution_count": null,
   "metadata": {
    "colab": {
     "base_uri": "https://localhost:8080/"
    },
    "id": "sVbRn7c_vb46",
    "outputId": "e17bc5df-3d7e-4c42-d1e4-338519d3bc39"
   },
   "outputs": [
    {
     "name": "stdout",
     "output_type": "stream",
     "text": [
      "['Publicatie : 2020-01-29\\nNumac : 2020020106\\nMINISTERIE VAN DE FRANSE GEMEENSCHAP\\n20 DECEMBER 2019.', '- Ministerieel besluit tot goedkeuring van het referentiedossier van de afdeling van « Bachelor specialisatie : accountant en belastingexpert » (code 711704S32D2) gerangschikt op het gebied van de economische en beheerswetenschappen van het hoger onderwijs voor sociale promotie van het korte type\\n\\n\\nDe Minister van Onderwijs voor sociale promotie,\\nGelet op de wetten op het toekennen van de academische graden en het programma van de universitaire examens, gecoördineerd bij het besluit van de Regent van 31 december 1949, inzonderheid op artikel 6, gewijzigd bij artikel 124 van het decreet van de Franse Gemeenschap van 16 april 1991 houdende organisatie van het onderwijs voor sociale promotie;\\nGelet op de wet van 29 mei 1959 tot wijziging van sommige bepalingen van de onderwijswetgeving, zoals gewijzigd;\\nGelet op het decreet van de Franse Gemeenschap van 16 april 1991 houdende organisatie van het onderwijs voor sociale promotie, de artikelen 47, 71, 74, 75 en 137 ;\\nGelet op het besluit van de Executieve van de Franse Gemeenschap van 27 april 1992 houdende bevoegdheidsoverdracht inzake het onderwijs voor sociale promotie;\\nGelet op het decreet van 7 november 2013 tot bepaling van het hogeronderwijslandschap en de academische organisatie van de studies, de artikelen 1, 37, tweede lid, 2°, 39, 85, § 1, 121, 157, 171 en 172;\\nGelet op het eensluidend advies van de Algemene Raad voor het onderwijs voor sociale promotie van 8 november 2019 ;\\nOverwegende dat de Raad van bestuur van de Academie voor Onderzoek en Hoger Onderwijs op de hoogte werd gebracht van het pedagogisch dossier van de afdeling van « Bachelor specialisatie : accountant en belastingexpert » (code 711704S32D2) door een brief van 8 november 2019 van de Algemene Raad voor het onderwijs voor sociale promotie,\\nBesluit :\\nArtikel 1.', 'Het referentiedossier van de afdeling van « Bachelor specialisatie : accountant en belastingexpert » (code 711704S32D2) alsook de referentiedossiers van de onderwijseenheden waaruit die afdeling bestaat, worden goedgekeurd.', 'Die afdeling wordt gerangschikt op het niveau van de economische en beheerswetenschappen van het hoger onderwijs voor sociale promotie van het korte type.', 'Elf onderwijseenheden waaruit die afdeling bestaat, worden gerangschikt op het gebied van de economische en beheerswetenschappen van het hoger onderwijs voor sociale promotie van het korte type en één onderwijseenheid wordt gerangschikt op het gebied van de juridische wetenschappen van het hoger onderwijs voor sociale promotie van het korte type.', 'Art.', '2.', 'Het bekwaamheidsbewijs voorzien door het pedagogisch dossier van de afdeling van « Bachelor specialisatie : accountant en belastingexpert » (code 711704S32D2) is het Diploma van « Bachelor specialisatie : accountant en belastingexpert ».', 'Art.', '3.', 'De geleidelijke transformatie van de betrokken bestaande structuren begint, ten laatste, op 1 september 2020.', 'De afdeling bedoeld in dit besluit vervangt de afdeling van « Specialisatie accountant en belastingexpert » (code 711704S32D1).', 'Art.', '4.', 'Dit besluit treedt in werking op 1 februari 2020.', 'Brussel, 20 december 2019.', 'V. GLATIGNY,\\nMinister van Hoger Onderwijs, Onderwijs voor sociale promotie, Universitaire ziekenhuizen, Hulpverlening aan de Jeugd, Justitiehuizen, Jeugd, Sport en Promotie van Brussel']\n"
     ]
    }
   ],
   "source": [
    "# Passing tokenized raw dutch/nl text into a variable and printing it\n",
    "nl_text = tokenize_dutch.tokenize(raw_text)\n",
    "print(nl_text)"
   ]
  },
  {
   "cell_type": "code",
   "execution_count": 3,
   "metadata": {},
   "outputs": [
    {
     "name": "stderr",
     "output_type": "stream",
     "text": [
      "[nltk_data] Downloading package sample_grammars to\n",
      "[nltk_data]     /Users/anix/nltk_data...\n",
      "[nltk_data]   Unzipping grammars/sample_grammars.zip.\n"
     ]
    },
    {
     "ename": "TypeError",
     "evalue": "not all arguments converted during string formatting",
     "output_type": "error",
     "traceback": [
      "\u001b[0;31m---------------------------------------------------------------------------\u001b[0m",
      "\u001b[0;31mTypeError\u001b[0m                                 Traceback (most recent call last)",
      "\u001b[0;32m/var/folders/hm/tsyh26qd4_qc7x70p8ch6mc80000gp/T/ipykernel_45850/3219841568.py\u001b[0m in \u001b[0;36m<module>\u001b[0;34m\u001b[0m\n\u001b[1;32m      1\u001b[0m \u001b[0mnltk\u001b[0m\u001b[0;34m.\u001b[0m\u001b[0mdownload\u001b[0m\u001b[0;34m(\u001b[0m\u001b[0;34m'sample_grammars'\u001b[0m\u001b[0;34m)\u001b[0m\u001b[0;34m\u001b[0m\u001b[0;34m\u001b[0m\u001b[0m\n\u001b[0;32m----> 2\u001b[0;31m \u001b[0murl\u001b[0m \u001b[0;34m=\u001b[0m \u001b[0;34m'/Users/anix/KPMG_NLP_project/assets/nl_sample.txt'\u001b[0m \u001b[0;34m%\u001b[0m \u001b[0mnltk\u001b[0m\u001b[0;34m.\u001b[0m\u001b[0mdata\u001b[0m\u001b[0;34m.\u001b[0m\u001b[0mfind\u001b[0m\u001b[0;34m(\u001b[0m\u001b[0;34m'grammars/sample_grammars/toy.cfg'\u001b[0m\u001b[0;34m)\u001b[0m\u001b[0;34m\u001b[0m\u001b[0;34m\u001b[0m\u001b[0m\n\u001b[0m",
      "\u001b[0;31mTypeError\u001b[0m: not all arguments converted during string formatting"
     ]
    }
   ],
   "source": [
    "nltk.download('sample_grammars')\n",
    "url = '/Users/anix/KPMG_NLP_project/assets/nl_sample.txt' % nltk.data.find('grammars/sample_grammars/toy.cfg')"
   ]
  },
  {
   "cell_type": "code",
   "execution_count": null,
   "metadata": {},
   "outputs": [],
   "source": []
  }
 ],
 "metadata": {
  "colab": {
   "collapsed_sections": [],
   "name": "NLTK_nl_sample_tokenize.ipynb",
   "provenance": []
  },
  "kernelspec": {
   "display_name": "tf",
   "language": "python",
   "name": "tf"
  },
  "language_info": {
   "codemirror_mode": {
    "name": "ipython",
    "version": 3
   },
   "file_extension": ".py",
   "mimetype": "text/x-python",
   "name": "python",
   "nbconvert_exporter": "python",
   "pygments_lexer": "ipython3",
   "version": "3.7.13"
  }
 },
 "nbformat": 4,
 "nbformat_minor": 1
}
