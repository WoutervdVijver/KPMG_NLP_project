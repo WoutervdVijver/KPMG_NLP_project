{
 "cells": [
  {
   "cell_type": "code",
   "execution_count": null,
   "id": "d3bf152c",
   "metadata": {},
   "outputs": [],
   "source": [
    "import os\n",
    "import nltk\n",
    "import nltk.data"
   ]
  },
  {
   "cell_type": "code",
   "execution_count": null,
   "id": "d1f3b83f",
   "metadata": {},
   "outputs": [],
   "source": [
    "tokenize_dutch = nltk.data.load('tokenizers/punkt/PY3/dutch.pickle')"
   ]
  },
  {
   "cell_type": "code",
   "execution_count": null,
   "id": "670fb1c6",
   "metadata": {},
   "outputs": [],
   "source": [
    "file = open(os.getcwd()+ '/Users/anix/KPMG_NLP_project/assets/nl_sample.txt','rt')\n",
    "raw_text = file.read()\n",
    "file.close()"
   ]
  },
  {
   "cell_type": "code",
   "execution_count": null,
   "id": "f96ee4e8",
   "metadata": {},
   "outputs": [],
   "source": [
    "tokenize_dutch.tokenize(raw_text)"
   ]
  },
  {
   "cell_type": "code",
   "execution_count": null,
   "id": "0d0d9fb6",
   "metadata": {},
   "outputs": [],
   "source": []
  }
 ],
 "metadata": {
  "kernelspec": {
   "display_name": "tf",
   "language": "python",
   "name": "tf"
  },
  "language_info": {
   "codemirror_mode": {
    "name": "ipython",
    "version": 3
   },
   "file_extension": ".py",
   "mimetype": "text/x-python",
   "name": "python",
   "nbconvert_exporter": "python",
   "pygments_lexer": "ipython3",
   "version": "3.7.13"
  }
 },
 "nbformat": 4,
 "nbformat_minor": 5
}
