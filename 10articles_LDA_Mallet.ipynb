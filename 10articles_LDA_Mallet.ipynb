{
  "nbformat": 4,
  "nbformat_minor": 0,
  "metadata": {
    "colab": {
      "name": "10articles_LDA_Mallet.ipynb",
      "provenance": [],
      "collapsed_sections": []
    },
    "kernelspec": {
      "name": "python3",
      "display_name": "Python 3"
    },
    "language_info": {
      "name": "python"
    }
  },
  "cells": [
    {
      "cell_type": "markdown",
      "source": [
        "## Further text preprocessing"
      ],
      "metadata": {
        "id": "2v-ju9XmWFJI"
      }
    },
    {
      "cell_type": "markdown",
      "source": [
        "### Objectives of this test"
      ],
      "metadata": {
        "id": "9CiTfVEiluGf"
      }
    },
    {
      "cell_type": "markdown",
      "source": [
        "- Implement Latent Dirichlet Allocation (**LDA**) from **Gensim** package along with the Mallet’s implementation (via Gensim). \n",
        "\n",
        "- Implement **Mallet** that optimizes LDA. Mallet is known to run faster and gives better topic segregation.\n",
        "\n",
        "- Also extract the volume and percentage contribution of each topic to get **an idea of how important a topic is**."
      ],
      "metadata": {
        "id": "nOmYI8FIlwj8"
      }
    },
    {
      "cell_type": "markdown",
      "source": [
        "### Pre-requisites: Downloading NLTK Dutch stopwords, data handling tools, model preprocessing & plotting tools, and SpaCy model"
      ],
      "metadata": {
        "id": "HliZG8C-V8gW"
      }
    },
    {
      "cell_type": "code",
      "source": [
        "from google.colab import drive\n",
        "drive.mount('/content/drive')"
      ],
      "metadata": {
        "id": "JOSxNYZEvmtE"
      },
      "execution_count": null,
      "outputs": []
    },
    {
      "cell_type": "code",
      "source": [
        "# NLTK\n",
        "import nltk\n",
        "nltk.download('stopwords', 'dutch')"
      ],
      "metadata": {
        "id": "kjP68jeYftR4"
      },
      "execution_count": null,
      "outputs": []
    },
    {
      "cell_type": "code",
      "source": [
        "# Python data analysis tools and python module for printing\n",
        "import re\n",
        "import numpy as np\n",
        "import pandas as pd\n",
        "from pprint import pprint"
      ],
      "metadata": {
        "id": "-gP7ww_liQub"
      },
      "execution_count": null,
      "outputs": []
    },
    {
      "cell_type": "code",
      "source": [
        "# Gensim\n",
        "import gensim\n",
        "import gensim.corpora as corpora\n",
        "from gensim.utils import simple_preprocess\n",
        "from gensim.models import CoherenceModel"
      ],
      "metadata": {
        "id": "ZTlhs2HnmGyB"
      },
      "execution_count": null,
      "outputs": []
    },
    {
      "cell_type": "code",
      "source": [
        "# SpaCy for lemmatization\n",
        "import spacy"
      ],
      "metadata": {
        "id": "fBAzmTMOmp9f"
      },
      "execution_count": null,
      "outputs": []
    },
    {
      "cell_type": "code",
      "source": [
        "# Plotting tools\n",
        "!pip install pyLDAvis\n",
        "\n",
        "import pyLDAvis\n",
        "import pyLDAvis.gensim_models as gensimvis\n",
        "pyLDAvis.enable_notebook()\n",
        "\n",
        "import matplotlib.pyplot as plt"
      ],
      "metadata": {
        "id": "1oTmcphNmuBR"
      },
      "execution_count": null,
      "outputs": []
    },
    {
      "cell_type": "code",
      "source": [
        "# Ignoring warnings\n",
        "import warnings\n",
        "warnings.filterwarnings('ignore', category=DeprecationWarning)"
      ],
      "metadata": {
        "id": "958NglFuoAJm"
      },
      "execution_count": null,
      "outputs": []
    },
    {
      "cell_type": "markdown",
      "source": [
        "### Preparing stopwords"
      ],
      "metadata": {
        "id": "JhmR5NYqodQe"
      }
    },
    {
      "cell_type": "code",
      "source": [
        "# NLTK Stop words\n",
        "import nltk\n",
        "from nltk.corpus import stopwords\n",
        "nltk.download('stopwords')\n",
        "\n",
        "stop_words = nltk.corpus.stopwords.words('dutch')"
      ],
      "metadata": {
        "id": "i2F9qd3Aodpz"
      },
      "execution_count": null,
      "outputs": []
    },
    {
      "cell_type": "markdown",
      "source": [
        "## Loading 10 articles into a list"
      ],
      "metadata": {
        "id": "_X85dMwl25bs"
      }
    },
    {
      "cell_type": "code",
      "source": [
        "# Importing file handling library\n",
        "import os\n",
        "\n",
        "data = []\n",
        "path = 'drive/MyDrive/clean_texts/'\n",
        "for name in os.listdir(path)[:10]:\n",
        "    with open(path+name, 'r') as file:\n",
        "        data.append(file.read())\n"
      ],
      "metadata": {
        "id": "L0Dai1aW3BLN"
      },
      "execution_count": null,
      "outputs": []
    },
    {
      "cell_type": "markdown",
      "source": [
        "### Tokenizing words and cleaning-up text"
      ],
      "metadata": {
        "id": "arIOjuW-G9RL"
      }
    },
    {
      "cell_type": "code",
      "source": [
        "# Tokenizing each sentence into a list of words, removing punctuations and unnecessary characters altogether.\n",
        "def sent_to_words(sentences):\n",
        "    for sentence in sentences:\n",
        "        yield(gensim.utils.simple_preprocess(str(sentence), deacc=True))  # deacc=True removes punctuations\n",
        "\n",
        "data_words = list(sent_to_words(data))\n",
        "\n",
        "print(data_words)"
      ],
      "metadata": {
        "id": "dO9v16DbxMyV"
      },
      "execution_count": null,
      "outputs": []
    },
    {
      "cell_type": "markdown",
      "source": [
        "### Creating bigrams and trigrams"
      ],
      "metadata": {
        "id": "iLpiDNyRTGc7"
      }
    },
    {
      "cell_type": "markdown",
      "source": [
        "**Bigrams** are two (2) words frequently occurring together in the document. **Trigrams** are three (3) words frequently occurring."
      ],
      "metadata": {
        "id": "KQdTRjR-zrja"
      }
    },
    {
      "cell_type": "code",
      "source": [
        "# Building the bigram and trigram models\n",
        "bigram = gensim.models.Phrases(data_words, min_count=5, threshold=100) # higher threshold fewer phrases.\n",
        "trigram = gensim.models.Phrases(bigram[data_words], threshold=100)  \n",
        "\n",
        "# Faster way to get a sentence clubbed as a trigram/bigram\n",
        "bigram_mod = gensim.models.phrases.Phraser(bigram)\n",
        "trigram_mod = gensim.models.phrases.Phraser(trigram)\n",
        "\n",
        "# See trigram example\n",
        "print(trigram_mod[bigram_mod[data_words]])"
      ],
      "metadata": {
        "id": "oTf8PZhLOIwG"
      },
      "execution_count": null,
      "outputs": []
    },
    {
      "cell_type": "markdown",
      "source": [
        "###  Removing stopwords, making bigrams & trigtrams, and lemmatizing"
      ],
      "metadata": {
        "id": "4b9GkSVFZIUC"
      }
    },
    {
      "cell_type": "code",
      "source": [
        "# Define functions for stopwords, bigrams, trigrams and lemmatization\n",
        "def remove_stopwords(texts):\n",
        "    return [[word for word in simple_preprocess(str(doc)) if word not in stop_words] for doc in texts]\n",
        "\n",
        "def make_bigrams(texts):\n",
        "    return [bigram_mod[doc] for doc in texts]\n",
        "\n",
        "def make_trigrams(texts):\n",
        "    return [trigram_mod[bigram_mod[doc]] for doc in texts]\n",
        "\n",
        "def lemmatization(texts, allowed_postags=['NOUN', 'ADJ', 'VERB', 'ADV']):\n",
        "    \"\"\"https://spacy.io/api/annotation\"\"\"\n",
        "    texts_out = []\n",
        "    for sent in texts:\n",
        "        doc = nlp(\" \".join(sent)) \n",
        "        texts_out.append([token.lemma_ for token in doc if token.pos_ in allowed_postags])\n",
        "    return texts_out"
      ],
      "metadata": {
        "id": "1cuUNtqNT9kb"
      },
      "execution_count": null,
      "outputs": []
    },
    {
      "cell_type": "markdown",
      "source": [
        "### Initializing SpaCy's Dutch NLP model (large size)"
      ],
      "metadata": {
        "id": "uanPqGrdGyiE"
      }
    },
    {
      "cell_type": "code",
      "source": [
        " !pip install -U spacy\n",
        " !python -m spacy download nl_core_news_lg"
      ],
      "metadata": {
        "id": "EwTE8mGpbFf6"
      },
      "execution_count": null,
      "outputs": []
    },
    {
      "cell_type": "markdown",
      "source": [
        "### Calling the functions in order"
      ],
      "metadata": {
        "id": "C4QnnSElG_vg"
      }
    },
    {
      "cell_type": "code",
      "source": [
        " # Removing Stop Words\n",
        "data_words_nostops = remove_stopwords(data_words)\n",
        "\n",
        "# Forming Bigrams\n",
        "data_words_bigrams = make_bigrams(data_words_nostops)\n",
        "\n",
        "# Loading the SpaCy 'nl' model, keeping only tagger component (for efficiency)\n",
        "nlp = spacy.load('nl_core_news_lg', disable=['parser', 'ner'])\n",
        "\n",
        "# Doing lemmatization keeping only noun, adj, vb, adv\n",
        "data_lemmatized = lemmatization(data_words_bigrams, allowed_postags=['NOUN', 'ADJ', 'VERB', 'ADV'])\n",
        "\n",
        "print(data_lemmatized)"
      ],
      "metadata": {
        "id": "dPJP2KeuZw67"
      },
      "execution_count": null,
      "outputs": []
    },
    {
      "cell_type": "markdown",
      "source": [
        "### Creating the Dictionary and Corpus needed for Topic Modeling"
      ],
      "metadata": {
        "id": "GgN2SSzn2fTU"
      }
    },
    {
      "cell_type": "code",
      "source": [
        "# Creating Dictionary\n",
        "id2word = corpora.Dictionary(data_lemmatized)\n",
        "\n",
        "# Creating Corpus\n",
        "texts = data_lemmatized\n",
        "\n",
        "# Term Document Frequency\n",
        "corpus = [id2word.doc2bow(text) for text in texts]\n",
        "\n",
        "# Viewing corpus\n",
        "print(corpus)"
      ],
      "metadata": {
        "id": "lp6FqTgr2hr8"
      },
      "execution_count": null,
      "outputs": []
    },
    {
      "cell_type": "markdown",
      "source": [
        "Gensim creates a unique id for each word in the document. The produced corpus shown above is a mapping of (word_id, word_frequency).\n",
        "\n",
        "For example, (0, 1) above implies, **word id 0 occurs once** in the document. Likewise, **word id 1 occurs once too**, and so on.\n",
        "\n",
        "This is used as the input by the LDA model.\n",
        "\n",
        "If you want to see what word a given id corresponds to, pass the id as a key to the dictionary. (From https://www.machinelearningplus.com/nlp/topic-modeling-gensim-python/)"
      ],
      "metadata": {
        "id": "mat49mSv24fY"
      }
    },
    {
      "cell_type": "code",
      "source": [
        "# Passing the id as a key to the dictionary to see what word a given ID corresponds to\n",
        "id2word[0]"
      ],
      "metadata": {
        "colab": {
          "base_uri": "https://localhost:8080/",
          "height": 35
        },
        "id": "iCYlDxcR2050",
        "outputId": "25519ba8-b0f1-4312-f2ac-9222409cd437"
      },
      "execution_count": null,
      "outputs": [
        {
          "output_type": "execute_result",
          "data": {
            "text/plain": [
              "'Brussels'"
            ],
            "application/vnd.google.colaboratory.intrinsic+json": {
              "type": "string"
            }
          },
          "metadata": {},
          "execution_count": 38
        }
      ]
    },
    {
      "cell_type": "code",
      "source": [
        "# Human readable format of corpus (term-frequency)\n",
        "[[(id2word[id], freq) for id, freq in cp] for cp in corpus]"
      ],
      "metadata": {
        "id": "P6HbEyFs3STL"
      },
      "execution_count": null,
      "outputs": []
    },
    {
      "cell_type": "markdown",
      "source": [
        "### Building the topic model"
      ],
      "metadata": {
        "id": "xr7zp7cU3mnE"
      }
    },
    {
      "cell_type": "markdown",
      "source": [
        "The LDA model shall be built with 20 different topics where each topic is a combination of keywords and each keyword contributes a certain weightage to the topic."
      ],
      "metadata": {
        "id": "nPSZSoCl1ky7"
      }
    },
    {
      "cell_type": "code",
      "source": [
        "# Building LDA model\n",
        "lda_model = gensim.models.ldamodel.LdaModel(corpus=corpus,\n",
        "                                           id2word=id2word,\n",
        "                                           num_topics=20, \n",
        "                                           random_state=100,\n",
        "                                           update_every=1,\n",
        "                                           chunksize=100,\n",
        "                                           passes=10,\n",
        "                                           alpha='auto',\n",
        "                                           per_word_topics=True)"
      ],
      "metadata": {
        "id": "4eNI1JKD3rS8"
      },
      "execution_count": null,
      "outputs": []
    },
    {
      "cell_type": "markdown",
      "source": [
        "###  Viewing the topics in LDA model"
      ],
      "metadata": {
        "id": "I4pNmnJP3vMM"
      }
    },
    {
      "cell_type": "markdown",
      "source": [
        "You can see the keywords for each topic and the weightag (importance) of each keyword using lda_model.print_topics() as shown next."
      ],
      "metadata": {
        "id": "r0YYrNee30UJ"
      }
    },
    {
      "cell_type": "code",
      "source": [
        "# Printing keywords for 20 topics\n",
        "pprint(lda_model.print_topics())\n",
        "doc_lda = lda_model[corpus]"
      ],
      "metadata": {
        "colab": {
          "base_uri": "https://localhost:8080/"
        },
        "id": "NrllJgXK3xAl",
        "outputId": "9f2e8a2f-1336-4cf9-912c-6b9ddf9fecf9"
      },
      "execution_count": null,
      "outputs": [
        {
          "output_type": "stream",
          "name": "stdout",
          "text": [
            "[(0,\n",
            "  '0.001*\"artikel\" + 0.001*\"persoon\" + 0.001*\"materiaal\" + 0.001*\"kader\" + '\n",
            "  '0.001*\"dienst\" + 0.001*\"cov_id\" + 0.001*\"vennootschap\" + 0.001*\"opdracht\" + '\n",
            "  '0.001*\"volgen\" + 0.001*\"ordonnantie\"'),\n",
            " (1,\n",
            "  '0.001*\"vennootschap\" + 0.001*\"aandeel\" + 0.001*\"jaar\" + 0.001*\"nieuw\" + '\n",
            "  '0.001*\"document\" + 0.001*\"artikel\" + 0.001*\"voorwaarde\" + 0.001*\"recht\" + '\n",
            "  '0.001*\"volgen\" + 0.001*\"maand\"'),\n",
            " (2,\n",
            "  '0.001*\"artikel\" + 0.001*\"besluit\" + 0.001*\"kader\" + 0.001*\"cov_id\" + '\n",
            "  '0.001*\"ordonnantie\" + 0.001*\"regering\" + 0.001*\"raad\" + 0.001*\"persoon\" + '\n",
            "  '0.001*\"overwegende\" + 0.001*\"gemeente_raad\"'),\n",
            " (3,\n",
            "  '0.027*\"artikel\" + 0.017*\"onderneming\" + 0.014*\"besluit\" + 0.013*\"steun\" + '\n",
            "  '0.011*\"wet\" + 0.010*\"bedoelen\" + 0.010*\"zelfstandig\" + 0.010*\"kader\" + '\n",
            "  '0.009*\"betreffen\" + 0.009*\"economie\"'),\n",
            " (4,\n",
            "  '0.002*\"artikel\" + 0.001*\"persoon\" + 0.001*\"kader\" + 0.001*\"wet\" + '\n",
            "  '0.001*\"besluit\" + 0.001*\"diamant\" + 0.001*\"regering\" + 0.001*\"bedoelen\" + '\n",
            "  '0.001*\"ordonnantie\" + 0.001*\"betreffen\"'),\n",
            " (5,\n",
            "  '0.031*\"vennootschap\" + 0.024*\"aandeel\" + 0.024*\"jaar\" + 0.023*\"nieuw\" + '\n",
            "  '0.021*\"document\" + 0.021*\"recht\" + 0.016*\"voorwaarde\" + 0.014*\"deelneming\" '\n",
            "  '+ 0.014*\"artikel\" + 0.014*\"volgen\"'),\n",
            " (6,\n",
            "  '0.028*\"vergadering\" + 0.027*\"regering\" + 0.025*\"bestuur\" + 0.023*\"openbaar\" '\n",
            "  '+ 0.022*\"school\" + 0.020*\"teleconferentie\" + 0.019*\"beslissing\" + '\n",
            "  '0.019*\"decreet\" + 0.017*\"toekenning\" + 0.016*\"minister\"'),\n",
            " (7,\n",
            "  '0.061*\"indexcijfer\" + 0.047*\"artikel\" + 0.047*\"wetboek\" + '\n",
            "  '0.047*\"coefficient\" + 0.042*\"gemiddeld\" + 0.028*\"jaar\" + 0.028*\"indexeren\" '\n",
            "  '+ 0.026*\"aanslagjaar\" + 0.023*\"zijn\" + 0.021*\"bedoelen\"'),\n",
            " (8,\n",
            "  '0.002*\"artikel\" + 0.001*\"kader\" + 0.001*\"onderneming\" + 0.001*\"persoon\" + '\n",
            "  '0.001*\"cov_id\" + 0.001*\"steun\" + 0.001*\"besluit\" + 0.001*\"raad\" + '\n",
            "  '0.001*\"ordonnantie\" + 0.001*\"regering\"'),\n",
            " (9,\n",
            "  '0.001*\"artikel\" + 0.001*\"besluit\" + 0.001*\"wet\" + 0.001*\"persoon\" + '\n",
            "  '0.001*\"cov_id\" + 0.001*\"regering\" + 0.001*\"nemen\" + 0.001*\"handelaar\" + '\n",
            "  '0.001*\"maatregel\" + 0.001*\"beslissing\"'),\n",
            " (10,\n",
            "  '0.001*\"artikel\" + 0.001*\"kader\" + 0.001*\"vennootschap\" + '\n",
            "  '0.001*\"onderneming\" + 0.001*\"besluit\" + 0.001*\"persoon\" + 0.001*\"recht\" + '\n",
            "  '0.001*\"betreffen\" + 0.001*\"raad\" + 0.001*\"aandeel\"'),\n",
            " (11,\n",
            "  '0.047*\"centrum\" + 0.037*\"besluit\" + 0.034*\"artikel\" + 0.030*\"vervangen\" + '\n",
            "  '0.024*\"volgen\" + 0.023*\"administratie\" + 0.020*\"voorzitter\" + 0.020*\"woord\" '\n",
            "  '+ 0.017*\"territoriaal\" + 0.017*\"hetzelfde\"'),\n",
            " (12,\n",
            "  '0.001*\"artikel\" + 0.001*\"kader\" + 0.001*\"regering\" + 0.001*\"cov_id\" + '\n",
            "  '0.001*\"besluit\" + 0.001*\"gemeente_raad\" + 0.001*\"persoon\" + '\n",
            "  '0.001*\"document\" + 0.001*\"college\" + 0.001*\"vennootschap\"'),\n",
            " (13,\n",
            "  '0.001*\"artikel\" + 0.001*\"kader\" + 0.001*\"besluit\" + 0.001*\"cov_id\" + '\n",
            "  '0.001*\"regering\" + 0.001*\"persoon\" + 0.001*\"onderneming\" + 0.001*\"raad\" + '\n",
            "  '0.001*\"ordonnantie\" + 0.001*\"betreffen\"'),\n",
            " (14,\n",
            "  '0.020*\"artikel\" + 0.014*\"kader\" + 0.014*\"persoon\" + 0.014*\"cov_id\" + '\n",
            "  '0.012*\"regering\" + 0.011*\"overwegende\" + 0.011*\"ordonnantie\" + '\n",
            "  '0.011*\"besluit\" + 0.010*\"college\" + 0.009*\"maatregel\"'),\n",
            " (15,\n",
            "  '0.001*\"artikel\" + 0.001*\"kader\" + 0.001*\"cov_id\" + 0.001*\"ordonnantie\" + '\n",
            "  '0.001*\"besluit\" + 0.001*\"betreffen\" + 0.001*\"persoon\" + 0.001*\"onderneming\" '\n",
            "  '+ 0.001*\"raad\" + 0.001*\"regering\"'),\n",
            " (16,\n",
            "  '0.001*\"artikel\" + 0.001*\"persoon\" + 0.001*\"ordonnantie\" + 0.001*\"kader\" + '\n",
            "  '0.001*\"cov_id\" + 0.001*\"onderneming\" + 0.001*\"wet\" + 0.001*\"steun\" + '\n",
            "  '0.001*\"betreffen\" + 0.001*\"besluit\"'),\n",
            " (17,\n",
            "  '0.001*\"artikel\" + 0.001*\"indexcijfer\" + 0.001*\"besluit\" + 0.001*\"jaar\" + '\n",
            "  '0.001*\"onderneming\" + 0.001*\"wetboek\" + 0.001*\"coefficient\" + '\n",
            "  '0.001*\"bedoelen\" + 0.001*\"indexeren\" + 0.001*\"steun\"'),\n",
            " (18,\n",
            "  '0.001*\"artikel\" + 0.001*\"cov_id\" + 0.001*\"besluit\" + 0.001*\"kader\" + '\n",
            "  '0.001*\"persoon\" + 0.001*\"raad\" + 0.001*\"onderneming\" + 0.001*\"regering\" + '\n",
            "  '0.001*\"ordonnantie\" + 0.001*\"maatregel\"'),\n",
            " (19,\n",
            "  '0.001*\"artikel\" + 0.001*\"cov_id\" + 0.001*\"besluit\" + 0.001*\"kader\" + '\n",
            "  '0.001*\"persoon\" + 0.001*\"betreffen\" + 0.001*\"regering\" + 0.001*\"raad\" + '\n",
            "  '0.001*\"onderneming\" + 0.001*\"steun\"')]\n"
          ]
        }
      ]
    },
    {
      "cell_type": "markdown",
      "source": [
        "**NOTE**: \n",
        "\n",
        "The weights reflect how important a keyword is to that topic.\n",
        "\n",
        "Looking at these keywords, you can guess what this topic could be."
      ],
      "metadata": {
        "id": "2XyHR2UuKUIp"
      }
    },
    {
      "cell_type": "markdown",
      "source": [
        "### Compute Model Perplexity and Coherence Score"
      ],
      "metadata": {
        "id": "iW0vFYMM4QhX"
      }
    },
    {
      "cell_type": "markdown",
      "source": [
        "**Model perplexity** and **topic coherence** provide a convenient measure to judge how good a given topic model is."
      ],
      "metadata": {
        "id": "5s_26Rbn0c6j"
      }
    },
    {
      "cell_type": "code",
      "source": [
        "# Computing Perplexity\n",
        "print('\\nPerplexity: ', lda_model.log_perplexity(corpus))  # a measure of how good the model is. lower the better.\n",
        "\n",
        "# Computing Coherence Score\n",
        "coherence_model_lda = CoherenceModel(model=lda_model, texts=data_lemmatized, dictionary=id2word, coherence='c_v')\n",
        "coherence_lda = coherence_model_lda.get_coherence()\n",
        "print('\\nCoherence Score: ', coherence_lda)"
      ],
      "metadata": {
        "colab": {
          "base_uri": "https://localhost:8080/"
        },
        "id": "y1ZNKyu64R0N",
        "outputId": "243d7001-b1b6-4d73-dec1-f65b54d0adc6"
      },
      "execution_count": null,
      "outputs": [
        {
          "output_type": "stream",
          "name": "stdout",
          "text": [
            "\n",
            "Perplexity:  -6.678937857285422\n",
            "\n",
            "Coherence Score:  0.40068960388831887\n"
          ]
        }
      ]
    },
    {
      "cell_type": "markdown",
      "source": [
        "### Visualizing topic-keywords distribution"
      ],
      "metadata": {
        "id": "KOQtvx9LSSUs"
      }
    },
    {
      "cell_type": "code",
      "source": [
        "# Feeding the model into the pyLDAvis instance\n",
        "vis = gensimvis.prepare(lda_model, corpus, id2word)\n",
        "vis"
      ],
      "metadata": {
        "id": "qlI5CMBmyMmG",
        "colab": {
          "base_uri": "https://localhost:8080/",
          "height": 916
        },
        "outputId": "374617a6-26ca-4ca3-9b40-fb30dbe4f6e8"
      },
      "execution_count": null,
      "outputs": [
        {
          "output_type": "stream",
          "name": "stderr",
          "text": [
            "/usr/local/lib/python3.7/dist-packages/pyLDAvis/_prepare.py:247: FutureWarning: In a future version of pandas all arguments of DataFrame.drop except for the argument 'labels' will be keyword-only\n",
            "  by='saliency', ascending=False).head(R).drop('saliency', 1)\n"
          ]
        },
        {
          "output_type": "execute_result",
          "data": {
            "text/plain": [
              "PreparedData(topic_coordinates=              x         y  topics  cluster       Freq\n",
              "topic                                                \n",
              "3      0.030367 -0.023902       1        1  46.351383\n",
              "14     0.127471  0.017999       2        1  29.801000\n",
              "5     -0.217728  0.246990       3        1  15.208934\n",
              "7     -0.253218 -0.181655       4        1   3.525326\n",
              "6      0.099942  0.071944       5        1   2.860346\n",
              "11     0.000407 -0.075287       6        1   2.220445\n",
              "0      0.014833 -0.001355       7        1   0.002410\n",
              "4      0.013563 -0.002941       8        1   0.002385\n",
              "8      0.016129 -0.004623       9        1   0.002381\n",
              "19     0.017937 -0.004896      10        1   0.002355\n",
              "13     0.016099 -0.002647      11        1   0.002354\n",
              "1      0.006199  0.005832      12        1   0.002349\n",
              "9      0.016930 -0.005310      13        1   0.002322\n",
              "18     0.017637 -0.005657      14        1   0.002320\n",
              "2      0.017641 -0.005718      15        1   0.002317\n",
              "16     0.015390 -0.004684      16        1   0.002308\n",
              "12     0.015825 -0.004196      17        1   0.002282\n",
              "15     0.017665 -0.006820      18        1   0.002277\n",
              "17     0.012207 -0.008369      19        1   0.002276\n",
              "10     0.014704 -0.004705      20        1   0.002229, topic_info=            Term        Freq       Total Category  logprob  loglift\n",
              "16       artikel  222.000000  222.000000  Default  30.0000  30.0000\n",
              "298      besluit  102.000000  102.000000  Default  29.0000  29.0000\n",
              "553  onderneming   75.000000   75.000000  Default  28.0000  28.0000\n",
              "672        steun   59.000000   59.000000  Default  27.0000  27.0000\n",
              "107        kader   89.000000   89.000000  Default  26.0000  26.0000\n",
              "..           ...         ...         ...      ...      ...      ...\n",
              "511        maand    0.000140   28.150855  Topic20  -7.3312  -1.5014\n",
              "122    maatregel    0.000142   46.935114  Topic20  -7.3186  -2.0000\n",
              "214          wet    0.000142   57.755272  Topic20  -7.3169  -2.2057\n",
              "147  ordonnantie    0.000141   56.869288  Topic20  -7.3233  -2.1966\n",
              "291     bepaling    0.000140   37.181183  Topic20  -7.3304  -1.7788\n",
              "\n",
              "[1402 rows x 6 columns], token_table=      Topic      Freq         Term\n",
              "term                              \n",
              "1059      6  0.834212        Duits\n",
              "989       5  0.972988        Waals\n",
              "990       5  0.973134      _daerod\n",
              "1         2  0.812980    aan_kopen\n",
              "3         2  0.818308  aanbesteden\n",
              "...     ...       ...          ...\n",
              "846       1  0.198196         zijn\n",
              "846       4  0.792784         zijn\n",
              "1044      5  0.973312   zitpenning\n",
              "1325      2  0.811961         zone\n",
              "1326      2  0.991998         zorg\n",
              "\n",
              "[655 rows x 3 columns], R=30, lambda_step=0.01, plot_opts={'xlab': 'PC1', 'ylab': 'PC2'}, topic_order=[4, 15, 6, 8, 7, 12, 1, 5, 9, 20, 14, 2, 10, 19, 3, 17, 13, 16, 18, 11])"
            ],
            "text/html": [
              "\n",
              "<link rel=\"stylesheet\" type=\"text/css\" href=\"https://cdn.jsdelivr.net/gh/bmabey/pyLDAvis@3.3.1/pyLDAvis/js/ldavis.v1.0.0.css\">\n",
              "\n",
              "\n",
              "<div id=\"ldavis_el601402432628617766316679008\"></div>\n",
              "<script type=\"text/javascript\">\n",
              "\n",
              "var ldavis_el601402432628617766316679008_data = {\"mdsDat\": {\"x\": [0.030366920756509957, 0.12747100812882275, -0.21772826692074634, -0.25321813573703333, 0.09994228600407766, 0.00040678916486396684, 0.014832886159240402, 0.013563320879288817, 0.016128534815869202, 0.01793704821174324, 0.016099387822791366, 0.00619884305621631, 0.016930315404130036, 0.017637316992058616, 0.017640701052595183, 0.015390078776083064, 0.015825211717894926, 0.01766543974953994, 0.01220676299697743, 0.014703550969076457], \"y\": [-0.023901706173885293, 0.0179986523968841, 0.24699036745507896, -0.1816551063415251, 0.07194400507373849, -0.0752871433256291, -0.001354870570614534, -0.00294051050700333, -0.004622630265911211, -0.004896046095208386, -0.002647454943089898, 0.005832231733943973, -0.00530980979639569, -0.005657410597745644, -0.005718292688974949, -0.004684338873823904, -0.004196331783154437, -0.0068200106320579915, -0.008369000523296121, -0.0047045935413298845], \"topics\": [1, 2, 3, 4, 5, 6, 7, 8, 9, 10, 11, 12, 13, 14, 15, 16, 17, 18, 19, 20], \"cluster\": [1, 1, 1, 1, 1, 1, 1, 1, 1, 1, 1, 1, 1, 1, 1, 1, 1, 1, 1, 1], \"Freq\": [46.35138261787031, 29.800999674398664, 15.20893449643404, 3.525326323046575, 2.860346275183848, 2.22044456857907, 0.0024096610654256298, 0.0023845388839411315, 0.002380720699585906, 0.0023552714258756875, 0.002354421734333342, 0.0023494494639986936, 0.0023224712467501693, 0.002320400522689736, 0.002316883036757863, 0.0023081888382509674, 0.002281800793193894, 0.002276860584180759, 0.0022759561292276195, 0.002229420063317164]}, \"tinfo\": {\"Term\": [\"artikel\", \"besluit\", \"onderneming\", \"steun\", \"kader\", \"cov_id\", \"zelfstandig\", \"ordonnantie\", \"regering\", \"persoon\", \"premie\", \"raad\", \"economie\", \"diamant\", \"bedoelen\", \"wet\", \"vennootschap\", \"aanvrager\", \"betreffen\", \"handelaar\", \"maatregel\", \"uitvoering\", \"jaar\", \"brusselse_hoofdstedelijk\", \"document\", \"nemen\", \"economisch\", \"volgen\", \"synthetische_diamant\", \"risico\", \"steun\", \"zelfstandig\", \"diamant\", \"economie\", \"premie\", \"aanvrager\", \"handelaar\", \"synthetische_diamant\", \"verwerking\", \"begunstigen\", \"hoofdstuk\", \"financiering\", \"koninklijk\", \"registreren\", \"terrorisme\", \"bijzondere_machtenbesluit\", \"tijdelijk_werkloos\", \"witwassen\", \"crisis\", \"bewijskracht\", \"zaakvoerder\", \"leggen\", \"steun_aanvraag\", \"middel\", \"melding\", \"karakter\", \"omvatten\", \"voorkoming\", \"processen_verbaal\", \"volledige_geniet\", \"onderneming\", \"aanvragen\", \"uitvoering\", \"controle\", \"aanvraag\", \"wet\", \"economisch\", \"natuurlijk\", \"gegeven\", \"betreffen\", \"toe_kennen\", \"reglement\", \"artikel\", \"verordening\", \"bedoelen\", \"besluit\", \"bepaling\", \"maken\", \"algemeen\", \"raad\", \"toepassing\", \"kader\", \"risico\", \"cov_id\", \"ordonnantie\", \"persoon\", \"waarvan\", \"nemen\", \"regering\", \"college\", \"gemeente_raad\", \"burgemeester\", \"nieuwe_gemeentewet\", \"reizen\", \"schepen\", \"waar_zorgwekken\", \"essentiel\", \"waarborgen\", \"virtueel\", \"volmachtbesluit\", \"meentelijke_organen\", \"continuiteit\", \"uitzonderlijk\", \"zorg\", \"verplaatsing\", \"afstand\", \"chirurgisch\", \"iriscaar\", \"bicommunautair\", \"quarantaine\", \"geneesheer\", \"werkgever\", \"scheiden\", \"aandacht\", \"ander\", \"omstandigheid\", \"administratief_toezicht\", \"handtekening\", \"briefwisseling\", \"plaatselijke_besturen\", \"overwegende\", \"strikt\", \"pandemie\", \"dringend\", \"werking\", \"gemeente\", \"aanwezig\", \"periode\", \"paragraaf\", \"waar\", \"beslissing\", \"belasten\", \"vergadering\", \"noodzakelijk\", \"cov_id\", \"regering\", \"ordonnantie\", \"persoon\", \"kader\", \"dienst\", \"maatregel\", \"artikel\", \"brusselse_hoofdstedelijk\", \"verplichting\", \"besluit\", \"lid\", \"openbaar\", \"nemen\", \"raad\", \"volgen\", \"bepalen\", \"voorzien\", \"aandeel\", \"deelneming\", \"inschrijver\", \"investering\", \"bedrijf_leider\", \"kapitaal\", \"verwerving\", \"onrechtstreeks\", \"verwerven\", \"vergoeding\", \"investeren\", \"op_stellen\", \"volstorting\", \"uit_geven\", \"terugname\", \"vermindering\", \"berekening\", \"gedeeltelijk\", \"maxim_umbedrag\", \"beoordeelen\", \"kapitaalinbreng\", \"terug_nemen\", \"vervreemding\", \"belastbaar\", \"voornaam\", \"fractie\", \"onroerend\", \"verlopen\", \"in_brengen\", \"tijdperk\", \"nieuw\", \"vennootschap\", \"rechtstreeks\", \"bezorgen\", \"jaar\", \"recht\", \"maand\", \"document\", \"waarin\", \"waarop\", \"voorwaarde\", \"uitsluiting\", \"aantal\", \"volgen\", \"geval\", \"artikel\", \"termijn\", \"persoon\", \"uit_sluiten\", \"indexcijfer\", \"coefficient\", \"gemiddeld\", \"gemiddelde\", \"aanslagjaar_afgekort\", \"basisbe_drag\", \"geindexeerde_bedragen\", \"vermenigvuldigen\", \"inkomstenjaar\", \"tabell\", \"aanslagjaar\", \"afgevlaken\", \"voor_meld\", \"deling\", \"basis_bedrag\", \"afgevlakte\", \"aj\", \"inde_xcijfer\", \"vier\", \"zijn\", \"indexeren\", \"deel\", \"tabel\", \"verhouding_tussen\", \"wetboek\", \"bevatten\", \"noemen\", \"resultaat\", \"hierboven\", \"bedragen\", \"hierna\", \"vermelde\", \"eerste_lid\", \"jaar\", \"artikel\", \"verkrijgen\", \"bedrag\", \"bedoelen\", \"basis\", \"maand\", \"lid\", \"school\", \"teleconferentie\", \"orgaan\", \"decreet\", \"huishoudelijk\", \"deelname\", \"handhaven\", \"online\", \"ambtenarenzaken\", \"over_wegen\", \"oprichtangen\", \"bijgewoonnen\", \"neemt\", \"moment\", \"beinvloeden\", \"brengen\", \"fr\", \"waals\", \"bijeenroeping\", \"organ\", \"wbe\", \"besluitvormings\", \"gemeen\", \"adviesorgan\", \"zitpenning\", \"afgelegen\", \"present_iegeld\", \"ambtenarenzak\", \"werkwijs\", \"validatie\", \"bestuur\", \"franse_gemeenschap\", \"bijzondere_machten\", \"vergadering\", \"toekenning\", \"openbaar\", \"ov_erwegen\", \"beslissing\", \"begroting\", \"regering\", \"minister\", \"overwegende\", \"gelet\", \"gelijk\", \"kans\", \"besluiten\", \"nemen\", \"beschikking\", \"voordracht\", \"ingang\", \"regel\", \"houden\", \"persoon\", \"art\", \"cov_id\", \"kader\", \"besluit\", \"artikel\", \"geval\", \"voorzien\", \"betreffen\", \"zetel\", \"fiscaliteit\", \"polyvalent\", \"dir_ectiecomite\", \"materieel\", \"eup\", \"malmedy\", \"Duits\", \"taal_gebied\", \"particulieren\", \"centrum\", \"duitstalig\", \"rijksinwoner\", \"weismes\", \"eupen\", \"bovenvermelde\", \"s_tandplaats\", \"dendermon\", \"standplaats\", \"hoei\", \"invordering\", \"inwoner\", \"vervier\", \"directiecomite\", \"letn\", \"seraing\", \"belasting\", \"inning\", \"vestiging\", \"toevertrouwd\", \"hetzelfde\", \"territoriaal\", \"voorzitter\", \"woord\", \"vervangen\", \"administratie\", \"bijlage\", \"wijzigen\", \"besluit\", \"vestigen\", \"op_heffen\", \"dossier\", \"volgen\", \"vaststelling\", \"bevoegdheid\", \"artikel\", \"algemeen\", \"besluiten\", \"oprichting\", \"bepaling\", \"bedoelen\", \"paragraaf\", \"waarvan\", \"art\", \"vestiging\", \"belasting\", \"s_tandplaats\", \"inning\", \"standplaats\", \"vervier\", \"inwoner\", \"directiecomite\", \"koninkrijk\", \"invordering\", \"seraing\", \"eupen\", \"letn\", \"dendermon\", \"hoei\", \"toevertrouwd\", \"bovenvermelde\", \"aanbesteden\", \"ondermijnen\", \"bijgewoonnen\", \"bijeenroeping\", \"afgelegen\", \"adviesorgan\", \"zitpenning\", \"gemeen\", \"andersluiden\", \"wbe\", \"oprichtangen\", \"brengen\", \"_daerod\", \"geleidelijk\", \"afbouwfase\", \"lanceren\", \"gevaarlijk\", \"stof\", \"federatie\", \"vervoort\", \"nytril\", \"vergen\", \"toekomst\", \"schorten\", \"overweging\", \"hervorming\", \"regionaal\", \"materiaal\", \"levering\", \"rug\", \"herbruikbaar\", \"groep\", \"bedekken\", \"gezinsbijslag\", \"bicommunautair\", \"opmaken\", \"overschoenen\", \"haarnetjes\", \"vooral\", \"bes_telbon\", \"aan_kopen\", \"verzaken\", \"iriscaar\", \"persoon\", \"opdracht\", \"artikel\", \"dienst\", \"veilig\", \"gezondheid_bijstand\", \"kader\", \"beschermen\", \"noodzakelijk\", \"hoofdstad\", \"tijdelijk\", \"vennootschap\", \"oprichting\", \"volgen\", \"cov_id\", \"chirurgisch\", \"ordonnantie\", \"masker\", \"houdende\", \"maatregel\", \"op_treden\", \"raad\", \"besluit\", \"overwegende\", \"voorwaarde\", \"jaar\", \"pandemie\", \"waarin\", \"document\", \"nieuw\", \"activiteit\", \"wet\", \"uitzondering\", \"s_tandplaats\", \"directiecomite\", \"eupen\", \"inwoner\", \"standplaats\", \"vestiging\", \"belasting\", \"dendermon\", \"vervier\", \"seraing\", \"invordering\", \"hoei\", \"inning\", \"koninkrijk\", \"toevertrouwd\", \"bovenvermelde\", \"letn\", \"zitpenning\", \"gemeen\", \"adviesorgan\", \"brengen\", \"quorum\", \"bijgewoonnen\", \"veel\", \"uitdrukkelijk\", \"afgelegen\", \"besluitvormings\", \"lijden\", \"besluitlen\", \"neemt\", \"validatie\", \"presentiegelden\", \"_daerod\", \"werkwijs\", \"geldig\", \"waals\", \"oprichtangen\", \"moment\", \"daarin\", \"ondermijnen\", \"beinvloeden\", \"over_wegen\", \"artikel\", \"stemming\", \"present_iegeld\", \"wbe\", \"organ\", \"diamant\", \"persoon\", \"wet\", \"kader\", \"synthetische_diamant\", \"besluit\", \"regering\", \"economie\", \"bedoelen\", \"ordonnantie\", \"betreffen\", \"cov_id\", \"toepassing\", \"reglement\", \"handelaar\", \"onderneming\", \"steun\", \"volgen\", \"jaar\", \"risico\", \"uitvoering\", \"onderwerpen\", \"economisch\", \"situatie\", \"document\", \"bepalen\", \"dienst\", \"raad\", \"bepaling\", \"zelfstandig\", \"vennootschap\", \"maatregel\", \"inning\", \"eupen\", \"letn\", \"s_tandplaats\", \"directiecomite\", \"standplaats\", \"koninkrijk\", \"vestiging\", \"vervier\", \"bovenvermelde\", \"dendermon\", \"inwoner\", \"toevertrouwd\", \"belasting\", \"invordering\", \"seraing\", \"hoei\", \"ondermijnen\", \"bijgewoonnen\", \"bijeenroeping\", \"afgelegen\", \"adviesorgan\", \"zitpenning\", \"gemeen\", \"andersluiden\", \"wbe\", \"oprichtangen\", \"brengen\", \"_daerod\", \"uitdrukkelijk\", \"kader\", \"artikel\", \"massa\", \"onderneming\", \"actour\", \"persoon\", \"verbieden\", \"evenement\", \"steun\", \"cov_id\", \"raad\", \"ordonnantie\", \"regering\", \"besluit\", \"bedoelen\", \"zelfstandig\", \"betreffen\", \"art\", \"aanvrager\", \"toe_kennen\", \"gegeven\", \"advies\", \"mogelijk\", \"volgen\", \"aanwezig\", \"premie\", \"maatregel\", \"waar\", \"dringend\", \"toekenning\", \"waarvan\", \"bepalen\", \"uitzondering\", \"reizen\", \"voorwaarde\", \"economisch\", \"document\", \"toepassing\", \"s_tandplaats\", \"eupen\", \"standplaats\", \"inwoner\", \"vervier\", \"dendermon\", \"vestiging\", \"belasting\", \"directiecomite\", \"invordering\", \"inning\", \"hoei\", \"letn\", \"seraing\", \"bovenvermelde\", \"toevertrouwd\", \"koninkrijk\", \"bijeenroeping\", \"ondermijnen\", \"andersluiden\", \"adviesorgan\", \"afgelegen\", \"bijgewoonnen\", \"validatie\", \"besluitvormings\", \"neemt\", \"besluitvorming\", \"stemming\", \"uitdrukkelijk\", \"plaatsvinden\", \"daarin\", \"brengen\", \"_daerod\", \"werkwijs\", \"wbe\", \"oprichtangen\", \"presentiegelden\", \"moment\", \"Waals\", \"geldig\", \"lijden\", \"ambtenarenzak\", \"organ\", \"fr\", \"beinvloeden\", \"waals\", \"veel\", \"artikel\", \"cov_id\", \"betreffen\", \"besluit\", \"kader\", \"regering\", \"persoon\", \"raad\", \"vergadering\", \"premie\", \"steun\", \"onderneming\", \"nemen\", \"openbaar\", \"brusselse_hoofdstedelijk\", \"werking\", \"ordonnantie\", \"art\", \"bedoelen\", \"overwegende\", \"beslissing\", \"aanvrager\", \"mogelijk\", \"lid\", \"toepassing\", \"stellen\", \"situatie\", \"document\", \"zelfstandig\", \"maatregel\", \"economie\", \"s_tandplaats\", \"eupen\", \"standplaats\", \"inwoner\", \"vervier\", \"dendermon\", \"vestiging\", \"belasting\", \"directiecomite\", \"invordering\", \"inning\", \"hoei\", \"letn\", \"seraing\", \"bovenvermelde\", \"toevertrouwd\", \"koninkrijk\", \"wbe\", \"bijgewoonnen\", \"Waals\", \"_daerod\", \"gemeen\", \"beinvloeden\", \"afgelegen\", \"fr\", \"besluitvorming\", \"daarin\", \"validatie\", \"voorzitten\", \"ondermijnen\", \"werkwijs\", \"present_iegeld\", \"waals\", \"zitpenning\", \"andersluiden\", \"oprichtangen\", \"stemming\", \"adviesorgan\", \"over_wegen\", \"veel\", \"bijeenroeping\", \"lijden\", \"besluitlen\", \"quorum\", \"brengen\", \"geldig\", \"uitdrukkelijk\", \"kader\", \"nader\", \"artikel\", \"besluit\", \"cov_id\", \"actour\", \"regering\", \"verbieden\", \"persoon\", \"enseignement\", \"raad\", \"onderneming\", \"minister\", \"ordonnantie\", \"zelfstandig\", \"betreffen\", \"overwegende\", \"beslissing\", \"document\", \"gelet\", \"toekenning\", \"voorwaarde\", \"nieuw\", \"veref_fening\", \"opschorting\", \"bijzondere_machten\", \"volgen\", \"art\", \"recht\", \"vergadering\", \"brusselse_hoofdstedelijk\", \"steun\", \"subsidie\", \"mogelijk\", \"toe_kennen\", \"maatregel\", \"nemen\", \"aanvrager\", \"vennootschap\", \"s_tandplaats\", \"eupen\", \"standplaats\", \"inwoner\", \"vervier\", \"dendermon\", \"vestiging\", \"belasting\", \"directiecomite\", \"invordering\", \"inning\", \"hoei\", \"letn\", \"seraing\", \"bovenvermelde\", \"toevertrouwd\", \"koninkrijk\", \"ondermijnen\", \"bijgewoonnen\", \"afgelegen\", \"bijeenroeping\", \"adviesorgan\", \"zitpenning\", \"andersluiden\", \"gemeen\", \"wbe\", \"brengen\", \"oprichtangen\", \"uitdrukkelijk\", \"lijden\", \"besluitvorming\", \"sta_rten\", \"toegankelijk\", \"ii\", \"vennootschap\", \"aandeel\", \"beurt\", \"pen\", \"verwijderen\", \"nieuw\", \"scherm\", \"jaar\", \"oprichen\", \"fiscaal\", \"document\", \"deelneming\", \"voorwaarde\", \"maand\", \"inschrijver\", \"recht\", \"kapitaal\", \"beschrijving\", \"munt\", \"startersprivaks\", \"beoogen\", \"kost\", \"onrechtstreeks\", \"volgen\", \"risicokapitaal\", \"inb_rengen\", \"documenteniii\", \"rechtstreeks\", \"verwerven\", \"op_stellen\", \"uit_geven\", \"volstorting\", \"investeren\", \"waarop\", \"verwerving\", \"bedrijf_leider\", \"artikel\", \"bezorgen\", \"investering\", \"onderneming\", \"geval\", \"waarin\", \"berekening\", \"persoon\", \"euro\", \"kader\", \"besluit\", \"verkrijgen\", \"bedoelen\", \"zelfstandig\", \"s_tandplaats\", \"eupen\", \"standplaats\", \"inwoner\", \"vervier\", \"dendermon\", \"vestiging\", \"belasting\", \"directiecomite\", \"invordering\", \"inning\", \"hoei\", \"letn\", \"seraing\", \"bovenvermelde\", \"toevertrouwd\", \"koninkrijk\", \"lijden\", \"gemeen\", \"ondermijnen\", \"plaatsvinden\", \"zitpenning\", \"waals\", \"beinvloeden\", \"neemt\", \"_daerod\", \"present_iegeld\", \"presentiegelden\", \"bijeenroeping\", \"Waals\", \"brengen\", \"uitdrukkelijk\", \"organ\", \"oprichtangen\", \"besluitvorming\", \"andersluiden\", \"afgelegen\", \"veel\", \"voorzitten\", \"besluitvormings\", \"geldig\", \"fr\", \"quorum\", \"moment\", \"besluitlen\", \"daarin\", \"adviesorgan\", \"artikel\", \"besluit\", \"wet\", \"handelaar\", \"nemen\", \"beslissing\", \"cov_id\", \"regering\", \"vergadering\", \"persoon\", \"maatregel\", \"diamant\", \"reglement\", \"brusselse_hoofdstedelijk\", \"dienst\", \"ordonnantie\", \"economie\", \"onderneming\", \"onderwerpen\", \"college\", \"uitvoering\", \"kader\", \"raad\", \"toepassing\", \"bedoelen\", \"gemeente_raad\", \"stellen\", \"lid\", \"belasten\", \"document\", \"overwegende\", \"s_tandplaats\", \"eupen\", \"standplaats\", \"inwoner\", \"vervier\", \"dendermon\", \"vestiging\", \"belasting\", \"directiecomite\", \"invordering\", \"inning\", \"hoei\", \"letn\", \"seraing\", \"bovenvermelde\", \"toevertrouwd\", \"koninkrijk\", \"ondermijnen\", \"bijgewoonnen\", \"bijeenroeping\", \"afgelegen\", \"adviesorgan\", \"zitpenning\", \"gemeen\", \"andersluiden\", \"wbe\", \"oprichtangen\", \"brengen\", \"_daerod\", \"uitdrukkelijk\", \"artikel\", \"cov_id\", \"college\", \"raad\", \"besluit\", \"kader\", \"persoon\", \"regering\", \"maatregel\", \"ordonnantie\", \"onderneming\", \"steun\", \"overwegende\", \"brusselse_hoofdstedelijk\", \"gemeente_raad\", \"betreffen\", \"bedoelen\", \"premie\", \"werking\", \"art\", \"nemen\", \"dienst\", \"toe_kennen\", \"belasten\", \"aanvrager\", \"lid\", \"economie\", \"bepalen\", \"zelfstandig\", \"nodig\", \"wet\", \"voorwaarde\", \"inwoner\", \"s_tandplaats\", \"eupen\", \"directiecomite\", \"vestiging\", \"inning\", \"standplaats\", \"dendermon\", \"vervier\", \"belasting\", \"invordering\", \"toevertrouwd\", \"koninkrijk\", \"seraing\", \"letn\", \"hoei\", \"bovenvermelde\", \"ondermijnen\", \"bijgewoonnen\", \"bijeenroeping\", \"afgelegen\", \"adviesorgan\", \"zitpenning\", \"gemeen\", \"andersluiden\", \"wbe\", \"oprichtangen\", \"brengen\", \"_daerod\", \"uitdrukkelijk\", \"artikel\", \"besluit\", \"kader\", \"ordonnantie\", \"gemeente_raad\", \"cov_id\", \"raad\", \"overwegende\", \"regering\", \"college\", \"persoon\", \"brusselse_hoofdstedelijk\", \"vergadering\", \"onderneming\", \"maatregel\", \"dienst\", \"steun\", \"document\", \"betreffen\", \"nemen\", \"bedoelen\", \"burgemeester\", \"werking\", \"nieuwe_gemeentewet\", \"beslissing\", \"virtueel\", \"gemeente\", \"periode\", \"bepalen\", \"proces_verbaal\", \"minister\", \"zelfstandig\", \"art\", \"premie\", \"openbaar\", \"bepaling\", \"s_tandplaats\", \"eupen\", \"standplaats\", \"inwoner\", \"vervier\", \"dendermon\", \"vestiging\", \"belasting\", \"directiecomite\", \"invordering\", \"inning\", \"hoei\", \"letn\", \"seraing\", \"bovenvermelde\", \"toevertrouwd\", \"koninkrijk\", \"ondermijnen\", \"bijgewoonnen\", \"bijeenroeping\", \"afgelegen\", \"adviesorgan\", \"zitpenning\", \"gemeen\", \"andersluiden\", \"wbe\", \"oprichtangen\", \"brengen\", \"_daerod\", \"uitdrukkelijk\", \"artikel\", \"persoon\", \"ordonnantie\", \"cov_id\", \"kader\", \"gevaccineerden\", \"politie_dienst\", \"onderneming\", \"wet\", \"steun\", \"premie\", \"ouderenzorg\", \"business\", \"betreffen\", \"handelaar\", \"voorwaarde\", \"verplichting\", \"aanwezig\", \"diamant\", \"besluit\", \"maatregel\", \"raad\", \"dienst\", \"economisch\", \"economie\", \"bepalen\", \"volgen\", \"reglement\", \"retroactiviteit\", \"zone\", \"vennootschap\", \"zelfstandig\", \"bedoelen\", \"mogelijk\", \"nemen\", \"synthetische_diamant\", \"risico\", \"regering\", \"document\", \"recht\", \"s_tandplaats\", \"eupen\", \"standplaats\", \"inwoner\", \"vervier\", \"dendermon\", \"vestiging\", \"belasting\", \"directiecomite\", \"invordering\", \"inning\", \"hoei\", \"letn\", \"seraing\", \"bovenvermelde\", \"toevertrouwd\", \"koninkrijk\", \"ondermijnen\", \"bijgewoonnen\", \"bijeenroeping\", \"afgelegen\", \"adviesorgan\", \"zitpenning\", \"gemeen\", \"andersluiden\", \"wbe\", \"oprichtangen\", \"brengen\", \"_daerod\", \"uitdrukkelijk\", \"artikel\", \"kader\", \"regering\", \"gemeente_raad\", \"cov_id\", \"college\", \"besluit\", \"document\", \"vennootschap\", \"persoon\", \"recht\", \"werking\", \"overwegende\", \"vergadering\", \"nemen\", \"brusselse_hoofdstedelijk\", \"ordonnantie\", \"dienst\", \"beslissing\", \"jaar\", \"betreffen\", \"raad\", \"periode\", \"maatregel\", \"burgemeester\", \"onderneming\", \"nieuwe_gemeentewet\", \"volgen\", \"voorwaarde\", \"dringend\", \"bedoelen\", \"toepassing\", \"aandeel\", \"nieuw\", \"s_tandplaats\", \"eupen\", \"standplaats\", \"inwoner\", \"vervier\", \"dendermon\", \"vestiging\", \"belasting\", \"directiecomite\", \"invordering\", \"inning\", \"hoei\", \"letn\", \"seraing\", \"bovenvermelde\", \"toevertrouwd\", \"koninkrijk\", \"ondermijnen\", \"bijgewoonnen\", \"bijeenroeping\", \"afgelegen\", \"adviesorgan\", \"zitpenning\", \"gemeen\", \"andersluiden\", \"wbe\", \"oprichtangen\", \"brengen\", \"_daerod\", \"uitdrukkelijk\", \"reflex\", \"gees\", \"benodigd\", \"mond\", \"artikel\", \"kader\", \"regionaal\", \"expert\", \"cov_id\", \"retroactief\", \"vervoort\", \"straffe\", \"groep\", \"ordonnantie\", \"betreffen\", \"raad\", \"onderneming\", \"overwegende\", \"persoon\", \"besluit\", \"dienst\", \"handgel\", \"overschoenen\", \"mens\", \"levering\", \"gezondheid_zorg\", \"zeker\", \"regering\", \"zelfstandig\", \"bes_telbon\", \"noodzakelijk\", \"steun\", \"maatregel\", \"economisch\", \"premie\", \"nemen\", \"iriscaar\", \"bicommunautair\", \"aanvrager\", \"bedoelen\", \"belasten\", \"grond_gebied\", \"bepalen\", \"beperken\", \"werking\", \"maken\", \"pandemie\", \"dringend\", \"gegeven\", \"gemeente_raad\", \"art\", \"college\", \"s_tandplaats\", \"eupen\", \"standplaats\", \"inwoner\", \"vervier\", \"dendermon\", \"vestiging\", \"belasting\", \"directiecomite\", \"invordering\", \"inning\", \"hoei\", \"letn\", \"seraing\", \"bovenvermelde\", \"toevertrouwd\", \"koninkrijk\", \"ondermijnen\", \"bijgewoonnen\", \"bijeenroeping\", \"afgelegen\", \"adviesorgan\", \"zitpenning\", \"gemeen\", \"andersluiden\", \"wbe\", \"oprichtangen\", \"brengen\", \"_daerod\", \"uitdrukkelijk\", \"vier\", \"inde_xcijfer\", \"aj\", \"indexcijfer\", \"artikel\", \"coefficient\", \"indexeren\", \"wetboek\", \"aanslagjaar_afgekort\", \"jaar\", \"gemiddeld\", \"besluit\", \"aanslagjaar\", \"onderneming\", \"geindexeerde_bedragen\", \"gemiddelde\", \"bedoelen\", \"afgevlakte\", \"deling\", \"vermelde\", \"zelfstandig\", \"zijn\", \"eerste_lid\", \"steun\", \"tabell\", \"bevatten\", \"bedragen\", \"deel\", \"vermenigvuldigen\", \"voor_meld\", \"cov_id\", \"ordonnantie\", \"betreffen\", \"regering\", \"raad\", \"college\", \"economisch\", \"aanvrager\", \"persoon\", \"kader\", \"document\", \"voorwaarde\", \"premie\", \"s_tandplaats\", \"eupen\", \"standplaats\", \"inwoner\", \"vervier\", \"dendermon\", \"vestiging\", \"belasting\", \"directiecomite\", \"invordering\", \"inning\", \"hoei\", \"letn\", \"seraing\", \"bovenvermelde\", \"toevertrouwd\", \"koninkrijk\", \"ondermijnen\", \"bijgewoonnen\", \"bijeenroeping\", \"afgelegen\", \"adviesorgan\", \"zitpenning\", \"gemeen\", \"andersluiden\", \"wbe\", \"oprichtangen\", \"brengen\", \"_daerod\", \"uitdrukkelijk\", \"artikel\", \"vennootschap\", \"kader\", \"recht\", \"onderneming\", \"aandeel\", \"besluit\", \"persoon\", \"betreffen\", \"raad\", \"document\", \"volgen\", \"bedoelen\", \"regering\", \"nieuw\", \"steun\", \"jaar\", \"nemen\", \"voorwaarde\", \"premie\", \"deelneming\", \"zelfstandig\", \"economisch\", \"waarin\", \"toe_kennen\", \"cov_id\", \"situatie\", \"maand\", \"maatregel\", \"wet\", \"ordonnantie\", \"bepaling\"], \"Freq\": [222.0, 102.0, 75.0, 59.0, 89.0, 73.0, 43.0, 56.0, 64.0, 83.0, 39.0, 56.0, 39.0, 38.0, 68.0, 57.0, 54.0, 31.0, 56.0, 32.0, 46.0, 32.0, 53.0, 35.0, 53.0, 48.0, 33.0, 52.0, 26.0, 30.0, 58.93263639556309, 43.203350447191426, 38.364398528422996, 39.29936542582571, 39.2669472187569, 31.435359319083254, 32.45853235739309, 26.57138760789661, 19.666857456369524, 17.701614794462213, 15.746654026587924, 13.791434789783695, 12.805339636411643, 11.830037111678175, 10.85126490002919, 9.85599306576854, 9.859764644394229, 9.874955380344673, 9.855388248472481, 9.855718054827085, 9.857588336004133, 9.860400477961882, 9.853731979569424, 9.853742318326622, 8.88774674282244, 8.877951804253426, 8.877010977348444, 8.885016277046551, 7.896596454118618, 7.8966098945029755, 73.64551498833504, 17.702425353026506, 29.102604855072574, 18.35190194467736, 15.742109108923856, 47.18007069319375, 28.48913608698955, 19.66638600904131, 23.605020341279086, 41.25701737219854, 23.830088882216696, 19.68559748766591, 121.49329156987045, 15.738697319048645, 46.47594756649922, 61.36202515534837, 27.538888506448764, 21.634860566448594, 20.665260900185327, 35.366882654120516, 28.529479985326056, 42.57343064865557, 22.623202331759686, 29.737747793744663, 25.56355521751659, 28.515613644172625, 20.673012900332093, 21.661660692856234, 21.83159470941044, 29.13504377461727, 23.308431190742784, 15.55314227981823, 13.621281960612869, 12.651448585574721, 11.684325924525986, 10.7132448765702, 9.74406225901014, 9.744204508346513, 9.744387970107445, 9.74213591052036, 9.742260212510557, 8.776745500736071, 8.773320881198687, 6.835359129009308, 6.834270323341172, 6.83139210078743, 6.826719808332406, 5.854501430402151, 5.846820630954464, 5.865842823753639, 5.867022695585716, 5.865872071280744, 5.864121207953595, 5.863944393357915, 5.865543701317338, 5.865354921824205, 5.865198713440804, 5.867410225319857, 5.865358245406831, 5.867052607829346, 31.675223410079465, 6.743194188652736, 17.49838600154023, 19.43006950614991, 22.351111769006426, 10.713486168668817, 13.617619372559494, 14.343330286017482, 11.687287901361893, 8.773142737169955, 19.628735992876702, 18.99898754528326, 19.453040779824786, 16.521901472951793, 40.46645308389776, 34.42872919051331, 31.058300003121563, 40.81289801905475, 41.27596613910987, 21.36682213898011, 25.277858629081464, 55.71445990172871, 19.450996111793536, 13.619282493305327, 30.205880825646425, 16.528248186333578, 15.581374120072853, 19.46225640972896, 20.42642241167399, 14.609079964458736, 13.630973527549024, 13.629375549022651, 35.57704554902411, 20.643963246601125, 17.78592014094636, 15.911090390800391, 12.208728802690924, 11.25394290906148, 10.326061977384011, 9.408243521830855, 10.31770518968101, 8.467729368830835, 8.462353125771765, 8.455995806556281, 7.536312899220399, 8.428259033146658, 7.510582379057327, 6.595226112557853, 6.566247049768982, 5.663666145293835, 5.660247305216266, 5.656668684063431, 5.655849763647946, 5.654365936847064, 4.722248601628348, 3.7958372487577865, 3.79530362745971, 3.7935538381046694, 3.78797032065709, 3.7873162698861482, 3.7885778958286447, 3.778031327147206, 33.687652992086136, 45.86941644846968, 10.330493781985455, 14.064502878612126, 35.50369958995575, 29.908200257921166, 18.7455591727133, 30.842182044922613, 15.868319269845848, 11.248728143267435, 23.306800693117673, 8.465988399662539, 9.39034668444921, 19.67553388102887, 12.172103316469983, 19.80766299237359, 10.01925110298094, 10.308629217520338, 8.457349365983697, 20.47497958759289, 15.764393545386746, 14.191997312120623, 7.1147265256466286, 7.112405278836864, 6.3305332365427605, 6.328600751393818, 4.756521566472445, 2.3984196165570952, 2.396872118683919, 8.688484053789805, 1.6117619685434024, 1.6116529831748951, 1.6113774530657685, 1.611466622912729, 1.6111564942739176, 0.8256319481074031, 0.8255621219838574, 0.8254382749741901, 7.90405864000496, 9.473940503759257, 3.1824762414687084, 4.75727801614419, 4.760034575363808, 15.76915430307138, 6.331590064358588, 3.183946049916138, 1.6111472155773203, 2.3998490076312113, 6.335695337171739, 6.335910477119961, 5.544431995792817, 5.549453815110528, 9.503712224020976, 15.952876270082946, 4.773163144718765, 3.979078450510089, 7.168169301790363, 3.1953028600191433, 3.206862543318937, 3.206864115979377, 6.160569545315556, 5.395552757374324, 2.3329348606039146, 5.080180635473363, 1.5688306753779986, 1.5686030351033726, 1.5674985204076537, 1.5667905897778192, 1.4604786258949076, 0.8039672000993014, 0.8035902027947149, 0.8032828118633393, 0.803422279811863, 0.8035457338285114, 0.8033256220158825, 0.803243638340744, 0.803382851087166, 0.8032874055011681, 0.8029883086380945, 0.8034639415549489, 0.8031212689330274, 0.8032389171018643, 0.8030682506964203, 0.802936821614097, 0.8029424998608575, 0.8028906300337076, 0.8032493165875045, 0.8035372483586332, 0.8031271385813642, 0.8030369884389744, 6.921783311538765, 2.5066353638339125, 3.9827498396906167, 7.690972653841135, 4.7889904439114845, 6.224453266600338, 2.2027093113917533, 5.206090717147491, 2.474794563223755, 7.3511480873734, 4.509327731278816, 4.065036950127981, 3.1677864276371075, 1.4500733982074772, 1.4140272497661261, 3.1274374441617527, 3.935469311933741, 1.5669999831021808, 1.4099593282666438, 1.409387547958012, 2.300786031057127, 2.364824149613376, 3.191503890151279, 2.4877498979114097, 2.8853231271414956, 2.7653878370699947, 2.5440081804004238, 2.451744964609467, 1.660513689190971, 1.6246017770550611, 1.5793488299953866, 3.5701144859575407, 2.8634614252053816, 2.156846599610337, 2.1560288030892507, 2.1555260008677104, 2.1556759698518344, 2.1558297029187825, 2.15543685153765, 2.1549954632990405, 2.15489284251466, 9.933033411649387, 1.4485838981765338, 1.448754767725816, 1.448742088709985, 0.7428914214557741, 0.7428224793071942, 0.7425444324522172, 0.7426051530514695, 0.7424880702646569, 0.7425789530539129, 0.7424929734778102, 0.7424238827470135, 0.7423843598773534, 0.7423626173462998, 0.7423107126252425, 0.7422733194340227, 0.7421915992148008, 0.7421505905229732, 0.7421153270101937, 0.7421826347543893, 3.5701370704544892, 3.5711620896405605, 4.276737434047102, 4.276185896858462, 6.398639675479649, 4.988807208093725, 2.8651348571854243, 1.4497026232139791, 7.846769506401742, 1.449606242882703, 1.4494058549996895, 1.4502317740152926, 5.003285455514761, 2.155884579284175, 2.8702488589769275, 7.149391938168301, 2.8701420778904776, 2.8675325779448015, 2.161471666853865, 2.875151477801377, 2.8756661666002583, 2.1564969361268784, 2.165306871033059, 2.1609157712535336, 0.00013330988645164337, 0.00013329276774143517, 0.00013324675952812838, 0.00013320210844961833, 0.0001331612734729129, 0.0001331145665367405, 0.00013302834144772482, 0.00013300901907309422, 0.00013299540741419243, 0.00013295879164863724, 0.00013291137255262098, 0.0001328765707791208, 0.00013289906428060315, 0.0001328682936005586, 0.00013273311760001355, 0.0001327175172683403, 0.0001323229807148608, 0.00016132886148151923, 0.00013152714880787454, 0.00013152714880787454, 0.00013152714880787454, 0.00013152714880787454, 0.00013152714880787454, 0.00013152714880787454, 0.00013152714880787454, 0.00013152714880787454, 0.00013152714880787454, 0.00013152714880787454, 0.00013152714880787454, 0.00013152714880787454, 0.00015190138352780028, 0.00015106888210734607, 0.0001499644162484195, 0.0001493988941475309, 0.00014831526904176987, 0.00014688570893262593, 0.0001466076441060574, 0.0001466130592082661, 0.00014581030725751437, 0.00014544883910734912, 0.00014538219169554957, 0.0001449897378736888, 0.00014468712368797556, 0.00014385702748661655, 0.00026640445876484396, 0.00014290775872573128, 0.00016956140240218938, 0.00014251482117265583, 0.00014159016895580622, 0.00014157412520385284, 0.00020472682084298827, 0.00021163903085018353, 0.00014134978141606952, 0.0001412797210118109, 0.0001412728950268927, 0.00014112551825015533, 0.000141114405869196, 0.00014106669115965966, 0.000140655183702732, 0.00019041373824292955, 0.00029770606069145497, 0.00021410958053330622, 0.00032110494576393446, 0.0002372186971712177, 0.00015403614312607, 0.00015371460967507174, 0.0002519246904503955, 0.00016720639729448286, 0.00020733268089643788, 0.00016658775881882738, 0.00019048873001818224, 0.0002171415809129274, 0.00018789718034650007, 0.0002128842893665366, 0.00021978849093473338, 0.00017354585610652575, 0.00021281726571934788, 0.000163997499097051, 0.00018196115336749542, 0.00019816219858749274, 0.00016915004275202175, 0.0001951934595011684, 0.00020104929459436262, 0.00018879201590875632, 0.00018856024147203646, 0.00019050250292082226, 0.00017856255191204217, 0.00017920493352815127, 0.00018412061013166992, 0.0001817782089095013, 0.0001775478853783286, 0.0001801809015646909, 0.00017637951325115233, 0.00012778188496589856, 0.0001277936128224545, 0.00012777475783311623, 0.00012778120682453307, 0.00012776606166737067, 0.00012777498388023806, 0.00012777201867387528, 0.0001277707155787024, 0.00012776876093594308, 0.00012778481028159278, 0.00012776542341667375, 0.0001277720851583229, 0.0001277633889925773, 0.0001277810871525274, 0.00012777344144105385, 0.0001277601844422032, 0.00012775126222933577, 0.0001307953590376401, 0.00013024339185680763, 0.00013021040227391043, 0.0001300801326472906, 0.00013007949439659366, 0.00013001612142114505, 0.00013006107820460956, 0.00013001786331367208, 0.00012997262729552768, 0.0001299640773955668, 0.0001298327706115645, 0.0001298572634820589, 0.00012969792685495004, 0.00012969791355806054, 0.00012969389789742572, 0.00012966201195635863, 0.0001296168956102199, 0.00012961601801551162, 0.00012960621820793598, 0.0001295554639806411, 0.00012953974705722936, 0.00012953343103470774, 0.00012950506876936322, 0.000129476533644455, 0.00012948400649636478, 0.0004506283945529874, 0.00012945890196895248, 0.00012939489074280695, 0.00012937449331428447, 0.00012937360242268667, 0.0002593745520928903, 0.0002961511157189367, 0.00026626704796273767, 0.0002805092399516614, 0.000226569184303097, 0.0002650550364830605, 0.00024641024437432196, 0.00022595614450870275, 0.00024296853067872433, 0.0002355340535920734, 0.00023433283918668582, 0.0002321514312734992, 0.00020819862724380295, 0.0001929326279494571, 0.00019950633089308112, 0.00021892050762318093, 0.00021237734763478256, 0.0002072447083896939, 0.00020489190357060447, 0.00019235828210356377, 0.00019353881984574898, 0.0001891278027948685, 0.00019306449320281925, 0.00018714419941016984, 0.0002026072586071906, 0.00018659510435747352, 0.00018600981517150587, 0.0001937132218486831, 0.00018597411302314677, 0.00018847766467871562, 0.00019181047684915082, 0.00018928362904314428, 0.00012951446592435556, 0.0001294837329145196, 0.00012951323129372283, 0.00012948024143219267, 0.00012949785815100575, 0.0001294814627872272, 0.0001295149305702926, 0.00012948613579779402, 0.00012947313898715497, 0.00012948314878819873, 0.00012946372658803026, 0.00012946065992484578, 0.0001294723424512629, 0.00012944369371034454, 0.0001294390472509741, 0.00012945127407691748, 0.0001294431228596219, 0.00012925179493834512, 0.00012925179493834512, 0.00012925179493834512, 0.00012925179493834512, 0.00012925179493834512, 0.00012925179493834512, 0.00012925179493834512, 0.00012925179493834512, 0.00012925179493834512, 0.00012925179493834512, 0.00012925179493834512, 0.00012925179493834512, 0.00012925179493834512, 0.00033299830817452636, 0.0003959494424660143, 0.00013342831140806472, 0.00027987756849270846, 0.00013287300641090353, 0.00026357303635702586, 0.00013276064174772795, 0.00013265470247408176, 0.0002444045328701855, 0.00024816590810855304, 0.00022710603014597697, 0.00022504016120748361, 0.000223512617776052, 0.00023580478621377382, 0.00021986210705826335, 0.00020786854665088284, 0.00020447787921668776, 0.00019403760362565113, 0.00018951584194910914, 0.00018609606112805866, 0.00018250114861553696, 0.00018160529797331664, 0.00018044625859675606, 0.0001905112728534372, 0.00017118082034413954, 0.0001848792330725279, 0.000186563720625895, 0.00016156141481668242, 0.00017441673413010235, 0.0001690142825444859, 0.00017571449023226807, 0.00017660699542374167, 0.0001687040716413167, 0.00016182983413671402, 0.00017833202665401546, 0.00017275218652523357, 0.00017377383673600915, 0.0001723893245995981, 0.00012843725316138033, 0.00012843725316138033, 0.00012843725316138033, 0.00012843725316138033, 0.00012843725316138033, 0.00012843725316138033, 0.00012843725316138033, 0.00012843725316138033, 0.00012843725316138033, 0.00012843725316138033, 0.00012843725316138033, 0.00012843725316138033, 0.00012843725316138033, 0.00012843725316138033, 0.00012843725316138033, 0.00012843725316138033, 0.00012843725316138033, 0.0001326086430361379, 0.00013227850158189594, 0.00013220436192683783, 0.0001317161040319857, 0.00013169988393030337, 0.00013165184090847828, 0.00013158118168009696, 0.00013153907508415077, 0.00013148811638412854, 0.00013148355899523479, 0.00013150193302135106, 0.000131369571738149, 0.00013138162846150478, 0.0001312576990044404, 0.00013123858949193207, 0.0001312397846573192, 0.0001312074495234391, 0.00013119187297234983, 0.00013118845821410093, 0.00013118429483577438, 0.00013115850027730952, 0.00013108220669781747, 0.00013096217794536822, 0.00013090429779304916, 0.00013087616543855236, 0.00013085892090939534, 0.00013083055214855823, 0.00013078030266755692, 0.00013077171323719236, 0.0001307430292679015, 0.0003357434702187583, 0.000247887387959047, 0.00023389880452500758, 0.00024772797128356513, 0.0002384389620232765, 0.00022752507945129977, 0.00023519945967464704, 0.00022200837989595545, 0.0001992149999213231, 0.00020463166019365987, 0.00021123743122406684, 0.0002161127735118376, 0.0002056817114888859, 0.00018696123188090115, 0.00019036510230447342, 0.0001843098822395901, 0.0001950569407374219, 0.00018768522629809836, 0.00019684046897082866, 0.00018271701571964276, 0.0001777893882296069, 0.00018014681912148565, 0.00017328507255926601, 0.00017307809880832522, 0.00017844230314048449, 0.00017450037188636826, 0.0001705075344669721, 0.00017998490704574494, 0.00017701130929522117, 0.00017708517314288225, 0.0001725327487822884, 0.00012973185610550827, 0.00012973185610550827, 0.00012973185610550827, 0.00012973185610550827, 0.00012973185610550827, 0.00012973185610550827, 0.00012973185610550827, 0.00012973185610550827, 0.00012973185610550827, 0.00012973185610550827, 0.00012973185610550827, 0.00012973185610550827, 0.00012973185610550827, 0.00012973185610550827, 0.00012973185610550827, 0.00012973185610550827, 0.00012973185610550827, 0.00013268958477231295, 0.00013225961174355422, 0.0001322347323881497, 0.00013216486012985798, 0.00013213728934022764, 0.00013215180995609962, 0.00013207245859775404, 0.00013212224356645794, 0.00013205594238187074, 0.00013206815230299272, 0.00013202833220539808, 0.0001320259033501211, 0.0001319107756099933, 0.00013192794827324877, 0.00013192605770481698, 0.00013191565957844213, 0.00013186536258078793, 0.00013186832972291005, 0.0001318621459886644, 0.00013185144589649832, 0.00013179996729357428, 0.00013178225634347365, 0.00013175823036965293, 0.00013171550877467335, 0.00013169055064558418, 0.00013169139089822053, 0.00013166768001913846, 0.00013164561025848673, 0.00013159183408976014, 0.00013158211866865234, 0.00024737523385286067, 0.000134698248086357, 0.0002776565734564867, 0.00023215773345061115, 0.00022245990513235385, 0.00013424624468378888, 0.0002095529419327056, 0.00013423227548370952, 0.00020917984350427002, 0.0001339944708586742, 0.00019436155500692021, 0.00019725529318388767, 0.00018062173076832943, 0.0001862003124394985, 0.00018032376930611022, 0.00018066657925279477, 0.0001746550705396923, 0.0001705070714977039, 0.00017786937822637582, 0.00016586994038977852, 0.00016301196546564584, 0.0001735727069835427, 0.00017058006844548705, 0.00013960169989316393, 0.00013953185389276707, 0.00015151653479243845, 0.00017433591895630004, 0.00017002433322917167, 0.00017168295254649005, 0.00016480132284160177, 0.00016711793874686916, 0.0001721563298754954, 0.00015520085879758188, 0.000162263733621921, 0.0001615063640307758, 0.0001648979912816247, 0.00016451045101100177, 0.00016053813041474836, 0.00016313322442422954, 0.00012957826432898813, 0.00012957826432898813, 0.00012957826432898813, 0.00012957826432898813, 0.00012957826432898813, 0.00012957826432898813, 0.00012957826432898813, 0.00012957826432898813, 0.00012957826432898813, 0.00012957826432898813, 0.00012957826432898813, 0.00012957826432898813, 0.00012957826432898813, 0.00012957826432898813, 0.00012957826432898813, 0.00012957826432898813, 0.00012957826432898813, 0.00012959338313756343, 0.00012959141795447306, 0.00012959665844271406, 0.00012959232193869463, 0.00012959149656179667, 0.00012959149656179667, 0.00012959245295090065, 0.0001295906318812369, 0.00012959512559990356, 0.00012959302940460714, 0.0001295886273944847, 0.00012959523040966838, 0.00012959706458055272, 0.00012959485047427092, 0.00014044744307867358, 0.00013527990243398223, 0.00013502014453309615, 0.000327379195964926, 0.0002954390227921412, 0.00013430493579918423, 0.0001342567364085876, 0.00013400224519838371, 0.00026771249039197857, 0.00013393155101201255, 0.0002684743263700148, 0.0001335323044153715, 0.0001335042547020615, 0.00025506017001218775, 0.00020297417131159135, 0.00022424772370642623, 0.00020530444611649898, 0.00019300698539794788, 0.00021512525209235053, 0.00017976353794457159, 0.00013344364845555427, 0.00013340747598547073, 0.0001332579779571754, 0.00013322436022510935, 0.00013321594924148254, 0.00017179424886914989, 0.00020934857019574524, 0.00013315656140849133, 0.00013313119744540487, 0.00013312337601670518, 0.0001733469662312982, 0.00017015101517385878, 0.0001662857620594987, 0.00016566619223598513, 0.00016348423634951858, 0.00016482471393790616, 0.00017441575070683082, 0.0001671406560074746, 0.0001698098593893693, 0.0002252922840250648, 0.00017259765502015793, 0.00017052957494316848, 0.00019268920219101327, 0.00017322778442747713, 0.0001746600229649647, 0.0001564577242098745, 0.0001897378378210022, 0.00016797331718408808, 0.00018319844216458026, 0.00017764846378928088, 0.00016835813933684576, 0.00017080126805602344, 0.0001674687891786852, 0.00012850093689655885, 0.00012850093689655885, 0.00012850093689655885, 0.00012850093689655885, 0.00012850093689655885, 0.00012850093689655885, 0.00012850093689655885, 0.00012850093689655885, 0.00012850093689655885, 0.00012850093689655885, 0.00012850093689655885, 0.00012850093689655885, 0.00012850093689655885, 0.00012850093689655885, 0.00012850093689655885, 0.00012850093689655885, 0.00012850093689655885, 0.0001305105227113104, 0.00013044996485404468, 0.00013041994494105455, 0.00013046380924014756, 0.00013029130482210236, 0.00013028506254511305, 0.00013020981850090564, 0.00013020602392173995, 0.00013019325445055431, 0.00013021077685878367, 0.0001301899649518919, 0.00013011737581802228, 0.00013016840189963624, 0.00013013602494429743, 0.0001301375790381537, 0.00013014203410720832, 0.00013012914807898347, 0.00013009429752425676, 0.0001300817352655853, 0.0001300636818752884, 0.0001300643423651773, 0.00013005240174404834, 0.00013002152707943725, 0.00013002144937474444, 0.00013001796561435, 0.00012998035654302842, 0.00012993527487041465, 0.00012993614257281774, 0.00012988471501695757, 0.00012986374770068015, 0.0002889292556808775, 0.0002228256144890883, 0.00019724497059935673, 0.00018250009071303324, 0.0001889508752947382, 0.00017839970472875827, 0.00019415694725461575, 0.00019174070688080872, 0.00017664518456816589, 0.00019466007218979875, 0.0001816328415873278, 0.00017771153901842288, 0.0001668383472546431, 0.0001706691886103314, 0.0001707404308628589, 0.0001729124842395006, 0.000168535676761325, 0.00017553856613624955, 0.00016329670981482324, 0.00016355383464334195, 0.0001641614982919229, 0.00017358968063736722, 0.00016871773885658621, 0.00016526578558305485, 0.00016982124910079003, 0.00015856808138915395, 0.000161602022267697, 0.00016028418952993237, 0.00015867745074428846, 0.00016472957139951558, 0.00016062030117869566, 0.00012788408974921493, 0.00012788408974921493, 0.00012788408974921493, 0.00012788408974921493, 0.00012788408974921493, 0.00012788408974921493, 0.00012788408974921493, 0.00012788408974921493, 0.00012788408974921493, 0.00012788408974921493, 0.00012788408974921493, 0.00012788408974921493, 0.00012788408974921493, 0.00012788408974921493, 0.00012788408974921493, 0.00012788408974921493, 0.00012788408974921493, 0.00012788408974921493, 0.00012788408974921493, 0.00012788408974921493, 0.00012788408974921493, 0.00012788408974921493, 0.00012788408974921493, 0.00012788408974921493, 0.00012788408974921493, 0.00012788408974921493, 0.00012788408974921493, 0.00012788408974921493, 0.00012788408974921493, 0.00012788408974921493, 0.0002715875072675844, 0.00023073270033038067, 0.00018931014563240185, 0.00020066438918996913, 0.00021057764188363016, 0.0002069039859911962, 0.00020342016161793656, 0.0001978433253813355, 0.00019066073006017753, 0.00019258681285059495, 0.00019818564578698446, 0.0001869742643249256, 0.00017879939787631064, 0.0001739634493062901, 0.0001677723099407735, 0.00017816339565001553, 0.0001805062641444834, 0.0001697860819279358, 0.00016523420132683037, 0.00016829235074147797, 0.0001692027165103109, 0.0001638093845068862, 0.00016186544557193465, 0.00016009749317452587, 0.00016126005757605098, 0.00016038404547659353, 0.0001621905826732783, 0.0001605304141048329, 0.00016284317299906093, 0.00015523684360456641, 0.0001643848052341169, 0.00016069974987549846, 0.0001283281241149392, 0.00012829158742778482, 0.0001282909414467531, 0.00012830473960159076, 0.00012830181976732736, 0.00012829984306537027, 0.0001282863679010485, 0.0001282940938341879, 0.0001282814196863455, 0.00012828220778320418, 0.00012828020524200583, 0.0001283014580179496, 0.0001283012383843988, 0.0001282774921216726, 0.00012826583862386026, 0.0001282580997711002, 0.00012826508928586347, 0.00012818518143223909, 0.00012818518143223909, 0.00012818518143223909, 0.00012818518143223909, 0.00012818518143223909, 0.00012818518143223909, 0.00012818518143223909, 0.00012818518143223909, 0.00012818518143223909, 0.00012818518143223909, 0.00012818518143223909, 0.00012818518143223909, 0.00012818518143223909, 0.0002710479304394724, 0.0002313206137732128, 0.00020888348328627646, 0.00019735875533282227, 0.00017951402027700436, 0.00019791404062769304, 0.0001905870007753527, 0.00018172188008647522, 0.00019063630204769393, 0.00017671228426582752, 0.00018378156476688898, 0.0001711730744365098, 0.00016723240926829865, 0.0001794356886170974, 0.0001729420547330267, 0.00016972487540072687, 0.0001756086902712286, 0.00017278265245363825, 0.0001729711238794543, 0.00017067826588582912, 0.00017467062245619887, 0.00015607678195675147, 0.00016074190193242151, 0.00015343971943018194, 0.00015940477287523338, 0.00015012128903096954, 0.00015176912204479674, 0.00015462483623098454, 0.0001607390983747438, 0.00015207402509177093, 0.0001604519339669008, 0.00016141581518395824, 0.0001601930506086267, 0.00015965603365733312, 0.0001567120784622117, 0.00015610122587899193, 0.00012766925475820085, 0.00012766925475820085, 0.00012766925475820085, 0.00012766925475820085, 0.00012766925475820085, 0.00012766925475820085, 0.00012766925475820085, 0.00012766925475820085, 0.00012766925475820085, 0.00012766925475820085, 0.00012766925475820085, 0.00012766925475820085, 0.00012766925475820085, 0.00012766925475820085, 0.00012766925475820085, 0.00012766925475820085, 0.00012766925475820085, 0.00012766925475820085, 0.00012766925475820085, 0.00012766925475820085, 0.00012766925475820085, 0.00012766925475820085, 0.00012766925475820085, 0.00012766925475820085, 0.00012766925475820085, 0.00012766925475820085, 0.00012766925475820085, 0.00012766925475820085, 0.00012766925475820085, 0.00012766925475820085, 0.00028058772037245234, 0.00021563672116791036, 0.00020648715600685483, 0.00019271223112367195, 0.00019578863933758617, 0.00012986852057594986, 0.00012977945229248646, 0.00018636992578411693, 0.00018106131450716718, 0.00017995433217779305, 0.0001717812746077492, 0.00012969268794294503, 0.00012967267332144423, 0.00017515064282165043, 0.00016708417115556042, 0.0001675641359374029, 0.00015822721847373275, 0.00015595460003351875, 0.00016506207656929604, 0.00017479246475919101, 0.0001658693801640057, 0.0001660763738250835, 0.00016139896321591479, 0.0001606030891928403, 0.00016195067172781867, 0.000160147322152748, 0.00016375165301327126, 0.00015501715635006654, 0.0001295355828175181, 0.00012952496412765434, 0.00016202896686774755, 0.00016023021228938155, 0.00016325975668536366, 0.00015523193705037775, 0.00015967307215672313, 0.00015450637806091027, 0.00015549933496785637, 0.00015961353026665062, 0.00015857926987391927, 0.00015754950150877878, 0.00012700065541327367, 0.00012700065541327367, 0.00012700065541327367, 0.00012700065541327367, 0.00012700065541327367, 0.00012700065541327367, 0.00012700065541327367, 0.00012700065541327367, 0.00012700065541327367, 0.00012700065541327367, 0.00012700065541327367, 0.00012700065541327367, 0.00012700065541327367, 0.00012700065541327367, 0.00012700065541327367, 0.00012700065541327367, 0.00012700065541327367, 0.00012700065541327367, 0.00012700065541327367, 0.00012700065541327367, 0.00012700065541327367, 0.00012700065541327367, 0.00012700065541327367, 0.00012700065541327367, 0.00012700065541327367, 0.00012700065541327367, 0.00012700065541327367, 0.00012700065541327367, 0.00012700065541327367, 0.00012700065541327367, 0.000246783880994484, 0.0001959822751756473, 0.00018992887427951233, 0.00017300806473008451, 0.00018193876732532592, 0.00016662638484717657, 0.00018089261344883417, 0.00016679842593943074, 0.00016600558129040705, 0.0001693322689296239, 0.00016266908345356225, 0.00015820845911887124, 0.00015952819154166554, 0.00015658938206651024, 0.00016186726839036514, 0.0001578903338775031, 0.00016118794719560458, 0.00015715305490038788, 0.00015480622914072143, 0.00015996186335198273, 0.00016034387575585425, 0.00015807282136697204, 0.00014888725721727084, 0.00015629141162805095, 0.00014694524525466572, 0.00015863570531336206, 0.0001454866304620797, 0.00015541449956563158, 0.00015276733670504307, 0.00014845936209920152, 0.00015450801694641918, 0.00015108399077042666, 0.0001500068794220427, 0.00014895477071741878, 0.00012697252441699598, 0.00012697252441699598, 0.00012697252441699598, 0.00012697252441699598, 0.00012697252441699598, 0.00012697252441699598, 0.00012697252441699598, 0.00012697252441699598, 0.00012697252441699598, 0.00012697252441699598, 0.00012697252441699598, 0.00012697252441699598, 0.00012697252441699598, 0.00012697252441699598, 0.00012697252441699598, 0.00012697252441699598, 0.00012697252441699598, 0.00012697252441699598, 0.00012697252441699598, 0.00012697252441699598, 0.00012697252441699598, 0.00012697252441699598, 0.00012697252441699598, 0.00012697252441699598, 0.00012697252441699598, 0.00012697252441699598, 0.00012697252441699598, 0.00012697252441699598, 0.00012697252441699598, 0.00012697252441699598, 0.00012973374698813905, 0.00012964753813556382, 0.000129547502855823, 0.00012954600467546894, 0.00022124614532019989, 0.00020186704277991548, 0.00012944716286143388, 0.00012931222505802156, 0.00019208158892244974, 0.00012927710669480757, 0.00012917165003361613, 0.00012917823948788512, 0.0001291468665755562, 0.00018133213218582644, 0.0001773143171909609, 0.00017503853044741158, 0.00017612881215539286, 0.00016718702428390227, 0.00017697872479165773, 0.00017929698113931076, 0.00016417097139169332, 0.0001291630291483586, 0.0001291329131839538, 0.0001291356556157883, 0.00012910274643377433, 0.00012909316061879725, 0.00012908936438213746, 0.0001686175072002419, 0.00016145551950001033, 0.00012906954523355573, 0.00015322927780133785, 0.00015985044778665125, 0.00015795414504820074, 0.0001544374205959842, 0.00015512518695003433, 0.00015656135787314181, 0.00014093637788896966, 0.00014067483114919797, 0.00015252438394476578, 0.0001567000411274392, 0.0001496188535947759, 0.00014533536551594324, 0.00015057857777241385, 0.0001473279453868058, 0.0001488115883128262, 0.0001484439373932355, 0.00014649202423147432, 0.00014741665543878564, 0.00014819117659248916, 0.00014725854662566055, 0.00014793213105212207, 0.0001475054670623149, 0.00012749755229631585, 0.00012749755229631585, 0.00012749755229631585, 0.00012749755229631585, 0.00012749755229631585, 0.00012749755229631585, 0.00012749755229631585, 0.00012749755229631585, 0.00012749755229631585, 0.00012749755229631585, 0.00012749755229631585, 0.00012749755229631585, 0.00012749755229631585, 0.00012749755229631585, 0.00012749755229631585, 0.00012749755229631585, 0.00012749755229631585, 0.00012749755229631585, 0.00012749755229631585, 0.00012749755229631585, 0.00012749755229631585, 0.00012749755229631585, 0.00012749755229631585, 0.00012749755229631585, 0.00012749755229631585, 0.00012749755229631585, 0.00012749755229631585, 0.00012749755229631585, 0.00012749755229631585, 0.00012749755229631585, 0.00012969169232359006, 0.00012945525153839236, 0.00012923420542160287, 0.0001950416916658034, 0.0002207754346066344, 0.0001679874973769142, 0.00016102856152619944, 0.00017000562037520792, 0.0001500059154889258, 0.00017176939502266177, 0.00015641456491959833, 0.00017855543592883825, 0.00015114400410791768, 0.00017022359517315588, 0.00014516431131164647, 0.0001457877382708779, 0.00016577050013793086, 0.00013295128808667381, 0.00013248302618594092, 0.00014837029860040524, 0.0001569046052630258, 0.000145728075998671, 0.0001498391758734708, 0.00015856382815586563, 0.0001352535334606101, 0.00014487476970813064, 0.0001466125650594331, 0.00013835057777029548, 0.00013914959025090155, 0.00013193903470038381, 0.00015854812889385333, 0.00015633531981692662, 0.0001541332984301458, 0.00015445612957631187, 0.00015350680015207286, 0.00014951506289588739, 0.00014946566796641934, 0.0001489961242342691, 0.00015294283240264558, 0.00015207309074888293, 0.00014881397725900568, 0.0001470690239580064, 0.00014683317966861676, 0.0001251956121649819, 0.0001251956121649819, 0.0001251956121649819, 0.0001251956121649819, 0.0001251956121649819, 0.0001251956121649819, 0.0001251956121649819, 0.0001251956121649819, 0.0001251956121649819, 0.0001251956121649819, 0.0001251956121649819, 0.0001251956121649819, 0.0001251956121649819, 0.0001251956121649819, 0.0001251956121649819, 0.0001251956121649819, 0.0001251956121649819, 0.0001251956121649819, 0.0001251956121649819, 0.0001251956121649819, 0.0001251956121649819, 0.0001251956121649819, 0.0001251956121649819, 0.0001251956121649819, 0.0001251956121649819, 0.0001251956121649819, 0.0001251956121649819, 0.0001251956121649819, 0.0001251956121649819, 0.0001251956121649819, 0.00018394210221910943, 0.0001592763023258158, 0.00016212069650082135, 0.00015538709386200532, 0.00015769260240731145, 0.0001512083091190385, 0.00015751186742485432, 0.0001554029694000847, 0.00015212723797433395, 0.00015132206101678807, 0.00015040681200430506, 0.00014973264242364276, 0.00015113104485187857, 0.0001502253808353699, 0.0001454657652274024, 0.00014814681665000013, 0.0001471874343875706, 0.00014605877935576863, 0.00014494990347908352, 0.00014431213450570108, 0.0001410286331415795, 0.00014360294425881358, 0.0001422850259601986, 0.00014085875120903877, 0.00014113007745694957, 0.00014435579534339467, 0.00013964754835198466, 0.0001398452404479424, 0.0001416153194321365, 0.00014186058841472675, 0.00014096131439553426, 0.00013995755024513032], \"Total\": [222.0, 102.0, 75.0, 59.0, 89.0, 73.0, 43.0, 56.0, 64.0, 83.0, 39.0, 56.0, 39.0, 38.0, 68.0, 57.0, 54.0, 31.0, 56.0, 32.0, 46.0, 32.0, 53.0, 35.0, 53.0, 48.0, 33.0, 52.0, 26.0, 30.0, 59.24999122260455, 43.50738382210266, 38.648378402583695, 39.59695308991203, 39.56913406009057, 31.703453673436538, 32.747722688178975, 26.83593342111946, 19.920722139149923, 17.950883888381885, 15.988686879504534, 14.037115202513924, 13.04638434018931, 12.072650687345163, 11.087277906020342, 10.08611533074924, 10.090123198974581, 10.106865666301182, 10.08772759881033, 10.088387142168749, 10.0906213757364, 10.095178137176356, 10.089722943450315, 10.089984565025325, 9.115771193827388, 9.107782605325204, 9.107372102308837, 9.117748418798037, 8.122201171053947, 8.123333673326163, 75.87625351162767, 18.925465545331477, 32.68575813528064, 19.909273269276007, 16.955933508698294, 57.755272499870365, 33.49777439004257, 22.515950234587365, 28.625381789156542, 56.22242406675945, 29.535571364392187, 23.420589035790993, 222.57341891192078, 17.92744220875893, 68.88284344191662, 102.4008578125948, 37.181183015410234, 27.310668393524875, 25.692128150569896, 56.7989724811987, 43.57970208311858, 89.29564254840727, 30.64624251379032, 73.63940757718524, 56.869287956293526, 83.67143446330311, 30.67347466278162, 48.93456170881374, 64.59822498032705, 29.406711551098596, 23.570701978019727, 15.808031916606136, 13.862426196040504, 12.881528627270104, 11.921712657805228, 10.939836358342559, 9.970843325652101, 9.975909584856556, 9.976198315456031, 9.974882198552132, 9.976884128158352, 9.007432143254821, 9.005058993011547, 7.056467265915671, 7.0559989367384786, 7.05343769847616, 7.0493588411859385, 6.073077478915339, 6.06543085098571, 6.085719070933248, 6.087352342550541, 6.086190648885477, 6.084391166385935, 6.085018814144265, 6.086769563846737, 6.086818506121302, 6.088890917934091, 6.09205408277723, 6.090006634056046, 6.091816257965025, 36.09130259110997, 7.05625703817856, 19.70736813135086, 23.609364744182066, 28.999848468988006, 12.36863317602867, 16.57903368987498, 17.740806625622547, 14.045313527584458, 9.980415091423755, 27.066130321527993, 26.28220541228518, 27.35938553713326, 22.653938747642588, 73.63940757718524, 64.59822498032705, 56.869287956293526, 83.67143446330311, 89.29564254840727, 35.96733418313923, 46.935114235621334, 222.57341891192078, 35.42483694852475, 19.706964050683897, 102.4008578125948, 29.743912159873688, 27.740628420760576, 48.93456170881374, 56.7989724811987, 52.183673870400725, 34.148499888980716, 26.89748741258261, 36.057628288491784, 20.994477113220874, 18.158697139168734, 16.276274954195028, 12.514203709835824, 11.562498387567226, 10.620597159578816, 9.680753771737841, 10.619822113907095, 8.742712368397399, 8.739607983869442, 8.738702321540368, 7.798812901978308, 8.731200982935531, 7.797630748539178, 6.857183806634548, 6.849876215219883, 5.915641563953102, 5.916012921434689, 5.914685756250905, 5.915969778228735, 5.914830356764871, 4.9726559181729515, 4.030732199042784, 4.030832908428704, 4.030620813452043, 4.02823382896407, 4.027592401943222, 4.029169747711365, 4.028624895945923, 37.084871966189645, 54.28320103064926, 11.60432967158944, 16.35606818381787, 53.32379791444694, 45.79012767937495, 28.15085463959871, 53.610354293167056, 25.07242954796351, 15.47422413883548, 44.419545053361084, 10.71073534143696, 12.612444086345706, 52.183673870400725, 21.847157859974498, 222.57341891192078, 22.352294574406933, 83.67143446330311, 12.65028369516248, 20.70070185779716, 15.98823051420573, 14.41630759593239, 7.337142638484431, 7.335752357175663, 6.552904726692173, 6.550987948351378, 4.978867347894159, 2.620330570244755, 2.61887130201053, 9.85405375397135, 1.833423540864778, 1.8333049214720347, 1.833034039273271, 1.8332745377266626, 1.8329808599587623, 1.0471855403184498, 1.0470996372637342, 1.046974796791631, 10.091015204664826, 12.522914792678188, 4.375267668892203, 6.634146813215191, 6.945787717456591, 25.493262995088404, 10.4597467721659, 5.373645861926606, 2.8032627042444243, 4.585722694359407, 13.309227482575317, 14.259235562383845, 12.51972286127309, 18.960719793176896, 53.32379791444694, 222.57341891192078, 20.455975678719405, 13.780924002184832, 68.88284344191662, 19.889764893757356, 28.15085463959871, 29.743912159873688, 6.3993042951563, 5.630555147485727, 2.5605716454601746, 5.704675712712777, 1.794976792746885, 1.794977439684152, 1.7940320702033756, 1.7942695067578944, 1.8193300751015635, 1.0278800831531676, 1.0275549367052315, 1.027292716332428, 1.0276394464137457, 1.0278405441654335, 1.027621158184745, 1.0275577104141713, 1.0278323040188928, 1.0277107529851874, 1.0273337634568036, 1.0279686877337912, 1.0275324376327206, 1.0276929436555904, 1.0274895243112654, 1.0274117160129919, 1.0274201158201082, 1.027363603775557, 1.027833741630416, 1.0282085259251068, 1.0277305126506393, 1.0276479981844737, 9.108070397615698, 3.4683800427579903, 6.9819213371232705, 27.35938553713326, 17.563919688757434, 27.740628420760576, 5.501334240878203, 27.066130321527993, 7.407050863064509, 64.59822498032705, 35.24589654593403, 36.09130259110997, 20.876695950520045, 3.787908954827846, 3.7756378625957505, 25.700929479601974, 48.93456170881374, 5.731477657502082, 4.760097593011866, 4.759843263541868, 19.22496711468506, 23.075115609942053, 83.67143446330311, 37.88628177037996, 73.63940757718524, 89.29564254840727, 102.4008578125948, 222.57341891192078, 21.847157859974498, 26.89748741258261, 56.22242406675945, 3.8218034302859505, 3.109162075795792, 2.396735124453247, 2.3961905187123063, 2.396635385275168, 2.3972100847233557, 2.3976260454074687, 2.3974717732489377, 2.397275365708431, 2.397826133558305, 11.173038578296207, 1.6851185078122597, 1.6854137023748017, 1.68541660637887, 0.9726928009132955, 0.9729488848719863, 0.9726884689985933, 0.972819992371053, 0.9727473239259053, 0.9728921935188382, 0.9728360301173499, 0.9728035826520934, 0.9728086768732328, 0.9728357910885983, 0.9729183479615889, 0.9729309157858236, 0.9728279058781675, 0.9728389362027652, 0.9728218887414422, 0.97301739968423, 5.760726243336598, 5.7646200173702695, 7.242422414113884, 8.46691838507239, 15.472671393737231, 16.720070346156064, 8.01052683360101, 3.5979867099735148, 102.4008578125948, 3.6268407003398364, 3.6404066606394974, 3.6505888250290925, 52.183673870400725, 10.238602843082827, 20.66801802542768, 222.57341891192078, 25.692128150569896, 25.700929479601974, 13.809386851578143, 37.181183015410234, 68.88284344191662, 14.045313527584458, 30.67347466278162, 37.88628177037996, 0.9728218887414422, 0.9728279058781675, 0.9726884689985933, 0.9728389362027652, 0.9727473239259053, 0.9728086768732328, 0.9728035826520934, 0.9728357910885983, 0.9730190894899046, 0.9728360301173499, 0.9729309157858236, 0.9726928009132955, 0.9729183479615889, 0.972819992371053, 0.9728921935188382, 0.97301739968423, 0.9729488848719863, 1.222033427356096, 1.0272784542228024, 1.027292716332428, 1.0273337634568036, 1.027363603775557, 1.0274117160129919, 1.0274201158201082, 1.0274895243112654, 1.0275030450595433, 1.0275324376327206, 1.0275549367052315, 1.0275577104141713, 1.027607710876039, 1.2254483676201038, 1.2261491780346716, 1.2266908145920505, 1.2268164394448082, 1.2270009852203696, 1.227706004741007, 1.2277397069875426, 1.2278761105983833, 1.2282048525561717, 1.2284011873316274, 1.2285478964348098, 1.228390357487263, 1.2283141556735444, 1.2281787571082767, 8.987686252401433, 1.2292858880291058, 2.192800641985713, 1.2293779425926348, 1.2293880940412114, 1.2299184825260912, 5.097551743462337, 6.06543085098571, 1.2294126684058755, 1.2294653642637385, 1.2297571034027026, 1.2299323037357481, 1.2298184194461392, 1.2300423134142506, 1.2299462661709706, 6.073077478915339, 83.67143446330311, 12.917451060983579, 222.57341891192078, 35.96733418313923, 2.1971946855563464, 2.1978009429770675, 89.29564254840727, 4.1374240625334116, 22.653938747642588, 4.136281652806594, 13.885183596045009, 54.28320103064926, 13.809386851578143, 52.183673870400725, 73.63940757718524, 7.0493588411859385, 56.869287956293526, 4.139163470644029, 15.906755422382018, 46.935114235621334, 6.792288837002145, 56.7989724811987, 102.4008578125948, 36.09130259110997, 44.419545053361084, 53.32379791444694, 19.70736813135086, 25.07242954796351, 53.610354293167056, 37.084871966189645, 23.589997898121517, 57.755272499870365, 20.35090821606038, 0.9726884689985933, 0.9728357910885983, 0.9726928009132955, 0.9728035826520934, 0.9727473239259053, 0.9728218887414422, 0.9728279058781675, 0.972819992371053, 0.9728086768732328, 0.9729309157858236, 0.9728360301173499, 0.9728921935188382, 0.9728389362027652, 0.9730190894899046, 0.97301739968423, 0.9729488848719863, 0.9729183479615889, 1.0274201158201082, 1.0274895243112654, 1.0274117160129919, 1.0275577104141713, 1.0277801231848849, 1.027292716332428, 1.0277958257719475, 1.0276145082299912, 1.027363603775557, 1.0276929436555904, 1.027642102107507, 1.0279377929926923, 1.0276394464137457, 1.0276479981844737, 1.0277317266732051, 1.027607710876039, 1.0277305126506393, 1.027881722727722, 1.0277107529851874, 1.0275549367052315, 1.0278405441654335, 1.0277744388151424, 1.0272784542228024, 1.027621158184745, 1.0278800831531676, 222.57341891192078, 1.0278411070424227, 1.027833741630416, 1.0275324376327206, 1.0279686877337912, 38.648378402583695, 83.67143446330311, 57.755272499870365, 89.29564254840727, 26.83593342111946, 102.4008578125948, 64.59822498032705, 39.59695308991203, 68.88284344191662, 56.869287956293526, 56.22242406675945, 73.63940757718524, 43.57970208311858, 23.420589035790993, 32.747722688178975, 75.87625351162767, 59.24999122260455, 52.183673870400725, 53.32379791444694, 30.64624251379032, 32.68575813528064, 26.739542375481765, 33.49777439004257, 25.60325036917683, 53.610354293167056, 34.148499888980716, 35.96733418313923, 56.7989724811987, 37.181183015410234, 43.50738382210266, 54.28320103064926, 46.935114235621334, 0.9728389362027652, 0.9726928009132955, 0.9729183479615889, 0.9726884689985933, 0.9728357910885983, 0.9727473239259053, 0.9730190894899046, 0.9728218887414422, 0.9728086768732328, 0.9729488848719863, 0.972819992371053, 0.9728035826520934, 0.97301739968423, 0.9728279058781675, 0.9728360301173499, 0.9729309157858236, 0.9728921935188382, 1.0272784542228024, 1.027292716332428, 1.0273337634568036, 1.027363603775557, 1.0274117160129919, 1.0274201158201082, 1.0274895243112654, 1.0275030450595433, 1.0275324376327206, 1.0275549367052315, 1.0275577104141713, 1.027607710876039, 1.0276145082299912, 89.29564254840727, 222.57341891192078, 1.2053179280325186, 75.87625351162767, 1.2050579692142076, 83.67143446330311, 1.205061442974159, 1.2053572694464068, 59.24999122260455, 73.63940757718524, 56.7989724811987, 56.869287956293526, 64.59822498032705, 102.4008578125948, 68.88284344191662, 43.50738382210266, 56.22242406675945, 37.88628177037996, 31.703453673436538, 29.535571364392187, 28.625381789156542, 28.05626581873797, 27.211934098478366, 52.183673870400725, 16.57903368987498, 39.56913406009057, 46.935114235621334, 9.980415091423755, 23.609364744182066, 17.563919688757434, 30.67347466278162, 34.148499888980716, 20.35090821606038, 12.881528627270104, 44.419545053361084, 33.49777439004257, 53.610354293167056, 43.57970208311858, 0.9726884689985933, 0.9726928009132955, 0.9727473239259053, 0.9728035826520934, 0.9728086768732328, 0.972819992371053, 0.9728218887414422, 0.9728279058781675, 0.9728357910885983, 0.9728360301173499, 0.9728389362027652, 0.9728921935188382, 0.9729183479615889, 0.9729309157858236, 0.9729488848719863, 0.97301739968423, 0.9730190894899046, 1.0273337634568036, 1.0272784542228024, 1.0275030450595433, 1.0274117160129919, 1.027363603775557, 1.027292716332428, 1.0276479981844737, 1.0276929436555904, 1.0276394464137457, 1.027630355719819, 1.0278411070424227, 1.0276145082299912, 1.0278716316004974, 1.0277744388151424, 1.0275577104141713, 1.027607710876039, 1.0277305126506393, 1.0275324376327206, 1.0275549367052315, 1.0277317266732051, 1.0278405441654335, 1.0277617233635017, 1.027881722727722, 1.027642102107507, 1.0282085259251068, 1.0279686877337912, 1.0278323040188928, 1.027621158184745, 1.0277107529851874, 1.0277958257719475, 222.57341891192078, 73.63940757718524, 56.22242406675945, 102.4008578125948, 89.29564254840727, 64.59822498032705, 83.67143446330311, 56.7989724811987, 27.35938553713326, 39.56913406009057, 59.24999122260455, 75.87625351162767, 48.93456170881374, 27.740628420760576, 35.42483694852475, 28.999848468988006, 56.869287956293526, 37.88628177037996, 68.88284344191662, 36.09130259110997, 27.066130321527993, 31.703453673436538, 27.211934098478366, 29.743912159873688, 43.57970208311858, 33.103950687004875, 25.60325036917683, 53.610354293167056, 43.50738382210266, 46.935114235621334, 39.59695308991203, 0.9726884689985933, 0.9726928009132955, 0.9727473239259053, 0.9728035826520934, 0.9728086768732328, 0.972819992371053, 0.9728218887414422, 0.9728279058781675, 0.9728357910885983, 0.9728360301173499, 0.9728389362027652, 0.9728921935188382, 0.9729183479615889, 0.9729309157858236, 0.9729488848719863, 0.97301739968423, 0.9730190894899046, 1.0275324376327206, 1.027292716332428, 1.0277617233635017, 1.027607710876039, 1.0274895243112654, 1.027621158184745, 1.027363603775557, 1.0278323040188928, 1.027630355719819, 1.0277744388151424, 1.0276479981844737, 1.0279527683935, 1.0272784542228024, 1.0277305126506393, 1.027833741630416, 1.0277107529851874, 1.0274201158201082, 1.0275030450595433, 1.0275549367052315, 1.0278411070424227, 1.0274117160129919, 1.0278800831531676, 1.0277958257719475, 1.0273337634568036, 1.027642102107507, 1.0279377929926923, 1.0277801231848849, 1.0275577104141713, 1.027881722727722, 1.0276145082299912, 89.29564254840727, 1.2051463913812273, 222.57341891192078, 102.4008578125948, 73.63940757718524, 1.2050579692142076, 64.59822498032705, 1.205061442974159, 83.67143446330311, 1.2053904954181878, 56.7989724811987, 75.87625351162767, 35.24589654593403, 56.869287956293526, 43.50738382210266, 56.22242406675945, 36.09130259110997, 27.066130321527993, 53.610354293167056, 20.876695950520045, 17.563919688757434, 44.419545053361084, 37.084871966189645, 2.150127452369477, 2.149667907071294, 6.9819213371232705, 52.183673870400725, 37.88628177037996, 45.79012767937495, 27.35938553713326, 35.42483694852475, 59.24999122260455, 12.947266723706509, 27.211934098478366, 29.535571364392187, 46.935114235621334, 48.93456170881374, 31.703453673436538, 54.28320103064926, 0.9726884689985933, 0.9726928009132955, 0.9727473239259053, 0.9728035826520934, 0.9728086768732328, 0.972819992371053, 0.9728218887414422, 0.9728279058781675, 0.9728357910885983, 0.9728360301173499, 0.9728389362027652, 0.9728921935188382, 0.9729183479615889, 0.9729309157858236, 0.9729488848719863, 0.97301739968423, 0.9730190894899046, 1.0272784542228024, 1.027292716332428, 1.027363603775557, 1.0273337634568036, 1.0274117160129919, 1.0274201158201082, 1.0275030450595433, 1.0274895243112654, 1.0275324376327206, 1.0275577104141713, 1.0275549367052315, 1.0276145082299912, 1.027642102107507, 1.027630355719819, 1.2007075100441966, 1.2018669836020397, 1.2014380134323226, 54.28320103064926, 36.057628288491784, 1.2016369222305594, 1.202654172837807, 1.2030238276305116, 37.084871966189645, 1.2022565161801642, 53.32379791444694, 1.2035710288595003, 1.2031925911337908, 53.610354293167056, 20.994477113220874, 44.419545053361084, 28.15085463959871, 18.158697139168734, 45.79012767937495, 11.562498387567226, 1.2022985819208065, 1.2030125944409567, 1.2031944696341412, 1.2020017646568133, 1.201803284007411, 9.680753771737841, 52.183673870400725, 1.2031675726751838, 1.203357342624776, 1.2031930073496213, 11.60432967158944, 10.619822113907095, 8.738702321540368, 8.731200982935531, 7.798812901978308, 8.739607983869442, 15.47422413883548, 10.620597159578816, 12.514203709835824, 222.57341891192078, 16.35606818381787, 16.276274954195028, 75.87625351162767, 21.847157859974498, 25.07242954796351, 6.849876215219883, 83.67143446330311, 18.64732309143477, 89.29564254840727, 102.4008578125948, 20.455975678719405, 68.88284344191662, 43.50738382210266, 0.9726884689985933, 0.9726928009132955, 0.9727473239259053, 0.9728035826520934, 0.9728086768732328, 0.972819992371053, 0.9728218887414422, 0.9728279058781675, 0.9728357910885983, 0.9728360301173499, 0.9728389362027652, 0.9728921935188382, 0.9729183479615889, 0.9729309157858236, 0.9729488848719863, 0.97301739968423, 0.9730190894899046, 1.027642102107507, 1.0274895243112654, 1.0272784542228024, 1.0278716316004974, 1.0274201158201082, 1.0277107529851874, 1.027621158184745, 1.0276394464137457, 1.027607710876039, 1.027833741630416, 1.0277317266732051, 1.0273337634568036, 1.0277617233635017, 1.0275577104141713, 1.0276145082299912, 1.0279686877337912, 1.0275549367052315, 1.027630355719819, 1.0275030450595433, 1.027363603775557, 1.0277958257719475, 1.0279527683935, 1.0276929436555904, 1.027881722727722, 1.0278323040188928, 1.0277801231848849, 1.0278405441654335, 1.0279377929926923, 1.0277744388151424, 1.0274117160129919, 222.57341891192078, 102.4008578125948, 57.755272499870365, 32.747722688178975, 48.93456170881374, 27.066130321527993, 73.63940757718524, 64.59822498032705, 27.35938553713326, 83.67143446330311, 46.935114235621334, 38.648378402583695, 23.420589035790993, 35.42483694852475, 35.96733418313923, 56.869287956293526, 39.59695308991203, 75.87625351162767, 26.739542375481765, 29.406711551098596, 32.68575813528064, 89.29564254840727, 56.7989724811987, 43.57970208311858, 68.88284344191662, 23.570701978019727, 33.103950687004875, 29.743912159873688, 26.28220541228518, 53.610354293167056, 36.09130259110997, 0.9726884689985933, 0.9726928009132955, 0.9727473239259053, 0.9728035826520934, 0.9728086768732328, 0.972819992371053, 0.9728218887414422, 0.9728279058781675, 0.9728357910885983, 0.9728360301173499, 0.9728389362027652, 0.9728921935188382, 0.9729183479615889, 0.9729309157858236, 0.9729488848719863, 0.97301739968423, 0.9730190894899046, 1.0272784542228024, 1.027292716332428, 1.0273337634568036, 1.027363603775557, 1.0274117160129919, 1.0274201158201082, 1.0274895243112654, 1.0275030450595433, 1.0275324376327206, 1.0275549367052315, 1.0275577104141713, 1.027607710876039, 1.0276145082299912, 222.57341891192078, 73.63940757718524, 29.406711551098596, 56.7989724811987, 102.4008578125948, 89.29564254840727, 83.67143446330311, 64.59822498032705, 46.935114235621334, 56.869287956293526, 75.87625351162767, 59.24999122260455, 36.09130259110997, 35.42483694852475, 23.570701978019727, 56.22242406675945, 68.88284344191662, 39.56913406009057, 28.999848468988006, 37.88628177037996, 48.93456170881374, 35.96733418313923, 29.535571364392187, 26.28220541228518, 31.703453673436538, 29.743912159873688, 39.59695308991203, 34.148499888980716, 43.50738382210266, 19.79998376226412, 57.755272499870365, 44.419545053361084, 0.9728035826520934, 0.9726884689985933, 0.9726928009132955, 0.9728357910885983, 0.9728218887414422, 0.9728389362027652, 0.9727473239259053, 0.972819992371053, 0.9728086768732328, 0.9728279058781675, 0.9728360301173499, 0.97301739968423, 0.9730190894899046, 0.9729309157858236, 0.9729183479615889, 0.9728921935188382, 0.9729488848719863, 1.0272784542228024, 1.027292716332428, 1.0273337634568036, 1.027363603775557, 1.0274117160129919, 1.0274201158201082, 1.0274895243112654, 1.0275030450595433, 1.0275324376327206, 1.0275549367052315, 1.0275577104141713, 1.027607710876039, 1.0276145082299912, 222.57341891192078, 102.4008578125948, 89.29564254840727, 56.869287956293526, 23.570701978019727, 73.63940757718524, 56.7989724811987, 36.09130259110997, 64.59822498032705, 29.406711551098596, 83.67143446330311, 35.42483694852475, 27.35938553713326, 75.87625351162767, 46.935114235621334, 35.96733418313923, 59.24999122260455, 53.610354293167056, 56.22242406675945, 48.93456170881374, 68.88284344191662, 15.808031916606136, 28.999848468988006, 13.862426196040504, 27.066130321527993, 9.976198315456031, 12.36863317602867, 17.740806625622547, 34.148499888980716, 13.92685370066389, 35.24589654593403, 43.50738382210266, 37.88628177037996, 39.56913406009057, 27.740628420760576, 37.181183015410234, 0.9726884689985933, 0.9726928009132955, 0.9727473239259053, 0.9728035826520934, 0.9728086768732328, 0.972819992371053, 0.9728218887414422, 0.9728279058781675, 0.9728357910885983, 0.9728360301173499, 0.9728389362027652, 0.9728921935188382, 0.9729183479615889, 0.9729309157858236, 0.9729488848719863, 0.97301739968423, 0.9730190894899046, 1.0272784542228024, 1.027292716332428, 1.0273337634568036, 1.027363603775557, 1.0274117160129919, 1.0274201158201082, 1.0274895243112654, 1.0275030450595433, 1.0275324376327206, 1.0275549367052315, 1.0275577104141713, 1.027607710876039, 1.0276145082299912, 222.57341891192078, 83.67143446330311, 56.869287956293526, 73.63940757718524, 89.29564254840727, 1.2314541172260518, 1.2314611041155412, 75.87625351162767, 57.755272499870365, 59.24999122260455, 39.56913406009057, 1.2315495566312027, 1.2309429939245433, 56.22242406675945, 32.747722688178975, 44.419545053361084, 19.706964050683897, 16.57903368987498, 38.648378402583695, 102.4008578125948, 46.935114235621334, 56.7989724811987, 35.96733418313923, 33.49777439004257, 39.59695308991203, 34.148499888980716, 52.183673870400725, 23.420589035790993, 1.2314387483913858, 1.231586162368619, 54.28320103064926, 43.50738382210266, 68.88284344191662, 27.211934098478366, 48.93456170881374, 26.83593342111946, 30.64624251379032, 64.59822498032705, 53.610354293167056, 45.79012767937495, 0.9726884689985933, 0.9726928009132955, 0.9727473239259053, 0.9728035826520934, 0.9728086768732328, 0.972819992371053, 0.9728218887414422, 0.9728279058781675, 0.9728357910885983, 0.9728360301173499, 0.9728389362027652, 0.9728921935188382, 0.9729183479615889, 0.9729309157858236, 0.9729488848719863, 0.97301739968423, 0.9730190894899046, 1.0272784542228024, 1.027292716332428, 1.0273337634568036, 1.027363603775557, 1.0274117160129919, 1.0274201158201082, 1.0274895243112654, 1.0275030450595433, 1.0275324376327206, 1.0275549367052315, 1.0275577104141713, 1.027607710876039, 1.0276145082299912, 222.57341891192078, 89.29564254840727, 64.59822498032705, 23.570701978019727, 73.63940757718524, 29.406711551098596, 102.4008578125948, 53.610354293167056, 54.28320103064926, 83.67143446330311, 45.79012767937495, 28.999848468988006, 36.09130259110997, 27.35938553713326, 48.93456170881374, 35.42483694852475, 56.869287956293526, 35.96733418313923, 27.066130321527993, 53.32379791444694, 56.22242406675945, 56.7989724811987, 17.740806625622547, 46.935114235621334, 15.808031916606136, 75.87625351162767, 13.862426196040504, 52.183673870400725, 44.419545053361084, 23.609364744182066, 68.88284344191662, 43.57970208311858, 36.057628288491784, 37.084871966189645, 0.9726884689985933, 0.9726928009132955, 0.9727473239259053, 0.9728035826520934, 0.9728086768732328, 0.972819992371053, 0.9728218887414422, 0.9728279058781675, 0.9728357910885983, 0.9728360301173499, 0.9728389362027652, 0.9728921935188382, 0.9729183479615889, 0.9729309157858236, 0.9729488848719863, 0.97301739968423, 0.9730190894899046, 1.0272784542228024, 1.027292716332428, 1.0273337634568036, 1.027363603775557, 1.0274117160129919, 1.0274201158201082, 1.0274895243112654, 1.0275030450595433, 1.0275324376327206, 1.0275549367052315, 1.0275577104141713, 1.027607710876039, 1.0276145082299912, 1.2307087887621124, 1.2308503500293535, 1.2314727269614165, 1.2313503873429985, 222.57341891192078, 89.29564254840727, 1.2281787571082767, 1.2309858722000406, 73.63940757718524, 1.2308283117449152, 1.2277397069875426, 1.2310749842052238, 1.2293880940412114, 56.869287956293526, 56.22242406675945, 56.7989724811987, 75.87625351162767, 36.09130259110997, 83.67143446330311, 102.4008578125948, 35.96733418313923, 1.2313586895140698, 1.2294653642637385, 1.2301388684623737, 1.2292858880291058, 1.230184939930046, 1.23030867851686, 64.59822498032705, 43.50738382210266, 1.2298184194461392, 22.653938747642588, 59.24999122260455, 46.935114235621334, 33.49777439004257, 39.56913406009057, 48.93456170881374, 6.073077478915339, 6.06543085098571, 31.703453673436538, 68.88284344191662, 26.28220541228518, 13.898867652122481, 34.148499888980716, 22.55240905209267, 28.999848468988006, 27.310668393524875, 19.70736813135086, 23.609364744182066, 28.625381789156542, 23.570701978019727, 37.88628177037996, 29.406711551098596, 0.9726884689985933, 0.9726928009132955, 0.9727473239259053, 0.9728035826520934, 0.9728086768732328, 0.972819992371053, 0.9728218887414422, 0.9728279058781675, 0.9728357910885983, 0.9728360301173499, 0.9728389362027652, 0.9728921935188382, 0.9729183479615889, 0.9729309157858236, 0.9729488848719863, 0.97301739968423, 0.9730190894899046, 1.0272784542228024, 1.027292716332428, 1.0273337634568036, 1.027363603775557, 1.0274117160129919, 1.0274201158201082, 1.0274895243112654, 1.0275030450595433, 1.0275324376327206, 1.0275549367052315, 1.0275577104141713, 1.027607710876039, 1.0276145082299912, 1.046974796791631, 1.0470996372637342, 1.0471855403184498, 20.70070185779716, 222.57341891192078, 15.98823051420573, 12.522914792678188, 25.493262995088404, 7.335752357175663, 53.32379791444694, 14.41630759593239, 102.4008578125948, 9.85405375397135, 75.87625351162767, 6.550987948351378, 7.337142638484431, 68.88284344191662, 1.8329808599587623, 1.833034039273271, 12.51972286127309, 43.50738382210266, 10.091015204664826, 18.960719793176896, 59.24999122260455, 2.61887130201053, 10.4597467721659, 13.309227482575317, 4.375267668892203, 4.978867347894159, 1.8333049214720347, 73.63940757718524, 56.869287956293526, 56.22242406675945, 64.59822498032705, 56.7989724811987, 29.406711551098596, 33.49777439004257, 31.703453673436538, 83.67143446330311, 89.29564254840727, 53.610354293167056, 44.419545053361084, 39.56913406009057, 0.9726884689985933, 0.9726928009132955, 0.9727473239259053, 0.9728035826520934, 0.9728086768732328, 0.972819992371053, 0.9728218887414422, 0.9728279058781675, 0.9728357910885983, 0.9728360301173499, 0.9728389362027652, 0.9728921935188382, 0.9729183479615889, 0.9729309157858236, 0.9729488848719863, 0.97301739968423, 0.9730190894899046, 1.0272784542228024, 1.027292716332428, 1.0273337634568036, 1.027363603775557, 1.0274117160129919, 1.0274201158201082, 1.0274895243112654, 1.0275030450595433, 1.0275324376327206, 1.0275549367052315, 1.0275577104141713, 1.027607710876039, 1.0276145082299912, 222.57341891192078, 54.28320103064926, 89.29564254840727, 45.79012767937495, 75.87625351162767, 36.057628288491784, 102.4008578125948, 83.67143446330311, 56.22242406675945, 56.7989724811987, 53.610354293167056, 52.183673870400725, 68.88284344191662, 64.59822498032705, 37.084871966189645, 59.24999122260455, 53.32379791444694, 48.93456170881374, 44.419545053361084, 39.56913406009057, 20.994477113220874, 43.50738382210266, 33.49777439004257, 25.07242954796351, 29.535571364392187, 73.63940757718524, 25.60325036917683, 28.15085463959871, 46.935114235621334, 57.755272499870365, 56.869287956293526, 37.181183015410234], \"Category\": [\"Default\", \"Default\", \"Default\", \"Default\", \"Default\", \"Default\", \"Default\", \"Default\", \"Default\", \"Default\", \"Default\", \"Default\", \"Default\", \"Default\", \"Default\", \"Default\", \"Default\", \"Default\", \"Default\", \"Default\", \"Default\", \"Default\", \"Default\", \"Default\", \"Default\", \"Default\", \"Default\", \"Default\", \"Default\", \"Default\", \"Topic1\", \"Topic1\", \"Topic1\", \"Topic1\", \"Topic1\", \"Topic1\", \"Topic1\", \"Topic1\", \"Topic1\", \"Topic1\", \"Topic1\", \"Topic1\", \"Topic1\", \"Topic1\", \"Topic1\", \"Topic1\", \"Topic1\", \"Topic1\", \"Topic1\", \"Topic1\", \"Topic1\", \"Topic1\", \"Topic1\", \"Topic1\", \"Topic1\", \"Topic1\", \"Topic1\", \"Topic1\", \"Topic1\", \"Topic1\", \"Topic1\", \"Topic1\", \"Topic1\", \"Topic1\", \"Topic1\", \"Topic1\", \"Topic1\", \"Topic1\", \"Topic1\", \"Topic1\", \"Topic1\", \"Topic1\", \"Topic1\", \"Topic1\", \"Topic1\", \"Topic1\", \"Topic1\", \"Topic1\", \"Topic1\", \"Topic1\", \"Topic1\", \"Topic1\", \"Topic1\", \"Topic1\", \"Topic1\", \"Topic1\", \"Topic1\", \"Topic1\", \"Topic1\", \"Topic2\", \"Topic2\", \"Topic2\", \"Topic2\", \"Topic2\", \"Topic2\", \"Topic2\", \"Topic2\", \"Topic2\", \"Topic2\", \"Topic2\", \"Topic2\", \"Topic2\", \"Topic2\", \"Topic2\", \"Topic2\", \"Topic2\", \"Topic2\", \"Topic2\", \"Topic2\", \"Topic2\", \"Topic2\", \"Topic2\", \"Topic2\", \"Topic2\", \"Topic2\", \"Topic2\", \"Topic2\", \"Topic2\", \"Topic2\", \"Topic2\", \"Topic2\", \"Topic2\", \"Topic2\", \"Topic2\", \"Topic2\", \"Topic2\", \"Topic2\", \"Topic2\", \"Topic2\", \"Topic2\", \"Topic2\", \"Topic2\", \"Topic2\", \"Topic2\", \"Topic2\", \"Topic2\", \"Topic2\", \"Topic2\", \"Topic2\", \"Topic2\", \"Topic2\", \"Topic2\", \"Topic2\", \"Topic2\", \"Topic2\", \"Topic2\", \"Topic2\", \"Topic2\", \"Topic2\", \"Topic2\", \"Topic2\", \"Topic2\", \"Topic3\", \"Topic3\", \"Topic3\", \"Topic3\", \"Topic3\", \"Topic3\", \"Topic3\", \"Topic3\", \"Topic3\", \"Topic3\", \"Topic3\", \"Topic3\", \"Topic3\", \"Topic3\", \"Topic3\", \"Topic3\", \"Topic3\", \"Topic3\", \"Topic3\", \"Topic3\", \"Topic3\", \"Topic3\", \"Topic3\", \"Topic3\", \"Topic3\", \"Topic3\", \"Topic3\", \"Topic3\", \"Topic3\", \"Topic3\", \"Topic3\", \"Topic3\", \"Topic3\", \"Topic3\", \"Topic3\", \"Topic3\", \"Topic3\", \"Topic3\", \"Topic3\", \"Topic3\", \"Topic3\", \"Topic3\", \"Topic3\", \"Topic3\", \"Topic3\", \"Topic3\", \"Topic3\", \"Topic3\", \"Topic3\", \"Topic4\", \"Topic4\", \"Topic4\", \"Topic4\", \"Topic4\", \"Topic4\", \"Topic4\", \"Topic4\", \"Topic4\", \"Topic4\", \"Topic4\", \"Topic4\", \"Topic4\", \"Topic4\", \"Topic4\", \"Topic4\", \"Topic4\", \"Topic4\", \"Topic4\", \"Topic4\", \"Topic4\", \"Topic4\", \"Topic4\", \"Topic4\", \"Topic4\", \"Topic4\", \"Topic4\", \"Topic4\", \"Topic4\", \"Topic4\", \"Topic4\", \"Topic4\", \"Topic4\", \"Topic4\", \"Topic4\", \"Topic4\", \"Topic4\", \"Topic4\", \"Topic4\", \"Topic4\", \"Topic4\", \"Topic5\", \"Topic5\", \"Topic5\", \"Topic5\", \"Topic5\", \"Topic5\", \"Topic5\", \"Topic5\", \"Topic5\", \"Topic5\", \"Topic5\", \"Topic5\", \"Topic5\", \"Topic5\", \"Topic5\", \"Topic5\", \"Topic5\", \"Topic5\", \"Topic5\", \"Topic5\", \"Topic5\", \"Topic5\", \"Topic5\", \"Topic5\", \"Topic5\", \"Topic5\", \"Topic5\", \"Topic5\", \"Topic5\", \"Topic5\", \"Topic5\", \"Topic5\", \"Topic5\", \"Topic5\", \"Topic5\", \"Topic5\", \"Topic5\", \"Topic5\", \"Topic5\", \"Topic5\", \"Topic5\", \"Topic5\", \"Topic5\", \"Topic5\", \"Topic5\", \"Topic5\", \"Topic5\", \"Topic5\", \"Topic5\", \"Topic5\", \"Topic5\", \"Topic5\", \"Topic5\", \"Topic5\", \"Topic5\", \"Topic5\", \"Topic5\", \"Topic5\", \"Topic5\", \"Topic5\", \"Topic5\", \"Topic6\", \"Topic6\", \"Topic6\", \"Topic6\", \"Topic6\", \"Topic6\", \"Topic6\", \"Topic6\", \"Topic6\", \"Topic6\", \"Topic6\", \"Topic6\", \"Topic6\", \"Topic6\", \"Topic6\", \"Topic6\", \"Topic6\", \"Topic6\", \"Topic6\", \"Topic6\", \"Topic6\", \"Topic6\", \"Topic6\", \"Topic6\", \"Topic6\", \"Topic6\", \"Topic6\", \"Topic6\", \"Topic6\", \"Topic6\", \"Topic6\", \"Topic6\", \"Topic6\", \"Topic6\", \"Topic6\", \"Topic6\", \"Topic6\", \"Topic6\", \"Topic6\", \"Topic6\", \"Topic6\", \"Topic6\", \"Topic6\", \"Topic6\", \"Topic6\", \"Topic6\", \"Topic6\", \"Topic6\", \"Topic6\", \"Topic6\", \"Topic6\", \"Topic6\", \"Topic6\", \"Topic6\", \"Topic7\", \"Topic7\", \"Topic7\", \"Topic7\", \"Topic7\", \"Topic7\", \"Topic7\", \"Topic7\", \"Topic7\", \"Topic7\", \"Topic7\", \"Topic7\", \"Topic7\", \"Topic7\", \"Topic7\", \"Topic7\", \"Topic7\", \"Topic7\", \"Topic7\", \"Topic7\", \"Topic7\", \"Topic7\", \"Topic7\", \"Topic7\", \"Topic7\", \"Topic7\", \"Topic7\", \"Topic7\", \"Topic7\", \"Topic7\", \"Topic7\", \"Topic7\", \"Topic7\", \"Topic7\", \"Topic7\", \"Topic7\", \"Topic7\", \"Topic7\", \"Topic7\", \"Topic7\", \"Topic7\", \"Topic7\", \"Topic7\", \"Topic7\", \"Topic7\", \"Topic7\", \"Topic7\", \"Topic7\", \"Topic7\", \"Topic7\", \"Topic7\", \"Topic7\", \"Topic7\", \"Topic7\", \"Topic7\", \"Topic7\", \"Topic7\", \"Topic7\", \"Topic7\", \"Topic7\", \"Topic7\", \"Topic7\", \"Topic7\", \"Topic7\", \"Topic7\", \"Topic7\", \"Topic7\", \"Topic7\", \"Topic7\", \"Topic7\", \"Topic7\", \"Topic7\", \"Topic7\", \"Topic7\", \"Topic7\", \"Topic7\", \"Topic7\", \"Topic7\", \"Topic7\", \"Topic7\", \"Topic7\", \"Topic7\", \"Topic7\", \"Topic7\", \"Topic7\", \"Topic7\", \"Topic7\", \"Topic7\", \"Topic7\", \"Topic7\", \"Topic7\", \"Topic7\", \"Topic7\", \"Topic8\", \"Topic8\", \"Topic8\", \"Topic8\", \"Topic8\", \"Topic8\", \"Topic8\", \"Topic8\", \"Topic8\", \"Topic8\", \"Topic8\", \"Topic8\", \"Topic8\", \"Topic8\", \"Topic8\", \"Topic8\", \"Topic8\", \"Topic8\", \"Topic8\", \"Topic8\", \"Topic8\", \"Topic8\", \"Topic8\", \"Topic8\", \"Topic8\", \"Topic8\", \"Topic8\", \"Topic8\", \"Topic8\", \"Topic8\", \"Topic8\", \"Topic8\", \"Topic8\", \"Topic8\", \"Topic8\", \"Topic8\", \"Topic8\", \"Topic8\", \"Topic8\", \"Topic8\", \"Topic8\", \"Topic8\", \"Topic8\", \"Topic8\", \"Topic8\", \"Topic8\", \"Topic8\", \"Topic8\", \"Topic8\", \"Topic8\", \"Topic8\", \"Topic8\", \"Topic8\", \"Topic8\", \"Topic8\", \"Topic8\", \"Topic8\", \"Topic8\", \"Topic8\", \"Topic8\", \"Topic8\", \"Topic8\", \"Topic8\", \"Topic8\", \"Topic8\", \"Topic8\", \"Topic8\", \"Topic8\", \"Topic8\", \"Topic8\", \"Topic8\", \"Topic8\", \"Topic8\", \"Topic8\", \"Topic8\", \"Topic8\", \"Topic8\", \"Topic8\", \"Topic8\", \"Topic9\", \"Topic9\", \"Topic9\", \"Topic9\", \"Topic9\", \"Topic9\", \"Topic9\", \"Topic9\", \"Topic9\", \"Topic9\", \"Topic9\", \"Topic9\", \"Topic9\", \"Topic9\", \"Topic9\", \"Topic9\", \"Topic9\", \"Topic9\", \"Topic9\", \"Topic9\", \"Topic9\", \"Topic9\", \"Topic9\", \"Topic9\", \"Topic9\", \"Topic9\", \"Topic9\", \"Topic9\", \"Topic9\", \"Topic9\", \"Topic9\", \"Topic9\", \"Topic9\", \"Topic9\", \"Topic9\", \"Topic9\", \"Topic9\", \"Topic9\", \"Topic9\", \"Topic9\", \"Topic9\", \"Topic9\", \"Topic9\", \"Topic9\", \"Topic9\", \"Topic9\", \"Topic9\", \"Topic9\", \"Topic9\", \"Topic9\", \"Topic9\", \"Topic9\", \"Topic9\", \"Topic9\", \"Topic9\", \"Topic9\", \"Topic9\", \"Topic9\", \"Topic9\", \"Topic9\", \"Topic9\", \"Topic9\", \"Topic9\", \"Topic9\", \"Topic9\", \"Topic9\", \"Topic9\", \"Topic9\", \"Topic10\", \"Topic10\", \"Topic10\", \"Topic10\", \"Topic10\", \"Topic10\", \"Topic10\", \"Topic10\", \"Topic10\", \"Topic10\", \"Topic10\", \"Topic10\", \"Topic10\", \"Topic10\", \"Topic10\", \"Topic10\", \"Topic10\", \"Topic10\", \"Topic10\", \"Topic10\", \"Topic10\", \"Topic10\", \"Topic10\", \"Topic10\", \"Topic10\", \"Topic10\", \"Topic10\", \"Topic10\", \"Topic10\", \"Topic10\", \"Topic10\", \"Topic10\", \"Topic10\", \"Topic10\", \"Topic10\", \"Topic10\", \"Topic10\", \"Topic10\", \"Topic10\", \"Topic10\", \"Topic10\", \"Topic10\", \"Topic10\", \"Topic10\", \"Topic10\", \"Topic10\", \"Topic10\", \"Topic10\", \"Topic10\", \"Topic10\", \"Topic10\", \"Topic10\", \"Topic10\", \"Topic10\", \"Topic10\", \"Topic10\", \"Topic10\", \"Topic10\", \"Topic10\", \"Topic10\", \"Topic10\", \"Topic10\", \"Topic10\", \"Topic10\", \"Topic10\", \"Topic10\", \"Topic10\", \"Topic10\", \"Topic10\", \"Topic10\", \"Topic10\", \"Topic10\", \"Topic10\", \"Topic10\", \"Topic10\", \"Topic10\", \"Topic10\", \"Topic10\", \"Topic11\", \"Topic11\", \"Topic11\", \"Topic11\", \"Topic11\", \"Topic11\", \"Topic11\", \"Topic11\", \"Topic11\", \"Topic11\", \"Topic11\", \"Topic11\", \"Topic11\", \"Topic11\", \"Topic11\", \"Topic11\", \"Topic11\", \"Topic11\", \"Topic11\", \"Topic11\", \"Topic11\", \"Topic11\", \"Topic11\", \"Topic11\", \"Topic11\", \"Topic11\", \"Topic11\", \"Topic11\", \"Topic11\", \"Topic11\", \"Topic11\", \"Topic11\", \"Topic11\", \"Topic11\", \"Topic11\", \"Topic11\", \"Topic11\", \"Topic11\", \"Topic11\", \"Topic11\", \"Topic11\", \"Topic11\", \"Topic11\", \"Topic11\", \"Topic11\", \"Topic11\", \"Topic11\", \"Topic11\", \"Topic11\", \"Topic11\", \"Topic11\", \"Topic11\", \"Topic11\", \"Topic11\", \"Topic11\", \"Topic11\", \"Topic11\", \"Topic11\", \"Topic11\", \"Topic11\", \"Topic11\", \"Topic11\", \"Topic11\", \"Topic11\", \"Topic11\", \"Topic11\", \"Topic11\", \"Topic11\", \"Topic11\", \"Topic11\", \"Topic11\", \"Topic11\", \"Topic11\", \"Topic11\", \"Topic11\", \"Topic11\", \"Topic11\", \"Topic11\", \"Topic11\", \"Topic11\", \"Topic11\", \"Topic11\", \"Topic11\", \"Topic11\", \"Topic11\", \"Topic11\", \"Topic12\", \"Topic12\", \"Topic12\", \"Topic12\", \"Topic12\", \"Topic12\", \"Topic12\", \"Topic12\", \"Topic12\", \"Topic12\", \"Topic12\", \"Topic12\", \"Topic12\", \"Topic12\", \"Topic12\", \"Topic12\", \"Topic12\", \"Topic12\", \"Topic12\", \"Topic12\", \"Topic12\", \"Topic12\", \"Topic12\", \"Topic12\", \"Topic12\", \"Topic12\", \"Topic12\", \"Topic12\", \"Topic12\", \"Topic12\", \"Topic12\", \"Topic12\", \"Topic12\", \"Topic12\", \"Topic12\", \"Topic12\", \"Topic12\", \"Topic12\", \"Topic12\", \"Topic12\", \"Topic12\", \"Topic12\", \"Topic12\", \"Topic12\", \"Topic12\", \"Topic12\", \"Topic12\", \"Topic12\", \"Topic12\", \"Topic12\", \"Topic12\", \"Topic12\", \"Topic12\", \"Topic12\", \"Topic12\", \"Topic12\", \"Topic12\", \"Topic12\", \"Topic12\", \"Topic12\", \"Topic12\", \"Topic12\", \"Topic12\", \"Topic12\", \"Topic12\", \"Topic12\", \"Topic12\", \"Topic12\", \"Topic12\", \"Topic12\", \"Topic12\", \"Topic12\", \"Topic12\", \"Topic12\", \"Topic12\", \"Topic12\", \"Topic12\", \"Topic12\", \"Topic12\", \"Topic12\", \"Topic12\", \"Topic12\", \"Topic12\", \"Topic12\", \"Topic13\", \"Topic13\", \"Topic13\", \"Topic13\", \"Topic13\", \"Topic13\", \"Topic13\", \"Topic13\", \"Topic13\", \"Topic13\", \"Topic13\", \"Topic13\", \"Topic13\", \"Topic13\", \"Topic13\", \"Topic13\", \"Topic13\", \"Topic13\", \"Topic13\", \"Topic13\", \"Topic13\", \"Topic13\", \"Topic13\", \"Topic13\", \"Topic13\", \"Topic13\", \"Topic13\", \"Topic13\", \"Topic13\", \"Topic13\", \"Topic13\", \"Topic13\", \"Topic13\", \"Topic13\", \"Topic13\", \"Topic13\", \"Topic13\", \"Topic13\", \"Topic13\", \"Topic13\", \"Topic13\", \"Topic13\", \"Topic13\", \"Topic13\", \"Topic13\", \"Topic13\", \"Topic13\", \"Topic13\", \"Topic13\", \"Topic13\", \"Topic13\", \"Topic13\", \"Topic13\", \"Topic13\", \"Topic13\", \"Topic13\", \"Topic13\", \"Topic13\", \"Topic13\", \"Topic13\", \"Topic13\", \"Topic13\", \"Topic13\", \"Topic13\", \"Topic13\", \"Topic13\", \"Topic13\", \"Topic13\", \"Topic13\", \"Topic13\", \"Topic13\", \"Topic13\", \"Topic13\", \"Topic13\", \"Topic13\", \"Topic13\", \"Topic13\", \"Topic13\", \"Topic14\", \"Topic14\", \"Topic14\", \"Topic14\", \"Topic14\", \"Topic14\", \"Topic14\", \"Topic14\", \"Topic14\", \"Topic14\", \"Topic14\", \"Topic14\", \"Topic14\", \"Topic14\", \"Topic14\", \"Topic14\", \"Topic14\", \"Topic14\", \"Topic14\", \"Topic14\", \"Topic14\", \"Topic14\", \"Topic14\", \"Topic14\", \"Topic14\", \"Topic14\", \"Topic14\", \"Topic14\", \"Topic14\", \"Topic14\", \"Topic14\", \"Topic14\", \"Topic14\", \"Topic14\", \"Topic14\", \"Topic14\", \"Topic14\", \"Topic14\", \"Topic14\", \"Topic14\", \"Topic14\", \"Topic14\", \"Topic14\", \"Topic14\", \"Topic14\", \"Topic14\", \"Topic14\", \"Topic14\", \"Topic14\", \"Topic14\", \"Topic14\", \"Topic14\", \"Topic14\", \"Topic14\", \"Topic14\", \"Topic14\", \"Topic14\", \"Topic14\", \"Topic14\", \"Topic14\", \"Topic14\", \"Topic14\", \"Topic15\", \"Topic15\", \"Topic15\", \"Topic15\", \"Topic15\", \"Topic15\", \"Topic15\", \"Topic15\", \"Topic15\", \"Topic15\", \"Topic15\", \"Topic15\", \"Topic15\", \"Topic15\", \"Topic15\", \"Topic15\", \"Topic15\", \"Topic15\", \"Topic15\", \"Topic15\", \"Topic15\", \"Topic15\", \"Topic15\", \"Topic15\", \"Topic15\", \"Topic15\", \"Topic15\", \"Topic15\", \"Topic15\", \"Topic15\", \"Topic15\", \"Topic15\", \"Topic15\", \"Topic15\", \"Topic15\", \"Topic15\", \"Topic15\", \"Topic15\", \"Topic15\", \"Topic15\", \"Topic15\", \"Topic15\", \"Topic15\", \"Topic15\", \"Topic15\", \"Topic15\", \"Topic15\", \"Topic15\", \"Topic15\", \"Topic15\", \"Topic15\", \"Topic15\", \"Topic15\", \"Topic15\", \"Topic15\", \"Topic15\", \"Topic15\", \"Topic15\", \"Topic15\", \"Topic15\", \"Topic15\", \"Topic15\", \"Topic15\", \"Topic15\", \"Topic15\", \"Topic15\", \"Topic16\", \"Topic16\", \"Topic16\", \"Topic16\", \"Topic16\", \"Topic16\", \"Topic16\", \"Topic16\", \"Topic16\", \"Topic16\", \"Topic16\", \"Topic16\", \"Topic16\", \"Topic16\", \"Topic16\", \"Topic16\", \"Topic16\", \"Topic16\", \"Topic16\", \"Topic16\", \"Topic16\", \"Topic16\", \"Topic16\", \"Topic16\", \"Topic16\", \"Topic16\", \"Topic16\", \"Topic16\", \"Topic16\", \"Topic16\", \"Topic16\", \"Topic16\", \"Topic16\", \"Topic16\", \"Topic16\", \"Topic16\", \"Topic16\", \"Topic16\", \"Topic16\", \"Topic16\", \"Topic16\", \"Topic16\", \"Topic16\", \"Topic16\", \"Topic16\", \"Topic16\", \"Topic16\", \"Topic16\", \"Topic16\", \"Topic16\", \"Topic16\", \"Topic16\", \"Topic16\", \"Topic16\", \"Topic16\", \"Topic16\", \"Topic16\", \"Topic16\", \"Topic16\", \"Topic16\", \"Topic16\", \"Topic16\", \"Topic16\", \"Topic16\", \"Topic16\", \"Topic16\", \"Topic16\", \"Topic16\", \"Topic16\", \"Topic16\", \"Topic17\", \"Topic17\", \"Topic17\", \"Topic17\", \"Topic17\", \"Topic17\", \"Topic17\", \"Topic17\", \"Topic17\", \"Topic17\", \"Topic17\", \"Topic17\", \"Topic17\", \"Topic17\", \"Topic17\", \"Topic17\", \"Topic17\", \"Topic17\", \"Topic17\", \"Topic17\", \"Topic17\", \"Topic17\", \"Topic17\", \"Topic17\", \"Topic17\", \"Topic17\", \"Topic17\", \"Topic17\", \"Topic17\", \"Topic17\", \"Topic17\", \"Topic17\", \"Topic17\", \"Topic17\", \"Topic17\", \"Topic17\", \"Topic17\", \"Topic17\", \"Topic17\", \"Topic17\", \"Topic17\", \"Topic17\", \"Topic17\", \"Topic17\", \"Topic17\", \"Topic17\", \"Topic17\", \"Topic17\", \"Topic17\", \"Topic17\", \"Topic17\", \"Topic17\", \"Topic17\", \"Topic17\", \"Topic17\", \"Topic17\", \"Topic17\", \"Topic17\", \"Topic17\", \"Topic17\", \"Topic17\", \"Topic17\", \"Topic17\", \"Topic17\", \"Topic18\", \"Topic18\", \"Topic18\", \"Topic18\", \"Topic18\", \"Topic18\", \"Topic18\", \"Topic18\", \"Topic18\", \"Topic18\", \"Topic18\", \"Topic18\", \"Topic18\", \"Topic18\", \"Topic18\", \"Topic18\", \"Topic18\", \"Topic18\", \"Topic18\", \"Topic18\", \"Topic18\", \"Topic18\", \"Topic18\", \"Topic18\", \"Topic18\", \"Topic18\", \"Topic18\", \"Topic18\", \"Topic18\", \"Topic18\", \"Topic18\", \"Topic18\", \"Topic18\", \"Topic18\", \"Topic18\", \"Topic18\", \"Topic18\", \"Topic18\", \"Topic18\", \"Topic18\", \"Topic18\", \"Topic18\", \"Topic18\", \"Topic18\", \"Topic18\", \"Topic18\", \"Topic18\", \"Topic18\", \"Topic18\", \"Topic18\", \"Topic18\", \"Topic18\", \"Topic18\", \"Topic18\", \"Topic18\", \"Topic18\", \"Topic18\", \"Topic18\", \"Topic18\", \"Topic18\", \"Topic18\", \"Topic18\", \"Topic18\", \"Topic18\", \"Topic18\", \"Topic18\", \"Topic18\", \"Topic18\", \"Topic18\", \"Topic18\", \"Topic18\", \"Topic18\", \"Topic18\", \"Topic18\", \"Topic18\", \"Topic18\", \"Topic18\", \"Topic18\", \"Topic18\", \"Topic18\", \"Topic18\", \"Topic18\", \"Topic19\", \"Topic19\", \"Topic19\", \"Topic19\", \"Topic19\", \"Topic19\", \"Topic19\", \"Topic19\", \"Topic19\", \"Topic19\", \"Topic19\", \"Topic19\", \"Topic19\", \"Topic19\", \"Topic19\", \"Topic19\", \"Topic19\", \"Topic19\", \"Topic19\", \"Topic19\", \"Topic19\", \"Topic19\", \"Topic19\", \"Topic19\", \"Topic19\", \"Topic19\", \"Topic19\", \"Topic19\", \"Topic19\", \"Topic19\", \"Topic19\", \"Topic19\", \"Topic19\", \"Topic19\", \"Topic19\", \"Topic19\", \"Topic19\", \"Topic19\", \"Topic19\", \"Topic19\", \"Topic19\", \"Topic19\", \"Topic19\", \"Topic19\", \"Topic19\", \"Topic19\", \"Topic19\", \"Topic19\", \"Topic19\", \"Topic19\", \"Topic19\", \"Topic19\", \"Topic19\", \"Topic19\", \"Topic19\", \"Topic19\", \"Topic19\", \"Topic19\", \"Topic19\", \"Topic19\", \"Topic19\", \"Topic19\", \"Topic19\", \"Topic19\", \"Topic19\", \"Topic19\", \"Topic19\", \"Topic19\", \"Topic19\", \"Topic19\", \"Topic19\", \"Topic19\", \"Topic19\", \"Topic20\", \"Topic20\", \"Topic20\", \"Topic20\", \"Topic20\", \"Topic20\", \"Topic20\", \"Topic20\", \"Topic20\", \"Topic20\", \"Topic20\", \"Topic20\", \"Topic20\", \"Topic20\", \"Topic20\", \"Topic20\", \"Topic20\", \"Topic20\", \"Topic20\", \"Topic20\", \"Topic20\", \"Topic20\", \"Topic20\", \"Topic20\", \"Topic20\", \"Topic20\", \"Topic20\", \"Topic20\", \"Topic20\", \"Topic20\", \"Topic20\", \"Topic20\", \"Topic20\", \"Topic20\", \"Topic20\", \"Topic20\", \"Topic20\", \"Topic20\", \"Topic20\", \"Topic20\", \"Topic20\", \"Topic20\", \"Topic20\", \"Topic20\", \"Topic20\", \"Topic20\", \"Topic20\", \"Topic20\", \"Topic20\", \"Topic20\", \"Topic20\", \"Topic20\", \"Topic20\", \"Topic20\", \"Topic20\", \"Topic20\", \"Topic20\", \"Topic20\", \"Topic20\", \"Topic20\", \"Topic20\", \"Topic20\"], \"logprob\": [30.0, 29.0, 28.0, 27.0, 26.0, 25.0, 24.0, 23.0, 22.0, 21.0, 20.0, 19.0, 18.0, 17.0, 16.0, 15.0, 14.0, 13.0, 12.0, 11.0, 10.0, 9.0, 8.0, 7.0, 6.0, 5.0, 4.0, 3.0, 2.0, 1.0, -4.3221, -4.6326, -4.7514, -4.7273, -4.7281, -4.9506, -4.9186, -5.1187, -5.4196, -5.5249, -5.6419, -5.7745, -5.8487, -5.9279, -6.0142, -6.1104, -6.1101, -6.1085, -6.1105, -6.1105, -6.1103, -6.11, -6.1107, -6.1107, -6.2138, -6.2149, -6.215, -6.2141, -6.3321, -6.3321, -4.0993, -5.5248, -5.0277, -5.4888, -5.6422, -4.5445, -5.049, -5.4196, -5.2371, -4.6787, -5.2276, -5.4186, -3.5987, -5.6424, -4.5596, -4.2817, -5.0829, -5.3242, -5.3701, -4.8327, -5.0476, -4.6473, -5.2795, -5.0061, -5.1573, -5.0481, -5.3697, -5.323, -5.3152, -4.5849, -4.808, -5.2125, -5.3452, -5.419, -5.4986, -5.5853, -5.6801, -5.6801, -5.6801, -5.6803, -5.6803, -5.7847, -5.7851, -6.0347, -6.0349, -6.0353, -6.036, -6.1896, -6.1909, -6.1877, -6.1875, -6.1877, -6.188, -6.188, -6.1877, -6.1877, -6.1878, -6.1874, -6.1877, -6.1875, -4.5013, -6.0483, -5.0947, -4.99, -4.8499, -5.5853, -5.3454, -5.2935, -5.4983, -5.7851, -4.9798, -5.0124, -4.9888, -5.1521, -4.2563, -4.4179, -4.5209, -4.2478, -4.2365, -4.895, -4.7269, -3.9366, -4.9889, -5.3453, -4.5488, -5.1517, -5.2107, -4.9883, -4.94, -5.2752, -5.3445, -5.3446, -3.7124, -4.2567, -4.4057, -4.5171, -4.782, -4.8634, -4.9495, -5.0426, -4.9503, -5.1479, -5.1485, -5.1493, -5.2644, -5.1526, -5.2678, -5.3978, -5.4022, -5.5501, -5.5507, -5.5513, -5.5515, -5.5517, -5.7319, -5.9502, -5.9504, -5.9508, -5.9523, -5.9525, -5.9522, -5.9549, -3.767, -3.4583, -4.949, -4.6405, -3.7145, -3.886, -4.3532, -3.8553, -4.5198, -4.8639, -4.1354, -5.1481, -5.0445, -4.3048, -4.785, -4.2981, -4.9796, -4.9512, -5.1491, -2.803, -3.0645, -3.1696, -3.8601, -3.8604, -3.9769, -3.9772, -4.2627, -4.9474, -4.9481, -3.6602, -5.3449, -5.345, -5.3451, -5.3451, -5.3453, -6.0138, -6.0139, -6.0141, -3.7549, -3.5737, -4.6646, -4.2626, -4.262, -3.0642, -3.9767, -4.6641, -5.3453, -4.9468, -3.976, -3.976, -4.1094, -4.1085, -3.5706, -3.0526, -4.2592, -4.4412, -3.8526, -4.6606, -4.6569, -4.6569, -3.795, -3.9276, -4.7661, -3.9879, -5.1629, -5.163, -5.1637, -5.1642, -5.2344, -5.8314, -5.8319, -5.8323, -5.8321, -5.8319, -5.8322, -5.8323, -5.8321, -5.8322, -5.8326, -5.832, -5.8325, -5.8323, -5.8325, -5.8327, -5.8327, -5.8327, -5.8323, -5.8319, -5.8324, -5.8326, -3.6785, -4.6943, -4.2312, -3.5732, -4.0469, -3.7847, -4.8235, -3.9634, -4.707, -3.6183, -4.1071, -4.2108, -4.4602, -5.2416, -5.2668, -4.473, -4.2432, -5.164, -5.2696, -5.2701, -4.78, -4.7525, -4.4527, -4.7018, -4.5536, -4.596, -4.6795, -4.7164, -5.1061, -5.1279, -5.1562, -4.0874, -4.3079, -4.5913, -4.5917, -4.5919, -4.5919, -4.5918, -4.592, -4.5922, -4.5922, -3.0641, -4.9894, -4.9893, -4.9893, -5.6572, -5.6573, -5.6576, -5.6576, -5.6577, -5.6576, -5.6577, -5.6578, -5.6579, -5.6579, -5.658, -5.658, -5.6581, -5.6582, -5.6582, -5.6581, -4.0874, -4.0871, -3.9068, -3.9069, -3.5039, -3.7528, -4.3074, -4.9886, -3.2999, -4.9887, -4.9888, -4.9882, -3.7499, -4.5918, -4.3056, -3.3929, -4.3056, -4.3065, -4.5892, -4.3039, -4.3037, -4.5915, -4.5874, -4.5894, -7.4568, -7.457, -7.4573, -7.4576, -7.4579, -7.4583, -7.4589, -7.4591, -7.4592, -7.4595, -7.4598, -7.4601, -7.4599, -7.4601, -7.4612, -7.4613, -7.4643, -7.2661, -7.4703, -7.4703, -7.4703, -7.4703, -7.4703, -7.4703, -7.4703, -7.4703, -7.4703, -7.4703, -7.4703, -7.4703, -7.3263, -7.3318, -7.3391, -7.3429, -7.3502, -7.3598, -7.3617, -7.3617, -7.3672, -7.3697, -7.3701, -7.3728, -7.3749, -7.3807, -6.7645, -7.3873, -7.2163, -7.3901, -7.3966, -7.3967, -7.0278, -6.9946, -7.3983, -7.3988, -7.3988, -7.3999, -7.3999, -7.4003, -7.4032, -7.1003, -6.6534, -6.983, -6.5777, -6.8805, -7.3123, -7.3144, -6.8204, -7.2303, -7.0152, -7.234, -7.0999, -6.969, -7.1136, -6.9888, -6.9568, -7.1931, -6.9891, -7.2497, -7.1457, -7.0604, -7.2187, -7.0755, -7.046, -7.1089, -7.1101, -7.0998, -7.1646, -7.161, -7.1339, -7.1467, -7.1703, -7.1555, -7.1769, -7.4887, -7.4886, -7.4888, -7.4887, -7.4888, -7.4888, -7.4888, -7.4888, -7.4888, -7.4887, -7.4888, -7.4888, -7.4888, -7.4887, -7.4888, -7.4889, -7.4889, -7.4654, -7.4696, -7.4699, -7.4709, -7.4709, -7.4714, -7.471, -7.4714, -7.4717, -7.4718, -7.4728, -7.4726, -7.4738, -7.4738, -7.4738, -7.4741, -7.4744, -7.4744, -7.4745, -7.4749, -7.475, -7.4751, -7.4753, -7.4755, -7.4755, -6.2284, -7.4757, -7.4762, -7.4763, -7.4763, -6.7808, -6.6482, -6.7545, -6.7024, -6.916, -6.7591, -6.832, -6.9187, -6.8461, -6.8772, -6.8823, -6.8916, -7.0005, -7.0767, -7.0432, -6.9503, -6.9807, -7.0051, -7.0165, -7.0797, -7.0735, -7.0966, -7.076, -7.1071, -7.0278, -7.1101, -7.1132, -7.0726, -7.1134, -7.1, -7.0825, -7.0958, -7.4736, -7.4739, -7.4736, -7.4739, -7.4738, -7.4739, -7.4736, -7.4738, -7.4739, -7.4739, -7.474, -7.474, -7.474, -7.4742, -7.4742, -7.4741, -7.4742, -7.4757, -7.4757, -7.4757, -7.4757, -7.4757, -7.4757, -7.4757, -7.4757, -7.4757, -7.4757, -7.4757, -7.4757, -7.4757, -6.5293, -6.3561, -7.4439, -6.7031, -7.448, -6.7631, -7.4489, -7.4497, -6.8386, -6.8233, -6.912, -6.9211, -6.928, -6.8744, -6.9444, -7.0005, -7.017, -7.0694, -7.0929, -7.1112, -7.1307, -7.1356, -7.142, -7.0877, -7.1947, -7.1177, -7.1086, -7.2525, -7.176, -7.2074, -7.1686, -7.1635, -7.2093, -7.2509, -7.1538, -7.1856, -7.1797, -7.1877, -7.4712, -7.4712, -7.4712, -7.4712, -7.4712, -7.4712, -7.4712, -7.4712, -7.4712, -7.4712, -7.4712, -7.4712, -7.4712, -7.4712, -7.4712, -7.4712, -7.4712, -7.4393, -7.4418, -7.4423, -7.446, -7.4461, -7.4465, -7.447, -7.4474, -7.4478, -7.4478, -7.4477, -7.4487, -7.4486, -7.4495, -7.4497, -7.4496, -7.4499, -7.45, -7.45, -7.4501, -7.4503, -7.4508, -7.4518, -7.4522, -7.4524, -7.4526, -7.4528, -7.4532, -7.4532, -7.4534, -6.5103, -6.8137, -6.8718, -6.8143, -6.8526, -6.8994, -6.8662, -6.924, -7.0323, -7.0055, -6.9737, -6.9509, -7.0003, -7.0958, -7.0777, -7.1101, -7.0534, -7.0919, -7.0443, -7.1187, -7.1461, -7.1329, -7.1717, -7.1729, -7.1424, -7.1647, -7.1879, -7.1338, -7.1505, -7.15, -7.1761, -7.4608, -7.4608, -7.4608, -7.4608, -7.4608, -7.4608, -7.4608, -7.4608, -7.4608, -7.4608, -7.4608, -7.4608, -7.4608, -7.4608, -7.4608, -7.4608, -7.4608, -7.4383, -7.4415, -7.4417, -7.4423, -7.4425, -7.4424, -7.443, -7.4426, -7.4431, -7.443, -7.4433, -7.4433, -7.4442, -7.4441, -7.4441, -7.4442, -7.4445, -7.4445, -7.4446, -7.4446, -7.445, -7.4452, -7.4453, -7.4457, -7.4459, -7.4459, -7.446, -7.4462, -7.4466, -7.4467, -6.8154, -7.4233, -6.6999, -6.8789, -6.9216, -7.4266, -6.9813, -7.4267, -6.9831, -7.4285, -7.0566, -7.0418, -7.1299, -7.0995, -7.1316, -7.1297, -7.1635, -7.1875, -7.1453, -7.2151, -7.2325, -7.1697, -7.1871, -7.3875, -7.388, -7.3056, -7.1653, -7.1904, -7.1807, -7.2216, -7.2076, -7.1779, -7.2816, -7.2371, -7.2418, -7.221, -7.2233, -7.2478, -7.2317, -7.4599, -7.4599, -7.4599, -7.4599, -7.4599, -7.4599, -7.4599, -7.4599, -7.4599, -7.4599, -7.4599, -7.4599, -7.4599, -7.4599, -7.4599, -7.4599, -7.4599, -7.4598, -7.4598, -7.4598, -7.4598, -7.4598, -7.4598, -7.4598, -7.4598, -7.4598, -7.4598, -7.4598, -7.4598, -7.4598, -7.4598, -7.3794, -7.4169, -7.4188, -6.5331, -6.6357, -7.4241, -7.4244, -7.4263, -6.7343, -7.4269, -6.7314, -7.4299, -7.4301, -6.7827, -7.0111, -6.9114, -6.9997, -7.0615, -6.953, -7.1326, -7.4305, -7.4308, -7.4319, -7.4322, -7.4322, -7.1779, -6.9802, -7.4327, -7.4329, -7.4329, -7.1689, -7.1875, -7.2105, -7.2142, -7.2275, -7.2193, -7.1628, -7.2054, -7.1895, -6.9068, -7.1732, -7.1853, -7.0631, -7.1696, -7.1614, -7.2714, -7.0786, -7.2004, -7.1136, -7.1444, -7.1981, -7.1837, -7.2034, -7.4567, -7.4567, -7.4567, -7.4567, -7.4567, -7.4567, -7.4567, -7.4567, -7.4567, -7.4567, -7.4567, -7.4567, -7.4567, -7.4567, -7.4567, -7.4567, -7.4567, -7.4412, -7.4417, -7.4419, -7.4416, -7.4429, -7.4429, -7.4435, -7.4435, -7.4436, -7.4435, -7.4437, -7.4442, -7.4438, -7.4441, -7.4441, -7.444, -7.4441, -7.4444, -7.4445, -7.4446, -7.4446, -7.4447, -7.4449, -7.445, -7.445, -7.4453, -7.4456, -7.4456, -7.446, -7.4462, -6.6465, -6.9063, -7.0282, -7.1059, -7.0712, -7.1286, -7.044, -7.0565, -7.1385, -7.0414, -7.1107, -7.1325, -7.1956, -7.1729, -7.1725, -7.1599, -7.1855, -7.1448, -7.2171, -7.2155, -7.2118, -7.156, -7.1844, -7.2051, -7.1779, -7.2465, -7.2275, -7.2357, -7.2458, -7.2083, -7.2336, -7.4606, -7.4606, -7.4606, -7.4606, -7.4606, -7.4606, -7.4606, -7.4606, -7.4606, -7.4606, -7.4606, -7.4606, -7.4606, -7.4606, -7.4606, -7.4606, -7.4606, -7.4606, -7.4606, -7.4606, -7.4606, -7.4606, -7.4606, -7.4606, -7.4606, -7.4606, -7.4606, -7.4606, -7.4606, -7.4606, -6.7075, -6.8705, -7.0684, -7.0101, -6.9619, -6.9795, -6.9965, -7.0243, -7.0613, -7.0512, -7.0226, -7.0808, -7.1255, -7.1529, -7.1892, -7.1291, -7.116, -7.1772, -7.2044, -7.1861, -7.1807, -7.2131, -7.225, -7.236, -7.2287, -7.2342, -7.223, -7.2333, -7.219, -7.2668, -7.2095, -7.2322, -7.4557, -7.4559, -7.4559, -7.4558, -7.4559, -7.4559, -7.456, -7.4559, -7.456, -7.456, -7.456, -7.4559, -7.4559, -7.456, -7.4561, -7.4562, -7.4561, -7.4568, -7.4568, -7.4568, -7.4568, -7.4568, -7.4568, -7.4568, -7.4568, -7.4568, -7.4568, -7.4568, -7.4568, -7.4568, -6.7079, -6.8664, -6.9685, -7.0252, -7.12, -7.0224, -7.0601, -7.1078, -7.0599, -7.1357, -7.0965, -7.1676, -7.1909, -7.1204, -7.1573, -7.1761, -7.142, -7.1582, -7.1571, -7.1705, -7.1473, -7.2599, -7.2304, -7.2769, -7.2388, -7.2988, -7.2879, -7.2692, -7.2305, -7.2859, -7.2322, -7.2263, -7.2339, -7.2372, -7.2558, -7.2597, -7.457, -7.457, -7.457, -7.457, -7.457, -7.457, -7.457, -7.457, -7.457, -7.457, -7.457, -7.457, -7.457, -7.457, -7.457, -7.457, -7.457, -7.457, -7.457, -7.457, -7.457, -7.457, -7.457, -7.457, -7.457, -7.457, -7.457, -7.457, -7.457, -7.457, -6.6696, -6.9329, -6.9762, -7.0453, -7.0294, -7.44, -7.4406, -7.0787, -7.1076, -7.1138, -7.1603, -7.4413, -7.4415, -7.1408, -7.188, -7.1851, -7.2424, -7.2569, -7.2002, -7.1429, -7.1953, -7.194, -7.2226, -7.2275, -7.2192, -7.2304, -7.2081, -7.2629, -7.4425, -7.4426, -7.2187, -7.2299, -7.2111, -7.2616, -7.2334, -7.2662, -7.2598, -7.2337, -7.2402, -7.2467, -7.4508, -7.4508, -7.4508, -7.4508, -7.4508, -7.4508, -7.4508, -7.4508, -7.4508, -7.4508, -7.4508, -7.4508, -7.4508, -7.4508, -7.4508, -7.4508, -7.4508, -7.4508, -7.4508, -7.4508, -7.4508, -7.4508, -7.4508, -7.4508, -7.4508, -7.4508, -7.4508, -7.4508, -7.4508, -7.4508, -6.7865, -7.017, -7.0483, -7.1416, -7.0913, -7.1792, -7.0971, -7.1782, -7.183, -7.1631, -7.2033, -7.2311, -7.2228, -7.2414, -7.2082, -7.2331, -7.2124, -7.2378, -7.2528, -7.22, -7.2177, -7.2319, -7.2918, -7.2433, -7.3049, -7.2284, -7.3149, -7.2489, -7.2661, -7.2947, -7.2547, -7.2771, -7.2843, -7.2913, -7.4488, -7.4488, -7.4488, -7.4488, -7.4488, -7.4488, -7.4488, -7.4488, -7.4488, -7.4488, -7.4488, -7.4488, -7.4488, -7.4488, -7.4488, -7.4488, -7.4488, -7.4488, -7.4488, -7.4488, -7.4488, -7.4488, -7.4488, -7.4488, -7.4488, -7.4488, -7.4488, -7.4488, -7.4488, -7.4488, -7.4273, -7.428, -7.4288, -7.4288, -6.8935, -6.9852, -7.4295, -7.4306, -7.0349, -7.4309, -7.4317, -7.4316, -7.4319, -7.0925, -7.1149, -7.1278, -7.1216, -7.1737, -7.1168, -7.1038, -7.1919, -7.4317, -7.432, -7.432, -7.4322, -7.4323, -7.4323, -7.1652, -7.2086, -7.4325, -7.2609, -7.2186, -7.2305, -7.253, -7.2486, -7.2394, -7.3445, -7.3464, -7.2655, -7.2385, -7.2847, -7.3138, -7.2783, -7.3002, -7.2901, -7.2926, -7.3058, -7.2996, -7.2943, -7.3006, -7.2961, -7.299, -7.4443, -7.4443, -7.4443, -7.4443, -7.4443, -7.4443, -7.4443, -7.4443, -7.4443, -7.4443, -7.4443, -7.4443, -7.4443, -7.4443, -7.4443, -7.4443, -7.4443, -7.4443, -7.4443, -7.4443, -7.4443, -7.4443, -7.4443, -7.4443, -7.4443, -7.4443, -7.4443, -7.4443, -7.4443, -7.4443, -7.4273, -7.4291, -7.4308, -7.0192, -6.8953, -7.1685, -7.2108, -7.1566, -7.2817, -7.1463, -7.2399, -7.1075, -7.2742, -7.1553, -7.3146, -7.3103, -7.1818, -7.4024, -7.406, -7.2927, -7.2368, -7.3107, -7.2829, -7.2263, -7.3853, -7.3165, -7.3046, -7.3626, -7.3569, -7.4101, -7.2264, -7.2404, -7.2546, -7.2525, -7.2587, -7.285, -7.2854, -7.2885, -7.2624, -7.2681, -7.2897, -7.3015, -7.3031, -7.4419, -7.4419, -7.4419, -7.4419, -7.4419, -7.4419, -7.4419, -7.4419, -7.4419, -7.4419, -7.4419, -7.4419, -7.4419, -7.4419, -7.4419, -7.4419, -7.4419, -7.4419, -7.4419, -7.4419, -7.4419, -7.4419, -7.4419, -7.4419, -7.4419, -7.4419, -7.4419, -7.4419, -7.4419, -7.4419, -7.0571, -7.2011, -7.1834, -7.2258, -7.2111, -7.2531, -7.2123, -7.2257, -7.247, -7.2523, -7.2584, -7.2629, -7.2536, -7.2596, -7.2918, -7.2736, -7.2801, -7.2878, -7.2954, -7.2998, -7.3228, -7.3047, -7.3139, -7.324, -7.3221, -7.2995, -7.3326, -7.3312, -7.3186, -7.3169, -7.3233, -7.3304], \"loglift\": [30.0, 29.0, 28.0, 27.0, 26.0, 25.0, 24.0, 23.0, 22.0, 21.0, 20.0, 19.0, 18.0, 17.0, 16.0, 15.0, 14.0, 13.0, 12.0, 11.0, 10.0, 9.0, 8.0, 7.0, 6.0, 5.0, 4.0, 3.0, 2.0, 1.0, 0.7635, 0.7619, 0.7615, 0.7614, 0.7613, 0.7604, 0.76, 0.759, 0.7561, 0.7549, 0.7537, 0.7513, 0.7503, 0.7486, 0.7474, 0.7458, 0.7458, 0.7457, 0.7456, 0.7456, 0.7456, 0.7454, 0.7453, 0.7452, 0.7436, 0.7434, 0.7433, 0.7431, 0.7407, 0.7406, 0.7391, 0.7021, 0.6528, 0.6875, 0.6946, 0.5667, 0.607, 0.6336, 0.5761, 0.4594, 0.5543, 0.5952, 0.1635, 0.6387, 0.3754, 0.2568, 0.4687, 0.5359, 0.5512, 0.2952, 0.3453, 0.0282, 0.4654, -0.1378, -0.0307, -0.3075, 0.3743, -0.046, -0.3159, 1.2013, 1.1994, 1.1944, 1.1931, 1.1926, 1.1905, 1.1897, 1.1876, 1.1871, 1.1871, 1.187, 1.1868, 1.1847, 1.1846, 1.1788, 1.1787, 1.1786, 1.1785, 1.174, 1.1739, 1.1738, 1.1738, 1.1738, 1.1738, 1.1736, 1.1736, 1.1736, 1.1732, 1.1731, 1.173, 1.173, 1.0801, 1.1652, 1.0917, 1.0158, 0.9502, 1.067, 1.0139, 0.998, 1.0268, 1.0817, 0.8893, 0.8861, 0.8696, 0.895, 0.6119, 0.5813, 0.6057, 0.4927, 0.439, 0.6899, 0.5918, -0.1744, 0.6111, 0.8411, -0.0102, 0.6231, 0.6338, 0.2886, 0.1879, -0.0625, 0.2923, 0.5308, 1.8699, 1.8665, 1.8625, 1.8606, 1.8586, 1.8562, 1.8552, 1.8547, 1.8544, 1.8513, 1.851, 1.8504, 1.849, 1.848, 1.8458, 1.8443, 1.841, 1.8398, 1.8391, 1.8387, 1.8383, 1.8383, 1.8316, 1.8232, 1.8231, 1.8227, 1.8218, 1.8218, 1.8217, 1.8191, 1.7872, 1.7149, 1.767, 1.7323, 1.4765, 1.4574, 1.4767, 1.3304, 1.4258, 1.5644, 1.2384, 1.6481, 1.5883, 0.9079, 1.2984, -0.5359, 1.0809, -0.2106, 1.4806, 3.3342, 3.3311, 3.3295, 3.3144, 3.3143, 3.3107, 3.3107, 3.2995, 3.2567, 3.2566, 3.2193, 3.2163, 3.2163, 3.2163, 3.2162, 3.2162, 3.1075, 3.1075, 3.1075, 3.1009, 3.0662, 3.0269, 3.0126, 2.9673, 2.8648, 2.8432, 2.8218, 2.7914, 2.6977, 2.6029, 2.534, 2.5307, 2.1165, 1.6205, 0.7096, 1.8899, 2.103, 1.0824, 1.5167, 1.1729, 1.1179, 3.5162, 3.5116, 3.4611, 3.4383, 3.4196, 3.4194, 3.4192, 3.4187, 3.3345, 3.3085, 3.3084, 3.3083, 3.3081, 3.308, 3.308, 3.3079, 3.3079, 3.3079, 3.3078, 3.3078, 3.3078, 3.3078, 3.3078, 3.3077, 3.3077, 3.3077, 3.3077, 3.3077, 3.3076, 3.3076, 3.2797, 3.2295, 2.9929, 2.2852, 2.2547, 2.0598, 2.6389, 1.9058, 2.458, 1.3809, 1.498, 1.3706, 1.6686, 2.594, 2.5721, 1.4479, 1.0338, 2.2574, 2.3375, 2.3372, 1.4313, 1.2762, 0.2878, 0.831, 0.3147, 0.0795, -0.1409, -0.9542, 0.9773, 0.7475, -0.0181, 3.7393, 3.7251, 3.702, 3.7019, 3.7014, 3.7013, 3.7012, 3.701, 3.7009, 3.7006, 3.6898, 3.6562, 3.6562, 3.6561, 3.5379, 3.5376, 3.5375, 3.5374, 3.5373, 3.5373, 3.5373, 3.5372, 3.5371, 3.5371, 3.5369, 3.5369, 3.5369, 3.5368, 3.5368, 3.5367, 3.329, 3.3286, 3.2807, 3.1244, 2.9245, 2.598, 2.7793, 2.8984, 1.2387, 2.8904, 2.8865, 2.8843, 1.4628, 2.2495, 1.8333, 0.3692, 1.6156, 1.6144, 1.9529, 1.2478, 0.6313, 1.9337, 1.1566, 0.9434, 1.7382, 1.738, 1.7378, 1.7373, 1.7371, 1.7367, 1.7361, 1.7359, 1.7356, 1.7355, 1.7351, 1.735, 1.735, 1.7348, 1.7338, 1.7335, 1.7306, 1.7009, 1.6702, 1.6702, 1.6702, 1.6701, 1.6701, 1.6701, 1.67, 1.67, 1.67, 1.67, 1.67, 1.6699, 1.6379, 1.6318, 1.624, 1.6201, 1.6127, 1.6024, 1.6005, 1.6004, 1.5947, 1.592, 1.5915, 1.5889, 1.5869, 1.5812, 0.2071, 1.5737, 1.166, 1.5709, 1.5643, 1.5638, 0.5108, 0.3702, 1.5626, 1.5621, 1.5618, 1.5606, 1.5606, 1.5601, 1.5573, 0.2633, -1.9129, -0.3742, -2.8156, -1.2957, 1.0679, 1.0656, -2.1449, 0.5171, -0.9681, 0.5137, -0.5633, -1.7957, -0.5715, -1.7761, -2.0886, 0.0214, -1.8624, 0.4973, -0.745, -1.7418, 0.0329, -1.9476, -2.5074, -1.5275, -1.7363, -1.9088, -0.9781, -1.2153, -1.9482, -1.5925, -1.1637, -2.0443, -1.0226, 1.7064, 1.7064, 1.7064, 1.7063, 1.7062, 1.7062, 1.7062, 1.7062, 1.7062, 1.7062, 1.7061, 1.7061, 1.7061, 1.7061, 1.706, 1.706, 1.7059, 1.675, 1.6707, 1.6705, 1.6694, 1.6692, 1.6691, 1.669, 1.6688, 1.6687, 1.6684, 1.6674, 1.6673, 1.6664, 1.6663, 1.6662, 1.6661, 1.6656, 1.6655, 1.6656, 1.6653, 1.6649, 1.665, 1.6652, 1.6647, 1.6645, -2.4662, 1.6643, 1.6638, 1.664, 1.6635, -1.2678, -1.9076, -1.6433, -2.0269, -1.0383, -2.2205, -1.8328, -1.43, -1.9111, -1.7505, -1.7442, -2.0234, -1.6077, -1.0629, -1.3646, -2.112, -1.895, -1.7925, -1.8255, -1.3347, -1.3931, -1.2153, -1.42, -1.1824, -1.8421, -1.4734, -1.5284, -1.9447, -1.5618, -1.7055, -1.9093, -1.7771, 1.7213, 1.7213, 1.7212, 1.7212, 1.7212, 1.7212, 1.7212, 1.7211, 1.7211, 1.721, 1.721, 1.721, 1.7208, 1.7208, 1.7208, 1.7208, 1.7207, 1.6649, 1.6648, 1.6648, 1.6648, 1.6647, 1.6647, 1.6647, 1.6646, 1.6646, 1.6646, 1.6646, 1.6645, 1.6645, -1.8538, -2.594, 1.5368, -1.8647, 1.5329, -2.0226, 1.532, 1.531, -1.7529, -1.9551, -1.7841, -1.7945, -1.9287, -2.3359, -2.0094, -1.606, -1.8788, -1.5365, -1.3819, -1.3293, -1.3175, -1.3024, -1.2782, -1.875, -0.8354, -1.6283, -1.79, -0.3857, -1.1702, -0.9059, -1.4245, -1.5268, -1.055, -0.6392, -1.78, -1.5296, -1.994, -1.7948, 1.7239, 1.7239, 1.7238, 1.7238, 1.7238, 1.7238, 1.7238, 1.7237, 1.7237, 1.7237, 1.7237, 1.7237, 1.7237, 1.7236, 1.7236, 1.7236, 1.7236, 1.7012, 1.6988, 1.698, 1.6944, 1.6943, 1.694, 1.6931, 1.6927, 1.6924, 1.6924, 1.6923, 1.6915, 1.6914, 1.6905, 1.6906, 1.6906, 1.6902, 1.6903, 1.6902, 1.69, 1.6897, 1.6892, 1.6882, 1.688, 1.6872, 1.6873, 1.6872, 1.687, 1.6869, 1.6866, -2.7482, -1.9454, -1.7337, -2.2758, -2.1771, -1.9002, -2.1257, -1.796, -1.1739, -1.5161, -1.888, -2.1125, -1.7234, -1.2512, -1.4777, -1.3099, -1.9267, -1.5591, -2.1093, -1.5374, -1.2769, -1.4219, -1.308, -1.3981, -1.7496, -1.497, -1.2632, -1.9481, -1.756, -1.8314, -1.6874, 1.7343, 1.7343, 1.7342, 1.7342, 1.7342, 1.7341, 1.7341, 1.7341, 1.7341, 1.7341, 1.7341, 1.7341, 1.734, 1.734, 1.734, 1.7339, 1.7339, 1.702, 1.699, 1.6983, 1.6979, 1.6978, 1.6978, 1.6975, 1.6974, 1.6971, 1.697, 1.6969, 1.6965, 1.6963, 1.696, 1.6959, 1.6959, 1.6959, 1.6958, 1.6957, 1.6953, 1.6954, 1.6948, 1.6947, 1.6948, 1.6943, 1.694, 1.694, 1.694, 1.6933, 1.6935, -2.1399, 1.5576, -2.9378, -2.3404, -2.0533, 1.5543, -1.9821, 1.5542, -2.2426, 1.5521, -1.9287, -2.2035, -1.5248, -1.9728, -1.7371, -1.9915, -1.5821, -1.3184, -1.9596, -1.0863, -0.9309, -1.796, -1.6329, 1.0144, 1.0141, -0.0815, -1.9527, -1.6575, -1.8373, -1.3632, -1.6076, -2.0922, -0.675, -1.3733, -1.4599, -1.9023, -1.9464, -1.5368, -2.0585, 1.7352, 1.7352, 1.7351, 1.7351, 1.7351, 1.7351, 1.7351, 1.7351, 1.7351, 1.7351, 1.7351, 1.735, 1.735, 1.735, 1.7349, 1.7349, 1.7349, 1.6807, 1.6807, 1.6807, 1.6807, 1.6806, 1.6806, 1.6805, 1.6805, 1.6805, 1.6804, 1.6804, 1.6804, 1.6804, 1.6804, 1.6052, 1.5667, 1.5651, -1.3599, -1.0534, 1.5597, 1.5585, 1.5563, -1.1801, 1.5564, -1.5404, 1.5523, 1.5524, -1.597, -0.8879, -1.5377, -1.1698, -0.7932, -1.6096, -0.4129, 1.5527, 1.5518, 1.5505, 1.5513, 1.5514, -0.2806, -1.7675, 1.5498, 1.5495, 1.5495, -0.4528, -0.3828, -0.2108, -0.2137, -0.114, -0.2197, -0.7345, -0.4007, -0.549, -3.1446, -0.8004, -0.8076, -2.2248, -1.0862, -1.2157, -0.0282, -2.338, -0.9587, -2.4381, -2.6059, -1.0489, -2.2487, -1.8089, 1.7384, 1.7384, 1.7384, 1.7383, 1.7383, 1.7383, 1.7383, 1.7383, 1.7383, 1.7383, 1.7383, 1.7382, 1.7382, 1.7382, 1.7381, 1.7381, 1.7381, 1.699, 1.6987, 1.6986, 1.6984, 1.6975, 1.6972, 1.6967, 1.6966, 1.6966, 1.6965, 1.6964, 1.6963, 1.6962, 1.6962, 1.6961, 1.6958, 1.6961, 1.6958, 1.6958, 1.6958, 1.6954, 1.6952, 1.6952, 1.695, 1.695, 1.6948, 1.6944, 1.6943, 1.694, 1.6942, -2.8843, -2.3677, -1.917, -1.4273, -1.7942, -1.2595, -2.1757, -2.0573, -1.2801, -2.3009, -1.792, -1.6196, -1.1818, -1.5729, -1.5877, -2.0332, -1.6968, -2.3065, -1.3358, -1.4293, -1.5313, -2.4805, -2.0565, -1.8123, -2.2429, -1.239, -1.5597, -1.4609, -1.3472, -2.0227, -1.6522, 1.7345, 1.7345, 1.7344, 1.7344, 1.7344, 1.7344, 1.7344, 1.7343, 1.7343, 1.7343, 1.7343, 1.7343, 1.7343, 1.7342, 1.7342, 1.7342, 1.7342, 1.6799, 1.6799, 1.6798, 1.6798, 1.6798, 1.6797, 1.6797, 1.6797, 1.6796, 1.6796, 1.6796, 1.6796, 1.6796, -2.9453, -2.0022, -1.2822, -1.8822, -2.4234, -2.304, -2.2559, -2.025, -1.7426, -1.9245, -2.1842, -1.9951, -1.5441, -1.5529, -1.1817, -1.9909, -2.181, -1.6878, -1.4043, -1.6532, -1.9037, -1.6282, -1.4432, -1.3374, -1.5177, -1.4594, -1.7343, -1.5966, -1.8245, -1.0851, -2.0983, -1.8585, 1.7394, 1.7392, 1.7392, 1.7391, 1.7391, 1.7391, 1.7391, 1.7391, 1.739, 1.739, 1.7389, 1.7389, 1.7389, 1.7388, 1.7388, 1.7387, 1.7387, 1.6838, 1.6837, 1.6837, 1.6837, 1.6836, 1.6836, 1.6835, 1.6835, 1.6835, 1.6835, 1.6835, 1.6834, 1.6834, -2.9458, -2.3279, -2.293, -1.8985, -1.1126, -2.1542, -1.9322, -1.5264, -2.0606, -1.3495, -2.356, -1.5675, -1.3325, -2.2821, -1.8386, -1.5912, -2.0563, -1.9725, -2.019, -1.8935, -2.2123, -0.853, -1.4303, -0.7387, -1.3696, -0.4316, -0.6356, -0.9777, -1.5937, -0.7523, -1.6272, -1.8318, -1.701, -1.7478, -1.4113, -1.7081, 1.7381, 1.7381, 1.738, 1.738, 1.738, 1.738, 1.7379, 1.7379, 1.7379, 1.7379, 1.7379, 1.7379, 1.7378, 1.7378, 1.7378, 1.7377, 1.7377, 1.6835, 1.6835, 1.6834, 1.6834, 1.6834, 1.6833, 1.6833, 1.6833, 1.6832, 1.6832, 1.6832, 1.6832, 1.6832, -2.9074, -2.1924, -1.8496, -2.177, -2.354, 1.5193, 1.5186, -2.2404, -1.9964, -2.0281, -1.6709, 1.5178, 1.5182, -2.0027, -1.5094, -1.8114, -1.056, -0.8976, -1.6872, -2.6043, -1.8766, -2.0661, -1.6378, -1.5716, -1.7305, -1.5937, -1.9955, -1.2491, 1.5167, 1.5165, -2.0455, -1.8354, -2.2761, -1.3978, -1.9564, -1.3886, -1.5149, -2.2345, -2.0545, -1.9034, 1.7443, 1.7443, 1.7443, 1.7442, 1.7442, 1.7442, 1.7442, 1.7442, 1.7442, 1.7442, 1.7442, 1.7441, 1.7441, 1.7441, 1.7441, 1.744, 1.744, 1.6897, 1.6897, 1.6897, 1.6896, 1.6896, 1.6896, 1.6895, 1.6895, 1.6895, 1.6895, 1.6895, 1.6894, 1.6894, -3.0243, -2.3415, -2.0491, -1.1342, -2.2231, -1.393, -2.5585, -1.9925, -2.0097, -2.4226, -1.8599, -1.4309, -1.6414, -1.383, -1.9313, -1.6331, -2.0857, -1.6529, -1.3837, -2.029, -2.0795, -2.104, -1.0002, -1.9246, -0.898, -2.39, -0.7766, -2.0362, -1.8923, -1.2889, -2.3197, -1.8843, -1.702, -1.7371, 1.7463, 1.7463, 1.7462, 1.7462, 1.7462, 1.7461, 1.7461, 1.7461, 1.7461, 1.7461, 1.7461, 1.7461, 1.746, 1.746, 1.746, 1.7459, 1.7459, 1.6917, 1.6917, 1.6916, 1.6916, 1.6915, 1.6915, 1.6915, 1.6915, 1.6914, 1.6914, 1.6914, 1.6914, 1.6913, 1.5325, 1.5317, 1.5305, 1.5305, -3.1314, -2.3097, 1.5324, 1.529, -2.1666, 1.5289, 1.5306, 1.5279, 1.5291, -1.9658, -1.9768, -1.9999, -2.2833, -1.5923, -2.3763, -2.5652, -1.6071, 1.5276, 1.5289, 1.5284, 1.5288, 1.528, 1.5279, -2.1659, -1.8141, 1.5281, -1.2138, -2.1329, -1.9118, -1.5971, -1.7592, -1.9624, 0.0191, 0.0185, -1.5545, -2.3035, -1.3862, -0.7781, -1.6416, -1.2486, -1.49, -1.4325, -1.1194, -1.2938, -1.4812, -1.2932, -1.7632, -1.5127, 1.7508, 1.7508, 1.7507, 1.7507, 1.7507, 1.7507, 1.7507, 1.7507, 1.7507, 1.7507, 1.7506, 1.7506, 1.7506, 1.7506, 1.7505, 1.7505, 1.7505, 1.6962, 1.6962, 1.6961, 1.6961, 1.6961, 1.6961, 1.696, 1.696, 1.696, 1.6959, 1.6959, 1.6959, 1.6959, 1.6943, 1.6923, 1.6905, -0.8819, -3.1331, -0.7729, -0.571, -1.2276, -0.1071, -1.9552, -0.7408, -2.569, -0.3946, -2.317, -0.0267, -0.1358, -2.2468, 1.1591, 1.1555, -0.6526, -1.8423, -0.4549, -1.0578, -2.1406, 0.8194, -0.4966, -0.7256, 0.3288, 0.2054, 1.1512, -2.3581, -2.1137, -2.1165, -2.2533, -2.1308, -1.4988, -1.6294, -1.5775, -2.5218, -2.5926, -2.104, -1.9278, -1.8137, 1.7532, 1.7532, 1.7532, 1.7531, 1.7531, 1.7531, 1.7531, 1.7531, 1.7531, 1.7531, 1.7531, 1.753, 1.753, 1.753, 1.753, 1.7529, 1.7529, 1.6986, 1.6986, 1.6986, 1.6986, 1.6985, 1.6985, 1.6984, 1.6984, 1.6984, 1.6984, 1.6984, 1.6983, 1.6983, -3.295, -2.0279, -2.5079, -1.8825, -2.3728, -1.6708, -2.6737, -2.4852, -2.1089, -2.1244, -2.0727, -2.0502, -2.3186, -2.2604, -1.7376, -2.1879, -2.089, -2.0108, -1.9216, -1.8104, -1.1996, -1.9102, -1.658, -1.3783, -1.5402, -2.4312, -1.4079, -1.5014, -2.0, -2.2057, -2.1966, -1.7788]}, \"token.table\": {\"Topic\": [6, 5, 5, 2, 2, 2, 3, 3, 4, 4, 1, 2, 3, 1, 2, 1, 2, 1, 1, 2, 5, 1, 2, 3, 3, 1, 3, 6, 2, 1, 2, 5, 6, 5, 2, 5, 4, 4, 2, 4, 1, 2, 6, 5, 5, 2, 5, 1, 2, 3, 5, 6, 1, 2, 3, 4, 5, 6, 1, 2, 3, 4, 4, 4, 2, 1, 2, 3, 4, 6, 1, 3, 4, 1, 3, 4, 3, 1, 3, 5, 1, 5, 3, 1, 2, 5, 6, 2, 3, 3, 1, 2, 3, 6, 1, 2, 3, 5, 6, 1, 2, 5, 3, 2, 2, 1, 5, 3, 1, 2, 5, 1, 2, 5, 6, 1, 2, 5, 6, 5, 5, 5, 2, 5, 1, 2, 4, 5, 6, 3, 1, 2, 4, 1, 2, 6, 1, 1, 2, 3, 2, 5, 5, 1, 2, 6, 1, 3, 5, 1, 6, 5, 2, 1, 2, 2, 2, 3, 6, 2, 4, 2, 2, 1, 2, 1, 2, 5, 1, 5, 5, 2, 4, 5, 3, 4, 6, 1, 1, 2, 3, 6, 6, 6, 1, 2, 3, 5, 3, 1, 6, 1, 2, 6, 1, 1, 2, 3, 1, 2, 4, 6, 3, 2, 6, 6, 1, 3, 3, 2, 2, 1, 3, 6, 5, 3, 3, 5, 3, 2, 1, 2, 3, 4, 5, 2, 1, 2, 5, 1, 5, 5, 2, 6, 2, 4, 4, 2, 2, 2, 1, 2, 3, 5, 2, 2, 2, 2, 1, 2, 2, 1, 2, 5, 2, 2, 2, 2, 6, 1, 4, 1, 3, 4, 6, 2, 1, 1, 2, 3, 5, 1, 2, 5, 3, 3, 3, 4, 4, 3, 4, 1, 2, 5, 4, 6, 3, 3, 3, 6, 6, 2, 1, 2, 3, 4, 1, 2, 3, 5, 2, 5, 3, 3, 1, 1, 6, 3, 2, 1, 6, 2, 1, 2, 4, 5, 1, 3, 4, 1, 2, 5, 1, 2, 5, 6, 2, 3, 1, 2, 6, 3, 2, 1, 2, 1, 1, 2, 3, 5, 1, 2, 5, 5, 2, 3, 3, 1, 3, 6, 5, 1, 2, 3, 5, 2, 3, 2, 1, 2, 1, 4, 1, 2, 2, 2, 1, 5, 1, 3, 1, 2, 5, 3, 3, 1, 2, 6, 3, 2, 6, 1, 2, 1, 2, 3, 5, 2, 3, 5, 2, 3, 6, 3, 1, 2, 5, 5, 2, 2, 5, 5, 2, 2, 5, 2, 1, 2, 2, 6, 6, 3, 1, 2, 3, 1, 2, 3, 5, 6, 2, 5, 2, 6, 1, 5, 5, 1, 2, 1, 2, 5, 1, 2, 5, 1, 2, 3, 6, 1, 3, 2, 1, 2, 3, 5, 1, 2, 3, 5, 2, 1, 1, 2, 5, 2, 2, 4, 2, 2, 6, 1, 2, 3, 2, 6, 2, 2, 3, 5, 2, 6, 1, 2, 3, 3, 6, 3, 1, 2, 3, 5, 5, 1, 1, 2, 2, 2, 1, 3, 1, 6, 3, 4, 6, 4, 5, 1, 2, 3, 2, 6, 1, 3, 3, 1, 2, 1, 3, 1, 2, 3, 3, 1, 3, 5, 2, 1, 2, 3, 4, 5, 6, 3, 1, 2, 3, 5, 1, 3, 1, 2, 1, 2, 3, 6, 2, 5, 1, 2, 6, 5, 2, 1, 3, 3, 3, 2, 5, 2, 3, 1, 4, 1, 3, 4, 3, 1, 3, 4, 4, 3, 1, 2, 2, 1, 2, 3, 1, 2, 6, 6, 2, 3, 1, 3, 3, 3, 2, 2, 6, 6, 4, 2, 1, 2, 3, 4, 6, 1, 2, 3, 4, 2, 1, 2, 5, 1, 3, 1, 2, 3, 1, 2, 3, 5, 5, 2, 5, 6, 5, 1, 2, 2, 2, 1, 2, 3, 1, 2, 3, 1, 2, 3, 6, 5, 6, 2, 1, 2, 5, 6, 5, 1, 2, 3, 4, 1, 3, 4, 2, 3, 6, 1, 1, 6, 1, 2, 1, 6, 1, 4, 5, 2, 2], \"Freq\": [0.8342121155777766, 0.9729881715455919, 0.9731339979411955, 0.812980162628944, 0.8183082210472167, 0.9860281756324822, 0.9984017726282297, 0.10148107824122465, 0.9133297041710219, 0.9542306854392055, 0.15857354738763202, 0.07928677369381601, 0.7135809632443441, 0.9436224783372791, 0.05897640489607994, 0.9510994568078263, 0.05283885871154591, 0.9778114497971575, 0.1206342925294509, 0.8444400477061563, 0.06031714626472545, 0.38151762619345864, 0.5086901682579449, 0.12717254206448622, 0.8298355975788273, 0.23923344323246812, 0.47846688646493624, 0.2990418040405851, 0.9854011314815522, 0.6059252542669521, 0.32078395814132754, 0.03564266201570306, 0.03564266201570306, 0.9733196384801152, 0.8155614487324014, 0.9733652197965785, 1.0908554163413067, 1.0911188674632397, 0.9924238788572974, 0.9549406112845097, 0.8173709813733038, 0.07784485536888608, 0.1167672830533291, 0.9725653646961089, 0.5496528715077583, 0.9857445623763847, 0.9732331254960422, 0.5278955618082397, 0.31673733708494384, 0.026394778090411988, 0.052789556180823975, 0.052789556180823975, 0.5436408381177065, 0.25160237136026087, 0.08985798977152173, 0.07188639181721738, 0.008985798977152173, 0.03145029642003261, 0.3016626909392566, 0.3519398060957993, 0.1508313454696283, 0.1508313454696283, 1.0909440778466732, 0.9156244826145561, 0.8130620152533453, 0.6678005393140908, 0.10162182119997033, 0.07258701514283596, 0.10162182119997033, 0.04355220908570157, 0.2902562991687523, 0.43538444875312843, 0.2902562991687523, 0.300543364010937, 0.22540752300820274, 0.4508150460164055, 0.958910393201313, 0.5400259933337471, 0.13500649833343678, 0.27001299666687356, 1.0027361388956397, 0.9731212636439515, 0.9923755294261222, 0.22829134411967572, 0.7229225897123065, 0.03804855735327929, 1.027931038940854, 0.8120358478968825, 0.8319455340279909, 1.0144241380294685, 0.5271095380036992, 0.4099740851139883, 0.05856772644485547, 0.029283863222427736, 0.7530690991837196, 0.10758129988338852, 0.05379064994169426, 0.02689532497084713, 0.08068597491254138, 0.6207762535550906, 0.35472928774576606, 0.04434116096822076, 1.0219162770338177, 0.8131281693197926, 0.9667851154591911, 0.697900304080274, 0.348950152040137, 0.8317401476115759, 0.07389308985958846, 0.7389308985958847, 0.18473272464897117, 0.5956981347913797, 0.2929662957990392, 0.02929662957990392, 0.07812434554641046, 0.35018188766842145, 0.38909098629824607, 0.11672729588947382, 0.11672729588947382, 0.9728215139251224, 0.9731125539781619, 0.9730532900643608, 0.21958547888733468, 0.7685491761056714, 0.7292463937754785, 0.21343796890989614, 0.01778649740915801, 0.03557299481831602, 0.01778649740915801, 0.8321981303168786, 0.1912092179250588, 0.1912092179250588, 0.5736276537751764, 0.290303598178512, 0.580607196357024, 0.145151799089256, 0.9912387241961308, 0.061139388070622344, 0.061139388070622344, 0.8559514329887128, 0.9892124974147423, 0.9733934925249316, 0.9734323860195694, 0.4993429374983894, 0.12483573437459736, 0.37450720312379204, 0.2864541010174215, 0.14322705050871076, 0.572908202034843, 0.9914619922611133, 1.0278032233230556, 0.9731813501715015, 0.9852206016406094, 0.45166051217820247, 0.5363468582116154, 1.0121437054534412, 0.8123853053598841, 0.08950116774343864, 0.8950116774343864, 0.9929981091475215, 1.0007361343573207, 0.9861694310704591, 0.9991748876775735, 0.9041013077949762, 0.050227850433054236, 0.4073905669129055, 0.5431874225505406, 0.04073905669129055, 0.991303532143287, 0.9729761339003898, 0.8764740104082659, 0.22855744509299822, 0.6856723352789946, 1.1142201321215068, 1.000263063792889, 1.091087212320904, 1.0279394007546054, 0.9832236582909168, 0.3058330635234173, 0.5838631212719786, 0.08340901732456836, 0.027803005774856122, 0.8346581727878567, 1.0279227071621255, 0.22383735676093952, 0.18653113063411628, 0.5782465049657605, 0.018653113063411626, 0.8311218515163977, 0.5478568241615273, 0.27392841208076363, 0.16942429596652742, 0.8047654058410052, 0.5934300735313096, 0.9849242670627576, 0.8358764279074964, 0.02985272956812487, 0.11941091827249949, 0.5274061380095152, 0.10548122760190304, 0.3164436828057091, 0.05274061380095152, 0.8296066741865827, 1.0029241934102893, 0.8343031813295602, 1.0280738163797087, 0.6435240029445262, 0.3753890017176403, 0.8296295425001065, 0.8123570079750644, 0.8145272533801419, 0.9973559237793193, 0.8311221390232143, 0.9648901944850039, 0.9729213570053533, 0.9924029535723511, 0.2883190387650884, 0.8649571162952653, 1.014260234521465, 0.8124464521427417, 0.8384167651203638, 0.06986806376003032, 0.10480209564004547, 0.9158923886449769, 0.9728745806922888, 0.8160278526806165, 0.3832024003683743, 0.43110270041442106, 0.14370090013814035, 0.5279957950021258, 0.2639978975010629, 0.9732459322836485, 0.8893464494782509, 0.08084967722529554, 0.9757876545827137, 0.9711224532938065, 0.9540498726689507, 0.9856501911446872, 0.8151178675536389, 0.8120481193831074, 0.1830901770215281, 0.1830901770215281, 0.5492705310645843, 0.09154508851076405, 0.9808630204514455, 0.9100005195606419, 0.8128859064531099, 0.8134127903523345, 0.2877932289245998, 0.7194830723114994, 0.8131687121245559, 0.9771671851719668, 0.8121110514066614, 1.1148072730791683, 0.984889483657495, 0.8134195070159631, 0.8141239725855405, 0.34717844860505037, 0.6943568972101007, 0.4361362719250484, 0.4361362719250484, 0.2805199467040212, 0.2805199467040212, 0.4207799200560318, 1.0278631143941201, 0.967052134200261, 1.0007075703327437, 0.5633774590667218, 0.3033570933436194, 0.04333672762051705, 0.0866734552410341, 0.6286637176761539, 0.37719823060569235, 1.1142205337035942, 0.832335908153226, 0.9927603577069608, 0.8310083502035973, 0.9550189537007058, 0.9661508164017525, 0.2395608410395014, 0.7186825231185042, 0.2100909514520202, 0.4201819029040404, 0.2100909514520202, 0.7632624763879268, 1.0279193839663237, 0.9912605437519842, 0.9153728650948045, 0.9830259101070408, 1.0279224545984111, 1.0279567405310768, 0.987966977340722, 0.11252011737098022, 0.037506705790326736, 0.6751207042258813, 0.1875335289516337, 0.48154645369945853, 0.4591489442250651, 0.03359626421159013, 0.03359626421159013, 0.5297118189785819, 0.26485590948929094, 0.9513514840207837, 1.014203964002741, 0.9881658785682714, 0.9964446593799615, 1.0277290659572156, 0.8320829317968758, 0.8152013434066195, 0.9905719209821712, 1.0278354829006475, 0.8134804195981489, 0.3362032521562714, 0.5715455286656613, 0.10086097564688142, 0.9731014308864748, 0.21313740121978514, 0.674935103862653, 0.10656870060989257, 0.44742620406923567, 0.5326502429395663, 0.02130600971758265, 0.8055460116536735, 0.14646291120975882, 0.07323145560487941, 0.834158439274089, 0.9663788416111104, 0.8296566214959848, 0.22252668193280747, 0.7788433867648261, 0.8345032424572882, 1.014196567803463, 1.00231694299991, 0.9872999013066738, 0.8129163508587949, 0.9910817935899291, 0.5674419424665537, 0.28372097123327683, 0.028372097123327684, 0.14186048561663842, 0.5512287346322351, 0.40423440539697236, 0.07349716461763134, 0.9729135571432056, 0.8121165269276398, 0.8312464928637783, 0.8297747121442173, 0.8882592025486651, 0.0888259202548665, 0.04441296012743325, 0.9731039456394928, 0.4495799948288393, 0.388273631897634, 0.08174181724160715, 0.08174181724160715, 0.08089551995042901, 0.9168158927715288, 1.0099242226442866, 0.505050919236537, 0.505050919236537, 0.37218678926544346, 0.5582801838981651, 0.2648546050573378, 0.7504213809957905, 0.8144144114935733, 0.9857366363012152, 0.988210418866973, 0.9734459005631144, 0.9752721909056812, 0.026358707862315707, 0.7105581588943584, 0.2991823826923614, 1.1146597500917488, 0.9296796729067477, 0.9929910153772452, 0.27469458585825507, 0.27469458585825507, 0.27469458585825507, 0.9154677325808992, 0.8833546605547724, 0.14722577675912873, 0.3096586146226457, 0.6967318829009529, 0.14419284016675243, 0.5767713606670097, 0.07209642008337622, 0.21628926025012868, 0.813396531285671, 0.8308608100575473, 0.9731839771082371, 0.2896580451392654, 0.5793160902785308, 0.1448290225696327, 0.9303762657576251, 0.45718877331437857, 0.5451096912594514, 0.7810755865964332, 0.9727922765863135, 0.8119851894027014, 0.5453222561371033, 0.3635481707580689, 0.9728761325274039, 0.8133616684670469, 0.8866402069922036, 0.11083002587402545, 0.8140734693209026, 0.10148488558542536, 0.8626215274761155, 0.8543775100806728, 0.14239625168011213, 0.8340888323842136, 0.8314942255098818, 0.11273444563177057, 0.789141119422394, 0.056367222815885284, 0.3465937949554207, 0.4900119170059396, 0.11951510170876575, 0.035854530512629726, 0.011951510170876575, 0.9849279337923275, 0.9728841318861008, 0.8120435120995714, 0.834468514937064, 0.9856167168271545, 0.972919996198739, 0.9730165704205965, 0.4308223615297963, 0.5744298153730617, 0.984954673187676, 0.9859147177294691, 0.9729707526364687, 0.6162083303810736, 0.3521190459320421, 0.017605952296602105, 0.17471014835373358, 0.1528713798095169, 0.655163056326501, 0.021838768544216697, 0.08617473204404666, 0.8617473204404666, 0.8125399031283697, 0.6762040175387297, 0.1560470809704761, 0.05201569365682537, 0.10403138731365073, 0.34056663332003245, 0.5263302514945956, 0.015480301514546928, 0.1083621106018285, 0.8142137243559567, 0.9939822091082849, 0.8539494873265698, 0.08539494873265698, 0.08539494873265698, 1.0091969964247172, 0.3567271802553141, 0.7134543605106282, 0.8124609991968128, 0.8120582540595612, 0.5933261362423766, 0.7504998366325127, 0.26104342143739573, 0.8311394212333609, 0.9120756176853722, 1.0280783949557093, 0.9861298913764509, 1.0065667865383012, 0.8317692493588822, 0.9376019209684188, 0.8139690791884913, 1.0278222058472806, 0.6249206553579633, 0.27340278671910895, 0.11717262287961812, 0.8328422964250396, 1.0280161922873308, 0.8311208414248055, 0.5437417476297169, 0.24166299894654086, 0.21145512407822326, 0.030207874868317608, 0.97291302434621, 0.9957807382339463, 0.9911074918555065, 0.8149952706194444, 0.8122982050891038, 0.9920273541802437, 0.7723637902423027, 0.15447275804846056, 1.0061136900403629, 0.8342804621483146, 0.15073528339891493, 0.7536764169945745, 0.15073528339891493, 0.7636877758997103, 0.8880119045157926, 0.17895254496958646, 0.3579050899391729, 0.44738136242396614, 0.34694394322149424, 0.6938878864429885, 0.9921281033306696, 1.0143993382900185, 1.025952658953328, 0.2880768534554589, 0.7201921336386473, 0.9910681765527164, 0.9928946236779878, 0.8125795063824016, 0.03385747943260007, 0.13542991773040028, 0.8320388309552885, 0.6832187924248556, 0.05693489936873797, 0.28467449684368984, 0.8140662922772259, 0.665447412758558, 0.16062523756241054, 0.13767877505349474, 0.045892925017831585, 0.022946462508915792, 1.0277308507787493, 0.9162542490586796, 0.1580992211870164, 0.1580992211870164, 0.6323968847480655, 0.9731275609590646, 0.186728542555107, 0.746914170220428, 0.8872365719642807, 0.09178309365147733, 0.19655142451300084, 0.6387921296672527, 0.14741356838475062, 0.04913785612825021, 0.9994382054559029, 0.9730958477676024, 0.5860174568694775, 0.19533915228982582, 0.19533915228982582, 0.9729558876627361, 0.9102516099949444, 0.14737524405539493, 0.8474076533185209, 0.8298332054604154, 0.9301774170624006, 0.6944600409322949, 0.29240422776096625, 0.8141964249032025, 0.9150478321713856, 0.28794430255527015, 0.7198607563881754, 0.4888547071554802, 0.29331282429328814, 0.2444273535777401, 0.993149157315445, 0.3194958901504991, 0.23962191761287435, 0.4792438352257487, 1.0042444698019077, 1.0208272371563487, 0.8924864915856637, 0.11156081144820797, 0.9920636415565613, 0.253717416195646, 0.7104087653478088, 0.0507434832391292, 0.32315040323442895, 0.25852032258754315, 0.38778048388131475, 1.0279513575209511, 0.8145048940818744, 1.0054988887783523, 1.0039796680208832, 0.9416353581765355, 0.941566641662979, 0.8312387311310454, 0.8130436487385486, 0.5514441259613634, 0.2757220629806817, 1.0279373969408918, 0.955132829428577, 1.002385847172574, 0.22995697906978066, 0.28744622383722584, 0.3832616317829678, 0.01916308158914839, 0.09581540794574195, 0.9848173572223011, 1.002518105071107, 1.025797143815395, 1.0909259974026138, 0.8130528785711533, 0.21007972640478323, 0.42015945280956646, 0.21007972640478323, 0.9870858008589846, 0.9923507351633876, 0.38271441050505906, 0.09005044953060214, 0.5177900848009622, 0.18589096904497504, 0.5204947133259301, 0.26024735666296506, 0.07435638761799002, 0.9728073416863453, 0.2761506973277948, 0.1380753486638974, 0.5523013946555896, 0.9730364279008504, 0.10019623340709621, 0.9017661006638659, 1.005499501060778, 1.0024148590099506, 0.1595377899994896, 0.199422237499362, 0.6381511599979584, 0.12924719081589514, 0.12924719081589514, 0.7108595494874234, 0.6846306207845714, 0.0978043743977959, 0.1630072906629932, 0.06520291626519727, 0.9732052861551007, 0.5933251139304409, 0.9858383258333748, 0.17241469400596776, 0.7586246536262582, 0.034482938801193554, 0.034482938801193554, 0.9730177198114718, 0.8137785169328998, 0.12120105571341061, 0.03462887306097446, 0.03462887306097446, 0.07845209930111045, 0.3138083972044418, 0.6276167944088836, 0.2779332111561249, 0.2779332111561249, 0.2779332111561249, 0.989426428545746, 0.4724268993843385, 0.4724268993843385, 0.9910192472433554, 0.8128041502604878, 0.9883379836356674, 1.0466263042996737, 0.19819611401194298, 0.7927844560477719, 0.9733116809785052, 0.8119610552271662, 0.9919977994954471], \"Term\": [\"Duits\", \"Waals\", \"_daerod\", \"aan_kopen\", \"aanbesteden\", \"aandacht\", \"aandeel\", \"aanslagjaar\", \"aanslagjaar\", \"aanslagjaar_afgekort\", \"aantal\", \"aantal\", \"aantal\", \"aanvraag\", \"aanvraag\", \"aanvragen\", \"aanvragen\", \"aanvrager\", \"aanwezig\", \"aanwezig\", \"aanwezig\", \"activiteit\", \"activiteit\", \"activiteit\", \"actour\", \"administratie\", \"administratie\", \"administratie\", \"administratief_toezicht\", \"advies\", \"advies\", \"advies\", \"advies\", \"adviesorgan\", \"afbouwfase\", \"afgelegen\", \"afgevlaken\", \"afgevlakte\", \"afstand\", \"aj\", \"algemeen\", \"algemeen\", \"algemeen\", \"ambtenarenzak\", \"ambtenarenzaken\", \"ander\", \"andersluiden\", \"art\", \"art\", \"art\", \"art\", \"art\", \"artikel\", \"artikel\", \"artikel\", \"artikel\", \"artikel\", \"artikel\", \"basis\", \"basis\", \"basis\", \"basis\", \"basis_bedrag\", \"basisbe_drag\", \"bedekken\", \"bedoelen\", \"bedoelen\", \"bedoelen\", \"bedoelen\", \"bedoelen\", \"bedrag\", \"bedrag\", \"bedrag\", \"bedragen\", \"bedragen\", \"bedragen\", \"bedrijf_leider\", \"begroting\", \"begroting\", \"begroting\", \"begunstigen\", \"beinvloeden\", \"belastbaar\", \"belasten\", \"belasten\", \"belasten\", \"belasting\", \"benodigd\", \"beoogen\", \"beoordeelen\", \"bepalen\", \"bepalen\", \"bepalen\", \"bepalen\", \"bepaling\", \"bepaling\", \"bepaling\", \"bepaling\", \"bepaling\", \"beperken\", \"beperken\", \"beperken\", \"berekening\", \"bes_telbon\", \"beschermen\", \"beschikking\", \"beschikking\", \"beschrijving\", \"beslissing\", \"beslissing\", \"beslissing\", \"besluit\", \"besluit\", \"besluit\", \"besluit\", \"besluiten\", \"besluiten\", \"besluiten\", \"besluiten\", \"besluitlen\", \"besluitvorming\", \"besluitvormings\", \"bestuur\", \"bestuur\", \"betreffen\", \"betreffen\", \"betreffen\", \"betreffen\", \"betreffen\", \"beurt\", \"bevatten\", \"bevatten\", \"bevatten\", \"bevoegdheid\", \"bevoegdheid\", \"bevoegdheid\", \"bewijskracht\", \"bezorgen\", \"bezorgen\", \"bezorgen\", \"bicommunautair\", \"bijeenroeping\", \"bijgewoonnen\", \"bijlage\", \"bijlage\", \"bijlage\", \"bijzondere_machten\", \"bijzondere_machten\", \"bijzondere_machten\", \"bijzondere_machtenbesluit\", \"bovenvermelde\", \"brengen\", \"briefwisseling\", \"brusselse_hoofdstedelijk\", \"brusselse_hoofdstedelijk\", \"burgemeester\", \"business\", \"centrum\", \"centrum\", \"chirurgisch\", \"coefficient\", \"college\", \"continuiteit\", \"controle\", \"controle\", \"cov_id\", \"cov_id\", \"cov_id\", \"crisis\", \"daarin\", \"decreet\", \"deel\", \"deel\", \"deelname\", \"deelneming\", \"deling\", \"dendermon\", \"diamant\", \"dienst\", \"dienst\", \"dienst\", \"dienst\", \"dir_ectiecomite\", \"directiecomite\", \"document\", \"document\", \"document\", \"document\", \"documenteniii\", \"dossier\", \"dossier\", \"dringend\", \"dringend\", \"duitstalig\", \"economie\", \"economisch\", \"economisch\", \"economisch\", \"eerste_lid\", \"eerste_lid\", \"eerste_lid\", \"eerste_lid\", \"enseignement\", \"essentiel\", \"eup\", \"eupen\", \"euro\", \"euro\", \"evenement\", \"expert\", \"federatie\", \"financiering\", \"fiscaal\", \"fiscaliteit\", \"fr\", \"fractie\", \"franse_gemeenschap\", \"franse_gemeenschap\", \"gedeeltelijk\", \"gees\", \"gegeven\", \"gegeven\", \"gegeven\", \"geindexeerde_bedragen\", \"geldig\", \"geleidelijk\", \"gelet\", \"gelet\", \"gelet\", \"gelijk\", \"gelijk\", \"gemeen\", \"gemeente\", \"gemeente\", \"gemeente_raad\", \"gemiddeld\", \"gemiddelde\", \"geneesheer\", \"gevaarlijk\", \"gevaccineerden\", \"geval\", \"geval\", \"geval\", \"geval\", \"gezinsbijslag\", \"gezondheid_bijstand\", \"gezondheid_zorg\", \"groep\", \"grond_gebied\", \"grond_gebied\", \"haarnetjes\", \"handelaar\", \"handgel\", \"handhaven\", \"handtekening\", \"herbruikbaar\", \"hervorming\", \"hetzelfde\", \"hetzelfde\", \"hierboven\", \"hierboven\", \"hierna\", \"hierna\", \"hierna\", \"hoei\", \"hoofdstad\", \"hoofdstuk\", \"houden\", \"houden\", \"houden\", \"houden\", \"houdende\", \"houdende\", \"huishoudelijk\", \"ii\", \"in_brengen\", \"inb_rengen\", \"inde_xcijfer\", \"indexcijfer\", \"indexeren\", \"indexeren\", \"ingang\", \"ingang\", \"ingang\", \"inkomstenjaar\", \"inning\", \"inschrijver\", \"investeren\", \"investering\", \"invordering\", \"inwoner\", \"iriscaar\", \"jaar\", \"jaar\", \"jaar\", \"jaar\", \"kader\", \"kader\", \"kader\", \"kader\", \"kans\", \"kans\", \"kapitaal\", \"kapitaalinbreng\", \"karakter\", \"koninklijk\", \"koninkrijk\", \"kost\", \"lanceren\", \"leggen\", \"letn\", \"levering\", \"lid\", \"lid\", \"lid\", \"lijden\", \"maand\", \"maand\", \"maand\", \"maatregel\", \"maatregel\", \"maatregel\", \"maken\", \"maken\", \"maken\", \"malmedy\", \"masker\", \"massa\", \"materiaal\", \"materiaal\", \"materieel\", \"maxim_umbedrag\", \"meentelijke_organen\", \"melding\", \"mens\", \"middel\", \"minister\", \"minister\", \"minister\", \"minister\", \"mogelijk\", \"mogelijk\", \"mogelijk\", \"moment\", \"mond\", \"munt\", \"nader\", \"natuurlijk\", \"natuurlijk\", \"natuurlijk\", \"neemt\", \"nemen\", \"nemen\", \"nemen\", \"nemen\", \"nieuw\", \"nieuw\", \"nieuwe_gemeentewet\", \"nodig\", \"nodig\", \"noemen\", \"noemen\", \"noodzakelijk\", \"noodzakelijk\", \"nytril\", \"omstandigheid\", \"omvatten\", \"ondermijnen\", \"onderneming\", \"onderneming\", \"onderwerpen\", \"onderwerpen\", \"online\", \"onrechtstreeks\", \"onroerend\", \"op_heffen\", \"op_heffen\", \"op_heffen\", \"op_stellen\", \"op_treden\", \"op_treden\", \"opdracht\", \"opdracht\", \"openbaar\", \"openbaar\", \"openbaar\", \"openbaar\", \"opmaken\", \"oprichen\", \"oprichtangen\", \"oprichting\", \"oprichting\", \"oprichting\", \"opschorting\", \"ordonnantie\", \"ordonnantie\", \"orgaan\", \"organ\", \"ouderenzorg\", \"ov_erwegen\", \"ov_erwegen\", \"over_wegen\", \"overschoenen\", \"overwegende\", \"overwegende\", \"overweging\", \"pandemie\", \"pandemie\", \"paragraaf\", \"paragraaf\", \"particulieren\", \"pen\", \"periode\", \"periode\", \"periode\", \"persoon\", \"persoon\", \"persoon\", \"persoon\", \"persoon\", \"plaatselijke_besturen\", \"plaatsvinden\", \"politie_dienst\", \"polyvalent\", \"premie\", \"present_iegeld\", \"presentiegelden\", \"proces_verbaal\", \"proces_verbaal\", \"processen_verbaal\", \"quarantaine\", \"quorum\", \"raad\", \"raad\", \"raad\", \"recht\", \"recht\", \"recht\", \"recht\", \"rechtstreeks\", \"rechtstreeks\", \"reflex\", \"regel\", \"regel\", \"regel\", \"regel\", \"regering\", \"regering\", \"regering\", \"regering\", \"regionaal\", \"registreren\", \"reglement\", \"reglement\", \"reglement\", \"reizen\", \"resultaat\", \"resultaat\", \"retroactief\", \"retroactiviteit\", \"rijksinwoner\", \"risico\", \"risico\", \"risicokapitaal\", \"rug\", \"s_tandplaats\", \"scheiden\", \"schepen\", \"scherm\", \"school\", \"schorten\", \"seraing\", \"situatie\", \"situatie\", \"situatie\", \"sta_rten\", \"standplaats\", \"startersprivaks\", \"stellen\", \"stellen\", \"stellen\", \"stellen\", \"stemming\", \"steun\", \"steun_aanvraag\", \"stof\", \"straffe\", \"strikt\", \"subsidie\", \"subsidie\", \"synthetische_diamant\", \"taal_gebied\", \"tabel\", \"tabel\", \"tabel\", \"tabell\", \"teleconferentie\", \"termijn\", \"termijn\", \"termijn\", \"territoriaal\", \"territoriaal\", \"terrorisme\", \"terug_nemen\", \"terugname\", \"tijdelijk\", \"tijdelijk\", \"tijdelijk_werkloos\", \"tijdperk\", \"toe_kennen\", \"toe_kennen\", \"toe_kennen\", \"toegankelijk\", \"toekenning\", \"toekenning\", \"toekenning\", \"toekomst\", \"toepassing\", \"toepassing\", \"toepassing\", \"toepassing\", \"toepassing\", \"toevertrouwd\", \"uit_geven\", \"uit_sluiten\", \"uit_sluiten\", \"uit_sluiten\", \"uitdrukkelijk\", \"uitsluiting\", \"uitsluiting\", \"uitvoering\", \"uitvoering\", \"uitzondering\", \"uitzondering\", \"uitzondering\", \"uitzondering\", \"uitzonderlijk\", \"validatie\", \"vaststelling\", \"vaststelling\", \"vaststelling\", \"veel\", \"veilig\", \"vennootschap\", \"vennootschap\", \"verbieden\", \"veref_fening\", \"vergadering\", \"vergadering\", \"vergen\", \"vergoeding\", \"verhouding_tussen\", \"verhouding_tussen\", \"verkrijgen\", \"verkrijgen\", \"verkrijgen\", \"verlopen\", \"vermelde\", \"vermelde\", \"vermelde\", \"vermenigvuldigen\", \"vermindering\", \"verordening\", \"verordening\", \"verplaatsing\", \"verplichting\", \"verplichting\", \"verplichting\", \"vervangen\", \"vervangen\", \"vervangen\", \"vervier\", \"vervoort\", \"vervreemding\", \"verwerking\", \"verwerven\", \"verwerving\", \"verwijderen\", \"verzaken\", \"vestigen\", \"vestigen\", \"vestiging\", \"vier\", \"virtueel\", \"volgen\", \"volgen\", \"volgen\", \"volgen\", \"volgen\", \"volledige_geniet\", \"volmachtbesluit\", \"volstorting\", \"voor_meld\", \"vooral\", \"voordracht\", \"voordracht\", \"voordracht\", \"voorkoming\", \"voornaam\", \"voorwaarde\", \"voorwaarde\", \"voorwaarde\", \"voorzien\", \"voorzien\", \"voorzien\", \"voorzien\", \"voorzitten\", \"voorzitter\", \"voorzitter\", \"voorzitter\", \"waals\", \"waar\", \"waar\", \"waar_zorgwekken\", \"waarborgen\", \"waarin\", \"waarin\", \"waarin\", \"waarop\", \"waarop\", \"waarop\", \"waarvan\", \"waarvan\", \"waarvan\", \"waarvan\", \"wbe\", \"weismes\", \"werkgever\", \"werking\", \"werking\", \"werking\", \"werking\", \"werkwijs\", \"wet\", \"wet\", \"wet\", \"wet\", \"wetboek\", \"wetboek\", \"wetboek\", \"wijzigen\", \"wijzigen\", \"wijzigen\", \"witwassen\", \"woord\", \"woord\", \"zaakvoerder\", \"zeker\", \"zelfstandig\", \"zetel\", \"zijn\", \"zijn\", \"zitpenning\", \"zone\", \"zorg\"]}, \"R\": 30, \"lambda.step\": 0.01, \"plot.opts\": {\"xlab\": \"PC1\", \"ylab\": \"PC2\"}, \"topic.order\": [4, 15, 6, 8, 7, 12, 1, 5, 9, 20, 14, 2, 10, 19, 3, 17, 13, 16, 18, 11]};\n",
              "\n",
              "function LDAvis_load_lib(url, callback){\n",
              "  var s = document.createElement('script');\n",
              "  s.src = url;\n",
              "  s.async = true;\n",
              "  s.onreadystatechange = s.onload = callback;\n",
              "  s.onerror = function(){console.warn(\"failed to load library \" + url);};\n",
              "  document.getElementsByTagName(\"head\")[0].appendChild(s);\n",
              "}\n",
              "\n",
              "if(typeof(LDAvis) !== \"undefined\"){\n",
              "   // already loaded: just create the visualization\n",
              "   !function(LDAvis){\n",
              "       new LDAvis(\"#\" + \"ldavis_el601402432628617766316679008\", ldavis_el601402432628617766316679008_data);\n",
              "   }(LDAvis);\n",
              "}else if(typeof define === \"function\" && define.amd){\n",
              "   // require.js is available: use it to load d3/LDAvis\n",
              "   require.config({paths: {d3: \"https://d3js.org/d3.v5\"}});\n",
              "   require([\"d3\"], function(d3){\n",
              "      window.d3 = d3;\n",
              "      LDAvis_load_lib(\"https://cdn.jsdelivr.net/gh/bmabey/pyLDAvis@3.3.1/pyLDAvis/js/ldavis.v3.0.0.js\", function(){\n",
              "        new LDAvis(\"#\" + \"ldavis_el601402432628617766316679008\", ldavis_el601402432628617766316679008_data);\n",
              "      });\n",
              "    });\n",
              "}else{\n",
              "    // require.js not available: dynamically load d3 & LDAvis\n",
              "    LDAvis_load_lib(\"https://d3js.org/d3.v5.js\", function(){\n",
              "         LDAvis_load_lib(\"https://cdn.jsdelivr.net/gh/bmabey/pyLDAvis@3.3.1/pyLDAvis/js/ldavis.v3.0.0.js\", function(){\n",
              "                 new LDAvis(\"#\" + \"ldavis_el601402432628617766316679008\", ldavis_el601402432628617766316679008_data);\n",
              "            })\n",
              "         });\n",
              "}\n",
              "</script>"
            ]
          },
          "metadata": {},
          "execution_count": 43
        }
      ]
    },
    {
      "cell_type": "markdown",
      "source": [
        "**How to make inferences from pyLDAvis' output:**\n",
        "\n",
        "Each bubble on the left-hand side plot represents a topic. The larger the bubble, the more prevalent is that topic.\n",
        "\n",
        "A good topic model will have fairly big, non-overlapping bubbles scattered throughout the chart instead of being clustered in one quadrant.\n",
        "\n",
        "A model with too many topics, will typically have many overlaps, small sized bubbles clustered in one region of the chart.\n",
        "\n",
        "Alright, if you move the cursor over one of the bubbles, the words and bars on the right-hand side will update. These words are the salient keywords that form the selected topic."
      ],
      "metadata": {
        "id": "2gk22bIUd26A"
      }
    },
    {
      "cell_type": "markdown",
      "source": [
        "## Mallet's version of LDA"
      ],
      "metadata": {
        "id": "ETy1_-3dfOJV"
      }
    },
    {
      "cell_type": "markdown",
      "source": [
        "Up next, we will improve upon this model by using **Mallet’s version of LDA algorithm** and then we will focus on how to arrive at the optimal number of topics given any large corpus of text."
      ],
      "metadata": {
        "id": "OK3o1pfYfR_C"
      }
    },
    {
      "cell_type": "markdown",
      "source": [
        "Gensim provides a wrapper to implement Mallet’s LDA from within Gensim itself. "
      ],
      "metadata": {
        "id": "BufgXlalgeK7"
      }
    },
    {
      "cell_type": "code",
      "source": [
        "# Upgrading Gensim\n",
        "# Updated to enforce Gensim v3.8 in Colab (the last version to support running topic models via Mallet).\n",
        "# https://github.com/polsci/colab-gensim-mallet\n",
        "!pip install --upgrade gensim==3.8"
      ],
      "metadata": {
        "id": "10EAD6GgiyVo"
      },
      "execution_count": null,
      "outputs": []
    },
    {
      "cell_type": "code",
      "source": [
        "# Installing Mallet\n",
        "!wget http://mallet.cs.umass.edu/dist/mallet-2.0.8.zip\n",
        "!unzip mallet-2.0.8.zip"
      ],
      "metadata": {
        "id": "RnZJ8JBxjnod"
      },
      "execution_count": null,
      "outputs": []
    },
    {
      "cell_type": "code",
      "source": [
        "mallet_path = 'mallet-2.0.8/bin/mallet'\n",
        "ldamallet = gensim.models.wrappers.LdaMallet(mallet_path, corpus=corpus, num_topics=20, id2word=id2word)"
      ],
      "metadata": {
        "id": "bmx7cxdXk8Is"
      },
      "execution_count": null,
      "outputs": []
    },
    {
      "cell_type": "code",
      "source": [
        "# Showing Topics\n",
        "pprint(ldamallet.show_topics(formatted=False))"
      ],
      "metadata": {
        "colab": {
          "base_uri": "https://localhost:8080/"
        },
        "id": "59BxDHcTjhBr",
        "outputId": "b88287de-f395-45dd-c502-44c986794de5"
      },
      "execution_count": null,
      "outputs": [
        {
          "output_type": "stream",
          "name": "stdout",
          "text": [
            "[(12,\n",
            "  [('jaar', 0.08714596949891068),\n",
            "   ('nieuw', 0.08496732026143791),\n",
            "   ('recht', 0.07407407407407407),\n",
            "   ('waarin', 0.030501089324618737),\n",
            "   ('bezorgen', 0.030501089324618737),\n",
            "   ('kapitaal', 0.026143790849673203),\n",
            "   ('waarop', 0.026143790849673203),\n",
            "   ('artikel', 0.026143790849673203),\n",
            "   ('aantal', 0.023965141612200435),\n",
            "   ('manier', 0.0196078431372549)]),\n",
            " (4,\n",
            "  [('onderneming', 0.12984822934232715),\n",
            "   ('bedoelen', 0.05227655986509275),\n",
            "   ('gegeven', 0.04047217537942664),\n",
            "   ('regering', 0.03541315345699832),\n",
            "   ('ordonnantie', 0.03541315345699832),\n",
            "   ('aanvragen', 0.03204047217537943),\n",
            "   ('mogelijk', 0.03035413153456998),\n",
            "   ('begunstigen', 0.023608768971332208),\n",
            "   ('beperken', 0.023608768971332208),\n",
            "   ('werkgelegenheid', 0.02023608768971332)]),\n",
            " (19,\n",
            "  [('persoon', 0.10256410256410256),\n",
            "   ('ordonnantie', 0.038461538461538464),\n",
            "   ('aanwezig', 0.03632478632478633),\n",
            "   ('dringend', 0.027777777777777776),\n",
            "   ('cov_id', 0.02564102564102564),\n",
            "   ('paragraaf', 0.02564102564102564),\n",
            "   ('reizen', 0.02564102564102564),\n",
            "   ('activiteit', 0.023504273504273504),\n",
            "   ('noodzakelijk', 0.023504273504273504),\n",
            "   ('mogelijk', 0.021367521367521368)]),\n",
            " (17,\n",
            "  [('kader', 0.04218362282878412),\n",
            "   ('voorzien', 0.034739454094292806),\n",
            "   ('verplichting', 0.034739454094292806),\n",
            "   ('uitzondering', 0.03225806451612903),\n",
            "   ('waar_zorgwekken', 0.02729528535980149),\n",
            "   ('waar', 0.022332506203473945),\n",
            "   ('hoog', 0.022332506203473945),\n",
            "   ('essentiel', 0.019851116625310174),\n",
            "   ('organisatie', 0.019851116625310174),\n",
            "   ('functie', 0.019851116625310174)]),\n",
            " (10,\n",
            "  [('artikel', 0.23140495867768596),\n",
            "   ('dienst', 0.11570247933884298),\n",
            "   ('wet', 0.06198347107438017),\n",
            "   ('gebruik', 0.05785123966942149),\n",
            "   ('voldoen', 0.0371900826446281),\n",
            "   ('volgen', 0.02066115702479339),\n",
            "   ('beleid', 0.02066115702479339),\n",
            "   ('bepalen', 0.01652892561983471),\n",
            "   ('ingang', 0.01652892561983471),\n",
            "   ('goed_keuren', 0.01652892561983471)]),\n",
            " (5,\n",
            "  [('centrum', 0.07731958762886598),\n",
            "   ('besluit', 0.05670103092783505),\n",
            "   ('vervangen', 0.05154639175257732),\n",
            "   ('voorzitter', 0.041237113402061855),\n",
            "   ('territoriaal', 0.03608247422680412),\n",
            "   ('hetzelfde', 0.03608247422680412),\n",
            "   ('administratie', 0.03608247422680412),\n",
            "   ('oprichting', 0.03608247422680412),\n",
            "   ('besluiten', 0.030927835051546393),\n",
            "   ('volgen', 0.030927835051546393)]),\n",
            " (18,\n",
            "  [('regering', 0.06197654941373534),\n",
            "   ('college', 0.05025125628140704),\n",
            "   ('overwegende', 0.04355108877721943),\n",
            "   ('gemeente_raad', 0.04020100502512563),\n",
            "   ('vergadering', 0.03350083752093802),\n",
            "   ('brusselse_hoofdstedelijk', 0.031825795644891124),\n",
            "   ('cov_id', 0.031825795644891124),\n",
            "   ('beslissing', 0.03015075376884422),\n",
            "   ('periode', 0.02680067001675042),\n",
            "   ('burgemeester', 0.02680067001675042)]),\n",
            " (2,\n",
            "  [('voorwaarde', 0.07601351351351351),\n",
            "   ('volgen', 0.060810810810810814),\n",
            "   ('document', 0.04560810810810811),\n",
            "   ('geval', 0.03885135135135135),\n",
            "   ('termijn', 0.03547297297297297),\n",
            "   ('persoon', 0.033783783783783786),\n",
            "   ('goed', 0.03209459459459459),\n",
            "   ('dergelijk', 0.02702702702702703),\n",
            "   ('betrekking', 0.02702702702702703),\n",
            "   ('vervullen', 0.02702702702702703)]),\n",
            " (0,\n",
            "  [('kader', 0.0412621359223301),\n",
            "   ('werking', 0.03640776699029126),\n",
            "   ('lid', 0.032766990291262135),\n",
            "   ('belasten', 0.032766990291262135),\n",
            "   ('raad', 0.03155339805825243),\n",
            "   ('maatregel', 0.02912621359223301),\n",
            "   ('pandemie', 0.024271844660194174),\n",
            "   ('openbaar', 0.024271844660194174),\n",
            "   ('nodig', 0.024271844660194174),\n",
            "   ('ordonnantie', 0.023058252427184466)]),\n",
            " (7,\n",
            "  [('diamant', 0.08297872340425531),\n",
            "   ('handelaar', 0.07021276595744681),\n",
            "   ('wet', 0.06808510638297872),\n",
            "   ('synthetische_diamant', 0.0574468085106383),\n",
            "   ('reglement', 0.04680851063829787),\n",
            "   ('economie', 0.04468085106382979),\n",
            "   ('onderwerpen', 0.0425531914893617),\n",
            "   ('financiering', 0.027659574468085105),\n",
            "   ('uitvoering', 0.02553191489361702),\n",
            "   ('registreren', 0.02553191489361702)])]\n"
          ]
        }
      ]
    },
    {
      "cell_type": "code",
      "source": [
        "# Compute Coherence Score\n",
        "coherence_model_ldamallet = CoherenceModel(model=ldamallet, texts=data_lemmatized, dictionary=id2word, coherence='c_v')\n",
        "coherence_ldamallet = coherence_model_ldamallet.get_coherence()\n",
        "print('\\nCoherence Score: ', coherence_ldamallet)"
      ],
      "metadata": {
        "colab": {
          "base_uri": "https://localhost:8080/"
        },
        "id": "gIX9rBgujzdk",
        "outputId": "369fb806-a21b-43a3-c6f9-7a54546ed61b"
      },
      "execution_count": null,
      "outputs": [
        {
          "output_type": "stream",
          "name": "stdout",
          "text": [
            "\n",
            "Coherence Score:  0.5105437096196932\n"
          ]
        }
      ]
    },
    {
      "cell_type": "markdown",
      "source": [
        "**NOTE:** A *slight increase* in **coherence score** from  **0.40068960388831887** to **0.5105437096196932**."
      ],
      "metadata": {
        "id": "Jw3eiFejkNuV"
      }
    },
    {
      "cell_type": "markdown",
      "source": [
        "### Finding the optimal number of topics for LDA"
      ],
      "metadata": {
        "id": "p_OfPJxEk16s"
      }
    },
    {
      "cell_type": "markdown",
      "source": [
        "The approach to finding the optimal number of topics is to build many LDA models with different values of number of topics (k) and pick the one that gives the highest coherence value."
      ],
      "metadata": {
        "id": "rYN-JJP8k-4d"
      }
    },
    {
      "cell_type": "code",
      "source": [
        "def compute_coherence_values(dictionary, corpus, texts, limit, start=2, step=3):\n",
        "    \"\"\"\n",
        "    Compute c_v coherence for various number of topics\n",
        "\n",
        "    Parameters:\n",
        "    ----------\n",
        "    dictionary : Gensim dictionary\n",
        "    corpus : Gensim corpus\n",
        "    texts : List of input texts\n",
        "    limit : Max num of topics\n",
        "\n",
        "    Returns:\n",
        "    -------\n",
        "    model_list : List of LDA topic models\n",
        "    coherence_values : Coherence values corresponding to the LDA model with respective number of topics\n",
        "    \"\"\"\n",
        "    coherence_values = []\n",
        "    model_list = []\n",
        "    for num_topics in range(start, limit, step):\n",
        "        model = gensim.models.wrappers.LdaMallet(mallet_path, corpus=corpus, num_topics=num_topics, id2word=id2word)\n",
        "        model_list.append(model)\n",
        "        coherencemodel = CoherenceModel(model=model, texts=texts, dictionary=dictionary, coherence='c_v')\n",
        "        coherence_values.append(coherencemodel.get_coherence())\n",
        "    \n",
        "    return model_list, coherence_values"
      ],
      "metadata": {
        "id": "OvCJUPmjj4_H"
      },
      "execution_count": null,
      "outputs": []
    },
    {
      "cell_type": "code",
      "source": [
        "# Can take a long time to run.\n",
        "model_list, coherence_values = compute_coherence_values(dictionary=id2word, corpus=corpus, texts=data_lemmatized, start=2, limit=40, step=6)"
      ],
      "metadata": {
        "id": "a2XYtjZplyTR"
      },
      "execution_count": null,
      "outputs": []
    },
    {
      "cell_type": "code",
      "source": [
        "# Showing graph\n",
        "limit=40; start=2; step=6;\n",
        "x = range(start, limit, step)\n",
        "plt.plot(x, coherence_values)\n",
        "plt.xlabel(\"Num Topics\")\n",
        "plt.ylabel(\"Coherence score\")\n",
        "plt.legend((\"coherence_values\"), loc='best')\n",
        "plt.show()"
      ],
      "metadata": {
        "colab": {
          "base_uri": "https://localhost:8080/",
          "height": 279
        },
        "id": "k-rMtgaqmfBz",
        "outputId": "7ffe86a4-e9d7-41da-8ec4-6923540a7c6e"
      },
      "execution_count": null,
      "outputs": [
        {
          "output_type": "display_data",
          "data": {
            "text/plain": [
              "<Figure size 432x288 with 1 Axes>"
            ],
            "image/png": "[encoded data removed]"
          },
          "metadata": {
            "needs_background": "light"
          }
        }
      ]
    },
    {
      "cell_type": "markdown",
      "source": [
        "**NOTE:**\n",
        "The optimal **coherence score** shown in this plot lies **around 6-8 number of topics**."
      ],
      "metadata": {
        "id": "K3CVzCuq01Yt"
      }
    },
    {
      "cell_type": "code",
      "source": [
        "# Printing the coherence scores\n",
        "for m, cv in zip(x, coherence_values):\n",
        "    print(\"Num Topics =\", m, \" has Coherence Value of\", round(cv, 4))"
      ],
      "metadata": {
        "colab": {
          "base_uri": "https://localhost:8080/"
        },
        "id": "OQlk6b8OmmUG",
        "outputId": "80aaacfd-04ce-420c-f555-94ef1c961b5b"
      },
      "execution_count": null,
      "outputs": [
        {
          "output_type": "stream",
          "name": "stdout",
          "text": [
            "Num Topics = 2  has Coherence Value of 0.2967\n",
            "Num Topics = 8  has Coherence Value of 0.5848\n",
            "Num Topics = 14  has Coherence Value of 0.5568\n",
            "Num Topics = 20  has Coherence Value of 0.5002\n",
            "Num Topics = 26  has Coherence Value of 0.4967\n",
            "Num Topics = 32  has Coherence Value of 0.4479\n",
            "Num Topics = 38  has Coherence Value of 0.4342\n"
          ]
        }
      ]
    },
    {
      "cell_type": "markdown",
      "source": [
        "If the coherence score seems to keep increasing, it may make better sense to pick the model that gave the highest CV before flattening out."
      ],
      "metadata": {
        "id": "gKIMg0vbmtiA"
      }
    },
    {
      "cell_type": "markdown",
      "source": [
        "### Choosing the model with eight (8) topics"
      ],
      "metadata": {
        "id": "yGPOHR2Vm128"
      }
    },
    {
      "cell_type": "code",
      "source": [
        "# Select the model and print the topics\n",
        "# The best LDA model with the optimal coherence score has 8 topics, which is\n",
        "# index 1 from the model_list list\n",
        "optimal_model = model_list[1]\n",
        "model_topics = optimal_model.show_topics(formatted=False)\n",
        "pprint(optimal_model.print_topics(num_words=10))"
      ],
      "metadata": {
        "colab": {
          "base_uri": "https://localhost:8080/"
        },
        "id": "PHB5hvHsmveV",
        "outputId": "5aadd72c-2cde-4232-dc36-33769bdb1e6c"
      },
      "execution_count": null,
      "outputs": [
        {
          "output_type": "stream",
          "name": "stdout",
          "text": [
            "[(0,\n",
            "  '0.048*\"persoon\" + 0.024*\"kader\" + 0.021*\"verplichting\" + 0.020*\"cov_id\" + '\n",
            "  '0.017*\"aanwezig\" + 0.016*\"voorzien\" + 0.015*\"uitzondering\" + '\n",
            "  '0.013*\"paragraaf\" + 0.013*\"artikel\" + 0.013*\"reizen\"'),\n",
            " (1,\n",
            "  '0.037*\"artikel\" + 0.037*\"onderneming\" + 0.028*\"steun\" + 0.021*\"zelfstandig\" '\n",
            "  '+ 0.019*\"premie\" + 0.016*\"bedoelen\" + 0.015*\"aanvrager\" + '\n",
            "  '0.014*\"toe_kennen\" + 0.014*\"economisch\" + 0.012*\"gegeven\"'),\n",
            " (2,\n",
            "  '0.035*\"overwegende\" + 0.030*\"artikel\" + 0.028*\"vergadering\" + '\n",
            "  '0.028*\"college\" + 0.027*\"regering\" + 0.026*\"openbaar\" + 0.025*\"beslissing\" '\n",
            "  '+ 0.022*\"gemeente_raad\" + 0.020*\"brusselse_hoofdstedelijk\" + '\n",
            "  '0.020*\"werking\"'),\n",
            " (3,\n",
            "  '0.068*\"artikel\" + 0.039*\"volgen\" + 0.029*\"besluiten\" + 0.026*\"besluit\" + '\n",
            "  '0.026*\"centrum\" + 0.024*\"vervangen\" + 0.022*\"opdracht\" + 0.022*\"bevoegd\" + '\n",
            "  '0.017*\"bevoegdheid\" + 0.017*\"administratie\"'),\n",
            " (4,\n",
            "  '0.061*\"wet\" + 0.049*\"diamant\" + 0.043*\"artikel\" + 0.041*\"handelaar\" + '\n",
            "  '0.034*\"synthetische_diamant\" + 0.030*\"reglement\" + 0.029*\"economie\" + '\n",
            "  '0.025*\"uitvoering\" + 0.024*\"onderwerpen\" + 0.020*\"dienst\"'),\n",
            " (5,\n",
            "  '0.066*\"artikel\" + 0.054*\"wetboek\" + 0.046*\"indexcijfer\" + '\n",
            "  '0.036*\"coefficient\" + 0.034*\"verkrijgen\" + 0.032*\"bedoelen\" + '\n",
            "  '0.032*\"gemiddeld\" + 0.030*\"jaar\" + 0.029*\"hierna\" + 0.027*\"bedragen\"'),\n",
            " (6,\n",
            "  '0.044*\"besluit\" + 0.033*\"kader\" + 0.028*\"betreffen\" + 0.028*\"raad\" + '\n",
            "  '0.027*\"cov_id\" + 0.022*\"ordonnantie\" + 0.021*\"maatregel\" + 0.018*\"art\" + '\n",
            "  '0.018*\"regering\" + 0.018*\"minister\"'),\n",
            " (7,\n",
            "  '0.041*\"vennootschap\" + 0.030*\"jaar\" + 0.029*\"recht\" + 0.028*\"nieuw\" + '\n",
            "  '0.028*\"aandeel\" + 0.027*\"document\" + 0.023*\"voorwaarde\" + 0.017*\"maand\" + '\n",
            "  '0.016*\"deelneming\" + 0.015*\"volgen\"')]\n"
          ]
        }
      ]
    },
    {
      "cell_type": "markdown",
      "source": [
        "### Finding the dominant topic in each sentence"
      ],
      "metadata": {
        "id": "jM5BBtRPm-BA"
      }
    },
    {
      "cell_type": "markdown",
      "source": [
        "One of the practical application of topic modeling is to determine what topic a given document is about.\n",
        "\n",
        "To find that, we find the **topic number that has the highest percentage contribution** in the document/set of documents."
      ],
      "metadata": {
        "id": "snt2Rep5nGWg"
      }
    },
    {
      "cell_type": "code",
      "source": [
        "def format_topics_sentences(ldamodel=lda_model, corpus=corpus, texts=data_words):\n",
        "    # Init output\n",
        "    sent_topics_df = pd.DataFrame()\n",
        "\n",
        "    # Get main topic in each document\n",
        "    for i, row in enumerate(ldamodel[corpus]):\n",
        "        row = sorted(row, key=lambda x: (x[1]), reverse=True)\n",
        "        # Get the Dominant topic, Perc Contribution and Keywords for each document\n",
        "        for j, (topic_num, prop_topic) in enumerate(row):\n",
        "            if j == 0:  # => dominant topic\n",
        "                wp = ldamodel.show_topic(topic_num)\n",
        "                topic_keywords = \", \".join([word for word, prop in wp])\n",
        "                sent_topics_df = sent_topics_df.append(pd.Series([int(topic_num), round(prop_topic,4), topic_keywords]), ignore_index=True)\n",
        "            else:\n",
        "                break\n",
        "    sent_topics_df.columns = ['Dominant_Topic', 'Perc_Contribution', 'Topic_Keywords']\n",
        "\n",
        "    # Add original text to the end of the output\n",
        "    contents = pd.Series(texts)\n",
        "    sent_topics_df = pd.concat([sent_topics_df, contents], axis=1)\n",
        "    return(sent_topics_df)\n",
        "\n",
        "df_topic_sents_keywords = format_topics_sentences(ldamodel=optimal_model, corpus=corpus, texts=data_words)"
      ],
      "metadata": {
        "id": "4dZDyOL2mn1T"
      },
      "execution_count": null,
      "outputs": []
    },
    {
      "cell_type": "code",
      "source": [
        "# Formatting\n",
        "df_dominant_topic = df_topic_sents_keywords.reset_index()\n",
        "df_dominant_topic.columns = ['Document_No', 'Dominant_Topic', 'Topic_Perc_Contrib', 'Keywords', 'Text']\n",
        "\n",
        "# Showing\n",
        "df_dominant_topic.head(10)"
      ],
      "metadata": {
        "colab": {
          "base_uri": "https://localhost:8080/",
          "height": 528
        },
        "id": "Rko8z_8PnYaa",
        "outputId": "fa4e1644-a2da-44f0-ae27-5f9d85d2bde3"
      },
      "execution_count": null,
      "outputs": [
        {
          "output_type": "execute_result",
          "data": {
            "text/plain": [
              "   Document_No  Dominant_Topic  Topic_Perc_Contrib  \\\n",
              "0            0             3.0              0.3689   \n",
              "1            1             1.0              0.5641   \n",
              "2            2             2.0              0.5545   \n",
              "3            3             2.0              0.4240   \n",
              "4            4             6.0              0.3354   \n",
              "5            5             3.0              0.7014   \n",
              "6            6             0.0              0.7266   \n",
              "7            7             5.0              0.8500   \n",
              "8            8             7.0              0.8339   \n",
              "9            9             4.0              0.7158   \n",
              "\n",
              "                                            Keywords  \\\n",
              "0  artikel, volgen, besluiten, besluit, centrum, ...   \n",
              "1  artikel, onderneming, steun, zelfstandig, prem...   \n",
              "2  overwegende, artikel, vergadering, college, re...   \n",
              "3  overwegende, artikel, vergadering, college, re...   \n",
              "4  besluit, kader, betreffen, raad, cov_id, ordon...   \n",
              "5  artikel, volgen, besluiten, besluit, centrum, ...   \n",
              "6  persoon, kader, verplichting, cov_id, aanwezig...   \n",
              "7  artikel, wetboek, indexcijfer, coefficient, ve...   \n",
              "8  vennootschap, jaar, recht, nieuw, aandeel, doc...   \n",
              "9  wet, diamant, artikel, handelaar, synthetische...   \n",
              "\n",
              "                                                Text  \n",
              "0  [het, nr, beantwoordt, aan, een, behoefte, naa...  \n",
              "1  [verslag, aan, de, regering, in, het, kader, v...  \n",
              "2  [de, regering, van, het, brussels, hoofdstedel...  \n",
              "3  [de, regering, van, de, franse, gemeenschap, g...  \n",
              "4  [de, regering, van, de, franse, gemeenschap, g...  \n",
              "5  [gelet, op, het, advies, van, de, inspecteur, ...  \n",
              "6  [het, verenigd, college, van, de, gelet, op, d...  \n",
              "7  [de, coefficient, bedoeld, in, artikel, van, h...  \n",
              "8  [startende, vennootschappen, kunnen, moeilijkh...  \n",
              "9  [filip, koning, der, belgen, aan, allen, die, ...  "
            ],
            "text/html": [
              "\n",
              "  <div id=\"df-a1679050-d866-498d-a422-07d379da806a\">\n",
              "    <div class=\"colab-df-container\">\n",
              "      <div>\n",
              "<style scoped>\n",
              "    .dataframe tbody tr th:only-of-type {\n",
              "        vertical-align: middle;\n",
              "    }\n",
              "\n",
              "    .dataframe tbody tr th {\n",
              "        vertical-align: top;\n",
              "    }\n",
              "\n",
              "    .dataframe thead th {\n",
              "        text-align: right;\n",
              "    }\n",
              "</style>\n",
              "<table border=\"1\" class=\"dataframe\">\n",
              "  <thead>\n",
              "    <tr style=\"text-align: right;\">\n",
              "      <th></th>\n",
              "      <th>Document_No</th>\n",
              "      <th>Dominant_Topic</th>\n",
              "      <th>Topic_Perc_Contrib</th>\n",
              "      <th>Keywords</th>\n",
              "      <th>Text</th>\n",
              "    </tr>\n",
              "  </thead>\n",
              "  <tbody>\n",
              "    <tr>\n",
              "      <th>0</th>\n",
              "      <td>0</td>\n",
              "      <td>3.0</td>\n",
              "      <td>0.3689</td>\n",
              "      <td>artikel, volgen, besluiten, besluit, centrum, ...</td>\n",
              "      <td>[het, nr, beantwoordt, aan, een, behoefte, naa...</td>\n",
              "    </tr>\n",
              "    <tr>\n",
              "      <th>1</th>\n",
              "      <td>1</td>\n",
              "      <td>1.0</td>\n",
              "      <td>0.5641</td>\n",
              "      <td>artikel, onderneming, steun, zelfstandig, prem...</td>\n",
              "      <td>[verslag, aan, de, regering, in, het, kader, v...</td>\n",
              "    </tr>\n",
              "    <tr>\n",
              "      <th>2</th>\n",
              "      <td>2</td>\n",
              "      <td>2.0</td>\n",
              "      <td>0.5545</td>\n",
              "      <td>overwegende, artikel, vergadering, college, re...</td>\n",
              "      <td>[de, regering, van, het, brussels, hoofdstedel...</td>\n",
              "    </tr>\n",
              "    <tr>\n",
              "      <th>3</th>\n",
              "      <td>3</td>\n",
              "      <td>2.0</td>\n",
              "      <td>0.4240</td>\n",
              "      <td>overwegende, artikel, vergadering, college, re...</td>\n",
              "      <td>[de, regering, van, de, franse, gemeenschap, g...</td>\n",
              "    </tr>\n",
              "    <tr>\n",
              "      <th>4</th>\n",
              "      <td>4</td>\n",
              "      <td>6.0</td>\n",
              "      <td>0.3354</td>\n",
              "      <td>besluit, kader, betreffen, raad, cov_id, ordon...</td>\n",
              "      <td>[de, regering, van, de, franse, gemeenschap, g...</td>\n",
              "    </tr>\n",
              "    <tr>\n",
              "      <th>5</th>\n",
              "      <td>5</td>\n",
              "      <td>3.0</td>\n",
              "      <td>0.7014</td>\n",
              "      <td>artikel, volgen, besluiten, besluit, centrum, ...</td>\n",
              "      <td>[gelet, op, het, advies, van, de, inspecteur, ...</td>\n",
              "    </tr>\n",
              "    <tr>\n",
              "      <th>6</th>\n",
              "      <td>6</td>\n",
              "      <td>0.0</td>\n",
              "      <td>0.7266</td>\n",
              "      <td>persoon, kader, verplichting, cov_id, aanwezig...</td>\n",
              "      <td>[het, verenigd, college, van, de, gelet, op, d...</td>\n",
              "    </tr>\n",
              "    <tr>\n",
              "      <th>7</th>\n",
              "      <td>7</td>\n",
              "      <td>5.0</td>\n",
              "      <td>0.8500</td>\n",
              "      <td>artikel, wetboek, indexcijfer, coefficient, ve...</td>\n",
              "      <td>[de, coefficient, bedoeld, in, artikel, van, h...</td>\n",
              "    </tr>\n",
              "    <tr>\n",
              "      <th>8</th>\n",
              "      <td>8</td>\n",
              "      <td>7.0</td>\n",
              "      <td>0.8339</td>\n",
              "      <td>vennootschap, jaar, recht, nieuw, aandeel, doc...</td>\n",
              "      <td>[startende, vennootschappen, kunnen, moeilijkh...</td>\n",
              "    </tr>\n",
              "    <tr>\n",
              "      <th>9</th>\n",
              "      <td>9</td>\n",
              "      <td>4.0</td>\n",
              "      <td>0.7158</td>\n",
              "      <td>wet, diamant, artikel, handelaar, synthetische...</td>\n",
              "      <td>[filip, koning, der, belgen, aan, allen, die, ...</td>\n",
              "    </tr>\n",
              "  </tbody>\n",
              "</table>\n",
              "</div>\n",
              "      <button class=\"colab-df-convert\" onclick=\"convertToInteractive('df-a1679050-d866-498d-a422-07d379da806a')\"\n",
              "              title=\"Convert this dataframe to an interactive table.\"\n",
              "              style=\"display:none;\">\n",
              "        \n",
              "  <svg xmlns=\"http://www.w3.org/2000/svg\" height=\"24px\"viewBox=\"0 0 24 24\"\n",
              "       width=\"24px\">\n",
              "    <path d=\"M0 0h24v24H0V0z\" fill=\"none\"/>\n",
              "    <path d=\"M18.56 5.44l.94 2.06.94-2.06 2.06-.94-2.06-.94-.94-2.06-.94 2.06-2.06.94zm-11 1L8.5 8.5l.94-2.06 2.06-.94-2.06-.94L8.5 2.5l-.94 2.06-2.06.94zm10 10l.94 2.06.94-2.06 2.06-.94-2.06-.94-.94-2.06-.94 2.06-2.06.94z\"/><path d=\"M17.41 7.96l-1.37-1.37c-.4-.4-.92-.59-1.43-.59-.52 0-1.04.2-1.43.59L10.3 9.45l-7.72 7.72c-.78.78-.78 2.05 0 2.83L4 21.41c.39.39.9.59 1.41.59.51 0 1.02-.2 1.41-.59l7.78-7.78 2.81-2.81c.8-.78.8-2.07 0-2.86zM5.41 20L4 18.59l7.72-7.72 1.47 1.35L5.41 20z\"/>\n",
              "  </svg>\n",
              "      </button>\n",
              "      \n",
              "  <style>\n",
              "    .colab-df-container {\n",
              "      display:flex;\n",
              "      flex-wrap:wrap;\n",
              "      gap: 12px;\n",
              "    }\n",
              "\n",
              "    .colab-df-convert {\n",
              "      background-color: #E8F0FE;\n",
              "      border: none;\n",
              "      border-radius: 50%;\n",
              "      cursor: pointer;\n",
              "      display: none;\n",
              "      fill: #1967D2;\n",
              "      height: 32px;\n",
              "      padding: 0 0 0 0;\n",
              "      width: 32px;\n",
              "    }\n",
              "\n",
              "    .colab-df-convert:hover {\n",
              "      background-color: #E2EBFA;\n",
              "      box-shadow: 0px 1px 2px rgba(60, 64, 67, 0.3), 0px 1px 3px 1px rgba(60, 64, 67, 0.15);\n",
              "      fill: #174EA6;\n",
              "    }\n",
              "\n",
              "    [theme=dark] .colab-df-convert {\n",
              "      background-color: #3B4455;\n",
              "      fill: #D2E3FC;\n",
              "    }\n",
              "\n",
              "    [theme=dark] .colab-df-convert:hover {\n",
              "      background-color: #434B5C;\n",
              "      box-shadow: 0px 1px 3px 1px rgba(0, 0, 0, 0.15);\n",
              "      filter: drop-shadow(0px 1px 2px rgba(0, 0, 0, 0.3));\n",
              "      fill: #FFFFFF;\n",
              "    }\n",
              "  </style>\n",
              "\n",
              "      <script>\n",
              "        const buttonEl =\n",
              "          document.querySelector('#df-a1679050-d866-498d-a422-07d379da806a button.colab-df-convert');\n",
              "        buttonEl.style.display =\n",
              "          google.colab.kernel.accessAllowed ? 'block' : 'none';\n",
              "\n",
              "        async function convertToInteractive(key) {\n",
              "          const element = document.querySelector('#df-a1679050-d866-498d-a422-07d379da806a');\n",
              "          const dataTable =\n",
              "            await google.colab.kernel.invokeFunction('convertToInteractive',\n",
              "                                                     [key], {});\n",
              "          if (!dataTable) return;\n",
              "\n",
              "          const docLinkHtml = 'Like what you see? Visit the ' +\n",
              "            '<a target=\"_blank\" href=https://colab.research.google.com/notebooks/data_table.ipynb>data table notebook</a>'\n",
              "            + ' to learn more about interactive tables.';\n",
              "          element.innerHTML = '';\n",
              "          dataTable['output_type'] = 'display_data';\n",
              "          await google.colab.output.renderOutput(dataTable, element);\n",
              "          const docLink = document.createElement('div');\n",
              "          docLink.innerHTML = docLinkHtml;\n",
              "          element.appendChild(docLink);\n",
              "        }\n",
              "      </script>\n",
              "    </div>\n",
              "  </div>\n",
              "  "
            ]
          },
          "metadata": {},
          "execution_count": 55
        }
      ]
    },
    {
      "cell_type": "markdown",
      "source": [
        "### Finding the most representative document for each topic"
      ],
      "metadata": {
        "id": "rH-gdgkgpfiM"
      }
    },
    {
      "cell_type": "markdown",
      "source": [
        "With understanding the topic, you can find the documents a given topic has contributed to the most and infer the topic by reading that document."
      ],
      "metadata": {
        "id": "Z1e_t-Ufpiyf"
      }
    },
    {
      "cell_type": "code",
      "source": [
        "# Group top 5 sentences under each topic\n",
        "sent_topics_sorteddf_mallet = pd.DataFrame()\n",
        "\n",
        "sent_topics_outdf_grpd = df_topic_sents_keywords.groupby('Dominant_Topic')\n",
        "\n",
        "for i, grp in sent_topics_outdf_grpd:\n",
        "    sent_topics_sorteddf_mallet = pd.concat([sent_topics_sorteddf_mallet, \n",
        "                                             grp.sort_values(['Perc_Contribution'], ascending=[0]).head(1)], \n",
        "                                            axis=0)\n",
        "\n",
        "# Reset Index    \n",
        "sent_topics_sorteddf_mallet.reset_index(drop=True, inplace=True)\n",
        "\n",
        "# Format\n",
        "sent_topics_sorteddf_mallet.columns = ['Topic_Num', \"Topic_Perc_Contrib\", \"Keywords\", \"Text\"]\n",
        "\n",
        "# Show\n",
        "sent_topics_sorteddf_mallet.head()"
      ],
      "metadata": {
        "colab": {
          "base_uri": "https://localhost:8080/",
          "height": 206
        },
        "id": "RNhW5j47pqBn",
        "outputId": "86929129-caa2-41f7-93ea-96c86dbb5373"
      },
      "execution_count": null,
      "outputs": [
        {
          "output_type": "execute_result",
          "data": {
            "text/plain": [
              "   Topic_Num  Topic_Perc_Contrib  \\\n",
              "0        0.0              0.7266   \n",
              "1        1.0              0.5641   \n",
              "2        2.0              0.5545   \n",
              "3        3.0              0.7014   \n",
              "4        4.0              0.7158   \n",
              "\n",
              "                                            Keywords  \\\n",
              "0  persoon, kader, verplichting, cov_id, aanwezig...   \n",
              "1  artikel, onderneming, steun, zelfstandig, prem...   \n",
              "2  overwegende, artikel, vergadering, college, re...   \n",
              "3  artikel, volgen, besluiten, besluit, centrum, ...   \n",
              "4  wet, diamant, artikel, handelaar, synthetische...   \n",
              "\n",
              "                                                Text  \n",
              "0  [het, verenigd, college, van, de, gelet, op, d...  \n",
              "1  [verslag, aan, de, regering, in, het, kader, v...  \n",
              "2  [de, regering, van, het, brussels, hoofdstedel...  \n",
              "3  [gelet, op, het, advies, van, de, inspecteur, ...  \n",
              "4  [filip, koning, der, belgen, aan, allen, die, ...  "
            ],
            "text/html": [
              "\n",
              "  <div id=\"df-1199084b-a853-40aa-9ca6-920e1e84c84c\">\n",
              "    <div class=\"colab-df-container\">\n",
              "      <div>\n",
              "<style scoped>\n",
              "    .dataframe tbody tr th:only-of-type {\n",
              "        vertical-align: middle;\n",
              "    }\n",
              "\n",
              "    .dataframe tbody tr th {\n",
              "        vertical-align: top;\n",
              "    }\n",
              "\n",
              "    .dataframe thead th {\n",
              "        text-align: right;\n",
              "    }\n",
              "</style>\n",
              "<table border=\"1\" class=\"dataframe\">\n",
              "  <thead>\n",
              "    <tr style=\"text-align: right;\">\n",
              "      <th></th>\n",
              "      <th>Topic_Num</th>\n",
              "      <th>Topic_Perc_Contrib</th>\n",
              "      <th>Keywords</th>\n",
              "      <th>Text</th>\n",
              "    </tr>\n",
              "  </thead>\n",
              "  <tbody>\n",
              "    <tr>\n",
              "      <th>0</th>\n",
              "      <td>0.0</td>\n",
              "      <td>0.7266</td>\n",
              "      <td>persoon, kader, verplichting, cov_id, aanwezig...</td>\n",
              "      <td>[het, verenigd, college, van, de, gelet, op, d...</td>\n",
              "    </tr>\n",
              "    <tr>\n",
              "      <th>1</th>\n",
              "      <td>1.0</td>\n",
              "      <td>0.5641</td>\n",
              "      <td>artikel, onderneming, steun, zelfstandig, prem...</td>\n",
              "      <td>[verslag, aan, de, regering, in, het, kader, v...</td>\n",
              "    </tr>\n",
              "    <tr>\n",
              "      <th>2</th>\n",
              "      <td>2.0</td>\n",
              "      <td>0.5545</td>\n",
              "      <td>overwegende, artikel, vergadering, college, re...</td>\n",
              "      <td>[de, regering, van, het, brussels, hoofdstedel...</td>\n",
              "    </tr>\n",
              "    <tr>\n",
              "      <th>3</th>\n",
              "      <td>3.0</td>\n",
              "      <td>0.7014</td>\n",
              "      <td>artikel, volgen, besluiten, besluit, centrum, ...</td>\n",
              "      <td>[gelet, op, het, advies, van, de, inspecteur, ...</td>\n",
              "    </tr>\n",
              "    <tr>\n",
              "      <th>4</th>\n",
              "      <td>4.0</td>\n",
              "      <td>0.7158</td>\n",
              "      <td>wet, diamant, artikel, handelaar, synthetische...</td>\n",
              "      <td>[filip, koning, der, belgen, aan, allen, die, ...</td>\n",
              "    </tr>\n",
              "  </tbody>\n",
              "</table>\n",
              "</div>\n",
              "      <button class=\"colab-df-convert\" onclick=\"convertToInteractive('df-1199084b-a853-40aa-9ca6-920e1e84c84c')\"\n",
              "              title=\"Convert this dataframe to an interactive table.\"\n",
              "              style=\"display:none;\">\n",
              "        \n",
              "  <svg xmlns=\"http://www.w3.org/2000/svg\" height=\"24px\"viewBox=\"0 0 24 24\"\n",
              "       width=\"24px\">\n",
              "    <path d=\"M0 0h24v24H0V0z\" fill=\"none\"/>\n",
              "    <path d=\"M18.56 5.44l.94 2.06.94-2.06 2.06-.94-2.06-.94-.94-2.06-.94 2.06-2.06.94zm-11 1L8.5 8.5l.94-2.06 2.06-.94-2.06-.94L8.5 2.5l-.94 2.06-2.06.94zm10 10l.94 2.06.94-2.06 2.06-.94-2.06-.94-.94-2.06-.94 2.06-2.06.94z\"/><path d=\"M17.41 7.96l-1.37-1.37c-.4-.4-.92-.59-1.43-.59-.52 0-1.04.2-1.43.59L10.3 9.45l-7.72 7.72c-.78.78-.78 2.05 0 2.83L4 21.41c.39.39.9.59 1.41.59.51 0 1.02-.2 1.41-.59l7.78-7.78 2.81-2.81c.8-.78.8-2.07 0-2.86zM5.41 20L4 18.59l7.72-7.72 1.47 1.35L5.41 20z\"/>\n",
              "  </svg>\n",
              "      </button>\n",
              "      \n",
              "  <style>\n",
              "    .colab-df-container {\n",
              "      display:flex;\n",
              "      flex-wrap:wrap;\n",
              "      gap: 12px;\n",
              "    }\n",
              "\n",
              "    .colab-df-convert {\n",
              "      background-color: #E8F0FE;\n",
              "      border: none;\n",
              "      border-radius: 50%;\n",
              "      cursor: pointer;\n",
              "      display: none;\n",
              "      fill: #1967D2;\n",
              "      height: 32px;\n",
              "      padding: 0 0 0 0;\n",
              "      width: 32px;\n",
              "    }\n",
              "\n",
              "    .colab-df-convert:hover {\n",
              "      background-color: #E2EBFA;\n",
              "      box-shadow: 0px 1px 2px rgba(60, 64, 67, 0.3), 0px 1px 3px 1px rgba(60, 64, 67, 0.15);\n",
              "      fill: #174EA6;\n",
              "    }\n",
              "\n",
              "    [theme=dark] .colab-df-convert {\n",
              "      background-color: #3B4455;\n",
              "      fill: #D2E3FC;\n",
              "    }\n",
              "\n",
              "    [theme=dark] .colab-df-convert:hover {\n",
              "      background-color: #434B5C;\n",
              "      box-shadow: 0px 1px 3px 1px rgba(0, 0, 0, 0.15);\n",
              "      filter: drop-shadow(0px 1px 2px rgba(0, 0, 0, 0.3));\n",
              "      fill: #FFFFFF;\n",
              "    }\n",
              "  </style>\n",
              "\n",
              "      <script>\n",
              "        const buttonEl =\n",
              "          document.querySelector('#df-1199084b-a853-40aa-9ca6-920e1e84c84c button.colab-df-convert');\n",
              "        buttonEl.style.display =\n",
              "          google.colab.kernel.accessAllowed ? 'block' : 'none';\n",
              "\n",
              "        async function convertToInteractive(key) {\n",
              "          const element = document.querySelector('#df-1199084b-a853-40aa-9ca6-920e1e84c84c');\n",
              "          const dataTable =\n",
              "            await google.colab.kernel.invokeFunction('convertToInteractive',\n",
              "                                                     [key], {});\n",
              "          if (!dataTable) return;\n",
              "\n",
              "          const docLinkHtml = 'Like what you see? Visit the ' +\n",
              "            '<a target=\"_blank\" href=https://colab.research.google.com/notebooks/data_table.ipynb>data table notebook</a>'\n",
              "            + ' to learn more about interactive tables.';\n",
              "          element.innerHTML = '';\n",
              "          dataTable['output_type'] = 'display_data';\n",
              "          await google.colab.output.renderOutput(dataTable, element);\n",
              "          const docLink = document.createElement('div');\n",
              "          docLink.innerHTML = docLinkHtml;\n",
              "          element.appendChild(docLink);\n",
              "        }\n",
              "      </script>\n",
              "    </div>\n",
              "  </div>\n",
              "  "
            ]
          },
          "metadata": {},
          "execution_count": 56
        }
      ]
    },
    {
      "cell_type": "markdown",
      "source": [
        "The tabular output above actually has 20 rows, one each for a topic. It has the topic number, the keywords, and the most representative document. The **Perc_Contribution column** is nothing but the percentage contribution of the topic in the given document."
      ],
      "metadata": {
        "id": "DoYcEQQNp6Lm"
      }
    },
    {
      "cell_type": "markdown",
      "source": [
        "## Topic distribution across documents"
      ],
      "metadata": {
        "id": "GP4W5PoIp-pK"
      }
    },
    {
      "cell_type": "markdown",
      "source": [
        "Finally, we want to understand the volume and distribution of topics in order to judge how widely it was discussed. "
      ],
      "metadata": {
        "id": "nFRFXvosqB4n"
      }
    },
    {
      "cell_type": "code",
      "source": [
        "# Number of Documents for Each Topic\n",
        "topic_counts = df_topic_sents_keywords['Dominant_Topic'].value_counts()\n",
        "\n",
        "# Percentage of Documents for Each Topic\n",
        "topic_contribution = round(topic_counts/topic_counts.sum(), 4)\n",
        "\n",
        "# Topic Number and Keywords\n",
        "topic_num_keywords = df_topic_sents_keywords[['Dominant_Topic', 'Topic_Keywords']]\n",
        "\n",
        "# Concatenate Column wise\n",
        "df_dominant_topics = pd.concat([topic_num_keywords, topic_counts, topic_contribution], axis=1)\n",
        "\n",
        "# Change Column names\n",
        "df_dominant_topics.columns = ['Dominant_Topic', 'Topic_Keywords', 'Num_Documents', 'Perc_Documents']\n",
        "\n",
        "# Show\n",
        "df_dominant_topics"
      ],
      "metadata": {
        "id": "UhzZdILGqUaT",
        "colab": {
          "base_uri": "https://localhost:8080/",
          "height": 363
        },
        "outputId": "f2291f22-546e-48f7-90cb-ec95e69e5008"
      },
      "execution_count": null,
      "outputs": [
        {
          "output_type": "execute_result",
          "data": {
            "text/plain": [
              "     Dominant_Topic                                     Topic_Keywords  \\\n",
              "0.0             3.0  artikel, volgen, besluiten, besluit, centrum, ...   \n",
              "1.0             1.0  artikel, onderneming, steun, zelfstandig, prem...   \n",
              "2.0             2.0  overwegende, artikel, vergadering, college, re...   \n",
              "3.0             2.0  overwegende, artikel, vergadering, college, re...   \n",
              "4.0             6.0  besluit, kader, betreffen, raad, cov_id, ordon...   \n",
              "5.0             3.0  artikel, volgen, besluiten, besluit, centrum, ...   \n",
              "6.0             0.0  persoon, kader, verplichting, cov_id, aanwezig...   \n",
              "7.0             5.0  artikel, wetboek, indexcijfer, coefficient, ve...   \n",
              "8.0             7.0  vennootschap, jaar, recht, nieuw, aandeel, doc...   \n",
              "9.0             4.0  wet, diamant, artikel, handelaar, synthetische...   \n",
              "\n",
              "     Num_Documents  Perc_Documents  \n",
              "0.0            1.0             0.1  \n",
              "1.0            1.0             0.1  \n",
              "2.0            2.0             0.2  \n",
              "3.0            2.0             0.2  \n",
              "4.0            1.0             0.1  \n",
              "5.0            1.0             0.1  \n",
              "6.0            1.0             0.1  \n",
              "7.0            1.0             0.1  \n",
              "8.0            NaN             NaN  \n",
              "9.0            NaN             NaN  "
            ],
            "text/html": [
              "\n",
              "  <div id=\"df-5b8a6185-b77f-4ff9-94b5-a077f1574abf\">\n",
              "    <div class=\"colab-df-container\">\n",
              "      <div>\n",
              "<style scoped>\n",
              "    .dataframe tbody tr th:only-of-type {\n",
              "        vertical-align: middle;\n",
              "    }\n",
              "\n",
              "    .dataframe tbody tr th {\n",
              "        vertical-align: top;\n",
              "    }\n",
              "\n",
              "    .dataframe thead th {\n",
              "        text-align: right;\n",
              "    }\n",
              "</style>\n",
              "<table border=\"1\" class=\"dataframe\">\n",
              "  <thead>\n",
              "    <tr style=\"text-align: right;\">\n",
              "      <th></th>\n",
              "      <th>Dominant_Topic</th>\n",
              "      <th>Topic_Keywords</th>\n",
              "      <th>Num_Documents</th>\n",
              "      <th>Perc_Documents</th>\n",
              "    </tr>\n",
              "  </thead>\n",
              "  <tbody>\n",
              "    <tr>\n",
              "      <th>0.0</th>\n",
              "      <td>3.0</td>\n",
              "      <td>artikel, volgen, besluiten, besluit, centrum, ...</td>\n",
              "      <td>1.0</td>\n",
              "      <td>0.1</td>\n",
              "    </tr>\n",
              "    <tr>\n",
              "      <th>1.0</th>\n",
              "      <td>1.0</td>\n",
              "      <td>artikel, onderneming, steun, zelfstandig, prem...</td>\n",
              "      <td>1.0</td>\n",
              "      <td>0.1</td>\n",
              "    </tr>\n",
              "    <tr>\n",
              "      <th>2.0</th>\n",
              "      <td>2.0</td>\n",
              "      <td>overwegende, artikel, vergadering, college, re...</td>\n",
              "      <td>2.0</td>\n",
              "      <td>0.2</td>\n",
              "    </tr>\n",
              "    <tr>\n",
              "      <th>3.0</th>\n",
              "      <td>2.0</td>\n",
              "      <td>overwegende, artikel, vergadering, college, re...</td>\n",
              "      <td>2.0</td>\n",
              "      <td>0.2</td>\n",
              "    </tr>\n",
              "    <tr>\n",
              "      <th>4.0</th>\n",
              "      <td>6.0</td>\n",
              "      <td>besluit, kader, betreffen, raad, cov_id, ordon...</td>\n",
              "      <td>1.0</td>\n",
              "      <td>0.1</td>\n",
              "    </tr>\n",
              "    <tr>\n",
              "      <th>5.0</th>\n",
              "      <td>3.0</td>\n",
              "      <td>artikel, volgen, besluiten, besluit, centrum, ...</td>\n",
              "      <td>1.0</td>\n",
              "      <td>0.1</td>\n",
              "    </tr>\n",
              "    <tr>\n",
              "      <th>6.0</th>\n",
              "      <td>0.0</td>\n",
              "      <td>persoon, kader, verplichting, cov_id, aanwezig...</td>\n",
              "      <td>1.0</td>\n",
              "      <td>0.1</td>\n",
              "    </tr>\n",
              "    <tr>\n",
              "      <th>7.0</th>\n",
              "      <td>5.0</td>\n",
              "      <td>artikel, wetboek, indexcijfer, coefficient, ve...</td>\n",
              "      <td>1.0</td>\n",
              "      <td>0.1</td>\n",
              "    </tr>\n",
              "    <tr>\n",
              "      <th>8.0</th>\n",
              "      <td>7.0</td>\n",
              "      <td>vennootschap, jaar, recht, nieuw, aandeel, doc...</td>\n",
              "      <td>NaN</td>\n",
              "      <td>NaN</td>\n",
              "    </tr>\n",
              "    <tr>\n",
              "      <th>9.0</th>\n",
              "      <td>4.0</td>\n",
              "      <td>wet, diamant, artikel, handelaar, synthetische...</td>\n",
              "      <td>NaN</td>\n",
              "      <td>NaN</td>\n",
              "    </tr>\n",
              "  </tbody>\n",
              "</table>\n",
              "</div>\n",
              "      <button class=\"colab-df-convert\" onclick=\"convertToInteractive('df-5b8a6185-b77f-4ff9-94b5-a077f1574abf')\"\n",
              "              title=\"Convert this dataframe to an interactive table.\"\n",
              "              style=\"display:none;\">\n",
              "        \n",
              "  <svg xmlns=\"http://www.w3.org/2000/svg\" height=\"24px\"viewBox=\"0 0 24 24\"\n",
              "       width=\"24px\">\n",
              "    <path d=\"M0 0h24v24H0V0z\" fill=\"none\"/>\n",
              "    <path d=\"M18.56 5.44l.94 2.06.94-2.06 2.06-.94-2.06-.94-.94-2.06-.94 2.06-2.06.94zm-11 1L8.5 8.5l.94-2.06 2.06-.94-2.06-.94L8.5 2.5l-.94 2.06-2.06.94zm10 10l.94 2.06.94-2.06 2.06-.94-2.06-.94-.94-2.06-.94 2.06-2.06.94z\"/><path d=\"M17.41 7.96l-1.37-1.37c-.4-.4-.92-.59-1.43-.59-.52 0-1.04.2-1.43.59L10.3 9.45l-7.72 7.72c-.78.78-.78 2.05 0 2.83L4 21.41c.39.39.9.59 1.41.59.51 0 1.02-.2 1.41-.59l7.78-7.78 2.81-2.81c.8-.78.8-2.07 0-2.86zM5.41 20L4 18.59l7.72-7.72 1.47 1.35L5.41 20z\"/>\n",
              "  </svg>\n",
              "      </button>\n",
              "      \n",
              "  <style>\n",
              "    .colab-df-container {\n",
              "      display:flex;\n",
              "      flex-wrap:wrap;\n",
              "      gap: 12px;\n",
              "    }\n",
              "\n",
              "    .colab-df-convert {\n",
              "      background-color: #E8F0FE;\n",
              "      border: none;\n",
              "      border-radius: 50%;\n",
              "      cursor: pointer;\n",
              "      display: none;\n",
              "      fill: #1967D2;\n",
              "      height: 32px;\n",
              "      padding: 0 0 0 0;\n",
              "      width: 32px;\n",
              "    }\n",
              "\n",
              "    .colab-df-convert:hover {\n",
              "      background-color: #E2EBFA;\n",
              "      box-shadow: 0px 1px 2px rgba(60, 64, 67, 0.3), 0px 1px 3px 1px rgba(60, 64, 67, 0.15);\n",
              "      fill: #174EA6;\n",
              "    }\n",
              "\n",
              "    [theme=dark] .colab-df-convert {\n",
              "      background-color: #3B4455;\n",
              "      fill: #D2E3FC;\n",
              "    }\n",
              "\n",
              "    [theme=dark] .colab-df-convert:hover {\n",
              "      background-color: #434B5C;\n",
              "      box-shadow: 0px 1px 3px 1px rgba(0, 0, 0, 0.15);\n",
              "      filter: drop-shadow(0px 1px 2px rgba(0, 0, 0, 0.3));\n",
              "      fill: #FFFFFF;\n",
              "    }\n",
              "  </style>\n",
              "\n",
              "      <script>\n",
              "        const buttonEl =\n",
              "          document.querySelector('#df-5b8a6185-b77f-4ff9-94b5-a077f1574abf button.colab-df-convert');\n",
              "        buttonEl.style.display =\n",
              "          google.colab.kernel.accessAllowed ? 'block' : 'none';\n",
              "\n",
              "        async function convertToInteractive(key) {\n",
              "          const element = document.querySelector('#df-5b8a6185-b77f-4ff9-94b5-a077f1574abf');\n",
              "          const dataTable =\n",
              "            await google.colab.kernel.invokeFunction('convertToInteractive',\n",
              "                                                     [key], {});\n",
              "          if (!dataTable) return;\n",
              "\n",
              "          const docLinkHtml = 'Like what you see? Visit the ' +\n",
              "            '<a target=\"_blank\" href=https://colab.research.google.com/notebooks/data_table.ipynb>data table notebook</a>'\n",
              "            + ' to learn more about interactive tables.';\n",
              "          element.innerHTML = '';\n",
              "          dataTable['output_type'] = 'display_data';\n",
              "          await google.colab.output.renderOutput(dataTable, element);\n",
              "          const docLink = document.createElement('div');\n",
              "          docLink.innerHTML = docLinkHtml;\n",
              "          element.appendChild(docLink);\n",
              "        }\n",
              "      </script>\n",
              "    </div>\n",
              "  </div>\n",
              "  "
            ]
          },
          "metadata": {},
          "execution_count": 57
        }
      ]
    },
    {
      "cell_type": "markdown",
      "source": [
        "## CONCLUSION"
      ],
      "metadata": {
        "id": "OXf89-LI3xO-"
      }
    },
    {
      "cell_type": "markdown",
      "source": [
        "From ten (10) Dutch legal text files that were cleaned, further ML preprocessing and unsupervised topic extraction were carried out via:\n",
        "\n",
        "- A basic topic model using Gensim’s LDA; \n",
        "\n",
        "- pyLDAvis for topic visualisation; and \n",
        "\n",
        "- Mallet’s LDA implementation."
      ],
      "metadata": {
        "id": "5pc767Ni3zK7"
      }
    }
  ]
}