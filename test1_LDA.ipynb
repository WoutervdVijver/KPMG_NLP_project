{
  "nbformat": 4,
  "nbformat_minor": 0,
  "metadata": {
    "colab": {
      "name": "test1_LDA.ipynb",
      "provenance": [],
      "collapsed_sections": []
    },
    "kernelspec": {
      "name": "python3",
      "display_name": "Python 3"
    },
    "language_info": {
      "name": "python"
    }
  },
  "cells": [
    {
      "cell_type": "markdown",
      "source": [
        "## Further text preprocessing"
      ],
      "metadata": {
        "id": "2v-ju9XmWFJI"
      }
    },
    {
      "cell_type": "markdown",
      "source": [
        "### Objectives of this test"
      ],
      "metadata": {
        "id": "9CiTfVEiluGf"
      }
    },
    {
      "cell_type": "markdown",
      "source": [
        "- Implement Latent Dirichlet Allocation (**LDA**) from **Gensim** package along with the Mallet’s implementation (via Gensim). \n",
        "\n",
        "- Implement **Mallet** that optimizes LDA. Mallet is known to run faster and gives better topic segregation.\n",
        "\n",
        "- Also extract the volume and percentage contribution of each topic to get **an idea of how important a topic is**."
      ],
      "metadata": {
        "id": "nOmYI8FIlwj8"
      }
    },
    {
      "cell_type": "markdown",
      "source": [
        "### Pre-requisites: Downloading NLTK Dutch stopwords, data handling tools, model preprocessing & plotting tools, and SpaCy model"
      ],
      "metadata": {
        "id": "HliZG8C-V8gW"
      }
    },
    {
      "cell_type": "code",
      "source": [
        "# NLTK\n",
        "import nltk\n",
        "nltk.download('stopwords', 'dutch')"
      ],
      "metadata": {
        "id": "kjP68jeYftR4",
        "colab": {
          "base_uri": "https://localhost:8080/"
        },
        "outputId": "adc6cc4a-e62e-4480-d39a-ad773e6c120f"
      },
      "execution_count": 2,
      "outputs": [
        {
          "output_type": "stream",
          "name": "stdout",
          "text": [
            "[nltk_data] Downloading package stopwords to dutch...\n",
            "[nltk_data]   Unzipping corpora/stopwords.zip.\n"
          ]
        },
        {
          "output_type": "execute_result",
          "data": {
            "text/plain": [
              "True"
            ]
          },
          "metadata": {},
          "execution_count": 2
        }
      ]
    },
    {
      "cell_type": "code",
      "source": [
        "# Python data analysis tools and python module for printing\n",
        "import re\n",
        "import numpy as np\n",
        "import pandas as pd\n",
        "from pprint import pprint"
      ],
      "metadata": {
        "id": "-gP7ww_liQub"
      },
      "execution_count": 3,
      "outputs": []
    },
    {
      "cell_type": "code",
      "source": [
        "# Gensim\n",
        "import gensim\n",
        "import gensim.corpora as corpora\n",
        "from gensim.utils import simple_preprocess\n",
        "from gensim.models import CoherenceModel"
      ],
      "metadata": {
        "id": "ZTlhs2HnmGyB"
      },
      "execution_count": 4,
      "outputs": []
    },
    {
      "cell_type": "code",
      "source": [
        "# SpaCy for lemmatization\n",
        "import spacy"
      ],
      "metadata": {
        "id": "fBAzmTMOmp9f"
      },
      "execution_count": 5,
      "outputs": []
    },
    {
      "cell_type": "code",
      "source": [
        "# Plotting tools\n",
        "!pip install pyLDAvis\n",
        "\n",
        "import pyLDAvis\n",
        "import pyLDAvis.gensim_models as gensimvis\n",
        "pyLDAvis.enable_notebook()\n",
        "\n",
        "import matplotlib.pyplot as plt"
      ],
      "metadata": {
        "id": "1oTmcphNmuBR",
        "colab": {
          "base_uri": "https://localhost:8080/"
        },
        "outputId": "b7d36f04-8eb8-4acb-abba-b5f9773ad204"
      },
      "execution_count": 8,
      "outputs": [
        {
          "output_type": "stream",
          "name": "stdout",
          "text": [
            "Looking in indexes: https://pypi.org/simple, https://us-python.pkg.dev/colab-wheels/public/simple/\n",
            "Requirement already satisfied: pyLDAvis in /usr/local/lib/python3.7/dist-packages (3.3.1)\n",
            "Requirement already satisfied: joblib in /usr/local/lib/python3.7/dist-packages (from pyLDAvis) (1.1.0)\n",
            "Requirement already satisfied: pandas>=1.2.0 in /usr/local/lib/python3.7/dist-packages (from pyLDAvis) (1.3.5)\n",
            "Requirement already satisfied: jinja2 in /usr/local/lib/python3.7/dist-packages (from pyLDAvis) (2.11.3)\n",
            "Requirement already satisfied: numpy>=1.20.0 in /usr/local/lib/python3.7/dist-packages (from pyLDAvis) (1.21.6)\n",
            "Requirement already satisfied: funcy in /usr/local/lib/python3.7/dist-packages (from pyLDAvis) (1.17)\n",
            "Requirement already satisfied: scikit-learn in /usr/local/lib/python3.7/dist-packages (from pyLDAvis) (1.0.2)\n",
            "Requirement already satisfied: future in /usr/local/lib/python3.7/dist-packages (from pyLDAvis) (0.16.0)\n",
            "Requirement already satisfied: sklearn in /usr/local/lib/python3.7/dist-packages (from pyLDAvis) (0.0)\n",
            "Requirement already satisfied: gensim in /usr/local/lib/python3.7/dist-packages (from pyLDAvis) (3.6.0)\n",
            "Requirement already satisfied: setuptools in /usr/local/lib/python3.7/dist-packages (from pyLDAvis) (57.4.0)\n",
            "Requirement already satisfied: numexpr in /usr/local/lib/python3.7/dist-packages (from pyLDAvis) (2.8.1)\n",
            "Requirement already satisfied: scipy in /usr/local/lib/python3.7/dist-packages (from pyLDAvis) (1.4.1)\n",
            "Requirement already satisfied: pytz>=2017.3 in /usr/local/lib/python3.7/dist-packages (from pandas>=1.2.0->pyLDAvis) (2022.1)\n",
            "Requirement already satisfied: python-dateutil>=2.7.3 in /usr/local/lib/python3.7/dist-packages (from pandas>=1.2.0->pyLDAvis) (2.8.2)\n",
            "Requirement already satisfied: six>=1.5 in /usr/local/lib/python3.7/dist-packages (from python-dateutil>=2.7.3->pandas>=1.2.0->pyLDAvis) (1.15.0)\n",
            "Requirement already satisfied: smart-open>=1.2.1 in /usr/local/lib/python3.7/dist-packages (from gensim->pyLDAvis) (5.2.1)\n",
            "Requirement already satisfied: MarkupSafe>=0.23 in /usr/local/lib/python3.7/dist-packages (from jinja2->pyLDAvis) (2.0.1)\n",
            "Requirement already satisfied: packaging in /usr/local/lib/python3.7/dist-packages (from numexpr->pyLDAvis) (21.3)\n",
            "Requirement already satisfied: pyparsing!=3.0.5,>=2.0.2 in /usr/local/lib/python3.7/dist-packages (from packaging->numexpr->pyLDAvis) (3.0.9)\n",
            "Requirement already satisfied: threadpoolctl>=2.0.0 in /usr/local/lib/python3.7/dist-packages (from scikit-learn->pyLDAvis) (3.1.0)\n"
          ]
        }
      ]
    },
    {
      "cell_type": "code",
      "source": [
        "# Ignoring warnings\n",
        "import warnings\n",
        "warnings.filterwarnings('ignore', category=DeprecationWarning)"
      ],
      "metadata": {
        "id": "958NglFuoAJm"
      },
      "execution_count": 9,
      "outputs": []
    },
    {
      "cell_type": "markdown",
      "source": [
        "### Preparing stopwords"
      ],
      "metadata": {
        "id": "JhmR5NYqodQe"
      }
    },
    {
      "cell_type": "code",
      "source": [
        "# NLTK Stop words\n",
        "import nltk\n",
        "from nltk.corpus import stopwords\n",
        "nltk.download('stopwords')\n",
        "\n",
        "stop_words = nltk.corpus.stopwords.words('dutch')"
      ],
      "metadata": {
        "colab": {
          "base_uri": "https://localhost:8080/"
        },
        "id": "i2F9qd3Aodpz",
        "outputId": "f37358b9-751d-4e3b-f744-5a912ecd87e2"
      },
      "execution_count": 10,
      "outputs": [
        {
          "output_type": "stream",
          "name": "stdout",
          "text": [
            "[nltk_data] Downloading package stopwords to /root/nltk_data...\n",
            "[nltk_data]   Unzipping corpora/stopwords.zip.\n"
          ]
        }
      ]
    },
    {
      "cell_type": "markdown",
      "source": [
        "### Tokenizing words and cleaning-up text"
      ],
      "metadata": {
        "id": "arIOjuW-G9RL"
      }
    },
    {
      "cell_type": "code",
      "source": [
        "# Importing file handling library\n",
        "import os\n",
        "\n",
        "# Opening one sample Dutch legal text document\n",
        "file = open('drive/MyDrive/numac=2019041722.txt','rt')\n",
        "dutch_text = file.read()\n",
        "file.close()"
      ],
      "metadata": {
        "id": "RmhzdOvOOwN3"
      },
      "execution_count": 11,
      "outputs": []
    },
    {
      "cell_type": "code",
      "source": [
        "# Replace newline with a single space\n",
        "# Putting all words in lowercase\n",
        "text = dutch_text.replace('\\n', '')\n",
        "raw_text = text.lower()\n",
        "print(raw_text)"
      ],
      "metadata": {
        "colab": {
          "base_uri": "https://localhost:8080/"
        },
        "id": "jinqxaWilXQc",
        "outputId": "2a4d691f-cea6-4953-af01-68fc100f15f5"
      },
      "execution_count": 12,
      "outputs": [
        {
          "output_type": "stream",
          "name": "stdout",
          "text": [
            "verslag aan de koning sire, het ontwerp van koninklijk besluit dat wij de eer hebben aan uwe majesteit voor te leggen, beoogt de uitvoering van de artikelen 93 ter tot 93 quinquies van het wetboek van de belasting over de toegevoegde waarde (hierna \"wbtw\"), de artikelen 412 bis, 433 tot 435 van het wetboek van de inkomstenbelastingen 1992 (hierna \"wib 92\"), de artikelen 35 tot 37 en 43 tot 45 en 47 van het wetboek van de minnelijke en gedwongen invordering van fiscale en niet-fiscale schuldvorderingen (hierna \"invorderingswetboek\") en de artikelen 157 tot 159 en 161 van de programmawet (i) van 29 maart 2012 (hierna \"programmawet\", zoals gewijzigd door de wet van 11 februari 2019 houdende fiscale, fraude bestrijdende, financiële alsook diverse bepalingen en de wet van 23 april 2020 houdende wijzigingen van het wetboek van de belasting over de toegevoegde waarde, het wetboek van de inkomstenbelastingen 1992, het wetboek van de minnelijke en gedwongen invordering van fiscale en niet-fiscale schuldvorderingen en de programmawet (i) van 29 maart 2012, inzake de verwerking van persoonsgegevens via het e-notariaat. de nieuwe werkwijze kadert binnen de modernisering van de federale overheidsdienst financiën, de administratieve vereenvoudiging en de kostenbesparing. dit heeft als hoofddoel het instellen van een kennisgevingssysteem dat de ontvangers toelaat om kennisgevingen elektronisch te verzenden, zowel de kennisgevingen bestemd voor de notaris als voor elke persoon die bevoegd is om authenticiteit te verlenen aan de in de artikelen 93 ter van het wbtw, 433 van het wib 92 en 35 van het invorderingswetboek bedoelde akten, met name de akten tot overdracht van zakelijke rechten en de akten houdende hypothecaire aanwending van goederen die er vatbaar voor zijn, alsook de kennisgevingen bestemd voor elke persoon bevoegd om een akte of attest van erfopvolging op te stellen. bovendien worden de in de voornoemde wettelijke bepalingen opgenomen praktische toepassingsvoorwaarden eenvormig gemaakt waardoor de verschillende uitvoeringsmaatregelen in één enkel reglementair besluit kunnen worden samengebracht. de adviezen nr. 65.887/3 en 67.285/3 van de raad van state, gegeven op 5 mei 2019 en 25 mei 2020, werden gevolgd. artikel 2 stelt dat de vermeldingen die moeten voorkomen op de berichten en inlichtingen in uitvoering van het wbtw, wib 92, invorderingswetboek en de programmawet worden bijgevoegd in de bijlagen 1 tot 4 van dit besluit. de artikelen 3 en 4 bepalen dat de vermeldingen in de berichten en inlichtingen identiek moeten zijn ongeacht de gebruikte communicatiemethode (op elektronische wijze of bij aangetekende zending).artikel 5 specificeert de ambtenaren aan wie de berichten bedoeld in de artikelen 93 ter wbtw, 412 bis en 433 wib 92, 35 en 43 van het invorderingswetboek en 157/1 van de programmawet moeten worden meegedeeld wanneer het bericht omwille van overmacht of een technische storing niet op elektronische wijze kan worden meegedeeld, en wanneer de eigenaar of de houder van een zakelijk recht op het goed in het buitenland verblijft, of wanneer de erflater en/of een van zijn rechtverkrijgenden in het buitenland verblijven. daarnaast specificeert het de in de artikelen 157 en 157/1 bedoelde ambtenaar van de algemene administratie van de patrimoniumdocumentatie aan wie het bericht moet worden geadresseerd in geval het bericht niet op elektronische wijze kan worden kennisgegeven aan de stafdienst ict omwille van overmacht of een technische storing. artikel 6 omschrijft de technische specificaties van de kennisgeving op elektronische wijze, alsook de geldigheidsvoorwaarden van de elektronische handtekening. de ontvangers bevoegd voor de kennisgevingen hebben toegang tot de toepassing om de kennisgevingen door middel van hun elektronische identiteitskaart op te maken, wat er voor zorgt dat enkel de bevoegde personen geldig een kennisgeving op grond van de artikelen 93 quater van het wbtw, 434 van het wib 92, 36 en 44 van het invorderingswetboek en 158 en 158/1 van de programmawet kunnen versturen. deze kennisgeving wordt vervolgens gecertificeerd door de federale overheidsdienst financiën. ze is bekleed met een elektronische handtekening die overeenstemt met de digitale handtekening van de federale overheidsdienst financiën, vertegenwoordigd door een certificaat afgeleverd door een gekwalificeerde vertrouwensdienst in de zin van artikel 3 van verordening (eu) nr. 910/2014 van het europees parlement en de raad van 23 juli 2014 betreffende elektronische identificatie en vertrouwensdiensten voor elektronische transacties in de interne markt en tot intrekking van richtlijn 1999/93/eg. bovendien zal de elektronische kennisgeving de veiligheid van uitgewisselde informatie verzekeren door middel van aangepaste beveiligingstechnieken. in het attest van erfopvolging of aan de voet van de uitgifte van de akte van erfopvolging wordt vermeld hetzij dat er geen kennisgeving van schulden bij toepassing van de artikelen 158 en 158/1 van de programmawet en 44 van het invorderingswetboek werd gedaan, hetzij dat de schulden waarvan bij toepassing van de artikelen 158 en 158/1 van de programmawet en artikel 44 van het invorderingswetboek kennis werd gegeven zijn betaald of, in voorkomend geval zullen worden betaald met de tegoeden gehouden door de schuldenaar. artikel 7 specificeert de ambtenaar die de vermelding moet doen van de gedane of van de nog te verrichten betaling in het attest of aan de voet van de uitgifte van de akte van erfopvolging artikel 8 wijzigt het artikel 210 ter, van het koninklijk besluit tot uitvoering van het wetboek van de inkomstenbelastingen 1992 (hierna \"kb wib 92\") als gevolg van dit ontwerpbesluit. artikel 9 bevat een technische correctie van artikel 233 kb wib 92 naar aanleiding van de opheffing van en de integratie van artikel 210 bis kb wib 92 in artikel 412 bis wib 92. artikel 10 heft een reeks bepalingen en wettelijke normen op omdat alle uitvoeringsbepalingen inzake e-notariaat werden samengebracht in een enkel besluit. vermits artikel 210 bis kb wib 92 op verzoek van de gegevensbeschermingsautoriteit werd geïntegreerd in artikel 412 bis, wib 92 en de wettelijke grondslag ervan verdween, moet dit artikel worden opgeheven. aangezien de ambtenaar die bevoegd is om de berichten te ontvangen voortaan enerzijds rechtstreeks in artikel 93 ter, § 1, eerste lid, van het wbtw wordt aangeduid wanneer de eigenaar of de houder van een zakelijk recht op het goed zijn verblijfplaats in belgië heeft, en anderzijds, wordt aangeduid in dit besluit wanneer de eigenaar of de houder van een zakelijk recht op het goed zijn verblijfplaats in het buitenland heeft, dient artikel 2 van het koninklijk besluit nr. 11 van 29 december 1992 opgeheven te worden. het koninklijk besluit van 16 juli 2012 moet opgeheven worden omdat in dit besluit wordt geïntegreerd. in toepassing van de wet van 5 mei 2014 houdende de verankering van het principe van de unieke gegevensinzameling in de werking van de diensten en instanties die behoren tot of taken uitvoeren voor de overheid en tot vereenvoudiging en gelijkschakeling van elektronische en papieren formulieren en meer in het bijzonder van artikel 2 dat bepaalt dat: \"deze wet heeft tot doel de administratieve verplichtingen van burgers en rechtspersonen te vereenvoudigen door te waarborgen dat gegevens die reeds beschikbaar zijn in een authentieke bron niet opnieuw moeten worden meegedeeld aan een federale overheidsdienst en te komen tot een volledige gelijkschakeling tussen elektronische en papieren formulieren.\" , werd het ministerieel besluit nr. 13 van 4 maart 1993 opgeheven aangezien de aanvrager van een akte van vervreemding of hypothecaire aanwending niet langer gehouden is zijn hoedanigheid van belastingplichtige of lid van een btw-eenheid mee te delen aan de instrumenterende notaris, aangezien de fiscale administratie beschikt over dit soort gegevens. aangezien de dienst die bevoegd is om de berichten te ontvangen en de ontvangstmeldingen af te leveren in het kader van een transmissiesysteem van berichten en inlichtingen, bepaald is in de artikelen 93 ter en 93 quinquies, wbtw, de artikelen 433 en 435, wib 92, de artikelen 35 en 43 van het invorderingswetboek en in de artikelen 157 en 157/1 van de programmawet, wordt het ministerieel besluit van 26 februari 2007 opgeheven. aangezien de verplichte vermeldingen die moeten voorkomen in de berichten en inlichtingen bedoeld in de artikelen 93 ter en 93 quinquies van het wbtw en in de artikelen 433 en 435 van het wib 92, voortaan gehecht zijn aan het huidig besluit, moet het ministerieel besluit van 28 oktober 2009 opgeheven worden. het ministerieel besluit van 28 oktober 2009 tot bepaling van het modelbericht bedoeld in artikel 210 bis van het koninklijk besluit tot uitvoering van het wetboek van de inkomstenbelastingen 1992 wordt opgeheven omdat het wordt geïntegreerd in bijlage 4 van dit besluit. ik heb de eer te zijn, sire, van uwe majesteit, de zeer eerbiedige en zeer getrouwe dienaar, de vice-eerste minister en minister van financiën, a. de croo 22 juni 2020. - koninklijk besluit tot uitvoering van de artikelen 93 ter tot 93 quinquies van het wetboek van de belasting over de toegevoegde waarde, de artikelen 412 bis, 433 tot 435 van het wetboek van de inkomstenbelastingen 1992, de artikelen 35 tot 37, 43 tot 45 en 47 van het wetboek van de minnelijke en gedwongen invordering van fiscale en niet-fiscale schuldvorderingen en de artikelen 157 tot 159 en 161 van de programmawet (i) van 29 maart 2012, inzake het e-notariaatfilip, koning der belgen, aan allen die nu zijn en hierna wezen zullen, onze groet. gelet op de grondwet, de artikelen 37 en 108; gelet op de programmawet (i) van 29 maart 2012, artikelen 157, § 1, eerste lid, 2°, vervangen bij de wet van 23 april 2020, 157, § 6, vervangen bij de wet van 23 april 2020, 157, vervangen bij de wet van 23 april 2020, 157/1, § 1, eerste lid, 2°, eerste en tweede streepje, ingevoegd bij de wet van 23 april 2020, 157/1, § 6, ingevoegd bij de wet van 23 april 2020, 157/1, ingevoegd bij de wet van 23 april 2020, 158, eerste lid, 1°, vervangen bij de wet van 23 april 2020, 158/1, eerste lid, 1°, ingevoegd bij de wet van 23 april 2020, en 159, tweede lid, vervangen bij de wet van 13 december 2012, en 161, vervangen bij de wet van 23 april 2020; gelet op de wet van 11 februari 2019 houdende fiscale, fraude bestrijdende, financiële alsook diverse bepalingen, artikel 34; gelet op het wetboek van de belasting over de toegevoegde waarde, artikelen 93 ter, § 1, eerste lid, 2°, ingevoegd bij de wet van 8 augustus 1980, vervangen bij de wet van 11 februari 2019, opgeheven bij de wet van 13 april 2019 uitgezonderd voor de gevallen bedoeld in artikel 138 van die wet en gewijzigd bij de wet van 23 april 2020, 93 ter, § 4, ingevoegd bij de wet van 8 augustus 1980, vervangen bij de wet van 11 februari 2019, opgeheven bij de wet van 13 april 2019 uitgezonderd voor de gevallen bedoeld in artikel 138 van die wet, 93 ter, opgeheven bij de wet van 13 april 2019 uitgezonderd voor de gevallen bedoeld in artikel 138 van die wet, 93 quater, § 1, eerste lid, 1°, ingevoegd bij de wet van 8 augustus 1980, vervangen bij de wet van 11 februari 2019, opgeheven bij de wet van 13 april 2019 uitgezonderd voor de gevallen bedoeld in artikel 138 van die wet, 93 quinquies, § 4, ingevoegd bij de wet van 8 augustus 1980, vervangen bij de wet van 11 februari 2019 en opgeheven bij de wet van 13 april 2019 uitgezonderd voor de gevallen bedoeld in artikel 138 van die wet, en 93 quinquies, opgeheven bij de wet van 13 april 2019 uitgezonderd voor de gevallen bedoeld in artikel 138 van die wet; gelet op het wetboek van de inkomstenbelastingen 1992, artikelen 300, § 1, vervangen bij de wet van 13 april 2019, 412 bis, § 2, zesde lid, 2°, vervangen bij de wet van 23 april 2020, 412 bis, § 6, vervangen bij de wet van 23 april 2020, 412 bis, vervangen bij de wet van 23 april 2020, 433, § 1, eerste lid, 2°, vervangen bij de wet van 11 februari 2019, opgeheven bij de wet van 13 april 2019 uitgezonderd voor de gevallen bedoeld in artikel 138 van die wet en gewijzigd bij de wet van 23 april 2020, 433, § 4, vervangen bij de wet van 11 februari 2019, opgeheven bij de wet van 13 april 2019 uitgezonderd voor de gevallen bedoeld in artikel 138 van die wet, 433, opgeheven bij de wet van 13 april 2019 uitgezonderd voor de gevallen bedoeld in artikel 138 van die wet, 434, § 1, eerste lid, 1°,  vervangen bij de wet van 11 februari 2019, opgeheven bij de wet van 13 april 2019 uitgezonderd voor de gevallen bedoeld in artikel 138 van die wet, 435, § 4, vervangen bij de wet van 11 februari 2019 en opgeheven bij de wet van 13 april 2019 uitgezonderd voor de gevallen bedoeld in artikel 138 van die wet, 435, opgeheven bij de wet van 13 april 2019 uitgezonderd voor de gevallen bedoeld in artikel 138 van die wet en 469, eerste lid, gewijzigd bij de wetten van 19 april 2014 en 25 april 2014; gelet op het wetboek van de minnelijke en gedwongen invordering van fiscale en niet-fiscale schuldvorderingen, ingevoerd door de wet van 13 april 2019, de artikelen 35, § 1, eerste lid, 2°, 35, § 4, 35, gewijzigd bij de wet van 23 april 2020, 36, eerste lid, 1°, gewijzigd bij de wet van 23 april 2020, 37, § 4, 37, 43, § 1, eerste lid, 2°, 43, § 6, 43, gewijzigd bij de wet van 23 april 2020, 44, § 1, 1°, 45, tweede lid, en 47; gelet op het koninklijk besluit nr. 11 van 29 december 1992 met betrekking tot de toepassing van de belasting over de toegevoegde waarde; gelet op het koninklijk besluit van 27 augustus 1993 tot uitvoering van het wetboek van de inkomstenbelastingen 1992; gelet op het koninklijk besluit van 16 juli 2012 houdende uitvoering van de artikelen 157 tot 163 van de programmawet (i) van 29 maart 2012; gelet op het ministerieel besluit nr. 13 van 4 maart 1993 met betrekking tot de verplichtingen waartoe een belastingplichtige of een lid van een btw-eenheid in de zin van artikel 4, § 2, van het wetboek van de belasting over de toegevoegde waarde, eigenaar van een voor hypotheek vatbaar goed of van een gedeelte ervan of houder van een zakelijk recht op een dergelijk goed of op een gedeelte ervan, gehouden is; gelet op het ministerieel besluit van 26 februari 2007 met betrekking tot de aanduiding van de dienst bevoegd voor het ontvangen van de berichten en het afleveren van de ontvangstmeldingen in het kader van het systeem van elektronische notificaties tussen de federale overheidsdienst financiën en bepaalde ministeriële officiers, openbare ambtenaren en andere personen; gelet op het ministerieel besluit van 28 oktober 2009 tot bepaling van het model der berichten en kennisgevingen als bedoeld in de artikelen 93 ter en 93 quinquies van het wetboek van de belasting over de toegevoegde waarde en in de artikelen 433 en 435 van het wetboek van de inkomstenbelastingen 1992; gelet op het ministerieel besluit van 28 oktober 2009 tot bepaling van het modelbericht bedoeld in artikel 210 bis van het koninklijk besluit tot uitvoering van het wetboek van de inkomstenbelastingen 1992; gelet op de adviezen van de inspecteur van financiën, gegeven op 5 maart 2019 en 6 december 2019; gelet op de akkoordbevinding van de vice-eerste minister en minister van begroting, gegeven op 4 februari 2020; gelet op het advies nr. 37/2020 van de gegevensbeschermingsautoriteit, gegeven op 15 mei 2020; gelet op het overleg met de gewesten, gehouden op 21 november 2019; gelet op de adviezen nr. 65.887/3 en 67.285/3 van de raad van state, gegeven op 5 mei 2019 en 25 mei 2020 met toepassing van artikel 84, § 1, eerste lid, 2°,  van de wetten op de raad van state, gecoördineerd op 12 januari 1973; overwegende artikel 8, §§ 1 en 2 van de wet van 5 mei 2014 houdende verankering van het principe van de unieke gegevensinzameling in de werking van de diensten en instanties die behoren tot of taken uitvoeren voor de overheid en tot vereenvoudiging en gelijkschakeling van elektronische en papieren formulieren werden het besluit en de bijlagen op 3 juni 2020 meegedeeld aan de dienst voor administratieve vereenvoudiging van de fod kanselarij van de eerste minister; overeenkomstig artikel 6, § 2 van de wet van 15 december 2013 houdende diverse bepalingen inzake administratieve vereenvoudiging is geen impactanalyse vereist. op de voordracht van de vice-eerste minister en minister van financiën, hebben wij besloten en besluiten wij : artikel 1. voor de toepassing van dit besluit, wordt verstaan onder: 1° \"invorderingswetboek\": wetboek van de minnelijke en gedwongen invordering van fiscale en niet-fiscale schuldvorderingen; 2° \"programmawet\": programmawet (i) van 29 maart 2012; 3°  \"wib 92\": wetboek van de inkomstenbelastingen 1992; 4° \"wbtw\": wetboek van de belasting over de toegevoegde waarde; 5° \"rechtverkrijgende\": elke erfgenaam, legataris of begunstigde van een contractuele erfstelling die moet worden vermeld in de akte of het attest van erfopvolging bedoeld in de artikelen 43, § 1, eerste lid van het invorderingswetboek en 157, § 1, eerste lid en 157/1, § 1, eerste lid, van de programmawet. art. 2. de vermeldingen die moeten voorkomen in de berichten verzonden in uitvoering van de artikelen 93 ter van het wbtw, 433 van het wib 92 en 35 van het invorderingswetboek zijn opgenomen in bijlage 1 bij dit besluit. de vermeldingen die moeten voorkomen in de inlichtingen verzonden in uitvoering van de artikelen 93 quinquies, van het wbtw, 435 van het wib 92 en 37 van het invorderingswetboek zijn opgenomen in bijlage 2 bij dit besluit. de vermeldingen die moeten voorkomen in het bericht verzonden in uitvoering van de artikelen 43 van het invorderingswetboek en 157 en 157/1 van de programmawet zijn opgenomen in bijlage 3 bij dit besluit. de vermeldingen die moeten voorkomen in het bericht verzonden in uitvoering van de artikelen 93 ter, van het wbtw, 412 bis, 433, van het wib 92 en 35 van het invorderingswetboek zijn opgenomen in bijlage 4 bij dit besluit. art. 3. de vermeldingen vervat in de berichten bedoeld in de artikelen 93 ter, van het wbtw, 433, van het wib 92, 35 en 43 van het invorderingswetboek, 157 en 157/1 van de programmawet zijn identiek, ongeacht of ze op elektronische wijze of bij aangetekende zending worden meegedeeld. art. 4. de vermeldingen vervat in de inlichtingen bedoeld in het artikel 93 quinquies, van het wbtw en 435, van het wib 92 en 37 van het invorderingswetboek zijn identiek, ongeacht of ze op elektronische wijze of bij aangetekende zending worden meegedeeld. art. 5. § 1. wanneer het bericht omwille van overmacht of een technische storing niet op elektronische wijze kan worden meegedeeld overeenkomstig de artikelen 93 ter, § 1, eerste lid, 1° van het wbtw, 433, § 1, eerste lid, 1°, van het wib 92, en 35, § 1, eerste lid, 1°, van het invorderingswetboek en wanneer de eigenaar of de houder van een zakelijk recht op het goed in het buitenland verblijft, is de ontvanger aan wie het bericht bij aangetekende zending wordt meegedeeld, de ontvanger van het team bijzondere invordering brussel. § 2. wanneer het bericht omwille van overmacht of een technische storing niet op elektronische wijze kan worden meegedeeld overeenkomstig de artikelen 157/1, § 1, eerste lid, 1° van de programmawet en 43, § 1, eerste lid, 1°, van het invorderingswetboek en wanneer de erflater en/of een van zijn rechtverkrijgenden in het buitenland verblijven, is de ontvanger aan wie het bericht bij aangetekende zending wordt meegedeeld, de ontvanger van het team bijzondere invordering brussel. § 3. wanneer het bericht omwille van overmacht of een technische storing niet op elektronische wijze kan worden meegedeeld overeenkomstig de artikelen 157, § 1, eerste lid, 1°, en 157/1, § 1, eerste lid, 1° van de programmawet, is de ambtenaar van de algemene administratie van de patrimoniumdocumentatie bedoeld in de artikelen 157, § 1, eerste lid, 2° en 157/1, § 1, eerste lid, 2°, tweede streepje, van de programmawet de administrateur rechtszekerheid. § 4. wanneer het bericht omwille van overmacht of een technische storing niet op elektronische wijze kan worden meegedeeld overeenkomstig artikel 412 bis, § 2, zesde lid, 1° van het wib 92, is de ontvanger aan wie het bericht bij aangetekende zending wordt meegedeeld, de ontvanger van het team bijzondere invordering brussel. art. 6. wanneer de kennisgeving overeenkomstig de artikelen 93 quater, § 1, eerste lid, 1°, van het wbtw, 434, § 1, eerste lid, 1°, van het wib 92, 158, eerste lid, 1° en 158/1, eerste lid, 1° van de programmawet, 36, eerste lid, 1° en 44, § 1, 1°, van het invorderingswetboek op elektronische wijze wordt verstuurd, wordt zij bekleed met een elektronische handtekening, die overeenstemt met de digitale handtekening van de federale overheidsdienst financiën, vertegenwoordigd door een certificaat afgeleverd door een gekwalificeerde vertrouwensdienst, in de zin van artikel 3 van verordening (eu) nr. 910/2014 van 23 juli 2014 van het europees parlement en de raad betreffende elektronische identificatie en vertrouwensdiensten voor elektronische transacties in de interne markt en tot intrekking van richtlijn 1999/93/eg.het beheerssysteem van de identiteiten en toegangen van de federale overheidsdienst financiën van de toepassing tot het opmaken van de kennisgevingen, garandeert dat enkel de wettelijk gemachtigde ambtenaar, geldig de kennisgeving bedoeld in de artikelen 93 quater, § 1, eerste lid, 1°, van het wbtw, 434, § 1, eerste lid, 1°, van het wib 92, 158, eerste lid, 1° en 158/1, eerste lid, 1° van de programmawet, 36, eerste lid, 1° en 44, § 1, 1° van het invorderingswetboek kan versturen. de verzamelde persoonsgegevens worden beschermd door passende technische en organisatorische maatregelen. art. 7. de ambtenaar bedoeld in de artikelen 45, tweede lid van het invorderingswetboek en 159, tweede lid, van de programmawet is: 1° indien het attest van erfopvolging werd opgesteld door het kantoor bedoeld in artikel 1240 bis van het burgerlijk wetboek, de ambtenaar belast met de opmaak van dit attest; 2° indien het attest of de akte van erfopvolging werd opgesteld door een notaris, deze notaris of een met hem geassocieerde notaris. art. 8. artikel 210 ter van het koninklijk besluit tot uitvoering van het wetboek van de inkomstenbelastingen 1992, ingevoegd bij het koninklijk besluit van 10 januari 1997 en gewijzigd bij het koninklijk besluit van 25 februari 2007, wordt vervangen als volgt: \"art. 210 ter. de vermeldingen die moeten voorkomen in het bericht bedoeld in artikel 412 bis van het wetboek van de inkomstenbelastingen 1992 zijn opgenomen in bijlage 4 van het koninklijk besluit van 22 juni 2020 tot uitvoering van de artikelen 93 ter tot 93 quinquies van het wetboek van de belasting over de toegevoegde waarde, de artikelen 412 bis, 433 tot 435 van het wetboek van de inkomstenbelastingen 1992, de artikelen 35 tot 37, 43 tot 45 en 47 van het wetboek van de minnelijke en gedwongen invordering van fiscale en niet-fiscale schuldvorderingen en de artikelen 157 tot 159 en 161 van de programmawet (i) van 29 maart 2012, inzake het e-notariaat\". art. 9. in artikel 233 van hetzelfde besluit, gewijzigd bij het koninklijk besluit van 9 december 2019, worden de woorden \"210 bis\" opgeheven. art. 10. worden opgeheven: 1° artikel 210 bis, van het koninklijk besluit tot uitvoering van het wetboek van de inkomstenbelastingen 1992, ingevoegd bij het koninklijk besluit van 10 januari 1997 en gewijzigd bij de koninklijke besluiten van 31 maart 2003 en 25 februari 2007; 2° artikel 2 van het koninklijk besluit nr. 11 van 29 december 1992 met betrekking tot de toepassing van de belasting over de toegevoegde waarde, gewijzigd bij de koninklijke besluiten van 20 november 2000 en 17 mei 2007; 3°  het koninklijk besluit van 16 juli 2012 houdende uitvoering van de artikelen 157 tot 163 van de programmawet (i) van 29 maart 2012, gewijzigd bij koninklijk besluit van 4 maart 2013; 4° het ministerieel besluit nr. 13 van 4 maart 1993 met betrekking tot de verplichtingen waartoe een belastingplichtige of een lid van een btw-eenheid in de zin van artikel 4, § 2, van het wetboek van de belasting over de toegevoegde waarde, eigenaar van een voor hypotheek vatbaar goed of van een gedeelte ervan of houder van een zakelijk recht op een dergelijk goed of op een gedeelte ervan, gehouden is, gewijzigd bij het ministerieel besluit van 29 mei 2007; 5° het ministerieel besluit van 26 februari 2007 met betrekking tot de aanduiding van de dienst bevoegd voor het ontvangen van de berichten en het afleveren van de ontvangstmeldingen in het kader van het systeem van elektronische notificaties tussen de federale overheidsdienst financiën en bepaalde ministeriële officiers, openbare ambtenaren en andere personen; 6°  het ministerieel besluit van 28 oktober 2009 tot bepaling van het model der berichten en kennisgevingen als bedoeld in de artikelen 93 ter en 93 quinquies van het wetboek van de belasting over de toegevoegde waarde en in de artikelen 433 en 435 van het wetboek van de inkomstenbelastingen 1992; 7° het ministerieel besluit van 28 oktober 2009 tot bepaling van het modelbericht bedoeld in artikel 210 bis van het koninklijk besluit tot uitvoering van het wetboek van de inkomstenbelastingen 1992. art. 11. de minister bevoegd voor financiën is belast met de uitvoering van dit besluit. gegeven te brussel, 22 juni 2020. filip van koningswege : de vice-eerste minister en minister van financiën, a. de croo bijlage 1 bij het koninklijk besluit van 22 juni 2020 voor de raadpleging van de tabel, zie beeldgezien om gevoegd te worden bij ons besluit van 22 juni 2020. filip van koningswege : de vice-eerste minister en minister van financiën, a. de croo bijlage 2 bij het koninklijk besluit van 22 juni 2020 voor de raadpleging van de tabel, zie beeld gezien om gevoegd te worden bij ons besluit van 22 juni 2020. filip van koningswege : de vice-eerste minister en minister van financiën, a. de croo bijlage 3 bij het koninklijk besluit van 22 juni 2020 voor de raadpleging van de tabel, zie beeld gezien om gevoegd te worden bij ons besluit van 22 juni 2020. filip van koningswege : de vice-eerste minister en minister van financiën, a. de croo bijlage 4 bij het koninklijk besluit van 22 juni 2020 voor de raadpleging van de tabel, zie beeld gezien om gevoegd te worden bij ons besluit van 22 juni 2020. filip van koningswege : de vice-eerste minister en minister van financiën, a. de croo \n"
          ]
        }
      ]
    },
    {
      "cell_type": "code",
      "source": [
        "# Splitting text document on basis of terms or words separated by spaces\n",
        "# creating separate strings\n",
        "content = raw_text.split(' ')\n",
        "print(content)"
      ],
      "metadata": {
        "colab": {
          "base_uri": "https://localhost:8080/"
        },
        "id": "MhNRcb7PjagT",
        "outputId": "741148b5-a314-4c10-fb2f-9737499f2f99"
      },
      "execution_count": 13,
      "outputs": [
        {
          "output_type": "stream",
          "name": "stdout",
          "text": [
            "['verslag', 'aan', 'de', 'koning', 'sire,', 'het', 'ontwerp', 'van', 'koninklijk', 'besluit', 'dat', 'wij', 'de', 'eer', 'hebben', 'aan', 'uwe', 'majesteit', 'voor', 'te', 'leggen,', 'beoogt', 'de', 'uitvoering', 'van', 'de', 'artikelen', '93', 'ter', 'tot', '93', 'quinquies', 'van', 'het', 'wetboek', 'van', 'de', 'belasting', 'over', 'de', 'toegevoegde', 'waarde', '(hierna', '\"wbtw\"),', 'de', 'artikelen', '412', 'bis,', '433', 'tot', '435', 'van', 'het', 'wetboek', 'van', 'de', 'inkomstenbelastingen', '1992', '(hierna', '\"wib', '92\"),', 'de', 'artikelen', '35', 'tot', '37', 'en', '43', 'tot', '45', 'en', '47', 'van', 'het', 'wetboek', 'van', 'de', 'minnelijke', 'en', 'gedwongen', 'invordering', 'van', 'fiscale', 'en', 'niet-fiscale', 'schuldvorderingen', '(hierna', '\"invorderingswetboek\")', 'en', 'de', 'artikelen', '157', 'tot', '159', 'en', '161', 'van', 'de', 'programmawet', '(i)', 'van', '29', 'maart', '2012', '(hierna', '\"programmawet\",', 'zoals', 'gewijzigd', 'door', 'de', 'wet', 'van', '11', 'februari', '2019', 'houdende', 'fiscale,', 'fraude', 'bestrijdende,', 'financiële', 'alsook', 'diverse', 'bepalingen', 'en', 'de', 'wet', 'van', '23', 'april', '2020', 'houdende', 'wijzigingen', 'van', 'het', 'wetboek', 'van', 'de', 'belasting', 'over', 'de', 'toegevoegde', 'waarde,', 'het', 'wetboek', 'van', 'de', 'inkomstenbelastingen', '1992,', 'het', 'wetboek', 'van', 'de', 'minnelijke', 'en', 'gedwongen', 'invordering', 'van', 'fiscale', 'en', 'niet-fiscale', 'schuldvorderingen', 'en', 'de', 'programmawet', '(i)', 'van', '29', 'maart', '2012,', 'inzake', 'de', 'verwerking', 'van', 'persoonsgegevens', 'via', 'het', 'e-notariaat.', 'de', 'nieuwe', 'werkwijze', 'kadert', 'binnen', 'de', 'modernisering', 'van', 'de', 'federale', 'overheidsdienst', 'financiën,', 'de', 'administratieve', 'vereenvoudiging', 'en', 'de', 'kostenbesparing.', 'dit', 'heeft', 'als', 'hoofddoel', 'het', 'instellen', 'van', 'een', 'kennisgevingssysteem', 'dat', 'de', 'ontvangers', 'toelaat', 'om', 'kennisgevingen', 'elektronisch', 'te', 'verzenden,', 'zowel', 'de', 'kennisgevingen', 'bestemd', 'voor', 'de', 'notaris', 'als', 'voor', 'elke', 'persoon', 'die', 'bevoegd', 'is', 'om', 'authenticiteit', 'te', 'verlenen', 'aan', 'de', 'in', 'de', 'artikelen', '93', 'ter', 'van', 'het', 'wbtw,', '433', 'van', 'het', 'wib', '92', 'en', '35', 'van', 'het', 'invorderingswetboek', 'bedoelde', 'akten,', 'met', 'name', 'de', 'akten', 'tot', 'overdracht', 'van', 'zakelijke', 'rechten', 'en', 'de', 'akten', 'houdende', 'hypothecaire', 'aanwending', 'van', 'goederen', 'die', 'er', 'vatbaar', 'voor', 'zijn,', 'alsook', 'de', 'kennisgevingen', 'bestemd', 'voor', 'elke', 'persoon', 'bevoegd', 'om', 'een', 'akte', 'of', 'attest', 'van', 'erfopvolging', 'op', 'te', 'stellen.', 'bovendien', 'worden', 'de', 'in', 'de', 'voornoemde', 'wettelijke', 'bepalingen', 'opgenomen', 'praktische', 'toepassingsvoorwaarden', 'eenvormig', 'gemaakt', 'waardoor', 'de', 'verschillende', 'uitvoeringsmaatregelen', 'in', 'één', 'enkel', 'reglementair', 'besluit', 'kunnen', 'worden', 'samengebracht.', 'de', 'adviezen', 'nr.', '65.887/3', 'en', '67.285/3', 'van', 'de', 'raad', 'van', 'state,', 'gegeven', 'op', '5', 'mei', '2019', 'en', '25', 'mei', '2020,', 'werden', 'gevolgd.', 'artikel', '2', 'stelt', 'dat', 'de', 'vermeldingen', 'die', 'moeten', 'voorkomen', 'op', 'de', 'berichten', 'en', 'inlichtingen', 'in', 'uitvoering', 'van', 'het', 'wbtw,', 'wib', '92,', 'invorderingswetboek', 'en', 'de', 'programmawet', 'worden', 'bijgevoegd', 'in', 'de', 'bijlagen', '1', 'tot', '4', 'van', 'dit', 'besluit.', 'de', 'artikelen', '3', 'en', '4', 'bepalen', 'dat', 'de', 'vermeldingen', 'in', 'de', 'berichten', 'en', 'inlichtingen', 'identiek', 'moeten', 'zijn', 'ongeacht', 'de', 'gebruikte', 'communicatiemethode', '(op', 'elektronische', 'wijze', 'of', 'bij', 'aangetekende', 'zending).artikel', '5', 'specificeert', 'de', 'ambtenaren', 'aan', 'wie', 'de', 'berichten', 'bedoeld', 'in', 'de', 'artikelen', '93', 'ter', 'wbtw,', '412', 'bis', 'en', '433', 'wib', '92,', '35', 'en', '43', 'van', 'het', 'invorderingswetboek', 'en', '157/1', 'van', 'de', 'programmawet', 'moeten', 'worden', 'meegedeeld', 'wanneer', 'het', 'bericht', 'omwille', 'van', 'overmacht', 'of', 'een', 'technische', 'storing', 'niet', 'op', 'elektronische', 'wijze', 'kan', 'worden', 'meegedeeld,', 'en', 'wanneer', 'de', 'eigenaar', 'of', 'de', 'houder', 'van', 'een', 'zakelijk', 'recht', 'op', 'het', 'goed', 'in', 'het', 'buitenland', 'verblijft,', 'of', 'wanneer', 'de', 'erflater', 'en/of', 'een', 'van', 'zijn', 'rechtverkrijgenden', 'in', 'het', 'buitenland', 'verblijven.', 'daarnaast', 'specificeert', 'het', 'de', 'in', 'de', 'artikelen', '157', 'en', '157/1', 'bedoelde', 'ambtenaar', 'van', 'de', 'algemene', 'administratie', 'van', 'de', 'patrimoniumdocumentatie', 'aan', 'wie', 'het', 'bericht', 'moet', 'worden', 'geadresseerd', 'in', 'geval', 'het', 'bericht', 'niet', 'op', 'elektronische', 'wijze', 'kan', 'worden', 'kennisgegeven', 'aan', 'de', 'stafdienst', 'ict', 'omwille', 'van', 'overmacht', 'of', 'een', 'technische', 'storing.', 'artikel', '6', 'omschrijft', 'de', 'technische', 'specificaties', 'van', 'de', 'kennisgeving', 'op', 'elektronische', 'wijze,', 'alsook', 'de', 'geldigheidsvoorwaarden', 'van', 'de', 'elektronische', 'handtekening.', 'de', 'ontvangers', 'bevoegd', 'voor', 'de', 'kennisgevingen', 'hebben', 'toegang', 'tot', 'de', 'toepassing', 'om', 'de', 'kennisgevingen', 'door', 'middel', 'van', 'hun', 'elektronische', 'identiteitskaart', 'op', 'te', 'maken,', 'wat', 'er', 'voor', 'zorgt', 'dat', 'enkel', 'de', 'bevoegde', 'personen', 'geldig', 'een', 'kennisgeving', 'op', 'grond', 'van', 'de', 'artikelen', '93', 'quater', 'van', 'het', 'wbtw,', '434', 'van', 'het', 'wib', '92,', '36', 'en', '44', 'van', 'het', 'invorderingswetboek', 'en', '158', 'en', '158/1', 'van', 'de', 'programmawet', 'kunnen', 'versturen.', 'deze', 'kennisgeving', 'wordt', 'vervolgens', 'gecertificeerd', 'door', 'de', 'federale', 'overheidsdienst', 'financiën.', 'ze', 'is', 'bekleed', 'met', 'een', 'elektronische', 'handtekening', 'die', 'overeenstemt', 'met', 'de', 'digitale', 'handtekening', 'van', 'de', 'federale', 'overheidsdienst', 'financiën,', 'vertegenwoordigd', 'door', 'een', 'certificaat', 'afgeleverd', 'door', 'een', 'gekwalificeerde', 'vertrouwensdienst', 'in', 'de', 'zin', 'van', 'artikel', '3', 'van', 'verordening', '(eu)', 'nr.', '910/2014', 'van', 'het', 'europees', 'parlement', 'en', 'de', 'raad', 'van', '23', 'juli', '2014', 'betreffende', 'elektronische', 'identificatie', 'en', 'vertrouwensdiensten', 'voor', 'elektronische', 'transacties', 'in', 'de', 'interne', 'markt', 'en', 'tot', 'intrekking', 'van', 'richtlijn', '1999/93/eg.', 'bovendien', 'zal', 'de', 'elektronische', 'kennisgeving', 'de', 'veiligheid', 'van', 'uitgewisselde', 'informatie', 'verzekeren', 'door', 'middel', 'van', 'aangepaste', 'beveiligingstechnieken.', 'in', 'het', 'attest', 'van', 'erfopvolging', 'of', 'aan', 'de', 'voet', 'van', 'de', 'uitgifte', 'van', 'de', 'akte', 'van', 'erfopvolging', 'wordt', 'vermeld', 'hetzij', 'dat', 'er', 'geen', 'kennisgeving', 'van', 'schulden', 'bij', 'toepassing', 'van', 'de', 'artikelen', '158', 'en', '158/1', 'van', 'de', 'programmawet', 'en', '44', 'van', 'het', 'invorderingswetboek', 'werd', 'gedaan,', 'hetzij', 'dat', 'de', 'schulden', 'waarvan', 'bij', 'toepassing', 'van', 'de', 'artikelen', '158', 'en', '158/1', 'van', 'de', 'programmawet', 'en', 'artikel', '44', 'van', 'het', 'invorderingswetboek', 'kennis', 'werd', 'gegeven', 'zijn', 'betaald', 'of,', 'in', 'voorkomend', 'geval', 'zullen', 'worden', 'betaald', 'met', 'de', 'tegoeden', 'gehouden', 'door', 'de', 'schuldenaar.', 'artikel', '7', 'specificeert', 'de', 'ambtenaar', 'die', 'de', 'vermelding', 'moet', 'doen', 'van', 'de', 'gedane', 'of', 'van', 'de', 'nog', 'te', 'verrichten', 'betaling', 'in', 'het', 'attest', 'of', 'aan', 'de', 'voet', 'van', 'de', 'uitgifte', 'van', 'de', 'akte', 'van', 'erfopvolging', 'artikel', '8', 'wijzigt', 'het', 'artikel', '210', 'ter,', 'van', 'het', 'koninklijk', 'besluit', 'tot', 'uitvoering', 'van', 'het', 'wetboek', 'van', 'de', 'inkomstenbelastingen', '1992', '(hierna', '\"kb', 'wib', '92\")', 'als', 'gevolg', 'van', 'dit', 'ontwerpbesluit.', 'artikel', '9', 'bevat', 'een', 'technische', 'correctie', 'van', 'artikel', '233', 'kb', 'wib', '92', 'naar', 'aanleiding', 'van', 'de', 'opheffing', 'van', 'en', 'de', 'integratie', 'van', 'artikel', '210', 'bis', 'kb', 'wib', '92', 'in', 'artikel', '412', 'bis', 'wib', '92.', 'artikel', '10', 'heft', 'een', 'reeks', 'bepalingen', 'en', 'wettelijke', 'normen', 'op', 'omdat', 'alle', 'uitvoeringsbepalingen', 'inzake', 'e-notariaat', 'werden', 'samengebracht', 'in', 'een', 'enkel', 'besluit.', 'vermits', 'artikel', '210', 'bis', 'kb', 'wib', '92', 'op', 'verzoek', 'van', 'de', 'gegevensbeschermingsautoriteit', 'werd', 'geïntegreerd', 'in', 'artikel', '412', 'bis,', 'wib', '92', 'en', 'de', 'wettelijke', 'grondslag', 'ervan', 'verdween,', 'moet', 'dit', 'artikel', 'worden', 'opgeheven.', 'aangezien', 'de', 'ambtenaar', 'die', 'bevoegd', 'is', 'om', 'de', 'berichten', 'te', 'ontvangen', 'voortaan', 'enerzijds', 'rechtstreeks', 'in', 'artikel', '93', 'ter,', '§', '1,', 'eerste', 'lid,', 'van', 'het', 'wbtw', 'wordt', 'aangeduid', 'wanneer', 'de', 'eigenaar', 'of', 'de', 'houder', 'van', 'een', 'zakelijk', 'recht', 'op', 'het', 'goed', 'zijn', 'verblijfplaats', 'in', 'belgië', 'heeft,', 'en', 'anderzijds,', 'wordt', 'aangeduid', 'in', 'dit', 'besluit', 'wanneer', 'de', 'eigenaar', 'of', 'de', 'houder', 'van', 'een', 'zakelijk', 'recht', 'op', 'het', 'goed', 'zijn', 'verblijfplaats', 'in', 'het', 'buitenland', 'heeft,', 'dient', 'artikel', '2', 'van', 'het', 'koninklijk', 'besluit', 'nr.', '11', 'van', '29', 'december', '1992', 'opgeheven', 'te', 'worden.', 'het', 'koninklijk', 'besluit', 'van', '16', 'juli', '2012', 'moet', 'opgeheven', 'worden', 'omdat', 'in', 'dit', 'besluit', 'wordt', 'geïntegreerd.', 'in', 'toepassing', 'van', 'de', 'wet', 'van', '5', 'mei', '2014', 'houdende', 'de', 'verankering', 'van', 'het', 'principe', 'van', 'de', 'unieke', 'gegevensinzameling', 'in', 'de', 'werking', 'van', 'de', 'diensten', 'en', 'instanties', 'die', 'behoren', 'tot', 'of', 'taken', 'uitvoeren', 'voor', 'de', 'overheid', 'en', 'tot', 'vereenvoudiging', 'en', 'gelijkschakeling', 'van', 'elektronische', 'en', 'papieren', 'formulieren', 'en', 'meer', 'in', 'het', 'bijzonder', 'van', 'artikel', '2', 'dat', 'bepaalt', 'dat:', '\"deze', 'wet', 'heeft', 'tot', 'doel', 'de', 'administratieve', 'verplichtingen', 'van', 'burgers', 'en', 'rechtspersonen', 'te', 'vereenvoudigen', 'door', 'te', 'waarborgen', 'dat', 'gegevens', 'die', 'reeds', 'beschikbaar', 'zijn', 'in', 'een', 'authentieke', 'bron', 'niet', 'opnieuw', 'moeten', 'worden', 'meegedeeld', 'aan', 'een', 'federale', 'overheidsdienst', 'en', 'te', 'komen', 'tot', 'een', 'volledige', 'gelijkschakeling', 'tussen', 'elektronische', 'en', 'papieren', 'formulieren.\"', ',', 'werd', 'het', 'ministerieel', 'besluit', 'nr.', '13', 'van', '4', 'maart', '1993', 'opgeheven', 'aangezien', 'de', 'aanvrager', 'van', 'een', 'akte', 'van', 'vervreemding', 'of', 'hypothecaire', 'aanwending', 'niet', 'langer', 'gehouden', 'is', 'zijn', 'hoedanigheid', 'van', 'belastingplichtige', 'of', 'lid', 'van', 'een', 'btw-eenheid', 'mee', 'te', 'delen', 'aan', 'de', 'instrumenterende', 'notaris,', 'aangezien', 'de', 'fiscale', 'administratie', 'beschikt', 'over', 'dit', 'soort', 'gegevens.', 'aangezien', 'de', 'dienst', 'die', 'bevoegd', 'is', 'om', 'de', 'berichten', 'te', 'ontvangen', 'en', 'de', 'ontvangstmeldingen', 'af', 'te', 'leveren', 'in', 'het', 'kader', 'van', 'een', 'transmissiesysteem', 'van', 'berichten', 'en', 'inlichtingen,', 'bepaald', 'is', 'in', 'de', 'artikelen', '93', 'ter', 'en', '93', 'quinquies,', 'wbtw,', 'de', 'artikelen', '433', 'en', '435,', 'wib', '92,', 'de', 'artikelen', '35', 'en', '43', 'van', 'het', 'invorderingswetboek', 'en', 'in', 'de', 'artikelen', '157', 'en', '157/1', 'van', 'de', 'programmawet,', 'wordt', 'het', 'ministerieel', 'besluit', 'van', '26', 'februari', '2007', 'opgeheven.', 'aangezien', 'de', 'verplichte', 'vermeldingen', 'die', 'moeten', 'voorkomen', 'in', 'de', 'berichten', 'en', 'inlichtingen', 'bedoeld', 'in', 'de', 'artikelen', '93', 'ter', 'en', '93', 'quinquies', 'van', 'het', 'wbtw', 'en', 'in', 'de', 'artikelen', '433', 'en', '435', 'van', 'het', 'wib', '92,', 'voortaan', 'gehecht', 'zijn', 'aan', 'het', 'huidig', 'besluit,', 'moet', 'het', 'ministerieel', 'besluit', 'van', '28', 'oktober', '2009', 'opgeheven', 'worden.', 'het', 'ministerieel', 'besluit', 'van', '28', 'oktober', '2009', 'tot', 'bepaling', 'van', 'het', 'modelbericht', 'bedoeld', 'in', 'artikel', '210', 'bis', 'van', 'het', 'koninklijk', 'besluit', 'tot', 'uitvoering', 'van', 'het', 'wetboek', 'van', 'de', 'inkomstenbelastingen', '1992', 'wordt', 'opgeheven', 'omdat', 'het', 'wordt', 'geïntegreerd', 'in', 'bijlage', '4', 'van', 'dit', 'besluit.', 'ik', 'heb', 'de', 'eer', 'te', 'zijn,', 'sire,', 'van', 'uwe', 'majesteit,', 'de', 'zeer', 'eerbiedige', 'en', 'zeer', 'getrouwe', 'dienaar,', 'de', 'vice-eerste', 'minister', 'en', 'minister', 'van', 'financiën,', 'a.', 'de', 'croo', '22', 'juni', '2020.', '-', 'koninklijk', 'besluit', 'tot', 'uitvoering', 'van', 'de', 'artikelen', '93', 'ter', 'tot', '93', 'quinquies', 'van', 'het', 'wetboek', 'van', 'de', 'belasting', 'over', 'de', 'toegevoegde', 'waarde,', 'de', 'artikelen', '412', 'bis,', '433', 'tot', '435', 'van', 'het', 'wetboek', 'van', 'de', 'inkomstenbelastingen', '1992,', 'de', 'artikelen', '35', 'tot', '37,', '43', 'tot', '45', 'en', '47', 'van', 'het', 'wetboek', 'van', 'de', 'minnelijke', 'en', 'gedwongen', 'invordering', 'van', 'fiscale', 'en', 'niet-fiscale', 'schuldvorderingen', 'en', 'de', 'artikelen', '157', 'tot', '159', 'en', '161', 'van', 'de', 'programmawet', '(i)', 'van', '29', 'maart', '2012,', 'inzake', 'het', 'e-notariaatfilip,', 'koning', 'der', 'belgen,', 'aan', 'allen', 'die', 'nu', 'zijn', 'en', 'hierna', 'wezen', 'zullen,', 'onze', 'groet.', 'gelet', 'op', 'de', 'grondwet,', 'de', 'artikelen', '37', 'en', '108;', 'gelet', 'op', 'de', 'programmawet', '(i)', 'van', '29', 'maart', '2012,', 'artikelen', '157,', '§', '1,', 'eerste', 'lid,', '2°,', 'vervangen', 'bij', 'de', 'wet', 'van', '23', 'april', '2020,', '157,', '§', '6,', 'vervangen', 'bij', 'de', 'wet', 'van', '23', 'april', '2020,', '157,', 'vervangen', 'bij', 'de', 'wet', 'van', '23', 'april', '2020,', '157/1,', '§', '1,', 'eerste', 'lid,', '2°,', 'eerste', 'en', 'tweede', 'streepje,', 'ingevoegd', 'bij', 'de', 'wet', 'van', '23', 'april', '2020,', '157/1,', '§', '6,', 'ingevoegd', 'bij', 'de', 'wet', 'van', '23', 'april', '2020,', '157/1,', 'ingevoegd', 'bij', 'de', 'wet', 'van', '23', 'april', '2020,', '158,', 'eerste', 'lid,', '1°,', 'vervangen', 'bij', 'de', 'wet', 'van', '23', 'april', '2020,', '158/1,', 'eerste', 'lid,', '1°,', 'ingevoegd', 'bij', 'de', 'wet', 'van', '23', 'april', '2020,', 'en', '159,', 'tweede', 'lid,', 'vervangen', 'bij', 'de', 'wet', 'van', '13', 'december', '2012,', 'en', '161,', 'vervangen', 'bij', 'de', 'wet', 'van', '23', 'april', '2020;', 'gelet', 'op', 'de', 'wet', 'van', '11', 'februari', '2019', 'houdende', 'fiscale,', 'fraude', 'bestrijdende,', 'financiële', 'alsook', 'diverse', 'bepalingen,', 'artikel', '34;', 'gelet', 'op', 'het', 'wetboek', 'van', 'de', 'belasting', 'over', 'de', 'toegevoegde', 'waarde,', 'artikelen', '93', 'ter,', '§', '1,', 'eerste', 'lid,', '2°,', 'ingevoegd', 'bij', 'de', 'wet', 'van', '8', 'augustus', '1980,', 'vervangen', 'bij', 'de', 'wet', 'van', '11', 'februari', '2019,', 'opgeheven', 'bij', 'de', 'wet', 'van', '13', 'april', '2019', 'uitgezonderd', 'voor', 'de', 'gevallen', 'bedoeld', 'in', 'artikel', '138', 'van', 'die', 'wet', 'en', 'gewijzigd', 'bij', 'de', 'wet', 'van', '23', 'april', '2020,', '93', 'ter,', '§', '4,', 'ingevoegd', 'bij', 'de', 'wet', 'van', '8', 'augustus', '1980,', 'vervangen', 'bij', 'de', 'wet', 'van', '11', 'februari', '2019,', 'opgeheven', 'bij', 'de', 'wet', 'van', '13', 'april', '2019', 'uitgezonderd', 'voor', 'de', 'gevallen', 'bedoeld', 'in', 'artikel', '138', 'van', 'die', 'wet,', '93', 'ter,', 'opgeheven', 'bij', 'de', 'wet', 'van', '13', 'april', '2019', 'uitgezonderd', 'voor', 'de', 'gevallen', 'bedoeld', 'in', 'artikel', '138', 'van', 'die', 'wet,', '93', 'quater,', '§', '1,', 'eerste', 'lid,', '1°,', 'ingevoegd', 'bij', 'de', 'wet', 'van', '8', 'augustus', '1980,', 'vervangen', 'bij', 'de', 'wet', 'van', '11', 'februari', '2019,', 'opgeheven', 'bij', 'de', 'wet', 'van', '13', 'april', '2019', 'uitgezonderd', 'voor', 'de', 'gevallen', 'bedoeld', 'in', 'artikel', '138', 'van', 'die', 'wet,', '93', 'quinquies,', '§', '4,', 'ingevoegd', 'bij', 'de', 'wet', 'van', '8', 'augustus', '1980,', 'vervangen', 'bij', 'de', 'wet', 'van', '11', 'februari', '2019', 'en', 'opgeheven', 'bij', 'de', 'wet', 'van', '13', 'april', '2019', 'uitgezonderd', 'voor', 'de', 'gevallen', 'bedoeld', 'in', 'artikel', '138', 'van', 'die', 'wet,', 'en', '93', 'quinquies,', 'opgeheven', 'bij', 'de', 'wet', 'van', '13', 'april', '2019', 'uitgezonderd', 'voor', 'de', 'gevallen', 'bedoeld', 'in', 'artikel', '138', 'van', 'die', 'wet;', 'gelet', 'op', 'het', 'wetboek', 'van', 'de', 'inkomstenbelastingen', '1992,', 'artikelen', '300,', '§', '1,', 'vervangen', 'bij', 'de', 'wet', 'van', '13', 'april', '2019,', '412', 'bis,', '§', '2,', 'zesde', 'lid,', '2°,', 'vervangen', 'bij', 'de', 'wet', 'van', '23', 'april', '2020,', '412', 'bis,', '§', '6,', 'vervangen', 'bij', 'de', 'wet', 'van', '23', 'april', '2020,', '412', 'bis,', 'vervangen', 'bij', 'de', 'wet', 'van', '23', 'april', '2020,', '433,', '§', '1,', 'eerste', 'lid,', '2°,', 'vervangen', 'bij', 'de', 'wet', 'van', '11', 'februari', '2019,', 'opgeheven', 'bij', 'de', 'wet', 'van', '13', 'april', '2019', 'uitgezonderd', 'voor', 'de', 'gevallen', 'bedoeld', 'in', 'artikel', '138', 'van', 'die', 'wet', 'en', 'gewijzigd', 'bij', 'de', 'wet', 'van', '23', 'april', '2020,', '433,', '§', '4,', 'vervangen', 'bij', 'de', 'wet', 'van', '11', 'februari', '2019,', 'opgeheven', 'bij', 'de', 'wet', 'van', '13', 'april', '2019', 'uitgezonderd', 'voor', 'de', 'gevallen', 'bedoeld', 'in', 'artikel', '138', 'van', 'die', 'wet,', '433,', 'opgeheven', 'bij', 'de', 'wet', 'van', '13', 'april', '2019', 'uitgezonderd', 'voor', 'de', 'gevallen', 'bedoeld', 'in', 'artikel', '138', 'van', 'die', 'wet,', '434,', '§', '1,', 'eerste', 'lid,', '1°,', '', 'vervangen', 'bij', 'de', 'wet', 'van', '11', 'februari', '2019,', 'opgeheven', 'bij', 'de', 'wet', 'van', '13', 'april', '2019', 'uitgezonderd', 'voor', 'de', 'gevallen', 'bedoeld', 'in', 'artikel', '138', 'van', 'die', 'wet,', '435,', '§', '4,', 'vervangen', 'bij', 'de', 'wet', 'van', '11', 'februari', '2019', 'en', 'opgeheven', 'bij', 'de', 'wet', 'van', '13', 'april', '2019', 'uitgezonderd', 'voor', 'de', 'gevallen', 'bedoeld', 'in', 'artikel', '138', 'van', 'die', 'wet,', '435,', 'opgeheven', 'bij', 'de', 'wet', 'van', '13', 'april', '2019', 'uitgezonderd', 'voor', 'de', 'gevallen', 'bedoeld', 'in', 'artikel', '138', 'van', 'die', 'wet', 'en', '469,', 'eerste', 'lid,', 'gewijzigd', 'bij', 'de', 'wetten', 'van', '19', 'april', '2014', 'en', '25', 'april', '2014;', 'gelet', 'op', 'het', 'wetboek', 'van', 'de', 'minnelijke', 'en', 'gedwongen', 'invordering', 'van', 'fiscale', 'en', 'niet-fiscale', 'schuldvorderingen,', 'ingevoerd', 'door', 'de', 'wet', 'van', '13', 'april', '2019,', 'de', 'artikelen', '35,', '§', '1,', 'eerste', 'lid,', '2°,', '35,', '§', '4,', '35,', 'gewijzigd', 'bij', 'de', 'wet', 'van', '23', 'april', '2020,', '36,', 'eerste', 'lid,', '1°,', 'gewijzigd', 'bij', 'de', 'wet', 'van', '23', 'april', '2020,', '37,', '§', '4,', '37,', '43,', '§', '1,', 'eerste', 'lid,', '2°,', '43,', '§', '6,', '43,', 'gewijzigd', 'bij', 'de', 'wet', 'van', '23', 'april', '2020,', '44,', '§', '1,', '1°,', '45,', 'tweede', 'lid,', 'en', '47;', 'gelet', 'op', 'het', 'koninklijk', 'besluit', 'nr.', '11', 'van', '29', 'december', '1992', 'met', 'betrekking', 'tot', 'de', 'toepassing', 'van', 'de', 'belasting', 'over', 'de', 'toegevoegde', 'waarde;', 'gelet', 'op', 'het', 'koninklijk', 'besluit', 'van', '27', 'augustus', '1993', 'tot', 'uitvoering', 'van', 'het', 'wetboek', 'van', 'de', 'inkomstenbelastingen', '1992;', 'gelet', 'op', 'het', 'koninklijk', 'besluit', 'van', '16', 'juli', '2012', 'houdende', 'uitvoering', 'van', 'de', 'artikelen', '157', 'tot', '163', 'van', 'de', 'programmawet', '(i)', 'van', '29', 'maart', '2012;', 'gelet', 'op', 'het', 'ministerieel', 'besluit', 'nr.', '13', 'van', '4', 'maart', '1993', 'met', 'betrekking', 'tot', 'de', 'verplichtingen', 'waartoe', 'een', 'belastingplichtige', 'of', 'een', 'lid', 'van', 'een', 'btw-eenheid', 'in', 'de', 'zin', 'van', 'artikel', '4,', '§', '2,', 'van', 'het', 'wetboek', 'van', 'de', 'belasting', 'over', 'de', 'toegevoegde', 'waarde,', 'eigenaar', 'van', 'een', 'voor', 'hypotheek', 'vatbaar', 'goed', 'of', 'van', 'een', 'gedeelte', 'ervan', 'of', 'houder', 'van', 'een', 'zakelijk', 'recht', 'op', 'een', 'dergelijk', 'goed', 'of', 'op', 'een', 'gedeelte', 'ervan,', 'gehouden', 'is;', 'gelet', 'op', 'het', 'ministerieel', 'besluit', 'van', '26', 'februari', '2007', 'met', 'betrekking', 'tot', 'de', 'aanduiding', 'van', 'de', 'dienst', 'bevoegd', 'voor', 'het', 'ontvangen', 'van', 'de', 'berichten', 'en', 'het', 'afleveren', 'van', 'de', 'ontvangstmeldingen', 'in', 'het', 'kader', 'van', 'het', 'systeem', 'van', 'elektronische', 'notificaties', 'tussen', 'de', 'federale', 'overheidsdienst', 'financiën', 'en', 'bepaalde', 'ministeriële', 'officiers,', 'openbare', 'ambtenaren', 'en', 'andere', 'personen;', 'gelet', 'op', 'het', 'ministerieel', 'besluit', 'van', '28', 'oktober', '2009', 'tot', 'bepaling', 'van', 'het', 'model', 'der', 'berichten', 'en', 'kennisgevingen', 'als', 'bedoeld', 'in', 'de', 'artikelen', '93', 'ter', 'en', '93', 'quinquies', 'van', 'het', 'wetboek', 'van', 'de', 'belasting', 'over', 'de', 'toegevoegde', 'waarde', 'en', 'in', 'de', 'artikelen', '433', 'en', '435', 'van', 'het', 'wetboek', 'van', 'de', 'inkomstenbelastingen', '1992;', 'gelet', 'op', 'het', 'ministerieel', 'besluit', 'van', '28', 'oktober', '2009', 'tot', 'bepaling', 'van', 'het', 'modelbericht', 'bedoeld', 'in', 'artikel', '210', 'bis', 'van', 'het', 'koninklijk', 'besluit', 'tot', 'uitvoering', 'van', 'het', 'wetboek', 'van', 'de', 'inkomstenbelastingen', '1992;', 'gelet', 'op', 'de', 'adviezen', 'van', 'de', 'inspecteur', 'van', 'financiën,', 'gegeven', 'op', '5', 'maart', '2019', 'en', '6', 'december', '2019;', 'gelet', 'op', 'de', 'akkoordbevinding', 'van', 'de', 'vice-eerste', 'minister', 'en', 'minister', 'van', 'begroting,', 'gegeven', 'op', '4', 'februari', '2020;', 'gelet', 'op', 'het', 'advies', 'nr.', '37/2020', 'van', 'de', 'gegevensbeschermingsautoriteit,', 'gegeven', 'op', '15', 'mei', '2020;', 'gelet', 'op', 'het', 'overleg', 'met', 'de', 'gewesten,', 'gehouden', 'op', '21', 'november', '2019;', 'gelet', 'op', 'de', 'adviezen', 'nr.', '65.887/3', 'en', '67.285/3', 'van', 'de', 'raad', 'van', 'state,', 'gegeven', 'op', '5', 'mei', '2019', 'en', '25', 'mei', '2020', 'met', 'toepassing', 'van', 'artikel', '84,', '§', '1,', 'eerste', 'lid,', '2°,', '', 'van', 'de', 'wetten', 'op', 'de', 'raad', 'van', 'state,', 'gecoördineerd', 'op', '12', 'januari', '1973;', 'overwegende', 'artikel', '8,', '§§', '1', 'en', '2', 'van', 'de', 'wet', 'van', '5', 'mei', '2014', 'houdende', 'verankering', 'van', 'het', 'principe', 'van', 'de', 'unieke', 'gegevensinzameling', 'in', 'de', 'werking', 'van', 'de', 'diensten', 'en', 'instanties', 'die', 'behoren', 'tot', 'of', 'taken', 'uitvoeren', 'voor', 'de', 'overheid', 'en', 'tot', 'vereenvoudiging', 'en', 'gelijkschakeling', 'van', 'elektronische', 'en', 'papieren', 'formulieren', 'werden', 'het', 'besluit', 'en', 'de', 'bijlagen', 'op', '3', 'juni', '2020', 'meegedeeld', 'aan', 'de', 'dienst', 'voor', 'administratieve', 'vereenvoudiging', 'van', 'de', 'fod', 'kanselarij', 'van', 'de', 'eerste', 'minister;', 'overeenkomstig', 'artikel', '6,', '§', '2', 'van', 'de', 'wet', 'van', '15', 'december', '2013', 'houdende', 'diverse', 'bepalingen', 'inzake', 'administratieve', 'vereenvoudiging', 'is', 'geen', 'impactanalyse', 'vereist.', 'op', 'de', 'voordracht', 'van', 'de', 'vice-eerste', 'minister', 'en', 'minister', 'van', 'financiën,', 'hebben', 'wij', 'besloten', 'en', 'besluiten', 'wij', ':', 'artikel', '1.', 'voor', 'de', 'toepassing', 'van', 'dit', 'besluit,', 'wordt', 'verstaan', 'onder:', '1°', '\"invorderingswetboek\":', 'wetboek', 'van', 'de', 'minnelijke', 'en', 'gedwongen', 'invordering', 'van', 'fiscale', 'en', 'niet-fiscale', 'schuldvorderingen;', '2°', '\"programmawet\":', 'programmawet', '(i)', 'van', '29', 'maart', '2012;', '3°', '', '\"wib', '92\":', 'wetboek', 'van', 'de', 'inkomstenbelastingen', '1992;', '4°', '\"wbtw\":', 'wetboek', 'van', 'de', 'belasting', 'over', 'de', 'toegevoegde', 'waarde;', '5°', '\"rechtverkrijgende\":', 'elke', 'erfgenaam,', 'legataris', 'of', 'begunstigde', 'van', 'een', 'contractuele', 'erfstelling', 'die', 'moet', 'worden', 'vermeld', 'in', 'de', 'akte', 'of', 'het', 'attest', 'van', 'erfopvolging', 'bedoeld', 'in', 'de', 'artikelen', '43,', '§', '1,', 'eerste', 'lid', 'van', 'het', 'invorderingswetboek', 'en', '157,', '§', '1,', 'eerste', 'lid', 'en', '157/1,', '§', '1,', 'eerste', 'lid,', 'van', 'de', 'programmawet.', 'art.', '2.', 'de', 'vermeldingen', 'die', 'moeten', 'voorkomen', 'in', 'de', 'berichten', 'verzonden', 'in', 'uitvoering', 'van', 'de', 'artikelen', '93', 'ter', 'van', 'het', 'wbtw,', '433', 'van', 'het', 'wib', '92', 'en', '35', 'van', 'het', 'invorderingswetboek', 'zijn', 'opgenomen', 'in', 'bijlage', '1', 'bij', 'dit', 'besluit.', 'de', 'vermeldingen', 'die', 'moeten', 'voorkomen', 'in', 'de', 'inlichtingen', 'verzonden', 'in', 'uitvoering', 'van', 'de', 'artikelen', '93', 'quinquies,', 'van', 'het', 'wbtw,', '435', 'van', 'het', 'wib', '92', 'en', '37', 'van', 'het', 'invorderingswetboek', 'zijn', 'opgenomen', 'in', 'bijlage', '2', 'bij', 'dit', 'besluit.', 'de', 'vermeldingen', 'die', 'moeten', 'voorkomen', 'in', 'het', 'bericht', 'verzonden', 'in', 'uitvoering', 'van', 'de', 'artikelen', '43', 'van', 'het', 'invorderingswetboek', 'en', '157', 'en', '157/1', 'van', 'de', 'programmawet', 'zijn', 'opgenomen', 'in', 'bijlage', '3', 'bij', 'dit', 'besluit.', 'de', 'vermeldingen', 'die', 'moeten', 'voorkomen', 'in', 'het', 'bericht', 'verzonden', 'in', 'uitvoering', 'van', 'de', 'artikelen', '93', 'ter,', 'van', 'het', 'wbtw,', '412', 'bis,', '433,', 'van', 'het', 'wib', '92', 'en', '35', 'van', 'het', 'invorderingswetboek', 'zijn', 'opgenomen', 'in', 'bijlage', '4', 'bij', 'dit', 'besluit.', 'art.', '3.', 'de', 'vermeldingen', 'vervat', 'in', 'de', 'berichten', 'bedoeld', 'in', 'de', 'artikelen', '93', 'ter,', 'van', 'het', 'wbtw,', '433,', 'van', 'het', 'wib', '92,', '35', 'en', '43', 'van', 'het', 'invorderingswetboek,', '157', 'en', '157/1', 'van', 'de', 'programmawet', 'zijn', 'identiek,', 'ongeacht', 'of', 'ze', 'op', 'elektronische', 'wijze', 'of', 'bij', 'aangetekende', 'zending', 'worden', 'meegedeeld.', 'art.', '4.', 'de', 'vermeldingen', 'vervat', 'in', 'de', 'inlichtingen', 'bedoeld', 'in', 'het', 'artikel', '93', 'quinquies,', 'van', 'het', 'wbtw', 'en', '435,', 'van', 'het', 'wib', '92', 'en', '37', 'van', 'het', 'invorderingswetboek', 'zijn', 'identiek,', 'ongeacht', 'of', 'ze', 'op', 'elektronische', 'wijze', 'of', 'bij', 'aangetekende', 'zending', 'worden', 'meegedeeld.', 'art.', '5.', '§', '1.', 'wanneer', 'het', 'bericht', 'omwille', 'van', 'overmacht', 'of', 'een', 'technische', 'storing', 'niet', 'op', 'elektronische', 'wijze', 'kan', 'worden', 'meegedeeld', 'overeenkomstig', 'de', 'artikelen', '93', 'ter,', '§', '1,', 'eerste', 'lid,', '1°', 'van', 'het', 'wbtw,', '433,', '§', '1,', 'eerste', 'lid,', '1°,', 'van', 'het', 'wib', '92,', 'en', '35,', '§', '1,', 'eerste', 'lid,', '1°,', 'van', 'het', 'invorderingswetboek', 'en', 'wanneer', 'de', 'eigenaar', 'of', 'de', 'houder', 'van', 'een', 'zakelijk', 'recht', 'op', 'het', 'goed', 'in', 'het', 'buitenland', 'verblijft,', 'is', 'de', 'ontvanger', 'aan', 'wie', 'het', 'bericht', 'bij', 'aangetekende', 'zending', 'wordt', 'meegedeeld,', 'de', 'ontvanger', 'van', 'het', 'team', 'bijzondere', 'invordering', 'brussel.', '§', '2.', 'wanneer', 'het', 'bericht', 'omwille', 'van', 'overmacht', 'of', 'een', 'technische', 'storing', 'niet', 'op', 'elektronische', 'wijze', 'kan', 'worden', 'meegedeeld', 'overeenkomstig', 'de', 'artikelen', '157/1,', '§', '1,', 'eerste', 'lid,', '1°', 'van', 'de', 'programmawet', 'en', '43,', '§', '1,', 'eerste', 'lid,', '1°,', 'van', 'het', 'invorderingswetboek', 'en', 'wanneer', 'de', 'erflater', 'en/of', 'een', 'van', 'zijn', 'rechtverkrijgenden', 'in', 'het', 'buitenland', 'verblijven,', 'is', 'de', 'ontvanger', 'aan', 'wie', 'het', 'bericht', 'bij', 'aangetekende', 'zending', 'wordt', 'meegedeeld,', 'de', 'ontvanger', 'van', 'het', 'team', 'bijzondere', 'invordering', 'brussel.', '§', '3.', 'wanneer', 'het', 'bericht', 'omwille', 'van', 'overmacht', 'of', 'een', 'technische', 'storing', 'niet', 'op', 'elektronische', 'wijze', 'kan', 'worden', 'meegedeeld', 'overeenkomstig', 'de', 'artikelen', '157,', '§', '1,', 'eerste', 'lid,', '1°,', 'en', '157/1,', '§', '1,', 'eerste', 'lid,', '1°', 'van', 'de', 'programmawet,', 'is', 'de', 'ambtenaar', 'van', 'de', 'algemene', 'administratie', 'van', 'de', 'patrimoniumdocumentatie', 'bedoeld', 'in', 'de', 'artikelen', '157,', '§', '1,', 'eerste', 'lid,', '2°', 'en', '157/1,', '§', '1,', 'eerste', 'lid,', '2°,', 'tweede', 'streepje,', 'van', 'de', 'programmawet', 'de', 'administrateur', 'rechtszekerheid.', '§', '4.', 'wanneer', 'het', 'bericht', 'omwille', 'van', 'overmacht', 'of', 'een', 'technische', 'storing', 'niet', 'op', 'elektronische', 'wijze', 'kan', 'worden', 'meegedeeld', 'overeenkomstig', 'artikel', '412', 'bis,', '§', '2,', 'zesde', 'lid,', '1°', 'van', 'het', 'wib', '92,', 'is', 'de', 'ontvanger', 'aan', 'wie', 'het', 'bericht', 'bij', 'aangetekende', 'zending', 'wordt', 'meegedeeld,', 'de', 'ontvanger', 'van', 'het', 'team', 'bijzondere', 'invordering', 'brussel.', 'art.', '6.', 'wanneer', 'de', 'kennisgeving', 'overeenkomstig', 'de', 'artikelen', '93', 'quater,', '§', '1,', 'eerste', 'lid,', '1°,', 'van', 'het', 'wbtw,', '434,', '§', '1,', 'eerste', 'lid,', '1°,', 'van', 'het', 'wib', '92,', '158,', 'eerste', 'lid,', '1°', 'en', '158/1,', 'eerste', 'lid,', '1°', 'van', 'de', 'programmawet,', '36,', 'eerste', 'lid,', '1°', 'en', '44,', '§', '1,', '1°,', 'van', 'het', 'invorderingswetboek', 'op', 'elektronische', 'wijze', 'wordt', 'verstuurd,', 'wordt', 'zij', 'bekleed', 'met', 'een', 'elektronische', 'handtekening,', 'die', 'overeenstemt', 'met', 'de', 'digitale', 'handtekening', 'van', 'de', 'federale', 'overheidsdienst', 'financiën,', 'vertegenwoordigd', 'door', 'een', 'certificaat', 'afgeleverd', 'door', 'een', 'gekwalificeerde', 'vertrouwensdienst,', 'in', 'de', 'zin', 'van', 'artikel', '3', 'van', 'verordening', '(eu)', 'nr.', '910/2014', 'van', '23', 'juli', '2014', 'van', 'het', 'europees', 'parlement', 'en', 'de', 'raad', 'betreffende', 'elektronische', 'identificatie', 'en', 'vertrouwensdiensten', 'voor', 'elektronische', 'transacties', 'in', 'de', 'interne', 'markt', 'en', 'tot', 'intrekking', 'van', 'richtlijn', '1999/93/eg.het', 'beheerssysteem', 'van', 'de', 'identiteiten', 'en', 'toegangen', 'van', 'de', 'federale', 'overheidsdienst', 'financiën', 'van', 'de', 'toepassing', 'tot', 'het', 'opmaken', 'van', 'de', 'kennisgevingen,', 'garandeert', 'dat', 'enkel', 'de', 'wettelijk', 'gemachtigde', 'ambtenaar,', 'geldig', 'de', 'kennisgeving', 'bedoeld', 'in', 'de', 'artikelen', '93', 'quater,', '§', '1,', 'eerste', 'lid,', '1°,', 'van', 'het', 'wbtw,', '434,', '§', '1,', 'eerste', 'lid,', '1°,', 'van', 'het', 'wib', '92,', '158,', 'eerste', 'lid,', '1°', 'en', '158/1,', 'eerste', 'lid,', '1°', 'van', 'de', 'programmawet,', '36,', 'eerste', 'lid,', '1°', 'en', '44,', '§', '1,', '1°', 'van', 'het', 'invorderingswetboek', 'kan', 'versturen.', 'de', 'verzamelde', 'persoonsgegevens', 'worden', 'beschermd', 'door', 'passende', 'technische', 'en', 'organisatorische', 'maatregelen.', 'art.', '7.', 'de', 'ambtenaar', 'bedoeld', 'in', 'de', 'artikelen', '45,', 'tweede', 'lid', 'van', 'het', 'invorderingswetboek', 'en', '159,', 'tweede', 'lid,', 'van', 'de', 'programmawet', 'is:', '1°', 'indien', 'het', 'attest', 'van', 'erfopvolging', 'werd', 'opgesteld', 'door', 'het', 'kantoor', 'bedoeld', 'in', 'artikel', '1240', 'bis', 'van', 'het', 'burgerlijk', 'wetboek,', 'de', 'ambtenaar', 'belast', 'met', 'de', 'opmaak', 'van', 'dit', 'attest;', '2°', 'indien', 'het', 'attest', 'of', 'de', 'akte', 'van', 'erfopvolging', 'werd', 'opgesteld', 'door', 'een', 'notaris,', 'deze', 'notaris', 'of', 'een', 'met', 'hem', 'geassocieerde', 'notaris.', 'art.', '8.', 'artikel', '210', 'ter', 'van', 'het', 'koninklijk', 'besluit', 'tot', 'uitvoering', 'van', 'het', 'wetboek', 'van', 'de', 'inkomstenbelastingen', '1992,', 'ingevoegd', 'bij', 'het', 'koninklijk', 'besluit', 'van', '10', 'januari', '1997', 'en', 'gewijzigd', 'bij', 'het', 'koninklijk', 'besluit', 'van', '25', 'februari', '2007,', 'wordt', 'vervangen', 'als', 'volgt:', '\"art.', '210', 'ter.', 'de', 'vermeldingen', 'die', 'moeten', 'voorkomen', 'in', 'het', 'bericht', 'bedoeld', 'in', 'artikel', '412', 'bis', 'van', 'het', 'wetboek', 'van', 'de', 'inkomstenbelastingen', '1992', 'zijn', 'opgenomen', 'in', 'bijlage', '4', 'van', 'het', 'koninklijk', 'besluit', 'van', '22', 'juni', '2020', 'tot', 'uitvoering', 'van', 'de', 'artikelen', '93', 'ter', 'tot', '93', 'quinquies', 'van', 'het', 'wetboek', 'van', 'de', 'belasting', 'over', 'de', 'toegevoegde', 'waarde,', 'de', 'artikelen', '412', 'bis,', '433', 'tot', '435', 'van', 'het', 'wetboek', 'van', 'de', 'inkomstenbelastingen', '1992,', 'de', 'artikelen', '35', 'tot', '37,', '43', 'tot', '45', 'en', '47', 'van', 'het', 'wetboek', 'van', 'de', 'minnelijke', 'en', 'gedwongen', 'invordering', 'van', 'fiscale', 'en', 'niet-fiscale', 'schuldvorderingen', 'en', 'de', 'artikelen', '157', 'tot', '159', 'en', '161', 'van', 'de', 'programmawet', '(i)', 'van', '29', 'maart', '2012,', 'inzake', 'het', 'e-notariaat\".', 'art.', '9.', 'in', 'artikel', '233', 'van', 'hetzelfde', 'besluit,', 'gewijzigd', 'bij', 'het', 'koninklijk', 'besluit', 'van', '9', 'december', '2019,', 'worden', 'de', 'woorden', '\"210', 'bis\"', 'opgeheven.', 'art.', '10.', 'worden', 'opgeheven:', '1°', 'artikel', '210', 'bis,', 'van', 'het', 'koninklijk', 'besluit', 'tot', 'uitvoering', 'van', 'het', 'wetboek', 'van', 'de', 'inkomstenbelastingen', '1992,', 'ingevoegd', 'bij', 'het', 'koninklijk', 'besluit', 'van', '10', 'januari', '1997', 'en', 'gewijzigd', 'bij', 'de', 'koninklijke', 'besluiten', 'van', '31', 'maart', '2003', 'en', '25', 'februari', '2007;', '2°', 'artikel', '2', 'van', 'het', 'koninklijk', 'besluit', 'nr.', '11', 'van', '29', 'december', '1992', 'met', 'betrekking', 'tot', 'de', 'toepassing', 'van', 'de', 'belasting', 'over', 'de', 'toegevoegde', 'waarde,', 'gewijzigd', 'bij', 'de', 'koninklijke', 'besluiten', 'van', '20', 'november', '2000', 'en', '17', 'mei', '2007;', '3°', '', 'het', 'koninklijk', 'besluit', 'van', '16', 'juli', '2012', 'houdende', 'uitvoering', 'van', 'de', 'artikelen', '157', 'tot', '163', 'van', 'de', 'programmawet', '(i)', 'van', '29', 'maart', '2012,', 'gewijzigd', 'bij', 'koninklijk', 'besluit', 'van', '4', 'maart', '2013;', '4°', 'het', 'ministerieel', 'besluit', 'nr.', '13', 'van', '4', 'maart', '1993', 'met', 'betrekking', 'tot', 'de', 'verplichtingen', 'waartoe', 'een', 'belastingplichtige', 'of', 'een', 'lid', 'van', 'een', 'btw-eenheid', 'in', 'de', 'zin', 'van', 'artikel', '4,', '§', '2,', 'van', 'het', 'wetboek', 'van', 'de', 'belasting', 'over', 'de', 'toegevoegde', 'waarde,', 'eigenaar', 'van', 'een', 'voor', 'hypotheek', 'vatbaar', 'goed', 'of', 'van', 'een', 'gedeelte', 'ervan', 'of', 'houder', 'van', 'een', 'zakelijk', 'recht', 'op', 'een', 'dergelijk', 'goed', 'of', 'op', 'een', 'gedeelte', 'ervan,', 'gehouden', 'is,', 'gewijzigd', 'bij', 'het', 'ministerieel', 'besluit', 'van', '29', 'mei', '2007;', '5°', 'het', 'ministerieel', 'besluit', 'van', '26', 'februari', '2007', 'met', 'betrekking', 'tot', 'de', 'aanduiding', 'van', 'de', 'dienst', 'bevoegd', 'voor', 'het', 'ontvangen', 'van', 'de', 'berichten', 'en', 'het', 'afleveren', 'van', 'de', 'ontvangstmeldingen', 'in', 'het', 'kader', 'van', 'het', 'systeem', 'van', 'elektronische', 'notificaties', 'tussen', 'de', 'federale', 'overheidsdienst', 'financiën', 'en', 'bepaalde', 'ministeriële', 'officiers,', 'openbare', 'ambtenaren', 'en', 'andere', 'personen;', '6°', '', 'het', 'ministerieel', 'besluit', 'van', '28', 'oktober', '2009', 'tot', 'bepaling', 'van', 'het', 'model', 'der', 'berichten', 'en', 'kennisgevingen', 'als', 'bedoeld', 'in', 'de', 'artikelen', '93', 'ter', 'en', '93', 'quinquies', 'van', 'het', 'wetboek', 'van', 'de', 'belasting', 'over', 'de', 'toegevoegde', 'waarde', 'en', 'in', 'de', 'artikelen', '433', 'en', '435', 'van', 'het', 'wetboek', 'van', 'de', 'inkomstenbelastingen', '1992;', '7°', 'het', 'ministerieel', 'besluit', 'van', '28', 'oktober', '2009', 'tot', 'bepaling', 'van', 'het', 'modelbericht', 'bedoeld', 'in', 'artikel', '210', 'bis', 'van', 'het', 'koninklijk', 'besluit', 'tot', 'uitvoering', 'van', 'het', 'wetboek', 'van', 'de', 'inkomstenbelastingen', '1992.', 'art.', '11.', 'de', 'minister', 'bevoegd', 'voor', 'financiën', 'is', 'belast', 'met', 'de', 'uitvoering', 'van', 'dit', 'besluit.', 'gegeven', 'te', 'brussel,', '22', 'juni', '2020.', 'filip', 'van', 'koningswege', ':', 'de', 'vice-eerste', 'minister', 'en', 'minister', 'van', 'financiën,', 'a.', 'de', 'croo', 'bijlage', '1', 'bij', 'het', 'koninklijk', 'besluit', 'van', '22', 'juni', '2020', 'voor', 'de', 'raadpleging', 'van', 'de', 'tabel,', 'zie', 'beeldgezien', 'om', 'gevoegd', 'te', 'worden', 'bij', 'ons', 'besluit', 'van', '22', 'juni', '2020.', 'filip', 'van', 'koningswege', ':', 'de', 'vice-eerste', 'minister', 'en', 'minister', 'van', 'financiën,', 'a.', 'de', 'croo', 'bijlage', '2', 'bij', 'het', 'koninklijk', 'besluit', 'van', '22', 'juni', '2020', 'voor', 'de', 'raadpleging', 'van', 'de', 'tabel,', 'zie', 'beeld', 'gezien', 'om', 'gevoegd', 'te', 'worden', 'bij', 'ons', 'besluit', 'van', '22', 'juni', '2020.', 'filip', 'van', 'koningswege', ':', 'de', 'vice-eerste', 'minister', 'en', 'minister', 'van', 'financiën,', 'a.', 'de', 'croo', 'bijlage', '3', 'bij', 'het', 'koninklijk', 'besluit', 'van', '22', 'juni', '2020', 'voor', 'de', 'raadpleging', 'van', 'de', 'tabel,', 'zie', 'beeld', 'gezien', 'om', 'gevoegd', 'te', 'worden', 'bij', 'ons', 'besluit', 'van', '22', 'juni', '2020.', 'filip', 'van', 'koningswege', ':', 'de', 'vice-eerste', 'minister', 'en', 'minister', 'van', 'financiën,', 'a.', 'de', 'croo', 'bijlage', '4', 'bij', 'het', 'koninklijk', 'besluit', 'van', '22', 'juni', '2020', 'voor', 'de', 'raadpleging', 'van', 'de', 'tabel,', 'zie', 'beeld', 'gezien', 'om', 'gevoegd', 'te', 'worden', 'bij', 'ons', 'besluit', 'van', '22', 'juni', '2020.', 'filip', 'van', 'koningswege', ':', 'de', 'vice-eerste', 'minister', 'en', 'minister', 'van', 'financiën,', 'a.', 'de', 'croo', '']\n"
          ]
        }
      ]
    },
    {
      "cell_type": "code",
      "source": [
        "# Using list comprehension + split()\n",
        "# Tokenizing strings in list of strings\n",
        "data_words = [sub.split() for sub in content]\n",
        "print(data_words)"
      ],
      "metadata": {
        "colab": {
          "base_uri": "https://localhost:8080/"
        },
        "id": "2VTJaeaB14A2",
        "outputId": "21a04788-2835-4840-86fb-8f80ed8af254"
      },
      "execution_count": 14,
      "outputs": [
        {
          "output_type": "stream",
          "name": "stdout",
          "text": [
            "[['verslag'], ['aan'], ['de'], ['koning'], ['sire,'], ['het'], ['ontwerp'], ['van'], ['koninklijk'], ['besluit'], ['dat'], ['wij'], ['de'], ['eer'], ['hebben'], ['aan'], ['uwe'], ['majesteit'], ['voor'], ['te'], ['leggen,'], ['beoogt'], ['de'], ['uitvoering'], ['van'], ['de'], ['artikelen'], ['93'], ['ter'], ['tot'], ['93'], ['quinquies'], ['van'], ['het'], ['wetboek'], ['van'], ['de'], ['belasting'], ['over'], ['de'], ['toegevoegde'], ['waarde'], ['(hierna'], ['\"wbtw\"),'], ['de'], ['artikelen'], ['412'], ['bis,'], ['433'], ['tot'], ['435'], ['van'], ['het'], ['wetboek'], ['van'], ['de'], ['inkomstenbelastingen'], ['1992'], ['(hierna'], ['\"wib'], ['92\"),'], ['de'], ['artikelen'], ['35'], ['tot'], ['37'], ['en'], ['43'], ['tot'], ['45'], ['en'], ['47'], ['van'], ['het'], ['wetboek'], ['van'], ['de'], ['minnelijke'], ['en'], ['gedwongen'], ['invordering'], ['van'], ['fiscale'], ['en'], ['niet-fiscale'], ['schuldvorderingen'], ['(hierna'], ['\"invorderingswetboek\")'], ['en'], ['de'], ['artikelen'], ['157'], ['tot'], ['159'], ['en'], ['161'], ['van'], ['de'], ['programmawet'], ['(i)'], ['van'], ['29'], ['maart'], ['2012'], ['(hierna'], ['\"programmawet\",'], ['zoals'], ['gewijzigd'], ['door'], ['de'], ['wet'], ['van'], ['11'], ['februari'], ['2019'], ['houdende'], ['fiscale,'], ['fraude'], ['bestrijdende,'], ['financiële'], ['alsook'], ['diverse'], ['bepalingen'], ['en'], ['de'], ['wet'], ['van'], ['23'], ['april'], ['2020'], ['houdende'], ['wijzigingen'], ['van'], ['het'], ['wetboek'], ['van'], ['de'], ['belasting'], ['over'], ['de'], ['toegevoegde'], ['waarde,'], ['het'], ['wetboek'], ['van'], ['de'], ['inkomstenbelastingen'], ['1992,'], ['het'], ['wetboek'], ['van'], ['de'], ['minnelijke'], ['en'], ['gedwongen'], ['invordering'], ['van'], ['fiscale'], ['en'], ['niet-fiscale'], ['schuldvorderingen'], ['en'], ['de'], ['programmawet'], ['(i)'], ['van'], ['29'], ['maart'], ['2012,'], ['inzake'], ['de'], ['verwerking'], ['van'], ['persoonsgegevens'], ['via'], ['het'], ['e-notariaat.'], ['de'], ['nieuwe'], ['werkwijze'], ['kadert'], ['binnen'], ['de'], ['modernisering'], ['van'], ['de'], ['federale'], ['overheidsdienst'], ['financiën,'], ['de'], ['administratieve'], ['vereenvoudiging'], ['en'], ['de'], ['kostenbesparing.'], ['dit'], ['heeft'], ['als'], ['hoofddoel'], ['het'], ['instellen'], ['van'], ['een'], ['kennisgevingssysteem'], ['dat'], ['de'], ['ontvangers'], ['toelaat'], ['om'], ['kennisgevingen'], ['elektronisch'], ['te'], ['verzenden,'], ['zowel'], ['de'], ['kennisgevingen'], ['bestemd'], ['voor'], ['de'], ['notaris'], ['als'], ['voor'], ['elke'], ['persoon'], ['die'], ['bevoegd'], ['is'], ['om'], ['authenticiteit'], ['te'], ['verlenen'], ['aan'], ['de'], ['in'], ['de'], ['artikelen'], ['93'], ['ter'], ['van'], ['het'], ['wbtw,'], ['433'], ['van'], ['het'], ['wib'], ['92'], ['en'], ['35'], ['van'], ['het'], ['invorderingswetboek'], ['bedoelde'], ['akten,'], ['met'], ['name'], ['de'], ['akten'], ['tot'], ['overdracht'], ['van'], ['zakelijke'], ['rechten'], ['en'], ['de'], ['akten'], ['houdende'], ['hypothecaire'], ['aanwending'], ['van'], ['goederen'], ['die'], ['er'], ['vatbaar'], ['voor'], ['zijn,'], ['alsook'], ['de'], ['kennisgevingen'], ['bestemd'], ['voor'], ['elke'], ['persoon'], ['bevoegd'], ['om'], ['een'], ['akte'], ['of'], ['attest'], ['van'], ['erfopvolging'], ['op'], ['te'], ['stellen.'], ['bovendien'], ['worden'], ['de'], ['in'], ['de'], ['voornoemde'], ['wettelijke'], ['bepalingen'], ['opgenomen'], ['praktische'], ['toepassingsvoorwaarden'], ['eenvormig'], ['gemaakt'], ['waardoor'], ['de'], ['verschillende'], ['uitvoeringsmaatregelen'], ['in'], ['één'], ['enkel'], ['reglementair'], ['besluit'], ['kunnen'], ['worden'], ['samengebracht.'], ['de'], ['adviezen'], ['nr.'], ['65.887/3'], ['en'], ['67.285/3'], ['van'], ['de'], ['raad'], ['van'], ['state,'], ['gegeven'], ['op'], ['5'], ['mei'], ['2019'], ['en'], ['25'], ['mei'], ['2020,'], ['werden'], ['gevolgd.'], ['artikel'], ['2'], ['stelt'], ['dat'], ['de'], ['vermeldingen'], ['die'], ['moeten'], ['voorkomen'], ['op'], ['de'], ['berichten'], ['en'], ['inlichtingen'], ['in'], ['uitvoering'], ['van'], ['het'], ['wbtw,'], ['wib'], ['92,'], ['invorderingswetboek'], ['en'], ['de'], ['programmawet'], ['worden'], ['bijgevoegd'], ['in'], ['de'], ['bijlagen'], ['1'], ['tot'], ['4'], ['van'], ['dit'], ['besluit.'], ['de'], ['artikelen'], ['3'], ['en'], ['4'], ['bepalen'], ['dat'], ['de'], ['vermeldingen'], ['in'], ['de'], ['berichten'], ['en'], ['inlichtingen'], ['identiek'], ['moeten'], ['zijn'], ['ongeacht'], ['de'], ['gebruikte'], ['communicatiemethode'], ['(op'], ['elektronische'], ['wijze'], ['of'], ['bij'], ['aangetekende'], ['zending).artikel'], ['5'], ['specificeert'], ['de'], ['ambtenaren'], ['aan'], ['wie'], ['de'], ['berichten'], ['bedoeld'], ['in'], ['de'], ['artikelen'], ['93'], ['ter'], ['wbtw,'], ['412'], ['bis'], ['en'], ['433'], ['wib'], ['92,'], ['35'], ['en'], ['43'], ['van'], ['het'], ['invorderingswetboek'], ['en'], ['157/1'], ['van'], ['de'], ['programmawet'], ['moeten'], ['worden'], ['meegedeeld'], ['wanneer'], ['het'], ['bericht'], ['omwille'], ['van'], ['overmacht'], ['of'], ['een'], ['technische'], ['storing'], ['niet'], ['op'], ['elektronische'], ['wijze'], ['kan'], ['worden'], ['meegedeeld,'], ['en'], ['wanneer'], ['de'], ['eigenaar'], ['of'], ['de'], ['houder'], ['van'], ['een'], ['zakelijk'], ['recht'], ['op'], ['het'], ['goed'], ['in'], ['het'], ['buitenland'], ['verblijft,'], ['of'], ['wanneer'], ['de'], ['erflater'], ['en/of'], ['een'], ['van'], ['zijn'], ['rechtverkrijgenden'], ['in'], ['het'], ['buitenland'], ['verblijven.'], ['daarnaast'], ['specificeert'], ['het'], ['de'], ['in'], ['de'], ['artikelen'], ['157'], ['en'], ['157/1'], ['bedoelde'], ['ambtenaar'], ['van'], ['de'], ['algemene'], ['administratie'], ['van'], ['de'], ['patrimoniumdocumentatie'], ['aan'], ['wie'], ['het'], ['bericht'], ['moet'], ['worden'], ['geadresseerd'], ['in'], ['geval'], ['het'], ['bericht'], ['niet'], ['op'], ['elektronische'], ['wijze'], ['kan'], ['worden'], ['kennisgegeven'], ['aan'], ['de'], ['stafdienst'], ['ict'], ['omwille'], ['van'], ['overmacht'], ['of'], ['een'], ['technische'], ['storing.'], ['artikel'], ['6'], ['omschrijft'], ['de'], ['technische'], ['specificaties'], ['van'], ['de'], ['kennisgeving'], ['op'], ['elektronische'], ['wijze,'], ['alsook'], ['de'], ['geldigheidsvoorwaarden'], ['van'], ['de'], ['elektronische'], ['handtekening.'], ['de'], ['ontvangers'], ['bevoegd'], ['voor'], ['de'], ['kennisgevingen'], ['hebben'], ['toegang'], ['tot'], ['de'], ['toepassing'], ['om'], ['de'], ['kennisgevingen'], ['door'], ['middel'], ['van'], ['hun'], ['elektronische'], ['identiteitskaart'], ['op'], ['te'], ['maken,'], ['wat'], ['er'], ['voor'], ['zorgt'], ['dat'], ['enkel'], ['de'], ['bevoegde'], ['personen'], ['geldig'], ['een'], ['kennisgeving'], ['op'], ['grond'], ['van'], ['de'], ['artikelen'], ['93'], ['quater'], ['van'], ['het'], ['wbtw,'], ['434'], ['van'], ['het'], ['wib'], ['92,'], ['36'], ['en'], ['44'], ['van'], ['het'], ['invorderingswetboek'], ['en'], ['158'], ['en'], ['158/1'], ['van'], ['de'], ['programmawet'], ['kunnen'], ['versturen.'], ['deze'], ['kennisgeving'], ['wordt'], ['vervolgens'], ['gecertificeerd'], ['door'], ['de'], ['federale'], ['overheidsdienst'], ['financiën.'], ['ze'], ['is'], ['bekleed'], ['met'], ['een'], ['elektronische'], ['handtekening'], ['die'], ['overeenstemt'], ['met'], ['de'], ['digitale'], ['handtekening'], ['van'], ['de'], ['federale'], ['overheidsdienst'], ['financiën,'], ['vertegenwoordigd'], ['door'], ['een'], ['certificaat'], ['afgeleverd'], ['door'], ['een'], ['gekwalificeerde'], ['vertrouwensdienst'], ['in'], ['de'], ['zin'], ['van'], ['artikel'], ['3'], ['van'], ['verordening'], ['(eu)'], ['nr.'], ['910/2014'], ['van'], ['het'], ['europees'], ['parlement'], ['en'], ['de'], ['raad'], ['van'], ['23'], ['juli'], ['2014'], ['betreffende'], ['elektronische'], ['identificatie'], ['en'], ['vertrouwensdiensten'], ['voor'], ['elektronische'], ['transacties'], ['in'], ['de'], ['interne'], ['markt'], ['en'], ['tot'], ['intrekking'], ['van'], ['richtlijn'], ['1999/93/eg.'], ['bovendien'], ['zal'], ['de'], ['elektronische'], ['kennisgeving'], ['de'], ['veiligheid'], ['van'], ['uitgewisselde'], ['informatie'], ['verzekeren'], ['door'], ['middel'], ['van'], ['aangepaste'], ['beveiligingstechnieken.'], ['in'], ['het'], ['attest'], ['van'], ['erfopvolging'], ['of'], ['aan'], ['de'], ['voet'], ['van'], ['de'], ['uitgifte'], ['van'], ['de'], ['akte'], ['van'], ['erfopvolging'], ['wordt'], ['vermeld'], ['hetzij'], ['dat'], ['er'], ['geen'], ['kennisgeving'], ['van'], ['schulden'], ['bij'], ['toepassing'], ['van'], ['de'], ['artikelen'], ['158'], ['en'], ['158/1'], ['van'], ['de'], ['programmawet'], ['en'], ['44'], ['van'], ['het'], ['invorderingswetboek'], ['werd'], ['gedaan,'], ['hetzij'], ['dat'], ['de'], ['schulden'], ['waarvan'], ['bij'], ['toepassing'], ['van'], ['de'], ['artikelen'], ['158'], ['en'], ['158/1'], ['van'], ['de'], ['programmawet'], ['en'], ['artikel'], ['44'], ['van'], ['het'], ['invorderingswetboek'], ['kennis'], ['werd'], ['gegeven'], ['zijn'], ['betaald'], ['of,'], ['in'], ['voorkomend'], ['geval'], ['zullen'], ['worden'], ['betaald'], ['met'], ['de'], ['tegoeden'], ['gehouden'], ['door'], ['de'], ['schuldenaar.'], ['artikel'], ['7'], ['specificeert'], ['de'], ['ambtenaar'], ['die'], ['de'], ['vermelding'], ['moet'], ['doen'], ['van'], ['de'], ['gedane'], ['of'], ['van'], ['de'], ['nog'], ['te'], ['verrichten'], ['betaling'], ['in'], ['het'], ['attest'], ['of'], ['aan'], ['de'], ['voet'], ['van'], ['de'], ['uitgifte'], ['van'], ['de'], ['akte'], ['van'], ['erfopvolging'], ['artikel'], ['8'], ['wijzigt'], ['het'], ['artikel'], ['210'], ['ter,'], ['van'], ['het'], ['koninklijk'], ['besluit'], ['tot'], ['uitvoering'], ['van'], ['het'], ['wetboek'], ['van'], ['de'], ['inkomstenbelastingen'], ['1992'], ['(hierna'], ['\"kb'], ['wib'], ['92\")'], ['als'], ['gevolg'], ['van'], ['dit'], ['ontwerpbesluit.'], ['artikel'], ['9'], ['bevat'], ['een'], ['technische'], ['correctie'], ['van'], ['artikel'], ['233'], ['kb'], ['wib'], ['92'], ['naar'], ['aanleiding'], ['van'], ['de'], ['opheffing'], ['van'], ['en'], ['de'], ['integratie'], ['van'], ['artikel'], ['210'], ['bis'], ['kb'], ['wib'], ['92'], ['in'], ['artikel'], ['412'], ['bis'], ['wib'], ['92.'], ['artikel'], ['10'], ['heft'], ['een'], ['reeks'], ['bepalingen'], ['en'], ['wettelijke'], ['normen'], ['op'], ['omdat'], ['alle'], ['uitvoeringsbepalingen'], ['inzake'], ['e-notariaat'], ['werden'], ['samengebracht'], ['in'], ['een'], ['enkel'], ['besluit.'], ['vermits'], ['artikel'], ['210'], ['bis'], ['kb'], ['wib'], ['92'], ['op'], ['verzoek'], ['van'], ['de'], ['gegevensbeschermingsautoriteit'], ['werd'], ['geïntegreerd'], ['in'], ['artikel'], ['412'], ['bis,'], ['wib'], ['92'], ['en'], ['de'], ['wettelijke'], ['grondslag'], ['ervan'], ['verdween,'], ['moet'], ['dit'], ['artikel'], ['worden'], ['opgeheven.'], ['aangezien'], ['de'], ['ambtenaar'], ['die'], ['bevoegd'], ['is'], ['om'], ['de'], ['berichten'], ['te'], ['ontvangen'], ['voortaan'], ['enerzijds'], ['rechtstreeks'], ['in'], ['artikel'], ['93'], ['ter,'], ['§'], ['1,'], ['eerste'], ['lid,'], ['van'], ['het'], ['wbtw'], ['wordt'], ['aangeduid'], ['wanneer'], ['de'], ['eigenaar'], ['of'], ['de'], ['houder'], ['van'], ['een'], ['zakelijk'], ['recht'], ['op'], ['het'], ['goed'], ['zijn'], ['verblijfplaats'], ['in'], ['belgië'], ['heeft,'], ['en'], ['anderzijds,'], ['wordt'], ['aangeduid'], ['in'], ['dit'], ['besluit'], ['wanneer'], ['de'], ['eigenaar'], ['of'], ['de'], ['houder'], ['van'], ['een'], ['zakelijk'], ['recht'], ['op'], ['het'], ['goed'], ['zijn'], ['verblijfplaats'], ['in'], ['het'], ['buitenland'], ['heeft,'], ['dient'], ['artikel'], ['2'], ['van'], ['het'], ['koninklijk'], ['besluit'], ['nr.'], ['11'], ['van'], ['29'], ['december'], ['1992'], ['opgeheven'], ['te'], ['worden.'], ['het'], ['koninklijk'], ['besluit'], ['van'], ['16'], ['juli'], ['2012'], ['moet'], ['opgeheven'], ['worden'], ['omdat'], ['in'], ['dit'], ['besluit'], ['wordt'], ['geïntegreerd.'], ['in'], ['toepassing'], ['van'], ['de'], ['wet'], ['van'], ['5'], ['mei'], ['2014'], ['houdende'], ['de'], ['verankering'], ['van'], ['het'], ['principe'], ['van'], ['de'], ['unieke'], ['gegevensinzameling'], ['in'], ['de'], ['werking'], ['van'], ['de'], ['diensten'], ['en'], ['instanties'], ['die'], ['behoren'], ['tot'], ['of'], ['taken'], ['uitvoeren'], ['voor'], ['de'], ['overheid'], ['en'], ['tot'], ['vereenvoudiging'], ['en'], ['gelijkschakeling'], ['van'], ['elektronische'], ['en'], ['papieren'], ['formulieren'], ['en'], ['meer'], ['in'], ['het'], ['bijzonder'], ['van'], ['artikel'], ['2'], ['dat'], ['bepaalt'], ['dat:'], ['\"deze'], ['wet'], ['heeft'], ['tot'], ['doel'], ['de'], ['administratieve'], ['verplichtingen'], ['van'], ['burgers'], ['en'], ['rechtspersonen'], ['te'], ['vereenvoudigen'], ['door'], ['te'], ['waarborgen'], ['dat'], ['gegevens'], ['die'], ['reeds'], ['beschikbaar'], ['zijn'], ['in'], ['een'], ['authentieke'], ['bron'], ['niet'], ['opnieuw'], ['moeten'], ['worden'], ['meegedeeld'], ['aan'], ['een'], ['federale'], ['overheidsdienst'], ['en'], ['te'], ['komen'], ['tot'], ['een'], ['volledige'], ['gelijkschakeling'], ['tussen'], ['elektronische'], ['en'], ['papieren'], ['formulieren.\"'], [','], ['werd'], ['het'], ['ministerieel'], ['besluit'], ['nr.'], ['13'], ['van'], ['4'], ['maart'], ['1993'], ['opgeheven'], ['aangezien'], ['de'], ['aanvrager'], ['van'], ['een'], ['akte'], ['van'], ['vervreemding'], ['of'], ['hypothecaire'], ['aanwending'], ['niet'], ['langer'], ['gehouden'], ['is'], ['zijn'], ['hoedanigheid'], ['van'], ['belastingplichtige'], ['of'], ['lid'], ['van'], ['een'], ['btw-eenheid'], ['mee'], ['te'], ['delen'], ['aan'], ['de'], ['instrumenterende'], ['notaris,'], ['aangezien'], ['de'], ['fiscale'], ['administratie'], ['beschikt'], ['over'], ['dit'], ['soort'], ['gegevens.'], ['aangezien'], ['de'], ['dienst'], ['die'], ['bevoegd'], ['is'], ['om'], ['de'], ['berichten'], ['te'], ['ontvangen'], ['en'], ['de'], ['ontvangstmeldingen'], ['af'], ['te'], ['leveren'], ['in'], ['het'], ['kader'], ['van'], ['een'], ['transmissiesysteem'], ['van'], ['berichten'], ['en'], ['inlichtingen,'], ['bepaald'], ['is'], ['in'], ['de'], ['artikelen'], ['93'], ['ter'], ['en'], ['93'], ['quinquies,'], ['wbtw,'], ['de'], ['artikelen'], ['433'], ['en'], ['435,'], ['wib'], ['92,'], ['de'], ['artikelen'], ['35'], ['en'], ['43'], ['van'], ['het'], ['invorderingswetboek'], ['en'], ['in'], ['de'], ['artikelen'], ['157'], ['en'], ['157/1'], ['van'], ['de'], ['programmawet,'], ['wordt'], ['het'], ['ministerieel'], ['besluit'], ['van'], ['26'], ['februari'], ['2007'], ['opgeheven.'], ['aangezien'], ['de'], ['verplichte'], ['vermeldingen'], ['die'], ['moeten'], ['voorkomen'], ['in'], ['de'], ['berichten'], ['en'], ['inlichtingen'], ['bedoeld'], ['in'], ['de'], ['artikelen'], ['93'], ['ter'], ['en'], ['93'], ['quinquies'], ['van'], ['het'], ['wbtw'], ['en'], ['in'], ['de'], ['artikelen'], ['433'], ['en'], ['435'], ['van'], ['het'], ['wib'], ['92,'], ['voortaan'], ['gehecht'], ['zijn'], ['aan'], ['het'], ['huidig'], ['besluit,'], ['moet'], ['het'], ['ministerieel'], ['besluit'], ['van'], ['28'], ['oktober'], ['2009'], ['opgeheven'], ['worden.'], ['het'], ['ministerieel'], ['besluit'], ['van'], ['28'], ['oktober'], ['2009'], ['tot'], ['bepaling'], ['van'], ['het'], ['modelbericht'], ['bedoeld'], ['in'], ['artikel'], ['210'], ['bis'], ['van'], ['het'], ['koninklijk'], ['besluit'], ['tot'], ['uitvoering'], ['van'], ['het'], ['wetboek'], ['van'], ['de'], ['inkomstenbelastingen'], ['1992'], ['wordt'], ['opgeheven'], ['omdat'], ['het'], ['wordt'], ['geïntegreerd'], ['in'], ['bijlage'], ['4'], ['van'], ['dit'], ['besluit.'], ['ik'], ['heb'], ['de'], ['eer'], ['te'], ['zijn,'], ['sire,'], ['van'], ['uwe'], ['majesteit,'], ['de'], ['zeer'], ['eerbiedige'], ['en'], ['zeer'], ['getrouwe'], ['dienaar,'], ['de'], ['vice-eerste'], ['minister'], ['en'], ['minister'], ['van'], ['financiën,'], ['a.'], ['de'], ['croo'], ['22'], ['juni'], ['2020.'], ['-'], ['koninklijk'], ['besluit'], ['tot'], ['uitvoering'], ['van'], ['de'], ['artikelen'], ['93'], ['ter'], ['tot'], ['93'], ['quinquies'], ['van'], ['het'], ['wetboek'], ['van'], ['de'], ['belasting'], ['over'], ['de'], ['toegevoegde'], ['waarde,'], ['de'], ['artikelen'], ['412'], ['bis,'], ['433'], ['tot'], ['435'], ['van'], ['het'], ['wetboek'], ['van'], ['de'], ['inkomstenbelastingen'], ['1992,'], ['de'], ['artikelen'], ['35'], ['tot'], ['37,'], ['43'], ['tot'], ['45'], ['en'], ['47'], ['van'], ['het'], ['wetboek'], ['van'], ['de'], ['minnelijke'], ['en'], ['gedwongen'], ['invordering'], ['van'], ['fiscale'], ['en'], ['niet-fiscale'], ['schuldvorderingen'], ['en'], ['de'], ['artikelen'], ['157'], ['tot'], ['159'], ['en'], ['161'], ['van'], ['de'], ['programmawet'], ['(i)'], ['van'], ['29'], ['maart'], ['2012,'], ['inzake'], ['het'], ['e-notariaatfilip,'], ['koning'], ['der'], ['belgen,'], ['aan'], ['allen'], ['die'], ['nu'], ['zijn'], ['en'], ['hierna'], ['wezen'], ['zullen,'], ['onze'], ['groet.'], ['gelet'], ['op'], ['de'], ['grondwet,'], ['de'], ['artikelen'], ['37'], ['en'], ['108;'], ['gelet'], ['op'], ['de'], ['programmawet'], ['(i)'], ['van'], ['29'], ['maart'], ['2012,'], ['artikelen'], ['157,'], ['§'], ['1,'], ['eerste'], ['lid,'], ['2°,'], ['vervangen'], ['bij'], ['de'], ['wet'], ['van'], ['23'], ['april'], ['2020,'], ['157,'], ['§'], ['6,'], ['vervangen'], ['bij'], ['de'], ['wet'], ['van'], ['23'], ['april'], ['2020,'], ['157,'], ['vervangen'], ['bij'], ['de'], ['wet'], ['van'], ['23'], ['april'], ['2020,'], ['157/1,'], ['§'], ['1,'], ['eerste'], ['lid,'], ['2°,'], ['eerste'], ['en'], ['tweede'], ['streepje,'], ['ingevoegd'], ['bij'], ['de'], ['wet'], ['van'], ['23'], ['april'], ['2020,'], ['157/1,'], ['§'], ['6,'], ['ingevoegd'], ['bij'], ['de'], ['wet'], ['van'], ['23'], ['april'], ['2020,'], ['157/1,'], ['ingevoegd'], ['bij'], ['de'], ['wet'], ['van'], ['23'], ['april'], ['2020,'], ['158,'], ['eerste'], ['lid,'], ['1°,'], ['vervangen'], ['bij'], ['de'], ['wet'], ['van'], ['23'], ['april'], ['2020,'], ['158/1,'], ['eerste'], ['lid,'], ['1°,'], ['ingevoegd'], ['bij'], ['de'], ['wet'], ['van'], ['23'], ['april'], ['2020,'], ['en'], ['159,'], ['tweede'], ['lid,'], ['vervangen'], ['bij'], ['de'], ['wet'], ['van'], ['13'], ['december'], ['2012,'], ['en'], ['161,'], ['vervangen'], ['bij'], ['de'], ['wet'], ['van'], ['23'], ['april'], ['2020;'], ['gelet'], ['op'], ['de'], ['wet'], ['van'], ['11'], ['februari'], ['2019'], ['houdende'], ['fiscale,'], ['fraude'], ['bestrijdende,'], ['financiële'], ['alsook'], ['diverse'], ['bepalingen,'], ['artikel'], ['34;'], ['gelet'], ['op'], ['het'], ['wetboek'], ['van'], ['de'], ['belasting'], ['over'], ['de'], ['toegevoegde'], ['waarde,'], ['artikelen'], ['93'], ['ter,'], ['§'], ['1,'], ['eerste'], ['lid,'], ['2°,'], ['ingevoegd'], ['bij'], ['de'], ['wet'], ['van'], ['8'], ['augustus'], ['1980,'], ['vervangen'], ['bij'], ['de'], ['wet'], ['van'], ['11'], ['februari'], ['2019,'], ['opgeheven'], ['bij'], ['de'], ['wet'], ['van'], ['13'], ['april'], ['2019'], ['uitgezonderd'], ['voor'], ['de'], ['gevallen'], ['bedoeld'], ['in'], ['artikel'], ['138'], ['van'], ['die'], ['wet'], ['en'], ['gewijzigd'], ['bij'], ['de'], ['wet'], ['van'], ['23'], ['april'], ['2020,'], ['93'], ['ter,'], ['§'], ['4,'], ['ingevoegd'], ['bij'], ['de'], ['wet'], ['van'], ['8'], ['augustus'], ['1980,'], ['vervangen'], ['bij'], ['de'], ['wet'], ['van'], ['11'], ['februari'], ['2019,'], ['opgeheven'], ['bij'], ['de'], ['wet'], ['van'], ['13'], ['april'], ['2019'], ['uitgezonderd'], ['voor'], ['de'], ['gevallen'], ['bedoeld'], ['in'], ['artikel'], ['138'], ['van'], ['die'], ['wet,'], ['93'], ['ter,'], ['opgeheven'], ['bij'], ['de'], ['wet'], ['van'], ['13'], ['april'], ['2019'], ['uitgezonderd'], ['voor'], ['de'], ['gevallen'], ['bedoeld'], ['in'], ['artikel'], ['138'], ['van'], ['die'], ['wet,'], ['93'], ['quater,'], ['§'], ['1,'], ['eerste'], ['lid,'], ['1°,'], ['ingevoegd'], ['bij'], ['de'], ['wet'], ['van'], ['8'], ['augustus'], ['1980,'], ['vervangen'], ['bij'], ['de'], ['wet'], ['van'], ['11'], ['februari'], ['2019,'], ['opgeheven'], ['bij'], ['de'], ['wet'], ['van'], ['13'], ['april'], ['2019'], ['uitgezonderd'], ['voor'], ['de'], ['gevallen'], ['bedoeld'], ['in'], ['artikel'], ['138'], ['van'], ['die'], ['wet,'], ['93'], ['quinquies,'], ['§'], ['4,'], ['ingevoegd'], ['bij'], ['de'], ['wet'], ['van'], ['8'], ['augustus'], ['1980,'], ['vervangen'], ['bij'], ['de'], ['wet'], ['van'], ['11'], ['februari'], ['2019'], ['en'], ['opgeheven'], ['bij'], ['de'], ['wet'], ['van'], ['13'], ['april'], ['2019'], ['uitgezonderd'], ['voor'], ['de'], ['gevallen'], ['bedoeld'], ['in'], ['artikel'], ['138'], ['van'], ['die'], ['wet,'], ['en'], ['93'], ['quinquies,'], ['opgeheven'], ['bij'], ['de'], ['wet'], ['van'], ['13'], ['april'], ['2019'], ['uitgezonderd'], ['voor'], ['de'], ['gevallen'], ['bedoeld'], ['in'], ['artikel'], ['138'], ['van'], ['die'], ['wet;'], ['gelet'], ['op'], ['het'], ['wetboek'], ['van'], ['de'], ['inkomstenbelastingen'], ['1992,'], ['artikelen'], ['300,'], ['§'], ['1,'], ['vervangen'], ['bij'], ['de'], ['wet'], ['van'], ['13'], ['april'], ['2019,'], ['412'], ['bis,'], ['§'], ['2,'], ['zesde'], ['lid,'], ['2°,'], ['vervangen'], ['bij'], ['de'], ['wet'], ['van'], ['23'], ['april'], ['2020,'], ['412'], ['bis,'], ['§'], ['6,'], ['vervangen'], ['bij'], ['de'], ['wet'], ['van'], ['23'], ['april'], ['2020,'], ['412'], ['bis,'], ['vervangen'], ['bij'], ['de'], ['wet'], ['van'], ['23'], ['april'], ['2020,'], ['433,'], ['§'], ['1,'], ['eerste'], ['lid,'], ['2°,'], ['vervangen'], ['bij'], ['de'], ['wet'], ['van'], ['11'], ['februari'], ['2019,'], ['opgeheven'], ['bij'], ['de'], ['wet'], ['van'], ['13'], ['april'], ['2019'], ['uitgezonderd'], ['voor'], ['de'], ['gevallen'], ['bedoeld'], ['in'], ['artikel'], ['138'], ['van'], ['die'], ['wet'], ['en'], ['gewijzigd'], ['bij'], ['de'], ['wet'], ['van'], ['23'], ['april'], ['2020,'], ['433,'], ['§'], ['4,'], ['vervangen'], ['bij'], ['de'], ['wet'], ['van'], ['11'], ['februari'], ['2019,'], ['opgeheven'], ['bij'], ['de'], ['wet'], ['van'], ['13'], ['april'], ['2019'], ['uitgezonderd'], ['voor'], ['de'], ['gevallen'], ['bedoeld'], ['in'], ['artikel'], ['138'], ['van'], ['die'], ['wet,'], ['433,'], ['opgeheven'], ['bij'], ['de'], ['wet'], ['van'], ['13'], ['april'], ['2019'], ['uitgezonderd'], ['voor'], ['de'], ['gevallen'], ['bedoeld'], ['in'], ['artikel'], ['138'], ['van'], ['die'], ['wet,'], ['434,'], ['§'], ['1,'], ['eerste'], ['lid,'], ['1°,'], [], ['vervangen'], ['bij'], ['de'], ['wet'], ['van'], ['11'], ['februari'], ['2019,'], ['opgeheven'], ['bij'], ['de'], ['wet'], ['van'], ['13'], ['april'], ['2019'], ['uitgezonderd'], ['voor'], ['de'], ['gevallen'], ['bedoeld'], ['in'], ['artikel'], ['138'], ['van'], ['die'], ['wet,'], ['435,'], ['§'], ['4,'], ['vervangen'], ['bij'], ['de'], ['wet'], ['van'], ['11'], ['februari'], ['2019'], ['en'], ['opgeheven'], ['bij'], ['de'], ['wet'], ['van'], ['13'], ['april'], ['2019'], ['uitgezonderd'], ['voor'], ['de'], ['gevallen'], ['bedoeld'], ['in'], ['artikel'], ['138'], ['van'], ['die'], ['wet,'], ['435,'], ['opgeheven'], ['bij'], ['de'], ['wet'], ['van'], ['13'], ['april'], ['2019'], ['uitgezonderd'], ['voor'], ['de'], ['gevallen'], ['bedoeld'], ['in'], ['artikel'], ['138'], ['van'], ['die'], ['wet'], ['en'], ['469,'], ['eerste'], ['lid,'], ['gewijzigd'], ['bij'], ['de'], ['wetten'], ['van'], ['19'], ['april'], ['2014'], ['en'], ['25'], ['april'], ['2014;'], ['gelet'], ['op'], ['het'], ['wetboek'], ['van'], ['de'], ['minnelijke'], ['en'], ['gedwongen'], ['invordering'], ['van'], ['fiscale'], ['en'], ['niet-fiscale'], ['schuldvorderingen,'], ['ingevoerd'], ['door'], ['de'], ['wet'], ['van'], ['13'], ['april'], ['2019,'], ['de'], ['artikelen'], ['35,'], ['§'], ['1,'], ['eerste'], ['lid,'], ['2°,'], ['35,'], ['§'], ['4,'], ['35,'], ['gewijzigd'], ['bij'], ['de'], ['wet'], ['van'], ['23'], ['april'], ['2020,'], ['36,'], ['eerste'], ['lid,'], ['1°,'], ['gewijzigd'], ['bij'], ['de'], ['wet'], ['van'], ['23'], ['april'], ['2020,'], ['37,'], ['§'], ['4,'], ['37,'], ['43,'], ['§'], ['1,'], ['eerste'], ['lid,'], ['2°,'], ['43,'], ['§'], ['6,'], ['43,'], ['gewijzigd'], ['bij'], ['de'], ['wet'], ['van'], ['23'], ['april'], ['2020,'], ['44,'], ['§'], ['1,'], ['1°,'], ['45,'], ['tweede'], ['lid,'], ['en'], ['47;'], ['gelet'], ['op'], ['het'], ['koninklijk'], ['besluit'], ['nr.'], ['11'], ['van'], ['29'], ['december'], ['1992'], ['met'], ['betrekking'], ['tot'], ['de'], ['toepassing'], ['van'], ['de'], ['belasting'], ['over'], ['de'], ['toegevoegde'], ['waarde;'], ['gelet'], ['op'], ['het'], ['koninklijk'], ['besluit'], ['van'], ['27'], ['augustus'], ['1993'], ['tot'], ['uitvoering'], ['van'], ['het'], ['wetboek'], ['van'], ['de'], ['inkomstenbelastingen'], ['1992;'], ['gelet'], ['op'], ['het'], ['koninklijk'], ['besluit'], ['van'], ['16'], ['juli'], ['2012'], ['houdende'], ['uitvoering'], ['van'], ['de'], ['artikelen'], ['157'], ['tot'], ['163'], ['van'], ['de'], ['programmawet'], ['(i)'], ['van'], ['29'], ['maart'], ['2012;'], ['gelet'], ['op'], ['het'], ['ministerieel'], ['besluit'], ['nr.'], ['13'], ['van'], ['4'], ['maart'], ['1993'], ['met'], ['betrekking'], ['tot'], ['de'], ['verplichtingen'], ['waartoe'], ['een'], ['belastingplichtige'], ['of'], ['een'], ['lid'], ['van'], ['een'], ['btw-eenheid'], ['in'], ['de'], ['zin'], ['van'], ['artikel'], ['4,'], ['§'], ['2,'], ['van'], ['het'], ['wetboek'], ['van'], ['de'], ['belasting'], ['over'], ['de'], ['toegevoegde'], ['waarde,'], ['eigenaar'], ['van'], ['een'], ['voor'], ['hypotheek'], ['vatbaar'], ['goed'], ['of'], ['van'], ['een'], ['gedeelte'], ['ervan'], ['of'], ['houder'], ['van'], ['een'], ['zakelijk'], ['recht'], ['op'], ['een'], ['dergelijk'], ['goed'], ['of'], ['op'], ['een'], ['gedeelte'], ['ervan,'], ['gehouden'], ['is;'], ['gelet'], ['op'], ['het'], ['ministerieel'], ['besluit'], ['van'], ['26'], ['februari'], ['2007'], ['met'], ['betrekking'], ['tot'], ['de'], ['aanduiding'], ['van'], ['de'], ['dienst'], ['bevoegd'], ['voor'], ['het'], ['ontvangen'], ['van'], ['de'], ['berichten'], ['en'], ['het'], ['afleveren'], ['van'], ['de'], ['ontvangstmeldingen'], ['in'], ['het'], ['kader'], ['van'], ['het'], ['systeem'], ['van'], ['elektronische'], ['notificaties'], ['tussen'], ['de'], ['federale'], ['overheidsdienst'], ['financiën'], ['en'], ['bepaalde'], ['ministeriële'], ['officiers,'], ['openbare'], ['ambtenaren'], ['en'], ['andere'], ['personen;'], ['gelet'], ['op'], ['het'], ['ministerieel'], ['besluit'], ['van'], ['28'], ['oktober'], ['2009'], ['tot'], ['bepaling'], ['van'], ['het'], ['model'], ['der'], ['berichten'], ['en'], ['kennisgevingen'], ['als'], ['bedoeld'], ['in'], ['de'], ['artikelen'], ['93'], ['ter'], ['en'], ['93'], ['quinquies'], ['van'], ['het'], ['wetboek'], ['van'], ['de'], ['belasting'], ['over'], ['de'], ['toegevoegde'], ['waarde'], ['en'], ['in'], ['de'], ['artikelen'], ['433'], ['en'], ['435'], ['van'], ['het'], ['wetboek'], ['van'], ['de'], ['inkomstenbelastingen'], ['1992;'], ['gelet'], ['op'], ['het'], ['ministerieel'], ['besluit'], ['van'], ['28'], ['oktober'], ['2009'], ['tot'], ['bepaling'], ['van'], ['het'], ['modelbericht'], ['bedoeld'], ['in'], ['artikel'], ['210'], ['bis'], ['van'], ['het'], ['koninklijk'], ['besluit'], ['tot'], ['uitvoering'], ['van'], ['het'], ['wetboek'], ['van'], ['de'], ['inkomstenbelastingen'], ['1992;'], ['gelet'], ['op'], ['de'], ['adviezen'], ['van'], ['de'], ['inspecteur'], ['van'], ['financiën,'], ['gegeven'], ['op'], ['5'], ['maart'], ['2019'], ['en'], ['6'], ['december'], ['2019;'], ['gelet'], ['op'], ['de'], ['akkoordbevinding'], ['van'], ['de'], ['vice-eerste'], ['minister'], ['en'], ['minister'], ['van'], ['begroting,'], ['gegeven'], ['op'], ['4'], ['februari'], ['2020;'], ['gelet'], ['op'], ['het'], ['advies'], ['nr.'], ['37/2020'], ['van'], ['de'], ['gegevensbeschermingsautoriteit,'], ['gegeven'], ['op'], ['15'], ['mei'], ['2020;'], ['gelet'], ['op'], ['het'], ['overleg'], ['met'], ['de'], ['gewesten,'], ['gehouden'], ['op'], ['21'], ['november'], ['2019;'], ['gelet'], ['op'], ['de'], ['adviezen'], ['nr.'], ['65.887/3'], ['en'], ['67.285/3'], ['van'], ['de'], ['raad'], ['van'], ['state,'], ['gegeven'], ['op'], ['5'], ['mei'], ['2019'], ['en'], ['25'], ['mei'], ['2020'], ['met'], ['toepassing'], ['van'], ['artikel'], ['84,'], ['§'], ['1,'], ['eerste'], ['lid,'], ['2°,'], [], ['van'], ['de'], ['wetten'], ['op'], ['de'], ['raad'], ['van'], ['state,'], ['gecoördineerd'], ['op'], ['12'], ['januari'], ['1973;'], ['overwegende'], ['artikel'], ['8,'], ['§§'], ['1'], ['en'], ['2'], ['van'], ['de'], ['wet'], ['van'], ['5'], ['mei'], ['2014'], ['houdende'], ['verankering'], ['van'], ['het'], ['principe'], ['van'], ['de'], ['unieke'], ['gegevensinzameling'], ['in'], ['de'], ['werking'], ['van'], ['de'], ['diensten'], ['en'], ['instanties'], ['die'], ['behoren'], ['tot'], ['of'], ['taken'], ['uitvoeren'], ['voor'], ['de'], ['overheid'], ['en'], ['tot'], ['vereenvoudiging'], ['en'], ['gelijkschakeling'], ['van'], ['elektronische'], ['en'], ['papieren'], ['formulieren'], ['werden'], ['het'], ['besluit'], ['en'], ['de'], ['bijlagen'], ['op'], ['3'], ['juni'], ['2020'], ['meegedeeld'], ['aan'], ['de'], ['dienst'], ['voor'], ['administratieve'], ['vereenvoudiging'], ['van'], ['de'], ['fod'], ['kanselarij'], ['van'], ['de'], ['eerste'], ['minister;'], ['overeenkomstig'], ['artikel'], ['6,'], ['§'], ['2'], ['van'], ['de'], ['wet'], ['van'], ['15'], ['december'], ['2013'], ['houdende'], ['diverse'], ['bepalingen'], ['inzake'], ['administratieve'], ['vereenvoudiging'], ['is'], ['geen'], ['impactanalyse'], ['vereist.'], ['op'], ['de'], ['voordracht'], ['van'], ['de'], ['vice-eerste'], ['minister'], ['en'], ['minister'], ['van'], ['financiën,'], ['hebben'], ['wij'], ['besloten'], ['en'], ['besluiten'], ['wij'], [':'], ['artikel'], ['1.'], ['voor'], ['de'], ['toepassing'], ['van'], ['dit'], ['besluit,'], ['wordt'], ['verstaan'], ['onder:'], ['1°'], ['\"invorderingswetboek\":'], ['wetboek'], ['van'], ['de'], ['minnelijke'], ['en'], ['gedwongen'], ['invordering'], ['van'], ['fiscale'], ['en'], ['niet-fiscale'], ['schuldvorderingen;'], ['2°'], ['\"programmawet\":'], ['programmawet'], ['(i)'], ['van'], ['29'], ['maart'], ['2012;'], ['3°'], [], ['\"wib'], ['92\":'], ['wetboek'], ['van'], ['de'], ['inkomstenbelastingen'], ['1992;'], ['4°'], ['\"wbtw\":'], ['wetboek'], ['van'], ['de'], ['belasting'], ['over'], ['de'], ['toegevoegde'], ['waarde;'], ['5°'], ['\"rechtverkrijgende\":'], ['elke'], ['erfgenaam,'], ['legataris'], ['of'], ['begunstigde'], ['van'], ['een'], ['contractuele'], ['erfstelling'], ['die'], ['moet'], ['worden'], ['vermeld'], ['in'], ['de'], ['akte'], ['of'], ['het'], ['attest'], ['van'], ['erfopvolging'], ['bedoeld'], ['in'], ['de'], ['artikelen'], ['43,'], ['§'], ['1,'], ['eerste'], ['lid'], ['van'], ['het'], ['invorderingswetboek'], ['en'], ['157,'], ['§'], ['1,'], ['eerste'], ['lid'], ['en'], ['157/1,'], ['§'], ['1,'], ['eerste'], ['lid,'], ['van'], ['de'], ['programmawet.'], ['art.'], ['2.'], ['de'], ['vermeldingen'], ['die'], ['moeten'], ['voorkomen'], ['in'], ['de'], ['berichten'], ['verzonden'], ['in'], ['uitvoering'], ['van'], ['de'], ['artikelen'], ['93'], ['ter'], ['van'], ['het'], ['wbtw,'], ['433'], ['van'], ['het'], ['wib'], ['92'], ['en'], ['35'], ['van'], ['het'], ['invorderingswetboek'], ['zijn'], ['opgenomen'], ['in'], ['bijlage'], ['1'], ['bij'], ['dit'], ['besluit.'], ['de'], ['vermeldingen'], ['die'], ['moeten'], ['voorkomen'], ['in'], ['de'], ['inlichtingen'], ['verzonden'], ['in'], ['uitvoering'], ['van'], ['de'], ['artikelen'], ['93'], ['quinquies,'], ['van'], ['het'], ['wbtw,'], ['435'], ['van'], ['het'], ['wib'], ['92'], ['en'], ['37'], ['van'], ['het'], ['invorderingswetboek'], ['zijn'], ['opgenomen'], ['in'], ['bijlage'], ['2'], ['bij'], ['dit'], ['besluit.'], ['de'], ['vermeldingen'], ['die'], ['moeten'], ['voorkomen'], ['in'], ['het'], ['bericht'], ['verzonden'], ['in'], ['uitvoering'], ['van'], ['de'], ['artikelen'], ['43'], ['van'], ['het'], ['invorderingswetboek'], ['en'], ['157'], ['en'], ['157/1'], ['van'], ['de'], ['programmawet'], ['zijn'], ['opgenomen'], ['in'], ['bijlage'], ['3'], ['bij'], ['dit'], ['besluit.'], ['de'], ['vermeldingen'], ['die'], ['moeten'], ['voorkomen'], ['in'], ['het'], ['bericht'], ['verzonden'], ['in'], ['uitvoering'], ['van'], ['de'], ['artikelen'], ['93'], ['ter,'], ['van'], ['het'], ['wbtw,'], ['412'], ['bis,'], ['433,'], ['van'], ['het'], ['wib'], ['92'], ['en'], ['35'], ['van'], ['het'], ['invorderingswetboek'], ['zijn'], ['opgenomen'], ['in'], ['bijlage'], ['4'], ['bij'], ['dit'], ['besluit.'], ['art.'], ['3.'], ['de'], ['vermeldingen'], ['vervat'], ['in'], ['de'], ['berichten'], ['bedoeld'], ['in'], ['de'], ['artikelen'], ['93'], ['ter,'], ['van'], ['het'], ['wbtw,'], ['433,'], ['van'], ['het'], ['wib'], ['92,'], ['35'], ['en'], ['43'], ['van'], ['het'], ['invorderingswetboek,'], ['157'], ['en'], ['157/1'], ['van'], ['de'], ['programmawet'], ['zijn'], ['identiek,'], ['ongeacht'], ['of'], ['ze'], ['op'], ['elektronische'], ['wijze'], ['of'], ['bij'], ['aangetekende'], ['zending'], ['worden'], ['meegedeeld.'], ['art.'], ['4.'], ['de'], ['vermeldingen'], ['vervat'], ['in'], ['de'], ['inlichtingen'], ['bedoeld'], ['in'], ['het'], ['artikel'], ['93'], ['quinquies,'], ['van'], ['het'], ['wbtw'], ['en'], ['435,'], ['van'], ['het'], ['wib'], ['92'], ['en'], ['37'], ['van'], ['het'], ['invorderingswetboek'], ['zijn'], ['identiek,'], ['ongeacht'], ['of'], ['ze'], ['op'], ['elektronische'], ['wijze'], ['of'], ['bij'], ['aangetekende'], ['zending'], ['worden'], ['meegedeeld.'], ['art.'], ['5.'], ['§'], ['1.'], ['wanneer'], ['het'], ['bericht'], ['omwille'], ['van'], ['overmacht'], ['of'], ['een'], ['technische'], ['storing'], ['niet'], ['op'], ['elektronische'], ['wijze'], ['kan'], ['worden'], ['meegedeeld'], ['overeenkomstig'], ['de'], ['artikelen'], ['93'], ['ter,'], ['§'], ['1,'], ['eerste'], ['lid,'], ['1°'], ['van'], ['het'], ['wbtw,'], ['433,'], ['§'], ['1,'], ['eerste'], ['lid,'], ['1°,'], ['van'], ['het'], ['wib'], ['92,'], ['en'], ['35,'], ['§'], ['1,'], ['eerste'], ['lid,'], ['1°,'], ['van'], ['het'], ['invorderingswetboek'], ['en'], ['wanneer'], ['de'], ['eigenaar'], ['of'], ['de'], ['houder'], ['van'], ['een'], ['zakelijk'], ['recht'], ['op'], ['het'], ['goed'], ['in'], ['het'], ['buitenland'], ['verblijft,'], ['is'], ['de'], ['ontvanger'], ['aan'], ['wie'], ['het'], ['bericht'], ['bij'], ['aangetekende'], ['zending'], ['wordt'], ['meegedeeld,'], ['de'], ['ontvanger'], ['van'], ['het'], ['team'], ['bijzondere'], ['invordering'], ['brussel.'], ['§'], ['2.'], ['wanneer'], ['het'], ['bericht'], ['omwille'], ['van'], ['overmacht'], ['of'], ['een'], ['technische'], ['storing'], ['niet'], ['op'], ['elektronische'], ['wijze'], ['kan'], ['worden'], ['meegedeeld'], ['overeenkomstig'], ['de'], ['artikelen'], ['157/1,'], ['§'], ['1,'], ['eerste'], ['lid,'], ['1°'], ['van'], ['de'], ['programmawet'], ['en'], ['43,'], ['§'], ['1,'], ['eerste'], ['lid,'], ['1°,'], ['van'], ['het'], ['invorderingswetboek'], ['en'], ['wanneer'], ['de'], ['erflater'], ['en/of'], ['een'], ['van'], ['zijn'], ['rechtverkrijgenden'], ['in'], ['het'], ['buitenland'], ['verblijven,'], ['is'], ['de'], ['ontvanger'], ['aan'], ['wie'], ['het'], ['bericht'], ['bij'], ['aangetekende'], ['zending'], ['wordt'], ['meegedeeld,'], ['de'], ['ontvanger'], ['van'], ['het'], ['team'], ['bijzondere'], ['invordering'], ['brussel.'], ['§'], ['3.'], ['wanneer'], ['het'], ['bericht'], ['omwille'], ['van'], ['overmacht'], ['of'], ['een'], ['technische'], ['storing'], ['niet'], ['op'], ['elektronische'], ['wijze'], ['kan'], ['worden'], ['meegedeeld'], ['overeenkomstig'], ['de'], ['artikelen'], ['157,'], ['§'], ['1,'], ['eerste'], ['lid,'], ['1°,'], ['en'], ['157/1,'], ['§'], ['1,'], ['eerste'], ['lid,'], ['1°'], ['van'], ['de'], ['programmawet,'], ['is'], ['de'], ['ambtenaar'], ['van'], ['de'], ['algemene'], ['administratie'], ['van'], ['de'], ['patrimoniumdocumentatie'], ['bedoeld'], ['in'], ['de'], ['artikelen'], ['157,'], ['§'], ['1,'], ['eerste'], ['lid,'], ['2°'], ['en'], ['157/1,'], ['§'], ['1,'], ['eerste'], ['lid,'], ['2°,'], ['tweede'], ['streepje,'], ['van'], ['de'], ['programmawet'], ['de'], ['administrateur'], ['rechtszekerheid.'], ['§'], ['4.'], ['wanneer'], ['het'], ['bericht'], ['omwille'], ['van'], ['overmacht'], ['of'], ['een'], ['technische'], ['storing'], ['niet'], ['op'], ['elektronische'], ['wijze'], ['kan'], ['worden'], ['meegedeeld'], ['overeenkomstig'], ['artikel'], ['412'], ['bis,'], ['§'], ['2,'], ['zesde'], ['lid,'], ['1°'], ['van'], ['het'], ['wib'], ['92,'], ['is'], ['de'], ['ontvanger'], ['aan'], ['wie'], ['het'], ['bericht'], ['bij'], ['aangetekende'], ['zending'], ['wordt'], ['meegedeeld,'], ['de'], ['ontvanger'], ['van'], ['het'], ['team'], ['bijzondere'], ['invordering'], ['brussel.'], ['art.'], ['6.'], ['wanneer'], ['de'], ['kennisgeving'], ['overeenkomstig'], ['de'], ['artikelen'], ['93'], ['quater,'], ['§'], ['1,'], ['eerste'], ['lid,'], ['1°,'], ['van'], ['het'], ['wbtw,'], ['434,'], ['§'], ['1,'], ['eerste'], ['lid,'], ['1°,'], ['van'], ['het'], ['wib'], ['92,'], ['158,'], ['eerste'], ['lid,'], ['1°'], ['en'], ['158/1,'], ['eerste'], ['lid,'], ['1°'], ['van'], ['de'], ['programmawet,'], ['36,'], ['eerste'], ['lid,'], ['1°'], ['en'], ['44,'], ['§'], ['1,'], ['1°,'], ['van'], ['het'], ['invorderingswetboek'], ['op'], ['elektronische'], ['wijze'], ['wordt'], ['verstuurd,'], ['wordt'], ['zij'], ['bekleed'], ['met'], ['een'], ['elektronische'], ['handtekening,'], ['die'], ['overeenstemt'], ['met'], ['de'], ['digitale'], ['handtekening'], ['van'], ['de'], ['federale'], ['overheidsdienst'], ['financiën,'], ['vertegenwoordigd'], ['door'], ['een'], ['certificaat'], ['afgeleverd'], ['door'], ['een'], ['gekwalificeerde'], ['vertrouwensdienst,'], ['in'], ['de'], ['zin'], ['van'], ['artikel'], ['3'], ['van'], ['verordening'], ['(eu)'], ['nr.'], ['910/2014'], ['van'], ['23'], ['juli'], ['2014'], ['van'], ['het'], ['europees'], ['parlement'], ['en'], ['de'], ['raad'], ['betreffende'], ['elektronische'], ['identificatie'], ['en'], ['vertrouwensdiensten'], ['voor'], ['elektronische'], ['transacties'], ['in'], ['de'], ['interne'], ['markt'], ['en'], ['tot'], ['intrekking'], ['van'], ['richtlijn'], ['1999/93/eg.het'], ['beheerssysteem'], ['van'], ['de'], ['identiteiten'], ['en'], ['toegangen'], ['van'], ['de'], ['federale'], ['overheidsdienst'], ['financiën'], ['van'], ['de'], ['toepassing'], ['tot'], ['het'], ['opmaken'], ['van'], ['de'], ['kennisgevingen,'], ['garandeert'], ['dat'], ['enkel'], ['de'], ['wettelijk'], ['gemachtigde'], ['ambtenaar,'], ['geldig'], ['de'], ['kennisgeving'], ['bedoeld'], ['in'], ['de'], ['artikelen'], ['93'], ['quater,'], ['§'], ['1,'], ['eerste'], ['lid,'], ['1°,'], ['van'], ['het'], ['wbtw,'], ['434,'], ['§'], ['1,'], ['eerste'], ['lid,'], ['1°,'], ['van'], ['het'], ['wib'], ['92,'], ['158,'], ['eerste'], ['lid,'], ['1°'], ['en'], ['158/1,'], ['eerste'], ['lid,'], ['1°'], ['van'], ['de'], ['programmawet,'], ['36,'], ['eerste'], ['lid,'], ['1°'], ['en'], ['44,'], ['§'], ['1,'], ['1°'], ['van'], ['het'], ['invorderingswetboek'], ['kan'], ['versturen.'], ['de'], ['verzamelde'], ['persoonsgegevens'], ['worden'], ['beschermd'], ['door'], ['passende'], ['technische'], ['en'], ['organisatorische'], ['maatregelen.'], ['art.'], ['7.'], ['de'], ['ambtenaar'], ['bedoeld'], ['in'], ['de'], ['artikelen'], ['45,'], ['tweede'], ['lid'], ['van'], ['het'], ['invorderingswetboek'], ['en'], ['159,'], ['tweede'], ['lid,'], ['van'], ['de'], ['programmawet'], ['is:'], ['1°'], ['indien'], ['het'], ['attest'], ['van'], ['erfopvolging'], ['werd'], ['opgesteld'], ['door'], ['het'], ['kantoor'], ['bedoeld'], ['in'], ['artikel'], ['1240'], ['bis'], ['van'], ['het'], ['burgerlijk'], ['wetboek,'], ['de'], ['ambtenaar'], ['belast'], ['met'], ['de'], ['opmaak'], ['van'], ['dit'], ['attest;'], ['2°'], ['indien'], ['het'], ['attest'], ['of'], ['de'], ['akte'], ['van'], ['erfopvolging'], ['werd'], ['opgesteld'], ['door'], ['een'], ['notaris,'], ['deze'], ['notaris'], ['of'], ['een'], ['met'], ['hem'], ['geassocieerde'], ['notaris.'], ['art.'], ['8.'], ['artikel'], ['210'], ['ter'], ['van'], ['het'], ['koninklijk'], ['besluit'], ['tot'], ['uitvoering'], ['van'], ['het'], ['wetboek'], ['van'], ['de'], ['inkomstenbelastingen'], ['1992,'], ['ingevoegd'], ['bij'], ['het'], ['koninklijk'], ['besluit'], ['van'], ['10'], ['januari'], ['1997'], ['en'], ['gewijzigd'], ['bij'], ['het'], ['koninklijk'], ['besluit'], ['van'], ['25'], ['februari'], ['2007,'], ['wordt'], ['vervangen'], ['als'], ['volgt:'], ['\"art.'], ['210'], ['ter.'], ['de'], ['vermeldingen'], ['die'], ['moeten'], ['voorkomen'], ['in'], ['het'], ['bericht'], ['bedoeld'], ['in'], ['artikel'], ['412'], ['bis'], ['van'], ['het'], ['wetboek'], ['van'], ['de'], ['inkomstenbelastingen'], ['1992'], ['zijn'], ['opgenomen'], ['in'], ['bijlage'], ['4'], ['van'], ['het'], ['koninklijk'], ['besluit'], ['van'], ['22'], ['juni'], ['2020'], ['tot'], ['uitvoering'], ['van'], ['de'], ['artikelen'], ['93'], ['ter'], ['tot'], ['93'], ['quinquies'], ['van'], ['het'], ['wetboek'], ['van'], ['de'], ['belasting'], ['over'], ['de'], ['toegevoegde'], ['waarde,'], ['de'], ['artikelen'], ['412'], ['bis,'], ['433'], ['tot'], ['435'], ['van'], ['het'], ['wetboek'], ['van'], ['de'], ['inkomstenbelastingen'], ['1992,'], ['de'], ['artikelen'], ['35'], ['tot'], ['37,'], ['43'], ['tot'], ['45'], ['en'], ['47'], ['van'], ['het'], ['wetboek'], ['van'], ['de'], ['minnelijke'], ['en'], ['gedwongen'], ['invordering'], ['van'], ['fiscale'], ['en'], ['niet-fiscale'], ['schuldvorderingen'], ['en'], ['de'], ['artikelen'], ['157'], ['tot'], ['159'], ['en'], ['161'], ['van'], ['de'], ['programmawet'], ['(i)'], ['van'], ['29'], ['maart'], ['2012,'], ['inzake'], ['het'], ['e-notariaat\".'], ['art.'], ['9.'], ['in'], ['artikel'], ['233'], ['van'], ['hetzelfde'], ['besluit,'], ['gewijzigd'], ['bij'], ['het'], ['koninklijk'], ['besluit'], ['van'], ['9'], ['december'], ['2019,'], ['worden'], ['de'], ['woorden'], ['\"210'], ['bis\"'], ['opgeheven.'], ['art.'], ['10.'], ['worden'], ['opgeheven:'], ['1°'], ['artikel'], ['210'], ['bis,'], ['van'], ['het'], ['koninklijk'], ['besluit'], ['tot'], ['uitvoering'], ['van'], ['het'], ['wetboek'], ['van'], ['de'], ['inkomstenbelastingen'], ['1992,'], ['ingevoegd'], ['bij'], ['het'], ['koninklijk'], ['besluit'], ['van'], ['10'], ['januari'], ['1997'], ['en'], ['gewijzigd'], ['bij'], ['de'], ['koninklijke'], ['besluiten'], ['van'], ['31'], ['maart'], ['2003'], ['en'], ['25'], ['februari'], ['2007;'], ['2°'], ['artikel'], ['2'], ['van'], ['het'], ['koninklijk'], ['besluit'], ['nr.'], ['11'], ['van'], ['29'], ['december'], ['1992'], ['met'], ['betrekking'], ['tot'], ['de'], ['toepassing'], ['van'], ['de'], ['belasting'], ['over'], ['de'], ['toegevoegde'], ['waarde,'], ['gewijzigd'], ['bij'], ['de'], ['koninklijke'], ['besluiten'], ['van'], ['20'], ['november'], ['2000'], ['en'], ['17'], ['mei'], ['2007;'], ['3°'], [], ['het'], ['koninklijk'], ['besluit'], ['van'], ['16'], ['juli'], ['2012'], ['houdende'], ['uitvoering'], ['van'], ['de'], ['artikelen'], ['157'], ['tot'], ['163'], ['van'], ['de'], ['programmawet'], ['(i)'], ['van'], ['29'], ['maart'], ['2012,'], ['gewijzigd'], ['bij'], ['koninklijk'], ['besluit'], ['van'], ['4'], ['maart'], ['2013;'], ['4°'], ['het'], ['ministerieel'], ['besluit'], ['nr.'], ['13'], ['van'], ['4'], ['maart'], ['1993'], ['met'], ['betrekking'], ['tot'], ['de'], ['verplichtingen'], ['waartoe'], ['een'], ['belastingplichtige'], ['of'], ['een'], ['lid'], ['van'], ['een'], ['btw-eenheid'], ['in'], ['de'], ['zin'], ['van'], ['artikel'], ['4,'], ['§'], ['2,'], ['van'], ['het'], ['wetboek'], ['van'], ['de'], ['belasting'], ['over'], ['de'], ['toegevoegde'], ['waarde,'], ['eigenaar'], ['van'], ['een'], ['voor'], ['hypotheek'], ['vatbaar'], ['goed'], ['of'], ['van'], ['een'], ['gedeelte'], ['ervan'], ['of'], ['houder'], ['van'], ['een'], ['zakelijk'], ['recht'], ['op'], ['een'], ['dergelijk'], ['goed'], ['of'], ['op'], ['een'], ['gedeelte'], ['ervan,'], ['gehouden'], ['is,'], ['gewijzigd'], ['bij'], ['het'], ['ministerieel'], ['besluit'], ['van'], ['29'], ['mei'], ['2007;'], ['5°'], ['het'], ['ministerieel'], ['besluit'], ['van'], ['26'], ['februari'], ['2007'], ['met'], ['betrekking'], ['tot'], ['de'], ['aanduiding'], ['van'], ['de'], ['dienst'], ['bevoegd'], ['voor'], ['het'], ['ontvangen'], ['van'], ['de'], ['berichten'], ['en'], ['het'], ['afleveren'], ['van'], ['de'], ['ontvangstmeldingen'], ['in'], ['het'], ['kader'], ['van'], ['het'], ['systeem'], ['van'], ['elektronische'], ['notificaties'], ['tussen'], ['de'], ['federale'], ['overheidsdienst'], ['financiën'], ['en'], ['bepaalde'], ['ministeriële'], ['officiers,'], ['openbare'], ['ambtenaren'], ['en'], ['andere'], ['personen;'], ['6°'], [], ['het'], ['ministerieel'], ['besluit'], ['van'], ['28'], ['oktober'], ['2009'], ['tot'], ['bepaling'], ['van'], ['het'], ['model'], ['der'], ['berichten'], ['en'], ['kennisgevingen'], ['als'], ['bedoeld'], ['in'], ['de'], ['artikelen'], ['93'], ['ter'], ['en'], ['93'], ['quinquies'], ['van'], ['het'], ['wetboek'], ['van'], ['de'], ['belasting'], ['over'], ['de'], ['toegevoegde'], ['waarde'], ['en'], ['in'], ['de'], ['artikelen'], ['433'], ['en'], ['435'], ['van'], ['het'], ['wetboek'], ['van'], ['de'], ['inkomstenbelastingen'], ['1992;'], ['7°'], ['het'], ['ministerieel'], ['besluit'], ['van'], ['28'], ['oktober'], ['2009'], ['tot'], ['bepaling'], ['van'], ['het'], ['modelbericht'], ['bedoeld'], ['in'], ['artikel'], ['210'], ['bis'], ['van'], ['het'], ['koninklijk'], ['besluit'], ['tot'], ['uitvoering'], ['van'], ['het'], ['wetboek'], ['van'], ['de'], ['inkomstenbelastingen'], ['1992.'], ['art.'], ['11.'], ['de'], ['minister'], ['bevoegd'], ['voor'], ['financiën'], ['is'], ['belast'], ['met'], ['de'], ['uitvoering'], ['van'], ['dit'], ['besluit.'], ['gegeven'], ['te'], ['brussel,'], ['22'], ['juni'], ['2020.'], ['filip'], ['van'], ['koningswege'], [':'], ['de'], ['vice-eerste'], ['minister'], ['en'], ['minister'], ['van'], ['financiën,'], ['a.'], ['de'], ['croo'], ['bijlage'], ['1'], ['bij'], ['het'], ['koninklijk'], ['besluit'], ['van'], ['22'], ['juni'], ['2020'], ['voor'], ['de'], ['raadpleging'], ['van'], ['de'], ['tabel,'], ['zie'], ['beeldgezien'], ['om'], ['gevoegd'], ['te'], ['worden'], ['bij'], ['ons'], ['besluit'], ['van'], ['22'], ['juni'], ['2020.'], ['filip'], ['van'], ['koningswege'], [':'], ['de'], ['vice-eerste'], ['minister'], ['en'], ['minister'], ['van'], ['financiën,'], ['a.'], ['de'], ['croo'], ['bijlage'], ['2'], ['bij'], ['het'], ['koninklijk'], ['besluit'], ['van'], ['22'], ['juni'], ['2020'], ['voor'], ['de'], ['raadpleging'], ['van'], ['de'], ['tabel,'], ['zie'], ['beeld'], ['gezien'], ['om'], ['gevoegd'], ['te'], ['worden'], ['bij'], ['ons'], ['besluit'], ['van'], ['22'], ['juni'], ['2020.'], ['filip'], ['van'], ['koningswege'], [':'], ['de'], ['vice-eerste'], ['minister'], ['en'], ['minister'], ['van'], ['financiën,'], ['a.'], ['de'], ['croo'], ['bijlage'], ['3'], ['bij'], ['het'], ['koninklijk'], ['besluit'], ['van'], ['22'], ['juni'], ['2020'], ['voor'], ['de'], ['raadpleging'], ['van'], ['de'], ['tabel,'], ['zie'], ['beeld'], ['gezien'], ['om'], ['gevoegd'], ['te'], ['worden'], ['bij'], ['ons'], ['besluit'], ['van'], ['22'], ['juni'], ['2020.'], ['filip'], ['van'], ['koningswege'], [':'], ['de'], ['vice-eerste'], ['minister'], ['en'], ['minister'], ['van'], ['financiën,'], ['a.'], ['de'], ['croo'], ['bijlage'], ['4'], ['bij'], ['het'], ['koninklijk'], ['besluit'], ['van'], ['22'], ['juni'], ['2020'], ['voor'], ['de'], ['raadpleging'], ['van'], ['de'], ['tabel,'], ['zie'], ['beeld'], ['gezien'], ['om'], ['gevoegd'], ['te'], ['worden'], ['bij'], ['ons'], ['besluit'], ['van'], ['22'], ['juni'], ['2020.'], ['filip'], ['van'], ['koningswege'], [':'], ['de'], ['vice-eerste'], ['minister'], ['en'], ['minister'], ['van'], ['financiën,'], ['a.'], ['de'], ['croo'], []]\n"
          ]
        }
      ]
    },
    {
      "cell_type": "markdown",
      "source": [
        "### Creating bigrams and trigrams"
      ],
      "metadata": {
        "id": "iLpiDNyRTGc7"
      }
    },
    {
      "cell_type": "code",
      "source": [
        "# Building the bigram and trigram models\n",
        "bigram = gensim.models.Phrases(data_words, min_count=5, threshold=100) # higher threshold fewer phrases.\n",
        "trigram = gensim.models.Phrases(bigram[data_words], threshold=100)  \n",
        "\n",
        "# Faster way to get a sentence clubbed as a trigram/bigram\n",
        "bigram_mod = gensim.models.phrases.Phraser(bigram)\n",
        "trigram_mod = gensim.models.phrases.Phraser(trigram)\n",
        "\n",
        "# See trigram example\n",
        "###print(trigram_mod[bigram_mod[data_words]])"
      ],
      "metadata": {
        "id": "oTf8PZhLOIwG",
        "colab": {
          "base_uri": "https://localhost:8080/"
        },
        "outputId": "408d62eb-4459-4d55-ec7a-5aa437629547"
      },
      "execution_count": 15,
      "outputs": [
        {
          "output_type": "stream",
          "name": "stderr",
          "text": [
            "/usr/local/lib/python3.7/dist-packages/gensim/models/phrases.py:598: UserWarning: For a faster implementation, use the gensim.models.phrases.Phraser class\n",
            "  warnings.warn(\"For a faster implementation, use the gensim.models.phrases.Phraser class\")\n"
          ]
        }
      ]
    },
    {
      "cell_type": "markdown",
      "source": [
        "###  Removing stopwords, making bigrams & trigtrams, and lemmatizing"
      ],
      "metadata": {
        "id": "4b9GkSVFZIUC"
      }
    },
    {
      "cell_type": "code",
      "source": [
        "# Define functions for stopwords, bigrams, trigrams and lemmatization\n",
        "def remove_stopwords(texts):\n",
        "    return [[word for word in simple_preprocess(str(doc)) if word not in stop_words] for doc in texts]\n",
        "\n",
        "def make_bigrams(texts):\n",
        "    return [bigram_mod[doc] for doc in texts]\n",
        "\n",
        "def make_trigrams(texts):\n",
        "    return [trigram_mod[bigram_mod[doc]] for doc in texts]\n",
        "\n",
        "def lemmatization(texts, allowed_postags=['NOUN', 'ADJ', 'VERB', 'ADV']):\n",
        "    \"\"\"https://spacy.io/api/annotation\"\"\"\n",
        "    texts_out = []\n",
        "    for sent in texts:\n",
        "        doc = nlp(\" \".join(sent)) \n",
        "        texts_out.append([token.lemma_ for token in doc if token.pos_ in allowed_postags])\n",
        "    return texts_out"
      ],
      "metadata": {
        "id": "1cuUNtqNT9kb"
      },
      "execution_count": 16,
      "outputs": []
    },
    {
      "cell_type": "markdown",
      "source": [
        "### Initializing SpaCy's Dutch NLP model (large size)"
      ],
      "metadata": {
        "id": "uanPqGrdGyiE"
      }
    },
    {
      "cell_type": "code",
      "source": [
        " !pip install -U spacy\n",
        " !python -m spacy download nl_core_news_lg"
      ],
      "metadata": {
        "colab": {
          "base_uri": "https://localhost:8080/"
        },
        "id": "EwTE8mGpbFf6",
        "outputId": "4fa6d116-6031-44e5-84fd-3c758d83ca69"
      },
      "execution_count": 1,
      "outputs": [
        {
          "output_type": "stream",
          "name": "stdout",
          "text": [
            "Looking in indexes: https://pypi.org/simple, https://us-python.pkg.dev/colab-wheels/public/simple/\n",
            "Requirement already satisfied: spacy in /usr/local/lib/python3.7/dist-packages (2.2.4)\n",
            "Collecting spacy\n",
            "  Downloading spacy-3.3.1-cp37-cp37m-manylinux_2_17_x86_64.manylinux2014_x86_64.whl (6.2 MB)\n",
            "\u001b[K     |████████████████████████████████| 6.2 MB 4.2 MB/s \n",
            "\u001b[?25hRequirement already satisfied: preshed<3.1.0,>=3.0.2 in /usr/local/lib/python3.7/dist-packages (from spacy) (3.0.6)\n",
            "Requirement already satisfied: numpy>=1.15.0 in /usr/local/lib/python3.7/dist-packages (from spacy) (1.21.6)\n",
            "Requirement already satisfied: tqdm<5.0.0,>=4.38.0 in /usr/local/lib/python3.7/dist-packages (from spacy) (4.64.0)\n",
            "Requirement already satisfied: blis<0.8.0,>=0.4.0 in /usr/local/lib/python3.7/dist-packages (from spacy) (0.4.1)\n",
            "Collecting pydantic!=1.8,!=1.8.1,<1.9.0,>=1.7.4\n",
            "  Downloading pydantic-1.8.2-cp37-cp37m-manylinux2014_x86_64.whl (10.1 MB)\n",
            "\u001b[K     |████████████████████████████████| 10.1 MB 35.2 MB/s \n",
            "\u001b[?25hRequirement already satisfied: wasabi<1.1.0,>=0.9.1 in /usr/local/lib/python3.7/dist-packages (from spacy) (0.9.1)\n",
            "Collecting langcodes<4.0.0,>=3.2.0\n",
            "  Downloading langcodes-3.3.0-py3-none-any.whl (181 kB)\n",
            "\u001b[K     |████████████████████████████████| 181 kB 52.4 MB/s \n",
            "\u001b[?25hRequirement already satisfied: setuptools in /usr/local/lib/python3.7/dist-packages (from spacy) (57.4.0)\n",
            "Requirement already satisfied: jinja2 in /usr/local/lib/python3.7/dist-packages (from spacy) (2.11.3)\n",
            "Collecting typer<0.5.0,>=0.3.0\n",
            "  Downloading typer-0.4.1-py3-none-any.whl (27 kB)\n",
            "Collecting thinc<8.1.0,>=8.0.14\n",
            "  Downloading thinc-8.0.17-cp37-cp37m-manylinux_2_17_x86_64.manylinux2014_x86_64.whl (660 kB)\n",
            "\u001b[K     |████████████████████████████████| 660 kB 49.1 MB/s \n",
            "\u001b[?25hCollecting spacy-legacy<3.1.0,>=3.0.9\n",
            "  Downloading spacy_legacy-3.0.9-py2.py3-none-any.whl (20 kB)\n",
            "Collecting srsly<3.0.0,>=2.4.3\n",
            "  Downloading srsly-2.4.3-cp37-cp37m-manylinux_2_17_x86_64.manylinux2014_x86_64.whl (457 kB)\n",
            "\u001b[K     |████████████████████████████████| 457 kB 50.5 MB/s \n",
            "\u001b[?25hCollecting typing-extensions<4.2.0,>=3.7.4\n",
            "  Downloading typing_extensions-4.1.1-py3-none-any.whl (26 kB)\n",
            "Requirement already satisfied: cymem<2.1.0,>=2.0.2 in /usr/local/lib/python3.7/dist-packages (from spacy) (2.0.6)\n",
            "Requirement already satisfied: murmurhash<1.1.0,>=0.28.0 in /usr/local/lib/python3.7/dist-packages (from spacy) (1.0.7)\n",
            "Requirement already satisfied: requests<3.0.0,>=2.13.0 in /usr/local/lib/python3.7/dist-packages (from spacy) (2.23.0)\n",
            "Collecting catalogue<2.1.0,>=2.0.6\n",
            "  Downloading catalogue-2.0.7-py3-none-any.whl (17 kB)\n",
            "Requirement already satisfied: packaging>=20.0 in /usr/local/lib/python3.7/dist-packages (from spacy) (21.3)\n",
            "Collecting spacy-loggers<2.0.0,>=1.0.0\n",
            "  Downloading spacy_loggers-1.0.2-py3-none-any.whl (7.2 kB)\n",
            "Collecting pathy>=0.3.5\n",
            "  Downloading pathy-0.6.1-py3-none-any.whl (42 kB)\n",
            "\u001b[K     |████████████████████████████████| 42 kB 1.2 MB/s \n",
            "\u001b[?25hRequirement already satisfied: zipp>=0.5 in /usr/local/lib/python3.7/dist-packages (from catalogue<2.1.0,>=2.0.6->spacy) (3.8.0)\n",
            "Requirement already satisfied: pyparsing!=3.0.5,>=2.0.2 in /usr/local/lib/python3.7/dist-packages (from packaging>=20.0->spacy) (3.0.9)\n",
            "Collecting smart-open<6.0.0,>=5.0.0\n",
            "  Downloading smart_open-5.2.1-py3-none-any.whl (58 kB)\n",
            "\u001b[K     |████████████████████████████████| 58 kB 6.0 MB/s \n",
            "\u001b[?25hRequirement already satisfied: urllib3!=1.25.0,!=1.25.1,<1.26,>=1.21.1 in /usr/local/lib/python3.7/dist-packages (from requests<3.0.0,>=2.13.0->spacy) (1.24.3)\n",
            "Requirement already satisfied: certifi>=2017.4.17 in /usr/local/lib/python3.7/dist-packages (from requests<3.0.0,>=2.13.0->spacy) (2022.5.18.1)\n",
            "Requirement already satisfied: chardet<4,>=3.0.2 in /usr/local/lib/python3.7/dist-packages (from requests<3.0.0,>=2.13.0->spacy) (3.0.4)\n",
            "Requirement already satisfied: idna<3,>=2.5 in /usr/local/lib/python3.7/dist-packages (from requests<3.0.0,>=2.13.0->spacy) (2.10)\n",
            "Requirement already satisfied: click<9.0.0,>=7.1.1 in /usr/local/lib/python3.7/dist-packages (from typer<0.5.0,>=0.3.0->spacy) (7.1.2)\n",
            "Requirement already satisfied: MarkupSafe>=0.23 in /usr/local/lib/python3.7/dist-packages (from jinja2->spacy) (2.0.1)\n",
            "Installing collected packages: typing-extensions, catalogue, typer, srsly, smart-open, pydantic, thinc, spacy-loggers, spacy-legacy, pathy, langcodes, spacy\n",
            "  Attempting uninstall: typing-extensions\n",
            "    Found existing installation: typing-extensions 4.2.0\n",
            "    Uninstalling typing-extensions-4.2.0:\n",
            "      Successfully uninstalled typing-extensions-4.2.0\n",
            "  Attempting uninstall: catalogue\n",
            "    Found existing installation: catalogue 1.0.0\n",
            "    Uninstalling catalogue-1.0.0:\n",
            "      Successfully uninstalled catalogue-1.0.0\n",
            "  Attempting uninstall: srsly\n",
            "    Found existing installation: srsly 1.0.5\n",
            "    Uninstalling srsly-1.0.5:\n",
            "      Successfully uninstalled srsly-1.0.5\n",
            "  Attempting uninstall: smart-open\n",
            "    Found existing installation: smart-open 6.0.0\n",
            "    Uninstalling smart-open-6.0.0:\n",
            "      Successfully uninstalled smart-open-6.0.0\n",
            "  Attempting uninstall: thinc\n",
            "    Found existing installation: thinc 7.4.0\n",
            "    Uninstalling thinc-7.4.0:\n",
            "      Successfully uninstalled thinc-7.4.0\n",
            "  Attempting uninstall: spacy\n",
            "    Found existing installation: spacy 2.2.4\n",
            "    Uninstalling spacy-2.2.4:\n",
            "      Successfully uninstalled spacy-2.2.4\n",
            "Successfully installed catalogue-2.0.7 langcodes-3.3.0 pathy-0.6.1 pydantic-1.8.2 smart-open-5.2.1 spacy-3.3.1 spacy-legacy-3.0.9 spacy-loggers-1.0.2 srsly-2.4.3 thinc-8.0.17 typer-0.4.1 typing-extensions-4.1.1\n",
            "Looking in indexes: https://pypi.org/simple, https://us-python.pkg.dev/colab-wheels/public/simple/\n",
            "Collecting nl-core-news-lg==3.3.0\n",
            "  Downloading https://github.com/explosion/spacy-models/releases/download/nl_core_news_lg-3.3.0/nl_core_news_lg-3.3.0-py3-none-any.whl (568.1 MB)\n",
            "\u001b[K     |████████████████████████████████| 568.1 MB 9.5 kB/s \n",
            "\u001b[?25hRequirement already satisfied: spacy<3.4.0,>=3.3.0.dev0 in /usr/local/lib/python3.7/dist-packages (from nl-core-news-lg==3.3.0) (3.3.1)\n",
            "Requirement already satisfied: wasabi<1.1.0,>=0.9.1 in /usr/local/lib/python3.7/dist-packages (from spacy<3.4.0,>=3.3.0.dev0->nl-core-news-lg==3.3.0) (0.9.1)\n",
            "Requirement already satisfied: setuptools in /usr/local/lib/python3.7/dist-packages (from spacy<3.4.0,>=3.3.0.dev0->nl-core-news-lg==3.3.0) (57.4.0)\n",
            "Requirement already satisfied: catalogue<2.1.0,>=2.0.6 in /usr/local/lib/python3.7/dist-packages (from spacy<3.4.0,>=3.3.0.dev0->nl-core-news-lg==3.3.0) (2.0.7)\n",
            "Requirement already satisfied: pydantic!=1.8,!=1.8.1,<1.9.0,>=1.7.4 in /usr/local/lib/python3.7/dist-packages (from spacy<3.4.0,>=3.3.0.dev0->nl-core-news-lg==3.3.0) (1.8.2)\n",
            "Requirement already satisfied: requests<3.0.0,>=2.13.0 in /usr/local/lib/python3.7/dist-packages (from spacy<3.4.0,>=3.3.0.dev0->nl-core-news-lg==3.3.0) (2.23.0)\n",
            "Requirement already satisfied: jinja2 in /usr/local/lib/python3.7/dist-packages (from spacy<3.4.0,>=3.3.0.dev0->nl-core-news-lg==3.3.0) (2.11.3)\n",
            "Requirement already satisfied: thinc<8.1.0,>=8.0.14 in /usr/local/lib/python3.7/dist-packages (from spacy<3.4.0,>=3.3.0.dev0->nl-core-news-lg==3.3.0) (8.0.17)\n",
            "Requirement already satisfied: spacy-legacy<3.1.0,>=3.0.9 in /usr/local/lib/python3.7/dist-packages (from spacy<3.4.0,>=3.3.0.dev0->nl-core-news-lg==3.3.0) (3.0.9)\n",
            "Requirement already satisfied: numpy>=1.15.0 in /usr/local/lib/python3.7/dist-packages (from spacy<3.4.0,>=3.3.0.dev0->nl-core-news-lg==3.3.0) (1.21.6)\n",
            "Requirement already satisfied: srsly<3.0.0,>=2.4.3 in /usr/local/lib/python3.7/dist-packages (from spacy<3.4.0,>=3.3.0.dev0->nl-core-news-lg==3.3.0) (2.4.3)\n",
            "Requirement already satisfied: pathy>=0.3.5 in /usr/local/lib/python3.7/dist-packages (from spacy<3.4.0,>=3.3.0.dev0->nl-core-news-lg==3.3.0) (0.6.1)\n",
            "Requirement already satisfied: preshed<3.1.0,>=3.0.2 in /usr/local/lib/python3.7/dist-packages (from spacy<3.4.0,>=3.3.0.dev0->nl-core-news-lg==3.3.0) (3.0.6)\n",
            "Requirement already satisfied: typer<0.5.0,>=0.3.0 in /usr/local/lib/python3.7/dist-packages (from spacy<3.4.0,>=3.3.0.dev0->nl-core-news-lg==3.3.0) (0.4.1)\n",
            "Requirement already satisfied: murmurhash<1.1.0,>=0.28.0 in /usr/local/lib/python3.7/dist-packages (from spacy<3.4.0,>=3.3.0.dev0->nl-core-news-lg==3.3.0) (1.0.7)\n",
            "Requirement already satisfied: cymem<2.1.0,>=2.0.2 in /usr/local/lib/python3.7/dist-packages (from spacy<3.4.0,>=3.3.0.dev0->nl-core-news-lg==3.3.0) (2.0.6)\n",
            "Requirement already satisfied: packaging>=20.0 in /usr/local/lib/python3.7/dist-packages (from spacy<3.4.0,>=3.3.0.dev0->nl-core-news-lg==3.3.0) (21.3)\n",
            "Requirement already satisfied: spacy-loggers<2.0.0,>=1.0.0 in /usr/local/lib/python3.7/dist-packages (from spacy<3.4.0,>=3.3.0.dev0->nl-core-news-lg==3.3.0) (1.0.2)\n",
            "Requirement already satisfied: langcodes<4.0.0,>=3.2.0 in /usr/local/lib/python3.7/dist-packages (from spacy<3.4.0,>=3.3.0.dev0->nl-core-news-lg==3.3.0) (3.3.0)\n",
            "Requirement already satisfied: blis<0.8.0,>=0.4.0 in /usr/local/lib/python3.7/dist-packages (from spacy<3.4.0,>=3.3.0.dev0->nl-core-news-lg==3.3.0) (0.4.1)\n",
            "Requirement already satisfied: typing-extensions<4.2.0,>=3.7.4 in /usr/local/lib/python3.7/dist-packages (from spacy<3.4.0,>=3.3.0.dev0->nl-core-news-lg==3.3.0) (4.1.1)\n",
            "Requirement already satisfied: tqdm<5.0.0,>=4.38.0 in /usr/local/lib/python3.7/dist-packages (from spacy<3.4.0,>=3.3.0.dev0->nl-core-news-lg==3.3.0) (4.64.0)\n",
            "Requirement already satisfied: zipp>=0.5 in /usr/local/lib/python3.7/dist-packages (from catalogue<2.1.0,>=2.0.6->spacy<3.4.0,>=3.3.0.dev0->nl-core-news-lg==3.3.0) (3.8.0)\n",
            "Requirement already satisfied: pyparsing!=3.0.5,>=2.0.2 in /usr/local/lib/python3.7/dist-packages (from packaging>=20.0->spacy<3.4.0,>=3.3.0.dev0->nl-core-news-lg==3.3.0) (3.0.9)\n",
            "Requirement already satisfied: smart-open<6.0.0,>=5.0.0 in /usr/local/lib/python3.7/dist-packages (from pathy>=0.3.5->spacy<3.4.0,>=3.3.0.dev0->nl-core-news-lg==3.3.0) (5.2.1)\n",
            "Requirement already satisfied: idna<3,>=2.5 in /usr/local/lib/python3.7/dist-packages (from requests<3.0.0,>=2.13.0->spacy<3.4.0,>=3.3.0.dev0->nl-core-news-lg==3.3.0) (2.10)\n",
            "Requirement already satisfied: chardet<4,>=3.0.2 in /usr/local/lib/python3.7/dist-packages (from requests<3.0.0,>=2.13.0->spacy<3.4.0,>=3.3.0.dev0->nl-core-news-lg==3.3.0) (3.0.4)\n",
            "Requirement already satisfied: certifi>=2017.4.17 in /usr/local/lib/python3.7/dist-packages (from requests<3.0.0,>=2.13.0->spacy<3.4.0,>=3.3.0.dev0->nl-core-news-lg==3.3.0) (2022.5.18.1)\n",
            "Requirement already satisfied: urllib3!=1.25.0,!=1.25.1,<1.26,>=1.21.1 in /usr/local/lib/python3.7/dist-packages (from requests<3.0.0,>=2.13.0->spacy<3.4.0,>=3.3.0.dev0->nl-core-news-lg==3.3.0) (1.24.3)\n",
            "Requirement already satisfied: click<9.0.0,>=7.1.1 in /usr/local/lib/python3.7/dist-packages (from typer<0.5.0,>=0.3.0->spacy<3.4.0,>=3.3.0.dev0->nl-core-news-lg==3.3.0) (7.1.2)\n",
            "Requirement already satisfied: MarkupSafe>=0.23 in /usr/local/lib/python3.7/dist-packages (from jinja2->spacy<3.4.0,>=3.3.0.dev0->nl-core-news-lg==3.3.0) (2.0.1)\n",
            "Installing collected packages: nl-core-news-lg\n",
            "Successfully installed nl-core-news-lg-3.3.0\n",
            "\u001b[38;5;2m✔ Download and installation successful\u001b[0m\n",
            "You can now load the package via spacy.load('nl_core_news_lg')\n"
          ]
        }
      ]
    },
    {
      "cell_type": "markdown",
      "source": [
        "### Calling the functions in order"
      ],
      "metadata": {
        "id": "C4QnnSElG_vg"
      }
    },
    {
      "cell_type": "code",
      "source": [
        " # Removing Stop Words\n",
        "data_words_nostops = remove_stopwords(data_words)\n",
        "\n",
        "# Forming Bigrams\n",
        "data_words_bigrams = make_bigrams(data_words_nostops)\n",
        "\n",
        "# Loading the SpaCy 'nl' model, keeping only tagger component (for efficiency)\n",
        "nlp = spacy.load('nl_core_news_lg', disable=['parser', 'ner'])\n",
        "\n",
        "# Doing lemmatization keeping only noun, adj, vb, adv\n",
        "data_lemmatized = lemmatization(data_words_bigrams, allowed_postags=['NOUN', 'ADJ', 'VERB', 'ADV'])\n",
        "\n",
        "print(data_lemmatized)"
      ],
      "metadata": {
        "colab": {
          "base_uri": "https://localhost:8080/"
        },
        "id": "dPJP2KeuZw67",
        "outputId": "8468f2cd-8fa5-4da6-c6af-5cc92ec4c797"
      },
      "execution_count": 17,
      "outputs": [
        {
          "output_type": "stream",
          "name": "stdout",
          "text": [
            "[['verslag'], [], [], ['koning'], ['sire'], [], ['ontwerp'], [], ['koninklijk'], ['besluit'], [], [], [], ['eer'], [], [], ['uwe'], ['majesteit'], [], [], ['leggen'], ['beogen'], [], ['uitvoering'], [], [], ['artikel'], [], [], [], [], ['quinquie'], [], [], ['wetboek'], [], [], ['belasting'], [], [], ['toegevoegde'], ['waarde'], ['hierna'], ['wbtw'], [], ['artikel'], [], ['bis'], [], [], [], [], [], ['wetboek'], [], [], [], [], ['hierna'], [], [], [], ['artikel'], [], [], [], [], [], [], [], [], [], [], [], ['wetboek'], [], [], ['minnelijk'], [], ['dwingen'], ['invordering'], [], ['fiscaal'], [], ['fiscaal'], [], ['hierna'], [], [], [], ['artikel'], [], [], [], [], [], [], [], ['programma_wet'], [], [], [], [], [], ['hierna'], ['programma_wet'], [], ['wijzigen'], [], [], ['wet'], [], [], [], [], ['houdenen'], ['fiscaal'], ['_fraude'], ['bestrijden'], ['financieel'], [], ['divers'], ['bepaling'], [], [], ['wet'], [], [], [], [], ['houdenen'], ['wijziging'], [], [], ['wetboek'], [], [], ['belasting'], [], [], ['toegevoegde'], ['waarde'], [], ['wetboek'], [], [], [], [], [], ['wetboek'], [], [], ['minnelijk'], [], ['dwingen'], ['invordering'], [], ['fiscaal'], [], ['fiscaal'], [], [], [], ['programma_wet'], [], [], [], [], [], [], [], ['verwerking'], [], [], [], [], ['notariaat'], [], ['nieuw'], ['werkwijze'], ['kaderen'], [], [], ['moderni_sering'], [], [], ['federaal'], ['overheid_dienst'], ['financiën'], [], ['administratief'], ['vereenvoudiging'], [], [], ['koste_nbesparing'], [], [], [], ['hoofd_doel'], [], ['in_stellen'], [], [], [], [], [], ['ontvanger'], ['toe_laten'], [], ['kennisgeving'], ['elek_tronisch'], [], ['verzenden'], [], [], ['kennisgeving'], ['bestemmen'], [], [], ['notaris'], [], [], [], ['persoon'], [], ['bevoegd'], [], [], ['authenticiteit'], [], ['verlenen'], [], [], [], [], ['artikel'], [], [], [], [], ['wbtw'], [], [], [], [], [], [], [], [], [], [], ['bedoelen'], ['akt'], [], ['naam'], [], ['akt'], [], ['overdracht'], [], ['zakelijk'], ['recht'], [], [], ['akt'], ['houdenen'], ['hypothecair'], ['aanwending'], [], ['goed'], [], [], ['vatbaar'], [], [], [], [], ['kennisgeving'], ['bestemmen'], [], [], ['persoon'], ['bevoegd'], [], [], ['akte'], [], ['attest'], [], ['erfop_volging'], [], [], ['stellen'], ['bovendien'], [], [], [], [], ['voornoemd'], ['wettelijk'], ['bepaling'], ['op_nemen'], ['praktisch'], [], ['eenvormig'], ['maken'], ['waardoor'], [], ['verschillend'], [], [], [], ['enkel'], ['reglementair'], ['besluit'], [], [], ['samen_brengen'], [], ['advies'], [], [], [], [], [], [], ['raad'], [], [], ['geven'], [], [], [], [], [], [], [], [], [], ['volgen'], ['artikel'], [], ['stellen'], [], [], ['vermelding'], [], [], ['voorkomen'], [], [], ['bericht'], [], ['inlichting'], [], ['uitvoering'], [], [], ['wbtw'], [], [], [], [], [], ['programma_wet'], [], ['bijgevoegd'], [], [], ['bijlag'], [], [], [], [], [], ['besluit'], [], ['artikel'], [], [], [], ['bepalen'], [], [], ['vermelding'], [], [], ['bericht'], [], ['inlichting'], ['identiek'], [], [], [], [], ['gebruiken'], [], [], ['elektronisch'], ['wijze'], [], [], ['aangetekend'], ['zending', 'artikel'], [], ['specificeren'], [], ['ambtenaar'], [], [], [], ['bericht'], ['bedoelen'], [], [], ['artikel'], [], [], ['wbtw'], [], ['bis'], [], [], [], [], [], [], [], [], [], [], [], [], [], [], ['programma_wet'], [], [], ['mee_delen'], [], [], ['bericht'], ['omwille'], [], ['overmacht'], [], [], ['technisch'], ['storing'], [], [], ['elektronisch'], ['wijze'], [], [], ['mee_delen'], [], [], [], ['eigenaar'], [], [], ['houder'], [], [], ['zakelijk'], ['recht'], [], [], ['goed'], [], [], ['buitenland'], ['verblijven'], [], [], [], ['erflater'], [], [], [], [], [], [], [], ['buitenland'], ['verblijven'], ['daarnaast'], ['specificeren'], [], [], [], [], ['artikel'], [], [], [], ['bedoelen'], ['ambtenaar'], [], [], ['algemeen'], ['administratie'], [], [], [], [], [], [], ['bericht'], [], [], ['adresseren'], [], ['geval'], [], ['bericht'], [], [], ['elektronisch'], ['wijze'], [], [], ['kenn_isgegeven'], [], [], ['stafd_ienst'], [], ['omwille'], [], ['overmacht'], [], [], ['technisch'], ['storing'], ['artikel'], [], ['omschrijven'], [], ['technisch'], ['specificatie'], [], [], ['kennisgeving'], [], ['elektronisch'], ['wijze'], [], [], [], [], [], ['elektronisch'], ['handtekening'], [], ['ontvanger'], ['bevoegd'], [], [], ['kennisgeving'], [], ['toegang'], [], [], ['toepassing'], [], [], ['kennisgeving'], [], ['middel'], [], [], ['elektronisch'], [], [], [], ['maken'], [], [], [], ['zorgen'], [], ['enkel'], [], ['bevoegd'], ['persoon'], ['geldig'], [], ['kennisgeving'], [], ['grond'], [], [], ['artikel'], [], ['quater'], [], [], ['wbtw'], [], [], [], [], [], [], [], [], [], [], [], [], [], [], [], [], [], ['programma_wet'], [], ['vers_turen'], [], ['kennisgeving'], [], ['vervolgens'], ['certificeren'], [], [], ['federaal'], ['overheid_dienst'], ['financiën'], [], [], ['bekleegen'], [], [], ['elektronisch'], ['handtekening'], [], ['overeenstemt'], [], [], ['digitaal'], ['handtekening'], [], [], ['federaal'], ['overheid_dienst'], ['financiën'], [], [], [], ['certificaat'], ['afgeleverd'], [], [], ['kwalificeren'], [], [], [], ['zin'], [], ['artikel'], [], [], ['verordening'], [], [], [], [], [], [], ['Parlement'], [], [], ['raad'], [], [], [], [], ['betreffen'], ['elektronisch'], ['identificatie'], [], [], [], ['elektronisch'], ['transactie'], [], [], ['intern'], ['markt'], [], [], ['intrekking'], [], ['rich_tlijn'], [], ['bovendien'], [], [], ['elektronisch'], ['kennisgeving'], [], ['veiligheid'], [], ['uitgewisselde'], ['informatie'], ['verzekeren'], [], ['middel'], [], ['aangepaste'], [], [], [], ['attest'], [], ['erfop_volging'], [], [], [], ['voet'], [], [], ['uit_gifte'], [], [], ['akte'], [], ['erfop_volging'], [], ['vermellen'], [], [], [], [], ['kennisgeving'], [], ['schuld'], [], ['toepassing'], [], [], ['artikel'], [], [], [], [], [], ['programma_wet'], [], [], [], [], [], [], ['doen'], [], [], [], ['schuld'], ['waarvan'], [], ['toepassing'], [], [], ['artikel'], [], [], [], [], [], ['programma_wet'], [], ['artikel'], [], [], [], [], ['kennis'], [], ['geven'], [], ['betalen'], [], [], ['voorkomen'], ['geval'], [], [], ['betalen'], [], [], ['tegoeen'], ['houden'], [], [], ['schulde_naar'], ['artikel'], [], ['specificeren'], [], ['ambtenaar'], [], [], ['vermelding'], [], [], [], [], ['doen'], [], [], [], [], [], ['verrichten'], ['betaling'], [], [], ['attest'], [], [], [], ['voet'], [], [], ['uit_gifte'], [], [], ['akte'], [], ['erfop_volging'], ['artikel'], [], ['wijzigen'], [], ['artikel'], [], [], [], [], ['koninklijk'], ['besluit'], [], ['uitvoering'], [], [], ['wetboek'], [], [], [], [], ['hierna'], ['kb'], [], [], [], ['gevolg'], [], [], ['ontw_erpbesluit'], ['artikel'], [], ['bevatten'], [], ['technisch'], ['correctie'], [], ['artikel'], [], ['kb'], [], [], [], ['aanleiding'], [], [], ['opheffing'], [], [], [], ['integratie'], [], ['artikel'], [], ['bis'], ['kb'], [], [], [], ['artikel'], [], ['bis'], [], [], ['artikel'], [], ['heft'], [], ['reeks'], ['bepaling'], [], ['wettelijk'], ['norm'], [], [], [], [], [], ['notariaat'], [], ['samen_brengen'], [], [], ['enkel'], ['besluit'], [], ['artikel'], [], ['bis'], ['kb'], [], [], [], ['verzoek'], [], [], [], [], ['ïntegreren'], [], ['artikel'], [], ['bis'], [], [], [], [], ['wettelijk'], ['grondslag'], ['ervan'], ['verdwijnen'], [], [], ['artikel'], [], ['op_heffen'], [], [], ['ambtenaar'], [], ['bevoegd'], [], [], [], ['bericht'], [], ['ontvangen'], ['voortaan'], ['enerzijds'], ['rechtstreeks'], [], ['artikel'], [], [], [], [], ['één'], ['lid'], [], [], ['wbtw'], [], ['aan_duiden'], [], [], ['eigenaar'], [], [], ['houder'], [], [], ['zakelijk'], ['recht'], [], [], ['goed'], [], ['verblijf_plaats'], [], [], [], [], ['anderzijds'], [], ['aan_duiden'], [], [], ['besluit'], [], [], ['eigenaar'], [], [], ['houder'], [], [], ['zakelijk'], ['recht'], [], [], ['goed'], [], ['verblijf_plaats'], [], [], ['buitenland'], [], ['dienen'], ['artikel'], [], [], [], ['koninklijk'], ['besluit'], [], [], [], [], [], [], ['op_heffen'], [], [], [], ['koninklijk'], ['besluit'], [], [], [], [], [], ['op_heffen'], [], [], [], [], ['besluit'], [], ['ïntegreren'], [], ['toepassing'], [], [], ['wet'], [], [], [], [], ['houdenen'], [], ['verankering'], [], [], ['principe'], [], [], ['uniek'], [], [], [], ['werking'], [], [], ['dienst'], [], ['instantie'], [], ['behoren'], [], [], ['taak'], ['uit_voeren'], [], [], ['overheid'], [], [], ['vereenvoudiging'], [], [], [], ['elektronisch'], [], ['papier'], ['formulier'], [], [], [], [], ['bijzonder'], [], ['artikel'], [], [], ['bepalen'], [], [], ['wet'], [], [], ['doel'], [], ['administratief'], ['verplichting'], [], ['burger'], [], ['rech_tsperson'], [], ['vereenvoudigen'], [], [], ['waarborg'], [], ['gegeven'], [], [], ['beschikbaar'], [], [], [], ['authentiek'], ['bron'], [], ['opnieuw'], [], [], ['mee_delen'], [], [], ['federaal'], ['overheid_dienst'], [], [], ['komen'], [], [], ['volledig'], [], [], ['elektronisch'], [], ['papier'], ['formulier'], [], [], [], ['minist_erieel'], ['besluit'], [], [], [], [], [], [], ['op_heffen'], [], [], ['aanvrager'], [], [], ['akte'], [], ['vervreemding'], [], ['hypothecair'], ['aanwending'], [], ['lang'], ['houden'], [], [], ['hoedanigheid'], [], [], [], ['lid'], [], [], ['btw', 'eenheid'], [], [], ['deel'], [], [], [], ['notaris'], [], [], ['fiscaal'], ['administratie'], ['beschikken'], [], [], ['soort'], ['gegeven'], [], [], ['dienst'], [], ['bevoegd'], [], [], [], ['bericht'], [], ['ontvangen'], [], [], [], [], [], ['leveren'], [], [], ['kader'], [], [], [], [], ['bericht'], [], ['inlichting'], ['bepalen'], [], [], [], ['artikel'], [], [], [], [], ['quinquie'], ['wbtw'], [], ['artikel'], [], [], [], [], [], [], ['artikel'], [], [], [], [], [], [], [], [], [], ['artikel'], [], [], [], [], [], ['programma_wet'], [], [], ['minist_erieel'], ['besluit'], [], [], [], [], ['op_heffen'], [], [], ['verplichten'], ['vermelding'], [], [], ['voorkomen'], [], [], ['bericht'], [], ['inlichting'], ['bedoelen'], [], [], ['artikel'], [], [], [], [], ['quinquie'], [], [], ['wbtw'], [], [], [], ['artikel'], [], [], [], [], [], [], [], ['voortaan'], ['hechten'], [], [], [], ['huidig'], ['besluit'], [], [], ['minist_erieel'], ['besluit'], [], [], [], [], ['op_heffen'], [], [], ['minist_erieel'], ['besluit'], [], [], [], [], [], ['bepaling'], [], [], ['modelbe_richt'], ['bedoelen'], [], ['artikel'], [], ['bis'], [], [], ['koninklijk'], ['besluit'], [], ['uitvoering'], [], [], ['wetboek'], [], [], [], [], [], ['op_heffen'], [], [], [], ['ïntegreren'], [], ['bijla_ge'], [], [], [], ['besluit'], [], [], [], ['eer'], [], [], ['sire'], [], ['uwe'], ['majesteit'], [], ['zeer'], ['eerbiedig'], [], ['zeer'], ['getrouw'], ['dienaar'], [], ['één'], ['minister'], [], ['minister'], [], ['financiën'], [], [], [], [], [], [], [], ['koninklijk'], ['besluit'], [], ['uitvoering'], [], [], ['artikel'], [], [], [], [], ['quinquie'], [], [], ['wetboek'], [], [], ['belasting'], [], [], ['toegevoegde'], ['waarde'], [], ['artikel'], [], ['bis'], [], [], [], [], [], ['wetboek'], [], [], [], [], [], ['artikel'], [], [], [], [], [], [], [], [], [], [], ['wetboek'], [], [], ['minnelijk'], [], ['dwingen'], ['invordering'], [], ['fiscaal'], [], ['fiscaal'], [], [], [], ['artikel'], [], [], [], [], [], [], [], ['programma_wet'], [], [], [], [], [], [], [], ['notariaatfilip'], ['koning'], [], [], [], [], [], [], [], [], ['hierna'], [], [], [], ['groet'], ['letten'], [], [], ['grond_wet'], [], ['artikel'], [], [], [], ['letten'], [], [], ['programma_wet'], [], [], [], [], [], ['artikel'], [], [], [], ['één'], ['lid'], [], ['vervangen'], [], [], ['wet'], [], [], [], [], [], [], [], ['vervangen'], [], [], ['wet'], [], [], [], [], [], ['vervangen'], [], [], ['wet'], [], [], [], [], [], [], [], ['één'], ['lid'], [], ['één'], [], ['twee'], ['streepje'], ['in_voegen'], [], [], ['wet'], [], [], [], [], [], [], [], ['in_voegen'], [], [], ['wet'], [], [], [], [], [], ['in_voegen'], [], [], ['wet'], [], [], [], [], [], ['één'], ['lid'], [], ['vervangen'], [], [], ['wet'], [], [], [], [], [], ['één'], ['lid'], [], ['in_voegen'], [], [], ['wet'], [], [], [], [], [], [], ['twee'], ['lid'], ['vervangen'], [], [], ['wet'], [], [], [], [], [], [], ['vervangen'], [], [], ['wet'], [], [], [], [], ['letten'], [], [], ['wet'], [], [], [], [], ['houdenen'], ['fiscaal'], ['_fraude'], ['bestrijden'], ['financieel'], [], ['divers'], ['bepaling'], ['artikel'], [], ['letten'], [], [], ['wetboek'], [], [], ['belasting'], [], [], ['toegevoegde'], ['waarde'], ['artikel'], [], [], [], [], ['één'], ['lid'], [], ['in_voegen'], [], [], ['wet'], [], [], [], [], ['vervangen'], [], [], ['wet'], [], [], [], [], ['op_heffen'], [], [], ['wet'], [], [], [], [], ['uitgezonderd'], [], [], ['vallen'], ['bedoelen'], [], ['artikel'], [], [], [], ['wet'], [], ['wijzigen'], [], [], ['wet'], [], [], [], [], [], [], [], [], ['in_voegen'], [], [], ['wet'], [], [], [], [], ['vervangen'], [], [], ['wet'], [], [], [], [], ['op_heffen'], [], [], ['wet'], [], [], [], [], ['uitgezonderd'], [], [], ['vallen'], ['bedoelen'], [], ['artikel'], [], [], [], ['wet'], [], [], ['op_heffen'], [], [], ['wet'], [], [], [], [], ['uitgezonderd'], [], [], ['vallen'], ['bedoelen'], [], ['artikel'], [], [], [], ['wet'], [], ['quater'], [], [], ['één'], ['lid'], [], ['in_voegen'], [], [], ['wet'], [], [], [], [], ['vervangen'], [], [], ['wet'], [], [], [], [], ['op_heffen'], [], [], ['wet'], [], [], [], [], ['uitgezonderd'], [], [], ['vallen'], ['bedoelen'], [], ['artikel'], [], [], [], ['wet'], [], ['quinquie'], [], [], ['in_voegen'], [], [], ['wet'], [], [], [], [], ['vervangen'], [], [], ['wet'], [], [], [], [], [], ['op_heffen'], [], [], ['wet'], [], [], [], [], ['uitgezonderd'], [], [], ['vallen'], ['bedoelen'], [], ['artikel'], [], [], [], ['wet'], [], [], ['quinquie'], ['op_heffen'], [], [], ['wet'], [], [], [], [], ['uitgezonderd'], [], [], ['vallen'], ['bedoelen'], [], ['artikel'], [], [], [], ['wet'], ['letten'], [], [], ['wetboek'], [], [], [], [], ['artikel'], [], [], [], ['vervangen'], [], [], ['wet'], [], [], [], [], [], ['bis'], [], [], ['zes'], ['lid'], [], ['vervangen'], [], [], ['wet'], [], [], [], [], [], ['bis'], [], [], ['vervangen'], [], [], ['wet'], [], [], [], [], [], ['bis'], ['vervangen'], [], [], ['wet'], [], [], [], [], [], [], [], ['één'], ['lid'], [], ['vervangen'], [], [], ['wet'], [], [], [], [], ['op_heffen'], [], [], ['wet'], [], [], [], [], ['uitgezonderd'], [], [], ['vallen'], ['bedoelen'], [], ['artikel'], [], [], [], ['wet'], [], ['wijzigen'], [], [], ['wet'], [], [], [], [], [], [], [], ['vervangen'], [], [], ['wet'], [], [], [], [], ['op_heffen'], [], [], ['wet'], [], [], [], [], ['uitgezonderd'], [], [], ['vallen'], ['bedoelen'], [], ['artikel'], [], [], [], ['wet'], [], ['op_heffen'], [], [], ['wet'], [], [], [], [], ['uitgezonderd'], [], [], ['vallen'], ['bedoelen'], [], ['artikel'], [], [], [], ['wet'], [], [], [], ['één'], ['lid'], [], [], ['vervangen'], [], [], ['wet'], [], [], [], [], ['op_heffen'], [], [], ['wet'], [], [], [], [], ['uitgezonderd'], [], [], ['vallen'], ['bedoelen'], [], ['artikel'], [], [], [], ['wet'], [], [], [], ['vervangen'], [], [], ['wet'], [], [], [], [], [], ['op_heffen'], [], [], ['wet'], [], [], [], [], ['uitgezonderd'], [], [], ['vallen'], ['bedoelen'], [], ['artikel'], [], [], [], ['wet'], [], ['op_heffen'], [], [], ['wet'], [], [], [], [], ['uitgezonderd'], [], [], ['vallen'], ['bedoelen'], [], ['artikel'], [], [], [], ['wet'], [], [], ['één'], ['lid'], ['wijzigen'], [], [], ['wet'], [], [], [], [], [], [], [], [], ['letten'], [], [], ['wetboek'], [], [], ['minnelijk'], [], ['dwingen'], ['invordering'], [], ['fiscaal'], [], ['fiscaal'], [], ['in_voeren'], [], [], ['wet'], [], [], [], [], [], ['artikel'], [], [], [], ['één'], ['lid'], [], [], [], [], [], ['wijzigen'], [], [], ['wet'], [], [], [], [], [], ['één'], ['lid'], [], ['wijzigen'], [], [], ['wet'], [], [], [], [], [], [], [], [], [], [], [], ['één'], ['lid'], [], [], [], [], [], ['wijzigen'], [], [], ['wet'], [], [], [], [], [], [], [], [], [], ['twee'], ['lid'], [], [], ['letten'], [], [], ['koninklijk'], ['besluit'], [], [], [], [], [], [], [], ['betrekking'], [], [], ['toepassing'], [], [], ['belasting'], [], [], ['toegevoegde'], ['waarde'], ['letten'], [], [], ['koninklijk'], ['besluit'], [], [], [], [], [], ['uitvoering'], [], [], ['wetboek'], [], [], [], [], ['letten'], [], [], ['koninklijk'], ['besluit'], [], [], [], [], ['houdenen'], ['uitvoering'], [], [], ['artikel'], [], [], [], [], [], ['programma_wet'], [], [], [], [], [], ['letten'], [], [], ['minist_erieel'], ['besluit'], [], [], [], [], [], [], [], ['betrekking'], [], [], ['verplichting'], ['waartoe'], [], [], [], [], ['lid'], [], [], ['btw', 'eenheid'], [], [], ['zin'], [], ['artikel'], [], [], [], [], [], ['wetboek'], [], [], ['belasting'], [], [], ['toegevoegde'], ['waarde'], ['eigenaar'], [], [], [], ['Hypotheek'], ['vatbaar'], ['goed'], [], [], [], ['gedeelte'], ['ervan'], [], ['houder'], [], [], ['zakelijk'], ['recht'], [], [], ['dergelijk'], ['goed'], [], [], [], ['gedeelte'], ['ervan'], ['houden'], [], ['letten'], [], [], ['minist_erieel'], ['besluit'], [], [], [], [], [], ['betrekking'], [], [], ['aanduiding'], [], [], ['dienst'], ['bevoegd'], [], [], ['ontvangen'], [], [], ['bericht'], [], [], ['af_leveren'], [], [], [], [], [], ['kader'], [], [], ['systeem'], [], ['elektronisch'], ['notificatie'], [], [], ['federaal'], ['overheid_dienst'], ['financiën'], [], ['bepalen'], ['ministerieel'], ['officier'], ['openbaar'], ['ambtenaar'], [], [], ['persoon'], ['letten'], [], [], ['minist_erieel'], ['besluit'], [], [], [], [], [], ['bepaling'], [], [], ['model'], [], ['bericht'], [], ['kennisgeving'], [], ['bedoelen'], [], [], ['artikel'], [], [], [], [], ['quinquie'], [], [], ['wetboek'], [], [], ['belasting'], [], [], ['toegevoegde'], ['waarde'], [], [], [], ['artikel'], [], [], [], [], [], ['wetboek'], [], [], [], [], ['letten'], [], [], ['minist_erieel'], ['besluit'], [], [], [], [], [], ['bepaling'], [], [], ['modelbe_richt'], ['bedoelen'], [], ['artikel'], [], ['bis'], [], [], ['koninklijk'], ['besluit'], [], ['uitvoering'], [], [], ['wetboek'], [], [], [], [], ['letten'], [], [], ['advies'], [], [], ['inspecteur'], [], ['financiën'], ['geven'], [], [], [], [], [], [], [], [], ['letten'], [], [], [], [], [], ['één'], ['minister'], [], ['minister'], [], ['begroting'], ['geven'], [], [], [], [], ['letten'], [], [], ['advies'], [], [], [], [], [], ['geven'], [], [], [], [], ['letten'], [], [], ['overleg'], [], [], ['gewest'], ['houden'], [], [], [], [], ['letten'], [], [], ['advies'], [], [], [], [], [], [], ['raad'], [], [], ['geven'], [], [], [], [], [], [], [], [], [], ['toepassing'], [], ['artikel'], [], [], [], ['één'], ['lid'], [], [], [], [], ['wet'], [], [], ['raad'], [], [], ['coördineren'], [], [], [], [], ['ov_erwegen'], ['artikel'], [], [], [], [], [], [], [], ['wet'], [], [], [], [], ['houdenen'], ['verankering'], [], [], ['principe'], [], [], ['uniek'], [], [], [], ['werking'], [], [], ['dienst'], [], ['instantie'], [], ['behoren'], [], [], ['taak'], ['uit_voeren'], [], [], ['overheid'], [], [], ['vereenvoudiging'], [], [], [], ['elektronisch'], [], ['papier'], ['formulier'], [], [], ['besluit'], [], [], ['bijlag'], [], [], [], [], ['mee_delen'], [], [], ['dienst'], [], ['administratief'], ['vereenvoudiging'], [], [], ['Fod'], ['kanselarij'], [], [], ['één'], ['minister'], [], ['artikel'], [], [], [], [], [], ['wet'], [], [], [], [], ['houdenen'], ['divers'], ['bepaling'], [], ['administratief'], ['vereenvoudiging'], [], [], ['impactanalyse'], ['vereisen'], [], [], ['voordracht'], [], [], ['één'], ['minister'], [], ['minister'], [], ['financiën'], [], [], ['besluiten'], [], ['besluiten'], [], [], ['artikel'], [], [], [], ['toepassing'], [], [], ['besluit'], [], ['verstaan'], [], [], [], ['wetboek'], [], [], ['minnelijk'], [], ['dwingen'], ['invordering'], [], ['fiscaal'], [], ['fiscaal'], [], [], ['programma_wet'], ['programma_wet'], [], [], [], [], [], [], [], [], [], ['wetboek'], [], [], [], [], [], ['wbtw'], ['wetboek'], [], [], ['belasting'], [], [], ['toegevoegde'], ['waarde'], [], [], [], ['erfgenaam'], ['legataris'], [], ['begunstigen'], [], [], ['contractueel'], ['erfstelling'], [], [], [], ['vermellen'], [], [], ['akte'], [], [], ['attest'], [], ['erfop_volging'], ['bedoelen'], [], [], ['artikel'], [], [], [], ['één'], ['lid'], [], [], [], [], [], [], [], ['één'], ['lid'], [], [], [], [], ['één'], ['lid'], [], [], ['programma_wet'], [], [], [], ['vermelding'], [], [], ['voorkomen'], [], [], ['bericht'], ['verzonden'], [], ['uitvoering'], [], [], ['artikel'], [], [], [], [], ['wbtw'], [], [], [], [], [], [], [], [], [], [], [], ['op_nemen'], [], ['bijla_ge'], [], [], [], ['besluit'], [], ['vermelding'], [], [], ['voorkomen'], [], [], ['inlichting'], ['verzonden'], [], ['uitvoering'], [], [], ['artikel'], [], ['quinquie'], [], [], ['wbtw'], [], [], [], [], [], [], [], [], [], [], [], ['op_nemen'], [], ['bijla_ge'], [], [], [], ['besluit'], [], ['vermelding'], [], [], ['voorkomen'], [], [], ['bericht'], ['verzonden'], [], ['uitvoering'], [], [], ['artikel'], [], [], [], [], [], [], [], [], [], [], ['programma_wet'], [], ['op_nemen'], [], ['bijla_ge'], [], [], [], ['besluit'], [], ['vermelding'], [], [], ['voorkomen'], [], [], ['bericht'], ['verzonden'], [], ['uitvoering'], [], [], ['artikel'], [], [], [], [], ['wbtw'], [], ['bis'], [], [], [], [], [], [], [], [], [], [], [], ['op_nemen'], [], ['bijla_ge'], [], [], [], ['besluit'], [], [], [], ['vermelding'], ['vervat'], [], [], ['bericht'], ['bedoelen'], [], [], ['artikel'], [], [], [], [], ['wbtw'], [], [], [], [], [], [], [], [], [], [], [], [], [], [], [], [], ['programma_wet'], [], ['identiek'], [], [], [], [], ['elektronisch'], ['wijze'], [], [], ['aangetekend'], ['zending'], [], ['mee_delen'], [], [], [], ['vermelding'], ['vervat'], [], [], ['inlichting'], ['bedoelen'], [], [], ['artikel'], [], ['quinquie'], [], [], ['wbtw'], [], [], [], [], [], [], [], [], [], [], [], [], ['identiek'], [], [], [], [], ['elektronisch'], ['wijze'], [], [], ['aangetekend'], ['zending'], [], ['mee_delen'], [], [], [], [], [], [], ['bericht'], ['omwille'], [], ['overmacht'], [], [], ['technisch'], ['storing'], [], [], ['elektronisch'], ['wijze'], [], [], ['mee_delen'], [], [], ['artikel'], [], [], [], [], ['één'], ['lid'], [], [], [], ['wbtw'], [], [], [], ['één'], ['lid'], [], [], [], [], [], [], [], [], [], ['één'], ['lid'], [], [], [], [], [], [], [], ['eigenaar'], [], [], ['houder'], [], [], ['zakelijk'], ['recht'], [], [], ['goed'], [], [], ['buitenland'], ['verblijven'], [], [], ['ontvanger'], [], [], [], ['bericht'], [], ['aangetekend'], ['zending'], [], ['mee_delen'], [], ['ontvanger'], [], [], ['team'], ['bijzonder'], ['invordering'], [], [], [], [], [], ['bericht'], ['omwille'], [], ['overmacht'], [], [], ['technisch'], ['storing'], [], [], ['elektronisch'], ['wijze'], [], [], ['mee_delen'], [], [], ['artikel'], [], [], [], ['één'], ['lid'], [], [], [], ['programma_wet'], [], [], [], [], ['één'], ['lid'], [], [], [], [], [], [], [], ['erflater'], [], [], [], [], [], [], [], ['buitenland'], ['verblijven'], [], [], ['ontvanger'], [], [], [], ['bericht'], [], ['aangetekend'], ['zending'], [], ['mee_delen'], [], ['ontvanger'], [], [], ['team'], ['bijzonder'], ['invordering'], [], [], [], [], [], ['bericht'], ['omwille'], [], ['overmacht'], [], [], ['technisch'], ['storing'], [], [], ['elektronisch'], ['wijze'], [], [], ['mee_delen'], [], [], ['artikel'], [], [], [], ['één'], ['lid'], [], [], [], [], [], ['één'], ['lid'], [], [], [], ['programma_wet'], [], [], ['ambtenaar'], [], [], ['algemeen'], ['administratie'], [], [], [], ['bedoelen'], [], [], ['artikel'], [], [], [], ['één'], ['lid'], [], [], [], [], [], ['één'], ['lid'], [], ['twee'], ['streepje'], [], [], ['programma_wet'], [], ['administrateur'], ['rechtszekerheid'], [], [], [], [], ['bericht'], ['omwille'], [], ['overmacht'], [], [], ['technisch'], ['storing'], [], [], ['elektronisch'], ['wijze'], [], [], ['mee_delen'], [], ['artikel'], [], ['bis'], [], [], ['zes'], ['lid'], [], [], [], [], [], [], [], ['ontvanger'], [], [], [], ['bericht'], [], ['aangetekend'], ['zending'], [], ['mee_delen'], [], ['ontvanger'], [], [], ['team'], ['bijzonder'], ['invordering'], [], [], [], [], [], ['kennisgeving'], [], [], ['artikel'], [], ['quater'], [], [], ['één'], ['lid'], [], [], [], ['wbtw'], [], [], [], ['één'], ['lid'], [], [], [], [], [], [], ['één'], ['lid'], [], [], [], ['één'], ['lid'], [], [], [], ['programma_wet'], [], ['één'], ['lid'], [], [], [], [], [], [], [], [], [], [], ['elektronisch'], ['wijze'], [], ['verstuurd'], [], [], ['bekleegen'], [], [], ['elektronisch'], ['handtekening'], [], ['overeenstemt'], [], [], ['digitaal'], ['handtekening'], [], [], ['federaal'], ['overheid_dienst'], ['financiën'], [], [], [], ['certificaat'], ['afgeleverd'], [], [], ['kwalificeren'], [], [], [], ['zin'], [], ['artikel'], [], [], ['verordening'], [], [], [], [], [], [], [], [], [], [], ['Parlement'], [], [], ['raad'], ['betreffen'], ['elektronisch'], ['identificatie'], [], [], [], ['elektronisch'], ['transactie'], [], [], ['intern'], ['markt'], [], [], ['intrekking'], [], ['rich_tlijn'], [], ['beheers_ysteem'], [], [], ['identiteit'], [], ['toegang'], [], [], ['federaal'], ['overheid_dienst'], ['financiën'], [], [], ['toepassing'], [], [], ['op_maken'], [], [], ['kennisgeving'], ['garandeeren'], [], ['enkel'], [], ['wettelijk'], ['machtigden'], ['ambtenaar'], ['geldig'], [], ['kennisgeving'], ['bedoelen'], [], [], ['artikel'], [], ['quater'], [], [], ['één'], ['lid'], [], [], [], ['wbtw'], [], [], [], ['één'], ['lid'], [], [], [], [], [], [], ['één'], ['lid'], [], [], [], ['één'], ['lid'], [], [], [], ['programma_wet'], [], ['één'], ['lid'], [], [], [], [], [], [], [], [], [], [], ['vers_turen'], [], ['verzamellen'], [], [], ['beschermen'], [], ['passen'], ['technisch'], [], [], ['maatregel'], [], [], [], ['ambtenaar'], ['bedoelen'], [], [], ['artikel'], [], ['twee'], ['lid'], [], [], [], [], [], ['twee'], ['lid'], [], [], ['programma_wet'], [], [], [], [], ['attest'], [], ['erfop_volging'], [], ['op_stellen'], [], [], ['kantoor'], ['bedoelen'], [], ['artikel'], [], ['bis'], [], [], ['burgerlijk'], ['wetboek'], [], ['ambtenaar'], ['belasten'], [], [], ['opmaak'], [], [], ['attest'], [], [], [], ['attest'], [], [], ['akte'], [], ['erfop_volging'], [], ['op_stellen'], [], [], ['notaris'], [], ['notaris'], [], [], [], [], ['associeren'], ['notaris'], [], [], ['artikel'], [], [], [], [], ['koninklijk'], ['besluit'], [], ['uitvoering'], [], [], ['wetboek'], [], [], [], [], ['in_voegen'], [], [], ['koninklijk'], ['besluit'], [], [], [], [], [], ['wijzigen'], [], [], ['koninklijk'], ['besluit'], [], [], [], [], [], ['vervangen'], [], ['volgen'], [], [], [], [], ['vermelding'], [], [], ['voorkomen'], [], [], ['bericht'], ['bedoelen'], [], ['artikel'], [], ['bis'], [], [], ['wetboek'], [], [], [], [], [], ['op_nemen'], [], ['bijla_ge'], [], [], [], ['koninklijk'], ['besluit'], [], [], [], [], [], ['uitvoering'], [], [], ['artikel'], [], [], [], [], ['quinquie'], [], [], ['wetboek'], [], [], ['belasting'], [], [], ['toegevoegde'], ['waarde'], [], ['artikel'], [], ['bis'], [], [], [], [], [], ['wetboek'], [], [], [], [], [], ['artikel'], [], [], [], [], [], [], [], [], [], [], ['wetboek'], [], [], ['minnelijk'], [], ['dwingen'], ['invordering'], [], ['fiscaal'], [], ['fiscaal'], [], [], [], ['artikel'], [], [], [], [], [], [], [], ['programma_wet'], [], [], [], [], [], [], [], ['notariaat'], [], [], [], ['artikel'], [], [], ['hetzelfde'], ['besluit'], ['wijzigen'], [], [], ['koninklijk'], ['besluit'], [], [], [], [], [], [], ['woord'], [], ['bis'], ['op_heffen'], [], [], [], ['op_heffen'], [], ['artikel'], [], ['bis'], [], [], ['koninklijk'], ['besluit'], [], ['uitvoering'], [], [], ['wetboek'], [], [], [], [], ['in_voegen'], [], [], ['koninklijk'], ['besluit'], [], [], [], [], [], ['wijzigen'], [], [], ['koninklijk'], ['besluiten'], [], [], [], [], [], [], [], [], [], ['artikel'], [], [], [], ['koninklijk'], ['besluit'], [], [], [], [], [], [], [], ['betrekking'], [], [], ['toepassing'], [], [], ['belasting'], [], [], ['toegevoegde'], ['waarde'], ['wijzigen'], [], [], ['koninklijk'], ['besluiten'], [], [], [], [], [], [], [], [], [], [], [], ['koninklijk'], ['besluit'], [], [], [], [], ['houdenen'], ['uitvoering'], [], [], ['artikel'], [], [], [], [], [], ['programma_wet'], [], [], [], [], [], ['wijzigen'], [], ['koninklijk'], ['besluit'], [], [], [], [], [], [], ['minist_erieel'], ['besluit'], [], [], [], [], [], [], [], ['betrekking'], [], [], ['verplichting'], ['waartoe'], [], [], [], [], ['lid'], [], [], ['btw', 'eenheid'], [], [], ['zin'], [], ['artikel'], [], [], [], [], [], ['wetboek'], [], [], ['belasting'], [], [], ['toegevoegde'], ['waarde'], ['eigenaar'], [], [], [], ['Hypotheek'], ['vatbaar'], ['goed'], [], [], [], ['gedeelte'], ['ervan'], [], ['houder'], [], [], ['zakelijk'], ['recht'], [], [], ['dergelijk'], ['goed'], [], [], [], ['gedeelte'], ['ervan'], ['houden'], [], ['wijzigen'], [], [], ['minist_erieel'], ['besluit'], [], [], [], [], [], [], ['minist_erieel'], ['besluit'], [], [], [], [], [], ['betrekking'], [], [], ['aanduiding'], [], [], ['dienst'], ['bevoegd'], [], [], ['ontvangen'], [], [], ['bericht'], [], [], ['af_leveren'], [], [], [], [], [], ['kader'], [], [], ['systeem'], [], ['elektronisch'], ['notificatie'], [], [], ['federaal'], ['overheid_dienst'], ['financiën'], [], ['bepalen'], ['ministerieel'], ['officier'], ['openbaar'], ['ambtenaar'], [], [], ['persoon'], [], [], [], ['minist_erieel'], ['besluit'], [], [], [], [], [], ['bepaling'], [], [], ['model'], [], ['bericht'], [], ['kennisgeving'], [], ['bedoelen'], [], [], ['artikel'], [], [], [], [], ['quinquie'], [], [], ['wetboek'], [], [], ['belasting'], [], [], ['toegevoegde'], ['waarde'], [], [], [], ['artikel'], [], [], [], [], [], ['wetboek'], [], [], [], [], [], [], ['minist_erieel'], ['besluit'], [], [], [], [], [], ['bepaling'], [], [], ['modelbe_richt'], ['bedoelen'], [], ['artikel'], [], ['bis'], [], [], ['koninklijk'], ['besluit'], [], ['uitvoering'], [], [], ['wetboek'], [], [], [], [], [], [], [], ['minister'], ['bevoegd'], [], ['financiën'], [], ['belasten'], [], [], ['uitvoering'], [], [], ['besluit'], ['geven'], [], [], [], [], [], [], [], [], [], [], ['één'], ['minister'], [], ['minister'], [], ['financiën'], [], [], [], ['bijla_ge'], [], [], [], ['koninklijk'], ['besluit'], [], [], [], [], [], [], ['raadpleging'], [], [], ['tabel'], ['zien'], ['Beeldgezien'], [], ['voegen'], [], [], [], [], ['besluit'], [], [], [], [], [], [], [], [], [], ['één'], ['minister'], [], ['minister'], [], ['financiën'], [], [], [], ['bijla_ge'], [], [], [], ['koninklijk'], ['besluit'], [], [], [], [], [], [], ['raadpleging'], [], [], ['tabel'], ['zien'], ['beeld'], ['zien'], [], ['voegen'], [], [], [], [], ['besluit'], [], [], [], [], [], [], [], [], [], ['één'], ['minister'], [], ['minister'], [], ['financiën'], [], [], [], ['bijla_ge'], [], [], [], ['koninklijk'], ['besluit'], [], [], [], [], [], [], ['raadpleging'], [], [], ['tabel'], ['zien'], ['beeld'], ['zien'], [], ['voegen'], [], [], [], [], ['besluit'], [], [], [], [], [], [], [], [], [], ['één'], ['minister'], [], ['minister'], [], ['financiën'], [], [], [], ['bijla_ge'], [], [], [], ['koninklijk'], ['besluit'], [], [], [], [], [], [], ['raadpleging'], [], [], ['tabel'], ['zien'], ['beeld'], ['zien'], [], ['voegen'], [], [], [], [], ['besluit'], [], [], [], [], [], [], [], [], [], ['één'], ['minister'], [], ['minister'], [], ['financiën'], [], [], [], []]\n"
          ]
        }
      ]
    },
    {
      "cell_type": "markdown",
      "source": [
        "**NOTE**: The empty lists (within this extensive python list of individual Dutch words) are stripped off of words that are negligible (e.g. stopwords) and words that have to be retained (e.g. names of persons; complete article code numbers; etc.). **FINER PREPROCESSING VIA NER can be implemented in this part**. "
      ],
      "metadata": {
        "id": "XL3yqa7fHPS7"
      }
    },
    {
      "cell_type": "markdown",
      "source": [
        "### Creating the Dictionary and Corpus needed for Topic Modeling"
      ],
      "metadata": {
        "id": "GgN2SSzn2fTU"
      }
    },
    {
      "cell_type": "code",
      "source": [
        "# Creating Dictionary\n",
        "id2word = corpora.Dictionary(data_lemmatized)\n",
        "\n",
        "# Creating Corpus\n",
        "texts = data_lemmatized\n",
        "\n",
        "# Term Document Frequency\n",
        "corpus = [id2word.doc2bow(text) for text in texts]\n",
        "\n",
        "# Viewing corpus\n",
        "print(corpus)"
      ],
      "metadata": {
        "colab": {
          "base_uri": "https://localhost:8080/"
        },
        "id": "lp6FqTgr2hr8",
        "outputId": "f98bb904-a244-4107-eeae-fee789306b7d"
      },
      "execution_count": 18,
      "outputs": [
        {
          "output_type": "stream",
          "name": "stdout",
          "text": [
            "[[(0, 1)], [], [], [(1, 1)], [(2, 1)], [], [(3, 1)], [], [(4, 1)], [(5, 1)], [], [], [], [(6, 1)], [], [], [(7, 1)], [(8, 1)], [], [], [(9, 1)], [(10, 1)], [], [(11, 1)], [], [], [(12, 1)], [], [], [], [], [(13, 1)], [], [], [(14, 1)], [], [], [(15, 1)], [], [], [(16, 1)], [(17, 1)], [(18, 1)], [(19, 1)], [], [(12, 1)], [], [(20, 1)], [], [], [], [], [], [(14, 1)], [], [], [], [], [(18, 1)], [], [], [], [(12, 1)], [], [], [], [], [], [], [], [], [], [], [], [(14, 1)], [], [], [(21, 1)], [], [(22, 1)], [(23, 1)], [], [(24, 1)], [], [(24, 1)], [], [(18, 1)], [], [], [], [(12, 1)], [], [], [], [], [], [], [], [(25, 1)], [], [], [], [], [], [(18, 1)], [(25, 1)], [], [(26, 1)], [], [], [(27, 1)], [], [], [], [], [(28, 1)], [(24, 1)], [(29, 1)], [(30, 1)], [(31, 1)], [], [(32, 1)], [(33, 1)], [], [], [(27, 1)], [], [], [], [], [(28, 1)], [(34, 1)], [], [], [(14, 1)], [], [], [(15, 1)], [], [], [(16, 1)], [(17, 1)], [], [(14, 1)], [], [], [], [], [], [(14, 1)], [], [], [(21, 1)], [], [(22, 1)], [(23, 1)], [], [(24, 1)], [], [(24, 1)], [], [], [], [(25, 1)], [], [], [], [], [], [], [], [(35, 1)], [], [], [], [], [(36, 1)], [], [(37, 1)], [(38, 1)], [(39, 1)], [], [], [(40, 1)], [], [], [(41, 1)], [(42, 1)], [(43, 1)], [], [(44, 1)], [(45, 1)], [], [], [(46, 1)], [], [], [], [(47, 1)], [], [(48, 1)], [], [], [], [], [], [(49, 1)], [(50, 1)], [], [(51, 1)], [(52, 1)], [], [(53, 1)], [], [], [(51, 1)], [(54, 1)], [], [], [(55, 1)], [], [], [], [(56, 1)], [], [(57, 1)], [], [], [(58, 1)], [], [(59, 1)], [], [], [], [], [(12, 1)], [], [], [], [], [(19, 1)], [], [], [], [], [], [], [], [], [], [], [(60, 1)], [(61, 1)], [], [(62, 1)], [], [(61, 1)], [], [(63, 1)], [], [(64, 1)], [(65, 1)], [], [], [(61, 1)], [(28, 1)], [(66, 1)], [(67, 1)], [], [(68, 1)], [], [], [(69, 1)], [], [], [], [], [(51, 1)], [(54, 1)], [], [], [(56, 1)], [(57, 1)], [], [], [(70, 1)], [], [(71, 1)], [], [(72, 1)], [], [], [(73, 1)], [(74, 1)], [], [], [], [], [(75, 1)], [(76, 1)], [(33, 1)], [(77, 1)], [(78, 1)], [], [(79, 1)], [(80, 1)], [(81, 1)], [], [(82, 1)], [], [], [], [(83, 1)], [(84, 1)], [(5, 1)], [], [], [(85, 1)], [], [(86, 1)], [], [], [], [], [], [], [(87, 1)], [], [], [(88, 1)], [], [], [], [], [], [], [], [], [], [(89, 1)], [(12, 1)], [], [(73, 1)], [], [], [(90, 1)], [], [], [(91, 1)], [], [], [(92, 1)], [], [(93, 1)], [], [(11, 1)], [], [], [(19, 1)], [], [], [], [], [], [(25, 1)], [], [(94, 1)], [], [], [(95, 1)], [], [], [], [], [], [(5, 1)], [], [(12, 1)], [], [], [], [(96, 1)], [], [], [(90, 1)], [], [], [(92, 1)], [], [(93, 1)], [(97, 1)], [], [], [], [], [(98, 1)], [], [], [(99, 1)], [(100, 1)], [], [], [(101, 1)], [(12, 1), (102, 1)], [], [(103, 1)], [], [(104, 1)], [], [], [], [(92, 1)], [(60, 1)], [], [], [(12, 1)], [], [], [(19, 1)], [], [(20, 1)], [], [], [], [], [], [], [], [], [], [], [], [], [], [], [(25, 1)], [], [], [(105, 1)], [], [], [(92, 1)], [(106, 1)], [], [(107, 1)], [], [], [(108, 1)], [(109, 1)], [], [], [(99, 1)], [(100, 1)], [], [], [(105, 1)], [], [], [], [(110, 1)], [], [], [(111, 1)], [], [], [(64, 1)], [(65, 1)], [], [], [(68, 1)], [], [], [(112, 1)], [(113, 1)], [], [], [], [(114, 1)], [], [], [], [], [], [], [], [(112, 1)], [(113, 1)], [(115, 1)], [(103, 1)], [], [], [], [], [(12, 1)], [], [], [], [(60, 1)], [(104, 1)], [], [], [(116, 1)], [(117, 1)], [], [], [], [], [], [], [(92, 1)], [], [], [(118, 1)], [], [(119, 1)], [], [(92, 1)], [], [], [(99, 1)], [(100, 1)], [], [], [(120, 1)], [], [], [(121, 1)], [], [(106, 1)], [], [(107, 1)], [], [], [(108, 1)], [(109, 1)], [(12, 1)], [], [(122, 1)], [], [(108, 1)], [(123, 1)], [], [], [(51, 1)], [], [(99, 1)], [(100, 1)], [], [], [], [], [], [(99, 1)], [(124, 1)], [], [(49, 1)], [(57, 1)], [], [], [(51, 1)], [], [(125, 1)], [], [], [(126, 1)], [], [], [(51, 1)], [], [(127, 1)], [], [], [(99, 1)], [], [], [], [(80, 1)], [], [], [], [(128, 1)], [], [(83, 1)], [], [(57, 1)], [(56, 1)], [(129, 1)], [], [(51, 1)], [], [(130, 1)], [], [], [(12, 1)], [], [(131, 1)], [], [], [(19, 1)], [], [], [], [], [], [], [], [], [], [], [], [], [], [], [], [], [], [(25, 1)], [], [(132, 1)], [], [(51, 1)], [], [(133, 1)], [(134, 1)], [], [], [(41, 1)], [(42, 1)], [(43, 1)], [], [], [(135, 1)], [], [], [(99, 1)], [(124, 1)], [], [(136, 1)], [], [], [(137, 1)], [(124, 1)], [], [], [(41, 1)], [(42, 1)], [(43, 1)], [], [], [], [(138, 1)], [(139, 1)], [], [], [(140, 1)], [], [], [], [(141, 1)], [], [(12, 1)], [], [], [(142, 1)], [], [], [], [], [], [], [(143, 1)], [], [], [(87, 1)], [], [], [], [], [(144, 1)], [(99, 1)], [(145, 1)], [], [], [], [(99, 1)], [(146, 1)], [], [], [(147, 1)], [(148, 1)], [], [], [(149, 1)], [], [(150, 1)], [], [(74, 1)], [], [], [(99, 1)], [(51, 1)], [], [(151, 1)], [], [(152, 1)], [(153, 1)], [(154, 1)], [], [(127, 1)], [], [(155, 1)], [], [], [], [(71, 1)], [], [(72, 1)], [], [], [], [(156, 1)], [], [], [(157, 1)], [], [], [(70, 1)], [], [(72, 1)], [], [(158, 1)], [], [], [], [], [(51, 1)], [], [(159, 1)], [], [(126, 1)], [], [], [(12, 1)], [], [], [], [], [], [(25, 1)], [], [], [], [], [], [], [(160, 1)], [], [], [], [(159, 1)], [(161, 1)], [], [(126, 1)], [], [], [(12, 1)], [], [], [], [], [], [(25, 1)], [], [(12, 1)], [], [], [], [], [(162, 1)], [], [(88, 1)], [], [(163, 1)], [], [], [(91, 1)], [(119, 1)], [], [], [(163, 1)], [], [], [(164, 1)], [(165, 1)], [], [], [(166, 1)], [(12, 1)], [], [(103, 1)], [], [(104, 1)], [], [], [(90, 1)], [], [], [], [], [(160, 1)], [], [], [], [], [], [(167, 1)], [(168, 1)], [], [], [(71, 1)], [], [], [], [(156, 1)], [], [], [(157, 1)], [], [], [(70, 1)], [], [(72, 1)], [(12, 1)], [], [(26, 1)], [], [(12, 1)], [], [], [], [], [(4, 1)], [(5, 1)], [], [(11, 1)], [], [], [(14, 1)], [], [], [], [], [(18, 1)], [(169, 1)], [], [], [], [(170, 1)], [], [], [(171, 1)], [(12, 1)], [], [(172, 1)], [], [(108, 1)], [(173, 1)], [], [(12, 1)], [], [(169, 1)], [], [], [], [(174, 1)], [], [], [(175, 1)], [], [], [], [(176, 1)], [], [(12, 1)], [], [(20, 1)], [(169, 1)], [], [], [], [(12, 1)], [], [(20, 1)], [], [], [(12, 1)], [], [(177, 1)], [], [(178, 1)], [(33, 1)], [], [(76, 1)], [(179, 1)], [], [], [], [], [], [(36, 1)], [], [(85, 1)], [], [], [(83, 1)], [(5, 1)], [], [(12, 1)], [], [(20, 1)], [(169, 1)], [], [], [], [(180, 1)], [], [], [], [], [(181, 1)], [], [(12, 1)], [], [(20, 1)], [], [], [], [], [(76, 1)], [(182, 1)], [(183, 1)], [(184, 1)], [], [], [(12, 1)], [], [(185, 1)], [], [], [(104, 1)], [], [(57, 1)], [], [], [], [(92, 1)], [], [(186, 1)], [(187, 1)], [(188, 1)], [(189, 1)], [], [(12, 1)], [], [], [], [], [(190, 1)], [(191, 1)], [], [], [(19, 1)], [], [(192, 1)], [], [], [(110, 1)], [], [], [(111, 1)], [], [], [(64, 1)], [(65, 1)], [], [], [(68, 1)], [], [(193, 1)], [], [], [], [], [(194, 1)], [], [(192, 1)], [], [], [(5, 1)], [], [], [(110, 1)], [], [], [(111, 1)], [], [], [(64, 1)], [(65, 1)], [], [], [(68, 1)], [], [(193, 1)], [], [], [(112, 1)], [], [(195, 1)], [(12, 1)], [], [], [], [(4, 1)], [(5, 1)], [], [], [], [], [], [], [(185, 1)], [], [], [], [(4, 1)], [(5, 1)], [], [], [], [], [], [(185, 1)], [], [], [], [], [(5, 1)], [], [(181, 1)], [], [(126, 1)], [], [], [(27, 1)], [], [], [], [], [(28, 1)], [], [(196, 1)], [], [], [(197, 1)], [], [], [(198, 1)], [], [], [], [(199, 1)], [], [], [(200, 1)], [], [(201, 1)], [], [(202, 1)], [], [], [(203, 1)], [(204, 1)], [], [], [(205, 1)], [], [], [(45, 1)], [], [], [], [(99, 1)], [], [(206, 1)], [(207, 1)], [], [], [], [], [(208, 1)], [], [(12, 1)], [], [], [(96, 1)], [], [], [(27, 1)], [], [], [(209, 1)], [], [(44, 1)], [(210, 1)], [], [(211, 1)], [], [(212, 1)], [], [(213, 1)], [], [], [(214, 1)], [], [(215, 1)], [], [], [(216, 1)], [], [], [], [(217, 1)], [(218, 1)], [], [(219, 1)], [], [], [(105, 1)], [], [], [(41, 1)], [(42, 1)], [], [], [(220, 1)], [], [], [(221, 1)], [], [], [(99, 1)], [], [(206, 1)], [(207, 1)], [], [], [], [(222, 1)], [(5, 1)], [], [], [], [], [], [], [(185, 1)], [], [], [(223, 1)], [], [], [(70, 1)], [], [(224, 1)], [], [(66, 1)], [(67, 1)], [], [(225, 1)], [(165, 1)], [], [], [(226, 1)], [], [], [], [(191, 1)], [], [], [(227, 1), (228, 1)], [], [], [(229, 1)], [], [], [], [(55, 1)], [], [], [(24, 1)], [(117, 1)], [(230, 1)], [], [], [(231, 1)], [(215, 1)], [], [], [(200, 1)], [], [(57, 1)], [], [], [], [(92, 1)], [], [(186, 1)], [], [], [], [], [], [(232, 1)], [], [], [(233, 1)], [], [], [], [], [(92, 1)], [], [(93, 1)], [(96, 1)], [], [], [], [(12, 1)], [], [], [], [], [(13, 1)], [(19, 1)], [], [(12, 1)], [], [], [], [], [], [], [(12, 1)], [], [], [], [], [], [], [], [], [], [(12, 1)], [], [], [], [], [], [(25, 1)], [], [], [(222, 1)], [(5, 1)], [], [], [], [], [(185, 1)], [], [], [(234, 1)], [(90, 1)], [], [], [(91, 1)], [], [], [(92, 1)], [], [(93, 1)], [(60, 1)], [], [], [(12, 1)], [], [], [], [], [(13, 1)], [], [], [(19, 1)], [], [], [], [(12, 1)], [], [], [], [], [], [], [], [(187, 1)], [(235, 1)], [], [], [], [(236, 1)], [(5, 1)], [], [], [(222, 1)], [(5, 1)], [], [], [], [], [(185, 1)], [], [], [(222, 1)], [(5, 1)], [], [], [], [], [], [(33, 1)], [], [], [(237, 1)], [(60, 1)], [], [(12, 1)], [], [(20, 1)], [], [], [(4, 1)], [(5, 1)], [], [(11, 1)], [], [], [(14, 1)], [], [], [], [], [], [(185, 1)], [], [], [], [(181, 1)], [], [(238, 1)], [], [], [], [(5, 1)], [], [], [], [(6, 1)], [], [], [(2, 1)], [], [(7, 1)], [(8, 1)], [], [(239, 1)], [(240, 1)], [], [(239, 1)], [(241, 1)], [(242, 1)], [], [(190, 1)], [(243, 1)], [], [(243, 1)], [], [(43, 1)], [], [], [], [], [], [], [], [(4, 1)], [(5, 1)], [], [(11, 1)], [], [], [(12, 1)], [], [], [], [], [(13, 1)], [], [], [(14, 1)], [], [], [(15, 1)], [], [], [(16, 1)], [(17, 1)], [], [(12, 1)], [], [(20, 1)], [], [], [], [], [], [(14, 1)], [], [], [], [], [], [(12, 1)], [], [], [], [], [], [], [], [], [], [], [(14, 1)], [], [], [(21, 1)], [], [(22, 1)], [(23, 1)], [], [(24, 1)], [], [(24, 1)], [], [], [], [(12, 1)], [], [], [], [], [], [], [], [(25, 1)], [], [], [], [], [], [], [], [(244, 1)], [(1, 1)], [], [], [], [], [], [], [], [], [(18, 1)], [], [], [], [(245, 1)], [(246, 1)], [], [], [(247, 1)], [], [(12, 1)], [], [], [], [(246, 1)], [], [], [(25, 1)], [], [], [], [], [], [(12, 1)], [], [], [], [(190, 1)], [(191, 1)], [], [(248, 1)], [], [], [(27, 1)], [], [], [], [], [], [], [], [(248, 1)], [], [], [(27, 1)], [], [], [], [], [], [(248, 1)], [], [], [(27, 1)], [], [], [], [], [], [], [], [(190, 1)], [(191, 1)], [], [(190, 1)], [], [(249, 1)], [(250, 1)], [(251, 1)], [], [], [(27, 1)], [], [], [], [], [], [], [], [(251, 1)], [], [], [(27, 1)], [], [], [], [], [], [(251, 1)], [], [], [(27, 1)], [], [], [], [], [], [(190, 1)], [(191, 1)], [], [(248, 1)], [], [], [(27, 1)], [], [], [], [], [], [(190, 1)], [(191, 1)], [], [(251, 1)], [], [], [(27, 1)], [], [], [], [], [], [], [(249, 1)], [(191, 1)], [(248, 1)], [], [], [(27, 1)], [], [], [], [], [], [], [(248, 1)], [], [], [(27, 1)], [], [], [], [], [(246, 1)], [], [], [(27, 1)], [], [], [], [], [(28, 1)], [(24, 1)], [(29, 1)], [(30, 1)], [(31, 1)], [], [(32, 1)], [(33, 1)], [(12, 1)], [], [(246, 1)], [], [], [(14, 1)], [], [], [(15, 1)], [], [], [(16, 1)], [(17, 1)], [(12, 1)], [], [], [], [], [(190, 1)], [(191, 1)], [], [(251, 1)], [], [], [(27, 1)], [], [], [], [], [(248, 1)], [], [], [(27, 1)], [], [], [], [], [(185, 1)], [], [], [(27, 1)], [], [], [], [], [(252, 1)], [], [], [(253, 1)], [(60, 1)], [], [(12, 1)], [], [], [], [(27, 1)], [], [(26, 1)], [], [], [(27, 1)], [], [], [], [], [], [], [], [], [(251, 1)], [], [], [(27, 1)], [], [], [], [], [(248, 1)], [], [], [(27, 1)], [], [], [], [], [(185, 1)], [], [], [(27, 1)], [], [], [], [], [(252, 1)], [], [], [(253, 1)], [(60, 1)], [], [(12, 1)], [], [], [], [(27, 1)], [], [], [(185, 1)], [], [], [(27, 1)], [], [], [], [], [(252, 1)], [], [], [(253, 1)], [(60, 1)], [], [(12, 1)], [], [], [], [(27, 1)], [], [(131, 1)], [], [], [(190, 1)], [(191, 1)], [], [(251, 1)], [], [], [(27, 1)], [], [], [], [], [(248, 1)], [], [], [(27, 1)], [], [], [], [], [(185, 1)], [], [], [(27, 1)], [], [], [], [], [(252, 1)], [], [], [(253, 1)], [(60, 1)], [], [(12, 1)], [], [], [], [(27, 1)], [], [(13, 1)], [], [], [(251, 1)], [], [], [(27, 1)], [], [], [], [], [(248, 1)], [], [], [(27, 1)], [], [], [], [], [], [(185, 1)], [], [], [(27, 1)], [], [], [], [], [(252, 1)], [], [], [(253, 1)], [(60, 1)], [], [(12, 1)], [], [], [], [(27, 1)], [], [], [(13, 1)], [(185, 1)], [], [], [(27, 1)], [], [], [], [], [(252, 1)], [], [], [(253, 1)], [(60, 1)], [], [(12, 1)], [], [], [], [(27, 1)], [(246, 1)], [], [], [(14, 1)], [], [], [], [], [(12, 1)], [], [], [], [(248, 1)], [], [], [(27, 1)], [], [], [], [], [], [(20, 1)], [], [], [(254, 1)], [(191, 1)], [], [(248, 1)], [], [], [(27, 1)], [], [], [], [], [], [(20, 1)], [], [], [(248, 1)], [], [], [(27, 1)], [], [], [], [], [], [(20, 1)], [(248, 1)], [], [], [(27, 1)], [], [], [], [], [], [], [], [(190, 1)], [(191, 1)], [], [(248, 1)], [], [], [(27, 1)], [], [], [], [], [(185, 1)], [], [], [(27, 1)], [], [], [], [], [(252, 1)], [], [], [(253, 1)], [(60, 1)], [], [(12, 1)], [], [], [], [(27, 1)], [], [(26, 1)], [], [], [(27, 1)], [], [], [], [], [], [], [], [(248, 1)], [], [], [(27, 1)], [], [], [], [], [(185, 1)], [], [], [(27, 1)], [], [], [], [], [(252, 1)], [], [], [(253, 1)], [(60, 1)], [], [(12, 1)], [], [], [], [(27, 1)], [], [(185, 1)], [], [], [(27, 1)], [], [], [], [], [(252, 1)], [], [], [(253, 1)], [(60, 1)], [], [(12, 1)], [], [], [], [(27, 1)], [], [], [], [(190, 1)], [(191, 1)], [], [], [(248, 1)], [], [], [(27, 1)], [], [], [], [], [(185, 1)], [], [], [(27, 1)], [], [], [], [], [(252, 1)], [], [], [(253, 1)], [(60, 1)], [], [(12, 1)], [], [], [], [(27, 1)], [], [], [], [(248, 1)], [], [], [(27, 1)], [], [], [], [], [], [(185, 1)], [], [], [(27, 1)], [], [], [], [], [(252, 1)], [], [], [(253, 1)], [(60, 1)], [], [(12, 1)], [], [], [], [(27, 1)], [], [(185, 1)], [], [], [(27, 1)], [], [], [], [], [(252, 1)], [], [], [(253, 1)], [(60, 1)], [], [(12, 1)], [], [], [], [(27, 1)], [], [], [(190, 1)], [(191, 1)], [(26, 1)], [], [], [(27, 1)], [], [], [], [], [], [], [], [], [(246, 1)], [], [], [(14, 1)], [], [], [(21, 1)], [], [(22, 1)], [(23, 1)], [], [(24, 1)], [], [(24, 1)], [], [(255, 1)], [], [], [(27, 1)], [], [], [], [], [], [(12, 1)], [], [], [], [(190, 1)], [(191, 1)], [], [], [], [], [], [(26, 1)], [], [], [(27, 1)], [], [], [], [], [], [(190, 1)], [(191, 1)], [], [(26, 1)], [], [], [(27, 1)], [], [], [], [], [], [], [], [], [], [], [], [(190, 1)], [(191, 1)], [], [], [], [], [], [(26, 1)], [], [], [(27, 1)], [], [], [], [], [], [], [], [], [], [(249, 1)], [(191, 1)], [], [], [(246, 1)], [], [], [(4, 1)], [(5, 1)], [], [], [], [], [], [], [], [(256, 1)], [], [], [(126, 1)], [], [], [(15, 1)], [], [], [(16, 1)], [(17, 1)], [(246, 1)], [], [], [(4, 1)], [(5, 1)], [], [], [], [], [], [(11, 1)], [], [], [(14, 1)], [], [], [], [], [(246, 1)], [], [], [(4, 1)], [(5, 1)], [], [], [], [], [(28, 1)], [(11, 1)], [], [], [(12, 1)], [], [], [], [], [], [(25, 1)], [], [], [], [], [], [(246, 1)], [], [], [(222, 1)], [(5, 1)], [], [], [], [], [], [], [], [(256, 1)], [], [], [(210, 1)], [(257, 1)], [], [], [], [], [(191, 1)], [], [], [(227, 1), (228, 1)], [], [], [(141, 1)], [], [(12, 1)], [], [], [], [], [], [(14, 1)], [], [], [(15, 1)], [], [], [(16, 1)], [(17, 1)], [(110, 1)], [], [], [], [(258, 1)], [(69, 1)], [(68, 1)], [], [], [], [(259, 1)], [(183, 1)], [], [(111, 1)], [], [], [(64, 1)], [(65, 1)], [], [], [(260, 1)], [(68, 1)], [], [], [], [(259, 1)], [(183, 1)], [(165, 1)], [], [(246, 1)], [], [], [(222, 1)], [(5, 1)], [], [], [], [], [], [(256, 1)], [], [], [(261, 1)], [], [], [(200, 1)], [(57, 1)], [], [], [(186, 1)], [], [], [(92, 1)], [], [], [(262, 1)], [], [], [], [], [], [(233, 1)], [], [], [(263, 1)], [], [(99, 1)], [(264, 1)], [], [], [(41, 1)], [(42, 1)], [(43, 1)], [], [(96, 1)], [(265, 1)], [(266, 1)], [(267, 1)], [(104, 1)], [], [], [(56, 1)], [(246, 1)], [], [], [(222, 1)], [(5, 1)], [], [], [], [], [], [(33, 1)], [], [], [(268, 1)], [], [(92, 1)], [], [(51, 1)], [], [(60, 1)], [], [], [(12, 1)], [], [], [], [], [(13, 1)], [], [], [(14, 1)], [], [], [(15, 1)], [], [], [(16, 1)], [(17, 1)], [], [], [], [(12, 1)], [], [], [], [], [], [(14, 1)], [], [], [], [], [(246, 1)], [], [], [(222, 1)], [(5, 1)], [], [], [], [], [], [(33, 1)], [], [], [(237, 1)], [(60, 1)], [], [(12, 1)], [], [(20, 1)], [], [], [(4, 1)], [(5, 1)], [], [(11, 1)], [], [], [(14, 1)], [], [], [], [], [(246, 1)], [], [], [(86, 1)], [], [], [(269, 1)], [], [(43, 1)], [(88, 1)], [], [], [], [], [], [], [], [], [(246, 1)], [], [], [], [], [], [(190, 1)], [(243, 1)], [], [(243, 1)], [], [(270, 1)], [(88, 1)], [], [], [], [], [(246, 1)], [], [], [(86, 1)], [], [], [], [], [], [(88, 1)], [], [], [], [], [(246, 1)], [], [], [(271, 1)], [], [], [(272, 1)], [(165, 1)], [], [], [], [], [(246, 1)], [], [], [(86, 1)], [], [], [], [], [], [], [(87, 1)], [], [], [(88, 1)], [], [], [], [], [], [], [], [], [], [(126, 1)], [], [(12, 1)], [], [], [], [(190, 1)], [(191, 1)], [], [], [], [], [(27, 1)], [], [], [(87, 1)], [], [], [(273, 1)], [], [], [], [], [(274, 1)], [(12, 1)], [], [], [], [], [], [], [], [(27, 1)], [], [], [], [], [(28, 1)], [(196, 1)], [], [], [(197, 1)], [], [], [(198, 1)], [], [], [], [(199, 1)], [], [], [(200, 1)], [], [(201, 1)], [], [(202, 1)], [], [], [(203, 1)], [(204, 1)], [], [], [(205, 1)], [], [], [(45, 1)], [], [], [], [(99, 1)], [], [(206, 1)], [(207, 1)], [], [], [(5, 1)], [], [], [(95, 1)], [], [], [], [], [(105, 1)], [], [], [(200, 1)], [], [(44, 1)], [(45, 1)], [], [], [(275, 1)], [(276, 1)], [], [], [(190, 1)], [(243, 1)], [], [(12, 1)], [], [], [], [], [], [(27, 1)], [], [], [], [], [(28, 1)], [(32, 1)], [(33, 1)], [], [(44, 1)], [(45, 1)], [], [], [(277, 1)], [(278, 1)], [], [], [(279, 1)], [], [], [(190, 1)], [(243, 1)], [], [(243, 1)], [], [(43, 1)], [], [], [(280, 1)], [], [(280, 1)], [], [], [(12, 1)], [], [], [], [(126, 1)], [], [], [(5, 1)], [], [(281, 1)], [], [], [], [(14, 1)], [], [], [(21, 1)], [], [(22, 1)], [(23, 1)], [], [(24, 1)], [], [(24, 1)], [], [], [(25, 1)], [(25, 1)], [], [], [], [], [], [], [], [], [], [(14, 1)], [], [], [], [], [], [(19, 1)], [(14, 1)], [], [], [(15, 1)], [], [], [(16, 1)], [(17, 1)], [], [], [], [(282, 1)], [(283, 1)], [], [(284, 1)], [], [], [(285, 1)], [(286, 1)], [], [], [], [(158, 1)], [], [], [(70, 1)], [], [], [(71, 1)], [], [(72, 1)], [(60, 1)], [], [], [(12, 1)], [], [], [], [(190, 1)], [(191, 1)], [], [], [], [], [], [], [], [(190, 1)], [(191, 1)], [], [], [], [], [(190, 1)], [(191, 1)], [], [], [(25, 1)], [], [], [], [(90, 1)], [], [], [(91, 1)], [], [], [(92, 1)], [(287, 1)], [], [(11, 1)], [], [], [(12, 1)], [], [], [], [], [(19, 1)], [], [], [], [], [], [], [], [], [], [], [], [(77, 1)], [], [(238, 1)], [], [], [], [(5, 1)], [], [(90, 1)], [], [], [(91, 1)], [], [], [(93, 1)], [(287, 1)], [], [(11, 1)], [], [], [(12, 1)], [], [(13, 1)], [], [], [(19, 1)], [], [], [], [], [], [], [], [], [], [], [], [(77, 1)], [], [(238, 1)], [], [], [], [(5, 1)], [], [(90, 1)], [], [], [(91, 1)], [], [], [(92, 1)], [(287, 1)], [], [(11, 1)], [], [], [(12, 1)], [], [], [], [], [], [], [], [], [], [], [(25, 1)], [], [(77, 1)], [], [(238, 1)], [], [], [], [(5, 1)], [], [(90, 1)], [], [], [(91, 1)], [], [], [(92, 1)], [(287, 1)], [], [(11, 1)], [], [], [(12, 1)], [], [], [], [], [(19, 1)], [], [(20, 1)], [], [], [], [], [], [], [], [], [], [], [], [(77, 1)], [], [(238, 1)], [], [], [], [(5, 1)], [], [], [], [(90, 1)], [(288, 1)], [], [], [(92, 1)], [(60, 1)], [], [], [(12, 1)], [], [], [], [], [(19, 1)], [], [], [], [], [], [], [], [], [], [], [], [], [], [], [], [], [(25, 1)], [], [(97, 1)], [], [], [], [], [(99, 1)], [(100, 1)], [], [], [(101, 1)], [(102, 1)], [], [(105, 1)], [], [], [], [(90, 1)], [(288, 1)], [], [], [(93, 1)], [(60, 1)], [], [], [(12, 1)], [], [(13, 1)], [], [], [(19, 1)], [], [], [], [], [], [], [], [], [], [], [], [], [(97, 1)], [], [], [], [], [(99, 1)], [(100, 1)], [], [], [(101, 1)], [(102, 1)], [], [(105, 1)], [], [], [], [], [], [], [(92, 1)], [(106, 1)], [], [(107, 1)], [], [], [(108, 1)], [(109, 1)], [], [], [(99, 1)], [(100, 1)], [], [], [(105, 1)], [], [], [(12, 1)], [], [], [], [], [(190, 1)], [(191, 1)], [], [], [], [(19, 1)], [], [], [], [(190, 1)], [(191, 1)], [], [], [], [], [], [], [], [], [], [(190, 1)], [(191, 1)], [], [], [], [], [], [], [], [(110, 1)], [], [], [(111, 1)], [], [], [(64, 1)], [(65, 1)], [], [], [(68, 1)], [], [], [(112, 1)], [(113, 1)], [], [], [(49, 1)], [], [], [], [(92, 1)], [], [(101, 1)], [(102, 1)], [], [(105, 1)], [], [(49, 1)], [], [], [(289, 1)], [(208, 1)], [(23, 1)], [], [], [], [], [], [(92, 1)], [(106, 1)], [], [(107, 1)], [], [], [(108, 1)], [(109, 1)], [], [], [(99, 1)], [(100, 1)], [], [], [(105, 1)], [], [], [(12, 1)], [], [], [], [(190, 1)], [(191, 1)], [], [], [], [(25, 1)], [], [], [], [], [(190, 1)], [(191, 1)], [], [], [], [], [], [], [], [(114, 1)], [], [], [], [], [], [], [], [(112, 1)], [(113, 1)], [], [], [(49, 1)], [], [], [], [(92, 1)], [], [(101, 1)], [(102, 1)], [], [(105, 1)], [], [(49, 1)], [], [], [(289, 1)], [(208, 1)], [(23, 1)], [], [], [], [], [], [(92, 1)], [(106, 1)], [], [(107, 1)], [], [], [(108, 1)], [(109, 1)], [], [], [(99, 1)], [(100, 1)], [], [], [(105, 1)], [], [], [(12, 1)], [], [], [], [(190, 1)], [(191, 1)], [], [], [], [], [], [(190, 1)], [(191, 1)], [], [], [], [(25, 1)], [], [], [(104, 1)], [], [], [(116, 1)], [(117, 1)], [], [], [], [(60, 1)], [], [], [(12, 1)], [], [], [], [(190, 1)], [(191, 1)], [], [], [], [], [], [(190, 1)], [(191, 1)], [], [(249, 1)], [(250, 1)], [], [], [(25, 1)], [], [(290, 1)], [(291, 1)], [], [], [], [], [(92, 1)], [(106, 1)], [], [(107, 1)], [], [], [(108, 1)], [(109, 1)], [], [], [(99, 1)], [(100, 1)], [], [], [(105, 1)], [], [(12, 1)], [], [(20, 1)], [], [], [(254, 1)], [(191, 1)], [], [], [], [], [], [], [], [(49, 1)], [], [], [], [(92, 1)], [], [(101, 1)], [(102, 1)], [], [(105, 1)], [], [(49, 1)], [], [], [(289, 1)], [(208, 1)], [(23, 1)], [], [], [], [], [], [(51, 1)], [], [], [(12, 1)], [], [(131, 1)], [], [], [(190, 1)], [(191, 1)], [], [], [], [(19, 1)], [], [], [], [(190, 1)], [(191, 1)], [], [], [], [], [], [], [(190, 1)], [(191, 1)], [], [], [], [(190, 1)], [(191, 1)], [], [], [], [(25, 1)], [], [(190, 1)], [(191, 1)], [], [], [], [], [], [], [], [], [], [], [(99, 1)], [(100, 1)], [], [(292, 1)], [], [], [(135, 1)], [], [], [(99, 1)], [(124, 1)], [], [(136, 1)], [], [], [(137, 1)], [(124, 1)], [], [], [(41, 1)], [(42, 1)], [(43, 1)], [], [], [], [(138, 1)], [(139, 1)], [], [], [(140, 1)], [], [], [], [(141, 1)], [], [(12, 1)], [], [], [(142, 1)], [], [], [], [], [], [], [], [], [], [], [(143, 1)], [], [], [(87, 1)], [(144, 1)], [(99, 1)], [(145, 1)], [], [], [], [(99, 1)], [(146, 1)], [], [], [(147, 1)], [(148, 1)], [], [], [(149, 1)], [], [(150, 1)], [], [(293, 1)], [], [], [(294, 1)], [], [(125, 1)], [], [], [(41, 1)], [(42, 1)], [(43, 1)], [], [], [(126, 1)], [], [], [(295, 1)], [], [], [(51, 1)], [(296, 1)], [], [(83, 1)], [], [(76, 1)], [(297, 1)], [(104, 1)], [(129, 1)], [], [(51, 1)], [(60, 1)], [], [], [(12, 1)], [], [(131, 1)], [], [], [(190, 1)], [(191, 1)], [], [], [], [(19, 1)], [], [], [], [(190, 1)], [(191, 1)], [], [], [], [], [], [], [(190, 1)], [(191, 1)], [], [], [], [(190, 1)], [(191, 1)], [], [], [], [(25, 1)], [], [(190, 1)], [(191, 1)], [], [], [], [], [], [], [], [], [], [], [(132, 1)], [], [(298, 1)], [], [], [(299, 1)], [], [(300, 1)], [(108, 1)], [], [], [(301, 1)], [], [], [], [(104, 1)], [(60, 1)], [], [], [(12, 1)], [], [(249, 1)], [(191, 1)], [], [], [], [], [], [(249, 1)], [(191, 1)], [], [], [(25, 1)], [], [], [], [], [(71, 1)], [], [(72, 1)], [], [(302, 1)], [], [], [(303, 1)], [(60, 1)], [], [(12, 1)], [], [(20, 1)], [], [], [(304, 1)], [(14, 1)], [], [(104, 1)], [(305, 1)], [], [], [(306, 1)], [], [], [(71, 1)], [], [], [], [(71, 1)], [], [], [(70, 1)], [], [(72, 1)], [], [(302, 1)], [], [], [(55, 1)], [], [(55, 1)], [], [], [], [], [(307, 1)], [(55, 1)], [], [], [(12, 1)], [], [], [], [], [(4, 1)], [(5, 1)], [], [(11, 1)], [], [], [(14, 1)], [], [], [], [], [(251, 1)], [], [], [(4, 1)], [(5, 1)], [], [], [], [], [], [(26, 1)], [], [], [(4, 1)], [(5, 1)], [], [], [], [], [], [(248, 1)], [], [(89, 1)], [], [], [], [], [(90, 1)], [], [], [(91, 1)], [], [], [(92, 1)], [(60, 1)], [], [(12, 1)], [], [(20, 1)], [], [], [(14, 1)], [], [], [], [], [], [(77, 1)], [], [(238, 1)], [], [], [], [(4, 1)], [(5, 1)], [], [], [], [], [], [(11, 1)], [], [], [(12, 1)], [], [], [], [], [(13, 1)], [], [], [(14, 1)], [], [], [(15, 1)], [], [], [(16, 1)], [(17, 1)], [], [(12, 1)], [], [(20, 1)], [], [], [], [], [], [(14, 1)], [], [], [], [], [], [(12, 1)], [], [], [], [], [], [], [], [], [], [], [(14, 1)], [], [], [(21, 1)], [], [(22, 1)], [(23, 1)], [], [(24, 1)], [], [(24, 1)], [], [], [], [(12, 1)], [], [], [], [], [], [], [], [(25, 1)], [], [], [], [], [], [], [], [(36, 1)], [], [], [], [(12, 1)], [], [], [(308, 1)], [(5, 1)], [(26, 1)], [], [], [(4, 1)], [(5, 1)], [], [], [], [], [], [], [(309, 1)], [], [(20, 1)], [(185, 1)], [], [], [], [(185, 1)], [], [(12, 1)], [], [(20, 1)], [], [], [(4, 1)], [(5, 1)], [], [(11, 1)], [], [], [(14, 1)], [], [], [], [], [(251, 1)], [], [], [(4, 1)], [(5, 1)], [], [], [], [], [], [(26, 1)], [], [], [(4, 1)], [(280, 1)], [], [], [], [], [], [], [], [], [], [(12, 1)], [], [], [], [(4, 1)], [(5, 1)], [], [], [], [], [], [], [], [(256, 1)], [], [], [(126, 1)], [], [], [(15, 1)], [], [], [(16, 1)], [(17, 1)], [(26, 1)], [], [], [(4, 1)], [(280, 1)], [], [], [], [], [], [], [], [], [], [], [], [(4, 1)], [(5, 1)], [], [], [], [], [(28, 1)], [(11, 1)], [], [], [(12, 1)], [], [], [], [], [], [(25, 1)], [], [], [], [], [], [(26, 1)], [], [(4, 1)], [(5, 1)], [], [], [], [], [], [], [(222, 1)], [(5, 1)], [], [], [], [], [], [], [], [(256, 1)], [], [], [(210, 1)], [(257, 1)], [], [], [], [], [(191, 1)], [], [], [(227, 1), (228, 1)], [], [], [(141, 1)], [], [(12, 1)], [], [], [], [], [], [(14, 1)], [], [], [(15, 1)], [], [], [(16, 1)], [(17, 1)], [(110, 1)], [], [], [], [(258, 1)], [(69, 1)], [(68, 1)], [], [], [], [(259, 1)], [(183, 1)], [], [(111, 1)], [], [], [(64, 1)], [(65, 1)], [], [], [(260, 1)], [(68, 1)], [], [], [], [(259, 1)], [(183, 1)], [(165, 1)], [], [(26, 1)], [], [], [(222, 1)], [(5, 1)], [], [], [], [], [], [], [(222, 1)], [(5, 1)], [], [], [], [], [], [(256, 1)], [], [], [(261, 1)], [], [], [(200, 1)], [(57, 1)], [], [], [(186, 1)], [], [], [(92, 1)], [], [], [(262, 1)], [], [], [], [], [], [(233, 1)], [], [], [(263, 1)], [], [(99, 1)], [(264, 1)], [], [], [(41, 1)], [(42, 1)], [(43, 1)], [], [(96, 1)], [(265, 1)], [(266, 1)], [(267, 1)], [(104, 1)], [], [], [(56, 1)], [], [], [], [(222, 1)], [(5, 1)], [], [], [], [], [], [(33, 1)], [], [], [(268, 1)], [], [(92, 1)], [], [(51, 1)], [], [(60, 1)], [], [], [(12, 1)], [], [], [], [], [(13, 1)], [], [], [(14, 1)], [], [], [(15, 1)], [], [], [(16, 1)], [(17, 1)], [], [], [], [(12, 1)], [], [], [], [], [], [(14, 1)], [], [], [], [], [], [], [(222, 1)], [(5, 1)], [], [], [], [], [], [(33, 1)], [], [], [(237, 1)], [(60, 1)], [], [(12, 1)], [], [(20, 1)], [], [], [(4, 1)], [(5, 1)], [], [(11, 1)], [], [], [(14, 1)], [], [], [], [], [], [], [], [(243, 1)], [(57, 1)], [], [(43, 1)], [], [(305, 1)], [], [], [(11, 1)], [], [], [(5, 1)], [(88, 1)], [], [], [], [], [], [], [], [], [], [], [(190, 1)], [(243, 1)], [], [(243, 1)], [], [(43, 1)], [], [], [], [(238, 1)], [], [], [], [(4, 1)], [(5, 1)], [], [], [], [], [], [], [(310, 1)], [], [], [(311, 1)], [(312, 1)], [(313, 1)], [], [(314, 1)], [], [], [], [], [(5, 1)], [], [], [], [], [], [], [], [], [], [(190, 1)], [(243, 1)], [], [(243, 1)], [], [(43, 1)], [], [], [], [(238, 1)], [], [], [], [(4, 1)], [(5, 1)], [], [], [], [], [], [], [(310, 1)], [], [], [(311, 1)], [(312, 1)], [(315, 1)], [(312, 1)], [], [(314, 1)], [], [], [], [], [(5, 1)], [], [], [], [], [], [], [], [], [], [(190, 1)], [(243, 1)], [], [(243, 1)], [], [(43, 1)], [], [], [], [(238, 1)], [], [], [], [(4, 1)], [(5, 1)], [], [], [], [], [], [], [(310, 1)], [], [], [(311, 1)], [(312, 1)], [(315, 1)], [(312, 1)], [], [(314, 1)], [], [], [], [], [(5, 1)], [], [], [], [], [], [], [], [], [], [(190, 1)], [(243, 1)], [], [(243, 1)], [], [(43, 1)], [], [], [], [(238, 1)], [], [], [], [(4, 1)], [(5, 1)], [], [], [], [], [], [], [(310, 1)], [], [], [(311, 1)], [(312, 1)], [(315, 1)], [(312, 1)], [], [(314, 1)], [], [], [], [], [(5, 1)], [], [], [], [], [], [], [], [], [], [(190, 1)], [(243, 1)], [], [(243, 1)], [], [(43, 1)], [], [], [], []]\n"
          ]
        }
      ]
    },
    {
      "cell_type": "markdown",
      "source": [
        "Gensim creates a unique id for each word in the document. The produced corpus shown above is a mapping of (word_id, word_frequency).\n",
        "\n",
        "For example, (0, 1) above implies, **word id 0 occurs once** in the document. Likewise, **word id 1 occurs once too**, and so on.\n",
        "\n",
        "This is used as the input by the LDA model.\n",
        "\n",
        "If you want to see what word a given id corresponds to, pass the id as a key to the dictionary. (From https://www.machinelearningplus.com/nlp/topic-modeling-gensim-python/)"
      ],
      "metadata": {
        "id": "mat49mSv24fY"
      }
    },
    {
      "cell_type": "code",
      "source": [
        "# Passing the id as a key to the dictionary to see what word a given ID corresponds to\n",
        "id2word[0]"
      ],
      "metadata": {
        "colab": {
          "base_uri": "https://localhost:8080/",
          "height": 35
        },
        "id": "iCYlDxcR2050",
        "outputId": "24fdb5bd-41da-4250-8c12-fc0f85288f86"
      },
      "execution_count": 19,
      "outputs": [
        {
          "output_type": "execute_result",
          "data": {
            "text/plain": [
              "'verslag'"
            ],
            "application/vnd.google.colaboratory.intrinsic+json": {
              "type": "string"
            }
          },
          "metadata": {},
          "execution_count": 19
        }
      ]
    },
    {
      "cell_type": "code",
      "source": [
        "# Human readable format of corpus (term-frequency)\n",
        "[[(id2word[id], freq) for id, freq in cp] for cp in corpus]"
      ],
      "metadata": {
        "colab": {
          "base_uri": "https://localhost:8080/"
        },
        "id": "P6HbEyFs3STL",
        "outputId": "d77cd993-6c06-4ccd-87ec-d571f2af5d28"
      },
      "execution_count": 20,
      "outputs": [
        {
          "output_type": "execute_result",
          "data": {
            "text/plain": [
              "[[('verslag', 1)],\n",
              " [],\n",
              " [],\n",
              " [('koning', 1)],\n",
              " [('sire', 1)],\n",
              " [],\n",
              " [('ontwerp', 1)],\n",
              " [],\n",
              " [('koninklijk', 1)],\n",
              " [('besluit', 1)],\n",
              " [],\n",
              " [],\n",
              " [],\n",
              " [('eer', 1)],\n",
              " [],\n",
              " [],\n",
              " [('uwe', 1)],\n",
              " [('majesteit', 1)],\n",
              " [],\n",
              " [],\n",
              " [('leggen', 1)],\n",
              " [('beogen', 1)],\n",
              " [],\n",
              " [('uitvoering', 1)],\n",
              " [],\n",
              " [],\n",
              " [('artikel', 1)],\n",
              " [],\n",
              " [],\n",
              " [],\n",
              " [],\n",
              " [('quinquie', 1)],\n",
              " [],\n",
              " [],\n",
              " [('wetboek', 1)],\n",
              " [],\n",
              " [],\n",
              " [('belasting', 1)],\n",
              " [],\n",
              " [],\n",
              " [('toegevoegde', 1)],\n",
              " [('waarde', 1)],\n",
              " [('hierna', 1)],\n",
              " [('wbtw', 1)],\n",
              " [],\n",
              " [('artikel', 1)],\n",
              " [],\n",
              " [('bis', 1)],\n",
              " [],\n",
              " [],\n",
              " [],\n",
              " [],\n",
              " [],\n",
              " [('wetboek', 1)],\n",
              " [],\n",
              " [],\n",
              " [],\n",
              " [],\n",
              " [('hierna', 1)],\n",
              " [],\n",
              " [],\n",
              " [],\n",
              " [('artikel', 1)],\n",
              " [],\n",
              " [],\n",
              " [],\n",
              " [],\n",
              " [],\n",
              " [],\n",
              " [],\n",
              " [],\n",
              " [],\n",
              " [],\n",
              " [],\n",
              " [('wetboek', 1)],\n",
              " [],\n",
              " [],\n",
              " [('minnelijk', 1)],\n",
              " [],\n",
              " [('dwingen', 1)],\n",
              " [('invordering', 1)],\n",
              " [],\n",
              " [('fiscaal', 1)],\n",
              " [],\n",
              " [('fiscaal', 1)],\n",
              " [],\n",
              " [('hierna', 1)],\n",
              " [],\n",
              " [],\n",
              " [],\n",
              " [('artikel', 1)],\n",
              " [],\n",
              " [],\n",
              " [],\n",
              " [],\n",
              " [],\n",
              " [],\n",
              " [],\n",
              " [('programma_wet', 1)],\n",
              " [],\n",
              " [],\n",
              " [],\n",
              " [],\n",
              " [],\n",
              " [('hierna', 1)],\n",
              " [('programma_wet', 1)],\n",
              " [],\n",
              " [('wijzigen', 1)],\n",
              " [],\n",
              " [],\n",
              " [('wet', 1)],\n",
              " [],\n",
              " [],\n",
              " [],\n",
              " [],\n",
              " [('houdenen', 1)],\n",
              " [('fiscaal', 1)],\n",
              " [('_fraude', 1)],\n",
              " [('bestrijden', 1)],\n",
              " [('financieel', 1)],\n",
              " [],\n",
              " [('divers', 1)],\n",
              " [('bepaling', 1)],\n",
              " [],\n",
              " [],\n",
              " [('wet', 1)],\n",
              " [],\n",
              " [],\n",
              " [],\n",
              " [],\n",
              " [('houdenen', 1)],\n",
              " [('wijziging', 1)],\n",
              " [],\n",
              " [],\n",
              " [('wetboek', 1)],\n",
              " [],\n",
              " [],\n",
              " [('belasting', 1)],\n",
              " [],\n",
              " [],\n",
              " [('toegevoegde', 1)],\n",
              " [('waarde', 1)],\n",
              " [],\n",
              " [('wetboek', 1)],\n",
              " [],\n",
              " [],\n",
              " [],\n",
              " [],\n",
              " [],\n",
              " [('wetboek', 1)],\n",
              " [],\n",
              " [],\n",
              " [('minnelijk', 1)],\n",
              " [],\n",
              " [('dwingen', 1)],\n",
              " [('invordering', 1)],\n",
              " [],\n",
              " [('fiscaal', 1)],\n",
              " [],\n",
              " [('fiscaal', 1)],\n",
              " [],\n",
              " [],\n",
              " [],\n",
              " [('programma_wet', 1)],\n",
              " [],\n",
              " [],\n",
              " [],\n",
              " [],\n",
              " [],\n",
              " [],\n",
              " [],\n",
              " [('verwerking', 1)],\n",
              " [],\n",
              " [],\n",
              " [],\n",
              " [],\n",
              " [('notariaat', 1)],\n",
              " [],\n",
              " [('nieuw', 1)],\n",
              " [('werkwijze', 1)],\n",
              " [('kaderen', 1)],\n",
              " [],\n",
              " [],\n",
              " [('moderni_sering', 1)],\n",
              " [],\n",
              " [],\n",
              " [('federaal', 1)],\n",
              " [('overheid_dienst', 1)],\n",
              " [('financiën', 1)],\n",
              " [],\n",
              " [('administratief', 1)],\n",
              " [('vereenvoudiging', 1)],\n",
              " [],\n",
              " [],\n",
              " [('koste_nbesparing', 1)],\n",
              " [],\n",
              " [],\n",
              " [],\n",
              " [('hoofd_doel', 1)],\n",
              " [],\n",
              " [('in_stellen', 1)],\n",
              " [],\n",
              " [],\n",
              " [],\n",
              " [],\n",
              " [],\n",
              " [('ontvanger', 1)],\n",
              " [('toe_laten', 1)],\n",
              " [],\n",
              " [('kennisgeving', 1)],\n",
              " [('elek_tronisch', 1)],\n",
              " [],\n",
              " [('verzenden', 1)],\n",
              " [],\n",
              " [],\n",
              " [('kennisgeving', 1)],\n",
              " [('bestemmen', 1)],\n",
              " [],\n",
              " [],\n",
              " [('notaris', 1)],\n",
              " [],\n",
              " [],\n",
              " [],\n",
              " [('persoon', 1)],\n",
              " [],\n",
              " [('bevoegd', 1)],\n",
              " [],\n",
              " [],\n",
              " [('authenticiteit', 1)],\n",
              " [],\n",
              " [('verlenen', 1)],\n",
              " [],\n",
              " [],\n",
              " [],\n",
              " [],\n",
              " [('artikel', 1)],\n",
              " [],\n",
              " [],\n",
              " [],\n",
              " [],\n",
              " [('wbtw', 1)],\n",
              " [],\n",
              " [],\n",
              " [],\n",
              " [],\n",
              " [],\n",
              " [],\n",
              " [],\n",
              " [],\n",
              " [],\n",
              " [],\n",
              " [('bedoelen', 1)],\n",
              " [('akt', 1)],\n",
              " [],\n",
              " [('naam', 1)],\n",
              " [],\n",
              " [('akt', 1)],\n",
              " [],\n",
              " [('overdracht', 1)],\n",
              " [],\n",
              " [('zakelijk', 1)],\n",
              " [('recht', 1)],\n",
              " [],\n",
              " [],\n",
              " [('akt', 1)],\n",
              " [('houdenen', 1)],\n",
              " [('hypothecair', 1)],\n",
              " [('aanwending', 1)],\n",
              " [],\n",
              " [('goed', 1)],\n",
              " [],\n",
              " [],\n",
              " [('vatbaar', 1)],\n",
              " [],\n",
              " [],\n",
              " [],\n",
              " [],\n",
              " [('kennisgeving', 1)],\n",
              " [('bestemmen', 1)],\n",
              " [],\n",
              " [],\n",
              " [('persoon', 1)],\n",
              " [('bevoegd', 1)],\n",
              " [],\n",
              " [],\n",
              " [('akte', 1)],\n",
              " [],\n",
              " [('attest', 1)],\n",
              " [],\n",
              " [('erfop_volging', 1)],\n",
              " [],\n",
              " [],\n",
              " [('stellen', 1)],\n",
              " [('bovendien', 1)],\n",
              " [],\n",
              " [],\n",
              " [],\n",
              " [],\n",
              " [('voornoemd', 1)],\n",
              " [('wettelijk', 1)],\n",
              " [('bepaling', 1)],\n",
              " [('op_nemen', 1)],\n",
              " [('praktisch', 1)],\n",
              " [],\n",
              " [('eenvormig', 1)],\n",
              " [('maken', 1)],\n",
              " [('waardoor', 1)],\n",
              " [],\n",
              " [('verschillend', 1)],\n",
              " [],\n",
              " [],\n",
              " [],\n",
              " [('enkel', 1)],\n",
              " [('reglementair', 1)],\n",
              " [('besluit', 1)],\n",
              " [],\n",
              " [],\n",
              " [('samen_brengen', 1)],\n",
              " [],\n",
              " [('advies', 1)],\n",
              " [],\n",
              " [],\n",
              " [],\n",
              " [],\n",
              " [],\n",
              " [],\n",
              " [('raad', 1)],\n",
              " [],\n",
              " [],\n",
              " [('geven', 1)],\n",
              " [],\n",
              " [],\n",
              " [],\n",
              " [],\n",
              " [],\n",
              " [],\n",
              " [],\n",
              " [],\n",
              " [],\n",
              " [('volgen', 1)],\n",
              " [('artikel', 1)],\n",
              " [],\n",
              " [('stellen', 1)],\n",
              " [],\n",
              " [],\n",
              " [('vermelding', 1)],\n",
              " [],\n",
              " [],\n",
              " [('voorkomen', 1)],\n",
              " [],\n",
              " [],\n",
              " [('bericht', 1)],\n",
              " [],\n",
              " [('inlichting', 1)],\n",
              " [],\n",
              " [('uitvoering', 1)],\n",
              " [],\n",
              " [],\n",
              " [('wbtw', 1)],\n",
              " [],\n",
              " [],\n",
              " [],\n",
              " [],\n",
              " [],\n",
              " [('programma_wet', 1)],\n",
              " [],\n",
              " [('bijgevoegd', 1)],\n",
              " [],\n",
              " [],\n",
              " [('bijlag', 1)],\n",
              " [],\n",
              " [],\n",
              " [],\n",
              " [],\n",
              " [],\n",
              " [('besluit', 1)],\n",
              " [],\n",
              " [('artikel', 1)],\n",
              " [],\n",
              " [],\n",
              " [],\n",
              " [('bepalen', 1)],\n",
              " [],\n",
              " [],\n",
              " [('vermelding', 1)],\n",
              " [],\n",
              " [],\n",
              " [('bericht', 1)],\n",
              " [],\n",
              " [('inlichting', 1)],\n",
              " [('identiek', 1)],\n",
              " [],\n",
              " [],\n",
              " [],\n",
              " [],\n",
              " [('gebruiken', 1)],\n",
              " [],\n",
              " [],\n",
              " [('elektronisch', 1)],\n",
              " [('wijze', 1)],\n",
              " [],\n",
              " [],\n",
              " [('aangetekend', 1)],\n",
              " [('artikel', 1), ('zending', 1)],\n",
              " [],\n",
              " [('specificeren', 1)],\n",
              " [],\n",
              " [('ambtenaar', 1)],\n",
              " [],\n",
              " [],\n",
              " [],\n",
              " [('bericht', 1)],\n",
              " [('bedoelen', 1)],\n",
              " [],\n",
              " [],\n",
              " [('artikel', 1)],\n",
              " [],\n",
              " [],\n",
              " [('wbtw', 1)],\n",
              " [],\n",
              " [('bis', 1)],\n",
              " [],\n",
              " [],\n",
              " [],\n",
              " [],\n",
              " [],\n",
              " [],\n",
              " [],\n",
              " [],\n",
              " [],\n",
              " [],\n",
              " [],\n",
              " [],\n",
              " [],\n",
              " [],\n",
              " [('programma_wet', 1)],\n",
              " [],\n",
              " [],\n",
              " [('mee_delen', 1)],\n",
              " [],\n",
              " [],\n",
              " [('bericht', 1)],\n",
              " [('omwille', 1)],\n",
              " [],\n",
              " [('overmacht', 1)],\n",
              " [],\n",
              " [],\n",
              " [('technisch', 1)],\n",
              " [('storing', 1)],\n",
              " [],\n",
              " [],\n",
              " [('elektronisch', 1)],\n",
              " [('wijze', 1)],\n",
              " [],\n",
              " [],\n",
              " [('mee_delen', 1)],\n",
              " [],\n",
              " [],\n",
              " [],\n",
              " [('eigenaar', 1)],\n",
              " [],\n",
              " [],\n",
              " [('houder', 1)],\n",
              " [],\n",
              " [],\n",
              " [('zakelijk', 1)],\n",
              " [('recht', 1)],\n",
              " [],\n",
              " [],\n",
              " [('goed', 1)],\n",
              " [],\n",
              " [],\n",
              " [('buitenland', 1)],\n",
              " [('verblijven', 1)],\n",
              " [],\n",
              " [],\n",
              " [],\n",
              " [('erflater', 1)],\n",
              " [],\n",
              " [],\n",
              " [],\n",
              " [],\n",
              " [],\n",
              " [],\n",
              " [],\n",
              " [('buitenland', 1)],\n",
              " [('verblijven', 1)],\n",
              " [('daarnaast', 1)],\n",
              " [('specificeren', 1)],\n",
              " [],\n",
              " [],\n",
              " [],\n",
              " [],\n",
              " [('artikel', 1)],\n",
              " [],\n",
              " [],\n",
              " [],\n",
              " [('bedoelen', 1)],\n",
              " [('ambtenaar', 1)],\n",
              " [],\n",
              " [],\n",
              " [('algemeen', 1)],\n",
              " [('administratie', 1)],\n",
              " [],\n",
              " [],\n",
              " [],\n",
              " [],\n",
              " [],\n",
              " [],\n",
              " [('bericht', 1)],\n",
              " [],\n",
              " [],\n",
              " [('adresseren', 1)],\n",
              " [],\n",
              " [('geval', 1)],\n",
              " [],\n",
              " [('bericht', 1)],\n",
              " [],\n",
              " [],\n",
              " [('elektronisch', 1)],\n",
              " [('wijze', 1)],\n",
              " [],\n",
              " [],\n",
              " [('kenn_isgegeven', 1)],\n",
              " [],\n",
              " [],\n",
              " [('stafd_ienst', 1)],\n",
              " [],\n",
              " [('omwille', 1)],\n",
              " [],\n",
              " [('overmacht', 1)],\n",
              " [],\n",
              " [],\n",
              " [('technisch', 1)],\n",
              " [('storing', 1)],\n",
              " [('artikel', 1)],\n",
              " [],\n",
              " [('omschrijven', 1)],\n",
              " [],\n",
              " [('technisch', 1)],\n",
              " [('specificatie', 1)],\n",
              " [],\n",
              " [],\n",
              " [('kennisgeving', 1)],\n",
              " [],\n",
              " [('elektronisch', 1)],\n",
              " [('wijze', 1)],\n",
              " [],\n",
              " [],\n",
              " [],\n",
              " [],\n",
              " [],\n",
              " [('elektronisch', 1)],\n",
              " [('handtekening', 1)],\n",
              " [],\n",
              " [('ontvanger', 1)],\n",
              " [('bevoegd', 1)],\n",
              " [],\n",
              " [],\n",
              " [('kennisgeving', 1)],\n",
              " [],\n",
              " [('toegang', 1)],\n",
              " [],\n",
              " [],\n",
              " [('toepassing', 1)],\n",
              " [],\n",
              " [],\n",
              " [('kennisgeving', 1)],\n",
              " [],\n",
              " [('middel', 1)],\n",
              " [],\n",
              " [],\n",
              " [('elektronisch', 1)],\n",
              " [],\n",
              " [],\n",
              " [],\n",
              " [('maken', 1)],\n",
              " [],\n",
              " [],\n",
              " [],\n",
              " [('zorgen', 1)],\n",
              " [],\n",
              " [('enkel', 1)],\n",
              " [],\n",
              " [('bevoegd', 1)],\n",
              " [('persoon', 1)],\n",
              " [('geldig', 1)],\n",
              " [],\n",
              " [('kennisgeving', 1)],\n",
              " [],\n",
              " [('grond', 1)],\n",
              " [],\n",
              " [],\n",
              " [('artikel', 1)],\n",
              " [],\n",
              " [('quater', 1)],\n",
              " [],\n",
              " [],\n",
              " [('wbtw', 1)],\n",
              " [],\n",
              " [],\n",
              " [],\n",
              " [],\n",
              " [],\n",
              " [],\n",
              " [],\n",
              " [],\n",
              " [],\n",
              " [],\n",
              " [],\n",
              " [],\n",
              " [],\n",
              " [],\n",
              " [],\n",
              " [],\n",
              " [],\n",
              " [('programma_wet', 1)],\n",
              " [],\n",
              " [('vers_turen', 1)],\n",
              " [],\n",
              " [('kennisgeving', 1)],\n",
              " [],\n",
              " [('vervolgens', 1)],\n",
              " [('certificeren', 1)],\n",
              " [],\n",
              " [],\n",
              " [('federaal', 1)],\n",
              " [('overheid_dienst', 1)],\n",
              " [('financiën', 1)],\n",
              " [],\n",
              " [],\n",
              " [('bekleegen', 1)],\n",
              " [],\n",
              " [],\n",
              " [('elektronisch', 1)],\n",
              " [('handtekening', 1)],\n",
              " [],\n",
              " [('overeenstemt', 1)],\n",
              " [],\n",
              " [],\n",
              " [('digitaal', 1)],\n",
              " [('handtekening', 1)],\n",
              " [],\n",
              " [],\n",
              " [('federaal', 1)],\n",
              " [('overheid_dienst', 1)],\n",
              " [('financiën', 1)],\n",
              " [],\n",
              " [],\n",
              " [],\n",
              " [('certificaat', 1)],\n",
              " [('afgeleverd', 1)],\n",
              " [],\n",
              " [],\n",
              " [('kwalificeren', 1)],\n",
              " [],\n",
              " [],\n",
              " [],\n",
              " [('zin', 1)],\n",
              " [],\n",
              " [('artikel', 1)],\n",
              " [],\n",
              " [],\n",
              " [('verordening', 1)],\n",
              " [],\n",
              " [],\n",
              " [],\n",
              " [],\n",
              " [],\n",
              " [],\n",
              " [('Parlement', 1)],\n",
              " [],\n",
              " [],\n",
              " [('raad', 1)],\n",
              " [],\n",
              " [],\n",
              " [],\n",
              " [],\n",
              " [('betreffen', 1)],\n",
              " [('elektronisch', 1)],\n",
              " [('identificatie', 1)],\n",
              " [],\n",
              " [],\n",
              " [],\n",
              " [('elektronisch', 1)],\n",
              " [('transactie', 1)],\n",
              " [],\n",
              " [],\n",
              " [('intern', 1)],\n",
              " [('markt', 1)],\n",
              " [],\n",
              " [],\n",
              " [('intrekking', 1)],\n",
              " [],\n",
              " [('rich_tlijn', 1)],\n",
              " [],\n",
              " [('bovendien', 1)],\n",
              " [],\n",
              " [],\n",
              " [('elektronisch', 1)],\n",
              " [('kennisgeving', 1)],\n",
              " [],\n",
              " [('veiligheid', 1)],\n",
              " [],\n",
              " [('uitgewisselde', 1)],\n",
              " [('informatie', 1)],\n",
              " [('verzekeren', 1)],\n",
              " [],\n",
              " [('middel', 1)],\n",
              " [],\n",
              " [('aangepaste', 1)],\n",
              " [],\n",
              " [],\n",
              " [],\n",
              " [('attest', 1)],\n",
              " [],\n",
              " [('erfop_volging', 1)],\n",
              " [],\n",
              " [],\n",
              " [],\n",
              " [('voet', 1)],\n",
              " [],\n",
              " [],\n",
              " [('uit_gifte', 1)],\n",
              " [],\n",
              " [],\n",
              " [('akte', 1)],\n",
              " [],\n",
              " [('erfop_volging', 1)],\n",
              " [],\n",
              " [('vermellen', 1)],\n",
              " [],\n",
              " [],\n",
              " [],\n",
              " [],\n",
              " [('kennisgeving', 1)],\n",
              " [],\n",
              " [('schuld', 1)],\n",
              " [],\n",
              " [('toepassing', 1)],\n",
              " [],\n",
              " [],\n",
              " [('artikel', 1)],\n",
              " [],\n",
              " [],\n",
              " [],\n",
              " [],\n",
              " [],\n",
              " [('programma_wet', 1)],\n",
              " [],\n",
              " [],\n",
              " [],\n",
              " [],\n",
              " [],\n",
              " [],\n",
              " [('doen', 1)],\n",
              " [],\n",
              " [],\n",
              " [],\n",
              " [('schuld', 1)],\n",
              " [('waarvan', 1)],\n",
              " [],\n",
              " [('toepassing', 1)],\n",
              " [],\n",
              " [],\n",
              " [('artikel', 1)],\n",
              " [],\n",
              " [],\n",
              " [],\n",
              " [],\n",
              " [],\n",
              " [('programma_wet', 1)],\n",
              " [],\n",
              " [('artikel', 1)],\n",
              " [],\n",
              " [],\n",
              " [],\n",
              " [],\n",
              " [('kennis', 1)],\n",
              " [],\n",
              " [('geven', 1)],\n",
              " [],\n",
              " [('betalen', 1)],\n",
              " [],\n",
              " [],\n",
              " [('voorkomen', 1)],\n",
              " [('geval', 1)],\n",
              " [],\n",
              " [],\n",
              " [('betalen', 1)],\n",
              " [],\n",
              " [],\n",
              " [('tegoeen', 1)],\n",
              " [('houden', 1)],\n",
              " [],\n",
              " [],\n",
              " [('schulde_naar', 1)],\n",
              " [('artikel', 1)],\n",
              " [],\n",
              " [('specificeren', 1)],\n",
              " [],\n",
              " [('ambtenaar', 1)],\n",
              " [],\n",
              " [],\n",
              " [('vermelding', 1)],\n",
              " [],\n",
              " [],\n",
              " [],\n",
              " [],\n",
              " [('doen', 1)],\n",
              " [],\n",
              " [],\n",
              " [],\n",
              " [],\n",
              " [],\n",
              " [('verrichten', 1)],\n",
              " [('betaling', 1)],\n",
              " [],\n",
              " [],\n",
              " [('attest', 1)],\n",
              " [],\n",
              " [],\n",
              " [],\n",
              " [('voet', 1)],\n",
              " [],\n",
              " [],\n",
              " [('uit_gifte', 1)],\n",
              " [],\n",
              " [],\n",
              " [('akte', 1)],\n",
              " [],\n",
              " [('erfop_volging', 1)],\n",
              " [('artikel', 1)],\n",
              " [],\n",
              " [('wijzigen', 1)],\n",
              " [],\n",
              " [('artikel', 1)],\n",
              " [],\n",
              " [],\n",
              " [],\n",
              " [],\n",
              " [('koninklijk', 1)],\n",
              " [('besluit', 1)],\n",
              " [],\n",
              " [('uitvoering', 1)],\n",
              " [],\n",
              " [],\n",
              " [('wetboek', 1)],\n",
              " [],\n",
              " [],\n",
              " [],\n",
              " [],\n",
              " [('hierna', 1)],\n",
              " [('kb', 1)],\n",
              " [],\n",
              " [],\n",
              " [],\n",
              " [('gevolg', 1)],\n",
              " [],\n",
              " [],\n",
              " [('ontw_erpbesluit', 1)],\n",
              " [('artikel', 1)],\n",
              " [],\n",
              " [('bevatten', 1)],\n",
              " [],\n",
              " [('technisch', 1)],\n",
              " [('correctie', 1)],\n",
              " [],\n",
              " [('artikel', 1)],\n",
              " [],\n",
              " [('kb', 1)],\n",
              " [],\n",
              " [],\n",
              " [],\n",
              " [('aanleiding', 1)],\n",
              " [],\n",
              " [],\n",
              " [('opheffing', 1)],\n",
              " [],\n",
              " [],\n",
              " [],\n",
              " [('integratie', 1)],\n",
              " [],\n",
              " [('artikel', 1)],\n",
              " [],\n",
              " [('bis', 1)],\n",
              " [('kb', 1)],\n",
              " [],\n",
              " [],\n",
              " [],\n",
              " [('artikel', 1)],\n",
              " [],\n",
              " [('bis', 1)],\n",
              " [],\n",
              " [],\n",
              " [('artikel', 1)],\n",
              " [],\n",
              " [('heft', 1)],\n",
              " [],\n",
              " [('reeks', 1)],\n",
              " [('bepaling', 1)],\n",
              " [],\n",
              " [('wettelijk', 1)],\n",
              " [('norm', 1)],\n",
              " [],\n",
              " [],\n",
              " [],\n",
              " [],\n",
              " [],\n",
              " [('notariaat', 1)],\n",
              " [],\n",
              " [('samen_brengen', 1)],\n",
              " [],\n",
              " [],\n",
              " [('enkel', 1)],\n",
              " [('besluit', 1)],\n",
              " [],\n",
              " [('artikel', 1)],\n",
              " [],\n",
              " [('bis', 1)],\n",
              " [('kb', 1)],\n",
              " [],\n",
              " [],\n",
              " [],\n",
              " [('verzoek', 1)],\n",
              " [],\n",
              " [],\n",
              " [],\n",
              " [],\n",
              " [('ïntegreren', 1)],\n",
              " [],\n",
              " [('artikel', 1)],\n",
              " [],\n",
              " [('bis', 1)],\n",
              " [],\n",
              " [],\n",
              " [],\n",
              " [],\n",
              " [('wettelijk', 1)],\n",
              " [('grondslag', 1)],\n",
              " [('ervan', 1)],\n",
              " [('verdwijnen', 1)],\n",
              " [],\n",
              " [],\n",
              " [('artikel', 1)],\n",
              " [],\n",
              " [('op_heffen', 1)],\n",
              " [],\n",
              " [],\n",
              " [('ambtenaar', 1)],\n",
              " [],\n",
              " [('bevoegd', 1)],\n",
              " [],\n",
              " [],\n",
              " [],\n",
              " [('bericht', 1)],\n",
              " [],\n",
              " [('ontvangen', 1)],\n",
              " [('voortaan', 1)],\n",
              " [('enerzijds', 1)],\n",
              " [('rechtstreeks', 1)],\n",
              " [],\n",
              " [('artikel', 1)],\n",
              " [],\n",
              " [],\n",
              " [],\n",
              " [],\n",
              " [('één', 1)],\n",
              " [('lid', 1)],\n",
              " [],\n",
              " [],\n",
              " [('wbtw', 1)],\n",
              " [],\n",
              " [('aan_duiden', 1)],\n",
              " [],\n",
              " [],\n",
              " [('eigenaar', 1)],\n",
              " [],\n",
              " [],\n",
              " [('houder', 1)],\n",
              " [],\n",
              " [],\n",
              " [('zakelijk', 1)],\n",
              " [('recht', 1)],\n",
              " [],\n",
              " [],\n",
              " [('goed', 1)],\n",
              " [],\n",
              " [('verblijf_plaats', 1)],\n",
              " [],\n",
              " [],\n",
              " [],\n",
              " [],\n",
              " [('anderzijds', 1)],\n",
              " [],\n",
              " [('aan_duiden', 1)],\n",
              " [],\n",
              " [],\n",
              " [('besluit', 1)],\n",
              " [],\n",
              " ...]"
            ]
          },
          "metadata": {},
          "execution_count": 20
        }
      ]
    },
    {
      "cell_type": "markdown",
      "source": [
        "### Building the topic model"
      ],
      "metadata": {
        "id": "xr7zp7cU3mnE"
      }
    },
    {
      "cell_type": "code",
      "source": [
        "# Building LDA model\n",
        "lda_model = gensim.models.ldamodel.LdaModel(corpus=corpus,\n",
        "                                           id2word=id2word,\n",
        "                                           num_topics=20, \n",
        "                                           random_state=100,\n",
        "                                           update_every=1,\n",
        "                                           chunksize=100,\n",
        "                                           passes=10,\n",
        "                                           alpha='auto',\n",
        "                                           per_word_topics=True)"
      ],
      "metadata": {
        "id": "4eNI1JKD3rS8"
      },
      "execution_count": 21,
      "outputs": []
    },
    {
      "cell_type": "markdown",
      "source": [
        "###  Viewing the topics in LDA model"
      ],
      "metadata": {
        "id": "I4pNmnJP3vMM"
      }
    },
    {
      "cell_type": "markdown",
      "source": [
        "You can see the keywords for each topic and the weightag (importance) of each keyword using lda_model.print_topics() as shown next."
      ],
      "metadata": {
        "id": "r0YYrNee30UJ"
      }
    },
    {
      "cell_type": "code",
      "source": [
        "# Printing keywords for index 0 to 10\n",
        "pprint(lda_model.print_topics())\n",
        "doc_lda = lda_model[corpus]"
      ],
      "metadata": {
        "colab": {
          "base_uri": "https://localhost:8080/"
        },
        "id": "NrllJgXK3xAl",
        "outputId": "84d17270-443e-42fa-dfd5-d0c230c6729a"
      },
      "execution_count": 22,
      "outputs": [
        {
          "output_type": "stream",
          "name": "stdout",
          "text": [
            "[(0,\n",
            "  '0.273*\"wijzigen\" + 0.161*\"wet\" + 0.112*\"overheid_dienst\" + 0.112*\"federaal\" '\n",
            "  '+ 0.038*\"notariaat\" + 0.038*\"hetzelfde\" + 0.020*\"streepje\" + 0.010*\"divers\" '\n",
            "  '+ 0.003*\"financieel\" + 0.003*\"_fraude\"'),\n",
            " (1,\n",
            "  '0.292*\"zien\" + 0.159*\"raadpleging\" + 0.159*\"voegen\" + 0.159*\"tabel\" + '\n",
            "  '0.051*\"wbtw\" + 0.027*\"Beeldgezien\" + 0.025*\"kader\" + 0.013*\"associeren\" + '\n",
            "  '0.012*\"vallen\" + 0.004*\"begunstigen\"'),\n",
            " (2,\n",
            "  '0.382*\"bedoelen\" + 0.081*\"erfop_volging\" + 0.065*\"btw\" + 0.065*\"eenheid\" + '\n",
            "  '0.064*\"verplichting\" + 0.064*\"bijzonder\" + 0.002*\"sire\" + 0.002*\"volledig\" '\n",
            "  '+ 0.002*\"opnieuw\" + 0.002*\"lang\"'),\n",
            " (3,\n",
            "  '0.165*\"quinquie\" + 0.125*\"belasten\" + 0.090*\"eigenaar\" + 0.079*\"houden\" + '\n",
            "  '0.069*\"Hypotheek\" + 0.041*\"volgen\" + 0.041*\"opmaak\" + 0.031*\"machtigden\" + '\n",
            "  '0.031*\"beheers_ysteem\" + 0.012*\"vermellen\"'),\n",
            " (4,\n",
            "  '0.729*\"artikel\" + 0.058*\"zending\" + 0.046*\"bepalen\" + 0.001*\"maken\" + '\n",
            "  '0.001*\"Beeldgezien\" + 0.001*\"hetzelfde\" + 0.001*\"woord\" + '\n",
            "  '0.001*\"associeren\" + 0.001*\"machtigden\" + 0.001*\"garandeeren\"'),\n",
            " (5,\n",
            "  '0.539*\"lid\" + 0.112*\"op_heffen\" + 0.047*\"dwingen\" + 0.035*\"raad\" + '\n",
            "  '0.023*\"identiek\" + 0.023*\"verordening\" + 0.003*\"ïntegreren\" + '\n",
            "  '0.002*\"voortaan\" + 0.002*\"verblijf_plaats\" + 0.002*\"aan_duiden\"'),\n",
            " (6,\n",
            "  '0.329*\"beeld\" + 0.087*\"in_voegen\" + 0.079*\"twee\" + 0.070*\"zakelijk\" + '\n",
            "  '0.054*\"vatbaar\" + 0.042*\"woord\" + 0.041*\"verzonden\" + 0.028*\"verzamellen\" + '\n",
            "  '0.024*\"garandeeren\" + 0.009*\"verstaan\"'),\n",
            " (7,\n",
            "  '0.266*\"toegevoegde\" + 0.110*\"toepassing\" + 0.094*\"letten\" + '\n",
            "  '0.064*\"minnelijk\" + 0.064*\"quater\" + 0.031*\"toegang\" + 0.031*\"geldig\" + '\n",
            "  '0.025*\"administratie\" + 0.023*\"algemeen\" + 0.002*\"beschikken\"'),\n",
            " (8,\n",
            "  '0.398*\"één\" + 0.325*\"financiën\" + 0.061*\"bepaling\" + 0.046*\"ervan\" + '\n",
            "  '0.027*\"houdenen\" + 0.027*\"ontvangen\" + 0.010*\"vereenvoudiging\" + '\n",
            "  '0.007*\"administratief\" + 0.001*\"bestrijden\" + 0.001*\"norm\"'),\n",
            " (9,\n",
            "  '0.346*\"programma_wet\" + 0.207*\"betrekking\" + 0.081*\"model\" + 0.012*\"papier\" '\n",
            "  '+ 0.012*\"formulier\" + 0.011*\"overheid\" + 0.009*\"ov_erwegen\" + '\n",
            "  '0.009*\"overleg\" + 0.009*\"begroting\" + 0.009*\"coördineren\"'),\n",
            " (10,\n",
            "  '0.148*\"invordering\" + 0.141*\"vermelding\" + 0.090*\"officier\" + '\n",
            "  '0.090*\"openbaar\" + 0.089*\"ministerieel\" + 0.070*\"handtekening\" + '\n",
            "  '0.011*\"voordracht\" + 0.011*\"Fod\" + 0.011*\"kanselarij\" + 0.011*\"vereisen\"'),\n",
            " (11,\n",
            "  '0.233*\"bis\" + 0.203*\"elektronisch\" + 0.090*\"wijze\" + 0.072*\"geven\" + '\n",
            "  '0.059*\"op_nemen\" + 0.059*\"voorkomen\" + 0.043*\"dergelijk\" + '\n",
            "  '0.020*\"inlichting\" + 0.020*\"enkel\" + 0.015*\"advies\"'),\n",
            " (12,\n",
            "  '0.196*\"bevoegd\" + 0.151*\"attest\" + 0.046*\"uitgezonderd\" + '\n",
            "  '0.042*\"beschermen\" + 0.042*\"passen\" + 0.042*\"maatregel\" + 0.038*\"vervat\" + '\n",
            "  '0.036*\"op_maken\" + 0.032*\"verstuurd\" + 0.014*\"erfstelling\"'),\n",
            " (13,\n",
            "  '0.247*\"uitvoering\" + 0.225*\"bericht\" + 0.212*\"minist_erieel\" + '\n",
            "  '0.149*\"waarde\" + 0.002*\"gegeven\" + 0.001*\"bron\" + 0.001*\"vereenvoudigen\" + '\n",
            "  '0.001*\"aanvrager\" + 0.001*\"burger\" + 0.001*\"beschikbaar\"'),\n",
            " (14,\n",
            "  '0.168*\"ambtenaar\" + 0.158*\"mee_delen\" + 0.098*\"technisch\" + '\n",
            "  '0.082*\"aangetekend\" + 0.073*\"houder\" + 0.072*\"vervangen\" + 0.066*\"omwille\" '\n",
            "  '+ 0.032*\"verblijven\" + 0.017*\"erflater\" + 0.002*\"notariaatfilip\"'),\n",
            " (15,\n",
            "  '0.784*\"besluit\" + 0.056*\"goed\" + 0.027*\"op_stellen\" + 0.013*\"kantoor\" + '\n",
            "  '0.013*\"burgerlijk\" + 0.001*\"hypothecair\" + 0.001*\"betaling\" + 0.001*\"reeks\" '\n",
            "  '+ 0.001*\"aanleiding\" + 0.001*\"integratie\"'),\n",
            " (16,\n",
            "  '0.131*\"kennisgeving\" + 0.106*\"gedeelte\" + 0.100*\"besluiten\" + '\n",
            "  '0.095*\"notaris\" + 0.063*\"persoon\" + 0.061*\"aanduiding\" + 0.061*\"af_leveren\" '\n",
            "  '+ 0.061*\"notificatie\" + 0.025*\"wettelijk\" + 0.024*\"identiteit\"'),\n",
            " (17,\n",
            "  '0.507*\"wetboek\" + 0.073*\"dienst\" + 0.063*\"storing\" + 0.060*\"overmacht\" + '\n",
            "  '0.030*\"buitenland\" + 0.008*\"principe\" + 0.008*\"verankering\" + '\n",
            "  '0.008*\"uit_voeren\" + 0.008*\"instantie\" + 0.008*\"taak\"'),\n",
            " (18,\n",
            "  '0.479*\"koninklijk\" + 0.106*\"belasting\" + 0.052*\"fiscaal\" + 0.039*\"zin\" + '\n",
            "  '0.027*\"team\" + 0.014*\"vers_turen\" + 0.012*\"bekleegen\" + 0.012*\"intrekking\" '\n",
            "  '+ 0.012*\"identificatie\" + 0.012*\"intern\"'),\n",
            " (19,\n",
            "  '0.481*\"minister\" + 0.216*\"bijla_ge\" + 0.049*\"ontvanger\" + '\n",
            "  '0.033*\"modelbe_richt\" + 0.033*\"recht\" + 0.028*\"systeem\" + 0.025*\"waartoe\" + '\n",
            "  '0.019*\"akte\" + 0.011*\"zes\" + 0.001*\"huidig\"')]\n"
          ]
        }
      ]
    },
    {
      "cell_type": "markdown",
      "source": [
        "**NOTE**: For each index (0 to 10), there's a top 10 keywords that contribute to this topic.\n",
        "\n",
        "The weights reflect how important a keyword is to that topic.\n",
        "\n",
        "Looking at these keywords, you can guess what this topic could be."
      ],
      "metadata": {
        "id": "2XyHR2UuKUIp"
      }
    },
    {
      "cell_type": "markdown",
      "source": [
        "### Compute Model Perplexity and Coherence Score"
      ],
      "metadata": {
        "id": "iW0vFYMM4QhX"
      }
    },
    {
      "cell_type": "code",
      "source": [
        "# Computing Perplexity\n",
        "print('\\nPerplexity: ', lda_model.log_perplexity(corpus))  # a measure of how good the model is. lower the better.\n",
        "\n",
        "# Computing Coherence Score\n",
        "coherence_model_lda = CoherenceModel(model=lda_model, texts=data_lemmatized, dictionary=id2word, coherence='c_v')\n",
        "coherence_lda = coherence_model_lda.get_coherence()\n",
        "print('\\nCoherence Score: ', coherence_lda)"
      ],
      "metadata": {
        "colab": {
          "base_uri": "https://localhost:8080/"
        },
        "id": "y1ZNKyu64R0N",
        "outputId": "85bd2e87-08af-44ce-f915-35179295389b"
      },
      "execution_count": 23,
      "outputs": [
        {
          "output_type": "stream",
          "name": "stdout",
          "text": [
            "\n",
            "Perplexity:  -7.148686727401539\n",
            "\n",
            "Coherence Score:  0.8031396675007777\n"
          ]
        }
      ]
    },
    {
      "cell_type": "markdown",
      "source": [
        "### Visualizing topic-keywords distribution"
      ],
      "metadata": {
        "id": "KOQtvx9LSSUs"
      }
    },
    {
      "cell_type": "code",
      "source": [
        "# Downgrading to pyLDavis 3.2.1 to circumvent pyLDAvis - Gensim conflicts in Colab\n",
        "### !pip install pyLDAvis==3.2.1"
      ],
      "metadata": {
        "id": "ils6JLTHUB7j"
      },
      "execution_count": null,
      "outputs": []
    },
    {
      "cell_type": "code",
      "source": [
        "# Feeding the model into the pyLDAvis instance\n",
        "vis = gensimvis.prepare(lda_model, corpus, id2word)\n",
        "vis"
      ],
      "metadata": {
        "id": "qlI5CMBmyMmG",
        "colab": {
          "base_uri": "https://localhost:8080/",
          "height": 916
        },
        "outputId": "7ef30e39-3a04-42f6-9895-ccbcc5cb7052"
      },
      "execution_count": 25,
      "outputs": [
        {
          "output_type": "stream",
          "name": "stderr",
          "text": [
            "/usr/local/lib/python3.7/dist-packages/pyLDAvis/_prepare.py:247: FutureWarning: In a future version of pandas all arguments of DataFrame.drop except for the argument 'labels' will be keyword-only\n",
            "  by='saliency', ascending=False).head(R).drop('saliency', 1)\n"
          ]
        },
        {
          "output_type": "execute_result",
          "data": {
            "text/plain": [
              "PreparedData(topic_coordinates=              x         y  topics  cluster      Freq\n",
              "topic                                               \n",
              "0     -0.059089 -0.000676       1        1  7.170865\n",
              "4      0.030702 -0.000097       2        1  7.121466\n",
              "8      0.213312 -0.285495       3        1  6.759092\n",
              "11    -0.032616 -0.001946       4        1  6.496485\n",
              "5     -0.043297 -0.000690       5        1  6.262807\n",
              "18     0.038245 -0.008472       6        1  5.985132\n",
              "15     0.218788 -0.010127       7        1  5.482000\n",
              "14    -0.063567 -0.000799       8        1  5.360888\n",
              "13     0.017996 -0.001188       9        1  5.135411\n",
              "17    -0.049994 -0.000962      10        1  4.675780\n",
              "2     -0.071915 -0.000215      11        1  4.631794\n",
              "7     -0.080322 -0.000185      12        1  4.592668\n",
              "1      0.199373  0.325156      13        1  4.367126\n",
              "19     0.156206 -0.011582      14        1  4.196082\n",
              "3     -0.084812 -0.000454      15        1  3.880137\n",
              "6     -0.063415 -0.001122      16        1  3.777798\n",
              "16    -0.068566 -0.001407      17        1  3.777053\n",
              "9     -0.078628  0.000032      18        1  3.618159\n",
              "12    -0.090995  0.000132      19        1  3.402579\n",
              "10    -0.087405  0.000095      20        1  3.306678, topic_info=           Term       Freq      Total Category  logprob  loglift\n",
              "12      artikel  78.000000  78.000000  Default  30.0000  30.0000\n",
              "5       besluit  65.000000  65.000000  Default  29.0000  29.0000\n",
              "191         lid  51.000000  51.000000  Default  28.0000  28.0000\n",
              "4    koninklijk  43.000000  43.000000  Default  27.0000  27.0000\n",
              "14      wetboek  36.000000  36.000000  Default  26.0000  26.0000\n",
              "..          ...        ...        ...      ...      ...      ...\n",
              "11   uitvoering   0.052056  19.816802  Topic20  -6.8541  -2.5327\n",
              "12      artikel   0.052056  78.329523  Topic20  -6.8541  -3.9071\n",
              "13     quinquie   0.052056  10.459220  Topic20  -6.8541  -1.8937\n",
              "14      wetboek   0.052056  36.301740  Topic20  -6.8541  -3.1381\n",
              "15    belasting   0.052056  10.368818  Topic20  -6.8541  -1.8850\n",
              "\n",
              "[859 rows x 6 columns], token_table=      Topic      Freq         Term\n",
              "term                              \n",
              "313      13  0.749081  Beeldgezien\n",
              "275      20  0.680863          Fod\n",
              "258      15  0.815311    Hypotheek\n",
              "143       6  0.493170    Parlement\n",
              "261      17  0.688077   aanduiding\n",
              "...     ...       ...          ...\n",
              "102       2  0.853715      zending\n",
              "254      14  0.619777          zes\n",
              "312      13  0.951740         zien\n",
              "141       6  0.903224          zin\n",
              "190       3  0.973618          één\n",
              "\n",
              "[180 rows x 3 columns], R=30, lambda_step=0.01, plot_opts={'xlab': 'PC1', 'ylab': 'PC2'}, topic_order=[1, 5, 9, 12, 6, 19, 16, 15, 14, 18, 3, 8, 2, 20, 4, 7, 17, 10, 13, 11])"
            ],
            "text/html": [
              "\n",
              "<link rel=\"stylesheet\" type=\"text/css\" href=\"https://cdn.jsdelivr.net/gh/bmabey/pyLDAvis@3.3.1/pyLDAvis/js/ldavis.v1.0.0.css\">\n",
              "\n",
              "\n",
              "<div id=\"ldavis_el551400337391167521814160117\"></div>\n",
              "<script type=\"text/javascript\">\n",
              "\n",
              "var ldavis_el551400337391167521814160117_data = {\"mdsDat\": {\"x\": [-0.059089486195793677, 0.030702282538906254, 0.2133123957935057, -0.032615737000936805, -0.04329685821998947, 0.03824460663016466, 0.2187877999229877, -0.06356725554385596, 0.01799643276586668, -0.04999436435891354, -0.0719145824122839, -0.08032202645365158, 0.19937251804286502, 0.15620576308860654, -0.08481204519710331, -0.0634154480304214, -0.06856594160308263, -0.07862761008903114, -0.09099504795926494, -0.08740539571857259], \"y\": [-0.0006759138421449406, -9.701019834455723e-05, -0.28549540159653175, -0.0019463450247511444, -0.0006901080744279182, -0.008471530053734107, -0.010126928357699147, -0.0007988412602474718, -0.001187881606337082, -0.0009617014557363857, -0.00021469452877682707, -0.00018515345368074555, 0.32515618550808423, -0.011582000364574905, -0.0004541368591553276, -0.0011215020663413748, -0.0014069019375717567, 3.239935590519702e-05, 0.00013213004298554793, 9.533577307963984e-05], \"topics\": [1, 2, 3, 4, 5, 6, 7, 8, 9, 10, 11, 12, 13, 14, 15, 16, 17, 18, 19, 20], \"cluster\": [1, 1, 1, 1, 1, 1, 1, 1, 1, 1, 1, 1, 1, 1, 1, 1, 1, 1, 1, 1], \"Freq\": [7.170865415193087, 7.121466411301855, 6.759091925805189, 6.496484523987434, 6.2628065314260555, 5.985131681591936, 5.482000328982684, 5.360887944609536, 5.135411363092904, 4.675780143838646, 4.631793696905175, 4.592667981795548, 4.367125758013718, 4.196082015001006, 3.8801369065910483, 3.7777983251687566, 3.7770534754311074, 3.6181586867378783, 3.402578699469225, 3.3066781850572102]}, \"tinfo\": {\"Term\": [\"artikel\", \"besluit\", \"lid\", \"koninklijk\", \"wetboek\", \"\\u00e9\\u00e9n\", \"minister\", \"financi\\u00ebn\", \"bedoelen\", \"wijzigen\", \"programma_wet\", \"beeld\", \"zien\", \"bis\", \"toegevoegde\", \"uitvoering\", \"elektronisch\", \"bericht\", \"minist_erieel\", \"bijla_ge\", \"wet\", \"ambtenaar\", \"betrekking\", \"mee_delen\", \"bevoegd\", \"waarde\", \"voegen\", \"raadpleging\", \"tabel\", \"quinquie\", \"wijzigen\", \"wet\", \"federaal\", \"overheid_dienst\", \"notariaat\", \"hetzelfde\", \"streepje\", \"divers\", \"_fraude\", \"financieel\", \"hoedanigheid\", \"nieuw\", \"moderni_sering\", \"koste_nbesparing\", \"hoofd_doel\", \"verslag\", \"leggen\", \"beogen\", \"verzenden\", \"overdracht\", \"ontwerp\", \"verwerking\", \"wijziging\", \"werkwijze\", \"kaderen\", \"authenticiteit\", \"praktisch\", \"vervolgens\", \"in_stellen\", \"toe_laten\", \"Beeldgezien\", \"woord\", \"associeren\", \"opmaak\", \"verstuurd\", \"beheers_ysteem\", \"identiteit\", \"op_maken\", \"garandeeren\", \"machtigden\", \"verzamellen\", \"beschermen\", \"passen\", \"maatregel\", \"kantoor\", \"artikel\", \"zending\", \"bepalen\", \"maken\", \"verslag\", \"leggen\", \"beogen\", \"verzenden\", \"overdracht\", \"ontwerp\", \"verwerking\", \"wijziging\", \"werkwijze\", \"kaderen\", \"authenticiteit\", \"praktisch\", \"vervolgens\", \"in_stellen\", \"toe_laten\", \"elek_tronisch\", \"verlenen\", \"naam\", \"voornoemd\", \"eenvormig\", \"waardoor\", \"gebruiken\", \"verrichten\", \"gevolg\", \"ontw_erpbesluit\", \"bevatten\", \"hetzelfde\", \"woord\", \"Beeldgezien\", \"associeren\", \"administrateur\", \"rechtszekerheid\", \"verstuurd\", \"beheers_ysteem\", \"identiteit\", \"op_maken\", \"garandeeren\", \"machtigden\", \"verzamellen\", \"beschermen\", \"passen\", \"maatregel\", \"kantoor\", \"burgerlijk\", \"opmaak\", \"inspecteur\", \"begroting\", \"overleg\", \"gewest\", \"co\\u00f6rdineren\", \"ov_erwegen\", \"Fod\", \"\\u00e9\\u00e9n\", \"financi\\u00ebn\", \"bepaling\", \"ervan\", \"houdenen\", \"ontvangen\", \"vereenvoudiging\", \"administratief\", \"bestrijden\", \"norm\", \"verzoek\", \"anderzijds\", \"verslag\", \"leggen\", \"beogen\", \"verzenden\", \"overdracht\", \"ontwerp\", \"verwerking\", \"wijziging\", \"werkwijze\", \"kaderen\", \"authenticiteit\", \"praktisch\", \"vervolgens\", \"in_stellen\", \"toe_laten\", \"elek_tronisch\", \"verlenen\", \"naam\", \"Beeldgezien\", \"verzamellen\", \"opmaak\", \"associeren\", \"hetzelfde\", \"woord\", \"administrateur\", \"rechtszekerheid\", \"verstuurd\", \"beheers_ysteem\", \"identiteit\", \"op_maken\", \"garandeeren\", \"machtigden\", \"beschermen\", \"passen\", \"maatregel\", \"kantoor\", \"bis\", \"elektronisch\", \"wijze\", \"geven\", \"op_nemen\", \"voorkomen\", \"dergelijk\", \"inlichting\", \"enkel\", \"advies\", \"bijlag\", \"majesteit\", \"samen_brengen\", \"waardoor\", \"gebruiken\", \"verslag\", \"leggen\", \"beogen\", \"verzenden\", \"overdracht\", \"ontwerp\", \"verwerking\", \"wijziging\", \"werkwijze\", \"kaderen\", \"authenticiteit\", \"praktisch\", \"vervolgens\", \"in_stellen\", \"toe_laten\", \"hetzelfde\", \"woord\", \"Beeldgezien\", \"koning\", \"sire\", \"koninklijk\", \"besluit\", \"eer\", \"uwe\", \"uitvoering\", \"artikel\", \"lid\", \"op_heffen\", \"dwingen\", \"raad\", \"identiek\", \"verordening\", \"\\u00efntegreren\", \"voortaan\", \"verblijf_plaats\", \"aan_duiden\", \"grondslag\", \"verdwijnen\", \"enerzijds\", \"rechtstreeks\", \"verschillend\", \"reglementair\", \"bijgevoegd\", \"verslag\", \"leggen\", \"beogen\", \"verzenden\", \"overdracht\", \"ontwerp\", \"verwerking\", \"wijziging\", \"werkwijze\", \"kaderen\", \"authenticiteit\", \"praktisch\", \"vervolgens\", \"associeren\", \"hetzelfde\", \"woord\", \"Beeldgezien\", \"koning\", \"sire\", \"koninklijk\", \"besluit\", \"eer\", \"uwe\", \"majesteit\", \"koninklijk\", \"belasting\", \"fiscaal\", \"zin\", \"team\", \"vers_turen\", \"bekleegen\", \"digitaal\", \"certificaat\", \"kwalificeren\", \"Parlement\", \"betreffen\", \"identificatie\", \"transactie\", \"intern\", \"intrekking\", \"rich_tlijn\", \"overeenstemt\", \"afgeleverd\", \"markt\", \"vervolgens\", \"verslag\", \"leggen\", \"beogen\", \"verzenden\", \"overdracht\", \"ontwerp\", \"verwerking\", \"wijziging\", \"werkwijze\", \"koning\", \"sire\", \"besluit\", \"eer\", \"uwe\", \"majesteit\", \"besluit\", \"goed\", \"op_stellen\", \"kantoor\", \"burgerlijk\", \"hypothecair\", \"betaling\", \"reeks\", \"verrichten\", \"gevolg\", \"ontw_erpbesluit\", \"bevatten\", \"correctie\", \"aanleiding\", \"opheffing\", \"integratie\", \"heft\", \"verslag\", \"leggen\", \"beogen\", \"verzenden\", \"overdracht\", \"ontwerp\", \"verwerking\", \"wijziging\", \"werkwijze\", \"kaderen\", \"authenticiteit\", \"praktisch\", \"vervolgens\", \"koning\", \"sire\", \"koninklijk\", \"eer\", \"uwe\", \"majesteit\", \"uitvoering\", \"artikel\", \"quinquie\", \"ambtenaar\", \"mee_delen\", \"technisch\", \"aangetekend\", \"houder\", \"vervangen\", \"omwille\", \"verblijven\", \"erflater\", \"notariaatfilip\", \"specificeren\", \"wijziging\", \"werkwijze\", \"kaderen\", \"verslag\", \"leggen\", \"beogen\", \"verzenden\", \"overdracht\", \"ontwerp\", \"verwerking\", \"authenticiteit\", \"praktisch\", \"vervolgens\", \"in_stellen\", \"toe_laten\", \"elek_tronisch\", \"verlenen\", \"naam\", \"voornoemd\", \"koning\", \"sire\", \"koninklijk\", \"besluit\", \"eer\", \"uwe\", \"majesteit\", \"uitvoering\", \"artikel\", \"quinquie\", \"wetboek\", \"belasting\", \"uitvoering\", \"bericht\", \"minist_erieel\", \"waarde\", \"gegeven\", \"burger\", \"vereenvoudigen\", \"beschikbaar\", \"authentiek\", \"bron\", \"aanvrager\", \"deel\", \"verslag\", \"leggen\", \"beogen\", \"verzenden\", \"overdracht\", \"ontwerp\", \"verwerking\", \"wijziging\", \"werkwijze\", \"kaderen\", \"authenticiteit\", \"praktisch\", \"vervolgens\", \"in_stellen\", \"toe_laten\", \"elek_tronisch\", \"verlenen\", \"naam\", \"koning\", \"sire\", \"koninklijk\", \"besluit\", \"eer\", \"uwe\", \"majesteit\", \"artikel\", \"quinquie\", \"wetboek\", \"belasting\", \"toegevoegde\", \"hierna\", \"wbtw\", \"wetboek\", \"dienst\", \"storing\", \"overmacht\", \"buitenland\", \"verankering\", \"principe\", \"werking\", \"instantie\", \"behoren\", \"taak\", \"uit_voeren\", \"verslag\", \"leggen\", \"beogen\", \"verzenden\", \"overdracht\", \"ontwerp\", \"verwerking\", \"wijziging\", \"werkwijze\", \"kaderen\", \"authenticiteit\", \"praktisch\", \"vervolgens\", \"in_stellen\", \"toe_laten\", \"elek_tronisch\", \"verlenen\", \"naam\", \"koning\", \"sire\", \"koninklijk\", \"besluit\", \"eer\", \"uwe\", \"majesteit\", \"uitvoering\", \"artikel\", \"quinquie\", \"belasting\", \"toegevoegde\", \"waarde\", \"hierna\", \"bedoelen\", \"erfop_volging\", \"btw\", \"eenheid\", \"verplichting\", \"bijzonder\", \"sire\", \"doel\", \"rech_tsperson\", \"waarborg\", \"opnieuw\", \"komen\", \"volledig\", \"lang\", \"akt\", \"stellen\", \"in_stellen\", \"toe_laten\", \"elek_tronisch\", \"verlenen\", \"naam\", \"voornoemd\", \"verslag\", \"leggen\", \"beogen\", \"verzenden\", \"overdracht\", \"ontwerp\", \"verwerking\", \"wijziging\", \"koning\", \"koninklijk\", \"besluit\", \"eer\", \"uwe\", \"majesteit\", \"toegevoegde\", \"toepassing\", \"letten\", \"minnelijk\", \"quater\", \"toegang\", \"geldig\", \"administratie\", \"algemeen\", \"beschikken\", \"adresseren\", \"kenn_isgegeven\", \"stafd_ienst\", \"omschrijven\", \"specificatie\", \"zorgen\", \"grond\", \"daarnaast\", \"ontwerp\", \"verslag\", \"leggen\", \"beogen\", \"verzenden\", \"overdracht\", \"verwerking\", \"wijziging\", \"werkwijze\", \"kaderen\", \"authenticiteit\", \"praktisch\", \"koning\", \"sire\", \"koninklijk\", \"besluit\", \"eer\", \"uwe\", \"majesteit\", \"uitvoering\", \"zien\", \"raadpleging\", \"tabel\", \"voegen\", \"wbtw\", \"Beeldgezien\", \"kader\", \"associeren\", \"vallen\", \"begunstigen\", \"contractueel\", \"impactanalyse\", \"kb\", \"soort\", \"leveren\", \"verslag\", \"leggen\", \"beogen\", \"verzenden\", \"overdracht\", \"ontwerp\", \"verwerking\", \"wijziging\", \"werkwijze\", \"kaderen\", \"authenticiteit\", \"praktisch\", \"vervolgens\", \"in_stellen\", \"toe_laten\", \"koning\", \"sire\", \"koninklijk\", \"besluit\", \"eer\", \"uwe\", \"majesteit\", \"uitvoering\", \"artikel\", \"quinquie\", \"wetboek\", \"minister\", \"bijla_ge\", \"ontvanger\", \"modelbe_richt\", \"recht\", \"systeem\", \"waartoe\", \"akte\", \"zes\", \"huidig\", \"verslag\", \"leggen\", \"beogen\", \"verzenden\", \"overdracht\", \"ontwerp\", \"verwerking\", \"wijziging\", \"werkwijze\", \"kaderen\", \"authenticiteit\", \"praktisch\", \"vervolgens\", \"in_stellen\", \"toe_laten\", \"elek_tronisch\", \"verlenen\", \"naam\", \"voornoemd\", \"eenvormig\", \"koning\", \"sire\", \"koninklijk\", \"besluit\", \"eer\", \"uwe\", \"majesteit\", \"uitvoering\", \"artikel\", \"quinquie\", \"wetboek\", \"belasting\", \"toegevoegde\", \"waarde\", \"hierna\", \"wbtw\", \"quinquie\", \"belasten\", \"eigenaar\", \"houden\", \"Hypotheek\", \"volgen\", \"opmaak\", \"beheers_ysteem\", \"machtigden\", \"vermellen\", \"erfgenaam\", \"inspecteur\", \"hierna\", \"voet\", \"doen\", \"schuld\", \"betalen\", \"veiligheid\", \"uitgewisselde\", \"verzekeren\", \"waarvan\", \"tegoeen\", \"eenvormig\", \"verslag\", \"leggen\", \"beogen\", \"verzenden\", \"overdracht\", \"ontwerp\", \"verwerking\", \"koning\", \"sire\", \"koninklijk\", \"besluit\", \"eer\", \"beeld\", \"in_voegen\", \"twee\", \"zakelijk\", \"vatbaar\", \"woord\", \"verzonden\", \"verzamellen\", \"garandeeren\", \"verstaan\", \"gewest\", \"grond_wet\", \"getrouw\", \"aanwending\", \"uit_gifte\", \"bovendien\", \"aangepaste\", \"kennis\", \"schulde_naar\", \"bestemmen\", \"verzenden\", \"overdracht\", \"verslag\", \"leggen\", \"beogen\", \"ontwerp\", \"verwerking\", \"wijziging\", \"werkwijze\", \"kaderen\", \"koning\", \"sire\", \"koninklijk\", \"besluit\", \"eer\", \"uwe\", \"kennisgeving\", \"gedeelte\", \"besluiten\", \"notaris\", \"persoon\", \"aanduiding\", \"af_leveren\", \"notificatie\", \"wettelijk\", \"identiteit\", \"administrateur\", \"rechtszekerheid\", \"legataris\", \"in_voeren\", \"uwe\", \"hechten\", \"eerbiedig\", \"dienaar\", \"verslag\", \"leggen\", \"beogen\", \"verzenden\", \"overdracht\", \"ontwerp\", \"verwerking\", \"wijziging\", \"werkwijze\", \"kaderen\", \"authenticiteit\", \"praktisch\", \"koning\", \"sire\", \"koninklijk\", \"besluit\", \"eer\", \"majesteit\", \"uitvoering\", \"artikel\", \"programma_wet\", \"betrekking\", \"model\", \"papier\", \"formulier\", \"overheid\", \"begroting\", \"overleg\", \"co\\u00f6rdineren\", \"ov_erwegen\", \"koning\", \"dienen\", \"certificeren\", \"praktisch\", \"verslag\", \"leggen\", \"beogen\", \"verzenden\", \"overdracht\", \"ontwerp\", \"verwerking\", \"wijziging\", \"werkwijze\", \"kaderen\", \"authenticiteit\", \"vervolgens\", \"in_stellen\", \"toe_laten\", \"elek_tronisch\", \"verlenen\", \"sire\", \"koninklijk\", \"besluit\", \"eer\", \"uwe\", \"majesteit\", \"uitvoering\", \"artikel\", \"quinquie\", \"wetboek\", \"belasting\", \"toegevoegde\", \"bevoegd\", \"attest\", \"uitgezonderd\", \"beschermen\", \"passen\", \"maatregel\", \"vervat\", \"op_maken\", \"verstuurd\", \"erfstelling\", \"uniek\", \"zeer\", \"eer\", \"verplichten\", \"informatie\", \"authenticiteit\", \"verwerking\", \"verslag\", \"leggen\", \"beogen\", \"verzenden\", \"overdracht\", \"ontwerp\", \"wijziging\", \"werkwijze\", \"kaderen\", \"praktisch\", \"vervolgens\", \"in_stellen\", \"toe_laten\", \"koning\", \"sire\", \"koninklijk\", \"besluit\", \"uwe\", \"majesteit\", \"uitvoering\", \"artikel\", \"quinquie\", \"invordering\", \"vermelding\", \"officier\", \"openbaar\", \"ministerieel\", \"handtekening\", \"Fod\", \"kanselarij\", \"vereisen\", \"voordracht\", \"groet\", \"vervreemding\", \"geval\", \"middel\", \"verslag\", \"leggen\", \"beogen\", \"verzenden\", \"overdracht\", \"ontwerp\", \"verwerking\", \"wijziging\", \"werkwijze\", \"kaderen\", \"authenticiteit\", \"praktisch\", \"vervolgens\", \"in_stellen\", \"toe_laten\", \"elek_tronisch\", \"koning\", \"sire\", \"koninklijk\", \"besluit\", \"eer\", \"uwe\", \"majesteit\", \"uitvoering\", \"artikel\", \"quinquie\", \"wetboek\", \"belasting\"], \"Freq\": [78.0, 65.0, 51.0, 43.0, 36.0, 41.0, 31.0, 33.0, 27.0, 30.0, 19.0, 19.0, 19.0, 23.0, 19.0, 19.0, 20.0, 18.0, 17.0, 14.0, 18.0, 14.0, 12.0, 13.0, 10.0, 12.0, 11.0, 11.0, 11.0, 10.0, 29.24320886106779, 17.206451476839618, 11.989048209980297, 11.989048209980297, 4.112084665134616, 4.027908674143419, 2.1282410099353166, 1.0633411087149498, 0.27998233550927076, 0.27998233550927076, 0.1664063062245847, 0.09992226516098358, 0.09992226516098358, 0.09992226516098358, 0.09992226516098358, 0.08007946505614008, 0.08007946505614008, 0.08007946505614008, 0.08007946505614008, 0.08007946505614008, 0.08007946505614008, 0.08007946505614008, 0.08007946505614008, 0.08007946505614008, 0.08007946505614008, 0.08007946505614008, 0.08007946505614008, 0.08007946505614008, 0.08007946505614008, 0.08007946505614008, 0.08007952110451545, 0.08007951487691818, 0.08007950242172365, 0.0800794961941264, 0.08007948996652912, 0.08007948996652912, 0.08007948996652912, 0.08007948996652912, 0.08007948996652912, 0.08007948996652912, 0.08007948996652912, 0.08007948996652912, 0.08007948996652912, 0.08007948996652912, 0.08007948996652912, 77.42672624243193, 6.125308956760239, 4.909180360521494, 0.10084912967372671, 0.05669925464328033, 0.05669925464328033, 0.05669925464328033, 0.05669925464328033, 0.05669925464328033, 0.05669925464328033, 0.05669925464328033, 0.05669925464328033, 0.05669925464328033, 0.05669925464328033, 0.05669925464328033, 0.05669925464328033, 0.05669925464328033, 0.05669925464328033, 0.05669925464328033, 0.05669925464328033, 0.05669925464328033, 0.05669925464328033, 0.05669925464328033, 0.05669925464328033, 0.05669925464328033, 0.05669925464328033, 0.05669925464328033, 0.05669925464328033, 0.05669925464328033, 0.05669925464328033, 0.05669927938206549, 0.05669927938206549, 0.05669927938206549, 0.0566992731973692, 0.05669926701267291, 0.05669926701267291, 0.05669926701267291, 0.05669926701267291, 0.05669926701267291, 0.05669926701267291, 0.05669926701267291, 0.05669926701267291, 0.05669926701267291, 0.05669926701267291, 0.05669926701267291, 0.05669926701267291, 0.05669926701267291, 0.05669926701267291, 0.05669926701267291, 0.05669926082797662, 0.05669926082797662, 0.05669926082797662, 0.05669926082797662, 0.05669926082797662, 0.05669926082797662, 0.05669926082797662, 40.15597646780768, 32.81318315009031, 6.190403053267874, 4.636971747100721, 2.7521371940241974, 2.7176607283087133, 0.996500727064202, 0.6919459184141666, 0.11051703339892399, 0.057003934501422215, 0.057003934501422215, 0.057003934501422215, 0.031609653986045975, 0.031609653986045975, 0.031609653986045975, 0.031609653986045975, 0.031609653986045975, 0.031609653986045975, 0.031609653986045975, 0.031609653986045975, 0.031609653986045975, 0.031609653986045975, 0.031609653986045975, 0.031609653986045975, 0.031609653986045975, 0.031609653986045975, 0.031609653986045975, 0.031609653986045975, 0.031609653986045975, 0.031609653986045975, 0.03160966279102974, 0.03160965985603515, 0.03160965985603515, 0.03160965985603515, 0.03160965985603515, 0.03160965985603515, 0.03160965692104056, 0.03160965692104056, 0.03160965692104056, 0.03160965692104056, 0.03160965692104056, 0.03160965692104056, 0.03160965692104056, 0.03160965692104056, 0.03160965692104056, 0.03160965692104056, 0.03160965692104056, 0.03160965692104056, 22.614998573375743, 19.639518139218655, 8.728442030454177, 6.978420336627046, 5.690042119710106, 5.676935159212488, 4.1560366682835275, 1.9750361305471056, 1.9407886491058164, 1.4436347118546262, 0.6289458892472773, 0.15054606252841676, 0.12086143200624887, 0.07540148662653318, 0.07540148662653318, 0.056586516642631236, 0.056586516642631236, 0.056586516642631236, 0.056586516642631236, 0.056586516642631236, 0.056586516642631236, 0.056586516642631236, 0.056586516642631236, 0.056586516642631236, 0.056586516642631236, 0.056586516642631236, 0.056586516642631236, 0.056586516642631236, 0.056586516642631236, 0.056586516642631236, 0.056586522284556844, 0.056586522284556844, 0.056586522284556844, 0.056586516642631236, 0.056586516642631236, 0.056586516642631236, 0.056586516642631236, 0.056586516642631236, 0.056586516642631236, 0.056586516642631236, 0.056586516642631236, 50.33183995902108, 10.422109494059281, 4.393839176857598, 3.238323897045778, 2.191982381493977, 2.1329672074740014, 0.2683199096343593, 0.2085900310940966, 0.17547579805775151, 0.16730882331656383, 0.11574596302937706, 0.11574596302937706, 0.11574596302937706, 0.11574596302937706, 0.08552394344840378, 0.08552394344840378, 0.08552394344840378, 0.06418310818117633, 0.06418310818117633, 0.06418310818117633, 0.06418310818117633, 0.06418310818117633, 0.06418310818117633, 0.06418310818117633, 0.06418310818117633, 0.06418310818117633, 0.06418310818117633, 0.06418310818117633, 0.06418310818117633, 0.06418310818117633, 0.06418311362016237, 0.06418311362016237, 0.06418311362016237, 0.06418311362016237, 0.06418310818117633, 0.06418310818117633, 0.06418310818117633, 0.06418310818117633, 0.06418310818117633, 0.06418310818117633, 0.06418310818117633, 42.811760855320614, 9.44246157752027, 4.628422535628976, 3.5022247375872233, 2.399981233801004, 1.2678188969937227, 1.101341159280496, 1.101341159280496, 1.101341159280496, 1.101341159280496, 1.101341159280496, 1.101341159280496, 1.101341159280496, 1.101341159280496, 1.101341159280496, 1.101341159280496, 1.101341159280496, 1.101341076115104, 1.101341076115104, 1.101341076115104, 0.05026865081400563, 0.03314044980375232, 0.03314044980375232, 0.03314044980375232, 0.03314044980375232, 0.03314044980375232, 0.03314044980375232, 0.03314044980375232, 0.03314044980375232, 0.03314044980375232, 0.03314044980375232, 0.03314044980375232, 0.03314044980375232, 0.03314044980375232, 0.03314044980375232, 0.03314044980375232, 64.14656728074387, 4.618850035780543, 2.1984460422995147, 1.0332528754595325, 1.0332528754595325, 0.06475236279751947, 0.04636674954441399, 0.04636674954441399, 0.04636673526174868, 0.04636673526174868, 0.04636673526174868, 0.04636673526174868, 0.04636673526174868, 0.04636673526174868, 0.04636673526174868, 0.04636673526174868, 0.04636673526174868, 0.027378838675442618, 0.027378838675442618, 0.027378838675442618, 0.027378838675442618, 0.027378838675442618, 0.027378838675442618, 0.027378838675442618, 0.027378838675442618, 0.027378838675442618, 0.027378838675442618, 0.027378838675442618, 0.027378838675442618, 0.027378838675442618, 0.027378838675442618, 0.027378838675442618, 0.027378838675442618, 0.027378838675442618, 0.027378838675442618, 0.027378838675442618, 0.027378838675442618, 0.027378838675442618, 0.027378838675442618, 13.441503080242185, 12.621900730979764, 7.800777921571433, 6.545854863919796, 5.814941282188873, 5.749253049998757, 5.2787915091914, 2.5798852364074594, 1.3202385352854256, 0.16212417130687995, 0.14354404390228867, 0.07560610406658785, 0.07560610406658785, 0.07560610406658785, 0.06059206229305378, 0.06059206229305378, 0.06059206229305378, 0.06059206229305378, 0.06059206229305378, 0.06059206229305378, 0.06059206229305378, 0.06059206229305378, 0.06059206229305378, 0.06059206229305378, 0.06059206229305378, 0.06059206229305378, 0.06059206229305378, 0.06059206229305378, 0.06059206229305378, 0.06059206229305378, 0.06059206229305378, 0.06059206229305378, 0.06059206229305378, 0.06059206229305378, 0.06059206229305378, 0.06059206229305378, 0.06059206229305378, 0.06059206229305378, 0.06059206229305378, 0.06059206229305378, 0.06059206229305378, 0.06059206229305378, 18.897271161745714, 17.211374936967808, 16.26052116808533, 11.387209642972946, 0.13295785090825962, 0.08304990241089442, 0.08304990241089442, 0.08304990241089442, 0.08304990241089442, 0.08304990241089442, 0.08304990241089442, 0.08304990241089442, 0.03996598314004869, 0.03996598314004869, 0.03996598314004869, 0.03996598314004869, 0.03996598314004869, 0.03996598314004869, 0.03996598314004869, 0.03996598314004869, 0.03996598314004869, 0.03996598314004869, 0.03996598314004869, 0.03996598314004869, 0.03996598314004869, 0.03996598314004869, 0.03996598314004869, 0.03996598314004869, 0.03996598314004869, 0.03996598314004869, 0.03996598314004869, 0.03996598314004869, 0.03996598314004869, 0.03996598314004869, 0.03996598314004869, 0.03996598314004869, 0.03996598314004869, 0.03996598314004869, 0.03996598314004869, 0.03996598314004869, 0.03996598314004869, 0.03996598314004869, 0.03996598314004869, 0.03996598314004869, 35.39044107240349, 5.092928084195507, 4.379425429207938, 4.1989930270932, 2.0970122625915537, 0.5645342696895508, 0.5645342696895508, 0.5645342696895508, 0.5645342696895508, 0.5645342696895508, 0.5645342696895508, 0.5645342696895508, 0.048197707358061385, 0.048197707358061385, 0.048197707358061385, 0.048197707358061385, 0.048197707358061385, 0.048197707358061385, 0.048197707358061385, 0.048197707358061385, 0.048197707358061385, 0.048197707358061385, 0.048197707358061385, 0.048197707358061385, 0.048197707358061385, 0.048197707358061385, 0.048197707358061385, 0.048197707358061385, 0.048197707358061385, 0.048197707358061385, 0.048197707358061385, 0.048197707358061385, 0.048197707358061385, 0.048197707358061385, 0.048197707358061385, 0.048197707358061385, 0.048197707358061385, 0.048197707358061385, 0.048197707358061385, 0.048197707358061385, 0.048197707358061385, 0.048197707358061385, 0.048197707358061385, 0.048197707358061385, 26.42799771459874, 5.619584044120529, 4.46440913110111, 4.46440913110111, 4.412861670394763, 4.402873464928625, 0.159377096706588, 0.12448529620901205, 0.12448529620901205, 0.12448529620901205, 0.12448529620901205, 0.12448529620901205, 0.12448529620901205, 0.12448529620901205, 0.11149130329389245, 0.09701965394143877, 0.07710101443379469, 0.07710101443379469, 0.07710101443379469, 0.07710101443379469, 0.07710101443379469, 0.07710101443379469, 0.05990587804878475, 0.05990587804878475, 0.05990587804878475, 0.05990587804878475, 0.05990587804878475, 0.05990587804878475, 0.05990587804878475, 0.05990587804878475, 0.05990587804878475, 0.05990587804878475, 0.05990587804878475, 0.05990587804878475, 0.05990587804878475, 0.05990587804878475, 18.257356534660882, 7.536014894190064, 6.439512164906136, 4.386665420664478, 4.368159103648697, 2.124956236570231, 2.124956236570231, 1.6872120747888228, 1.6071935301655882, 0.14409680768699817, 0.0926680490008344, 0.0926680490008344, 0.0926680490008344, 0.0926680490008344, 0.0926680490008344, 0.0926680490008344, 0.0926680490008344, 0.08875891244348313, 0.07778519332336052, 0.06407831491478884, 0.06407831491478884, 0.06407831491478884, 0.06407831491478884, 0.06407831491478884, 0.06407831491478884, 0.06407831491478884, 0.06407831491478884, 0.06407831491478884, 0.06407831491478884, 0.06407831491478884, 0.06407831491478884, 0.06407831491478884, 0.06407831491478884, 0.06407831491478884, 0.06407831491478884, 0.06407831491478884, 0.06407831491478884, 0.06407831491478884, 19.023203041325544, 10.376455682992885, 10.376455682992885, 10.376455682992885, 3.3432290115782, 1.7297089314868515, 1.6411623679351537, 0.8393107057384834, 0.8071522927768758, 0.23761566335138615, 0.23761566335138615, 0.20776061255632858, 0.07483871416091414, 0.04333078141597152, 0.04333078141597152, 0.019268736532984113, 0.019268736532984113, 0.019268736532984113, 0.019268736532984113, 0.019268736532984113, 0.019268736532984113, 0.019268736532984113, 0.019268736532984113, 0.019268736532984113, 0.019268736532984113, 0.019268736532984113, 0.019268736532984113, 0.019268736532984113, 0.019268736532984113, 0.019268736532984113, 0.019268736532984113, 0.019268736532984113, 0.019268736532984113, 0.019268736532984113, 0.019268736532984113, 0.019268736532984113, 0.019268736532984113, 0.019268736532984113, 0.019268736532984113, 0.019268736532984113, 0.019268736532984113, 30.135490588387224, 13.539304645791844, 3.0623235744579893, 2.086542431979008, 2.0389139315274485, 1.7776900848732733, 1.537519235121977, 1.2189779545798687, 0.675168476041471, 0.051823464362009866, 0.02118226120071364, 0.02118226120071364, 0.02118226120071364, 0.02118226120071364, 0.02118226120071364, 0.02118226120071364, 0.02118226120071364, 0.02118226120071364, 0.02118226120071364, 0.02118226120071364, 0.02118226120071364, 0.02118226120071364, 0.02118226120071364, 0.02118226120071364, 0.02118226120071364, 0.02118226120071364, 0.02118226120071364, 0.02118226120071364, 0.02118226120071364, 0.02118226120071364, 0.02118226120071364, 0.02118226120071364, 0.02118226120071364, 0.02118226120071364, 0.02118226120071364, 0.02118226120071364, 0.02118226120071364, 0.02118226120071364, 0.02118226120071364, 0.02118226120071364, 0.02118226120071364, 0.02118226120071364, 0.02118226120071364, 0.02118226120071364, 0.02118226120071364, 0.02118226120071364, 9.554199902088472, 7.2086827071748045, 5.228064996547916, 4.55246908212413, 4.001085660561922, 2.391022122362627, 2.372909004606308, 1.782245880634373, 1.782245880634373, 0.7044048467622427, 0.6717895674237366, 0.4516155664777743, 0.2320005105352046, 0.12487289390433948, 0.12487289390433948, 0.11970701980201394, 0.11970701980201394, 0.08709190221088026, 0.08709190221088026, 0.08709190221088026, 0.08709190221088026, 0.08709190221088026, 0.07259026630765318, 0.05447677788027271, 0.05447677788027271, 0.05447677788027271, 0.05447677788027271, 0.05447677788027271, 0.05447677788027271, 0.05447677788027271, 0.05447677788027271, 0.05447677788027271, 0.05447677788027271, 0.05447677788027271, 0.05447677788027271, 18.538680275833926, 4.9139797190027386, 4.440929030921659, 3.967701963799441, 3.039296234889492, 2.3952074310166616, 2.2912372356423703, 1.5556223026851168, 1.348555303152738, 0.5083167324687888, 0.38931544696687476, 0.12123232289101586, 0.10084785983434054, 0.09748844934065855, 0.09448640325688829, 0.07435640371268727, 0.0658990155667069, 0.0658990155667069, 0.0658990155667069, 0.06488392400104769, 0.05305218104344669, 0.05305218104344669, 0.041220434804985544, 0.041220434804985544, 0.041220434804985544, 0.041220434804985544, 0.041220434804985544, 0.041220434804985544, 0.041220434804985544, 0.041220434804985544, 0.041220434804985544, 0.041220434804985544, 0.041220434804985544, 0.041220434804985544, 0.041220434804985544, 0.041220434804985544, 7.385068585634474, 5.982637072363357, 5.654022892807717, 5.332591802994313, 3.524204034585471, 3.44149059665405, 3.44149059665405, 3.44149059665405, 1.4192462538734447, 1.3415875983483123, 1.0102408174474007, 1.0102408174474007, 0.5056903260979619, 0.23333028209189413, 0.10909863373508892, 0.10032679893757268, 0.10032679893757268, 0.10032679893757268, 0.04100745825786138, 0.04100745825786138, 0.04100745825786138, 0.04100745825786138, 0.04100745825786138, 0.04100745825786138, 0.04100745825786138, 0.04100745825786138, 0.04100745825786138, 0.04100745825786138, 0.04100745825786138, 0.04100745825786138, 0.04100745825786138, 0.04100745825786138, 0.04100745825786138, 0.04100745825786138, 0.04100745825786138, 0.04100745825786138, 0.04100745825786138, 0.04100745825786138, 18.704551406354334, 11.185503633796383, 4.356256057205416, 0.6561496364668791, 0.6561496364668791, 0.6008495346220263, 0.4844967560640416, 0.4844967560640416, 0.4844967560640416, 0.4844967560640416, 0.14822990692178023, 0.09903704857603733, 0.07781093919974898, 0.06835476185186799, 0.05129816445060797, 0.05129816445060797, 0.05129816445060797, 0.05129816445060797, 0.05129816445060797, 0.05129816445060797, 0.05129816445060797, 0.05129816445060797, 0.05129816445060797, 0.05129816445060797, 0.05129816445060797, 0.05129816445060797, 0.05129816445060797, 0.05129816445060797, 0.05129816445060797, 0.05129816445060797, 0.05129816445060797, 0.05129816445060797, 0.05129816445060797, 0.05129816445060797, 0.05129816445060797, 0.05129816445060797, 0.05129816445060797, 0.05129816445060797, 0.05129816445060797, 0.05129816445060797, 0.05129816445060797, 0.05129816445060797, 9.968026600790317, 7.680183332336996, 2.3383210568345176, 2.1348680092234655, 2.1348680092234655, 2.1348680092234655, 1.9131401219889341, 1.850698423170912, 1.6053833199013607, 0.69759166365192, 0.6625877081680658, 0.2202292543125256, 0.1504997986747901, 0.12721043457372003, 0.09043692608166207, 0.0728064945958483, 0.07058632218989327, 0.05656912578925019, 0.05656912578925019, 0.05656912578925019, 0.05656912578925019, 0.05656912578925019, 0.05656912578925019, 0.05656912578925019, 0.05656912578925019, 0.05656912578925019, 0.05656912578925019, 0.05656912578925019, 0.05656912578925019, 0.05656912578925019, 0.05656912578925019, 0.05656912578925019, 0.05656912578925019, 0.05656912578925019, 0.05656912578925019, 0.05656912578925019, 0.05656912578925019, 0.05656912578925019, 0.05656912578925019, 7.281447063196359, 6.953158464981101, 4.420637862263616, 4.420637862263616, 4.368748921731701, 3.4310946231683457, 0.5612850634090307, 0.5612850634090307, 0.5612850634090307, 0.5612850634090307, 0.139285358938347, 0.10817377138537514, 0.10644820561266467, 0.10644820561266467, 0.06319157381496816, 0.06319157381496816, 0.06319157381496816, 0.05205630390526766, 0.05205630390526766, 0.05205630390526766, 0.05205630390526766, 0.05205630390526766, 0.05205630390526766, 0.05205630390526766, 0.05205630390526766, 0.05205630390526766, 0.05205630390526766, 0.05205630390526766, 0.05205630390526766, 0.05205630390526766, 0.05205630390526766, 0.05205630390526766, 0.05205630390526766, 0.05205630390526766, 0.05205630390526766, 0.05205630390526766, 0.05205630390526766, 0.05205630390526766, 0.05205630390526766, 0.05205630390526766, 0.05205630390526766, 0.05205630390526766], \"Total\": [78.0, 65.0, 51.0, 43.0, 36.0, 41.0, 31.0, 33.0, 27.0, 30.0, 19.0, 19.0, 19.0, 23.0, 19.0, 19.0, 20.0, 18.0, 17.0, 14.0, 18.0, 14.0, 12.0, 13.0, 10.0, 12.0, 11.0, 11.0, 11.0, 10.0, 30.122625891576792, 18.08586850734862, 12.868465240489309, 12.868465240489309, 4.991501695643625, 4.907325746342114, 3.0076580404443254, 1.942758139223959, 1.1593993660182804, 1.1593993660182804, 1.0458233367335943, 0.9793392956699929, 0.9793392956699929, 0.9793392956699929, 0.9793392956699929, 0.97063176547485, 0.97063176547485, 0.97063176547485, 0.9713282418036105, 0.9713282418036105, 0.973203373973721, 0.9735136919657924, 0.9745105373386835, 0.9745105373386835, 0.9745105373386835, 0.9757338643717475, 0.9765530929664094, 0.9766246965754027, 0.9766916319501593, 0.9766916319501593, 2.6699367911920726, 3.3134835832872893, 1.7795385319992965, 3.277928771668553, 2.508310729892036, 2.6872656385340257, 2.2600766758703763, 2.7536258331615873, 2.2668314041276783, 2.6872656385340257, 2.4738984065950516, 3.0377954192141408, 3.0377954192141408, 3.0377954192141408, 1.9653705725640154, 78.32952348335381, 7.028106197682106, 5.8119776014433615, 1.0036463705955958, 0.97063176547485, 0.97063176547485, 0.97063176547485, 0.9713282418036105, 0.9713282418036105, 0.973203373973721, 0.9735136919657924, 0.9745105373386835, 0.9745105373386835, 0.9745105373386835, 0.9757338643717475, 0.9765530929664094, 0.9766246965754027, 0.9766916319501593, 0.9766916319501593, 0.9766916319501593, 0.9766916319501593, 0.9766916319501593, 0.9766916319501593, 0.9776099839925299, 0.9783114655490514, 0.9783114655490514, 0.9784843921514554, 0.9784843921514554, 0.9784843921514554, 0.9784843921514554, 4.907325746342114, 3.3134835832872893, 2.6699367911920726, 1.7795385319992965, 1.9287298887418676, 1.9287298887418676, 2.508310729892036, 2.6872656385340257, 2.2600766758703763, 2.7536258331615873, 2.2668314041276783, 2.6872656385340257, 2.4738984065950516, 3.0377954192141408, 3.0377954192141408, 3.0377954192141408, 1.9653705725640154, 1.9653705725640154, 3.277928771668553, 1.3566352965749449, 1.3926950995908767, 1.3926950995908767, 1.3075915201393324, 1.3926950995908767, 1.3926950995908767, 1.4687252674812061, 41.0838633093868, 33.74106999166943, 7.118289894846977, 5.564858588679823, 3.6800240356033007, 3.6455475698878166, 1.9243875686433054, 1.61983275999327, 1.0384038749780276, 0.9848907760805257, 0.9848907760805257, 0.9848907760805257, 0.97063176547485, 0.97063176547485, 0.97063176547485, 0.9713282418036105, 0.9713282418036105, 0.973203373973721, 0.9735136919657924, 0.9745105373386835, 0.9745105373386835, 0.9745105373386835, 0.9757338643717475, 0.9765530929664094, 0.9766246965754027, 0.9766916319501593, 0.9766916319501593, 0.9766916319501593, 0.9766916319501593, 0.9766916319501593, 2.6699367911920726, 2.4738984065950516, 3.277928771668553, 1.7795385319992965, 4.907325746342114, 3.3134835832872893, 1.9287298887418676, 1.9287298887418676, 2.508310729892036, 2.6872656385340257, 2.2600766758703763, 2.7536258331615873, 2.2668314041276783, 2.6872656385340257, 3.0377954192141408, 3.0377954192141408, 3.0377954192141408, 1.9653705725640154, 23.517908552298255, 20.542428118141167, 9.631352009376698, 7.8813303155495635, 6.592952098632623, 6.579845138135005, 5.058946647206045, 2.8779461094696237, 2.8436986280283345, 2.346544690777144, 1.5318558681697956, 1.053456041450935, 1.0237714109287672, 0.9783114655490514, 0.9783114655490514, 0.97063176547485, 0.97063176547485, 0.97063176547485, 0.9713282418036105, 0.9713282418036105, 0.973203373973721, 0.9735136919657924, 0.9745105373386835, 0.9745105373386835, 0.9745105373386835, 0.9757338643717475, 0.9765530929664094, 0.9766246965754027, 0.9766916319501593, 0.9766916319501593, 4.907325746342114, 3.3134835832872893, 2.6699367911920726, 1.0564282380363217, 1.0589677142229528, 43.73811690108202, 65.07868493763357, 1.0534271684506893, 1.027587671042377, 19.816801674170808, 78.32952348335381, 51.22715334640507, 11.317422881443257, 5.28915256424157, 4.13363728442975, 3.08729576887795, 3.028280594857974, 1.1636332970183327, 1.1039034184780698, 1.0707891854417249, 1.062622210700537, 1.0110593504133503, 1.0110593504133503, 1.0110593504133503, 1.0110593504133503, 0.9808373308323769, 0.9808373308323769, 0.9808373308323769, 0.97063176547485, 0.97063176547485, 0.97063176547485, 0.9713282418036105, 0.9713282418036105, 0.973203373973721, 0.9735136919657924, 0.9745105373386835, 0.9745105373386835, 0.9745105373386835, 0.9757338643717475, 0.9765530929664094, 0.9766246965754027, 1.7795385319992965, 4.907325746342114, 3.3134835832872893, 2.6699367911920726, 1.0564282380363217, 1.0589677142229528, 43.73811690108202, 65.07868493763357, 1.0534271684506893, 1.027587671042377, 1.053456041450935, 43.73811690108202, 10.36881762328167, 5.554778581390373, 4.42858078334862, 3.3263372795624004, 2.1941749427551196, 2.0276972050418927, 2.0276972050418927, 2.0276972050418927, 2.0276972050418927, 2.0276972050418927, 2.0276972050418927, 2.0276972050418927, 2.0276972050418927, 2.0276972050418927, 2.0276972050418927, 2.0276972050418927, 2.0276971218765008, 2.0276971218765008, 2.0276971218765008, 0.9766246965754027, 0.97063176547485, 0.97063176547485, 0.97063176547485, 0.9713282418036105, 0.9713282418036105, 0.973203373973721, 0.9735136919657924, 0.9745105373386835, 0.9745105373386835, 1.0564282380363217, 1.0589677142229528, 65.07868493763357, 1.0534271684506893, 1.027587671042377, 1.053456041450935, 65.07868493763357, 5.550967692670249, 3.130563699189221, 1.9653705725640154, 1.9653705725640154, 0.9968700196872263, 0.9784844064341208, 0.9784844064341208, 0.9784843921514554, 0.9784843921514554, 0.9784843921514554, 0.9784843921514554, 0.9784843921514554, 0.9784843921514554, 0.9784843921514554, 0.9784843921514554, 0.9784843921514554, 0.97063176547485, 0.97063176547485, 0.97063176547485, 0.9713282418036105, 0.9713282418036105, 0.973203373973721, 0.9735136919657924, 0.9745105373386835, 0.9745105373386835, 0.9745105373386835, 0.9757338643717475, 0.9765530929664094, 0.9766246965754027, 1.0564282380363217, 1.0589677142229528, 43.73811690108202, 1.0534271684506893, 1.027587671042377, 1.053456041450935, 19.816801674170808, 78.32952348335381, 10.45921961977335, 14.340407513514283, 13.520805164251861, 8.69968235484353, 7.444759297191892, 6.713845715460969, 6.648157483270852, 6.177695942463496, 3.478789669679555, 2.2191429685575206, 1.0610286045789756, 1.0424484771743845, 0.9745105373386835, 0.9745105373386835, 0.9745105373386835, 0.97063176547485, 0.97063176547485, 0.97063176547485, 0.9713282418036105, 0.9713282418036105, 0.973203373973721, 0.9735136919657924, 0.9757338643717475, 0.9765530929664094, 0.9766246965754027, 0.9766916319501593, 0.9766916319501593, 0.9766916319501593, 0.9766916319501593, 0.9766916319501593, 0.9766916319501593, 1.0564282380363217, 1.0589677142229528, 43.73811690108202, 65.07868493763357, 1.0534271684506893, 1.027587671042377, 1.053456041450935, 19.816801674170808, 78.32952348335381, 10.45921961977335, 36.30173986061058, 10.36881762328167, 19.816801674170808, 18.130905449392902, 17.180051680510424, 12.30674015539805, 1.0524883633333604, 1.0025804148359951, 1.0025804148359951, 1.0025804148359951, 1.0025804148359951, 1.0025804148359951, 1.0025804148359951, 1.0025804148359951, 0.97063176547485, 0.97063176547485, 0.97063176547485, 0.9713282418036105, 0.9713282418036105, 0.973203373973721, 0.9735136919657924, 0.9745105373386835, 0.9745105373386835, 0.9745105373386835, 0.9757338643717475, 0.9765530929664094, 0.9766246965754027, 0.9766916319501593, 0.9766916319501593, 0.9766916319501593, 0.9766916319501593, 0.9766916319501593, 1.0564282380363217, 1.0589677142229528, 43.73811690108202, 65.07868493763357, 1.0534271684506893, 1.027587671042377, 1.053456041450935, 78.32952348335381, 10.45921961977335, 36.30173986061058, 10.36881762328167, 19.15277471531124, 1.1370202282200812, 4.283456770610365, 36.30173986061058, 6.004226872402595, 5.2907242174150255, 5.110291815300288, 3.0083110507986417, 1.4758330578966388, 1.4758330578966388, 1.4758330578966388, 1.4758330578966388, 1.4758330578966388, 1.4758330578966388, 1.4758330578966388, 0.97063176547485, 0.97063176547485, 0.97063176547485, 0.9713282418036105, 0.9713282418036105, 0.973203373973721, 0.9735136919657924, 0.9745105373386835, 0.9745105373386835, 0.9745105373386835, 0.9757338643717475, 0.9765530929664094, 0.9766246965754027, 0.9766916319501593, 0.9766916319501593, 0.9766916319501593, 0.9766916319501593, 0.9766916319501593, 1.0564282380363217, 1.0589677142229528, 43.73811690108202, 65.07868493763357, 1.0534271684506893, 1.027587671042377, 1.053456041450935, 19.816801674170808, 78.32952348335381, 10.45921961977335, 10.36881762328167, 19.15277471531124, 12.30674015539805, 1.1370202282200812, 27.3275883321151, 6.519174661636893, 5.363999748617474, 5.363999748617474, 5.312452287911127, 5.302464082444989, 1.0589677142229528, 1.0240759137253768, 1.0240759137253768, 1.0240759137253768, 1.0240759137253768, 1.0240759137253768, 1.0240759137253768, 1.0240759137253768, 1.011081920810257, 0.9966102714578035, 0.9766916319501593, 0.9766916319501593, 0.9766916319501593, 0.9766916319501593, 0.9766916319501593, 0.9766916319501593, 0.97063176547485, 0.97063176547485, 0.97063176547485, 0.9713282418036105, 0.9713282418036105, 0.973203373973721, 0.9735136919657924, 0.9745105373386835, 1.0564282380363217, 43.73811690108202, 65.07868493763357, 1.0534271684506893, 1.027587671042377, 1.053456041450935, 19.15277471531124, 8.431433074840426, 7.334930345556497, 5.282083601314839, 5.263577284299058, 3.0203744172205913, 3.0203744172205913, 2.582630255439183, 2.5026117108159487, 1.0395149883373587, 0.9880862296511949, 0.9880862296511949, 0.9880862296511949, 0.9880862296511949, 0.9880862296511949, 0.9880862296511949, 0.9880862296511949, 0.9841770930938436, 0.973203373973721, 0.97063176547485, 0.97063176547485, 0.97063176547485, 0.9713282418036105, 0.9713282418036105, 0.9735136919657924, 0.9745105373386835, 0.9745105373386835, 0.9745105373386835, 0.9757338643717475, 0.9765530929664094, 1.0564282380363217, 1.0589677142229528, 43.73811690108202, 65.07868493763357, 1.0534271684506893, 1.027587671042377, 1.053456041450935, 19.816801674170808, 19.963430800357706, 11.316683442025052, 11.316683442025052, 11.316683442025052, 4.283456770610365, 2.6699367911920726, 2.5813901269673187, 1.7795385319992965, 1.747380051809041, 1.177843434795845, 1.177843434795845, 1.1479883840007876, 1.0150664731930794, 0.9835585404481368, 0.9835585404481368, 0.97063176547485, 0.97063176547485, 0.97063176547485, 0.9713282418036105, 0.9713282418036105, 0.973203373973721, 0.9735136919657924, 0.9745105373386835, 0.9745105373386835, 0.9745105373386835, 0.9757338643717475, 0.9765530929664094, 0.9766246965754027, 0.9766916319501593, 0.9766916319501593, 1.0564282380363217, 1.0589677142229528, 43.73811690108202, 65.07868493763357, 1.0534271684506893, 1.027587671042377, 1.053456041450935, 19.816801674170808, 78.32952348335381, 10.45921961977335, 36.30173986061058, 31.073804822751654, 14.477618880156282, 4.000637808822425, 3.0248566663434433, 2.977228165891884, 2.716004319237709, 2.4758334694864126, 2.157292188944304, 1.6134827104059069, 0.9901376987264456, 0.97063176547485, 0.97063176547485, 0.97063176547485, 0.9713282418036105, 0.9713282418036105, 0.973203373973721, 0.9735136919657924, 0.9745105373386835, 0.9745105373386835, 0.9745105373386835, 0.9757338643717475, 0.9765530929664094, 0.9766246965754027, 0.9766916319501593, 0.9766916319501593, 0.9766916319501593, 0.9766916319501593, 0.9766916319501593, 0.9766916319501593, 0.9776099839925299, 1.0564282380363217, 1.0589677142229528, 43.73811690108202, 65.07868493763357, 1.0534271684506893, 1.027587671042377, 1.053456041450935, 19.816801674170808, 78.32952348335381, 10.45921961977335, 36.30173986061058, 10.36881762328167, 19.15277471531124, 12.30674015539805, 1.1370202282200812, 4.283456770610365, 10.45921961977335, 8.113702424859682, 6.133084714232792, 5.457488799809006, 4.9061053782467985, 3.2960418400475033, 3.277928771668553, 2.6872656385340257, 2.6872656385340257, 1.6094245644471195, 1.5768092975209071, 1.3566352965749449, 1.1370202282200812, 1.0298926115892162, 1.0298926115892162, 1.0247267374868907, 1.0247267374868907, 0.9921116198957569, 0.9921116198957569, 0.9921116198957569, 0.9921116198957569, 0.9921116198957569, 0.9776099839925299, 0.97063176547485, 0.97063176547485, 0.97063176547485, 0.9713282418036105, 0.9713282418036105, 0.973203373973721, 0.9735136919657924, 1.0564282380363217, 1.0589677142229528, 43.73811690108202, 65.07868493763357, 1.0534271684506893, 19.45695633659409, 5.832255779762902, 5.359205091681822, 4.885978024559605, 3.9575722956496557, 3.3134835832872893, 3.209513296402534, 2.4738984065950516, 2.2668314041276783, 1.4265928056412465, 1.3075915201393324, 1.0395083836511798, 1.0191239205945044, 1.0157645101008226, 1.0127624640170523, 0.9926324644728511, 0.9841750763268707, 0.9841750763268707, 0.9841750763268707, 0.9831599847612116, 0.9713282418036105, 0.9713282418036105, 0.97063176547485, 0.97063176547485, 0.97063176547485, 0.973203373973721, 0.9735136919657924, 0.9745105373386835, 0.9745105373386835, 0.9745105373386835, 1.0564282380363217, 1.0589677142229528, 43.73811690108202, 65.07868493763357, 1.0534271684506893, 1.027587671042377, 8.303557622941764, 6.901126109670644, 6.572511930115004, 6.2510808403016, 4.442693071892759, 4.359979633961338, 4.359979633961338, 4.359979633961338, 2.3377352911807328, 2.2600766758703763, 1.9287298887418676, 1.9287298887418676, 1.4241793758175436, 1.1518193193991821, 1.027587671042377, 1.0188158362448607, 1.0188158362448607, 1.0188158362448607, 0.97063176547485, 0.97063176547485, 0.97063176547485, 0.9713282418036105, 0.9713282418036105, 0.973203373973721, 0.9735136919657924, 0.9745105373386835, 0.9745105373386835, 0.9745105373386835, 0.9757338643717475, 0.9765530929664094, 1.0564282380363217, 1.0589677142229528, 43.73811690108202, 65.07868493763357, 1.0534271684506893, 1.053456041450935, 19.816801674170808, 78.32952348335381, 19.612749737468874, 12.093701964910926, 5.264454388319956, 1.5643479675814207, 1.5643479675814207, 1.5090478657365678, 1.3926950995908767, 1.3926950995908767, 1.3926950995908767, 1.3926950995908767, 1.0564282380363217, 1.0072353796905789, 0.9860092703142904, 0.9765530929664094, 0.97063176547485, 0.97063176547485, 0.97063176547485, 0.9713282418036105, 0.9713282418036105, 0.973203373973721, 0.9735136919657924, 0.9745105373386835, 0.9745105373386835, 0.9745105373386835, 0.9757338643717475, 0.9766246965754027, 0.9766916319501593, 0.9766916319501593, 0.9766916319501593, 0.9766916319501593, 1.0589677142229528, 43.73811690108202, 65.07868493763357, 1.0534271684506893, 1.027587671042377, 1.053456041450935, 19.816801674170808, 78.32952348335381, 10.45921961977335, 36.30173986061058, 10.36881762328167, 19.15277471531124, 10.870953970566216, 8.583110702112895, 3.241248426610417, 3.0377954192141408, 3.0377954192141408, 3.0377954192141408, 2.816067491764833, 2.7536258331615873, 2.508310729892036, 1.600519045840113, 1.565515077943965, 1.123156624088425, 1.0534271684506893, 1.0301378043496192, 0.9933642958575613, 0.9757338643717475, 0.9735136919657924, 0.97063176547485, 0.97063176547485, 0.97063176547485, 0.9713282418036105, 0.9713282418036105, 0.973203373973721, 0.9745105373386835, 0.9745105373386835, 0.9745105373386835, 0.9765530929664094, 0.9766246965754027, 0.9766916319501593, 0.9766916319501593, 1.0564282380363217, 1.0589677142229528, 43.73811690108202, 65.07868493763357, 1.027587671042377, 1.053456041450935, 19.816801674170808, 78.32952348335381, 10.45921961977335, 8.18888725485624, 7.860598656640983, 5.328078053923498, 5.328078053923498, 5.276189113391583, 4.338534814828227, 1.4687252674812061, 1.4687252674812061, 1.4687252674812061, 1.4687252674812061, 1.0467255505982287, 1.015613963045257, 1.0138883972725465, 1.0138883972725465, 0.97063176547485, 0.97063176547485, 0.97063176547485, 0.9713282418036105, 0.9713282418036105, 0.973203373973721, 0.9735136919657924, 0.9745105373386835, 0.9745105373386835, 0.9745105373386835, 0.9757338643717475, 0.9765530929664094, 0.9766246965754027, 0.9766916319501593, 0.9766916319501593, 0.9766916319501593, 1.0564282380363217, 1.0589677142229528, 43.73811690108202, 65.07868493763357, 1.0534271684506893, 1.027587671042377, 1.053456041450935, 19.816801674170808, 78.32952348335381, 10.45921961977335, 36.30173986061058, 10.36881762328167], \"Category\": [\"Default\", \"Default\", \"Default\", \"Default\", \"Default\", \"Default\", \"Default\", \"Default\", \"Default\", \"Default\", \"Default\", \"Default\", \"Default\", \"Default\", \"Default\", \"Default\", \"Default\", \"Default\", \"Default\", \"Default\", \"Default\", \"Default\", \"Default\", \"Default\", \"Default\", \"Default\", \"Default\", \"Default\", \"Default\", \"Default\", \"Topic1\", \"Topic1\", \"Topic1\", \"Topic1\", \"Topic1\", \"Topic1\", \"Topic1\", \"Topic1\", \"Topic1\", \"Topic1\", \"Topic1\", \"Topic1\", \"Topic1\", \"Topic1\", \"Topic1\", \"Topic1\", \"Topic1\", \"Topic1\", \"Topic1\", \"Topic1\", \"Topic1\", \"Topic1\", \"Topic1\", \"Topic1\", \"Topic1\", \"Topic1\", \"Topic1\", \"Topic1\", \"Topic1\", \"Topic1\", \"Topic1\", \"Topic1\", \"Topic1\", \"Topic1\", \"Topic1\", \"Topic1\", \"Topic1\", \"Topic1\", \"Topic1\", \"Topic1\", \"Topic1\", \"Topic1\", \"Topic1\", \"Topic1\", \"Topic1\", \"Topic2\", \"Topic2\", \"Topic2\", \"Topic2\", \"Topic2\", \"Topic2\", \"Topic2\", \"Topic2\", \"Topic2\", \"Topic2\", \"Topic2\", \"Topic2\", \"Topic2\", \"Topic2\", \"Topic2\", \"Topic2\", \"Topic2\", \"Topic2\", \"Topic2\", \"Topic2\", \"Topic2\", \"Topic2\", \"Topic2\", \"Topic2\", \"Topic2\", \"Topic2\", \"Topic2\", \"Topic2\", \"Topic2\", \"Topic2\", \"Topic2\", \"Topic2\", \"Topic2\", \"Topic2\", \"Topic2\", \"Topic2\", \"Topic2\", \"Topic2\", \"Topic2\", \"Topic2\", \"Topic2\", \"Topic2\", \"Topic2\", \"Topic2\", \"Topic2\", \"Topic2\", \"Topic2\", \"Topic2\", \"Topic2\", \"Topic2\", \"Topic2\", \"Topic2\", \"Topic2\", \"Topic2\", \"Topic2\", \"Topic2\", \"Topic3\", \"Topic3\", \"Topic3\", \"Topic3\", \"Topic3\", \"Topic3\", \"Topic3\", \"Topic3\", \"Topic3\", \"Topic3\", \"Topic3\", \"Topic3\", \"Topic3\", \"Topic3\", \"Topic3\", \"Topic3\", \"Topic3\", \"Topic3\", \"Topic3\", \"Topic3\", \"Topic3\", \"Topic3\", \"Topic3\", \"Topic3\", \"Topic3\", \"Topic3\", \"Topic3\", \"Topic3\", \"Topic3\", \"Topic3\", \"Topic3\", \"Topic3\", \"Topic3\", \"Topic3\", \"Topic3\", \"Topic3\", \"Topic3\", \"Topic3\", \"Topic3\", \"Topic3\", \"Topic3\", \"Topic3\", \"Topic3\", \"Topic3\", \"Topic3\", \"Topic3\", \"Topic3\", \"Topic3\", \"Topic4\", \"Topic4\", \"Topic4\", \"Topic4\", \"Topic4\", \"Topic4\", \"Topic4\", \"Topic4\", \"Topic4\", \"Topic4\", \"Topic4\", \"Topic4\", \"Topic4\", \"Topic4\", \"Topic4\", \"Topic4\", \"Topic4\", \"Topic4\", \"Topic4\", \"Topic4\", \"Topic4\", \"Topic4\", \"Topic4\", \"Topic4\", \"Topic4\", \"Topic4\", \"Topic4\", \"Topic4\", \"Topic4\", \"Topic4\", \"Topic4\", \"Topic4\", \"Topic4\", \"Topic4\", \"Topic4\", \"Topic4\", \"Topic4\", \"Topic4\", \"Topic4\", \"Topic4\", \"Topic4\", \"Topic5\", \"Topic5\", \"Topic5\", \"Topic5\", \"Topic5\", \"Topic5\", \"Topic5\", \"Topic5\", \"Topic5\", \"Topic5\", \"Topic5\", \"Topic5\", \"Topic5\", \"Topic5\", \"Topic5\", \"Topic5\", \"Topic5\", \"Topic5\", \"Topic5\", \"Topic5\", \"Topic5\", \"Topic5\", \"Topic5\", \"Topic5\", \"Topic5\", \"Topic5\", \"Topic5\", \"Topic5\", \"Topic5\", \"Topic5\", \"Topic5\", \"Topic5\", \"Topic5\", \"Topic5\", \"Topic5\", \"Topic5\", \"Topic5\", \"Topic5\", \"Topic5\", \"Topic5\", \"Topic5\", \"Topic6\", \"Topic6\", \"Topic6\", \"Topic6\", \"Topic6\", \"Topic6\", \"Topic6\", \"Topic6\", \"Topic6\", \"Topic6\", \"Topic6\", \"Topic6\", \"Topic6\", \"Topic6\", \"Topic6\", \"Topic6\", \"Topic6\", \"Topic6\", \"Topic6\", \"Topic6\", \"Topic6\", \"Topic6\", \"Topic6\", \"Topic6\", \"Topic6\", \"Topic6\", \"Topic6\", \"Topic6\", \"Topic6\", \"Topic6\", \"Topic6\", \"Topic6\", \"Topic6\", \"Topic6\", \"Topic6\", \"Topic6\", \"Topic7\", \"Topic7\", \"Topic7\", \"Topic7\", \"Topic7\", \"Topic7\", \"Topic7\", \"Topic7\", \"Topic7\", \"Topic7\", \"Topic7\", \"Topic7\", \"Topic7\", \"Topic7\", \"Topic7\", \"Topic7\", \"Topic7\", \"Topic7\", \"Topic7\", \"Topic7\", \"Topic7\", \"Topic7\", \"Topic7\", \"Topic7\", \"Topic7\", \"Topic7\", \"Topic7\", \"Topic7\", \"Topic7\", \"Topic7\", \"Topic7\", \"Topic7\", \"Topic7\", \"Topic7\", \"Topic7\", \"Topic7\", \"Topic7\", \"Topic7\", \"Topic7\", \"Topic8\", \"Topic8\", \"Topic8\", \"Topic8\", \"Topic8\", \"Topic8\", \"Topic8\", \"Topic8\", \"Topic8\", \"Topic8\", \"Topic8\", \"Topic8\", \"Topic8\", \"Topic8\", \"Topic8\", \"Topic8\", \"Topic8\", \"Topic8\", \"Topic8\", \"Topic8\", \"Topic8\", \"Topic8\", \"Topic8\", \"Topic8\", \"Topic8\", \"Topic8\", \"Topic8\", \"Topic8\", \"Topic8\", \"Topic8\", \"Topic8\", \"Topic8\", \"Topic8\", \"Topic8\", \"Topic8\", \"Topic8\", \"Topic8\", \"Topic8\", \"Topic8\", \"Topic8\", \"Topic8\", \"Topic8\", \"Topic9\", \"Topic9\", \"Topic9\", \"Topic9\", \"Topic9\", \"Topic9\", \"Topic9\", \"Topic9\", \"Topic9\", \"Topic9\", \"Topic9\", \"Topic9\", \"Topic9\", \"Topic9\", \"Topic9\", \"Topic9\", \"Topic9\", \"Topic9\", \"Topic9\", \"Topic9\", \"Topic9\", \"Topic9\", \"Topic9\", \"Topic9\", \"Topic9\", \"Topic9\", \"Topic9\", \"Topic9\", \"Topic9\", \"Topic9\", \"Topic9\", \"Topic9\", \"Topic9\", \"Topic9\", \"Topic9\", \"Topic9\", \"Topic9\", \"Topic9\", \"Topic9\", \"Topic9\", \"Topic9\", \"Topic9\", \"Topic9\", \"Topic9\", \"Topic10\", \"Topic10\", \"Topic10\", \"Topic10\", \"Topic10\", \"Topic10\", \"Topic10\", \"Topic10\", \"Topic10\", \"Topic10\", \"Topic10\", \"Topic10\", \"Topic10\", \"Topic10\", \"Topic10\", \"Topic10\", \"Topic10\", \"Topic10\", \"Topic10\", \"Topic10\", \"Topic10\", \"Topic10\", \"Topic10\", \"Topic10\", \"Topic10\", \"Topic10\", \"Topic10\", \"Topic10\", \"Topic10\", \"Topic10\", \"Topic10\", \"Topic10\", \"Topic10\", \"Topic10\", \"Topic10\", \"Topic10\", \"Topic10\", \"Topic10\", \"Topic10\", \"Topic10\", \"Topic10\", \"Topic10\", \"Topic10\", \"Topic10\", \"Topic11\", \"Topic11\", \"Topic11\", \"Topic11\", \"Topic11\", \"Topic11\", \"Topic11\", \"Topic11\", \"Topic11\", \"Topic11\", \"Topic11\", \"Topic11\", \"Topic11\", \"Topic11\", \"Topic11\", \"Topic11\", \"Topic11\", \"Topic11\", \"Topic11\", \"Topic11\", \"Topic11\", \"Topic11\", \"Topic11\", \"Topic11\", \"Topic11\", \"Topic11\", \"Topic11\", \"Topic11\", \"Topic11\", \"Topic11\", \"Topic11\", \"Topic11\", \"Topic11\", \"Topic11\", \"Topic11\", \"Topic11\", \"Topic12\", \"Topic12\", \"Topic12\", \"Topic12\", \"Topic12\", \"Topic12\", \"Topic12\", \"Topic12\", \"Topic12\", \"Topic12\", \"Topic12\", \"Topic12\", \"Topic12\", \"Topic12\", \"Topic12\", \"Topic12\", \"Topic12\", \"Topic12\", \"Topic12\", \"Topic12\", \"Topic12\", \"Topic12\", \"Topic12\", \"Topic12\", \"Topic12\", \"Topic12\", \"Topic12\", \"Topic12\", \"Topic12\", \"Topic12\", \"Topic12\", \"Topic12\", \"Topic12\", \"Topic12\", \"Topic12\", \"Topic12\", \"Topic12\", \"Topic12\", \"Topic13\", \"Topic13\", \"Topic13\", \"Topic13\", \"Topic13\", \"Topic13\", \"Topic13\", \"Topic13\", \"Topic13\", \"Topic13\", \"Topic13\", \"Topic13\", \"Topic13\", \"Topic13\", \"Topic13\", \"Topic13\", \"Topic13\", \"Topic13\", \"Topic13\", \"Topic13\", \"Topic13\", \"Topic13\", \"Topic13\", \"Topic13\", \"Topic13\", \"Topic13\", \"Topic13\", \"Topic13\", \"Topic13\", \"Topic13\", \"Topic13\", \"Topic13\", \"Topic13\", \"Topic13\", \"Topic13\", \"Topic13\", \"Topic13\", \"Topic13\", \"Topic13\", \"Topic13\", \"Topic13\", \"Topic14\", \"Topic14\", \"Topic14\", \"Topic14\", \"Topic14\", \"Topic14\", \"Topic14\", \"Topic14\", \"Topic14\", \"Topic14\", \"Topic14\", \"Topic14\", \"Topic14\", \"Topic14\", \"Topic14\", \"Topic14\", \"Topic14\", \"Topic14\", \"Topic14\", \"Topic14\", \"Topic14\", \"Topic14\", \"Topic14\", \"Topic14\", \"Topic14\", \"Topic14\", \"Topic14\", \"Topic14\", \"Topic14\", \"Topic14\", \"Topic14\", \"Topic14\", \"Topic14\", \"Topic14\", \"Topic14\", \"Topic14\", \"Topic14\", \"Topic14\", \"Topic14\", \"Topic14\", \"Topic14\", \"Topic14\", \"Topic14\", \"Topic14\", \"Topic14\", \"Topic14\", \"Topic15\", \"Topic15\", \"Topic15\", \"Topic15\", \"Topic15\", \"Topic15\", \"Topic15\", \"Topic15\", \"Topic15\", \"Topic15\", \"Topic15\", \"Topic15\", \"Topic15\", \"Topic15\", \"Topic15\", \"Topic15\", \"Topic15\", \"Topic15\", \"Topic15\", \"Topic15\", \"Topic15\", \"Topic15\", \"Topic15\", \"Topic15\", \"Topic15\", \"Topic15\", \"Topic15\", \"Topic15\", \"Topic15\", \"Topic15\", \"Topic15\", \"Topic15\", \"Topic15\", \"Topic15\", \"Topic15\", \"Topic16\", \"Topic16\", \"Topic16\", \"Topic16\", \"Topic16\", \"Topic16\", \"Topic16\", \"Topic16\", \"Topic16\", \"Topic16\", \"Topic16\", \"Topic16\", \"Topic16\", \"Topic16\", \"Topic16\", \"Topic16\", \"Topic16\", \"Topic16\", \"Topic16\", \"Topic16\", \"Topic16\", \"Topic16\", \"Topic16\", \"Topic16\", \"Topic16\", \"Topic16\", \"Topic16\", \"Topic16\", \"Topic16\", \"Topic16\", \"Topic16\", \"Topic16\", \"Topic16\", \"Topic16\", \"Topic16\", \"Topic16\", \"Topic17\", \"Topic17\", \"Topic17\", \"Topic17\", \"Topic17\", \"Topic17\", \"Topic17\", \"Topic17\", \"Topic17\", \"Topic17\", \"Topic17\", \"Topic17\", \"Topic17\", \"Topic17\", \"Topic17\", \"Topic17\", \"Topic17\", \"Topic17\", \"Topic17\", \"Topic17\", \"Topic17\", \"Topic17\", \"Topic17\", \"Topic17\", \"Topic17\", \"Topic17\", \"Topic17\", \"Topic17\", \"Topic17\", \"Topic17\", \"Topic17\", \"Topic17\", \"Topic17\", \"Topic17\", \"Topic17\", \"Topic17\", \"Topic17\", \"Topic17\", \"Topic18\", \"Topic18\", \"Topic18\", \"Topic18\", \"Topic18\", \"Topic18\", \"Topic18\", \"Topic18\", \"Topic18\", \"Topic18\", \"Topic18\", \"Topic18\", \"Topic18\", \"Topic18\", \"Topic18\", \"Topic18\", \"Topic18\", \"Topic18\", \"Topic18\", \"Topic18\", \"Topic18\", \"Topic18\", \"Topic18\", \"Topic18\", \"Topic18\", \"Topic18\", \"Topic18\", \"Topic18\", \"Topic18\", \"Topic18\", \"Topic18\", \"Topic18\", \"Topic18\", \"Topic18\", \"Topic18\", \"Topic18\", \"Topic18\", \"Topic18\", \"Topic18\", \"Topic18\", \"Topic18\", \"Topic18\", \"Topic19\", \"Topic19\", \"Topic19\", \"Topic19\", \"Topic19\", \"Topic19\", \"Topic19\", \"Topic19\", \"Topic19\", \"Topic19\", \"Topic19\", \"Topic19\", \"Topic19\", \"Topic19\", \"Topic19\", \"Topic19\", \"Topic19\", \"Topic19\", \"Topic19\", \"Topic19\", \"Topic19\", \"Topic19\", \"Topic19\", \"Topic19\", \"Topic19\", \"Topic19\", \"Topic19\", \"Topic19\", \"Topic19\", \"Topic19\", \"Topic19\", \"Topic19\", \"Topic19\", \"Topic19\", \"Topic19\", \"Topic19\", \"Topic19\", \"Topic19\", \"Topic19\", \"Topic20\", \"Topic20\", \"Topic20\", \"Topic20\", \"Topic20\", \"Topic20\", \"Topic20\", \"Topic20\", \"Topic20\", \"Topic20\", \"Topic20\", \"Topic20\", \"Topic20\", \"Topic20\", \"Topic20\", \"Topic20\", \"Topic20\", \"Topic20\", \"Topic20\", \"Topic20\", \"Topic20\", \"Topic20\", \"Topic20\", \"Topic20\", \"Topic20\", \"Topic20\", \"Topic20\", \"Topic20\", \"Topic20\", \"Topic20\", \"Topic20\", \"Topic20\", \"Topic20\", \"Topic20\", \"Topic20\", \"Topic20\", \"Topic20\", \"Topic20\", \"Topic20\", \"Topic20\", \"Topic20\", \"Topic20\"], \"logprob\": [30.0, 29.0, 28.0, 27.0, 26.0, 25.0, 24.0, 23.0, 22.0, 21.0, 20.0, 19.0, 18.0, 17.0, 16.0, 15.0, 14.0, 13.0, 12.0, 11.0, 10.0, 9.0, 8.0, 7.0, 6.0, 5.0, 4.0, 3.0, 2.0, 1.0, -1.2971, -1.8274, -2.1887, -2.1887, -3.2588, -3.2795, -3.9174, -4.6113, -5.9458, -5.9458, -6.4661, -6.9761, -6.9761, -6.9761, -6.9761, -7.1975, -7.1975, -7.1975, -7.1975, -7.1975, -7.1975, -7.1975, -7.1975, -7.1975, -7.1975, -7.1975, -7.1975, -7.1975, -7.1975, -7.1975, -7.1975, -7.1975, -7.1975, -7.1975, -7.1975, -7.1975, -7.1975, -7.1975, -7.1975, -7.1975, -7.1975, -7.1975, -7.1975, -7.1975, -7.1975, -0.3165, -2.8534, -3.0747, -6.9599, -7.5358, -7.5358, -7.5358, -7.5358, -7.5358, -7.5358, -7.5358, -7.5358, -7.5358, -7.5358, -7.5358, -7.5358, -7.5358, -7.5358, -7.5358, -7.5358, -7.5358, -7.5358, -7.5358, -7.5358, -7.5358, -7.5358, -7.5358, -7.5358, -7.5358, -7.5358, -7.5358, -7.5358, -7.5358, -7.5358, -7.5358, -7.5358, -7.5358, -7.5358, -7.5358, -7.5358, -7.5358, -7.5358, -7.5358, -7.5358, -7.5358, -7.5358, -7.5358, -7.5358, -7.5358, -7.5358, -7.5358, -7.5358, -7.5358, -7.5358, -7.5358, -7.5358, -0.9208, -1.1228, -2.7906, -3.0795, -3.6012, -3.6138, -4.6171, -4.9818, -6.8162, -7.4782, -7.4782, -7.4782, -8.0679, -8.0679, -8.0679, -8.0679, -8.0679, -8.0679, -8.0679, -8.0679, -8.0679, -8.0679, -8.0679, -8.0679, -8.0679, -8.0679, -8.0679, -8.0679, -8.0679, -8.0679, -8.0679, -8.0679, -8.0679, -8.0679, -8.0679, -8.0679, -8.0679, -8.0679, -8.0679, -8.0679, -8.0679, -8.0679, -8.0679, -8.0679, -8.0679, -8.0679, -8.0679, -8.0679, -1.4554, -1.5964, -2.4074, -2.6311, -2.8352, -2.8376, -3.1494, -3.8934, -3.9109, -4.2068, -5.0377, -6.4674, -6.6871, -7.1589, -7.1589, -7.4459, -7.4459, -7.4459, -7.4459, -7.4459, -7.4459, -7.4459, -7.4459, -7.4459, -7.4459, -7.4459, -7.4459, -7.4459, -7.4459, -7.4459, -7.4459, -7.4459, -7.4459, -7.4459, -7.4459, -7.4459, -7.4459, -7.4459, -7.4459, -7.4459, -7.4459, -0.6187, -2.1934, -3.0571, -3.3623, -3.7525, -3.7798, -5.8529, -6.1047, -6.2776, -6.3252, -6.6937, -6.6937, -6.6937, -6.6937, -6.9963, -6.9963, -6.9963, -7.2833, -7.2833, -7.2833, -7.2833, -7.2833, -7.2833, -7.2833, -7.2833, -7.2833, -7.2833, -7.2833, -7.2833, -7.2833, -7.2833, -7.2833, -7.2833, -7.2833, -7.2833, -7.2833, -7.2833, -7.2833, -7.2833, -7.2833, -7.2833, -0.7352, -2.2468, -2.9598, -3.2386, -3.6165, -4.2547, -4.3955, -4.3955, -4.3955, -4.3955, -4.3955, -4.3955, -4.3955, -4.3955, -4.3955, -4.3955, -4.3955, -4.3955, -4.3955, -4.3955, -7.4824, -7.899, -7.899, -7.899, -7.899, -7.899, -7.899, -7.899, -7.899, -7.899, -7.899, -7.899, -7.899, -7.899, -7.899, -7.899, -0.243, -2.874, -3.6164, -4.3715, -4.3715, -7.1414, -7.4753, -7.4753, -7.4753, -7.4753, -7.4753, -7.4753, -7.4753, -7.4753, -7.4753, -7.4753, -7.4753, -8.0022, -8.0022, -8.0022, -8.0022, -8.0022, -8.0022, -8.0022, -8.0022, -8.0022, -8.0022, -8.0022, -8.0022, -8.0022, -8.0022, -8.0022, -8.0022, -8.0022, -8.0022, -8.0022, -8.0022, -8.0022, -8.0022, -1.7835, -1.8464, -2.3276, -2.503, -2.6214, -2.6328, -2.7181, -3.4341, -4.104, -6.2012, -6.3229, -6.9641, -6.9641, -6.9641, -7.1854, -7.1854, -7.1854, -7.1854, -7.1854, -7.1854, -7.1854, -7.1854, -7.1854, -7.1854, -7.1854, -7.1854, -7.1854, -7.1854, -7.1854, -7.1854, -7.1854, -7.1854, -7.1854, -7.1854, -7.1854, -7.1854, -7.1854, -7.1854, -7.1854, -7.1854, -7.1854, -7.1854, -1.3998, -1.4933, -1.5501, -1.9064, -6.3566, -6.8272, -6.8272, -6.8272, -6.8272, -6.8272, -6.8272, -6.8272, -7.5586, -7.5586, -7.5586, -7.5586, -7.5586, -7.5586, -7.5586, -7.5586, -7.5586, -7.5586, -7.5586, -7.5586, -7.5586, -7.5586, -7.5586, -7.5586, -7.5586, -7.5586, -7.5586, -7.5586, -7.5586, -7.5586, -7.5586, -7.5586, -7.5586, -7.5586, -7.5586, -7.5586, -7.5586, -7.5586, -7.5586, -7.5586, -0.6787, -2.6172, -2.7682, -2.8103, -3.5046, -4.8169, -4.8169, -4.8169, -4.8169, -4.8169, -4.8169, -4.8169, -7.2775, -7.2775, -7.2775, -7.2775, -7.2775, -7.2775, -7.2775, -7.2775, -7.2775, -7.2775, -7.2775, -7.2775, -7.2775, -7.2775, -7.2775, -7.2775, -7.2775, -7.2775, -7.2775, -7.2775, -7.2775, -7.2775, -7.2775, -7.2775, -7.2775, -7.2775, -7.2775, -7.2775, -7.2775, -7.2775, -7.2775, -7.2775, -0.9612, -2.5094, -2.7395, -2.7395, -2.7511, -2.7534, -6.0721, -6.3192, -6.3192, -6.3192, -6.3192, -6.3192, -6.3192, -6.3192, -6.4295, -6.5685, -6.7983, -6.7983, -6.7983, -6.7983, -6.7983, -6.7983, -7.0506, -7.0506, -7.0506, -7.0506, -7.0506, -7.0506, -7.0506, -7.0506, -7.0506, -7.0506, -7.0506, -7.0506, -7.0506, -7.0506, -1.3226, -2.2075, -2.3647, -2.7486, -2.7528, -3.4734, -3.4734, -3.7041, -3.7527, -6.1644, -6.6059, -6.6059, -6.6059, -6.6059, -6.6059, -6.6059, -6.6059, -6.649, -6.781, -6.9748, -6.9748, -6.9748, -6.9748, -6.9748, -6.9748, -6.9748, -6.9748, -6.9748, -6.9748, -6.9748, -6.9748, -6.9748, -6.9748, -6.9748, -6.9748, -6.9748, -6.9748, -6.9748, -1.2311, -1.8373, -1.8373, -1.8373, -2.9699, -3.6289, -3.6814, -4.352, -4.3911, -5.6139, -5.6139, -5.7482, -6.7692, -7.3157, -7.3157, -8.1261, -8.1261, -8.1261, -8.1261, -8.1261, -8.1261, -8.1261, -8.1261, -8.1261, -8.1261, -8.1261, -8.1261, -8.1261, -8.1261, -8.1261, -8.1261, -8.1261, -8.1261, -8.1261, -8.1261, -8.1261, -8.1261, -8.1261, -8.1261, -8.1261, -8.1261, -0.7312, -1.5313, -3.0177, -3.4013, -3.4244, -3.5615, -3.7067, -3.9388, -4.5296, -7.0968, -7.9914, -7.9914, -7.9914, -7.9914, -7.9914, -7.9914, -7.9914, -7.9914, -7.9914, -7.9914, -7.9914, -7.9914, -7.9914, -7.9914, -7.9914, -7.9914, -7.9914, -7.9914, -7.9914, -7.9914, -7.9914, -7.9914, -7.9914, -7.9914, -7.9914, -7.9914, -7.9914, -7.9914, -7.9914, -7.9914, -7.9914, -7.9914, -7.9914, -7.9914, -7.9914, -7.9914, -1.8016, -2.0833, -2.4045, -2.5429, -2.672, -3.1869, -3.1945, -3.4807, -3.4807, -4.409, -4.4564, -4.8535, -5.5196, -6.139, -6.139, -6.1813, -6.1813, -6.4994, -6.4994, -6.4994, -6.4994, -6.4994, -6.6815, -6.9686, -6.9686, -6.9686, -6.9686, -6.9686, -6.9686, -6.9686, -6.9686, -6.9686, -6.9686, -6.9686, -6.9686, -1.112, -2.4398, -2.541, -2.6537, -2.9202, -3.1584, -3.2028, -3.59, -3.7328, -4.7085, -4.9752, -6.1419, -6.326, -6.3599, -6.3911, -6.6307, -6.7515, -6.7515, -6.7515, -6.767, -6.9683, -6.9683, -7.2207, -7.2207, -7.2207, -7.2207, -7.2207, -7.2207, -7.2207, -7.2207, -7.2207, -7.2207, -7.2207, -7.2207, -7.2207, -7.2207, -2.0322, -2.2428, -2.2993, -2.3578, -2.772, -2.7957, -2.7957, -2.7957, -3.6815, -3.7378, -4.0215, -4.0215, -4.7135, -5.4869, -6.2471, -6.331, -6.331, -6.331, -7.2256, -7.2256, -7.2256, -7.2256, -7.2256, -7.2256, -7.2256, -7.2256, -7.2256, -7.2256, -7.2256, -7.2256, -7.2256, -7.2256, -7.2256, -7.2256, -7.2256, -7.2256, -7.2256, -7.2256, -1.0599, -1.574, -2.5171, -4.41, -4.41, -4.4981, -4.7133, -4.7133, -4.7133, -4.7133, -5.8977, -6.3009, -6.5421, -6.6717, -6.9588, -6.9588, -6.9588, -6.9588, -6.9588, -6.9588, -6.9588, -6.9588, -6.9588, -6.9588, -6.9588, -6.9588, -6.9588, -6.9588, -6.9588, -6.9588, -6.9588, -6.9588, -6.9588, -6.9588, -6.9588, -6.9588, -6.9588, -6.9588, -6.9588, -6.9588, -6.9588, -6.9588, -1.6279, -1.8886, -3.0778, -3.1688, -3.1688, -3.1688, -3.2785, -3.3117, -3.4539, -4.2874, -4.3388, -5.4403, -5.821, -5.9891, -6.3303, -6.5472, -6.5782, -6.7995, -6.7995, -6.7995, -6.7995, -6.7995, -6.7995, -6.7995, -6.7995, -6.7995, -6.7995, -6.7995, -6.7995, -6.7995, -6.7995, -6.7995, -6.7995, -6.7995, -6.7995, -6.7995, -6.7995, -6.7995, -6.7995, -1.9133, -1.9595, -2.4124, -2.4124, -2.4242, -2.6658, -4.4762, -4.4762, -4.4762, -4.4762, -5.8699, -6.1227, -6.1387, -6.1387, -6.6602, -6.6602, -6.6602, -6.8541, -6.8541, -6.8541, -6.8541, -6.8541, -6.8541, -6.8541, -6.8541, -6.8541, -6.8541, -6.8541, -6.8541, -6.8541, -6.8541, -6.8541, -6.8541, -6.8541, -6.8541, -6.8541, -6.8541, -6.8541, -6.8541, -6.8541, -6.8541, -6.8541], \"loglift\": [30.0, 29.0, 28.0, 27.0, 26.0, 25.0, 24.0, 23.0, 22.0, 21.0, 20.0, 19.0, 18.0, 17.0, 16.0, 15.0, 14.0, 13.0, 12.0, 11.0, 10.0, 9.0, 8.0, 7.0, 6.0, 5.0, 4.0, 3.0, 2.0, 1.0, 2.6055, 2.5853, 2.5644, 2.5644, 2.4413, 2.4377, 2.2893, 2.0325, 1.2142, 1.2142, 0.797, 0.3527, 0.3527, 0.3527, 0.3527, 0.1402, 0.1402, 0.1402, 0.1395, 0.1395, 0.1376, 0.1373, 0.1362, 0.1362, 0.1362, 0.135, 0.1341, 0.1341, 0.134, 0.134, -0.8716, -1.0876, -0.4659, -1.0768, -0.8092, -0.8781, -0.705, -0.9025, -0.708, -0.8781, -0.7954, -1.0007, -1.0007, -1.0007, -0.5653, 2.6305, 2.5046, 2.4732, 0.3443, -0.1981, -0.1981, -0.1981, -0.1988, -0.1988, -0.2008, -0.2011, -0.2021, -0.2021, -0.2021, -0.2034, -0.2042, -0.2043, -0.2044, -0.2044, -0.2044, -0.2044, -0.2044, -0.2044, -0.2053, -0.206, -0.206, -0.2062, -0.2062, -0.2062, -0.2062, -1.8187, -1.4259, -1.21, -0.8043, -0.8848, -0.8848, -1.1475, -1.2165, -1.0433, -1.2409, -1.0463, -1.2165, -1.1337, -1.3391, -1.3391, -1.3391, -0.9036, -0.9036, -1.4151, -0.5329, -0.5592, -0.5592, -0.4961, -0.5592, -0.5592, -0.6123, 2.6714, 2.6664, 2.5546, 2.5119, 2.4037, 2.4005, 2.0362, 1.8437, 0.454, -0.1551, -0.1551, -0.1551, -0.7302, -0.7302, -0.7302, -0.7309, -0.7309, -0.7328, -0.7332, -0.7342, -0.7342, -0.7342, -0.7354, -0.7363, -0.7364, -0.7364, -0.7364, -0.7364, -0.7364, -0.7364, -1.7421, -1.6658, -1.9472, -1.3364, -2.3507, -1.958, -1.4169, -1.4169, -1.6796, -1.7485, -1.5754, -1.7729, -1.5784, -1.7485, -1.8711, -1.8711, -1.8711, -1.4357, 2.6948, 2.689, 2.6355, 2.6122, 2.5866, 2.5863, 2.5373, 2.3574, 2.3519, 2.2481, 1.8437, 0.7883, 0.5973, 0.1709, 0.1709, -0.1083, -0.1083, -0.1083, -0.109, -0.109, -0.1109, -0.1112, -0.1123, -0.1123, -0.1123, -0.1135, -0.1143, -0.1144, -0.1145, -0.1145, -1.7288, -1.3361, -1.1201, -0.193, -0.1954, -3.9163, -4.3137, -0.1901, -0.1653, -3.1246, -4.499, 2.7529, 2.6881, 2.5851, 2.5264, 2.4281, 2.4201, 1.3034, 1.1043, 0.9619, 0.9219, 0.6032, 0.6032, 0.6032, 0.6032, 0.3309, 0.3309, 0.3309, 0.0543, 0.0543, 0.0543, 0.0536, 0.0536, 0.0517, 0.0514, 0.0503, 0.0503, 0.0503, 0.0491, 0.0483, 0.0482, -0.5518, -1.5662, -1.1735, -0.9575, -0.0304, -0.0328, -3.7537, -4.1511, -0.0275, -0.0027, -0.0275, 2.7945, 2.7223, 2.6334, 2.5812, 2.4895, 2.2674, 2.2055, 2.2055, 2.2055, 2.2055, 2.2055, 2.2055, 2.2055, 2.2055, 2.2055, 2.2055, 2.2055, 2.2055, 2.2055, 2.2055, -0.1508, -0.5613, -0.5613, -0.5613, -0.562, -0.562, -0.5639, -0.5643, -0.5653, -0.5653, -0.646, -0.6484, -4.7667, -0.6432, -0.6183, -0.6432, 2.8893, 2.7199, 2.5502, 2.2607, 2.2607, 0.1696, -0.1457, -0.1457, -0.1457, -0.1457, -0.1457, -0.1457, -0.1457, -0.1457, -0.1457, -0.1457, -0.1457, -0.6645, -0.6645, -0.6645, -0.6652, -0.6652, -0.6671, -0.6674, -0.6685, -0.6685, -0.6685, -0.6697, -0.6706, -0.6706, -0.7492, -0.7516, -4.4725, -0.7463, -0.7215, -0.7464, -3.6808, -5.0552, -3.0418, 2.8613, 2.8572, 2.817, 2.7974, 2.7823, 2.7808, 2.7688, 2.6271, 2.4067, 1.0474, 0.9434, 0.3696, 0.3696, 0.3696, 0.1523, 0.1523, 0.1523, 0.1515, 0.1515, 0.1496, 0.1493, 0.147, 0.1462, 0.1461, 0.146, 0.146, 0.146, 0.146, 0.146, 0.146, 0.0676, 0.0652, -3.6558, -4.0531, 0.0704, 0.0952, 0.0704, -2.8641, -4.2385, -2.225, -3.4694, -2.2164, 2.9215, 2.917, 2.914, 2.8914, 0.9001, 0.4781, 0.4781, 0.4781, 0.4781, 0.4781, 0.4781, 0.4781, -0.2209, -0.2209, -0.2209, -0.2216, -0.2216, -0.2236, -0.2239, -0.2249, -0.2249, -0.2249, -0.2262, -0.227, -0.2271, -0.2271, -0.2271, -0.2271, -0.2271, -0.2271, -0.3056, -0.308, -4.0289, -4.4263, -0.3028, -0.2779, -0.3028, -4.6116, -2.5982, -3.8426, -2.5895, -3.2032, -0.3791, -1.7055, 3.0374, 2.8982, 2.8737, 2.8664, 2.7019, 2.1018, 2.1018, 2.1018, 2.1018, 2.1018, 2.1018, 2.1018, 0.0601, 0.0601, 0.0601, 0.0594, 0.0594, 0.0575, 0.0572, 0.0562, 0.0562, 0.0562, 0.0549, 0.0541, 0.054, 0.0539, 0.0539, 0.0539, 0.0539, 0.0539, -0.0246, -0.027, -3.7479, -4.1453, -0.0217, 0.0031, -0.0217, -2.9562, -4.3306, -2.3172, -2.3085, -2.9221, -2.4798, -0.0981, 3.0388, 2.9237, 2.8887, 2.8887, 2.8867, 2.8863, 1.1784, 0.9649, 0.9649, 0.9649, 0.9649, 0.9649, 0.9649, 0.9649, 0.8674, 0.7428, 0.5332, 0.5332, 0.5332, 0.5332, 0.5332, 0.5332, 0.2871, 0.2871, 0.2871, 0.2863, 0.2863, 0.2844, 0.2841, 0.2831, 0.2024, -3.521, -3.9184, 0.2052, 0.23, 0.2052, 3.0328, 2.9684, 2.9505, 2.895, 2.8942, 2.7291, 2.7291, 2.655, 2.6379, 1.1047, 0.714, 0.714, 0.714, 0.714, 0.714, 0.714, 0.714, 0.6748, 0.5541, 0.3629, 0.3629, 0.3629, 0.3622, 0.3622, 0.3599, 0.3589, 0.3589, 0.3589, 0.3576, 0.3568, 0.2782, 0.2758, -3.4452, -3.8425, 0.281, 0.3058, 0.281, -2.6535, 3.0828, 3.0443, 3.0443, 3.0443, 2.8832, 2.697, 2.6781, 2.3795, 2.3587, 1.5303, 1.5303, 1.4217, 0.5237, 0.0088, 0.0088, -0.7884, -0.7884, -0.7884, -0.7891, -0.7891, -0.791, -0.7914, -0.7924, -0.7924, -0.7924, -0.7936, -0.7945, -0.7946, -0.7946, -0.7946, -0.8731, -0.8755, -4.5964, -4.9938, -0.8703, -0.8454, -0.8703, -3.8047, -5.1791, -3.1657, -4.4101, 3.1404, 3.104, 2.9037, 2.7997, 2.7924, 2.7472, 2.6946, 2.6002, 2.2998, 0.221, -0.6538, -0.6538, -0.6538, -0.6545, -0.6545, -0.6564, -0.6567, -0.6578, -0.6578, -0.6578, -0.659, -0.6598, -0.6599, -0.66, -0.66, -0.66, -0.66, -0.66, -0.66, -0.6609, -0.7385, -0.7409, -4.4618, -4.8592, -0.7356, -0.7108, -0.7356, -3.6701, -5.0445, -3.0311, -4.2754, -3.0224, -3.636, -3.1937, -0.812, -2.1383, 3.1588, 3.131, 3.0896, 3.068, 3.0454, 2.9283, 2.9262, 2.8386, 2.8386, 2.423, 2.3961, 2.1494, 1.6599, 1.1394, 1.1394, 1.1022, 1.1022, 0.8164, 0.8164, 0.8164, 0.8164, 0.8164, 0.649, 0.3691, 0.3691, 0.3691, 0.3684, 0.3684, 0.3665, 0.3662, 0.2844, 0.282, -3.4389, -3.8363, 0.2873, 3.2277, 3.1047, 3.0881, 3.0678, 3.012, 2.9515, 2.939, 2.8121, 2.7567, 2.2441, 2.0645, 1.1272, 0.9629, 0.9324, 0.904, 0.6845, 0.5723, 0.5723, 0.5723, 0.5579, 0.3686, 0.3686, 0.117, 0.117, 0.117, 0.1144, 0.1141, 0.113, 0.113, 0.113, 0.0323, 0.0299, -3.691, -4.0884, 0.0352, 0.06, 3.159, 3.1334, 3.1257, 3.1173, 3.0446, 3.0397, 3.0397, 3.0397, 2.7772, 2.7547, 2.6296, 2.6296, 2.2408, 1.6796, 1.0335, 0.9583, 0.9583, 0.9583, 0.112, 0.112, 0.112, 0.1113, 0.1113, 0.1094, 0.1091, 0.108, 0.108, 0.108, 0.1068, 0.106, 0.0273, 0.0249, -3.696, -4.0934, 0.0302, 0.0301, -2.9043, -4.2787, 3.2718, 3.2411, 3.1298, 2.4504, 2.4504, 2.3983, 2.2633, 2.2633, 2.2633, 2.2633, 1.3553, 0.9997, 0.7798, 0.6599, 0.3789, 0.3789, 0.3789, 0.3782, 0.3782, 0.3763, 0.3759, 0.3749, 0.3749, 0.3749, 0.3737, 0.3728, 0.3727, 0.3727, 0.3727, 0.3727, 0.2918, -3.4291, -3.8265, 0.2971, 0.3219, 0.297, -2.6374, -4.0118, -1.9984, -3.2428, -1.9897, -2.6033, 3.2939, 3.2695, 3.0541, 3.0279, 3.0279, 3.0279, 2.994, 2.9833, 2.9344, 2.5502, 2.5208, 1.7514, 1.4348, 1.289, 0.9842, 0.7853, 0.7566, 0.5382, 0.5382, 0.5382, 0.5374, 0.5374, 0.5355, 0.5342, 0.5342, 0.5342, 0.5321, 0.532, 0.5319, 0.5319, 0.4535, 0.4511, -3.2699, -3.6673, 0.4811, 0.4563, -2.4782, -3.8526, -1.8391, 3.2918, 3.2866, 3.2225, 3.2225, 3.2205, 3.1746, 2.4473, 2.4473, 2.4473, 2.4473, 1.3923, 1.1697, 1.1553, 1.1553, 0.6774, 0.6774, 0.6774, 0.4829, 0.4829, 0.481, 0.4806, 0.4796, 0.4796, 0.4796, 0.4784, 0.4775, 0.4774, 0.4774, 0.4774, 0.4774, 0.3989, 0.3965, -3.3244, -3.7218, 0.4017, 0.4266, 0.4017, -2.5327, -3.9071, -1.8937, -3.1381, -1.885]}, \"token.table\": {\"Topic\": [13, 20, 15, 6, 17, 8, 17, 12, 3, 4, 17, 6, 14, 12, 8, 2, 13, 19, 11, 16, 15, 10, 6, 15, 6, 2, 3, 9, 19, 7, 17, 6, 18, 19, 14, 4, 11, 4, 11, 10, 7, 6, 4, 10, 6, 1, 5, 11, 15, 4, 4, 15, 8, 11, 19, 3, 1, 3, 6, 18, 16, 17, 12, 4, 7, 20, 1, 15, 3, 8, 5, 6, 17, 16, 4, 10, 6, 6, 20, 13, 20, 7, 17, 6, 6, 17, 12, 5, 19, 15, 6, 8, 9, 14, 20, 12, 18, 14, 1, 17, 17, 20, 8, 3, 14, 5, 19, 4, 7, 20, 15, 6, 18, 1, 10, 18, 19, 17, 10, 18, 12, 15, 5, 13, 14, 17, 6, 10, 1, 14, 10, 13, 6, 8, 12, 12, 12, 6, 16, 10, 19, 9, 19, 13, 16, 10, 8, 3, 20, 20, 15, 5, 11, 6, 16, 19, 8, 19, 16, 16, 13, 15, 20, 4, 9, 14, 13, 10, 1, 10, 17, 4, 1, 16, 16, 2, 14, 13, 6, 3], \"Freq\": [0.7490814039485334, 0.6808625289840301, 0.815310657152946, 0.4931702808059746, 0.688076608576792, 0.9402587404861227, 0.5184759181869222, 0.7744043096327371, 0.6173476822410696, 0.4261585146579132, 0.688076608576792, 0.49317030103320636, 0.46354406933136005, 0.7991651247200159, 0.9065293289433307, 0.9830265342589968, 0.5619434375925024, 0.9320630104456941, 0.9514194843693935, 0.9765145005884266, 0.7442509483696047, 0.6775834127372121, 0.4931702808059746, 0.8627380736262408, 0.8679871058578377, 0.8602923725580579, 0.8428990795027157, 0.9376255393008643, 0.6583721824550607, 0.9834249118791, 0.912892979700535, 0.4931702808059746, 0.9095643362070416, 0.9198824709474093, 0.9670098457412131, 0.652802930601273, 0.7543662602530223, 0.9779781203270457, 0.7457121900557445, 0.6648248689140849, 0.5088098977158305, 0.4931702808059746, 0.7906784314891164, 0.8327466810059506, 0.4931702808059746, 0.5147321119444406, 0.7562648177409066, 0.7457121900557445, 0.8152504380702112, 0.9735947418181716, 0.7033094084891446, 0.6341921001938668, 0.45062441409532816, 0.9203619033722078, 0.6247973134709557, 0.8984954281086543, 0.9325121353433219, 0.9780365592480501, 0.9001258874207888, 0.6392439666387411, 0.4411444089662327, 0.8694233237662643, 0.6621695603687572, 0.8881749298325015, 0.9007438480685499, 0.691477682683705, 0.8151079033181304, 0.9161722879165566, 0.8152120668168902, 0.8936755853925731, 0.6478161309199352, 0.4931702808059746, 0.44246286450210404, 0.8573012207985268, 0.6949400454091823, 0.6775834127372121, 0.4931702808059746, 0.4931702808059746, 0.8548169955385334, 0.7747763420594042, 0.6808625289840301, 0.5088098977158305, 0.843012154291531, 0.9831241728410177, 0.4931702808059746, 0.7021587427678867, 0.8180036779265125, 0.9760448655402167, 0.6583721824550607, 0.7442509483696047, 0.49317030103320636, 0.9614812019014344, 0.9313126815649158, 0.9654434071116571, 0.7581229394995592, 0.7572769198511555, 0.7598128324322929, 0.6611883538989874, 0.8013620437094179, 0.7998616763623172, 0.688076608576792, 0.7507397525932402, 0.8093632393966831, 0.8229216441392694, 0.7498804299115096, 0.8835933855928115, 0.7263150918742258, 0.9100627321779569, 0.6388625794510989, 0.7507397525932402, 0.6101413847934063, 0.49317030103320636, 0.662669503536191, 0.9325121353433219, 0.7827341655957771, 0.6392439666387411, 0.6583721824550607, 0.9003547927509307, 0.6775834127372121, 0.9687575813860381, 0.7599394449724839, 0.9560942750542127, 0.725753082231031, 0.8836511201563274, 0.6717657796310894, 0.5184759181869222, 0.4931702808059746, 0.7560401630524497, 0.6649692129576463, 0.736375853982932, 0.6775834127372121, 0.8836511201563274, 0.6012619382551345, 0.9195738043867794, 0.6621695603687572, 0.939811607850758, 0.9488303979868107, 0.4931702808059746, 0.7463793476029712, 0.6775834127372121, 0.6170461923190286, 0.9587823662162686, 0.6387674025556676, 0.572285347406085, 0.7580404793357122, 0.6775834127372121, 0.862368894028693, 0.5196458428096169, 0.6808625289840301, 0.8905174155006742, 0.6213400876875064, 0.6604407806185476, 0.7529479387706298, 0.45575217386465466, 0.7009708699256372, 0.7973493778763546, 0.9025056965178926, 0.7102102509434521, 0.8084406355039853, 0.6231474417762194, 0.8836511201563274, 0.6067884138179434, 0.6808625289840301, 0.9118755645517583, 0.8938191479711319, 0.807808774155913, 0.700368921797831, 0.6775834127372121, 0.9399603891343447, 0.9641411164972001, 0.4277644281508556, 0.9344482468544355, 0.9627314731584967, 0.6035943591474839, 0.8186692571873648, 0.8537150451680455, 0.6197773261223407, 0.9517402189036344, 0.9032238985094106, 0.9736182719423283], \"Term\": [\"Beeldgezien\", \"Fod\", \"Hypotheek\", \"Parlement\", \"aanduiding\", \"aangetekend\", \"administrateur\", \"administratie\", \"administratief\", \"advies\", \"af_leveren\", \"afgeleverd\", \"akte\", \"algemeen\", \"ambtenaar\", \"artikel\", \"associeren\", \"attest\", \"bedoelen\", \"beeld\", \"beheers_ysteem\", \"behoren\", \"bekleegen\", \"belasten\", \"belasting\", \"bepalen\", \"bepaling\", \"bericht\", \"beschermen\", \"besluit\", \"besluiten\", \"betreffen\", \"betrekking\", \"bevoegd\", \"bijla_ge\", \"bijlag\", \"bijzonder\", \"bis\", \"btw\", \"buitenland\", \"burgerlijk\", \"certificaat\", \"dergelijk\", \"dienst\", \"digitaal\", \"divers\", \"dwingen\", \"eenheid\", \"eigenaar\", \"elektronisch\", \"enkel\", \"erfgenaam\", \"erflater\", \"erfop_volging\", \"erfstelling\", \"ervan\", \"federaal\", \"financi\\u00ebn\", \"fiscaal\", \"formulier\", \"garandeeren\", \"gedeelte\", \"geldig\", \"geven\", \"goed\", \"handtekening\", \"hetzelfde\", \"houden\", \"houdenen\", \"houder\", \"identiek\", \"identificatie\", \"identiteit\", \"in_voegen\", \"inlichting\", \"instantie\", \"intern\", \"intrekking\", \"invordering\", \"kader\", \"kanselarij\", \"kantoor\", \"kennisgeving\", \"koninklijk\", \"kwalificeren\", \"legataris\", \"letten\", \"lid\", \"maatregel\", \"machtigden\", \"markt\", \"mee_delen\", \"minist_erieel\", \"minister\", \"ministerieel\", \"minnelijk\", \"model\", \"modelbe_richt\", \"notariaat\", \"notaris\", \"notificatie\", \"officier\", \"omwille\", \"ontvangen\", \"ontvanger\", \"op_heffen\", \"op_maken\", \"op_nemen\", \"op_stellen\", \"openbaar\", \"opmaak\", \"overeenstemt\", \"overheid\", \"overheid_dienst\", \"overmacht\", \"papier\", \"passen\", \"persoon\", \"principe\", \"programma_wet\", \"quater\", \"quinquie\", \"raad\", \"raadpleging\", \"recht\", \"rechtszekerheid\", \"rich_tlijn\", \"storing\", \"streepje\", \"systeem\", \"taak\", \"tabel\", \"team\", \"technisch\", \"toegang\", \"toegevoegde\", \"toepassing\", \"transactie\", \"twee\", \"uit_voeren\", \"uitgezonderd\", \"uitvoering\", \"uniek\", \"vallen\", \"vatbaar\", \"verankering\", \"verblijven\", \"vereenvoudiging\", \"vereisen\", \"vermelding\", \"vermellen\", \"verordening\", \"verplichting\", \"vers_turen\", \"verstaan\", \"verstuurd\", \"vervangen\", \"vervat\", \"verzamellen\", \"verzonden\", \"voegen\", \"volgen\", \"voordracht\", \"voorkomen\", \"waarde\", \"waartoe\", \"wbtw\", \"werking\", \"wet\", \"wetboek\", \"wettelijk\", \"wijze\", \"wijzigen\", \"woord\", \"zakelijk\", \"zending\", \"zes\", \"zien\", \"zin\", \"\\u00e9\\u00e9n\"]}, \"R\": 30, \"lambda.step\": 0.01, \"plot.opts\": {\"xlab\": \"PC1\", \"ylab\": \"PC2\"}, \"topic.order\": [1, 5, 9, 12, 6, 19, 16, 15, 14, 18, 3, 8, 2, 20, 4, 7, 17, 10, 13, 11]};\n",
              "\n",
              "function LDAvis_load_lib(url, callback){\n",
              "  var s = document.createElement('script');\n",
              "  s.src = url;\n",
              "  s.async = true;\n",
              "  s.onreadystatechange = s.onload = callback;\n",
              "  s.onerror = function(){console.warn(\"failed to load library \" + url);};\n",
              "  document.getElementsByTagName(\"head\")[0].appendChild(s);\n",
              "}\n",
              "\n",
              "if(typeof(LDAvis) !== \"undefined\"){\n",
              "   // already loaded: just create the visualization\n",
              "   !function(LDAvis){\n",
              "       new LDAvis(\"#\" + \"ldavis_el551400337391167521814160117\", ldavis_el551400337391167521814160117_data);\n",
              "   }(LDAvis);\n",
              "}else if(typeof define === \"function\" && define.amd){\n",
              "   // require.js is available: use it to load d3/LDAvis\n",
              "   require.config({paths: {d3: \"https://d3js.org/d3.v5\"}});\n",
              "   require([\"d3\"], function(d3){\n",
              "      window.d3 = d3;\n",
              "      LDAvis_load_lib(\"https://cdn.jsdelivr.net/gh/bmabey/pyLDAvis@3.3.1/pyLDAvis/js/ldavis.v3.0.0.js\", function(){\n",
              "        new LDAvis(\"#\" + \"ldavis_el551400337391167521814160117\", ldavis_el551400337391167521814160117_data);\n",
              "      });\n",
              "    });\n",
              "}else{\n",
              "    // require.js not available: dynamically load d3 & LDAvis\n",
              "    LDAvis_load_lib(\"https://d3js.org/d3.v5.js\", function(){\n",
              "         LDAvis_load_lib(\"https://cdn.jsdelivr.net/gh/bmabey/pyLDAvis@3.3.1/pyLDAvis/js/ldavis.v3.0.0.js\", function(){\n",
              "                 new LDAvis(\"#\" + \"ldavis_el551400337391167521814160117\", ldavis_el551400337391167521814160117_data);\n",
              "            })\n",
              "         });\n",
              "}\n",
              "</script>"
            ]
          },
          "metadata": {},
          "execution_count": 25
        }
      ]
    },
    {
      "cell_type": "markdown",
      "source": [
        "**How to make inferences from pyLDAvis' output:**\n",
        "\n",
        "Each bubble on the left-hand side plot represents a topic. The larger the bubble, the more prevalent is that topic.\n",
        "\n",
        "A good topic model will have fairly big, non-overlapping bubbles scattered throughout the chart instead of being clustered in one quadrant.\n",
        "\n",
        "A model with too many topics, will typically have many overlaps, small sized bubbles clustered in one region of the chart.\n",
        "\n",
        "Alright, if you move the cursor over one of the bubbles, the words and bars on the right-hand side will update. These words are the salient keywords that form the selected topic."
      ],
      "metadata": {
        "id": "2gk22bIUd26A"
      }
    },
    {
      "cell_type": "markdown",
      "source": [
        "## Mallet's version of LDA"
      ],
      "metadata": {
        "id": "ETy1_-3dfOJV"
      }
    },
    {
      "cell_type": "markdown",
      "source": [
        "Upnext, we will improve upon this model by using Mallet’s version of LDA algorithm and then we will focus on how to arrive at the optimal number of topics given any large corpus of text."
      ],
      "metadata": {
        "id": "OK3o1pfYfR_C"
      }
    },
    {
      "cell_type": "markdown",
      "source": [
        "Gensim provides a wrapper to implement Mallet’s LDA from within Gensim itself. "
      ],
      "metadata": {
        "id": "BufgXlalgeK7"
      }
    },
    {
      "cell_type": "code",
      "source": [
        "# Upgrading Gensim\n",
        "#!pip install --upgrade gensim==3.8"
      ],
      "metadata": {
        "id": "10EAD6GgiyVo"
      },
      "execution_count": null,
      "outputs": []
    },
    {
      "cell_type": "code",
      "source": [
        "# Installing Mallet\n",
        "!wget http://mallet.cs.umass.edu/dist/mallet-2.0.8.zip\n",
        "!unzip mallet-2.0.8.zip"
      ],
      "metadata": {
        "id": "RnZJ8JBxjnod"
      },
      "execution_count": null,
      "outputs": []
    },
    {
      "cell_type": "code",
      "source": [
        "mallet_path = 'path/to/mallet-2.0.8/bin/mallet' # update this path\n",
        "ldamallet = gensim.models.wrappers.LdaMallet(mallet_path, corpus=corpus, num_topics=20, id2word=id2word)"
      ],
      "metadata": {
        "id": "bmx7cxdXk8Is"
      },
      "execution_count": null,
      "outputs": []
    }
  ]
}