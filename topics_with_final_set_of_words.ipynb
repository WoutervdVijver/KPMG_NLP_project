{
  "cells": [
    {
      "cell_type": "markdown",
      "metadata": {
        "id": "2v-ju9XmWFJI"
      },
      "source": [
        "## Further text preprocessing"
      ]
    },
    {
      "cell_type": "markdown",
      "metadata": {
        "id": "9CiTfVEiluGf"
      },
      "source": [
        "### Objectives of this test"
      ]
    },
    {
      "cell_type": "markdown",
      "metadata": {
        "id": "nOmYI8FIlwj8"
      },
      "source": [
        "- Implement Latent Dirichlet Allocation (**LDA**) from **Gensim** package along with the Mallet’s implementation (via Gensim). \n",
        "\n",
        "- Implement **Mallet** that optimizes LDA. Mallet is known to run faster and gives better topic segregation.\n",
        "\n",
        "- Also extract the volume and percentage contribution of each topic to get **an idea of how important a topic is**."
      ]
    },
    {
      "cell_type": "markdown",
      "metadata": {
        "id": "HliZG8C-V8gW"
      },
      "source": [
        "### Pre-requisites: Downloading NLTK Dutch stopwords, data handling tools, model preprocessing & plotting tools, and SpaCy model"
      ]
    },
    {
      "cell_type": "code",
      "execution_count": null,
      "metadata": {
        "colab": {
          "base_uri": "https://localhost:8080/"
        },
        "id": "JOSxNYZEvmtE",
        "outputId": "c574da1c-6532-492e-bff8-6924f5c072a2"
      },
      "outputs": [
        {
          "name": "stdout",
          "output_type": "stream",
          "text": [
            "Mounted at /content/drive\n"
          ]
        }
      ],
      "source": [
        "from google.colab import drive\n",
        "drive.mount('/content/drive')"
      ]
    },
    {
      "cell_type": "code",
      "execution_count": 1,
      "metadata": {
        "id": "kjP68jeYftR4"
      },
      "outputs": [
        {
          "name": "stderr",
          "output_type": "stream",
          "text": [
            "[nltk_data] Downloading package stopwords to dutch...\n",
            "[nltk_data]   Unzipping corpora/stopwords.zip.\n"
          ]
        },
        {
          "data": {
            "text/plain": [
              "True"
            ]
          },
          "execution_count": 1,
          "metadata": {},
          "output_type": "execute_result"
        }
      ],
      "source": [
        "# NLTK\n",
        "import nltk\n",
        "nltk.download('stopwords', 'dutch')"
      ]
    },
    {
      "cell_type": "code",
      "execution_count": 2,
      "metadata": {
        "id": "-gP7ww_liQub"
      },
      "outputs": [],
      "source": [
        "# Python data analysis tools and python module for printing\n",
        "import re\n",
        "import numpy as np\n",
        "import pandas as pd\n",
        "from pprint import pprint"
      ]
    },
    {
      "cell_type": "code",
      "execution_count": 43,
      "metadata": {
        "id": "ZTlhs2HnmGyB"
      },
      "outputs": [],
      "source": [
        "# Gensim\n",
        "import gensim\n",
        "import gensim.corpora as corpora\n",
        "from gensim.utils import simple_preprocess\n",
        "from gensim.models import CoherenceModel"
      ]
    },
    {
      "cell_type": "code",
      "execution_count": 4,
      "metadata": {
        "id": "fBAzmTMOmp9f"
      },
      "outputs": [],
      "source": [
        "# SpaCy for lemmatization\n",
        "import spacy"
      ]
    },
    {
      "cell_type": "code",
      "execution_count": 17,
      "metadata": {
        "id": "1oTmcphNmuBR"
      },
      "outputs": [
        {
          "name": "stdout",
          "output_type": "stream",
          "text": [
            "Collecting pyLDAvis\n",
            "  Downloading pyLDAvis-3.3.1.tar.gz (1.7 MB)\n",
            "\u001b[2K     \u001b[90m━━━━━━━━━━━━━━━━━━━━━━━━━━━━━━━━━━━━━━━━\u001b[0m \u001b[32m1.7/1.7 MB\u001b[0m \u001b[31m7.9 MB/s\u001b[0m eta \u001b[36m0:00:00\u001b[0m:00:01\u001b[0m0:01\u001b[0m\n",
            "\u001b[?25h  Installing build dependencies ... \u001b[?25ldone\n",
            "\u001b[?25h  Getting requirements to build wheel ... \u001b[?25ldone\n",
            "\u001b[?25h  Installing backend dependencies ... \u001b[?25ldone\n",
            "\u001b[?25h  Preparing metadata (pyproject.toml) ... \u001b[?25ldone\n",
            "\u001b[?25hCollecting future\n",
            "  Using cached future-0.18.2.tar.gz (829 kB)\n",
            "  Preparing metadata (setup.py) ... \u001b[?25ldone\n",
            "\u001b[?25hRequirement already satisfied: gensim in /Users/wvdvijve/.pyenv/versions/3.8.8/lib/python3.8/site-packages (from pyLDAvis) (4.2.0)\n",
            "Requirement already satisfied: pandas>=1.2.0 in /Users/wvdvijve/.pyenv/versions/3.8.8/lib/python3.8/site-packages (from pyLDAvis) (1.4.1)\n",
            "Collecting numexpr\n",
            "  Downloading numexpr-2.8.1-cp38-cp38-macosx_10_9_x86_64.whl (98 kB)\n",
            "\u001b[2K     \u001b[90m━━━━━━━━━━━━━━━━━━━━━━━━━━━━━━━━━━━━━━━━\u001b[0m \u001b[32m98.8/98.8 kB\u001b[0m \u001b[31m1.3 MB/s\u001b[0m eta \u001b[36m0:00:00\u001b[0mta \u001b[36m0:00:01\u001b[0m\n",
            "\u001b[?25hRequirement already satisfied: numpy>=1.20.0 in /Users/wvdvijve/.pyenv/versions/3.8.8/lib/python3.8/site-packages (from pyLDAvis) (1.22.3)\n",
            "Requirement already satisfied: sklearn in /Users/wvdvijve/.pyenv/versions/3.8.8/lib/python3.8/site-packages (from pyLDAvis) (0.0)\n",
            "Requirement already satisfied: scipy in /Users/wvdvijve/.pyenv/versions/3.8.8/lib/python3.8/site-packages (from pyLDAvis) (1.8.0)\n",
            "Requirement already satisfied: joblib in /Users/wvdvijve/.pyenv/versions/3.8.8/lib/python3.8/site-packages (from pyLDAvis) (1.1.0)\n",
            "Collecting funcy\n",
            "  Downloading funcy-1.17-py2.py3-none-any.whl (33 kB)\n",
            "Requirement already satisfied: scikit-learn in /Users/wvdvijve/.pyenv/versions/3.8.8/lib/python3.8/site-packages (from pyLDAvis) (1.0.2)\n",
            "Requirement already satisfied: setuptools in /Users/wvdvijve/.pyenv/versions/3.8.8/lib/python3.8/site-packages (from pyLDAvis) (62.3.2)\n",
            "Requirement already satisfied: jinja2 in /Users/wvdvijve/.pyenv/versions/3.8.8/lib/python3.8/site-packages (from pyLDAvis) (3.0.3)\n",
            "Requirement already satisfied: python-dateutil>=2.8.1 in /Users/wvdvijve/.pyenv/versions/3.8.8/lib/python3.8/site-packages (from pandas>=1.2.0->pyLDAvis) (2.8.2)\n",
            "Requirement already satisfied: pytz>=2020.1 in /Users/wvdvijve/.pyenv/versions/3.8.8/lib/python3.8/site-packages (from pandas>=1.2.0->pyLDAvis) (2022.1)\n",
            "Requirement already satisfied: smart-open>=1.8.1 in /Users/wvdvijve/.pyenv/versions/3.8.8/lib/python3.8/site-packages (from gensim->pyLDAvis) (5.2.1)\n",
            "Requirement already satisfied: MarkupSafe>=2.0 in /Users/wvdvijve/.pyenv/versions/3.8.8/lib/python3.8/site-packages (from jinja2->pyLDAvis) (2.1.1)\n",
            "Requirement already satisfied: packaging in /Users/wvdvijve/.pyenv/versions/3.8.8/lib/python3.8/site-packages (from numexpr->pyLDAvis) (21.3)\n",
            "Requirement already satisfied: threadpoolctl>=2.0.0 in /Users/wvdvijve/.pyenv/versions/3.8.8/lib/python3.8/site-packages (from scikit-learn->pyLDAvis) (3.1.0)\n",
            "Requirement already satisfied: six>=1.5 in /Users/wvdvijve/.pyenv/versions/3.8.8/lib/python3.8/site-packages (from python-dateutil>=2.8.1->pandas>=1.2.0->pyLDAvis) (1.16.0)\n",
            "Requirement already satisfied: pyparsing!=3.0.5,>=2.0.2 in /Users/wvdvijve/.pyenv/versions/3.8.8/lib/python3.8/site-packages (from packaging->numexpr->pyLDAvis) (3.0.8)\n",
            "Building wheels for collected packages: pyLDAvis, future\n",
            "  Building wheel for pyLDAvis (pyproject.toml) ... \u001b[?25ldone\n",
            "\u001b[?25h  Created wheel for pyLDAvis: filename=pyLDAvis-3.3.1-py2.py3-none-any.whl size=136882 sha256=f1efa346da0c9adbbd85cb64902aa5b2da437814bb4e6c2fc28c4bf05d18b901\n",
            "  Stored in directory: /Users/wvdvijve/Library/Caches/pip/wheels/90/61/ec/9dbe9efc3acf9c4e37ba70fbbcc3f3a0ebd121060aa593181a\n",
            "  Building wheel for future (setup.py) ... \u001b[?25ldone\n",
            "\u001b[?25h  Created wheel for future: filename=future-0.18.2-py3-none-any.whl size=491058 sha256=01bc875d8ddc34d29895a5cc5cb7e43c8762884f110bbc430461603774e9dbdd\n",
            "  Stored in directory: /Users/wvdvijve/Library/Caches/pip/wheels/8e/70/28/3d6ccd6e315f65f245da085482a2e1c7d14b90b30f239e2cf4\n",
            "Successfully built pyLDAvis future\n",
            "Installing collected packages: funcy, future, numexpr, pyLDAvis\n",
            "Successfully installed funcy-1.17 future-0.18.2 numexpr-2.8.1 pyLDAvis-3.3.1\n",
            "\u001b[33mWARNING: There was an error checking the latest version of pip.\u001b[0m\u001b[33m\n",
            "\u001b[0m"
          ]
        }
      ],
      "source": [
        "# Plotting tools\n",
        "!pip install pyLDAvis\n",
        "\n",
        "import pyLDAvis\n",
        "import pyLDAvis.gensim_models as gensimvis\n",
        "pyLDAvis.enable_notebook()\n",
        "\n",
        "import matplotlib.pyplot as plt"
      ]
    },
    {
      "cell_type": "code",
      "execution_count": 5,
      "metadata": {
        "id": "958NglFuoAJm"
      },
      "outputs": [],
      "source": [
        "# Ignoring warnings\n",
        "import warnings\n",
        "warnings.filterwarnings('ignore', category=DeprecationWarning)"
      ]
    },
    {
      "cell_type": "markdown",
      "metadata": {
        "id": "JhmR5NYqodQe"
      },
      "source": [
        "### Preparing stopwords"
      ]
    },
    {
      "cell_type": "code",
      "execution_count": 6,
      "metadata": {
        "id": "i2F9qd3Aodpz"
      },
      "outputs": [
        {
          "name": "stderr",
          "output_type": "stream",
          "text": [
            "[nltk_data] Downloading package stopwords to\n",
            "[nltk_data]     /Users/wvdvijve/nltk_data...\n",
            "[nltk_data]   Package stopwords is already up-to-date!\n"
          ]
        }
      ],
      "source": [
        "# NLTK Stop words\n",
        "import nltk\n",
        "from nltk.corpus import stopwords\n",
        "nltk.download('stopwords')\n",
        "\n",
        "stop_words = nltk.corpus.stopwords.words('dutch')"
      ]
    },
    {
      "cell_type": "markdown",
      "metadata": {
        "id": "_X85dMwl25bs"
      },
      "source": [
        "## Loading 628 articles into a list"
      ]
    },
    {
      "cell_type": "code",
      "execution_count": 55,
      "metadata": {
        "id": "L0Dai1aW3BLN"
      },
      "outputs": [],
      "source": [
        "# Importing file handling library\n",
        "import os\n",
        "\n",
        "data = []\n",
        "path = './data/clean_articles/'\n",
        "for name in os.listdir(path)[:628]:\n",
        "    with open(path+name, 'r') as file:\n",
        "        data.append(file.read())\n"
      ]
    },
    {
      "cell_type": "markdown",
      "metadata": {
        "id": "arIOjuW-G9RL"
      },
      "source": [
        "### Tokenizing words and cleaning-up text"
      ]
    },
    {
      "cell_type": "code",
      "execution_count": 65,
      "metadata": {
        "id": "dO9v16DbxMyV"
      },
      "outputs": [],
      "source": [
        "# Tokenizing each sentence into a list of words, removing punctuations and unnecessary characters altogether.\n",
        "def sent_to_words(sentences):\n",
        "    for sentence in sentences:\n",
        "        yield(gensim.utils.simple_preprocess(str(sentence), deacc=True))  # deacc=True removes punctuations\n",
        "\n",
        "data_words = list(sent_to_words(data))\n",
        "\n",
        "#print(data_words)"
      ]
    },
    {
      "cell_type": "markdown",
      "metadata": {
        "id": "iLpiDNyRTGc7"
      },
      "source": [
        "### Creating bigrams and trigrams"
      ]
    },
    {
      "cell_type": "markdown",
      "metadata": {
        "id": "KQdTRjR-zrja"
      },
      "source": [
        "**Bigrams** are two (2) words frequently occurring together in the document. **Trigrams** are three (3) words frequently occurring."
      ]
    },
    {
      "cell_type": "code",
      "execution_count": 57,
      "metadata": {
        "id": "oTf8PZhLOIwG"
      },
      "outputs": [],
      "source": [
        "# Building the bigram and trigram models\n",
        "bigram = gensim.models.Phrases(data_words, min_count=5, threshold=100) # higher threshold fewer phrases.\n",
        "trigram = gensim.models.Phrases(bigram[data_words], threshold=100)  \n",
        "\n",
        "# Faster way to get a sentence clubbed as a trigram/bigram\n",
        "bigram_mod = gensim.models.phrases.Phraser(bigram)\n",
        "trigram_mod = gensim.models.phrases.Phraser(trigram)\n",
        "\n",
        "# Seeing trigram example\n",
        "#print(trigram_mod[bigram_mod[data_words]])"
      ]
    },
    {
      "cell_type": "markdown",
      "metadata": {
        "id": "4b9GkSVFZIUC"
      },
      "source": [
        "###  Removing stopwords, making bigrams & trigtrams, and lemmatizing"
      ]
    },
    {
      "cell_type": "code",
      "execution_count": 94,
      "metadata": {
        "id": "1cuUNtqNT9kb"
      },
      "outputs": [],
      "source": [
        "# Define functions for stopwords, bigrams, trigrams and lemmatization\n",
        "def remove_stopwords(texts):\n",
        "    return [[word for word in simple_preprocess(str(doc)) if word not in stop_words] for doc in texts]\n",
        "\n",
        "def make_bigrams(texts):\n",
        "    return [bigram_mod[doc] for doc in texts]\n",
        "\n",
        "def make_trigrams(texts):\n",
        "    return [trigram_mod[bigram_mod[doc]] for doc in texts]\n",
        "\n",
        "empty_words = [\n",
        "    'advies',\n",
        "    'algemeen',\n",
        "    'art',\n",
        "    'artikel',\n",
        "    'bedoelen',\n",
        "    'bepalen',\n",
        "    'bepaling',\n",
        "    'besluit',\n",
        "    'betreffen',\n",
        "    'bevoegd',\n",
        "    'deel',\n",
        "    'drie',\n",
        "    'een',\n",
        "    'één',\n",
        "    'gegeven',\n",
        "    'gelet',\n",
        "    'geven',\n",
        "    'goed',\n",
        "    'hoofdstuk',\n",
        "    'inlichting',\n",
        "    'lid',\n",
        "    'leten',\n",
        "    'maatregel',\n",
        "    'minister',\n",
        "    'naam',\n",
        "    'nemen',\n",
        "    'ontwerp',\n",
        "    'overwegen',\n",
        "    'overwegende',\n",
        "    'paragraaf',\n",
        "    'persoon',\n",
        "    'toepassing',\n",
        "    'twee',\n",
        "    'volgen',\n",
        "    'voorzien',\n",
        "    'wet'\n",
        "] \n",
        "\n",
        "def lemmatization(texts, allowed_postags=['NOUN', 'ADJ', 'VERB', 'ADV']):\n",
        "    \"\"\"https://spacy.io/api/annotation\"\"\"\n",
        "    texts_out = []\n",
        "    for sent in texts:\n",
        "        doc = nlp(\" \".join(sent)) \n",
        "        texts_out.append([token.lemma_ for token in doc if (token.pos_ in allowed_postags) and (token.lemma_ not in  empty_words )])\n",
        "    return texts_out"
      ]
    },
    {
      "cell_type": "markdown",
      "metadata": {
        "id": "uanPqGrdGyiE"
      },
      "source": [
        "### Initializing SpaCy's Dutch NLP model (large size)"
      ]
    },
    {
      "cell_type": "code",
      "execution_count": null,
      "metadata": {
        "id": "EwTE8mGpbFf6"
      },
      "outputs": [],
      "source": [
        " !pip install -U spacy\n",
        " !python -m spacy download nl_core_news_lg"
      ]
    },
    {
      "cell_type": "markdown",
      "metadata": {
        "id": "C4QnnSElG_vg"
      },
      "source": [
        "### Calling the functions in order"
      ]
    },
    {
      "cell_type": "code",
      "execution_count": 95,
      "metadata": {
        "id": "dPJP2KeuZw67"
      },
      "outputs": [],
      "source": [
        " # Removing Stop Words\n",
        "data_words_nostops = remove_stopwords(data_words)\n",
        "\n",
        "# Forming Bigrams\n",
        "data_words_bigrams = make_bigrams(data_words_nostops)\n",
        "\n",
        "# Loading the SpaCy 'nl' model, keeping only tagger component (for efficiency)\n",
        "nlp = spacy.load('nl_core_news_sm', disable=['parser', 'ner'])\n",
        "\n",
        "# Doing lemmatization keeping only noun, adj, vb, adv\n",
        "data_lemmatized = lemmatization(data_words_bigrams, allowed_postags=['NOUN', 'ADJ', 'VERB', 'ADV'])\n",
        "\n",
        "#print(data_lemmatized)"
      ]
    },
    {
      "cell_type": "markdown",
      "metadata": {
        "id": "GgN2SSzn2fTU"
      },
      "source": [
        "### Creating the Dictionary and Corpus needed for Topic Modeling"
      ]
    },
    {
      "cell_type": "code",
      "execution_count": 96,
      "metadata": {
        "id": "lp6FqTgr2hr8"
      },
      "outputs": [],
      "source": [
        "# Creating Dictionary\n",
        "id2word = corpora.Dictionary(data_lemmatized)\n",
        "\n",
        "# Creating Corpus\n",
        "texts = data_lemmatized\n",
        "\n",
        "# Term Document Frequency\n",
        "corpus = [id2word.doc2bow(text) for text in texts]\n",
        "\n",
        "# Viewing corpus\n",
        "#print(corpus)"
      ]
    },
    {
      "cell_type": "markdown",
      "metadata": {
        "id": "mat49mSv24fY"
      },
      "source": [
        "Gensim creates a unique id for each word in the document. The produced corpus shown above is a mapping of (word_id, word_frequency).\n",
        "\n",
        "For example, (0, 1) above implies, **word id 0 occurs once** in the document. Likewise, **word id 1 occurs once too**, and so on.\n",
        "\n",
        "This is used as the input by the LDA model.\n",
        "\n",
        "If you want to see what word a given id corresponds to, pass the id as a key to the dictionary. (From https://www.machinelearningplus.com/nlp/topic-modeling-gensim-python/)"
      ]
    },
    {
      "cell_type": "code",
      "execution_count": null,
      "metadata": {
        "colab": {
          "base_uri": "https://localhost:8080/",
          "height": 35
        },
        "id": "iCYlDxcR2050",
        "outputId": "8f05f4ff-b5f9-41d7-bf2f-295fbb98b2e0"
      },
      "outputs": [
        {
          "data": {
            "application/vnd.google.colaboratory.intrinsic+json": {
              "type": "string"
            },
            "text/plain": [
              "'aanslagjaar'"
            ]
          },
          "execution_count": 15,
          "metadata": {},
          "output_type": "execute_result"
        }
      ],
      "source": [
        "# Passing the id as a key to the dictionary to see what word a given ID corresponds to\n",
        "id2word[0]"
      ]
    },
    {
      "cell_type": "code",
      "execution_count": null,
      "metadata": {
        "id": "P6HbEyFs3STL"
      },
      "outputs": [],
      "source": [
        "# Human readable format of corpus (term-frequency)\n",
        "[[(id2word[id], freq) for id, freq in cp] for cp in corpus]"
      ]
    },
    {
      "cell_type": "markdown",
      "metadata": {
        "id": "xr7zp7cU3mnE"
      },
      "source": [
        "### Building the topic model"
      ]
    },
    {
      "cell_type": "markdown",
      "metadata": {
        "id": "nPSZSoCl1ky7"
      },
      "source": [
        "The LDA model shall be built with 20 different topics where each topic is a combination of keywords and each keyword contributes a certain weightage to the topic."
      ]
    },
    {
      "cell_type": "code",
      "execution_count": 97,
      "metadata": {
        "id": "4eNI1JKD3rS8"
      },
      "outputs": [],
      "source": [
        "# Building LDA model\n",
        "lda_model = gensim.models.ldamodel.LdaModel(corpus=corpus,\n",
        "                                           id2word=id2word,\n",
        "                                           num_topics=20, \n",
        "                                           random_state=100,\n",
        "                                           update_every=1,\n",
        "                                           chunksize=100,\n",
        "                                           passes=10,\n",
        "                                           alpha='auto',\n",
        "                                           per_word_topics=True)"
      ]
    },
    {
      "cell_type": "markdown",
      "metadata": {
        "id": "I4pNmnJP3vMM"
      },
      "source": [
        "###  Viewing the topics in LDA model"
      ]
    },
    {
      "cell_type": "markdown",
      "metadata": {
        "id": "r0YYrNee30UJ"
      },
      "source": [
        "You can see the keywords for each topic and the weightage (importance) of each keyword using lda_model.print_topics() as shown next."
      ]
    },
    {
      "cell_type": "code",
      "execution_count": 98,
      "metadata": {
        "colab": {
          "base_uri": "https://localhost:8080/"
        },
        "id": "NrllJgXK3xAl",
        "outputId": "9ca943a5-6746-4207-82cf-5afe57796215"
      },
      "outputs": [
        {
          "name": "stdout",
          "output_type": "stream",
          "text": [
            "[(0,\n",
            "  '0.064*\"vennootschap\" + 0.051*\"aandeel\" + 0.025*\"jaar\" + 0.017*\"verkrijgen\" '\n",
            "  '+ 0.016*\"investering\" + 0.016*\"document\" + 0.015*\"voorwaarde\" + '\n",
            "  '0.012*\"maand\" + 0.012*\"recht\" + 0.011*\"omzet\"'),\n",
            " (1,\n",
            "  '0.063*\"decreet\" + 0.045*\"subsidie\" + 0.039*\"vermelden\" + 0.030*\"centrum\" + '\n",
            "  '0.027*\"regering\" + 0.026*\"Vlaams\" + 0.019*\"woord\" + 0.018*\"agentschap\" + '\n",
            "  '0.017*\"periode\" + 0.014*\"vervangen\"'),\n",
            " (2,\n",
            "  '0.035*\"wet_boek\" + 0.024*\"register\" + 0.019*\"detail\" + 0.017*\"jaar\" + '\n",
            "  '0.016*\"noemen\" + 0.015*\"onderdeel\" + 0.014*\"indexcijfer\" + '\n",
            "  '0.013*\"gemiddeld\" + 0.013*\"coefficient\" + 0.012*\"vergunning\"'),\n",
            " (3,\n",
            "  '0.028*\"onderneming\" + 0.021*\"steun\" + 0.020*\"code\" + 0.017*\"activiteit\" + '\n",
            "  '0.012*\"regering\" + 0.011*\"sector\" + 0.011*\"economisch\" + 0.009*\"raad\" + '\n",
            "  '0.009*\"economie\" + 0.009*\"sociaal\"'),\n",
            " (4,\n",
            "  '0.100*\"regering\" + 0.043*\"waals\" + 0.031*\"brusselse_hoofdstedelijk\" + '\n",
            "  '0.025*\"decreet\" + 0.022*\"kader\" + 0.021*\"bijzondere_machten\" + '\n",
            "  '0.020*\"woord\" + 0.017*\"vervangen\" + 0.016*\"belasten\" + 0.015*\"begroting\"'),\n",
            " (5,\n",
            "  '0.024*\"wet_boek\" + 0.023*\"belasting\" + 0.018*\"koninklijk\" + '\n",
            "  '0.017*\"betrekking\" + 0.015*\"woord\" + 0.015*\"vervangen\" + 0.012*\"regeling\" + '\n",
            "  '0.011*\"bedrag\" + 0.010*\"bijzonder\" + 0.010*\"dienst\"'),\n",
            " (6,\n",
            "  '0.023*\"ontwerpen\" + 0.018*\"ziekenhuis\" + 0.013*\"financieel\" + '\n",
            "  '0.013*\"termijn\" + 0.011*\"opmerking\" + 0.011*\"regel\" + 0.010*\"rechtsgrond\" + '\n",
            "  '0.010*\"aanhef\" + 0.010*\"epidemie\" + 0.009*\"tekst\"'),\n",
            " (7,\n",
            "  '0.024*\"examens\" + 0.023*\"evaluatie\" + 0.022*\"opleidingsjaar\" + '\n",
            "  '0.020*\"cursus\" + 0.019*\"organiseren\" + 0.019*\"afstand\" + '\n",
            "  '0.018*\"middelgrote_ondernemingen\" + 0.018*\"klein\" + 0.016*\"vergadering\" + '\n",
            "  '0.015*\"instituut\"'),\n",
            " (8,\n",
            "  '0.029*\"fiscaal\" + 0.024*\"bericht\" + 0.023*\"kennisgeving\" + 0.020*\"woord\" + '\n",
            "  '0.020*\"procedure\" + 0.018*\"datum\" + 0.017*\"vervangen\" + '\n",
            "  '0.015*\"elektronisch\" + 0.012*\"gewestelijk\" + 0.011*\"middel\"'),\n",
            " (9,\n",
            "  '0.042*\"lening\" + 0.041*\"huurder\" + 0.032*\"huurprijs\" + 0.024*\"verhuur\" + '\n",
            "  '0.024*\"verhuurder\" + 0.021*\"selectie\" + 0.018*\"onroerend_goed\" + '\n",
            "  '0.013*\"huur\" + 0.011*\"aa_ngiften\" + 0.011*\"rentevoet\"'),\n",
            " (10,\n",
            "  '0.021*\"vermelden\" + 0.014*\"periode\" + 0.013*\"Vlaams\" + 0.011*\"kind\" + '\n",
            "  '0.010*\"voorwaarde\" + 0.009*\"aantal\" + 0.009*\"bedrag\" + 0.009*\"uiterlijk\" + '\n",
            "  '0.007*\"organisator\" + 0.007*\"gezin\"'),\n",
            " (11,\n",
            "  '0.022*\"collectief\" + 0.016*\"werknemer\" + 0.012*\"werk\" + 0.012*\"werkgever\" + '\n",
            "  '0.011*\"uitvoering\" + 0.008*\"betrekking\" + 0.008*\"regeling\" + 0.007*\"dag\" + '\n",
            "  '0.007*\"vaccinatie\" + 0.007*\"kader\"'),\n",
            " (12,\n",
            "  '0.051*\"overeenkomst\" + 0.029*\"bevoegde_autoriteit\" + 0.028*\"akkoord\" + '\n",
            "  '0.026*\"verlenging\" + 0.019*\"belgisch_staatsblad\" + 0.016*\"kalendermaand\" + '\n",
            "  '0.015*\"dag\" + 0.015*\"verlengen\" + 0.014*\"publiceren\" + 0.014*\"aanvang\"'),\n",
            " (13,\n",
            "  '0.013*\"raad\" + 0.012*\"ministerieel\" + 0.011*\"verspreiding\" + '\n",
            "  '0.010*\"bijzonder\" + 0.010*\"bevoegdheid\" + 0.009*\"kader\" + 0.008*\"dringend\" '\n",
            "  '+ 0.008*\"beperken\" + 0.008*\"dienst\" + 0.007*\"ervan\"'),\n",
            " (14,\n",
            "  '0.068*\"lijst\" + 0.044*\"voorkomen\" + 0.035*\"rechtsgebieden\" + '\n",
            "  '0.033*\"rechtsgebied\" + 0.012*\"stem\" + 0.012*\"cel\" + '\n",
            "  '0.011*\"verenigd_college\" + 0.009*\"financiele_rekeningen\" + 0.008*\"papieren\" '\n",
            "  '+ 0.007*\"vergunnings\"'),\n",
            " (15,\n",
            "  '0.102*\"brussel_fiscaliteit\" + 0.055*\"gewestelijke_overheidsdienst\" + '\n",
            "  '0.036*\"aanwezig\" + 0.033*\"adjunct_directeur\" + 0.032*\"bevoegdheid\" + '\n",
            "  '0.028*\"groot\" + 0.024*\"geval\" + 0.021*\"directeur_generaal\" + '\n",
            "  '0.019*\"generaal\" + 0.018*\"directeur\"'),\n",
            " (16,\n",
            "  '0.029*\"onderwijs\" + 0.025*\"decreet\" + 0.018*\"leerling\" + 0.016*\"regering\" + '\n",
            "  '0.015*\"school_jaar\" + 0.014*\"afwijking\" + 0.011*\"personeel_lid\" + '\n",
            "  '0.011*\"jaar\" + 0.011*\"betrekking\" + 0.010*\"organisatie\"'),\n",
            " (17,\n",
            "  '0.050*\"koninklijk\" + 0.029*\"zelfstandig\" + 0.021*\"sociaal\" + '\n",
            "  '0.021*\"tijdelijk\" + 0.020*\"periode\" + 0.016*\"kader\" + 0.014*\"uitkering\" + '\n",
            "  '0.013*\"houd_en\" + 0.012*\"pandemie\" + 0.011*\"houden\"'),\n",
            " (18,\n",
            "  '0.022*\"arts\" + 0.019*\"patiënt\" + 0.016*\"ziekenhuis\" + '\n",
            "  '0.015*\"geneeskundige_verzorging\" + 0.014*\"kader\" + 0.011*\"gegevensbank\" + '\n",
            "  '0.011*\"uit_voeren\" + 0.010*\"koninklijk\" + 0.010*\"volksgezondheid\" + '\n",
            "  '0.010*\"sciensano\"'),\n",
            " (19,\n",
            "  '0.022*\"werkzame_bestanddel\" + 0.021*\"specialiteit\" + 0.018*\"bestanddeel\" + '\n",
            "  '0.018*\"combinatie\" + 0.016*\"betrokken_werkzaam\" + '\n",
            "  '0.014*\"gecorrigeerd_jaarlijks\" + 0.014*\"omzetcijfer_gelijk\" + '\n",
            "  '0.014*\"genereeren\" + 0.012*\"miljoen_euro\" + 0.011*\"interne_markt\"')]\n"
          ]
        }
      ],
      "source": [
        "# Printing keywords for 20 topics\n",
        "pprint(lda_model.print_topics())\n",
        "doc_lda = lda_model[corpus]"
      ]
    },
    {
      "cell_type": "markdown",
      "metadata": {
        "id": "2XyHR2UuKUIp"
      },
      "source": [
        "**NOTE**: \n",
        "\n",
        "The weights reflect how important a keyword is to that topic.\n",
        "\n",
        "Looking at these keywords, you can guess what this topic could be."
      ]
    },
    {
      "cell_type": "markdown",
      "metadata": {
        "id": "iW0vFYMM4QhX"
      },
      "source": [
        "### Compute Model Perplexity and Coherence Score"
      ]
    },
    {
      "cell_type": "markdown",
      "metadata": {
        "id": "5s_26Rbn0c6j"
      },
      "source": [
        "**Model perplexity** and **topic coherence** provide a convenient measure to judge how good a given topic model is."
      ]
    },
    {
      "cell_type": "code",
      "execution_count": 99,
      "metadata": {
        "colab": {
          "base_uri": "https://localhost:8080/"
        },
        "id": "y1ZNKyu64R0N",
        "outputId": "4dbe2240-f69d-4df8-fbcf-5e916db8da60"
      },
      "outputs": [
        {
          "name": "stdout",
          "output_type": "stream",
          "text": [
            "\n",
            "Perplexity:  -10.169302313924677\n",
            "\n",
            "Coherence Score:  0.526559593274935\n"
          ]
        }
      ],
      "source": [
        "# Computing Perplexity\n",
        "print('\\nPerplexity: ', lda_model.log_perplexity(corpus))  # a measure of how good the model is. lower the better.\n",
        "\n",
        "# Computing Coherence Score\n",
        "coherence_model_lda = CoherenceModel(model=lda_model, texts=data_lemmatized, dictionary=id2word, coherence='c_v')\n",
        "coherence_lda = coherence_model_lda.get_coherence()\n",
        "print('\\nCoherence Score: ', coherence_lda)"
      ]
    },
    {
      "cell_type": "markdown",
      "metadata": {
        "id": "KOQtvx9LSSUs"
      },
      "source": [
        "### Visualizing topic-keywords distribution"
      ]
    },
    {
      "cell_type": "code",
      "execution_count": 100,
      "metadata": {
        "colab": {
          "base_uri": "https://localhost:8080/",
          "height": 916
        },
        "id": "qlI5CMBmyMmG",
        "outputId": "cb154772-a86e-4ad3-bae3-a5c583851273"
      },
      "outputs": [
        {
          "name": "stderr",
          "output_type": "stream",
          "text": [
            "/Users/wvdvijve/.pyenv/versions/3.8.8/lib/python3.8/site-packages/pyLDAvis/_prepare.py:246: FutureWarning: In a future version of pandas all arguments of DataFrame.drop except for the argument 'labels' will be keyword-only.\n",
            "  default_term_info = default_term_info.sort_values(\n",
            "/Users/wvdvijve/.pyenv/versions/3.8.8/lib/python3.8/site-packages/joblib/backports.py:36: DeprecationWarning: distutils Version classes are deprecated. Use packaging.version instead.\n",
            "  if LooseVersion(np.__version__) < '1.13':\n",
            "/Users/wvdvijve/.pyenv/versions/3.8.8/lib/python3.8/site-packages/joblib/backports.py:36: DeprecationWarning: distutils Version classes are deprecated. Use packaging.version instead.\n",
            "  if LooseVersion(np.__version__) < '1.13':\n",
            "/Users/wvdvijve/.pyenv/versions/3.8.8/lib/python3.8/site-packages/joblib/backports.py:36: DeprecationWarning: distutils Version classes are deprecated. Use packaging.version instead.\n",
            "  if LooseVersion(np.__version__) < '1.13':\n",
            "/Users/wvdvijve/.pyenv/versions/3.8.8/lib/python3.8/site-packages/setuptools/_distutils/version.py:351: DeprecationWarning: distutils Version classes are deprecated. Use packaging.version instead.\n",
            "  other = LooseVersion(other)\n",
            "/Users/wvdvijve/.pyenv/versions/3.8.8/lib/python3.8/site-packages/setuptools/_distutils/version.py:351: DeprecationWarning: distutils Version classes are deprecated. Use packaging.version instead.\n",
            "  other = LooseVersion(other)\n",
            "/Users/wvdvijve/.pyenv/versions/3.8.8/lib/python3.8/site-packages/setuptools/_distutils/version.py:351: DeprecationWarning: distutils Version classes are deprecated. Use packaging.version instead.\n",
            "  other = LooseVersion(other)\n",
            "/Users/wvdvijve/.pyenv/versions/3.8.8/lib/python3.8/site-packages/joblib/backports.py:36: DeprecationWarning: distutils Version classes are deprecated. Use packaging.version instead.\n",
            "  if LooseVersion(np.__version__) < '1.13':\n",
            "/Users/wvdvijve/.pyenv/versions/3.8.8/lib/python3.8/site-packages/setuptools/_distutils/version.py:351: DeprecationWarning: distutils Version classes are deprecated. Use packaging.version instead.\n",
            "  other = LooseVersion(other)\n",
            "/Users/wvdvijve/.pyenv/versions/3.8.8/lib/python3.8/site-packages/joblib/backports.py:36: DeprecationWarning: distutils Version classes are deprecated. Use packaging.version instead.\n",
            "  if LooseVersion(np.__version__) < '1.13':\n",
            "/Users/wvdvijve/.pyenv/versions/3.8.8/lib/python3.8/site-packages/joblib/backports.py:36: DeprecationWarning: distutils Version classes are deprecated. Use packaging.version instead.\n",
            "  if LooseVersion(np.__version__) < '1.13':\n",
            "/Users/wvdvijve/.pyenv/versions/3.8.8/lib/python3.8/site-packages/setuptools/_distutils/version.py:351: DeprecationWarning: distutils Version classes are deprecated. Use packaging.version instead.\n",
            "  other = LooseVersion(other)\n",
            "/Users/wvdvijve/.pyenv/versions/3.8.8/lib/python3.8/site-packages/setuptools/_distutils/version.py:351: DeprecationWarning: distutils Version classes are deprecated. Use packaging.version instead.\n",
            "  other = LooseVersion(other)\n",
            "/Users/wvdvijve/.pyenv/versions/3.8.8/lib/python3.8/site-packages/joblib/backports.py:36: DeprecationWarning: distutils Version classes are deprecated. Use packaging.version instead.\n",
            "  if LooseVersion(np.__version__) < '1.13':\n",
            "/Users/wvdvijve/.pyenv/versions/3.8.8/lib/python3.8/site-packages/setuptools/_distutils/version.py:351: DeprecationWarning: distutils Version classes are deprecated. Use packaging.version instead.\n",
            "  other = LooseVersion(other)\n",
            "/Users/wvdvijve/.pyenv/versions/3.8.8/lib/python3.8/site-packages/joblib/backports.py:36: DeprecationWarning: distutils Version classes are deprecated. Use packaging.version instead.\n",
            "  if LooseVersion(np.__version__) < '1.13':\n",
            "/Users/wvdvijve/.pyenv/versions/3.8.8/lib/python3.8/site-packages/setuptools/_distutils/version.py:351: DeprecationWarning: distutils Version classes are deprecated. Use packaging.version instead.\n",
            "  other = LooseVersion(other)\n",
            "/Users/wvdvijve/.pyenv/versions/3.8.8/lib/python3.8/site-packages/joblib/backports.py:36: DeprecationWarning: distutils Version classes are deprecated. Use packaging.version instead.\n",
            "  if LooseVersion(np.__version__) < '1.13':\n",
            "/Users/wvdvijve/.pyenv/versions/3.8.8/lib/python3.8/site-packages/setuptools/_distutils/version.py:351: DeprecationWarning: distutils Version classes are deprecated. Use packaging.version instead.\n",
            "  other = LooseVersion(other)\n",
            "/Users/wvdvijve/.pyenv/versions/3.8.8/lib/python3.8/site-packages/joblib/backports.py:36: DeprecationWarning: distutils Version classes are deprecated. Use packaging.version instead.\n",
            "  if LooseVersion(np.__version__) < '1.13':\n",
            "/Users/wvdvijve/.pyenv/versions/3.8.8/lib/python3.8/site-packages/setuptools/_distutils/version.py:351: DeprecationWarning: distutils Version classes are deprecated. Use packaging.version instead.\n",
            "  other = LooseVersion(other)\n",
            "/Users/wvdvijve/.pyenv/versions/3.8.8/lib/python3.8/site-packages/joblib/backports.py:36: DeprecationWarning: distutils Version classes are deprecated. Use packaging.version instead.\n",
            "  if LooseVersion(np.__version__) < '1.13':\n",
            "/Users/wvdvijve/.pyenv/versions/3.8.8/lib/python3.8/site-packages/setuptools/_distutils/version.py:351: DeprecationWarning: distutils Version classes are deprecated. Use packaging.version instead.\n",
            "  other = LooseVersion(other)\n",
            "/Users/wvdvijve/.pyenv/versions/3.8.8/lib/python3.8/site-packages/joblib/backports.py:36: DeprecationWarning: distutils Version classes are deprecated. Use packaging.version instead.\n",
            "  if LooseVersion(np.__version__) < '1.13':\n",
            "/Users/wvdvijve/.pyenv/versions/3.8.8/lib/python3.8/site-packages/joblib/backports.py:36: DeprecationWarning: distutils Version classes are deprecated. Use packaging.version instead.\n",
            "  if LooseVersion(np.__version__) < '1.13':\n",
            "/Users/wvdvijve/.pyenv/versions/3.8.8/lib/python3.8/site-packages/joblib/backports.py:36: DeprecationWarning: distutils Version classes are deprecated. Use packaging.version instead.\n",
            "  if LooseVersion(np.__version__) < '1.13':\n",
            "/Users/wvdvijve/.pyenv/versions/3.8.8/lib/python3.8/site-packages/setuptools/_distutils/version.py:351: DeprecationWarning: distutils Version classes are deprecated. Use packaging.version instead.\n",
            "  other = LooseVersion(other)\n",
            "/Users/wvdvijve/.pyenv/versions/3.8.8/lib/python3.8/site-packages/setuptools/_distutils/version.py:351: DeprecationWarning: distutils Version classes are deprecated. Use packaging.version instead.\n",
            "  other = LooseVersion(other)\n",
            "/Users/wvdvijve/.pyenv/versions/3.8.8/lib/python3.8/site-packages/setuptools/_distutils/version.py:351: DeprecationWarning: distutils Version classes are deprecated. Use packaging.version instead.\n",
            "  other = LooseVersion(other)\n",
            "/Users/wvdvijve/.pyenv/versions/3.8.8/lib/python3.8/site-packages/joblib/backports.py:36: DeprecationWarning: distutils Version classes are deprecated. Use packaging.version instead.\n",
            "  if LooseVersion(np.__version__) < '1.13':\n",
            "/Users/wvdvijve/.pyenv/versions/3.8.8/lib/python3.8/site-packages/setuptools/_distutils/version.py:351: DeprecationWarning: distutils Version classes are deprecated. Use packaging.version instead.\n",
            "  other = LooseVersion(other)\n",
            "/Users/wvdvijve/.pyenv/versions/3.8.8/lib/python3.8/site-packages/joblib/backports.py:36: DeprecationWarning: distutils Version classes are deprecated. Use packaging.version instead.\n",
            "  if LooseVersion(np.__version__) < '1.13':\n",
            "/Users/wvdvijve/.pyenv/versions/3.8.8/lib/python3.8/site-packages/setuptools/_distutils/version.py:351: DeprecationWarning: distutils Version classes are deprecated. Use packaging.version instead.\n",
            "  other = LooseVersion(other)\n",
            "/Users/wvdvijve/.pyenv/versions/3.8.8/lib/python3.8/site-packages/joblib/backports.py:36: DeprecationWarning: distutils Version classes are deprecated. Use packaging.version instead.\n",
            "  if LooseVersion(np.__version__) < '1.13':\n",
            "/Users/wvdvijve/.pyenv/versions/3.8.8/lib/python3.8/site-packages/setuptools/_distutils/version.py:351: DeprecationWarning: distutils Version classes are deprecated. Use packaging.version instead.\n",
            "  other = LooseVersion(other)\n",
            "/Users/wvdvijve/.pyenv/versions/3.8.8/lib/python3.8/site-packages/joblib/backports.py:36: DeprecationWarning: distutils Version classes are deprecated. Use packaging.version instead.\n",
            "  if LooseVersion(np.__version__) < '1.13':\n",
            "/Users/wvdvijve/.pyenv/versions/3.8.8/lib/python3.8/site-packages/setuptools/_distutils/version.py:351: DeprecationWarning: distutils Version classes are deprecated. Use packaging.version instead.\n",
            "  other = LooseVersion(other)\n",
            "/Users/wvdvijve/.pyenv/versions/3.8.8/lib/python3.8/site-packages/joblib/backports.py:36: DeprecationWarning: distutils Version classes are deprecated. Use packaging.version instead.\n",
            "  if LooseVersion(np.__version__) < '1.13':\n",
            "/Users/wvdvijve/.pyenv/versions/3.8.8/lib/python3.8/site-packages/joblib/backports.py:36: DeprecationWarning: distutils Version classes are deprecated. Use packaging.version instead.\n",
            "  if LooseVersion(np.__version__) < '1.13':\n",
            "/Users/wvdvijve/.pyenv/versions/3.8.8/lib/python3.8/site-packages/setuptools/_distutils/version.py:351: DeprecationWarning: distutils Version classes are deprecated. Use packaging.version instead.\n",
            "  other = LooseVersion(other)\n",
            "/Users/wvdvijve/.pyenv/versions/3.8.8/lib/python3.8/site-packages/setuptools/_distutils/version.py:351: DeprecationWarning: distutils Version classes are deprecated. Use packaging.version instead.\n",
            "  other = LooseVersion(other)\n",
            "/Users/wvdvijve/.pyenv/versions/3.8.8/lib/python3.8/site-packages/joblib/backports.py:36: DeprecationWarning: distutils Version classes are deprecated. Use packaging.version instead.\n",
            "  if LooseVersion(np.__version__) < '1.13':\n",
            "/Users/wvdvijve/.pyenv/versions/3.8.8/lib/python3.8/site-packages/joblib/backports.py:36: DeprecationWarning: distutils Version classes are deprecated. Use packaging.version instead.\n",
            "  if LooseVersion(np.__version__) < '1.13':\n",
            "/Users/wvdvijve/.pyenv/versions/3.8.8/lib/python3.8/site-packages/setuptools/_distutils/version.py:351: DeprecationWarning: distutils Version classes are deprecated. Use packaging.version instead.\n",
            "  other = LooseVersion(other)\n",
            "/Users/wvdvijve/.pyenv/versions/3.8.8/lib/python3.8/site-packages/setuptools/_distutils/version.py:351: DeprecationWarning: distutils Version classes are deprecated. Use packaging.version instead.\n",
            "  other = LooseVersion(other)\n",
            "/Users/wvdvijve/.pyenv/versions/3.8.8/lib/python3.8/site-packages/joblib/backports.py:36: DeprecationWarning: distutils Version classes are deprecated. Use packaging.version instead.\n",
            "  if LooseVersion(np.__version__) < '1.13':\n",
            "/Users/wvdvijve/.pyenv/versions/3.8.8/lib/python3.8/site-packages/setuptools/_distutils/version.py:351: DeprecationWarning: distutils Version classes are deprecated. Use packaging.version instead.\n",
            "  other = LooseVersion(other)\n",
            "/Users/wvdvijve/.pyenv/versions/3.8.8/lib/python3.8/site-packages/joblib/backports.py:36: DeprecationWarning: distutils Version classes are deprecated. Use packaging.version instead.\n",
            "  if LooseVersion(np.__version__) < '1.13':\n",
            "/Users/wvdvijve/.pyenv/versions/3.8.8/lib/python3.8/site-packages/setuptools/_distutils/version.py:351: DeprecationWarning: distutils Version classes are deprecated. Use packaging.version instead.\n",
            "  other = LooseVersion(other)\n",
            "/Users/wvdvijve/.pyenv/versions/3.8.8/lib/python3.8/site-packages/joblib/backports.py:36: DeprecationWarning: distutils Version classes are deprecated. Use packaging.version instead.\n",
            "  if LooseVersion(np.__version__) < '1.13':\n",
            "/Users/wvdvijve/.pyenv/versions/3.8.8/lib/python3.8/site-packages/setuptools/_distutils/version.py:351: DeprecationWarning: distutils Version classes are deprecated. Use packaging.version instead.\n",
            "  other = LooseVersion(other)\n",
            "/Users/wvdvijve/.pyenv/versions/3.8.8/lib/python3.8/site-packages/joblib/backports.py:36: DeprecationWarning: distutils Version classes are deprecated. Use packaging.version instead.\n",
            "  if LooseVersion(np.__version__) < '1.13':\n",
            "/Users/wvdvijve/.pyenv/versions/3.8.8/lib/python3.8/site-packages/joblib/backports.py:36: DeprecationWarning: distutils Version classes are deprecated. Use packaging.version instead.\n",
            "  if LooseVersion(np.__version__) < '1.13':\n",
            "/Users/wvdvijve/.pyenv/versions/3.8.8/lib/python3.8/site-packages/setuptools/_distutils/version.py:351: DeprecationWarning: distutils Version classes are deprecated. Use packaging.version instead.\n",
            "  other = LooseVersion(other)\n",
            "/Users/wvdvijve/.pyenv/versions/3.8.8/lib/python3.8/site-packages/setuptools/_distutils/version.py:351: DeprecationWarning: distutils Version classes are deprecated. Use packaging.version instead.\n",
            "  other = LooseVersion(other)\n",
            "/Users/wvdvijve/.pyenv/versions/3.8.8/lib/python3.8/site-packages/joblib/backports.py:36: DeprecationWarning: distutils Version classes are deprecated. Use packaging.version instead.\n",
            "  if LooseVersion(np.__version__) < '1.13':\n",
            "/Users/wvdvijve/.pyenv/versions/3.8.8/lib/python3.8/site-packages/setuptools/_distutils/version.py:351: DeprecationWarning: distutils Version classes are deprecated. Use packaging.version instead.\n",
            "  other = LooseVersion(other)\n",
            "/Users/wvdvijve/.pyenv/versions/3.8.8/lib/python3.8/site-packages/joblib/backports.py:36: DeprecationWarning: distutils Version classes are deprecated. Use packaging.version instead.\n",
            "  if LooseVersion(np.__version__) < '1.13':\n",
            "/Users/wvdvijve/.pyenv/versions/3.8.8/lib/python3.8/site-packages/setuptools/_distutils/version.py:351: DeprecationWarning: distutils Version classes are deprecated. Use packaging.version instead.\n",
            "  other = LooseVersion(other)\n",
            "/Users/wvdvijve/.pyenv/versions/3.8.8/lib/python3.8/site-packages/joblib/backports.py:36: DeprecationWarning: distutils Version classes are deprecated. Use packaging.version instead.\n",
            "  if LooseVersion(np.__version__) < '1.13':\n",
            "/Users/wvdvijve/.pyenv/versions/3.8.8/lib/python3.8/site-packages/setuptools/_distutils/version.py:351: DeprecationWarning: distutils Version classes are deprecated. Use packaging.version instead.\n",
            "  other = LooseVersion(other)\n",
            "/Users/wvdvijve/.pyenv/versions/3.8.8/lib/python3.8/site-packages/joblib/backports.py:36: DeprecationWarning: distutils Version classes are deprecated. Use packaging.version instead.\n",
            "  if LooseVersion(np.__version__) < '1.13':\n",
            "/Users/wvdvijve/.pyenv/versions/3.8.8/lib/python3.8/site-packages/setuptools/_distutils/version.py:351: DeprecationWarning: distutils Version classes are deprecated. Use packaging.version instead.\n",
            "  other = LooseVersion(other)\n",
            "/Users/wvdvijve/.pyenv/versions/3.8.8/lib/python3.8/site-packages/joblib/backports.py:36: DeprecationWarning: distutils Version classes are deprecated. Use packaging.version instead.\n",
            "  if LooseVersion(np.__version__) < '1.13':\n",
            "/Users/wvdvijve/.pyenv/versions/3.8.8/lib/python3.8/site-packages/setuptools/_distutils/version.py:351: DeprecationWarning: distutils Version classes are deprecated. Use packaging.version instead.\n",
            "  other = LooseVersion(other)\n",
            "/Users/wvdvijve/.pyenv/versions/3.8.8/lib/python3.8/site-packages/joblib/backports.py:36: DeprecationWarning: distutils Version classes are deprecated. Use packaging.version instead.\n",
            "  if LooseVersion(np.__version__) < '1.13':\n",
            "/Users/wvdvijve/.pyenv/versions/3.8.8/lib/python3.8/site-packages/setuptools/_distutils/version.py:351: DeprecationWarning: distutils Version classes are deprecated. Use packaging.version instead.\n",
            "  other = LooseVersion(other)\n",
            "/Users/wvdvijve/.pyenv/versions/3.8.8/lib/python3.8/site-packages/joblib/backports.py:36: DeprecationWarning: distutils Version classes are deprecated. Use packaging.version instead.\n",
            "  if LooseVersion(np.__version__) < '1.13':\n",
            "/Users/wvdvijve/.pyenv/versions/3.8.8/lib/python3.8/site-packages/setuptools/_distutils/version.py:351: DeprecationWarning: distutils Version classes are deprecated. Use packaging.version instead.\n",
            "  other = LooseVersion(other)\n"
          ]
        },
        {
          "data": {
            "text/html": [
              "\n",
              "<link rel=\"stylesheet\" type=\"text/css\" href=\"https://cdn.jsdelivr.net/gh/bmabey/pyLDAvis@3.3.1/pyLDAvis/js/ldavis.v1.0.0.css\">\n",
              "\n",
              "\n",
              "<div id=\"ldavis_el23356793549284917550031\"></div>\n",
              "<script type=\"text/javascript\">\n",
              "\n",
              "var ldavis_el23356793549284917550031_data = {\"mdsDat\": {\"x\": [-0.16572762378289385, -0.189514606294917, -0.16933852090885254, -0.20018275211342232, -0.15297197705450813, -0.2001237551077262, -0.1394722540423248, -0.09794399708597962, -0.14883043844546767, -0.0771481477686519, -0.04994315322973465, -0.06872016493557737, -0.005013599205709469, 0.18254216791594058, 0.20480221065239346, 0.2108662318317371, 0.2531020697715259, 0.2715928745546346, 0.27350649857477755, 0.2685189366747558], \"y\": [0.017370169319395307, -0.018224840947410642, 0.04361023226660607, 0.11074314015182714, 0.1089380634641375, -0.020825126408006663, -0.04775306935333131, 0.16422337956861682, -0.24783657699135284, 0.1979242348906729, -0.11790383181018081, -0.19177020255765587, -0.04262785758083967, 0.017472032518494236, 0.025776371841540035, -0.023393948261506755, 0.005577934169310848, 0.0024717550722526305, 0.005413959769674118, 0.010814180877755878], \"topics\": [1, 2, 3, 4, 5, 6, 7, 8, 9, 10, 11, 12, 13, 14, 15, 16, 17, 18, 19, 20], \"cluster\": [1, 1, 1, 1, 1, 1, 1, 1, 1, 1, 1, 1, 1, 1, 1, 1, 1, 1, 1, 1], \"Freq\": [13.10436172560839, 12.429767691938455, 11.970106307062414, 11.674612929275403, 9.489545901021705, 7.820434173798373, 5.391563400844941, 5.364492090527022, 5.0613682635033035, 4.931505786301658, 3.698755394692082, 3.5054436760621117, 1.8985972115814185, 1.0888357781480773, 0.8863146155025006, 0.6701114121143009, 0.2908520422976115, 0.2896656897551661, 0.22542525701521932, 0.20824065294985178]}, \"tinfo\": {\"Term\": [\"regering\", \"decreet\", \"wet_boek\", \"koninklijk\", \"vermelden\", \"waals\", \"woord\", \"bevoegdheid\", \"onderneming\", \"subsidie\", \"geval\", \"jaar\", \"belasting\", \"zelfstandig\", \"Vlaams\", \"vervangen\", \"code\", \"steun\", \"periode\", \"brusselse_hoofdstedelijk\", \"collectief\", \"overeenkomst\", \"fiscaal\", \"onderwijs\", \"toe_kennen\", \"ziekenhuis\", \"organiseren\", \"centrum\", \"raad\", \"voorwaarde\", \"lidstaat\", \"toegevoegde_waran\", \"invoer\", \"quater\", \"quinquie\", \"verschuldigde\", \"aftrek\", \"laatstelijk_gewijzigd\", \"streepje\", \"identiteit\", \"bank\", \"boete\", \"constructie\", \"aansprakelijk\", \"voldoening\", \"hypothecair\", \"tussenpersoon\", \"wettig\", \"formaliteit\", \"grondig\", \"programma_wet\", \"voortaan\", \"derde_lanen\", \"omzetting\", \"heffing\", \"onroerende_goederen\", \"vonnis\", \"streep\", \"zeven\", \"geleverde_goederen\", \"wetboek\", \"belasting\", \"vestigen\", \"sexie\", \"verschuldigen\", \"aangifte\", \"btw\", \"douane\", \"levering\", \"tarief\", \"wet_boek\", \"belastbaar\", \"onderafdeling\", \"verstrijken\", \"hetzelfde\", \"handeling\", \"voertuig\", \"verrichten\", \"vrijstelling\", \"automatisch\", \"regeling\", \"titel\", \"betaling\", \"betrekking\", \"vervangen\", \"woord\", \"koninklijk\", \"bedrag\", \"bijzonder\", \"administratie\", \"dienst\", \"in_voeggen\", \"overeenkomstig\", \"fiscaal\", \"wijziging\", \"nieuw\", \"jaar\", \"maand\", \"waarvan\", \"gebruik\", \"geval\", \"waarin\", \"code\", \"winst_oogmerk\", \"verordeningen\", \"verplichte_sluiting\", \"plaatsgehad\", \"resolutie\", \"gewestelijke_beleidslijnen\", \"toeristisch\", \"erewoord\", \"cluster\", \"bevordering\", \"steunmaatregel\", \"gevolgen_ondervinden\", \"minimissteun\", \"bew\", \"hierdoor\", \"strekken\", \"ondernemer\", \"gemiddeld_aantal\", \"vertraging\", \"begunstigen\", \"film\", \"europees\", \"creatief\", \"restaurant\", \"middelgroot\", \"beleidslijnen\", \"uit_keren\", \"cultuur\", \"gendertest\", \"steun\", \"economie\", \"onderneming\", \"werkgelegenheid\", \"premie\", \"vergoeding\", \"sector\", \"aanvrager\", \"europese_unie\", \"economisch\", \"klein\", \"cultureel\", \"activiteit\", \"ondernemingen\", \"aanvraag\", \"vereniging\", \"commissie\", \"tegemoetkoming\", \"verdrag\", \"euro\", \"toe_kennen\", \"ontwikkeling\", \"financieel\", \"sociaal\", \"treffen\", \"raad\", \"regering\", \"dringend\", \"waals\", \"administratie\", \"gevolg\", \"hoog\", \"decreet\", \"gewest\", \"voorwaarde\", \"bedragen\", \"overeenkomstig\", \"verlenen\", \"houden\", \"ministerieel\", \"organisator\", \"baseren\", \"aan_sluiten\", \"kinderopvang\", \"opvang\", \"mondmask\", \"kwestie\", \"conform\", \"organisatoren\", \"buitengewoon\", \"brief\", \"internat\", \"rechtsvorm\", \"duidelijkheid\", \"tekort\", \"op_vangen\", \"motivering\", \"schade\", \"online\", \"kind_opvang\", \"verstreken\", \"structureel\", \"rechtsgrinden\", \"bezwaar\", \"codificatie\", \"aanwending\", \"initiatiefnemer\", \"ambten\", \"plaatsvinden\", \"aangepaste\", \"intern_verzelfstandigd\", \"kind\", \"eenmalig\", \"attest\", \"tonen\", \"voor_stellen\", \"percentage\", \"extra\", \"gezin\", \"vermelden\", \"Vlaams\", \"bezorgen\", \"uiterlijk\", \"maximaal\", \"beoordeelen\", \"voldoen\", \"aantal\", \"periode\", \"agentschap\", \"voorwaarde\", \"organisatie\", \"uitgave\", \"gelden\", \"bedrag\", \"aanleiding\", \"euro\", \"basis\", \"toe_kennen\", \"waarvoor\", \"gevolg\", \"kost\", \"geval\", \"termijn\", \"kader\", \"houden\", \"datum\", \"subsidie\", \"jaar\", \"dag\", \"binnenlandse_zaken\", \"verscheiden\", \"afnemer\", \"uitwisseling\", \"gemeente_raad\", \"dijk\", \"afbouw\", \"coordinatie\", \"verbieden\", \"openbare_ron\", \"neus\", \"herinnering\", \"mond\", \"gevaarlijk\", \"regel_geving\", \"bijeenkomst\", \"stof\", \"nieuwe_gemeentewet\", \"plegen\", \"herinneren\", \"installatie\", \"bijeenkomen\", \"heden\", \"virtueel\", \"gezinsbijslag\", \"toekomst\", \"niettemin\", \"proces_verbaal\", \"bicommunautaire_dienst\", \"intensieve_zorgen\", \"gemeentelijk\", \"wachten\", \"ruim\", \"social_distancing\", \"af_wijken\", \"bevolking\", \"verbod\", \"verenigd_college\", \"grond_gebied\", \"strikt\", \"ministeriele_besluit\", \"overheid\", \"toe_laten\", \"openbaar\", \"passen\", \"gemeente\", \"ministerieel\", \"burger\", \"vergadering\", \"risico\", \"bevoegdheid\", \"burgemeester\", \"situatie\", \"bijstand\", \"sanitair\", \"ervan\", \"blijven\", \"verspreiding\", \"beperken\", \"bijzonder\", \"gezondheid\", \"plaats\", \"opdracht\", \"raad\", \"dienen\", \"mogelijk\", \"staan\", \"dringend\", \"nodig\", \"kader\", \"dienst\", \"verband\", \"geval\", \"contact\", \"houden\", \"federaal\", \"covid\", \"noodzakelijk\", \"stellen\", \"collectief\", \"vaccinatie\", \"vaccin\", \"paritaire_comite\", \"quarantaine\", \"paritair_comite\", \"volwassen\", \"medewerker\", \"algemeen_verbindend\", \"handtekening\", \"vaccineren\", \"informeren\", \"bejaardenhulp\", \"bevoegde_gefedereerde\", \"conferentie_volksgezondheid\", \"besmeten\", \"afkomstig\", \"sociaal_inspecteurs\", \"bijlage_overgenom\", \"bevoegde_gefedereren\", \"hiertoe\", \"daaruit\", \"politie_dienst\", \"interpretatie\", \"peuter\", \"standpunt\", \"verenigd_koninkrijk\", \"hanteren\", \"mannelijk\", \"verwerker\", \"registreren\", \"entiteiten\", \"werkgever\", \"preventie\", \"toeslag\", \"werknemer\", \"fase\", \"reizen\", \"werk\", \"coronavirus\", \"digitaal\", \"tij_delijke_werkloosheid\", \"verwerking\", \"professioneel\", \"uur\", \"tijdelijke_werkloosheid\", \"sluiten\", \"naleving\", \"uitvoering\", \"verwijzing\", \"regeling\", \"zover\", \"gaan\", \"eur\", \"dag\", \"federaal\", \"betrekking\", \"waar\", \"verplichten\", \"kader\", \"oog\", \"noodzakelijk\", \"dienst\", \"sociaal\", \"houden\", \"mogelijk\", \"zien\", \"meewerkende_echtgenoten\", \"pensioen\", \"justitie\", \"ten_voordeel\", \"aanvullende_crisisuitkering\", \"besluitwet\", \"onderbreken\", \"tijdelijk_werkloos\", \"beroepsziekten\", \"slachtoffer\", \"Sexies\", \"raad_vergadren\", \"werklozen\", \"bedrijfstoeslag\", \"uitkering\", \"viller\", \"marnix\", \"clarinval\", \"adviserend_arts\", \"grondwettelijk\", \"leefloon\", \"berusten\", \"vitale_sectoren\", \"beheerscomite\", \"halftijds\", \"staatsraad\", \"pijler\", \"armoede\", \"redelijk_verantwoord\", \"beroepsrisico\", \"zelfstandig\", \"tijdelijk\", \"koninklijk\", \"vrijwilliger\", \"onderbreking\", \"groet\", \"zullen_onze\", \"uitstel\", \"strijd\", \"koningswege\", \"divers\", \"invoering\", \"fil_ip_koning\", \"sociaal\", \"erkenning\", \"periode\", \"pandemie\", \"houd_en\", \"wijziging\", \"koning\", \"hierna\", \"bijdrage\", \"kader\", \"letten\", \"kwartaal\", \"datum\", \"covid\", \"houden\", \"uitvoering\", \"verspreiding\", \"maand\", \"dringend\", \"raad\", \"activiteit\", \"verlenging\", \"woord\", \"vervangen\", \"leerling\", \"school_jaar\", \"secundair_onderwijs\", \"ambtenarenzaken\", \"getuigschrift\", \"behalen\", \"kandi_datuur\", \"uitzonderlijke_omstandigheden\", \"stage\", \"mijnheer\", \"voornamen\", \"specialiseren\", \"diploma\", \"tele_werk\", \"af_leggen\", \"theoretisch\", \"slagen\", \"examencommissie\", \"leerjaar\", \"klassenraad\", \"gedrang_komt\", \"proef\", \"pedagogisch\", \"bovenvermelen\", \"inrichtende_macht\", \"testcapaciteit\", \"rang\", \"beoefijnen\", \"secretariaat\", \"kandidaat\", \"graad\", \"personeel_lid\", \"onderwijs\", \"personeelslid\", \"ambt\", \"toelating\", \"opleiding\", \"voornoemd\", \"statuut\", \"mandaat\", \"protocol\", \"school\", \"franse_gemeenschap\", \"decreet\", \"afwijking\", \"organiseren\", \"personeel\", \"promotie\", \"organisatie\", \"jaar\", \"einde\", \"regering\", \"betrekking\", \"sociaal\", \"stellen\", \"beslissing\", \"vaststelling\", \"raad\", \"financiele_tussenkomst\", \"arts\", \"verstrekkingen\", \"triage\", \"opsporen\", \"semester\", \"zorgverlener\", \"verpleegkundig\", \"collectiviteit\", \"laboratorium\", \"geneesmiddeal\", \"huis_arts\", \"klinische_biologie\", \"afnamecentrum\", \"nomenclatuur\", \"honoraria\", \"verstrekking\", \"telefoon\", \"moleculair\", \"afnamecentra\", \"vroegtijdig\", \"psychologisch\", \"statistisch\", \"getest\", \"vergoedbaar\", \"mobiel\", \"voorschrifen\", \"sciensano\", \"laboratoria\", \"verzameling\", \"databank\", \"geneesmiddel\", \"geneeskundig\", \"geneeskundige_verzorging\", \"pati\\u00ebnt\", \"verplichte_verzekering\", \"testen\", \"besmet\", \"doeleinde\", \"gegevensbank\", \"test\", \"uitkeringen_gecoordineerd\", \"ziekenhuis\", \"medisch\", \"verwerken\", \"volksgezondheid\", \"zorg\", \"uit_voeren\", \"verzekering\", \"contact\", \"tegemoetkoming\", \"verlenen\", \"kader\", \"categorie\", \"basis\", \"koninklijk\", \"epidemie\", \"strijd\", \"vaststelling\", \"ambtenarenzaken_gelijk\", \"jeugd_justitiehuizen\", \"promotie_universitair\", \"ziekenhuizen_hulpverlening\", \"wallonie_bruxelles\", \"exploitant\", \"imago\", \"dae_rden\", \"mobiliteit_openbaar\", \"spoed\", \"territoriale_ontwikkeling\", \"kunst\", \"gatz\", \"Parlement\", \"biculturele_zaken\", \"vrouwenrechten_linard\", \"plaatselijke_besturen\", \"administratief_statuut\", \"gewestelijk_belang\", \"reglementair_verei\", \"digitalisering\", \"Clerfayt\", \"probleem_vormt\", \"aan_neming_vergadering\", \"gimb\", \"gedelegeerde_opdracht\", \"enseignement_fr\", \"schepen\", \"participatieve_democratie\", \"nv_gewestelijk\", \"brusselse_hoofdstedelijk\", \"bijzondere_machten\", \"jeugd_sport\", \"waals\", \"college\", \"bekrachtigen\", \"regering\", \"parlement\", \"bekrachtigen_hetgeen\", \"bijzondere_machtenbesluit\", \"openbaar_ambt\", \"bespreking\", \"sociale_actie\", \"ordonnantie\", \"president\", \"begroting\", \"reageren\", \"brussels_hoofdstedelijk\", \"franse_gemeenschap\", \"promotie\", \"gewest\", \"belasten\", \"aan_nemen\", \"decreet\", \"toekenning\", \"woord\", \"besluiten\", \"kader\", \"letten\", \"Waals\", \"vervangen\", \"inzonderheid\", \"beraadslaging\", \"houd_en\", \"bijzonder\", \"dienst\", \"werk\", \"instelling\", \"uitvoering\", \"crisis\", \"wijzigen\", \"betrekking\", \"wetgever\", \"wetsbepaling\", \"draagwijdte\", \"uiteen_zetten\", \"citeren\", \"regularisatie\", \"soins\", \"nadelig\", \"opgemerkt\", \"tel\", \"mesures\", \"korte_termijn\", \"staatsraden\", \"si\", \"verrekening\", \"koen_muylle\", \"base\", \"op_merken\", \"inperking\", \"martine_baguet\", \"daarin\", \"Nieuwenhove\", \"rechtbank\", \"parl_st\", \"aanhef\", \"reiskosten\", \"strekking\", \"weggelat\", \"pierre_vandernoot\", \"vraag_rijst\", \"opmerking\", \"ontwerpen\", \"voorschot\", \"pas\", \"auditeur\", \"rechtsgrond\", \"adviesaanvraag\", \"afdeling_wetgeving\", \"bedoeling\", \"voorliggen\", \"gemachtigen\", \"steller\", \"wijzig\", \"article\", \"tekst\", \"ziekenhuis\", \"immers\", \"griffier\", \"voorstel\", \"financieel\", \"budget\", \"epidemie\", \"regel\", \"antwoord\", \"termijn\", \"onderzoek\", \"middel\", \"uit_brengen\", \"vraag\", \"koning\", \"Frans\", \"verwijzen\", \"maken\", \"verslag\", \"zaak\", \"echter\", \"voorzitter\", \"bevoegdheid\", \"raad\", \"voorwaarde\", \"basis\", \"verzending\", \"bericht\", \"certificaat\", \"notaris\", \"morreaal\", \"nota_zitting\", \"erflater\", \"bossen_landelijk\", \"leefmilieu_natuur\", \"uitzonderen\", \"klimaat_energie\", \"economie_buitenlandse\", \"dierenwelzijn_tellier\", \"maatstaf\", \"operationeel_directoraat\", \"aanneming_vergadering\", \"bespreking_stemming\", \"adresseren\", \"heist\", \"berlaar\", \"verzet\", \"overhei_dsdienst\", \"aangever\", \"akte\", \"notarissen\", \"beslag\", \"durch\", \"automaten\", \"aan_gewen\", \"weddenschappen\", \"kennisgeving\", \"verze_nding\", \"overheidsd_ienst\", \"verzonden\", \"schuld\", \"rechtspersoon\", \"fiscaliteit\", \"gerechtelijk\", \"fiscaal\", \"natuurlijke_persoon\", \"hypotheek\", \"procedure\", \"elektronisch\", \"codex\", \"gebrek\", \"gewestelijk\", \"datum\", \"zetel\", \"middel\", \"gebruiken\", \"woord\", \"op_heffen\", \"vervangen\", \"waarbij\", \"dergelijk\", \"mee_delen\", \"administratie\", \"geval\", \"aan_nemen\", \"ordonnantie\", \"wet_boek\", \"belasten\", \"decreet\", \"subsidiering\", \"civiele_noodsituatie\", \"sinnen\", \"opera_toer\", \"duitse_taalgebied\", \"subsidiebedrag\", \"bezetting\", \"lokaal_bestuur\", \"maatschappelijk_welzijn\", \"jeugd\", \"lokale_besturen\", \"eupen\", \"ifapme_net\", \"kortrijk\", \"directiecomite\", \"in_delen\", \"standp_laats\", \"geestelijk\", \"binnenlands_bestuur\", \"psychosociaal\", \"gezondheids\", \"bullingen\", \"in_leiden\", \"bestrijken\", \"seraing\", \"maat\", \"gemiddelde_bezettingsgraad\", \"woonz_orgcentrum\", \"dinant\", \"bestuurszaken_inburgering\", \"zinsned\", \"voorziening\", \"doel_groep\", \"centrum\", \"subsidie\", \"residentieel\", \"toelage\", \"overnachting\", \"agentschap\", \"decreet\", \"Vlaams\", \"vermelden\", \"versterken\", \"in_voeggen\", \"erkenning\", \"handicap\", \"zorg\", \"financiering\", \"dienst_verlening\", \"hulp\", \"ondersteuning\", \"regering\", \"aantal\", \"afdeling\", \"woord\", \"periode\", \"vervangen\", \"besluiten\", \"afwijking\", \"jaar\", \"punt\", \"basis\", \"dienst\", \"financieel\", \"erkennen\", \"wijzigen\", \"vaststelling\", \"bevoegde_autoriteit\", \"kalendermaand\", \"aanvang\", \"onderling_overleg\", \"fr\", \"vos_adviseur\", \"overeenkomen\", \"in_komen\", \"ondergetekende_bevoegen\", \"schriftelijke_overeenkomst\", \"onderteken\", \"zulks_schriftelijk\", \"bevoegde_autoriteiten\", \"rijbewijs\", \"rij_opleiding\", \"commissaris\", \"duitsland\", \"motorvoertuig\", \"twee_talig\", \"vice_eersteminister\", \"ontgaan\", \"beeld_gezien\", \"unilateraal\", \"Luxemburg\", \"editie_bl\", \"sous\", \"rijden\", \"herneming\", \"dubbele_belasting\", \"grensarbeider\", \"koninkrijk\", \"overeenkomst\", \"overeen_komen\", \"akkoord\", \"publiceren\", \"beeindigen\", \"beeld\", \"verlenging\", \"raadpleging\", \"mobiliteit\", \"belgisch_staatsblad\", \"vermogen\", \"verlengen\", \"model\", \"dag\", \"thuis\", \"directeur\", \"vice\", \"waarop\", \"generaal\", \"week\", \"staan\", \"belasting\", \"wijzigen\", \"staat\", \"belasten\", \"pandemie\", \"doen\", \"hierna\", \"dringend\", \"maand\", \"vennootschap\", \"aandeel\", \"inschrijver\", \"deelneming\", \"synthetische_diamant\", \"management\", \"handelaar\", \"modelattest\", \"terugname\", \"volstort\", \"vennootschappen\", \"private_startersprivak\", \"inbrengen\", \"technische_documentatie\", \"dividenen\", \"daaropvolgende_jaren\", \"startende_vennootschap\", \"volstorting\", \"terrorisme\", \"kapitaal\", \"teruggenomen\", \"kapitaalinbreng\", \"haalt\", \"thesaurie\", \"aangeschaft\", \"fractie\", \"edelstenen\", \"contanten\", \"onderworpen_handelaren\", \"overdragen\", \"verwerving\", \"investering\", \"diamant\", \"bedrijf_leider\", \"investeren\", \"document\", \"fusie\", \"belastbare_tijdperk\", \"bezitten\", \"verkrijgen\", \"omzet\", \"belastbaar_tijdperk\", \"geld\", \"jaar\", \"verwerven\", \"bezorgen\", \"attest\", \"voorwaarde\", \"recht\", \"maand\", \"nieuw\", \"voldoen\", \"waarin\", \"vereniging\", \"steeds\", \"op_stellen\", \"administratie\", \"vermindering\", \"aanmerking\", \"pandemie\", \"indexcijfer\", \"coefficient\", \"kostprijs\", \"vermenigvuldigd\", \"aanbod\", \"Kb_wib\", \"toediening\", \"vaccinatiegraad\", \"detail\", \"experten\", \"gebeurtenis\", \"varianten\", \"groothandelaar\", \"dien_verstande\", \"toegedien\", \"aanslagjaar_afgekort\", \"geindexeerde_bedragen\", \"gederfd\", \"gemi_ddeld\", \"hierboven_vermelde\", \"basisbedrag\", \"aan_slagjaar_zijn\", \"Ernst\", \"afgevlakken\", \"beschikking\", \"belgium\", \"bescheiden\", \"deelen\", \"toegediend\", \"coordineeren\", \"register\", \"indexeren\", \"distributie\", \"vergunning\", \"onderdeel\", \"afgevaardigen\", \"fagg\", \"gemiddeld\", \"noemen\", \"interim\", \"alternatief\", \"wet_boek\", \"bevatten\", \"vullen\", \"jaar\", \"aanslagjaar\", \"eur\", \"hierna\", \"basis\", \"bedragen\", \"correct\", \"bedrag\", \"verkrijgen\", \"opleidingsjaar\", \"permanente_vorming\", \"doorlopende_evaluatie\", \"face_to\", \"vormingswerker\", \"beroepskennis\", \"accountant\", \"zittijd\", \"regelmatige_cursist\", \"beoordelingen\", \"cursist\", \"epsc\", \"Face_to\", \"leertijd\", \"vakcursussen\", \"succes\", \"alternerende_opleiding\", \"beroepsk_ennis\", \"laureat\", \"vormingswerkers_beslist\", \"cursussen\", \"rechten_geeerbiedigd\", \"examens\", \"uitzendarbeid\", \"cursussen_beroepskennis\", \"geintegreerde_kennis\", \"voogdij\", \"falen\", \"hogere_studiejaar\", \"ee_nsluiden\", \"instituut\", \"cursus\", \"redenen_omkleed\", \"vak\", \"examen\", \"evaluatie\", \"middelgrote_ondernemingen\", \"afstand\", \"evaluaties\", \"klein\", \"vergadering\", \"organiseren\", \"opleiding\", \"erkennen\", \"waals\", \"raad\", \"detailleren\", \"organisatie\", \"commissie\", \"besluiten\", \"lijst\", \"uiterlijk\", \"brussel_fiscaliteit\", \"adjunct_directeur\", \"directeur_diensthoofd\", \"attach\", \"gewestelijke_overheidsdienst\", \"adjoint\", \"aanwezig\", \"principal\", \"directeur_generaal\", \"voor_gaan\", \"directeur\", \"generaal\", \"groot\", \"adjunct\", \"uit_oefenen\", \"bevoegdheid\", \"ambtenaar_uitgeoefend\", \"attache\", \"directeurs_diensthoofden\", \"mevrouw\", \"overname\", \"eurovignet\", \"gelijke_kansentest\", \"franstalige_taalrol\", \"directrice_generaal\", \"bevoegen\", \"expertise\", \"heer\", \"aanstelling\", \"berwae_rts\", \"geval\", \"toe_kennen\", \"huurder\", \"huurprijs\", \"verhuurder\", \"rentevoet\", \"aangift\", \"getal\", \"handelshuur\", \"missie\", \"handelspand\", \"aan_leggen\", \"Croo\", \"verh_uurder\", \"huur\", \"verhuur\", \"handelspanden\", \"organisme\", \"bedrijvigheid\", \"huurgeld\", \"huur_inclusief\", \"erfpacht\", \"Verhuurder\", \"pand\", \"kwijtschelden\", \"kwijtscheldt\", \"opstal\", \"lening\", \"onthouden\", \"huurgelen\", \"leningsaanvraag\", \"vruchtgebruik\", \"selectie\", \"rente\", \"onroerend_goed\", \"oppervlakte\", \"aa_ngiften\", \"liggen\", \"bijzondere_machtenbesluit\", \"kwijtschelding\", \"last\", \"plafond\", \"uitoefenen\", \"werkzame_bestanddel\", \"bestanddeel\", \"betrokken_werkzaam\", \"gecorrigeerd_jaarlijks\", \"omzetcijfer_gelijk\", \"interne_markt\", \"vergoedbare_farmaceutisch\", \"administratieve_toeslag\", \"genereeren\", \"Besluit\", \"werkzaam_bestanddeel\", \"specialiteit\", \"miljoen_euro\", \"superieur\", \"audiovi_suel\", \"elf\", \"omzetcijfer\", \"biologische_geneesmiddel\", \"sectorcomite\", \"landbouwbeleid\", \"laatstelijk\", \"conseil\", \"combinatie\", \"biologische_geneesmiddelen\", \"toedienings_vorm\", \"Vergund\", \"bio_logische_geneesmiddel\", \"gebruikseenheid\", \"Rijkstoelage\", \"goedkoop\", \"ambtenarenzaken\", \"afwezigheden\", \"tele_werk\", \"verloven\", \"rechtsgebieden\", \"rechtsgebied\", \"stem\", \"financiele_rekeningen\", \"papieren\", \"vergunnings\", \"gezinsbijslagen\", \"mede_onthaalouders\", \"ingaat\", \"opvangmilieus\", \"plaats_nemen\", \"wetteksten\", \"optimaliseren\", \"ext_erne_betrekkingen\", \"correctiefactor\", \"externe_betrekking\", \"cel\", \"scheppen\", \"versteviging\", \"tele_conferentie\", \"lijst\", \"voorkomen\", \"verenigen\", \"verenigd_college\", \"welzijn\", \"nota\", \"rapportering_onderworpen\", \"vastlegt\", \"deelnemende_rechtsgebieden\", \"internationaal_niveau\", \"materie\", \"vergadering\", \"financi\\u00ebn\", \"gewoon\", \"oog\"], \"Freq\": [2681.0, 1864.0, 1263.0, 2188.0, 1322.0, 954.0, 1508.0, 664.0, 1199.0, 689.0, 1015.0, 1090.0, 987.0, 741.0, 737.0, 1406.0, 752.0, 821.0, 1416.0, 528.0, 621.0, 383.0, 607.0, 545.0, 744.0, 579.0, 425.0, 439.0, 1654.0, 1011.0, 298.8686199945498, 224.37597681647293, 185.79846046409273, 169.4068704650558, 151.10445800475497, 129.4993791707092, 103.49067124310197, 96.5567814563773, 76.13378346360844, 66.85067480617788, 63.989408189958134, 102.23382089615906, 55.04473527668847, 54.298814505665376, 47.002434466900844, 46.35055545516709, 44.53638535575717, 41.01690497361579, 41.1234499020024, 40.33142080709839, 37.9303641484759, 37.45058853325025, 36.92654356727772, 35.763769633640486, 35.928286110836794, 35.523381653058415, 34.890476870407426, 34.42445196886747, 30.873986275578137, 30.67826963233254, 126.68270996325772, 902.5996556149668, 184.92998460913162, 68.04707006647304, 230.37585307252482, 301.0091107940064, 194.3485026802964, 76.65899973533342, 107.75999985145222, 166.27956265508763, 957.0051675266906, 86.83018455936983, 65.67306202274172, 75.97509579196137, 350.8637648685932, 269.96809446991307, 136.6449264481982, 307.5854450606188, 124.71198687960758, 120.43437827161864, 477.4954918430042, 226.76383260513572, 260.3514478359651, 656.369100287835, 587.7619104243743, 591.1119465281951, 708.9917508487828, 448.50000507251104, 398.7953520628075, 294.1346965404008, 388.37364180327427, 209.91565976887898, 258.02291972328493, 247.19857599917776, 254.71195486775923, 253.35076358786927, 260.45659274209135, 234.81339689674925, 210.51438876061053, 198.00273636012926, 204.40093974165725, 198.26714188430617, 748.616957096357, 107.27626309901879, 107.0822244632633, 91.25792975223632, 80.77214744085575, 73.91161901769293, 73.3886911615598, 60.711289923711504, 57.103312547716456, 56.82462689088807, 53.93673209003641, 45.528250961638754, 45.17389838864471, 45.16268311853362, 44.68164050524993, 44.29188028582076, 42.048072443181546, 40.845777080030096, 39.921360961162904, 39.82701945885291, 283.70795909184034, 34.10151669155936, 33.91585992531831, 33.71922893619404, 57.38785784352043, 32.54846035910907, 31.044380440684343, 30.361171517389195, 30.043144761634597, 29.80548972566592, 788.259005677899, 352.3694993637757, 1071.9590759513728, 84.4494850610001, 168.1963568968618, 265.0864383990544, 412.8028267723424, 86.17780245015508, 103.41848190677061, 399.50806413983673, 172.52184859935426, 114.58041484034672, 642.788563893563, 94.54283372006063, 317.10381659783644, 136.42986470164314, 176.53029745704947, 254.50884777259483, 89.1384584524074, 321.93864547548725, 274.48838472041075, 112.68970174243978, 230.5397951311634, 331.02453067166533, 140.63038875585596, 356.61396413629006, 444.30393035235716, 280.4973502623213, 259.10124449648833, 212.77158162502408, 220.8689102263382, 176.89547962459002, 285.42721310522757, 179.41997162471048, 222.2243494673684, 156.51373565503332, 183.47419315963907, 174.4518217166653, 185.64575695674833, 174.67979103675063, 271.3337361547351, 150.03863564768903, 97.82780802617158, 93.24479087858089, 195.9763818389921, 77.95662922062309, 84.58397113857647, 70.55434248574063, 67.55625863419945, 63.8051137894631, 56.45441125779674, 52.39144408301553, 50.54379094589317, 43.59147530064232, 85.97733550975484, 38.914102364547375, 38.04889574349629, 37.94931062854916, 37.663027163965005, 37.315051153282845, 37.21670689545776, 37.206066756666424, 37.08483417172295, 32.68685878730536, 31.77519177441965, 30.23429202379261, 30.170843707072958, 29.45096720068734, 29.23256368540153, 28.06047705978145, 32.425757547274365, 394.9469265898438, 52.68689047553146, 236.282730115067, 43.77561596519108, 153.18762714004114, 71.57568607404554, 126.48888103603105, 260.6546834087504, 758.3028126213229, 456.14873479908147, 110.96651814779496, 312.6885327280868, 188.68128996528475, 49.43782005774488, 257.76324996066757, 322.2553891973007, 494.87732058267943, 188.65746888502363, 344.8951734782603, 239.94646628294154, 119.61937783156753, 207.0905111685415, 315.78905482183524, 135.52554542473396, 230.47425260319883, 217.70022785738055, 208.5457073656989, 159.01668430948433, 189.58863508125563, 144.8668951047288, 195.3990540702535, 181.32732912852245, 212.64497594220336, 189.5936998042027, 172.30052406715652, 158.28208001082882, 166.69676265680965, 153.90374519993978, 89.44378228370336, 87.24791475420128, 82.18715557242489, 57.303674235389295, 52.03668688380152, 40.39978109061592, 38.41785588869736, 35.19895684354876, 74.1958808839433, 36.471348303359115, 29.954089036672084, 29.488024651869697, 29.21024293484686, 28.656840617573003, 28.071455830282787, 27.619331677761807, 54.57599085785407, 27.0056712502705, 26.1696401397856, 26.038108398433813, 25.306979954259084, 23.07224731237403, 21.52616584996214, 21.462408788780806, 20.98011338791889, 20.17575601648295, 19.614059127218233, 19.358862109564054, 19.23873489014808, 19.164470685042843, 83.78753457917692, 34.263071847173926, 37.7511534228, 96.2300758900035, 52.242256427549115, 155.25293292481388, 51.08922447614913, 65.1203595035988, 236.2891806148945, 100.15870626507945, 45.95281385812064, 231.33272310314507, 105.94236518164608, 230.37575589810962, 132.15140968390438, 136.30449982152, 408.09300781276767, 63.304317508671595, 177.12585510632928, 168.7850475657943, 363.0154544800564, 83.61569903913407, 221.72511419151613, 72.98486514045238, 107.6313293939779, 257.26854481566585, 222.86644729745805, 381.1557616359056, 276.72592297692773, 369.236671622102, 222.9394065996744, 236.1730319085451, 151.37476153905007, 444.63206699189726, 249.19948638905063, 213.81946089132728, 185.73506923351036, 277.256149889582, 216.03608337466454, 330.8898814856876, 266.1551063783089, 183.238135497424, 233.86565075361756, 156.79543516621035, 222.8577863647192, 177.46623305609603, 179.4524846079711, 164.392423361604, 170.0223260235788, 620.5376756320156, 199.35650758323226, 102.77282645583654, 90.18254191566835, 87.38464290995172, 84.36504001985483, 74.49745718540987, 65.3035717597248, 58.76895516562953, 57.6166637815268, 55.986752098965546, 54.191659980844356, 52.766561732793896, 50.86508454066319, 50.347978465875485, 49.23142202721769, 43.22211247713162, 41.476915443886355, 41.2496338297255, 35.19399265140197, 34.34354779337399, 33.30683955116731, 33.14318822329168, 31.961234826888454, 31.62725027169398, 30.490745167798107, 30.30708160127958, 30.25114704294597, 29.42525490305235, 27.470985017173504, 100.75784396835672, 62.239768623436184, 333.44898606453637, 111.28588086754743, 49.521985946921625, 446.47912709410014, 157.5697621320135, 54.06361645160403, 346.13636392370466, 127.13562071628392, 112.46844657621811, 86.25165776510156, 189.636481967338, 66.84068300109548, 139.9127776069296, 81.75751324784935, 178.4677054508324, 94.98415418636867, 304.3372651561392, 80.10453780321393, 216.196500245097, 122.25535141398066, 163.21554891544557, 82.8963538378801, 201.09590270679573, 155.62517882544768, 218.7741006732767, 112.05347954119183, 114.48092627912932, 194.39910701104165, 113.63046134528929, 124.27424199287243, 141.850722511645, 139.37933651307242, 139.5296240420616, 120.6423268353202, 101.21270164192183, 90.6259826283429, 86.61315152247946, 56.9049159554374, 53.73905149573075, 51.708863985042974, 41.49073570029199, 38.663786396117004, 34.92656220101998, 34.69470495754941, 30.366446636783692, 30.260828112490685, 58.86674633438031, 26.968319588775223, 26.492072501439544, 337.5031216460723, 24.412011031821983, 24.230427577216776, 24.083830620698656, 23.2240142676467, 21.14267885713095, 20.951913101246582, 19.746377590138536, 19.656226969456775, 19.253024675179653, 18.60964453860016, 17.8025230136097, 17.186791806437462, 16.72854120237459, 15.484069149160721, 14.755900249207976, 684.706062380337, 491.3805566441215, 1189.8424453366613, 58.5172618813102, 59.561700396477754, 139.83377525139485, 139.8333892086984, 78.74617491856432, 235.15718055874754, 120.19600388027483, 222.65338997916075, 138.79096363044792, 90.28038066181965, 495.5139488840773, 156.23361902117767, 485.5162371917437, 286.2000988328813, 310.0291688484203, 227.60636189341008, 180.09409085262268, 178.34985068206976, 96.1987405768008, 389.3110883061823, 220.3379500051917, 109.03231088725326, 231.46451672060886, 220.7257133490598, 270.0771910637197, 250.78606397440328, 220.24889547002297, 214.65641625467362, 193.34650645890082, 225.20431599794674, 187.38889703148496, 136.7074581084887, 178.20963997472958, 154.79609528782706, 299.2330876798661, 236.8519038160671, 110.6509281969653, 101.3152878748767, 70.18609191688661, 65.50542833251644, 56.46854398280093, 43.52536170453379, 42.754151774399226, 42.63510867660978, 40.052093975168795, 35.87087530835594, 35.49327562091228, 34.520449038283985, 34.31805676164625, 34.02947515304463, 86.13106129901641, 31.537071601604215, 29.52959472853526, 29.111012430070442, 28.762568986491313, 122.81962695496064, 27.881916208389033, 26.577112986925336, 23.96088712421987, 23.862150931102843, 23.596301953663254, 21.916585213666416, 21.758144971856076, 138.01550310129767, 101.48486820855938, 186.89182353587347, 479.14221038025545, 124.77930979223393, 81.77016017425302, 59.54138434158181, 149.56570243770884, 89.52088099547555, 113.2145865135182, 41.862769528971434, 73.66600568058364, 131.38742979110947, 121.57944957363351, 410.1647994211224, 230.19960365761594, 158.17529772773509, 116.67421238293849, 87.25751088918807, 158.99452411529484, 180.32830952943695, 102.6455669276, 255.2123112616606, 179.61351865162106, 144.0858418186743, 129.21749197754247, 115.36670778424774, 111.192663640767, 115.38216703802007, 131.5859054689368, 363.8128687816806, 99.77718967457912, 69.91012309811615, 69.6363936012385, 68.50391053586515, 135.54167083640195, 56.00889933429061, 48.86850058341925, 47.65533771788682, 47.419846670861844, 39.82221320690259, 38.85335196909428, 35.14752488252704, 32.54194979754757, 29.365440382390105, 112.66997078975261, 27.54476736036384, 27.007233037481964, 25.390196406071457, 22.53303744010646, 21.81915531564842, 21.595919260540505, 19.220610915181336, 19.061296020259466, 18.6309205269929, 17.196339332426383, 159.61559712823112, 16.61462726742149, 16.332225268932522, 126.64990719960944, 32.13714352495316, 88.18207204369142, 244.80267701240965, 304.19254306102295, 148.47215321703166, 40.13860725042036, 101.59878196286124, 112.47814299838646, 172.13079814053611, 131.74946676868254, 59.64649265354557, 261.54001119303314, 155.41278746622913, 100.6227330465092, 161.23424720432524, 136.01387861879303, 171.9251094785467, 72.10372692988972, 141.30520545141297, 129.93656778844965, 142.0609709353431, 222.64259497147708, 101.21632180456042, 128.34060051264404, 166.46536398868093, 102.55862455559152, 100.35622149208494, 91.86544709228126, 45.025277183297526, 36.39450034525144, 35.92248413020212, 35.92248413020212, 31.634891079467696, 30.87489521819061, 30.848304464579027, 27.193196580789635, 26.03039006381247, 25.00287694428817, 23.74547694441289, 23.383621403117658, 23.370418826257357, 22.700269373743698, 22.25995504776527, 21.924474321746924, 17.38165108247104, 16.494142742247565, 14.564024337521454, 14.498304129971109, 13.595122414338658, 12.892818673019855, 12.750372541306907, 12.414812399950593, 12.040289666095966, 11.68555562830993, 11.594631312487344, 10.810552973048411, 10.646301531066797, 10.62127142269235, 478.4655542764071, 321.0795878928398, 34.1967584977251, 657.4060069528954, 64.70699633011242, 144.2748046080311, 1526.8470401274183, 46.14132145081937, 39.63703037907791, 45.239355949857135, 40.18301528914017, 28.03753331560252, 149.2321063115381, 211.8704562259869, 163.96813802494694, 227.11735877777602, 56.14009440839288, 81.18904474100255, 106.77117002196816, 89.66420677814777, 178.77699628019346, 240.01372437178935, 129.5419994773424, 378.54451216919256, 183.66416977873934, 311.96109380281325, 173.12019714141155, 338.46270235906667, 196.16696366547188, 105.70373507973976, 258.9648438246755, 88.20148689887567, 88.12212866856696, 158.49111379595138, 153.03506235463658, 164.665365430786, 116.53045487406115, 111.88941538478436, 117.64935095529248, 98.35859797882732, 102.23794265397882, 102.03795877144768, 46.11341781409654, 42.21744377489616, 39.43547260096103, 36.468820776451146, 33.358468939467876, 30.921150357100586, 30.795572383421007, 30.35004009480255, 29.95169257347528, 24.5357155768964, 23.74740167288954, 22.098372650972877, 21.598943728843313, 20.650850893467812, 19.97215080672469, 19.30517388113565, 19.206845041013707, 25.351572475961202, 18.12266824861645, 17.871581854275107, 34.336801688167405, 17.3468112901017, 46.03429777867189, 16.064818759713802, 151.42105125011767, 15.332599364581261, 15.145946885951226, 14.980551548393372, 14.577184907417442, 14.356114117917654, 159.35154198472023, 337.44982014812547, 87.42223139710458, 118.51120623091049, 39.917342863741155, 151.5101625765526, 70.22682659385106, 114.7845277147424, 38.13219510829382, 78.73319545012343, 33.69830498455147, 52.44751377302006, 61.103974564103765, 48.16244971916467, 129.39363832675335, 266.0106357665055, 79.53127459783266, 50.94435481773287, 83.38052639731038, 200.62942186305148, 67.73938115153868, 149.95377469672542, 158.78589511197222, 51.68103951660965, 199.8755088816599, 108.15210495177209, 116.10609765109707, 54.9042724238689, 80.05077999855686, 113.01112746400538, 71.75594273538984, 65.8528598726142, 123.7487014896281, 88.52738016320095, 86.96282675908131, 70.01272849438804, 73.92542655672398, 91.73414291583968, 105.67580190291497, 73.80610835464847, 72.96178340538869, 108.10932446438663, 269.588547057609, 44.65804401144012, 32.86697111526452, 32.844769035320205, 31.491910646852762, 31.40570543748253, 29.606348406037323, 29.606348406037323, 29.540965471596063, 28.297998510540943, 28.03020157117508, 27.656084004143576, 25.715804278239823, 25.21232933893881, 24.65818242982129, 23.97528849696657, 20.72910026969565, 17.274414114630048, 17.27441281046652, 17.091910774326553, 17.027970244750097, 16.60759921394364, 64.73986705430073, 14.156369083381684, 72.86187930674734, 13.904111252482483, 13.476005227776252, 13.28852650360366, 13.168650400201345, 257.3490036231974, 106.85315415174809, 120.2443365834965, 61.568819513006744, 50.71154857133093, 78.94593780983217, 96.6386323811292, 51.958396723053006, 322.1008272487464, 74.80145739267165, 36.28619575977057, 219.35083239685645, 164.27305387493624, 93.11398959012065, 101.7150106740349, 131.74211353495667, 203.49293419678418, 52.97577469324542, 126.6084042132474, 123.02019127510508, 226.58731239539648, 91.83637882903965, 189.26563687562927, 115.66827715414784, 93.72062386468922, 72.07593298003457, 115.81603366550654, 109.67443546745324, 78.1120765150065, 77.34856701767355, 95.24337563628313, 88.83663577581221, 73.76847640999958, 81.52733398201705, 74.26452255629117, 70.75853651341582, 64.62051724474598, 34.409651299591395, 31.97764039713823, 29.580447691858183, 26.0113192130302, 40.90271729920787, 18.167296039072138, 88.6024707517697, 15.816306352199199, 14.909080341369675, 13.999546713425413, 13.373349409484579, 12.946006406296208, 12.602213480293184, 12.29478375488771, 11.997525096025994, 11.534681622152275, 60.40225743114481, 10.66694095484041, 10.621372005838689, 10.36233055168385, 9.06470627755247, 8.892046582859283, 8.824576283314112, 8.81895432485327, 8.799410649535508, 8.739199394079712, 43.96015300388965, 78.93934694984914, 22.777911326313237, 321.85906858752367, 472.92427266539914, 33.09339984617363, 55.72357176502849, 28.306801252872695, 190.17591022116355, 672.471081032777, 280.3568256874917, 413.89381017878196, 24.16640219584673, 139.21778162654587, 108.20196395324854, 48.43362266315305, 104.4916814895585, 91.59852161639448, 46.88331431495771, 54.35838696315194, 92.80982407719708, 291.71551287955947, 146.72921747533766, 112.1973477528541, 200.19026150556553, 175.61083416226535, 151.16289773440946, 101.49781587777724, 107.6210723297259, 116.45321171380333, 85.38907127740057, 98.586030735924, 111.8735446991578, 90.27472313024901, 82.19779130805843, 83.38186215650326, 81.07856116333036, 166.1104609428226, 91.34060294942493, 80.00200634026565, 47.21612100750897, 33.929196899124456, 29.55915937095571, 24.39250331927198, 22.4440004277279, 22.360173610296282, 20.034424601729324, 19.681224637734264, 19.111052325461, 16.987246819529858, 16.59817444027453, 16.12720723684032, 15.122015113262243, 15.118372040746168, 15.049233995300531, 14.838033527072602, 13.485762765314789, 13.455533698329146, 13.12489106096063, 12.375224123992389, 12.359017070406544, 12.064252203788948, 11.942758881728617, 11.718164331379846, 11.717356991164046, 11.686427693775643, 62.40702379702886, 30.414974810393424, 295.5857669357277, 51.90521724676579, 162.54020167765358, 82.83831703353027, 23.439140295352033, 34.646401529505134, 148.71226054810572, 49.20940249526772, 27.25354834611322, 111.40499152135263, 22.18887556404431, 85.4048877291218, 32.40856959435532, 85.60446544376205, 31.722624962910803, 28.522957617629455, 33.23834663824264, 55.79292857582727, 32.668648286892086, 36.16552661914636, 47.48057513590848, 57.11976745135103, 48.5641408485617, 32.566302182785584, 47.587379685982825, 39.249603731938635, 35.155379327842454, 36.091995732493366, 34.57408366148483, 33.778798655142204, 211.83332095207743, 169.14669125831963, 24.54167223642103, 24.41648261889304, 14.653592079497647, 12.760924730708057, 11.793950456323206, 9.640034377343095, 9.319484089634134, 9.051810870478459, 29.789431623971364, 6.952776681455724, 6.8711425959641135, 6.8161816188353015, 6.578174535171165, 6.309978035361761, 6.142066372443943, 5.522065947230687, 5.459800156456602, 23.922642356690258, 9.39883386119347, 4.984429820130753, 4.823504702580921, 4.762041684988749, 4.5172991385300225, 4.036811555077573, 3.8890168275777737, 3.8173089499380852, 3.708903856915151, 3.705718870632438, 25.678809086763177, 54.0754956579822, 20.824073013749228, 10.764552600739703, 16.165084600570655, 52.70240107990372, 10.395243920085091, 28.60595276251377, 22.460021100545433, 54.80658668478247, 36.92908668451232, 19.565134241028396, 11.150883451331989, 83.91089305312723, 14.322927847884179, 26.86346734526278, 33.79616586704959, 50.85889600611974, 39.388375224815086, 40.54808800733765, 36.346049913988026, 31.81425977892461, 32.441287444846495, 19.986966785392983, 21.29861447044822, 20.86410340788205, 24.226478376944517, 18.44227608039534, 18.732584355150845, 18.518477721829527, 36.502929363887475, 33.67690362305978, 30.03949611180789, 29.22676179675835, 19.9904983089635, 15.573531327220385, 14.675685454032191, 14.026347780029818, 50.47419032640361, 12.653274977383504, 12.457321012152262, 11.611964370773991, 10.604051116064113, 10.601963547187653, 10.255740249026701, 8.40217096806076, 7.500086830036855, 7.44858888093294, 7.049039448349617, 6.852266706103955, 6.826140219096494, 6.371632098226933, 6.363913718569625, 6.2315399760802785, 18.55934609006683, 6.084654504796425, 5.715406696973483, 5.315092864169828, 17.805441216013683, 4.6045825468603265, 63.209080496568006, 22.809232559218508, 18.748778590131305, 33.156683959128344, 41.2281527661267, 32.95348975501539, 19.496847021619065, 35.55008792619636, 43.28405809789201, 8.922341880383703, 29.229251878915182, 92.80646202141392, 32.264667028258074, 17.732757567916803, 46.38032025479812, 23.34951038494137, 20.52694350823413, 29.100542632330832, 31.241953285226465, 24.565553006593102, 18.940669921321533, 22.103021758765646, 17.88509884420743, 45.475597424856446, 25.664237079972743, 22.49282558729822, 18.66747761738141, 18.543821005707958, 18.26894452533446, 12.021515511481836, 11.829106700782217, 10.625665827345058, 10.337592743012495, 10.147561835024401, 8.220856711888217, 6.93197437271923, 6.8402238093917, 6.720773420300774, 6.667142074009774, 6.601250730113889, 5.880259948210004, 5.820675339128905, 5.397597206394499, 5.369964956165232, 5.285373146449961, 48.97470961823535, 4.115097211029534, 4.047087397766446, 4.047087397766446, 3.9176124380930633, 3.835703802383363, 3.835703802383363, 3.6357971790103734, 31.3739614255134, 40.53030831387945, 8.756940512493406, 17.644601406479794, 20.97717913038857, 46.697612591612206, 36.34805378094048, 37.99411818338616, 9.217200783353977, 35.57207872439443, 31.854910206054125, 39.167675548939506, 23.791279551948513, 25.023586992364244, 30.429928378364078, 23.86446338285637, 9.550856637073192, 17.11010633976096, 12.060254722230114, 13.022822367978682, 10.831763645546156, 10.792792882268337, 90.02133150621049, 28.820595296762654, 13.287421392955876, 12.850344419686076, 48.7032612276076, 0.562745217540601, 31.282432815213344, 0.3837511592024449, 18.1026273053925, 12.205725517630292, 16.274754658317097, 17.092627494069536, 24.285156550823928, 0.5850490176865596, 13.712010687110642, 27.7817378791594, 0.02763286654709597, 0.02761276935516891, 0.02761276935516891, 0.027578295508324798, 0.0275766129974395, 0.027575744501344424, 0.0275737863791522, 0.02757377996958692, 0.02757366459741193, 0.0275733056617564, 0.027573529996541106, 0.027573738307412617, 0.0275733056617564, 0.027573055688710584, 21.21529433827009, 11.329244027194143, 36.36387384962043, 28.113815036879753, 20.935434012758954, 9.243877244699771, 6.385314964545519, 5.804870560012596, 5.561187687177605, 5.515640903170666, 4.4681416763372015, 3.5092860093221336, 3.2089788183430565, 2.9562196395092486, 11.49756122167922, 21.162431337033023, 2.146983811821071, 1.9883708041754995, 1.766505546426631, 1.7585327041823569, 1.6692268005609054, 1.600226815706529, 1.561750207092453, 1.4643629941305292, 1.3566941830772887, 1.3566941830772887, 1.3274673052542567, 36.70169635702016, 1.2460592769763175, 1.1909380758329362, 1.1503288938020833, 1.1225851145702876, 18.621217633860535, 3.3119641386587624, 16.229516119996674, 5.185163517889757, 9.441391128678445, 7.825212602533579, 4.024653015908954, 2.3337089987134916, 2.58824716048664, 1.9978719907017972, 2.1630577775458013, 15.020711999411512, 12.231344431625695, 10.681305923296879, 9.6950783101506, 9.49783240599876, 7.563397812808129, 5.342731623859906, 4.5666803511059575, 9.473477275982372, 3.658499223277588, 3.5804451075080004, 14.565331730195888, 8.28636276149158, 2.11741314238078, 1.8718337317477973, 1.6079434626343976, 1.6079412370859913, 1.6079226378600247, 1.0457385390786078, 0.6771978174502353, 0.5513183753329175, 1.8729786174350855, 12.220209059142613, 0.030434165810724525, 0.03043373858491439, 0.030433316326846233, 0.030433316326846233, 0.030433316326846233, 0.0304328891010361, 0.0304328891010361, 0.030469049294896182, 0.030443902585002, 0.03043355726233218, 0.03043332626233019, 22.03247610132477, 20.7607257093902, 7.844027730452583, 5.775338391099008, 4.762538573181788, 4.291506149176749, 3.437301839269081, 2.780179895670477, 2.2909246453192917, 2.2872318253621104, 2.2019677301619516, 2.1864607352186813, 1.2888689113622747, 1.2746580085549284, 1.1922975650433743, 1.1148331514273302, 7.514079619936316, 0.9841357843421588, 0.9758359339596121, 0.6656044011158688, 42.78445429016742, 27.770746198596623, 2.597338976828205, 7.024854033148632, 2.6694728333982516, 1.1912689589515908, 0.02487063330336409, 0.024861957720629258, 0.024860879295904217, 0.02485872015193345, 0.7287930045232434, 2.1907394839796623, 1.5197828655424674, 0.9313838358346468, 1.1298348378458198], \"Total\": [2681.0, 1864.0, 1263.0, 2188.0, 1322.0, 954.0, 1508.0, 664.0, 1199.0, 689.0, 1015.0, 1090.0, 987.0, 741.0, 737.0, 1406.0, 752.0, 821.0, 1416.0, 528.0, 621.0, 383.0, 607.0, 545.0, 744.0, 579.0, 425.0, 439.0, 1654.0, 1011.0, 299.87927299607605, 225.3866298543824, 186.80913306906635, 170.41755109372184, 152.12221523597987, 130.5100321970473, 104.50648590071874, 97.56754354175611, 77.14445105055147, 67.86135735181983, 65.00006121720635, 104.07031989464363, 56.05543284837306, 55.30946750600271, 48.01308745773086, 47.361208789893034, 45.547038346587186, 42.02755812213169, 42.13748982647137, 41.34207397952452, 38.94101714249763, 38.461241535966934, 37.937196558107736, 36.77442262849044, 36.94482292145273, 36.53408832954969, 35.901130021172065, 35.43510496794085, 31.884662873042952, 31.68892262316255, 132.7432869931822, 987.6107003384373, 196.93625189961713, 71.19564070583452, 254.09786325634528, 337.8960322559209, 215.78739646967006, 81.55695849299715, 117.91401804462242, 188.66949073315956, 1263.554144960046, 95.45890635031037, 70.65764866153489, 83.20548200357103, 467.2711800657615, 350.7855909664482, 162.36829443163242, 440.9984270673793, 150.5324007313144, 146.21049428066735, 902.7281266949277, 344.68199439270956, 416.23522211906584, 1546.2049700080117, 1406.110838849723, 1508.8373869565169, 2188.983414538395, 1170.9093781000702, 1003.392758320473, 668.8729786244968, 1251.1366671472454, 421.45636716224715, 657.8298803721376, 607.4203366388251, 685.5430165479263, 696.6279948214573, 1090.2601506723188, 919.4520419680932, 560.7363510102646, 522.1975976010767, 1015.4690222934988, 585.4379923197995, 752.4633115778463, 108.28945989316345, 108.09542127255956, 92.27112658318077, 81.78534427700944, 74.92481582786307, 74.40188797424511, 61.72448671785621, 58.11650934186116, 57.83782378306544, 54.94993296399062, 46.54144775578346, 46.18709518278941, 46.175879912678326, 45.694837299394635, 45.305077095391674, 43.06150558766586, 41.858973878687046, 40.93455775942929, 40.84021629394699, 291.36529956421106, 35.114713485704065, 34.929057451864544, 34.73242573033875, 59.11532458694351, 33.561657153253776, 32.057577289286435, 31.37436831936854, 31.05634156060743, 30.81868657426801, 821.3175127750412, 374.67080273122247, 1199.7079594059883, 90.00981367514174, 188.90566526328226, 341.4335831517448, 572.262110966561, 98.83214321265856, 121.83477165232543, 582.8346151083368, 220.97302276249047, 139.56392607026322, 1129.294185494086, 112.58631981415283, 490.1703754101197, 178.2706523782598, 247.64885876897, 416.53587481450984, 111.64450533200703, 783.9888069352659, 744.831467178677, 173.99242350630442, 648.4012121615896, 1327.658533674723, 264.1077116034786, 1654.8047142566704, 2681.8969242986313, 1053.362604355973, 954.237204536122, 668.8729786244968, 759.7439123624737, 488.0804014870939, 1864.9101621515708, 527.888135621405, 1011.1961006380511, 362.07748394235756, 657.8298803721376, 572.2285007981343, 1370.6616741904256, 671.752920680496, 272.3387660853104, 151.04366664675396, 98.83290085156736, 94.24982081374512, 198.3872285074477, 78.96167235712996, 85.72152787910315, 71.55937268013318, 68.56128867571455, 64.8101437291369, 57.45944124700454, 53.39647402101669, 51.54882098898689, 44.59985642962829, 87.99829439711664, 39.919132300005565, 39.0541785747368, 38.95838019079757, 38.66837929972055, 38.32008111046498, 38.22173684781753, 38.21109670332138, 38.09000488733279, 33.69188871788058, 32.780221704994865, 31.23932195436782, 31.175873642476304, 30.45599722635911, 30.237609573265637, 29.06550709899551, 33.626899495793346, 423.2669976867533, 56.03740491080855, 286.95037856709087, 46.56270056888075, 187.38067271946616, 80.65243079117433, 155.41220066831463, 369.2626695715015, 1322.7688283693988, 737.4499848745738, 145.36927454364942, 526.7751388344374, 287.3512548246859, 54.146465905313065, 511.60895147731173, 758.7788419320083, 1416.0691596534216, 386.3336121382932, 1011.1961006380511, 593.4110900524416, 203.45324105116416, 530.7587797604873, 1170.9093781000702, 267.91523058680036, 783.9888069352659, 762.1853573003631, 744.831467178677, 456.8272180311417, 759.7439123624737, 374.8086366156526, 1015.4690222934988, 892.938447205612, 1996.534666379442, 1370.6616741904256, 945.0079816467361, 689.9858242168025, 1090.2601506723188, 1052.2895132807623, 90.45336768402719, 88.2624529397491, 83.1987725311589, 58.32030951767679, 53.0457729767319, 41.408855794814286, 39.4270364277675, 36.20823305882517, 76.35318727722014, 37.68627857195711, 30.963163722003298, 30.497099662145306, 30.219317620178074, 29.665915302904217, 29.080530580554072, 28.628406375616343, 56.608562519934786, 28.014745939723394, 27.178714838771118, 27.047183290889595, 26.32243031483118, 24.081321997705246, 22.535343719569415, 22.471486645785888, 21.98918809376011, 21.1848307128615, 20.62315243879837, 20.367997679019457, 20.247809575479295, 20.17354658754078, 89.15858771282859, 36.17889219403985, 40.25885285245471, 106.23484909715263, 56.784661050857174, 178.12329231208736, 55.609338213520594, 73.12943273720086, 290.20754306833345, 118.50809411724532, 50.824170243024646, 314.7712043488547, 133.59311244323544, 336.93953218721714, 176.6447415436755, 184.7500856676431, 671.752920680496, 75.78510707482137, 269.5806959322195, 257.46485586400655, 664.2606633141075, 108.51184349425364, 399.5970643771883, 93.93362491688156, 159.0407370115303, 530.8652374226187, 437.70019568026726, 963.9765217331557, 648.1914634737876, 1003.392758320473, 481.78278984098796, 566.6369222860711, 281.15423951790734, 1654.8047142566704, 676.6277033659842, 601.035192473871, 456.471332168797, 1053.362604355973, 631.6880959594484, 1996.534666379442, 1251.1366671472454, 533.9820433081254, 1015.4690222934988, 364.63121664253686, 1370.6616741904256, 590.8994865854017, 868.9212308761954, 514.8311135907682, 902.8677763996892, 621.5466064969705, 200.36543848813426, 103.78175743249679, 91.19147278062323, 88.39372979224694, 85.37397088908966, 75.50638809122198, 66.31251359838585, 59.77788603058443, 58.62563121992325, 56.99568296880342, 55.200590890149776, 53.77549260947774, 51.87401668586772, 51.35690936233865, 50.24439997063057, 44.231972678786306, 42.485847677399796, 42.2585646946804, 36.20292353680401, 35.352478713491685, 34.31632692314499, 34.152119110412535, 32.970165697073334, 32.63618127360618, 31.499676062928284, 31.31601250043998, 31.260078990004722, 30.434185773101635, 28.479916439261938, 108.78081599614117, 67.04217168412245, 431.39061006976544, 131.09319116952992, 54.25172701208621, 673.9789540716315, 207.09305483975484, 60.49033514519451, 547.7644426938011, 174.23521970368387, 154.73088641708748, 111.37548650307659, 363.8049498676044, 84.08222388207673, 255.467535889357, 116.82006625198363, 412.35284100167087, 155.37438349122397, 1241.2465186449265, 119.82356470391967, 902.7281266949277, 293.777686244273, 540.3437204370852, 131.55601810632223, 1052.2895132807623, 590.8994865854017, 1546.2049700080117, 291.4152789814621, 325.64828369440437, 1996.534666379442, 359.4561221779365, 514.8311135907682, 1251.1366671472454, 1327.658533674723, 1370.6616741904256, 601.035192473871, 451.58386347988005, 91.64244789635909, 87.62961770685146, 57.9445281928258, 54.75551677601859, 52.725329257942164, 42.507264664049885, 39.68025172403556, 35.94302748187608, 35.71117025849829, 31.383696025268087, 31.277293383121883, 61.07043198412927, 27.984785185380073, 27.508537769455756, 351.19339733869714, 25.42847657464355, 25.246892856045207, 25.10029595337178, 24.240479543051563, 22.15914414737745, 21.968378429730382, 20.76284383160902, 20.672692237472987, 20.26948999121097, 19.62610990152555, 18.818988297608627, 18.203257078575355, 17.745006516483986, 16.50057073749978, 15.772365534571495, 741.6607483901453, 787.59512631668, 2188.983414538395, 73.32326961654226, 75.93697721325894, 205.4416370638227, 205.44158838778355, 106.46372031984305, 399.1338470603488, 187.01443498564663, 426.1206200757336, 238.02457363344857, 139.45846568935087, 1327.658533674723, 300.18113353290175, 1416.0691596534216, 724.2351877099729, 960.0008953398054, 685.5430165479263, 481.73221860630434, 498.64605544416025, 184.61147727547103, 1996.534666379442, 773.7853573978423, 231.1536984412939, 945.0079816467361, 868.9212308761954, 1370.6616741904256, 1241.2465186449265, 963.9765217331557, 919.4520419680932, 1053.362604355973, 1654.8047142566704, 1129.294185494086, 443.80105248180223, 1508.8373869565169, 1406.110838849723, 300.2521655866869, 237.87098180021547, 111.67001219464788, 102.33440344180352, 71.20517324365254, 66.524506555891, 57.4876214352524, 44.5444393147073, 43.77338748242112, 43.654186157847874, 41.071171477982, 36.8899527805611, 36.51235307705559, 35.54044142591954, 35.33713914204132, 35.048552614056014, 88.83372771993807, 32.55614905405568, 30.548672180986717, 30.1300898825219, 29.78164661362666, 127.20018004702293, 28.900993664532336, 27.596190631803644, 24.979987472931867, 24.881228397478043, 24.61538018722348, 22.935662673506524, 22.777222424307535, 144.8216742156832, 106.7296420987851, 204.88747612008433, 545.6920818395118, 142.57764034624958, 91.00174636823495, 67.61347888954009, 203.72087087659105, 121.38840055982912, 170.24623643533397, 47.740459301229386, 106.98559898307522, 251.18576713255726, 229.31497553963928, 1864.9101621515708, 755.7675819855318, 425.42909919955827, 286.6361566801155, 177.8861702575801, 593.4110900524416, 1090.2601506723188, 313.68066657541414, 2681.8969242986313, 1546.2049700080117, 1327.658533674723, 902.8677763996892, 632.5487155940676, 568.1379350644019, 1654.8047142566704, 132.626187659932, 367.29952567908697, 100.78195074505955, 70.91488416859657, 70.6411547274304, 69.50867180798699, 137.57691159934654, 57.01366046890943, 49.87326210021416, 48.660098792080234, 48.425014232264395, 40.8269742941319, 39.85811303957472, 36.15228595300748, 33.54671086802801, 30.370201457753517, 116.65792870578204, 28.54952849918316, 28.0119941079624, 26.394957476551895, 23.537798717924748, 22.82391639095699, 22.60068034992108, 20.22537203140744, 20.066057097532187, 19.635682265644686, 18.201100437978333, 168.99611265292563, 17.619388337901928, 17.336987038131756, 136.30569498661566, 34.13893072444976, 95.61297000448492, 272.25754843943184, 361.0318793925013, 173.04160067301356, 44.08329613541201, 126.53106805192459, 142.68262122371738, 250.50141247172962, 192.61594559671573, 77.25999529114274, 579.5414144678258, 293.938211182257, 176.15509020061185, 367.2684762910898, 294.22692578100794, 491.78038312136096, 113.61764737411893, 364.63121664253686, 416.53587481450984, 572.2285007981343, 1996.534666379442, 346.9794918257381, 762.1853573003631, 2188.983414538395, 424.17213812028814, 399.1338470603488, 568.1379350644019, 46.04428597887002, 37.413509226773485, 36.94149296827094, 36.94149297309908, 32.653899875040196, 31.893904062533842, 31.867313256029835, 28.212205372240444, 27.049398857878263, 26.021885749684536, 24.764485735863698, 24.402630241470913, 24.38942784537106, 23.719278165194506, 23.27896383921608, 22.943483113197733, 18.40065987392185, 17.513152569847637, 15.583033128972252, 15.517312928847842, 14.61413124944915, 13.911856105296808, 13.769381347609578, 13.434300642972499, 13.059298457546763, 12.704564419760727, 12.613640108059824, 11.829561773613532, 11.665310326797552, 11.640280214143148, 528.6811987044738, 393.71342580442797, 39.39829777071337, 954.237204536122, 79.31648496066461, 188.63946248404437, 2681.8969242986313, 57.285051505141425, 48.82034995399115, 57.427456431355985, 50.52387299567009, 33.843279234667634, 253.39021889607412, 389.6163421502003, 305.4443470589807, 557.3198965380178, 85.8002062021979, 151.45830784232948, 229.31497553963928, 177.8861702575801, 527.888135621405, 876.9162343090076, 334.84219412364826, 1864.9101621515708, 585.9098762257412, 1508.8373869565169, 620.9199468584272, 1996.534666379442, 773.7853573978423, 277.73646394990595, 1406.110838849723, 225.05553966910614, 250.7378835127663, 960.0008953398054, 1003.392758320473, 1251.1366671472454, 547.7644426938011, 594.1837575339234, 1241.2465186449265, 460.1126159080875, 745.3435599001074, 1546.2049700080117, 47.115074274979165, 43.218995127824265, 40.45357479762473, 37.55986123547059, 34.36299624296938, 31.922701850040355, 31.797123952426194, 31.351597903762073, 31.049977833127194, 25.537266923935423, 24.748953008467492, 23.099924244540368, 22.600496398553318, 21.652402222510666, 20.973702153720712, 20.306762398876916, 20.208396439811676, 26.73316152561712, 19.12422006181856, 18.873133324398296, 36.28417740147745, 18.34838287137697, 48.840780232222684, 17.066370750568787, 161.24492866542093, 16.334150728564353, 16.147498217288593, 15.982102935330808, 15.578756059183178, 15.357665455965156, 172.61942660061118, 371.8283666062079, 96.53521963523782, 137.7254359959367, 45.55504808598377, 197.44654491952977, 86.36115534612003, 149.2387894444915, 45.257472628909134, 105.66058088429826, 39.5473368182564, 67.45672291073681, 82.30231975052864, 61.923802271422076, 225.30502334423326, 579.5414144678258, 127.68296569533888, 71.17728402355283, 155.71471056538013, 648.4012121615896, 114.73261526982328, 424.17213812028814, 513.1698969640688, 76.39150617651865, 892.938447205612, 307.12889082289865, 434.48255783662097, 88.9382635158063, 205.68649268640354, 481.73221860630434, 171.00010499510722, 141.11254131490924, 827.205325957885, 338.34133343675427, 352.9883147102895, 180.2046800201748, 222.3858080412165, 664.2606633141075, 1654.8047142566704, 1011.1961006380511, 762.1853573003631, 109.12188365746684, 272.37086385036974, 45.67060317474142, 33.87953018789434, 33.85732852211929, 32.504469651582866, 32.418264446724876, 30.618907414252998, 30.61890741504738, 30.553565294428427, 29.3107786087041, 29.042761479025046, 28.668643013153634, 26.728363352255833, 26.224888343668912, 25.67074145546484, 24.987847505182245, 21.74165950344073, 18.28697321471975, 18.286971910556222, 18.104469779056654, 18.04052928782152, 17.620158236722705, 69.14139964699798, 15.168928294529868, 78.16079044217388, 14.916670277671416, 14.48856423599192, 14.301085798113705, 14.181209408417013, 308.40097881437157, 124.46040527536137, 154.8123553334072, 75.72545345525447, 63.24181919321068, 108.72451332935005, 140.98236666590327, 67.44134068656372, 607.4203366388251, 108.54501252404613, 44.92671068221741, 468.56571107441283, 344.3831872472468, 171.36897304430923, 195.22017500063131, 314.5999355709694, 945.0079816467361, 89.55804714100094, 434.48255783662097, 414.05921765618336, 1508.8373869565169, 292.95560419287636, 1406.110838849723, 520.5833398541091, 383.86062993762334, 211.86847044085965, 668.8729786244968, 1015.4690222934988, 334.84219412364826, 389.6163421502003, 1263.554144960046, 876.9162343090076, 1864.9101621515708, 82.54035532963249, 75.27754365666786, 71.77155734449927, 65.6335376372533, 35.42267168110764, 32.99066077865447, 30.593468073374417, 27.024339594546433, 42.683256248615365, 19.18031642058837, 93.66302505289286, 16.82932673799539, 15.922100800229503, 15.012567094941641, 14.386369880446367, 13.959026817385599, 13.615233886230627, 13.307804196414127, 13.010545477542221, 12.547705875321007, 66.11532104514328, 11.679961336356637, 11.634392492424729, 11.375350940588728, 10.077726659068697, 9.90506696437551, 9.83759666483034, 9.831974713758147, 9.812431031051736, 9.75221977559594, 49.488960842208115, 95.58233816777827, 26.294307150436335, 439.46409093289043, 689.9858242168025, 42.030144809505025, 77.86675743849318, 36.59121442750165, 386.3336121382932, 1864.9101621515708, 737.4499848745738, 1322.7688283693988, 32.061640123203695, 421.45636716224715, 300.18113353290175, 93.3622972740908, 294.22692578100794, 254.75068592119126, 92.44346918906797, 121.0239624575128, 316.8611240553174, 2681.8969242986313, 758.7788419320083, 475.7472523121593, 1508.8373869565169, 1416.0691596534216, 1406.110838849723, 620.9199468584272, 755.7675819855318, 1090.2601506723188, 443.9664108987654, 762.1853573003631, 1251.1366671472454, 648.4012121615896, 463.13800893169963, 745.3435599001074, 568.1379350644019, 167.14218699234178, 92.37232902737384, 81.03373246703346, 48.24784707437551, 34.960923031244135, 30.590885420474933, 25.42422937626287, 23.47572648152708, 23.391899659815504, 21.06615074309184, 20.712950704780653, 20.14277837498022, 18.01897286904908, 17.629900570521794, 17.15893480977128, 16.153741166494427, 16.150098090265384, 16.080960063800724, 15.869759586995144, 14.51748912029484, 14.487259747848363, 14.156617137241074, 13.406950173511605, 13.39074311992576, 13.095978253308164, 12.974484987825873, 12.74989076249459, 12.749083061820068, 12.71815374329486, 68.32492969795354, 33.351131045236805, 383.6798977209581, 71.1235123509901, 284.7322816742427, 137.7985043176085, 29.846784564003443, 52.27131475715776, 443.80105248180223, 102.43002588231398, 42.493131716499526, 474.39561989278945, 31.6961514707066, 384.15615391112016, 91.29745142942103, 1052.2895132807623, 92.70780412875162, 75.0655914952661, 118.5029390631225, 582.1062680990674, 118.89765498074138, 170.30115132300205, 456.471332168797, 987.6107003384373, 745.3435599001074, 131.9218140476886, 876.9162343090076, 724.2351877099729, 308.103766979432, 498.64605544416025, 1053.362604355973, 919.4520419680932, 217.7963226970736, 175.91647754304267, 25.55286503606538, 25.42767565684177, 15.664784879141996, 13.772117539200476, 12.80514328206178, 10.651227185230809, 10.330676889278482, 10.063003670122807, 33.46800660999527, 7.963969481100073, 7.882335400120705, 7.827374436138058, 7.589473192006069, 7.321170909896871, 7.153259172088292, 6.5332587468750365, 6.470992969171141, 28.702139997358106, 11.280313282910026, 5.995622619775102, 5.834697537302713, 5.7732347117198115, 5.528491938174372, 5.048004678445434, 4.900209651847464, 4.832079731482103, 4.720096656559501, 4.7169116702767875, 33.831813578161565, 75.6633899419855, 30.629858497126722, 16.459905039747497, 26.94785831069773, 128.74294032090765, 16.189144118753617, 67.85274794363147, 53.426242206433734, 221.71281216596475, 136.47889280450724, 58.31172873061666, 21.37938142376148, 1090.2601506723188, 36.129375077700615, 145.36927454364942, 286.95037856709087, 1011.1961006380511, 583.003845634355, 919.4520419680932, 696.6279948214573, 511.60895147731173, 585.4379923197995, 178.2706523782598, 261.35622043708486, 237.3480441767365, 668.8729786244968, 160.2264458517877, 315.4542948518221, 724.2351877099729, 37.52440437271121, 34.698378631883514, 31.06097112802027, 30.24823687622436, 21.011973355985255, 16.595006362923062, 15.71367782565284, 15.047822808358394, 54.5372938437855, 13.674750015736617, 13.47879604427125, 12.633439416612301, 11.625526141320819, 11.623438609385817, 11.277215271774175, 9.423645976884488, 8.521561838860583, 8.470063938169828, 8.070514457173346, 7.873741731462184, 7.847615227920223, 7.393107107050662, 7.385388762304238, 7.2530149849040075, 21.609250841677508, 7.106129525540482, 6.736881750590019, 6.336567887942098, 21.606369276680642, 5.626057630724336, 88.93696131823366, 32.13710398881349, 27.30614314354704, 64.40963412820756, 99.46628847837826, 73.4300624619954, 37.815235028816176, 103.3081772349306, 197.95383360839875, 12.421317835024205, 124.00616322767662, 1263.554144960046, 237.93201669292648, 66.22838450968324, 1090.2601506723188, 160.6160833566223, 131.55601810632223, 498.64605544416025, 762.1853573003631, 362.07748394235756, 104.14337038734958, 1170.9093781000702, 221.71281216596475, 46.49830541632097, 26.686945085921668, 23.51553361255969, 19.69018576367645, 19.56652899234434, 19.291652513934995, 13.044223497570039, 12.8518146874186, 11.64837381398144, 11.360300762330658, 11.170269821660783, 9.243564723400207, 7.954682354527477, 7.862931791199947, 7.743481406937156, 7.689850073158685, 7.6239587119221355, 6.902967930018251, 6.843383404729397, 6.420305188202746, 6.392672937973479, 6.308081153963392, 60.72167505017276, 5.137805452218729, 5.069795379574693, 5.069795379574693, 4.9403204343857166, 4.85841178419161, 4.85841178419161, 4.658505180727595, 41.775664366102355, 56.75051486530974, 11.524074001296531, 24.11131748570155, 30.68204369349197, 135.97529722371246, 106.41392903460037, 163.69686047468198, 16.5762740931913, 220.97302276249047, 269.5806959322195, 425.42909919955827, 203.72087087659105, 463.13800893169963, 954.237204536122, 1654.8047142566704, 33.04608694552718, 593.4110900524416, 247.64885876897, 620.9199468584272, 212.80102019223372, 526.7751388344374, 91.06886273863206, 29.86675990976307, 14.333584460499761, 13.896507490942929, 67.99347161770619, 1.6089082850844856, 111.06649881077642, 1.4299142267463294, 74.07563004471596, 53.7316275269513, 75.0655914952661, 118.89765498074138, 252.58955585523407, 7.38243838346509, 282.797199836068, 664.2606633141075, 1.0738007703806953, 1.0737791818521432, 1.0737791818521432, 1.0737712741829053, 1.073765651433252, 1.0737393798166597, 1.073744368443965, 1.0737529190378763, 1.0737518040164054, 1.0737380582817542, 1.0737508816535188, 1.0737630858992084, 1.0737489297087848, 1.073746599673445, 1015.4690222934988, 744.831467178677, 37.406003122868924, 29.15594431464048, 21.97756329051968, 10.286006522460498, 7.427444309091645, 6.847406639977878, 6.60331696042609, 6.557770198988046, 5.510270949585687, 4.551415383914423, 4.251108121117134, 3.9983489127577343, 16.299050135062007, 31.094741965068224, 3.1891130850695566, 3.0305000774239854, 2.8086348196751167, 2.8006619819430845, 2.7113560738093914, 2.642356088955015, 2.6038794803409386, 2.506492267379015, 2.3988234563257747, 2.3988234563257747, 2.3695965785027426, 65.72334497816117, 2.28818856127214, 2.233067349081422, 2.192458167050569, 2.1647143878187736, 42.94695317565012, 7.371561708004956, 48.173030839899496, 15.735243602756583, 64.29727791326081, 107.87365251466277, 57.427456431355985, 14.866507002312536, 38.18409575545475, 12.960100661881558, 24.85578145150977, 16.064012437454554, 13.274652670765407, 11.724606373761448, 10.738378430531656, 10.541132547911836, 8.606697766270983, 6.38604148460863, 5.609980300186572, 11.917235603900302, 4.701799172603904, 4.623745963358673, 20.058671429068127, 11.82334688694402, 3.1607130829922228, 2.915133633418421, 2.651243382472678, 2.65124557948915, 2.651267966269845, 2.0890384407492313, 1.7204981300698643, 1.5946182837256242, 9.262806348724963, 62.09775515006766, 1.073735001853193, 1.0737344051808764, 1.073733821542706, 1.073733821542706, 1.073733821542706, 1.0737332426023916, 1.0737332426023916, 102.33440344180352, 17.567760704883575, 35.54044142591954, 19.081272430852167, 23.08135491787023, 21.80966063402551, 8.89290377935712, 6.824249989080499, 5.811414728299891, 5.340382172644587, 4.486177869708068, 3.8290559191383142, 3.339800974281644, 3.336107848829948, 3.2508439136207072, 3.2353368333077293, 2.33774497283095, 2.3235340320227653, 2.2411736051649815, 2.1637091748951676, 14.668557191585471, 2.033012855947635, 2.0247119574274492, 1.714480424583706, 212.80102019223372, 203.402414433645, 24.58983195586115, 73.12943273720086, 75.14898810007693, 35.25785457993521, 1.0737515199485337, 1.0737441602833862, 1.073738636313719, 1.0737357778415297, 57.080267622021324, 269.5806959322195, 254.66248849146572, 153.05665431105126, 359.4561221779365], \"Category\": [\"Default\", \"Default\", \"Default\", \"Default\", \"Default\", \"Default\", \"Default\", \"Default\", \"Default\", \"Default\", \"Default\", \"Default\", \"Default\", \"Default\", \"Default\", \"Default\", \"Default\", \"Default\", \"Default\", \"Default\", \"Default\", \"Default\", \"Default\", \"Default\", \"Default\", \"Default\", \"Default\", \"Default\", \"Default\", \"Default\", \"Topic1\", \"Topic1\", \"Topic1\", \"Topic1\", \"Topic1\", \"Topic1\", \"Topic1\", \"Topic1\", \"Topic1\", \"Topic1\", \"Topic1\", \"Topic1\", \"Topic1\", \"Topic1\", \"Topic1\", \"Topic1\", \"Topic1\", \"Topic1\", \"Topic1\", \"Topic1\", \"Topic1\", \"Topic1\", \"Topic1\", \"Topic1\", \"Topic1\", \"Topic1\", \"Topic1\", \"Topic1\", \"Topic1\", \"Topic1\", \"Topic1\", \"Topic1\", \"Topic1\", \"Topic1\", \"Topic1\", \"Topic1\", \"Topic1\", \"Topic1\", \"Topic1\", \"Topic1\", \"Topic1\", \"Topic1\", \"Topic1\", \"Topic1\", \"Topic1\", \"Topic1\", \"Topic1\", \"Topic1\", \"Topic1\", \"Topic1\", \"Topic1\", \"Topic1\", \"Topic1\", \"Topic1\", \"Topic1\", \"Topic1\", \"Topic1\", \"Topic1\", \"Topic1\", \"Topic1\", \"Topic1\", \"Topic1\", \"Topic1\", \"Topic1\", \"Topic1\", \"Topic1\", \"Topic1\", \"Topic1\", \"Topic1\", \"Topic1\", \"Topic1\", \"Topic1\", \"Topic2\", \"Topic2\", \"Topic2\", \"Topic2\", \"Topic2\", \"Topic2\", \"Topic2\", \"Topic2\", \"Topic2\", \"Topic2\", \"Topic2\", \"Topic2\", \"Topic2\", \"Topic2\", \"Topic2\", \"Topic2\", \"Topic2\", \"Topic2\", \"Topic2\", \"Topic2\", \"Topic2\", \"Topic2\", \"Topic2\", \"Topic2\", \"Topic2\", \"Topic2\", \"Topic2\", \"Topic2\", \"Topic2\", \"Topic2\", \"Topic2\", \"Topic2\", \"Topic2\", \"Topic2\", \"Topic2\", \"Topic2\", \"Topic2\", \"Topic2\", \"Topic2\", \"Topic2\", \"Topic2\", \"Topic2\", \"Topic2\", \"Topic2\", \"Topic2\", \"Topic2\", \"Topic2\", \"Topic2\", \"Topic2\", \"Topic2\", \"Topic2\", \"Topic2\", \"Topic2\", \"Topic2\", \"Topic2\", \"Topic2\", \"Topic2\", \"Topic2\", \"Topic2\", \"Topic2\", \"Topic2\", \"Topic2\", \"Topic2\", \"Topic2\", \"Topic2\", \"Topic2\", \"Topic2\", \"Topic2\", \"Topic2\", \"Topic2\", \"Topic3\", \"Topic3\", \"Topic3\", \"Topic3\", \"Topic3\", \"Topic3\", \"Topic3\", \"Topic3\", \"Topic3\", \"Topic3\", \"Topic3\", \"Topic3\", \"Topic3\", \"Topic3\", \"Topic3\", \"Topic3\", \"Topic3\", \"Topic3\", \"Topic3\", \"Topic3\", \"Topic3\", \"Topic3\", \"Topic3\", \"Topic3\", \"Topic3\", \"Topic3\", \"Topic3\", \"Topic3\", \"Topic3\", \"Topic3\", \"Topic3\", \"Topic3\", \"Topic3\", \"Topic3\", \"Topic3\", \"Topic3\", \"Topic3\", \"Topic3\", \"Topic3\", \"Topic3\", \"Topic3\", \"Topic3\", \"Topic3\", \"Topic3\", \"Topic3\", \"Topic3\", \"Topic3\", \"Topic3\", \"Topic3\", \"Topic3\", \"Topic3\", \"Topic3\", \"Topic3\", \"Topic3\", \"Topic3\", \"Topic3\", \"Topic3\", \"Topic3\", \"Topic3\", \"Topic3\", \"Topic3\", \"Topic3\", \"Topic3\", \"Topic3\", \"Topic3\", \"Topic3\", \"Topic3\", \"Topic3\", \"Topic3\", \"Topic4\", \"Topic4\", \"Topic4\", \"Topic4\", \"Topic4\", \"Topic4\", \"Topic4\", \"Topic4\", \"Topic4\", \"Topic4\", \"Topic4\", \"Topic4\", \"Topic4\", \"Topic4\", \"Topic4\", \"Topic4\", \"Topic4\", \"Topic4\", \"Topic4\", \"Topic4\", \"Topic4\", \"Topic4\", \"Topic4\", \"Topic4\", \"Topic4\", \"Topic4\", \"Topic4\", \"Topic4\", \"Topic4\", \"Topic4\", \"Topic4\", \"Topic4\", \"Topic4\", \"Topic4\", \"Topic4\", \"Topic4\", \"Topic4\", \"Topic4\", \"Topic4\", \"Topic4\", \"Topic4\", \"Topic4\", \"Topic4\", \"Topic4\", \"Topic4\", \"Topic4\", \"Topic4\", \"Topic4\", \"Topic4\", \"Topic4\", \"Topic4\", \"Topic4\", \"Topic4\", \"Topic4\", \"Topic4\", \"Topic4\", \"Topic4\", \"Topic4\", \"Topic4\", \"Topic4\", \"Topic4\", \"Topic4\", \"Topic4\", \"Topic4\", \"Topic4\", \"Topic4\", \"Topic4\", \"Topic4\", \"Topic4\", \"Topic4\", \"Topic4\", \"Topic4\", \"Topic4\", \"Topic4\", \"Topic4\", \"Topic4\", \"Topic4\", \"Topic4\", \"Topic4\", \"Topic5\", \"Topic5\", \"Topic5\", \"Topic5\", \"Topic5\", \"Topic5\", \"Topic5\", \"Topic5\", \"Topic5\", \"Topic5\", \"Topic5\", \"Topic5\", \"Topic5\", \"Topic5\", \"Topic5\", \"Topic5\", \"Topic5\", \"Topic5\", \"Topic5\", \"Topic5\", \"Topic5\", \"Topic5\", \"Topic5\", \"Topic5\", \"Topic5\", \"Topic5\", \"Topic5\", \"Topic5\", \"Topic5\", \"Topic5\", \"Topic5\", \"Topic5\", \"Topic5\", \"Topic5\", \"Topic5\", \"Topic5\", \"Topic5\", \"Topic5\", \"Topic5\", \"Topic5\", \"Topic5\", \"Topic5\", \"Topic5\", \"Topic5\", \"Topic5\", \"Topic5\", \"Topic5\", \"Topic5\", \"Topic5\", \"Topic5\", \"Topic5\", \"Topic5\", \"Topic5\", \"Topic5\", \"Topic5\", \"Topic5\", \"Topic5\", \"Topic5\", \"Topic5\", \"Topic5\", \"Topic5\", \"Topic5\", \"Topic5\", \"Topic5\", \"Topic5\", \"Topic5\", \"Topic5\", \"Topic6\", \"Topic6\", \"Topic6\", \"Topic6\", \"Topic6\", \"Topic6\", \"Topic6\", \"Topic6\", \"Topic6\", \"Topic6\", \"Topic6\", \"Topic6\", \"Topic6\", \"Topic6\", \"Topic6\", \"Topic6\", \"Topic6\", \"Topic6\", \"Topic6\", \"Topic6\", \"Topic6\", \"Topic6\", \"Topic6\", \"Topic6\", \"Topic6\", \"Topic6\", \"Topic6\", \"Topic6\", \"Topic6\", \"Topic6\", \"Topic6\", \"Topic6\", \"Topic6\", \"Topic6\", \"Topic6\", \"Topic6\", \"Topic6\", \"Topic6\", \"Topic6\", \"Topic6\", \"Topic6\", \"Topic6\", \"Topic6\", \"Topic6\", \"Topic6\", \"Topic6\", \"Topic6\", \"Topic6\", \"Topic6\", \"Topic6\", \"Topic6\", \"Topic6\", \"Topic6\", \"Topic6\", \"Topic6\", \"Topic6\", \"Topic6\", \"Topic6\", \"Topic6\", \"Topic6\", \"Topic6\", \"Topic6\", \"Topic6\", \"Topic6\", \"Topic6\", \"Topic6\", \"Topic6\", \"Topic7\", \"Topic7\", \"Topic7\", \"Topic7\", \"Topic7\", \"Topic7\", \"Topic7\", \"Topic7\", \"Topic7\", \"Topic7\", \"Topic7\", \"Topic7\", \"Topic7\", \"Topic7\", \"Topic7\", \"Topic7\", \"Topic7\", \"Topic7\", \"Topic7\", \"Topic7\", \"Topic7\", \"Topic7\", \"Topic7\", \"Topic7\", \"Topic7\", \"Topic7\", \"Topic7\", \"Topic7\", \"Topic7\", \"Topic7\", \"Topic7\", \"Topic7\", \"Topic7\", \"Topic7\", \"Topic7\", \"Topic7\", \"Topic7\", \"Topic7\", \"Topic7\", \"Topic7\", \"Topic7\", \"Topic7\", \"Topic7\", \"Topic7\", \"Topic7\", \"Topic7\", \"Topic7\", \"Topic7\", \"Topic7\", \"Topic7\", \"Topic7\", \"Topic7\", \"Topic7\", \"Topic7\", \"Topic7\", \"Topic7\", \"Topic7\", \"Topic7\", \"Topic8\", \"Topic8\", \"Topic8\", \"Topic8\", \"Topic8\", \"Topic8\", \"Topic8\", \"Topic8\", \"Topic8\", \"Topic8\", \"Topic8\", \"Topic8\", \"Topic8\", \"Topic8\", \"Topic8\", \"Topic8\", \"Topic8\", \"Topic8\", \"Topic8\", \"Topic8\", \"Topic8\", \"Topic8\", \"Topic8\", \"Topic8\", \"Topic8\", \"Topic8\", \"Topic8\", \"Topic8\", \"Topic8\", \"Topic8\", \"Topic8\", \"Topic8\", \"Topic8\", \"Topic8\", \"Topic8\", \"Topic8\", \"Topic8\", \"Topic8\", \"Topic8\", \"Topic8\", \"Topic8\", \"Topic8\", \"Topic8\", \"Topic8\", \"Topic8\", \"Topic8\", \"Topic8\", \"Topic8\", \"Topic8\", \"Topic8\", \"Topic8\", \"Topic8\", \"Topic8\", \"Topic8\", \"Topic8\", \"Topic8\", \"Topic8\", \"Topic8\", \"Topic8\", \"Topic9\", \"Topic9\", \"Topic9\", \"Topic9\", \"Topic9\", \"Topic9\", \"Topic9\", \"Topic9\", \"Topic9\", \"Topic9\", \"Topic9\", \"Topic9\", \"Topic9\", \"Topic9\", \"Topic9\", \"Topic9\", \"Topic9\", \"Topic9\", \"Topic9\", \"Topic9\", \"Topic9\", \"Topic9\", \"Topic9\", \"Topic9\", \"Topic9\", \"Topic9\", \"Topic9\", \"Topic9\", \"Topic9\", \"Topic9\", \"Topic9\", \"Topic9\", \"Topic9\", \"Topic9\", \"Topic9\", \"Topic9\", \"Topic9\", \"Topic9\", \"Topic9\", \"Topic9\", \"Topic9\", \"Topic9\", \"Topic9\", \"Topic9\", \"Topic9\", \"Topic9\", \"Topic9\", \"Topic9\", \"Topic9\", \"Topic9\", \"Topic9\", \"Topic9\", \"Topic9\", \"Topic9\", \"Topic9\", \"Topic9\", \"Topic9\", \"Topic9\", \"Topic9\", \"Topic9\", \"Topic9\", \"Topic9\", \"Topic9\", \"Topic9\", \"Topic9\", \"Topic9\", \"Topic9\", \"Topic9\", \"Topic9\", \"Topic9\", \"Topic9\", \"Topic9\", \"Topic10\", \"Topic10\", \"Topic10\", \"Topic10\", \"Topic10\", \"Topic10\", \"Topic10\", \"Topic10\", \"Topic10\", \"Topic10\", \"Topic10\", \"Topic10\", \"Topic10\", \"Topic10\", \"Topic10\", \"Topic10\", \"Topic10\", \"Topic10\", \"Topic10\", \"Topic10\", \"Topic10\", \"Topic10\", \"Topic10\", \"Topic10\", \"Topic10\", \"Topic10\", \"Topic10\", \"Topic10\", \"Topic10\", \"Topic10\", \"Topic10\", \"Topic10\", \"Topic10\", \"Topic10\", \"Topic10\", \"Topic10\", \"Topic10\", \"Topic10\", \"Topic10\", \"Topic10\", \"Topic10\", \"Topic10\", \"Topic10\", \"Topic10\", \"Topic10\", \"Topic10\", \"Topic10\", \"Topic10\", \"Topic10\", \"Topic10\", \"Topic10\", \"Topic10\", \"Topic10\", \"Topic10\", \"Topic10\", \"Topic10\", \"Topic10\", \"Topic10\", \"Topic10\", \"Topic10\", \"Topic10\", \"Topic10\", \"Topic10\", \"Topic10\", \"Topic10\", \"Topic10\", \"Topic10\", \"Topic10\", \"Topic10\", \"Topic10\", \"Topic10\", \"Topic11\", \"Topic11\", \"Topic11\", \"Topic11\", \"Topic11\", \"Topic11\", \"Topic11\", \"Topic11\", \"Topic11\", \"Topic11\", \"Topic11\", \"Topic11\", \"Topic11\", \"Topic11\", \"Topic11\", \"Topic11\", \"Topic11\", \"Topic11\", \"Topic11\", \"Topic11\", \"Topic11\", \"Topic11\", \"Topic11\", \"Topic11\", \"Topic11\", \"Topic11\", \"Topic11\", \"Topic11\", \"Topic11\", \"Topic11\", \"Topic11\", \"Topic11\", \"Topic11\", \"Topic11\", \"Topic11\", \"Topic11\", \"Topic11\", \"Topic11\", \"Topic11\", \"Topic11\", \"Topic11\", \"Topic11\", \"Topic11\", \"Topic11\", \"Topic11\", \"Topic11\", \"Topic11\", \"Topic11\", \"Topic11\", \"Topic11\", \"Topic11\", \"Topic11\", \"Topic11\", \"Topic11\", \"Topic11\", \"Topic11\", \"Topic11\", \"Topic11\", \"Topic11\", \"Topic11\", \"Topic11\", \"Topic11\", \"Topic11\", \"Topic12\", \"Topic12\", \"Topic12\", \"Topic12\", \"Topic12\", \"Topic12\", \"Topic12\", \"Topic12\", \"Topic12\", \"Topic12\", \"Topic12\", \"Topic12\", \"Topic12\", \"Topic12\", \"Topic12\", \"Topic12\", \"Topic12\", \"Topic12\", \"Topic12\", \"Topic12\", \"Topic12\", \"Topic12\", \"Topic12\", \"Topic12\", \"Topic12\", \"Topic12\", \"Topic12\", \"Topic12\", \"Topic12\", \"Topic12\", \"Topic12\", \"Topic12\", \"Topic12\", \"Topic12\", \"Topic12\", \"Topic12\", \"Topic12\", \"Topic12\", \"Topic12\", \"Topic12\", \"Topic12\", \"Topic12\", \"Topic12\", \"Topic12\", \"Topic12\", \"Topic12\", \"Topic12\", \"Topic12\", \"Topic12\", \"Topic12\", \"Topic12\", \"Topic12\", \"Topic12\", \"Topic12\", \"Topic12\", \"Topic12\", \"Topic12\", \"Topic12\", \"Topic12\", \"Topic12\", \"Topic12\", \"Topic12\", \"Topic12\", \"Topic12\", \"Topic12\", \"Topic12\", \"Topic12\", \"Topic13\", \"Topic13\", \"Topic13\", \"Topic13\", \"Topic13\", \"Topic13\", \"Topic13\", \"Topic13\", \"Topic13\", \"Topic13\", \"Topic13\", \"Topic13\", \"Topic13\", \"Topic13\", \"Topic13\", \"Topic13\", \"Topic13\", \"Topic13\", \"Topic13\", \"Topic13\", \"Topic13\", \"Topic13\", \"Topic13\", \"Topic13\", \"Topic13\", \"Topic13\", \"Topic13\", \"Topic13\", \"Topic13\", \"Topic13\", \"Topic13\", \"Topic13\", \"Topic13\", \"Topic13\", \"Topic13\", \"Topic13\", \"Topic13\", \"Topic13\", \"Topic13\", \"Topic13\", \"Topic13\", \"Topic13\", \"Topic13\", \"Topic13\", \"Topic13\", \"Topic13\", \"Topic13\", \"Topic13\", \"Topic13\", \"Topic13\", \"Topic13\", \"Topic13\", \"Topic13\", \"Topic13\", \"Topic13\", \"Topic13\", \"Topic13\", \"Topic13\", \"Topic13\", \"Topic13\", \"Topic13\", \"Topic14\", \"Topic14\", \"Topic14\", \"Topic14\", \"Topic14\", \"Topic14\", \"Topic14\", \"Topic14\", \"Topic14\", \"Topic14\", \"Topic14\", \"Topic14\", \"Topic14\", \"Topic14\", \"Topic14\", \"Topic14\", \"Topic14\", \"Topic14\", \"Topic14\", \"Topic14\", \"Topic14\", \"Topic14\", \"Topic14\", \"Topic14\", \"Topic14\", \"Topic14\", \"Topic14\", \"Topic14\", \"Topic14\", \"Topic14\", \"Topic14\", \"Topic14\", \"Topic14\", \"Topic14\", \"Topic14\", \"Topic14\", \"Topic14\", \"Topic14\", \"Topic14\", \"Topic14\", \"Topic14\", \"Topic14\", \"Topic14\", \"Topic14\", \"Topic14\", \"Topic14\", \"Topic14\", \"Topic14\", \"Topic14\", \"Topic14\", \"Topic14\", \"Topic14\", \"Topic14\", \"Topic14\", \"Topic14\", \"Topic14\", \"Topic14\", \"Topic14\", \"Topic14\", \"Topic14\", \"Topic15\", \"Topic15\", \"Topic15\", \"Topic15\", \"Topic15\", \"Topic15\", \"Topic15\", \"Topic15\", \"Topic15\", \"Topic15\", \"Topic15\", \"Topic15\", \"Topic15\", \"Topic15\", \"Topic15\", \"Topic15\", \"Topic15\", \"Topic15\", \"Topic15\", \"Topic15\", \"Topic15\", \"Topic15\", \"Topic15\", \"Topic15\", \"Topic15\", \"Topic15\", \"Topic15\", \"Topic15\", \"Topic15\", \"Topic15\", \"Topic15\", \"Topic15\", \"Topic15\", \"Topic15\", \"Topic15\", \"Topic15\", \"Topic15\", \"Topic15\", \"Topic15\", \"Topic15\", \"Topic15\", \"Topic15\", \"Topic15\", \"Topic15\", \"Topic15\", \"Topic15\", \"Topic15\", \"Topic15\", \"Topic15\", \"Topic15\", \"Topic15\", \"Topic15\", \"Topic15\", \"Topic16\", \"Topic16\", \"Topic16\", \"Topic16\", \"Topic16\", \"Topic16\", \"Topic16\", \"Topic16\", \"Topic16\", \"Topic16\", \"Topic16\", \"Topic16\", \"Topic16\", \"Topic16\", \"Topic16\", \"Topic16\", \"Topic16\", \"Topic16\", \"Topic16\", \"Topic16\", \"Topic16\", \"Topic16\", \"Topic16\", \"Topic16\", \"Topic16\", \"Topic16\", \"Topic16\", \"Topic16\", \"Topic16\", \"Topic16\", \"Topic16\", \"Topic16\", \"Topic16\", \"Topic16\", \"Topic16\", \"Topic16\", \"Topic16\", \"Topic16\", \"Topic16\", \"Topic16\", \"Topic16\", \"Topic16\", \"Topic16\", \"Topic16\", \"Topic16\", \"Topic16\", \"Topic16\", \"Topic16\", \"Topic16\", \"Topic16\", \"Topic16\", \"Topic16\", \"Topic17\", \"Topic17\", \"Topic17\", \"Topic17\", \"Topic17\", \"Topic17\", \"Topic17\", \"Topic17\", \"Topic17\", \"Topic17\", \"Topic17\", \"Topic17\", \"Topic17\", \"Topic17\", \"Topic17\", \"Topic17\", \"Topic17\", \"Topic17\", \"Topic17\", \"Topic17\", \"Topic17\", \"Topic17\", \"Topic17\", \"Topic17\", \"Topic17\", \"Topic17\", \"Topic17\", \"Topic17\", \"Topic17\", \"Topic17\", \"Topic17\", \"Topic17\", \"Topic18\", \"Topic18\", \"Topic18\", \"Topic18\", \"Topic18\", \"Topic18\", \"Topic18\", \"Topic18\", \"Topic18\", \"Topic18\", \"Topic18\", \"Topic18\", \"Topic18\", \"Topic18\", \"Topic18\", \"Topic18\", \"Topic18\", \"Topic18\", \"Topic18\", \"Topic18\", \"Topic18\", \"Topic18\", \"Topic18\", \"Topic18\", \"Topic18\", \"Topic18\", \"Topic18\", \"Topic18\", \"Topic18\", \"Topic18\", \"Topic18\", \"Topic18\", \"Topic18\", \"Topic18\", \"Topic18\", \"Topic18\", \"Topic18\", \"Topic18\", \"Topic18\", \"Topic18\", \"Topic18\", \"Topic19\", \"Topic19\", \"Topic19\", \"Topic19\", \"Topic19\", \"Topic19\", \"Topic19\", \"Topic19\", \"Topic19\", \"Topic19\", \"Topic19\", \"Topic19\", \"Topic19\", \"Topic19\", \"Topic19\", \"Topic19\", \"Topic19\", \"Topic19\", \"Topic19\", \"Topic19\", \"Topic19\", \"Topic19\", \"Topic19\", \"Topic19\", \"Topic19\", \"Topic19\", \"Topic19\", \"Topic19\", \"Topic19\", \"Topic19\", \"Topic19\", \"Topic19\", \"Topic19\", \"Topic19\", \"Topic20\", \"Topic20\", \"Topic20\", \"Topic20\", \"Topic20\", \"Topic20\", \"Topic20\", \"Topic20\", \"Topic20\", \"Topic20\", \"Topic20\", \"Topic20\", \"Topic20\", \"Topic20\", \"Topic20\", \"Topic20\", \"Topic20\", \"Topic20\", \"Topic20\", \"Topic20\", \"Topic20\", \"Topic20\", \"Topic20\", \"Topic20\", \"Topic20\", \"Topic20\", \"Topic20\", \"Topic20\", \"Topic20\", \"Topic20\", \"Topic20\", \"Topic20\", \"Topic20\", \"Topic20\", \"Topic20\"], \"logprob\": [30.0, 29.0, 28.0, 27.0, 26.0, 25.0, 24.0, 23.0, 22.0, 21.0, 20.0, 19.0, 18.0, 17.0, 16.0, 15.0, 14.0, 13.0, 12.0, 11.0, 10.0, 9.0, 8.0, 7.0, 6.0, 5.0, 4.0, 3.0, 2.0, 1.0, -4.8889, -5.1755, -5.3642, -5.4566, -5.5709, -5.7252, -5.9494, -6.0187, -6.2564, -6.3864, -6.4301, -5.9616, -6.5807, -6.5944, -6.7387, -6.7526, -6.7926, -6.8749, -6.8723, -6.8917, -6.9531, -6.9658, -6.9799, -7.0119, -7.0073, -7.0187, -7.0366, -7.0501, -7.1589, -7.1653, -5.7472, -3.7836, -5.3689, -6.3687, -5.1491, -4.8817, -5.3192, -6.2495, -5.909, -5.4752, -3.725, -6.1249, -6.4042, -6.2585, -4.7285, -4.9906, -5.6715, -4.8601, -5.7629, -5.7978, -4.4203, -5.1649, -5.0268, -4.1021, -4.2125, -4.2069, -4.025, -4.4829, -4.6004, -4.9048, -4.6269, -5.2422, -5.0358, -5.0787, -5.0487, -5.0541, -5.0264, -5.1301, -5.2393, -5.3006, -5.2688, -5.2992, -3.9178, -5.8606, -5.8624, -6.0223, -6.1444, -6.2331, -6.2402, -6.4299, -6.4911, -6.496, -6.5482, -6.7177, -6.7255, -6.7257, -6.7364, -6.7452, -6.7972, -6.8262, -6.8491, -6.8515, -4.8881, -7.0067, -7.0121, -7.0179, -6.4862, -7.0533, -7.1006, -7.1228, -7.1334, -7.1413, -3.8662, -4.6713, -3.5588, -6.0999, -5.4109, -4.956, -4.513, -6.0796, -5.8972, -4.5458, -5.3855, -5.7947, -4.0702, -5.987, -4.7768, -5.6202, -5.3625, -4.9967, -6.0458, -4.7616, -4.9211, -5.8114, -5.0956, -4.7338, -5.5899, -4.6594, -4.4395, -4.8994, -4.9788, -5.1758, -5.1384, -5.3604, -4.882, -5.3463, -5.1323, -5.4829, -5.3239, -5.3744, -5.3122, -5.3731, -4.895, -5.4874, -5.9151, -5.9631, -5.2203, -6.1422, -6.0606, -6.2419, -6.2854, -6.3425, -6.4649, -6.5396, -6.5755, -6.7235, -6.0442, -6.837, -6.8595, -6.8621, -6.8696, -6.8789, -6.8816, -6.8819, -6.8851, -7.0114, -7.0396, -7.0893, -7.0914, -7.1156, -7.123, -7.164, -7.0194, -4.5196, -6.534, -5.0333, -6.7192, -5.4667, -6.2276, -5.6582, -4.9351, -3.8672, -4.3755, -5.7891, -4.7531, -5.2583, -6.5976, -4.9463, -4.723, -4.294, -5.2584, -4.6551, -5.0179, -5.714, -5.1652, -4.7432, -5.5892, -5.0582, -5.1152, -5.1582, -5.4293, -5.2535, -5.5225, -5.2233, -5.298, -5.1387, -5.2534, -5.3491, -5.4339, -5.3821, -5.462, -5.9797, -6.0046, -6.0643, -6.425, -6.5214, -6.7745, -6.8248, -6.9123, -6.1666, -6.8768, -7.0737, -7.0893, -7.0988, -7.1179, -7.1386, -7.1548, -6.4737, -7.1773, -7.2087, -7.2138, -7.2422, -7.3347, -7.4041, -7.407, -7.4298, -7.4688, -7.4971, -7.5102, -7.5164, -7.5203, -6.045, -6.9393, -6.8423, -5.9066, -6.5174, -5.4283, -6.5398, -6.2971, -5.0083, -5.8666, -6.6457, -5.0295, -5.8104, -5.0336, -5.5894, -5.5584, -4.4618, -6.3254, -5.2965, -5.3447, -4.5789, -6.0471, -5.0719, -6.1831, -5.7946, -4.9232, -5.0668, -4.5301, -4.8503, -4.5619, -5.0664, -5.0088, -5.4536, -4.3761, -4.9551, -5.1082, -5.249, -4.8484, -5.0979, -4.6715, -4.8892, -5.2625, -5.0186, -5.4184, -5.0668, -5.2945, -5.2834, -5.3711, -5.3374, -3.8355, -4.971, -5.6336, -5.7643, -5.7958, -5.8309, -5.9553, -6.0871, -6.1925, -6.2123, -6.241, -6.2736, -6.3002, -6.3369, -6.3471, -6.3696, -6.4998, -6.541, -6.5465, -6.7052, -6.7297, -6.7603, -6.7653, -6.8016, -6.8121, -6.8487, -6.8547, -6.8566, -6.8842, -6.953, -5.6534, -6.1351, -4.4566, -5.554, -6.3637, -4.1647, -5.2062, -6.2759, -4.4193, -5.4208, -5.5434, -5.8088, -5.021, -6.0638, -5.3251, -5.8623, -5.0817, -5.7124, -4.548, -5.8828, -4.8899, -5.46, -5.171, -5.8485, -4.9623, -5.2187, -4.8781, -5.5471, -5.5257, -4.9962, -5.5332, -5.4436, -5.3113, -5.3289, -5.3278, -5.4733, -5.6489, -5.5659, -5.6112, -6.0313, -6.0885, -6.127, -6.3472, -6.4177, -6.5194, -6.5261, -6.6593, -6.6628, -5.9974, -6.778, -6.7958, -4.2511, -6.8776, -6.885, -6.8911, -6.9275, -7.0214, -7.0304, -7.0897, -7.0943, -7.115, -7.149, -7.1933, -7.2285, -7.2555, -7.3328, -7.381, -3.5437, -3.8754, -2.9911, -6.0033, -5.9856, -5.1322, -5.1322, -5.7064, -4.6124, -5.2835, -4.667, -5.1397, -5.5697, -3.8671, -5.0213, -3.8874, -4.416, -4.336, -4.645, -4.8792, -4.8889, -5.5062, -4.1083, -4.6775, -5.381, -4.6282, -4.6757, -4.4739, -4.5481, -4.6779, -4.7036, -4.8082, -4.6556, -4.8395, -5.1548, -4.8897, -5.0305, -3.9995, -4.2333, -4.9944, -5.0825, -5.4496, -5.5186, -5.6671, -5.9274, -5.9453, -5.9481, -6.0106, -6.1208, -6.1314, -6.1592, -6.1651, -6.1735, -5.2449, -6.2496, -6.3154, -6.3296, -6.3417, -4.89, -6.3728, -6.4207, -6.5243, -6.5285, -6.5397, -6.6135, -6.6208, -4.7734, -5.0808, -4.4702, -3.5287, -4.8742, -5.2968, -5.6141, -4.693, -5.2063, -4.9715, -5.9664, -5.4012, -4.8226, -4.9002, -3.6842, -4.2618, -4.637, -4.9414, -5.2319, -4.6319, -4.506, -5.0695, -4.1587, -4.5099, -4.7303, -4.8393, -4.9526, -4.9895, -4.9525, -4.8161, -3.7991, -5.0928, -5.4485, -5.4524, -5.4688, -4.7864, -5.6702, -5.8066, -5.8317, -5.8367, -6.0113, -6.0359, -6.1362, -6.2132, -6.3159, -4.9713, -6.3799, -6.3996, -6.4614, -6.5807, -6.6129, -6.6232, -6.7397, -6.7481, -6.7709, -6.851, -4.6229, -6.8854, -6.9026, -4.8543, -6.2257, -5.2163, -4.1953, -3.9781, -4.6953, -6.0034, -5.0747, -4.973, -4.5475, -4.8148, -5.6073, -4.1291, -4.6496, -5.0843, -4.6129, -4.783, -4.5487, -5.4176, -4.7448, -4.8287, -4.7395, -4.2901, -5.0785, -4.841, -4.5809, -5.0653, -5.087, -5.1754, -5.8303, -6.0431, -6.0562, -6.0562, -6.1833, -6.2076, -6.2085, -6.3346, -6.3783, -6.4186, -6.4702, -6.4855, -6.4861, -6.5152, -6.5348, -6.5499, -6.7821, -6.8345, -6.959, -6.9635, -7.0278, -7.0809, -7.092, -7.1187, -7.1493, -7.1792, -7.187, -7.257, -7.2723, -7.2747, -3.467, -3.8659, -6.1054, -3.1492, -5.4677, -4.6658, -2.3066, -5.8058, -5.9578, -5.8256, -5.9441, -6.304, -4.632, -4.2816, -4.5379, -4.2121, -5.6097, -5.2408, -4.9669, -5.1415, -4.4514, -4.1569, -4.7735, -3.7012, -4.4244, -3.8947, -4.4836, -3.8131, -4.3586, -4.9769, -4.0809, -5.1579, -5.1588, -4.5719, -4.6069, -4.5336, -4.8794, -4.92, -4.8698, -5.0489, -5.0102, -5.0122, -5.7805, -5.8687, -5.9369, -6.0151, -6.1042, -6.1801, -6.1842, -6.1988, -6.212, -6.4114, -6.4441, -6.5161, -6.5389, -6.5838, -6.6172, -6.6512, -6.6563, -6.3787, -6.7144, -6.7283, -6.0753, -6.7581, -5.7822, -6.8349, -4.5915, -6.8816, -6.8938, -6.9048, -6.9321, -6.9474, -4.5404, -3.7901, -5.1408, -4.8365, -5.9247, -4.5909, -5.3598, -4.8685, -5.9705, -5.2455, -6.0941, -5.6517, -5.499, -5.737, -4.7487, -4.028, -5.2354, -5.6808, -5.1881, -4.3101, -5.3959, -4.6012, -4.544, -5.6665, -4.3139, -4.928, -4.8571, -5.606, -5.2289, -4.8841, -5.3383, -5.4241, -4.7933, -5.1282, -5.1461, -5.3629, -5.3085, -5.0927, -4.9512, -5.3101, -5.3216, -4.6408, -3.727, -5.5249, -5.8314, -5.8321, -5.8742, -5.8769, -5.9359, -5.9359, -5.9381, -5.9811, -5.9906, -6.0041, -6.0768, -6.0966, -6.1188, -6.1469, -6.2924, -6.4747, -6.4747, -6.4853, -6.4891, -6.514, -5.1535, -6.6737, -5.0353, -6.6917, -6.723, -6.737, -6.7461, -3.7735, -4.6525, -4.5344, -5.2038, -5.3978, -4.9551, -4.7529, -5.3735, -3.549, -5.0091, -5.7325, -3.9332, -4.2224, -4.7901, -4.7017, -4.4431, -4.0083, -5.3541, -4.4828, -4.5116, -3.9008, -4.8039, -4.0808, -4.5732, -4.7836, -5.0462, -4.5719, -4.6264, -4.9658, -4.9756, -4.7675, -4.8371, -5.023, -4.8693, -4.9626, -5.011, -5.1017, -5.7319, -5.8052, -5.8831, -6.0117, -5.559, -6.3706, -4.7861, -6.5092, -6.5683, -6.6312, -6.677, -6.7094, -6.7364, -6.7611, -6.7855, -6.8249, -5.1692, -6.9031, -6.9074, -6.9321, -7.0658, -7.0851, -7.0927, -7.0933, -7.0955, -7.1024, -5.4869, -4.9015, -6.1444, -3.4961, -3.1113, -5.7709, -5.2498, -5.9271, -4.0223, -2.7593, -3.6342, -3.2446, -6.0853, -4.3342, -4.5862, -5.39, -4.6211, -4.7528, -5.4226, -5.2746, -4.7397, -3.5944, -4.2816, -4.55, -3.971, -4.102, -4.2519, -4.6502, -4.5916, -4.5127, -4.823, -4.6793, -4.5529, -4.7674, -4.8611, -4.8468, -4.8748, -3.5444, -4.1424, -4.275, -4.8023, -5.1328, -5.2706, -5.4628, -5.546, -5.5497, -5.6596, -5.6774, -5.7068, -5.8246, -5.8477, -5.8765, -5.9409, -5.9411, -5.9457, -5.9598, -6.0554, -6.0576, -6.0825, -6.1413, -6.1426, -6.1668, -6.1769, -6.1959, -6.196, -6.1986, -4.5233, -5.2421, -2.9681, -4.7076, -3.5661, -4.2401, -5.5026, -5.1118, -3.655, -4.7609, -5.3518, -3.9439, -5.5574, -4.2096, -5.1786, -4.2073, -5.2, -5.3063, -5.1533, -4.6354, -5.1706, -5.0689, -4.7967, -4.6119, -4.7741, -5.1737, -4.7945, -4.9871, -5.0972, -5.071, -5.1139, -5.1372, -2.7452, -2.9703, -4.9006, -4.9058, -5.4163, -5.5546, -5.6334, -5.8351, -5.8689, -5.8981, -4.7069, -6.1619, -6.1737, -6.1817, -6.2173, -6.2589, -6.2859, -6.3923, -6.4036, -4.9262, -5.8604, -6.4947, -6.5275, -6.5403, -6.5931, -6.7056, -6.7429, -6.7615, -6.7903, -6.7911, -4.8554, -4.1106, -5.0649, -5.7248, -5.3182, -4.1364, -5.7597, -4.7474, -4.9893, -4.0972, -4.492, -5.1273, -5.6895, -3.6713, -5.4392, -4.8103, -4.5807, -4.172, -4.4276, -4.3985, -4.5079, -4.6411, -4.6216, -5.1059, -5.0424, -5.063, -4.9136, -5.1864, -5.1708, -5.1823, -4.2978, -4.3784, -4.4927, -4.5201, -4.9, -5.1497, -5.209, -5.2543, -3.9738, -5.3573, -5.3729, -5.4432, -5.534, -5.5342, -5.5674, -5.7667, -5.8803, -5.8872, -5.9423, -5.9706, -5.9745, -6.0434, -6.0446, -6.0656, -4.9743, -6.0895, -6.1521, -6.2247, -5.0157, -6.3682, -3.7488, -4.7681, -4.9641, -4.394, -4.1761, -4.4001, -4.925, -4.3243, -4.1274, -5.7067, -4.5201, -3.3647, -4.4213, -5.0198, -4.0584, -4.7447, -4.8735, -4.5245, -4.4535, -4.6939, -4.9539, -4.7995, -5.0113, -3.7984, -4.3705, -4.5024, -4.6888, -4.6955, -4.7104, -5.1289, -5.145, -5.2523, -5.2798, -5.2984, -5.5089, -5.6795, -5.6928, -5.7104, -5.7184, -5.7283, -5.844, -5.8542, -5.9296, -5.9348, -5.9507, -3.7243, -6.2009, -6.2176, -6.2176, -6.2501, -6.2712, -6.2712, -6.3248, -4.1696, -3.9136, -5.4458, -4.7452, -4.5722, -3.7719, -4.0225, -3.9782, -5.3945, -4.044, -4.1544, -3.9477, -4.4463, -4.3958, -4.2002, -4.4432, -5.359, -4.7759, -5.1257, -5.0489, -5.2331, -5.2367, -2.2809, -3.4199, -4.1942, -4.2276, -2.8952, -7.3559, -3.3379, -7.7387, -3.8849, -4.2791, -3.9914, -3.9423, -3.5911, -7.317, -4.1627, -3.4566, -10.3697, -10.3704, -10.3704, -10.3717, -10.3718, -10.3718, -10.3719, -10.3719, -10.3719, -10.3719, -10.3719, -10.3719, -10.3719, -10.3719, -3.7262, -4.3536, -3.1833, -3.4406, -3.7354, -4.5529, -4.9229, -5.0182, -5.0611, -5.0693, -5.2799, -5.5215, -5.6109, -5.693, -4.3347, -3.7247, -6.0128, -6.0896, -6.2079, -6.2124, -6.2645, -6.3067, -6.3311, -6.3955, -6.4718, -6.4718, -6.4936, -3.1741, -6.5569, -6.6021, -6.6368, -6.6612, -3.8526, -5.5793, -3.9901, -5.1311, -4.5318, -4.7195, -5.3844, -5.9294, -5.8259, -6.0848, -6.0054, -3.8167, -4.0221, -4.1577, -4.2545, -4.2751, -4.5028, -4.8504, -5.0074, -4.2776, -5.2291, -5.2507, -3.8475, -4.4115, -5.776, -5.8992, -6.0512, -6.0512, -6.0512, -6.4814, -6.9159, -7.1216, -5.8986, -4.0231, -10.0183, -10.0183, -10.0184, -10.0184, -10.0184, -10.0184, -10.0184, -10.0172, -10.018, -10.0184, -10.0184, -3.3543, -3.4138, -4.3871, -4.6933, -4.8861, -4.9902, -5.2122, -5.4243, -5.6179, -5.6195, -5.6575, -5.6646, -6.1931, -6.2042, -6.271, -6.3381, -4.4301, -6.4628, -6.4713, -6.8539, -2.6907, -3.1229, -5.4924, -4.4974, -5.465, -6.2718, -10.1409, -10.1413, -10.1413, -10.1414, -6.7632, -5.6626, -6.0283, -6.5179, -6.3248], \"loglift\": [30.0, 29.0, 28.0, 27.0, 26.0, 25.0, 24.0, 23.0, 22.0, 21.0, 20.0, 19.0, 18.0, 17.0, 16.0, 15.0, 14.0, 13.0, 12.0, 11.0, 10.0, 9.0, 8.0, 7.0, 6.0, 5.0, 4.0, 3.0, 2.0, 1.0, 2.0288, 2.0277, 2.0268, 2.0263, 2.0255, 2.0245, 2.0225, 2.0218, 2.019, 2.0172, 2.0166, 2.0144, 2.014, 2.0138, 2.011, 2.0107, 2.0098, 2.0079, 2.0079, 2.0075, 2.0059, 2.0056, 2.0052, 2.0044, 2.0043, 2.0042, 2.0037, 2.0033, 2.0, 1.9998, 1.9855, 1.9422, 1.9693, 1.987, 1.9342, 1.9166, 1.9276, 1.9703, 1.9422, 1.9059, 1.7544, 1.9375, 1.9591, 1.9413, 1.7457, 1.7704, 1.8597, 1.6719, 1.8441, 1.8383, 1.3954, 1.6135, 1.563, 1.1754, 1.16, 1.0951, 0.9049, 1.0726, 1.1095, 1.2107, 0.8624, 1.3352, 1.0963, 1.1332, 1.0421, 1.0207, 0.6005, 0.6672, 1.0525, 1.0625, 0.4292, 0.9495, 2.08, 2.0757, 2.0757, 2.074, 2.0726, 2.0715, 2.0714, 2.0685, 2.0675, 2.0674, 2.0665, 2.0631, 2.0629, 2.0629, 2.0627, 2.0625, 2.0613, 2.0606, 2.06, 2.06, 2.0584, 2.0558, 2.0556, 2.0555, 2.0554, 2.0544, 2.053, 2.0522, 2.0519, 2.0516, 2.044, 2.0237, 1.9725, 2.0213, 1.969, 1.832, 1.7584, 1.9481, 1.9212, 1.7074, 1.8376, 1.8878, 1.5215, 1.9104, 1.6496, 1.8176, 1.7466, 1.5924, 1.8599, 1.195, 1.0868, 1.6507, 1.051, 0.6961, 1.4549, 0.5503, 0.2873, 0.7619, 0.7814, 0.9397, 0.8497, 1.0702, 0.2081, 1.0059, 0.5699, 1.2464, 0.8082, 0.8972, 0.0859, 0.7381, 2.1191, 2.1161, 2.1125, 2.112, 2.1105, 2.1099, 2.1094, 2.1086, 2.108, 2.1071, 2.1051, 2.1038, 2.1031, 2.0999, 2.0995, 2.0973, 2.0967, 2.0965, 2.0964, 2.0962, 2.0961, 2.0961, 2.096, 2.0925, 2.0916, 2.0901, 2.09, 2.0892, 2.089, 2.0876, 2.0864, 2.0535, 2.0611, 1.9285, 2.061, 1.9213, 2.0034, 1.9168, 1.7744, 1.5664, 1.6424, 1.8527, 1.6012, 1.7021, 2.0318, 1.4372, 1.2664, 1.0714, 1.406, 1.0471, 1.2173, 1.5916, 1.1816, 0.8123, 1.4412, 0.8985, 0.8697, 0.8498, 1.0675, 0.7346, 1.1722, 0.4747, 0.5285, -0.1168, 0.1446, 0.4208, 0.6505, 0.2448, 0.2004, 2.1365, 2.1362, 2.1355, 2.1302, 2.1285, 2.1231, 2.1218, 2.1195, 2.1191, 2.115, 2.1146, 2.1141, 2.1138, 2.1131, 2.1124, 2.1119, 2.1112, 2.1111, 2.1099, 2.1097, 2.1084, 2.1049, 2.1019, 2.1018, 2.1008, 2.0989, 2.0976, 2.0969, 2.0966, 2.0964, 2.0856, 2.0933, 2.0834, 2.0488, 2.0644, 2.0103, 2.063, 2.0318, 1.9422, 1.9795, 2.047, 1.8398, 1.9159, 1.7676, 1.8576, 1.8436, 1.6494, 1.9678, 1.7277, 1.7255, 1.5435, 1.8871, 1.5587, 1.8954, 1.7573, 1.4234, 1.4728, 1.2199, 1.2966, 1.148, 1.3772, 1.2726, 1.5286, 0.8336, 1.1489, 1.1142, 1.2485, 0.813, 1.0748, 0.3504, 0.6, 1.0782, 0.6794, 1.3038, 0.3312, 0.9449, 0.5704, 1.0062, 0.4781, 2.3534, 2.3499, 2.3452, 2.3439, 2.3435, 2.3431, 2.3415, 2.3396, 2.338, 2.3376, 2.3371, 2.3365, 2.336, 2.3353, 2.3351, 2.3346, 2.3319, 2.3309, 2.3308, 2.3267, 2.326, 2.3251, 2.325, 2.3239, 2.3236, 2.3224, 2.3222, 2.3222, 2.3213, 2.3189, 2.2784, 2.2807, 2.0975, 2.1912, 2.2638, 1.9432, 2.0817, 2.2427, 1.896, 2.0398, 2.036, 2.0993, 1.7035, 2.1255, 1.7529, 1.9981, 1.5175, 1.8629, 0.9492, 1.9523, 0.9257, 1.4783, 1.1578, 1.8931, 0.7, 1.0208, 0.3995, 1.3992, 1.3096, 0.0257, 1.2033, 0.9336, 0.1779, 0.101, 0.0702, 0.7492, 0.8594, 2.5373, 2.5368, 2.5303, 2.5297, 2.529, 2.5242, 2.5225, 2.5197, 2.5196, 2.5155, 2.5154, 2.5117, 2.5114, 2.5108, 2.5087, 2.5076, 2.5073, 2.5071, 2.5056, 2.5015, 2.5011, 2.4982, 2.498, 2.497, 2.4952, 2.4929, 2.491, 2.4894, 2.4848, 2.4818, 2.4685, 2.0767, 1.9388, 2.3229, 2.3055, 2.1637, 2.1637, 2.2469, 2.0194, 2.1064, 1.8993, 2.009, 2.1136, 1.5629, 1.8954, 1.478, 1.62, 1.4182, 1.4458, 1.5645, 1.5203, 1.8966, 0.9136, 1.2923, 1.797, 1.1417, 1.1781, 0.9241, 0.9492, 1.0721, 1.0937, 0.8532, 0.554, 0.7523, 1.3709, 0.4123, 0.342, 2.9169, 2.916, 2.9112, 2.9103, 2.9059, 2.9049, 2.9024, 2.8972, 2.8968, 2.8967, 2.8952, 2.8923, 2.892, 2.8912, 2.8911, 2.8908, 2.8894, 2.8885, 2.8864, 2.8859, 2.8855, 2.8853, 2.8844, 2.8827, 2.8787, 2.8785, 2.8781, 2.8749, 2.8746, 2.8722, 2.8699, 2.8284, 2.7903, 2.787, 2.8134, 2.7932, 2.6113, 2.6158, 2.5124, 2.789, 2.5472, 2.2723, 2.2858, 1.4059, 1.7315, 1.9309, 2.0215, 2.2081, 1.6033, 1.1209, 1.8032, 0.5682, 0.7676, 0.6996, 0.9763, 1.2187, 1.2892, 0.2571, 2.9175, 2.9158, 2.9153, 2.9111, 2.911, 2.9108, 2.9105, 2.9076, 2.905, 2.9045, 2.9044, 2.9005, 2.8998, 2.8972, 2.895, 2.8917, 2.8906, 2.8895, 2.8888, 2.8866, 2.8817, 2.8803, 2.8799, 2.8744, 2.874, 2.8728, 2.8686, 2.8683, 2.8667, 2.8657, 2.8519, 2.8649, 2.8445, 2.8191, 2.7541, 2.7722, 2.8316, 2.7059, 2.6875, 2.5502, 2.5456, 2.6666, 2.1297, 2.2881, 2.3654, 2.1021, 2.1538, 1.8744, 2.4706, 1.9774, 1.7604, 1.5321, 0.7318, 1.6934, 1.1439, 0.349, 1.5057, 1.5448, 1.1033, 2.9612, 2.9559, 2.9556, 2.9556, 2.9518, 2.9511, 2.951, 2.9467, 2.9451, 2.9436, 2.9415, 2.9409, 2.9409, 2.9396, 2.9388, 2.9381, 2.9266, 2.9236, 2.9159, 2.9156, 2.9113, 2.9075, 2.9066, 2.9046, 2.9023, 2.8999, 2.8993, 2.8935, 2.8921, 2.8919, 2.8837, 2.7796, 2.8419, 2.6109, 2.78, 2.7154, 2.4202, 2.7672, 2.7751, 2.745, 2.7545, 2.7953, 2.4541, 2.3743, 2.3614, 2.0859, 2.5594, 2.36, 2.2191, 2.2985, 1.9008, 1.6878, 2.0339, 1.3889, 1.8235, 1.4073, 1.7063, 1.2088, 1.6112, 2.0175, 1.2916, 2.0468, 1.9378, 1.1823, 1.1031, 0.9556, 1.4358, 1.3139, 0.6274, 1.4407, 0.997, 0.2653, 2.988, 2.9861, 2.984, 2.98, 2.9799, 2.9776, 2.9775, 2.9771, 2.9735, 2.9695, 2.9682, 2.9652, 2.9642, 2.9622, 2.9606, 2.9589, 2.9587, 2.9565, 2.9557, 2.955, 2.9544, 2.9534, 2.9503, 2.949, 2.9467, 2.9462, 2.9455, 2.9448, 2.9431, 2.9421, 2.9295, 2.9125, 2.9104, 2.8593, 2.8774, 2.7447, 2.8027, 2.747, 2.8382, 2.7154, 2.8495, 2.7579, 2.7117, 2.7582, 2.4549, 2.2308, 2.5361, 2.6751, 2.3849, 1.8365, 2.4826, 1.9697, 1.8365, 2.6187, 1.5127, 1.9658, 1.6899, 2.5272, 2.0658, 1.5596, 2.1411, 2.2474, 1.1097, 1.6688, 1.6086, 2.0641, 1.9082, 1.0297, 0.2585, 0.3921, 0.6633, 3.2879, 3.2869, 3.2748, 3.2668, 3.2668, 3.2655, 3.2654, 3.2635, 3.2635, 3.2635, 3.262, 3.2617, 3.2612, 3.2586, 3.2578, 3.2569, 3.2558, 3.2495, 3.2402, 3.2402, 3.2396, 3.2394, 3.238, 3.2314, 3.2281, 3.227, 3.2269, 3.2247, 3.2237, 3.2231, 3.1162, 3.1446, 3.0445, 3.0902, 3.0764, 2.9771, 2.9195, 3.0364, 2.6628, 2.9248, 3.0836, 2.5382, 2.5569, 2.6872, 2.6452, 2.4267, 1.7616, 2.7721, 2.0641, 2.0835, 1.4012, 2.1372, 1.2917, 1.793, 1.8872, 2.2189, 1.5436, 1.0716, 1.8417, 1.6803, 0.7119, 1.0076, 0.0671, 3.3385, 3.3373, 3.3366, 3.3353, 3.3218, 3.3197, 3.3172, 3.3126, 3.3082, 3.2966, 3.2953, 3.2888, 3.2851, 3.281, 3.2778, 3.2755, 3.2735, 3.2717, 3.2698, 3.2667, 3.2605, 3.2601, 3.2598, 3.2576, 3.2449, 3.243, 3.2422, 3.2421, 3.2419, 3.2412, 3.2324, 3.1595, 3.2073, 3.0394, 2.9731, 3.1118, 3.0163, 3.0941, 2.6421, 2.3308, 2.3837, 2.189, 3.0682, 2.2432, 2.3305, 2.6946, 2.3156, 2.328, 2.6719, 2.5505, 2.1229, 1.1324, 1.7077, 1.9062, 1.331, 1.2635, 1.1206, 1.5397, 1.4017, 1.1142, 1.7023, 1.3056, 0.9364, 1.3792, 1.622, 1.1604, 1.4039, 3.9579, 3.9528, 3.9512, 3.9424, 3.9341, 3.9297, 3.9226, 3.9191, 3.9189, 3.9138, 3.913, 3.9115, 3.9051, 3.9038, 3.902, 3.8981, 3.898, 3.8977, 3.8968, 3.8903, 3.8902, 3.8884, 3.884, 3.8839, 3.882, 3.8812, 3.8797, 3.8797, 3.8795, 3.8735, 3.8719, 3.7032, 3.6491, 3.4034, 3.4552, 3.7224, 3.5528, 2.8707, 3.231, 3.5199, 2.5152, 3.6075, 2.4604, 2.9284, 1.4551, 2.8916, 2.9964, 2.6928, 1.619, 2.6722, 2.4146, 1.7008, 1.1139, 1.2331, 2.5651, 1.0502, 1.0489, 1.7934, 1.3382, 0.5474, 0.6601, 4.4923, 4.4808, 4.4797, 4.4795, 4.4533, 4.4438, 4.4378, 4.4203, 4.4171, 4.4142, 4.4036, 4.3843, 4.3828, 4.3817, 4.3771, 4.3714, 4.3677, 4.3519, 4.3501, 4.3379, 4.3376, 4.3354, 4.3297, 4.3275, 4.3181, 4.2965, 4.2889, 4.2843, 4.279, 4.2788, 4.2443, 4.1841, 4.1342, 4.0954, 4.009, 3.6269, 4.0771, 3.6563, 3.6535, 3.1225, 3.2129, 3.428, 3.8692, 1.9556, 3.5948, 2.8316, 2.3811, 1.5302, 1.8253, 1.3988, 1.5669, 1.7424, 1.6271, 2.3318, 2.0128, 2.0886, 1.2019, 2.3581, 1.6963, 0.8537, 4.6983, 4.696, 4.6924, 4.6915, 4.676, 4.6623, 4.6575, 4.6556, 4.6484, 4.6482, 4.647, 4.6415, 4.6339, 4.6339, 4.6309, 4.6111, 4.5982, 4.5973, 4.5905, 4.5869, 4.5864, 4.5772, 4.577, 4.5741, 4.5737, 4.5707, 4.5614, 4.5501, 4.5324, 4.5255, 4.3844, 4.383, 4.3499, 4.0618, 3.8452, 3.9246, 4.0634, 3.6591, 3.2056, 4.395, 3.2807, 2.1147, 2.7278, 3.4082, 1.5686, 2.7974, 2.8682, 1.8847, 1.5314, 2.0353, 3.0214, 0.756, 2.2084, 4.9832, 4.9664, 4.961, 4.9521, 4.9518, 4.951, 4.9238, 4.9226, 4.9136, 4.9111, 4.9095, 4.8882, 4.8679, 4.8661, 4.8638, 4.8628, 4.8614, 4.8451, 4.8436, 4.832, 4.8312, 4.8286, 4.7905, 4.7835, 4.7802, 4.7802, 4.7735, 4.7691, 4.7691, 4.7576, 4.7191, 4.6689, 4.7309, 4.6932, 4.6252, 3.9367, 3.9313, 3.5449, 4.4186, 3.179, 2.8698, 2.6202, 2.858, 2.0873, 1.56, 0.7664, 3.7642, 1.4593, 1.9834, 1.141, 2.0276, 1.1176, 5.8285, 5.8045, 5.7643, 5.7618, 5.5064, 4.7896, 4.573, 4.5247, 4.4311, 4.358, 4.3114, 3.9005, 3.4982, 3.3049, 2.8137, 2.6658, 2.1802, 2.1794, 2.1794, 2.1782, 2.1782, 2.1781, 2.1781, 2.1781, 2.1781, 2.1781, 2.1781, 2.178, 2.178, 2.178, 1.9717, 1.6543, 5.8159, 5.8078, 5.7956, 5.7374, 5.693, 5.679, 5.6724, 5.6711, 5.6346, 5.5842, 5.563, 5.5422, 5.4952, 5.4594, 5.4485, 5.4228, 5.3805, 5.3788, 5.3591, 5.3427, 5.333, 5.3067, 5.2743, 5.2743, 5.2648, 5.2616, 5.2364, 5.2156, 5.1992, 5.1875, 5.0085, 5.0441, 4.7562, 4.7341, 3.9258, 3.2206, 3.1861, 3.9925, 3.1528, 3.9744, 3.4026, 6.0278, 6.0131, 6.0017, 5.9927, 5.9907, 5.9657, 5.9166, 5.8892, 5.8654, 5.844, 5.8392, 5.7749, 5.7395, 5.6943, 5.6519, 5.5949, 5.5949, 5.5948, 5.403, 5.1625, 5.0329, 4.4965, 4.4693, 2.5316, 2.5316, 2.5316, 2.5316, 2.5316, 2.5316, 2.5316, -2.0244, -0.263, -0.9679, -0.346, 6.1277, 6.1249, 6.0487, 6.0073, 5.9752, 5.9556, 5.9079, 5.8541, 5.7973, 5.7968, 5.7847, 5.7824, 5.5788, 5.5738, 5.5431, 5.5111, 5.5053, 5.4487, 5.4443, 5.2281, 4.57, 4.183, 3.9264, 3.8315, 2.8366, 2.7866, 2.409, 2.4087, 2.4086, 2.4085, 1.8134, 1.3616, 1.0529, 1.0723, 0.4117]}, \"token.table\": {\"Topic\": [19, 9, 18, 15, 16, 4, 5, 6, 9, 10, 12, 15, 13, 10, 9, 6, 18, 3, 12, 2, 5, 9, 2, 18, 11, 18, 1, 2, 4, 6, 7, 8, 9, 11, 9, 15, 3, 15, 3, 14, 3, 14, 11, 18, 1, 2, 13, 6, 10, 16, 1, 2, 3, 4, 6, 9, 10, 13, 1, 2, 3, 6, 7, 10, 12, 14, 11, 1, 13, 14, 15, 15, 1, 2, 3, 4, 5, 6, 7, 8, 10, 12, 13, 14, 13, 1, 2, 3, 4, 6, 1, 2, 6, 6, 3, 3, 4, 5, 17, 16, 1, 2, 3, 4, 5, 6, 10, 17, 2, 17, 17, 1, 2, 11, 12, 14, 9, 19, 11, 2, 4, 6, 10, 6, 7, 4, 5, 4, 1, 2, 3, 4, 7, 8, 11, 12, 4, 6, 9, 10, 16, 3, 7, 15, 15, 5, 8, 8, 4, 1, 4, 5, 7, 8, 16, 1, 5, 7, 1, 2, 3, 5, 6, 7, 9, 12, 15, 3, 5, 12, 2, 3, 4, 9, 13, 2, 11, 5, 3, 5, 15, 16, 3, 7, 3, 7, 9, 2, 5, 10, 6, 10, 15, 5, 8, 17, 1, 3, 7, 14, 19, 6, 10, 11, 1, 2, 3, 4, 9, 1, 10, 3, 1, 2, 3, 4, 5, 7, 8, 10, 12, 13, 15, 15, 2, 3, 10, 1, 2, 3, 5, 6, 10, 11, 15, 1, 2, 3, 5, 6, 8, 15, 14, 16, 6, 18, 11, 13, 1, 2, 13, 14, 15, 13, 2, 3, 4, 6, 8, 9, 11, 12, 13, 2, 11, 7, 6, 5, 1, 3, 6, 8, 9, 10, 9, 11, 1, 5, 1, 14, 1, 14, 1, 2, 3, 4, 5, 6, 7, 8, 9, 11, 12, 13, 1, 2, 9, 11, 13, 2, 1, 2, 3, 4, 5, 6, 7, 9, 10, 11, 13, 15, 7, 3, 6, 16, 1, 2, 3, 4, 5, 6, 7, 8, 10, 2, 3, 4, 7, 9, 12, 3, 11, 11, 16, 16, 6, 6, 6, 15, 9, 15, 3, 11, 2, 3, 4, 5, 6, 7, 8, 9, 11, 2, 3, 4, 6, 7, 9, 12, 13, 16, 6, 5, 8, 5, 1, 9, 11, 19, 12, 12, 1, 2, 6, 1, 2, 3, 4, 5, 6, 7, 8, 9, 10, 11, 12, 13, 19, 1, 2, 3, 4, 5, 6, 8, 11, 15, 16, 13, 13, 5, 5, 2, 3, 4, 5, 6, 7, 9, 10, 11, 17, 2, 4, 5, 7, 2, 2, 12, 1, 7, 14, 3, 5, 12, 14, 3, 4, 9, 1, 2, 3, 6, 4, 4, 5, 4, 5, 6, 12, 1, 2, 4, 5, 6, 7, 8, 9, 10, 15, 16, 2, 4, 7, 9, 1, 2, 5, 9, 18, 12, 4, 19, 1, 2, 3, 4, 5, 6, 8, 9, 10, 12, 13, 16, 1, 11, 11, 7, 3, 17, 2, 4, 9, 11, 12, 2, 9, 11, 1, 2, 3, 10, 3, 12, 4, 12, 3, 4, 5, 1, 2, 4, 5, 6, 8, 5, 7, 20, 2, 3, 7, 8, 12, 11, 10, 12, 6, 2, 2, 8, 3, 5, 11, 3, 15, 5, 8, 8, 9, 3, 19, 13, 1, 2, 3, 8, 10, 16, 5, 3, 10, 19, 1, 2, 4, 5, 8, 14, 4, 15, 2, 5, 6, 1, 3, 5, 8, 15, 20, 2, 3, 4, 5, 6, 8, 9, 12, 13, 2, 2, 4, 5, 6, 8, 9, 12, 2, 4, 5, 2, 16, 7, 16, 16, 16, 10, 15, 14, 5, 9, 1, 2, 3, 4, 5, 6, 7, 8, 9, 11, 12, 13, 3, 8, 1, 2, 3, 4, 6, 7, 8, 11, 13, 16, 2, 3, 7, 9, 11, 12, 15, 14, 1, 1, 2, 3, 4, 5, 6, 8, 10, 11, 14, 8, 15, 1, 5, 7, 16, 2, 14, 15, 1, 2, 3, 4, 5, 6, 7, 8, 10, 11, 13, 1, 2, 3, 4, 5, 7, 9, 10, 11, 12, 3, 4, 5, 12, 11, 3, 5, 8, 12, 9, 4, 12, 7, 3, 13, 17, 17, 2, 5, 11, 17, 12, 2, 15, 1, 3, 6, 7, 9, 16, 14, 2, 3, 4, 5, 13, 14, 6, 12, 1, 2, 3, 4, 5, 8, 1, 2, 3, 4, 5, 13, 14, 16, 1, 5, 10, 2, 3, 4, 5, 6, 7, 9, 13, 13, 3, 12, 13, 11, 1, 2, 3, 4, 5, 6, 7, 8, 10, 2, 3, 10, 11, 1, 2, 5, 6, 9, 10, 14, 14, 13, 16, 3, 9, 1, 2, 3, 4, 6, 7, 8, 9, 13, 14, 16, 1, 2, 3, 4, 8, 11, 19, 9, 2, 5, 2, 3, 4, 6, 8, 10, 12, 16, 2, 11, 18, 1, 2, 5, 6, 7, 8, 9, 12, 16, 1, 2, 3, 5, 6, 12, 1, 2, 3, 4, 5, 6, 7, 8, 9, 10, 11, 14, 12, 1, 2, 5, 15, 1, 2, 3, 6, 8, 10, 11, 2, 1, 2, 5, 4, 7, 10, 12, 16, 7, 16, 5, 7, 16, 7, 7, 16, 15, 9, 20, 20, 3, 5, 7, 10, 16, 8, 15, 16, 4, 5, 7, 10, 1, 2, 3, 4, 5, 8, 10, 11, 12, 13, 1, 6, 8, 11, 13, 2, 1, 2, 3, 5, 6, 10, 12, 20, 8, 1, 2, 3, 8, 9, 10, 12, 1, 2, 3, 6, 9, 11, 13, 20, 1, 9, 11, 13, 1, 7, 9, 11, 12, 1, 13, 14, 7, 9, 1, 3, 14, 1, 2, 3, 4, 5, 6, 7, 8, 9, 10, 9, 15, 1, 3, 4, 5, 7, 11, 1, 2, 3, 4, 5, 8, 9, 10, 12, 1, 2, 3, 4, 5, 8, 11, 14, 19, 9, 15, 7, 12, 5, 8, 15, 16, 1, 5, 14, 1, 2, 3, 4, 5, 6, 7, 8, 10, 11, 1, 1, 6, 10, 3, 4, 12, 4, 4, 9, 15, 1, 2, 3, 4, 12, 15, 2, 12, 2, 4, 8, 6, 8, 10, 8, 8, 15, 7, 11, 13, 17, 8, 19, 1, 2, 11, 18, 8, 7, 4, 1, 2, 3, 4, 5, 6, 7, 8, 10, 11, 13, 14, 17, 1, 2, 3, 4, 5, 6, 9, 10, 12, 2, 2, 4, 5, 9, 2, 4, 9, 11, 9, 2, 2, 9, 17, 1, 3, 4, 7, 9, 10, 20, 3, 5, 12, 4, 20, 4, 5, 8, 9, 12, 5, 12, 9, 6, 7, 5, 13, 6, 10, 5, 6, 13, 1, 2, 4, 5, 6, 1, 6, 1, 2, 3, 4, 5, 6, 9, 10, 13, 17, 15, 14, 6, 14, 1, 6, 8, 10, 18, 18, 18, 3, 5, 12, 16, 5, 5, 4, 1, 11, 4, 4, 13, 1, 6, 7, 11, 12, 15, 15, 2, 1, 2, 4, 5, 6, 10, 13, 14, 15, 5, 16, 8, 1, 2, 3, 4, 5, 6, 7, 9, 10, 12, 1, 2, 3, 4, 6, 7, 9, 12, 13, 1, 2, 3, 4, 5, 6, 7, 8, 9, 10, 11, 12, 14, 16, 8, 3, 4, 5, 12, 3, 18, 18, 18, 18, 18, 18, 1, 1, 11, 1, 12, 9, 1, 3, 4, 5, 10, 12, 13, 12, 1, 6, 11, 12, 13, 14, 15, 1, 14, 15, 5, 20, 3, 10, 7, 14, 4, 1, 2, 3, 4, 5, 6, 7, 9, 10, 8, 16, 4, 7, 15, 3, 3, 19, 5, 2, 3, 14, 2, 3, 14, 1, 1, 2, 5, 6, 9, 11, 2, 5, 7, 9, 1, 2, 3, 5, 6, 7, 9, 10, 11, 12, 14, 15, 16, 12, 9, 9, 12, 6, 1, 2, 3, 4, 5, 6, 7, 8, 9, 10, 11, 12, 13, 13, 7, 7, 10, 1, 14, 18, 14, 2, 5, 7, 11, 13, 3, 7, 9, 3, 3, 7, 1, 2, 12, 14, 16, 11, 8, 10, 1, 6, 8, 10, 1, 5, 6, 8, 13, 1, 5, 6, 7, 8, 10, 11, 13, 12, 13, 10, 12, 1, 2, 3, 8, 10, 12, 15, 9, 1, 2, 6, 3, 18, 1, 18, 18, 19, 1, 8, 8, 19, 2, 3, 6, 18, 16, 6, 11, 7, 7, 16, 1, 10, 18, 18, 2, 4, 5, 6, 7, 8, 9, 13, 1, 2, 4, 1, 1, 2, 4, 5, 18, 1, 2, 5, 7, 8, 16, 20, 12, 3, 12, 1, 2, 3, 5, 6, 10, 11, 12, 13, 14, 15, 18, 12, 3, 12, 11, 1, 2, 3, 4, 5, 6, 7, 8, 10, 15, 14, 3, 7, 5, 6, 10, 3, 8, 20, 2, 3, 4, 5, 20, 5, 4, 5, 7, 8, 12, 1, 4, 5, 7, 8, 11, 6, 10, 1, 2, 3, 4, 7, 8, 10, 11, 13, 2, 2, 16, 7, 3, 19, 2, 2, 4, 6, 7, 9, 12, 2, 4, 6, 18, 8, 7, 13, 9, 1, 3, 7, 11, 13, 14, 15, 14, 2, 3, 4, 5, 6, 7, 8, 10, 15, 8, 4, 3, 11, 3, 13, 10, 1, 2, 3, 4, 5, 10, 1, 2, 11, 4, 4, 1, 2, 3, 4, 5, 7, 10, 12, 13, 14, 16, 4, 1, 2, 3, 4, 5, 6, 7, 8, 9, 10, 11, 13, 1, 2, 4, 7, 13, 15, 8, 2, 3, 4, 5, 6, 7, 8, 9, 10, 4, 10, 20, 11, 11, 11, 9, 1, 2, 14, 19, 19, 1, 1, 3, 6, 4, 6, 1, 2, 5, 13, 15, 13, 13, 2, 1, 2, 5, 6, 2, 14, 2, 3, 6, 10, 12, 13, 3, 7, 9, 14, 2, 3, 4, 5, 6, 8, 10, 3, 1, 11, 18, 1, 13, 18, 4, 6, 10, 2, 4, 5, 7, 1, 3, 4, 5, 6, 7, 8, 9, 11, 13, 20, 1, 2, 3, 4, 5, 6, 9, 11, 12, 10, 1, 2, 4, 7, 8, 9, 11, 14, 16, 3, 3, 4, 5, 7, 8, 1, 2, 3, 4, 5, 9, 10, 12, 7, 9, 4, 12, 11, 10, 3, 7, 10, 16, 16, 4, 10, 16, 11, 18, 8, 18, 20, 3, 12, 20, 2, 4, 9, 11, 2, 3, 4, 5, 7, 9, 12, 16, 3, 3, 3, 4, 7, 16, 18, 14, 3, 5, 10, 13, 13, 2, 5, 13, 1, 2, 3, 4, 5, 6, 7, 8, 9, 11, 15, 11, 3, 4, 5, 8, 10, 2, 11, 2, 12, 18, 1, 2, 3, 4, 5, 6, 7, 8, 9, 13, 14, 20, 5, 5, 10, 4, 9, 9, 1, 2, 7, 10, 1, 4, 5, 6, 7, 8, 9, 10, 4, 8, 7, 6, 1, 3, 6, 1, 2, 3, 4, 5, 6, 8, 9, 10, 12, 13, 16, 2, 4, 5, 7, 8, 10, 12, 3, 7, 2, 7, 12, 5, 10, 6, 1, 3, 4, 5, 7, 11, 20, 9, 2, 3, 5, 18, 4, 5, 1, 2, 6, 2, 3, 4, 5, 9, 11, 12, 2, 4, 5, 14, 9, 2, 3, 4, 5, 6, 7, 8, 9, 11, 4, 5, 7, 2, 5, 1, 7, 9, 9, 7, 10, 13, 8, 12, 2, 3, 8, 13, 14, 1, 2, 3, 4, 5, 7, 10, 11, 12, 5, 1, 1, 1, 2, 3, 4, 5, 6, 7, 9, 10, 11, 13, 16, 5, 6, 1, 3, 4, 7, 8, 13, 15, 7, 6, 7, 8, 9, 10, 1, 3, 5, 6, 7, 12, 14, 5, 10, 16, 20, 20, 3, 3, 4, 6, 10, 1, 2, 11, 3, 6, 6, 16, 1, 2, 3, 4, 5, 6, 7, 8, 9, 10, 13, 15, 4, 1, 2, 3, 4, 5, 6, 7, 9, 10, 13, 16, 2, 3, 5, 7, 9, 12, 11, 15, 1, 5, 9, 10, 10, 2, 5, 2, 18, 18, 4, 12, 2, 2, 5, 13, 13, 13, 2, 3, 4, 5, 6, 8, 9, 4, 6, 2, 3, 4, 5, 6, 10, 3, 9, 20, 3, 7, 7, 13, 1, 11, 5, 8, 7, 2, 3, 5, 6, 9, 10, 12, 19, 7, 8, 18, 8, 12, 1, 3, 10, 12, 2, 3, 4, 5, 6, 8, 10, 13, 6, 7, 16, 1, 2, 3, 5, 6, 8, 12, 13, 1, 2, 3, 5, 6, 7, 8, 9, 11, 12, 5, 2, 4, 5, 2, 5, 9, 10, 13, 7, 8, 19, 9, 1, 2, 3, 4, 5, 6, 7, 8, 12, 13, 1, 4, 5, 8, 13, 15, 6, 10, 7, 12, 5, 14, 8, 2, 3, 5, 7, 2, 3, 4, 5, 6, 13, 14, 1, 2, 3, 4, 5, 6, 7, 8, 9, 10, 11, 13, 6, 10, 20, 2, 9, 2, 3, 4, 1, 1, 2, 10, 4, 5, 6, 8, 10, 13, 4, 5, 6, 7, 3, 2, 3, 12, 12, 12, 16, 19, 14, 1, 3, 14, 2, 8, 10, 3, 4, 1, 3, 4, 6, 9, 10, 11, 10, 20, 7, 8, 6, 1, 2, 3, 4, 5, 6, 7, 8, 9, 10, 11, 14, 9, 14, 1, 14, 14, 5, 7, 8, 7, 4, 8, 7, 14, 4, 7, 8, 13, 5, 6, 2, 3, 4, 5, 6, 8, 9, 6, 5, 6, 1, 2, 3, 7, 8, 14, 15, 1, 2, 3, 4, 5, 6, 10, 11, 12, 17, 2, 3, 4, 5, 15, 15, 3, 15, 1, 2, 3, 6, 7, 9, 10, 4, 2, 3, 6, 12, 6, 7, 2, 5, 11, 3, 5, 2, 4, 6, 9, 13, 8, 1, 13, 6, 7, 9, 10, 2, 1, 2, 4, 5, 6, 7, 11, 13, 17, 1, 2, 3, 4, 5, 6, 7, 8, 9, 10, 11, 10, 1, 2, 3, 5, 7, 12, 16, 1, 2, 3, 10, 13, 1, 3, 6, 8, 14, 6, 8, 2, 18, 1, 6, 7, 1, 2, 3, 4, 5, 6, 7, 9, 11, 12, 13, 4, 16, 11, 7, 13, 3, 5, 7, 8, 12, 5, 5, 15, 5, 7, 16, 16, 15, 1, 3, 5, 6, 7, 8, 9, 10, 12, 1, 14, 1, 14, 1, 2, 4, 5, 6, 7, 8, 9, 10, 11, 13, 2, 4, 2, 4, 2, 13, 4, 20, 5, 4, 20, 1, 2, 12, 13, 14, 4, 5, 10, 16, 20, 8, 19, 2, 3, 8, 12, 1, 2, 9, 15, 20, 18, 14, 18, 18, 1, 2, 3, 7, 12, 14, 15, 1, 2, 3, 4, 6, 7, 8, 9, 12, 1, 3, 4, 5, 6, 7, 9, 13, 2, 3, 6, 9, 13, 7, 1, 2, 3, 5, 11, 12, 15, 1, 3, 6, 14, 1, 13, 2, 8, 2, 6, 8, 1, 2, 3, 4, 5, 7, 10, 1, 2, 5, 8, 4, 1, 1, 6, 8, 1, 2, 3, 4, 6, 9, 10, 11, 16, 2, 3, 4, 5, 6, 7, 8, 9, 2, 4, 12, 20, 3, 2, 8, 8, 1, 5, 2, 1, 4, 5, 6, 9, 10, 11, 12, 2, 4, 5, 8, 5, 2, 4, 5, 8, 11, 1, 7, 14, 1, 14, 1, 4, 6, 10, 1, 3, 5, 6, 8, 1, 11, 14, 4, 6, 8, 10, 11, 11, 1, 7, 11, 1, 5, 12, 1, 13, 16, 13, 6, 4, 6, 1, 9, 1, 2, 3, 5, 6, 7, 8, 10, 12, 13, 14, 1, 3, 4, 5, 6, 8, 10, 14, 14, 5, 1, 16, 1, 3, 4, 17, 1, 3, 10, 1, 2, 4, 5, 7, 8, 9, 15, 20, 3, 4, 10, 7, 1, 2, 6, 7, 1, 10, 8, 2, 4, 5, 8, 9, 10, 11, 1, 1, 2, 3, 5, 6, 7, 8, 10, 12, 14, 3, 12, 1, 4, 5, 6, 9, 10, 12, 13, 16, 16, 13, 2, 3, 4, 5, 6, 8, 10, 10, 1, 5, 7, 9, 5, 6, 8, 9, 18, 1, 2, 7, 15, 2, 9, 11, 16, 1, 3, 4, 5, 8, 13, 1, 2, 3, 4, 5, 6, 7, 8, 10, 11, 1, 2, 3, 4, 5, 6, 10, 14, 1, 2, 3, 4, 6, 7, 8, 9, 12, 13, 14, 1, 2, 3, 4, 5, 6, 7, 8, 10, 12, 1, 2, 3, 5, 8, 4, 5, 9, 11, 2, 3, 4, 5, 7, 12, 13, 10, 4, 5, 20, 2, 5, 6, 7, 9, 13, 2, 15, 1, 5, 6, 6, 1, 2, 5, 6, 19, 19, 1, 2, 4, 11, 13, 15, 1, 11, 15, 10, 10, 20, 1, 1, 3, 4, 6, 10, 1, 2, 4, 6, 7, 9, 10, 11, 12, 13, 1, 3, 4, 6, 9, 10, 11, 12, 2, 12, 1, 6, 9, 11, 12, 5, 6, 8, 10, 11, 13, 2, 6, 1, 11, 12, 1, 4, 8, 10, 9, 1, 2, 3, 4, 5, 6, 7, 10, 12, 14, 3, 12, 16, 4, 5, 8, 12, 8, 10, 1, 2, 3, 4, 5, 6, 13, 5, 6, 13], \"Freq\": [0.8507381649362875, 0.9344547486406485, 0.7056983531182548, 0.8124149172247505, 0.8799848552112064, 0.122806942139602, 0.08771924438543, 0.011695899251390666, 0.29239748128476667, 0.421052373050064, 0.05847949625695333, 0.9641454573797309, 0.8961414532807892, 0.9265121683567867, 0.9696753771263592, 0.9591622789262466, 0.7680847040348159, 0.6183470192592884, 0.3796867662118437, 0.29884444706896796, 0.31684712460324316, 0.38165676372663376, 0.8398489291078203, 0.13997482151797006, 0.9090218871153604, 0.8788474930538682, 0.10154036915504355, 0.008959444337209726, 0.13737814650388247, 0.029864814457365753, 0.0716755546976778, 0.032851295903102325, 0.3882425879457548, 0.23294555276745285, 0.8932359278618063, 0.8115667625426279, 0.9915726357883773, 0.9518382524648978, 0.03410709493391226, 0.9606831739718619, 0.9633411832325357, 0.9044057685016917, 0.9648040483864546, 0.807814875522612, 0.8908065536917107, 0.04143286296240515, 0.06510878465520809, 0.04961396346671959, 0.9364635604343322, 0.006201745433339949, 0.014930095580004969, 0.09331309737503105, 0.5076232497201689, 0.03359271505501118, 0.11197571685003727, 0.01866261947500621, 0.1866261947500621, 0.03359271505501118, 0.15216150416511834, 0.2853028203095969, 0.2567725382786372, 0.06340062673546598, 0.041210407378052885, 0.04755047005159948, 0.09193090876642566, 0.060230595398692674, 0.9738713641509544, 0.6350547085220931, 0.14319861074517787, 0.06848629209551985, 0.14319861074517787, 0.8489283255783815, 0.9763247131992259, 0.05403418985116335, 0.42436607639206336, 0.1765995473184363, 0.02108651311264911, 0.04217302622529822, 0.014496977764946264, 0.006589535347702847, 0.03294767673851424, 0.19373233922246372, 0.014496977764946264, 0.017132791904027403, 0.9872431833563385, 0.09384492067990105, 0.6467139099027963, 0.16728877164678013, 0.0061203209139065904, 0.08364438582339007, 0.04047266273881304, 0.8701622488844802, 0.08094532547762608, 0.9862432483940742, 0.9603281416870016, 0.09903976552588246, 0.18907591600395743, 0.4231699072469523, 0.2791120664820324, 0.9199474389744576, 0.022137721349430366, 0.5693821931073489, 0.030107301035225294, 0.13548285465851384, 0.04693196926079237, 0.16559015569373914, 0.030107301035225294, 0.6215394682658925, 0.8127395974531363, 0.13545659957552272, 0.9709791114810638, 0.43954533879451374, 0.31844611280010693, 0.17342605204137276, 0.031396095628179556, 0.03588125214649092, 0.9135990756768242, 0.8912687268854963, 0.9658876313777539, 0.03473784003903767, 0.04631712005205022, 0.10421352011711299, 0.8105496009108788, 0.9488261137388619, 0.962160515126407, 0.9157402551620065, 0.07044155808938511, 0.963805638032625, 0.308987596429767, 0.046243041642550164, 0.07987434465531391, 0.060956736710634306, 0.1093017347914822, 0.1093017347914822, 0.05044695451914563, 0.2354191210893463, 0.10721073294387119, 0.0938093913258873, 0.013401341617983899, 0.7705771430340742, 0.0067006708089919495, 0.13618400508886422, 0.3949336147577062, 0.44940721679325196, 0.8272421899703836, 0.9721474624762291, 0.9471506071646029, 0.9681268854062154, 0.9855914637357187, 0.10385049505961227, 0.30544263252827136, 0.17715672686639738, 0.06108852650565427, 0.11606820036074313, 0.23213640072148625, 0.9855847616754628, 0.17076735335802046, 0.7969143156707621, 0.1971505573294786, 0.06218843083547311, 0.18524213440353693, 0.005292632411529627, 0.0793894861729444, 0.3043263636629535, 0.018524213440353692, 0.14290107511129993, 0.0039694743086472195, 0.4892144873284931, 0.018119055086240485, 0.4918029237693846, 0.07024142075636389, 0.29852603821454654, 0.03160863934036375, 0.024584497264727362, 0.5724675791643656, 0.04338934437712465, 0.9401024615043674, 0.9869870602284858, 0.34675695853158156, 0.41126988104908513, 0.23385934412595036, 0.918158172742147, 0.08791040083591713, 0.9010816085681506, 0.9521934147965128, 0.9869603633096627, 0.9773199658400773, 0.09163322403704185, 0.22253782980424452, 0.6807039499894538, 0.9580159908201824, 0.775146199673079, 0.20993542907812557, 0.008167720866106232, 0.9910167984208893, 0.9354868486540788, 0.041819077081978205, 0.8224418492789047, 0.013939692360659402, 0.11848738506560492, 0.686074894499676, 0.10975732021098193, 0.8780585616878555, 0.8972593687168748, 0.8207345210778552, 0.02051836302694638, 0.06155508908083914, 0.02051836302694638, 0.0683945434231546, 0.984614457302363, 0.9402032495051875, 0.9930902985214548, 0.006560084042692508, 0.0760969748952331, 0.28601966426139336, 0.05641672276715558, 0.059040756384232576, 0.06166479000130958, 0.16793815149292823, 0.09577722702331062, 0.12988966404531166, 0.02099226893661603, 0.04067252106469355, 0.8919907254238739, 0.022095798592191594, 0.11047899296095796, 0.8396403465032806, 0.38346263886668336, 0.11444096571967832, 0.26987571020461454, 0.011956518806533556, 0.10760866925880201, 0.03501551936199113, 0.05892855697505824, 0.018788815267409876, 0.25132742033328737, 0.4336088460695177, 0.18780510530399494, 0.005523679567764557, 0.049713116109881016, 0.0027618397838822784, 0.06904599459705696, 0.6682906112421135, 0.30376845965550614, 0.9451611066317466, 0.7120897262931982, 0.16752223306594385, 0.7706022721033418, 0.057392855219682334, 0.13391666217925877, 0.6695833108962939, 0.057392855219682334, 0.07652380695957645, 0.9182984800656633, 0.19737317953890116, 0.1004808914016224, 0.008971508160859143, 0.19737317953890116, 0.01435441305737463, 0.4073064705030051, 0.019737317953890113, 0.02870882611474926, 0.0251202228504056, 0.9747214250453737, 0.02402482385675217, 0.9921155889303692, 0.937369416213164, 0.9855790700959369, 0.03710782414147347, 0.026505588672481047, 0.08481788375193935, 0.04240894187596968, 0.7633609537674542, 0.04240894187596968, 0.8193304644005308, 0.16386609288010617, 0.9113869341927269, 0.08380569509818178, 0.6516699269121144, 0.3429841720590076, 0.5600362719512616, 0.42739610227859437, 0.08552698315489449, 0.059298708320726846, 0.04447403124054514, 0.09579022113348183, 0.10491309933667058, 0.1163166970906565, 0.04903547034213951, 0.005701798876992966, 0.2736863460956624, 0.10149202001047479, 0.01026323797858734, 0.054737269219132474, 0.9143278821205131, 0.007087813039693899, 0.019238349679169157, 0.0010125447199562715, 0.05771504903750747, 0.9670100681738082, 0.08642575580538824, 0.09907342738666457, 0.010539726317730274, 0.059022467379289525, 0.12647671581276326, 0.06745424843347375, 0.04426685053446715, 0.17285151161077647, 0.0042158905270921095, 0.09485753685957246, 0.23398192425361206, 0.8443414911640874, 0.9592048990767845, 0.9049528751458538, 0.07387370409353908, 0.8802583848095602, 0.016970294457518464, 0.18975874711588828, 0.13421960161855512, 0.42734286952114675, 0.058624653580518334, 0.13267684757696255, 0.03239783487344434, 0.0015427540415925876, 0.00617101616637035, 0.1714938301208507, 0.24328194505516032, 0.05982342911192467, 0.1515526870835425, 0.3509641174566247, 0.019941143037308224, 0.007342929312361121, 0.9912954571687513, 0.9296235638764605, 0.8691913479575062, 0.9330460408717194, 0.951030456853251, 0.9800854955648212, 0.9632591836746527, 0.890619758833457, 0.0925529540405271, 0.8792530633850075, 0.05117655511633217, 0.9339721308730621, 0.169156931888652, 0.2387167917307145, 0.22923135629770597, 0.014228153149512784, 0.05216989488154688, 0.18180417913266336, 0.02213268267701989, 0.009485435433008524, 0.08220710708607387, 0.14655673482615375, 0.10307286844916308, 0.12078851771386298, 0.02093667640373625, 0.130451599130972, 0.27861884752664395, 0.1626618705213355, 0.01610513569518173, 0.02093667640373625, 0.9645410102023186, 0.1896767360736346, 0.806126128312947, 0.9752330613688698, 0.14773982052183082, 0.8273429949222526, 0.960466882752611, 0.9039784540975179, 0.879093757390702, 0.9228668146427235, 0.6246468010956217, 0.17057662645303515, 0.19940647881129459, 0.424264578580808, 0.012288150904017305, 0.08343007719043329, 0.04915260361606922, 0.14163710778841, 0.040098176634161736, 0.11641406119595342, 0.0032337239221098173, 0.06596796801104027, 0.028456770514566392, 0.0006467447844219635, 0.016815364394971048, 0.017462109179393014, 0.9381978080404432, 0.31941897125213337, 0.016811524802743862, 0.10086914881646317, 0.11347779241852106, 0.04623169320754562, 0.008405762401371931, 0.09666626761577721, 0.14710084202400878, 0.1344921984219509, 0.012608643602057896, 0.9931663752108609, 0.943450002591471, 0.9831511661963545, 0.9667727514994442, 0.03462496166075702, 0.0030108662313701757, 0.5464722209936869, 0.11290748367638158, 0.016559764272535967, 0.03161409542938684, 0.05419559216466316, 0.13849984664302809, 0.01957063050390614, 0.042152127239182456, 0.005614088910101177, 0.8701837810656825, 0.005614088910101177, 0.11228177820202355, 0.9827127548160409, 0.9847939649102583, 0.9806014776765072, 0.5240870187315582, 0.037434787052254156, 0.4117826575747957, 0.7635726349220412, 0.027516130988181665, 0.02063709824113625, 0.18573388417022624, 0.9794642347398771, 0.9383731079242058, 0.9450592454178945, 0.05416781311531534, 0.40084181705333355, 0.016250343934594604, 0.5200110059070273, 0.9550970666058829, 0.9780495509470071, 0.9702175238611729, 0.7771445003277052, 0.03193744521894679, 0.05322907536491132, 0.13839559594876943, 0.39765086671331507, 0.022922230412045733, 0.36775230530629893, 0.0009966187135672057, 0.0019932374271344113, 0.0009966187135672057, 0.04883431696479308, 0.1524826631757825, 0.0009966187135672057, 0.0019932374271344113, 0.0029898561407016174, 0.005079836929395123, 0.07873747240562441, 0.10159673858790245, 0.8153138271679172, 0.034826546817211625, 0.017413273408605812, 0.06965309363442325, 0.7835973033872615, 0.06965309363442325, 0.922328738692275, 0.9839324093592169, 0.7543560384859419, 0.05026271456380759, 0.089102084908568, 0.09138675375237743, 0.5094811521695042, 0.0319853638133321, 0.10966410450285292, 0.006854006531428308, 0.018277350750475485, 0.025131357281903795, 0.013708013062856616, 0.05026271456380759, 0.006854006531428308, 0.980106528962921, 0.009608887538852168, 0.9797867570557106, 0.9783959083426336, 0.974600497057903, 0.9882631372953486, 0.1518569719129793, 0.23108669638931634, 0.534800640215275, 0.06602477039694753, 0.0066024770396947525, 0.08890045667440581, 0.9041365593694889, 0.003782998156357694, 0.8990330444404228, 0.09268381901447657, 0.4009322012909682, 0.5926823845170834, 0.9874997387365355, 0.9417839394519144, 0.774109049252751, 0.22117401407221457, 0.03958561405789333, 0.8312978952157599, 0.10556163748771555, 0.14698275028200658, 0.11239857374506385, 0.1758028973961255, 0.2103870739330682, 0.05764029422823787, 0.29108348585260124, 0.13634606143454162, 0.27269212286908323, 0.5453842457381665, 0.01365299264215935, 0.06598946443710352, 0.06826496321079674, 0.11605043745835446, 0.7327106051292184, 0.9853165246761553, 0.9603353493003903, 0.9830288875724401, 0.9561640247025065, 0.9855142581745832, 0.9953973681845244, 0.003986905346533475, 0.4318167909010374, 0.017506086117609627, 0.5426886696458985, 0.9761984006082552, 0.9798728741970153, 0.9991205703783805, 0.9824903753345942, 0.17650807403962762, 0.8195017723268425, 0.7890784438436598, 0.19324370053314116, 0.9285774635978766, 0.044417729420113454, 0.7147216461236438, 0.020189877009142477, 0.10902533584936938, 0.060569631027427434, 0.04845570482194195, 0.9735788352689754, 0.9921830969280077, 0.6477518555514126, 0.2159172851838042, 0.9811716225396395, 0.013712484756623863, 0.4305720213579893, 0.16454981707948635, 0.3866920701367929, 0.8278009102248638, 0.9666309853656146, 0.8887217885388541, 0.21809597430775107, 0.7288997036074838, 0.04591494195952654, 0.4801073732685106, 0.13443006451518297, 0.12482791704981276, 0.06721503225759148, 0.18244080184203404, 0.4461947961975869, 0.10472755960656893, 0.10587841190993783, 0.20600256230303118, 0.08516307044929781, 0.25433835904452456, 0.07365454741560892, 0.09552074117961781, 0.05178835365160002, 0.021866193764008897, 0.9789123358090427, 0.33687404918052266, 0.22168485817040845, 0.023907190587004835, 0.14126976255957402, 0.04129423828664471, 0.21299133432058853, 0.019560428662094863, 0.8239951629198469, 0.15763385725423157, 0.014330350659475596, 0.9659862846837273, 0.8952335225249922, 0.26431478261652125, 0.7224604058184914, 0.7821454419010265, 0.7889864778596966, 0.9370475627377888, 0.027560222433464378, 0.8195410370613132, 0.9616413806147422, 0.9570325908149953, 0.09408057264710736, 0.0703228522816762, 0.14634755745105588, 0.12924199878794546, 0.19101207173806645, 0.060819764135503745, 0.08077624924246592, 0.03896266139930709, 0.053217293618565774, 0.012354014590024198, 0.04086327902854158, 0.08172655805708316, 0.06602805554737637, 0.9317292282796443, 0.12275028597945033, 0.10370282781022527, 0.1820090447281505, 0.0391531084589626, 0.24444237983838815, 0.02222203453076256, 0.05290960602562514, 0.21481300046403806, 0.012698305446150034, 0.0042327684820500115, 0.15282237492405096, 0.023593629812835935, 0.2198497323468803, 0.20322694770601862, 0.03968019559431498, 0.36033907350513067, 0.7890706906990671, 0.9438534738247839, 0.9752961040051484, 0.1302556086778811, 0.06773291651249817, 0.05210224347115244, 0.2735367782235503, 0.0234460095620186, 0.03647157042980671, 0.010420448694230488, 0.14588628171922685, 0.24488054431441647, 0.015630673041345734, 0.055008229938821006, 0.9168038323136835, 0.48417230234775543, 0.12104307558693886, 0.09078230669020415, 0.3026076889673472, 0.2938309362690741, 0.6856055179611729, 0.9463636682450927, 0.06355045734321868, 0.1404021732001343, 0.04729336360425576, 0.3680014855456151, 0.1374463379748683, 0.05320503405478773, 0.00591167045053197, 0.04138169315372379, 0.08276338630744758, 0.01625709373896292, 0.045815445991622766, 0.31011799924678934, 0.08312441216924252, 0.0031970927757400966, 0.21260666958671642, 0.11349679353877343, 0.04316075247249131, 0.13188007699927898, 0.005594912357545169, 0.007193458745415217, 0.08951859772072271, 0.04326968724874537, 0.28125296711684494, 0.16226132718279515, 0.5084188251727582, 0.9766768516791378, 0.11633100809284963, 0.7238373836888421, 0.1357195094416579, 0.01292566756587218, 0.9579768896989824, 0.9659769445986305, 0.9172038989644082, 0.958579687431705, 0.3863288015498931, 0.3863288015498931, 0.21314692499304444, 0.906960853778423, 0.2564946121758343, 0.0404991492909212, 0.4589903586304403, 0.2429948957455272, 0.9036330991092694, 0.29297436690141104, 0.6958141213908512, 0.0915233813211588, 0.1314181885637152, 0.5233260008876516, 0.0891766279539496, 0.152538968868598, 0.009387013468836799, 0.9223301569037814, 0.18641798874701046, 0.13981349156025782, 0.19418540494480255, 0.03883708098896051, 0.023302248593376308, 0.4116730584829814, 0.1140931374550486, 0.8747140538220393, 0.03504281009920833, 0.014017124039683332, 0.03504281009920833, 0.07008562019841666, 0.04905993413889166, 0.7849589462222666, 0.5193055624363109, 0.029210937887042484, 0.17201996755702798, 0.07140451483499274, 0.07789583436544663, 0.113598091782943, 0.016228298826134715, 0.9355518085394311, 0.9441254483099878, 0.049045477834285076, 0.9640680754445938, 0.2658153980805046, 0.11961692913622705, 0.26296737595821346, 0.037024287589784564, 0.1832227565340621, 0.045568353956657925, 0.051264398201240166, 0.03322692476006307, 0.9435331764507504, 0.986550260972818, 0.9598372563787614, 0.928786928485678, 0.9385472588313781, 0.005549245446278338, 0.005549245446278338, 0.12763264526440177, 0.2663637814213602, 0.0443939635702267, 0.08323868169417507, 0.0443939635702267, 0.02774622723139169, 0.38844718123948363, 0.9394914080148226, 0.01868306777302204, 0.04003514522790437, 0.9640956497963137, 0.07720886651805235, 0.686301035716021, 0.046325319910831414, 0.12524993901817383, 0.0017157525892900524, 0.060051340625151835, 0.0034315051785801048, 0.8162916046851038, 0.9163118453536443, 0.8586445318442804, 0.9457968313193124, 0.03569044646487971, 0.13708208564285893, 0.08288684248172866, 0.009563866440199461, 0.14027004112292543, 0.04144342124086433, 0.32835941444684813, 0.06694706508139622, 0.07969888700166218, 0.08288684248172866, 0.03187955480066487, 0.003187955480066487, 0.15680207977525684, 0.09582349319599029, 0.13937962646689495, 0.05226735992508561, 0.0754972976695681, 0.4762137237618911, 0.7543630332929688, 0.9513510689378459, 0.05966393837667578, 0.9247910448384746, 0.12730680576829048, 0.04715066880307055, 0.1720999411312075, 0.037720535042456434, 0.2428259443358133, 0.35363001602302907, 0.021217800961381744, 0.8654669750673021, 0.9807884307831795, 0.9562510680034828, 0.7569002559344489, 0.041024488669859936, 0.23319183033394067, 0.043183672284063085, 0.27205713538959747, 0.023751019756234698, 0.12523264962378294, 0.028069386984641006, 0.17705305636465865, 0.053979590355078856, 0.06329511710607716, 0.019987931717708574, 0.019987931717708574, 0.013325287811805716, 0.5196862246604229, 0.3597827709187543, 0.05651151720849481, 0.10548816545585697, 0.04897664824736216, 0.4841153307527722, 0.020720889643114762, 0.03579062756538005, 0.03579062756538005, 0.007534868961132641, 0.06593010340991061, 0.0715812551307601, 0.05651151720849481, 0.0094185862014158, 0.9507213359805399, 0.16722914175024534, 0.038006623125055754, 0.6309099438759256, 0.15962781712523416, 0.204084546341248, 0.4107201495117616, 0.293371535365544, 0.012755284146328, 0.0229595114633904, 0.0331637387804528, 0.0216839830487576, 0.9734015882580035, 0.12311756156776692, 0.8454072560986662, 0.016415674875702255, 0.23533686377866275, 0.3382967416818277, 0.05147993895158248, 0.022062830979249635, 0.34565101867491094, 0.3619631267115991, 0.5429446900673986, 0.16296176519234148, 0.13036941215387318, 0.6844394138078342, 0.9829172346787005, 0.1811544228796551, 0.8069606110093728, 0.9506572321278174, 0.9719725731669231, 0.4303788910418689, 0.462169320906286, 0.8107471579333271, 0.012869002506878207, 0.10295202005502566, 0.06434501253439104, 0.964947727159097, 0.4495542599972092, 0.5024429964674691, 0.8233143211564063, 0.09657494316009615, 0.7629420509647596, 0.06760246021206731, 0.06760246021206731, 0.010154011191771157, 0.14723316228068178, 0.01353868158902821, 0.29954333015724915, 0.2640042909860501, 0.09815544152045452, 0.04569305036297021, 0.06430873754788399, 0.018615687184913788, 0.03553903917119905, 0.0717059373238437, 0.6453534359145933, 0.02868237492953748, 0.06453534359145932, 0.19360603077437796, 0.9682550881083541, 0.021591569752511548, 0.3562609009164405, 0.09870431886862421, 0.0015422549823222533, 0.07402823915146817, 0.3099932514467729, 0.1388029484090028, 0.8792174978350172, 0.9952785519136115, 0.027477845544115607, 0.058881097594533444, 0.058881097594533444, 0.1452400407331825, 0.2747784554411561, 0.0667319106071379, 0.36113739857980515, 0.20026506574292396, 0.10209591586894162, 0.2395327256925169, 0.0628282559193487, 0.21989889571772042, 0.0628282559193487, 0.10602268186390092, 0.007853531989918587, 0.40663768580219156, 0.03457243482528754, 0.5301106673210757, 0.026340902724028604, 0.056744685092130806, 0.10639628454774526, 0.0425585138190981, 0.688029306742086, 0.10639628454774526, 0.9730052779328875, 0.9725143689602997, 0.7923922925586167, 0.532019331545624, 0.4666071186506702, 0.18530936397834516, 0.12353957598556344, 0.6176978799278172, 0.23688625435761618, 0.0629229113137418, 0.14620323511134123, 0.1017870624192882, 0.3016598395335269, 0.005552021586506629, 0.07402695448675506, 0.03701347724337753, 0.0018506738621688764, 0.029610781794702022, 0.9430315522701053, 0.8902872304459442, 0.015367264167191216, 0.05634663527970112, 0.0665914780578286, 0.3073452833438243, 0.030734528334382432, 0.5224869816845014, 0.37916681522395373, 0.08617427618726221, 0.13596385798434704, 0.12830392232325707, 0.08425929227198972, 0.155113697137072, 0.005744951745817481, 0.02106482306799743, 0.003829967830544987, 0.09177431241623399, 0.04105692923884152, 0.12800101468580002, 0.07486851802376983, 0.20045441922493212, 0.15456726301681514, 0.29705895861044157, 0.012075567423188683, 0.9312392988095598, 0.9445424182615151, 0.8264400423773575, 0.9737540833867455, 0.901726522489223, 0.30738349632535444, 0.686622874908584, 0.9387950414814662, 0.7889864778596966, 0.42096634236560354, 0.04677403804062262, 0.5145144184468488, 0.13377074992907284, 0.035797806319047665, 0.3900076793706772, 0.184641316803509, 0.13000255979022574, 0.035797806319047665, 0.005652285208270684, 0.0018840950694235612, 0.06594332742982464, 0.01507276055538849, 0.9782598281628233, 0.02528615275904915, 0.1011446110361966, 0.8597291938076711, 0.10825434763791708, 0.7361295639378362, 0.15155608669308393, 0.9802854606871199, 0.9421414375758854, 0.04486387797980407, 0.8673548677901399, 0.0774382068692142, 0.058078655151910644, 0.0774382068692142, 0.029039327575955322, 0.4065505860633745, 0.3484719309114639, 0.9771694673014022, 0.9148575924214529, 0.9734353840065472, 0.06275299260883285, 0.9203772249295485, 0.08815182586329354, 0.8998832223544548, 0.007345985488607794, 0.9705727658554834, 0.9373462882679601, 0.029292071508373752, 0.1261589221623391, 0.45417211978442074, 0.277549628757146, 0.1429801117839843, 0.08391207770304697, 0.7552086993274227, 0.07413850242446537, 0.13344930436403768, 0.7710404252144399, 0.8762441484005957, 0.9394141166103352, 0.9830746392607089, 0.9775528482399791, 0.20089239112312213, 0.048253564534475414, 0.1920294915147491, 0.23043538981769893, 0.0728727301132894, 0.032497298564034466, 0.030527765317729345, 0.001969533246305119, 0.0413601981724075, 0.10832432854678155, 0.012801966100983274, 0.006893366362067916, 0.02068009908620375, 0.014478562869684308, 0.29088749038183925, 0.2500842677490926, 0.2079648121281928, 0.010529863905224951, 0.12372590088639317, 0.04475192159720604, 0.003948698964459357, 0.05396555251427787, 0.9742981198949321, 0.33908699196144965, 0.19511709593312465, 0.12502648865617697, 0.33908699196144965, 0.20343297236805213, 0.20661161256130295, 0.16846793024229317, 0.4195805055091075, 0.9625853885988174, 0.9811578978381518, 0.22060941503822035, 0.05882917734352543, 0.7206574224581864, 0.15027115353807466, 0.3658775912231383, 0.019600585244096694, 0.21560643768506363, 0.006533528414698898, 0.22867349451446142, 0.006533528414698898, 0.7068139335689382, 0.23831274388531248, 0.05416198724666193, 0.9550147968382329, 0.6687206988061802, 0.4628641883899609, 0.20548679215518445, 0.1100080806487351, 0.060193100732326754, 0.15982306056514345, 0.07562543629767782, 0.9075052355721337, 0.9188855005504059, 0.037477873263153494, 0.9463162998946257, 0.07317973135287045, 0.9074286687755936, 0.2669390980655124, 0.7165207369126912, 0.21904031063586324, 0.6814587442004635, 0.09735124917149478, 0.020674858883965037, 0.017229049069970866, 0.8132111161026248, 0.0895910551638485, 0.05513295702390677, 0.9675373330281105, 0.9476900308212204, 0.04354891065371048, 0.21378556139094232, 0.20982656951333228, 0.20982656951333228, 0.09897479694025108, 0.019794959388050214, 0.007917983755220086, 0.07522084567459082, 0.019794959388050214, 0.09501580506264104, 0.9461937349142848, 0.8569424495500789, 0.9680981149770856, 0.9371234460773529, 0.7697009425504734, 0.03420893078002104, 0.12828349042507892, 0.06556711732837366, 0.9086342569890572, 0.7259171167074383, 0.6271336094550497, 0.4070165485371521, 0.05355480901804632, 0.5141261665732447, 0.010710961803609264, 0.9893283670144837, 0.959690473257997, 0.9762442620697847, 0.9744261077266092, 0.9296234975789308, 0.9612830926005399, 0.9509100970672437, 0.9412441617810647, 0.7511698024059646, 0.027821103792813506, 0.023540933978534507, 0.04280169814279001, 0.14338568877834654, 0.008560339628558003, 0.8890309383693835, 0.9711935796369183, 0.21458106172060584, 0.06216834498447459, 0.016043443866961184, 0.14639642528602081, 0.3569666260398864, 0.0501357620842537, 0.07219549740132533, 0.02005430483370148, 0.058157484017734296, 0.9617430301152962, 0.8233143211564063, 0.9548833596095984, 0.06351412575786393, 0.3626451696497392, 0.133174779814876, 0.11268635215104891, 0.06351412575786393, 0.016390742131061658, 0.13112593704849326, 0.06966065405701205, 0.034830327028506025, 0.008195371065530829, 0.06145827601454074, 0.1374998717613454, 0.13541654037102197, 0.0833332556129366, 0.3229163655001293, 0.05312495045324708, 0.1645831798355498, 0.01666665112258732, 0.022916645293557563, 0.12037981589983276, 0.1357008833779933, 0.138619181945262, 0.16269514512522854, 0.10214044985440356, 0.19698515329063543, 0.024075963179966554, 0.03356043352358974, 0.020428089970880713, 0.010214044985440356, 0.013861918194526198, 0.03429000816540691, 0.0007295746418171683, 0.007295746418171683, 0.9797444138726988, 0.2230963145788483, 0.31398740570356426, 0.00826282646588327, 0.4461926291576966, 0.24541307418861943, 0.6748859540187034, 0.7376382686579587, 0.9624123668532408, 0.7141168812569129, 0.44781452758751433, 0.9603530483469874, 0.9712589939177498, 0.17806778814916682, 0.8013050466712507, 0.9873071010449405, 0.9420867376862598, 0.9727836090522716, 0.13314227083793834, 0.0939827794150153, 0.08615088113043069, 0.06265518627667686, 0.6265518627667687, 0.9312970144744506, 0.9371381975042041, 0.9454726585133011, 0.4982722207140289, 0.10202716900334877, 0.0450817723503169, 0.32980875561547623, 0.023727248605429945, 0.8880616777475374, 0.9860249781048471, 0.12446672237151013, 0.12446672237151013, 0.7156836536361832, 0.9782503978528242, 0.5988380790954703, 0.9622825760727293, 0.9412148543478089, 0.960769096702159, 0.9783638728852884, 0.9497603261167694, 0.028610677731340423, 0.010097886258120149, 0.14810233178576218, 0.18344493368918272, 0.09088097632308134, 0.1430533886567021, 0.1144427109253617, 0.18849387681824278, 0.09424693840912139, 0.21543643019362219, 0.7420588151113653, 0.9418274529742051, 0.24152026699944387, 0.7245608009983316, 0.9516191049371986, 0.9738470742381409, 0.9295086474805021, 0.9705744367199388, 0.29686960305948207, 0.07421740076487052, 0.5937392061189641, 0.2246793332024201, 0.03964929409454472, 0.713687293701805, 0.9956686642897314, 0.0630187033675758, 0.13864114740866676, 0.01680498756468688, 0.5839733178728691, 0.13023865362632334, 0.0630187033675758, 0.2888175962945323, 0.21328068649442386, 0.09775364797661094, 0.3910145919064438, 0.23847519313593976, 0.07704583162853439, 0.1531744509757767, 0.06145322284656909, 0.03852291581426719, 0.16509821063257368, 0.0009172122812920759, 0.008254910531628685, 0.021095882469717747, 0.10639662462988081, 0.07704583162853439, 0.042191764939435494, 0.008254910531628685, 0.938462098606392, 0.9622192823932708, 0.8629814465048746, 0.10152722900057348, 0.9836994411330328, 0.019032977808950347, 0.06411108314593801, 0.10668484929753747, 0.16578725407269906, 0.09716836039306229, 0.19483758862320222, 0.042072898314521816, 0.11169352766831388, 0.16929332893224255, 0.018031242134795063, 0.005008678370776407, 0.0005008678370776407, 0.006010414044931688, 0.9851435051836015, 0.974122752027097, 0.9528960409232414, 0.041430262648836584, 0.10452182312106817, 0.8361745849685454, 0.03484060770702272, 0.8339417466851093, 0.08430582840545899, 0.01297012744699369, 0.022697723032238958, 0.8333306884693445, 0.045395446064477915, 0.9332170997473495, 0.007087724808207717, 0.05906437340173098, 0.9655511921632004, 0.9867392764998992, 0.9624929800432672, 0.027152635760651245, 0.7829009977654442, 0.004525439293441874, 0.02262719646720937, 0.16291581456390747, 0.9552799798939884, 0.9784708062139643, 0.9356489048717491, 0.23872183665170993, 0.37365157041137204, 0.14946062816454883, 0.234570152536028, 0.01604154246291336, 0.2620118602275849, 0.6416616985165343, 0.03208308492582672, 0.042777446567768954, 0.3238946422759952, 0.018730155618216927, 0.5436313459921499, 0.0068524959578842425, 0.07583428860058561, 0.017359656426640082, 0.0031978314470126465, 0.009593494341037938, 0.0599679812144074, 0.8995197182161109, 0.952384075683697, 0.9325520353355945, 0.07203676052877923, 0.2668028167732564, 0.3868640843212218, 0.05336056335465128, 0.17608985907034924, 0.045356478851453594, 0.9658423066153536, 0.9425213500515522, 0.25524142766413155, 0.26821980534196876, 0.47154772229475156, 0.9915828859219501, 0.41687102790452035, 0.8071835568458252, 0.13453059280763754, 0.41687102790452035, 0.6271093277970112, 0.9941830703002867, 0.9648462065752004, 0.9864344954394612, 0.581227019386178, 0.733289592067925, 0.10475565600970357, 0.07856674200727769, 0.07856674200727769, 0.8767592936344115, 0.9559194397152295, 0.9797867570302908, 0.982039409839613, 0.9958296201319975, 0.8902531760270737, 0.15215293748854145, 0.2738752874793746, 0.5629658687076033, 0.45610904464611157, 0.20806803651780884, 0.1499123741370548, 0.04523218185169757, 0.28431657163924184, 0.03360104937554677, 0.00258469610581129, 0.2533002183695064, 0.021969916899395963, 0.9159216333305625, 0.016961511728343752, 0.05936529104920313, 0.9970679100716389, 0.44496500193571903, 0.1575917715189005, 0.19467218834687708, 0.1205113546909239, 0.07416083365595318, 0.16917212129659628, 0.04699225591572119, 0.1738713468881684, 0.09398451183144238, 0.25845740753646657, 0.05169148150729331, 0.20206670043760114, 0.9620956659842615, 0.04270628668827579, 0.9502148788141362, 0.2555870119087244, 0.11311084782343547, 0.15987783298120206, 0.002175208611989144, 0.23383492578883294, 0.05873063252370688, 0.007613230141962003, 0.07178188419564174, 0.03697854640381544, 0.044591776545777444, 0.014138855977929434, 0.001087604305994572, 0.908625861124345, 0.02342839061235961, 0.9605640151067442, 0.9727494219284339, 0.19342235232192642, 0.09792006586297525, 0.15836455096357724, 0.1873779038118662, 0.055608926292553845, 0.07736894092877056, 0.05198225718651772, 0.025386683742252843, 0.14990232304949297, 0.00120888970201204, 0.9439361785141067, 0.1047329680774823, 0.8797569318508512, 0.952875829049805, 0.9506120272639155, 0.953736705538473, 0.8934786420013984, 0.08759594529425474, 0.01751918905885095, 0.09396165684563586, 0.657731597919451, 0.01044018409395954, 0.23664417279641622, 0.7834829428855967, 0.9802071505487646, 0.12587679516447103, 0.30958887459369905, 0.01701037772492852, 0.5273217094727841, 0.01701037772492852, 0.18879637879467054, 0.1179977367466691, 0.07079864204800146, 0.07551855151786822, 0.20295610720427085, 0.339833481830407, 0.9929896253198556, 0.969737992220873, 0.018412706921616517, 0.04142859057363717, 0.17952389248576106, 0.11968259499050736, 0.0023015883652020646, 0.05293653239964749, 0.26698425036343953, 0.2923017223806622, 0.027619060382424777, 0.9832649159518834, 0.6484113557874996, 0.3383015769326085, 0.9850143545115599, 0.25373526030203536, 0.6766273608054276, 0.9745347589498675, 0.2605124512487751, 0.6073661720542871, 0.061034345721141595, 0.01935235352133758, 0.010420498049951004, 0.03870470704267516, 0.039351355672638644, 0.9050811804706888, 0.039351355672638644, 0.9149451441476071, 0.9676261686737059, 0.3294650084489768, 0.6353968020087409, 0.9612043556534484, 0.21906416539416024, 0.1752513323153282, 0.12048529096678813, 0.010953208269708012, 0.3505026646306564, 0.06571924961824807, 0.05476604134854006, 0.9388589526910277, 0.011646572592842495, 0.15140544370695244, 0.356052362124042, 0.201319326247706, 0.07487082381113033, 0.08318980423458926, 0.09150878465804818, 0.02329314518568499, 0.00665518433876714, 0.9638728287582089, 0.9596510538224757, 0.9878210234355159, 0.9746781993871965, 0.9730072782680743, 0.9327801288286242, 0.9568890265845147, 0.012872134743581887, 0.10941314532044603, 0.07079674108970038, 0.05792460634611849, 0.6114264003201396, 0.13515741480760982, 0.05527660700827513, 0.24874473153723808, 0.6909575876034392, 0.9688932393778984, 0.9697838416969642, 0.36317805468734116, 0.11196793780874549, 0.16508093394879142, 0.20671003903153012, 0.0014354863821634037, 0.004306459146490211, 0.04880653699355573, 0.017225836585960844, 0.017225836585960844, 0.05167750975788253, 0.010048404675143825, 0.963778149482179, 0.0174136572627548, 0.08073604730913589, 0.08865134606493352, 0.34194090625045787, 0.12506172034160265, 0.049074852285945346, 0.04590873278362629, 0.12981089959508124, 0.030078135272031018, 0.02374589626739291, 0.04590873278362629, 0.02216283651623338, 0.03536178043334951, 0.47485819439069343, 0.08587860962384881, 0.11113702421909846, 0.07072356086669902, 0.217222365519147, 0.9837029963927386, 0.08158015102674077, 0.17675699389127167, 0.31855106591394017, 0.24085568398371085, 0.02330861457906879, 0.03107815277209172, 0.07381061283371784, 0.027193383675580256, 0.025250999127324526, 0.6523369125553374, 0.28362474458927717, 0.028362474458927714, 0.9537149915777936, 0.9740394809781451, 0.9229392959190531, 0.9449944329205068, 0.058617122659832994, 0.6667697702556004, 0.2711041923017276, 0.7543624081724508, 0.8537982004393703, 0.9789412702324667, 0.9340814653506796, 0.05661099790004119, 0.982856668128859, 0.19753222409517943, 0.7901288963807177, 0.07037560270002075, 0.281502410800083, 0.050268287642871966, 0.1709121779857647, 0.4121999586715501, 0.9404965103280337, 0.9741367304441189, 0.9794793374253161, 0.02250547709408256, 0.8935507942539447, 0.07418472079160549, 0.00916889807536697, 0.843797009768303, 0.15099525437959105, 0.2777241930904626, 0.3818707654993861, 0.03155956739664348, 0.01262382695865739, 0.29350397678878437, 0.9655794717545434, 0.0238229588308802, 0.8777844061532013, 0.09712437061820389, 0.8474402731650028, 0.3972273649448026, 0.0065119240154885676, 0.016279810038721417, 0.07814308818586281, 0.016279810038721417, 0.13349444231751564, 0.35164389683638264, 0.982715094042605, 0.4151700578373185, 0.22834353181052516, 0.33213604626985477, 0.9853810960127968, 0.8973401613739099, 0.4370269203006768, 0.048409431922291316, 0.04303060615314784, 0.9063321421006764, 0.6494535665566241, 0.05172639025672227, 0.15517917077016682, 0.14368441737978407, 0.10015130576126181, 0.047293672165040296, 0.08345942146771818, 0.3171458015773291, 0.1446629972107115, 0.047293672165040296, 0.15022695864189273, 0.05285763359622151, 0.016691884293543634, 0.03338376858708727, 0.0027819807155906057, 0.3891374609954366, 0.013653945999839882, 0.01706743249979985, 0.08875064899895924, 0.027307891999679763, 0.04096183799951965, 0.0341348649995997, 0.3140407579963173, 0.07168321649915937, 0.9351681048290411, 0.22330076569130944, 0.2864990956039442, 0.2696462076272416, 0.02949255395922955, 0.01263966598252695, 0.02106610997087825, 0.05477188592428345, 0.08847766187768864, 0.01263966598252695, 0.9769751433198002, 0.09958946394694723, 0.5370717519996083, 0.29521162527130784, 0.032010899125804466, 0.0355676656953383, 0.062325723145871634, 0.032646807362123234, 0.023743132626998717, 0.6826150630262131, 0.005935783156749679, 0.032646807362123234, 0.029678915783748396, 0.12761933787011812, 0.1781336122187486, 0.7917049431944382, 0.9552548398023069, 0.9903473489307438, 0.9532929052883987, 0.9661842646468181, 0.024543386146375124, 0.7363015843912537, 0.12271693073187562, 0.11780825350260059, 0.9677772038592387, 0.0463447258373159, 0.9211014260166535, 0.02317236291865795, 0.6355160588837753, 0.31775802944188763, 0.9909237790647066, 0.4220127632999292, 0.4277626565865418, 0.9879668236438008, 0.005040647059407147, 0.5995010025534538, 0.12063149030304564, 0.1360312550225834, 0.5441250200903336, 0.19763031390073435, 0.05392551729555991, 0.4044413797166993, 0.04381448280264243, 0.11627689666855105, 0.2679424140623133, 0.021907241401321213, 0.06235137937299114, 0.028647931063266203, 0.9950841883270815, 0.991813329554388, 0.29617156004859113, 0.23740736162625162, 0.3713897340291857, 0.09167214953884963, 0.6599570859275672, 0.8480124877482136, 0.12654043230578324, 0.04218014410192775, 0.0984203362378314, 0.7311224977667475, 0.9439814141390421, 0.015638035861768467, 0.21111348413387432, 0.7714764358472443, 0.39219866366369394, 0.2781874242265736, 0.004560449577484813, 0.012161198873292834, 0.15201498591616044, 0.009120899154969626, 0.03192314704239369, 0.019761948169100856, 0.054725394929817754, 0.0364835966198785, 0.007600749295808022, 0.9423226851484927, 0.09213040964147366, 0.7338663664544971, 0.09848423099605805, 0.05718439219125951, 0.015884553386460977, 0.21962071390734203, 0.7751319314376778, 0.19130275148066306, 0.7652110059226522, 0.39896392780244977, 0.0013807669345119694, 0.04556530883889499, 0.135315159582173, 0.12012672330254133, 0.026234571755727416, 0.3948993432704232, 0.05661144431499074, 0.08698831687425407, 0.05246914351145483, 0.053849910445966806, 0.026234571755727416, 0.8603756974444556, 0.9839064427391505, 0.9869343838377354, 0.9375162554385943, 0.17456561070041954, 0.8030018092219299, 0.9429667700078924, 0.021782468708892007, 0.007260822902964002, 0.10891234354446004, 0.8640379254527163, 0.016983239771438362, 0.7472625499432879, 0.005661079923812787, 0.07925511893337901, 0.05661079923812787, 0.005661079923812787, 0.005661079923812787, 0.07925511893337901, 0.1551109561134316, 0.8420309046157716, 0.9688248205237993, 0.992815012511435, 0.049595529369186896, 0.8927195286453642, 0.049595529369186896, 0.04872643368413414, 0.03460282971771844, 0.34955919816878833, 0.001412360396641569, 0.06496857824551218, 0.3432035763839013, 0.0035309009916039227, 0.02471630694122746, 0.0007061801983207845, 0.12428771490445809, 0.004943261388245492, 0.9742591336809077, 0.05233115100946572, 0.06279738121135886, 0.26863324184859066, 0.4081829778738326, 0.11512853222082457, 0.038376177406941527, 0.055819894410096764, 0.08297237255261185, 0.9126960980787303, 0.08416466965548047, 0.8767153089112549, 0.035068612356450195, 0.9805068715523813, 0.9628496616171084, 0.9338988031987117, 0.21707021756323616, 0.27001417306646447, 0.4164924499587295, 0.052943955503228335, 0.0017647985167742778, 0.04059036588580839, 0.6152248625719009, 0.9238799106380462, 0.9903974937814107, 0.9590705220838667, 0.7715989451696273, 0.1543197890339255, 0.9566309575061418, 0.9662650769433142, 0.04234917988748623, 0.889332777637211, 0.06352376983122936, 0.032739188321167456, 0.11786107795620283, 0.11786107795620283, 0.06220445781021816, 0.5369226884671462, 0.06220445781021816, 0.0720262143065684, 0.02288448372669787, 0.12205057987572196, 0.8467258978878212, 0.8789586671084382, 0.9441237534071822, 0.05335430956455487, 0.01280503429549317, 0.05975682671230146, 0.04695179241680829, 0.1579287563110824, 0.05762265432971926, 0.10030610198136317, 0.0426834476516439, 0.4673837517855007, 0.9328359271943263, 0.02358487227683931, 0.9669797633504118, 0.19028992409191756, 0.7968390571349048, 0.9758348083447809, 0.48907680610596965, 0.5059415235578997, 0.974513943735853, 0.6916818777797054, 0.0560823144145707, 0.2430233624631397, 0.9639011825646437, 0.9563501184389218, 0.06531275534933322, 0.1451394563318516, 0.13062551069866643, 0.602328743777184, 0.05079880971614806, 0.11262113252842715, 0.15541716288922947, 0.2049704612017374, 0.06757267951705628, 0.13289293638354405, 0.03603876240909669, 0.011262113252842714, 0.08784448337217318, 0.19145592529832614, 0.9842327075062604, 0.9916818949420165, 0.9926229365366589, 0.05982579040722052, 0.2157354260139164, 0.0924580397202499, 0.2689139063758902, 0.0006043009132042477, 0.1359677054709557, 0.06949460501848848, 0.05015697579595255, 0.06405589679965025, 0.021150531962148666, 0.007251610958450972, 0.014503221916901943, 0.0163745362118918, 0.9660976365016163, 0.019525524696224143, 0.06833933643678451, 0.16596695991790522, 0.13667867287356902, 0.1073903858292328, 0.4783753550574915, 0.019525524696224143, 0.9750001753967266, 0.08158488551302205, 0.15151478738132668, 0.046619934578869746, 0.6526790841041764, 0.046619934578869746, 0.18181698250148504, 0.21783732809140188, 0.09948476401024653, 0.20411529167619546, 0.11492205497735374, 0.11149154587355214, 0.06689492752413129, 0.04094938677250084, 0.9418358957675192, 0.792634063824382, 0.9628760553585897, 0.9531502842134708, 0.9713834406018866, 0.1671338438130143, 0.05571128127100477, 0.005064661933727706, 0.7698286139266113, 0.14716092544403986, 0.1103706940830299, 0.7266070693799468, 0.9893533745591554, 0.9090594645863049, 0.17354973595058373, 0.7809738117776268, 0.15394511733320054, 0.00974336185653168, 0.027281413198288702, 0.27866014909680603, 0.052614154025271066, 0.02338406845567603, 0.027281413198288702, 0.08574158433747878, 0.015589378970450686, 0.3098389070377074, 0.007794689485225343, 0.00974336185653168, 0.9628435052943424, 0.5283982916832275, 0.003323259696120928, 0.005538766160201547, 0.004431012928161237, 0.2392746981207068, 0.10191329734770846, 0.022155064640806188, 0.06757294715445887, 0.01661629848060464, 0.009969779088362784, 0.9443378256625656, 0.16555446108955688, 0.052574727508170084, 0.008576019380765333, 0.0950819540041374, 0.5693731128012463, 0.1088781590949338, 0.2810979780447542, 0.7083669046727806, 0.06434958164175118, 0.9284725351166957, 0.902218062121629, 0.9710957470212006, 0.9183213899066539, 0.0826578326603504, 0.8927045927317843, 0.40696939384529984, 0.40696939384529984, 0.8749751402886652, 0.19033957737378096, 0.7851507566668465, 0.987656748733453, 0.9642169843145764, 0.016916087444115376, 0.9324588138704673, 0.9642708948923385, 0.9411845343255419, 0.01942012622740639, 0.03884025245481278, 0.6564002664863361, 0.12817283310088218, 0.08156453015510684, 0.04660830294577534, 0.02718817671836895, 0.9438917730534148, 0.04967851437123236, 0.0691646694217879, 0.025150788880650143, 0.6790712997775539, 0.16976782494438847, 0.025150788880650143, 0.025150788880650143, 0.9753998963482586, 0.9298738372993737, 0.4918808049218541, 0.4737529572573298, 0.5215263647118504, 0.9963384276904066, 0.9493903392179296, 0.18974786230197913, 0.8064284147834112, 0.0473383669861681, 0.946767339723362, 0.9658772079479676, 0.7216972643924225, 0.01747451003371483, 0.013979608026971865, 0.0821301971584597, 0.05766588311125895, 0.05591843210788746, 0.04892862809440153, 0.4786891329971655, 0.9940000705517967, 0.5355443937066167, 0.44240623827937897, 0.9926818942909432, 0.8930585542227545, 0.9551146576650916, 0.02809160757838505, 0.9698692913697861, 0.9892498174340033, 0.0200201670962443, 0.14264369056074064, 0.5555596369207793, 0.07507562661091612, 0.12512604435152686, 0.0200201670962443, 0.0200201670962443, 0.0400403341924886, 0.9559103547219542, 0.9681007676625726, 0.02251397134099006, 0.03637661368735233, 0.34194016866111193, 0.0072753227374704665, 0.43166914908991433, 0.016975753054097754, 0.03637661368735233, 0.08002855011217513, 0.04607704400397962, 0.001506411437332727, 0.2493110928785663, 0.01958334868532545, 0.10469559489462452, 0.37359003645851624, 0.10846162348795634, 0.051971194587979073, 0.03991990308931726, 0.01807693724799272, 0.032387845902653624, 0.9650272323931955, 0.0753048558734614, 0.9036582704815368, 0.009413106984182676, 0.00789296449055235, 0.39859470677289366, 0.5880258545461501, 0.9749309417537628, 0.9248922027548496, 0.9758754697829254, 0.2492687523040147, 0.7478062569120442, 0.9607297580385032, 0.15335026554113357, 0.013144308474954305, 0.008762872316636203, 0.4074735627235834, 0.03724220734570386, 0.04600507966234007, 0.18402031864936028, 0.03505148926654481, 0.013144308474954305, 0.10296374972047538, 0.053061732440016024, 0.0985432173886012, 0.5306173244001603, 0.015160494982861721, 0.2501481672172184, 0.045481484948585164, 0.9564807478140205, 0.9734299464948143, 0.9823320166223894, 0.954812830145149, 0.952390746497446, 0.8387785002131253, 0.973422023557659, 0.0822338296172423, 0.2290799539337464, 0.01762153491798049, 0.6637444819105984, 0.3749671610498022, 0.007652391041832698, 0.3443575968824714, 0.08035010593924333, 0.06504532385557793, 0.042088150730079835, 0.08035010593924333, 0.19714957677391007, 0.18385859407005098, 0.0753155686552016, 0.188288921638004, 0.03876536621958906, 0.001107581891988259, 0.1428780640664854, 0.07642315054718986, 0.013290982703859106, 0.04873360324748339, 0.03101229297567125, 0.0033227456759647766, 0.2075404703327454, 0.7708646040930544, 0.8995936758666168, 0.9594340650761615, 0.03896178944471722, 0.9883663319064634, 0.017665172113279656, 0.9715844662303812, 0.9595004736337247, 0.9851648299395956, 0.9753490832896026, 0.9289364704149646, 0.0851844569194334, 0.007516275610538241, 0.5887749228254956, 0.2505425203512747, 0.045097653663229445, 0.020043401628101976, 0.8438242193066202, 0.025314726579198605, 0.06750593754452962, 0.05062945315839721, 0.9683051048567232, 0.08405969798848455, 0.22899021176173376, 0.6855213301474687, 0.9699714781313066, 0.9934534407142478, 0.9102908292625109, 0.6327686023644434, 0.957561825184898, 0.8798454872323705, 0.11130575440891435, 0.8942973224433766, 0.6121921673938784, 0.31209796769099685, 0.07442336152631464, 0.9772916689941877, 0.011363856616211485, 0.02663056469377016, 0.008876854897923387, 0.008876854897923387, 0.1375912509178125, 0.15978338816262097, 0.5725571409160585, 0.07989169408131049, 0.978961455603855, 0.583267085270344, 0.984793620893932, 0.9807517486952934, 0.9862019971593167, 0.08287245356225593, 0.11982908825893764, 0.20270154182119357, 0.0022397960422231335, 0.004479592084446267, 0.08287245356225593, 0.07167347335114027, 0.05599490105557833, 0.09183163773114847, 0.22397960422231333, 0.048155614907797364, 0.011198980211115667, 0.9691297552463778, 0.7726789418286822, 0.08865002016522242, 0.7978501814870017, 0.871191703744069, 0.2595839085134006, 0.05191678170268012, 0.6853015184753776, 0.9645826008507135, 0.06805298748044629, 0.9073731664059506, 0.9700828554718833, 0.8660656026767584, 0.3451705096537368, 0.09707920584011347, 0.2157315685335855, 0.3451705096537368, 0.772162732574231, 0.21548727420676214, 0.011427191077336907, 0.09776596810610465, 0.02920282164208321, 0.1003053439010684, 0.6234167576636024, 0.09776596810610465, 0.039360324821938235, 0.973763270710805, 0.7019342021525999, 0.2910458886974195, 0.658578062367163, 0.08413552338611334, 0.043518374165231036, 0.0899379732748108, 0.10154287305220575, 0.0029012249443487355, 0.01450612472174368, 0.08324030701179663, 0.36786845356826253, 0.2806003897655725, 0.00805551358178677, 0.006712927984822308, 0.17990646999323787, 0.00805551358178677, 0.017453612760538004, 0.03222205432714708, 0.01476844156660908, 0.11976665344029994, 0.022456247520056236, 0.7934540790419871, 0.052397910880131224, 0.9545823814404703, 0.8867437358431096, 0.13884794625063845, 0.8330876775038307, 0.9938477723577558, 0.2884402650602994, 0.08875085078778443, 0.13312627618167663, 0.11435205774579917, 0.3140414720183141, 0.05973614956870106, 0.9440717403447468, 0.10273960626033755, 0.12842450782542195, 0.05136980313016878, 0.7191772438223629, 0.10352965288823367, 0.8873970247562886, 0.9882625720134726, 0.9216296467181772, 0.07373037173745417, 0.944962372509092, 0.04295283511404963, 0.5338730896721868, 0.2158210362504585, 0.13630802289502644, 0.01514533587722516, 0.09465834923265724, 0.9870988413881988, 0.987989595669766, 0.9451939027666248, 0.06746252695763132, 0.2810938623234638, 0.03373126347881566, 0.6184064971116204, 0.9561945501060466, 0.08840257263682955, 0.14498021912440046, 0.24752720338312273, 0.24399110047764955, 0.12376360169156136, 0.028288823243785455, 0.02121661743283909, 0.05304154358209773, 0.049505440676624546, 0.04270198796200792, 0.07930369192944328, 0.04880227195658048, 0.10370482790773353, 0.0915042599185884, 0.06303626794391645, 0.16267423985526827, 0.3497496156888268, 0.03456827596924451, 0.010167139990954267, 0.016267423985526826, 0.9584699947187905, 0.22400449698725583, 0.05315360945460308, 0.5941814199746701, 0.0037966863896145057, 0.0683403550130611, 0.03606852070133781, 0.020881775142879783, 0.1671145656089584, 0.04423620854354781, 0.5898161139139708, 0.11304808850017774, 0.08847241708709562, 0.0028474339426022358, 0.01423716971301118, 0.9624326725995558, 0.011389735770408943, 0.008542301827806707, 0.2200362546740786, 0.7765985459085127, 0.8851059478020834, 0.08046417707291667, 0.03757148433271937, 0.7420368155712076, 0.2160360349131364, 0.09184315789618828, 0.1385703785802139, 0.08862059095246239, 0.024169252077944285, 0.24491508772316875, 0.20221607571880051, 0.029003102493533144, 0.09506572483991418, 0.034642594645053475, 0.03947644506064233, 0.012084626038972143, 0.9773610680636631, 0.7785425192136508, 0.9818821375150817, 0.9877776143760432, 0.8950581485495973, 0.04697270030113415, 0.5480148368465652, 0.18006201782101425, 0.07045905045170123, 0.152661275978686, 0.992467294331518, 0.9931852594018348, 0.9303671486763936, 0.9825305546501055, 0.20737149693147588, 0.7465373889533131, 0.9039861571474694, 0.9498600978147438, 0.20945617719843093, 0.06160475799953851, 0.012320951599907702, 0.04752367045678685, 0.19537508965567926, 0.16193250674164408, 0.07216557365660226, 0.09680747685641766, 0.14257101137036055, 0.02295722874510765, 0.9733864987925643, 0.08963784532969601, 0.8963784532969602, 0.0617998309373072, 0.30525371038730525, 0.34270815337961263, 0.12547238402422975, 0.0018727221496153696, 0.026218110094615173, 0.0018727221496153696, 0.014981777196922957, 0.05805438663807646, 0.028090832244230545, 0.03183627654346128, 0.013097030204767214, 0.9691802351527739, 0.0719303650879891, 0.917112154871861, 0.797173132124442, 0.1880970311754301, 0.8888350089297845, 0.0957206932693614, 0.9579763707010434, 0.8540115295499004, 0.1220016470785572, 0.005609448255555666, 0.7628849627555706, 0.09536062034444633, 0.016828344766667, 0.11218896511111333, 0.6565752024191784, 0.20402054312460347, 0.011128393261342007, 0.11870286145431475, 0.007418928840894672, 0.9468726171588889, 0.7829576447398268, 0.776139234910073, 0.14351253777582482, 0.0322171003170219, 0.04100358222166423, 0.1707819047396616, 0.2173587878504784, 0.07762813851802801, 0.5123457142189848, 0.7490100653263132, 0.7503097066961185, 0.28943800241566836, 0.6753553389698927, 0.9555199419700289, 0.27513069454163075, 0.16237221317210995, 0.04961373180258915, 0.13079983838864412, 0.05863441031215082, 0.24806865901294575, 0.08118610658605498, 0.12931896942704899, 0.3040743335176557, 0.14504695219520358, 0.026213304613591008, 0.041941287381745615, 0.010485321845436404, 0.24815261700866156, 0.03320351917721528, 0.05941682379080629, 0.015618648663866473, 0.18221756774510886, 0.0859025676512656, 0.0026031081106444123, 0.2707232435070189, 0.0650777027661103, 0.15358337852802031, 0.22126418940477505, 0.047318499770482386, 0.11266309469162472, 0.30869687945505175, 0.19603378476342703, 0.3357360221810417, 0.9433333162256058, 0.04687137969257148, 0.025703659831410163, 0.5730404162414383, 0.014363809905788033, 0.025703659831410163, 0.3129798579471708, 0.9587335658163436, 0.33702301585064776, 0.16851150792532388, 0.36822885065163363, 0.11234100528354925, 0.2839461443234756, 0.6940905750129404, 0.9898661639904479, 0.9822207439309708, 0.9862240049487758, 0.13869497223012503, 0.855285662085771, 0.15968148030774812, 0.0122831907929037, 0.13818589642016663, 0.3009381744261407, 0.3500709375977555, 0.03377877468048518, 0.9535750938683003, 0.6984151894785359, 0.06349228995259418, 0.06575987173661539, 0.17233621558561277, 0.9856966026016647, 0.9884297615162072, 0.9051630621858702, 0.07477433991970232, 0.015741966298884698, 0.002955595137733678, 0.174380113126287, 0.12709059092254815, 0.026600356239603103, 0.2394032061564279, 0.06206749789240724, 0.2630479672582973, 0.09162344926974401, 0.008866785413201034, 0.17531547313636955, 0.07676535510113222, 0.3952378418044781, 0.05913007082114239, 0.22822132597633904, 0.03527056855997967, 0.009336326971759325, 0.019710023607047465, 0.12475968118378057, 0.09356976088783542, 0.7485580871026833, 0.4938974140650486, 0.9680355486543701, 0.025716211776450885, 0.9686439769129834, 0.9922411628344286, 0.91340135493402, 0.07211063328426473, 0.9794267423096014, 0.41817471550181406, 0.015645992756870595, 0.028447259557946532, 0.11023313078704282, 0.1841960056377038, 0.0007111814889486633, 0.13441330141129737, 0.10738840483124816, 0.03973771062776638, 0.2838407901983313, 0.09650586866743266, 0.5733583962006293, 0.9480364894181449, 0.024738530916842316, 0.15667736247333466, 0.5222578749111155, 0.16767226510304234, 0.1291901058990654, 0.11071323518321348, 0.47053124952865727, 0.38749632314124716, 0.20690584570135193, 0.7685074268907357, 0.15590393167751412, 0.29763477865707244, 0.07086542348977914, 0.4677117950325424, 0.17525768033934186, 0.025036811477048837, 0.6676483060546357, 0.12518405738524419, 0.9228823880878998, 0.11248557297419866, 0.8597111648742326, 0.024104051351613996, 0.10561739551327386, 0.20243334140044156, 0.6337043730796431, 0.04400724813053077, 0.9897189855978987, 0.9389946354389064, 0.13205599364167447, 0.052822397456669785, 0.8187471605783817, 0.9393902758660132, 0.030466711649708534, 0.025388926374757113, 0.7004045693397419, 0.2784741058820661, 0.008438609269153519, 0.8954716543804084, 0.943823745380485, 0.9345176102951854, 0.9674598630045094, 0.8437607876560278, 0.1539709466525598, 0.13682325103552118, 0.14268710465132922, 0.5042914109594924, 0.01759156084742415, 0.001954617871936017, 0.04886544679840042, 0.003909235743872034, 0.058638536158080505, 0.001954617871936017, 0.01954617871936017, 0.06254777190195254, 0.9788997643898083, 0.19059626545382938, 0.14158579719427325, 0.07623850618153176, 0.08985252514251957, 0.43837141054380757, 0.059901683428346376, 0.8943651711785737, 0.9183778314106872, 0.9800495278703829, 0.9748996752848549, 0.809664080118998, 0.353609240488198, 0.18611012657273576, 0.22333215188728292, 0.22333215188728292, 0.016010189079059396, 0.8165196430320292, 0.16010189079059395, 0.014749087459719786, 0.206487224436077, 0.46705443622445986, 0.03441453740601283, 0.03933089989258609, 0.04916362486573262, 0.004916362486573261, 0.04916362486573262, 0.13765814962405132, 0.09464267483963885, 0.15142827974342216, 0.7476771312331469, 0.9739191398872992, 0.07414217469291177, 0.02471405823097059, 0.1565223687961471, 0.7414217469291178, 0.08287130883659165, 0.9012254835979342, 0.9340094604679988, 0.12844001653654022, 0.07064200909509713, 0.03853200496096207, 0.025688003307308048, 0.14128401819019426, 0.5330260686266419, 0.06422000826827011, 0.96200742675973, 0.10977099291617175, 0.2195419858323435, 0.3411801131178311, 0.023734268738631728, 0.08603672417754002, 0.054391032526031044, 0.03164569165150897, 0.0731806619441145, 0.010878206505206208, 0.05043532106959242, 0.1673949424831475, 0.8265125285105409, 0.03597351859124615, 0.04946358806296346, 0.38671532485589616, 0.004496689823905769, 0.03597351859124615, 0.3327550469690269, 0.13490069471717306, 0.017986759295623076, 0.9710460147241239, 0.7787791784707456, 0.9806842655139545, 0.019447071841020368, 0.13612950288714257, 0.22850309413198933, 0.1701618786089282, 0.048617679602550916, 0.004861767960255092, 0.3889414368204073, 0.911596885616634, 0.8303860125310348, 0.053144704801986235, 0.046501616701737955, 0.07307396910273106, 0.1909352934370714, 0.804655879484801, 0.9771516986626622, 0.9588779476706824, 0.4619547066472949, 0.3774816520904984, 0.27178678950515883, 0.07549633041809968, 0.27178678950515883, 0.2714209829262591, 0.6885080532144874, 0.006287744778214497, 0.03143872389107248, 0.37746819722173, 0.034315290656520905, 0.10294587196956272, 0.38433125535303414, 0.04460987785347718, 0.05147293598478136, 0.12870177524078358, 0.07491595872224716, 0.14791099542597516, 0.18248759175932, 0.028813830277787368, 0.05186489450001726, 0.013446454129634104, 0.1498319174444943, 0.0019209220185191578, 0.22282695414822232, 0.3382083202619367, 0.04611931639935501, 0.17764477427899708, 0.2732996527369186, 0.030746210932903337, 0.05124368488817223, 0.025621842444086114, 0.05465993054738371, 0.2164553225160536, 0.09104866740754636, 0.24565961206187037, 0.0927665667925944, 0.08933076802249831, 0.05497278032153743, 0.04294748462620111, 0.039511685856105025, 0.008589496925240223, 0.09620236556269049, 0.020614792620576534, 0.3762909246383735, 0.1747701924860692, 0.057067817954634836, 0.09451857348736395, 0.06063455657679952, 0.08381835762086992, 0.04458423277705847, 0.03566738622164677, 0.04280086346597613, 0.03031727828839976, 0.38526601098449037, 0.11601760558055675, 0.34805281674167027, 0.10288353702426731, 0.048158251373061296, 0.9397744910940419, 0.02764042620864829, 0.9799748306467976, 0.9167060174912919, 0.09982316542157084, 0.12918291995732697, 0.24662193810035146, 0.182030478121688, 0.0704634108858147, 0.05871950907151226, 0.2113902326574441, 0.9385498304381632, 0.25283108236530666, 0.6919587517366287, 0.03992069721557473, 0.03286084053115867, 0.6316583790989388, 0.10040812384520705, 0.016430420265579334, 0.21359546345253136, 0.0036512045034620745, 0.9332315729834525, 0.05554949839187217, 0.06258828859449096, 0.771922225998722, 0.16226593339312473, 0.9648099787489329, 0.007418629275875864, 0.18249828018654626, 0.6617417314081271, 0.14540513380716694, 0.8650994305695838, 0.9337642172777629, 0.7573874090138502, 0.06173063521742979, 0.017411204804916095, 0.0751847480212286, 0.01424553120402226, 0.07360191122078168, 0.9567338799326464, 0.015066675274529864, 0.022600012911794795, 0.9763329615385679, 0.9717949220193812, 0.6181736564211922, 0.9755503729446852, 0.012150325811364228, 0.08505228067954959, 0.03645097743409268, 0.10935293230227805, 0.7411698744932179, 0.22271608548177124, 0.12343301123086117, 0.13416631655528388, 0.13014132705862536, 0.020124947483292584, 0.13684964288638957, 0.004024989496658516, 0.049641537125455035, 0.11135804274088562, 0.0657414951120891, 0.3719679055065875, 0.06272399975209123, 0.042302232390945244, 0.3325830684529488, 0.04959572073421167, 0.0831457671132372, 0.007293488343266421, 0.051054418402864954, 0.9880924709160466, 0.9153807105917449, 0.3916923089983268, 0.11797162606040977, 0.2067817265777969, 0.15044696132423044, 0.13255238883192108, 0.056659099371079, 0.3569523260377977, 0.16147843320757516, 0.24646708226419364, 0.11615115371071195, 0.05949205433963295, 0.07550622049441615, 0.923602875690626, 0.25681667627018046, 0.591794949666068, 0.14515725180488462, 0.9722542817352197, 0.08800061346233842, 0.4520815828849542, 0.45898359178396114, 0.9745139436084871, 0.013286568642564715, 0.1040781210334236, 0.006643284321282358, 0.3078055068860826, 0.22365723881650607, 0.05978955889154122, 0.10186369292632949, 0.15279553938949422, 0.008857712428376477, 0.022144281070941192, 0.10103263262977231, 0.8890871671419963, 0.9337202793429249, 0.037386109278751946, 0.14274696270068923, 0.46222826017366037, 0.3534686695445638, 0.9885379633761597, 0.007268661495412939, 0.1293495108011825, 0.044251148431983495, 0.023827541463375727, 0.24848721811806115, 0.4152800083616912, 0.13615737979071843, 0.9432660999537338, 0.2190403625338982, 0.6814589056610166, 0.0973512722372881], \"Term\": [\"Besluit\", \"Clerfayt\", \"Croo\", \"Ernst\", \"Face_to\", \"Frans\", \"Frans\", \"Frans\", \"Frans\", \"Frans\", \"Frans\", \"Kb_wib\", \"Luxemburg\", \"Nieuwenhove\", \"Parlement\", \"Sexies\", \"Verhuurder\", \"Vlaams\", \"Vlaams\", \"Waals\", \"Waals\", \"Waals\", \"aa_ngiften\", \"aa_ngiften\", \"aan_gewen\", \"aan_leggen\", \"aan_nemen\", \"aan_nemen\", \"aan_nemen\", \"aan_nemen\", \"aan_nemen\", \"aan_nemen\", \"aan_nemen\", \"aan_nemen\", \"aan_neming_vergadering\", \"aan_slagjaar_zijn\", \"aan_sluiten\", \"aanbod\", \"aandeel\", \"aandeel\", \"aangepaste\", \"aangeschaft\", \"aangever\", \"aangift\", \"aangifte\", \"aangifte\", \"aangifte\", \"aanhef\", \"aanhef\", \"aanhef\", \"aanleiding\", \"aanleiding\", \"aanleiding\", \"aanleiding\", \"aanleiding\", \"aanleiding\", \"aanleiding\", \"aanleiding\", \"aanmerking\", \"aanmerking\", \"aanmerking\", \"aanmerking\", \"aanmerking\", \"aanmerking\", \"aanmerking\", \"aanmerking\", \"aanneming_vergadering\", \"aanslagjaar\", \"aanslagjaar\", \"aanslagjaar\", \"aanslagjaar\", \"aanslagjaar_afgekort\", \"aansprakelijk\", \"aantal\", \"aantal\", \"aantal\", \"aantal\", \"aantal\", \"aantal\", \"aantal\", \"aantal\", \"aantal\", \"aantal\", \"aantal\", \"aanvang\", \"aanvraag\", \"aanvraag\", \"aanvraag\", \"aanvraag\", \"aanvraag\", \"aanvrager\", \"aanvrager\", \"aanvrager\", \"aanvullende_crisisuitkering\", \"aanwending\", \"aanwezig\", \"aanwezig\", \"aanwezig\", \"aanwezig\", \"accountant\", \"activiteit\", \"activiteit\", \"activiteit\", \"activiteit\", \"activiteit\", \"activiteit\", \"activiteit\", \"adjoint\", \"adjunct\", \"adjunct\", \"adjunct_directeur\", \"administratie\", \"administratie\", \"administratie\", \"administratie\", \"administratie\", \"administratief_statuut\", \"administratieve_toeslag\", \"adresseren\", \"adviesaanvraag\", \"adviesaanvraag\", \"adviesaanvraag\", \"adviesaanvraag\", \"adviserend_arts\", \"af_leggen\", \"af_wijken\", \"af_wijken\", \"afbouw\", \"afdeling\", \"afdeling\", \"afdeling\", \"afdeling\", \"afdeling\", \"afdeling\", \"afdeling\", \"afdeling\", \"afdeling_wetgeving\", \"afdeling_wetgeving\", \"afdeling_wetgeving\", \"afdeling_wetgeving\", \"afdeling_wetgeving\", \"afgevaardigen\", \"afgevaardigen\", \"afgevaardigen\", \"afgevlakken\", \"afkomstig\", \"afnamecentra\", \"afnamecentrum\", \"afnemer\", \"afstand\", \"afstand\", \"afstand\", \"afstand\", \"afstand\", \"afstand\", \"aftrek\", \"afwezigheden\", \"afwezigheden\", \"afwijking\", \"afwijking\", \"afwijking\", \"afwijking\", \"afwijking\", \"afwijking\", \"afwijking\", \"afwijking\", \"afwijking\", \"agentschap\", \"agentschap\", \"agentschap\", \"akkoord\", \"akkoord\", \"akkoord\", \"akkoord\", \"akkoord\", \"akte\", \"akte\", \"algemeen_verbindend\", \"alternatief\", \"alternatief\", \"alternatief\", \"alternerende_opleiding\", \"ambt\", \"ambt\", \"ambten\", \"ambtenarenzaken\", \"ambtenarenzaken_gelijk\", \"antwoord\", \"antwoord\", \"antwoord\", \"armoede\", \"article\", \"article\", \"arts\", \"arts\", \"attach\", \"attest\", \"attest\", \"attest\", \"attest\", \"audiovi_suel\", \"auditeur\", \"auditeur\", \"automaten\", \"automatisch\", \"automatisch\", \"automatisch\", \"automatisch\", \"automatisch\", \"bank\", \"base\", \"baseren\", \"basis\", \"basis\", \"basis\", \"basis\", \"basis\", \"basis\", \"basis\", \"basis\", \"basis\", \"basis\", \"basis\", \"basisbedrag\", \"bedoeling\", \"bedoeling\", \"bedoeling\", \"bedrag\", \"bedrag\", \"bedrag\", \"bedrag\", \"bedrag\", \"bedrag\", \"bedrag\", \"bedrag\", \"bedragen\", \"bedragen\", \"bedragen\", \"bedragen\", \"bedragen\", \"bedragen\", \"bedragen\", \"bedrijf_leider\", \"bedrijf_leider\", \"bedrijfstoeslag\", \"bedrijvigheid\", \"beeindigen\", \"beeindigen\", \"beeld\", \"beeld\", \"beeld\", \"beeld\", \"beeld\", \"beeld_gezien\", \"begroting\", \"begroting\", \"begroting\", \"begroting\", \"begroting\", \"begroting\", \"begroting\", \"begroting\", \"begroting\", \"begunstigen\", \"begunstigen\", \"behalen\", \"beheerscomite\", \"bejaardenhulp\", \"bekrachtigen\", \"bekrachtigen\", \"bekrachtigen\", \"bekrachtigen\", \"bekrachtigen\", \"bekrachtigen\", \"bekrachtigen_hetgeen\", \"bekrachtigen_hetgeen\", \"belastbaar\", \"belastbaar\", \"belastbaar_tijdperk\", \"belastbaar_tijdperk\", \"belastbare_tijdperk\", \"belastbare_tijdperk\", \"belasten\", \"belasten\", \"belasten\", \"belasten\", \"belasten\", \"belasten\", \"belasten\", \"belasten\", \"belasten\", \"belasten\", \"belasten\", \"belasten\", \"belasting\", \"belasting\", \"belasting\", \"belasting\", \"belasting\", \"beleidslijnen\", \"belgisch_staatsblad\", \"belgisch_staatsblad\", \"belgisch_staatsblad\", \"belgisch_staatsblad\", \"belgisch_staatsblad\", \"belgisch_staatsblad\", \"belgisch_staatsblad\", \"belgisch_staatsblad\", \"belgisch_staatsblad\", \"belgisch_staatsblad\", \"belgisch_staatsblad\", \"belgium\", \"beoefijnen\", \"beoordeelen\", \"beoordeelen\", \"beoordelingen\", \"beperken\", \"beperken\", \"beperken\", \"beperken\", \"beperken\", \"beperken\", \"beperken\", \"beperken\", \"beperken\", \"beraadslaging\", \"beraadslaging\", \"beraadslaging\", \"beraadslaging\", \"beraadslaging\", \"beraadslaging\", \"bericht\", \"bericht\", \"berlaar\", \"beroepsk_ennis\", \"beroepskennis\", \"beroepsrisico\", \"beroepsziekten\", \"berusten\", \"bescheiden\", \"beschikking\", \"beschikking\", \"beslag\", \"beslag\", \"beslissing\", \"beslissing\", \"beslissing\", \"beslissing\", \"beslissing\", \"beslissing\", \"beslissing\", \"beslissing\", \"beslissing\", \"besluiten\", \"besluiten\", \"besluiten\", \"besluiten\", \"besluiten\", \"besluiten\", \"besluiten\", \"besluiten\", \"besluiten\", \"besluitwet\", \"besmet\", \"besmet\", \"besmeten\", \"bespreking\", \"bespreking\", \"bespreking_stemming\", \"bestanddeel\", \"bestrijken\", \"bestuurszaken_inburgering\", \"betaling\", \"betaling\", \"betaling\", \"betrekking\", \"betrekking\", \"betrekking\", \"betrekking\", \"betrekking\", \"betrekking\", \"betrekking\", \"betrekking\", \"betrekking\", \"betrekking\", \"betrekking\", \"betrekking\", \"betrekking\", \"betrokken_werkzaam\", \"bevatten\", \"bevatten\", \"bevatten\", \"bevatten\", \"bevatten\", \"bevatten\", \"bevatten\", \"bevatten\", \"bevatten\", \"bevatten\", \"bevoegde_autoriteit\", \"bevoegde_autoriteiten\", \"bevoegde_gefedereerde\", \"bevoegde_gefedereren\", \"bevoegdheid\", \"bevoegdheid\", \"bevoegdheid\", \"bevoegdheid\", \"bevoegdheid\", \"bevoegdheid\", \"bevoegdheid\", \"bevoegdheid\", \"bevoegdheid\", \"bevoegdheid\", \"bevolking\", \"bevolking\", \"bevolking\", \"bevolking\", \"bevordering\", \"bew\", \"bezetting\", \"bezitten\", \"bezitten\", \"bezitten\", \"bezorgen\", \"bezorgen\", \"bezorgen\", \"bezorgen\", \"bezwaar\", \"bicommunautaire_dienst\", \"biculturele_zaken\", \"bijdrage\", \"bijdrage\", \"bijdrage\", \"bijdrage\", \"bijeenkomen\", \"bijeenkomst\", \"bijlage_overgenom\", \"bijstand\", \"bijstand\", \"bijstand\", \"bijstand\", \"bijzonder\", \"bijzonder\", \"bijzonder\", \"bijzonder\", \"bijzonder\", \"bijzonder\", \"bijzonder\", \"bijzonder\", \"bijzonder\", \"bijzonder\", \"bijzonder\", \"bijzondere_machten\", \"bijzondere_machten\", \"bijzondere_machten\", \"bijzondere_machten\", \"bijzondere_machtenbesluit\", \"bijzondere_machtenbesluit\", \"bijzondere_machtenbesluit\", \"bijzondere_machtenbesluit\", \"bijzondere_machtenbesluit\", \"binnenlands_bestuur\", \"binnenlandse_zaken\", \"biologische_geneesmiddel\", \"blijven\", \"blijven\", \"blijven\", \"blijven\", \"blijven\", \"blijven\", \"blijven\", \"blijven\", \"blijven\", \"blijven\", \"blijven\", \"blijven\", \"boete\", \"boete\", \"bossen_landelijk\", \"bovenvermelen\", \"brief\", \"brussel_fiscaliteit\", \"brussels_hoofdstedelijk\", \"brussels_hoofdstedelijk\", \"brussels_hoofdstedelijk\", \"brussels_hoofdstedelijk\", \"brussels_hoofdstedelijk\", \"brusselse_hoofdstedelijk\", \"brusselse_hoofdstedelijk\", \"brusselse_hoofdstedelijk\", \"btw\", \"btw\", \"budget\", \"budget\", \"buitengewoon\", \"bullingen\", \"burgemeester\", \"burgemeester\", \"burger\", \"burger\", \"burger\", \"categorie\", \"categorie\", \"categorie\", \"categorie\", \"categorie\", \"categorie\", \"cel\", \"cel\", \"cel\", \"centrum\", \"centrum\", \"centrum\", \"centrum\", \"centrum\", \"certificaat\", \"citeren\", \"civiele_noodsituatie\", \"clarinval\", \"cluster\", \"code\", \"code\", \"codex\", \"codex\", \"codex\", \"codificatie\", \"coefficient\", \"collectief\", \"collectiviteit\", \"college\", \"college\", \"combinatie\", \"combinatie\", \"commissaris\", \"commissie\", \"commissie\", \"commissie\", \"commissie\", \"commissie\", \"commissie\", \"conferentie_volksgezondheid\", \"conform\", \"conseil\", \"conseil\", \"constructie\", \"contact\", \"contact\", \"contact\", \"contact\", \"contanten\", \"coordinatie\", \"coordineeren\", \"coronavirus\", \"coronavirus\", \"coronavirus\", \"correct\", \"correct\", \"correct\", \"correct\", \"correct\", \"correctiefactor\", \"covid\", \"covid\", \"covid\", \"covid\", \"covid\", \"covid\", \"covid\", \"covid\", \"covid\", \"creatief\", \"crisis\", \"crisis\", \"crisis\", \"crisis\", \"crisis\", \"crisis\", \"crisis\", \"cultureel\", \"cultureel\", \"cultureel\", \"cultuur\", \"cursist\", \"cursus\", \"cursus\", \"cursussen\", \"cursussen_beroepskennis\", \"daarin\", \"daarin\", \"daaropvolgende_jaren\", \"daaruit\", \"dae_rden\", \"dag\", \"dag\", \"dag\", \"dag\", \"dag\", \"dag\", \"dag\", \"dag\", \"dag\", \"dag\", \"dag\", \"dag\", \"databank\", \"databank\", \"datum\", \"datum\", \"datum\", \"datum\", \"datum\", \"datum\", \"datum\", \"datum\", \"datum\", \"datum\", \"decreet\", \"decreet\", \"decreet\", \"decreet\", \"decreet\", \"decreet\", \"deelen\", \"deelneming\", \"derde_lanen\", \"dergelijk\", \"dergelijk\", \"dergelijk\", \"dergelijk\", \"dergelijk\", \"dergelijk\", \"dergelijk\", \"dergelijk\", \"dergelijk\", \"dergelijk\", \"detail\", \"detail\", \"detailleren\", \"detailleren\", \"detailleren\", \"detailleren\", \"diamant\", \"diamant\", \"dien_verstande\", \"dienen\", \"dienen\", \"dienen\", \"dienen\", \"dienen\", \"dienen\", \"dienen\", \"dienen\", \"dienen\", \"dienen\", \"dienen\", \"dienst\", \"dienst\", \"dienst\", \"dienst\", \"dienst\", \"dienst\", \"dienst\", \"dienst\", \"dienst\", \"dienst\", \"dienst_verlening\", \"dienst_verlening\", \"dienst_verlening\", \"dienst_verlening\", \"dierenwelzijn_tellier\", \"digitaal\", \"digitaal\", \"digitaal\", \"digitaal\", \"digitalisering\", \"dijk\", \"dinant\", \"diploma\", \"directeur\", \"directeur\", \"directeur\", \"directeur_diensthoofd\", \"directeur_generaal\", \"directeur_generaal\", \"directeur_generaal\", \"directeur_generaal\", \"directiecomite\", \"distributie\", \"distributie\", \"divers\", \"divers\", \"divers\", \"divers\", \"divers\", \"divers\", \"dividenen\", \"document\", \"document\", \"document\", \"document\", \"document\", \"document\", \"doel_groep\", \"doel_groep\", \"doeleinde\", \"doeleinde\", \"doeleinde\", \"doeleinde\", \"doeleinde\", \"doeleinde\", \"doen\", \"doen\", \"doen\", \"doen\", \"doen\", \"doen\", \"doen\", \"doorlopende_evaluatie\", \"douane\", \"douane\", \"draagwijdte\", \"dringend\", \"dringend\", \"dringend\", \"dringend\", \"dringend\", \"dringend\", \"dringend\", \"dringend\", \"dubbele_belasting\", \"duidelijkheid\", \"duitse_taalgebied\", \"duitsland\", \"durch\", \"echter\", \"echter\", \"echter\", \"echter\", \"echter\", \"echter\", \"echter\", \"echter\", \"echter\", \"economie\", \"economie\", \"economie\", \"economie_buitenlandse\", \"economisch\", \"economisch\", \"economisch\", \"economisch\", \"economisch\", \"economisch\", \"economisch\", \"edelstenen\", \"editie_bl\", \"ee_nsluiden\", \"eenmalig\", \"eenmalig\", \"einde\", \"einde\", \"einde\", \"einde\", \"einde\", \"einde\", \"einde\", \"einde\", \"einde\", \"einde\", \"einde\", \"elektronisch\", \"elektronisch\", \"elektronisch\", \"elektronisch\", \"elektronisch\", \"elektronisch\", \"elf\", \"enseignement_fr\", \"entiteiten\", \"entiteiten\", \"epidemie\", \"epidemie\", \"epidemie\", \"epidemie\", \"epidemie\", \"epidemie\", \"epidemie\", \"epsc\", \"erewoord\", \"erflater\", \"erfpacht\", \"erkennen\", \"erkennen\", \"erkennen\", \"erkennen\", \"erkennen\", \"erkennen\", \"erkennen\", \"erkennen\", \"erkennen\", \"erkenning\", \"erkenning\", \"erkenning\", \"erkenning\", \"erkenning\", \"erkenning\", \"ervan\", \"ervan\", \"ervan\", \"ervan\", \"ervan\", \"ervan\", \"ervan\", \"ervan\", \"ervan\", \"ervan\", \"ervan\", \"ervan\", \"eupen\", \"eur\", \"eur\", \"eur\", \"eur\", \"euro\", \"euro\", \"euro\", \"euro\", \"euro\", \"euro\", \"euro\", \"europees\", \"europese_unie\", \"europese_unie\", \"europese_unie\", \"evaluatie\", \"evaluatie\", \"evaluatie\", \"evaluatie\", \"evaluatie\", \"evaluaties\", \"evaluaties\", \"examen\", \"examen\", \"examen\", \"examencommissie\", \"examens\", \"examens\", \"experten\", \"exploitant\", \"ext_erne_betrekkingen\", \"externe_betrekking\", \"extra\", \"extra\", \"extra\", \"extra\", \"face_to\", \"fagg\", \"fagg\", \"falen\", \"fase\", \"fase\", \"fase\", \"fase\", \"federaal\", \"federaal\", \"federaal\", \"federaal\", \"federaal\", \"federaal\", \"federaal\", \"federaal\", \"federaal\", \"federaal\", \"fil_ip_koning\", \"fil_ip_koning\", \"fil_ip_koning\", \"fil_ip_koning\", \"fil_ip_koning\", \"film\", \"financieel\", \"financieel\", \"financieel\", \"financieel\", \"financieel\", \"financieel\", \"financieel\", \"financiele_rekeningen\", \"financiele_tussenkomst\", \"financiering\", \"financiering\", \"financiering\", \"financiering\", \"financiering\", \"financiering\", \"financiering\", \"financi\\u00ebn\", \"financi\\u00ebn\", \"financi\\u00ebn\", \"financi\\u00ebn\", \"financi\\u00ebn\", \"financi\\u00ebn\", \"financi\\u00ebn\", \"financi\\u00ebn\", \"fiscaal\", \"fiscaal\", \"fiscaal\", \"fiscaal\", \"fiscaliteit\", \"fiscaliteit\", \"fiscaliteit\", \"fiscaliteit\", \"fiscaliteit\", \"formaliteit\", \"fr\", \"fractie\", \"franse_gemeenschap\", \"franse_gemeenschap\", \"fusie\", \"fusie\", \"fusie\", \"gaan\", \"gaan\", \"gaan\", \"gaan\", \"gaan\", \"gaan\", \"gaan\", \"gaan\", \"gaan\", \"gaan\", \"gatz\", \"gebeurtenis\", \"gebrek\", \"gebrek\", \"gebrek\", \"gebrek\", \"gebrek\", \"gebrek\", \"gebruik\", \"gebruik\", \"gebruik\", \"gebruik\", \"gebruik\", \"gebruik\", \"gebruik\", \"gebruik\", \"gebruik\", \"gebruiken\", \"gebruiken\", \"gebruiken\", \"gebruiken\", \"gebruiken\", \"gebruiken\", \"gebruiken\", \"gebruiken\", \"gecorrigeerd_jaarlijks\", \"gedelegeerde_opdracht\", \"gederfd\", \"gedrang_komt\", \"geestelijk\", \"gegevensbank\", \"gegevensbank\", \"geindexeerde_bedragen\", \"geintegreerde_kennis\", \"geld\", \"geld\", \"geld\", \"gelden\", \"gelden\", \"gelden\", \"gelden\", \"gelden\", \"gelden\", \"gelden\", \"gelden\", \"gelden\", \"gelden\", \"geleverde_goederen\", \"gemachtigen\", \"gemachtigen\", \"gemachtigen\", \"gemeente\", \"gemeente\", \"gemeente\", \"gemeente_raad\", \"gemeentelijk\", \"gemeentelijk\", \"gemi_ddeld\", \"gemiddeld\", \"gemiddeld\", \"gemiddeld\", \"gemiddeld\", \"gemiddeld\", \"gemiddeld\", \"gemiddeld_aantal\", \"gemiddelde_bezettingsgraad\", \"gendertest\", \"geneeskundig\", \"geneeskundig\", \"geneeskundige_verzorging\", \"geneeskundige_verzorging\", \"geneeskundige_verzorging\", \"geneesmiddeal\", \"geneesmiddel\", \"geneesmiddel\", \"generaal\", \"generaal\", \"generaal\", \"generaal\", \"genereeren\", \"genereeren\", \"gerechtelijk\", \"gerechtelijk\", \"gerechtelijk\", \"getal\", \"getest\", \"getuigschrift\", \"gevaarlijk\", \"geval\", \"geval\", \"geval\", \"geval\", \"geval\", \"geval\", \"geval\", \"geval\", \"geval\", \"geval\", \"geval\", \"geval\", \"geval\", \"gevolg\", \"gevolg\", \"gevolg\", \"gevolg\", \"gevolg\", \"gevolg\", \"gevolg\", \"gevolg\", \"gevolg\", \"gevolgen_ondervinden\", \"gewest\", \"gewest\", \"gewest\", \"gewest\", \"gewestelijk\", \"gewestelijk\", \"gewestelijk\", \"gewestelijk\", \"gewestelijk_belang\", \"gewestelijke_beleidslijnen\", \"gewestelijke_overheidsdienst\", \"gewestelijke_overheidsdienst\", \"gewestelijke_overheidsdienst\", \"gewoon\", \"gewoon\", \"gewoon\", \"gewoon\", \"gewoon\", \"gewoon\", \"gewoon\", \"gezin\", \"gezin\", \"gezin\", \"gezinsbijslag\", \"gezinsbijslagen\", \"gezondheid\", \"gezondheid\", \"gezondheid\", \"gezondheid\", \"gezondheid\", \"gezondheids\", \"gezondheids\", \"gimb\", \"graad\", \"graad\", \"grensarbeider\", \"grensarbeider\", \"griffier\", \"griffier\", \"groet\", \"groet\", \"groet\", \"grond_gebied\", \"grond_gebied\", \"grond_gebied\", \"grond_gebied\", \"grond_gebied\", \"grondig\", \"grondwettelijk\", \"groot\", \"groot\", \"groot\", \"groot\", \"groot\", \"groot\", \"groot\", \"groot\", \"groot\", \"groot\", \"groothandelaar\", \"haalt\", \"halftijds\", \"handelaar\", \"handeling\", \"handeling\", \"handeling\", \"handeling\", \"handelshuur\", \"handelspand\", \"handelspanden\", \"handicap\", \"handicap\", \"handicap\", \"handicap\", \"handtekening\", \"hanteren\", \"heden\", \"heffing\", \"heist\", \"herinneren\", \"herinnering\", \"herneming\", \"hetzelfde\", \"hetzelfde\", \"hetzelfde\", \"hetzelfde\", \"hetzelfde\", \"hetzelfde\", \"hierboven_vermelde\", \"hierdoor\", \"hierna\", \"hierna\", \"hierna\", \"hierna\", \"hierna\", \"hierna\", \"hierna\", \"hierna\", \"hierna\", \"hiertoe\", \"hogere_studiejaar\", \"honoraria\", \"hoog\", \"hoog\", \"hoog\", \"hoog\", \"hoog\", \"hoog\", \"hoog\", \"hoog\", \"hoog\", \"hoog\", \"houd_en\", \"houd_en\", \"houd_en\", \"houd_en\", \"houd_en\", \"houd_en\", \"houd_en\", \"houd_en\", \"houd_en\", \"houden\", \"houden\", \"houden\", \"houden\", \"houden\", \"houden\", \"houden\", \"houden\", \"houden\", \"houden\", \"houden\", \"houden\", \"houden\", \"houden\", \"huis_arts\", \"hulp\", \"hulp\", \"hulp\", \"hulp\", \"huur\", \"huur\", \"huur_inclusief\", \"huurder\", \"huurgeld\", \"huurgelen\", \"huurprijs\", \"hypothecair\", \"hypotheek\", \"hypotheek\", \"identiteit\", \"ifapme_net\", \"imago\", \"immers\", \"immers\", \"immers\", \"immers\", \"immers\", \"in_delen\", \"in_komen\", \"in_leiden\", \"in_voeggen\", \"in_voeggen\", \"in_voeggen\", \"in_voeggen\", \"in_voeggen\", \"inbrengen\", \"indexcijfer\", \"indexeren\", \"indexeren\", \"indexeren\", \"informeren\", \"ingaat\", \"initiatiefnemer\", \"inperking\", \"inrichtende_macht\", \"inschrijver\", \"installatie\", \"instelling\", \"instelling\", \"instelling\", \"instelling\", \"instelling\", \"instelling\", \"instelling\", \"instelling\", \"instelling\", \"instituut\", \"instituut\", \"intensieve_zorgen\", \"interim\", \"interim\", \"intern_verzelfstandigd\", \"internat\", \"interne_markt\", \"interpretatie\", \"investeren\", \"investeren\", \"investeren\", \"investering\", \"investering\", \"investering\", \"invoer\", \"invoering\", \"invoering\", \"invoering\", \"invoering\", \"invoering\", \"invoering\", \"inzonderheid\", \"inzonderheid\", \"inzonderheid\", \"inzonderheid\", \"jaar\", \"jaar\", \"jaar\", \"jaar\", \"jaar\", \"jaar\", \"jaar\", \"jaar\", \"jaar\", \"jaar\", \"jaar\", \"jaar\", \"jaar\", \"jeugd\", \"jeugd_justitiehuizen\", \"jeugd_sport\", \"jeugd_sport\", \"justitie\", \"kader\", \"kader\", \"kader\", \"kader\", \"kader\", \"kader\", \"kader\", \"kader\", \"kader\", \"kader\", \"kader\", \"kader\", \"kader\", \"kalendermaand\", \"kandi_datuur\", \"kandidaat\", \"kandidaat\", \"kapitaal\", \"kapitaal\", \"kapitaal\", \"kapitaalinbreng\", \"kennisgeving\", \"kennisgeving\", \"kennisgeving\", \"kennisgeving\", \"kennisgeving\", \"kind\", \"kind\", \"kind\", \"kind_opvang\", \"kinderopvang\", \"klassenraad\", \"klein\", \"klein\", \"klein\", \"klein\", \"klein\", \"klimaat_energie\", \"klinische_biologie\", \"koen_muylle\", \"koning\", \"koning\", \"koning\", \"koning\", \"koningswege\", \"koningswege\", \"koningswege\", \"koningswege\", \"koningswege\", \"koninklijk\", \"koninklijk\", \"koninklijk\", \"koninklijk\", \"koninklijk\", \"koninklijk\", \"koninklijk\", \"koninklijk\", \"koninkrijk\", \"koninkrijk\", \"korte_termijn\", \"kortrijk\", \"kost\", \"kost\", \"kost\", \"kost\", \"kost\", \"kost\", \"kostprijs\", \"kunst\", \"kwartaal\", \"kwartaal\", \"kwartaal\", \"kwestie\", \"kwijtschelden\", \"kwijtschelding\", \"kwijtschelding\", \"kwijtscheldt\", \"laatstelijk\", \"laatstelijk_gewijzigd\", \"laboratoria\", \"laboratorium\", \"landbouwbeleid\", \"last\", \"last\", \"last\", \"last\", \"laureat\", \"leefloon\", \"leefmilieu_natuur\", \"leerjaar\", \"leerling\", \"leertijd\", \"lening\", \"lening\", \"lening\", \"leningsaanvraag\", \"letten\", \"letten\", \"letten\", \"letten\", \"letten\", \"letten\", \"letten\", \"letten\", \"levering\", \"levering\", \"levering\", \"lidstaat\", \"liggen\", \"liggen\", \"liggen\", \"liggen\", \"liggen\", \"lijst\", \"lijst\", \"lijst\", \"lijst\", \"lijst\", \"lijst\", \"lijst\", \"lokaal_bestuur\", \"lokale_besturen\", \"lokale_besturen\", \"maand\", \"maand\", \"maand\", \"maand\", \"maand\", \"maand\", \"maand\", \"maand\", \"maand\", \"maand\", \"maand\", \"maand\", \"maat\", \"maatschappelijk_welzijn\", \"maatschappelijk_welzijn\", \"maatstaf\", \"maken\", \"maken\", \"maken\", \"maken\", \"maken\", \"maken\", \"maken\", \"maken\", \"maken\", \"maken\", \"management\", \"mandaat\", \"mandaat\", \"mannelijk\", \"marnix\", \"martine_baguet\", \"materie\", \"materie\", \"materie\", \"maximaal\", \"maximaal\", \"maximaal\", \"maximaal\", \"mede_onthaalouders\", \"medewerker\", \"medisch\", \"medisch\", \"medisch\", \"medisch\", \"medisch\", \"mee_delen\", \"mee_delen\", \"mee_delen\", \"mee_delen\", \"mee_delen\", \"mee_delen\", \"meewerkende_echtgenoten\", \"mesures\", \"middel\", \"middel\", \"middel\", \"middel\", \"middel\", \"middel\", \"middel\", \"middel\", \"middel\", \"middelgroot\", \"middelgrote_ondernemingen\", \"middelgrote_ondernemingen\", \"mijnheer\", \"miljoen_euro\", \"miljoen_euro\", \"minimissteun\", \"ministerieel\", \"ministerieel\", \"ministerieel\", \"ministerieel\", \"ministerieel\", \"ministerieel\", \"ministeriele_besluit\", \"ministeriele_besluit\", \"ministeriele_besluit\", \"missie\", \"mobiel\", \"mobiliteit\", \"mobiliteit\", \"mobiliteit_openbaar\", \"model\", \"model\", \"model\", \"model\", \"model\", \"model\", \"model\", \"modelattest\", \"mogelijk\", \"mogelijk\", \"mogelijk\", \"mogelijk\", \"mogelijk\", \"mogelijk\", \"mogelijk\", \"mogelijk\", \"mogelijk\", \"moleculair\", \"mond\", \"mondmask\", \"morreaal\", \"motivering\", \"motorvoertuig\", \"nadelig\", \"naleving\", \"naleving\", \"naleving\", \"naleving\", \"naleving\", \"naleving\", \"natuurlijke_persoon\", \"natuurlijke_persoon\", \"natuurlijke_persoon\", \"neus\", \"niettemin\", \"nieuw\", \"nieuw\", \"nieuw\", \"nieuw\", \"nieuw\", \"nieuw\", \"nieuw\", \"nieuw\", \"nieuw\", \"nieuw\", \"nieuw\", \"nieuwe_gemeentewet\", \"nodig\", \"nodig\", \"nodig\", \"nodig\", \"nodig\", \"nodig\", \"nodig\", \"nodig\", \"nodig\", \"nodig\", \"nodig\", \"nodig\", \"noemen\", \"noemen\", \"noemen\", \"noemen\", \"noemen\", \"noemen\", \"nomenclatuur\", \"noodzakelijk\", \"noodzakelijk\", \"noodzakelijk\", \"noodzakelijk\", \"noodzakelijk\", \"noodzakelijk\", \"noodzakelijk\", \"noodzakelijk\", \"noodzakelijk\", \"nota\", \"nota\", \"nota\", \"nota_zitting\", \"notaris\", \"notarissen\", \"nv_gewestelijk\", \"omzet\", \"omzet\", \"omzet\", \"omzetcijfer\", \"omzetcijfer_gelijk\", \"omzetting\", \"onderafdeling\", \"onderafdeling\", \"onderbreken\", \"onderbreking\", \"onderbreking\", \"onderdeel\", \"onderdeel\", \"onderdeel\", \"onderdeel\", \"onderdeel\", \"ondergetekende_bevoegen\", \"onderling_overleg\", \"ondernemer\", \"onderneming\", \"onderneming\", \"onderneming\", \"onderneming\", \"ondernemingen\", \"ondernemingen\", \"ondersteuning\", \"ondersteuning\", \"ondersteuning\", \"ondersteuning\", \"ondersteuning\", \"onderteken\", \"onderwijs\", \"onderwijs\", \"onderwijs\", \"onderworpen_handelaren\", \"onderzoek\", \"onderzoek\", \"onderzoek\", \"onderzoek\", \"onderzoek\", \"onderzoek\", \"onderzoek\", \"online\", \"onroerend_goed\", \"onroerend_goed\", \"onroerend_goed\", \"onroerende_goederen\", \"ontgaan\", \"onthouden\", \"ontwerpen\", \"ontwerpen\", \"ontwerpen\", \"ontwikkeling\", \"ontwikkeling\", \"ontwikkeling\", \"ontwikkeling\", \"oog\", \"oog\", \"oog\", \"oog\", \"oog\", \"oog\", \"oog\", \"oog\", \"oog\", \"oog\", \"oog\", \"op_heffen\", \"op_heffen\", \"op_heffen\", \"op_heffen\", \"op_heffen\", \"op_heffen\", \"op_heffen\", \"op_heffen\", \"op_heffen\", \"op_merken\", \"op_stellen\", \"op_stellen\", \"op_stellen\", \"op_stellen\", \"op_stellen\", \"op_stellen\", \"op_stellen\", \"op_stellen\", \"op_stellen\", \"op_vangen\", \"opdracht\", \"opdracht\", \"opdracht\", \"opdracht\", \"opdracht\", \"openbaar\", \"openbaar\", \"openbaar\", \"openbaar\", \"openbaar\", \"openbaar\", \"openbaar\", \"openbaar\", \"openbaar_ambt\", \"openbaar_ambt\", \"openbare_ron\", \"opera_toer\", \"operationeel_directoraat\", \"opgemerkt\", \"opleiding\", \"opleiding\", \"opleiding\", \"opleiding\", \"opleidingsjaar\", \"opmerking\", \"opmerking\", \"opmerking\", \"oppervlakte\", \"oppervlakte\", \"opsporen\", \"opstal\", \"optimaliseren\", \"opvang\", \"opvang\", \"opvangmilieus\", \"ordonnantie\", \"ordonnantie\", \"ordonnantie\", \"ordonnantie\", \"organisatie\", \"organisatie\", \"organisatie\", \"organisatie\", \"organisatie\", \"organisatie\", \"organisatie\", \"organisatie\", \"organisator\", \"organisatoren\", \"organiseren\", \"organiseren\", \"organiseren\", \"organiseren\", \"organisme\", \"overdragen\", \"overeen_komen\", \"overeen_komen\", \"overeen_komen\", \"overeen_komen\", \"overeenkomen\", \"overeenkomst\", \"overeenkomst\", \"overeenkomst\", \"overeenkomstig\", \"overeenkomstig\", \"overeenkomstig\", \"overeenkomstig\", \"overeenkomstig\", \"overeenkomstig\", \"overeenkomstig\", \"overeenkomstig\", \"overeenkomstig\", \"overeenkomstig\", \"overeenkomstig\", \"overhei_dsdienst\", \"overheid\", \"overheid\", \"overheid\", \"overheid\", \"overheid\", \"overheidsd_ienst\", \"overheidsd_ienst\", \"overnachting\", \"overnachting\", \"pand\", \"pandemie\", \"pandemie\", \"pandemie\", \"pandemie\", \"pandemie\", \"pandemie\", \"pandemie\", \"pandemie\", \"pandemie\", \"pandemie\", \"pandemie\", \"papieren\", \"paritair_comite\", \"paritaire_comite\", \"parl_st\", \"parlement\", \"parlement\", \"participatieve_democratie\", \"pas\", \"pas\", \"pas\", \"pas\", \"passen\", \"passen\", \"passen\", \"passen\", \"passen\", \"passen\", \"passen\", \"passen\", \"pati\\u00ebnt\", \"pati\\u00ebnt\", \"pedagogisch\", \"pensioen\", \"percentage\", \"percentage\", \"percentage\", \"periode\", \"periode\", \"periode\", \"periode\", \"periode\", \"periode\", \"periode\", \"periode\", \"periode\", \"periode\", \"periode\", \"permanente_vorming\", \"personeel\", \"personeel\", \"personeel\", \"personeel\", \"personeel\", \"personeel\", \"personeel\", \"personeel_lid\", \"personeel_lid\", \"personeelslid\", \"personeelslid\", \"personeelslid\", \"peuter\", \"pierre_vandernoot\", \"pijler\", \"plaats\", \"plaats\", \"plaats\", \"plaats\", \"plaats\", \"plaats\", \"plaats_nemen\", \"plaatselijke_besturen\", \"plaatsgehad\", \"plaatsvinden\", \"plafond\", \"plafond\", \"plegen\", \"politie_dienst\", \"premie\", \"premie\", \"premie\", \"president\", \"president\", \"president\", \"president\", \"president\", \"president\", \"president\", \"preventie\", \"preventie\", \"preventie\", \"private_startersprivak\", \"probleem_vormt\", \"procedure\", \"procedure\", \"procedure\", \"procedure\", \"procedure\", \"procedure\", \"procedure\", \"procedure\", \"procedure\", \"proces_verbaal\", \"proef\", \"proef\", \"professioneel\", \"professioneel\", \"programma_wet\", \"promotie\", \"promotie\", \"promotie_universitair\", \"protocol\", \"protocol\", \"protocol\", \"psychologisch\", \"psychosociaal\", \"publiceren\", \"publiceren\", \"publiceren\", \"publiceren\", \"publiceren\", \"punt\", \"punt\", \"punt\", \"punt\", \"punt\", \"punt\", \"punt\", \"punt\", \"punt\", \"quarantaine\", \"quater\", \"quinquie\", \"raad\", \"raad\", \"raad\", \"raad\", \"raad\", \"raad\", \"raad\", \"raad\", \"raad\", \"raad\", \"raad\", \"raad\", \"raad_vergadren\", \"raad_vergadren\", \"raadpleging\", \"raadpleging\", \"raadpleging\", \"raadpleging\", \"raadpleging\", \"raadpleging\", \"raadpleging\", \"rang\", \"reageren\", \"reageren\", \"reageren\", \"reageren\", \"reageren\", \"recht\", \"recht\", \"recht\", \"recht\", \"recht\", \"recht\", \"recht\", \"rechtbank\", \"rechtbank\", \"rechten_geeerbiedigd\", \"rechtsgebied\", \"rechtsgebieden\", \"rechtsgrinden\", \"rechtsgrond\", \"rechtsgrond\", \"rechtsgrond\", \"rechtsgrond\", \"rechtspersoon\", \"rechtspersoon\", \"rechtspersoon\", \"rechtsvorm\", \"redelijk_verantwoord\", \"redenen_omkleed\", \"redenen_omkleed\", \"regel\", \"regel\", \"regel\", \"regel\", \"regel\", \"regel\", \"regel\", \"regel\", \"regel\", \"regel\", \"regel\", \"regel\", \"regel_geving\", \"regeling\", \"regeling\", \"regeling\", \"regeling\", \"regeling\", \"regeling\", \"regeling\", \"regeling\", \"regeling\", \"regeling\", \"regelmatige_cursist\", \"regering\", \"regering\", \"regering\", \"regering\", \"regering\", \"regering\", \"register\", \"register\", \"registreren\", \"registreren\", \"reglementair_verei\", \"regularisatie\", \"reiskosten\", \"reizen\", \"reizen\", \"rente\", \"rente\", \"rentevoet\", \"residentieel\", \"residentieel\", \"resolutie\", \"restaurant\", \"restaurant\", \"rij_opleiding\", \"rijbewijs\", \"rijden\", \"risico\", \"risico\", \"risico\", \"risico\", \"risico\", \"risico\", \"risico\", \"ruim\", \"ruim\", \"sanitair\", \"sanitair\", \"sanitair\", \"sanitair\", \"sanitair\", \"sanitair\", \"schade\", \"schepen\", \"scheppen\", \"school\", \"school\", \"school_jaar\", \"schriftelijke_overeenkomst\", \"schuld\", \"schuld\", \"sciensano\", \"sciensano\", \"secretariaat\", \"sector\", \"sector\", \"sector\", \"sector\", \"sector\", \"sector\", \"sector\", \"sectorcomite\", \"secundair_onderwijs\", \"selectie\", \"selectie\", \"semester\", \"seraing\", \"sexie\", \"sexie\", \"si\", \"sinnen\", \"situatie\", \"situatie\", \"situatie\", \"situatie\", \"situatie\", \"situatie\", \"situatie\", \"situatie\", \"slachtoffer\", \"slagen\", \"slagen\", \"sluiten\", \"sluiten\", \"sluiten\", \"sluiten\", \"sluiten\", \"sluiten\", \"sluiten\", \"sluiten\", \"sociaal\", \"sociaal\", \"sociaal\", \"sociaal\", \"sociaal\", \"sociaal\", \"sociaal\", \"sociaal\", \"sociaal\", \"sociaal\", \"sociaal_inspecteurs\", \"social_distancing\", \"social_distancing\", \"social_distancing\", \"sociale_actie\", \"sociale_actie\", \"sociale_actie\", \"soins\", \"sous\", \"specialiseren\", \"specialiteit\", \"specialiteit\", \"spoed\", \"staan\", \"staan\", \"staan\", \"staan\", \"staan\", \"staan\", \"staan\", \"staan\", \"staan\", \"staan\", \"staat\", \"staat\", \"staat\", \"staat\", \"staat\", \"staat\", \"staatsraad\", \"staatsraden\", \"stage\", \"standp_laats\", \"standpunt\", \"startende_vennootschap\", \"statistisch\", \"statuut\", \"statuut\", \"statuut\", \"statuut\", \"steeds\", \"steeds\", \"steeds\", \"steeds\", \"steeds\", \"steeds\", \"steeds\", \"stellen\", \"stellen\", \"stellen\", \"stellen\", \"stellen\", \"stellen\", \"stellen\", \"stellen\", \"stellen\", \"stellen\", \"stellen\", \"stellen\", \"steller\", \"steller\", \"stem\", \"steun\", \"steun\", \"steunmaatregel\", \"stof\", \"stof\", \"streep\", \"streepje\", \"strekken\", \"strekking\", \"strijd\", \"strijd\", \"strijd\", \"strijd\", \"strijd\", \"strijd\", \"strikt\", \"strikt\", \"strikt\", \"strikt\", \"structureel\", \"subsidie\", \"subsidie\", \"subsidie\", \"subsidiebedrag\", \"subsidiering\", \"succes\", \"superieur\", \"synthetische_diamant\", \"tarief\", \"tarief\", \"technische_documentatie\", \"tegemoetkoming\", \"tegemoetkoming\", \"tegemoetkoming\", \"tekort\", \"tekort\", \"tekst\", \"tekst\", \"tekst\", \"tekst\", \"tekst\", \"tekst\", \"tekst\", \"tel\", \"tele_conferentie\", \"tele_werk\", \"telefoon\", \"ten_voordeel\", \"termijn\", \"termijn\", \"termijn\", \"termijn\", \"termijn\", \"termijn\", \"termijn\", \"termijn\", \"termijn\", \"termijn\", \"termijn\", \"termijn\", \"territoriale_ontwikkeling\", \"terrorisme\", \"teruggenomen\", \"teruggenomen\", \"terugname\", \"test\", \"test\", \"test\", \"testcapaciteit\", \"testen\", \"testen\", \"theoretisch\", \"thesaurie\", \"thuis\", \"thuis\", \"thuis\", \"thuis\", \"tij_delijke_werkloosheid\", \"tij_delijke_werkloosheid\", \"tijdelijk\", \"tijdelijk\", \"tijdelijk\", \"tijdelijk\", \"tijdelijk\", \"tijdelijk\", \"tijdelijk\", \"tijdelijk_werkloos\", \"tijdelijke_werkloosheid\", \"tijdelijke_werkloosheid\", \"titel\", \"titel\", \"titel\", \"titel\", \"titel\", \"titel\", \"titel\", \"toe_kennen\", \"toe_kennen\", \"toe_kennen\", \"toe_kennen\", \"toe_kennen\", \"toe_kennen\", \"toe_kennen\", \"toe_kennen\", \"toe_kennen\", \"toe_kennen\", \"toe_laten\", \"toe_laten\", \"toe_laten\", \"toe_laten\", \"toediening\", \"toegedien\", \"toegediend\", \"toegediend\", \"toegevoegde_waran\", \"toekenning\", \"toekenning\", \"toekenning\", \"toekenning\", \"toekenning\", \"toekenning\", \"toekomst\", \"toelage\", \"toelage\", \"toelage\", \"toelage\", \"toelating\", \"toelating\", \"toeristisch\", \"toeslag\", \"toeslag\", \"tonen\", \"tonen\", \"treffen\", \"treffen\", \"treffen\", \"treffen\", \"treffen\", \"triage\", \"tussenpersoon\", \"twee_talig\", \"uit_brengen\", \"uit_brengen\", \"uit_brengen\", \"uit_brengen\", \"uit_keren\", \"uit_oefenen\", \"uit_oefenen\", \"uit_oefenen\", \"uit_oefenen\", \"uit_oefenen\", \"uit_oefenen\", \"uit_oefenen\", \"uit_oefenen\", \"uit_oefenen\", \"uit_voeren\", \"uit_voeren\", \"uit_voeren\", \"uit_voeren\", \"uit_voeren\", \"uit_voeren\", \"uit_voeren\", \"uit_voeren\", \"uit_voeren\", \"uit_voeren\", \"uit_voeren\", \"uiteen_zetten\", \"uiterlijk\", \"uiterlijk\", \"uiterlijk\", \"uiterlijk\", \"uiterlijk\", \"uiterlijk\", \"uiterlijk\", \"uitgave\", \"uitgave\", \"uitgave\", \"uitgave\", \"uitgave\", \"uitkering\", \"uitkering\", \"uitkering\", \"uitkering\", \"uitkering\", \"uitkeringen_gecoordineerd\", \"uitkeringen_gecoordineerd\", \"uitoefenen\", \"uitoefenen\", \"uitstel\", \"uitstel\", \"uitstel\", \"uitvoering\", \"uitvoering\", \"uitvoering\", \"uitvoering\", \"uitvoering\", \"uitvoering\", \"uitvoering\", \"uitvoering\", \"uitvoering\", \"uitvoering\", \"uitvoering\", \"uitwisseling\", \"uitzendarbeid\", \"uitzonderen\", \"uitzonderlijke_omstandigheden\", \"unilateraal\", \"uur\", \"uur\", \"uur\", \"uur\", \"uur\", \"vaccin\", \"vaccinatie\", \"vaccinatiegraad\", \"vaccineren\", \"vak\", \"vak\", \"vakcursussen\", \"varianten\", \"vaststelling\", \"vaststelling\", \"vaststelling\", \"vaststelling\", \"vaststelling\", \"vaststelling\", \"vaststelling\", \"vaststelling\", \"vaststelling\", \"vennootschap\", \"vennootschap\", \"vennootschappen\", \"vennootschappen\", \"verband\", \"verband\", \"verband\", \"verband\", \"verband\", \"verband\", \"verband\", \"verband\", \"verband\", \"verband\", \"verband\", \"verbieden\", \"verbieden\", \"verbod\", \"verbod\", \"verdrag\", \"verdrag\", \"verenigd_college\", \"verenigd_college\", \"verenigd_koninkrijk\", \"verenigen\", \"verenigen\", \"vereniging\", \"vereniging\", \"vereniging\", \"vereniging\", \"vereniging\", \"vergadering\", \"vergadering\", \"vergadering\", \"vergadering\", \"vergadering\", \"vergoedbaar\", \"vergoedbare_farmaceutisch\", \"vergoeding\", \"vergoeding\", \"vergoeding\", \"vergoeding\", \"vergunning\", \"vergunning\", \"vergunning\", \"vergunning\", \"vergunnings\", \"verh_uurder\", \"verhuur\", \"verhuur\", \"verhuurder\", \"verkrijgen\", \"verkrijgen\", \"verkrijgen\", \"verkrijgen\", \"verkrijgen\", \"verkrijgen\", \"verkrijgen\", \"verlenen\", \"verlenen\", \"verlenen\", \"verlenen\", \"verlenen\", \"verlenen\", \"verlenen\", \"verlenen\", \"verlenen\", \"verlengen\", \"verlengen\", \"verlengen\", \"verlengen\", \"verlengen\", \"verlengen\", \"verlengen\", \"verlengen\", \"verlenging\", \"verlenging\", \"verlenging\", \"verlenging\", \"verlenging\", \"verloven\", \"vermelden\", \"vermelden\", \"vermelden\", \"vermelden\", \"vermelden\", \"vermelden\", \"vermenigvuldigd\", \"vermindering\", \"vermindering\", \"vermindering\", \"vermindering\", \"vermogen\", \"vermogen\", \"verordeningen\", \"verpleegkundig\", \"verplichte_sluiting\", \"verplichte_verzekering\", \"verplichte_verzekering\", \"verplichten\", \"verplichten\", \"verplichten\", \"verplichten\", \"verplichten\", \"verplichten\", \"verrekening\", \"verrichten\", \"verrichten\", \"verrichten\", \"verrichten\", \"verscheiden\", \"verschuldigde\", \"verschuldigen\", \"verschuldigen\", \"verschuldigen\", \"verslag\", \"verslag\", \"verslag\", \"verslag\", \"verslag\", \"verslag\", \"verslag\", \"verslag\", \"verslag\", \"verspreiding\", \"verspreiding\", \"verspreiding\", \"verspreiding\", \"verspreiding\", \"verspreiding\", \"verspreiding\", \"verspreiding\", \"versterken\", \"versterken\", \"versterken\", \"versteviging\", \"verstreken\", \"verstrekking\", \"verstrekking\", \"verstrekkingen\", \"verstrijken\", \"verstrijken\", \"vertraging\", \"vervangen\", \"vervangen\", \"vervangen\", \"vervangen\", \"vervangen\", \"vervangen\", \"vervangen\", \"vervangen\", \"verwerken\", \"verwerken\", \"verwerken\", \"verwerken\", \"verwerker\", \"verwerking\", \"verwerking\", \"verwerking\", \"verwerking\", \"verwerking\", \"verwerven\", \"verwerven\", \"verwerven\", \"verwerving\", \"verwerving\", \"verwijzen\", \"verwijzen\", \"verwijzen\", \"verwijzen\", \"verwijzing\", \"verwijzing\", \"verwijzing\", \"verwijzing\", \"verzameling\", \"verze_nding\", \"verze_nding\", \"verze_nding\", \"verzekering\", \"verzekering\", \"verzekering\", \"verzekering\", \"verzending\", \"verzet\", \"verzonden\", \"verzonden\", \"verzonden\", \"vestigen\", \"vestigen\", \"vestigen\", \"vice\", \"vice\", \"vice\", \"vice_eersteminister\", \"viller\", \"virtueel\", \"vitale_sectoren\", \"voertuig\", \"voertuig\", \"voldoen\", \"voldoen\", \"voldoen\", \"voldoen\", \"voldoen\", \"voldoen\", \"voldoen\", \"voldoen\", \"voldoen\", \"voldoen\", \"voldoen\", \"voldoening\", \"volksgezondheid\", \"volksgezondheid\", \"volksgezondheid\", \"volksgezondheid\", \"volksgezondheid\", \"volksgezondheid\", \"volstort\", \"volstorting\", \"volwassen\", \"vonnis\", \"voogdij\", \"voor_gaan\", \"voor_gaan\", \"voor_gaan\", \"voor_gaan\", \"voor_stellen\", \"voor_stellen\", \"voor_stellen\", \"voorkomen\", \"voorkomen\", \"voorkomen\", \"voorkomen\", \"voorkomen\", \"voorkomen\", \"voorkomen\", \"voorkomen\", \"voorkomen\", \"voorliggen\", \"voorliggen\", \"voorliggen\", \"voornamen\", \"voornoemd\", \"voornoemd\", \"voornoemd\", \"voornoemd\", \"voorschot\", \"voorschot\", \"voorschrifen\", \"voorstel\", \"voorstel\", \"voorstel\", \"voorstel\", \"voorstel\", \"voorstel\", \"voorstel\", \"voortaan\", \"voorwaarde\", \"voorwaarde\", \"voorwaarde\", \"voorwaarde\", \"voorwaarde\", \"voorwaarde\", \"voorwaarde\", \"voorwaarde\", \"voorwaarde\", \"voorwaarde\", \"voorziening\", \"voorziening\", \"voorzitter\", \"voorzitter\", \"voorzitter\", \"voorzitter\", \"voorzitter\", \"voorzitter\", \"voorzitter\", \"voorzitter\", \"vormingswerker\", \"vormingswerkers_beslist\", \"vos_adviseur\", \"vraag\", \"vraag\", \"vraag\", \"vraag\", \"vraag\", \"vraag\", \"vraag\", \"vraag_rijst\", \"vrijstelling\", \"vrijstelling\", \"vrijstelling\", \"vrijstelling\", \"vrijwilliger\", \"vrijwilliger\", \"vroegtijdig\", \"vrouwenrechten_linard\", \"vruchtgebruik\", \"vullen\", \"vullen\", \"vullen\", \"vullen\", \"waals\", \"waals\", \"waals\", \"waals\", \"waar\", \"waar\", \"waar\", \"waar\", \"waar\", \"waar\", \"waarbij\", \"waarbij\", \"waarbij\", \"waarbij\", \"waarbij\", \"waarbij\", \"waarbij\", \"waarbij\", \"waarbij\", \"waarbij\", \"waarin\", \"waarin\", \"waarin\", \"waarin\", \"waarin\", \"waarin\", \"waarin\", \"waarin\", \"waarop\", \"waarop\", \"waarop\", \"waarop\", \"waarop\", \"waarop\", \"waarop\", \"waarop\", \"waarop\", \"waarop\", \"waarop\", \"waarvan\", \"waarvan\", \"waarvan\", \"waarvan\", \"waarvan\", \"waarvan\", \"waarvan\", \"waarvan\", \"waarvan\", \"waarvan\", \"waarvoor\", \"waarvoor\", \"waarvoor\", \"waarvoor\", \"waarvoor\", \"wachten\", \"wachten\", \"wallonie_bruxelles\", \"weddenschappen\", \"week\", \"week\", \"week\", \"week\", \"week\", \"week\", \"week\", \"weggelat\", \"welzijn\", \"welzijn\", \"welzijn\", \"werk\", \"werk\", \"werk\", \"werk\", \"werk\", \"werk\", \"werkgelegenheid\", \"werkgelegenheid\", \"werkgever\", \"werkgever\", \"werkgever\", \"werklozen\", \"werknemer\", \"werknemer\", \"werknemer\", \"werknemer\", \"werkzaam_bestanddeel\", \"werkzame_bestanddel\", \"wet_boek\", \"wet_boek\", \"wet_boek\", \"wet_boek\", \"wet_boek\", \"wet_boek\", \"wetboek\", \"wetboek\", \"wetboek\", \"wetgever\", \"wetsbepaling\", \"wetteksten\", \"wettig\", \"wijzig\", \"wijzig\", \"wijzig\", \"wijzig\", \"wijzig\", \"wijzigen\", \"wijzigen\", \"wijzigen\", \"wijzigen\", \"wijzigen\", \"wijzigen\", \"wijzigen\", \"wijzigen\", \"wijzigen\", \"wijzigen\", \"wijziging\", \"wijziging\", \"wijziging\", \"wijziging\", \"wijziging\", \"wijziging\", \"wijziging\", \"wijziging\", \"winst_oogmerk\", \"woonz_orgcentrum\", \"woord\", \"woord\", \"woord\", \"woord\", \"woord\", \"zaak\", \"zaak\", \"zaak\", \"zaak\", \"zaak\", \"zaak\", \"zelfstandig\", \"zelfstandig\", \"zetel\", \"zetel\", \"zetel\", \"zeven\", \"ziekenhuis\", \"ziekenhuis\", \"ziekenhuis\", \"ziekenhuizen_hulpverlening\", \"zien\", \"zien\", \"zien\", \"zien\", \"zien\", \"zien\", \"zien\", \"zien\", \"zien\", \"zien\", \"zinsned\", \"zinsned\", \"zittijd\", \"zorg\", \"zorg\", \"zorg\", \"zorg\", \"zorgverlener\", \"zorgverlener\", \"zover\", \"zover\", \"zover\", \"zover\", \"zover\", \"zover\", \"zulks_schriftelijk\", \"zullen_onze\", \"zullen_onze\", \"zullen_onze\"]}, \"R\": 30, \"lambda.step\": 0.01, \"plot.opts\": {\"xlab\": \"PC1\", \"ylab\": \"PC2\"}, \"topic.order\": [6, 4, 11, 14, 12, 18, 17, 19, 5, 7, 9, 2, 13, 1, 3, 8, 16, 10, 20, 15]};\n",
              "\n",
              "function LDAvis_load_lib(url, callback){\n",
              "  var s = document.createElement('script');\n",
              "  s.src = url;\n",
              "  s.async = true;\n",
              "  s.onreadystatechange = s.onload = callback;\n",
              "  s.onerror = function(){console.warn(\"failed to load library \" + url);};\n",
              "  document.getElementsByTagName(\"head\")[0].appendChild(s);\n",
              "}\n",
              "\n",
              "if(typeof(LDAvis) !== \"undefined\"){\n",
              "   // already loaded: just create the visualization\n",
              "   !function(LDAvis){\n",
              "       new LDAvis(\"#\" + \"ldavis_el23356793549284917550031\", ldavis_el23356793549284917550031_data);\n",
              "   }(LDAvis);\n",
              "}else if(typeof define === \"function\" && define.amd){\n",
              "   // require.js is available: use it to load d3/LDAvis\n",
              "   require.config({paths: {d3: \"https://d3js.org/d3.v5\"}});\n",
              "   require([\"d3\"], function(d3){\n",
              "      window.d3 = d3;\n",
              "      LDAvis_load_lib(\"https://cdn.jsdelivr.net/gh/bmabey/pyLDAvis@3.3.1/pyLDAvis/js/ldavis.v3.0.0.js\", function(){\n",
              "        new LDAvis(\"#\" + \"ldavis_el23356793549284917550031\", ldavis_el23356793549284917550031_data);\n",
              "      });\n",
              "    });\n",
              "}else{\n",
              "    // require.js not available: dynamically load d3 & LDAvis\n",
              "    LDAvis_load_lib(\"https://d3js.org/d3.v5.js\", function(){\n",
              "         LDAvis_load_lib(\"https://cdn.jsdelivr.net/gh/bmabey/pyLDAvis@3.3.1/pyLDAvis/js/ldavis.v3.0.0.js\", function(){\n",
              "                 new LDAvis(\"#\" + \"ldavis_el23356793549284917550031\", ldavis_el23356793549284917550031_data);\n",
              "            })\n",
              "         });\n",
              "}\n",
              "</script>"
            ],
            "text/plain": [
              "PreparedData(topic_coordinates=              x         y  topics  cluster       Freq\n",
              "topic                                                \n",
              "5     -0.165728  0.017370       1        1  13.104362\n",
              "3     -0.189515 -0.018225       2        1  12.429768\n",
              "10    -0.169339  0.043610       3        1  11.970106\n",
              "13    -0.200183  0.110743       4        1  11.674613\n",
              "11    -0.152972  0.108938       5        1   9.489546\n",
              "17    -0.200124 -0.020825       6        1   7.820434\n",
              "16    -0.139472 -0.047753       7        1   5.391563\n",
              "18    -0.097944  0.164223       8        1   5.364492\n",
              "4     -0.148830 -0.247837       9        1   5.061368\n",
              "6     -0.077148  0.197924      10        1   4.931506\n",
              "8     -0.049943 -0.117904      11        1   3.698755\n",
              "1     -0.068720 -0.191770      12        1   3.505444\n",
              "12    -0.005014 -0.042628      13        1   1.898597\n",
              "0      0.182542  0.017472      14        1   1.088836\n",
              "2      0.204802  0.025776      15        1   0.886315\n",
              "7      0.210866 -0.023394      16        1   0.670111\n",
              "15     0.253102  0.005578      17        1   0.290852\n",
              "9      0.271593  0.002472      18        1   0.289666\n",
              "19     0.273506  0.005414      19        1   0.225425\n",
              "14     0.268519  0.010814      20        1   0.208241, topic_info=             Term         Freq        Total Category  logprob  loglift\n",
              "130      regering  2681.000000  2681.000000  Default  30.0000  30.0000\n",
              "574       decreet  1864.000000  1864.000000  Default  29.0000  29.0000\n",
              "1057     wet_boek  1263.000000  1263.000000  Default  28.0000  28.0000\n",
              "86     koninklijk  2188.000000  2188.000000  Default  27.0000  27.0000\n",
              "1032    vermelden  1322.000000  1322.000000  Default  26.0000  26.0000\n",
              "...           ...          ...          ...      ...      ...      ...\n",
              "942       materie     0.728793    57.080268  Topic20  -6.7632   1.8134\n",
              "457   vergadering     2.190739   269.580696  Topic20  -5.6626   1.3616\n",
              "56      financiën     1.519783   254.662488  Topic20  -6.0283   1.0529\n",
              "444        gewoon     0.931384   153.056654  Topic20  -6.5179   1.0723\n",
              "114           oog     1.129835   359.456122  Topic20  -6.3248   0.4117\n",
              "\n",
              "[1212 rows x 6 columns], token_table=      Topic      Freq                Term\n",
              "term                                     \n",
              "2216     19  0.850738             Besluit\n",
              "430       9  0.934455            Clerfayt\n",
              "6103     18  0.705698                Croo\n",
              "204      15  0.812415               Ernst\n",
              "4651     16  0.879985             Face_to\n",
              "...     ...       ...                 ...\n",
              "1296      6  0.136157               zover\n",
              "6490     13  0.943266  zulks_schriftelijk\n",
              "201       5  0.219040         zullen_onze\n",
              "201       6  0.681459         zullen_onze\n",
              "201      13  0.097351         zullen_onze\n",
              "\n",
              "[2807 rows x 3 columns], R=30, lambda_step=0.01, plot_opts={'xlab': 'PC1', 'ylab': 'PC2'}, topic_order=[6, 4, 11, 14, 12, 18, 17, 19, 5, 7, 9, 2, 13, 1, 3, 8, 16, 10, 20, 15])"
            ]
          },
          "execution_count": 100,
          "metadata": {},
          "output_type": "execute_result"
        }
      ],
      "source": [
        "# Feeding the model into the pyLDAvis instance\n",
        "vis = gensimvis.prepare(lda_model, corpus, id2word)\n",
        "vis"
      ]
    },
    {
      "cell_type": "markdown",
      "metadata": {
        "id": "2gk22bIUd26A"
      },
      "source": [
        "**How to make inferences from pyLDAvis' output:**\n",
        "\n",
        "Each bubble on the left-hand side plot represents a topic. The larger the bubble, the more prevalent is that topic.\n",
        "\n",
        "A good topic model will have fairly big, non-overlapping bubbles scattered throughout the chart instead of being clustered in one quadrant.\n",
        "\n",
        "A model with too many topics, will typically have many overlaps, small sized bubbles clustered in one region of the chart.\n",
        "\n",
        "Alright, if you move the cursor over one of the bubbles, the words and bars on the right-hand side will update. These words are the salient keywords that form the selected topic."
      ]
    },
    {
      "cell_type": "markdown",
      "metadata": {
        "id": "ETy1_-3dfOJV"
      },
      "source": [
        "## Mallet's version of LDA"
      ]
    },
    {
      "cell_type": "markdown",
      "metadata": {
        "id": "OK3o1pfYfR_C"
      },
      "source": [
        "Up next, we will improve upon this model by using **Mallet’s version of LDA algorithm** and then we will focus on how to arrive at the optimal number of topics given any large corpus of text."
      ]
    },
    {
      "cell_type": "markdown",
      "metadata": {
        "id": "BufgXlalgeK7"
      },
      "source": [
        "Gensim provides a wrapper to implement Mallet’s LDA from within Gensim itself. "
      ]
    },
    {
      "cell_type": "code",
      "execution_count": 41,
      "metadata": {
        "id": "10EAD6GgiyVo"
      },
      "outputs": [
        {
          "name": "stdout",
          "output_type": "stream",
          "text": [
            "Collecting gensim==3.8\n",
            "  Downloading gensim-3.8.0.tar.gz (23.4 MB)\n",
            "\u001b[2K     \u001b[90m━━━━━━━━━━━━━━━━━━━━━━━━━━━━━━━━━━━━━━━━\u001b[0m \u001b[32m23.4/23.4 MB\u001b[0m \u001b[31m16.3 MB/s\u001b[0m eta \u001b[36m0:00:00\u001b[0m00:01\u001b[0m00:01\u001b[0m\n",
            "\u001b[?25h  Preparing metadata (setup.py) ... \u001b[?25ldone\n",
            "\u001b[?25hRequirement already satisfied: numpy>=1.11.3 in /Users/wvdvijve/.pyenv/versions/3.8.8/lib/python3.8/site-packages (from gensim==3.8) (1.22.3)\n",
            "Requirement already satisfied: scipy>=0.18.1 in /Users/wvdvijve/.pyenv/versions/3.8.8/lib/python3.8/site-packages (from gensim==3.8) (1.8.0)\n",
            "Requirement already satisfied: six>=1.5.0 in /Users/wvdvijve/.pyenv/versions/3.8.8/lib/python3.8/site-packages (from gensim==3.8) (1.16.0)\n",
            "Requirement already satisfied: smart_open>=1.7.0 in /Users/wvdvijve/.pyenv/versions/3.8.8/lib/python3.8/site-packages (from gensim==3.8) (5.2.1)\n",
            "Building wheels for collected packages: gensim\n",
            "  Building wheel for gensim (setup.py) ... \u001b[?25ldone\n",
            "\u001b[?25h  Created wheel for gensim: filename=gensim-3.8.0-cp38-cp38-macosx_11_0_x86_64.whl size=24203870 sha256=121d70f1edf74c995c53734238fd66297ac589a37c703d96125f13e0e01ec64b\n",
            "  Stored in directory: /Users/wvdvijve/Library/Caches/pip/wheels/09/d1/44/6d6dcb820e282b40ccfce6d2bb0101c24d7fffd863b2276783\n",
            "Successfully built gensim\n",
            "Installing collected packages: gensim\n",
            "  Attempting uninstall: gensim\n",
            "    Found existing installation: gensim 4.2.0\n",
            "    Uninstalling gensim-4.2.0:\n",
            "      Successfully uninstalled gensim-4.2.0\n",
            "Successfully installed gensim-3.8.0\n",
            "\u001b[33mWARNING: There was an error checking the latest version of pip.\u001b[0m\u001b[33m\n",
            "\u001b[0m"
          ]
        }
      ],
      "source": [
        "# Upgrading Gensim\n",
        "# Updated to enforce Gensim v3.8 in Colab (the last version to support running topic models via Mallet).\n",
        "# https://github.com/polsci/colab-gensim-mallet\n",
        "!pip install --upgrade gensim==3.8"
      ]
    },
    {
      "cell_type": "code",
      "execution_count": 39,
      "metadata": {
        "id": "RnZJ8JBxjnod"
      },
      "outputs": [
        {
          "name": "stdout",
          "output_type": "stream",
          "text": [
            "zsh:1: command not found: wget\n",
            "unzip:  cannot find or open mallet-2.0.8.zip, mallet-2.0.8.zip.zip or mallet-2.0.8.zip.ZIP.\n"
          ]
        }
      ],
      "source": [
        "# Installing Mallet\n",
        "!wget http://mallet.cs.umass.edu/dist/mallet-2.0.8.zip\n",
        "!unzip mallet-2.0.8.zip"
      ]
    },
    {
      "cell_type": "code",
      "execution_count": 44,
      "metadata": {
        "id": "bmx7cxdXk8Is"
      },
      "outputs": [
        {
          "ename": "AttributeError",
          "evalue": "module 'gensim.models' has no attribute 'wrappers'",
          "output_type": "error",
          "traceback": [
            "\u001b[0;31m---------------------------------------------------------------------------\u001b[0m",
            "\u001b[0;31mAttributeError\u001b[0m                            Traceback (most recent call last)",
            "\u001b[1;32m/Users/wvdvijve/Documents/GitHub/becode-projects/KPMG_NLP_project/topics_from_Maellet.ipynb Cell 50'\u001b[0m in \u001b[0;36m<cell line: 2>\u001b[0;34m()\u001b[0m\n\u001b[1;32m      <a href='vscode-notebook-cell:/Users/wvdvijve/Documents/GitHub/becode-projects/KPMG_NLP_project/topics_from_Maellet.ipynb#ch0000049?line=0'>1</a>\u001b[0m mallet_path \u001b[39m=\u001b[39m \u001b[39m'\u001b[39m\u001b[39mmallet-2.0.8/\u001b[39m\u001b[39m'\u001b[39m\n\u001b[0;32m----> <a href='vscode-notebook-cell:/Users/wvdvijve/Documents/GitHub/becode-projects/KPMG_NLP_project/topics_from_Maellet.ipynb#ch0000049?line=1'>2</a>\u001b[0m ldamallet \u001b[39m=\u001b[39m gensim\u001b[39m.\u001b[39;49mmodels\u001b[39m.\u001b[39;49mwrappers\u001b[39m.\u001b[39mLdaMallet(mallet_path, corpus\u001b[39m=\u001b[39mcorpus, num_topics\u001b[39m=\u001b[39m\u001b[39m20\u001b[39m, id2word\u001b[39m=\u001b[39mid2word)\n",
            "\u001b[0;31mAttributeError\u001b[0m: module 'gensim.models' has no attribute 'wrappers'"
          ]
        }
      ],
      "source": [
        "mallet_path = 'mallet-2.0.8/'\n",
        "ldamallet = gensim.models.wrappers.LdaMallet(mallet_path, corpus=corpus, num_topics=20, id2word=id2word)"
      ]
    },
    {
      "cell_type": "code",
      "execution_count": null,
      "metadata": {},
      "outputs": [],
      "source": []
    },
    {
      "cell_type": "code",
      "execution_count": null,
      "metadata": {
        "colab": {
          "base_uri": "https://localhost:8080/"
        },
        "id": "59BxDHcTjhBr",
        "outputId": "9d495fb4-f08b-4fac-d5b9-4e9972189995"
      },
      "outputs": [
        {
          "name": "stdout",
          "output_type": "stream",
          "text": [
            "[(8,\n",
            "  [('koninklijk', 0.04911494340196004),\n",
            "   ('wet', 0.042239611030920006),\n",
            "   ('cov_id', 0.03274329560130669),\n",
            "   ('zelfstandig', 0.023133024386538022),\n",
            "   ('tijdelijk', 0.01899263085922662),\n",
            "   ('kader', 0.018346881410012915),\n",
            "   ('houdende', 0.016599559370964065),\n",
            "   ('coronavirus', 0.015308060472536656),\n",
            "   ('periode', 0.01443439945301223),\n",
            "   ('advies', 0.013408797386613994)]),\n",
            " (13,\n",
            "  [('cov_id', 0.02466019417475728),\n",
            "   ('kader', 0.01372168284789644),\n",
            "   ('categorie', 0.013398058252427184),\n",
            "   ('coronavirus', 0.012427184466019418),\n",
            "   ('contact', 0.011391585760517799),\n",
            "   ('vermellen', 0.011197411003236245),\n",
            "   ('lijst', 0.010550161812297735),\n",
            "   ('decreet', 0.009838187702265373),\n",
            "   ('verwerking', 0.009385113268608414),\n",
            "   ('digitaal', 0.008802588996763753)]),\n",
            " (18,\n",
            "  [('cov_id', 0.024083584204002126),\n",
            "   ('beperken', 0.02107313617850186),\n",
            "   ('verspreiding', 0.020955079393188122),\n",
            "   ('coronavirus', 0.018593943686913406),\n",
            "   ('dringend', 0.01617377958798182),\n",
            "   ('gewest', 0.014284871022962045),\n",
            "   ('raad', 0.013104303169824685),\n",
            "   ('verlengen', 0.012277905672628535),\n",
            "   ('ministerieel', 0.011392479782775515),\n",
            "   ('letten', 0.011156366212148043)]),\n",
            " (19,\n",
            "  [('regering', 0.05330272889568988),\n",
            "   ('begroting', 0.02078551389951543),\n",
            "   ('cov_id', 0.019574088242795204),\n",
            "   ('kader', 0.017533792399897986),\n",
            "   ('dienst', 0.016258607498087222),\n",
            "   ('besluiten', 0.01536597806681969),\n",
            "   ('letten', 0.015238459576638613),\n",
            "   ('bijzonder', 0.01498342259627646),\n",
            "   ('belasten', 0.01396327467482785),\n",
            "   ('pandemie', 0.013899515429737311)]),\n",
            " (16,\n",
            "  [('ontwerp', 0.03100399660893787),\n",
            "   ('advies', 0.012534818941504178),\n",
            "   ('wet', 0.012171490856243188),\n",
            "   ('bepaling', 0.011898994792297444),\n",
            "   ('bevoegdheid', 0.010839287876952888),\n",
            "   ('ontwerpen', 0.01053651447256873),\n",
            "   ('één', 0.008477655322756449),\n",
            "   ('nemen', 0.008295991280125955),\n",
            "   ('raad', 0.008144604577933874),\n",
            "   ('ministerieel', 0.008023495216180211)]),\n",
            " (12,\n",
            "  [('onderneming', 0.042292796281951976),\n",
            "   ('steun', 0.03466305189775368),\n",
            "   ('code', 0.019558481797056545),\n",
            "   ('regering', 0.017195972114639815),\n",
            "   ('nace_bel', 0.014678543764523625),\n",
            "   ('activiteit', 0.013710302091402013),\n",
            "   ('aanvraag', 0.012161115414407436),\n",
            "   ('economisch', 0.011773818745158792),\n",
            "   ('economie', 0.01158017041053447),\n",
            "   ('vergoeding', 0.010573199070487994)]),\n",
            " (6,\n",
            "  [('brusselse_hoofdstedelijk', 0.060601351876311084),\n",
            "   ('ordonnantie', 0.03744852769792557),\n",
            "   ('regering', 0.031621474632895656),\n",
            "   ('gewestelijk', 0.022997436096651388),\n",
            "   ('procedure', 0.01709268899075441),\n",
            "   ('belasten', 0.01584958433688136),\n",
            "   ('datum', 0.0155388081734131),\n",
            "   ('één', 0.014218009478672985),\n",
            "   ('overheid_dienst', 0.013052598865667004),\n",
            "   ('naam', 0.012664128661331675)]),\n",
            " (5,\n",
            "  [('woord', 0.0841854124062713),\n",
            "   ('vervangen', 0.07083617359690979),\n",
            "   ('één', 0.03862758463985458),\n",
            "   ('paragraaf', 0.038570779368325384),\n",
            "   ('wet', 0.037945921381504204),\n",
            "   ('hetzelfde', 0.03135650988411725),\n",
            "   ('bepaling', 0.018518518518518517),\n",
            "   ('twee', 0.016757555101113382),\n",
            "   ('drie', 0.016359918200409),\n",
            "   ('luiden', 0.01493978641217905)]),\n",
            " (11,\n",
            "  [('bedrag', 0.02201407003398941),\n",
            "   ('hoofdstuk', 0.020551735040708244),\n",
            "   ('wet', 0.02047268990593629),\n",
            "   ('maand', 0.01699470397597028),\n",
            "   ('wetboek', 0.015729981819619),\n",
            "   ('vennootschap', 0.014504782230653704),\n",
            "   ('werknemer', 0.012014860485337127),\n",
            "   ('periode', 0.011342976839775512),\n",
            "   ('één', 0.011263931705003557),\n",
            "   ('voorwaarde', 0.011145364002845624)]),\n",
            " (3,\n",
            "  [('waals', 0.041339644119585406),\n",
            "   ('cov_id', 0.030974776825834282),\n",
            "   ('regering', 0.027140375052423463),\n",
            "   ('decreet', 0.019531484033311366),\n",
            "   ('uitvoering', 0.01755437061889641),\n",
            "   ('crisis', 0.011383380264813373),\n",
            "   ('vaccinatie', 0.01000539212749386),\n",
            "   ('bijzondere_machten', 0.009825654544365226),\n",
            "   ('fase', 0.008627403990174346),\n",
            "   ('sociaal', 0.0085674914624648)])]\n"
          ]
        }
      ],
      "source": [
        "# Showing Topics\n",
        "pprint(ldamallet.show_topics(formatted=False))"
      ]
    },
    {
      "cell_type": "code",
      "execution_count": null,
      "metadata": {
        "colab": {
          "base_uri": "https://localhost:8080/"
        },
        "id": "gIX9rBgujzdk",
        "outputId": "2f517cef-c900-4eb8-eca4-c40af1e3e15c"
      },
      "outputs": [
        {
          "name": "stdout",
          "output_type": "stream",
          "text": [
            "\n",
            "Coherence Score:  0.49145787837386523\n"
          ]
        }
      ],
      "source": [
        "# Compute Coherence Score\n",
        "coherence_model_ldamallet = CoherenceModel(model=ldamallet, texts=data_lemmatized, dictionary=id2word, coherence='c_v')\n",
        "coherence_ldamallet = coherence_model_ldamallet.get_coherence()\n",
        "print('\\nCoherence Score: ', coherence_ldamallet)"
      ]
    },
    {
      "cell_type": "markdown",
      "metadata": {
        "id": "Jw3eiFejkNuV"
      },
      "source": [
        "**NOTE:** A *remarkable increase* in **coherence score** from  **0.4755895419687482** to **0.5263633698781748**."
      ]
    },
    {
      "cell_type": "markdown",
      "metadata": {
        "id": "p_OfPJxEk16s"
      },
      "source": [
        "### Finding the optimal number of topics for LDA"
      ]
    },
    {
      "cell_type": "markdown",
      "metadata": {
        "id": "rYN-JJP8k-4d"
      },
      "source": [
        "The approach to finding the optimal number of topics is to build many LDA models with different values of number of topics (k) and pick the one that gives the highest coherence value."
      ]
    },
    {
      "cell_type": "code",
      "execution_count": 103,
      "metadata": {
        "id": "OvCJUPmjj4_H"
      },
      "outputs": [],
      "source": [
        "def compute_coherence_values(dictionary, corpus, texts, limit, start=2, step=3):\n",
        "    \"\"\"\n",
        "    Compute c_v coherence for various number of topics\n",
        "\n",
        "    Parameters:\n",
        "    ----------\n",
        "    dictionary : Gensim dictionary\n",
        "    corpus : Gensim corpus\n",
        "    texts : List of input texts\n",
        "    limit : Max num of topics\n",
        "\n",
        "    Returns:\n",
        "    -------\n",
        "    model_list : List of LDA topic models\n",
        "    coherence_values : Coherence values corresponding to the LDA model with respective number of topics\n",
        "    \"\"\"\n",
        "    coherence_values = []\n",
        "    model_list = []\n",
        "    for num_topics in range(start, limit, step):\n",
        "        model = gensim.models.wrappers.LdaMallet(mallet_path, corpus=corpus, num_topics=num_topics, id2word=id2word)\n",
        "        model_list.append(model)\n",
        "        coherencemodel = CoherenceModel(model=model, texts=texts, dictionary=dictionary, coherence='c_v')\n",
        "        coherence_values.append(coherencemodel.get_coherence())\n",
        "    \n",
        "    return model_list, coherence_values"
      ]
    },
    {
      "cell_type": "code",
      "execution_count": 104,
      "metadata": {
        "colab": {
          "base_uri": "https://localhost:8080/",
          "height": 329
        },
        "id": "a2XYtjZplyTR",
        "outputId": "4b076854-710b-41e5-f79c-404e8ce811d6"
      },
      "outputs": [],
      "source": [
        "# Can take a long time to run.\n",
        "model_list, coherence_values = compute_coherence_values(dictionary=id2word, corpus=corpus, texts=data_lemmatized, start=2, limit=40, step=6)"
      ]
    },
    {
      "cell_type": "code",
      "execution_count": 105,
      "metadata": {
        "colab": {
          "base_uri": "https://localhost:8080/",
          "height": 281
        },
        "id": "k-rMtgaqmfBz",
        "outputId": "9b37cc9f-de57-46f8-aec1-a48cb0acf188"
      },
      "outputs": [
        {
          "data": {
            "image/png": "[encoded data removed]",
            "text/plain": [
              "<Figure size 432x288 with 1 Axes>"
            ]
          },
          "metadata": {
            "needs_background": "light"
          },
          "output_type": "display_data"
        }
      ],
      "source": [
        "# Showing graph\n",
        "limit=40; start=2; step=6;\n",
        "x = range(start, limit, step)\n",
        "plt.plot(x, coherence_values)\n",
        "plt.xlabel(\"Num Topics\")\n",
        "plt.ylabel(\"Coherence score\")\n",
        "plt.legend((\"coherence_values\"), loc='best')\n",
        "plt.show()"
      ]
    },
    {
      "cell_type": "markdown",
      "metadata": {
        "id": "K3CVzCuq01Yt"
      },
      "source": [
        "**NOTE:**\n",
        "The optimal **coherence score** shown in this plot lies **around 6-8 number of topics**."
      ]
    },
    {
      "cell_type": "code",
      "execution_count": null,
      "metadata": {
        "colab": {
          "base_uri": "https://localhost:8080/"
        },
        "id": "OQlk6b8OmmUG",
        "outputId": "dd2e8daf-d4dc-4e79-bd63-00f0e36f0054"
      },
      "outputs": [
        {
          "name": "stdout",
          "output_type": "stream",
          "text": [
            "Num Topics = 2  has Coherence Value of 0.422\n",
            "Num Topics = 8  has Coherence Value of 0.4514\n",
            "Num Topics = 14  has Coherence Value of 0.4875\n",
            "Num Topics = 20  has Coherence Value of 0.4801\n",
            "Num Topics = 26  has Coherence Value of 0.4663\n",
            "Num Topics = 32  has Coherence Value of 0.4728\n",
            "Num Topics = 38  has Coherence Value of 0.4686\n"
          ]
        }
      ],
      "source": [
        "# Printing the coherence scores\n",
        "for m, cv in zip(x, coherence_values):\n",
        "    print(\"Num Topics =\", m, \" has Coherence Value of\", round(cv, 4))"
      ]
    },
    {
      "cell_type": "markdown",
      "metadata": {
        "id": "gKIMg0vbmtiA"
      },
      "source": [
        "If the coherence score seems to keep increasing, it may make better sense to pick the model that gave the highest CV before flattening out."
      ]
    },
    {
      "cell_type": "markdown",
      "metadata": {
        "id": "yGPOHR2Vm128"
      },
      "source": [
        "### Choosing the model with fourteen (14) topics"
      ]
    },
    {
      "cell_type": "code",
      "execution_count": null,
      "metadata": {
        "colab": {
          "base_uri": "https://localhost:8080/"
        },
        "id": "PHB5hvHsmveV",
        "outputId": "6be5669d-0ffc-4625-e29d-2d00021fcd53"
      },
      "outputs": [
        {
          "name": "stdout",
          "output_type": "stream",
          "text": [
            "[(0,\n",
            "  '0.037*\"persoon\" + 0.024*\"cov_id\" + 0.020*\"artikel\" + 0.013*\"betreffen\" + '\n",
            "  '0.012*\"gegeven\" + 0.011*\"vaccinatie\" + 0.011*\"coronavirus\" + '\n",
            "  '0.011*\"bevoegd\" + 0.009*\"verwerking\" + 0.008*\"bepalen\"'),\n",
            " (1,\n",
            "  '0.017*\"bedrag\" + 0.014*\"financieel\" + 0.014*\"ziekenhuis\" + 0.013*\"euro\" + '\n",
            "  '0.012*\"artikel\" + 0.011*\"jaar\" + 0.009*\"instelling\" + 0.008*\"volgen\" + '\n",
            "  '0.008*\"basis\" + 0.008*\"kost\"'),\n",
            " (2,\n",
            "  '0.026*\"brusselse_hoofdstedelijk\" + 0.019*\"regering\" + 0.019*\"besluit\" + '\n",
            "  '0.015*\"ordonnantie\" + 0.014*\"minister\" + 0.014*\"gewest\" + '\n",
            "  '0.012*\"betrekking\" + 0.011*\"belasten\" + 0.010*\"belasting\" + '\n",
            "  '0.010*\"administratie\"'),\n",
            " (3,\n",
            "  '0.030*\"artikel\" + 0.020*\"bedoelen\" + 0.016*\"betreffen\" + 0.015*\"procedure\" '\n",
            "  '+ 0.015*\"persoon\" + 0.015*\"kennisgeving\" + 0.015*\"fiscaal\" + '\n",
            "  '0.015*\"akkoord\" + 0.014*\"inlichting\" + 0.013*\"toepassing\"'),\n",
            " (4,\n",
            "  '0.019*\"cov_id\" + 0.016*\"artikel\" + 0.014*\"patiënt\" + 0.011*\"bepalen\" + '\n",
            "  '0.011*\"voorzien\" + 0.010*\"verstrekking\" + 0.008*\"werknemer\" + '\n",
            "  '0.008*\"ziekenhuis\" + 0.008*\"mogelijk\" + 0.007*\"maatregel\"'),\n",
            " (5,\n",
            "  '0.067*\"besluit\" + 0.042*\"koninklijk\" + 0.040*\"wet\" + 0.037*\"artikel\" + '\n",
            "  '0.027*\"cov_id\" + 0.023*\"minister\" + 0.021*\"maatregel\" + 0.016*\"geven\" + '\n",
            "  '0.014*\"zelfstandig\" + 0.014*\"gelet\"'),\n",
            " (6,\n",
            "  '0.040*\"artikel\" + 0.022*\"bedoelen\" + 0.021*\"wet\" + 0.016*\"hoofdstuk\" + '\n",
            "  '0.016*\"werknemer\" + 0.015*\"sociaal\" + 0.014*\"periode\" + 0.013*\"toepassing\" '\n",
            "  '+ 0.012*\"maand\" + 0.011*\"bedrag\"'),\n",
            " (7,\n",
            "  '0.041*\"artikel\" + 0.036*\"Vlaams\" + 0.026*\"besluit\" + 0.025*\"lid\" + '\n",
            "  '0.024*\"decreet\" + 0.021*\"vermellen\" + 0.018*\"subsidie\" + 0.017*\"volgen\" + '\n",
            "  '0.013*\"periode\" + 0.013*\"regering\"'),\n",
            " (8,\n",
            "  '0.051*\"artikel\" + 0.032*\"wetboek\" + 0.028*\"bedoelen\" + 0.024*\"lid\" + '\n",
            "  '0.024*\"goed\" + 0.018*\"regeling\" + 0.017*\"één\" + 0.017*\"bijzonder\" + '\n",
            "  '0.016*\"belasting\" + 0.015*\"besluit\"'),\n",
            " (9,\n",
            "  '0.084*\"artikel\" + 0.071*\"lid\" + 0.052*\"woord\" + 0.038*\"vervangen\" + '\n",
            "  '0.035*\"wet\" + 0.034*\"één\" + 0.031*\"bedoelen\" + 0.026*\"paragraaf\" + '\n",
            "  '0.021*\"volgen\" + 0.018*\"hetzelfde\"'),\n",
            " (10,\n",
            "  '0.033*\"onderneming\" + 0.028*\"steun\" + 0.020*\"artikel\" + 0.016*\"code\" + '\n",
            "  '0.016*\"bedoelen\" + 0.015*\"betreffen\" + 0.014*\"regering\" + 0.013*\"besluit\" + '\n",
            "  '0.013*\"minister\" + 0.012*\"nace_bel\"'),\n",
            " (11,\n",
            "  '0.034*\"artikel\" + 0.020*\"besluit\" + 0.019*\"onderwijs\" + 0.018*\"decreet\" + '\n",
            "  '0.014*\"betreffen\" + 0.014*\"leerling\" + 0.013*\"regering\" + 0.012*\"lid\" + '\n",
            "  '0.012*\"overwegende\" + 0.011*\"organiseren\"'),\n",
            " (12,\n",
            "  '0.028*\"artikel\" + 0.019*\"maatregel\" + 0.019*\"ontwerp\" + 0.010*\"lid\" + '\n",
            "  '0.010*\"wet\" + 0.009*\"bepalen\" + 0.009*\"bepaling\" + 0.008*\"besluit\" + '\n",
            "  '0.008*\"bevoegdheid\" + 0.008*\"volgen\"'),\n",
            " (13,\n",
            "  '0.044*\"regering\" + 0.036*\"besluit\" + 0.031*\"minister\" + 0.027*\"overwegende\" '\n",
            "  '+ 0.026*\"waals\" + 0.023*\"cov_id\" + 0.023*\"artikel\" + 0.023*\"decreet\" + '\n",
            "  '0.017*\"gelet\" + 0.017*\"maatregel\"')]\n"
          ]
        }
      ],
      "source": [
        "# Select the model and print the topics\n",
        "# The best LDA model with the optimal coherence score has 14 topics, which is\n",
        "# index 2 from the model_list list\n",
        "optimal_model = model_list[2]\n",
        "model_topics = optimal_model.show_topics(formatted=False)\n",
        "pprint(optimal_model.print_topics(num_words=10))"
      ]
    },
    {
      "cell_type": "markdown",
      "metadata": {
        "id": "jM5BBtRPm-BA"
      },
      "source": [
        "### Finding the dominant topic in each sentence"
      ]
    },
    {
      "cell_type": "markdown",
      "metadata": {
        "id": "snt2Rep5nGWg"
      },
      "source": [
        "One of the practical application of topic modeling is to determine what topic a given document is about.\n",
        "\n",
        "To find that, we find the **topic number that has the highest percentage contribution** in the document/set of documents."
      ]
    },
    {
      "cell_type": "code",
      "execution_count": 106,
      "metadata": {
        "id": "4dZDyOL2mn1T"
      },
      "outputs": [
        {
          "ename": "NameError",
          "evalue": "name 'optimal_model' is not defined",
          "output_type": "error",
          "traceback": [
            "\u001b[0;31m---------------------------------------------------------------------------\u001b[0m",
            "\u001b[0;31mNameError\u001b[0m                                 Traceback (most recent call last)",
            "\u001b[1;32m/Users/wvdvijve/Documents/GitHub/becode-projects/KPMG_NLP_project/topics_from_Maellet.ipynb Cell 67'\u001b[0m in \u001b[0;36m<cell line: 23>\u001b[0;34m()\u001b[0m\n\u001b[1;32m     <a href='vscode-notebook-cell:/Users/wvdvijve/Documents/GitHub/becode-projects/KPMG_NLP_project/topics_from_Maellet.ipynb#ch0000065?line=19'>20</a>\u001b[0m     sent_topics_df \u001b[39m=\u001b[39m pd\u001b[39m.\u001b[39mconcat([sent_topics_df, contents], axis\u001b[39m=\u001b[39m\u001b[39m1\u001b[39m)\n\u001b[1;32m     <a href='vscode-notebook-cell:/Users/wvdvijve/Documents/GitHub/becode-projects/KPMG_NLP_project/topics_from_Maellet.ipynb#ch0000065?line=20'>21</a>\u001b[0m     \u001b[39mreturn\u001b[39;00m(sent_topics_df)\n\u001b[0;32m---> <a href='vscode-notebook-cell:/Users/wvdvijve/Documents/GitHub/becode-projects/KPMG_NLP_project/topics_from_Maellet.ipynb#ch0000065?line=22'>23</a>\u001b[0m df_topic_sents_keywords \u001b[39m=\u001b[39m format_topics_sentences(ldamodel\u001b[39m=\u001b[39moptimal_model, corpus\u001b[39m=\u001b[39mcorpus, texts\u001b[39m=\u001b[39mdata_words)\n",
            "\u001b[0;31mNameError\u001b[0m: name 'optimal_model' is not defined"
          ]
        }
      ],
      "source": [
        "def format_topics_sentences(ldamodel=lda_model, corpus=corpus, texts=data_words):\n",
        "    # Init output\n",
        "    sent_topics_df = pd.DataFrame()\n",
        "\n",
        "    # Get main topic in each document\n",
        "    for i, row in enumerate(ldamodel[corpus]):\n",
        "        row = sorted(row, key=lambda x: (x[1]), reverse=True)\n",
        "        # Get the Dominant topic, Perc Contribution and Keywords for each document\n",
        "        for j, (topic_num, prop_topic) in enumerate(row):\n",
        "            if j == 0:  # => dominant topic\n",
        "                wp = ldamodel.show_topic(topic_num)\n",
        "                topic_keywords = \", \".join([word for word, prop in wp])\n",
        "                sent_topics_df = sent_topics_df.append(pd.Series([int(topic_num), round(prop_topic,4), topic_keywords]), ignore_index=True)\n",
        "            else:\n",
        "                break\n",
        "    sent_topics_df.columns = ['Dominant_Topic', 'Perc_Contribution', 'Topic_Keywords']\n",
        "\n",
        "    # Add original text to the end of the output\n",
        "    contents = pd.Series(texts)\n",
        "    sent_topics_df = pd.concat([sent_topics_df, contents], axis=1)\n",
        "    return(sent_topics_df)\n",
        "\n",
        "df_topic_sents_keywords = format_topics_sentences(ldamodel=optimal_model, corpus=corpus, texts=data_words)"
      ]
    },
    {
      "cell_type": "code",
      "execution_count": null,
      "metadata": {
        "colab": {
          "base_uri": "https://localhost:8080/",
          "height": 363
        },
        "id": "Rko8z_8PnYaa",
        "outputId": "0abd9f6c-7ad7-494b-8cfc-8a9bab16ebc1"
      },
      "outputs": [
        {
          "data": {
            "text/html": [
              "\n",
              "  <div id=\"df-e7fb240d-5502-4f94-959e-794d4f15ddd8\">\n",
              "    <div class=\"colab-df-container\">\n",
              "      <div>\n",
              "<style scoped>\n",
              "    .dataframe tbody tr th:only-of-type {\n",
              "        vertical-align: middle;\n",
              "    }\n",
              "\n",
              "    .dataframe tbody tr th {\n",
              "        vertical-align: top;\n",
              "    }\n",
              "\n",
              "    .dataframe thead th {\n",
              "        text-align: right;\n",
              "    }\n",
              "</style>\n",
              "<table border=\"1\" class=\"dataframe\">\n",
              "  <thead>\n",
              "    <tr style=\"text-align: right;\">\n",
              "      <th></th>\n",
              "      <th>Document_No</th>\n",
              "      <th>Dominant_Topic</th>\n",
              "      <th>Topic_Perc_Contrib</th>\n",
              "      <th>Keywords</th>\n",
              "      <th>Text</th>\n",
              "    </tr>\n",
              "  </thead>\n",
              "  <tbody>\n",
              "    <tr>\n",
              "      <th>0</th>\n",
              "      <td>0</td>\n",
              "      <td>8.0</td>\n",
              "      <td>0.7347</td>\n",
              "      <td>artikel, wetboek, bedoelen, lid, goed, regelin...</td>\n",
              "      <td>[de, coefficient, bedoeld, in, artikel, van, h...</td>\n",
              "    </tr>\n",
              "    <tr>\n",
              "      <th>1</th>\n",
              "      <td>1</td>\n",
              "      <td>2.0</td>\n",
              "      <td>0.4394</td>\n",
              "      <td>brusselse_hoofdstedelijk, regering, besluit, o...</td>\n",
              "      <td>[filip, koning, der, belgen, aan, allen, die, ...</td>\n",
              "    </tr>\n",
              "    <tr>\n",
              "      <th>2</th>\n",
              "      <td>2</td>\n",
              "      <td>5.0</td>\n",
              "      <td>0.5631</td>\n",
              "      <td>besluit, koninklijk, wet, artikel, cov_id, min...</td>\n",
              "      <td>[verslag, aan, de, koning, sire, het, koninkli...</td>\n",
              "    </tr>\n",
              "    <tr>\n",
              "      <th>3</th>\n",
              "      <td>3</td>\n",
              "      <td>11.0</td>\n",
              "      <td>0.6697</td>\n",
              "      <td>artikel, besluit, onderwijs, decreet, betreffe...</td>\n",
              "      <td>[de, regering, van, de, franse, gemeenschap, g...</td>\n",
              "    </tr>\n",
              "    <tr>\n",
              "      <th>4</th>\n",
              "      <td>4</td>\n",
              "      <td>10.0</td>\n",
              "      <td>0.2717</td>\n",
              "      <td>onderneming, steun, artikel, code, bedoelen, b...</td>\n",
              "      <td>[de, waalse, regering, gelet, op, het, decreet...</td>\n",
              "    </tr>\n",
              "    <tr>\n",
              "      <th>5</th>\n",
              "      <td>5</td>\n",
              "      <td>7.0</td>\n",
              "      <td>0.4446</td>\n",
              "      <td>artikel, Vlaams, besluit, lid, decreet, vermel...</td>\n",
              "      <td>[het, vlaams, parlement, heeft, aangenomen, en...</td>\n",
              "    </tr>\n",
              "    <tr>\n",
              "      <th>6</th>\n",
              "      <td>6</td>\n",
              "      <td>9.0</td>\n",
              "      <td>0.3213</td>\n",
              "      <td>artikel, lid, woord, vervangen, wet, één, bedo...</td>\n",
              "      <td>[in, worden, de, woorden, pct, vervangen, door...</td>\n",
              "    </tr>\n",
              "    <tr>\n",
              "      <th>7</th>\n",
              "      <td>7</td>\n",
              "      <td>13.0</td>\n",
              "      <td>0.3958</td>\n",
              "      <td>regering, besluit, minister, overwegende, waal...</td>\n",
              "      <td>[de, regering, van, de, franse, gemeenschap, g...</td>\n",
              "    </tr>\n",
              "    <tr>\n",
              "      <th>8</th>\n",
              "      <td>8</td>\n",
              "      <td>5.0</td>\n",
              "      <td>0.4133</td>\n",
              "      <td>besluit, koninklijk, wet, artikel, cov_id, min...</td>\n",
              "      <td>[filip, koning, der, belgen, aan, allen, die, ...</td>\n",
              "    </tr>\n",
              "    <tr>\n",
              "      <th>9</th>\n",
              "      <td>9</td>\n",
              "      <td>5.0</td>\n",
              "      <td>0.3022</td>\n",
              "      <td>besluit, koninklijk, wet, artikel, cov_id, min...</td>\n",
              "      <td>[de, brusselse, hoofdstedelijke, regering, gel...</td>\n",
              "    </tr>\n",
              "  </tbody>\n",
              "</table>\n",
              "</div>\n",
              "      <button class=\"colab-df-convert\" onclick=\"convertToInteractive('df-e7fb240d-5502-4f94-959e-794d4f15ddd8')\"\n",
              "              title=\"Convert this dataframe to an interactive table.\"\n",
              "              style=\"display:none;\">\n",
              "        \n",
              "  <svg xmlns=\"http://www.w3.org/2000/svg\" height=\"24px\"viewBox=\"0 0 24 24\"\n",
              "       width=\"24px\">\n",
              "    <path d=\"M0 0h24v24H0V0z\" fill=\"none\"/>\n",
              "    <path d=\"M18.56 5.44l.94 2.06.94-2.06 2.06-.94-2.06-.94-.94-2.06-.94 2.06-2.06.94zm-11 1L8.5 8.5l.94-2.06 2.06-.94-2.06-.94L8.5 2.5l-.94 2.06-2.06.94zm10 10l.94 2.06.94-2.06 2.06-.94-2.06-.94-.94-2.06-.94 2.06-2.06.94z\"/><path d=\"M17.41 7.96l-1.37-1.37c-.4-.4-.92-.59-1.43-.59-.52 0-1.04.2-1.43.59L10.3 9.45l-7.72 7.72c-.78.78-.78 2.05 0 2.83L4 21.41c.39.39.9.59 1.41.59.51 0 1.02-.2 1.41-.59l7.78-7.78 2.81-2.81c.8-.78.8-2.07 0-2.86zM5.41 20L4 18.59l7.72-7.72 1.47 1.35L5.41 20z\"/>\n",
              "  </svg>\n",
              "      </button>\n",
              "      \n",
              "  <style>\n",
              "    .colab-df-container {\n",
              "      display:flex;\n",
              "      flex-wrap:wrap;\n",
              "      gap: 12px;\n",
              "    }\n",
              "\n",
              "    .colab-df-convert {\n",
              "      background-color: #E8F0FE;\n",
              "      border: none;\n",
              "      border-radius: 50%;\n",
              "      cursor: pointer;\n",
              "      display: none;\n",
              "      fill: #1967D2;\n",
              "      height: 32px;\n",
              "      padding: 0 0 0 0;\n",
              "      width: 32px;\n",
              "    }\n",
              "\n",
              "    .colab-df-convert:hover {\n",
              "      background-color: #E2EBFA;\n",
              "      box-shadow: 0px 1px 2px rgba(60, 64, 67, 0.3), 0px 1px 3px 1px rgba(60, 64, 67, 0.15);\n",
              "      fill: #174EA6;\n",
              "    }\n",
              "\n",
              "    [theme=dark] .colab-df-convert {\n",
              "      background-color: #3B4455;\n",
              "      fill: #D2E3FC;\n",
              "    }\n",
              "\n",
              "    [theme=dark] .colab-df-convert:hover {\n",
              "      background-color: #434B5C;\n",
              "      box-shadow: 0px 1px 3px 1px rgba(0, 0, 0, 0.15);\n",
              "      filter: drop-shadow(0px 1px 2px rgba(0, 0, 0, 0.3));\n",
              "      fill: #FFFFFF;\n",
              "    }\n",
              "  </style>\n",
              "\n",
              "      <script>\n",
              "        const buttonEl =\n",
              "          document.querySelector('#df-e7fb240d-5502-4f94-959e-794d4f15ddd8 button.colab-df-convert');\n",
              "        buttonEl.style.display =\n",
              "          google.colab.kernel.accessAllowed ? 'block' : 'none';\n",
              "\n",
              "        async function convertToInteractive(key) {\n",
              "          const element = document.querySelector('#df-e7fb240d-5502-4f94-959e-794d4f15ddd8');\n",
              "          const dataTable =\n",
              "            await google.colab.kernel.invokeFunction('convertToInteractive',\n",
              "                                                     [key], {});\n",
              "          if (!dataTable) return;\n",
              "\n",
              "          const docLinkHtml = 'Like what you see? Visit the ' +\n",
              "            '<a target=\"_blank\" href=https://colab.research.google.com/notebooks/data_table.ipynb>data table notebook</a>'\n",
              "            + ' to learn more about interactive tables.';\n",
              "          element.innerHTML = '';\n",
              "          dataTable['output_type'] = 'display_data';\n",
              "          await google.colab.output.renderOutput(dataTable, element);\n",
              "          const docLink = document.createElement('div');\n",
              "          docLink.innerHTML = docLinkHtml;\n",
              "          element.appendChild(docLink);\n",
              "        }\n",
              "      </script>\n",
              "    </div>\n",
              "  </div>\n",
              "  "
            ],
            "text/plain": [
              "   Document_No  Dominant_Topic  Topic_Perc_Contrib  \\\n",
              "0            0             8.0              0.7347   \n",
              "1            1             2.0              0.4394   \n",
              "2            2             5.0              0.5631   \n",
              "3            3            11.0              0.6697   \n",
              "4            4            10.0              0.2717   \n",
              "5            5             7.0              0.4446   \n",
              "6            6             9.0              0.3213   \n",
              "7            7            13.0              0.3958   \n",
              "8            8             5.0              0.4133   \n",
              "9            9             5.0              0.3022   \n",
              "\n",
              "                                            Keywords  \\\n",
              "0  artikel, wetboek, bedoelen, lid, goed, regelin...   \n",
              "1  brusselse_hoofdstedelijk, regering, besluit, o...   \n",
              "2  besluit, koninklijk, wet, artikel, cov_id, min...   \n",
              "3  artikel, besluit, onderwijs, decreet, betreffe...   \n",
              "4  onderneming, steun, artikel, code, bedoelen, b...   \n",
              "5  artikel, Vlaams, besluit, lid, decreet, vermel...   \n",
              "6  artikel, lid, woord, vervangen, wet, één, bedo...   \n",
              "7  regering, besluit, minister, overwegende, waal...   \n",
              "8  besluit, koninklijk, wet, artikel, cov_id, min...   \n",
              "9  besluit, koninklijk, wet, artikel, cov_id, min...   \n",
              "\n",
              "                                                Text  \n",
              "0  [de, coefficient, bedoeld, in, artikel, van, h...  \n",
              "1  [filip, koning, der, belgen, aan, allen, die, ...  \n",
              "2  [verslag, aan, de, koning, sire, het, koninkli...  \n",
              "3  [de, regering, van, de, franse, gemeenschap, g...  \n",
              "4  [de, waalse, regering, gelet, op, het, decreet...  \n",
              "5  [het, vlaams, parlement, heeft, aangenomen, en...  \n",
              "6  [in, worden, de, woorden, pct, vervangen, door...  \n",
              "7  [de, regering, van, de, franse, gemeenschap, g...  \n",
              "8  [filip, koning, der, belgen, aan, allen, die, ...  \n",
              "9  [de, brusselse, hoofdstedelijke, regering, gel...  "
            ]
          },
          "execution_count": 34,
          "metadata": {},
          "output_type": "execute_result"
        }
      ],
      "source": [
        "# Formatting\n",
        "df_dominant_topic = df_topic_sents_keywords.reset_index()\n",
        "df_dominant_topic.columns = ['Document_No', 'Dominant_Topic', 'Topic_Perc_Contrib', 'Keywords', 'Text']\n",
        "\n",
        "# Showing\n",
        "df_dominant_topic.head(10)"
      ]
    },
    {
      "cell_type": "markdown",
      "metadata": {
        "id": "rH-gdgkgpfiM"
      },
      "source": [
        "### Finding the most representative document for each topic"
      ]
    },
    {
      "cell_type": "markdown",
      "metadata": {
        "id": "Z1e_t-Ufpiyf"
      },
      "source": [
        "With understanding the topic, you can find the documents a given topic has contributed to the most and infer the topic by reading that document."
      ]
    },
    {
      "cell_type": "code",
      "execution_count": null,
      "metadata": {
        "colab": {
          "base_uri": "https://localhost:8080/",
          "height": 206
        },
        "id": "RNhW5j47pqBn",
        "outputId": "5e0ce6cb-b7e1-40bb-fa76-11b48b833854"
      },
      "outputs": [
        {
          "data": {
            "text/html": [
              "\n",
              "  <div id=\"df-7787cf52-46f7-4ac8-82b6-58ee82d1289e\">\n",
              "    <div class=\"colab-df-container\">\n",
              "      <div>\n",
              "<style scoped>\n",
              "    .dataframe tbody tr th:only-of-type {\n",
              "        vertical-align: middle;\n",
              "    }\n",
              "\n",
              "    .dataframe tbody tr th {\n",
              "        vertical-align: top;\n",
              "    }\n",
              "\n",
              "    .dataframe thead th {\n",
              "        text-align: right;\n",
              "    }\n",
              "</style>\n",
              "<table border=\"1\" class=\"dataframe\">\n",
              "  <thead>\n",
              "    <tr style=\"text-align: right;\">\n",
              "      <th></th>\n",
              "      <th>Topic_Num</th>\n",
              "      <th>Topic_Perc_Contrib</th>\n",
              "      <th>Keywords</th>\n",
              "      <th>Text</th>\n",
              "    </tr>\n",
              "  </thead>\n",
              "  <tbody>\n",
              "    <tr>\n",
              "      <th>0</th>\n",
              "      <td>0.0</td>\n",
              "      <td>0.8710</td>\n",
              "      <td>persoon, cov_id, artikel, betreffen, gegeven, ...</td>\n",
              "      <td>[filip, koning, der, belgen, aan, allen, die, ...</td>\n",
              "    </tr>\n",
              "    <tr>\n",
              "      <th>1</th>\n",
              "      <td>1.0</td>\n",
              "      <td>0.8355</td>\n",
              "      <td>bedrag, financieel, ziekenhuis, euro, artikel,...</td>\n",
              "      <td>[startende, vennootschappen, kunnen, moeilijkh...</td>\n",
              "    </tr>\n",
              "    <tr>\n",
              "      <th>2</th>\n",
              "      <td>2.0</td>\n",
              "      <td>0.9438</td>\n",
              "      <td>brusselse_hoofdstedelijk, regering, besluit, o...</td>\n",
              "      <td>[krachtens, artikel, van, het, koninklijk, bes...</td>\n",
              "    </tr>\n",
              "    <tr>\n",
              "      <th>3</th>\n",
              "      <td>3.0</td>\n",
              "      <td>0.9013</td>\n",
              "      <td>artikel, bedoelen, betreffen, procedure, perso...</td>\n",
              "      <td>[de, brusselse, hoofdstedelijke, regering, gel...</td>\n",
              "    </tr>\n",
              "    <tr>\n",
              "      <th>4</th>\n",
              "      <td>4.0</td>\n",
              "      <td>0.8259</td>\n",
              "      <td>cov_id, artikel, patiënt, bepalen, voorzien, v...</td>\n",
              "      <td>[verslag, aan, de, koning, sire, ik, heb, de, ...</td>\n",
              "    </tr>\n",
              "  </tbody>\n",
              "</table>\n",
              "</div>\n",
              "      <button class=\"colab-df-convert\" onclick=\"convertToInteractive('df-7787cf52-46f7-4ac8-82b6-58ee82d1289e')\"\n",
              "              title=\"Convert this dataframe to an interactive table.\"\n",
              "              style=\"display:none;\">\n",
              "        \n",
              "  <svg xmlns=\"http://www.w3.org/2000/svg\" height=\"24px\"viewBox=\"0 0 24 24\"\n",
              "       width=\"24px\">\n",
              "    <path d=\"M0 0h24v24H0V0z\" fill=\"none\"/>\n",
              "    <path d=\"M18.56 5.44l.94 2.06.94-2.06 2.06-.94-2.06-.94-.94-2.06-.94 2.06-2.06.94zm-11 1L8.5 8.5l.94-2.06 2.06-.94-2.06-.94L8.5 2.5l-.94 2.06-2.06.94zm10 10l.94 2.06.94-2.06 2.06-.94-2.06-.94-.94-2.06-.94 2.06-2.06.94z\"/><path d=\"M17.41 7.96l-1.37-1.37c-.4-.4-.92-.59-1.43-.59-.52 0-1.04.2-1.43.59L10.3 9.45l-7.72 7.72c-.78.78-.78 2.05 0 2.83L4 21.41c.39.39.9.59 1.41.59.51 0 1.02-.2 1.41-.59l7.78-7.78 2.81-2.81c.8-.78.8-2.07 0-2.86zM5.41 20L4 18.59l7.72-7.72 1.47 1.35L5.41 20z\"/>\n",
              "  </svg>\n",
              "      </button>\n",
              "      \n",
              "  <style>\n",
              "    .colab-df-container {\n",
              "      display:flex;\n",
              "      flex-wrap:wrap;\n",
              "      gap: 12px;\n",
              "    }\n",
              "\n",
              "    .colab-df-convert {\n",
              "      background-color: #E8F0FE;\n",
              "      border: none;\n",
              "      border-radius: 50%;\n",
              "      cursor: pointer;\n",
              "      display: none;\n",
              "      fill: #1967D2;\n",
              "      height: 32px;\n",
              "      padding: 0 0 0 0;\n",
              "      width: 32px;\n",
              "    }\n",
              "\n",
              "    .colab-df-convert:hover {\n",
              "      background-color: #E2EBFA;\n",
              "      box-shadow: 0px 1px 2px rgba(60, 64, 67, 0.3), 0px 1px 3px 1px rgba(60, 64, 67, 0.15);\n",
              "      fill: #174EA6;\n",
              "    }\n",
              "\n",
              "    [theme=dark] .colab-df-convert {\n",
              "      background-color: #3B4455;\n",
              "      fill: #D2E3FC;\n",
              "    }\n",
              "\n",
              "    [theme=dark] .colab-df-convert:hover {\n",
              "      background-color: #434B5C;\n",
              "      box-shadow: 0px 1px 3px 1px rgba(0, 0, 0, 0.15);\n",
              "      filter: drop-shadow(0px 1px 2px rgba(0, 0, 0, 0.3));\n",
              "      fill: #FFFFFF;\n",
              "    }\n",
              "  </style>\n",
              "\n",
              "      <script>\n",
              "        const buttonEl =\n",
              "          document.querySelector('#df-7787cf52-46f7-4ac8-82b6-58ee82d1289e button.colab-df-convert');\n",
              "        buttonEl.style.display =\n",
              "          google.colab.kernel.accessAllowed ? 'block' : 'none';\n",
              "\n",
              "        async function convertToInteractive(key) {\n",
              "          const element = document.querySelector('#df-7787cf52-46f7-4ac8-82b6-58ee82d1289e');\n",
              "          const dataTable =\n",
              "            await google.colab.kernel.invokeFunction('convertToInteractive',\n",
              "                                                     [key], {});\n",
              "          if (!dataTable) return;\n",
              "\n",
              "          const docLinkHtml = 'Like what you see? Visit the ' +\n",
              "            '<a target=\"_blank\" href=https://colab.research.google.com/notebooks/data_table.ipynb>data table notebook</a>'\n",
              "            + ' to learn more about interactive tables.';\n",
              "          element.innerHTML = '';\n",
              "          dataTable['output_type'] = 'display_data';\n",
              "          await google.colab.output.renderOutput(dataTable, element);\n",
              "          const docLink = document.createElement('div');\n",
              "          docLink.innerHTML = docLinkHtml;\n",
              "          element.appendChild(docLink);\n",
              "        }\n",
              "      </script>\n",
              "    </div>\n",
              "  </div>\n",
              "  "
            ],
            "text/plain": [
              "   Topic_Num  Topic_Perc_Contrib  \\\n",
              "0        0.0              0.8710   \n",
              "1        1.0              0.8355   \n",
              "2        2.0              0.9438   \n",
              "3        3.0              0.9013   \n",
              "4        4.0              0.8259   \n",
              "\n",
              "                                            Keywords  \\\n",
              "0  persoon, cov_id, artikel, betreffen, gegeven, ...   \n",
              "1  bedrag, financieel, ziekenhuis, euro, artikel,...   \n",
              "2  brusselse_hoofdstedelijk, regering, besluit, o...   \n",
              "3  artikel, bedoelen, betreffen, procedure, perso...   \n",
              "4  cov_id, artikel, patiënt, bepalen, voorzien, v...   \n",
              "\n",
              "                                                Text  \n",
              "0  [filip, koning, der, belgen, aan, allen, die, ...  \n",
              "1  [startende, vennootschappen, kunnen, moeilijkh...  \n",
              "2  [krachtens, artikel, van, het, koninklijk, bes...  \n",
              "3  [de, brusselse, hoofdstedelijke, regering, gel...  \n",
              "4  [verslag, aan, de, koning, sire, ik, heb, de, ...  "
            ]
          },
          "execution_count": 35,
          "metadata": {},
          "output_type": "execute_result"
        }
      ],
      "source": [
        "# Grouping the top 5 sentences under each topic\n",
        "sent_topics_sorteddf_mallet = pd.DataFrame()\n",
        "\n",
        "sent_topics_outdf_grpd = df_topic_sents_keywords.groupby('Dominant_Topic')\n",
        "\n",
        "for i, grp in sent_topics_outdf_grpd:\n",
        "    sent_topics_sorteddf_mallet = pd.concat([sent_topics_sorteddf_mallet, \n",
        "                                             grp.sort_values(['Perc_Contribution'], ascending=[0]).head(1)], \n",
        "                                            axis=0)\n",
        "\n",
        "# Reseting Index    \n",
        "sent_topics_sorteddf_mallet.reset_index(drop=True, inplace=True)\n",
        "\n",
        "# Formating\n",
        "sent_topics_sorteddf_mallet.columns = ['Topic_Num', \"Topic_Perc_Contrib\", \"Keywords\", \"Text\"]\n",
        "\n",
        "# Showing\n",
        "sent_topics_sorteddf_mallet.head()"
      ]
    },
    {
      "cell_type": "markdown",
      "metadata": {
        "id": "DoYcEQQNp6Lm"
      },
      "source": [
        "The tabular output above actually has 20 rows, one each for a topic. It has the topic number, the keywords, and the most representative document. The **Perc_Contribution column** is nothing but the percentage contribution of the topic in the given document."
      ]
    },
    {
      "cell_type": "markdown",
      "metadata": {
        "id": "GP4W5PoIp-pK"
      },
      "source": [
        "## Topic distribution across documents"
      ]
    },
    {
      "cell_type": "markdown",
      "metadata": {
        "id": "nFRFXvosqB4n"
      },
      "source": [
        "Finally, we want to understand the volume and distribution of topics in order to judge how widely it was discussed. "
      ]
    },
    {
      "cell_type": "code",
      "execution_count": null,
      "metadata": {
        "colab": {
          "base_uri": "https://localhost:8080/",
          "height": 424
        },
        "id": "UhzZdILGqUaT",
        "outputId": "c7bd9f24-3077-4db2-c21e-283e3584b20a"
      },
      "outputs": [
        {
          "data": {
            "text/html": [
              "\n",
              "  <div id=\"df-6b3a2e88-ea9b-4842-9bbc-f992ce0eb425\">\n",
              "    <div class=\"colab-df-container\">\n",
              "      <div>\n",
              "<style scoped>\n",
              "    .dataframe tbody tr th:only-of-type {\n",
              "        vertical-align: middle;\n",
              "    }\n",
              "\n",
              "    .dataframe tbody tr th {\n",
              "        vertical-align: top;\n",
              "    }\n",
              "\n",
              "    .dataframe thead th {\n",
              "        text-align: right;\n",
              "    }\n",
              "</style>\n",
              "<table border=\"1\" class=\"dataframe\">\n",
              "  <thead>\n",
              "    <tr style=\"text-align: right;\">\n",
              "      <th></th>\n",
              "      <th>Dominant_Topic</th>\n",
              "      <th>Topic_Keywords</th>\n",
              "      <th>Num_Documents</th>\n",
              "      <th>Perc_Documents</th>\n",
              "    </tr>\n",
              "  </thead>\n",
              "  <tbody>\n",
              "    <tr>\n",
              "      <th>0.0</th>\n",
              "      <td>8.0</td>\n",
              "      <td>artikel, wetboek, bedoelen, lid, goed, regelin...</td>\n",
              "      <td>24.0</td>\n",
              "      <td>0.0382</td>\n",
              "    </tr>\n",
              "    <tr>\n",
              "      <th>1.0</th>\n",
              "      <td>2.0</td>\n",
              "      <td>brusselse_hoofdstedelijk, regering, besluit, o...</td>\n",
              "      <td>33.0</td>\n",
              "      <td>0.0525</td>\n",
              "    </tr>\n",
              "    <tr>\n",
              "      <th>2.0</th>\n",
              "      <td>5.0</td>\n",
              "      <td>besluit, koninklijk, wet, artikel, cov_id, min...</td>\n",
              "      <td>58.0</td>\n",
              "      <td>0.0924</td>\n",
              "    </tr>\n",
              "    <tr>\n",
              "      <th>3.0</th>\n",
              "      <td>11.0</td>\n",
              "      <td>artikel, besluit, onderwijs, decreet, betreffe...</td>\n",
              "      <td>37.0</td>\n",
              "      <td>0.0589</td>\n",
              "    </tr>\n",
              "    <tr>\n",
              "      <th>4.0</th>\n",
              "      <td>10.0</td>\n",
              "      <td>onderneming, steun, artikel, code, bedoelen, b...</td>\n",
              "      <td>31.0</td>\n",
              "      <td>0.0494</td>\n",
              "    </tr>\n",
              "    <tr>\n",
              "      <th>...</th>\n",
              "      <td>...</td>\n",
              "      <td>...</td>\n",
              "      <td>...</td>\n",
              "      <td>...</td>\n",
              "    </tr>\n",
              "    <tr>\n",
              "      <th>623.0</th>\n",
              "      <td>3.0</td>\n",
              "      <td>artikel, bedoelen, betreffen, procedure, perso...</td>\n",
              "      <td>NaN</td>\n",
              "      <td>NaN</td>\n",
              "    </tr>\n",
              "    <tr>\n",
              "      <th>624.0</th>\n",
              "      <td>13.0</td>\n",
              "      <td>regering, besluit, minister, overwegende, waal...</td>\n",
              "      <td>NaN</td>\n",
              "      <td>NaN</td>\n",
              "    </tr>\n",
              "    <tr>\n",
              "      <th>625.0</th>\n",
              "      <td>13.0</td>\n",
              "      <td>regering, besluit, minister, overwegende, waal...</td>\n",
              "      <td>NaN</td>\n",
              "      <td>NaN</td>\n",
              "    </tr>\n",
              "    <tr>\n",
              "      <th>626.0</th>\n",
              "      <td>9.0</td>\n",
              "      <td>artikel, lid, woord, vervangen, wet, één, bedo...</td>\n",
              "      <td>NaN</td>\n",
              "      <td>NaN</td>\n",
              "    </tr>\n",
              "    <tr>\n",
              "      <th>627.0</th>\n",
              "      <td>0.0</td>\n",
              "      <td>persoon, cov_id, artikel, betreffen, gegeven, ...</td>\n",
              "      <td>NaN</td>\n",
              "      <td>NaN</td>\n",
              "    </tr>\n",
              "  </tbody>\n",
              "</table>\n",
              "<p>628 rows × 4 columns</p>\n",
              "</div>\n",
              "      <button class=\"colab-df-convert\" onclick=\"convertToInteractive('df-6b3a2e88-ea9b-4842-9bbc-f992ce0eb425')\"\n",
              "              title=\"Convert this dataframe to an interactive table.\"\n",
              "              style=\"display:none;\">\n",
              "        \n",
              "  <svg xmlns=\"http://www.w3.org/2000/svg\" height=\"24px\"viewBox=\"0 0 24 24\"\n",
              "       width=\"24px\">\n",
              "    <path d=\"M0 0h24v24H0V0z\" fill=\"none\"/>\n",
              "    <path d=\"M18.56 5.44l.94 2.06.94-2.06 2.06-.94-2.06-.94-.94-2.06-.94 2.06-2.06.94zm-11 1L8.5 8.5l.94-2.06 2.06-.94-2.06-.94L8.5 2.5l-.94 2.06-2.06.94zm10 10l.94 2.06.94-2.06 2.06-.94-2.06-.94-.94-2.06-.94 2.06-2.06.94z\"/><path d=\"M17.41 7.96l-1.37-1.37c-.4-.4-.92-.59-1.43-.59-.52 0-1.04.2-1.43.59L10.3 9.45l-7.72 7.72c-.78.78-.78 2.05 0 2.83L4 21.41c.39.39.9.59 1.41.59.51 0 1.02-.2 1.41-.59l7.78-7.78 2.81-2.81c.8-.78.8-2.07 0-2.86zM5.41 20L4 18.59l7.72-7.72 1.47 1.35L5.41 20z\"/>\n",
              "  </svg>\n",
              "      </button>\n",
              "      \n",
              "  <style>\n",
              "    .colab-df-container {\n",
              "      display:flex;\n",
              "      flex-wrap:wrap;\n",
              "      gap: 12px;\n",
              "    }\n",
              "\n",
              "    .colab-df-convert {\n",
              "      background-color: #E8F0FE;\n",
              "      border: none;\n",
              "      border-radius: 50%;\n",
              "      cursor: pointer;\n",
              "      display: none;\n",
              "      fill: #1967D2;\n",
              "      height: 32px;\n",
              "      padding: 0 0 0 0;\n",
              "      width: 32px;\n",
              "    }\n",
              "\n",
              "    .colab-df-convert:hover {\n",
              "      background-color: #E2EBFA;\n",
              "      box-shadow: 0px 1px 2px rgba(60, 64, 67, 0.3), 0px 1px 3px 1px rgba(60, 64, 67, 0.15);\n",
              "      fill: #174EA6;\n",
              "    }\n",
              "\n",
              "    [theme=dark] .colab-df-convert {\n",
              "      background-color: #3B4455;\n",
              "      fill: #D2E3FC;\n",
              "    }\n",
              "\n",
              "    [theme=dark] .colab-df-convert:hover {\n",
              "      background-color: #434B5C;\n",
              "      box-shadow: 0px 1px 3px 1px rgba(0, 0, 0, 0.15);\n",
              "      filter: drop-shadow(0px 1px 2px rgba(0, 0, 0, 0.3));\n",
              "      fill: #FFFFFF;\n",
              "    }\n",
              "  </style>\n",
              "\n",
              "      <script>\n",
              "        const buttonEl =\n",
              "          document.querySelector('#df-6b3a2e88-ea9b-4842-9bbc-f992ce0eb425 button.colab-df-convert');\n",
              "        buttonEl.style.display =\n",
              "          google.colab.kernel.accessAllowed ? 'block' : 'none';\n",
              "\n",
              "        async function convertToInteractive(key) {\n",
              "          const element = document.querySelector('#df-6b3a2e88-ea9b-4842-9bbc-f992ce0eb425');\n",
              "          const dataTable =\n",
              "            await google.colab.kernel.invokeFunction('convertToInteractive',\n",
              "                                                     [key], {});\n",
              "          if (!dataTable) return;\n",
              "\n",
              "          const docLinkHtml = 'Like what you see? Visit the ' +\n",
              "            '<a target=\"_blank\" href=https://colab.research.google.com/notebooks/data_table.ipynb>data table notebook</a>'\n",
              "            + ' to learn more about interactive tables.';\n",
              "          element.innerHTML = '';\n",
              "          dataTable['output_type'] = 'display_data';\n",
              "          await google.colab.output.renderOutput(dataTable, element);\n",
              "          const docLink = document.createElement('div');\n",
              "          docLink.innerHTML = docLinkHtml;\n",
              "          element.appendChild(docLink);\n",
              "        }\n",
              "      </script>\n",
              "    </div>\n",
              "  </div>\n",
              "  "
            ],
            "text/plain": [
              "       Dominant_Topic                                     Topic_Keywords  \\\n",
              "0.0               8.0  artikel, wetboek, bedoelen, lid, goed, regelin...   \n",
              "1.0               2.0  brusselse_hoofdstedelijk, regering, besluit, o...   \n",
              "2.0               5.0  besluit, koninklijk, wet, artikel, cov_id, min...   \n",
              "3.0              11.0  artikel, besluit, onderwijs, decreet, betreffe...   \n",
              "4.0              10.0  onderneming, steun, artikel, code, bedoelen, b...   \n",
              "...               ...                                                ...   \n",
              "623.0             3.0  artikel, bedoelen, betreffen, procedure, perso...   \n",
              "624.0            13.0  regering, besluit, minister, overwegende, waal...   \n",
              "625.0            13.0  regering, besluit, minister, overwegende, waal...   \n",
              "626.0             9.0  artikel, lid, woord, vervangen, wet, één, bedo...   \n",
              "627.0             0.0  persoon, cov_id, artikel, betreffen, gegeven, ...   \n",
              "\n",
              "       Num_Documents  Perc_Documents  \n",
              "0.0             24.0          0.0382  \n",
              "1.0             33.0          0.0525  \n",
              "2.0             58.0          0.0924  \n",
              "3.0             37.0          0.0589  \n",
              "4.0             31.0          0.0494  \n",
              "...              ...             ...  \n",
              "623.0            NaN             NaN  \n",
              "624.0            NaN             NaN  \n",
              "625.0            NaN             NaN  \n",
              "626.0            NaN             NaN  \n",
              "627.0            NaN             NaN  \n",
              "\n",
              "[628 rows x 4 columns]"
            ]
          },
          "execution_count": 36,
          "metadata": {},
          "output_type": "execute_result"
        }
      ],
      "source": [
        "# Number of Documents for Each Topic\n",
        "topic_counts = df_topic_sents_keywords['Dominant_Topic'].value_counts()\n",
        "\n",
        "# Percentage of Documents for Each Topic\n",
        "topic_contribution = round(topic_counts/topic_counts.sum(), 4)\n",
        "\n",
        "# Topic Number and Keywords\n",
        "topic_num_keywords = df_topic_sents_keywords[['Dominant_Topic', 'Topic_Keywords']]\n",
        "\n",
        "# Concatenatinate Column wise\n",
        "df_dominant_topics = pd.concat([topic_num_keywords, topic_counts, topic_contribution], axis=1)\n",
        "\n",
        "# Change Column names\n",
        "df_dominant_topics.columns = ['Dominant_Topic', 'Topic_Keywords', 'Num_Documents', 'Perc_Documents']\n",
        "\n",
        "# Show\n",
        "df_dominant_topics"
      ]
    },
    {
      "cell_type": "markdown",
      "metadata": {
        "id": "OXf89-LI3xO-"
      },
      "source": [
        "## CONCLUSION"
      ]
    },
    {
      "cell_type": "markdown",
      "metadata": {
        "id": "5pc767Ni3zK7"
      },
      "source": [
        "From ten (10) Dutch legal text files that were cleaned, further ML preprocessing and unsupervised topic extraction were carried out via:\n",
        "\n",
        "- A basic topic model using Gensim’s LDA; \n",
        "\n",
        "- pyLDAvis for topic visualisation; and \n",
        "\n",
        "- Mallet’s LDA implementation."
      ]
    }
  ],
  "metadata": {
    "colab": {
      "collapsed_sections": [],
      "name": "topics_from_Maellet.ipynb",
      "provenance": []
    },
    "interpreter": {
      "hash": "35c267216a8a9a5de802732b368407c9e859165faf5cda25a6a24bab33258039"
    },
    "kernelspec": {
      "display_name": "Python 3.8.8 64-bit ('3.8.8')",
      "language": "python",
      "name": "python3"
    },
    "language_info": {
      "codemirror_mode": {
        "name": "ipython",
        "version": 3
      },
      "file_extension": ".py",
      "mimetype": "text/x-python",
      "name": "python",
      "nbconvert_exporter": "python",
      "pygments_lexer": "ipython3",
      "version": "3.8.8"
    }
  },
  "nbformat": 4,
  "nbformat_minor": 0
}
