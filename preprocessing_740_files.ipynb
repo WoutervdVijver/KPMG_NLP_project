{
 "cells": [
  {
   "cell_type": "markdown",
   "id": "64972935",
   "metadata": {},
   "source": [
    "## Text preprocessing and extraction of 'clean' Dutch text"
   ]
  },
  {
   "cell_type": "markdown",
   "id": "c383e999",
   "metadata": {},
   "source": [
    "### Libraries for data parsing and file operations"
   ]
  },
  {
   "cell_type": "code",
   "execution_count": 1,
   "id": "661a2594",
   "metadata": {},
   "outputs": [],
   "source": [
    "import re\n",
    "import os\n",
    "import shutil"
   ]
  },
  {
   "cell_type": "code",
   "execution_count": 2,
   "id": "90bdd46a",
   "metadata": {},
   "outputs": [],
   "source": [
    "# Filling in the path to the folder of the data\n",
    "\n",
    "path = '/Users/anix/KPMG_NLP_project/texts/'"
   ]
  },
  {
   "cell_type": "markdown",
   "id": "7f9d9869",
   "metadata": {},
   "source": [
    "### Removal of other languages to extract Dutch text"
   ]
  },
  {
   "cell_type": "code",
   "execution_count": 3,
   "id": "0b44d590",
   "metadata": {},
   "outputs": [],
   "source": [
    "# Creating a list of Dutch legal texts (from the metadata) while ignoring German translations\n",
    "\n",
    "texts = []\n",
    "for name in os.listdir(path):\n",
    "    with open(path+name, 'r') as file:\n",
    "        text = file.read()\n",
    "    if 'Duitse vertaling' in text:\n",
    "        continue\n",
    "    else:\n",
    "        texts.append(name)"
   ]
  },
  {
   "cell_type": "markdown",
   "id": "170757c9",
   "metadata": {},
   "source": [
    "### Initial cleaning"
   ]
  },
  {
   "cell_type": "code",
   "execution_count": 4,
   "id": "dfced252",
   "metadata": {},
   "outputs": [],
   "source": [
    "def initial_clean(text:str) ->  str:\n",
    "    '''\n",
    "    Function that cleans articles and tries add spaces where they are missing\n",
    "\n",
    "    :params text: str that is the text\n",
    "\n",
    "    return a str\n",
    "    '''\n",
    "    pattern = r'(,|:|;)'\n",
    "    pat = re.compile(pattern)\n",
    "    new_text = pat.sub(r'\\1  ', text)\n",
    "\n",
    "    pattern = r'([\\s][\\w-]+\\.)([A-Za-z]+)'\n",
    "    pat = re.compile(pattern)\n",
    "    new_text = pat.sub(r'\\1  \\2', new_text)\n",
    "\n",
    "    pattern = r'([\\\"][\\.])'\n",
    "    pat = re.compile(pattern)\n",
    "    new_text = pat.sub(r'\\1 ', new_text)\n",
    "\n",
    "    pattern = r'([\\.][\\\"])'\n",
    "    pat = re.compile(pattern)\n",
    "    new_text = pat.sub(r'\\1 ', new_text)\n",
    "\n",
    "    pattern = r'([A-Za-z])([0-9])'\n",
    "    pat = re.compile(pattern)\n",
    "    new_text = pat.sub(r'\\1 \\2', new_text)\n",
    "\n",
    "    pattern = r'([0-9])([A-Za-z])'\n",
    "    pat = re.compile(pattern)\n",
    "    new_text = pat.sub(r'\\1 \\2', new_text)\n",
    "\n",
    "    pattern = r'(__+)'\n",
    "    pat = re.compile(pattern)\n",
    "    new_text = pat.sub(r' \\1  ', new_text)\n",
    "\n",
    "    new_text = re.sub(r\" +\",\" \",new_text)\n",
    "\n",
    "\n",
    "\n",
    "    pattern = r'([A-Za-z]+)([A-Z][a-z])'\n",
    "    pat = re.compile(pattern)\n",
    "    new_text = pat.sub(r'\\1 \\2', new_text)\n",
    "\n",
    "    return new_text"
   ]
  },
  {
   "cell_type": "markdown",
   "id": "d4c851cb",
   "metadata": {},
   "source": [
    "### Saving cleaned version of the files"
   ]
  },
  {
   "cell_type": "code",
   "execution_count": 5,
   "id": "e7500e6f",
   "metadata": {},
   "outputs": [],
   "source": [
    "# Path where the cleaned files should be saved\n",
    "\n",
    "new_path = '/Users/anix/KPMG_NLP_project/clean_texts/'\n",
    "\n",
    "# In this new path the cleaned texts will be stored\n",
    "\n",
    "shutil.rmtree(new_path, ignore_errors=True)\n",
    "os.makedirs(new_path, exist_ok=True)\n",
    "for name in texts:\n",
    "    with open(path+name,'r') as file:\n",
    "        text = file.read()\n",
    "    with open(new_path+name, 'w+') as file:\n",
    "        file.write(initial_clean(text))"
   ]
  }
 ],
 "metadata": {
  "kernelspec": {
   "display_name": "tf",
   "language": "python",
   "name": "tf"
  },
  "language_info": {
   "codemirror_mode": {
    "name": "ipython",
    "version": 3
   },
   "file_extension": ".py",
   "mimetype": "text/x-python",
   "name": "python",
   "nbconvert_exporter": "python",
   "pygments_lexer": "ipython3",
   "version": "3.7.13"
  }
 },
 "nbformat": 4,
 "nbformat_minor": 5
}
