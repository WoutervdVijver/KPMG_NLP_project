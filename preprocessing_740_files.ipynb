{
 "cells": [
  {
   "cell_type": "markdown",
   "id": "af1fb580",
   "metadata": {},
   "source": [
    "## Text cleaning and extraction of 'clean' Dutch text"
   ]
  },
  {
   "cell_type": "markdown",
   "id": "6847669b",
   "metadata": {},
   "source": [
    "### Libraries for file operations"
   ]
  },
  {
   "cell_type": "code",
   "execution_count": 21,
   "id": "2844f276",
   "metadata": {},
   "outputs": [],
   "source": [
    "import re\n",
    "import os\n",
    "import shutil"
   ]
  },
  {
   "cell_type": "code",
   "execution_count": 22,
   "id": "ed4b332f",
   "metadata": {},
   "outputs": [],
   "source": [
    "# Filling in the path to the folder of the data\n",
    "\n",
    "path = '/Users/anix/KPMG_NLP_project/texts/'"
   ]
  },
  {
   "cell_type": "markdown",
   "id": "31cf2bbc",
   "metadata": {},
   "source": [
    "### Removal of other languages to extract Dutch text"
   ]
  },
  {
   "cell_type": "code",
   "execution_count": 23,
   "id": "a26ac14c",
   "metadata": {},
   "outputs": [],
   "source": [
    "# Creating a list of dutch legal texts (from the metadata) while ignoring German translations\n",
    "\n",
    "texts = []\n",
    "for name in os.listdir(path):\n",
    "    with open(path+name, 'r') as file:\n",
    "        text = file.read()\n",
    "    if 'Duitse vertaling' in text:\n",
    "        continue\n",
    "    else:\n",
    "        texts.append(name)"
   ]
  },
  {
   "cell_type": "code",
   "execution_count": 18,
   "id": "75f9b360",
   "metadata": {},
   "outputs": [],
   "source": [
    "# Creating a list of dutch legal texts (from the metadata) while ignoring English translations\n",
    "\n",
    "texts = []\n",
    "for name in os.listdir(path):\n",
    "    with open(path+name, 'r') as file:\n",
    "        text = file.read()\n",
    "    if 'in de Engelse taal' in text:\n",
    "        continue\n",
    "    else:\n",
    "        texts.append(name)"
   ]
  },
  {
   "cell_type": "markdown",
   "id": "1b15ea74",
   "metadata": {},
   "source": [
    "### Initial cleaning"
   ]
  },
  {
   "cell_type": "code",
   "execution_count": 24,
   "id": "d49c67f5",
   "metadata": {},
   "outputs": [],
   "source": [
    "def initial_clean(text:str) ->  str:\n",
    "    '''\n",
    "    Function that cleans articles and tries add spaces where they are missing\n",
    "\n",
    "    :params text: str that is the text\n",
    "\n",
    "    return a str\n",
    "    '''\n",
    "    pattern = r'(,|:|;)'\n",
    "    pat = re.compile(pattern)\n",
    "    new_text = pat.sub(r'\\1  ', text)\n",
    "\n",
    "    pattern = r'([\\s][\\w-]+\\.)([A-Za-z]+)'\n",
    "    pat = re.compile(pattern)\n",
    "    new_text = pat.sub(r'\\1  \\2', new_text)\n",
    "\n",
    "    pattern = r'([\\\"][\\.])'\n",
    "    pat = re.compile(pattern)\n",
    "    new_text = pat.sub(r'\\1 ', new_text)\n",
    "\n",
    "    pattern = r'([\\.][\\\"])'\n",
    "    pat = re.compile(pattern)\n",
    "    new_text = pat.sub(r'\\1 ', new_text)\n",
    "\n",
    "    pattern = r'([A-Za-z])([0-9])'\n",
    "    pat = re.compile(pattern)\n",
    "    new_text = pat.sub(r'\\1 \\2', new_text)\n",
    "\n",
    "    pattern = r'([0-9])([A-Za-z])'\n",
    "    pat = re.compile(pattern)\n",
    "    new_text = pat.sub(r'\\1 \\2', new_text)\n",
    "\n",
    "    pattern = r'(__+)'\n",
    "    pat = re.compile(pattern)\n",
    "    new_text = pat.sub(r' \\1  ', new_text)\n",
    "\n",
    "    new_text = re.sub(r\" +\",\" \",new_text)\n",
    "\n",
    "\n",
    "\n",
    "    pattern = r'([A-Za-z]+)([A-Z][a-z])'\n",
    "    pat = re.compile(pattern)\n",
    "    new_text = pat.sub(r'\\1 \\2', new_text)\n",
    "\n",
    "    return new_text"
   ]
  },
  {
   "cell_type": "markdown",
   "id": "7ae37ffb",
   "metadata": {},
   "source": [
    "### Saving cleaned version of the files"
   ]
  },
  {
   "cell_type": "code",
   "execution_count": 25,
   "id": "2297a286",
   "metadata": {},
   "outputs": [],
   "source": [
    "# Path where the cleaned files should be saved\n",
    "\n",
    "new_path = '/Users/anix/KPMG_NLP_project/clean_texts/'\n",
    "\n",
    "# In this new path the cleaned texts will be stored\n",
    "\n",
    "shutil.rmtree(new_path, ignore_errors=True)\n",
    "os.makedirs(new_path, exist_ok=True)\n",
    "for name in texts:\n",
    "    with open(path+name,'r') as file:\n",
    "        text = file.read()\n",
    "    with open(new_path+name, 'w+') as file:\n",
    "        file.write(initial_clean(text))"
   ]
  }
 ],
 "metadata": {
  "kernelspec": {
   "display_name": "tf",
   "language": "python",
   "name": "tf"
  },
  "language_info": {
   "codemirror_mode": {
    "name": "ipython",
    "version": 3
   },
   "file_extension": ".py",
   "mimetype": "text/x-python",
   "name": "python",
   "nbconvert_exporter": "python",
   "pygments_lexer": "ipython3",
   "version": "3.7.13"
  }
 },
 "nbformat": 4,
 "nbformat_minor": 5
}
