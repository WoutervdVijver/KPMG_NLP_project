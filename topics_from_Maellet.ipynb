{
  "nbformat": 4,
  "nbformat_minor": 0,
  "metadata": {
    "colab": {
      "name": "topics_from_Maellet.ipynb",
      "provenance": [],
      "collapsed_sections": []
    },
    "kernelspec": {
      "name": "python3",
      "display_name": "Python 3"
    },
    "language_info": {
      "name": "python"
    }
  },
  "cells": [
    {
      "cell_type": "markdown",
      "source": [
        "## Further text preprocessing"
      ],
      "metadata": {
        "id": "2v-ju9XmWFJI"
      }
    },
    {
      "cell_type": "markdown",
      "source": [
        "### Objectives of this test"
      ],
      "metadata": {
        "id": "9CiTfVEiluGf"
      }
    },
    {
      "cell_type": "markdown",
      "source": [
        "- Implement Latent Dirichlet Allocation (**LDA**) from **Gensim** package along with the Mallet’s implementation (via Gensim). \n",
        "\n",
        "- Implement **Mallet** that optimizes LDA. Mallet is known to run faster and gives better topic segregation.\n",
        "\n",
        "- Also extract the volume and percentage contribution of each topic to get **an idea of how important a topic is**."
      ],
      "metadata": {
        "id": "nOmYI8FIlwj8"
      }
    },
    {
      "cell_type": "markdown",
      "source": [
        "### Pre-requisites: Downloading NLTK Dutch stopwords, data handling tools, model preprocessing & plotting tools, and SpaCy model"
      ],
      "metadata": {
        "id": "HliZG8C-V8gW"
      }
    },
    {
      "cell_type": "code",
      "source": [
        "from google.colab import drive\n",
        "drive.mount('/content/drive')"
      ],
      "metadata": {
        "id": "JOSxNYZEvmtE",
        "colab": {
          "base_uri": "https://localhost:8080/"
        },
        "outputId": "c574da1c-6532-492e-bff8-6924f5c072a2"
      },
      "execution_count": null,
      "outputs": [
        {
          "output_type": "stream",
          "name": "stdout",
          "text": [
            "Mounted at /content/drive\n"
          ]
        }
      ]
    },
    {
      "cell_type": "code",
      "source": [
        "# NLTK\n",
        "import nltk\n",
        "nltk.download('stopwords', 'dutch')"
      ],
      "metadata": {
        "id": "kjP68jeYftR4"
      },
      "execution_count": null,
      "outputs": []
    },
    {
      "cell_type": "code",
      "source": [
        "# Python data analysis tools and python module for printing\n",
        "import re\n",
        "import numpy as np\n",
        "import pandas as pd\n",
        "from pprint import pprint"
      ],
      "metadata": {
        "id": "-gP7ww_liQub"
      },
      "execution_count": null,
      "outputs": []
    },
    {
      "cell_type": "code",
      "source": [
        "# Gensim\n",
        "import gensim\n",
        "import gensim.corpora as corpora\n",
        "from gensim.utils import simple_preprocess\n",
        "from gensim.models import CoherenceModel"
      ],
      "metadata": {
        "id": "ZTlhs2HnmGyB"
      },
      "execution_count": null,
      "outputs": []
    },
    {
      "cell_type": "code",
      "source": [
        "# SpaCy for lemmatization\n",
        "import spacy"
      ],
      "metadata": {
        "id": "fBAzmTMOmp9f"
      },
      "execution_count": null,
      "outputs": []
    },
    {
      "cell_type": "code",
      "source": [
        "# Plotting tools\n",
        "!pip install pyLDAvis\n",
        "\n",
        "import pyLDAvis\n",
        "import pyLDAvis.gensim_models as gensimvis\n",
        "pyLDAvis.enable_notebook()\n",
        "\n",
        "import matplotlib.pyplot as plt"
      ],
      "metadata": {
        "id": "1oTmcphNmuBR"
      },
      "execution_count": null,
      "outputs": []
    },
    {
      "cell_type": "code",
      "source": [
        "# Ignoring warnings\n",
        "import warnings\n",
        "warnings.filterwarnings('ignore', category=DeprecationWarning)"
      ],
      "metadata": {
        "id": "958NglFuoAJm"
      },
      "execution_count": null,
      "outputs": []
    },
    {
      "cell_type": "markdown",
      "source": [
        "### Preparing stopwords"
      ],
      "metadata": {
        "id": "JhmR5NYqodQe"
      }
    },
    {
      "cell_type": "code",
      "source": [
        "# NLTK Stop words\n",
        "import nltk\n",
        "from nltk.corpus import stopwords\n",
        "nltk.download('stopwords')\n",
        "\n",
        "stop_words = nltk.corpus.stopwords.words('dutch')"
      ],
      "metadata": {
        "id": "i2F9qd3Aodpz"
      },
      "execution_count": null,
      "outputs": []
    },
    {
      "cell_type": "markdown",
      "source": [
        "## Loading 628 articles into a list"
      ],
      "metadata": {
        "id": "_X85dMwl25bs"
      }
    },
    {
      "cell_type": "code",
      "source": [
        "# Importing file handling library\n",
        "import os\n",
        "\n",
        "data = []\n",
        "path = 'drive/MyDrive/clean_texts/'\n",
        "for name in os.listdir(path)[:628]:\n",
        "    with open(path+name, 'r') as file:\n",
        "        data.append(file.read())\n"
      ],
      "metadata": {
        "id": "L0Dai1aW3BLN"
      },
      "execution_count": null,
      "outputs": []
    },
    {
      "cell_type": "markdown",
      "source": [
        "### Tokenizing words and cleaning-up text"
      ],
      "metadata": {
        "id": "arIOjuW-G9RL"
      }
    },
    {
      "cell_type": "code",
      "source": [
        "# Tokenizing each sentence into a list of words, removing punctuations and unnecessary characters altogether.\n",
        "def sent_to_words(sentences):\n",
        "    for sentence in sentences:\n",
        "        yield(gensim.utils.simple_preprocess(str(sentence), deacc=True))  # deacc=True removes punctuations\n",
        "\n",
        "data_words = list(sent_to_words(data))\n",
        "\n",
        "#print(data_words)"
      ],
      "metadata": {
        "id": "dO9v16DbxMyV"
      },
      "execution_count": null,
      "outputs": []
    },
    {
      "cell_type": "markdown",
      "source": [
        "### Creating bigrams and trigrams"
      ],
      "metadata": {
        "id": "iLpiDNyRTGc7"
      }
    },
    {
      "cell_type": "markdown",
      "source": [
        "**Bigrams** are two (2) words frequently occurring together in the document. **Trigrams** are three (3) words frequently occurring."
      ],
      "metadata": {
        "id": "KQdTRjR-zrja"
      }
    },
    {
      "cell_type": "code",
      "source": [
        "# Building the bigram and trigram models\n",
        "bigram = gensim.models.Phrases(data_words, min_count=5, threshold=100) # higher threshold fewer phrases.\n",
        "trigram = gensim.models.Phrases(bigram[data_words], threshold=100)  \n",
        "\n",
        "# Faster way to get a sentence clubbed as a trigram/bigram\n",
        "bigram_mod = gensim.models.phrases.Phraser(bigram)\n",
        "trigram_mod = gensim.models.phrases.Phraser(trigram)\n",
        "\n",
        "# Seeing trigram example\n",
        "#print(trigram_mod[bigram_mod[data_words]])"
      ],
      "metadata": {
        "id": "oTf8PZhLOIwG"
      },
      "execution_count": null,
      "outputs": []
    },
    {
      "cell_type": "markdown",
      "source": [
        "###  Removing stopwords, making bigrams & trigtrams, and lemmatizing"
      ],
      "metadata": {
        "id": "4b9GkSVFZIUC"
      }
    },
    {
      "cell_type": "code",
      "source": [
        "# Define functions for stopwords, bigrams, trigrams and lemmatization\n",
        "def remove_stopwords(texts):\n",
        "    return [[word for word in simple_preprocess(str(doc)) if word not in stop_words] for doc in texts]\n",
        "\n",
        "def make_bigrams(texts):\n",
        "    return [bigram_mod[doc] for doc in texts]\n",
        "\n",
        "def make_trigrams(texts):\n",
        "    return [trigram_mod[bigram_mod[doc]] for doc in texts]\n",
        "\n",
        "empty_words = [\n",
        "    'artikel',\n",
        "    'bedoelen',\n",
        "    'bepalen',\n",
        "    'besluit',\n",
        "    'betreffen',\n",
        "    'bevoegd',\n",
        "    'deel',\n",
        "    'gegeven',\n",
        "    'gelet',\n",
        "    'geven',\n",
        "    'inlichting',\n",
        "    'lid',\n",
        "    'maatregel',\n",
        "    'minister',\n",
        "    'overwegende',\n",
        "    'persoon',\n",
        "    'toepassing',\n",
        "    'verstrekking',\n",
        "    'volgen',\n",
        "    'voorzien'\n",
        "] \n",
        "\n",
        "def lemmatization(texts, allowed_postags=['NOUN', 'ADJ', 'VERB', 'ADV']):\n",
        "    \"\"\"https://spacy.io/api/annotation\"\"\"\n",
        "    texts_out = []\n",
        "    for sent in texts:\n",
        "        doc = nlp(\" \".join(sent)) \n",
        "        texts_out.append([token.lemma_ for token in doc if (token.pos_ in allowed_postags) and (token.lemma_ not in  empty_words )])\n",
        "    return texts_out"
      ],
      "metadata": {
        "id": "1cuUNtqNT9kb"
      },
      "execution_count": null,
      "outputs": []
    },
    {
      "cell_type": "markdown",
      "source": [
        "### Initializing SpaCy's Dutch NLP model (large size)"
      ],
      "metadata": {
        "id": "uanPqGrdGyiE"
      }
    },
    {
      "cell_type": "code",
      "source": [
        " !pip install -U spacy\n",
        " !python -m spacy download nl_core_news_lg"
      ],
      "metadata": {
        "id": "EwTE8mGpbFf6"
      },
      "execution_count": null,
      "outputs": []
    },
    {
      "cell_type": "markdown",
      "source": [
        "### Calling the functions in order"
      ],
      "metadata": {
        "id": "C4QnnSElG_vg"
      }
    },
    {
      "cell_type": "code",
      "source": [
        " # Removing Stop Words\n",
        "data_words_nostops = remove_stopwords(data_words)\n",
        "\n",
        "# Forming Bigrams\n",
        "data_words_bigrams = make_bigrams(data_words_nostops)\n",
        "\n",
        "# Loading the SpaCy 'nl' model, keeping only tagger component (for efficiency)\n",
        "nlp = spacy.load('nl_core_news_lg', disable=['parser', 'ner'])\n",
        "\n",
        "# Doing lemmatization keeping only noun, adj, vb, adv\n",
        "data_lemmatized = lemmatization(data_words_bigrams, allowed_postags=['NOUN', 'ADJ', 'VERB', 'ADV'])\n",
        "\n",
        "#print(data_lemmatized)"
      ],
      "metadata": {
        "id": "dPJP2KeuZw67"
      },
      "execution_count": null,
      "outputs": []
    },
    {
      "cell_type": "markdown",
      "source": [
        "### Creating the Dictionary and Corpus needed for Topic Modeling"
      ],
      "metadata": {
        "id": "GgN2SSzn2fTU"
      }
    },
    {
      "cell_type": "code",
      "source": [
        "# Creating Dictionary\n",
        "id2word = corpora.Dictionary(data_lemmatized)\n",
        "\n",
        "# Creating Corpus\n",
        "texts = data_lemmatized\n",
        "\n",
        "# Term Document Frequency\n",
        "corpus = [id2word.doc2bow(text) for text in texts]\n",
        "\n",
        "# Viewing corpus\n",
        "#print(corpus)"
      ],
      "metadata": {
        "id": "lp6FqTgr2hr8"
      },
      "execution_count": null,
      "outputs": []
    },
    {
      "cell_type": "markdown",
      "source": [
        "Gensim creates a unique id for each word in the document. The produced corpus shown above is a mapping of (word_id, word_frequency).\n",
        "\n",
        "For example, (0, 1) above implies, **word id 0 occurs once** in the document. Likewise, **word id 1 occurs once too**, and so on.\n",
        "\n",
        "This is used as the input by the LDA model.\n",
        "\n",
        "If you want to see what word a given id corresponds to, pass the id as a key to the dictionary. (From https://www.machinelearningplus.com/nlp/topic-modeling-gensim-python/)"
      ],
      "metadata": {
        "id": "mat49mSv24fY"
      }
    },
    {
      "cell_type": "code",
      "source": [
        "# Passing the id as a key to the dictionary to see what word a given ID corresponds to\n",
        "id2word[0]"
      ],
      "metadata": {
        "colab": {
          "base_uri": "https://localhost:8080/",
          "height": 35
        },
        "id": "iCYlDxcR2050",
        "outputId": "8f05f4ff-b5f9-41d7-bf2f-295fbb98b2e0"
      },
      "execution_count": null,
      "outputs": [
        {
          "output_type": "execute_result",
          "data": {
            "text/plain": [
              "'aanslagjaar'"
            ],
            "application/vnd.google.colaboratory.intrinsic+json": {
              "type": "string"
            }
          },
          "metadata": {},
          "execution_count": 15
        }
      ]
    },
    {
      "cell_type": "code",
      "source": [
        "# Human readable format of corpus (term-frequency)\n",
        "[[(id2word[id], freq) for id, freq in cp] for cp in corpus]"
      ],
      "metadata": {
        "id": "P6HbEyFs3STL"
      },
      "execution_count": null,
      "outputs": []
    },
    {
      "cell_type": "markdown",
      "source": [
        "### Building the topic model"
      ],
      "metadata": {
        "id": "xr7zp7cU3mnE"
      }
    },
    {
      "cell_type": "markdown",
      "source": [
        "The LDA model shall be built with 20 different topics where each topic is a combination of keywords and each keyword contributes a certain weightage to the topic."
      ],
      "metadata": {
        "id": "nPSZSoCl1ky7"
      }
    },
    {
      "cell_type": "code",
      "source": [
        "# Building LDA model\n",
        "lda_model = gensim.models.ldamodel.LdaModel(corpus=corpus,\n",
        "                                           id2word=id2word,\n",
        "                                           num_topics=20, \n",
        "                                           random_state=100,\n",
        "                                           update_every=1,\n",
        "                                           chunksize=100,\n",
        "                                           passes=10,\n",
        "                                           alpha='auto',\n",
        "                                           per_word_topics=True)"
      ],
      "metadata": {
        "id": "4eNI1JKD3rS8"
      },
      "execution_count": null,
      "outputs": []
    },
    {
      "cell_type": "markdown",
      "source": [
        "###  Viewing the topics in LDA model"
      ],
      "metadata": {
        "id": "I4pNmnJP3vMM"
      }
    },
    {
      "cell_type": "markdown",
      "source": [
        "You can see the keywords for each topic and the weightage (importance) of each keyword using lda_model.print_topics() as shown next."
      ],
      "metadata": {
        "id": "r0YYrNee30UJ"
      }
    },
    {
      "cell_type": "code",
      "source": [
        "# Printing keywords for 20 topics\n",
        "pprint(lda_model.print_topics())\n",
        "doc_lda = lda_model[corpus]"
      ],
      "metadata": {
        "colab": {
          "base_uri": "https://localhost:8080/"
        },
        "id": "NrllJgXK3xAl",
        "outputId": "9ca943a5-6746-4207-82cf-5afe57796215"
      },
      "execution_count": null,
      "outputs": [
        {
          "output_type": "stream",
          "name": "stdout",
          "text": [
            "[(0,\n",
            "  '0.026*\"aan_nemen\" + 0.021*\"zitting\" + 0.018*\"aangelegenheid\" + 0.017*\"oog\" '\n",
            "  '+ 0.016*\"grond_wet\" + 0.015*\"regelen\" + 0.014*\"bekendgemaken\" + '\n",
            "  '0.014*\"machtiging\" + 0.013*\"arbeid_plaats\" + 0.013*\"testing\"'),\n",
            " (1,\n",
            "  '0.042*\"onderwijs\" + 0.033*\"leerling\" + 0.019*\"decreet\" + 0.019*\"school\" + '\n",
            "  '0.019*\"organiseren\" + 0.019*\"school_jaar\" + 0.018*\"opleiding\" + '\n",
            "  '0.017*\"evaluatie\" + 0.017*\"organisatie\" + 0.016*\"afwijking\"'),\n",
            " (2,\n",
            "  '0.030*\"wet\" + 0.020*\"koninklijk\" + 0.020*\"cov_id\" + 0.013*\"één\" + '\n",
            "  '0.013*\"periode\" + 0.011*\"kader\" + 0.011*\"bepaling\" + 0.011*\"twee\" + '\n",
            "  '0.009*\"sociaal\" + 0.009*\"advies\"'),\n",
            " (3,\n",
            "  '0.057*\"Vlaams\" + 0.033*\"subsidie\" + 0.031*\"decreet\" + 0.029*\"vermellen\" + '\n",
            "  '0.021*\"regering\" + 0.018*\"periode\" + 0.017*\"aantal\" + 0.015*\"één\" + '\n",
            "  '0.013*\"centrum\" + 0.012*\"kind\"'),\n",
            " (4,\n",
            "  '0.079*\"regering\" + 0.053*\"waals\" + 0.046*\"decreet\" + '\n",
            "  '0.016*\"bijzondere_machten\" + 0.015*\"franse_gemeenschap\" + 0.015*\"bepaling\" '\n",
            "  '+ 0.014*\"letten\" + 0.014*\"art\" + 0.013*\"cov_id\" + 0.013*\"dienst\"'),\n",
            " (5,\n",
            "  '0.040*\"vennootschap\" + 0.026*\"aandeel\" + 0.020*\"maand\" + 0.019*\"uitgave\" + '\n",
            "  '0.019*\"voorwaarde\" + 0.018*\"jaar\" + 0.017*\"attest\" + 0.017*\"kost\" + '\n",
            "  '0.016*\"document\" + 0.015*\"verkrijgen\"'),\n",
            " (6,\n",
            "  '0.012*\"bevoegdheid\" + 0.011*\"ontwerp\" + 0.009*\"nemen\" + '\n",
            "  '0.009*\"ministerieel\" + 0.008*\"overheid\" + 0.008*\"federaal\" + '\n",
            "  '0.008*\"bepaling\" + 0.007*\"algemeen\" + 0.007*\"advies\" + 0.006*\"wet\"'),\n",
            " (7,\n",
            "  '0.160*\"voertuig\" + 0.029*\"vervoer\" + 0.028*\"datum\" + 0.027*\"mobiliteit\" + '\n",
            "  '0.024*\"verlengen\" + 0.019*\"geldigheidsduur\" + 0.017*\"politie\" + '\n",
            "  '0.017*\"verstrijken\" + 0.016*\"vervangen\" + 0.016*\"rijbewijs\"'),\n",
            " (8,\n",
            "  '0.052*\"cov_id\" + 0.036*\"coronavirus\" + 0.029*\"letten\" + 0.029*\"leten\" + '\n",
            "  '0.026*\"dringend\" + 0.025*\"kader\" + 0.023*\"verspreiding\" + 0.021*\"wet\" + '\n",
            "  '0.020*\"art\" + 0.019*\"advies\"'),\n",
            " (9,\n",
            "  '0.033*\"ziekenhuis\" + 0.021*\"patiënt\" + 0.020*\"cov_id\" + '\n",
            "  '0.017*\"verplichte_verzekering\" + 0.016*\"koninklijk\" + '\n",
            "  '0.016*\"tegemoetkoming\" + 0.012*\"geneeskundige_verzorging\" + '\n",
            "  '0.011*\"zorgverlener\" + 0.011*\"volksgezondheid\" + 0.010*\"arts\"'),\n",
            " (10,\n",
            "  '0.030*\"regering\" + 0.028*\"steun\" + 0.024*\"brusselse_hoofdstedelijk\" + '\n",
            "  '0.016*\"gewestelijk\" + 0.016*\"gewest\" + 0.015*\"onderneming\" + '\n",
            "  '0.014*\"ordonnantie\" + 0.011*\"art\" + 0.010*\"cov_id\" + 0.010*\"begunstigen\"'),\n",
            " (11,\n",
            "  '0.036*\"fiscaal\" + 0.030*\"datum\" + 0.029*\"kennisgeving\" + 0.026*\"procedure\" '\n",
            "  '+ 0.025*\"bericht\" + 0.020*\"verzending\" + 0.019*\"naam\" + '\n",
            "  '0.019*\"elektronisch\" + 0.015*\"waarbij\" + 0.014*\"middel\"'),\n",
            " (12,\n",
            "  '0.047*\"cov_id\" + 0.021*\"coronavirus\" + 0.020*\"vaccinatie\" + '\n",
            "  '0.017*\"verwerking\" + 0.017*\"gezondheid\" + 0.015*\"test\" + 0.014*\"kader\" + '\n",
            "  '0.012*\"verwerken\" + 0.012*\"vermellen\" + 0.011*\"volksgezondheid\"'),\n",
            " (13,\n",
            "  '0.051*\"raadpleging\" + 0.048*\"beeld\" + 0.048*\"tabel_zie\" + 0.033*\"alinea\" + '\n",
            "  '0.023*\"wetboek\" + 0.022*\"indexcijfer\" + 0.021*\"noemen\" + 0.018*\"bevatten\" + '\n",
            "  '0.016*\"vermelen\" + 0.016*\"aanslagjaar\"'),\n",
            " (14,\n",
            "  '0.051*\"overeenkomst\" + 0.043*\"akkoord\" + 0.039*\"generaal\" + '\n",
            "  '0.024*\"bevoegde_autoriteiten\" + 0.021*\"bevoegde_autoriteit\" + '\n",
            "  '0.020*\"aanvang\" + 0.019*\"grensarbeider\" + 0.018*\"paragraaf\" + '\n",
            "  '0.018*\"verlenging\" + 0.016*\"lijst\"'),\n",
            " (15,\n",
            "  '0.029*\"code\" + 0.026*\"onderneming\" + 0.024*\"waals\" + 0.020*\"nace_bel\" + '\n",
            "  '0.018*\"vereniging\" + 0.017*\"decreet\" + 0.016*\"regering\" + '\n",
            "  '0.015*\"vergoeding\" + 0.013*\"activiteit\" + 0.011*\"administratie\"'),\n",
            " (16,\n",
            "  '0.044*\"wetboek\" + 0.042*\"goed\" + 0.032*\"koninklijk\" + 0.028*\"regeling\" + '\n",
            "  '0.028*\"belasting\" + 0.026*\"lidstaat\" + 0.021*\"bijzonder\" + '\n",
            "  '0.020*\"verrichten\" + 0.020*\"btw\" + 0.016*\"nieuw\"'),\n",
            " (17,\n",
            "  '0.057*\"woord\" + 0.045*\"één\" + 0.045*\"vervangen\" + 0.044*\"wet\" + '\n",
            "  '0.035*\"paragraaf\" + 0.027*\"wetboek\" + 0.016*\"bepaling\" + 0.016*\"hetzelfde\" '\n",
            "  '+ 0.015*\"drie\" + 0.015*\"hoofdstuk\"'),\n",
            " (18,\n",
            "  '0.000*\"werknemer\" + 0.000*\"sociaal\" + 0.000*\"stage_plan\" + '\n",
            "  '0.000*\"uitstelbaar\" + 0.000*\"toespitsen\" + 0.000*\"toe_geken\" + '\n",
            "  '0.000*\"taa_kbedeling\" + 0.000*\"surplus\" + 0.000*\"variabele_vergoedingen\" + '\n",
            "  '0.000*\"schikken\"'),\n",
            " (19,\n",
            "  '0.120*\"werknemer\" + 0.069*\"werkgever\" + 0.047*\"werk\" + 0.041*\"onderneming\" '\n",
            "  '+ 0.039*\"collectief\" + 0.028*\"tijdelijke_werkloosheid\" + 0.028*\"hoofdstuk\" '\n",
            "  '+ 0.017*\"regeling\" + 0.015*\"coronavirus\" + 0.011*\"uitvoering\"')]\n"
          ]
        }
      ]
    },
    {
      "cell_type": "markdown",
      "source": [
        "**NOTE**: \n",
        "\n",
        "The weights reflect how important a keyword is to that topic.\n",
        "\n",
        "Looking at these keywords, you can guess what this topic could be."
      ],
      "metadata": {
        "id": "2XyHR2UuKUIp"
      }
    },
    {
      "cell_type": "markdown",
      "source": [
        "### Compute Model Perplexity and Coherence Score"
      ],
      "metadata": {
        "id": "iW0vFYMM4QhX"
      }
    },
    {
      "cell_type": "markdown",
      "source": [
        "**Model perplexity** and **topic coherence** provide a convenient measure to judge how good a given topic model is."
      ],
      "metadata": {
        "id": "5s_26Rbn0c6j"
      }
    },
    {
      "cell_type": "code",
      "source": [
        "# Computing Perplexity\n",
        "print('\\nPerplexity: ', lda_model.log_perplexity(corpus))  # a measure of how good the model is. lower the better.\n",
        "\n",
        "# Computing Coherence Score\n",
        "coherence_model_lda = CoherenceModel(model=lda_model, texts=data_lemmatized, dictionary=id2word, coherence='c_v')\n",
        "coherence_lda = coherence_model_lda.get_coherence()\n",
        "print('\\nCoherence Score: ', coherence_lda)"
      ],
      "metadata": {
        "colab": {
          "base_uri": "https://localhost:8080/"
        },
        "id": "y1ZNKyu64R0N",
        "outputId": "4dbe2240-f69d-4df8-fbcf-5e916db8da60"
      },
      "execution_count": null,
      "outputs": [
        {
          "output_type": "stream",
          "name": "stdout",
          "text": [
            "\n",
            "Perplexity:  -9.380634844356303\n",
            "\n",
            "Coherence Score:  0.548108256955474\n"
          ]
        }
      ]
    },
    {
      "cell_type": "markdown",
      "source": [
        "### Visualizing topic-keywords distribution"
      ],
      "metadata": {
        "id": "KOQtvx9LSSUs"
      }
    },
    {
      "cell_type": "code",
      "source": [
        "# Feeding the model into the pyLDAvis instance\n",
        "vis = gensimvis.prepare(lda_model, corpus, id2word)\n",
        "vis"
      ],
      "metadata": {
        "id": "qlI5CMBmyMmG",
        "colab": {
          "base_uri": "https://localhost:8080/",
          "height": 916
        },
        "outputId": "cb154772-a86e-4ad3-bae3-a5c583851273"
      },
      "execution_count": null,
      "outputs": [
        {
          "output_type": "stream",
          "name": "stderr",
          "text": [
            "/usr/local/lib/python3.7/dist-packages/pyLDAvis/_prepare.py:247: FutureWarning: In a future version of pandas all arguments of DataFrame.drop except for the argument 'labels' will be keyword-only\n",
            "  by='saliency', ascending=False).head(R).drop('saliency', 1)\n"
          ]
        },
        {
          "output_type": "execute_result",
          "data": {
            "text/plain": [
              "PreparedData(topic_coordinates=              x         y  topics  cluster       Freq\n",
              "topic                                                \n",
              "6     -0.139167 -0.015457       1        1  21.733230\n",
              "2     -0.172233 -0.008866       2        1  17.585601\n",
              "10    -0.145474  0.085378       3        1   8.276860\n",
              "17    -0.131512 -0.202789       4        1   7.070471\n",
              "8     -0.144564  0.207505       5        1   5.480049\n",
              "3     -0.100596  0.003000       6        1   5.150078\n",
              "15    -0.126247  0.063442       7        1   4.954104\n",
              "9     -0.055180  0.018143       8        1   4.903549\n",
              "12    -0.039271  0.153168       9        1   4.367497\n",
              "16    -0.154552 -0.280984      10        1   4.348803\n",
              "4     -0.105972  0.168990      11        1   3.887155\n",
              "1     -0.026861  0.027786      12        1   2.913488\n",
              "11    -0.008979 -0.135274      13        1   2.854059\n",
              "5      0.073429 -0.138325      14        1   2.104466\n",
              "19     0.061742  0.060519      15        1   1.862649\n",
              "14     0.101924 -0.051065      16        1   1.364976\n",
              "0      0.261982  0.077247      17        1   0.468802\n",
              "13     0.262080 -0.058309      18        1   0.381791\n",
              "7      0.280247 -0.002594      19        1   0.290990\n",
              "18     0.309206  0.028485      20        1   0.001382, topic_info=                    Term         Freq        Total Category  logprob  loglift\n",
              "547             regering  3238.000000  3238.000000  Default  30.0000  30.0000\n",
              "381               cov_id  4363.000000  4363.000000  Default  29.0000  29.0000\n",
              "976            werknemer  1009.000000  1009.000000  Default  28.0000  28.0000\n",
              "1048               woord  1616.000000  1616.000000  Default  27.0000  27.0000\n",
              "54               wetboek  1677.000000  1677.000000  Default  26.0000  26.0000\n",
              "...                  ...          ...          ...      ...      ...      ...\n",
              "23    hierboven_vermelde     0.000324    28.881149  Topic20  -9.6652  -0.2073\n",
              "24                hierna     0.000324   522.555119  Topic20  -9.6652  -3.1028\n",
              "25          inde_xcijfer     0.000324     2.401164  Topic20  -9.6652   2.2799\n",
              "26           indexcijfer     0.000324    32.195006  Topic20  -9.6652  -0.3159\n",
              "27             indexeren     0.000324    35.144498  Topic20  -9.6652  -0.4036\n",
              "\n",
              "[1275 rows x 6 columns], token_table=      Topic      Freq                     Term\n",
              "term                                          \n",
              "4689     11  0.949791               Af_bevelen\n",
              "1483      3  0.993263                 Brussels\n",
              "1484      3  0.990727  Brussels_hoofdstedelijk\n",
              "2081     16  0.921792                    Duits\n",
              "4593      5  0.846633           Ernstig_gevaar\n",
              "...     ...       ...                      ...\n",
              "57       12  0.036578                      één\n",
              "57       13  0.031737                      één\n",
              "57       14  0.003227                      één\n",
              "57       16  0.003227                      één\n",
              "57       18  0.002690                      één\n",
              "\n",
              "[3114 rows x 3 columns], R=30, lambda_step=0.01, plot_opts={'xlab': 'PC1', 'ylab': 'PC2'}, topic_order=[7, 3, 11, 18, 9, 4, 16, 10, 13, 17, 5, 2, 12, 6, 20, 15, 1, 14, 8, 19])"
            ],
            "text/html": [
              "\n",
              "<link rel=\"stylesheet\" type=\"text/css\" href=\"https://cdn.jsdelivr.net/gh/bmabey/pyLDAvis@3.3.1/pyLDAvis/js/ldavis.v1.0.0.css\">\n",
              "\n",
              "\n",
              "<div id=\"ldavis_el23291402893585678888486851973\"></div>\n",
              "<script type=\"text/javascript\">\n",
              "\n",
              "var ldavis_el23291402893585678888486851973_data = {\"mdsDat\": {\"x\": [-0.13916734110383228, -0.17223347735465724, -0.14547441201697892, -0.13151227938624893, -0.1445642106782067, -0.10059612696998081, -0.126247072656209, -0.05518042531722308, -0.03927060160668902, -0.1545515357209733, -0.10597200904316555, -0.026860828624493432, -0.008979072369329353, 0.07342864936256244, 0.0617422356312082, 0.10192380341014945, 0.2619816789139561, 0.26208013320658385, 0.28024728555591705, 0.3092056067676104], \"y\": [-0.015457327268984439, -0.00886643858625386, 0.08537839798381501, -0.20278923561751044, 0.2075045929795297, 0.0029995786075748213, 0.06344199130526687, 0.018143419493686475, 0.15316815689271313, -0.28098393247338643, 0.16898999068082704, 0.027786386670279842, -0.1352742685338047, -0.13832457061502446, 0.06051918061940279, -0.05106489489962597, 0.07724711608387892, -0.05830902718675075, -0.002594323323751777, 0.028485207188117694], \"topics\": [1, 2, 3, 4, 5, 6, 7, 8, 9, 10, 11, 12, 13, 14, 15, 16, 17, 18, 19, 20], \"cluster\": [1, 1, 1, 1, 1, 1, 1, 1, 1, 1, 1, 1, 1, 1, 1, 1, 1, 1, 1, 1], \"Freq\": [21.733230325921838, 17.585600982871686, 8.276859671573968, 7.0704714172901, 5.480049449053833, 5.150077689276963, 4.95410422975614, 4.90354921589345, 4.367496822925618, 4.348802749895472, 3.8871545773591247, 2.9134882565849236, 2.854058844812602, 2.104465602448303, 1.8626489434972848, 1.3649758087078776, 0.4688024522771378, 0.38179099357661306, 0.2909901161566792, 0.0013818501203773804]}, \"tinfo\": {\"Term\": [\"regering\", \"cov_id\", \"werknemer\", \"woord\", \"wetboek\", \"koninklijk\", \"decreet\", \"vervangen\", \"wet\", \"Vlaams\", \"waals\", \"onderneming\", \"datum\", \"coronavirus\", \"\\u00e9\\u00e9n\", \"goed\", \"paragraaf\", \"brusselse_hoofdstedelijk\", \"regeling\", \"steun\", \"verlengen\", \"belasting\", \"werkgever\", \"letten\", \"ziekenhuis\", \"subsidie\", \"onderwijs\", \"vermellen\", \"hoofdstuk\", \"periode\", \"beroepsziekten\", \"voetnoot\", \"bevolking\", \"sexie\", \"huishouden\", \"verbieden\", \"wetgever\", \"blootstelling\", \"citeren\", \"ministeriele_besluit\", \"alternatief\", \"gemeentelijk\", \"afgevaardigen\", \"wetsbepaling\", \"geschieden\", \"oordeelen\", \"beschermen\", \"av\", \"plaatsvinden\", \"verkeer\", \"verplaatsing\", \"inbreuken\", \"ruim\", \"vooraf\", \"huren\", \"opgesomd\", \"vergezellen\", \"analyse\", \"gebeurtenis\", \"beschikking\", \"verbod\", \"uitoefening\", \"overheid\", \"fase\", \"land\", \"social_distancing\", \"bevoegdheid\", \"overleg\", \"burgemeester\", \"vervat\", \"opmerking\", \"licht\", \"federaal\", \"ministerieel\", \"verschillend\", \"ontwerp\", \"protocol\", \"vergadering\", \"voorliggen\", \"onderdeel\", \"mogelijkheid\", \"dienen\", \"zien\", \"ontwerpen\", \"regel\", \"beginsel\", \"algemeen\", \"nemen\", \"vereisen\", \"bovendien\", \"dienst\", \"maken\", \"gaan\", \"mogelijk\", \"bepaling\", \"advies\", \"geval\", \"plaats\", \"beperken\", \"stellen\", \"nodig\", \"bijzonder\", \"bestaan\", \"raad\", \"wet\", \"nieuw\", \"\\u00e9\\u00e9n\", \"kader\", \"betrekking\", \"organisator\", \"pensioen\", \"stelsel\", \"buitenschoolse_opvang\", \"voortzetting\", \"volwassen\", \"uwe_majesteit\", \"orgaan\", \"verplichte_sluiting\", \"cruciale_sectoren\", \"griffier\", \"behoeve\", \"einddatum\", \"meewerkende_echtgenoten\", \"verantwoording\", \"ouder\", \"voorgelegde_ontwerp\", \"evenredigheid\", \"nederlandse_tekst\", \"over_gaan\", \"kind_opvang\", \"evalueren\", \"zogenaamd\", \"nagezien\", \"voort_zetten\", \"antwoorden\", \"impactanalyse\", \"discriminatie\", \"arbeider\", \"rechtspraak\", \"zelfstandig\", \"terugwerkende_kracht\", \"uitstel\", \"sire\", \"versoepeling\", \"eer\", \"kwartaal\", \"verslag\", \"erkenning\", \"koninklijk\", \"periode\", \"verlengen\", \"wet\", \"koning\", \"tijdelijk\", \"pandemie\", \"termijn\", \"houdende\", \"rechtszekerheid\", \"sociaal\", \"instelling\", \"cov_id\", \"divers\", \"twee\", \"wijziging\", \"datum\", \"maand\", \"kader\", \"ontwerp\", \"bepaling\", \"advies\", \"\\u00e9\\u00e9n\", \"nemen\", \"raad\", \"recht\", \"betrekking\", \"uitvoering\", \"activiteit\", \"regeling\", \"brussels_hoofdstedelijk\", \"brussel_fiscaliteit\", \"Brussels\", \"huurder\", \"toerisme\", \"Brussels_hoofdstedelijk\", \"gemeente_raad\", \"creatief\", \"bijzon_dere_macht\", \"interne_markt\", \"voornamen\", \"jeugd\", \"brusselse_hoofdstedelijk\", \"huur\", \"bew\", \"exploitant\", \"imago\", \"overnachting\", \"secretaris\", \"steun_aanvraag\", \"eenmalige_premie\", \"attache\", \"territoriale_ontwikkeling\", \"proces_verbaal\", \"grootschalig\", \"biculturele_zaken\", \"plaatselijke_besturen\", \"publicatieblad\", \"federatie\", \"handelshuur\", \"begunstigen\", \"lening\", \"gewestelijk\", \"premie\", \"ordonnantie\", \"steun\", \"bijzondere_machtenbesluit\", \"restaurant\", \"aanvrager\", \"gewest\", \"werkgelegenheid\", \"regering\", \"onderneming\", \"economisch\", \"cultureel\", \"president\", \"kennen\", \"voorstel\", \"ontwikkeling\", \"economie\", \"art\", \"controle\", \"aanwezig\", \"overheid_dienst\", \"groot\", \"activiteit\", \"belasten\", \"cov_id\", \"raad\", \"hoofdstuk\", \"kader\", \"voorwaarde\", \"bevoegdheid\", \"sociaal\", \"verlenen\", \"betrekking\", \"letten\", \"\\u00e9\\u00e9n\", \"advies\", \"ingevoegd_luidende\", \"omzetting\", \"sexies\", \"tien\", \"binnenlands\", \"bekleed\", \"laatstelijk_gewijzigd\", \"laatstelijk_gewijzigen\", \"wij_bekrachtigen\", \"griffierecht\", \"interest\", \"be_stukken\", \"integraal_verslag\", \"aangemerken\", \"kwijtgescholden\", \"boeten\", \"laattijdig\", \"erflater\", \"elektronische_weg\", \"zegelen\", \"onroerende_voorheffing\", \"zestien\", \"gecorrigeerd_jaarlijks\", \"omzetcijfer\", \"negen\", \"veertien\", \"dertien\", \"woord\", \"gelijkgestelde_belastingen\", \"benaming\", \"fiscaliteit\", \"wijzigingen_aangebracht\", \"aftrekbaar\", \"boete\", \"paragraaf\", \"retributie\", \"vervangen\", \"hetgeen_volgt\", \"aanslagjaar\", \"invordering\", \"in_voegen\", \"streepje\", \"hetzelfde\", \"inning\", \"luiden\", \"op_heffen\", \"titel\", \"wetboek\", \"programma_wet\", \"aan_vullen\", \"ingevoegd\", \"\\u00e9\\u00e9n\", \"drie\", \"belasting\", \"wet\", \"hoofdstuk\", \"overheid_dienst\", \"telkens\", \"bedrag\", \"vijf\", \"vier\", \"bepaling\", \"twee\", \"fiscaal\", \"koninklijk\", \"art\", \"koning\", \"wijziging\", \"betrekking\", \"gebruik\", \"wijzigen\", \"wallonie_bruxelles\", \"enseignement_fr\", \"geleidelijk\", \"begrotings_jaar\", \"activering\", \"reiskosten\", \"begrotin_gsjaar\", \"financieel_gesteund\", \"prangen\", \"winstgevend_oogmerk\", \"begrotingsjaar\", \"over_wegen\", \"bek_endmaking\", \"gedialyseerd\", \"opvolgen\", \"iriscaar\", \"_daerod\", \"bicommunautaire_dienst\", \"gezinsbijslag\", \"steunfonds\", \"federatie_wallonie\", \"basisallocatie\", \"rechtheb_bend\", \"huisvesten\", \"ministeriele_be_sluit\", \"gezin_sbijslag\", \"pandemie_ge_labeld\", \"Ernstig_gevaar\", \"gezondheid_cultuur\", \"attesteren\", \"operator\", \"exit_strategie\", \"treeden\", \"ove_rwegen\", \"hygienisch\", \"leten\", \"letn\", \"crisis\", \"letten\", \"dringend\", \"covid\", \"coronavirus\", \"ov_erwegen\", \"voordracht\", \"verspreiding\", \"bekrachtigen\", \"begroting\", \"cov_id\", \"toekenning\", \"houdende\", \"beperken\", \"financi\\u00ebn\", \"kader\", \"sector\", \"inspecteur\", \"ministerieel\", \"art\", \"advies\", \"besluiten\", \"raad\", \"uitvoering\", \"inrichting\", \"wet\", \"belasten\", \"nemen\", \"werking\", \"wijzigen\", \"regering\", \"houdenen\", \"initiatiefnemer\", \"Regering\", \"adjunct_directeur\", \"woonzorgcentrum\", \"beke\", \"bron\", \"inleiding\", \"hogescholen\", \"Vlaams\", \"binnenlands_bestuur\", \"maat\", \"compenseren\", \"toelage\", \"programmatie\", \"avenant\", \"grenszone\", \"op_groeien\", \"bestuurszaken_inburgering\", \"gezinszorg\", \"samenwonen\", \"eenmalig\", \"zorgkundig\", \"universeel\", \"vormvereisen\", \"feest_dag\", \"opvang\", \"personeels_lid\", \"subsidie\", \"be\\u00ebindigen\", \"gezinsbijslagen\", \"schriftelijke_overeenkomst\", \"volksgezondheid_gezin\", \"zinsnede\", \"handicap\", \"agentschap\", \"vermelnen\", \"gezin\", \"voorziening\", \"extra\", \"kind\", \"vermellen\", \"baseren\", \"centrum\", \"ondersteuning\", \"motief\", \"vermeld\", \"aantal\", \"maximaal\", \"decreet\", \"personeelslid\", \"bezorgen\", \"personeel_lid\", \"periode\", \"ontvangen\", \"organisatie\", \"regering\", \"euro\", \"basis\", \"\\u00e9\\u00e9n\", \"uiterlijk\", \"toe_kennen\", \"voldoen\", \"bedrag\", \"besluiten\", \"afwijking\", \"twee\", \"art\", \"jaar\", \"voorwaarde\", \"nace_bel\", \"subsidiering\", \"verenigd_koninkrijk\", \"inhoudelijk\", \"departement\", \"eg\", \"afschrijving\", \"rit\", \"overlegco_mite\", \"vernieuwing\", \"bijzonder_stelsel\", \"authentieke_bronnen\", \"gewestelijke_incentives\", \"betwisten\", \"faillissemen\", \"integendeel\", \"groei\", \"webplat_form\", \"winstoogmerk\", \"subk_lass\", \"deelsectoren\", \"bezetting\", \"code\", \"ondernemerschap\", \"overeenstemmen\", \"geintegreerde_portefeuille\", \"bezettingsg_raad\", \"middelgroot\", \"klasse\", \"subsector\", \"culturele_feestelijk\", \"vereniging\", \"winst_oogmerk\", \"ondernemer\", \"project\", \"wins_toogmerk\", \"vergoeding\", \"onderneming\", \"waals\", \"gewestelijke_beleidslijnen\", \"economie\", \"klein\", \"aanvraag\", \"verdrag\", \"strekken\", \"bij_komen\", \"administratie\", \"sector\", \"activiteit\", \"tegemoetkoming\", \"decreet\", \"dossier\", \"commissie\", \"economisch\", \"regering\", \"overeenkomstig\", \"steun\", \"verordening\", \"aan_vullen\", \"euro\", \"toe_kennen\", \"\\u00e9\\u00e9n\", \"termijn\", \"raad\", \"verplichte_verzekering\", \"geneeskundige_verzorging\", \"zorgverlener\", \"financiele_tussenkomst\", \"uitkeringen_gecoordineerd\", \"dans\", \"semester\", \"kostprijs\", \"triage\", \"geneeskunde\", \"riziv\", \"wettig\", \"geneesmiddel\", \"fagg\", \"regulariseren\", \"laboratoria\", \"apotheek\", \"verpleegkundig\", \"nomenclatuur\", \"testcapaciteit\", \"bedrijfstoeslag\", \"revalidatie\", \"afnamecentrum\", \"facturatie\", \"aflevering\", \"moleculair\", \"kortst_mogelijk\", \"honoraria\", \"vergoedbaar\", \"supplement\", \"geneesmiddelen\", \"ziekenhuis\", \"pati\\u00ebnt\", \"voorschot\", \"tegemoetkoming\", \"geneeskundig\", \"arts\", \"verzekering\", \"werkzaam\", \"zorg\", \"volksgezondheid\", \"epidemie\", \"materiaal\", \"testen\", \"uit_voeren\", \"last\", \"verdeling\", \"medisch\", \"kosten\", \"vaststelling\", \"koninklijk\", \"zaak\", \"cov_id\", \"verrichten\", \"tijdelijk\", \"basis\", \"financieel\", \"pandemie\", \"verlenen\", \"kader\", \"koning\", \"wet\", \"virus\", \"bedrag\", \"vaccinatie\", \"lokale_besturen\", \"contactcentrum\", \"contact_centrum\", \"besmeten\", \"civiele_noodsituatie\", \"collectiviteit\", \"contacteren\", \"vaccineren\", \"vermoedelijk_besmette\", \"conferentie_volksgezondheid\", \"gefedereerde_entitei\", \"afzondering\", \"vaccin\", \"contactcentra\", \"gegevensbank\", \"facilitair_management\", \"antoniadis\", \"regio\", \"paasch\", \"ordening\", \"verwerker\", \"universitaire_ziekenhuizen\", \"agentschappen_aangeduien\", \"bezoek\", \"detecteren\", \"duitse_taal_gebied\", \"vaccinnet\", \"aangeduide_agentschappen\", \"verzamelen\", \"registratie\", \"telefonisch\", \"vermoedelijk\", \"besmet\", \"verwerken\", \"databank\", \"verwerking\", \"test\", \"gefedereerde_entiteiten\", \"quarantaine\", \"digitaal\", \"betrokkene\", \"gezondheid\", \"preventief\", \"contact\", \"doeleinde\", \"cov_id\", \"categorie\", \"arts\", \"coronavirus\", \"volksgezondheid\", \"vermellen\", \"kader\", \"taak\", \"verordening\", \"uitvoering\", \"decreet\", \"federaal\", \"regering\", \"besmetting\", \"verspreiding\", \"btw\", \"invoer\", \"lidstaat\", \"derde_landen\", \"douane\", \"tussenpersoon\", \"voldoening\", \"verbruik\", \"accijnzen\", \"aansprakelijk\", \"ambtenaren\", \"heffing\", \"geleverde_goederen\", \"levering\", \"voortaan\", \"verschuldigde\", \"register\", \"keuze\", \"vestigen\", \"quater\", \"drempel\", \"quinquie\", \"echt_genote\", \"langs_elektronische\", \"opneemt\", \"kinderoppas\", \"aangift\", \"exemplaar\", \"aankomst\", \"vrijgestelde\", \"verschuldigen\", \"goed\", \"zending\", \"aangifte\", \"verrichten\", \"belasting\", \"wetboek\", \"regeling\", \"handeling\", \"leverancier\", \"bijzonder\", \"koninklijk\", \"nieuw\", \"vervoer\", \"dienst\", \"betaling\", \"betrekking\", \"twee\", \"bedrag\", \"euro\", \"\\u00e9\\u00e9n\", \"administratie\", \"plaats\", \"houden\", \"geval\", \"ambtenarenzaken\", \"rang\", \"ambtenarenzaken_gelijk\", \"bladzijde\", \"jeugd_sport\", \"jeugd_justitiehuizen\", \"promotie_universitair\", \"ziekenhuizen_hulpverlening\", \"morreaal\", \"af_b_eve\", \"gerangschikt\", \"Rupo\", \"luchthavens\", \"stapsgewijze_heropbouw\", \"crucke\", \"bossen_landelijk\", \"leefmilieu_natuur\", \"bero_epskennis\", \"dierenwelzijn_tellier\", \"Af_bevelen\", \"huisvesting_plaatselijke\", \"bespreking_stemming\", \"waals_parlement\", \"doorlopende_evaluatie\", \"natuurlijke_hulpbronnen\", \"sectorcomite\", \"medium\", \"ambtenare_nzak\", \"kinderbijslag_toerisme\", \"tel_ewerken\", \"overheids_dienst\", \"president_jeholet\", \"erfgoed\", \"franse_gemeenschap\", \"promotie\", \"waals\", \"bijzondere_machten\", \"belgisch_staatsbladen\", \"Waals\", \"plenaire_vergadering\", \"regering\", \"sociale_actie\", \"decreet\", \"telewerk\", \"kans\", \"parlement\", \"bespreking\", \"personeel_lid\", \"ambtenarenzak\", \"onderwijs\", \"personeel\", \"letten\", \"dienst\", \"hoog\", \"besluiten\", \"bijzonder\", \"bepaling\", \"art\", \"sociaal\", \"aan_nemen\", \"divers\", \"instelling\", \"vervangen\", \"begroting\", \"cov_id\", \"kader\", \"afdeling\", \"wijzigen\", \"woord\", \"pandemie\", \"leerling\", \"school_jaar\", \"cursus\", \"dir_ectiecomite\", \"stage\", \"opleidingsjaar\", \"getuigschrift\", \"pedagogisch\", \"examens\", \"standplaats\", \"leerjaar\", \"permanente_vorming\", \"klassen_raad\", \"vormingswerker\", \"diploma\", \"examencommissie\", \"zittijd\", \"slagen\", \"specialiseren\", \"leerresultaten\", \"gespecialiseerd_secundair\", \"portant\", \"cursist\", \"gewoon_secundair\", \"klassenraad\", \"kwalificatie_examencommissie\", \"winter\", \"opleidings_jaar\", \"aangaan_namens\", \"gegroepeerde_basisoptie\", \"graad\", \"examen\", \"opleiding\", \"onderwijs\", \"toelating\", \"vak\", \"school\", \"evaluatie\", \"kandidaat\", \"studie\", \"organiseren\", \"instituut\", \"beoordeling\", \"organisatie\", \"les\", \"subsidi\\u00ebren\", \"einde\", \"afwijking\", \"proef\", \"decreet\", \"jaar\", \"in_schreven\", \"centrum\", \"dossier\", \"beslissing\", \"vaststelling\", \"\\u00e9\\u00e9n\", \"regering\", \"algemeen\", \"twee\", \"beroep\", \"stellen\", \"raad\", \"bericht\", \"adresseren\", \"rechtsper_soon\", \"aangetekende_brief\", \"identiteit\", \"notaris\", \"accountant\", \"rechtsvorm\", \"bedoeld\", \"bewaard_gedurenen\", \"inbreuak\", \"duiden\", \"creatie\", \"beslag\", \"uittreksel\", \"bewaartermijn\", \"kennisgeving\", \"kopie\", \"administratieve_geldboetes\", \"zegelden\", \"lineair\", \"fusionerende_instituten\", \"verzameling\", \"verlijden\", \"functioneel\", \"akte\", \"rechterlijk\", \"exhaustief\", \"geldsom\", \"schuld\", \"schuldenaar\", \"verzending\", \"uniek\", \"nummer\", \"fraude\", \"woon_plaats\", \"gerechtelijk\", \"elektronisch\", \"fiscaal\", \"beschrijving\", \"gebrek\", \"mee_delen\", \"adres\", \"procedure\", \"houder\", \"datum\", \"natuurlijk\", \"naam\", \"voorwerp\", \"middel\", \"waarbij\", \"gebruiken\", \"vermelding\", \"dergelijk\", \"administratie\", \"geval\", \"voorkomend_geval\", \"\\u00e9\\u00e9n\", \"bedrag\", \"goed\", \"art\", \"vennootschap\", \"aandeel\", \"belastbare_tijdperk\", \"verwijderen\", \"deelneming\", \"kapitaal\", \"inschrijver\", \"bespreken\", \"technische_documentatie\", \"management\", \"roeren\", \"verhuur\", \"terugname\", \"investering\", \"aanmaak\", \"eigen_vermogen\", \"bezitten\", \"investeerder\", \"volstorting\", \"verbinteniss\", \"uit_geven\", \"aandeelhouder\", \"fusie\", \"aangeschaft\", \"terug_nemen\", \"divi_dend\", \"geinvesteeren\", \"zakelijke_rech\", \"huwen\", \"vennootschapp\", \"gedeelte\", \"verwerving\", \"maxim_umbedrag\", \"afschrift\", \"uitgave\", \"voldaan\", \"bedrijf_leider\", \"overlijden\", \"echt_genoot\", \"aankoop\", \"document\", \"verkrijgen\", \"attest\", \"kost\", \"doen\", \"ruimte\", \"maand\", \"vermelde\", \"jaar\", \"voorwaarde\", \"aanmerking\", \"waarin\", \"recht\", \"vermelden\", \"administratie\", \"aftrek\", \"bedrag\", \"nieuw\", \"houdenen\", \"euro\", \"waarop\", \"werkloosheid\", \"werkgever\", \"paritair_comite\", \"wegens_overmacht\", \"werk_dermagne\", \"wij_besloten\", \"paritaire__comite\", \"deeltelijke_arbeiden\", \"tijdelijke_werkloosheid\", \"bijlage_overge_nomen\", \"nummer_co\", \"verw_ijzing\", \"rijksdienst\", \"gedeeltelijke_arbeid\", \"paritair_subcomite\", \"betekening\", \"collectief\", \"vakantie_dag\", \"vakantie_geld\", \"verrekenen\", \"verzoening\", \"neergelegd\", \"jaarlijkse_vakantie\", \"arbeidsdag\", \"toeslag\", \"ondertekenende_partijen\", \"periodiciteit\", \"maand_loon\", \"werknemer\", \"ontstentenis\", \"werk\", \"sectoraal\", \"bruto\", \"tewerkstelling\", \"algemeen_verbindend\", \"onderneming\", \"eur\", \"hoofdstuk\", \"schorsing\", \"omwille\", \"regeling\", \"sluiten\", \"volledig\", \"tijdelijk\", \"coronavirus\", \"belgisch_staatsblad\", \"overeenkomst\", \"uitvoering\", \"dag\", \"aanpassing\", \"art\", \"periode\", \"gebrek\", \"overmacht\", \"procedure\", \"bijlage\", \"kader\", \"bevoegde_autoriteit\", \"aanvang\", \"grensarbeider\", \"onderling_overleg\", \"koninkrijk\", \"ondergetekende_bevoegde\", \"automatische_uitwisseling\", \"vos_adviseur\", \"bevoegde_autoriteiten\", \"onde_rteken\", \"kalenderm_aand\", \"Duits\", \"unilateraal\", \"akkoord_verlengt\", \"aanstelling\", \"rechtsgebied\", \"generaal\", \"bondsrepubliek_duitsland\", \"vermogen\", \"kalender_maand\", \"belasting_gebied\", \"kalendermaand\", \"ontgaan\", \"justitieen\", \"voorkoming\", \"stilzwijgen\", \"oeso\", \"overeenkomen\", \"implementatie\", \"overeenkomst\", \"overeen_komen\", \"akkoord\", \"overeen\", \"ministerie\", \"thuis\", \"beeindigen\", \"publiceren\", \"lijst\", \"autoriteit\", \"verlenging\", \"staat\", \"voorkomen\", \"onderling\", \"verlengen\", \"week\", \"paragraaf\", \"dag\", \"staan\", \"toe_passen\", \"belasting\", \"pandemie\", \"belgisch_staatsblad\", \"waarop\", \"uit_oefenen\", \"overheid_dienst\", \"betrekking\", \"waar\", \"cov_id\", \"arbeid_plaats\", \"diamant\", \"handelaar\", \"synthetische_diamant\", \"parlementair\", \"aanvullen_wijzigen\", \"externe_betrekkingen\", \"clerfayt_nota\", \"wettekst\", \"reglementair_verei\", \"terrorisme\", \"witwassen\", \"teleconferentie\", \"onderworpen_handelaren\", \"testing\", \"_aanpassing\", \"sociaal_inspecteurs\", \"aangevulde_gewijzigde\", \"gezinsbijslaag\", \"bellot\", \"belgisch_staatsblaen\", \"wetsvoorstel\", \"zitting\", \"geacht_nooit\", \"kondigen\", \"verenigen\", \"af_bevelen\", \"bekrachtiging\", \"straf\", \"ingewonnen\", \"machtiging\", \"college\", \"aangelegenheid\", \"aan_nemen\", \"bekendgemaken\", \"rekenen\", \"grond_wet\", \"regelen\", \"wetgeving\", \"oog\", \"cluster\", \"bespreking\", \"verslag\", \"hebben\", \"voorzitter\", \"ordonnantie\", \"onderzoeken\", \"handhaving\", \"ervan\", \"vergadering\", \"begroting\", \"alinea\", \"indexcijfer\", \"tabel_zie\", \"basis_bedrag\", \"aanslagjaar_afgekort\", \"basisbe_drag\", \"geindexeerde_bedragen\", \"gemiddelden\", \"vermenigvuldigdn\", \"aanslagjaar_zijnde\", \"tabell\", \"correctiefactor\", \"beeld\", \"jaarlijkse_vakantiedagen\", \"afgevlaken\", \"afgevlakte\", \"deling\", \"inkomstenjaar_samen\", \"voor_meld\", \"raadpleging\", \"bosa\", \"jobi_nhoud\", \"selectien_ummer\", \"zoek_motor\", \"aangelegd\", \"inde_xcijfer\", \"inkomstenjaar\", \"kb_wib\", \"coefficient\", \"geslaagden\", \"deelen\", \"indexeren\", \"vermelen\", \"noemen\", \"gemiddeld\", \"aanslagjaar\", \"tabel\", \"bevatten\", \"verhouding\", \"selectie\", \"wetboek\", \"hierna\", \"basis\", \"verkrijgen\", \"jaar\", \"belgisch_staatsblad\", \"bedragen\", \"maand\", \"\\u00e9\\u00e9n\", \"bedrag\", \"mee_delen\", \"voertuig\", \"rijbewijs\", \"rij_opleiding\", \"vakbekwaamheid\", \"rijexamen\", \"nascholing\", \"bestuurder\", \"wegve_rkeer\", \"geldigheidsduur_verstrijkt\", \"motorvoertuig\", \"geldigheidsduur\", \"Lockdown\", \"oplopen\", \"Waterweg\", \"spoorweg\", \"mobiliteit\", \"verhuurd\", \"openbare_werken\", \"besturen\", \"stage_toelating\", \"vervallen\", \"politie\", \"vervoer\", \"geldigheid\", \"perken\", \"verstrijken\", \"weg\", \"houd_en\", \"coordineeren\", \"internationaal\", \"houder\", \"verlengen\", \"datum\", \"versoepeling\", \"categorie\", \"vervangen\", \"brusselse_hoofdstedelijk\", \"termijn\", \"afwijking\", \"koninklijk\", \"art\", \"attest\", \"zin\", \"Clarinvalraad\", \"Eeckhoutte\", \"crisisuitkeringen\", \"geuren\", \"japril\", \"aanhefbepaling\", \"getuigen\", \"interimwerker\", \"leefloonbedrag\", \"teweeg\", \"adviesvraag\", \"ars\", \"bedien\", \"beraad\", \"crisismaatregel\", \"echtgenote\", \"in_stemdn\", \"ingevoegen\", \"kader_lid\", \"ongeschiktheids\", \"opbrengen\", \"pensioneeren\", \"rustpensioen\", \"schrapt\", \"take\", \"terugbezorgd\", \"verstoorten\", \"zonnebankcenter\", \"alcohol_gehalte\", \"alcoholische_dranak\", \"sociaal\", \"werknemer\", \"aanslagjaar\", \"aanslagjaar_afgekort\", \"aanslagjaar_zijnde\", \"afgevlaken\", \"afgevlakte\", \"afwijking\", \"aj\", \"basis\", \"basis_bedrag\", \"basisbe_drag\", \"bedrag\", \"bedragen\", \"beeld\", \"bevatten\", \"bijzonder\", \"coefficient\", \"deelen\", \"deling\", \"drie\", \"geindexeerde_bedragen\", \"gemiddeld\", \"gemiddelden\", \"hierboven\", \"hierboven_vermelde\", \"hierna\", \"inde_xcijfer\", \"indexcijfer\", \"indexeren\"], \"Freq\": [3238.0, 4363.0, 1009.0, 1616.0, 1677.0, 2558.0, 1943.0, 1658.0, 4395.0, 1161.0, 1238.0, 1322.0, 1137.0, 1595.0, 3718.0, 997.0, 1202.0, 736.0, 1041.0, 1076.0, 602.0, 879.0, 482.0, 1169.0, 668.0, 716.0, 607.0, 937.0, 1169.0, 1451.0, 142.811081386614, 133.08311354460338, 251.24539618262244, 116.50514880826731, 111.77286067909304, 109.89347908636638, 97.2954864076268, 95.2867488672847, 96.04539187762148, 91.95929384578207, 91.13640807266168, 85.64532718312084, 85.52584537809526, 85.52329026821181, 80.7346586903258, 80.93391046434976, 75.62619380660892, 68.98715258707387, 66.72795812189355, 64.76474927029868, 62.57363023272713, 61.97452716038709, 60.09563225525728, 167.521577147486, 58.24817081731989, 55.478249195822876, 53.62947276543632, 53.40882077621646, 52.19656152717745, 52.116365706531845, 98.52974487198091, 216.94174504406607, 674.9003976728957, 159.06163640154907, 155.1116424280429, 102.98753183715742, 947.456832908685, 318.4413418663905, 145.46878875921908, 83.87069573623833, 198.1200943300107, 163.1346313057811, 668.654623430054, 722.8844253461994, 330.14662782061606, 876.7539287145701, 160.7171604184805, 300.03090473416216, 148.82674598991633, 178.95620864160426, 211.47764723801959, 432.5894252056272, 322.67855639705044, 298.73341431972557, 394.79150687174933, 209.32792940399892, 592.2278987219606, 741.366948399022, 248.80456429067323, 177.86980961292258, 467.95618924323156, 408.2291011706856, 316.1323087194178, 366.4426656681359, 652.5556716015363, 584.8143363092418, 473.4546359623631, 305.6440786948732, 397.49438259709245, 402.25957829531495, 299.6209453088347, 379.3027115396462, 284.1145917857377, 435.9143999922613, 508.7772237411769, 308.5309784880851, 403.0198591966027, 342.53728222372257, 301.3275153671737, 249.78688191850134, 184.82093768865738, 139.1267319613479, 127.69556566919205, 110.51124554762688, 103.75402069676262, 105.60213328805497, 323.97237345347776, 95.83627750006137, 92.28710886432778, 84.83236886593922, 79.33359150950251, 79.26072210514566, 76.98479143845083, 78.80410312091246, 69.5627904168898, 68.01415275034151, 67.90274329206946, 66.21226701876587, 65.52277947138897, 63.20329528729066, 61.65000009801534, 60.888635236488476, 58.717722240778514, 58.625703980787044, 52.32082682502095, 54.718000760168394, 51.59022811971938, 51.422731485323155, 51.142621252632786, 568.1480991866865, 202.52859675417136, 97.72046885277089, 136.4311698567594, 105.92744799742442, 109.65711646515147, 183.7931322343138, 278.31062649431146, 318.73977162758877, 1322.7244585149392, 830.0533705556225, 391.3821615108355, 1948.223914238448, 547.0061267532082, 467.0296607896375, 587.9925085080379, 573.8692032011677, 557.0431109495763, 118.67535276356871, 610.0761032923906, 412.7821379837681, 1288.5805607831053, 266.16189877388587, 700.6264029987905, 393.51701846475135, 491.4903340025422, 440.5476378596181, 739.2142590009007, 558.6496003496396, 703.3512431242939, 598.2230638928659, 845.551606864342, 529.9421751946079, 539.2120237451923, 288.85047168104484, 393.05232644112465, 367.5114108838569, 314.51801127082626, 294.57009134681954, 217.38788732530662, 184.55744513856357, 161.15536498944326, 124.97940579783985, 101.74434699974232, 91.9245195368469, 67.03902973093712, 66.03620299949006, 61.70318624703595, 60.899859814721246, 59.66748833137452, 55.68815777120209, 723.7690920860038, 52.242045850456215, 45.902783942242955, 41.916987533533344, 40.59753739541079, 37.93509415908405, 36.519468979489474, 62.92832553265283, 30.001975635551457, 28.824547824903963, 26.93229265603516, 26.14690770586593, 25.8787781632193, 25.134653097141673, 25.014578654103055, 24.467565729208538, 56.247660405729626, 23.235570291628452, 294.0102455938679, 118.51770623954269, 496.1500652106465, 228.4195231622814, 438.55337002354264, 870.3379447630056, 67.45479733665435, 66.0772579297278, 135.21359648700175, 487.88432975100824, 108.32712973048054, 916.7328246905552, 463.8368481338998, 292.4111920616979, 104.40258779096138, 154.47643573255183, 120.95593708858478, 100.22443773489287, 100.71728937614765, 158.8113915266841, 333.2657451542542, 126.0535065686196, 102.95153589217658, 143.92576777772325, 118.70811728080855, 193.07343103596284, 183.12078634694146, 320.0860503523139, 216.08790245667777, 182.26824960321312, 211.0016393005459, 176.02928320003804, 174.4435320640867, 175.60953770734864, 148.881730184613, 169.67140791748014, 144.86436375358045, 152.53642453352802, 144.2091957889044, 112.55104062662029, 77.17970946024472, 67.30049798939241, 54.237060549575325, 52.50412463708574, 44.569398616424486, 43.31251539003155, 35.24129626911347, 32.140731585147826, 29.990853356545887, 28.582158208931254, 28.603100934154142, 26.22511203343851, 25.32353806520516, 24.034759659005626, 23.363468888975902, 22.60488732995377, 22.482667132355022, 22.20673500473273, 21.355570645023306, 20.4679924948311, 18.399671535071143, 15.852746274830011, 15.223669802923311, 17.782517313907423, 14.729637065584855, 14.13524793385541, 1488.3323357669117, 10.37817768457087, 30.90053433348903, 229.70409744400447, 227.01933628882443, 52.61008057664755, 88.45255911793423, 914.7569966117909, 30.489419928990024, 1166.2570693852365, 34.10194563847563, 182.26215651403695, 104.54502469237319, 233.7020813493924, 141.6581767482957, 418.8394992600814, 57.075107350752845, 274.6296350499964, 235.54606425066925, 238.07419647513316, 713.6893446474357, 92.03181031430036, 338.56144788257836, 156.66018342499936, 1188.1159398778361, 388.1264659554526, 362.0095052243101, 1151.1840559693358, 388.09499401478615, 193.04839686621315, 95.11261368877247, 342.8966833502936, 115.04917463519357, 174.8803787280008, 422.0611834153928, 341.4574023238095, 202.19947259216133, 375.05479514416083, 330.16686796881055, 211.7513527389498, 191.71077849017135, 231.65518725171347, 168.70142830896796, 176.83480573065663, 40.086387449210854, 37.10176670123625, 69.8000021768511, 36.7185778012038, 32.66321582858904, 30.991809424334058, 29.03715427856467, 24.129051275013005, 23.26123709321999, 23.26123709321999, 19.596355158819915, 118.47393678060327, 16.131088044435202, 15.875840388705637, 15.869966414620642, 15.004557045841933, 14.178884911150472, 13.695051400505017, 13.623220886553625, 13.415919632791844, 12.871139806057593, 12.482211450430645, 9.374367635207967, 7.5768035366359365, 6.350164231411507, 6.198752460483954, 6.166142346419481, 6.141196836346389, 27.64546137549492, 5.984138828778276, 80.83025408049623, 37.07200271523385, 65.02302874182443, 63.85486073046234, 11.093298596164482, 590.987702290971, 128.7519612853943, 338.3956586813621, 596.9338538060252, 525.4071722851664, 265.07407570205226, 720.742482403199, 276.13336471985644, 200.32773025541664, 476.31224672557886, 123.9876939477857, 291.0816446572139, 1048.1594687621139, 230.4252465950916, 341.84012498916377, 308.34983520161387, 123.0403911379771, 506.03307353228854, 215.9045749793125, 136.81450873123808, 281.06784278743936, 410.40588933605756, 378.558216635823, 296.44548686667224, 373.123254264442, 294.726444396967, 138.51942911941472, 428.64788047292035, 208.08124388909408, 267.90923460721814, 193.61690956112415, 180.49777901790324, 237.04246129978696, 160.46434142381906, 68.62342764304745, 62.41162126706099, 53.48214572030486, 30.68628747913561, 25.665790962419067, 18.97860816957734, 18.10836186316902, 15.78773609628492, 1089.6020747344583, 13.79443715213491, 13.524792738339801, 30.436608346994944, 71.32652096055863, 12.658331230103368, 12.472512388711104, 12.472512388711104, 10.64532760423164, 10.258649424053248, 10.059455706964794, 26.046603980707303, 109.97117552565425, 9.585964481112224, 9.425321811093031, 77.88284710122376, 8.16710264186182, 159.64902798123515, 7.684179361848407, 637.2132954921296, 7.415359441883008, 6.5048537726762214, 30.610489493596603, 77.8116445459878, 133.52492047159933, 78.29166296845324, 223.6371479868523, 141.47271718071363, 164.87348220359755, 75.40485446092163, 100.39420118775313, 230.84757330504365, 549.7816676389181, 117.16803634011325, 238.7570895474444, 224.18263798390552, 34.12773026901938, 213.42805358064464, 330.76154315464163, 149.59277155429552, 586.2976310599217, 84.27997884213414, 85.96982857100305, 120.95710169727896, 334.02220499885385, 160.4366031174958, 189.80026720360073, 395.71906829553717, 212.67633699512706, 186.43208293608174, 283.28629463768897, 138.2117448344539, 153.15818672238836, 131.8937201437602, 172.75542586418, 171.18570494174645, 148.43843139952435, 172.83743389066908, 170.86929448385388, 152.6050849894278, 153.0116829848894, 360.4104126330341, 118.18488403930264, 67.7884438591659, 60.854462901815154, 59.11457896815468, 56.74671059751799, 50.56227954801095, 43.212330479288205, 59.142160547785686, 40.7313708050407, 39.57208253617481, 38.04001198010856, 32.12711910723649, 31.33875913479905, 30.808942335783982, 30.000301539091257, 28.979896166979692, 27.684453717351758, 27.643025877525417, 26.993851755455207, 26.947431581444413, 26.74710030469842, 532.2191443602467, 22.953673041168322, 22.40790424100063, 22.358727615807656, 22.295728198656967, 21.98368171041511, 21.723288813173124, 20.409317123206748, 30.150656137089076, 328.44291807765507, 120.22489686344673, 39.499860101639776, 156.46699009173867, 90.3020063728805, 266.8938892152618, 471.0620777356172, 440.59153245196916, 50.090367425107054, 181.82427576291386, 104.69290889297463, 196.81914831247133, 68.01338478326986, 48.22710029890167, 159.87703595856908, 203.71351915167315, 196.20016714483629, 241.764492932226, 144.40484505755074, 317.01530298526296, 100.95941097441938, 121.8128090241898, 169.57885659377683, 293.41100079129205, 115.93110543911367, 156.20103948913322, 97.75107247644989, 120.62247441042986, 134.99230672009423, 120.67773144264235, 180.54115200455988, 122.0752948615322, 109.38274176146484, 311.81975880745466, 209.6960122577966, 205.41697206726835, 152.51623476848718, 106.16096276239257, 95.0721225290615, 72.63961843034507, 68.74784376854292, 65.63562179801878, 64.63388398284935, 59.072899654354785, 55.21204457307288, 45.19410470792304, 44.993471642410924, 41.56364928189601, 41.04158519402981, 37.53483765394984, 37.00641733487438, 36.810307540873964, 32.12813658405311, 31.96904708551099, 30.864262303381672, 30.590013099601816, 29.99841691039767, 29.126238514956338, 25.950420445064093, 25.35054214994543, 25.215059398475834, 23.917784284237353, 23.55309499068007, 87.41328203944188, 595.7686643276473, 376.3999463626665, 105.29027311877933, 291.8241788500445, 84.9135473529236, 181.31405885357813, 108.75276777473265, 52.409960228056605, 151.9254642558288, 199.06694082307158, 170.28075645440103, 68.8152155959516, 72.84380338319737, 173.3315784984666, 94.3695499216713, 79.54850810546122, 112.66009725350735, 92.95904942371921, 172.52825223544312, 298.092765866574, 132.0909566876935, 356.7413269041263, 139.41469497859734, 138.66509048366805, 130.12757810659102, 116.0732709340044, 130.63870356400406, 116.06042332248376, 129.32659161239806, 110.76569539540125, 127.73804906603574, 102.38904423712697, 104.33829973705753, 318.9307558844882, 147.75552256951633, 138.2761201383094, 123.48319028848324, 119.66011985608765, 97.16311129285714, 88.57378949971383, 85.88883930165869, 78.80326085243942, 76.51080741612296, 58.75403799294414, 55.743165766610666, 49.27412020754554, 153.6408072509658, 40.46573150414142, 34.20705954484854, 27.390512911370195, 26.502196515028402, 25.357549714830014, 23.792610881927967, 23.788032881553843, 23.323948908541755, 22.210996391130692, 21.722216795722453, 21.04687898293193, 20.91420913396336, 20.7189312741265, 20.088327709856163, 19.98099485474125, 121.99772885238026, 55.223542034745876, 61.399881459783686, 66.88147077052672, 106.10097051136114, 201.16789931902773, 160.4900525436488, 279.6425297124005, 240.22303492810624, 78.69842953409427, 105.30476709378775, 121.71586396492502, 95.48546412206727, 267.3753244239525, 69.70029268371273, 168.40243215493047, 119.61967395631561, 755.4904063382796, 156.0121587808294, 153.0984289387698, 336.8940619638225, 175.3981885064231, 200.13445241123642, 232.90482484442808, 102.26163444739801, 111.82728535237477, 157.01861166176388, 163.47254643405591, 132.31495425427423, 138.217407377554, 108.32262857623883, 115.72226462219989, 315.00358959737594, 218.83740405117072, 426.0292025265899, 83.70804516414482, 60.02683378628998, 54.42893979378423, 54.157911323541754, 45.70907380050397, 32.731252741881995, 58.917073725359735, 20.966119187190127, 47.550133915153594, 19.534736852042787, 158.91219610899992, 39.89877385309959, 9.671320729047828, 101.96715143775135, 131.15553068411614, 221.8889511248802, 109.57702139677912, 126.3976342979001, 160.70016971735805, 4.414347789271403, 37.98486165721313, 3.5809508811904043, 3.306316560667432, 52.72604393212088, 19.699594182506406, 63.48749867106241, 2.9298646677009574, 239.3899013333294, 672.0934332364009, 66.99327566207732, 253.7192052838646, 315.7591237367304, 447.4343051325418, 706.3909795056168, 454.6988075335992, 219.6360576331575, 99.38549092399874, 334.7764759700932, 511.7957815682991, 259.0799198682429, 86.62046536353753, 248.53218204710146, 133.94178381387482, 245.00847857481148, 197.2055872666531, 166.5563533663126, 159.98582228675835, 225.43809476867457, 134.44952349120854, 128.37639421010806, 116.9630687868409, 116.6061722465545, 118.12583528358228, 54.482335102043336, 51.335369589484706, 45.66596971236499, 43.68549496007399, 43.684072063318354, 43.08863496898305, 43.08863496898305, 35.48778833978288, 32.57615990662879, 30.507552603290083, 27.143841412936396, 24.64187667370222, 24.288162954209966, 23.23694189711423, 22.791069665753927, 22.791069665753927, 19.69115348991743, 16.728982090007083, 15.894789616061354, 15.59083375911548, 14.352004601787677, 14.352004601787677, 13.860675841073459, 12.630124594871072, 12.316121412834248, 41.041933579696355, 11.44262685650176, 25.7316381449214, 11.133043861386406, 123.87186066198709, 67.09876891913095, 26.083925619665656, 219.03978912422323, 169.7316155204998, 758.0440749647909, 233.91694139461416, 47.48942697067385, 97.41065480456353, 40.36969688847291, 1130.1937286930074, 96.09143867652722, 667.9505110444231, 94.4617029525111, 51.560836787393704, 58.55623247709128, 35.13258308969149, 102.30219217929874, 44.81656730909964, 147.48928180356512, 98.98826228743799, 201.80729744027562, 189.02868017698484, 122.70580848871943, 184.6064509801733, 157.89711871250634, 215.05824946658913, 201.7617513521259, 168.8964253448289, 95.66184438405135, 103.9909195288072, 128.62402781050235, 163.78495165557368, 113.90088318895637, 190.92969702644893, 153.32958664700195, 101.21484461057558, 110.74910326337516, 98.11307699496058, 97.36997669731427, 360.76976424157147, 204.20039591865537, 71.69999851201901, 66.82857497944462, 65.88432149357729, 48.34224025478279, 125.17622845643655, 42.867457088285335, 42.23226851600423, 41.03188793455768, 37.35626035158027, 36.32187004248523, 33.14308907564905, 25.738419310049874, 38.32591626120968, 24.668433487661822, 24.398793396729555, 92.26192430415377, 23.12563335303152, 22.30783490427204, 21.72180753755481, 18.18458840920877, 16.160167303619136, 16.07855859825722, 14.319840371026237, 14.111422806394028, 14.009820639476803, 13.592252772117105, 13.434399154813356, 11.406994399924786, 112.30715932652576, 59.32759030434862, 193.13980470796315, 456.99843146833155, 113.50668170102512, 22.60937419611941, 204.80210438248702, 186.96163813878272, 114.6207146185723, 32.00834376002499, 204.39542470209796, 40.772418348763, 43.77594693259806, 183.32472773413437, 64.34046240183669, 55.810633140901025, 112.44680113997164, 176.36122652694323, 85.95924244631632, 207.7331772137086, 145.47748016179807, 62.962638751234294, 85.42050930864622, 71.62141987943124, 93.13280862416553, 94.37925634928732, 135.53653283571143, 120.98887114210174, 96.46279210446455, 101.5503332251142, 72.79629515265712, 74.61290847223495, 70.87461421647174, 266.91718962945066, 120.68701587764814, 114.51185402090672, 81.29390522172136, 69.3527866810296, 51.923850817524105, 48.860792799560116, 44.5232563157496, 32.70186886940225, 19.758126859480242, 18.657238446178912, 31.752704902384302, 11.278868446508158, 67.0587146264668, 10.263252210341793, 9.224610716451684, 309.2487673659864, 34.71934530658702, 8.313195340345237, 7.63660907800888, 7.488354367896207, 7.310751319035966, 7.104551523234177, 6.819638617628284, 47.0251290628065, 72.64719485837784, 5.412455341479159, 5.3367399952316905, 4.444732341962532, 71.68070310512726, 63.20757050337545, 215.42405315332817, 62.397449176828125, 132.37268415734903, 31.465374366226584, 76.69552029014642, 47.64428338676202, 200.86489760593844, 375.3554542332717, 38.767491290434606, 127.83782378980078, 128.09133208013995, 101.74912457034357, 274.8648151400912, 42.9662874912304, 321.6696706508002, 127.29930303713245, 205.099730882372, 70.51214316009113, 152.44285743136354, 160.50713883978483, 125.18752057199627, 75.34538854736756, 110.51583888719898, 116.77674243549875, 132.36587005273321, 78.39380066515079, 118.16874699863325, 88.75612164792203, 83.08516420170002, 78.20539509726667, 309.38648369436305, 204.2587743529311, 79.16690392965327, 78.9161604240863, 36.652278220424904, 35.34955970998612, 25.22394910290668, 22.95250505604382, 21.50078252193341, 20.39583882154356, 20.356246883132016, 19.879787820795702, 17.42079003886, 87.64426605241707, 13.778834692816002, 12.57005799366658, 82.94914756270947, 11.201652899330664, 10.237785047059079, 9.62898037381364, 9.609026711129784, 9.608198367227661, 14.978714398434631, 9.411320778691971, 9.046637391218301, 8.22675093471291, 7.647422253888317, 7.639959908494355, 6.883140874094923, 6.722954207744632, 67.19286474952628, 80.66375942473276, 25.157099756179758, 21.788609370812278, 150.2793615190788, 55.117191216489324, 20.715320370437038, 57.53869601458385, 26.770601298255368, 50.74179534731413, 122.77841647133947, 115.22973480440982, 131.81746463735385, 129.73937635801613, 97.97410965187206, 40.357810320383386, 158.0298618368575, 57.46643615024678, 139.1182884081086, 144.16230462436297, 76.96972263555602, 98.15175588635626, 88.0955449101838, 64.60777199989036, 82.38593896173944, 40.392114995857305, 84.96225887880145, 65.53018821825023, 59.11585192881401, 61.578114147002935, 51.72771309798687, 69.95488336502717, 473.61749830426237, 39.778095635257515, 59.813153357225666, 21.7233016526979, 21.128745895458255, 18.64785453882747, 18.474789839221735, 194.45041151026342, 14.856530226634266, 14.856530226634266, 14.856530226634266, 68.62046462649351, 11.982734707344122, 11.411270339790557, 10.185686028644856, 266.82609583750155, 8.67664081137882, 7.754421868217153, 13.344600490755274, 6.451501415176878, 6.020977787509272, 5.6321741974721125, 5.626958641292626, 51.249524551915634, 4.882369012076799, 4.619582227333268, 4.4635398774176105, 829.1572432301502, 15.16859727924381, 324.70028155855346, 7.276664248262413, 22.58252242057991, 46.8852446819293, 20.078282185254494, 280.608460530802, 19.90049123880017, 191.2062104317778, 48.60847663625744, 48.3161103003148, 118.96039682242393, 69.99733295484852, 62.0520916776321, 77.38261825954476, 104.43018779071073, 60.171475382387335, 47.74075953323961, 79.04636624216482, 65.65039869956922, 39.42055008785373, 69.03270372704127, 58.090104292286775, 33.30893857577295, 27.689466367243032, 36.87855763228357, 34.54589331276365, 34.360995348814676, 105.93856862154381, 98.71312519085131, 98.08645735815965, 59.05177138997076, 35.566413868757316, 28.086623524265647, 26.642172039773026, 25.551351009659665, 120.86126685658897, 17.830848926071585, 16.758610200782485, 16.397693075183383, 16.287573579676987, 16.021289128032343, 15.579494419358449, 13.316524502569157, 196.33349893627093, 9.370836123856153, 36.42674189908418, 8.300291508477956, 8.074797955184255, 72.94324693482166, 7.567448481980861, 5.577437175034831, 34.061315365622136, 20.688557229979832, 4.150377650963424, 26.30348878414966, 11.397147350763356, 257.6021630398817, 54.39623978992512, 219.52410249466521, 16.841451117341812, 25.85290022250313, 46.23272267421587, 30.797154707059153, 62.83783076337655, 80.15215133829236, 33.2532331676621, 88.71210663223643, 45.13038733982256, 60.000425914125714, 23.83724566408128, 72.45500939622383, 41.56839251860242, 89.1231228555061, 80.15117319849647, 57.47532041028274, 42.49853292556311, 58.333186632036785, 61.13593335486606, 49.1395519359988, 47.47455108921201, 43.99734405895262, 42.95060750728416, 38.407529065599284, 37.22863783309474, 37.28353592913888, 23.38560020101899, 12.543110283485209, 9.651884621058134, 7.416898956846197, 6.0660346238828815, 5.920468660642433, 5.917148395141542, 5.107679537093969, 4.948571671339975, 4.613001162804894, 4.452508338925148, 4.124813114146527, 3.714800904463353, 2.9313428117288227, 23.2939183957615, 2.5308133255393157, 21.016118547903513, 1.8026600832558113, 5.914976473929174, 2.168846645705469, 9.907943593393538, 4.683833089712689, 36.17875639666214, 6.343801502561335, 20.885241216353617, 8.903114884039132, 14.630723482225033, 21.80483403051453, 5.8560438811222255, 9.011557509063369, 23.59158021810527, 22.427340002031695, 31.633238227034724, 45.8015391308528, 25.118456577736456, 17.914912237162763, 28.226231547016486, 25.75689723947947, 19.801113761741885, 29.02614136755122, 11.714245551231045, 10.495572039258754, 19.673329368746877, 10.39679343399596, 13.067391632989878, 16.23875112002344, 11.175508953650018, 10.432098964199888, 10.636121466127676, 10.468049731454823, 10.154214182380699, 46.7211659139901, 31.231122421958784, 67.11124879148504, 11.505193300366122, 7.654145502190468, 6.254852331369184, 6.254852331369184, 5.807480563800181, 5.357716848838359, 5.3029302704464625, 3.3419000596062385, 2.795980651356522, 67.49939010149436, 2.733604556078973, 1.9425981746516154, 1.9425981746516154, 1.9425981746516154, 1.9425981746516154, 1.9425981746516154, 72.43408608850099, 1.5316774624230718, 1.5316774624230718, 1.5316774624230718, 1.5316774624230718, 1.4571481106542556, 1.4372803798936034, 1.3254057054025887, 15.478413247958018, 18.312808429755705, 1.0840106474526103, 7.730633889784512, 14.565290454684268, 23.242041806081904, 30.043861543548054, 18.461402489126982, 23.184395676613853, 12.153904954320815, 25.65010475537895, 9.482658078747052, 7.011651464582132, 32.661192596393406, 18.380482718103515, 21.445604474588592, 12.207932581024146, 19.828492826819495, 12.36254432492781, 9.910567404964484, 9.497120909408439, 9.597129564973162, 8.747640990530018, 6.845362782003877, 172.30367970289137, 16.86468017470367, 9.965108320437421, 4.2166562634482965, 3.462849700027728, 3.3906939339202937, 10.166860453040266, 2.7943561601324456, 1.629665943945323, 6.5869801600881654, 20.293289476348402, 10.714115343321351, 1.2734788827121581, 1.1743619795975055, 1.1743619795975055, 28.583593239265607, 0.7519032260461372, 9.748305430220675, 3.7804096078902876, 0.43015155236241526, 11.18703976184297, 18.166670458547816, 30.79420897840357, 3.112288502315498, 6.647584697799094, 17.89659492403313, 15.265824148144198, 11.781942184787303, 2.2170085266297677, 10.327392176610232, 4.82216629755047, 26.3043393085075, 30.67497184997609, 5.947523965753913, 9.16651490089069, 17.1015463975073, 11.337388940612804, 10.300854602188231, 9.120972649716096, 8.570994928709684, 5.733355183685474, 4.596174856150738, 4.428193944913414, 0.0003243729919721956, 0.0003243729919721956, 0.0003243729919721956, 0.0003243729919721956, 0.0003243729919721956, 0.0003243729919721956, 0.0003243729919721956, 0.0003243729919721956, 0.0003243729919721956, 0.0003243729919721956, 0.0003243729919721956, 0.0003243729919721956, 0.0003243729919721956, 0.0003243729919721956, 0.0003243729919721956, 0.0003243729919721956, 0.0003243729919721956, 0.0003243729919721956, 0.0003243729919721956, 0.0003243729919721956, 0.0003243729919721956, 0.0003243729919721956, 0.0003243729919721956, 0.0003243729919721956, 0.0003243729919721956, 0.0003243729919721956, 0.0003243729919721956, 0.0003243729919721956, 0.0003243729919721956, 0.0003243729919721956, 0.00032437302916540114, 0.00032437302916540114, 0.0003243729919721956, 0.0003243729919721956, 0.0003243729919721956, 0.0003243729919721956, 0.0003243729919721956, 0.0003243729919721956, 0.0003243729919721956, 0.0003243729919721956, 0.0003243729919721956, 0.0003243729919721956, 0.0003243729919721956, 0.0003243729919721956, 0.0003243729919721956, 0.0003243729919721956, 0.0003243729919721956, 0.0003243729919721956, 0.0003243729919721956, 0.0003243729919721956, 0.0003243729919721956, 0.0003243729919721956, 0.0003243729919721956, 0.0003243729919721956, 0.0003243729919721956, 0.0003243729919721956, 0.0003243729919721956, 0.0003243729919721956, 0.0003243729919721956, 0.0003243729919721956], \"Total\": [3238.0, 4363.0, 1009.0, 1616.0, 1677.0, 2558.0, 1943.0, 1658.0, 4395.0, 1161.0, 1238.0, 1322.0, 1137.0, 1595.0, 3718.0, 997.0, 1202.0, 736.0, 1041.0, 1076.0, 602.0, 879.0, 482.0, 1169.0, 668.0, 716.0, 607.0, 937.0, 1169.0, 1451.0, 143.7700470011979, 134.06551899954792, 253.28885398002137, 117.464114476729, 112.7318263761587, 110.90420559243722, 98.25707789258632, 96.24571448186859, 97.0270395609744, 92.91826231646037, 92.0953819367004, 86.6042938609061, 86.48481099669989, 86.4822565107084, 81.69362432544658, 81.89731549588741, 76.58515988733858, 69.94611818799528, 67.70765804713722, 65.72371488372093, 63.5326132309342, 62.93967003943916, 61.05459785617869, 170.26937948021077, 59.20715481443262, 56.43721481857893, 54.588682280592195, 54.367787712780114, 53.15552712809886, 53.07533149496581, 102.00643502853758, 230.65772292703534, 755.0867227158742, 167.61960489482377, 165.74130339242225, 107.91621839249578, 1218.4522791561944, 375.2633773664273, 160.49075876742216, 87.85390765101266, 237.97028493160457, 190.36482957671186, 990.9508987574566, 1090.954182268533, 434.83237911852126, 1552.786101550002, 191.22395610673618, 436.0160767173365, 176.48757470163332, 224.55084475070913, 282.30763413037073, 747.3828471097887, 513.2942865359313, 463.4137799866179, 684.9038573108069, 286.96063308497577, 1274.566310458645, 1769.6382556285896, 373.70331043606484, 231.7694605016722, 1184.1430661457919, 941.5132843884878, 614.2916478292201, 801.8725923021694, 2270.3393744000855, 1907.4341088565643, 1341.9405088320477, 592.3978000058391, 999.1034288062611, 1026.894145342229, 633.7319055969364, 1095.8793466595212, 608.9663981426961, 1949.6942547578597, 4395.235883414446, 873.204079576088, 3718.1156434159006, 2415.069169517967, 1651.535971564315, 250.74138708974945, 185.77544982260986, 140.0812372192605, 128.65007084477196, 111.46575091932486, 104.70852590494634, 106.57955386998114, 327.17725203194726, 96.79078268284123, 93.24161403774909, 85.78687484655524, 80.28810925349559, 80.21522744963936, 77.93929733518272, 79.80544039316692, 70.51729560529803, 68.96865868982745, 68.85724846928075, 67.16677269319133, 66.47728481135198, 64.15780046588586, 62.604508121034144, 61.84314042398892, 59.67222799746412, 59.61203706191476, 53.275331992175495, 55.72111226460787, 52.544733287205034, 52.3772369025938, 52.09712642925846, 615.9509173709414, 213.35326001347065, 101.6571852749111, 146.18372826503605, 112.79863291429756, 117.8617373082493, 216.76467630879046, 351.50627694748835, 411.3675091042706, 2558.185683329496, 1451.2718304851583, 602.088696749758, 4395.235883414446, 925.5789050338321, 803.9851115908145, 1088.1236054404842, 1128.6884588936, 1120.9174560005051, 140.14380025004962, 1387.7664849645266, 812.0123798838425, 4363.70626160676, 446.43669021230454, 1898.0854852018663, 809.0232979908901, 1137.7197132955125, 971.844947534603, 2415.069169517967, 1552.786101550002, 2270.3393744000855, 1907.4341088565643, 3718.1156434159006, 1769.6382556285896, 1949.6942547578597, 563.1792072236143, 1651.535971564315, 1436.6307891954145, 1042.06879880625, 1041.9978813774912, 218.3244720756904, 185.49402979841935, 162.09195044725757, 125.94261553010244, 102.68093166983499, 92.86110450202105, 67.97561439079287, 66.97278765934581, 62.64568300925952, 61.83644450346208, 60.6040730246072, 56.624746144507434, 736.0122214516707, 53.18074024953682, 46.8393686020987, 42.85357219534713, 41.534122055266536, 38.87167882327158, 37.45605370699953, 64.83490047319151, 30.93856032804412, 29.76113257615988, 27.868877315890913, 27.083497222749266, 26.815364602883584, 26.071237756997427, 25.951163320497855, 25.404150392037813, 58.45044919983265, 24.17215495518206, 311.6412144141088, 125.65140873279546, 543.059770185493, 246.8697005005837, 515.7519982364392, 1076.9266926687067, 75.95584976203259, 74.83277503000312, 172.69451817556651, 758.9061871831578, 156.02535184846158, 3238.1604325839453, 1322.806706923646, 762.8919597941837, 168.05407690732127, 354.8126922207728, 237.60749775186065, 167.79868725105868, 169.7432514150172, 425.3677853039116, 2090.2887189468224, 280.5034521376519, 189.70474980205543, 432.9727609667243, 285.9028092517893, 1042.06879880625, 911.3167696128918, 4363.70626160676, 1949.6942547578597, 1169.9971297146642, 2415.069169517967, 1243.79573012386, 1218.4522791561944, 1387.7664849645266, 656.1221510484553, 1651.535971564315, 1169.1795338868565, 3718.1156434159006, 1907.4341088565643, 113.51031688728305, 78.13894557102648, 68.25973912895, 55.19631307173227, 53.46336052150261, 45.53282173594268, 44.27175870054711, 36.20054148264675, 33.10173958419656, 30.95008924152854, 29.54139403665703, 29.569740241409317, 27.184808796219624, 26.282773911180005, 24.993995479020327, 24.32270471745373, 23.566247196152734, 23.44190295009053, 23.165970900180334, 22.31570230542053, 21.427228712428402, 19.358907651846014, 16.811993358788, 16.182905653598933, 18.9153548721453, 15.688872896122739, 15.09448377395459, 1616.3763692467094, 11.337413536739513, 33.8581427638946, 252.50623095583217, 264.921464691325, 58.813203151078774, 101.06207378050516, 1202.3134792698281, 33.486755954330825, 1658.1668863133846, 37.870724948815095, 240.14495038671507, 131.12402073794448, 328.95102239305953, 187.8133155663637, 660.3790619434963, 68.80702865552867, 428.4067805692217, 364.25902341034583, 400.1903156951065, 1677.1175578891655, 130.66331779062568, 701.0785733793443, 264.28563756802174, 3718.1156434159006, 946.9623902192575, 879.2207654201056, 4395.235883414446, 1169.9971297146642, 432.9727609667243, 146.30067456140648, 1244.5563593042484, 205.3932096095551, 428.5730629575306, 2270.3393744000855, 1898.0854852018663, 652.8346426455058, 2558.185683329496, 2090.2887189468224, 925.5789050338321, 809.0232979908901, 1651.535971564315, 519.2660881133908, 874.8000943065874, 41.03208323321135, 38.04746248523675, 71.58751971765683, 37.66427359883874, 33.60891170700909, 31.93750521265591, 29.98286154557428, 25.074747067756935, 24.20693286929614, 24.20693286929614, 20.542050965669716, 125.29677513793783, 17.076783830393396, 16.82153617702749, 16.815662202942494, 15.950252809417247, 15.124580684534358, 14.64074716408033, 14.568916668213783, 14.361615403762869, 13.81694950046714, 13.427907214005959, 10.320063771741617, 8.522499410659178, 7.295860117016044, 7.144448253375246, 7.111838135073048, 7.086892778152023, 31.95482945982138, 6.9298347503198885, 94.84291522764073, 44.567811911752486, 81.36442532322337, 80.32175554154946, 13.029900622235301, 862.5468481293838, 182.75197596750627, 549.9158620135944, 1169.1795338868565, 1035.9825719348664, 473.5790631066992, 1595.14631815578, 509.10066987031547, 356.6273384557417, 1012.8108008174116, 201.85398472390267, 659.1775719901648, 4363.70626160676, 636.355545471977, 1120.9174560005051, 999.1034288062611, 282.5845666765589, 2415.069169517967, 704.4539528985357, 342.9579209892105, 1090.954182268533, 2090.2887189468224, 1907.4341088565643, 1280.1526979404916, 1949.6942547578597, 1436.6307891954145, 363.1610551065357, 4395.235883414446, 911.3167696128918, 1769.6382556285896, 1047.5851124048459, 874.8000943065874, 3238.1604325839453, 600.4907676180225, 69.56035774053775, 63.348551468237126, 54.4190757957744, 31.62321755487408, 26.60272102990604, 19.915538412095014, 19.04529219889464, 16.724667252872784, 1161.7008886141336, 14.731367194400475, 14.46172297129806, 32.58218296403303, 76.36932917285155, 13.595261282397876, 13.409442445179236, 13.409442445179236, 11.582257646028115, 11.195579466318813, 10.996386818640126, 28.56350477456935, 120.66423612606779, 10.522894552694337, 10.362252137737745, 85.87506169444615, 9.104032713443933, 178.15230999029922, 8.621110199031381, 716.1086961377105, 8.352289505409116, 7.441783810774838, 35.31394735278046, 92.38960028967604, 161.67753268591602, 94.60768582343215, 284.70919733661077, 175.98680026374493, 214.26006128360615, 95.65409146729152, 133.64068381942153, 351.1413342226677, 937.9323520065915, 166.44575928302743, 406.4846726490778, 388.0199602853065, 43.051869133103665, 422.77605004088514, 800.860669984547, 293.26126753447886, 1943.1678468760101, 152.17977795132927, 165.16838823345725, 281.4692736555979, 1451.2718304851583, 459.1197242617883, 691.5387052964571, 3238.1604325839453, 1120.9834013323054, 846.4554953080152, 3718.1156434159006, 520.7065093911351, 765.5612511604779, 483.07888578072954, 1244.5563593042484, 1280.1526979404916, 784.0953669308855, 1898.0854852018663, 2090.2887189468224, 1090.2911277902788, 1243.79573012386, 361.36145256590487, 119.13938740235972, 68.73948382387445, 61.805502963609506, 60.06561907892458, 57.69775053773588, 51.51331969611308, 44.163370545105174, 60.4738225401256, 41.68241074013303, 40.52312247126714, 38.99105190376071, 33.07815936275992, 32.289799170598585, 31.76035695180119, 30.95134161395587, 29.930936090631846, 28.63549364100391, 28.594065805786894, 27.94489167910736, 27.898471505096566, 27.698140269541494, 553.0852667538567, 23.904712964820476, 23.35894418456977, 23.30976753945981, 23.246768174294534, 22.936915037123104, 22.674328779229764, 21.360360347134367, 31.75967197023648, 379.65538789264093, 137.61998839362795, 44.190237409474264, 226.67022042608684, 129.1599373967012, 502.2779658682993, 1322.806706923646, 1238.4503060292893, 67.3306062997173, 425.3677853039116, 201.52938716224563, 536.2973925550173, 109.45178823986409, 64.97813775292273, 439.174372295153, 670.8502577381466, 704.4539528985357, 1042.06879880625, 437.2118129320308, 1943.1678468760101, 244.74774278169002, 350.854288759177, 762.8919597941837, 3238.1604325839453, 473.76137549020876, 1076.9266926687067, 303.40648612342613, 701.0785733793443, 1120.9834013323054, 765.5612511604779, 3718.1156434159006, 1128.6884588936, 1949.6942547578597, 312.74823311757507, 210.62448642047775, 206.3454464945773, 153.44470883902116, 107.0894368605825, 96.00059678905662, 73.56823891154731, 69.67631780585155, 66.56409586068779, 65.56235803843802, 60.00137370259635, 56.140518603034415, 46.12257914946051, 45.975720474836365, 42.492123691716294, 41.97005927005013, 38.4633116991803, 37.93552062551847, 37.7387815708355, 33.056610614014645, 32.89752225986082, 31.792736337952526, 31.518487134133355, 30.92689327952083, 30.05472618459236, 26.878894475025625, 26.279016334506363, 26.143533433007374, 24.846258314198884, 24.48156906563793, 91.13791298449433, 668.127195374702, 421.5916929721234, 132.01308564838715, 437.2118129320308, 109.93075884970008, 335.2720285490006, 170.20019690133648, 67.40264749776986, 328.23211060711674, 494.97153041850635, 396.38141198247564, 106.97096572915258, 119.02181958390715, 544.906279855978, 190.59757691698786, 144.7404975033425, 283.43257286118364, 206.71733344884206, 769.9162977105811, 2558.185683329496, 453.06448984954125, 4363.70626160676, 550.5530609541498, 803.9851115908145, 846.4554953080152, 607.2718011349273, 1088.1236054404842, 656.1221510484553, 2415.069169517967, 925.5789050338321, 4395.235883414446, 462.6693485354059, 1244.5563593042484, 319.86452038925034, 148.68932214726362, 139.20987591442193, 124.4169460687627, 120.59387637501113, 98.09686707912215, 89.50754550809063, 86.82259591188671, 79.73702816393477, 77.4445632130702, 59.68779456047419, 56.676921613561234, 50.20800855198061, 156.7303971458873, 41.39948727649003, 35.14081531719715, 28.32426868348058, 27.435952282807005, 26.304786337576182, 24.72636664970657, 24.721788653902454, 24.25770467632036, 23.144752196257688, 22.655972563501056, 21.980934711084352, 21.847964919130828, 21.652687074226282, 21.022083477634766, 20.914750622519854, 128.10228568591407, 58.00156327036166, 65.97669452476393, 72.35630907991812, 119.40246692832682, 243.16587045365102, 198.8729123208046, 366.1977961289447, 309.9562984143567, 93.47072563317526, 133.09207387367366, 158.12122363318596, 119.91900926510368, 416.25761313764895, 90.24176652129592, 344.93701873378524, 209.54194336548096, 4363.70626160676, 346.0472759680542, 335.2720285490006, 1595.14631815578, 494.97153041850635, 937.9323520065915, 2415.069169517967, 216.4267244890565, 303.40648612342613, 1436.6307891954145, 1943.1678468760101, 990.9508987574566, 3238.1604325839453, 359.7989414034483, 1012.8108008174116, 315.98785628722305, 219.82116942027645, 429.55812076353527, 84.69181074728553, 61.01059913006393, 55.41270508787369, 55.14167669494277, 46.692839222997826, 33.71501803862339, 61.56821276940064, 21.949884678932165, 49.871903577572, 20.518502146944396, 168.24692667026574, 43.35723342784453, 10.655086142123166, 112.47249826421333, 150.32027970394049, 254.97977410373684, 128.00992905901248, 152.53101310221976, 194.67046093012956, 5.398113142969595, 47.199824159431266, 4.564716173439647, 4.290081913446036, 69.19074864655406, 26.07477022832793, 84.08411743526413, 3.9136300510748603, 334.7659287599325, 997.6306335264162, 92.8090412347864, 410.8586110628198, 550.5530609541498, 879.2207654201056, 1677.1175578891655, 1041.9978813774912, 429.6115800540379, 163.04261578505822, 1095.8793466595212, 2558.185683329496, 873.204079576088, 152.8292329715545, 1184.1430661457919, 426.6198498413582, 1651.535971564315, 1898.0854852018663, 1244.5563593042484, 1120.9834013323054, 3718.1156434159006, 670.8502577381466, 592.3978000058391, 889.6995394589402, 1341.9405088320477, 119.07685144931362, 55.43335150280697, 52.28638569679603, 46.61698609273794, 44.63651105355734, 44.63508815680171, 44.039651062466405, 44.03965106707573, 36.438807489767335, 33.52717766988847, 31.54414479963895, 28.094857899440456, 25.59289277175558, 25.23917904769332, 24.187957990597585, 23.742085951177625, 23.74208596488765, 20.642169601470897, 17.67999818806044, 16.8458057268197, 16.541849857168838, 15.30302069527103, 15.30302069527103, 14.811691939457939, 13.581140697494442, 13.267137506317601, 44.40777301983432, 12.393642976665216, 27.875275021866468, 12.084060000514068, 143.9311541431992, 77.35366886170166, 29.137601414178228, 280.95448134577396, 228.68263152291047, 1238.4503060292893, 336.29256852801694, 59.16554376820353, 140.01764358620318, 50.37721548912245, 3238.1604325839453, 155.04201604051283, 1943.1678468760101, 170.50831921810533, 83.16896169480954, 101.64641838834703, 46.52974288787418, 281.4692736555979, 71.62821705707569, 607.5764601023741, 302.4464052167434, 1169.1795338868565, 1184.1430661457919, 498.15802458569357, 1280.1526979404916, 1095.8793466595212, 2270.3393744000855, 2090.2887189468224, 1387.7664849645266, 355.4759384676468, 446.43669021230454, 812.0123798838425, 1658.1668863133846, 659.1775719901648, 4363.70626160676, 2415.069169517967, 546.807242263535, 874.8000943065874, 1616.3763692467094, 1088.1236054404842, 361.7065493806614, 205.13718092832033, 72.63679635446255, 67.765359978386, 66.82110658829293, 49.27902625174161, 127.75374405165924, 43.804242096508176, 43.169054232262546, 41.968672906700746, 38.29304532056882, 37.258655909373665, 34.079874044637606, 26.67538913137475, 39.77128410724108, 25.605218461220378, 25.33557864823695, 95.89807030983617, 24.062418413397534, 23.244619873260586, 22.65859250654336, 19.12137361072291, 17.0969526335951, 17.01534356724577, 15.256625340014788, 15.04820777538258, 14.946605608465354, 14.529037826113274, 14.37118430103952, 12.343779368913337, 128.9432805026272, 66.84092266349018, 241.48632957605042, 607.5764601023741, 139.06988595326428, 25.0382010201484, 276.8090749492682, 258.2858846737544, 157.19213069805934, 37.1749745830853, 465.8431882032998, 53.16340855447636, 63.32365958242507, 691.5387052964571, 127.67737500377189, 100.69346943485425, 342.2113668626316, 784.0953669308855, 251.51009780129638, 1943.1678468760101, 1090.2911277902788, 157.82653407716447, 406.4846726490778, 244.74774278169002, 674.4351577936935, 769.9162977105811, 3718.1156434159006, 3238.1604325839453, 1274.566310458645, 1898.0854852018663, 354.73002762698536, 1026.894145342229, 1949.6942547578597, 267.86511152270566, 121.63493778802501, 115.84356522509589, 82.24182708972533, 70.30071106234107, 52.871772688592, 49.808714704258136, 45.471178179421784, 33.64979100674344, 20.706049154294284, 19.60516033938158, 33.68363641126259, 12.230156408991734, 72.7901304667748, 11.211174154381899, 10.172566275368332, 344.2700085416841, 38.66115996391438, 9.261117215020576, 8.584530950963613, 8.436276489965413, 8.258673182708149, 8.052473426366094, 7.76756446744786, 54.298927959327926, 84.72492267595737, 6.360377272782622, 6.408952498223048, 5.392654216857082, 87.69355383354544, 78.26408279239861, 281.4705425250008, 79.14784038778713, 173.55560042455286, 39.23158884948104, 104.54182054978037, 62.97389675170827, 321.2897349921428, 652.8346426455058, 51.72054230573209, 203.2219441252447, 210.46866458775034, 163.36206377358968, 598.5220623073893, 59.26940600610413, 1137.7197132955125, 300.9760927088508, 677.1621274789198, 126.59215980211108, 510.7434611727079, 621.905388142047, 437.192714108565, 169.2698071342323, 444.1454339292286, 670.8502577381466, 1341.9405088320477, 222.6461465406415, 3718.1156434159006, 1244.5563593042484, 997.6306335264162, 2090.2887189468224, 312.80086956053873, 206.54417623654928, 80.10355995602512, 79.85249208543658, 37.58860970795323, 36.28732247531462, 26.16028057430234, 23.888836603757785, 22.43712327759631, 21.33217213223738, 21.293160268614276, 20.818928700184166, 18.357121510255663, 93.39353657502703, 14.715166346808672, 13.50638952237052, 89.74572385073904, 12.138404044847869, 11.174116520283656, 10.565313836972976, 10.54535864105951, 10.544539162265071, 16.466636072924015, 10.347652255574369, 9.982968862613967, 9.163082429229803, 8.583753727112894, 8.576291404582644, 7.819472372555387, 7.659285679140298, 80.19764856088837, 97.15798237828513, 29.61096357962037, 26.07555307994168, 251.2631107646296, 83.06368649812845, 26.379811441952523, 94.69070001254705, 37.555019594954835, 84.7845315435375, 267.62162273948763, 257.18250078987916, 309.84487178503525, 493.82118762273524, 366.62691460502356, 84.7818713765873, 971.844947534603, 170.749337857216, 1090.2911277902788, 1243.79573012386, 382.64257067921216, 667.2904884433909, 563.1792072236143, 320.32796407549046, 670.8502577381466, 109.69648412603969, 1244.5563593042484, 873.204079576088, 600.4907676180225, 1120.9834013323054, 629.1067811792007, 70.8961228104195, 482.0539801267711, 40.71888923306014, 61.86777826707888, 22.664099449163423, 22.069539575749346, 19.588648136630095, 19.41558343702436, 205.74727682380606, 15.797323824436893, 15.797323824436893, 15.797323824436893, 73.22384814777446, 12.92352831993817, 12.352063937593183, 11.126479749371892, 291.9987197925839, 9.617434418414353, 8.695215480495836, 15.285928375237704, 7.392295017311285, 6.961771396032313, 6.573067892520275, 6.5677522390952525, 60.62097221527014, 5.823162609879425, 5.560375978730606, 5.404333475220237, 1009.9617894856945, 18.842430112643417, 526.7468780101453, 9.404843024616182, 35.428945201382405, 93.82766423634688, 33.29123377915124, 1322.806706923646, 37.49570007945192, 1169.9971297146642, 156.9932610955454, 193.22383458825237, 1041.9978813774912, 420.4554694103093, 437.9621027651692, 803.9851115908145, 1595.14631815578, 457.05775441326193, 337.223726701713, 1436.6307891954145, 1133.307102775255, 266.12327322222654, 2090.2887189468224, 1451.2718304851583, 203.2219441252447, 100.66530381096054, 598.5220623073893, 402.9912817536942, 2415.069169517967, 106.89837570014332, 99.67293259007498, 99.04626444109094, 60.01157847314027, 36.526220952833604, 29.046430598533362, 27.60204641969734, 26.51115808392738, 126.18283714425512, 18.790656023935266, 17.71841729444742, 17.3575001494511, 17.247380653944703, 16.98109620230006, 16.53930150963635, 14.276333230114767, 215.7222514767244, 10.330643198123871, 40.44116348004439, 9.260098641957919, 9.034605029451974, 81.93322756988621, 8.52725555624858, 6.5372442493025495, 40.103905091986306, 24.5504587969665, 5.110198147405297, 32.68753325801705, 14.537063620480586, 337.223726701713, 79.2399524587702, 361.4645861946445, 23.487034272986467, 39.90178485941042, 82.98498349160302, 51.78021240528542, 134.95631363175133, 286.09036368938433, 73.11796221770217, 460.66333745126286, 151.26263396387017, 312.4978709844136, 41.968150866554744, 602.088696749758, 165.16287334655667, 1202.3134792698281, 1133.307102775255, 495.11875789874506, 214.50492576113786, 879.2207654201056, 1088.1236054404842, 457.05775441326193, 629.1067811792007, 501.92934621333234, 432.9727609667243, 1651.535971564315, 352.68432306093973, 4363.70626160676, 24.3389759516431, 13.496486028356408, 10.605260351575732, 8.370274680692418, 7.019410486631992, 6.873844380156873, 6.870524114655982, 6.06105525660841, 5.901947418701406, 5.566376955985402, 5.405887311061008, 5.085346487521594, 4.668176645936665, 3.884718531243263, 31.400147911489537, 3.484189045053756, 31.913010310526364, 2.756035802770252, 9.298456871417281, 3.627810032079337, 17.535222541003314, 10.295077072663327, 82.90967976065176, 16.076559059080207, 55.52043598042699, 23.689744277583102, 40.55444182242708, 62.464615290684556, 18.674581589917054, 31.181617036747667, 98.47973534966667, 108.57211824808057, 193.69402153271227, 355.4759384676468, 164.07790223199416, 97.95857139782053, 244.68502237130957, 207.02693665985137, 137.56022493389116, 350.61682471495385, 54.83085042317911, 46.52974288787418, 351.50627694748835, 57.958363311414175, 177.1193363403792, 515.7519982364392, 104.86391829531405, 99.07502211443801, 563.2360576734831, 436.0160767173365, 659.1775719901648, 47.685049936392566, 32.195006337733766, 70.81895665835327, 12.469077220472888, 8.618029417965454, 7.21873624714417, 7.21873624714417, 6.771364479575166, 6.32160079057888, 6.266814186221448, 4.305783975381225, 3.7598645757950697, 90.99767553291524, 3.697488516078559, 2.9064820904266013, 2.9064820904266013, 2.9064820904266013, 2.9064820904266013, 2.9064820904266013, 108.6645077671391, 2.4955613781980577, 2.4955613781980577, 2.4955613781980577, 2.4955613781980577, 2.4210320522014888, 2.4011642956685892, 2.289289621177575, 27.4709222802338, 33.54952885364166, 2.0478945632275964, 16.782558216831408, 35.14449785695055, 61.16972387014547, 189.40271429667726, 124.63827593160124, 240.14495038671507, 84.1438363064436, 324.73809527550094, 60.60141812358458, 49.38044170819657, 1677.1175578891655, 522.5551193257259, 846.4554953080152, 257.18250078987916, 1090.2911277902788, 457.05775441326193, 301.6512310650083, 971.844947534603, 3718.1156434159006, 1244.5563593042484, 210.46866458775034, 173.459050376509, 17.836641706401835, 10.93706984299557, 5.188617786006445, 4.434811222585877, 4.362655456478443, 13.624395146646982, 3.7663176856641156, 2.6016274665034715, 11.077283497653134, 35.50754342515535, 18.788516402159043, 2.245440460531191, 2.146323502155654, 2.146323502155654, 59.04901609152515, 1.7238647515778072, 24.288770281391837, 10.4656207036029, 1.4021130749205637, 47.54536407301546, 84.49149565331088, 152.8292329715545, 15.656836087766575, 35.48716535407121, 131.28987856359927, 117.09144031321927, 118.27262597422579, 23.209455060045396, 123.73029405258461, 59.26940600610413, 602.088696749758, 1137.7197132955125, 112.79863291429756, 346.0472759680542, 1658.1668863133846, 736.0122214516707, 1128.6884588936, 784.0953669308855, 2558.185683329496, 2090.2887189468224, 309.84487178503525, 435.9704320252362, 1.002805833096782, 1.002805833096782, 1.002805833096782, 1.002805833096782, 1.002805833096782, 1.002805852095719, 1.002805852095719, 1.002805852095719, 1.002805852095719, 1.002805852095719, 1.002805854326811, 1.0028058642674158, 1.0028058642674158, 1.0028058642674158, 1.0028058642674158, 1.0028058642674158, 1.0028058642674158, 1.0028058642674158, 1.0028058642674158, 1.0028058642674158, 1.0028058642674158, 1.0028058642674158, 1.0028058642674158, 1.0028058642674158, 1.0028058642674158, 1.0028058642674158, 1.0028058642674158, 1.0028058642674158, 1.0028058661696613, 1.0028058661696613, 1387.7664849645266, 1009.9617894856945, 240.14495038671507, 8.618029417965454, 6.266814186221448, 2.9064820904266013, 2.9064820904266013, 784.0953669308855, 1.7022205955414431, 846.4554953080152, 12.469077220472888, 7.21873624714417, 1244.5563593042484, 301.6512310650083, 90.99767553291524, 324.73809527550094, 1095.8793466595212, 33.54952885364166, 16.782558216831408, 2.9064820904266013, 946.9623902192575, 7.21873624714417, 124.63827593160124, 6.771364479575166, 47.337100064194274, 28.88114878962881, 522.5551193257259, 2.4011642956685892, 32.195006337733766, 35.14449785695055], \"Category\": [\"Default\", \"Default\", \"Default\", \"Default\", \"Default\", \"Default\", \"Default\", \"Default\", \"Default\", \"Default\", \"Default\", \"Default\", \"Default\", \"Default\", \"Default\", \"Default\", \"Default\", \"Default\", \"Default\", \"Default\", \"Default\", \"Default\", \"Default\", \"Default\", \"Default\", \"Default\", \"Default\", \"Default\", \"Default\", \"Default\", \"Topic1\", \"Topic1\", \"Topic1\", \"Topic1\", \"Topic1\", \"Topic1\", \"Topic1\", \"Topic1\", \"Topic1\", \"Topic1\", \"Topic1\", \"Topic1\", \"Topic1\", \"Topic1\", \"Topic1\", \"Topic1\", \"Topic1\", \"Topic1\", \"Topic1\", \"Topic1\", \"Topic1\", \"Topic1\", \"Topic1\", \"Topic1\", \"Topic1\", \"Topic1\", \"Topic1\", \"Topic1\", \"Topic1\", \"Topic1\", \"Topic1\", \"Topic1\", \"Topic1\", \"Topic1\", \"Topic1\", \"Topic1\", \"Topic1\", \"Topic1\", \"Topic1\", \"Topic1\", \"Topic1\", \"Topic1\", \"Topic1\", \"Topic1\", \"Topic1\", \"Topic1\", \"Topic1\", \"Topic1\", \"Topic1\", \"Topic1\", \"Topic1\", \"Topic1\", \"Topic1\", \"Topic1\", \"Topic1\", \"Topic1\", \"Topic1\", \"Topic1\", \"Topic1\", \"Topic1\", \"Topic1\", \"Topic1\", \"Topic1\", \"Topic1\", \"Topic1\", \"Topic1\", \"Topic1\", \"Topic1\", \"Topic1\", \"Topic1\", \"Topic1\", \"Topic1\", \"Topic1\", \"Topic1\", \"Topic1\", \"Topic1\", \"Topic1\", \"Topic1\", \"Topic1\", \"Topic2\", \"Topic2\", \"Topic2\", \"Topic2\", \"Topic2\", \"Topic2\", \"Topic2\", \"Topic2\", \"Topic2\", \"Topic2\", \"Topic2\", \"Topic2\", \"Topic2\", \"Topic2\", \"Topic2\", \"Topic2\", \"Topic2\", \"Topic2\", \"Topic2\", \"Topic2\", \"Topic2\", \"Topic2\", \"Topic2\", \"Topic2\", \"Topic2\", \"Topic2\", \"Topic2\", \"Topic2\", \"Topic2\", \"Topic2\", \"Topic2\", \"Topic2\", \"Topic2\", \"Topic2\", \"Topic2\", \"Topic2\", \"Topic2\", \"Topic2\", \"Topic2\", \"Topic2\", \"Topic2\", \"Topic2\", \"Topic2\", \"Topic2\", \"Topic2\", \"Topic2\", \"Topic2\", \"Topic2\", \"Topic2\", \"Topic2\", \"Topic2\", \"Topic2\", \"Topic2\", \"Topic2\", \"Topic2\", \"Topic2\", \"Topic2\", \"Topic2\", \"Topic2\", \"Topic2\", \"Topic2\", \"Topic2\", \"Topic2\", \"Topic2\", \"Topic2\", \"Topic2\", \"Topic2\", \"Topic2\", \"Topic2\", \"Topic3\", \"Topic3\", \"Topic3\", \"Topic3\", \"Topic3\", \"Topic3\", \"Topic3\", \"Topic3\", \"Topic3\", \"Topic3\", \"Topic3\", \"Topic3\", \"Topic3\", \"Topic3\", \"Topic3\", \"Topic3\", \"Topic3\", \"Topic3\", \"Topic3\", \"Topic3\", \"Topic3\", \"Topic3\", \"Topic3\", \"Topic3\", \"Topic3\", \"Topic3\", \"Topic3\", \"Topic3\", \"Topic3\", \"Topic3\", \"Topic3\", \"Topic3\", \"Topic3\", \"Topic3\", \"Topic3\", \"Topic3\", \"Topic3\", \"Topic3\", \"Topic3\", \"Topic3\", \"Topic3\", \"Topic3\", \"Topic3\", \"Topic3\", \"Topic3\", \"Topic3\", \"Topic3\", \"Topic3\", \"Topic3\", \"Topic3\", \"Topic3\", \"Topic3\", \"Topic3\", \"Topic3\", \"Topic3\", \"Topic3\", \"Topic3\", \"Topic3\", \"Topic3\", \"Topic3\", \"Topic3\", \"Topic3\", \"Topic3\", \"Topic3\", \"Topic3\", \"Topic3\", \"Topic3\", \"Topic3\", \"Topic3\", \"Topic4\", \"Topic4\", \"Topic4\", \"Topic4\", \"Topic4\", \"Topic4\", \"Topic4\", \"Topic4\", \"Topic4\", \"Topic4\", \"Topic4\", \"Topic4\", \"Topic4\", \"Topic4\", \"Topic4\", \"Topic4\", \"Topic4\", \"Topic4\", \"Topic4\", \"Topic4\", \"Topic4\", \"Topic4\", \"Topic4\", \"Topic4\", \"Topic4\", \"Topic4\", \"Topic4\", \"Topic4\", \"Topic4\", \"Topic4\", \"Topic4\", \"Topic4\", \"Topic4\", \"Topic4\", \"Topic4\", \"Topic4\", \"Topic4\", \"Topic4\", \"Topic4\", \"Topic4\", \"Topic4\", \"Topic4\", \"Topic4\", \"Topic4\", \"Topic4\", \"Topic4\", \"Topic4\", \"Topic4\", \"Topic4\", \"Topic4\", \"Topic4\", \"Topic4\", \"Topic4\", \"Topic4\", \"Topic4\", \"Topic4\", \"Topic4\", \"Topic4\", \"Topic4\", \"Topic4\", \"Topic4\", \"Topic4\", \"Topic4\", \"Topic4\", \"Topic4\", \"Topic4\", \"Topic4\", \"Topic4\", \"Topic4\", \"Topic4\", \"Topic4\", \"Topic5\", \"Topic5\", \"Topic5\", \"Topic5\", \"Topic5\", \"Topic5\", \"Topic5\", \"Topic5\", \"Topic5\", \"Topic5\", \"Topic5\", \"Topic5\", \"Topic5\", \"Topic5\", \"Topic5\", \"Topic5\", \"Topic5\", \"Topic5\", \"Topic5\", \"Topic5\", \"Topic5\", \"Topic5\", \"Topic5\", \"Topic5\", \"Topic5\", \"Topic5\", \"Topic5\", \"Topic5\", \"Topic5\", \"Topic5\", \"Topic5\", \"Topic5\", \"Topic5\", \"Topic5\", \"Topic5\", \"Topic5\", \"Topic5\", \"Topic5\", \"Topic5\", \"Topic5\", \"Topic5\", \"Topic5\", \"Topic5\", \"Topic5\", \"Topic5\", \"Topic5\", \"Topic5\", \"Topic5\", \"Topic5\", \"Topic5\", \"Topic5\", \"Topic5\", \"Topic5\", \"Topic5\", \"Topic5\", \"Topic5\", \"Topic5\", \"Topic5\", \"Topic5\", \"Topic5\", \"Topic5\", \"Topic5\", \"Topic5\", \"Topic5\", \"Topic5\", \"Topic5\", \"Topic5\", \"Topic5\", \"Topic5\", \"Topic6\", \"Topic6\", \"Topic6\", \"Topic6\", \"Topic6\", \"Topic6\", \"Topic6\", \"Topic6\", \"Topic6\", \"Topic6\", \"Topic6\", \"Topic6\", \"Topic6\", \"Topic6\", \"Topic6\", \"Topic6\", \"Topic6\", \"Topic6\", \"Topic6\", \"Topic6\", \"Topic6\", \"Topic6\", \"Topic6\", \"Topic6\", \"Topic6\", \"Topic6\", \"Topic6\", \"Topic6\", \"Topic6\", \"Topic6\", \"Topic6\", \"Topic6\", \"Topic6\", \"Topic6\", \"Topic6\", \"Topic6\", \"Topic6\", \"Topic6\", \"Topic6\", \"Topic6\", \"Topic6\", \"Topic6\", \"Topic6\", \"Topic6\", \"Topic6\", \"Topic6\", \"Topic6\", \"Topic6\", \"Topic6\", \"Topic6\", \"Topic6\", \"Topic6\", \"Topic6\", \"Topic6\", \"Topic6\", \"Topic6\", \"Topic6\", \"Topic6\", \"Topic6\", \"Topic6\", \"Topic6\", \"Topic6\", \"Topic6\", \"Topic6\", \"Topic6\", \"Topic6\", \"Topic6\", \"Topic6\", \"Topic6\", \"Topic7\", \"Topic7\", \"Topic7\", \"Topic7\", \"Topic7\", \"Topic7\", \"Topic7\", \"Topic7\", \"Topic7\", \"Topic7\", \"Topic7\", \"Topic7\", \"Topic7\", \"Topic7\", \"Topic7\", \"Topic7\", \"Topic7\", \"Topic7\", \"Topic7\", \"Topic7\", \"Topic7\", \"Topic7\", \"Topic7\", \"Topic7\", \"Topic7\", \"Topic7\", \"Topic7\", \"Topic7\", \"Topic7\", \"Topic7\", \"Topic7\", \"Topic7\", \"Topic7\", \"Topic7\", \"Topic7\", \"Topic7\", \"Topic7\", \"Topic7\", \"Topic7\", \"Topic7\", \"Topic7\", \"Topic7\", \"Topic7\", \"Topic7\", \"Topic7\", \"Topic7\", \"Topic7\", \"Topic7\", \"Topic7\", \"Topic7\", \"Topic7\", \"Topic7\", \"Topic7\", \"Topic7\", \"Topic7\", \"Topic7\", \"Topic7\", \"Topic7\", \"Topic7\", \"Topic7\", \"Topic7\", \"Topic7\", \"Topic7\", \"Topic7\", \"Topic8\", \"Topic8\", \"Topic8\", \"Topic8\", \"Topic8\", \"Topic8\", \"Topic8\", \"Topic8\", \"Topic8\", \"Topic8\", \"Topic8\", \"Topic8\", \"Topic8\", \"Topic8\", \"Topic8\", \"Topic8\", \"Topic8\", \"Topic8\", \"Topic8\", \"Topic8\", \"Topic8\", \"Topic8\", \"Topic8\", \"Topic8\", \"Topic8\", \"Topic8\", \"Topic8\", \"Topic8\", \"Topic8\", \"Topic8\", \"Topic8\", \"Topic8\", \"Topic8\", \"Topic8\", \"Topic8\", \"Topic8\", \"Topic8\", \"Topic8\", \"Topic8\", \"Topic8\", \"Topic8\", \"Topic8\", \"Topic8\", \"Topic8\", \"Topic8\", \"Topic8\", \"Topic8\", \"Topic8\", \"Topic8\", \"Topic8\", \"Topic8\", \"Topic8\", \"Topic8\", \"Topic8\", \"Topic8\", \"Topic8\", \"Topic8\", \"Topic8\", \"Topic8\", \"Topic8\", \"Topic8\", \"Topic8\", \"Topic8\", \"Topic8\", \"Topic9\", \"Topic9\", \"Topic9\", \"Topic9\", \"Topic9\", \"Topic9\", \"Topic9\", \"Topic9\", \"Topic9\", \"Topic9\", \"Topic9\", \"Topic9\", \"Topic9\", \"Topic9\", \"Topic9\", \"Topic9\", \"Topic9\", \"Topic9\", \"Topic9\", \"Topic9\", \"Topic9\", \"Topic9\", \"Topic9\", \"Topic9\", \"Topic9\", \"Topic9\", \"Topic9\", \"Topic9\", \"Topic9\", \"Topic9\", \"Topic9\", \"Topic9\", \"Topic9\", \"Topic9\", \"Topic9\", \"Topic9\", \"Topic9\", \"Topic9\", \"Topic9\", \"Topic9\", \"Topic9\", \"Topic9\", \"Topic9\", \"Topic9\", \"Topic9\", \"Topic9\", \"Topic9\", \"Topic9\", \"Topic9\", \"Topic9\", \"Topic9\", \"Topic9\", \"Topic9\", \"Topic9\", \"Topic9\", \"Topic9\", \"Topic9\", \"Topic9\", \"Topic9\", \"Topic9\", \"Topic9\", \"Topic10\", \"Topic10\", \"Topic10\", \"Topic10\", \"Topic10\", \"Topic10\", \"Topic10\", \"Topic10\", \"Topic10\", \"Topic10\", \"Topic10\", \"Topic10\", \"Topic10\", \"Topic10\", \"Topic10\", \"Topic10\", \"Topic10\", \"Topic10\", \"Topic10\", \"Topic10\", \"Topic10\", \"Topic10\", \"Topic10\", \"Topic10\", \"Topic10\", \"Topic10\", \"Topic10\", \"Topic10\", \"Topic10\", \"Topic10\", \"Topic10\", \"Topic10\", \"Topic10\", \"Topic10\", \"Topic10\", \"Topic10\", \"Topic10\", \"Topic10\", \"Topic10\", \"Topic10\", \"Topic10\", \"Topic10\", \"Topic10\", \"Topic10\", \"Topic10\", \"Topic10\", \"Topic10\", \"Topic10\", \"Topic10\", \"Topic10\", \"Topic10\", \"Topic10\", \"Topic10\", \"Topic10\", \"Topic10\", \"Topic11\", \"Topic11\", \"Topic11\", \"Topic11\", \"Topic11\", \"Topic11\", \"Topic11\", \"Topic11\", \"Topic11\", \"Topic11\", \"Topic11\", \"Topic11\", \"Topic11\", \"Topic11\", \"Topic11\", \"Topic11\", \"Topic11\", \"Topic11\", \"Topic11\", \"Topic11\", \"Topic11\", \"Topic11\", \"Topic11\", \"Topic11\", \"Topic11\", \"Topic11\", \"Topic11\", \"Topic11\", \"Topic11\", \"Topic11\", \"Topic11\", \"Topic11\", \"Topic11\", \"Topic11\", \"Topic11\", \"Topic11\", \"Topic11\", \"Topic11\", \"Topic11\", \"Topic11\", \"Topic11\", \"Topic11\", \"Topic11\", \"Topic11\", \"Topic11\", \"Topic11\", \"Topic11\", \"Topic11\", \"Topic11\", \"Topic11\", \"Topic11\", \"Topic11\", \"Topic11\", \"Topic11\", \"Topic11\", \"Topic11\", \"Topic11\", \"Topic11\", \"Topic11\", \"Topic11\", \"Topic11\", \"Topic11\", \"Topic11\", \"Topic11\", \"Topic11\", \"Topic11\", \"Topic11\", \"Topic11\", \"Topic11\", \"Topic11\", \"Topic12\", \"Topic12\", \"Topic12\", \"Topic12\", \"Topic12\", \"Topic12\", \"Topic12\", \"Topic12\", \"Topic12\", \"Topic12\", \"Topic12\", \"Topic12\", \"Topic12\", \"Topic12\", \"Topic12\", \"Topic12\", \"Topic12\", \"Topic12\", \"Topic12\", \"Topic12\", \"Topic12\", \"Topic12\", \"Topic12\", \"Topic12\", \"Topic12\", \"Topic12\", \"Topic12\", \"Topic12\", \"Topic12\", \"Topic12\", \"Topic12\", \"Topic12\", \"Topic12\", \"Topic12\", \"Topic12\", \"Topic12\", \"Topic12\", \"Topic12\", \"Topic12\", \"Topic12\", \"Topic12\", \"Topic12\", \"Topic12\", \"Topic12\", \"Topic12\", \"Topic12\", \"Topic12\", \"Topic12\", \"Topic12\", \"Topic12\", \"Topic12\", \"Topic12\", \"Topic12\", \"Topic12\", \"Topic12\", \"Topic12\", \"Topic12\", \"Topic12\", \"Topic12\", \"Topic12\", \"Topic12\", \"Topic12\", \"Topic12\", \"Topic13\", \"Topic13\", \"Topic13\", \"Topic13\", \"Topic13\", \"Topic13\", \"Topic13\", \"Topic13\", \"Topic13\", \"Topic13\", \"Topic13\", \"Topic13\", \"Topic13\", \"Topic13\", \"Topic13\", \"Topic13\", \"Topic13\", \"Topic13\", \"Topic13\", \"Topic13\", \"Topic13\", \"Topic13\", \"Topic13\", \"Topic13\", \"Topic13\", \"Topic13\", \"Topic13\", \"Topic13\", \"Topic13\", \"Topic13\", \"Topic13\", \"Topic13\", \"Topic13\", \"Topic13\", \"Topic13\", \"Topic13\", \"Topic13\", \"Topic13\", \"Topic13\", \"Topic13\", \"Topic13\", \"Topic13\", \"Topic13\", \"Topic13\", \"Topic13\", \"Topic13\", \"Topic13\", \"Topic13\", \"Topic13\", \"Topic13\", \"Topic13\", \"Topic13\", \"Topic13\", \"Topic13\", \"Topic13\", \"Topic13\", \"Topic13\", \"Topic13\", \"Topic13\", \"Topic13\", \"Topic13\", \"Topic14\", \"Topic14\", \"Topic14\", \"Topic14\", \"Topic14\", \"Topic14\", \"Topic14\", \"Topic14\", \"Topic14\", \"Topic14\", \"Topic14\", \"Topic14\", \"Topic14\", \"Topic14\", \"Topic14\", \"Topic14\", \"Topic14\", \"Topic14\", \"Topic14\", \"Topic14\", \"Topic14\", \"Topic14\", \"Topic14\", \"Topic14\", \"Topic14\", \"Topic14\", \"Topic14\", \"Topic14\", \"Topic14\", \"Topic14\", \"Topic14\", \"Topic14\", \"Topic14\", \"Topic14\", \"Topic14\", \"Topic14\", \"Topic14\", \"Topic14\", \"Topic14\", \"Topic14\", \"Topic14\", \"Topic14\", \"Topic14\", \"Topic14\", \"Topic14\", \"Topic14\", \"Topic14\", \"Topic14\", \"Topic14\", \"Topic14\", \"Topic14\", \"Topic14\", \"Topic14\", \"Topic14\", \"Topic14\", \"Topic14\", \"Topic14\", \"Topic14\", \"Topic14\", \"Topic14\", \"Topic14\", \"Topic15\", \"Topic15\", \"Topic15\", \"Topic15\", \"Topic15\", \"Topic15\", \"Topic15\", \"Topic15\", \"Topic15\", \"Topic15\", \"Topic15\", \"Topic15\", \"Topic15\", \"Topic15\", \"Topic15\", \"Topic15\", \"Topic15\", \"Topic15\", \"Topic15\", \"Topic15\", \"Topic15\", \"Topic15\", \"Topic15\", \"Topic15\", \"Topic15\", \"Topic15\", \"Topic15\", \"Topic15\", \"Topic15\", \"Topic15\", \"Topic15\", \"Topic15\", \"Topic15\", \"Topic15\", \"Topic15\", \"Topic15\", \"Topic15\", \"Topic15\", \"Topic15\", \"Topic15\", \"Topic15\", \"Topic15\", \"Topic15\", \"Topic15\", \"Topic15\", \"Topic15\", \"Topic15\", \"Topic15\", \"Topic15\", \"Topic15\", \"Topic15\", \"Topic15\", \"Topic15\", \"Topic15\", \"Topic15\", \"Topic15\", \"Topic15\", \"Topic16\", \"Topic16\", \"Topic16\", \"Topic16\", \"Topic16\", \"Topic16\", \"Topic16\", \"Topic16\", \"Topic16\", \"Topic16\", \"Topic16\", \"Topic16\", \"Topic16\", \"Topic16\", \"Topic16\", \"Topic16\", \"Topic16\", \"Topic16\", \"Topic16\", \"Topic16\", \"Topic16\", \"Topic16\", \"Topic16\", \"Topic16\", \"Topic16\", \"Topic16\", \"Topic16\", \"Topic16\", \"Topic16\", \"Topic16\", \"Topic16\", \"Topic16\", \"Topic16\", \"Topic16\", \"Topic16\", \"Topic16\", \"Topic16\", \"Topic16\", \"Topic16\", \"Topic16\", \"Topic16\", \"Topic16\", \"Topic16\", \"Topic16\", \"Topic16\", \"Topic16\", \"Topic16\", \"Topic16\", \"Topic16\", \"Topic16\", \"Topic16\", \"Topic16\", \"Topic16\", \"Topic16\", \"Topic16\", \"Topic16\", \"Topic16\", \"Topic16\", \"Topic17\", \"Topic17\", \"Topic17\", \"Topic17\", \"Topic17\", \"Topic17\", \"Topic17\", \"Topic17\", \"Topic17\", \"Topic17\", \"Topic17\", \"Topic17\", \"Topic17\", \"Topic17\", \"Topic17\", \"Topic17\", \"Topic17\", \"Topic17\", \"Topic17\", \"Topic17\", \"Topic17\", \"Topic17\", \"Topic17\", \"Topic17\", \"Topic17\", \"Topic17\", \"Topic17\", \"Topic17\", \"Topic17\", \"Topic17\", \"Topic17\", \"Topic17\", \"Topic17\", \"Topic17\", \"Topic17\", \"Topic17\", \"Topic17\", \"Topic17\", \"Topic17\", \"Topic17\", \"Topic17\", \"Topic17\", \"Topic17\", \"Topic17\", \"Topic17\", \"Topic17\", \"Topic17\", \"Topic17\", \"Topic17\", \"Topic17\", \"Topic17\", \"Topic18\", \"Topic18\", \"Topic18\", \"Topic18\", \"Topic18\", \"Topic18\", \"Topic18\", \"Topic18\", \"Topic18\", \"Topic18\", \"Topic18\", \"Topic18\", \"Topic18\", \"Topic18\", \"Topic18\", \"Topic18\", \"Topic18\", \"Topic18\", \"Topic18\", \"Topic18\", \"Topic18\", \"Topic18\", \"Topic18\", \"Topic18\", \"Topic18\", \"Topic18\", \"Topic18\", \"Topic18\", \"Topic18\", \"Topic18\", \"Topic18\", \"Topic18\", \"Topic18\", \"Topic18\", \"Topic18\", \"Topic18\", \"Topic18\", \"Topic18\", \"Topic18\", \"Topic18\", \"Topic18\", \"Topic18\", \"Topic18\", \"Topic18\", \"Topic18\", \"Topic18\", \"Topic18\", \"Topic18\", \"Topic18\", \"Topic18\", \"Topic18\", \"Topic19\", \"Topic19\", \"Topic19\", \"Topic19\", \"Topic19\", \"Topic19\", \"Topic19\", \"Topic19\", \"Topic19\", \"Topic19\", \"Topic19\", \"Topic19\", \"Topic19\", \"Topic19\", \"Topic19\", \"Topic19\", \"Topic19\", \"Topic19\", \"Topic19\", \"Topic19\", \"Topic19\", \"Topic19\", \"Topic19\", \"Topic19\", \"Topic19\", \"Topic19\", \"Topic19\", \"Topic19\", \"Topic19\", \"Topic19\", \"Topic19\", \"Topic19\", \"Topic19\", \"Topic19\", \"Topic19\", \"Topic19\", \"Topic19\", \"Topic19\", \"Topic19\", \"Topic19\", \"Topic19\", \"Topic19\", \"Topic19\", \"Topic20\", \"Topic20\", \"Topic20\", \"Topic20\", \"Topic20\", \"Topic20\", \"Topic20\", \"Topic20\", \"Topic20\", \"Topic20\", \"Topic20\", \"Topic20\", \"Topic20\", \"Topic20\", \"Topic20\", \"Topic20\", \"Topic20\", \"Topic20\", \"Topic20\", \"Topic20\", \"Topic20\", \"Topic20\", \"Topic20\", \"Topic20\", \"Topic20\", \"Topic20\", \"Topic20\", \"Topic20\", \"Topic20\", \"Topic20\", \"Topic20\", \"Topic20\", \"Topic20\", \"Topic20\", \"Topic20\", \"Topic20\", \"Topic20\", \"Topic20\", \"Topic20\", \"Topic20\", \"Topic20\", \"Topic20\", \"Topic20\", \"Topic20\", \"Topic20\", \"Topic20\", \"Topic20\", \"Topic20\", \"Topic20\", \"Topic20\", \"Topic20\", \"Topic20\", \"Topic20\", \"Topic20\", \"Topic20\", \"Topic20\", \"Topic20\", \"Topic20\", \"Topic20\", \"Topic20\"], \"logprob\": [30.0, 29.0, 28.0, 27.0, 26.0, 25.0, 24.0, 23.0, 22.0, 21.0, 20.0, 19.0, 18.0, 17.0, 16.0, 15.0, 14.0, 13.0, 12.0, 11.0, 10.0, 9.0, 8.0, 7.0, 6.0, 5.0, 4.0, 3.0, 2.0, 1.0, -6.3332, -6.4038, -5.7683, -6.5368, -6.5783, -6.5952, -6.717, -6.7378, -6.7299, -6.7734, -6.7824, -6.8445, -6.8459, -6.8459, -6.9036, -6.9011, -6.9689, -7.0608, -7.0941, -7.124, -7.1584, -7.168, -7.1988, -6.1736, -7.23, -7.2787, -7.3126, -7.3167, -7.3397, -7.3412, -6.7044, -5.9151, -4.7802, -6.2254, -6.2506, -6.6601, -4.4409, -5.5313, -6.3148, -6.8654, -6.0059, -6.2001, -4.7895, -4.7115, -5.4952, -4.5185, -6.2151, -5.5908, -6.2919, -6.1076, -5.9406, -5.2249, -5.5181, -5.5952, -5.3164, -5.9508, -4.9108, -4.6862, -5.7781, -6.1137, -5.1464, -5.2829, -5.5386, -5.3909, -4.8138, -4.9234, -5.1347, -5.5723, -5.3095, -5.2976, -5.5922, -5.3564, -5.6453, -5.2173, -5.0627, -5.5629, -5.2957, -5.4583, -5.5865, -5.5624, -5.8636, -6.1476, -6.2333, -6.3778, -6.4409, -6.4233, -5.3023, -6.5203, -6.5581, -6.6423, -6.7093, -6.7102, -6.7394, -6.716, -6.8407, -6.8632, -6.8649, -6.8901, -6.9006, -6.9366, -6.9615, -6.9739, -7.0102, -7.0118, -7.1256, -7.0808, -7.1396, -7.1429, -7.1483, -4.7406, -5.7721, -6.5009, -6.1671, -6.4202, -6.3856, -5.8692, -5.4542, -5.3186, -3.8955, -4.3615, -5.1133, -3.5083, -4.7785, -4.9366, -4.7062, -4.7306, -4.7603, -6.3066, -4.6694, -5.06, -3.9217, -5.4989, -4.531, -5.1078, -4.8855, -4.9949, -4.4774, -4.7574, -4.5271, -4.689, -4.343, -4.8102, -4.7929, -5.4171, -5.109, -5.1762, -5.3319, -5.3974, -4.9477, -5.1114, -5.247, -5.5012, -5.7069, -5.8084, -6.1241, -6.1391, -6.207, -6.2201, -6.2406, -6.3096, -3.7449, -6.3735, -6.5028, -6.5937, -6.6256, -6.6935, -6.7315, -6.1873, -6.9281, -6.9681, -7.036, -7.0656, -7.0759, -7.1051, -7.1099, -7.132, -6.2996, -7.1837, -4.6457, -5.5543, -4.1225, -4.8982, -4.2459, -3.5605, -6.1179, -6.1385, -5.4225, -4.1393, -5.6442, -3.5085, -4.1898, -4.6512, -5.6811, -5.2893, -5.5339, -5.7219, -5.717, -5.2616, -4.5204, -5.4926, -5.6951, -5.36, -5.5527, -5.0663, -5.1192, -4.5608, -4.9537, -5.1239, -4.9775, -5.1587, -5.1677, -5.1611, -5.3262, -5.1955, -5.3535, -5.3019, -5.3581, -5.4484, -5.8257, -5.9626, -6.1784, -6.2109, -6.3748, -6.4034, -6.6096, -6.7017, -6.7709, -6.819, -6.8183, -6.9051, -6.9401, -6.9923, -7.0206, -7.0536, -7.0591, -7.0714, -7.1105, -7.1529, -7.2595, -7.4085, -7.449, -7.2936, -7.4819, -7.5231, -2.8664, -7.8321, -6.741, -4.735, -4.7468, -6.2089, -5.6893, -3.3532, -6.7544, -3.1103, -6.6425, -4.9664, -5.5222, -4.7178, -5.2184, -4.1343, -6.1274, -4.5564, -4.7099, -4.6992, -3.6014, -5.6497, -4.3471, -5.1177, -3.0917, -4.2105, -4.2801, -3.1233, -4.2106, -4.9089, -5.6167, -4.3344, -5.4265, -5.0077, -4.1267, -4.3386, -4.8626, -4.2447, -4.3722, -4.8164, -4.9158, -4.7266, -5.0437, -4.9966, -6.226, -6.3033, -5.6714, -6.3137, -6.4307, -6.4833, -6.5484, -6.7336, -6.7702, -6.7702, -6.9417, -5.1423, -7.1362, -7.1522, -7.1526, -7.2086, -7.2652, -7.3, -7.3052, -7.3206, -7.362, -7.3927, -7.679, -7.8919, -8.0685, -8.0926, -8.0979, -8.102, -6.5975, -8.1279, -5.5246, -6.3041, -5.7423, -5.7604, -7.5107, -3.5352, -5.0591, -4.0928, -3.5252, -3.6528, -4.337, -3.3367, -4.2961, -4.617, -3.7509, -5.0968, -4.2434, -2.9622, -4.4771, -4.0827, -4.1858, -5.1045, -3.6904, -4.5422, -4.9984, -4.2784, -3.8999, -3.9806, -4.2251, -3.9951, -4.2309, -4.986, -3.8564, -4.5791, -4.3263, -4.6511, -4.7213, -4.4488, -4.8389, -5.6263, -5.7211, -5.8755, -6.4311, -6.6097, -6.9116, -6.9585, -7.0957, -2.8613, -7.2306, -7.2504, -6.4392, -5.5876, -7.3166, -7.3314, -7.3314, -7.4898, -7.5268, -7.5464, -6.595, -5.1547, -7.5946, -7.6115, -5.4997, -7.7548, -4.7819, -7.8157, -3.3978, -7.8513, -7.9823, -6.4336, -5.5006, -4.9606, -5.4945, -4.4449, -4.9028, -4.7497, -5.532, -5.2458, -4.4131, -3.5454, -5.0913, -4.3794, -4.4424, -6.3248, -4.4916, -4.0535, -4.847, -3.4811, -5.4208, -5.4009, -5.0595, -4.0437, -4.777, -4.6089, -3.8742, -4.4951, -4.6268, -4.2084, -4.9261, -4.8234, -4.9729, -4.703, -4.7121, -4.8547, -4.7025, -4.714, -4.827, -4.8244, -3.9289, -5.0438, -5.5997, -5.7076, -5.7366, -5.7775, -5.8929, -6.05, -5.7362, -6.1091, -6.138, -6.1775, -6.3464, -6.3712, -6.3883, -6.4149, -6.4495, -6.4952, -6.4967, -6.5205, -6.5222, -6.5297, -3.539, -6.6826, -6.7067, -6.7089, -6.7117, -6.7258, -6.7377, -6.8001, -6.4099, -4.0217, -5.0267, -6.1398, -4.7633, -5.3129, -4.2292, -3.6611, -3.728, -5.9023, -4.6131, -5.1651, -4.5338, -5.5964, -5.9402, -4.7417, -4.4994, -4.537, -4.3281, -4.8435, -4.0571, -5.2014, -5.0136, -4.6828, -4.1345, -5.0631, -4.765, -5.2337, -5.0234, -4.9109, -5.023, -4.6201, -5.0115, -5.1212, -4.0634, -4.4602, -4.4808, -4.7786, -5.1409, -5.2512, -5.5203, -5.5754, -5.6217, -5.6371, -5.7271, -5.7947, -5.9949, -5.9993, -6.0786, -6.0913, -6.1806, -6.1948, -6.2001, -6.3361, -6.3411, -6.3762, -6.3852, -6.4047, -6.4342, -6.5497, -6.573, -6.5784, -6.6312, -6.6466, -5.3352, -3.416, -3.8752, -5.1491, -4.1297, -5.3642, -4.6056, -5.1168, -5.8467, -4.7825, -4.5122, -4.6684, -5.5744, -5.5175, -4.6506, -5.2586, -5.4295, -5.0815, -5.2737, -4.6553, -4.1084, -4.9224, -3.9288, -4.8684, -4.8738, -4.9373, -5.0516, -4.9334, -5.0517, -4.9435, -5.0984, -4.9559, -5.1771, -5.1582, -3.9251, -4.6945, -4.7608, -4.874, -4.9054, -5.1137, -5.2062, -5.237, -5.3231, -5.3526, -5.6167, -5.6693, -5.7927, -4.6555, -5.9896, -6.1576, -6.3799, -6.4128, -6.457, -6.5207, -6.5209, -6.5406, -6.5895, -6.6117, -6.6433, -6.6496, -6.659, -6.6899, -6.6953, -4.8861, -5.6787, -5.5727, -5.4872, -5.0257, -4.3859, -4.6118, -4.0566, -4.2085, -5.3244, -5.0332, -4.8884, -5.1311, -4.1014, -5.4459, -4.5637, -4.9058, -3.0627, -4.6401, -4.659, -3.8703, -4.523, -4.3911, -4.2394, -5.0625, -4.9731, -4.6337, -4.5934, -4.8049, -4.7612, -5.005, -4.9389, -3.9332, -4.2975, -3.6313, -5.2584, -5.591, -5.6889, -5.6939, -5.8635, -6.1975, -5.6097, -6.6429, -5.824, -6.7136, -4.6174, -5.9994, -7.4166, -5.0611, -4.8094, -4.2836, -4.9892, -4.8464, -4.6062, -8.2009, -6.0486, -8.4102, -8.4899, -5.7207, -6.7052, -5.5349, -8.6108, -4.2077, -3.1754, -5.4812, -4.1496, -3.9308, -3.5823, -3.1256, -3.5661, -4.2938, -5.0868, -3.8723, -3.4479, -4.1286, -5.2242, -4.1702, -4.7884, -4.1845, -4.4015, -4.5704, -4.6107, -4.2677, -4.7846, -4.8308, -4.9239, -4.927, -4.8018, -5.5757, -5.6352, -5.7522, -5.7965, -5.7966, -5.8103, -5.8103, -6.0044, -6.09, -6.1556, -6.2724, -6.3691, -6.3836, -6.4278, -6.4472, -6.4472, -6.5934, -6.7564, -6.8076, -6.8269, -6.9097, -6.9097, -6.9445, -7.0375, -7.0627, -5.859, -7.1362, -6.3258, -7.1636, -4.7543, -5.3674, -6.3122, -4.1843, -4.4393, -2.9428, -4.1186, -5.7131, -4.9946, -5.8755, -2.5434, -5.0083, -3.0693, -5.0254, -5.6308, -5.5036, -6.0144, -4.9456, -5.771, -4.5798, -4.9786, -4.2662, -4.3317, -4.7638, -4.3553, -4.5116, -4.2027, -4.2665, -4.4443, -5.0127, -4.9293, -4.7167, -4.475, -4.8382, -4.3217, -4.541, -4.9563, -4.8663, -4.9874, -4.995, -3.397, -3.9661, -5.0127, -5.0831, -5.0973, -5.4069, -4.4555, -5.5271, -5.542, -5.5709, -5.6647, -5.6928, -5.7844, -6.0372, -5.6391, -6.0797, -6.0907, -4.7606, -6.1443, -6.1803, -6.2069, -6.3847, -6.5027, -6.5077, -6.6236, -6.6382, -6.6455, -6.6757, -6.6874, -6.851, -4.564, -5.2022, -4.0218, -3.1606, -4.5534, -6.1669, -3.9632, -4.0543, -4.5436, -5.8192, -3.9652, -5.5772, -5.5061, -4.074, -5.121, -5.2633, -4.5628, -4.1127, -4.8314, -3.949, -4.3052, -5.1427, -4.8376, -5.0138, -4.7512, -4.7379, -4.376, -4.4895, -4.7161, -4.6647, -4.9976, -4.9729, -5.0243, -3.6777, -4.4714, -4.5239, -4.8666, -5.0254, -5.3148, -5.3756, -5.4686, -5.7772, -6.2811, -6.3384, -5.8066, -6.8417, -5.0591, -6.9361, -7.0427, -3.5305, -5.7173, -7.1468, -7.2317, -7.2513, -7.2753, -7.3039, -7.3448, -5.4139, -4.979, -7.5759, -7.59, -7.7729, -4.9924, -5.1182, -3.892, -5.1311, -4.379, -5.8157, -4.9248, -5.4009, -3.962, -3.3368, -5.607, -4.4139, -4.4119, -4.6421, -3.6483, -5.5042, -3.4911, -4.4181, -3.9411, -5.0088, -4.2378, -4.1863, -4.4348, -4.9425, -4.5595, -4.5044, -4.3791, -4.9029, -4.4925, -4.7787, -4.8448, -4.9053, -3.2254, -3.6406, -4.5884, -4.5916, -5.3585, -5.3947, -5.7322, -5.8265, -5.8919, -5.9446, -5.9466, -5.9702, -6.1023, -4.4867, -6.3368, -6.4286, -4.5417, -6.5439, -6.6339, -6.6952, -6.6972, -6.6973, -6.2533, -6.718, -6.7576, -6.8526, -6.9256, -6.9266, -7.0309, -7.0544, -4.7524, -4.5697, -5.7348, -5.8786, -3.9474, -4.9505, -5.9291, -4.9075, -5.6726, -5.0332, -4.1496, -4.213, -4.0785, -4.0944, -4.3752, -5.2622, -3.8972, -4.9087, -4.0246, -3.989, -4.6165, -4.3734, -4.4815, -4.7916, -4.5485, -5.2613, -4.5177, -4.7774, -4.8804, -4.8396, -5.014, -4.59, -2.6775, -5.1546, -4.7467, -5.7595, -5.7872, -5.9122, -5.9215, -3.5677, -6.1394, -6.1394, -6.1394, -4.6093, -6.3544, -6.4033, -6.5169, -3.2513, -6.6772, -6.7896, -6.2468, -6.9736, -7.0426, -7.1094, -7.1103, -4.9012, -7.2523, -7.3076, -7.3419, -2.1175, -6.1187, -3.055, -6.8532, -5.7207, -4.9902, -5.8382, -3.2009, -5.8471, -3.5845, -4.9541, -4.9601, -4.0591, -4.5894, -4.7099, -4.4891, -4.1894, -4.7407, -4.9721, -4.4678, -4.6535, -5.1636, -4.6033, -4.7759, -5.3321, -5.5168, -5.2303, -5.2956, -5.301, -3.8642, -3.9348, -3.9412, -4.4486, -4.9556, -5.1917, -5.2445, -5.2863, -3.7324, -5.6461, -5.7081, -5.7299, -5.7366, -5.7531, -5.7811, -5.938, -3.2472, -6.2894, -4.9317, -6.4107, -6.4383, -4.2373, -6.5032, -6.8083, -4.9989, -5.4974, -7.1038, -5.2573, -6.0937, -2.9756, -4.5307, -3.1356, -5.7032, -5.2746, -4.6933, -5.0996, -4.3865, -4.1431, -5.0229, -4.0416, -4.7175, -4.4327, -5.3558, -4.2441, -4.7997, -4.037, -4.1431, -4.4757, -4.7775, -4.4608, -4.4139, -4.6324, -4.6668, -4.7429, -4.767, -4.8788, -4.9099, -4.9085, -4.3062, -4.9291, -5.1912, -5.4545, -5.6556, -5.6799, -5.6805, -5.8276, -5.8592, -5.9294, -5.9648, -6.0413, -6.146, -6.3828, -4.3101, -6.5298, -4.413, -6.869, -5.6808, -6.6841, -5.165, -5.9142, -3.8698, -5.6108, -4.4193, -5.2719, -4.7752, -4.3762, -5.6908, -5.2598, -4.2974, -4.348, -4.0041, -3.634, -4.2347, -4.5727, -4.1181, -4.2096, -4.4726, -4.0901, -4.9975, -5.1074, -4.479, -5.1168, -4.8882, -4.6709, -5.0446, -5.1134, -5.0941, -5.11, -5.1404, -3.4088, -3.8116, -3.0466, -4.8102, -5.2178, -5.4196, -5.4196, -5.4939, -5.5745, -5.5847, -6.0465, -6.2248, -3.0409, -6.2474, -6.589, -6.589, -6.589, -6.589, -6.589, -2.9703, -6.8266, -6.8266, -6.8266, -6.8266, -6.8765, -6.8902, -6.9713, -4.5136, -4.3454, -7.1723, -5.2078, -4.5744, -4.107, -3.8503, -4.3373, -4.1095, -4.7554, -4.0085, -5.0035, -5.3054, -3.7668, -4.3417, -4.1875, -4.7509, -4.2659, -4.7383, -4.9594, -5.002, -4.9915, -5.0842, -5.3294, -1.8322, -4.1562, -4.6823, -5.5424, -5.7393, -5.7604, -4.6623, -5.9538, -6.493, -5.0963, -3.9711, -4.6099, -6.7397, -6.8207, -6.8207, -3.6286, -7.2666, -4.7043, -5.6516, -7.825, -4.5667, -4.0818, -3.5541, -5.8461, -5.0872, -4.0968, -4.2558, -4.5148, -6.1853, -4.6466, -5.4082, -3.7117, -3.558, -5.1984, -4.7659, -4.1422, -4.5533, -4.6492, -4.7708, -4.833, -5.2351, -5.4562, -5.4934, -9.6652, -9.6652, -9.6652, -9.6652, -9.6652, -9.6652, -9.6652, -9.6652, -9.6652, -9.6652, -9.6652, -9.6652, -9.6652, -9.6652, -9.6652, -9.6652, -9.6652, -9.6652, -9.6652, -9.6652, -9.6652, -9.6652, -9.6652, -9.6652, -9.6652, -9.6652, -9.6652, -9.6652, -9.6652, -9.6652, -9.6652, -9.6652, -9.6652, -9.6652, -9.6652, -9.6652, -9.6652, -9.6652, -9.6652, -9.6652, -9.6652, -9.6652, -9.6652, -9.6652, -9.6652, -9.6652, -9.6652, -9.6652, -9.6652, -9.6652, -9.6652, -9.6652, -9.6652, -9.6652, -9.6652, -9.6652, -9.6652, -9.6652, -9.6652, -9.6652], \"loglift\": [30.0, 29.0, 28.0, 27.0, 26.0, 25.0, 24.0, 23.0, 22.0, 21.0, 20.0, 19.0, 18.0, 17.0, 16.0, 15.0, 14.0, 13.0, 12.0, 11.0, 10.0, 9.0, 8.0, 7.0, 6.0, 5.0, 4.0, 3.0, 2.0, 1.0, 1.5196, 1.519, 1.5182, 1.5181, 1.5178, 1.5172, 1.5165, 1.5163, 1.5162, 1.516, 1.5159, 1.5152, 1.5152, 1.5152, 1.5145, 1.5145, 1.5137, 1.5125, 1.5118, 1.5116, 1.5111, 1.5109, 1.5105, 1.5101, 1.51, 1.5092, 1.5086, 1.5085, 1.5081, 1.5081, 1.4917, 1.465, 1.4141, 1.4739, 1.46, 1.4796, 1.2748, 1.3621, 1.4281, 1.4799, 1.3431, 1.372, 1.1329, 1.1148, 1.2509, 0.9547, 1.3525, 1.1525, 1.3559, 1.2994, 1.2374, 0.9795, 1.0621, 1.0873, 0.9754, 1.2109, 0.7599, 0.6563, 1.1195, 1.2616, 0.5979, 0.6907, 0.862, 0.7432, 0.2795, 0.3441, 0.4845, 0.8646, 0.6047, 0.5891, 0.7772, 0.4653, 0.7639, 0.0283, -0.6299, 0.486, -0.6957, -0.4268, -0.1749, 1.7343, 1.7329, 1.7313, 1.7306, 1.7295, 1.7289, 1.7289, 1.7282, 1.7282, 1.7278, 1.7269, 1.7261, 1.7261, 1.7258, 1.7255, 1.7245, 1.7242, 1.7241, 1.7238, 1.7236, 1.7231, 1.7227, 1.7225, 1.722, 1.7214, 1.72, 1.7199, 1.7198, 1.7197, 1.7196, 1.6573, 1.686, 1.6986, 1.669, 1.6752, 1.6659, 1.5731, 1.5046, 1.483, 1.0785, 1.1794, 1.3074, 0.9245, 1.2121, 1.1949, 1.1226, 1.0617, 1.0388, 1.5718, 0.9162, 1.0615, 0.5183, 1.2209, 0.7415, 1.0174, 0.8988, 0.9469, 0.5542, 0.7158, 0.5663, 0.5785, 0.2571, 0.5323, 0.4528, 1.0704, 0.3026, 0.3748, 0.5402, 0.4747, 2.4874, 2.4866, 2.4859, 2.484, 2.4825, 2.4816, 2.4778, 2.4776, 2.4765, 2.4764, 2.4761, 2.475, 2.4749, 2.4739, 2.4715, 2.4696, 2.4689, 2.4673, 2.4664, 2.4619, 2.461, 2.4597, 2.4575, 2.4565, 2.4562, 2.4551, 2.4549, 2.4541, 2.4533, 2.4522, 2.4335, 2.4333, 2.4014, 2.414, 2.3296, 2.2787, 2.373, 2.3673, 2.247, 2.0499, 2.1268, 1.2298, 1.4437, 1.5328, 2.0157, 1.6602, 1.8165, 1.9764, 1.9697, 1.5065, 0.6556, 1.6918, 1.8805, 1.3903, 1.6127, 0.8058, 0.887, -0.1208, 0.292, 0.6324, 0.0541, 0.5364, 0.548, 0.4245, 1.0085, 0.2161, 0.4034, -0.7019, -0.0905, 2.6408, 2.6369, 2.6351, 2.6317, 2.6311, 2.6279, 2.6273, 2.6224, 2.6198, 2.6178, 2.6162, 2.616, 2.6133, 2.6121, 2.6101, 2.609, 2.6076, 2.6075, 2.607, 2.6053, 2.6034, 2.5984, 2.5905, 2.5881, 2.5875, 2.5862, 2.5836, 2.5667, 2.5608, 2.5578, 2.5546, 2.4948, 2.5378, 2.516, 2.3759, 2.5555, 2.2973, 2.5444, 2.3734, 2.4227, 2.3074, 2.3672, 2.1939, 2.4623, 2.2046, 2.2133, 2.1299, 1.7949, 2.2988, 1.9213, 2.1263, 1.5084, 1.7573, 1.7619, 1.3095, 1.5457, 1.8415, 2.2186, 1.3601, 2.0697, 1.7529, 0.9667, 0.9339, 1.4772, 0.7293, 0.8038, 1.1742, 1.2094, 0.685, 1.525, 1.0505, 2.8807, 2.8789, 2.8788, 2.8786, 2.8755, 2.874, 2.872, 2.8656, 2.8642, 2.8642, 2.8569, 2.8481, 2.8471, 2.8462, 2.8462, 2.8429, 2.8395, 2.8373, 2.8369, 2.8359, 2.8331, 2.831, 2.8079, 2.7864, 2.7652, 2.7621, 2.7614, 2.7608, 2.7592, 2.7573, 2.7442, 2.7199, 2.6799, 2.6746, 2.7432, 2.526, 2.5538, 2.4185, 2.2318, 2.2251, 2.3237, 2.1096, 2.2923, 2.3273, 2.1496, 2.4167, 2.0867, 1.4778, 1.8882, 1.7165, 1.7284, 2.0726, 1.3412, 1.7215, 1.9851, 1.5478, 1.2761, 1.2869, 1.4412, 1.2505, 1.32, 1.9402, 0.5764, 1.4271, 1.0162, 1.2157, 1.3258, 0.2895, 1.5844, 2.9526, 2.9513, 2.9488, 2.9361, 2.9303, 2.918, 2.9157, 2.9085, 2.9021, 2.9004, 2.8992, 2.898, 2.8978, 2.8948, 2.8937, 2.8937, 2.8818, 2.8788, 2.8771, 2.8739, 2.8734, 2.8729, 2.8714, 2.8685, 2.8576, 2.8565, 2.8511, 2.8494, 2.8472, 2.8316, 2.8232, 2.7944, 2.7748, 2.7769, 2.7247, 2.7479, 2.7041, 2.7283, 2.6801, 2.5467, 2.432, 2.6151, 2.4341, 2.4176, 2.7339, 2.2826, 2.0819, 2.293, 1.7679, 2.3752, 2.3132, 2.1216, 1.4972, 1.9147, 1.6732, 0.8641, 1.304, 1.4532, 0.3916, 1.6398, 1.357, 1.668, 0.9915, 0.9542, 1.3018, 0.5699, 0.462, 0.9998, 0.8707, 3.0023, 2.9969, 2.991, 2.9894, 2.989, 2.9883, 2.9863, 2.9832, 2.9827, 2.9819, 2.9812, 2.9803, 2.9758, 2.9751, 2.9745, 2.9737, 2.9727, 2.9712, 2.9711, 2.9703, 2.9703, 2.97, 2.9665, 2.9644, 2.9634, 2.9633, 2.9632, 2.9625, 2.9621, 2.9594, 2.953, 2.8601, 2.8698, 2.8927, 2.6343, 2.6471, 2.3727, 1.9724, 1.9715, 2.7092, 2.155, 2.35, 2.0026, 2.5292, 2.7068, 1.9945, 1.8131, 1.7267, 1.544, 1.8972, 1.1918, 2.1194, 1.9471, 1.5012, 0.6038, 1.5972, 1.0742, 1.8723, 1.245, 0.8882, 1.1575, -0.0201, 0.7808, 0.1244, 3.0122, 3.0108, 3.0107, 3.0091, 3.0065, 3.0055, 3.0025, 3.0018, 3.0012, 3.0009, 2.9996, 2.9985, 2.9949, 2.9936, 2.9931, 2.9928, 2.9908, 2.9904, 2.9903, 2.9867, 2.9866, 2.9856, 2.9853, 2.9847, 2.9838, 2.9801, 2.9792, 2.9791, 2.9771, 2.9765, 2.9735, 2.9006, 2.9018, 2.789, 2.6109, 2.757, 2.4005, 2.5673, 2.7636, 2.2449, 2.1044, 2.1703, 2.5741, 2.5242, 1.8698, 2.3123, 2.4166, 2.0926, 2.216, 1.5195, 0.8656, 1.7827, 0.5111, 1.6417, 1.2577, 1.1427, 1.3605, 0.8954, 1.283, 0.0881, 0.8922, -0.5231, 1.507, 0.5363, 3.1281, 3.1247, 3.1243, 3.1234, 3.1232, 3.1214, 3.1205, 3.1202, 3.1192, 3.1188, 3.1152, 3.1144, 3.1122, 3.1111, 3.1082, 3.104, 3.0975, 3.0964, 3.0943, 3.0925, 3.0925, 3.0917, 3.0898, 3.0889, 3.0876, 3.0873, 3.0869, 3.0855, 3.0853, 3.0822, 3.0819, 3.0591, 3.0523, 3.0129, 2.9414, 2.9165, 2.8613, 2.8761, 2.959, 2.8968, 2.8693, 2.9031, 2.6883, 2.8727, 2.414, 2.5704, 1.3773, 2.3343, 2.3471, 1.576, 2.0935, 1.5863, 0.7921, 2.3813, 2.1329, 0.9173, 0.6556, 1.1175, -0.023, 1.9305, 0.9617, 3.1321, 3.1308, 3.127, 3.1236, 3.119, 3.1174, 3.1173, 3.114, 3.1057, 3.0913, 3.0894, 3.0876, 3.0861, 3.0782, 3.0521, 3.0384, 3.0372, 2.9989, 2.9963, 2.9798, 2.9473, 2.9435, 2.9341, 2.9181, 2.8925, 2.8748, 2.8635, 2.8549, 2.8543, 2.8458, 2.7999, 2.7403, 2.8093, 2.6532, 2.5793, 2.4598, 2.2706, 2.306, 2.4644, 2.6403, 1.9494, 1.5261, 1.9202, 2.5675, 1.5741, 1.9768, 1.2271, 0.8709, 1.1241, 1.1884, 0.3323, 1.5279, 1.6061, 1.1062, 0.6922, 3.2395, 3.2302, 3.2291, 3.2269, 3.226, 3.226, 3.2257, 3.2257, 3.221, 3.2187, 3.2141, 3.2131, 3.2096, 3.2091, 3.2074, 3.2066, 3.2066, 3.2003, 3.1922, 3.1894, 3.1883, 3.1833, 3.1833, 3.1811, 3.1749, 3.1731, 3.1687, 3.1677, 3.1675, 3.1655, 3.0974, 3.1053, 3.1368, 2.9986, 2.9494, 2.7566, 2.8845, 3.0277, 2.8847, 3.026, 2.1949, 2.7691, 2.1796, 2.6569, 2.7694, 2.696, 2.9665, 2.2354, 2.7786, 1.8318, 2.1306, 1.4907, 1.4126, 1.8464, 1.311, 1.3101, 0.8907, 0.9095, 1.1413, 1.9349, 1.7905, 1.4049, 0.9326, 1.4918, 0.1183, 0.4906, 1.5606, 1.1808, 0.4457, 0.8338, 3.5332, 3.5312, 3.5228, 3.5219, 3.5217, 3.5166, 3.5154, 3.5142, 3.5139, 3.5132, 3.5111, 3.5104, 3.5079, 3.5001, 3.4988, 3.4985, 3.4981, 3.4972, 3.4961, 3.4947, 3.4936, 3.4856, 3.4795, 3.4792, 3.4725, 3.4715, 3.4711, 3.4692, 3.4684, 3.4569, 3.3977, 3.4166, 3.3124, 3.251, 3.3327, 3.4338, 3.2345, 3.2127, 3.22, 3.3862, 2.712, 3.2705, 3.1666, 2.2082, 2.8505, 2.9457, 2.4229, 2.0438, 2.4622, 1.3, 1.5216, 2.6169, 1.9759, 2.307, 1.556, 1.4369, 0.2241, 0.2488, 0.9546, 0.6078, 1.9521, 0.9138, 0.2213, 3.5529, 3.5486, 3.5449, 3.5448, 3.5429, 3.5383, 3.5372, 3.5354, 3.5279, 3.5096, 3.5069, 3.4974, 3.4755, 3.4744, 3.4681, 3.4586, 3.4491, 3.4489, 3.4484, 3.4394, 3.4372, 3.4345, 3.4312, 3.4263, 3.4126, 3.4026, 3.395, 3.3733, 3.3631, 3.3548, 3.3428, 3.289, 3.3186, 3.2856, 3.3358, 3.2467, 3.2775, 3.0867, 3.003, 3.2682, 3.0929, 3.0598, 3.083, 2.7782, 3.2348, 2.2932, 2.6959, 2.362, 2.9712, 2.3474, 2.202, 2.3059, 2.747, 2.1654, 1.8081, 1.2401, 2.5126, 0.1076, 0.9158, 1.0709, 0.2707, 3.8501, 3.85, 3.8493, 3.8493, 3.8359, 3.8349, 3.8247, 3.8211, 3.8185, 3.8162, 3.8161, 3.8149, 3.8088, 3.7976, 3.7954, 3.7893, 3.7824, 3.7808, 3.7736, 3.7683, 3.7681, 3.7681, 3.7664, 3.7663, 3.7626, 3.7533, 3.7456, 3.7455, 3.7336, 3.7307, 3.6842, 3.6751, 3.6981, 3.6815, 3.3471, 3.451, 3.6194, 3.363, 3.5226, 3.3477, 3.0819, 3.0583, 3.0065, 2.5245, 2.5415, 3.1188, 2.0447, 2.7721, 1.8022, 1.7061, 2.2574, 1.9444, 2.0059, 2.2601, 1.764, 2.862, 1.1768, 1.2715, 1.5429, 0.9595, 1.3628, 3.9698, 3.9655, 3.9598, 3.9494, 3.9408, 3.9396, 3.934, 3.9335, 3.9267, 3.9218, 3.9218, 3.9218, 3.9182, 3.9076, 3.9039, 3.8948, 3.893, 3.8802, 3.8687, 3.8473, 3.847, 3.838, 3.8287, 3.8286, 3.8152, 3.807, 3.7978, 3.7919, 3.7859, 3.7663, 3.4994, 3.7266, 3.5328, 3.2894, 3.4775, 2.4326, 3.3497, 2.1718, 2.8108, 2.5971, 1.8131, 2.1903, 2.029, 1.6424, 1.257, 1.9556, 2.0282, 1.0831, 1.1346, 2.0735, 0.5727, 0.765, 2.1747, 2.6924, 1.1963, 1.5265, -0.2694, 4.285, 4.2844, 4.2843, 4.2779, 4.2674, 4.2604, 4.2586, 4.2572, 4.2509, 4.2416, 4.2383, 4.2371, 4.2368, 4.2359, 4.2342, 4.2244, 4.1999, 4.1965, 4.1895, 4.1846, 4.1817, 4.1778, 4.1746, 4.1352, 4.1307, 4.1229, 4.086, 4.0767, 4.0507, 4.0247, 3.9178, 3.7953, 3.9614, 3.86, 3.7091, 3.7744, 3.5296, 3.0217, 3.5061, 2.6468, 3.0846, 2.6438, 3.7284, 2.1766, 2.9144, 1.692, 1.6451, 2.1406, 2.6752, 1.5812, 1.4149, 2.0639, 1.7099, 1.8597, 1.9834, 0.5328, 2.0455, -0.4685, 5.3228, 5.2895, 5.2685, 5.2418, 5.2168, 5.2134, 5.2134, 5.1916, 5.1866, 5.1749, 5.1687, 5.1534, 5.1343, 5.0812, 5.0641, 5.043, 4.945, 4.9382, 4.9104, 4.8483, 4.7919, 4.5752, 4.5335, 4.4329, 4.385, 4.3841, 4.3432, 4.3103, 4.2031, 4.1214, 3.9338, 3.7856, 3.5507, 3.3136, 3.486, 3.6638, 3.203, 3.2786, 3.4244, 2.8712, 3.8193, 3.8736, 2.4798, 3.6445, 2.756, 1.9045, 3.1238, 3.1118, 1.3933, 1.6334, 1.1896, 5.5476, 5.5377, 5.5143, 5.4876, 5.4494, 5.4247, 5.4247, 5.4145, 5.4026, 5.401, 5.3146, 5.2719, 5.2693, 5.266, 5.1651, 5.1651, 5.1651, 5.1651, 5.1651, 5.1625, 5.0799, 5.0799, 5.0799, 5.0799, 5.0603, 5.0549, 5.0215, 4.9944, 4.9626, 4.9319, 4.7929, 4.6872, 4.6004, 3.7268, 3.6583, 3.2303, 3.6332, 3.0296, 3.7132, 3.6161, 1.6294, 2.2206, 1.8925, 2.5204, 1.561, 1.9579, 2.1524, 0.9398, -0.3915, 0.6103, 2.1423, 5.833, 5.7836, 5.7466, 5.6322, 5.5922, 5.5876, 5.5469, 5.5411, 5.3719, 5.3198, 5.2802, 5.278, 5.2725, 5.2366, 5.2366, 5.1141, 5.0099, 4.9267, 4.8214, 4.658, 4.3927, 4.3026, 4.2376, 4.2241, 4.1647, 3.8468, 3.8023, 3.5332, 3.4912, 3.3563, 3.3308, 2.709, 2.2263, 2.897, 2.2086, 1.2653, 1.6665, 1.1431, 1.3857, 0.141, -0.0591, 1.6288, 1.2501, 3.1531, 3.1531, 3.1531, 3.1531, 3.1531, 3.1531, 3.1531, 3.1531, 3.1531, 3.1531, 3.1531, 3.1531, 3.1531, 3.1531, 3.1531, 3.1531, 3.1531, 3.1531, 3.1531, 3.1531, 3.1531, 3.1531, 3.1531, 3.1531, 3.1531, 3.1531, 3.1531, 3.1531, 3.1531, 3.1531, -4.0796, -3.7618, -2.3254, 1.002, 1.3206, 2.0889, 2.0889, -3.5086, 2.624, -3.5852, 0.6326, 1.1792, -3.9706, -2.5534, -1.3549, -2.6271, -3.8434, -0.3571, 0.3355, 2.0889, -3.6974, 1.1792, -1.6695, 1.2432, -0.7014, -0.2073, -3.1028, 2.2799, -0.3159, -0.4036]}, \"token.table\": {\"Topic\": [11, 3, 3, 16, 5, 2, 19, 6, 11, 6, 9, 7, 9, 11, 19, 17, 5, 1, 2, 3, 4, 5, 7, 9, 10, 11, 12, 17, 1, 2, 3, 4, 5, 7, 8, 12, 15, 7, 14, 14, 12, 9, 18, 1, 3, 4, 11, 16, 17, 4, 14, 13, 17, 2, 7, 10, 3, 4, 10, 1, 10, 1, 7, 9, 14, 14, 2, 3, 4, 6, 7, 8, 10, 14, 1, 2, 3, 6, 8, 9, 11, 15, 4, 14, 18, 18, 18, 4, 10, 13, 16, 1, 2, 3, 6, 7, 8, 13, 14, 16, 2, 3, 6, 7, 8, 10, 15, 2, 3, 8, 17, 1, 3, 6, 8, 10, 13, 5, 1, 2, 3, 5, 7, 10, 11, 6, 3, 4, 7, 10, 12, 13, 14, 13, 3, 4, 10, 13, 13, 1, 2, 3, 5, 7, 8, 11, 12, 13, 11, 4, 17, 1, 2, 3, 4, 6, 7, 8, 10, 11, 12, 13, 1, 18, 18, 8, 8, 13, 14, 7, 4, 10, 14, 2, 4, 1, 2, 3, 4, 6, 7, 8, 9, 10, 11, 12, 18, 19, 9, 6, 9, 9, 18, 2, 3, 5, 6, 8, 16, 16, 3, 4, 12, 13, 1, 2, 3, 4, 5, 6, 8, 9, 10, 12, 13, 16, 1, 15, 18, 1, 11, 10, 1, 11, 11, 11, 1, 9, 2, 8, 17, 2, 15, 1, 2, 3, 4, 5, 6, 7, 8, 9, 10, 11, 12, 13, 15, 19, 8, 9, 3, 1, 3, 6, 12, 13, 14, 19, 5, 7, 16, 1, 3, 9, 13, 14, 16, 1, 6, 2, 6, 9, 1, 2, 3, 6, 7, 8, 9, 12, 14, 15, 16, 18, 18, 5, 18, 4, 13, 2, 3, 4, 5, 6, 7, 8, 10, 13, 14, 15, 18, 1, 2, 3, 4, 6, 7, 8, 10, 14, 15, 18, 11, 14, 8, 1, 7, 8, 13, 16, 1, 14, 18, 1, 2, 4, 5, 2, 3, 5, 6, 7, 8, 11, 17, 5, 5, 2, 3, 2, 5, 6, 2, 3, 4, 5, 7, 11, 17, 4, 1, 2, 4, 5, 8, 10, 11, 17, 2, 11, 17, 14, 1, 2, 3, 4, 5, 6, 7, 8, 9, 10, 11, 12, 13, 15, 16, 3, 4, 7, 10, 16, 16, 1, 2, 3, 4, 5, 7, 8, 15, 16, 18, 2, 9, 11, 17, 5, 17, 1, 17, 4, 13, 1, 12, 1, 2, 3, 4, 8, 10, 11, 12, 13, 1, 2, 3, 5, 6, 7, 13, 11, 1, 2, 5, 7, 9, 11, 12, 13, 1, 1, 1, 13, 14, 2, 13, 1, 2, 3, 7, 11, 12, 13, 1, 2, 3, 5, 6, 7, 11, 12, 13, 8, 9, 9, 1, 2, 8, 9, 14, 11, 17, 11, 1, 2, 3, 4, 7, 9, 11, 14, 1, 2, 19, 4, 19, 6, 2, 3, 4, 7, 8, 10, 14, 15, 1, 2, 3, 4, 6, 8, 9, 10, 11, 12, 13, 14, 15, 16, 1, 9, 7, 1, 2, 3, 4, 8, 10, 13, 18, 16, 6, 16, 1, 2, 3, 12, 1, 12, 3, 13, 13, 7, 7, 2, 14, 9, 2, 6, 9, 14, 6, 5, 3, 1, 2, 5, 6, 7, 8, 10, 14, 15, 1, 2, 3, 4, 5, 7, 8, 12, 15, 15, 3, 1, 2, 3, 5, 8, 9, 10, 11, 17, 18, 7, 1, 2, 3, 11, 12, 3, 8, 4, 6, 11, 1, 3, 4, 4, 16, 18, 11, 1, 2, 4, 6, 3, 3, 3, 19, 2, 15, 10, 2, 1, 3, 1, 2, 3, 4, 7, 9, 19, 6, 8, 12, 1, 9, 17, 9, 17, 1, 7, 4, 18, 1, 6, 15, 9, 3, 5, 8, 9, 11, 17, 1, 2, 3, 6, 7, 8, 11, 13, 2, 6, 9, 1, 7, 9, 9, 9, 9, 9, 1, 3, 6, 7, 8, 1, 2, 19, 1, 2, 3, 5, 7, 8, 9, 15, 17, 18, 1, 2, 3, 5, 6, 7, 8, 9, 11, 12, 15, 16, 17, 1, 2, 3, 5, 6, 7, 8, 9, 11, 12, 15, 13, 3, 1, 2, 3, 5, 7, 8, 11, 15, 2, 11, 1, 2, 3, 5, 5, 7, 12, 12, 1, 2, 3, 4, 5, 6, 7, 8, 9, 10, 11, 12, 13, 15, 16, 8, 7, 9, 14, 1, 2, 3, 4, 5, 6, 7, 8, 9, 10, 11, 13, 14, 19, 6, 7, 9, 11, 12, 2, 18, 14, 7, 15, 18, 7, 10, 1, 2, 3, 8, 10, 13, 14, 4, 9, 17, 1, 2, 3, 4, 5, 7, 8, 10, 13, 16, 1, 2, 3, 4, 6, 7, 10, 11, 12, 13, 15, 11, 1, 9, 13, 1, 12, 12, 2, 2, 4, 5, 9, 11, 14, 14, 1, 2, 3, 7, 8, 14, 17, 1, 9, 10, 1, 2, 3, 4, 7, 9, 10, 14, 16, 11, 1, 2, 7, 8, 12, 10, 1, 7, 10, 1, 2, 4, 6, 7, 10, 12, 13, 16, 1, 2, 3, 4, 5, 6, 7, 8, 12, 14, 2, 13, 9, 2, 4, 14, 10, 1, 2, 3, 5, 7, 1, 2, 3, 5, 7, 10, 14, 15, 5, 6, 3, 2, 8, 7, 14, 2, 1, 2, 3, 5, 7, 8, 9, 10, 12, 14, 16, 1, 2, 3, 6, 7, 8, 10, 13, 14, 4, 5, 1, 2, 5, 7, 8, 9, 7, 11, 4, 2, 3, 6, 8, 11, 1, 2, 3, 4, 7, 10, 11, 13, 14, 17, 4, 7, 15, 1, 2, 3, 4, 5, 6, 7, 8, 10, 11, 13, 14, 1, 12, 2, 2, 1, 12, 12, 12, 9, 10, 13, 1, 5, 3, 17, 2, 6, 9, 8, 8, 7, 1, 2, 1, 2, 3, 4, 5, 7, 9, 15, 16, 17, 1, 3, 5, 6, 2, 3, 4, 5, 6, 7, 8, 14, 15, 5, 8, 2, 3, 4, 5, 11, 12, 13, 14, 3, 4, 7, 13, 14, 16, 4, 11, 11, 12, 4, 13, 16, 3, 13, 2, 14, 13, 1, 2, 3, 4, 6, 7, 8, 9, 10, 11, 13, 17, 2, 8, 17, 1, 1, 2, 11, 13, 15, 1, 2, 3, 4, 6, 7, 8, 10, 1, 2, 3, 4, 6, 8, 9, 10, 13, 14, 16, 4, 2, 4, 14, 15, 5, 9, 8, 9, 9, 12, 18, 7, 14, 1, 2, 19, 2, 8, 19, 19, 13, 1, 5, 10, 4, 3, 1, 6, 7, 8, 18, 18, 8, 1, 8, 8, 8, 1, 8, 3, 16, 11, 2, 3, 7, 13, 1, 18, 12, 2, 12, 1, 2, 3, 4, 6, 7, 9, 10, 12, 13, 14, 15, 16, 1, 3, 7, 9, 11, 17, 18, 1, 3, 7, 5, 7, 11, 7, 12, 1, 2, 6, 5, 6, 17, 5, 6, 6, 1, 5, 9, 11, 17, 5, 9, 1, 2, 3, 7, 8, 10, 13, 2, 3, 12, 16, 6, 2, 4, 7, 1, 2, 4, 5, 11, 17, 1, 2, 3, 6, 7, 16, 3, 17, 1, 2, 4, 8, 10, 3, 1, 7, 17, 2, 6, 9, 18, 2, 8, 9, 17, 3, 10, 2, 4, 1, 2, 4, 6, 8, 10, 11, 12, 1, 2, 3, 18, 1, 15, 18, 1, 2, 4, 5, 7, 8, 10, 14, 15, 16, 18, 6, 8, 2, 3, 4, 6, 7, 8, 9, 10, 11, 12, 15, 1, 2, 3, 4, 6, 7, 8, 9, 10, 11, 12, 15, 1, 2, 3, 5, 6, 11, 19, 1, 2, 3, 4, 5, 6, 7, 8, 9, 10, 11, 13, 14, 15, 16, 1, 2, 3, 4, 5, 6, 7, 9, 10, 11, 13, 1, 2, 3, 4, 5, 7, 8, 11, 14, 1, 13, 19, 1, 5, 11, 1, 3, 3, 14, 2, 5, 13, 3, 2, 1, 16, 2, 3, 4, 5, 7, 12, 14, 1, 2, 4, 6, 10, 11, 13, 1, 18, 18, 4, 14, 18, 2, 4, 6, 8, 10, 4, 1, 9, 17, 7, 6, 18, 18, 6, 4, 10, 1, 2, 3, 5, 7, 8, 10, 12, 15, 14, 2, 3, 4, 5, 7, 8, 11, 12, 1, 2, 3, 5, 9, 11, 12, 13, 7, 4, 4, 1, 7, 16, 19, 3, 14, 3, 14, 10, 4, 7, 10, 5, 1, 2, 3, 4, 5, 6, 7, 8, 10, 11, 12, 13, 14, 18, 15, 18, 3, 11, 11, 18, 16, 1, 2, 3, 5, 6, 7, 8, 9, 10, 11, 12, 13, 14, 15, 16, 16, 16, 6, 16, 1, 12, 1, 9, 11, 14, 2, 18, 1, 2, 3, 5, 7, 12, 3, 7, 13, 15, 16, 1, 2, 10, 1, 2, 5, 6, 11, 12, 14, 2, 7, 11, 10, 7, 12, 12, 2, 3, 7, 10, 12, 14, 2, 11, 17, 1, 2, 4, 5, 8, 10, 1, 2, 4, 8, 10, 13, 15, 19, 16, 1, 13, 8, 1, 2, 3, 6, 8, 11, 14, 1, 6, 8, 11, 8, 12, 2, 4, 7, 4, 4, 4, 4, 8, 1, 2, 4, 7, 10, 10, 14, 1, 2, 3, 6, 8, 10, 14, 15, 11, 12, 12, 12, 3, 14, 2, 12, 1, 2, 3, 4, 5, 7, 8, 11, 12, 13, 15, 1, 5, 7, 11, 12, 1, 2, 3, 4, 5, 7, 8, 9, 11, 1, 3, 10, 1, 10, 1, 2, 12, 4, 10, 1, 2, 4, 7, 8, 12, 14, 16, 18, 13, 9, 11, 1, 2, 4, 6, 2, 3, 4, 6, 7, 8, 10, 11, 13, 14, 15, 16, 18, 15, 6, 1, 2, 8, 17, 1, 2, 3, 4, 5, 6, 7, 8, 10, 12, 13, 14, 1, 3, 5, 8, 9, 3, 14, 1, 2, 3, 6, 9, 11, 15, 1, 6, 8, 9, 15, 5, 11, 1, 3, 4, 8, 12, 13, 15, 16, 17, 18, 2, 1, 2, 3, 4, 6, 7, 8, 13, 16, 7, 3, 16, 1, 2, 3, 5, 7, 5, 1, 3, 5, 19, 1, 2, 3, 5, 6, 7, 8, 9, 11, 12, 15, 1, 2, 8, 12, 8, 11, 2, 6, 3, 19, 1, 2, 3, 5, 7, 10, 11, 13, 14, 7, 2, 19, 1, 3, 4, 7, 9, 13, 11, 2, 15, 4, 1, 2, 3, 4, 5, 7, 8, 11, 12, 14, 1, 2, 4, 5, 6, 7, 10, 12, 14, 1, 2, 3, 4, 5, 6, 7, 8, 9, 11, 13, 1, 2, 7, 11, 16, 18, 8, 13, 2, 5, 7, 13, 15, 16, 1, 2, 3, 6, 8, 15, 4, 4, 16, 1, 2, 7, 16, 16, 1, 6, 7, 16, 16, 5, 7, 7, 2, 3, 7, 14, 15, 1, 2, 3, 5, 6, 7, 9, 11, 15, 2, 11, 12, 17, 1, 7, 8, 15, 17, 4, 16, 5, 15, 1, 2, 3, 6, 7, 8, 9, 10, 13, 14, 15, 16, 1, 2, 7, 10, 11, 17, 1, 2, 1, 3, 7, 9, 11, 12, 1, 2, 3, 8, 9, 10, 12, 13, 14, 16, 17, 1, 6, 1, 2, 3, 4, 7, 3, 19, 3, 5, 7, 1, 2, 8, 12, 12, 12, 19, 1, 2, 10, 2, 6, 5, 9, 3, 9, 13, 17, 2, 8, 1, 2, 3, 5, 6, 7, 9, 11, 12, 13, 15, 2, 1, 2, 6, 11, 12, 2, 1, 3, 5, 7, 9, 11, 12, 16, 1, 5, 2, 3, 5, 7, 1, 3, 16, 2, 3, 6, 8, 16, 2, 7, 16, 3, 8, 15, 16, 1, 2, 3, 4, 5, 7, 10, 11, 12, 13, 18, 7, 1, 2, 3, 9, 1, 3, 4, 13, 15, 16, 7, 11, 1, 2, 11, 13, 15, 7, 1, 6, 14, 2, 3, 4, 12, 15, 3, 9, 1, 2, 3, 5, 7, 8, 9, 11, 14, 16, 17, 5, 1, 2, 4, 6, 9, 10, 12, 16, 17, 15, 15, 15, 3, 9, 11, 17, 17, 1, 8, 9, 12, 2, 1, 2, 3, 5, 6, 7, 8, 10, 14, 15, 15, 3, 9, 19, 12, 1, 2, 3, 6, 8, 9, 11, 1, 6, 7, 11, 6, 6, 7, 11, 13, 15, 1, 2, 4, 6, 10, 12, 13, 3, 1, 11, 17, 1, 19, 12, 5, 2, 3, 7, 3, 6, 9, 11, 11, 12, 1, 2, 9, 1, 2, 3, 8, 11, 13, 15, 3, 1, 12, 2, 4, 6, 2, 3, 7, 3, 9, 11, 11, 1, 6, 3, 2, 3, 5, 7, 8, 14, 16, 1, 6, 9, 17, 2, 4, 10, 4, 10, 1, 2, 3, 4, 5, 7, 8, 9, 10, 11, 12, 13, 1, 8, 12, 14, 18, 11, 1, 2, 3, 4, 6, 9, 10, 12, 14, 15, 13, 5, 16, 13, 2, 13, 1, 2, 8, 1, 2, 3, 4, 8, 10, 11, 16, 1, 2, 4, 7, 8, 9, 10, 11, 17, 1, 2, 3, 10, 11, 15, 16, 1, 2, 3, 5, 6, 7, 9, 11, 12, 9, 1, 10, 13, 9, 10, 17, 8, 5, 1, 2, 3, 4, 7, 11, 17, 1, 2, 3, 4, 19, 8, 19, 19, 19, 2, 15, 7, 8, 14, 1, 1, 14, 2, 6, 1, 2, 12, 19, 12, 1, 2, 7, 12, 15, 6, 16, 4, 13, 10, 13, 3, 1, 2, 3, 5, 7, 2, 15, 11, 1, 3, 18, 18, 8, 1, 4, 2, 4, 8, 1, 12, 18, 1, 2, 3, 5, 6, 7, 8, 9, 10, 12, 15, 16, 1, 2, 3, 4, 5, 7, 8, 9, 11, 13, 15, 2, 17, 1, 7, 9, 11, 12, 19, 1, 2, 3, 10, 12, 16, 1, 4, 9, 16, 17, 12, 12, 11, 1, 2, 3, 4, 7, 8, 9, 10, 11, 12, 13, 14, 16, 2, 1, 2, 3, 5, 7, 11, 3, 7, 5, 1, 16, 1, 17, 4, 14, 2, 7, 1, 12, 7, 7, 3, 6, 11, 7, 6, 11, 12, 8, 17, 1, 9, 15, 3, 4, 5, 18, 14, 18, 18, 14, 7, 8, 11, 17, 1, 9, 1, 2, 11, 1, 2, 4, 11, 1, 2, 3, 5, 7, 8, 10, 11, 13, 14, 17, 19, 3, 17, 14, 14, 2, 8, 12, 1, 8, 9, 8, 1, 8, 9, 1, 17, 2, 5, 7, 15, 1, 6, 11, 16, 4, 1, 2, 5, 6, 7, 8, 9, 15, 2, 15, 1, 2, 4, 7, 8, 12, 13, 14, 18, 2, 3, 5, 6, 7, 10, 13, 14, 15, 1, 2, 4, 10, 16, 2, 3, 5, 7, 8, 11, 12, 2, 3, 6, 2, 12, 3, 8, 15, 3, 5, 9, 11, 8, 10, 1, 2, 4, 5, 6, 7, 8, 10, 11, 12, 13, 16, 18, 14, 1, 2, 3, 5, 7, 9, 10, 13, 14, 16, 1, 2, 3, 5, 7, 8, 9, 12, 13, 2, 3, 4, 6, 7, 9, 10, 12, 2, 3, 4, 5, 14, 8, 1, 7, 11, 2, 4, 13, 1, 2, 3, 4, 5, 6, 7, 9, 11, 13, 15, 1, 13, 16, 6, 9, 2, 1, 9, 9, 9, 9, 10, 12, 15, 15, 19, 1, 2, 3, 4, 5, 6, 8, 10, 11, 12, 13, 4, 7, 14, 14, 2, 1, 14, 1, 7, 10, 1, 2, 3, 5, 8, 11, 3, 7, 1, 2, 3, 5, 8, 12, 7, 5, 9, 17, 1, 2, 5, 7, 14, 1, 2, 3, 12, 15, 17, 1, 8, 2, 3, 5, 6, 7, 8, 11, 14, 15, 1, 2, 18, 14, 19, 1, 1, 2, 4, 7, 10, 12, 14, 18, 1, 2, 3, 4, 6, 7, 8, 10, 11, 14, 17, 1, 2, 3, 11, 15, 16, 19, 2, 3, 5, 16, 13, 1, 2, 4, 6, 7, 9, 10, 13, 1, 2, 4, 5, 10, 14, 18, 1, 2, 3, 4, 6, 8, 9, 10, 14, 1, 3, 10, 13, 2, 18, 1, 2, 4, 6, 7, 9, 13, 1, 3, 6, 9, 18, 1, 9, 9, 6, 16, 7, 1, 2, 3, 7, 9, 13, 1, 8, 2, 8, 2, 15, 1, 3, 7, 8, 10, 11, 1, 2, 3, 8, 10, 11, 10, 2, 4, 8, 10, 1, 2, 5, 7, 11, 17, 2, 19, 1, 2, 3, 5, 9, 12, 17, 1, 2, 19, 2, 19, 1, 2, 3, 4, 6, 10, 11, 15, 19, 1, 11, 1, 5, 7, 10, 19, 15, 1, 3, 9, 9, 3, 9, 13, 17, 10, 13, 14, 14, 9, 14, 13, 1, 2, 8, 10, 13, 15, 1, 8, 10, 12, 2, 4, 6, 7, 10, 12, 13, 16, 18, 2, 4, 6, 7, 12, 13, 16, 1, 2, 3, 5, 6, 8, 19, 1, 2, 3, 10, 14, 1, 2, 3, 4, 6, 7, 8, 10, 12, 14, 10, 1, 5, 8, 9, 6, 9, 1, 2, 3, 6, 7, 8, 10, 11, 13, 14, 15, 14, 2, 18, 1, 2, 2, 3, 4, 5, 7, 8, 11, 12, 15, 2, 1, 2, 3, 4, 5, 7, 15, 16, 17, 1, 2, 4, 9, 13, 14, 1, 16, 1, 2, 3, 2, 8, 1, 2, 3, 9, 2, 2, 10, 2, 1, 2, 3, 4, 6, 7, 8, 10, 11, 12, 14, 1, 2, 4, 13, 15, 1, 2, 6, 1, 2, 12, 13, 15, 16, 17, 12, 2, 6, 16, 10, 5, 7, 9, 11, 11, 1, 2, 8, 9, 10, 16, 1, 2, 3, 4, 6, 7, 8, 13, 1, 2, 4, 5, 7, 10, 14, 1, 2, 3, 4, 5, 6, 7, 8, 9, 10, 12, 14, 16, 17, 5, 7, 1, 6, 11, 15, 16, 1, 10, 14, 19, 2, 15, 19, 1, 2, 3, 11, 15, 15, 3, 11, 18, 2, 15, 1, 2, 3, 4, 5, 6, 7, 8, 9, 10, 11, 12, 13, 15, 15, 1, 2, 7, 15, 1, 7, 8, 1, 2, 3, 4, 5, 8, 9, 10, 11, 13, 15, 18, 1, 2, 4, 7, 10, 11, 13, 18, 1, 1, 2, 3, 4, 17, 1, 1, 17, 17, 8, 4, 15, 1, 2, 3, 4, 5, 6, 7, 8, 10, 11, 12, 13, 16, 1, 2, 3, 4, 10, 11, 1, 4, 6, 3, 7, 3, 7, 5, 7, 12, 17, 10, 13, 6, 2, 4, 8, 11, 1, 2, 5, 8, 9, 13, 16, 14, 13, 4, 2, 3, 5, 7, 2, 7, 10, 13, 4, 1, 8, 11, 1, 2, 3, 5, 7, 12, 14, 15, 1, 2, 3, 4, 7, 9, 10, 13, 19, 2, 6, 12, 2, 8, 11, 12, 17, 18, 2, 1, 6, 8, 9, 6, 8, 1, 2, 3, 4, 5, 6, 7, 8, 9, 10, 11, 12, 13, 14, 16, 18], \"Freq\": [0.9497913165724617, 0.993263388809595, 0.9907269625249578, 0.9217917247436102, 0.8466333819099432, 0.37256800112198374, 0.5854640017631173, 0.9787121972486886, 0.9610299541873725, 0.9382793890261458, 0.06111728130353794, 0.24996849756617937, 0.04999369951323587, 0.6927698361119828, 0.4659129898152132, 0.8610324988705411, 0.9256454966923944, 0.14346962615766945, 0.028131299246601855, 0.011252519698640742, 0.14065649623300927, 0.1350302363836889, 0.0028131299246601854, 0.09002015758912593, 0.0028131299246601854, 0.2700604727673778, 0.045010078794562966, 0.12940397653436853, 0.009984615513577239, 0.1854285738235773, 0.007131868223983742, 0.4835406655860977, 0.07845055046382116, 0.17259121102040656, 0.007131868223983742, 0.021395604671951226, 0.03423296747512196, 0.00484157926028729, 0.9876821690986073, 0.9483581829527675, 0.904587939844294, 0.9562628960282749, 0.4130469892336542, 0.32009248147872776, 0.06711616547134615, 0.11358120310535501, 0.21167406033270708, 0.11874398506468933, 0.1652090226986982, 0.951193358984291, 0.8697625101531241, 0.9849002978937894, 0.7256799777382006, 0.028905598495783974, 0.20233918947048782, 0.7659983601382754, 0.051112473815935484, 0.3310141161412965, 0.6182175404403626, 0.23785704851332812, 0.7492497028169836, 0.3420435245916088, 0.035383812888787114, 0.011794604296262372, 0.601524819109381, 0.951399370557318, 0.15941770381617903, 0.12544343906846875, 0.18555175362211004, 0.22736623331159964, 0.06010831455364128, 0.036587669728303386, 0.002613404980593099, 0.20123218350566863, 0.0263035995132776, 0.5824368463654326, 0.056364856099880574, 0.0263035995132776, 0.09018376975980892, 0.011272971219976115, 0.060122513173205945, 0.1465486258596895, 0.7578756068237874, 0.14158115731872953, 0.09577548877443468, 0.9282864576120977, 0.7978535586699326, 0.016242147611876097, 0.9582867091006897, 0.016242147611876097, 0.9673927275996429, 0.2534772996205657, 0.153584767750392, 0.022475819670789075, 0.41330535061284357, 0.04370298269320098, 0.04994626593508683, 0.01498387978052605, 0.047448952638332494, 0.993248592445428, 0.14917096579356018, 0.2479967306317938, 0.08763794240371661, 0.36733350326664194, 0.027969556086292535, 0.11001358727275064, 0.009323185362097511, 0.15055486575183358, 0.7817271875575974, 0.06369628935654498, 0.8728739942557544, 0.3215523072756456, 0.542948977858877, 0.06852754089480972, 0.05798484229560823, 0.9787922985002031, 0.9837635901857753, 0.9818824330785425, 0.11131702641215695, 0.30228330448128826, 0.1852085008409163, 0.13050961717287365, 0.23223034820467225, 0.02303110891286006, 0.014394443070537537, 0.9739231919134396, 0.04173807742789786, 0.11030777605944435, 0.3040917069746844, 0.19974651340493976, 0.04621001429517263, 0.17440553782371607, 0.12223294103884373, 0.8638266652132235, 0.1591556778814602, 0.055092350035890074, 0.1591556778814602, 0.6243799670734208, 0.9947799719425061, 0.3066947357624247, 0.313510174334923, 0.07549408880305838, 0.19869624761360505, 0.009961025605959092, 0.022019109234225363, 0.042989689457297135, 0.017300728684034213, 0.013630877144996653, 0.9842761095169088, 0.6164552852056444, 0.36987317112338663, 0.20299657981944447, 0.014630384131131133, 0.014630384131131133, 0.16093422544244246, 0.0877823047867868, 0.01280158611473974, 0.11521427503265767, 0.10789908296709211, 0.18470859965553055, 0.03657596032782783, 0.062179132557307316, 0.9943942642515761, 0.6881170906187997, 0.6881170906187997, 0.9649064783317484, 0.9835497455215148, 0.11505029215689831, 0.843702142483921, 0.9900352045035876, 0.41933887276776033, 0.20966943638388016, 0.364642498058922, 0.0850149240665578, 0.9011581951055126, 0.007652130407918701, 0.280578114957019, 0.030608521631674802, 0.13008621693461792, 0.18875255006199462, 0.024231746291742552, 0.0012753550679864502, 0.0012753550679864502, 0.025507101359729004, 0.07141988380724121, 0.2244624919656152, 0.0012753550679864502, 0.011478195611878052, 0.9759399229959509, 0.7867676987447846, 0.21074134787806728, 0.9710463736808266, 0.587467924321477, 0.005533045494318559, 0.12726004636932686, 0.058096977690344866, 0.1493922283466011, 0.04979740944886703, 0.6086350043750415, 0.9422242127002867, 0.03540870744106702, 0.07081741488213404, 0.03540870744106702, 0.8616118810659642, 0.46447171492158174, 0.1278866377233409, 0.08944218834638568, 0.02746032098353946, 0.060412706163786814, 0.05492064196707892, 0.0031383223981187956, 0.052566900168489826, 0.02746032098353946, 0.0753197375548511, 0.010984128393415785, 0.004707483597178193, 0.36045525016002994, 0.6007587502667165, 0.9856338635000622, 0.988106005820647, 0.887551789309312, 0.9567248442155198, 0.362985441607214, 0.6282440335509474, 0.9909566684354936, 0.9753973107979644, 0.9748419464848191, 0.9841101822049677, 0.9760614914166503, 0.9879544511714478, 0.9449863480573961, 0.9737054303732162, 0.9135545589378896, 0.0038272224920348537, 0.08611250607078422, 0.1593081362309508, 0.15787292779643772, 0.19614515271678626, 0.081806880767245, 0.046405072715922605, 0.03253139118229626, 0.038750627731852894, 0.004305625303539211, 0.09663736792388006, 0.022963334952209122, 0.03731541929733982, 0.033009793993800614, 0.0028704168690261403, 0.5398601272624404, 0.45634585343178663, 0.9744252818936876, 0.03227421497212263, 0.045183900960971676, 0.3646986291849857, 0.054866165452608466, 0.058093586949820725, 0.42601963763201867, 0.016137107486061314, 0.8658215117933417, 0.974582580993022, 0.9781883411634397, 0.1914714192706336, 0.0136765299479024, 0.2188244791664384, 0.0957357096353168, 0.0273530598958048, 0.45132548828077923, 0.9864736140831664, 0.8948917935297199, 0.24632649204527252, 0.7029316968121191, 0.04806370576493122, 0.309526019326818, 0.04843727783358602, 0.04725588081325465, 0.21973984578163414, 0.011813970203313663, 0.15358161264307763, 0.08624198248418974, 0.06497683611822515, 0.008269779142319564, 0.003544191060994099, 0.02008374934563323, 0.024809337426958695, 0.9623807590426408, 0.8936612242511937, 0.8311704146793951, 0.9807323217330312, 0.9806895975486676, 0.1028478935831854, 0.05062044762297407, 0.2756002148361921, 0.023301475889940443, 0.13900535617102402, 0.0200874792154659, 0.08356391353633814, 0.1341843611593122, 0.0715114260070586, 0.06829742933258406, 0.02410497505855908, 0.007231492517567724, 0.15912416412335348, 0.10276768932966578, 0.13923364360793428, 0.09282242907195619, 0.1292883833502247, 0.20885046541190144, 0.046411214535978094, 0.009945260257709592, 0.06298664829882741, 0.013260347010279457, 0.03315086752569864, 0.1895388832100735, 0.7960633094823087, 0.9727176334809897, 0.15449917310851755, 0.019312396638564693, 0.09656198319282347, 0.13518677646995286, 0.5986842957955055, 0.17582866712032175, 0.06593575017012065, 0.7362825435663473, 0.7283228983472105, 0.1707551292775757, 0.0975743595871861, 0.9672192214181985, 0.07585209528449494, 0.19418136392830704, 0.44145919455576055, 0.07130096956742524, 0.015170419056898988, 0.013653377151209088, 0.17294277724864845, 0.015170419056898988, 0.9823632972212898, 0.9736126170373347, 0.0545499093627918, 0.943392550156517, 0.9839564131541744, 0.9369445768542829, 0.9773436322837623, 0.030473329631740206, 0.018283997779044124, 0.1950293096431373, 0.31692262817009814, 0.07923065704252454, 0.20112397556948536, 0.15236664815870102, 0.9882980734417766, 0.04458668483711265, 0.09908152186025034, 0.039632608744100135, 0.6143054355335521, 0.009908152186025034, 0.009908152186025034, 0.15357635888338803, 0.024770380465062584, 0.192108763404, 0.448253781276, 0.352199399574, 0.9862233344356861, 0.004389253148166159, 0.08888237625036473, 0.2008083315286018, 0.09546625597261398, 0.2282411637046403, 0.015362386018581559, 0.0032919398611246198, 0.0032919398611246198, 0.07132536365770009, 0.060352230787284696, 0.09546625597261398, 0.0109731328704154, 0.06913073708361701, 0.019751639166747718, 0.032919398611246195, 0.004549483084704826, 0.4117282191657867, 0.006824224627057238, 0.5084047347157643, 0.06596750472821997, 0.8854841992450961, 0.04594605341935025, 0.028442794973883488, 0.08314047761596711, 0.35662889082638527, 0.18597212098308435, 0.026254887668200142, 0.0065637219170500355, 0.13127443834100072, 0.10720745797848391, 0.026254887668200142, 0.0507051876638417, 0.11831210454896399, 0.7943812734001867, 0.033803458442561135, 0.39919653050490916, 0.5702807578641559, 0.2756483914971794, 0.5512967829943588, 0.915584774279396, 0.05906998543738039, 0.30004583003085444, 0.6948429748082945, 0.2876221975283095, 0.30964533669586763, 0.060783864102460505, 0.18587529457419083, 0.0022023139167558154, 0.04272488998506282, 0.09469949842050006, 0.010130644017076751, 0.0061664789669162836, 0.3973562581747313, 0.14513011948447366, 0.108096916581539, 0.3082763917325371, 0.0020017947515099813, 0.03803410027868965, 0.9967703463964088, 0.9688904018391004, 0.13249512682761275, 0.23679980113871216, 0.022552362013210682, 0.1522284435891721, 0.06201899553632937, 0.10148562905944807, 0.20579030337054746, 0.08457135754954005, 0.9946438982440378, 0.9923593567187249, 0.9797395237170058, 0.7540524182724532, 0.23201612869921634, 0.06869063110530156, 0.920454456811041, 0.27133816777680325, 0.262441834407072, 0.139375889459123, 0.09192877815388963, 0.062274333588118784, 0.13789316723083445, 0.034102611250636475, 0.21091233915639573, 0.09764460146129432, 0.09686344464960397, 0.23122241626034495, 0.13357781479905065, 0.02031007710394922, 0.1445140101627156, 0.052337506383253754, 0.010936195363664964, 0.10050043611915645, 0.887753852385882, 0.9950754018954963, 0.5614246645975931, 0.06114526050072796, 0.07504191061452976, 0.30016764245811905, 0.962792804919685, 0.7522070363539689, 0.214916296101134, 0.9148520595235363, 0.4663639912911117, 0.2627402767837249, 0.08703271668460888, 0.10345398398359168, 0.02955828113816905, 0.013137013839186246, 0.032842534597965614, 0.0049263801896948425, 0.28665284983691586, 0.28665284983691586, 0.38220379978255453, 0.22019326125742264, 0.7339775375247422, 0.8932096842404953, 0.23205671287169102, 0.13829642484272495, 0.07500823042317285, 0.06563220162027625, 0.12188837443765589, 0.31409696489703637, 0.053912165616655496, 0.898756859784382, 0.1822545831168887, 0.23796030287354572, 0.10293448215904014, 0.14047529329939595, 0.006054969538767067, 0.007871460400397186, 0.062366186249300785, 0.14834675369979314, 0.004238478677136947, 0.041173792863616054, 0.013320932985287547, 0.02906385378608192, 0.0012109939077534133, 0.023008884247314853, 0.20013507572384504, 0.7922013414068866, 0.9600555220618092, 0.46191069721198913, 0.05234987901735877, 0.006158809296159856, 0.17244666029247596, 0.02771464183271935, 0.058508688313518624, 0.13857320916359675, 0.08006452085007812, 0.9915959836222085, 0.031700032195560064, 0.958925973915692, 0.7772155021580482, 0.05991207144407341, 0.1428041154968325, 0.01887640607142039, 0.99096346347636, 0.003948061607475538, 0.9820798480605246, 0.9659013098523503, 0.8847325007645747, 0.9747946879195637, 0.9463681073882275, 0.06685555302867605, 0.9248351502300186, 0.9553733849821366, 0.07870755499306048, 0.5206807484156308, 0.12108854614316997, 0.2724492288221324, 0.8380935545237811, 0.9562353507714181, 0.9589111277729838, 0.18899099136007588, 0.013661999375427171, 0.22542298969454833, 0.06603299698123133, 0.3643199833447246, 0.08424899614846755, 0.01821599916723623, 0.006830999687713586, 0.0318779985426634, 0.28536597491527693, 0.03722164890199264, 0.1042206169255794, 0.30273607773620687, 0.0521103084627897, 0.009925773040531372, 0.10670206018571225, 0.012407216300664214, 0.0868505141046495, 0.9495279179373717, 0.9896930965033284, 0.34584099167054705, 0.0009125092128510476, 0.08121331994374324, 0.0401504053654461, 0.047450479068254475, 0.02737527638553143, 0.30569058630510093, 0.14417645563046552, 0.0036500368514041904, 0.0027375276385531427, 0.98709076597841, 0.041630417410885016, 0.08623443606540468, 0.11894404974538576, 0.6958226910105068, 0.05947202487269288, 0.8820913755808013, 0.10532434335293149, 0.9913331201596232, 0.9503530673868157, 0.9867647794408988, 0.9870569355885112, 0.1187389052203953, 0.8707519716162323, 0.9456185184658116, 0.8711945449470633, 0.8014228852363943, 0.9687438604719222, 0.7680045490666176, 0.21573161490635326, 0.012943896894381196, 0.9540289399588116, 0.9973366808680785, 0.9939334694681812, 0.983679317949397, 0.0149454040019936, 0.3387061040567409, 0.6491866994420867, 0.9968737523687458, 0.994946984167958, 0.9034788115752456, 0.08723243697967888, 0.16760715667461099, 0.16182759954790027, 0.11848092109756983, 0.04045689988697507, 0.03178756419690898, 0.45080545588343646, 0.026008007070198257, 0.5879680491823391, 0.201729623568836, 0.2091099756506227, 0.9894149139701518, 0.9888185309910311, 0.8249388577258829, 0.7659921317259925, 0.21885489477885497, 0.03616078966880298, 0.9618770051901593, 0.4172934905009958, 0.5365202020727089, 0.05479476078307917, 0.027397380391539584, 0.9143875705676335, 0.9943295785264857, 0.451312922605397, 0.03684187123309363, 0.2118407595902884, 0.018420935616546816, 0.06447327465791386, 0.202630291782015, 0.16246060494681383, 0.09120595365435162, 0.1966628375671957, 0.028501860516984882, 0.3477226983072156, 0.13395874442982894, 0.025651674465286396, 0.011400744206793953, 0.030691620665929124, 0.9207486199778737, 0.988476797215596, 0.4986417538812956, 0.008697239893278412, 0.4870454340235911, 0.9886113096846182, 0.9661955408494933, 0.9913089792913422, 0.9905255549750951, 0.23172620338412966, 0.44919233271385134, 0.1319056850032738, 0.14973077757128378, 0.035650185136019946, 0.5601165544976209, 0.3016012216525651, 0.0861717776150186, 0.09905047468163979, 0.13854528420659742, 0.010030427815862256, 0.45199615345229294, 0.003761410430948346, 0.016926346939267558, 0.21126588587159878, 0.06519778080310466, 0.0031345086924569553, 0.7979010784891403, 0.04124933925633258, 0.295391101674515, 0.07333215867792459, 0.24016281967020303, 0.02749955950422172, 0.005729074896712858, 0.08181118952505961, 0.17301806188072832, 0.043770132210886235, 0.002062466962816629, 0.006645726880186916, 0.00847903084713503, 0.000687488987605543, 0.035896857197358474, 0.12880636994346278, 0.09290951274610429, 0.5595686563117644, 0.012669479010832404, 0.01055789917569367, 0.03800843703249721, 0.06545897488930075, 0.03378527736221974, 0.004223159670277468, 0.01689263868110987, 0.8994161343605295, 0.9854748817640105, 0.00363692000568363, 0.1709352402671306, 0.06546456010230534, 0.6146394809605334, 0.0854676201335653, 0.04727996007388719, 0.00727384001136726, 0.00727384001136726, 0.9866839066380123, 0.9508863877198989, 0.26182048546352843, 0.005950465578716556, 0.6188484201865218, 0.10710838041689799, 0.03148647130036948, 0.9445941390110845, 0.9358392891935832, 0.9912331437174758, 0.23382894129143375, 0.0926492031532096, 0.07147224243247598, 0.06970749570574818, 0.0935315765165735, 0.11117904378385152, 0.014117973813822415, 0.04323629480483115, 0.04411866816819505, 0.01588272054055022, 0.04764816162165065, 0.020294587357369723, 0.014117973813822415, 0.058236641982017466, 0.07058986906911208, 0.98957718157466, 0.1759917908957909, 0.8045339012379012, 0.010056673765473765, 0.003515804422878129, 0.43156499290829037, 0.02373167985442737, 0.0043947555285976615, 0.011426364374353919, 0.0008789511057195323, 0.03252119091162269, 0.043068604180257083, 0.06152657740036726, 0.06592133292896492, 0.005273706634317194, 0.2830222560416894, 0.007031608845756258, 0.0272474842773055, 0.30156941971950585, 0.16313567585509106, 0.08388364405167142, 0.3437685535369111, 0.1070417052929304, 0.4766853716006606, 0.4766853716006606, 0.9843407427801543, 0.9677949559017084, 0.9270903477293952, 0.6881170906187997, 0.9822590843936132, 0.9918314328011023, 0.46606355528352444, 0.08105453135365644, 0.03602423615718064, 0.060790898515242324, 0.08105453135365644, 0.24991813834044066, 0.024766662358061686, 0.927491142436874, 0.9611879219749058, 0.9632136818936958, 0.5793550141998286, 0.1230962154881853, 0.07091412413993284, 0.08161814287803591, 0.05352009369051535, 0.06690011711314418, 0.0026760046845257673, 0.005352009369051535, 0.01070401873810307, 0.006690011711314419, 0.3952225143903176, 0.004222462760580316, 0.07262635948198143, 0.034624194636758594, 0.0709373743777493, 0.02617926911559796, 0.21027864547689973, 0.15960909234993595, 0.0008444925521160632, 0.01857883614655339, 0.005911447864812442, 0.9615385600819997, 0.05059409367181868, 0.7715599284952348, 0.17707932785136538, 0.025143769492168143, 0.9554632407023894, 0.9887057343363908, 0.9896329612289101, 0.5958291642057976, 0.05823894086222082, 0.06943873718187867, 0.01119979631965785, 0.23295576344888327, 0.031359429695041977, 0.873068649309579, 0.13451827857364004, 0.0709957581360878, 0.24661684405167342, 0.03736618849267779, 0.026156331944874454, 0.4596041184599368, 0.026156331944874454, 0.038178513912350616, 0.5726777086852592, 0.38655745336255, 0.09546489525382058, 0.15819896927775984, 0.06818921089558613, 0.15274383240611294, 0.008182705307470336, 0.07364434776723303, 0.0900097583821737, 0.26730170671069764, 0.08182705307470337, 0.9451992424109488, 0.1266610251341577, 0.1266610251341577, 0.41266979156612665, 0.036772555684110295, 0.29418044547288236, 0.9834356793004194, 0.144232963202418, 0.01966813134578427, 0.8260615165229395, 0.021120162961666564, 0.3009623222037485, 0.4097311614563313, 0.06969653777349966, 0.012672097776999937, 0.05808044814458305, 0.06230448073691636, 0.030624236294416515, 0.0337922607386665, 0.2036713799209219, 0.13320687407150344, 0.053089696187918034, 0.0019305344068333832, 0.506765281793763, 0.036680153729834276, 0.04343702415375112, 0.0009652672034166916, 0.006756870423916841, 0.013513740847833682, 0.029688006003580902, 0.9500161921145889, 0.9698565322636934, 0.07988279682333123, 0.18639319258777284, 0.718945171409981, 0.7409996593364346, 0.10814171074834565, 0.07052720266196455, 0.37379417410841215, 0.018807254043190547, 0.4278650294825849, 0.039324047940017, 0.2936195579521269, 0.38275406661616546, 0.009175611186003966, 0.22283627166009634, 0.0117972143820051, 0.010486412784004534, 0.028837635156012467, 0.08287459748679951, 0.9116205723547945, 0.9696637361889989, 0.9332969504115816, 0.059391624117100646, 0.9879067982506609, 0.9625074101756216, 0.9848504144627365, 0.008766511841800514, 0.09643163025980565, 0.12857550701307421, 0.07305426534833762, 0.005844341227867009, 0.07305426534833762, 0.03798821798113556, 0.055521241664736584, 0.3272831087605525, 0.09058728903193865, 0.09643163025980565, 0.009337366474137012, 0.03423701040516905, 0.0684740208103381, 0.04357437687930606, 0.062249109827580085, 0.04357437687930606, 0.09959857572412814, 0.6256035537671799, 0.009337366474137012, 0.9496688092545581, 0.9724695835985596, 0.05297927542810314, 0.1614606489237429, 0.2371453281067474, 0.05550209806753662, 0.4288798487036921, 0.05802492070697011, 0.06863982973652762, 0.892317786574859, 0.9384903626143132, 0.7754623127495033, 0.012154581704537669, 0.15071681313626709, 0.038894661454520536, 0.019447330727260268, 0.4740463547431194, 0.14381181548386768, 0.15268908804460024, 0.03373363573078378, 0.005326363536439544, 0.0017754545121465145, 0.13670999743528162, 0.010652727072879087, 0.01952999963361166, 0.01952999963361166, 0.26669724738597733, 0.1600183484315864, 0.5333944947719547, 0.039251250239482, 0.0883153130388345, 0.11953789845660427, 0.0686896879190935, 0.04638784119211509, 0.19001173411385605, 0.12042997232568341, 0.09277568238423017, 0.1427318190526618, 0.002676221607237409, 0.034790880894086315, 0.05530857988290645, 0.27101752032798176, 0.7240039471618942, 0.9903440161231609, 0.98755035252878, 0.10472626231150961, 0.8826927823398667, 0.9763634720735934, 0.972919160425135, 0.19175624391765272, 0.7670249756706109, 0.7801586922958634, 0.15706402669847266, 0.8301955696919269, 0.9800816559362627, 0.8732958213771482, 0.2394480414604819, 0.748275129564006, 0.9532461473841009, 0.9700295380094127, 0.9787774837510073, 0.9760595589981848, 0.9485763917637658, 0.04772711405100709, 0.6751091308750539, 0.00302739520571773, 0.00302739520571773, 0.037337874203852005, 0.08577619749533569, 0.02623742511622033, 0.13320538905158014, 0.017155239499067138, 0.013118712558110165, 0.005045658676196217, 0.017108508380853694, 0.9580764693278069, 0.9408733816071687, 0.8787314645944091, 0.3062878922623865, 0.1185630550693109, 0.011526963687294115, 0.029640763767327726, 0.20748534637129407, 0.12350318236386552, 0.19101825538944534, 0.008233545490924367, 0.003293418196369747, 0.9571382688386545, 0.9971018300833839, 0.14508931072278922, 0.07077527352331181, 0.18401571116061072, 0.4352679321683676, 0.0035387636761655904, 0.04600392779015268, 0.04954269146631827, 0.06015898249481504, 0.04288988079207098, 0.3094198542856549, 0.009190688741158066, 0.5744180463223791, 0.03982631787835162, 0.022976721852895166, 0.9108686115560891, 0.08712656284449548, 0.7794856980069812, 0.21711702090605414, 0.02548966354222047, 0.7901795698088345, 0.1529379812533228, 0.11049941915048932, 0.8655787833454996, 0.06072885776860604, 0.9109328665290906, 0.8475937774915788, 0.5144136357977173, 0.23604423161604113, 0.006511565010097686, 0.013023130020195372, 0.017906803777768637, 0.017906803777768637, 0.016278912525244216, 0.0748829976161234, 0.026046260040390744, 0.003255782505048843, 0.0602319763434036, 0.014651021272719795, 0.12440473067962757, 0.4354165573786965, 0.37321419203888273, 0.9782613927369365, 0.16730476694507934, 0.004920728439561157, 0.034445099076928096, 0.629853240263828, 0.1623840385055182, 0.3851589860732953, 0.009628974651832382, 0.02118374423403124, 0.32545934323193454, 0.0327385138162301, 0.030812718885863625, 0.04621907832879543, 0.15021200456858516, 0.21729547847956432, 0.03430981239151015, 0.07548158726132234, 0.020585887434906094, 0.020585887434906094, 0.03430981239151015, 0.17383638278365146, 0.029735170739308803, 0.2859151032625846, 0.08234354973962438, 0.025160529087107447, 0.9517015417827562, 0.09975354818447288, 0.04987677409223644, 0.8354359660449604, 0.928538995150932, 0.9511616437178056, 0.9880564858801494, 0.1497795155131547, 0.8451844089670871, 0.9675358893383768, 0.891137120265004, 0.8311704146793951, 0.9438103560130929, 0.9319931878673274, 0.6386986453676597, 0.06386986453676596, 0.19160959361029792, 0.1971412078888241, 0.1971412078888241, 0.5632605939680689, 0.7687495714703362, 0.74174976535604, 0.013968915307361225, 0.9778240715152857, 0.9747300196071276, 0.8820353926047109, 0.9856475825994886, 0.9930223568143556, 0.5375555743146522, 0.2086036557041934, 0.1043018278520967, 0.1444179154875185, 0.886084336192229, 0.9914225470946557, 0.21831924250439647, 0.7732139838697375, 0.9970350720797435, 0.9756609632383569, 0.03291714613335948, 0.9545972378674248, 0.08344062736588918, 0.9085757202063489, 0.9827497368181882, 0.09527757228771523, 0.07939797690642936, 0.047638786143857616, 0.7622205783017219, 0.9915094435927662, 0.48830638937970716, 0.9709340945889215, 0.015655118484756647, 0.9784449052972903, 0.3524746416751914, 0.17884548414808865, 0.10060058483329987, 0.03725947586418513, 0.03353352827776662, 0.014158600828390351, 0.02161049600122738, 0.08718717352219321, 0.012668221793822945, 0.09836501628144875, 0.028317201656780703, 0.017884548414808864, 0.01639416938024146, 0.18974677296344983, 0.6430307305983577, 0.06456661024450723, 0.05929586655107807, 0.03689520585400413, 0.002635371846714581, 0.002635371846714581, 0.04603544834753778, 0.9133432952151496, 0.03866977661193174, 0.14852086665439676, 0.7426043332719838, 0.10396460665807773, 0.9674057026288551, 0.940327765746659, 0.12134786037228376, 0.10734618417548178, 0.7700921908241085, 0.839812927074589, 0.21508945276154814, 0.6452683582846445, 0.9609499675802913, 0.9406346889390704, 0.9093896172376242, 0.15615330014037646, 0.13693443243079165, 0.6414297098073924, 0.045644810810263885, 0.016816509245886693, 0.8762368779093623, 0.09388252263314596, 0.18142987386043144, 0.027064124830009112, 0.02505937484260103, 0.0030071249811121233, 0.006014249962224247, 0.6735959957691157, 0.08319712447743541, 0.06979813112337115, 0.05428743531817756, 0.868598965090841, 0.9894366087707102, 0.8948917935297199, 0.9908275613494174, 0.9693025362830385, 0.968897194267064, 0.4372968928095136, 0.020434434243435214, 0.13078037915798538, 0.11851971861192424, 0.17573613449354286, 0.11443283176323721, 0.28681075297789094, 0.12941460805099955, 0.41622536102889046, 0.10143307117510776, 0.03147922898537827, 0.03147922898537827, 0.9695933799536739, 0.942928289215851, 0.10009041188924964, 0.272339027698656, 0.00698305199227323, 0.10707346388152288, 0.5120904794333703, 0.9515080489366642, 0.8579357156420268, 0.030280084081483295, 0.10093361360494432, 0.010569965762256528, 0.8244573294560091, 0.13740955490933485, 0.021139931524513055, 0.46585166414943757, 0.051761296016604175, 0.27606024542188895, 0.17253765338868057, 0.020051370175685698, 0.9624657684329134, 0.07921686220833395, 0.8977911050277847, 0.08782834487408783, 0.01665709988991321, 0.6344840776248759, 0.16354243528278423, 0.004542845424521784, 0.001514281808173928, 0.034828481588000344, 0.05602842690243534, 0.6971276219973002, 0.16900063563570913, 0.08450031781785457, 0.042250158908927284, 0.8309918755246458, 0.03462466148019357, 0.10387398444058073, 0.057410211651376074, 0.4765047567064214, 0.10525205469418947, 0.09759735980733933, 0.017223063495412822, 0.0267914321039755, 0.09759735980733933, 0.024877758382262964, 0.0267914321039755, 0.03061877954740057, 0.034446126990825644, 0.9566707521341982, 0.9562594155094731, 0.10000024532413482, 0.15555593717087637, 0.3316247451774727, 0.11282078959645979, 0.018803464932743298, 0.01965816788423163, 0.035897523962509933, 0.00512821770892999, 0.013675247223813308, 0.043589850525904916, 0.16324826373427137, 0.18668774848572586, 0.11642891841045269, 0.03613311261014049, 0.07628101551029659, 0.04817748348018732, 0.18668774848572586, 0.008029580580031219, 0.0421552980451639, 0.006022185435023415, 0.24690960283596, 0.038140507755148295, 0.008029580580031219, 0.10146050196446187, 0.2621062967415265, 0.2959264640630138, 0.16910083660743647, 0.059185292812602756, 0.008455041830371823, 0.10146050196446187, 0.23828269050125078, 0.24502654023241827, 0.0753063219980368, 0.001123974955194579, 0.002247949910389158, 0.08429812163959344, 0.04383502325258859, 0.03821514847661569, 0.0033719248655837376, 0.13150506975776577, 0.08317414668439886, 0.016859624327918685, 0.012363724507140371, 0.01348769946233495, 0.011239749551945791, 0.00981338986302221, 0.49691437760939733, 0.04192993850564035, 0.017842527023676745, 0.3051072121048723, 0.024087411481963604, 0.027655916886698953, 0.017842527023676745, 0.0053527581071030235, 0.0454984439103757, 0.008029137160654535, 0.05662035427267002, 0.42631796158245666, 0.06161626788496444, 0.008326522687157356, 0.2664487259890354, 0.024979568061472068, 0.018318349911746183, 0.03830200436092384, 0.0982529677084568, 0.18559322154953123, 0.7255007751481676, 0.08436055524978692, 0.9935082540602441, 0.938691763356923, 0.9672436963309752, 0.9796113355182141, 0.9777975965735621, 0.9925155156883562, 0.8952010655563472, 0.07674655617046819, 0.8442121178751502, 0.9814978960712414, 0.9871401626220528, 0.9870585450415372, 0.13757936624713493, 0.7566865143592422, 0.006336070204209645, 0.2661149485768051, 0.10771319347156397, 0.13305747428840256, 0.019008210612628935, 0.39917242286520765, 0.06336070204209646, 0.027359696086446603, 0.07903912202751241, 0.7113520982476117, 0.06991922333203021, 0.0638392908683754, 0.04255952724558361, 0.969132599330699, 0.9850703055981967, 0.41646463001464723, 0.9628822456129423, 0.31299351735721337, 0.2560856051104473, 0.4268093418507455, 0.03405406393937538, 0.5940542264979927, 0.2459460173399333, 0.007567569764305639, 0.11729733134673742, 0.9955042246266496, 0.4489824880955, 0.25656142176885716, 0.2886315994899643, 0.9869671319706956, 0.9919442947285018, 0.4368167272280803, 0.6881170906187997, 0.9451154548862576, 0.8284037417944806, 0.1598673887673559, 0.11289756823724499, 0.019275194577090607, 0.11289756823724499, 0.3827502923165135, 0.18173754886971144, 0.005507198450597317, 0.013767996126493291, 0.16521595351791948, 0.005507198450597317, 0.9556472427347701, 0.1166323841847012, 0.12829562260317132, 0.04665295367388048, 0.39946591583260166, 0.03207390565079283, 0.12829562260317132, 0.13704305141702391, 0.01166323841847012, 0.09482614047216222, 0.5086129352597791, 0.14039194823151288, 0.006157541589101443, 0.09113161551870134, 0.15886457299881723, 0.771207135035133, 0.22571916147369747, 0.9692633157611846, 0.9564165116958856, 0.9816733754681572, 0.72738855661129, 0.08890304580804656, 0.09698514088150534, 0.08082095073458778, 0.9864732762341267, 0.9062146851726308, 0.053536895414419666, 0.9422493592937862, 0.9962643751625829, 0.8007686113427367, 0.13727461908732627, 0.061010941816589455, 0.9404239656404565, 0.11648265014995966, 0.08988424972201611, 0.08713269105705644, 0.15592165768104835, 0.0009171862216532257, 0.14032949191294353, 0.016509351989758062, 0.04219056619604838, 0.0321015177578629, 0.015592165768104837, 0.1329920021397177, 0.02292965554133064, 0.12748888480979836, 0.018343724433064514, 0.9128157655008571, 0.8113615463454384, 0.9889669060429327, 0.9857715491773946, 0.9857401253249023, 0.8014228852363943, 0.9178179323252504, 0.14202491768319028, 0.30599537658273357, 0.08736809805000918, 0.20951780859386088, 0.0012422004462086613, 0.003726601338625984, 0.05341461918697244, 0.0964775679888727, 0.007453202677251968, 0.06335222275664174, 0.00041406681540288713, 0.008281336308057743, 0.0012422004462086613, 0.014078271723698162, 0.004968801784834645, 0.8639216826213539, 0.9594536417949386, 0.09764048405363107, 0.8909694169893835, 0.267188947776751, 0.7315887855791993, 0.060118581476917045, 0.3005929073845852, 0.6252332473599372, 0.9645241812429024, 0.40042339633842033, 0.5460319040978459, 0.10100691361626891, 0.24830866263999443, 0.5092431894820225, 0.016834485602711488, 0.09258967081491318, 0.0294603498047451, 0.023237574582484617, 0.02904696822810577, 0.8975513182484683, 0.008714090468431732, 0.040665755519348076, 0.03991477405322255, 0.0798295481064451, 0.8714725668286923, 0.05410926640710323, 0.05980497866048252, 0.02563070514020679, 0.6578547652653076, 0.0911313960540686, 0.037022129646965364, 0.07404425929393073, 0.9819538628587885, 0.03587408551899705, 0.9327262234939233, 0.6992873470777696, 0.9702602539728776, 0.9683134379187202, 0.9176341220938988, 0.00496205548025077, 0.07939288768401231, 0.5210158254263308, 0.024810277401253848, 0.2629889404532908, 0.10916522056551693, 0.12607970157993284, 0.4863074203797409, 0.3782391047397985, 0.04321619667697364, 0.5909814895576145, 0.2290458423879603, 0.016206073753865118, 0.11992494577860185, 0.001080404916924341, 0.0023454122345767173, 0.5171633977241662, 0.14658826466104483, 0.11648880765064364, 0.20014184401721322, 0.004299922430057316, 0.009381648938306869, 0.0035181183518650763, 0.9855933370847996, 0.07759725788879965, 0.9053013420359959, 0.9513293679555686, 0.22680274319368549, 0.010125122464003817, 0.17415210638086565, 0.14985181246725648, 0.17010205739526413, 0.004050048985601526, 0.26325318406409925, 0.33378913538025085, 0.18866342434535918, 0.4498897042081642, 0.029025142206978334, 0.9902934335919406, 0.9303433477907351, 0.8488467915219, 0.023066488900051633, 0.12917233784028914, 0.9602306289982858, 0.9712738156812507, 0.9668363667095354, 0.9759721099655962, 0.9768868739543962, 0.9351923559633757, 0.012066998141462911, 0.012066998141462911, 0.006033499070731456, 0.03016749535365728, 0.8050877450654019, 0.1694921568558741, 0.005246656417020119, 0.11017978475742249, 0.17313966176166393, 0.13116641042550298, 0.49318570319989113, 0.04197325133616095, 0.005246656417020119, 0.03672659491914083, 0.9687438599125145, 0.9662328939956554, 0.9980466226506786, 0.9464555720830551, 0.9470645908400435, 0.047751155840674464, 0.485598955947899, 0.5012634383978312, 0.004637429269696887, 0.034780719522726655, 0.13448544882120972, 0.03362136220530243, 0.6851801745977151, 0.047533650014393095, 0.004637429269696887, 0.011593573174242217, 0.015071645126514883, 0.023187146348484435, 0.005796786587121109, 0.016415691179904983, 0.7058747207359143, 0.19151639709889146, 0.060190867659651606, 0.02188758823987331, 0.05131803821482758, 0.08381946241755171, 0.12401859235249998, 0.000855300636913793, 0.5106144802375344, 0.010263607642965517, 0.04447563311951724, 0.000855300636913793, 0.1727707286565862, 0.05520029200135533, 0.331201752008132, 0.6072032120149087, 0.04754915978749845, 0.9450395507765317, 0.8562506023956249, 0.12082063714784891, 0.015759213541023772, 0.0069839210458122174, 0.9917167885053348, 0.34254911188270964, 0.12233896852953915, 0.059421784714347586, 0.010486197302531928, 0.13632056493291506, 0.020972394605063855, 0.006990798201687951, 0.2796319280675181, 0.020972394605063855, 0.8297499505055574, 0.99536401042584, 0.9768336945321828, 0.20774647843282543, 0.02100807085275763, 0.6419132760564831, 0.12838265521129663, 0.4537760896105271, 0.056593389860723334, 0.010289707247404243, 0.09260736522663818, 0.02675323884325103, 0.08231765797923395, 0.04424574116383824, 0.013376619421625515, 0.010289707247404243, 0.16257737450898704, 0.004115882898961697, 0.03292706319169358, 0.009260736522663819, 0.7401467763491394, 0.9680727550780475, 0.20308746696959615, 0.48740992072703077, 0.060926240090878846, 0.24370496036351538, 0.4333449211659246, 0.3069526524925299, 0.014869678667458197, 0.03186359714455328, 0.022304518001187296, 0.0074348393337290986, 0.03929843647828238, 0.006372719428910656, 0.10514987057702582, 0.021242398096368853, 0.010621199048184427, 0.9375510321227819, 0.1495732967440113, 0.009348331046500706, 0.17761828988351339, 0.6450348422085487, 0.01869666209300141, 0.13508510080208885, 0.8442818800130554, 0.22505529132734978, 0.06137871581654994, 0.10911771700719988, 0.5114892984712495, 0.05114892984712495, 0.013639714625899985, 0.02727942925179997, 0.2081623837528947, 0.03528175995811775, 0.39868388752673056, 0.3387048955979304, 0.02116905597487065, 0.045037160478790916, 0.9232617898152138, 0.08552342000770995, 0.03801040889231553, 0.028507806669236645, 0.04751301111539441, 0.07126951667309162, 0.6081665422770485, 0.019005204446157765, 0.052264312226933854, 0.014253903334618323, 0.033259107780776086, 0.9879483474024251, 0.3485115591911794, 0.1507606183018023, 0.005873790323446843, 0.050906182803205975, 0.029368951617234216, 0.005873790323446843, 0.10377029571422756, 0.29760537638797335, 0.005873790323446843, 0.9591525261524176, 0.325799962227356, 0.651599924454712, 0.662722607191983, 0.013749431684480975, 0.02658223458999655, 0.2575726868892769, 0.03849840871654673, 0.8223841882612681, 0.990117525946267, 0.33870166386854406, 0.15241574874084482, 0.4911174126093889, 0.45643161209590305, 0.1421672234397075, 0.03242410359151224, 0.11847268619975625, 0.008729566351560986, 0.014964970888390263, 0.056118640831463486, 0.08854274442297573, 0.01870621361048783, 0.04489491266517079, 0.01621205179575612, 0.7474115981665569, 0.20899186868164385, 0.024795645436805205, 0.014168940249602973, 0.9673016881017095, 0.9605144188604038, 0.18582236174848443, 0.7897450374310588, 0.3610993616663735, 0.6319238829161536, 0.2820594836144995, 0.10041908317165427, 0.035442029354701504, 0.07088405870940301, 0.10927959051032964, 0.039872283024039196, 0.04134903424715176, 0.3027340007380754, 0.017721014677350752, 0.9962324355399901, 0.9887346589858739, 0.6876545787142253, 0.009967569094938214, 0.1428684903607811, 0.2691243655633318, 0.03987027637975286, 0.11628830610761251, 0.42196042501905107, 0.9572097285170121, 0.9826287218157557, 0.8618496153751255, 0.9516078403851016, 0.4187296458149809, 0.2994962378973548, 0.03616558344420888, 0.01073665758499951, 0.15144338067262467, 0.052553113442366024, 0.0016952617239472912, 0.008476308619736457, 0.01638752999815715, 0.003955610689210346, 0.3538691667015681, 0.02633977616225264, 0.014887699569968884, 0.05611517530219041, 0.06756725189447416, 0.09505223571595518, 0.29660878374014926, 0.014887699569968884, 0.07558370550907278, 0.4733862968717324, 0.14674975203023705, 0.09152135072853493, 0.03155908645811549, 0.03155908645811549, 0.003155908645811549, 0.045760675364267464, 0.06154021859332521, 0.05365044697879633, 0.022091360520680843, 0.039448858072644366, 0.4857374950598265, 0.07919633071627606, 0.1267141291460417, 0.0897558414784462, 0.05807730919193577, 0.15839266143255212, 0.9804238096704629, 0.9835115668671328, 0.08066579220580095, 0.06338026530455788, 0.0864276345062153, 0.7605631836546947, 0.9495279179373717, 0.7827485128010153, 0.07245482954953826, 0.43472897729722954, 0.025876724839120804, 0.1345589691634282, 0.07763017451736241, 0.24841655845555974, 0.9269040011157783, 0.9854240985375058, 0.9579229153613296, 0.7971468564223013, 0.01781333757368271, 0.138053366196041, 0.04453334393420678, 0.9639738660836971, 0.14296555545365996, 0.04765518515121999, 0.21444833318048995, 0.5718622218146399, 0.9831436116349943, 0.09051773048728656, 0.882547872251044, 0.9621533642277194, 0.06501327786582202, 0.35076931313652815, 0.3560610915674671, 0.015875335292817008, 0.21242710558483707, 0.051543740134642135, 0.048966553127910026, 0.048966553127910026, 0.08762435822889163, 0.5772898895079919, 0.03092624408078528, 0.0386578051009816, 0.11081904128948059, 0.8586399410377328, 0.003291766767367861, 0.24194485740153776, 0.7521687063435561, 0.7722567223010316, 0.6866041358214, 0.0762893484246, 0.0762893484246, 0.047680842765375, 0.104897854083825, 0.93339181974566, 0.9381682004519943, 0.15921513212815244, 0.7960756606407623, 0.0805890011793585, 0.06534243338866905, 0.226520435747386, 0.3484929780729016, 0.015246567790689444, 0.02178081112955635, 0.03702737892024579, 0.0500958655979796, 0.0631643522757134, 0.02395889224251198, 0.03267121669433452, 0.03484929780729016, 0.564791247889566, 0.35999807020555, 0.0019320111102265655, 0.04636826664543757, 0.02382813702612764, 0.0032200185170442757, 0.6452117155614887, 0.35389538913740515, 0.13549875949863646, 0.5950162917114036, 0.1001512570207313, 0.01767375123895258, 0.08836875619476292, 0.05891250412984194, 0.28521164117351894, 0.33084550376128197, 0.03707751335255746, 0.04563386258776303, 0.11978888929287795, 0.014260582058675947, 0.019964814882146326, 0.0028521164117351894, 0.022816931293881515, 0.03422539694082227, 0.08271137594032049, 0.9890434077056839, 0.9497284843920056, 0.21687863559389373, 0.11530256575877895, 0.01372649592366416, 0.6478906075969484, 0.005490598369465664, 0.5763980571188368, 0.41171289794202637, 0.13706875172275726, 0.8540437607341028, 0.010543750132519788, 0.9745342709912431, 0.03726919041670084, 0.15735880398162577, 0.7992170833803626, 0.963587552565771, 0.9740452206744566, 0.44534692305465795, 0.8320366555719657, 0.16388600791569022, 0.876286684213683, 0.1010371406409501, 0.8981079168084453, 0.9514938993719935, 0.9708035424132422, 0.8511842930344724, 0.015511331080354851, 0.10082365202230653, 0.031022662160709702, 0.9902888968832191, 0.006112894425205056, 0.16918792701536936, 0.036151266456275505, 0.01590655724076122, 0.03181311448152244, 0.2747496250676938, 0.01301445592425918, 0.09977749541932038, 0.0650722796212959, 0.26462727045993667, 0.017352607899012242, 0.01156840526600816, 0.9970432201147389, 0.4443555368886549, 0.02361309616316524, 0.055812772749299654, 0.03434632169187671, 0.43791560157142806, 0.9926642733409197, 0.1060693949072107, 0.09821240269186177, 0.5421324628590769, 0.04124920913058194, 0.01767823248453512, 0.07071292993814048, 0.10410514685337348, 0.01767823248453512, 0.1991988333935679, 0.7967953335742716, 0.9928203323480131, 0.015962102758017693, 0.9417640627230438, 0.031924205516035385, 0.17030672981137454, 0.08515336490568727, 0.7238036016983418, 0.13881886168121407, 0.025239793032948012, 0.07571937909884403, 0.06309948258237004, 0.6814744118895963, 0.061185406197926354, 0.09177810929688952, 0.7954102805730425, 0.020757732762356196, 0.07116936947093552, 0.14233873894187105, 0.7650707218125569, 0.04432611244061623, 0.027439974368000525, 0.09287375939938639, 0.12242450102646388, 0.17097214798523402, 0.24484900205292776, 0.11398143199015602, 0.05487994873600105, 0.023218439849846596, 0.10131682843569424, 0.004221534518153927, 0.9418233900542711, 0.8939370534449068, 0.05562274999212754, 0.035757482137796275, 0.013243511902887509, 0.08545572224309879, 0.3325844325136818, 0.44575552413292074, 0.025405755261461802, 0.011548070573391729, 0.09931340693116887, 0.13200755675937, 0.86152300200852, 0.8474048339907354, 0.05596069658429385, 0.007994385226327692, 0.010659180301770257, 0.07461426211239179, 0.9756287517768917, 0.2745781792357101, 0.10560699201373465, 0.612520553679661, 0.45695982884414116, 0.11920691187238465, 0.06953736525889105, 0.07947127458158977, 0.2781494610355642, 0.9775754778373573, 0.9706238017094522, 0.028489410435545936, 0.5403797850355164, 0.02205631775655169, 0.0578978341109482, 0.0027570397195689615, 0.120390734421178, 0.058816847350804516, 0.08914428426606309, 0.022975330996408014, 0.05605980763123555, 0.0009190132398563206, 0.8436637457213967, 0.03576438320072245, 0.003326919367509065, 0.7610328053176987, 0.02495189525631799, 0.041586492093863316, 0.04491341146137238, 0.012475947628158995, 0.0740239559270767, 0.0016634596837545325, 0.9823450676921593, 0.8905394317561609, 0.9699495272708818, 0.18692247401584985, 0.18692247401584985, 0.5804434719439548, 0.03935209979281049, 0.8547726353126958, 0.09250656654323303, 0.8918581800065544, 0.011859816223491413, 0.9816400864844027, 0.9958258756829802, 0.005512406312830871, 0.5719121549562028, 0.05994741865203572, 0.004823355523727012, 0.23014296356068886, 0.0034452539455192945, 0.0468554536590624, 0.004823355523727012, 0.032385387087881363, 0.03996494576802381, 0.8992197684339799, 0.450867231585304, 0.338150423688978, 0.1972544138185705, 0.9662184295527148, 0.22483322276972967, 0.00661274184616852, 0.039676451077011114, 0.07604653123093798, 0.29757338307758335, 0.02314459646158982, 0.3273307213853417, 0.12434749820268319, 0.4298870652149905, 0.08171407024747752, 0.36238413761924815, 0.9279547315030069, 0.551978726285599, 0.013142350625847593, 0.3482722915849612, 0.03942705187754278, 0.03942705187754278, 0.5165447947257464, 0.04726553677229053, 0.03038498792504391, 0.13166828100852362, 0.2160710252447567, 0.02025665861669594, 0.035449152579217894, 0.9633479505812147, 0.9895483307568466, 0.79400974451708, 0.17865219251634298, 0.769308194835499, 0.21303919241598435, 0.9413549657282956, 0.9501410246472405, 0.05265935825109191, 0.9235641293268427, 0.020253599327343042, 0.4340318240481025, 0.12964586952086177, 0.19446880428129265, 0.2395630197668098, 0.8661515476374795, 0.11634871535428828, 0.05540671678695544, 0.16622015036086632, 0.7756940350173762, 0.06850206965126575, 0.06850206965126575, 0.1737613474080887, 0.13867492148914773, 0.02840329717247604, 0.4594651013194654, 0.06181894090480079, 0.9599941907857024, 0.65603727819452, 0.34193458136199223, 0.29082378009787746, 0.7040996781317033, 0.9562155320127186, 0.17646782151095713, 0.13235086613321784, 0.6882245038927328, 0.24488086229841055, 0.00874574508208609, 0.7433883319773178, 0.9763928406019441, 0.8419447190504418, 0.15688410913983386, 0.9447275200953816, 0.03704902620297747, 0.1185568838495279, 0.03704902620297747, 0.014819610481190987, 0.2000647414960783, 0.12596668909012337, 0.4668177301575161, 0.045081572668970435, 0.12773112256208288, 0.7889275217069825, 0.030054381779313622, 0.046871364152026085, 0.0859308342787145, 0.859308342787145, 0.16951724387113998, 0.8270386746440466, 0.22362480626694395, 0.2764536022428504, 0.11078660126986213, 0.017438631681367188, 0.19131204756323414, 0.05590620156673599, 0.003590306522634421, 0.002051603727219669, 0.027696650317465533, 0.03436436243092946, 0.03641596615814913, 0.019490235408586857, 0.009202636818112998, 0.11963427863546897, 0.16564746272603395, 0.018405273636225995, 0.6625898509041358, 0.9741427955563107, 0.024858872309966515, 0.5131581498271659, 0.028410139782818877, 0.06214718077491629, 0.1136405591312755, 0.012429436154983257, 0.05682027956563775, 0.012429436154983257, 0.15625576880550382, 0.021307604837114157, 0.7861168898574681, 0.8720876342492947, 0.9105979659102909, 0.9927180657513712, 0.9789407496256397, 0.9896378717621392, 0.014271055847147914, 0.8491278229053009, 0.13557503054790518, 0.5767232813535614, 0.12410500991152588, 0.07008282912650873, 0.007300294700677994, 0.09782394898908511, 0.1051242436897631, 0.016060648341491585, 0.0029201178802711974, 0.434726038321629, 0.03381202520279336, 0.16422983669928204, 0.009660578629369532, 0.004830289314684766, 0.15939954738459727, 0.019321157258739063, 0.0434726038321629, 0.1255875221818039, 0.07293680856580072, 0.2831099806172528, 0.03454901458380034, 0.4366611565452543, 0.03454901458380034, 0.11420368709645112, 0.023032676389200226, 0.0012352692472399002, 0.0006176346236199501, 0.28318547492974716, 0.07318970289896409, 0.12229165547675012, 0.0904834723603227, 0.04261678902977656, 0.3489635623452718, 0.037366894729006984, 0.9503973793654311, 0.07112849917503301, 0.906888364481671, 0.017782124793758253, 0.9482503039380072, 0.034481829234109355, 0.8982503412068797, 0.9884184726730373, 0.9706456341403772, 0.02041679427804005, 0.1633343542243204, 0.2450015313364806, 0.15312595708530038, 0.2041679427804005, 0.02041679427804005, 0.18375114850236046, 0.08017877190301156, 0.026726257301003857, 0.8819664909331273, 0.8958765680651164, 0.05972510453767443, 0.9750654888737527, 0.9143216733140186, 0.9530942135760034, 0.676466223572588, 0.05462701157043157, 0.9423159495899446, 0.9736575689141074, 0.9833108203895502, 0.9392687486356655, 0.9827269707244175, 0.507183897946779, 0.471798974834213, 0.07001941868774589, 0.9102524429406965, 0.11921574466461414, 0.13366613795729465, 0.7405826562498757, 0.0036125983231701255, 0.9944564855421422, 0.26115770647663394, 0.21656980537086717, 0.0700667017376335, 0.140133403475267, 0.3121153077403674, 0.8778401261777721, 0.1132696937003577, 0.1710502008901599, 0.8210409642727676, 0.17888154438781398, 0.8049669497451629, 0.9878242990954942, 0.021293087984361823, 0.23706304622589497, 0.15614931188532002, 0.30662046697481027, 0.27822968299566114, 0.10632819680058515, 0.7442973776040961, 0.9044905123117771, 0.8100373065994765, 0.020250932664986912, 0.14175652865490837, 0.8014228852363943, 0.9922760294394091, 0.9960488828541678, 0.9815449173257135, 0.9303361024793908, 0.027362826543511496, 0.034203533179389366, 0.010427738501610193, 0.9593519421481378, 0.020855477003220387, 0.19740497160474063, 0.05232420934101559, 0.04043234358169386, 0.19740497160474063, 0.08324306031525207, 0.14508076226372504, 0.021405358366779103, 0.002378373151864345, 0.007135119455593034, 0.02378373151864345, 0.16648612063050414, 0.06183770194847297, 0.0007205823247890019, 0.4395552181212911, 0.12682248916286432, 0.03386736926508309, 0.08286696735073522, 0.028823292991560074, 0.06629357388058817, 0.07133765015411118, 0.12177841288934131, 0.008646987897468022, 0.01945572276930305, 0.3133518243091453, 0.6580388310492051, 0.9544441190978794, 0.037065791032927356, 0.3740921427701538, 0.6191869949299097, 0.9558473967518577, 0.4659129898152132, 0.4544364284538255, 0.1797548539217354, 0.10300559044953378, 0.04443378411548516, 0.09896615552994421, 0.11512389520830246, 0.28427377517616653, 0.08594323435558524, 0.27766275714881383, 0.29749581123087193, 0.04627712619146897, 0.987711867848103, 0.9769191437419483, 0.9509025612381568, 0.3914717031189491, 0.1207524656386808, 0.062323853232867515, 0.05161194095846841, 0.09835483088311904, 0.02921430620290665, 0.0009738102067635549, 0.04674288992465064, 0.038952408270542194, 0.07303576550726662, 0.050638130751704855, 0.03408335723672442, 0.0019476204135271099, 0.9922813558708931, 0.01021425142016042, 0.004642841554618372, 0.8078544305035967, 0.022285639462168185, 0.1448566565040932, 0.009285683109236744, 0.9716988773052837, 0.015423791703258471, 0.9051906512267336, 0.12219730901202897, 0.8553811630842028, 0.6425846781209356, 0.3212923390604678, 0.7560699281187249, 0.2395996251080466, 0.24623666595123858, 0.7387099978537157, 0.10759926657273383, 0.8607941325818707, 0.9661873200312386, 0.9363137922288437, 0.10473270385418865, 0.889529764734909, 0.004189308154167546, 0.9904365178703517, 0.2880027886889145, 0.14896695966667992, 0.5561433160889383, 0.9803293218524193, 0.8362927462998067, 0.5036346609104252, 0.4712911505767282, 0.018482005904969734, 0.047537647147824255, 0.6892958836434517, 0.10695970608260458, 0.14261294144347278, 0.042361539078762216, 0.9460743727590228, 0.696737230003367, 0.9805178555116831, 0.32935981083014865, 0.6678685052944681, 0.9102900845851518, 0.856865603721687, 0.0606274689693438, 0.924568901782493, 0.42226678633727754, 0.023459265907626533, 0.5512927488292235, 0.17771620040676622, 0.06835238477183317, 0.649347655332415, 0.09569333868056643, 0.10631808897703299, 0.5085548589401411, 0.053159044488516494, 0.0008859840748086082, 0.1080900571266502, 0.07265069413430587, 0.0026579522244258246, 0.04961510818928206, 0.05581699671294232, 0.02923747446868407, 0.003543936299234433, 0.008859840748086082, 0.9688226652964066, 0.7399340329968743, 0.901535417355135, 0.926071115806611, 0.9514736263565087, 0.00937412439760107, 0.03749649759040428, 0.009678783800642538, 0.21293324361413585, 0.774302704051403, 0.9680363293638252, 0.058812745633292814, 0.6133329187471965, 0.3192691905807324, 0.22292888618650902, 0.7324806260413868, 0.04263135006669476, 0.2238145878501475, 0.23447242536682117, 0.5009183632836635, 0.31330969659867264, 0.024100745892205587, 0.09640298356882235, 0.5543171555207286, 0.9783262141045986, 0.0012438041271950152, 0.5808565274000721, 0.11691758795633143, 0.004975216508780061, 0.0024876082543900304, 0.1728887736801071, 0.023632278416705288, 0.09577291779401617, 0.048603316429619674, 0.9429043387346216, 0.07496433277724826, 0.10245125479557261, 0.5947170400328362, 0.03748216638862413, 0.10245125479557261, 0.03748216638862413, 0.0024988110925749417, 0.044978599666348956, 0.0049976221851498834, 0.35660112053238363, 0.18287236950378646, 0.015674774528895985, 0.19985337524342378, 0.15805397649970115, 0.04179939874372262, 0.016981005739637317, 0.0065311560537066595, 0.02089969937186131, 0.2610662659670522, 0.2703900611801612, 0.12120933777041709, 0.14918072340974411, 0.19579969947528914, 0.17600223773791582, 0.15243050946944495, 0.36143316678321996, 0.13985892105959383, 0.0047143456536941734, 0.1052870529325032, 0.05814359639556147, 0.03928278580541031, 0.013094261935136768, 0.9296925973947106, 0.17976573309624688, 0.8197317429188858, 0.9933684700872749, 0.14846347181698516, 0.841293006962916, 0.09832306893608216, 0.7988749351056675, 0.02458076723402054, 0.06145191808505134, 0.9915255235815359, 0.9745057548511047, 0.11906734536561946, 0.36931950929778423, 0.17965471137024883, 0.003161079965458924, 0.09114447233739897, 0.020020173114573183, 0.017385939810024082, 0.10378879219923466, 0.02423494640185175, 0.0537383594128017, 0.010536933218196412, 0.005795313270008027, 0.001580539982729462, 0.9482844861306, 0.27493909459788113, 0.18329272973192073, 0.2131774139273426, 0.07969249118779163, 0.1055925508238239, 0.017930810517253117, 0.02789237191572707, 0.007969249118779163, 0.0039846245593895815, 0.08766174030657078, 0.27894705129875635, 0.10276996626796288, 0.06973676282468909, 0.04037391531955684, 0.023857313597919955, 0.31748578864924243, 0.08441818657725522, 0.05138498313398144, 0.02936284750513225, 0.26310406635821554, 0.07489823786839712, 0.10178478479551405, 0.26502453399586673, 0.005761402912953625, 0.09410291424490921, 0.06337543204248988, 0.13059179936028217, 0.011939675469552895, 0.019899459115921492, 0.13133643016508184, 0.2348136175678736, 0.5969837734776448, 0.9898268504110185, 0.9407879226686213, 0.04768971036569048, 0.008670856430125542, 0.9640243307443445, 0.029510948900337074, 0.8919672339664343, 0.06682301445993986, 0.25615488876310283, 0.0570779915178653, 0.08283269500763378, 0.20534155485085687, 0.04802904164308178, 0.0570779915178653, 0.10928347156469331, 0.03410758029726097, 0.02853899575893265, 0.054989772315992176, 0.2021533363589902, 0.783344178391087, 0.9276770960778088, 0.86853705935444, 0.9505394490055165, 0.994562241546928, 0.012760766490870091, 0.9825790197969969, 0.9972972295014205, 0.9907567640667586, 0.951380486205273, 0.07987794324323011, 0.9185963472971462, 0.9358005065018005, 0.9200462044839178, 0.7709182223419668, 0.19092984579897632, 0.11819466644698534, 0.07143633686356257, 0.022080322303282975, 0.023379164791711385, 0.10910276902798646, 0.22469975049811497, 0.07143633686356257, 0.03376990469913867, 0.12209119391227057, 0.012988424884284103, 0.9560916261681881, 0.009590766177264055, 0.9878489162581976, 0.9139233465418543, 0.9899074500535444, 0.9918469675013039, 0.9464934174511052, 0.9705270061864578, 0.02940990927837751, 0.9851617671033254, 0.04145349852664035, 0.10363374631660087, 0.08981591347438743, 0.048362414947747075, 0.552713313688538, 0.1658139941065614, 0.3745941538218482, 0.6212781087776994, 0.6663039717508744, 0.09900902391478857, 0.056194310870555673, 0.06422206956634934, 0.008027758695793667, 0.10436086304531768, 0.9892422261160825, 0.12663707825832507, 0.4643359536138586, 0.37991123477497524, 0.010535870496143521, 0.007901902872107642, 0.005267935248071761, 0.8639413806837688, 0.1079926725854711, 0.6880480239596442, 0.15366405868432054, 0.048163361677175096, 0.06651130898276561, 0.0160544538923917, 0.02293493413198814, 0.9892160379038589, 0.965940211057241, 0.059727883838460484, 0.041809518686922335, 0.12741948552204904, 0.08361903737384467, 0.5315781661622982, 0.06570067222230654, 0.00995464730641008, 0.06968253114487057, 0.00995464730641008, 0.577544240443754, 0.24751896019018027, 0.14851137611410817, 0.9606642247553823, 0.5800919121321594, 0.9889885274287776, 0.0388828943232421, 0.13220184069902316, 0.1827496033192379, 0.10498381467275368, 0.007776578864648421, 0.034994604890917894, 0.44715328471728416, 0.04665947318789052, 0.1783204542218838, 0.26519452166331436, 0.2270918605047922, 0.012192851570727097, 0.054867832068271935, 0.016765170909749758, 0.1767963477755429, 0.019813383802431535, 0.02133749024877242, 0.019813383802431535, 0.007620532231704436, 0.029895927455820044, 0.6494059797347577, 0.01993061830388003, 0.1295490189752202, 0.006643539434626677, 0.11958370982328018, 0.0431830063250734, 0.5405248904279117, 0.0021707826924815734, 0.26483548848275196, 0.19319965963086003, 0.901183379852906, 0.094612738815578, 0.0331144585854523, 0.0378450955262312, 0.5038128341929529, 0.1182659235194725, 0.1466497451641459, 0.03074914011506285, 0.03074914011506285, 0.23426152336502057, 0.0819915331777572, 0.22840498528089506, 0.03513922850475309, 0.05856538084125514, 0.3338226707951543, 0.02928269042062757, 0.021852603534639695, 0.037461606059382334, 0.06555781060391909, 0.1467246237325808, 0.1904298308018602, 0.08116681312866172, 0.20916063383155137, 0.04370520706927939, 0.2029170328216543, 0.08861592184662254, 0.10633910621594704, 0.35446368738649014, 0.4430796092331127, 0.6048743996056887, 0.37600300516029295, 0.056507273564679786, 0.038382299025065514, 0.07463224810429406, 0.5863962351051676, 0.006397049837510919, 0.2132349945836973, 0.02452202437712519, 0.13637386419908815, 0.02272897736651469, 0.8011964521696429, 0.028411221708143364, 0.7909389038693381, 0.06910247445702987, 0.9259731577242002, 0.9942595942875023, 0.07418184201056292, 0.8901821041267551, 0.9836283284000178, 0.039550901344667974, 0.006591816890777996, 0.23730540806800784, 0.3229990276481218, 0.36914174588356774, 0.023071359117722984, 0.9916166956804026, 0.975339191077579, 0.9918299794575232, 0.9976075544532532, 0.06541964448949929, 0.8504553783634907, 0.05630701597821411, 0.01816355354135939, 0.06538879274889381, 0.2524733942248955, 0.5739682919069568, 0.030878041020310963, 0.7589131257174679, 0.13798420467590325, 0.036795787913574206, 0.025297104190582263, 0.016098157212188713, 0.02069763070138549, 0.9385189257613424, 0.11948647267710694, 0.11052498722632392, 0.05376891270469812, 0.7139316742457139, 0.025604094692580733, 0.790882036059716, 0.011379597641146993, 0.05405308879544821, 0.05689798820573497, 0.05689798820573497, 0.9397277011374505, 0.053192134026648144, 0.12934301243062724, 0.18463468186662055, 0.0888616115935607, 0.46997919020594325, 0.11453274383170045, 0.006911458679499166, 0.004936756199642261, 0.2818191349158458, 0.5712550032077957, 0.13710120076987095, 0.7361390680750801, 0.23135799282359662, 0.048849124095155426, 0.035581460760668766, 0.03919991439734694, 0.7031861567277929, 0.014473814546712718, 0.03919991439734694, 0.09890439940253691, 0.009649209697808478, 0.01025228530392151, 0.956132769115726, 0.03414759889699021, 0.05888925714673406, 0.11777851429346813, 0.04580275555857093, 0.5692628190850959, 0.20284077461652844, 0.9495279179373717, 0.07402354601169622, 0.09869806134892829, 0.8265962637972745, 0.9481523625956213, 0.1283459389893501, 0.7646141046174049, 0.08738446909913199, 0.016384587956087247, 0.020585030185301598, 0.14409521129711117, 0.8336937225047147, 0.9893241643037957, 0.9523639593685637, 0.039031309810187036, 0.8692981186476201, 0.17626301582594953, 0.17626301582594953, 0.6404222908342834, 0.2309300270532806, 0.7638454740993128, 0.8116559182160876, 0.09412511280300906, 0.011765639100376132, 0.8706572934278338, 0.019609398500626887, 0.22166582132907875, 0.4083317761325135, 0.0956663018367603, 0.06066643531111629, 0.0816663552265027, 0.0886663285316315, 0.02333324435042934, 0.018666595480343474, 0.0023333244350429343, 0.15093001399087075, 0.5599016648048432, 0.15093001399087075, 0.03408097090116436, 0.04868710128737766, 0.02434355064368883, 0.03408097090116436, 0.3523034333611715, 0.034581932109072046, 0.10158442557039914, 0.19452336811353027, 0.09077757178631413, 0.2204598171953343, 0.9915885024543718, 0.9920522517087222, 0.21670119349212327, 0.0963116415520548, 0.01203895519400685, 0.6621425356703766, 0.25461679990673397, 0.1386937040142372, 0.03933105039209712, 0.06417171379763213, 0.2732472974608852, 0.07866210078419424, 0.014490386986562095, 0.04554121624348087, 0.022770608121740435, 0.0683118243652213, 0.979295575264082, 0.1353613205659534, 0.10707686552232136, 0.4020433252630557, 0.3535556880454007, 0.844250865416029, 0.1515322066131334, 0.07991559036505641, 0.23289686334959295, 0.06621577487390387, 0.13699815491152526, 0.029682933564163808, 0.09361540585620894, 0.025116328400446298, 0.03653284130974007, 0.11188182651107896, 0.04794935421903384, 0.14156476007524277, 0.8949253376629501, 0.9932333503998563, 0.6881170906187997, 0.986671828562842, 0.011746093197176689, 0.12898618540908272, 0.033648570106717235, 0.04486476014228964, 0.5608095017786205, 0.016824285053358617, 0.016824285053358617, 0.12337809039129652, 0.033648570106717235, 0.042060712633396544, 0.9859550887572891, 0.4768032483889519, 0.012800087205072534, 0.048000327019022, 0.0384002616152176, 0.08960061043550774, 0.12160082844818906, 0.006400043602536267, 0.192001308076088, 0.012800087205072534, 0.02245715938805753, 0.22457159388057532, 0.13923438820595668, 0.22008016200296382, 0.3503316864536975, 0.03593145502089205, 0.12467613786067723, 0.8477977374526051, 0.8442520684637244, 0.15298527415114468, 0.9900324682078393, 0.1969501725703936, 0.7953756969188972, 0.2979761094625878, 0.09535235502802811, 0.5959522189251756, 0.005959522189251757, 0.989732995346576, 0.04612840446400753, 0.9225680892801507, 0.9958215782383061, 0.18572181460777043, 0.2331572564339975, 0.14150233493925365, 0.0040199526971378885, 0.12301055253241938, 0.053063375602220124, 0.06271126207535105, 0.031355631037675524, 0.007235914854848199, 0.042611498589661616, 0.11577463767757118, 0.3238747175503698, 0.0236981500646612, 0.007899383354887067, 0.5608562181969817, 0.08689321690375774, 0.17772370987197209, 0.031363007624465665, 0.7840751906116415, 0.35569238967184086, 0.11291821894344155, 0.1976068831510227, 0.04516728757737662, 0.09598048610192532, 0.11856412989061361, 0.07339684231323701, 0.9746811891647205, 0.08151376967747455, 0.9082962906918592, 0.9807191340978321, 0.7665517590698344, 0.001614921479096231, 0.35609018614071897, 0.02906858662373216, 0.6120552405774716, 0.9148520595235363, 0.40546174198758267, 0.08506190391347888, 0.01134158718846385, 0.12759285587021832, 0.26369190213178456, 0.10490968149329062, 0.2830012464207828, 0.19456335691428817, 0.0064318465095632455, 0.07718215811475894, 0.012863693019126491, 0.017687577901298924, 0.14954043134734546, 0.2588818220099206, 0.40012558941584664, 0.2008120935645073, 0.08691866736374197, 0.049453724534542845, 0.028473356550191335, 0.085420069650574, 0.14686257589046056, 0.06835087664990767, 0.2161795168462196, 0.025432884334849366, 0.08424642935918852, 0.1192166453196064, 0.08265687408826043, 0.02702243960577745, 0.041328437044130216, 0.025432884334849366, 0.11444797950682215, 0.034970215960417876, 0.08265687408826043, 0.07470909773362001, 0.0015895552709280854, 0.9748469209485326, 0.9778074843419521, 0.22402129031967086, 0.16347499563867873, 0.20585740191537322, 0.1453111072343811, 0.2542944376601669, 0.3843150266118952, 0.3330730230636425, 0.15372601064475808, 0.12810500887063173, 0.016163502682819315, 0.9698101609691588, 0.7965339757235612, 0.030375120703974696, 0.020882895483982606, 0.17086005395985768, 0.16136782873986558, 0.6169946392994861, 0.9706981761771286, 0.6921952023854057, 0.2884146676605857, 0.012818429673803809, 0.01452119531957631, 0.9832923687827387, 0.08686645020288573, 0.2510535868500983, 0.1260040816129771, 0.13650442174739189, 0.1851878169160421, 0.008591187382702986, 0.053456277047929684, 0.04963797154450614, 0.03436474953081194, 0.0009545763758558873, 0.018136951141261858, 0.03531932590666783, 0.007636611006847098, 0.005727458255135323, 0.9873600589863597, 0.010891501158278036, 0.09406296454876487, 0.07327009870114316, 0.8208231327465902, 0.16319833728139468, 0.04450863744038037, 0.771483048966593, 0.11580720887375504, 0.4432071569471018, 0.007053091306653057, 0.2618744546437958, 0.09760568292110199, 0.029122441524244883, 0.0054604577857959155, 0.0043228624137551, 0.017518968729428562, 0.009783320199551014, 0.007735648529877547, 0.0006825572232244894, 0.06558872363035001, 0.0011925222478245455, 0.4257304424733628, 0.02086913933692955, 0.42096035348206456, 0.009540177982596364, 0.03637192855864864, 0.019676617089105, 0.9872062357282745, 0.33439898794950884, 0.43617259297762023, 0.07269543216293671, 0.007269543216293671, 0.14539086432587342, 0.9944236363600355, 0.485669020708604, 0.485669020708604, 0.847177998258097, 0.9796845730781552, 0.9667165654120924, 0.9515377485752088, 0.16346591744865932, 0.10402376564914684, 0.0011431183038367785, 0.20233193977910977, 0.2057612946906201, 0.02743483929208268, 0.0422953772419608, 0.002286236607673557, 0.051440323672655025, 0.1268861317258824, 0.01371741964604134, 0.018289892861388456, 0.0422953772419608, 0.1124813095321078, 0.4870069885236316, 0.0037081750395200376, 0.2373232025292824, 0.13843853480874807, 0.021012991890613546, 0.060395257208178676, 0.856857711641035, 0.07926877508573452, 0.2942088759557616, 0.6968104956846985, 0.12352856731375171, 0.8719663575088357, 0.9501410246472405, 0.9792241575639563, 0.9366675194848774, 0.7865737388426111, 0.2582698470144131, 0.7365473414855483, 0.9802924052939065, 0.017941365978713895, 0.9205776750457336, 0.0006186677923694446, 0.06062944365220558, 0.23175508642239778, 0.34652903398396623, 0.0022071912992609314, 0.29134925150244295, 0.011035956496304657, 0.0706301215763498, 0.04414382598521863, 0.932804125070341, 0.9319088073300034, 0.9410414116744629, 0.9221513987257135, 0.05844621541219311, 0.003247011967344062, 0.014611553853048277, 0.06464887386155971, 0.07542368617181966, 0.7219124247874167, 0.12929774772311942, 0.9298045284225305, 0.1062671905761619, 0.8920457124421477, 0.9763928404997518, 0.6292686446596354, 0.11299560801937725, 0.005844600414795374, 0.11884020843417262, 0.021430201520916375, 0.046756803318362995, 0.02727480193571175, 0.0389640027653025, 0.4770965751823277, 0.08716187431215602, 0.0848681407776256, 0.19496735043508584, 0.022937335345304215, 0.04128720362154759, 0.0022937335345304217, 0.07798694017403433, 0.009174934138121687, 0.166999084853996, 0.8288102729790913, 0.9472844624241534, 0.03618395353426242, 0.08442922491327896, 0.09649054275803311, 0.33771689965311585, 0.43420744241114895, 0.8014228852363943, 0.9863664681610854, 0.08835211139568262, 0.28028945684147594, 0.4630869286946124, 0.16451772466782283, 0.9503088670065165, 0.993479640489122, 0.10838823712049918, 0.22753461192045235, 0.0411498766239116, 0.31951668907978414, 0.019902554706989924, 0.07611382408213714, 0.04868057299952941, 0.0008068603259590509, 0.009682323911508611, 0.06051452444692882, 0.010489184237467662, 0.036577668110143645, 0.03173650615438934, 0.0032274413038362038, 0.0032274413038362038, 0.0026895344198635033], \"Term\": [\"Af_bevelen\", \"Brussels\", \"Brussels_hoofdstedelijk\", \"Duits\", \"Ernstig_gevaar\", \"Lockdown\", \"Lockdown\", \"Regering\", \"Rupo\", \"Vlaams\", \"Vlaams\", \"Waals\", \"Waals\", \"Waals\", \"Waterweg\", \"_aanpassing\", \"_daerod\", \"aan_nemen\", \"aan_nemen\", \"aan_nemen\", \"aan_nemen\", \"aan_nemen\", \"aan_nemen\", \"aan_nemen\", \"aan_nemen\", \"aan_nemen\", \"aan_nemen\", \"aan_nemen\", \"aan_vullen\", \"aan_vullen\", \"aan_vullen\", \"aan_vullen\", \"aan_vullen\", \"aan_vullen\", \"aan_vullen\", \"aan_vullen\", \"aan_vullen\", \"aandeel\", \"aandeel\", \"aandeelhouder\", \"aangaan_namens\", \"aangeduide_agentschappen\", \"aangelegd\", \"aangelegenheid\", \"aangelegenheid\", \"aangelegenheid\", \"aangelegenheid\", \"aangelegenheid\", \"aangelegenheid\", \"aangemerken\", \"aangeschaft\", \"aangetekende_brief\", \"aangevulde_gewijzigde\", \"aangift\", \"aangift\", \"aangift\", \"aangifte\", \"aangifte\", \"aangifte\", \"aankomst\", \"aankomst\", \"aankoop\", \"aankoop\", \"aankoop\", \"aankoop\", \"aanmaak\", \"aanmerking\", \"aanmerking\", \"aanmerking\", \"aanmerking\", \"aanmerking\", \"aanmerking\", \"aanmerking\", \"aanmerking\", \"aanpassing\", \"aanpassing\", \"aanpassing\", \"aanpassing\", \"aanpassing\", \"aanpassing\", \"aanpassing\", \"aanpassing\", \"aanslagjaar\", \"aanslagjaar\", \"aanslagjaar\", \"aanslagjaar_afgekort\", \"aanslagjaar_zijnde\", \"aansprakelijk\", \"aansprakelijk\", \"aansprakelijk\", \"aanstelling\", \"aantal\", \"aantal\", \"aantal\", \"aantal\", \"aantal\", \"aantal\", \"aantal\", \"aantal\", \"aanvang\", \"aanvraag\", \"aanvraag\", \"aanvraag\", \"aanvraag\", \"aanvraag\", \"aanvraag\", \"aanvraag\", \"aanvrager\", \"aanvrager\", \"aanvrager\", \"aanvullen_wijzigen\", \"aanwezig\", \"aanwezig\", \"aanwezig\", \"aanwezig\", \"accijnzen\", \"accountant\", \"activering\", \"activiteit\", \"activiteit\", \"activiteit\", \"activiteit\", \"activiteit\", \"activiteit\", \"activiteit\", \"adjunct_directeur\", \"administratie\", \"administratie\", \"administratie\", \"administratie\", \"administratie\", \"administratie\", \"administratie\", \"administratieve_geldboetes\", \"adres\", \"adres\", \"adres\", \"adres\", \"adresseren\", \"advies\", \"advies\", \"advies\", \"advies\", \"advies\", \"advies\", \"advies\", \"advies\", \"advies\", \"af_b_eve\", \"af_bevelen\", \"af_bevelen\", \"afdeling\", \"afdeling\", \"afdeling\", \"afdeling\", \"afdeling\", \"afdeling\", \"afdeling\", \"afdeling\", \"afdeling\", \"afdeling\", \"afdeling\", \"afgevaardigen\", \"afgevlaken\", \"afgevlakte\", \"aflevering\", \"afnamecentrum\", \"afschrift\", \"afschrift\", \"afschrijving\", \"aftrek\", \"aftrek\", \"aftrek\", \"aftrekbaar\", \"aftrekbaar\", \"afwijking\", \"afwijking\", \"afwijking\", \"afwijking\", \"afwijking\", \"afwijking\", \"afwijking\", \"afwijking\", \"afwijking\", \"afwijking\", \"afwijking\", \"afwijking\", \"afwijking\", \"afzondering\", \"agentschap\", \"agentschap\", \"agentschappen_aangeduien\", \"aj\", \"akkoord\", \"akkoord\", \"akkoord\", \"akkoord\", \"akkoord\", \"akkoord\", \"akkoord_verlengt\", \"akte\", \"akte\", \"akte\", \"akte\", \"algemeen\", \"algemeen\", \"algemeen\", \"algemeen\", \"algemeen\", \"algemeen\", \"algemeen\", \"algemeen\", \"algemeen\", \"algemeen\", \"algemeen\", \"algemeen\", \"algemeen_verbindend\", \"algemeen_verbindend\", \"alinea\", \"alternatief\", \"ambtenare_nzak\", \"ambtenaren\", \"ambtenarenzak\", \"ambtenarenzak\", \"ambtenarenzaken\", \"ambtenarenzaken_gelijk\", \"analyse\", \"antoniadis\", \"antwoorden\", \"apotheek\", \"arbeid_plaats\", \"arbeider\", \"arbeidsdag\", \"art\", \"art\", \"art\", \"art\", \"art\", \"art\", \"art\", \"art\", \"art\", \"art\", \"art\", \"art\", \"art\", \"art\", \"art\", \"arts\", \"arts\", \"attache\", \"attest\", \"attest\", \"attest\", \"attest\", \"attest\", \"attest\", \"attest\", \"attesteren\", \"authentieke_bronnen\", \"automatische_uitwisseling\", \"autoriteit\", \"autoriteit\", \"autoriteit\", \"autoriteit\", \"autoriteit\", \"autoriteit\", \"av\", \"avenant\", \"baseren\", \"baseren\", \"baseren\", \"basis\", \"basis\", \"basis\", \"basis\", \"basis\", \"basis\", \"basis\", \"basis\", \"basis\", \"basis\", \"basis\", \"basis\", \"basis_bedrag\", \"basisallocatie\", \"basisbe_drag\", \"be_stukken\", \"bedoeld\", \"bedrag\", \"bedrag\", \"bedrag\", \"bedrag\", \"bedrag\", \"bedrag\", \"bedrag\", \"bedrag\", \"bedrag\", \"bedrag\", \"bedrag\", \"bedrag\", \"bedragen\", \"bedragen\", \"bedragen\", \"bedragen\", \"bedragen\", \"bedragen\", \"bedragen\", \"bedragen\", \"bedragen\", \"bedragen\", \"bedragen\", \"bedrijf_leider\", \"bedrijf_leider\", \"bedrijfstoeslag\", \"beeindigen\", \"beeindigen\", \"beeindigen\", \"beeindigen\", \"beeindigen\", \"beeld\", \"beeld\", \"beeld\", \"beginsel\", \"beginsel\", \"beginsel\", \"begrotin_gsjaar\", \"begroting\", \"begroting\", \"begroting\", \"begroting\", \"begroting\", \"begroting\", \"begroting\", \"begroting\", \"begrotings_jaar\", \"begrotingsjaar\", \"begunstigen\", \"begunstigen\", \"behoeve\", \"bek_endmaking\", \"beke\", \"bekendgemaken\", \"bekendgemaken\", \"bekendgemaken\", \"bekendgemaken\", \"bekendgemaken\", \"bekendgemaken\", \"bekendgemaken\", \"bekleed\", \"bekrachtigen\", \"bekrachtigen\", \"bekrachtigen\", \"bekrachtigen\", \"bekrachtigen\", \"bekrachtigen\", \"bekrachtigen\", \"bekrachtigen\", \"bekrachtiging\", \"bekrachtiging\", \"bekrachtiging\", \"belastbare_tijdperk\", \"belasten\", \"belasten\", \"belasten\", \"belasten\", \"belasten\", \"belasten\", \"belasten\", \"belasten\", \"belasten\", \"belasten\", \"belasten\", \"belasten\", \"belasten\", \"belasten\", \"belasten\", \"belasting\", \"belasting\", \"belasting\", \"belasting\", \"belasting\", \"belasting_gebied\", \"belgisch_staatsblad\", \"belgisch_staatsblad\", \"belgisch_staatsblad\", \"belgisch_staatsblad\", \"belgisch_staatsblad\", \"belgisch_staatsblad\", \"belgisch_staatsblad\", \"belgisch_staatsblad\", \"belgisch_staatsblad\", \"belgisch_staatsblad\", \"belgisch_staatsbladen\", \"belgisch_staatsbladen\", \"belgisch_staatsbladen\", \"belgisch_staatsbladen\", \"belgisch_staatsblaen\", \"belgisch_staatsblaen\", \"bellot\", \"bellot\", \"benaming\", \"benaming\", \"beoordeling\", \"beoordeling\", \"bepaling\", \"bepaling\", \"bepaling\", \"bepaling\", \"bepaling\", \"bepaling\", \"bepaling\", \"bepaling\", \"bepaling\", \"beperken\", \"beperken\", \"beperken\", \"beperken\", \"beperken\", \"beperken\", \"bericht\", \"bero_epskennis\", \"beroep\", \"beroep\", \"beroep\", \"beroep\", \"beroep\", \"beroep\", \"beroep\", \"beroep\", \"beroepsziekten\", \"beschermen\", \"beschikking\", \"beschrijving\", \"beschrijving\", \"beslag\", \"beslag\", \"beslissing\", \"beslissing\", \"beslissing\", \"beslissing\", \"beslissing\", \"beslissing\", \"beslissing\", \"besluiten\", \"besluiten\", \"besluiten\", \"besluiten\", \"besluiten\", \"besluiten\", \"besluiten\", \"besluiten\", \"besluiten\", \"besmet\", \"besmet\", \"besmeten\", \"besmetting\", \"besmetting\", \"besmetting\", \"besmetting\", \"bespreken\", \"bespreking\", \"bespreking\", \"bespreking_stemming\", \"bestaan\", \"bestaan\", \"bestaan\", \"bestaan\", \"bestaan\", \"bestaan\", \"bestaan\", \"bestaan\", \"besturen\", \"besturen\", \"besturen\", \"bestuurder\", \"bestuurder\", \"bestuurszaken_inburgering\", \"betaling\", \"betaling\", \"betaling\", \"betaling\", \"betaling\", \"betaling\", \"betaling\", \"betekening\", \"betrekking\", \"betrekking\", \"betrekking\", \"betrekking\", \"betrekking\", \"betrekking\", \"betrekking\", \"betrekking\", \"betrekking\", \"betrekking\", \"betrekking\", \"betrekking\", \"betrekking\", \"betrekking\", \"betrokkene\", \"betrokkene\", \"betwisten\", \"bevatten\", \"bevatten\", \"bevatten\", \"bevatten\", \"bevatten\", \"bevatten\", \"bevatten\", \"bevatten\", \"bevoegde_autoriteit\", \"bevoegde_autoriteiten\", \"bevoegde_autoriteiten\", \"bevoegdheid\", \"bevoegdheid\", \"bevoegdheid\", \"bevoegdheid\", \"bevolking\", \"bevolking\", \"bew\", \"bewaard_gedurenen\", \"bewaartermijn\", \"bezetting\", \"bezettingsg_raad\", \"bezitten\", \"bezitten\", \"bezoek\", \"bezorgen\", \"bezorgen\", \"bezorgen\", \"bezorgen\", \"be\\u00ebindigen\", \"bicommunautaire_dienst\", \"biculturele_zaken\", \"bij_komen\", \"bij_komen\", \"bij_komen\", \"bij_komen\", \"bij_komen\", \"bij_komen\", \"bij_komen\", \"bij_komen\", \"bij_komen\", \"bijlage\", \"bijlage\", \"bijlage\", \"bijlage\", \"bijlage\", \"bijlage\", \"bijlage\", \"bijlage\", \"bijlage\", \"bijlage_overge_nomen\", \"bijzon_dere_macht\", \"bijzonder\", \"bijzonder\", \"bijzonder\", \"bijzonder\", \"bijzonder\", \"bijzonder\", \"bijzonder\", \"bijzonder\", \"bijzonder\", \"bijzonder\", \"bijzonder_stelsel\", \"bijzondere_machten\", \"bijzondere_machten\", \"bijzondere_machten\", \"bijzondere_machten\", \"bijzondere_machten\", \"bijzondere_machtenbesluit\", \"bijzondere_machtenbesluit\", \"binnenlands\", \"binnenlands_bestuur\", \"bladzijde\", \"blootstelling\", \"boete\", \"boete\", \"boeten\", \"bondsrepubliek_duitsland\", \"bosa\", \"bossen_landelijk\", \"bovendien\", \"bovendien\", \"bovendien\", \"bron\", \"brussel_fiscaliteit\", \"brussels_hoofdstedelijk\", \"brusselse_hoofdstedelijk\", \"brusselse_hoofdstedelijk\", \"bruto\", \"bruto\", \"btw\", \"buitenschoolse_opvang\", \"burgemeester\", \"burgemeester\", \"categorie\", \"categorie\", \"categorie\", \"categorie\", \"categorie\", \"categorie\", \"categorie\", \"centrum\", \"centrum\", \"centrum\", \"citeren\", \"civiele_noodsituatie\", \"clerfayt_nota\", \"cluster\", \"cluster\", \"code\", \"code\", \"coefficient\", \"coefficient\", \"collectief\", \"collectief\", \"collectief\", \"collectiviteit\", \"college\", \"college\", \"college\", \"college\", \"college\", \"college\", \"commissie\", \"commissie\", \"commissie\", \"commissie\", \"commissie\", \"commissie\", \"commissie\", \"commissie\", \"compenseren\", \"compenseren\", \"conferentie_volksgezondheid\", \"contact\", \"contact\", \"contact\", \"contact_centrum\", \"contactcentra\", \"contactcentrum\", \"contacteren\", \"controle\", \"controle\", \"controle\", \"controle\", \"controle\", \"coordineeren\", \"coordineeren\", \"coordineeren\", \"coronavirus\", \"coronavirus\", \"coronavirus\", \"coronavirus\", \"coronavirus\", \"coronavirus\", \"coronavirus\", \"coronavirus\", \"coronavirus\", \"correctiefactor\", \"cov_id\", \"cov_id\", \"cov_id\", \"cov_id\", \"cov_id\", \"cov_id\", \"cov_id\", \"cov_id\", \"cov_id\", \"cov_id\", \"cov_id\", \"cov_id\", \"cov_id\", \"covid\", \"covid\", \"covid\", \"covid\", \"covid\", \"covid\", \"covid\", \"covid\", \"covid\", \"covid\", \"covid\", \"creatie\", \"creatief\", \"crisis\", \"crisis\", \"crisis\", \"crisis\", \"crisis\", \"crisis\", \"crisis\", \"crisis\", \"cruciale_sectoren\", \"crucke\", \"cultureel\", \"cultureel\", \"cultureel\", \"cultureel\", \"culturele_feestelijk\", \"culturele_feestelijk\", \"cursist\", \"cursus\", \"dag\", \"dag\", \"dag\", \"dag\", \"dag\", \"dag\", \"dag\", \"dag\", \"dag\", \"dag\", \"dag\", \"dag\", \"dag\", \"dag\", \"dag\", \"dans\", \"databank\", \"databank\", \"databank\", \"datum\", \"datum\", \"datum\", \"datum\", \"datum\", \"datum\", \"datum\", \"datum\", \"datum\", \"datum\", \"datum\", \"datum\", \"datum\", \"datum\", \"decreet\", \"decreet\", \"decreet\", \"decreet\", \"decreet\", \"deelen\", \"deelen\", \"deelneming\", \"deelsectoren\", \"deeltelijke_arbeiden\", \"deling\", \"departement\", \"derde_landen\", \"dergelijk\", \"dergelijk\", \"dergelijk\", \"dergelijk\", \"dergelijk\", \"dergelijk\", \"dergelijk\", \"dertien\", \"detecteren\", \"diamant\", \"dienen\", \"dienen\", \"dienen\", \"dienen\", \"dienen\", \"dienen\", \"dienen\", \"dienen\", \"dienen\", \"dienen\", \"dienst\", \"dienst\", \"dienst\", \"dienst\", \"dienst\", \"dienst\", \"dienst\", \"dienst\", \"dienst\", \"dienst\", \"dienst\", \"dierenwelzijn_tellier\", \"digitaal\", \"digitaal\", \"digitaal\", \"diploma\", \"diploma\", \"dir_ectiecomite\", \"discriminatie\", \"divers\", \"divers\", \"divers\", \"divers\", \"divers\", \"divers\", \"divi_dend\", \"document\", \"document\", \"document\", \"document\", \"document\", \"document\", \"document\", \"doeleinde\", \"doeleinde\", \"doeleinde\", \"doen\", \"doen\", \"doen\", \"doen\", \"doen\", \"doen\", \"doen\", \"doen\", \"doen\", \"doorlopende_evaluatie\", \"dossier\", \"dossier\", \"dossier\", \"dossier\", \"dossier\", \"douane\", \"drempel\", \"drempel\", \"drempel\", \"drie\", \"drie\", \"drie\", \"drie\", \"drie\", \"drie\", \"drie\", \"drie\", \"drie\", \"dringend\", \"dringend\", \"dringend\", \"dringend\", \"dringend\", \"dringend\", \"dringend\", \"dringend\", \"dringend\", \"dringend\", \"duiden\", \"duiden\", \"duitse_taal_gebied\", \"echt_genoot\", \"echt_genoot\", \"echt_genoot\", \"echt_genote\", \"economie\", \"economie\", \"economie\", \"economie\", \"economie\", \"economisch\", \"economisch\", \"economisch\", \"economisch\", \"economisch\", \"economisch\", \"economisch\", \"economisch\", \"eenmalig\", \"eenmalig\", \"eenmalige_premie\", \"eer\", \"eer\", \"eg\", \"eigen_vermogen\", \"einddatum\", \"einde\", \"einde\", \"einde\", \"einde\", \"einde\", \"einde\", \"einde\", \"einde\", \"einde\", \"einde\", \"einde\", \"elektronisch\", \"elektronisch\", \"elektronisch\", \"elektronisch\", \"elektronisch\", \"elektronisch\", \"elektronisch\", \"elektronisch\", \"elektronisch\", \"elektronische_weg\", \"enseignement_fr\", \"epidemie\", \"epidemie\", \"epidemie\", \"epidemie\", \"epidemie\", \"epidemie\", \"erfgoed\", \"erfgoed\", \"erflater\", \"erkenning\", \"erkenning\", \"erkenning\", \"erkenning\", \"erkenning\", \"ervan\", \"ervan\", \"ervan\", \"ervan\", \"ervan\", \"ervan\", \"ervan\", \"ervan\", \"ervan\", \"ervan\", \"eur\", \"eur\", \"eur\", \"euro\", \"euro\", \"euro\", \"euro\", \"euro\", \"euro\", \"euro\", \"euro\", \"euro\", \"euro\", \"euro\", \"euro\", \"evaluatie\", \"evaluatie\", \"evalueren\", \"evenredigheid\", \"examen\", \"examen\", \"examencommissie\", \"examens\", \"exemplaar\", \"exemplaar\", \"exhaustief\", \"exit_strategie\", \"exit_strategie\", \"exploitant\", \"externe_betrekkingen\", \"extra\", \"extra\", \"facilitair_management\", \"facturatie\", \"fagg\", \"faillissemen\", \"fase\", \"fase\", \"federaal\", \"federaal\", \"federaal\", \"federaal\", \"federaal\", \"federaal\", \"federaal\", \"federaal\", \"federaal\", \"federaal\", \"federatie\", \"federatie\", \"federatie_wallonie\", \"feest_dag\", \"financieel\", \"financieel\", \"financieel\", \"financieel\", \"financieel\", \"financieel\", \"financieel\", \"financieel\", \"financieel\", \"financieel_gesteund\", \"financiele_tussenkomst\", \"financi\\u00ebn\", \"financi\\u00ebn\", \"financi\\u00ebn\", \"financi\\u00ebn\", \"financi\\u00ebn\", \"financi\\u00ebn\", \"financi\\u00ebn\", \"financi\\u00ebn\", \"fiscaal\", \"fiscaal\", \"fiscaal\", \"fiscaal\", \"fiscaal\", \"fiscaal\", \"fiscaliteit\", \"fiscaliteit\", \"franse_gemeenschap\", \"franse_gemeenschap\", \"fraude\", \"fraude\", \"fraude\", \"functioneel\", \"functioneel\", \"fusie\", \"fusie\", \"fusionerende_instituten\", \"gaan\", \"gaan\", \"gaan\", \"gaan\", \"gaan\", \"gaan\", \"gaan\", \"gaan\", \"gaan\", \"gaan\", \"gaan\", \"gaan\", \"geacht_nooit\", \"geacht_nooit\", \"geacht_nooit\", \"gebeurtenis\", \"gebrek\", \"gebrek\", \"gebrek\", \"gebrek\", \"gebrek\", \"gebruik\", \"gebruik\", \"gebruik\", \"gebruik\", \"gebruik\", \"gebruik\", \"gebruik\", \"gebruik\", \"gebruiken\", \"gebruiken\", \"gebruiken\", \"gebruiken\", \"gebruiken\", \"gebruiken\", \"gebruiken\", \"gebruiken\", \"gebruiken\", \"gebruiken\", \"gebruiken\", \"gecorrigeerd_jaarlijks\", \"gedeelte\", \"gedeelte\", \"gedeelte\", \"gedeeltelijke_arbeid\", \"gedialyseerd\", \"gefedereerde_entitei\", \"gefedereerde_entiteiten\", \"gefedereerde_entiteiten\", \"gegevensbank\", \"gegroepeerde_basisoptie\", \"geindexeerde_bedragen\", \"geintegreerde_portefeuille\", \"geinvesteeren\", \"geldigheid\", \"geldigheid\", \"geldigheid\", \"geldigheidsduur\", \"geldigheidsduur\", \"geldigheidsduur\", \"geldigheidsduur_verstrijkt\", \"geldsom\", \"geleidelijk\", \"geleidelijk\", \"geleverde_goederen\", \"gelijkgestelde_belastingen\", \"gemeente_raad\", \"gemeentelijk\", \"gemiddeld\", \"gemiddeld\", \"gemiddeld\", \"gemiddeld\", \"gemiddelden\", \"geneeskunde\", \"geneeskundig\", \"geneeskundig\", \"geneeskundige_verzorging\", \"geneesmiddel\", \"geneesmiddelen\", \"geneesmiddelen\", \"generaal\", \"generaal\", \"gerangschikt\", \"gerechtelijk\", \"gerechtelijk\", \"gerechtelijk\", \"gerechtelijk\", \"geschieden\", \"geslaagden\", \"gespecialiseerd_secundair\", \"getuigschrift\", \"getuigschrift\", \"geval\", \"geval\", \"geval\", \"geval\", \"geval\", \"geval\", \"geval\", \"geval\", \"geval\", \"geval\", \"geval\", \"geval\", \"geval\", \"gewest\", \"gewest\", \"gewest\", \"gewest\", \"gewest\", \"gewest\", \"gewest\", \"gewestelijk\", \"gewestelijk\", \"gewestelijk\", \"gewestelijke_beleidslijnen\", \"gewestelijke_beleidslijnen\", \"gewestelijke_beleidslijnen\", \"gewestelijke_incentives\", \"gewoon_secundair\", \"gezin\", \"gezin\", \"gezin\", \"gezin_sbijslag\", \"gezinsbijslaag\", \"gezinsbijslaag\", \"gezinsbijslag\", \"gezinsbijslagen\", \"gezinszorg\", \"gezondheid\", \"gezondheid\", \"gezondheid\", \"gezondheid\", \"gezondheid\", \"gezondheid_cultuur\", \"gezondheid_cultuur\", \"goed\", \"goed\", \"goed\", \"goed\", \"goed\", \"goed\", \"goed\", \"graad\", \"graad\", \"graad\", \"grensarbeider\", \"grenszone\", \"griffier\", \"griffierecht\", \"groei\", \"grond_wet\", \"grond_wet\", \"grond_wet\", \"grond_wet\", \"grond_wet\", \"grond_wet\", \"groot\", \"groot\", \"groot\", \"groot\", \"groot\", \"groot\", \"grootschalig\", \"handelaar\", \"handeling\", \"handeling\", \"handeling\", \"handeling\", \"handeling\", \"handelshuur\", \"handhaving\", \"handhaving\", \"handhaving\", \"handicap\", \"handicap\", \"handicap\", \"handicap\", \"hebben\", \"hebben\", \"hebben\", \"hebben\", \"heffing\", \"heffing\", \"hetgeen_volgt\", \"hetgeen_volgt\", \"hetzelfde\", \"hetzelfde\", \"hetzelfde\", \"hetzelfde\", \"hetzelfde\", \"hetzelfde\", \"hetzelfde\", \"hetzelfde\", \"hierboven\", \"hierboven\", \"hierboven\", \"hierboven\", \"hierboven_vermelde\", \"hierboven_vermelde\", \"hierboven_vermelde\", \"hierna\", \"hierna\", \"hierna\", \"hierna\", \"hierna\", \"hierna\", \"hierna\", \"hierna\", \"hierna\", \"hierna\", \"hierna\", \"hogescholen\", \"honoraria\", \"hoofdstuk\", \"hoofdstuk\", \"hoofdstuk\", \"hoofdstuk\", \"hoofdstuk\", \"hoofdstuk\", \"hoofdstuk\", \"hoofdstuk\", \"hoofdstuk\", \"hoofdstuk\", \"hoofdstuk\", \"hoog\", \"hoog\", \"hoog\", \"hoog\", \"hoog\", \"hoog\", \"hoog\", \"hoog\", \"hoog\", \"hoog\", \"hoog\", \"hoog\", \"houd_en\", \"houd_en\", \"houd_en\", \"houd_en\", \"houd_en\", \"houd_en\", \"houd_en\", \"houden\", \"houden\", \"houden\", \"houden\", \"houden\", \"houden\", \"houden\", \"houden\", \"houden\", \"houden\", \"houden\", \"houden\", \"houden\", \"houden\", \"houden\", \"houdende\", \"houdende\", \"houdende\", \"houdende\", \"houdende\", \"houdende\", \"houdende\", \"houdende\", \"houdende\", \"houdende\", \"houdende\", \"houdenen\", \"houdenen\", \"houdenen\", \"houdenen\", \"houdenen\", \"houdenen\", \"houdenen\", \"houdenen\", \"houdenen\", \"houder\", \"houder\", \"houder\", \"huishouden\", \"huisvesten\", \"huisvesting_plaatselijke\", \"huren\", \"huur\", \"huurder\", \"huwen\", \"hygienisch\", \"hygienisch\", \"identiteit\", \"imago\", \"impactanalyse\", \"implementatie\", \"implementatie\", \"in_schreven\", \"in_schreven\", \"in_schreven\", \"in_schreven\", \"in_schreven\", \"in_schreven\", \"in_schreven\", \"in_voegen\", \"in_voegen\", \"in_voegen\", \"in_voegen\", \"in_voegen\", \"in_voegen\", \"inbreuak\", \"inbreuken\", \"inde_xcijfer\", \"indexcijfer\", \"indexeren\", \"indexeren\", \"indexeren\", \"ingevoegd\", \"ingevoegd\", \"ingevoegd\", \"ingevoegd\", \"ingevoegd\", \"ingevoegd_luidende\", \"ingewonnen\", \"ingewonnen\", \"ingewonnen\", \"inhoudelijk\", \"initiatiefnemer\", \"inkomstenjaar\", \"inkomstenjaar_samen\", \"inleiding\", \"inning\", \"inning\", \"inrichting\", \"inrichting\", \"inrichting\", \"inrichting\", \"inrichting\", \"inrichting\", \"inrichting\", \"inrichting\", \"inrichting\", \"inschrijver\", \"inspecteur\", \"inspecteur\", \"inspecteur\", \"inspecteur\", \"inspecteur\", \"inspecteur\", \"inspecteur\", \"inspecteur\", \"instelling\", \"instelling\", \"instelling\", \"instelling\", \"instelling\", \"instelling\", \"instituut\", \"instituut\", \"integendeel\", \"integraal_verslag\", \"interest\", \"internationaal\", \"internationaal\", \"internationaal\", \"internationaal\", \"interne_markt\", \"investeerder\", \"investering\", \"investering\", \"invoer\", \"invordering\", \"invordering\", \"invordering\", \"iriscaar\", \"jaar\", \"jaar\", \"jaar\", \"jaar\", \"jaar\", \"jaar\", \"jaar\", \"jaar\", \"jaar\", \"jaar\", \"jaar\", \"jaar\", \"jaar\", \"jaar\", \"jaarlijkse_vakantie\", \"jaarlijkse_vakantiedagen\", \"jeugd\", \"jeugd_justitiehuizen\", \"jeugd_sport\", \"jobi_nhoud\", \"justitieen\", \"kader\", \"kader\", \"kader\", \"kader\", \"kader\", \"kader\", \"kader\", \"kader\", \"kader\", \"kader\", \"kader\", \"kader\", \"kader\", \"kader\", \"kader\", \"kalender_maand\", \"kalenderm_aand\", \"kalendermaand\", \"kalendermaand\", \"kandidaat\", \"kandidaat\", \"kans\", \"kans\", \"kans\", \"kapitaal\", \"kb_wib\", \"kb_wib\", \"kennen\", \"kennen\", \"kennen\", \"kennen\", \"kennen\", \"kennen\", \"kennisgeving\", \"kennisgeving\", \"kennisgeving\", \"kennisgeving\", \"kennisgeving\", \"keuze\", \"keuze\", \"keuze\", \"kind\", \"kind\", \"kind\", \"kind\", \"kind\", \"kind\", \"kind\", \"kind_opvang\", \"kinderbijslag_toerisme\", \"kinderbijslag_toerisme\", \"kinderoppas\", \"klasse\", \"klassen_raad\", \"klassenraad\", \"klein\", \"klein\", \"klein\", \"klein\", \"klein\", \"klein\", \"kondigen\", \"kondigen\", \"kondigen\", \"koning\", \"koning\", \"koning\", \"koning\", \"koning\", \"koning\", \"koninklijk\", \"koninklijk\", \"koninklijk\", \"koninklijk\", \"koninklijk\", \"koninklijk\", \"koninklijk\", \"koninklijk\", \"koninkrijk\", \"kopie\", \"kopie\", \"kortst_mogelijk\", \"kost\", \"kost\", \"kost\", \"kost\", \"kost\", \"kost\", \"kost\", \"kosten\", \"kosten\", \"kosten\", \"kosten\", \"kostprijs\", \"kwalificatie_examencommissie\", \"kwartaal\", \"kwartaal\", \"kwartaal\", \"kwijtgescholden\", \"laatstelijk_gewijzigd\", \"laatstelijk_gewijzigen\", \"laattijdig\", \"laboratoria\", \"land\", \"land\", \"land\", \"land\", \"land\", \"langs_elektronische\", \"langs_elektronische\", \"last\", \"last\", \"last\", \"last\", \"last\", \"last\", \"last\", \"last\", \"leefmilieu_natuur\", \"leerjaar\", \"leerling\", \"leerresultaten\", \"lening\", \"lening\", \"les\", \"les\", \"leten\", \"leten\", \"leten\", \"leten\", \"leten\", \"leten\", \"leten\", \"leten\", \"leten\", \"leten\", \"leten\", \"letn\", \"letn\", \"letn\", \"letn\", \"letn\", \"letten\", \"letten\", \"letten\", \"letten\", \"letten\", \"letten\", \"letten\", \"letten\", \"letten\", \"leverancier\", \"leverancier\", \"leverancier\", \"levering\", \"levering\", \"licht\", \"licht\", \"licht\", \"lidstaat\", \"lidstaat\", \"lijst\", \"lijst\", \"lijst\", \"lijst\", \"lijst\", \"lijst\", \"lijst\", \"lijst\", \"lijst\", \"lineair\", \"lokale_besturen\", \"luchthavens\", \"luiden\", \"luiden\", \"luiden\", \"luiden\", \"maand\", \"maand\", \"maand\", \"maand\", \"maand\", \"maand\", \"maand\", \"maand\", \"maand\", \"maand\", \"maand\", \"maand\", \"maand\", \"maand_loon\", \"maat\", \"machtiging\", \"machtiging\", \"machtiging\", \"machtiging\", \"maken\", \"maken\", \"maken\", \"maken\", \"maken\", \"maken\", \"maken\", \"maken\", \"maken\", \"maken\", \"maken\", \"management\", \"materiaal\", \"materiaal\", \"materiaal\", \"materiaal\", \"materiaal\", \"maxim_umbedrag\", \"maxim_umbedrag\", \"maximaal\", \"maximaal\", \"maximaal\", \"maximaal\", \"maximaal\", \"maximaal\", \"maximaal\", \"medisch\", \"medisch\", \"medisch\", \"medisch\", \"medisch\", \"medium\", \"medium\", \"mee_delen\", \"mee_delen\", \"mee_delen\", \"mee_delen\", \"mee_delen\", \"mee_delen\", \"mee_delen\", \"mee_delen\", \"mee_delen\", \"mee_delen\", \"meewerkende_echtgenoten\", \"middel\", \"middel\", \"middel\", \"middel\", \"middel\", \"middel\", \"middel\", \"middel\", \"middel\", \"middelgroot\", \"ministerie\", \"ministerie\", \"ministerieel\", \"ministerieel\", \"ministerieel\", \"ministerieel\", \"ministerieel\", \"ministeriele_be_sluit\", \"ministeriele_besluit\", \"mobiliteit\", \"mobiliteit\", \"mobiliteit\", \"mogelijk\", \"mogelijk\", \"mogelijk\", \"mogelijk\", \"mogelijk\", \"mogelijk\", \"mogelijk\", \"mogelijk\", \"mogelijk\", \"mogelijk\", \"mogelijk\", \"mogelijkheid\", \"mogelijkheid\", \"mogelijkheid\", \"mogelijkheid\", \"moleculair\", \"morreaal\", \"motief\", \"motief\", \"motorvoertuig\", \"motorvoertuig\", \"naam\", \"naam\", \"naam\", \"naam\", \"naam\", \"naam\", \"naam\", \"naam\", \"naam\", \"nace_bel\", \"nagezien\", \"nascholing\", \"natuurlijk\", \"natuurlijk\", \"natuurlijk\", \"natuurlijk\", \"natuurlijk\", \"natuurlijk\", \"natuurlijke_hulpbronnen\", \"nederlandse_tekst\", \"neergelegd\", \"negen\", \"nemen\", \"nemen\", \"nemen\", \"nemen\", \"nemen\", \"nemen\", \"nemen\", \"nemen\", \"nemen\", \"nemen\", \"nieuw\", \"nieuw\", \"nieuw\", \"nieuw\", \"nieuw\", \"nieuw\", \"nieuw\", \"nieuw\", \"nieuw\", \"nodig\", \"nodig\", \"nodig\", \"nodig\", \"nodig\", \"nodig\", \"nodig\", \"nodig\", \"nodig\", \"nodig\", \"nodig\", \"noemen\", \"noemen\", \"noemen\", \"noemen\", \"noemen\", \"noemen\", \"nomenclatuur\", \"notaris\", \"nummer\", \"nummer\", \"nummer\", \"nummer\", \"nummer_co\", \"oeso\", \"omwille\", \"omwille\", \"omwille\", \"omwille\", \"omwille\", \"omwille\", \"omzetcijfer\", \"omzetting\", \"onde_rteken\", \"onderdeel\", \"onderdeel\", \"onderdeel\", \"onderdeel\", \"ondergetekende_bevoegde\", \"onderling\", \"onderling\", \"onderling\", \"onderling\", \"onderling_overleg\", \"ondernemer\", \"ondernemer\", \"ondernemerschap\", \"onderneming\", \"onderneming\", \"onderneming\", \"onderneming\", \"onderneming\", \"ondersteuning\", \"ondersteuning\", \"ondersteuning\", \"ondersteuning\", \"ondersteuning\", \"ondersteuning\", \"ondersteuning\", \"ondersteuning\", \"ondertekenende_partijen\", \"onderwijs\", \"onderwijs\", \"onderwijs\", \"onderworpen_handelaren\", \"onderzoeken\", \"onderzoeken\", \"onderzoeken\", \"onderzoeken\", \"onderzoeken\", \"onroerende_voorheffing\", \"ontgaan\", \"ontstentenis\", \"ontstentenis\", \"ontvangen\", \"ontvangen\", \"ontvangen\", \"ontvangen\", \"ontvangen\", \"ontvangen\", \"ontvangen\", \"ontvangen\", \"ontvangen\", \"ontvangen\", \"ontvangen\", \"ontvangen\", \"ontwerp\", \"ontwerp\", \"ontwerp\", \"ontwerp\", \"ontwerp\", \"ontwerp\", \"ontwerpen\", \"ontwerpen\", \"ontwikkeling\", \"ontwikkeling\", \"ontwikkeling\", \"ontwikkeling\", \"ontwikkeling\", \"ontwikkeling\", \"oog\", \"oog\", \"oog\", \"oog\", \"oog\", \"oog\", \"oog\", \"oog\", \"oog\", \"oog\", \"oog\", \"oordeelen\", \"op_groeien\", \"op_heffen\", \"op_heffen\", \"op_heffen\", \"op_heffen\", \"op_heffen\", \"openbare_werken\", \"openbare_werken\", \"operator\", \"operator\", \"operator\", \"opgesomd\", \"opleiding\", \"opleiding\", \"opleiding\", \"opleidings_jaar\", \"opleidingsjaar\", \"oplopen\", \"opmerking\", \"opmerking\", \"opneemt\", \"opvang\", \"opvang\", \"opvolgen\", \"ordening\", \"ordonnantie\", \"ordonnantie\", \"ordonnantie\", \"ordonnantie\", \"orgaan\", \"orgaan\", \"organisatie\", \"organisatie\", \"organisatie\", \"organisatie\", \"organisatie\", \"organisatie\", \"organisatie\", \"organisatie\", \"organisatie\", \"organisatie\", \"organisatie\", \"organisator\", \"organiseren\", \"organiseren\", \"organiseren\", \"organiseren\", \"organiseren\", \"ouder\", \"ov_erwegen\", \"ov_erwegen\", \"ov_erwegen\", \"ov_erwegen\", \"ov_erwegen\", \"ov_erwegen\", \"ov_erwegen\", \"ov_erwegen\", \"ove_rwegen\", \"ove_rwegen\", \"over_gaan\", \"over_wegen\", \"over_wegen\", \"over_wegen\", \"overeen\", \"overeen\", \"overeen\", \"overeen_komen\", \"overeen_komen\", \"overeen_komen\", \"overeen_komen\", \"overeen_komen\", \"overeenkomen\", \"overeenkomen\", \"overeenkomen\", \"overeenkomst\", \"overeenkomst\", \"overeenkomst\", \"overeenkomst\", \"overeenkomstig\", \"overeenkomstig\", \"overeenkomstig\", \"overeenkomstig\", \"overeenkomstig\", \"overeenkomstig\", \"overeenkomstig\", \"overeenkomstig\", \"overeenkomstig\", \"overeenkomstig\", \"overeenkomstig\", \"overeenstemmen\", \"overheid\", \"overheid\", \"overheid\", \"overheid\", \"overheid_dienst\", \"overheid_dienst\", \"overheid_dienst\", \"overheid_dienst\", \"overheid_dienst\", \"overheid_dienst\", \"overheids_dienst\", \"overheids_dienst\", \"overleg\", \"overleg\", \"overleg\", \"overleg\", \"overleg\", \"overlegco_mite\", \"overlijden\", \"overlijden\", \"overlijden\", \"overmacht\", \"overmacht\", \"overmacht\", \"overmacht\", \"overmacht\", \"overnachting\", \"paasch\", \"pandemie\", \"pandemie\", \"pandemie\", \"pandemie\", \"pandemie\", \"pandemie\", \"pandemie\", \"pandemie\", \"pandemie\", \"pandemie\", \"pandemie\", \"pandemie_ge_labeld\", \"paragraaf\", \"paragraaf\", \"paragraaf\", \"paragraaf\", \"paragraaf\", \"paragraaf\", \"paragraaf\", \"paragraaf\", \"paragraaf\", \"paritair_comite\", \"paritair_subcomite\", \"paritaire__comite\", \"parlement\", \"parlement\", \"parlement\", \"parlement\", \"parlementair\", \"pati\\u00ebnt\", \"pati\\u00ebnt\", \"pati\\u00ebnt\", \"pedagogisch\", \"pensioen\", \"periode\", \"periode\", \"periode\", \"periode\", \"periode\", \"periode\", \"periode\", \"periode\", \"periode\", \"periode\", \"periodiciteit\", \"perken\", \"perken\", \"perken\", \"permanente_vorming\", \"personeel\", \"personeel\", \"personeel\", \"personeel\", \"personeel\", \"personeel\", \"personeel\", \"personeel_lid\", \"personeel_lid\", \"personeel_lid\", \"personeel_lid\", \"personeels_lid\", \"personeelslid\", \"personeelslid\", \"personeelslid\", \"personeelslid\", \"personeelslid\", \"plaats\", \"plaats\", \"plaats\", \"plaats\", \"plaats\", \"plaats\", \"plaats\", \"plaatselijke_besturen\", \"plaatsvinden\", \"plenaire_vergadering\", \"plenaire_vergadering\", \"politie\", \"politie\", \"portant\", \"prangen\", \"premie\", \"premie\", \"premie\", \"president\", \"president\", \"president\", \"president\", \"president_jeholet\", \"president_jeholet\", \"preventief\", \"preventief\", \"preventief\", \"procedure\", \"procedure\", \"procedure\", \"procedure\", \"procedure\", \"procedure\", \"procedure\", \"proces_verbaal\", \"proef\", \"proef\", \"programma_wet\", \"programma_wet\", \"programmatie\", \"project\", \"project\", \"project\", \"promotie\", \"promotie\", \"promotie\", \"promotie_universitair\", \"protocol\", \"protocol\", \"publicatieblad\", \"publiceren\", \"publiceren\", \"publiceren\", \"publiceren\", \"publiceren\", \"publiceren\", \"publiceren\", \"quarantaine\", \"quarantaine\", \"quarantaine\", \"quarantaine\", \"quater\", \"quater\", \"quater\", \"quinquie\", \"quinquie\", \"raad\", \"raad\", \"raad\", \"raad\", \"raad\", \"raad\", \"raad\", \"raad\", \"raad\", \"raad\", \"raad\", \"raad\", \"raadpleging\", \"raadpleging\", \"raadpleging\", \"raadpleging\", \"raadpleging\", \"rang\", \"recht\", \"recht\", \"recht\", \"recht\", \"recht\", \"recht\", \"recht\", \"recht\", \"recht\", \"recht\", \"rechterlijk\", \"rechtheb_bend\", \"rechtsgebied\", \"rechtsper_soon\", \"rechtspraak\", \"rechtsvorm\", \"rechtszekerheid\", \"rechtszekerheid\", \"rechtszekerheid\", \"regel\", \"regel\", \"regel\", \"regel\", \"regel\", \"regel\", \"regel\", \"regel\", \"regelen\", \"regelen\", \"regelen\", \"regelen\", \"regelen\", \"regelen\", \"regelen\", \"regelen\", \"regelen\", \"regeling\", \"regeling\", \"regeling\", \"regeling\", \"regeling\", \"regeling\", \"regeling\", \"regering\", \"regering\", \"regering\", \"regering\", \"regering\", \"regering\", \"regering\", \"regering\", \"regering\", \"regio\", \"register\", \"register\", \"register\", \"registratie\", \"registratie\", \"reglementair_verei\", \"regulariseren\", \"reiskosten\", \"rekenen\", \"rekenen\", \"rekenen\", \"rekenen\", \"rekenen\", \"rekenen\", \"rekenen\", \"restaurant\", \"restaurant\", \"restaurant\", \"retributie\", \"retributie\", \"revalidatie\", \"rij_opleiding\", \"rijbewijs\", \"rijexamen\", \"rijksdienst\", \"rijksdienst\", \"rit\", \"riziv\", \"roeren\", \"ruim\", \"ruimte\", \"ruimte\", \"samenwonen\", \"samenwonen\", \"school\", \"school\", \"school\", \"school\", \"school_jaar\", \"schorsing\", \"schorsing\", \"schorsing\", \"schorsing\", \"schorsing\", \"schriftelijke_overeenkomst\", \"schriftelijke_overeenkomst\", \"schuld\", \"schuld\", \"schuldenaar\", \"schuldenaar\", \"secretaris\", \"sector\", \"sector\", \"sector\", \"sector\", \"sector\", \"sectoraal\", \"sectoraal\", \"sectorcomite\", \"selectie\", \"selectie\", \"selectie\", \"selectien_ummer\", \"semester\", \"sexie\", \"sexies\", \"sire\", \"sire\", \"sire\", \"slagen\", \"slagen\", \"slagen\", \"sluiten\", \"sluiten\", \"sluiten\", \"sluiten\", \"sluiten\", \"sluiten\", \"sluiten\", \"sluiten\", \"sluiten\", \"sluiten\", \"sluiten\", \"sluiten\", \"sociaal\", \"sociaal\", \"sociaal\", \"sociaal\", \"sociaal\", \"sociaal\", \"sociaal\", \"sociaal\", \"sociaal\", \"sociaal\", \"sociaal\", \"sociaal_inspecteurs\", \"sociaal_inspecteurs\", \"social_distancing\", \"social_distancing\", \"sociale_actie\", \"sociale_actie\", \"specialiseren\", \"spoorweg\", \"staan\", \"staan\", \"staan\", \"staan\", \"staan\", \"staan\", \"staat\", \"staat\", \"staat\", \"staat\", \"staat\", \"stage\", \"standplaats\", \"stapsgewijze_heropbouw\", \"stellen\", \"stellen\", \"stellen\", \"stellen\", \"stellen\", \"stellen\", \"stellen\", \"stellen\", \"stellen\", \"stellen\", \"stellen\", \"stellen\", \"stellen\", \"stelsel\", \"steun\", \"steun\", \"steun\", \"steun\", \"steun\", \"steun\", \"steun_aanvraag\", \"steun_aanvraag\", \"steunfonds\", \"stilzwijgen\", \"stilzwijgen\", \"straf\", \"straf\", \"streepje\", \"streepje\", \"strekken\", \"strekken\", \"studie\", \"studie\", \"subk_lass\", \"subsector\", \"subsidie\", \"subsidie\", \"subsidie\", \"subsidiering\", \"subsidi\\u00ebren\", \"subsidi\\u00ebren\", \"subsidi\\u00ebren\", \"supplement\", \"synthetische_diamant\", \"taak\", \"taak\", \"taak\", \"tabel\", \"tabel\", \"tabel\", \"tabel\", \"tabel_zie\", \"tabel_zie\", \"tabell\", \"technische_documentatie\", \"tegemoetkoming\", \"tegemoetkoming\", \"tel_ewerken\", \"teleconferentie\", \"telefonisch\", \"telefonisch\", \"telewerk\", \"telewerk\", \"telewerk\", \"telkens\", \"telkens\", \"telkens\", \"telkens\", \"termijn\", \"termijn\", \"termijn\", \"termijn\", \"termijn\", \"termijn\", \"termijn\", \"termijn\", \"termijn\", \"termijn\", \"termijn\", \"termijn\", \"territoriale_ontwikkeling\", \"terrorisme\", \"terug_nemen\", \"terugname\", \"terugwerkende_kracht\", \"terugwerkende_kracht\", \"terugwerkende_kracht\", \"test\", \"test\", \"test\", \"testcapaciteit\", \"testen\", \"testen\", \"testen\", \"testing\", \"testing\", \"tewerkstelling\", \"tewerkstelling\", \"tewerkstelling\", \"tewerkstelling\", \"thuis\", \"thuis\", \"thuis\", \"thuis\", \"tien\", \"tijdelijk\", \"tijdelijk\", \"tijdelijk\", \"tijdelijk\", \"tijdelijk\", \"tijdelijk\", \"tijdelijk\", \"tijdelijk\", \"tijdelijke_werkloosheid\", \"tijdelijke_werkloosheid\", \"titel\", \"titel\", \"titel\", \"titel\", \"titel\", \"titel\", \"titel\", \"titel\", \"titel\", \"toe_kennen\", \"toe_kennen\", \"toe_kennen\", \"toe_kennen\", \"toe_kennen\", \"toe_kennen\", \"toe_kennen\", \"toe_kennen\", \"toe_kennen\", \"toe_passen\", \"toe_passen\", \"toe_passen\", \"toe_passen\", \"toe_passen\", \"toekenning\", \"toekenning\", \"toekenning\", \"toekenning\", \"toekenning\", \"toekenning\", \"toekenning\", \"toelage\", \"toelage\", \"toelage\", \"toelating\", \"toelating\", \"toerisme\", \"toeslag\", \"toeslag\", \"treeden\", \"treeden\", \"treeden\", \"treeden\", \"triage\", \"tussenpersoon\", \"twee\", \"twee\", \"twee\", \"twee\", \"twee\", \"twee\", \"twee\", \"twee\", \"twee\", \"twee\", \"twee\", \"twee\", \"twee\", \"uit_geven\", \"uit_oefenen\", \"uit_oefenen\", \"uit_oefenen\", \"uit_oefenen\", \"uit_oefenen\", \"uit_oefenen\", \"uit_oefenen\", \"uit_oefenen\", \"uit_oefenen\", \"uit_oefenen\", \"uit_voeren\", \"uit_voeren\", \"uit_voeren\", \"uit_voeren\", \"uit_voeren\", \"uit_voeren\", \"uit_voeren\", \"uit_voeren\", \"uit_voeren\", \"uiterlijk\", \"uiterlijk\", \"uiterlijk\", \"uiterlijk\", \"uiterlijk\", \"uiterlijk\", \"uiterlijk\", \"uiterlijk\", \"uitgave\", \"uitgave\", \"uitgave\", \"uitgave\", \"uitgave\", \"uitkeringen_gecoordineerd\", \"uitoefening\", \"uitoefening\", \"uitoefening\", \"uitstel\", \"uitstel\", \"uittreksel\", \"uitvoering\", \"uitvoering\", \"uitvoering\", \"uitvoering\", \"uitvoering\", \"uitvoering\", \"uitvoering\", \"uitvoering\", \"uitvoering\", \"uitvoering\", \"uitvoering\", \"uniek\", \"uniek\", \"unilateraal\", \"universeel\", \"universitaire_ziekenhuizen\", \"uwe_majesteit\", \"vaccin\", \"vaccin\", \"vaccinatie\", \"vaccineren\", \"vaccinnet\", \"vak\", \"vak\", \"vakantie_dag\", \"vakantie_geld\", \"vakbekwaamheid\", \"vaststelling\", \"vaststelling\", \"vaststelling\", \"vaststelling\", \"vaststelling\", \"vaststelling\", \"vaststelling\", \"vaststelling\", \"vaststelling\", \"vaststelling\", \"vaststelling\", \"veertien\", \"vennootschap\", \"vennootschap\", \"vennootschapp\", \"verantwoording\", \"verbieden\", \"verbinteniss\", \"verbod\", \"verbod\", \"verbruik\", \"verdeling\", \"verdeling\", \"verdeling\", \"verdeling\", \"verdeling\", \"verdeling\", \"verdrag\", \"verdrag\", \"vereisen\", \"vereisen\", \"vereisen\", \"vereisen\", \"vereisen\", \"vereisen\", \"verenigd_koninkrijk\", \"verenigen\", \"verenigen\", \"verenigen\", \"vereniging\", \"vereniging\", \"vereniging\", \"vereniging\", \"vereniging\", \"vergadering\", \"vergadering\", \"vergadering\", \"vergadering\", \"vergadering\", \"vergadering\", \"vergezellen\", \"vergoedbaar\", \"vergoeding\", \"vergoeding\", \"vergoeding\", \"vergoeding\", \"vergoeding\", \"vergoeding\", \"vergoeding\", \"vergoeding\", \"vergoeding\", \"verhouding\", \"verhouding\", \"verhouding\", \"verhuur\", \"verhuurd\", \"verkeer\", \"verkrijgen\", \"verkrijgen\", \"verkrijgen\", \"verkrijgen\", \"verkrijgen\", \"verkrijgen\", \"verkrijgen\", \"verkrijgen\", \"verlenen\", \"verlenen\", \"verlenen\", \"verlenen\", \"verlenen\", \"verlenen\", \"verlenen\", \"verlenen\", \"verlenen\", \"verlenen\", \"verlenen\", \"verlengen\", \"verlengen\", \"verlengen\", \"verlengen\", \"verlengen\", \"verlengen\", \"verlengen\", \"verlenging\", \"verlenging\", \"verlenging\", \"verlenging\", \"verlijden\", \"vermeld\", \"vermeld\", \"vermeld\", \"vermeld\", \"vermeld\", \"vermeld\", \"vermeld\", \"vermeld\", \"vermelde\", \"vermelde\", \"vermelde\", \"vermelde\", \"vermelde\", \"vermelde\", \"vermelde\", \"vermelden\", \"vermelden\", \"vermelden\", \"vermelden\", \"vermelden\", \"vermelden\", \"vermelden\", \"vermelden\", \"vermelden\", \"vermelding\", \"vermelding\", \"vermelding\", \"vermelding\", \"vermelen\", \"vermelen\", \"vermellen\", \"vermellen\", \"vermellen\", \"vermellen\", \"vermellen\", \"vermellen\", \"vermellen\", \"vermelnen\", \"vermelnen\", \"vermelnen\", \"vermelnen\", \"vermenigvuldigdn\", \"vermoedelijk\", \"vermoedelijk\", \"vermoedelijk_besmette\", \"vermogen\", \"vermogen\", \"vernieuwing\", \"verordening\", \"verordening\", \"verordening\", \"verordening\", \"verordening\", \"verordening\", \"verplaatsing\", \"verpleegkundig\", \"verplichte_sluiting\", \"verplichte_verzekering\", \"verrekenen\", \"verrekenen\", \"verrichten\", \"verrichten\", \"verrichten\", \"verrichten\", \"verrichten\", \"verrichten\", \"verschillend\", \"verschillend\", \"verschillend\", \"verschillend\", \"verschillend\", \"verschillend\", \"verschuldigde\", \"verschuldigen\", \"verschuldigen\", \"verschuldigen\", \"verschuldigen\", \"verslag\", \"verslag\", \"verslag\", \"verslag\", \"verslag\", \"verslag\", \"versoepeling\", \"versoepeling\", \"verspreiding\", \"verspreiding\", \"verspreiding\", \"verspreiding\", \"verspreiding\", \"verspreiding\", \"verspreiding\", \"verstrijken\", \"verstrijken\", \"verstrijken\", \"vervallen\", \"vervallen\", \"vervangen\", \"vervangen\", \"vervangen\", \"vervangen\", \"vervangen\", \"vervangen\", \"vervangen\", \"vervangen\", \"vervangen\", \"vervat\", \"vervat\", \"vervoer\", \"vervoer\", \"vervoer\", \"vervoer\", \"vervoer\", \"verw_ijzing\", \"verwerken\", \"verwerken\", \"verwerken\", \"verwerker\", \"verwerking\", \"verwerking\", \"verwerking\", \"verwerking\", \"verwerving\", \"verwerving\", \"verwerving\", \"verwijderen\", \"verzamelen\", \"verzamelen\", \"verzameling\", \"verzekering\", \"verzekering\", \"verzekering\", \"verzending\", \"verzending\", \"verzoening\", \"vestigen\", \"vestigen\", \"vestigen\", \"vestigen\", \"vier\", \"vier\", \"vier\", \"vier\", \"vier\", \"vier\", \"vier\", \"vier\", \"vier\", \"vijf\", \"vijf\", \"vijf\", \"vijf\", \"vijf\", \"vijf\", \"vijf\", \"virus\", \"virus\", \"virus\", \"virus\", \"virus\", \"virus\", \"voertuig\", \"voetnoot\", \"voldaan\", \"voldaan\", \"voldaan\", \"voldaan\", \"voldoen\", \"voldoen\", \"voldoen\", \"voldoen\", \"voldoen\", \"voldoen\", \"voldoen\", \"voldoen\", \"voldoen\", \"voldoen\", \"voldoening\", \"volksgezondheid\", \"volksgezondheid\", \"volksgezondheid\", \"volksgezondheid\", \"volksgezondheid_gezin\", \"volksgezondheid_gezin\", \"volledig\", \"volledig\", \"volledig\", \"volledig\", \"volledig\", \"volledig\", \"volledig\", \"volledig\", \"volledig\", \"volledig\", \"volledig\", \"volstorting\", \"volwassen\", \"voor_meld\", \"vooraf\", \"vooraf\", \"voordracht\", \"voordracht\", \"voordracht\", \"voordracht\", \"voordracht\", \"voordracht\", \"voordracht\", \"voordracht\", \"voordracht\", \"voorgelegde_ontwerp\", \"voorkomen\", \"voorkomen\", \"voorkomen\", \"voorkomen\", \"voorkomen\", \"voorkomen\", \"voorkomen\", \"voorkomen\", \"voorkomen\", \"voorkomend_geval\", \"voorkomend_geval\", \"voorkomend_geval\", \"voorkomend_geval\", \"voorkomend_geval\", \"voorkomend_geval\", \"voorkoming\", \"voorkoming\", \"voorliggen\", \"voorliggen\", \"voornamen\", \"voorschot\", \"voorschot\", \"voorstel\", \"voorstel\", \"voorstel\", \"voorstel\", \"voort_zetten\", \"voortaan\", \"voortaan\", \"voortzetting\", \"voorwaarde\", \"voorwaarde\", \"voorwaarde\", \"voorwaarde\", \"voorwaarde\", \"voorwaarde\", \"voorwaarde\", \"voorwaarde\", \"voorwaarde\", \"voorwaarde\", \"voorwaarde\", \"voorwerp\", \"voorwerp\", \"voorwerp\", \"voorwerp\", \"voorwerp\", \"voorziening\", \"voorziening\", \"voorziening\", \"voorzitter\", \"voorzitter\", \"voorzitter\", \"voorzitter\", \"voorzitter\", \"voorzitter\", \"voorzitter\", \"vormingswerker\", \"vormvereisen\", \"vormvereisen\", \"vos_adviseur\", \"vrijgestelde\", \"waals\", \"waals\", \"waals\", \"waals\", \"waals_parlement\", \"waar\", \"waar\", \"waar\", \"waar\", \"waar\", \"waar\", \"waarbij\", \"waarbij\", \"waarbij\", \"waarbij\", \"waarbij\", \"waarbij\", \"waarbij\", \"waarbij\", \"waarin\", \"waarin\", \"waarin\", \"waarin\", \"waarin\", \"waarin\", \"waarin\", \"waarop\", \"waarop\", \"waarop\", \"waarop\", \"waarop\", \"waarop\", \"waarop\", \"waarop\", \"waarop\", \"waarop\", \"waarop\", \"waarop\", \"waarop\", \"waarop\", \"wallonie_bruxelles\", \"webplat_form\", \"week\", \"week\", \"week\", \"week\", \"week\", \"weg\", \"weg\", \"weg\", \"weg\", \"wegens_overmacht\", \"wegens_overmacht\", \"wegve_rkeer\", \"werk\", \"werk\", \"werk\", \"werk\", \"werk\", \"werk_dermagne\", \"werkgelegenheid\", \"werkgelegenheid\", \"werkgelegenheid\", \"werkgever\", \"werkgever\", \"werking\", \"werking\", \"werking\", \"werking\", \"werking\", \"werking\", \"werking\", \"werking\", \"werking\", \"werking\", \"werking\", \"werking\", \"werking\", \"werking\", \"werkloosheid\", \"werknemer\", \"werknemer\", \"werknemer\", \"werknemer\", \"werkzaam\", \"werkzaam\", \"werkzaam\", \"wet\", \"wet\", \"wet\", \"wet\", \"wet\", \"wet\", \"wet\", \"wet\", \"wet\", \"wet\", \"wet\", \"wet\", \"wetboek\", \"wetboek\", \"wetboek\", \"wetboek\", \"wetboek\", \"wetboek\", \"wetboek\", \"wetboek\", \"wetgever\", \"wetgeving\", \"wetgeving\", \"wetgeving\", \"wetgeving\", \"wetgeving\", \"wetsbepaling\", \"wetsvoorstel\", \"wetsvoorstel\", \"wettekst\", \"wettig\", \"wij_bekrachtigen\", \"wij_besloten\", \"wijzigen\", \"wijzigen\", \"wijzigen\", \"wijzigen\", \"wijzigen\", \"wijzigen\", \"wijzigen\", \"wijzigen\", \"wijzigen\", \"wijzigen\", \"wijzigen\", \"wijzigen\", \"wijzigen\", \"wijziging\", \"wijziging\", \"wijziging\", \"wijziging\", \"wijziging\", \"wijziging\", \"wijzigingen_aangebracht\", \"wijzigingen_aangebracht\", \"wijzigingen_aangebracht\", \"wins_toogmerk\", \"wins_toogmerk\", \"winst_oogmerk\", \"winst_oogmerk\", \"winstgevend_oogmerk\", \"winstoogmerk\", \"winter\", \"witwassen\", \"woon_plaats\", \"woon_plaats\", \"woonzorgcentrum\", \"woord\", \"woord\", \"woord\", \"woord\", \"zaak\", \"zaak\", \"zaak\", \"zaak\", \"zaak\", \"zaak\", \"zaak\", \"zakelijke_rech\", \"zegelden\", \"zegelen\", \"zelfstandig\", \"zelfstandig\", \"zelfstandig\", \"zelfstandig\", \"zending\", \"zending\", \"zending\", \"zending\", \"zestien\", \"ziekenhuis\", \"ziekenhuis\", \"ziekenhuizen_hulpverlening\", \"zien\", \"zien\", \"zien\", \"zien\", \"zien\", \"zien\", \"zien\", \"zien\", \"zin\", \"zin\", \"zin\", \"zin\", \"zin\", \"zin\", \"zin\", \"zin\", \"zin\", \"zinsnede\", \"zinsnede\", \"zittijd\", \"zitting\", \"zitting\", \"zitting\", \"zitting\", \"zitting\", \"zoek_motor\", \"zogenaamd\", \"zorg\", \"zorg\", \"zorg\", \"zorg\", \"zorgkundig\", \"zorgverlener\", \"\\u00e9\\u00e9n\", \"\\u00e9\\u00e9n\", \"\\u00e9\\u00e9n\", \"\\u00e9\\u00e9n\", \"\\u00e9\\u00e9n\", \"\\u00e9\\u00e9n\", \"\\u00e9\\u00e9n\", \"\\u00e9\\u00e9n\", \"\\u00e9\\u00e9n\", \"\\u00e9\\u00e9n\", \"\\u00e9\\u00e9n\", \"\\u00e9\\u00e9n\", \"\\u00e9\\u00e9n\", \"\\u00e9\\u00e9n\", \"\\u00e9\\u00e9n\", \"\\u00e9\\u00e9n\"]}, \"R\": 30, \"lambda.step\": 0.01, \"plot.opts\": {\"xlab\": \"PC1\", \"ylab\": \"PC2\"}, \"topic.order\": [7, 3, 11, 18, 9, 4, 16, 10, 13, 17, 5, 2, 12, 6, 20, 15, 1, 14, 8, 19]};\n",
              "\n",
              "function LDAvis_load_lib(url, callback){\n",
              "  var s = document.createElement('script');\n",
              "  s.src = url;\n",
              "  s.async = true;\n",
              "  s.onreadystatechange = s.onload = callback;\n",
              "  s.onerror = function(){console.warn(\"failed to load library \" + url);};\n",
              "  document.getElementsByTagName(\"head\")[0].appendChild(s);\n",
              "}\n",
              "\n",
              "if(typeof(LDAvis) !== \"undefined\"){\n",
              "   // already loaded: just create the visualization\n",
              "   !function(LDAvis){\n",
              "       new LDAvis(\"#\" + \"ldavis_el23291402893585678888486851973\", ldavis_el23291402893585678888486851973_data);\n",
              "   }(LDAvis);\n",
              "}else if(typeof define === \"function\" && define.amd){\n",
              "   // require.js is available: use it to load d3/LDAvis\n",
              "   require.config({paths: {d3: \"https://d3js.org/d3.v5\"}});\n",
              "   require([\"d3\"], function(d3){\n",
              "      window.d3 = d3;\n",
              "      LDAvis_load_lib(\"https://cdn.jsdelivr.net/gh/bmabey/pyLDAvis@3.3.1/pyLDAvis/js/ldavis.v3.0.0.js\", function(){\n",
              "        new LDAvis(\"#\" + \"ldavis_el23291402893585678888486851973\", ldavis_el23291402893585678888486851973_data);\n",
              "      });\n",
              "    });\n",
              "}else{\n",
              "    // require.js not available: dynamically load d3 & LDAvis\n",
              "    LDAvis_load_lib(\"https://d3js.org/d3.v5.js\", function(){\n",
              "         LDAvis_load_lib(\"https://cdn.jsdelivr.net/gh/bmabey/pyLDAvis@3.3.1/pyLDAvis/js/ldavis.v3.0.0.js\", function(){\n",
              "                 new LDAvis(\"#\" + \"ldavis_el23291402893585678888486851973\", ldavis_el23291402893585678888486851973_data);\n",
              "            })\n",
              "         });\n",
              "}\n",
              "</script>"
            ]
          },
          "metadata": {},
          "execution_count": 20
        }
      ]
    },
    {
      "cell_type": "markdown",
      "source": [
        "**How to make inferences from pyLDAvis' output:**\n",
        "\n",
        "Each bubble on the left-hand side plot represents a topic. The larger the bubble, the more prevalent is that topic.\n",
        "\n",
        "A good topic model will have fairly big, non-overlapping bubbles scattered throughout the chart instead of being clustered in one quadrant.\n",
        "\n",
        "A model with too many topics, will typically have many overlaps, small sized bubbles clustered in one region of the chart.\n",
        "\n",
        "Alright, if you move the cursor over one of the bubbles, the words and bars on the right-hand side will update. These words are the salient keywords that form the selected topic."
      ],
      "metadata": {
        "id": "2gk22bIUd26A"
      }
    },
    {
      "cell_type": "markdown",
      "source": [
        "## Mallet's version of LDA"
      ],
      "metadata": {
        "id": "ETy1_-3dfOJV"
      }
    },
    {
      "cell_type": "markdown",
      "source": [
        "Up next, we will improve upon this model by using **Mallet’s version of LDA algorithm** and then we will focus on how to arrive at the optimal number of topics given any large corpus of text."
      ],
      "metadata": {
        "id": "OK3o1pfYfR_C"
      }
    },
    {
      "cell_type": "markdown",
      "source": [
        "Gensim provides a wrapper to implement Mallet’s LDA from within Gensim itself. "
      ],
      "metadata": {
        "id": "BufgXlalgeK7"
      }
    },
    {
      "cell_type": "code",
      "source": [
        "# Upgrading Gensim\n",
        "# Updated to enforce Gensim v3.8 in Colab (the last version to support running topic models via Mallet).\n",
        "# https://github.com/polsci/colab-gensim-mallet\n",
        "!pip install --upgrade gensim==3.8"
      ],
      "metadata": {
        "id": "10EAD6GgiyVo"
      },
      "execution_count": null,
      "outputs": []
    },
    {
      "cell_type": "code",
      "source": [
        "# Installing Mallet\n",
        "!wget http://mallet.cs.umass.edu/dist/mallet-2.0.8.zip\n",
        "!unzip mallet-2.0.8.zip"
      ],
      "metadata": {
        "id": "RnZJ8JBxjnod"
      },
      "execution_count": null,
      "outputs": []
    },
    {
      "cell_type": "code",
      "source": [
        "mallet_path = 'mallet-2.0.8/bin/mallet'\n",
        "ldamallet = gensim.models.wrappers.LdaMallet(mallet_path, corpus=corpus, num_topics=20, id2word=id2word)"
      ],
      "metadata": {
        "id": "bmx7cxdXk8Is"
      },
      "execution_count": null,
      "outputs": []
    },
    {
      "cell_type": "code",
      "source": [
        "# Showing Topics\n",
        "pprint(ldamallet.show_topics(formatted=False))"
      ],
      "metadata": {
        "colab": {
          "base_uri": "https://localhost:8080/"
        },
        "id": "59BxDHcTjhBr",
        "outputId": "9d495fb4-f08b-4fac-d5b9-4e9972189995"
      },
      "execution_count": null,
      "outputs": [
        {
          "output_type": "stream",
          "name": "stdout",
          "text": [
            "[(8,\n",
            "  [('koninklijk', 0.04911494340196004),\n",
            "   ('wet', 0.042239611030920006),\n",
            "   ('cov_id', 0.03274329560130669),\n",
            "   ('zelfstandig', 0.023133024386538022),\n",
            "   ('tijdelijk', 0.01899263085922662),\n",
            "   ('kader', 0.018346881410012915),\n",
            "   ('houdende', 0.016599559370964065),\n",
            "   ('coronavirus', 0.015308060472536656),\n",
            "   ('periode', 0.01443439945301223),\n",
            "   ('advies', 0.013408797386613994)]),\n",
            " (13,\n",
            "  [('cov_id', 0.02466019417475728),\n",
            "   ('kader', 0.01372168284789644),\n",
            "   ('categorie', 0.013398058252427184),\n",
            "   ('coronavirus', 0.012427184466019418),\n",
            "   ('contact', 0.011391585760517799),\n",
            "   ('vermellen', 0.011197411003236245),\n",
            "   ('lijst', 0.010550161812297735),\n",
            "   ('decreet', 0.009838187702265373),\n",
            "   ('verwerking', 0.009385113268608414),\n",
            "   ('digitaal', 0.008802588996763753)]),\n",
            " (18,\n",
            "  [('cov_id', 0.024083584204002126),\n",
            "   ('beperken', 0.02107313617850186),\n",
            "   ('verspreiding', 0.020955079393188122),\n",
            "   ('coronavirus', 0.018593943686913406),\n",
            "   ('dringend', 0.01617377958798182),\n",
            "   ('gewest', 0.014284871022962045),\n",
            "   ('raad', 0.013104303169824685),\n",
            "   ('verlengen', 0.012277905672628535),\n",
            "   ('ministerieel', 0.011392479782775515),\n",
            "   ('letten', 0.011156366212148043)]),\n",
            " (19,\n",
            "  [('regering', 0.05330272889568988),\n",
            "   ('begroting', 0.02078551389951543),\n",
            "   ('cov_id', 0.019574088242795204),\n",
            "   ('kader', 0.017533792399897986),\n",
            "   ('dienst', 0.016258607498087222),\n",
            "   ('besluiten', 0.01536597806681969),\n",
            "   ('letten', 0.015238459576638613),\n",
            "   ('bijzonder', 0.01498342259627646),\n",
            "   ('belasten', 0.01396327467482785),\n",
            "   ('pandemie', 0.013899515429737311)]),\n",
            " (16,\n",
            "  [('ontwerp', 0.03100399660893787),\n",
            "   ('advies', 0.012534818941504178),\n",
            "   ('wet', 0.012171490856243188),\n",
            "   ('bepaling', 0.011898994792297444),\n",
            "   ('bevoegdheid', 0.010839287876952888),\n",
            "   ('ontwerpen', 0.01053651447256873),\n",
            "   ('één', 0.008477655322756449),\n",
            "   ('nemen', 0.008295991280125955),\n",
            "   ('raad', 0.008144604577933874),\n",
            "   ('ministerieel', 0.008023495216180211)]),\n",
            " (12,\n",
            "  [('onderneming', 0.042292796281951976),\n",
            "   ('steun', 0.03466305189775368),\n",
            "   ('code', 0.019558481797056545),\n",
            "   ('regering', 0.017195972114639815),\n",
            "   ('nace_bel', 0.014678543764523625),\n",
            "   ('activiteit', 0.013710302091402013),\n",
            "   ('aanvraag', 0.012161115414407436),\n",
            "   ('economisch', 0.011773818745158792),\n",
            "   ('economie', 0.01158017041053447),\n",
            "   ('vergoeding', 0.010573199070487994)]),\n",
            " (6,\n",
            "  [('brusselse_hoofdstedelijk', 0.060601351876311084),\n",
            "   ('ordonnantie', 0.03744852769792557),\n",
            "   ('regering', 0.031621474632895656),\n",
            "   ('gewestelijk', 0.022997436096651388),\n",
            "   ('procedure', 0.01709268899075441),\n",
            "   ('belasten', 0.01584958433688136),\n",
            "   ('datum', 0.0155388081734131),\n",
            "   ('één', 0.014218009478672985),\n",
            "   ('overheid_dienst', 0.013052598865667004),\n",
            "   ('naam', 0.012664128661331675)]),\n",
            " (5,\n",
            "  [('woord', 0.0841854124062713),\n",
            "   ('vervangen', 0.07083617359690979),\n",
            "   ('één', 0.03862758463985458),\n",
            "   ('paragraaf', 0.038570779368325384),\n",
            "   ('wet', 0.037945921381504204),\n",
            "   ('hetzelfde', 0.03135650988411725),\n",
            "   ('bepaling', 0.018518518518518517),\n",
            "   ('twee', 0.016757555101113382),\n",
            "   ('drie', 0.016359918200409),\n",
            "   ('luiden', 0.01493978641217905)]),\n",
            " (11,\n",
            "  [('bedrag', 0.02201407003398941),\n",
            "   ('hoofdstuk', 0.020551735040708244),\n",
            "   ('wet', 0.02047268990593629),\n",
            "   ('maand', 0.01699470397597028),\n",
            "   ('wetboek', 0.015729981819619),\n",
            "   ('vennootschap', 0.014504782230653704),\n",
            "   ('werknemer', 0.012014860485337127),\n",
            "   ('periode', 0.011342976839775512),\n",
            "   ('één', 0.011263931705003557),\n",
            "   ('voorwaarde', 0.011145364002845624)]),\n",
            " (3,\n",
            "  [('waals', 0.041339644119585406),\n",
            "   ('cov_id', 0.030974776825834282),\n",
            "   ('regering', 0.027140375052423463),\n",
            "   ('decreet', 0.019531484033311366),\n",
            "   ('uitvoering', 0.01755437061889641),\n",
            "   ('crisis', 0.011383380264813373),\n",
            "   ('vaccinatie', 0.01000539212749386),\n",
            "   ('bijzondere_machten', 0.009825654544365226),\n",
            "   ('fase', 0.008627403990174346),\n",
            "   ('sociaal', 0.0085674914624648)])]\n"
          ]
        }
      ]
    },
    {
      "cell_type": "code",
      "source": [
        "# Compute Coherence Score\n",
        "coherence_model_ldamallet = CoherenceModel(model=ldamallet, texts=data_lemmatized, dictionary=id2word, coherence='c_v')\n",
        "coherence_ldamallet = coherence_model_ldamallet.get_coherence()\n",
        "print('\\nCoherence Score: ', coherence_ldamallet)"
      ],
      "metadata": {
        "colab": {
          "base_uri": "https://localhost:8080/"
        },
        "id": "gIX9rBgujzdk",
        "outputId": "2f517cef-c900-4eb8-eca4-c40af1e3e15c"
      },
      "execution_count": null,
      "outputs": [
        {
          "output_type": "stream",
          "name": "stdout",
          "text": [
            "\n",
            "Coherence Score:  0.49145787837386523\n"
          ]
        }
      ]
    },
    {
      "cell_type": "markdown",
      "source": [
        "**NOTE:** A *remarkable increase* in **coherence score** from  **0.4755895419687482** to **0.5263633698781748**."
      ],
      "metadata": {
        "id": "Jw3eiFejkNuV"
      }
    },
    {
      "cell_type": "markdown",
      "source": [
        "### Finding the optimal number of topics for LDA"
      ],
      "metadata": {
        "id": "p_OfPJxEk16s"
      }
    },
    {
      "cell_type": "markdown",
      "source": [
        "The approach to finding the optimal number of topics is to build many LDA models with different values of number of topics (k) and pick the one that gives the highest coherence value."
      ],
      "metadata": {
        "id": "rYN-JJP8k-4d"
      }
    },
    {
      "cell_type": "code",
      "source": [
        "def compute_coherence_values(dictionary, corpus, texts, limit, start=2, step=3):\n",
        "    \"\"\"\n",
        "    Compute c_v coherence for various number of topics\n",
        "\n",
        "    Parameters:\n",
        "    ----------\n",
        "    dictionary : Gensim dictionary\n",
        "    corpus : Gensim corpus\n",
        "    texts : List of input texts\n",
        "    limit : Max num of topics\n",
        "\n",
        "    Returns:\n",
        "    -------\n",
        "    model_list : List of LDA topic models\n",
        "    coherence_values : Coherence values corresponding to the LDA model with respective number of topics\n",
        "    \"\"\"\n",
        "    coherence_values = []\n",
        "    model_list = []\n",
        "    for num_topics in range(start, limit, step):\n",
        "        model = gensim.models.wrappers.LdaMallet(mallet_path, corpus=corpus, num_topics=num_topics, id2word=id2word)\n",
        "        model_list.append(model)\n",
        "        coherencemodel = CoherenceModel(model=model, texts=texts, dictionary=dictionary, coherence='c_v')\n",
        "        coherence_values.append(coherencemodel.get_coherence())\n",
        "    \n",
        "    return model_list, coherence_values"
      ],
      "metadata": {
        "id": "OvCJUPmjj4_H"
      },
      "execution_count": null,
      "outputs": []
    },
    {
      "cell_type": "code",
      "source": [
        "# Can take a long time to run.\n",
        "model_list, coherence_values = compute_coherence_values(dictionary=id2word, corpus=corpus, texts=data_lemmatized, start=2, limit=40, step=6)"
      ],
      "metadata": {
        "id": "a2XYtjZplyTR",
        "colab": {
          "base_uri": "https://localhost:8080/",
          "height": 329
        },
        "outputId": "4b076854-710b-41e5-f79c-404e8ce811d6"
      },
      "execution_count": null,
      "outputs": [
        {
          "output_type": "error",
          "ename": "KeyboardInterrupt",
          "evalue": "ignored",
          "traceback": [
            "\u001b[0;31m---------------------------------------------------------------------------\u001b[0m",
            "\u001b[0;31mKeyboardInterrupt\u001b[0m                         Traceback (most recent call last)",
            "\u001b[0;32m<ipython-input-28-5788a6e71713>\u001b[0m in \u001b[0;36m<module>\u001b[0;34m()\u001b[0m\n\u001b[1;32m      1\u001b[0m \u001b[0;31m# Can take a long time to run.\u001b[0m\u001b[0;34m\u001b[0m\u001b[0;34m\u001b[0m\u001b[0;34m\u001b[0m\u001b[0m\n\u001b[0;32m----> 2\u001b[0;31m \u001b[0mmodel_list\u001b[0m\u001b[0;34m,\u001b[0m \u001b[0mcoherence_values\u001b[0m \u001b[0;34m=\u001b[0m \u001b[0mcompute_coherence_values\u001b[0m\u001b[0;34m(\u001b[0m\u001b[0mdictionary\u001b[0m\u001b[0;34m=\u001b[0m\u001b[0mid2word\u001b[0m\u001b[0;34m,\u001b[0m \u001b[0mcorpus\u001b[0m\u001b[0;34m=\u001b[0m\u001b[0mcorpus\u001b[0m\u001b[0;34m,\u001b[0m \u001b[0mtexts\u001b[0m\u001b[0;34m=\u001b[0m\u001b[0mdata_lemmatized\u001b[0m\u001b[0;34m,\u001b[0m \u001b[0mstart\u001b[0m\u001b[0;34m=\u001b[0m\u001b[0;36m2\u001b[0m\u001b[0;34m,\u001b[0m \u001b[0mlimit\u001b[0m\u001b[0;34m=\u001b[0m\u001b[0;36m40\u001b[0m\u001b[0;34m,\u001b[0m \u001b[0mstep\u001b[0m\u001b[0;34m=\u001b[0m\u001b[0;36m6\u001b[0m\u001b[0;34m)\u001b[0m\u001b[0;34m\u001b[0m\u001b[0;34m\u001b[0m\u001b[0m\n\u001b[0m",
            "\u001b[0;32m<ipython-input-27-c66a1f5c2cf2>\u001b[0m in \u001b[0;36mcompute_coherence_values\u001b[0;34m(dictionary, corpus, texts, limit, start, step)\u001b[0m\n\u001b[1;32m     18\u001b[0m     \u001b[0mmodel_list\u001b[0m \u001b[0;34m=\u001b[0m \u001b[0;34m[\u001b[0m\u001b[0;34m]\u001b[0m\u001b[0;34m\u001b[0m\u001b[0;34m\u001b[0m\u001b[0m\n\u001b[1;32m     19\u001b[0m     \u001b[0;32mfor\u001b[0m \u001b[0mnum_topics\u001b[0m \u001b[0;32min\u001b[0m \u001b[0mrange\u001b[0m\u001b[0;34m(\u001b[0m\u001b[0mstart\u001b[0m\u001b[0;34m,\u001b[0m \u001b[0mlimit\u001b[0m\u001b[0;34m,\u001b[0m \u001b[0mstep\u001b[0m\u001b[0;34m)\u001b[0m\u001b[0;34m:\u001b[0m\u001b[0;34m\u001b[0m\u001b[0;34m\u001b[0m\u001b[0m\n\u001b[0;32m---> 20\u001b[0;31m         \u001b[0mmodel\u001b[0m \u001b[0;34m=\u001b[0m \u001b[0mgensim\u001b[0m\u001b[0;34m.\u001b[0m\u001b[0mmodels\u001b[0m\u001b[0;34m.\u001b[0m\u001b[0mwrappers\u001b[0m\u001b[0;34m.\u001b[0m\u001b[0mLdaMallet\u001b[0m\u001b[0;34m(\u001b[0m\u001b[0mmallet_path\u001b[0m\u001b[0;34m,\u001b[0m \u001b[0mcorpus\u001b[0m\u001b[0;34m=\u001b[0m\u001b[0mcorpus\u001b[0m\u001b[0;34m,\u001b[0m \u001b[0mnum_topics\u001b[0m\u001b[0;34m=\u001b[0m\u001b[0mnum_topics\u001b[0m\u001b[0;34m,\u001b[0m \u001b[0mid2word\u001b[0m\u001b[0;34m=\u001b[0m\u001b[0mid2word\u001b[0m\u001b[0;34m)\u001b[0m\u001b[0;34m\u001b[0m\u001b[0;34m\u001b[0m\u001b[0m\n\u001b[0m\u001b[1;32m     21\u001b[0m         \u001b[0mmodel_list\u001b[0m\u001b[0;34m.\u001b[0m\u001b[0mappend\u001b[0m\u001b[0;34m(\u001b[0m\u001b[0mmodel\u001b[0m\u001b[0;34m)\u001b[0m\u001b[0;34m\u001b[0m\u001b[0;34m\u001b[0m\u001b[0m\n\u001b[1;32m     22\u001b[0m         \u001b[0mcoherencemodel\u001b[0m \u001b[0;34m=\u001b[0m \u001b[0mCoherenceModel\u001b[0m\u001b[0;34m(\u001b[0m\u001b[0mmodel\u001b[0m\u001b[0;34m=\u001b[0m\u001b[0mmodel\u001b[0m\u001b[0;34m,\u001b[0m \u001b[0mtexts\u001b[0m\u001b[0;34m=\u001b[0m\u001b[0mtexts\u001b[0m\u001b[0;34m,\u001b[0m \u001b[0mdictionary\u001b[0m\u001b[0;34m=\u001b[0m\u001b[0mdictionary\u001b[0m\u001b[0;34m,\u001b[0m \u001b[0mcoherence\u001b[0m\u001b[0;34m=\u001b[0m\u001b[0;34m'c_v'\u001b[0m\u001b[0;34m)\u001b[0m\u001b[0;34m\u001b[0m\u001b[0;34m\u001b[0m\u001b[0m\n",
            "\u001b[0;32m/usr/local/lib/python3.7/dist-packages/gensim/models/wrappers/ldamallet.py\u001b[0m in \u001b[0;36m__init__\u001b[0;34m(self, mallet_path, corpus, num_topics, alpha, id2word, workers, prefix, optimize_interval, iterations, topic_threshold)\u001b[0m\n\u001b[1;32m    124\u001b[0m             \u001b[0mprefix\u001b[0m \u001b[0;34m=\u001b[0m \u001b[0mos\u001b[0m\u001b[0;34m.\u001b[0m\u001b[0mpath\u001b[0m\u001b[0;34m.\u001b[0m\u001b[0mjoin\u001b[0m\u001b[0;34m(\u001b[0m\u001b[0mtempfile\u001b[0m\u001b[0;34m.\u001b[0m\u001b[0mgettempdir\u001b[0m\u001b[0;34m(\u001b[0m\u001b[0;34m)\u001b[0m\u001b[0;34m,\u001b[0m \u001b[0mrand_prefix\u001b[0m\u001b[0;34m)\u001b[0m\u001b[0;34m\u001b[0m\u001b[0;34m\u001b[0m\u001b[0m\n\u001b[1;32m    125\u001b[0m         \u001b[0mself\u001b[0m\u001b[0;34m.\u001b[0m\u001b[0mprefix\u001b[0m \u001b[0;34m=\u001b[0m \u001b[0mprefix\u001b[0m\u001b[0;34m\u001b[0m\u001b[0;34m\u001b[0m\u001b[0m\n\u001b[0;32m--> 126\u001b[0;31m         \u001b[0mself\u001b[0m\u001b[0;34m.\u001b[0m\u001b[0mworkers\u001b[0m \u001b[0;34m=\u001b[0m \u001b[0mworkers\u001b[0m\u001b[0;34m\u001b[0m\u001b[0;34m\u001b[0m\u001b[0m\n\u001b[0m\u001b[1;32m    127\u001b[0m         \u001b[0mself\u001b[0m\u001b[0;34m.\u001b[0m\u001b[0moptimize_interval\u001b[0m \u001b[0;34m=\u001b[0m \u001b[0moptimize_interval\u001b[0m\u001b[0;34m\u001b[0m\u001b[0;34m\u001b[0m\u001b[0m\n\u001b[1;32m    128\u001b[0m         \u001b[0mself\u001b[0m\u001b[0;34m.\u001b[0m\u001b[0miterations\u001b[0m \u001b[0;34m=\u001b[0m \u001b[0miterations\u001b[0m\u001b[0;34m\u001b[0m\u001b[0;34m\u001b[0m\u001b[0m\n",
            "\u001b[0;32m/usr/local/lib/python3.7/dist-packages/gensim/models/wrappers/ldamallet.py\u001b[0m in \u001b[0;36mtrain\u001b[0;34m(self, corpus)\u001b[0m\n\u001b[1;32m    265\u001b[0m \u001b[0;34m\u001b[0m\u001b[0m\n\u001b[1;32m    266\u001b[0m         \u001b[0mParameters\u001b[0m\u001b[0;34m\u001b[0m\u001b[0;34m\u001b[0m\u001b[0m\n\u001b[0;32m--> 267\u001b[0;31m         \u001b[0;34m-\u001b[0m\u001b[0;34m-\u001b[0m\u001b[0;34m-\u001b[0m\u001b[0;34m-\u001b[0m\u001b[0;34m-\u001b[0m\u001b[0;34m-\u001b[0m\u001b[0;34m-\u001b[0m\u001b[0;34m-\u001b[0m\u001b[0;34m-\u001b[0m\u001b[0;34m-\u001b[0m\u001b[0;34m\u001b[0m\u001b[0;34m\u001b[0m\u001b[0m\n\u001b[0m\u001b[1;32m    268\u001b[0m         \u001b[0mcorpus\u001b[0m \u001b[0;34m:\u001b[0m \u001b[0miterable\u001b[0m \u001b[0mof\u001b[0m \u001b[0miterable\u001b[0m \u001b[0mof\u001b[0m \u001b[0;34m(\u001b[0m\u001b[0mint\u001b[0m\u001b[0;34m,\u001b[0m \u001b[0mint\u001b[0m\u001b[0;34m)\u001b[0m\u001b[0;34m\u001b[0m\u001b[0;34m\u001b[0m\u001b[0m\n\u001b[1;32m    269\u001b[0m             \u001b[0mCorpus\u001b[0m \u001b[0;32min\u001b[0m \u001b[0mBoW\u001b[0m \u001b[0mformat\u001b[0m\u001b[0;34m\u001b[0m\u001b[0;34m\u001b[0m\u001b[0m\n",
            "\u001b[0;32m/usr/local/lib/python3.7/dist-packages/gensim/models/wrappers/ldamallet.py\u001b[0m in \u001b[0;36mconvert_input\u001b[0;34m(self, corpus, infer, serialize_corpus)\u001b[0m\n\u001b[1;32m    254\u001b[0m             \u001b[0;34m\"--remove-stopwords --token-regex \\\"\\\\S+\\\" --input %s --output %s\"\u001b[0m\u001b[0;34m\u001b[0m\u001b[0;34m\u001b[0m\u001b[0m\n\u001b[1;32m    255\u001b[0m         \u001b[0;32mif\u001b[0m \u001b[0minfer\u001b[0m\u001b[0;34m:\u001b[0m\u001b[0;34m\u001b[0m\u001b[0;34m\u001b[0m\u001b[0m\n\u001b[0;32m--> 256\u001b[0;31m             \u001b[0mcmd\u001b[0m \u001b[0;34m+=\u001b[0m \u001b[0;34m' --use-pipe-from '\u001b[0m \u001b[0;34m+\u001b[0m \u001b[0mself\u001b[0m\u001b[0;34m.\u001b[0m\u001b[0mfcorpusmallet\u001b[0m\u001b[0;34m(\u001b[0m\u001b[0;34m)\u001b[0m\u001b[0;34m\u001b[0m\u001b[0;34m\u001b[0m\u001b[0m\n\u001b[0m\u001b[1;32m    257\u001b[0m             \u001b[0mcmd\u001b[0m \u001b[0;34m=\u001b[0m \u001b[0mcmd\u001b[0m \u001b[0;34m%\u001b[0m \u001b[0;34m(\u001b[0m\u001b[0mself\u001b[0m\u001b[0;34m.\u001b[0m\u001b[0mfcorpustxt\u001b[0m\u001b[0;34m(\u001b[0m\u001b[0;34m)\u001b[0m\u001b[0;34m,\u001b[0m \u001b[0mself\u001b[0m\u001b[0;34m.\u001b[0m\u001b[0mfcorpusmallet\u001b[0m\u001b[0;34m(\u001b[0m\u001b[0;34m)\u001b[0m \u001b[0;34m+\u001b[0m \u001b[0;34m'.infer'\u001b[0m\u001b[0;34m)\u001b[0m\u001b[0;34m\u001b[0m\u001b[0;34m\u001b[0m\u001b[0m\n\u001b[1;32m    258\u001b[0m         \u001b[0;32melse\u001b[0m\u001b[0;34m:\u001b[0m\u001b[0;34m\u001b[0m\u001b[0;34m\u001b[0m\u001b[0m\n",
            "\u001b[0;32m/usr/local/lib/python3.7/dist-packages/gensim/utils.py\u001b[0m in \u001b[0;36mcheck_output\u001b[0;34m(stdout, *popenargs, **kwargs)\u001b[0m\n\u001b[1;32m   1869\u001b[0m     \u001b[0mbool\u001b[0m\u001b[0;34m\u001b[0m\u001b[0;34m\u001b[0m\u001b[0m\n\u001b[1;32m   1870\u001b[0m         \u001b[0;32mTrue\u001b[0m \u001b[0;32mif\u001b[0m\u001b[0;31m \u001b[0m\u001b[0;31m`\u001b[0m\u001b[0mword\u001b[0m\u001b[0;31m`\u001b[0m \u001b[0mshould\u001b[0m \u001b[0mstay\u001b[0m\u001b[0;34m,\u001b[0m \u001b[0;32mFalse\u001b[0m \u001b[0motherwise\u001b[0m\u001b[0;34m.\u001b[0m\u001b[0;34m\u001b[0m\u001b[0;34m\u001b[0m\u001b[0m\n\u001b[0;32m-> 1871\u001b[0;31m \u001b[0;34m\u001b[0m\u001b[0m\n\u001b[0m\u001b[1;32m   1872\u001b[0m     \"\"\"\n\u001b[1;32m   1873\u001b[0m     \u001b[0mdefault_res\u001b[0m \u001b[0;34m=\u001b[0m \u001b[0mcount\u001b[0m \u001b[0;34m>=\u001b[0m \u001b[0mmin_count\u001b[0m\u001b[0;34m\u001b[0m\u001b[0;34m\u001b[0m\u001b[0m\n",
            "\u001b[0;32m/usr/lib/python3.7/subprocess.py\u001b[0m in \u001b[0;36mcommunicate\u001b[0;34m(self, input, timeout)\u001b[0m\n\u001b[1;32m    949\u001b[0m                 \u001b[0mself\u001b[0m\u001b[0;34m.\u001b[0m\u001b[0m_stdin_write\u001b[0m\u001b[0;34m(\u001b[0m\u001b[0minput\u001b[0m\u001b[0;34m)\u001b[0m\u001b[0;34m\u001b[0m\u001b[0;34m\u001b[0m\u001b[0m\n\u001b[1;32m    950\u001b[0m             \u001b[0;32melif\u001b[0m \u001b[0mself\u001b[0m\u001b[0;34m.\u001b[0m\u001b[0mstdout\u001b[0m\u001b[0;34m:\u001b[0m\u001b[0;34m\u001b[0m\u001b[0;34m\u001b[0m\u001b[0m\n\u001b[0;32m--> 951\u001b[0;31m                 \u001b[0mstdout\u001b[0m \u001b[0;34m=\u001b[0m \u001b[0mself\u001b[0m\u001b[0;34m.\u001b[0m\u001b[0mstdout\u001b[0m\u001b[0;34m.\u001b[0m\u001b[0mread\u001b[0m\u001b[0;34m(\u001b[0m\u001b[0;34m)\u001b[0m\u001b[0;34m\u001b[0m\u001b[0;34m\u001b[0m\u001b[0m\n\u001b[0m\u001b[1;32m    952\u001b[0m                 \u001b[0mself\u001b[0m\u001b[0;34m.\u001b[0m\u001b[0mstdout\u001b[0m\u001b[0;34m.\u001b[0m\u001b[0mclose\u001b[0m\u001b[0;34m(\u001b[0m\u001b[0;34m)\u001b[0m\u001b[0;34m\u001b[0m\u001b[0;34m\u001b[0m\u001b[0m\n\u001b[1;32m    953\u001b[0m             \u001b[0;32melif\u001b[0m \u001b[0mself\u001b[0m\u001b[0;34m.\u001b[0m\u001b[0mstderr\u001b[0m\u001b[0;34m:\u001b[0m\u001b[0;34m\u001b[0m\u001b[0;34m\u001b[0m\u001b[0m\n",
            "\u001b[0;31mKeyboardInterrupt\u001b[0m: "
          ]
        }
      ]
    },
    {
      "cell_type": "code",
      "source": [
        "# Showing graph\n",
        "limit=40; start=2; step=6;\n",
        "x = range(start, limit, step)\n",
        "plt.plot(x, coherence_values)\n",
        "plt.xlabel(\"Num Topics\")\n",
        "plt.ylabel(\"Coherence score\")\n",
        "plt.legend((\"coherence_values\"), loc='best')\n",
        "plt.show()"
      ],
      "metadata": {
        "colab": {
          "base_uri": "https://localhost:8080/",
          "height": 281
        },
        "id": "k-rMtgaqmfBz",
        "outputId": "9b37cc9f-de57-46f8-aec1-a48cb0acf188"
      },
      "execution_count": null,
      "outputs": [
        {
          "output_type": "display_data",
          "data": {
            "text/plain": [
              "<Figure size 432x288 with 1 Axes>"
            ],
            "image/png": "[encoded data removed]"
          },
          "metadata": {
            "needs_background": "light"
          }
        }
      ]
    },
    {
      "cell_type": "markdown",
      "source": [
        "**NOTE:**\n",
        "The optimal **coherence score** shown in this plot lies **around 6-8 number of topics**."
      ],
      "metadata": {
        "id": "K3CVzCuq01Yt"
      }
    },
    {
      "cell_type": "code",
      "source": [
        "# Printing the coherence scores\n",
        "for m, cv in zip(x, coherence_values):\n",
        "    print(\"Num Topics =\", m, \" has Coherence Value of\", round(cv, 4))"
      ],
      "metadata": {
        "colab": {
          "base_uri": "https://localhost:8080/"
        },
        "id": "OQlk6b8OmmUG",
        "outputId": "dd2e8daf-d4dc-4e79-bd63-00f0e36f0054"
      },
      "execution_count": null,
      "outputs": [
        {
          "output_type": "stream",
          "name": "stdout",
          "text": [
            "Num Topics = 2  has Coherence Value of 0.422\n",
            "Num Topics = 8  has Coherence Value of 0.4514\n",
            "Num Topics = 14  has Coherence Value of 0.4875\n",
            "Num Topics = 20  has Coherence Value of 0.4801\n",
            "Num Topics = 26  has Coherence Value of 0.4663\n",
            "Num Topics = 32  has Coherence Value of 0.4728\n",
            "Num Topics = 38  has Coherence Value of 0.4686\n"
          ]
        }
      ]
    },
    {
      "cell_type": "markdown",
      "source": [
        "If the coherence score seems to keep increasing, it may make better sense to pick the model that gave the highest CV before flattening out."
      ],
      "metadata": {
        "id": "gKIMg0vbmtiA"
      }
    },
    {
      "cell_type": "markdown",
      "source": [
        "### Choosing the model with fourteen (14) topics"
      ],
      "metadata": {
        "id": "yGPOHR2Vm128"
      }
    },
    {
      "cell_type": "code",
      "source": [
        "# Select the model and print the topics\n",
        "# The best LDA model with the optimal coherence score has 14 topics, which is\n",
        "# index 2 from the model_list list\n",
        "optimal_model = model_list[2]\n",
        "model_topics = optimal_model.show_topics(formatted=False)\n",
        "pprint(optimal_model.print_topics(num_words=10))"
      ],
      "metadata": {
        "colab": {
          "base_uri": "https://localhost:8080/"
        },
        "id": "PHB5hvHsmveV",
        "outputId": "6be5669d-0ffc-4625-e29d-2d00021fcd53"
      },
      "execution_count": null,
      "outputs": [
        {
          "output_type": "stream",
          "name": "stdout",
          "text": [
            "[(0,\n",
            "  '0.037*\"persoon\" + 0.024*\"cov_id\" + 0.020*\"artikel\" + 0.013*\"betreffen\" + '\n",
            "  '0.012*\"gegeven\" + 0.011*\"vaccinatie\" + 0.011*\"coronavirus\" + '\n",
            "  '0.011*\"bevoegd\" + 0.009*\"verwerking\" + 0.008*\"bepalen\"'),\n",
            " (1,\n",
            "  '0.017*\"bedrag\" + 0.014*\"financieel\" + 0.014*\"ziekenhuis\" + 0.013*\"euro\" + '\n",
            "  '0.012*\"artikel\" + 0.011*\"jaar\" + 0.009*\"instelling\" + 0.008*\"volgen\" + '\n",
            "  '0.008*\"basis\" + 0.008*\"kost\"'),\n",
            " (2,\n",
            "  '0.026*\"brusselse_hoofdstedelijk\" + 0.019*\"regering\" + 0.019*\"besluit\" + '\n",
            "  '0.015*\"ordonnantie\" + 0.014*\"minister\" + 0.014*\"gewest\" + '\n",
            "  '0.012*\"betrekking\" + 0.011*\"belasten\" + 0.010*\"belasting\" + '\n",
            "  '0.010*\"administratie\"'),\n",
            " (3,\n",
            "  '0.030*\"artikel\" + 0.020*\"bedoelen\" + 0.016*\"betreffen\" + 0.015*\"procedure\" '\n",
            "  '+ 0.015*\"persoon\" + 0.015*\"kennisgeving\" + 0.015*\"fiscaal\" + '\n",
            "  '0.015*\"akkoord\" + 0.014*\"inlichting\" + 0.013*\"toepassing\"'),\n",
            " (4,\n",
            "  '0.019*\"cov_id\" + 0.016*\"artikel\" + 0.014*\"patiënt\" + 0.011*\"bepalen\" + '\n",
            "  '0.011*\"voorzien\" + 0.010*\"verstrekking\" + 0.008*\"werknemer\" + '\n",
            "  '0.008*\"ziekenhuis\" + 0.008*\"mogelijk\" + 0.007*\"maatregel\"'),\n",
            " (5,\n",
            "  '0.067*\"besluit\" + 0.042*\"koninklijk\" + 0.040*\"wet\" + 0.037*\"artikel\" + '\n",
            "  '0.027*\"cov_id\" + 0.023*\"minister\" + 0.021*\"maatregel\" + 0.016*\"geven\" + '\n",
            "  '0.014*\"zelfstandig\" + 0.014*\"gelet\"'),\n",
            " (6,\n",
            "  '0.040*\"artikel\" + 0.022*\"bedoelen\" + 0.021*\"wet\" + 0.016*\"hoofdstuk\" + '\n",
            "  '0.016*\"werknemer\" + 0.015*\"sociaal\" + 0.014*\"periode\" + 0.013*\"toepassing\" '\n",
            "  '+ 0.012*\"maand\" + 0.011*\"bedrag\"'),\n",
            " (7,\n",
            "  '0.041*\"artikel\" + 0.036*\"Vlaams\" + 0.026*\"besluit\" + 0.025*\"lid\" + '\n",
            "  '0.024*\"decreet\" + 0.021*\"vermellen\" + 0.018*\"subsidie\" + 0.017*\"volgen\" + '\n",
            "  '0.013*\"periode\" + 0.013*\"regering\"'),\n",
            " (8,\n",
            "  '0.051*\"artikel\" + 0.032*\"wetboek\" + 0.028*\"bedoelen\" + 0.024*\"lid\" + '\n",
            "  '0.024*\"goed\" + 0.018*\"regeling\" + 0.017*\"één\" + 0.017*\"bijzonder\" + '\n",
            "  '0.016*\"belasting\" + 0.015*\"besluit\"'),\n",
            " (9,\n",
            "  '0.084*\"artikel\" + 0.071*\"lid\" + 0.052*\"woord\" + 0.038*\"vervangen\" + '\n",
            "  '0.035*\"wet\" + 0.034*\"één\" + 0.031*\"bedoelen\" + 0.026*\"paragraaf\" + '\n",
            "  '0.021*\"volgen\" + 0.018*\"hetzelfde\"'),\n",
            " (10,\n",
            "  '0.033*\"onderneming\" + 0.028*\"steun\" + 0.020*\"artikel\" + 0.016*\"code\" + '\n",
            "  '0.016*\"bedoelen\" + 0.015*\"betreffen\" + 0.014*\"regering\" + 0.013*\"besluit\" + '\n",
            "  '0.013*\"minister\" + 0.012*\"nace_bel\"'),\n",
            " (11,\n",
            "  '0.034*\"artikel\" + 0.020*\"besluit\" + 0.019*\"onderwijs\" + 0.018*\"decreet\" + '\n",
            "  '0.014*\"betreffen\" + 0.014*\"leerling\" + 0.013*\"regering\" + 0.012*\"lid\" + '\n",
            "  '0.012*\"overwegende\" + 0.011*\"organiseren\"'),\n",
            " (12,\n",
            "  '0.028*\"artikel\" + 0.019*\"maatregel\" + 0.019*\"ontwerp\" + 0.010*\"lid\" + '\n",
            "  '0.010*\"wet\" + 0.009*\"bepalen\" + 0.009*\"bepaling\" + 0.008*\"besluit\" + '\n",
            "  '0.008*\"bevoegdheid\" + 0.008*\"volgen\"'),\n",
            " (13,\n",
            "  '0.044*\"regering\" + 0.036*\"besluit\" + 0.031*\"minister\" + 0.027*\"overwegende\" '\n",
            "  '+ 0.026*\"waals\" + 0.023*\"cov_id\" + 0.023*\"artikel\" + 0.023*\"decreet\" + '\n",
            "  '0.017*\"gelet\" + 0.017*\"maatregel\"')]\n"
          ]
        }
      ]
    },
    {
      "cell_type": "markdown",
      "source": [
        "### Finding the dominant topic in each sentence"
      ],
      "metadata": {
        "id": "jM5BBtRPm-BA"
      }
    },
    {
      "cell_type": "markdown",
      "source": [
        "One of the practical application of topic modeling is to determine what topic a given document is about.\n",
        "\n",
        "To find that, we find the **topic number that has the highest percentage contribution** in the document/set of documents."
      ],
      "metadata": {
        "id": "snt2Rep5nGWg"
      }
    },
    {
      "cell_type": "code",
      "source": [
        "def format_topics_sentences(ldamodel=lda_model, corpus=corpus, texts=data_words):\n",
        "    # Init output\n",
        "    sent_topics_df = pd.DataFrame()\n",
        "\n",
        "    # Get main topic in each document\n",
        "    for i, row in enumerate(ldamodel[corpus]):\n",
        "        row = sorted(row, key=lambda x: (x[1]), reverse=True)\n",
        "        # Get the Dominant topic, Perc Contribution and Keywords for each document\n",
        "        for j, (topic_num, prop_topic) in enumerate(row):\n",
        "            if j == 0:  # => dominant topic\n",
        "                wp = ldamodel.show_topic(topic_num)\n",
        "                topic_keywords = \", \".join([word for word, prop in wp])\n",
        "                sent_topics_df = sent_topics_df.append(pd.Series([int(topic_num), round(prop_topic,4), topic_keywords]), ignore_index=True)\n",
        "            else:\n",
        "                break\n",
        "    sent_topics_df.columns = ['Dominant_Topic', 'Perc_Contribution', 'Topic_Keywords']\n",
        "\n",
        "    # Add original text to the end of the output\n",
        "    contents = pd.Series(texts)\n",
        "    sent_topics_df = pd.concat([sent_topics_df, contents], axis=1)\n",
        "    return(sent_topics_df)\n",
        "\n",
        "df_topic_sents_keywords = format_topics_sentences(ldamodel=optimal_model, corpus=corpus, texts=data_words)"
      ],
      "metadata": {
        "id": "4dZDyOL2mn1T"
      },
      "execution_count": null,
      "outputs": []
    },
    {
      "cell_type": "code",
      "source": [
        "# Formatting\n",
        "df_dominant_topic = df_topic_sents_keywords.reset_index()\n",
        "df_dominant_topic.columns = ['Document_No', 'Dominant_Topic', 'Topic_Perc_Contrib', 'Keywords', 'Text']\n",
        "\n",
        "# Showing\n",
        "df_dominant_topic.head(10)"
      ],
      "metadata": {
        "colab": {
          "base_uri": "https://localhost:8080/",
          "height": 363
        },
        "id": "Rko8z_8PnYaa",
        "outputId": "0abd9f6c-7ad7-494b-8cfc-8a9bab16ebc1"
      },
      "execution_count": null,
      "outputs": [
        {
          "output_type": "execute_result",
          "data": {
            "text/plain": [
              "   Document_No  Dominant_Topic  Topic_Perc_Contrib  \\\n",
              "0            0             8.0              0.7347   \n",
              "1            1             2.0              0.4394   \n",
              "2            2             5.0              0.5631   \n",
              "3            3            11.0              0.6697   \n",
              "4            4            10.0              0.2717   \n",
              "5            5             7.0              0.4446   \n",
              "6            6             9.0              0.3213   \n",
              "7            7            13.0              0.3958   \n",
              "8            8             5.0              0.4133   \n",
              "9            9             5.0              0.3022   \n",
              "\n",
              "                                            Keywords  \\\n",
              "0  artikel, wetboek, bedoelen, lid, goed, regelin...   \n",
              "1  brusselse_hoofdstedelijk, regering, besluit, o...   \n",
              "2  besluit, koninklijk, wet, artikel, cov_id, min...   \n",
              "3  artikel, besluit, onderwijs, decreet, betreffe...   \n",
              "4  onderneming, steun, artikel, code, bedoelen, b...   \n",
              "5  artikel, Vlaams, besluit, lid, decreet, vermel...   \n",
              "6  artikel, lid, woord, vervangen, wet, één, bedo...   \n",
              "7  regering, besluit, minister, overwegende, waal...   \n",
              "8  besluit, koninklijk, wet, artikel, cov_id, min...   \n",
              "9  besluit, koninklijk, wet, artikel, cov_id, min...   \n",
              "\n",
              "                                                Text  \n",
              "0  [de, coefficient, bedoeld, in, artikel, van, h...  \n",
              "1  [filip, koning, der, belgen, aan, allen, die, ...  \n",
              "2  [verslag, aan, de, koning, sire, het, koninkli...  \n",
              "3  [de, regering, van, de, franse, gemeenschap, g...  \n",
              "4  [de, waalse, regering, gelet, op, het, decreet...  \n",
              "5  [het, vlaams, parlement, heeft, aangenomen, en...  \n",
              "6  [in, worden, de, woorden, pct, vervangen, door...  \n",
              "7  [de, regering, van, de, franse, gemeenschap, g...  \n",
              "8  [filip, koning, der, belgen, aan, allen, die, ...  \n",
              "9  [de, brusselse, hoofdstedelijke, regering, gel...  "
            ],
            "text/html": [
              "\n",
              "  <div id=\"df-e7fb240d-5502-4f94-959e-794d4f15ddd8\">\n",
              "    <div class=\"colab-df-container\">\n",
              "      <div>\n",
              "<style scoped>\n",
              "    .dataframe tbody tr th:only-of-type {\n",
              "        vertical-align: middle;\n",
              "    }\n",
              "\n",
              "    .dataframe tbody tr th {\n",
              "        vertical-align: top;\n",
              "    }\n",
              "\n",
              "    .dataframe thead th {\n",
              "        text-align: right;\n",
              "    }\n",
              "</style>\n",
              "<table border=\"1\" class=\"dataframe\">\n",
              "  <thead>\n",
              "    <tr style=\"text-align: right;\">\n",
              "      <th></th>\n",
              "      <th>Document_No</th>\n",
              "      <th>Dominant_Topic</th>\n",
              "      <th>Topic_Perc_Contrib</th>\n",
              "      <th>Keywords</th>\n",
              "      <th>Text</th>\n",
              "    </tr>\n",
              "  </thead>\n",
              "  <tbody>\n",
              "    <tr>\n",
              "      <th>0</th>\n",
              "      <td>0</td>\n",
              "      <td>8.0</td>\n",
              "      <td>0.7347</td>\n",
              "      <td>artikel, wetboek, bedoelen, lid, goed, regelin...</td>\n",
              "      <td>[de, coefficient, bedoeld, in, artikel, van, h...</td>\n",
              "    </tr>\n",
              "    <tr>\n",
              "      <th>1</th>\n",
              "      <td>1</td>\n",
              "      <td>2.0</td>\n",
              "      <td>0.4394</td>\n",
              "      <td>brusselse_hoofdstedelijk, regering, besluit, o...</td>\n",
              "      <td>[filip, koning, der, belgen, aan, allen, die, ...</td>\n",
              "    </tr>\n",
              "    <tr>\n",
              "      <th>2</th>\n",
              "      <td>2</td>\n",
              "      <td>5.0</td>\n",
              "      <td>0.5631</td>\n",
              "      <td>besluit, koninklijk, wet, artikel, cov_id, min...</td>\n",
              "      <td>[verslag, aan, de, koning, sire, het, koninkli...</td>\n",
              "    </tr>\n",
              "    <tr>\n",
              "      <th>3</th>\n",
              "      <td>3</td>\n",
              "      <td>11.0</td>\n",
              "      <td>0.6697</td>\n",
              "      <td>artikel, besluit, onderwijs, decreet, betreffe...</td>\n",
              "      <td>[de, regering, van, de, franse, gemeenschap, g...</td>\n",
              "    </tr>\n",
              "    <tr>\n",
              "      <th>4</th>\n",
              "      <td>4</td>\n",
              "      <td>10.0</td>\n",
              "      <td>0.2717</td>\n",
              "      <td>onderneming, steun, artikel, code, bedoelen, b...</td>\n",
              "      <td>[de, waalse, regering, gelet, op, het, decreet...</td>\n",
              "    </tr>\n",
              "    <tr>\n",
              "      <th>5</th>\n",
              "      <td>5</td>\n",
              "      <td>7.0</td>\n",
              "      <td>0.4446</td>\n",
              "      <td>artikel, Vlaams, besluit, lid, decreet, vermel...</td>\n",
              "      <td>[het, vlaams, parlement, heeft, aangenomen, en...</td>\n",
              "    </tr>\n",
              "    <tr>\n",
              "      <th>6</th>\n",
              "      <td>6</td>\n",
              "      <td>9.0</td>\n",
              "      <td>0.3213</td>\n",
              "      <td>artikel, lid, woord, vervangen, wet, één, bedo...</td>\n",
              "      <td>[in, worden, de, woorden, pct, vervangen, door...</td>\n",
              "    </tr>\n",
              "    <tr>\n",
              "      <th>7</th>\n",
              "      <td>7</td>\n",
              "      <td>13.0</td>\n",
              "      <td>0.3958</td>\n",
              "      <td>regering, besluit, minister, overwegende, waal...</td>\n",
              "      <td>[de, regering, van, de, franse, gemeenschap, g...</td>\n",
              "    </tr>\n",
              "    <tr>\n",
              "      <th>8</th>\n",
              "      <td>8</td>\n",
              "      <td>5.0</td>\n",
              "      <td>0.4133</td>\n",
              "      <td>besluit, koninklijk, wet, artikel, cov_id, min...</td>\n",
              "      <td>[filip, koning, der, belgen, aan, allen, die, ...</td>\n",
              "    </tr>\n",
              "    <tr>\n",
              "      <th>9</th>\n",
              "      <td>9</td>\n",
              "      <td>5.0</td>\n",
              "      <td>0.3022</td>\n",
              "      <td>besluit, koninklijk, wet, artikel, cov_id, min...</td>\n",
              "      <td>[de, brusselse, hoofdstedelijke, regering, gel...</td>\n",
              "    </tr>\n",
              "  </tbody>\n",
              "</table>\n",
              "</div>\n",
              "      <button class=\"colab-df-convert\" onclick=\"convertToInteractive('df-e7fb240d-5502-4f94-959e-794d4f15ddd8')\"\n",
              "              title=\"Convert this dataframe to an interactive table.\"\n",
              "              style=\"display:none;\">\n",
              "        \n",
              "  <svg xmlns=\"http://www.w3.org/2000/svg\" height=\"24px\"viewBox=\"0 0 24 24\"\n",
              "       width=\"24px\">\n",
              "    <path d=\"M0 0h24v24H0V0z\" fill=\"none\"/>\n",
              "    <path d=\"M18.56 5.44l.94 2.06.94-2.06 2.06-.94-2.06-.94-.94-2.06-.94 2.06-2.06.94zm-11 1L8.5 8.5l.94-2.06 2.06-.94-2.06-.94L8.5 2.5l-.94 2.06-2.06.94zm10 10l.94 2.06.94-2.06 2.06-.94-2.06-.94-.94-2.06-.94 2.06-2.06.94z\"/><path d=\"M17.41 7.96l-1.37-1.37c-.4-.4-.92-.59-1.43-.59-.52 0-1.04.2-1.43.59L10.3 9.45l-7.72 7.72c-.78.78-.78 2.05 0 2.83L4 21.41c.39.39.9.59 1.41.59.51 0 1.02-.2 1.41-.59l7.78-7.78 2.81-2.81c.8-.78.8-2.07 0-2.86zM5.41 20L4 18.59l7.72-7.72 1.47 1.35L5.41 20z\"/>\n",
              "  </svg>\n",
              "      </button>\n",
              "      \n",
              "  <style>\n",
              "    .colab-df-container {\n",
              "      display:flex;\n",
              "      flex-wrap:wrap;\n",
              "      gap: 12px;\n",
              "    }\n",
              "\n",
              "    .colab-df-convert {\n",
              "      background-color: #E8F0FE;\n",
              "      border: none;\n",
              "      border-radius: 50%;\n",
              "      cursor: pointer;\n",
              "      display: none;\n",
              "      fill: #1967D2;\n",
              "      height: 32px;\n",
              "      padding: 0 0 0 0;\n",
              "      width: 32px;\n",
              "    }\n",
              "\n",
              "    .colab-df-convert:hover {\n",
              "      background-color: #E2EBFA;\n",
              "      box-shadow: 0px 1px 2px rgba(60, 64, 67, 0.3), 0px 1px 3px 1px rgba(60, 64, 67, 0.15);\n",
              "      fill: #174EA6;\n",
              "    }\n",
              "\n",
              "    [theme=dark] .colab-df-convert {\n",
              "      background-color: #3B4455;\n",
              "      fill: #D2E3FC;\n",
              "    }\n",
              "\n",
              "    [theme=dark] .colab-df-convert:hover {\n",
              "      background-color: #434B5C;\n",
              "      box-shadow: 0px 1px 3px 1px rgba(0, 0, 0, 0.15);\n",
              "      filter: drop-shadow(0px 1px 2px rgba(0, 0, 0, 0.3));\n",
              "      fill: #FFFFFF;\n",
              "    }\n",
              "  </style>\n",
              "\n",
              "      <script>\n",
              "        const buttonEl =\n",
              "          document.querySelector('#df-e7fb240d-5502-4f94-959e-794d4f15ddd8 button.colab-df-convert');\n",
              "        buttonEl.style.display =\n",
              "          google.colab.kernel.accessAllowed ? 'block' : 'none';\n",
              "\n",
              "        async function convertToInteractive(key) {\n",
              "          const element = document.querySelector('#df-e7fb240d-5502-4f94-959e-794d4f15ddd8');\n",
              "          const dataTable =\n",
              "            await google.colab.kernel.invokeFunction('convertToInteractive',\n",
              "                                                     [key], {});\n",
              "          if (!dataTable) return;\n",
              "\n",
              "          const docLinkHtml = 'Like what you see? Visit the ' +\n",
              "            '<a target=\"_blank\" href=https://colab.research.google.com/notebooks/data_table.ipynb>data table notebook</a>'\n",
              "            + ' to learn more about interactive tables.';\n",
              "          element.innerHTML = '';\n",
              "          dataTable['output_type'] = 'display_data';\n",
              "          await google.colab.output.renderOutput(dataTable, element);\n",
              "          const docLink = document.createElement('div');\n",
              "          docLink.innerHTML = docLinkHtml;\n",
              "          element.appendChild(docLink);\n",
              "        }\n",
              "      </script>\n",
              "    </div>\n",
              "  </div>\n",
              "  "
            ]
          },
          "metadata": {},
          "execution_count": 34
        }
      ]
    },
    {
      "cell_type": "markdown",
      "source": [
        "### Finding the most representative document for each topic"
      ],
      "metadata": {
        "id": "rH-gdgkgpfiM"
      }
    },
    {
      "cell_type": "markdown",
      "source": [
        "With understanding the topic, you can find the documents a given topic has contributed to the most and infer the topic by reading that document."
      ],
      "metadata": {
        "id": "Z1e_t-Ufpiyf"
      }
    },
    {
      "cell_type": "code",
      "source": [
        "# Grouping the top 5 sentences under each topic\n",
        "sent_topics_sorteddf_mallet = pd.DataFrame()\n",
        "\n",
        "sent_topics_outdf_grpd = df_topic_sents_keywords.groupby('Dominant_Topic')\n",
        "\n",
        "for i, grp in sent_topics_outdf_grpd:\n",
        "    sent_topics_sorteddf_mallet = pd.concat([sent_topics_sorteddf_mallet, \n",
        "                                             grp.sort_values(['Perc_Contribution'], ascending=[0]).head(1)], \n",
        "                                            axis=0)\n",
        "\n",
        "# Reseting Index    \n",
        "sent_topics_sorteddf_mallet.reset_index(drop=True, inplace=True)\n",
        "\n",
        "# Formating\n",
        "sent_topics_sorteddf_mallet.columns = ['Topic_Num', \"Topic_Perc_Contrib\", \"Keywords\", \"Text\"]\n",
        "\n",
        "# Showing\n",
        "sent_topics_sorteddf_mallet.head()"
      ],
      "metadata": {
        "colab": {
          "base_uri": "https://localhost:8080/",
          "height": 206
        },
        "id": "RNhW5j47pqBn",
        "outputId": "5e0ce6cb-b7e1-40bb-fa76-11b48b833854"
      },
      "execution_count": null,
      "outputs": [
        {
          "output_type": "execute_result",
          "data": {
            "text/plain": [
              "   Topic_Num  Topic_Perc_Contrib  \\\n",
              "0        0.0              0.8710   \n",
              "1        1.0              0.8355   \n",
              "2        2.0              0.9438   \n",
              "3        3.0              0.9013   \n",
              "4        4.0              0.8259   \n",
              "\n",
              "                                            Keywords  \\\n",
              "0  persoon, cov_id, artikel, betreffen, gegeven, ...   \n",
              "1  bedrag, financieel, ziekenhuis, euro, artikel,...   \n",
              "2  brusselse_hoofdstedelijk, regering, besluit, o...   \n",
              "3  artikel, bedoelen, betreffen, procedure, perso...   \n",
              "4  cov_id, artikel, patiënt, bepalen, voorzien, v...   \n",
              "\n",
              "                                                Text  \n",
              "0  [filip, koning, der, belgen, aan, allen, die, ...  \n",
              "1  [startende, vennootschappen, kunnen, moeilijkh...  \n",
              "2  [krachtens, artikel, van, het, koninklijk, bes...  \n",
              "3  [de, brusselse, hoofdstedelijke, regering, gel...  \n",
              "4  [verslag, aan, de, koning, sire, ik, heb, de, ...  "
            ],
            "text/html": [
              "\n",
              "  <div id=\"df-7787cf52-46f7-4ac8-82b6-58ee82d1289e\">\n",
              "    <div class=\"colab-df-container\">\n",
              "      <div>\n",
              "<style scoped>\n",
              "    .dataframe tbody tr th:only-of-type {\n",
              "        vertical-align: middle;\n",
              "    }\n",
              "\n",
              "    .dataframe tbody tr th {\n",
              "        vertical-align: top;\n",
              "    }\n",
              "\n",
              "    .dataframe thead th {\n",
              "        text-align: right;\n",
              "    }\n",
              "</style>\n",
              "<table border=\"1\" class=\"dataframe\">\n",
              "  <thead>\n",
              "    <tr style=\"text-align: right;\">\n",
              "      <th></th>\n",
              "      <th>Topic_Num</th>\n",
              "      <th>Topic_Perc_Contrib</th>\n",
              "      <th>Keywords</th>\n",
              "      <th>Text</th>\n",
              "    </tr>\n",
              "  </thead>\n",
              "  <tbody>\n",
              "    <tr>\n",
              "      <th>0</th>\n",
              "      <td>0.0</td>\n",
              "      <td>0.8710</td>\n",
              "      <td>persoon, cov_id, artikel, betreffen, gegeven, ...</td>\n",
              "      <td>[filip, koning, der, belgen, aan, allen, die, ...</td>\n",
              "    </tr>\n",
              "    <tr>\n",
              "      <th>1</th>\n",
              "      <td>1.0</td>\n",
              "      <td>0.8355</td>\n",
              "      <td>bedrag, financieel, ziekenhuis, euro, artikel,...</td>\n",
              "      <td>[startende, vennootschappen, kunnen, moeilijkh...</td>\n",
              "    </tr>\n",
              "    <tr>\n",
              "      <th>2</th>\n",
              "      <td>2.0</td>\n",
              "      <td>0.9438</td>\n",
              "      <td>brusselse_hoofdstedelijk, regering, besluit, o...</td>\n",
              "      <td>[krachtens, artikel, van, het, koninklijk, bes...</td>\n",
              "    </tr>\n",
              "    <tr>\n",
              "      <th>3</th>\n",
              "      <td>3.0</td>\n",
              "      <td>0.9013</td>\n",
              "      <td>artikel, bedoelen, betreffen, procedure, perso...</td>\n",
              "      <td>[de, brusselse, hoofdstedelijke, regering, gel...</td>\n",
              "    </tr>\n",
              "    <tr>\n",
              "      <th>4</th>\n",
              "      <td>4.0</td>\n",
              "      <td>0.8259</td>\n",
              "      <td>cov_id, artikel, patiënt, bepalen, voorzien, v...</td>\n",
              "      <td>[verslag, aan, de, koning, sire, ik, heb, de, ...</td>\n",
              "    </tr>\n",
              "  </tbody>\n",
              "</table>\n",
              "</div>\n",
              "      <button class=\"colab-df-convert\" onclick=\"convertToInteractive('df-7787cf52-46f7-4ac8-82b6-58ee82d1289e')\"\n",
              "              title=\"Convert this dataframe to an interactive table.\"\n",
              "              style=\"display:none;\">\n",
              "        \n",
              "  <svg xmlns=\"http://www.w3.org/2000/svg\" height=\"24px\"viewBox=\"0 0 24 24\"\n",
              "       width=\"24px\">\n",
              "    <path d=\"M0 0h24v24H0V0z\" fill=\"none\"/>\n",
              "    <path d=\"M18.56 5.44l.94 2.06.94-2.06 2.06-.94-2.06-.94-.94-2.06-.94 2.06-2.06.94zm-11 1L8.5 8.5l.94-2.06 2.06-.94-2.06-.94L8.5 2.5l-.94 2.06-2.06.94zm10 10l.94 2.06.94-2.06 2.06-.94-2.06-.94-.94-2.06-.94 2.06-2.06.94z\"/><path d=\"M17.41 7.96l-1.37-1.37c-.4-.4-.92-.59-1.43-.59-.52 0-1.04.2-1.43.59L10.3 9.45l-7.72 7.72c-.78.78-.78 2.05 0 2.83L4 21.41c.39.39.9.59 1.41.59.51 0 1.02-.2 1.41-.59l7.78-7.78 2.81-2.81c.8-.78.8-2.07 0-2.86zM5.41 20L4 18.59l7.72-7.72 1.47 1.35L5.41 20z\"/>\n",
              "  </svg>\n",
              "      </button>\n",
              "      \n",
              "  <style>\n",
              "    .colab-df-container {\n",
              "      display:flex;\n",
              "      flex-wrap:wrap;\n",
              "      gap: 12px;\n",
              "    }\n",
              "\n",
              "    .colab-df-convert {\n",
              "      background-color: #E8F0FE;\n",
              "      border: none;\n",
              "      border-radius: 50%;\n",
              "      cursor: pointer;\n",
              "      display: none;\n",
              "      fill: #1967D2;\n",
              "      height: 32px;\n",
              "      padding: 0 0 0 0;\n",
              "      width: 32px;\n",
              "    }\n",
              "\n",
              "    .colab-df-convert:hover {\n",
              "      background-color: #E2EBFA;\n",
              "      box-shadow: 0px 1px 2px rgba(60, 64, 67, 0.3), 0px 1px 3px 1px rgba(60, 64, 67, 0.15);\n",
              "      fill: #174EA6;\n",
              "    }\n",
              "\n",
              "    [theme=dark] .colab-df-convert {\n",
              "      background-color: #3B4455;\n",
              "      fill: #D2E3FC;\n",
              "    }\n",
              "\n",
              "    [theme=dark] .colab-df-convert:hover {\n",
              "      background-color: #434B5C;\n",
              "      box-shadow: 0px 1px 3px 1px rgba(0, 0, 0, 0.15);\n",
              "      filter: drop-shadow(0px 1px 2px rgba(0, 0, 0, 0.3));\n",
              "      fill: #FFFFFF;\n",
              "    }\n",
              "  </style>\n",
              "\n",
              "      <script>\n",
              "        const buttonEl =\n",
              "          document.querySelector('#df-7787cf52-46f7-4ac8-82b6-58ee82d1289e button.colab-df-convert');\n",
              "        buttonEl.style.display =\n",
              "          google.colab.kernel.accessAllowed ? 'block' : 'none';\n",
              "\n",
              "        async function convertToInteractive(key) {\n",
              "          const element = document.querySelector('#df-7787cf52-46f7-4ac8-82b6-58ee82d1289e');\n",
              "          const dataTable =\n",
              "            await google.colab.kernel.invokeFunction('convertToInteractive',\n",
              "                                                     [key], {});\n",
              "          if (!dataTable) return;\n",
              "\n",
              "          const docLinkHtml = 'Like what you see? Visit the ' +\n",
              "            '<a target=\"_blank\" href=https://colab.research.google.com/notebooks/data_table.ipynb>data table notebook</a>'\n",
              "            + ' to learn more about interactive tables.';\n",
              "          element.innerHTML = '';\n",
              "          dataTable['output_type'] = 'display_data';\n",
              "          await google.colab.output.renderOutput(dataTable, element);\n",
              "          const docLink = document.createElement('div');\n",
              "          docLink.innerHTML = docLinkHtml;\n",
              "          element.appendChild(docLink);\n",
              "        }\n",
              "      </script>\n",
              "    </div>\n",
              "  </div>\n",
              "  "
            ]
          },
          "metadata": {},
          "execution_count": 35
        }
      ]
    },
    {
      "cell_type": "markdown",
      "source": [
        "The tabular output above actually has 20 rows, one each for a topic. It has the topic number, the keywords, and the most representative document. The **Perc_Contribution column** is nothing but the percentage contribution of the topic in the given document."
      ],
      "metadata": {
        "id": "DoYcEQQNp6Lm"
      }
    },
    {
      "cell_type": "markdown",
      "source": [
        "## Topic distribution across documents"
      ],
      "metadata": {
        "id": "GP4W5PoIp-pK"
      }
    },
    {
      "cell_type": "markdown",
      "source": [
        "Finally, we want to understand the volume and distribution of topics in order to judge how widely it was discussed. "
      ],
      "metadata": {
        "id": "nFRFXvosqB4n"
      }
    },
    {
      "cell_type": "code",
      "source": [
        "# Number of Documents for Each Topic\n",
        "topic_counts = df_topic_sents_keywords['Dominant_Topic'].value_counts()\n",
        "\n",
        "# Percentage of Documents for Each Topic\n",
        "topic_contribution = round(topic_counts/topic_counts.sum(), 4)\n",
        "\n",
        "# Topic Number and Keywords\n",
        "topic_num_keywords = df_topic_sents_keywords[['Dominant_Topic', 'Topic_Keywords']]\n",
        "\n",
        "# Concatenatinate Column wise\n",
        "df_dominant_topics = pd.concat([topic_num_keywords, topic_counts, topic_contribution], axis=1)\n",
        "\n",
        "# Change Column names\n",
        "df_dominant_topics.columns = ['Dominant_Topic', 'Topic_Keywords', 'Num_Documents', 'Perc_Documents']\n",
        "\n",
        "# Show\n",
        "df_dominant_topics"
      ],
      "metadata": {
        "id": "UhzZdILGqUaT",
        "colab": {
          "base_uri": "https://localhost:8080/",
          "height": 424
        },
        "outputId": "c7bd9f24-3077-4db2-c21e-283e3584b20a"
      },
      "execution_count": null,
      "outputs": [
        {
          "output_type": "execute_result",
          "data": {
            "text/plain": [
              "       Dominant_Topic                                     Topic_Keywords  \\\n",
              "0.0               8.0  artikel, wetboek, bedoelen, lid, goed, regelin...   \n",
              "1.0               2.0  brusselse_hoofdstedelijk, regering, besluit, o...   \n",
              "2.0               5.0  besluit, koninklijk, wet, artikel, cov_id, min...   \n",
              "3.0              11.0  artikel, besluit, onderwijs, decreet, betreffe...   \n",
              "4.0              10.0  onderneming, steun, artikel, code, bedoelen, b...   \n",
              "...               ...                                                ...   \n",
              "623.0             3.0  artikel, bedoelen, betreffen, procedure, perso...   \n",
              "624.0            13.0  regering, besluit, minister, overwegende, waal...   \n",
              "625.0            13.0  regering, besluit, minister, overwegende, waal...   \n",
              "626.0             9.0  artikel, lid, woord, vervangen, wet, één, bedo...   \n",
              "627.0             0.0  persoon, cov_id, artikel, betreffen, gegeven, ...   \n",
              "\n",
              "       Num_Documents  Perc_Documents  \n",
              "0.0             24.0          0.0382  \n",
              "1.0             33.0          0.0525  \n",
              "2.0             58.0          0.0924  \n",
              "3.0             37.0          0.0589  \n",
              "4.0             31.0          0.0494  \n",
              "...              ...             ...  \n",
              "623.0            NaN             NaN  \n",
              "624.0            NaN             NaN  \n",
              "625.0            NaN             NaN  \n",
              "626.0            NaN             NaN  \n",
              "627.0            NaN             NaN  \n",
              "\n",
              "[628 rows x 4 columns]"
            ],
            "text/html": [
              "\n",
              "  <div id=\"df-6b3a2e88-ea9b-4842-9bbc-f992ce0eb425\">\n",
              "    <div class=\"colab-df-container\">\n",
              "      <div>\n",
              "<style scoped>\n",
              "    .dataframe tbody tr th:only-of-type {\n",
              "        vertical-align: middle;\n",
              "    }\n",
              "\n",
              "    .dataframe tbody tr th {\n",
              "        vertical-align: top;\n",
              "    }\n",
              "\n",
              "    .dataframe thead th {\n",
              "        text-align: right;\n",
              "    }\n",
              "</style>\n",
              "<table border=\"1\" class=\"dataframe\">\n",
              "  <thead>\n",
              "    <tr style=\"text-align: right;\">\n",
              "      <th></th>\n",
              "      <th>Dominant_Topic</th>\n",
              "      <th>Topic_Keywords</th>\n",
              "      <th>Num_Documents</th>\n",
              "      <th>Perc_Documents</th>\n",
              "    </tr>\n",
              "  </thead>\n",
              "  <tbody>\n",
              "    <tr>\n",
              "      <th>0.0</th>\n",
              "      <td>8.0</td>\n",
              "      <td>artikel, wetboek, bedoelen, lid, goed, regelin...</td>\n",
              "      <td>24.0</td>\n",
              "      <td>0.0382</td>\n",
              "    </tr>\n",
              "    <tr>\n",
              "      <th>1.0</th>\n",
              "      <td>2.0</td>\n",
              "      <td>brusselse_hoofdstedelijk, regering, besluit, o...</td>\n",
              "      <td>33.0</td>\n",
              "      <td>0.0525</td>\n",
              "    </tr>\n",
              "    <tr>\n",
              "      <th>2.0</th>\n",
              "      <td>5.0</td>\n",
              "      <td>besluit, koninklijk, wet, artikel, cov_id, min...</td>\n",
              "      <td>58.0</td>\n",
              "      <td>0.0924</td>\n",
              "    </tr>\n",
              "    <tr>\n",
              "      <th>3.0</th>\n",
              "      <td>11.0</td>\n",
              "      <td>artikel, besluit, onderwijs, decreet, betreffe...</td>\n",
              "      <td>37.0</td>\n",
              "      <td>0.0589</td>\n",
              "    </tr>\n",
              "    <tr>\n",
              "      <th>4.0</th>\n",
              "      <td>10.0</td>\n",
              "      <td>onderneming, steun, artikel, code, bedoelen, b...</td>\n",
              "      <td>31.0</td>\n",
              "      <td>0.0494</td>\n",
              "    </tr>\n",
              "    <tr>\n",
              "      <th>...</th>\n",
              "      <td>...</td>\n",
              "      <td>...</td>\n",
              "      <td>...</td>\n",
              "      <td>...</td>\n",
              "    </tr>\n",
              "    <tr>\n",
              "      <th>623.0</th>\n",
              "      <td>3.0</td>\n",
              "      <td>artikel, bedoelen, betreffen, procedure, perso...</td>\n",
              "      <td>NaN</td>\n",
              "      <td>NaN</td>\n",
              "    </tr>\n",
              "    <tr>\n",
              "      <th>624.0</th>\n",
              "      <td>13.0</td>\n",
              "      <td>regering, besluit, minister, overwegende, waal...</td>\n",
              "      <td>NaN</td>\n",
              "      <td>NaN</td>\n",
              "    </tr>\n",
              "    <tr>\n",
              "      <th>625.0</th>\n",
              "      <td>13.0</td>\n",
              "      <td>regering, besluit, minister, overwegende, waal...</td>\n",
              "      <td>NaN</td>\n",
              "      <td>NaN</td>\n",
              "    </tr>\n",
              "    <tr>\n",
              "      <th>626.0</th>\n",
              "      <td>9.0</td>\n",
              "      <td>artikel, lid, woord, vervangen, wet, één, bedo...</td>\n",
              "      <td>NaN</td>\n",
              "      <td>NaN</td>\n",
              "    </tr>\n",
              "    <tr>\n",
              "      <th>627.0</th>\n",
              "      <td>0.0</td>\n",
              "      <td>persoon, cov_id, artikel, betreffen, gegeven, ...</td>\n",
              "      <td>NaN</td>\n",
              "      <td>NaN</td>\n",
              "    </tr>\n",
              "  </tbody>\n",
              "</table>\n",
              "<p>628 rows × 4 columns</p>\n",
              "</div>\n",
              "      <button class=\"colab-df-convert\" onclick=\"convertToInteractive('df-6b3a2e88-ea9b-4842-9bbc-f992ce0eb425')\"\n",
              "              title=\"Convert this dataframe to an interactive table.\"\n",
              "              style=\"display:none;\">\n",
              "        \n",
              "  <svg xmlns=\"http://www.w3.org/2000/svg\" height=\"24px\"viewBox=\"0 0 24 24\"\n",
              "       width=\"24px\">\n",
              "    <path d=\"M0 0h24v24H0V0z\" fill=\"none\"/>\n",
              "    <path d=\"M18.56 5.44l.94 2.06.94-2.06 2.06-.94-2.06-.94-.94-2.06-.94 2.06-2.06.94zm-11 1L8.5 8.5l.94-2.06 2.06-.94-2.06-.94L8.5 2.5l-.94 2.06-2.06.94zm10 10l.94 2.06.94-2.06 2.06-.94-2.06-.94-.94-2.06-.94 2.06-2.06.94z\"/><path d=\"M17.41 7.96l-1.37-1.37c-.4-.4-.92-.59-1.43-.59-.52 0-1.04.2-1.43.59L10.3 9.45l-7.72 7.72c-.78.78-.78 2.05 0 2.83L4 21.41c.39.39.9.59 1.41.59.51 0 1.02-.2 1.41-.59l7.78-7.78 2.81-2.81c.8-.78.8-2.07 0-2.86zM5.41 20L4 18.59l7.72-7.72 1.47 1.35L5.41 20z\"/>\n",
              "  </svg>\n",
              "      </button>\n",
              "      \n",
              "  <style>\n",
              "    .colab-df-container {\n",
              "      display:flex;\n",
              "      flex-wrap:wrap;\n",
              "      gap: 12px;\n",
              "    }\n",
              "\n",
              "    .colab-df-convert {\n",
              "      background-color: #E8F0FE;\n",
              "      border: none;\n",
              "      border-radius: 50%;\n",
              "      cursor: pointer;\n",
              "      display: none;\n",
              "      fill: #1967D2;\n",
              "      height: 32px;\n",
              "      padding: 0 0 0 0;\n",
              "      width: 32px;\n",
              "    }\n",
              "\n",
              "    .colab-df-convert:hover {\n",
              "      background-color: #E2EBFA;\n",
              "      box-shadow: 0px 1px 2px rgba(60, 64, 67, 0.3), 0px 1px 3px 1px rgba(60, 64, 67, 0.15);\n",
              "      fill: #174EA6;\n",
              "    }\n",
              "\n",
              "    [theme=dark] .colab-df-convert {\n",
              "      background-color: #3B4455;\n",
              "      fill: #D2E3FC;\n",
              "    }\n",
              "\n",
              "    [theme=dark] .colab-df-convert:hover {\n",
              "      background-color: #434B5C;\n",
              "      box-shadow: 0px 1px 3px 1px rgba(0, 0, 0, 0.15);\n",
              "      filter: drop-shadow(0px 1px 2px rgba(0, 0, 0, 0.3));\n",
              "      fill: #FFFFFF;\n",
              "    }\n",
              "  </style>\n",
              "\n",
              "      <script>\n",
              "        const buttonEl =\n",
              "          document.querySelector('#df-6b3a2e88-ea9b-4842-9bbc-f992ce0eb425 button.colab-df-convert');\n",
              "        buttonEl.style.display =\n",
              "          google.colab.kernel.accessAllowed ? 'block' : 'none';\n",
              "\n",
              "        async function convertToInteractive(key) {\n",
              "          const element = document.querySelector('#df-6b3a2e88-ea9b-4842-9bbc-f992ce0eb425');\n",
              "          const dataTable =\n",
              "            await google.colab.kernel.invokeFunction('convertToInteractive',\n",
              "                                                     [key], {});\n",
              "          if (!dataTable) return;\n",
              "\n",
              "          const docLinkHtml = 'Like what you see? Visit the ' +\n",
              "            '<a target=\"_blank\" href=https://colab.research.google.com/notebooks/data_table.ipynb>data table notebook</a>'\n",
              "            + ' to learn more about interactive tables.';\n",
              "          element.innerHTML = '';\n",
              "          dataTable['output_type'] = 'display_data';\n",
              "          await google.colab.output.renderOutput(dataTable, element);\n",
              "          const docLink = document.createElement('div');\n",
              "          docLink.innerHTML = docLinkHtml;\n",
              "          element.appendChild(docLink);\n",
              "        }\n",
              "      </script>\n",
              "    </div>\n",
              "  </div>\n",
              "  "
            ]
          },
          "metadata": {},
          "execution_count": 36
        }
      ]
    },
    {
      "cell_type": "markdown",
      "source": [
        "## CONCLUSION"
      ],
      "metadata": {
        "id": "OXf89-LI3xO-"
      }
    },
    {
      "cell_type": "markdown",
      "source": [
        "From ten (10) Dutch legal text files that were cleaned, further ML preprocessing and unsupervised topic extraction were carried out via:\n",
        "\n",
        "- A basic topic model using Gensim’s LDA; \n",
        "\n",
        "- pyLDAvis for topic visualisation; and \n",
        "\n",
        "- Mallet’s LDA implementation."
      ],
      "metadata": {
        "id": "5pc767Ni3zK7"
      }
    }
  ]
}