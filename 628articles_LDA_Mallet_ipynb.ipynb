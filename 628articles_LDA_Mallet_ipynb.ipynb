{
  "nbformat": 4,
  "nbformat_minor": 0,
  "metadata": {
    "colab": {
      "name": "628articles_LDA_Mallet.ipynb.ipynb",
      "provenance": [],
      "collapsed_sections": []
    },
    "kernelspec": {
      "name": "python3",
      "display_name": "Python 3"
    },
    "language_info": {
      "name": "python"
    }
  },
  "cells": [
    {
      "cell_type": "markdown",
      "source": [
        "## Further text preprocessing"
      ],
      "metadata": {
        "id": "2v-ju9XmWFJI"
      }
    },
    {
      "cell_type": "markdown",
      "source": [
        "### Objectives of this test"
      ],
      "metadata": {
        "id": "9CiTfVEiluGf"
      }
    },
    {
      "cell_type": "markdown",
      "source": [
        "- Implement Latent Dirichlet Allocation (**LDA**) from **Gensim** package along with the Mallet’s implementation (via Gensim). \n",
        "\n",
        "- Implement **Mallet** that optimizes LDA. Mallet is known to run faster and gives better topic segregation.\n",
        "\n",
        "- Also extract the volume and percentage contribution of each topic to get **an idea of how important a topic is**."
      ],
      "metadata": {
        "id": "nOmYI8FIlwj8"
      }
    },
    {
      "cell_type": "markdown",
      "source": [
        "### Pre-requisites: Downloading NLTK Dutch stopwords, data handling tools, model preprocessing & plotting tools, and SpaCy model"
      ],
      "metadata": {
        "id": "HliZG8C-V8gW"
      }
    },
    {
      "cell_type": "code",
      "source": [
        "from google.colab import drive\n",
        "drive.mount('/content/drive')"
      ],
      "metadata": {
        "id": "JOSxNYZEvmtE",
        "colab": {
          "base_uri": "https://localhost:8080/"
        },
        "outputId": "e3a91489-cf01-4ebd-b183-2d8541874983"
      },
      "execution_count": 3,
      "outputs": [
        {
          "output_type": "stream",
          "name": "stdout",
          "text": [
            "Drive already mounted at /content/drive; to attempt to forcibly remount, call drive.mount(\"/content/drive\", force_remount=True).\n"
          ]
        }
      ]
    },
    {
      "cell_type": "code",
      "source": [
        "# NLTK\n",
        "import nltk\n",
        "nltk.download('stopwords', 'dutch')"
      ],
      "metadata": {
        "id": "kjP68jeYftR4",
        "colab": {
          "base_uri": "https://localhost:8080/"
        },
        "outputId": "7b7e7150-173b-4c18-bd96-43fa9db9cfdc"
      },
      "execution_count": 4,
      "outputs": [
        {
          "output_type": "stream",
          "name": "stdout",
          "text": [
            "[nltk_data] Downloading package stopwords to dutch...\n",
            "[nltk_data]   Package stopwords is already up-to-date!\n"
          ]
        },
        {
          "output_type": "execute_result",
          "data": {
            "text/plain": [
              "True"
            ]
          },
          "metadata": {},
          "execution_count": 4
        }
      ]
    },
    {
      "cell_type": "code",
      "source": [
        "# Python data analysis tools and python module for printing\n",
        "import re\n",
        "import numpy as np\n",
        "import pandas as pd\n",
        "from pprint import pprint"
      ],
      "metadata": {
        "id": "-gP7ww_liQub"
      },
      "execution_count": 5,
      "outputs": []
    },
    {
      "cell_type": "code",
      "source": [
        "# Gensim\n",
        "import gensim\n",
        "import gensim.corpora as corpora\n",
        "from gensim.utils import simple_preprocess\n",
        "from gensim.models import CoherenceModel"
      ],
      "metadata": {
        "id": "ZTlhs2HnmGyB"
      },
      "execution_count": 6,
      "outputs": []
    },
    {
      "cell_type": "code",
      "source": [
        "# SpaCy for lemmatization\n",
        "import spacy"
      ],
      "metadata": {
        "id": "fBAzmTMOmp9f"
      },
      "execution_count": 7,
      "outputs": []
    },
    {
      "cell_type": "code",
      "source": [
        "# Plotting tools\n",
        "!pip install pyLDAvis\n",
        "\n",
        "import pyLDAvis\n",
        "import pyLDAvis.gensim_models as gensimvis\n",
        "pyLDAvis.enable_notebook()\n",
        "\n",
        "import matplotlib.pyplot as plt"
      ],
      "metadata": {
        "id": "1oTmcphNmuBR"
      },
      "execution_count": null,
      "outputs": []
    },
    {
      "cell_type": "code",
      "source": [
        "# Ignoring warnings\n",
        "import warnings\n",
        "warnings.filterwarnings('ignore', category=DeprecationWarning)"
      ],
      "metadata": {
        "id": "958NglFuoAJm"
      },
      "execution_count": 9,
      "outputs": []
    },
    {
      "cell_type": "markdown",
      "source": [
        "### Preparing stopwords"
      ],
      "metadata": {
        "id": "JhmR5NYqodQe"
      }
    },
    {
      "cell_type": "code",
      "source": [
        "# NLTK Stop words\n",
        "import nltk\n",
        "from nltk.corpus import stopwords\n",
        "nltk.download('stopwords')\n",
        "\n",
        "stop_words = nltk.corpus.stopwords.words('dutch')"
      ],
      "metadata": {
        "id": "i2F9qd3Aodpz",
        "colab": {
          "base_uri": "https://localhost:8080/"
        },
        "outputId": "78098c0e-4ecf-4be3-e5c5-ea404576674c"
      },
      "execution_count": 10,
      "outputs": [
        {
          "output_type": "stream",
          "name": "stdout",
          "text": [
            "[nltk_data] Downloading package stopwords to /root/nltk_data...\n",
            "[nltk_data]   Package stopwords is already up-to-date!\n"
          ]
        }
      ]
    },
    {
      "cell_type": "markdown",
      "source": [
        "## Loading 628 articles into a list"
      ],
      "metadata": {
        "id": "_X85dMwl25bs"
      }
    },
    {
      "cell_type": "code",
      "source": [
        "# Importing file handling library\n",
        "import os\n",
        "\n",
        "data = []\n",
        "path = 'drive/MyDrive/clean_texts/'\n",
        "for name in os.listdir(path)[:628]:\n",
        "    with open(path+name, 'r') as file:\n",
        "        data.append(file.read())\n"
      ],
      "metadata": {
        "id": "L0Dai1aW3BLN"
      },
      "execution_count": 11,
      "outputs": []
    },
    {
      "cell_type": "markdown",
      "source": [
        "### Tokenizing words and cleaning-up text"
      ],
      "metadata": {
        "id": "arIOjuW-G9RL"
      }
    },
    {
      "cell_type": "code",
      "source": [
        "# Tokenizing each sentence into a list of words, removing punctuations and unnecessary characters altogether.\n",
        "def sent_to_words(sentences):\n",
        "    for sentence in sentences:\n",
        "        yield(gensim.utils.simple_preprocess(str(sentence), deacc=True))  # deacc=True removes punctuations\n",
        "\n",
        "data_words = list(sent_to_words(data))\n",
        "\n",
        "#print(data_words)"
      ],
      "metadata": {
        "id": "dO9v16DbxMyV"
      },
      "execution_count": 12,
      "outputs": []
    },
    {
      "cell_type": "markdown",
      "source": [
        "### Creating bigrams and trigrams"
      ],
      "metadata": {
        "id": "iLpiDNyRTGc7"
      }
    },
    {
      "cell_type": "markdown",
      "source": [
        "**Bigrams** are two (2) words frequently occurring together in the document. **Trigrams** are three (3) words frequently occurring."
      ],
      "metadata": {
        "id": "KQdTRjR-zrja"
      }
    },
    {
      "cell_type": "code",
      "source": [
        "# Building the bigram and trigram models\n",
        "bigram = gensim.models.Phrases(data_words, min_count=5, threshold=100) # higher threshold fewer phrases.\n",
        "trigram = gensim.models.Phrases(bigram[data_words], threshold=100)  \n",
        "\n",
        "# Faster way to get a sentence clubbed as a trigram/bigram\n",
        "bigram_mod = gensim.models.phrases.Phraser(bigram)\n",
        "trigram_mod = gensim.models.phrases.Phraser(trigram)\n",
        "\n",
        "# Seeing trigram example\n",
        "#print(trigram_mod[bigram_mod[data_words]])"
      ],
      "metadata": {
        "id": "oTf8PZhLOIwG"
      },
      "execution_count": 13,
      "outputs": []
    },
    {
      "cell_type": "markdown",
      "source": [
        "###  Removing stopwords, making bigrams & trigtrams, and lemmatizing"
      ],
      "metadata": {
        "id": "4b9GkSVFZIUC"
      }
    },
    {
      "cell_type": "code",
      "source": [
        "# Define functions for stopwords, bigrams, trigrams and lemmatization\n",
        "def remove_stopwords(texts):\n",
        "    return [[word for word in simple_preprocess(str(doc)) if word not in stop_words] for doc in texts]\n",
        "\n",
        "def make_bigrams(texts):\n",
        "    return [bigram_mod[doc] for doc in texts]\n",
        "\n",
        "def make_trigrams(texts):\n",
        "    return [trigram_mod[bigram_mod[doc]] for doc in texts]\n",
        "\n",
        "def lemmatization(texts, allowed_postags=['NOUN', 'ADJ', 'VERB', 'ADV']):\n",
        "    \"\"\"https://spacy.io/api/annotation\"\"\"\n",
        "    texts_out = []\n",
        "    for sent in texts:\n",
        "        doc = nlp(\" \".join(sent)) \n",
        "        texts_out.append([token.lemma_ for token in doc if token.pos_ in allowed_postags])\n",
        "    return texts_out"
      ],
      "metadata": {
        "id": "1cuUNtqNT9kb"
      },
      "execution_count": 14,
      "outputs": []
    },
    {
      "cell_type": "markdown",
      "source": [
        "### Initializing SpaCy's Dutch NLP model (large size)"
      ],
      "metadata": {
        "id": "uanPqGrdGyiE"
      }
    },
    {
      "cell_type": "code",
      "source": [
        " !pip install -U spacy\n",
        " !python -m spacy download nl_core_news_lg"
      ],
      "metadata": {
        "id": "EwTE8mGpbFf6"
      },
      "execution_count": null,
      "outputs": []
    },
    {
      "cell_type": "markdown",
      "source": [
        "### Calling the functions in order"
      ],
      "metadata": {
        "id": "C4QnnSElG_vg"
      }
    },
    {
      "cell_type": "code",
      "source": [
        " # Removing Stop Words\n",
        "data_words_nostops = remove_stopwords(data_words)\n",
        "\n",
        "# Forming Bigrams\n",
        "data_words_bigrams = make_bigrams(data_words_nostops)\n",
        "\n",
        "# Loading the SpaCy 'nl' model, keeping only tagger component (for efficiency)\n",
        "nlp = spacy.load('nl_core_news_lg', disable=['parser', 'ner'])\n",
        "\n",
        "# Doing lemmatization keeping only noun, adj, vb, adv\n",
        "data_lemmatized = lemmatization(data_words_bigrams, allowed_postags=['NOUN', 'ADJ', 'VERB', 'ADV'])\n",
        "\n",
        "#print(data_lemmatized)"
      ],
      "metadata": {
        "id": "dPJP2KeuZw67"
      },
      "execution_count": 15,
      "outputs": []
    },
    {
      "cell_type": "markdown",
      "source": [
        "### Creating the Dictionary and Corpus needed for Topic Modeling"
      ],
      "metadata": {
        "id": "GgN2SSzn2fTU"
      }
    },
    {
      "cell_type": "code",
      "source": [
        "# Creating Dictionary\n",
        "id2word = corpora.Dictionary(data_lemmatized)\n",
        "\n",
        "# Creating Corpus\n",
        "texts = data_lemmatized\n",
        "\n",
        "# Term Document Frequency\n",
        "corpus = [id2word.doc2bow(text) for text in texts]\n",
        "\n",
        "# Viewing corpus\n",
        "#print(corpus)"
      ],
      "metadata": {
        "id": "lp6FqTgr2hr8"
      },
      "execution_count": 16,
      "outputs": []
    },
    {
      "cell_type": "markdown",
      "source": [
        "Gensim creates a unique id for each word in the document. The produced corpus shown above is a mapping of (word_id, word_frequency).\n",
        "\n",
        "For example, (0, 1) above implies, **word id 0 occurs once** in the document. Likewise, **word id 1 occurs once too**, and so on.\n",
        "\n",
        "This is used as the input by the LDA model.\n",
        "\n",
        "If you want to see what word a given id corresponds to, pass the id as a key to the dictionary. (From https://www.machinelearningplus.com/nlp/topic-modeling-gensim-python/)"
      ],
      "metadata": {
        "id": "mat49mSv24fY"
      }
    },
    {
      "cell_type": "code",
      "source": [
        "# Passing the id as a key to the dictionary to see what word a given ID corresponds to\n",
        "id2word[0]"
      ],
      "metadata": {
        "colab": {
          "base_uri": "https://localhost:8080/",
          "height": 35
        },
        "id": "iCYlDxcR2050",
        "outputId": "9226419b-5705-4237-ded7-858814fd8d5f"
      },
      "execution_count": 17,
      "outputs": [
        {
          "output_type": "execute_result",
          "data": {
            "text/plain": [
              "'aanslagjaar'"
            ],
            "application/vnd.google.colaboratory.intrinsic+json": {
              "type": "string"
            }
          },
          "metadata": {},
          "execution_count": 17
        }
      ]
    },
    {
      "cell_type": "code",
      "source": [
        "# Human readable format of corpus (term-frequency)\n",
        "[[(id2word[id], freq) for id, freq in cp] for cp in corpus]"
      ],
      "metadata": {
        "id": "P6HbEyFs3STL"
      },
      "execution_count": null,
      "outputs": []
    },
    {
      "cell_type": "markdown",
      "source": [
        "### Building the topic model"
      ],
      "metadata": {
        "id": "xr7zp7cU3mnE"
      }
    },
    {
      "cell_type": "markdown",
      "source": [
        "The LDA model shall be built with 20 different topics where each topic is a combination of keywords and each keyword contributes a certain weightage to the topic."
      ],
      "metadata": {
        "id": "nPSZSoCl1ky7"
      }
    },
    {
      "cell_type": "code",
      "source": [
        "# Building LDA model\n",
        "lda_model = gensim.models.ldamodel.LdaModel(corpus=corpus,\n",
        "                                           id2word=id2word,\n",
        "                                           num_topics=20, \n",
        "                                           random_state=100,\n",
        "                                           update_every=1,\n",
        "                                           chunksize=100,\n",
        "                                           passes=10,\n",
        "                                           alpha='auto',\n",
        "                                           per_word_topics=True)"
      ],
      "metadata": {
        "id": "4eNI1JKD3rS8"
      },
      "execution_count": 19,
      "outputs": []
    },
    {
      "cell_type": "markdown",
      "source": [
        "###  Viewing the topics in LDA model"
      ],
      "metadata": {
        "id": "I4pNmnJP3vMM"
      }
    },
    {
      "cell_type": "markdown",
      "source": [
        "You can see the keywords for each topic and the weightag (importance) of each keyword using lda_model.print_topics() as shown next."
      ],
      "metadata": {
        "id": "r0YYrNee30UJ"
      }
    },
    {
      "cell_type": "code",
      "source": [
        "# Printing keywords for 20 topics\n",
        "pprint(lda_model.print_topics())\n",
        "doc_lda = lda_model[corpus]"
      ],
      "metadata": {
        "colab": {
          "base_uri": "https://localhost:8080/"
        },
        "id": "NrllJgXK3xAl",
        "outputId": "8d0451bc-86c0-4d25-afe0-eeb1f3d6af4c"
      },
      "execution_count": 20,
      "outputs": [
        {
          "output_type": "stream",
          "name": "stdout",
          "text": [
            "[(0,\n",
            "  '0.061*\"artikel\" + 0.043*\"wetboek\" + 0.039*\"bedoelen\" + 0.035*\"goed\" + '\n",
            "  '0.031*\"belasting\" + 0.023*\"lid\" + 0.022*\"lidstaat\" + 0.021*\"regeling\" + '\n",
            "  '0.017*\"koninklijk\" + 0.016*\"btw\"'),\n",
            " (1,\n",
            "  '0.046*\"overeenkomst\" + 0.042*\"akkoord\" + 0.039*\"generaal\" + '\n",
            "  '0.030*\"toepassing\" + 0.023*\"bevoegde_autoriteiten\" + '\n",
            "  '0.020*\"bevoegde_autoriteit\" + 0.018*\"grensarbeider\" + 0.018*\"paragraaf\" + '\n",
            "  '0.016*\"verlenging\" + 0.015*\"dag\"'),\n",
            " (2,\n",
            "  '0.035*\"decreet\" + 0.033*\"artikel\" + 0.024*\"Vlaams\" + 0.023*\"waals\" + '\n",
            "  '0.022*\"lid\" + 0.020*\"regering\" + 0.018*\"besluit\" + 0.014*\"code\" + '\n",
            "  '0.014*\"subsidie\" + 0.011*\"één\"'),\n",
            " (3,\n",
            "  '0.041*\"steun\" + 0.038*\"onderneming\" + 0.018*\"betreffen\" + '\n",
            "  '0.016*\"economisch\" + 0.015*\"bedoelen\" + 0.015*\"regering\" + '\n",
            "  '0.012*\"brusselse_hoofdstedelijk\" + 0.012*\"minister\" + 0.012*\"deel\" + '\n",
            "  '0.012*\"artikel\"'),\n",
            " (4,\n",
            "  '0.041*\"artikel\" + 0.019*\"besluit\" + 0.017*\"ontwerp\" + 0.016*\"wet\" + '\n",
            "  '0.016*\"lid\" + 0.014*\"maatregel\" + 0.012*\"bepaling\" + 0.012*\"bepalen\" + '\n",
            "  '0.011*\"koninklijk\" + 0.010*\"bevoegdheid\"'),\n",
            " (5,\n",
            "  '0.058*\"regering\" + 0.055*\"minister\" + 0.049*\"decreet\" + 0.024*\"artikel\" + '\n",
            "  '0.023*\"bijzondere_machten\" + 0.019*\"waals\" + 0.019*\"promotie\" + '\n",
            "  '0.018*\"cov_id\" + 0.018*\"aan_nemen\" + 0.017*\"betreffen\"'),\n",
            " (6,\n",
            "  '0.000*\"artikel\" + 0.000*\"resteeren\" + 0.000*\"schikken\" + 0.000*\"saldi\" + '\n",
            "  '0.000*\"salarieren\" + 0.000*\"resulteeren\" + 0.000*\"restsaldo\" + '\n",
            "  '0.000*\"stage_plan\" + 0.000*\"reporting\" + 0.000*\"perma_nentie\"'),\n",
            " (7,\n",
            "  '0.078*\"artikel\" + 0.055*\"lid\" + 0.038*\"woord\" + 0.035*\"wet\" + '\n",
            "  '0.032*\"bedoelen\" + 0.031*\"één\" + 0.026*\"vervangen\" + 0.021*\"paragraaf\" + '\n",
            "  '0.016*\"toepassing\" + 0.016*\"hoofdstuk\"'),\n",
            " (8,\n",
            "  '0.035*\"organisator\" + 0.028*\"kind\" + 0.028*\"artikel\" + 0.026*\"vermellen\" + '\n",
            "  '0.026*\"lid\" + 0.022*\"centrum\" + 0.019*\"gezin\" + '\n",
            "  '0.018*\"buitenschoolse_opvang\" + 0.017*\"periode\" + 0.017*\"opvang\"'),\n",
            " (9,\n",
            "  '0.030*\"lijst\" + 0.024*\"fiscaal\" + 0.024*\"werknemer\" + 0.014*\"blootstelling\" '\n",
            "  '+ 0.014*\"kandidaat\" + 0.013*\"voorkomen\" + 0.012*\"kennis\" + 0.012*\"koning\" + '\n",
            "  '0.011*\"inlichting\" + 0.010*\"persoon\"'),\n",
            " (10,\n",
            "  '0.035*\"regering\" + 0.027*\"besluit\" + 0.022*\"werknemer\" + 0.021*\"betreffen\" '\n",
            "  '+ 0.019*\"collectief\" + 0.019*\"werk\" + 0.018*\"personeel_lid\" + '\n",
            "  '0.018*\"minister\" + 0.017*\"dienst\" + 0.016*\"instelling\"'),\n",
            " (11,\n",
            "  '0.052*\"besluit\" + 0.036*\"artikel\" + 0.025*\"maatregel\" + 0.024*\"minister\" + '\n",
            "  '0.021*\"cov_id\" + 0.016*\"gelet\" + 0.012*\"overwegende\" + 0.012*\"raad\" + '\n",
            "  '0.011*\"kader\" + 0.011*\"regering\"'),\n",
            " (12,\n",
            "  '0.034*\"persoon\" + 0.024*\"cov_id\" + 0.019*\"artikel\" + 0.011*\"gegeven\" + '\n",
            "  '0.010*\"coronavirus\" + 0.009*\"bepalen\" + 0.009*\"betreffen\" + 0.009*\"bevoegd\" '\n",
            "  '+ 0.008*\"kader\" + 0.007*\"federaal\"'),\n",
            " (13,\n",
            "  '0.045*\"kostprijs\" + 0.033*\"bezoldiging\" + 0.031*\"schuldenaar\" + '\n",
            "  '0.014*\"nummer\" + 0.013*\"inhouding\" + 0.012*\"betalen\" + 0.011*\"spoedig\" + '\n",
            "  '0.009*\"aanmaak\" + 0.008*\"berekening\" + 0.008*\"uitzendkracht\"'),\n",
            " (14,\n",
            "  '0.030*\"administratie\" + 0.022*\"vennootschap\" + 0.019*\"aandeel\" + '\n",
            "  '0.019*\"jaar\" + 0.017*\"betrekking\" + 0.016*\"uitgave\" + 0.014*\"functie\" + '\n",
            "  '0.014*\"attest\" + 0.013*\"document\" + 0.011*\"ter_beschikking\"'),\n",
            " (15,\n",
            "  '0.032*\"specialiteit\" + 0.029*\"werkzaam_bestanddeel\" + 0.023*\"genereren\" + '\n",
            "  '0.020*\"gecorrigeerd_jaarlijks\" + 0.015*\"prijs\" + '\n",
            "  '0.012*\"werkzame_bestanddelen\" + 0.008*\"biologische_geneesmiddelen\" + '\n",
            "  '0.007*\"vergoedbare_farmaceutisch\" + 0.004*\"administratieve_toeslag\" + '\n",
            "  '0.000*\"omzetcijfer_gelijk\"'),\n",
            " (16,\n",
            "  '0.138*\"verstrekking\" + 0.031*\"toeslag\" + 0.025*\"aangerekend\" + '\n",
            "  '0.024*\"geneeskundig\" + 0.022*\"nomenclatuur\" + 0.018*\"patiënt\" + '\n",
            "  '0.013*\"vergoedbaar\" + 0.011*\"ziekenfonds\" + 0.007*\"voorschrift\" + '\n",
            "  '0.004*\"gerelateerde_problematiek\"'),\n",
            " (17,\n",
            "  '0.028*\"cov_id\" + 0.023*\"zelfstandig\" + 0.017*\"artikel\" + 0.017*\"periode\" + '\n",
            "  '0.017*\"koninklijk\" + 0.016*\"besluit\" + 0.014*\"ziekenhuis\" + 0.013*\"wet\" + '\n",
            "  '0.012*\"sociaal\" + 0.012*\"bedrag\"'),\n",
            " (18,\n",
            "  '0.139*\"brusselse_hoofdstedelijk\" + 0.135*\"gewestelijk\" + '\n",
            "  '0.116*\"overheid_dienst\" + 0.062*\"brussel_fiscaliteit\" + '\n",
            "  '0.041*\"brussels_hoofdstedelijk\" + 0.041*\"Brussels\" + 0.020*\"voornamen\" + '\n",
            "  '0.016*\"mobiliteit\" + 0.014*\"beschikken\" + 0.011*\"kandidatuur\"'),\n",
            " (19,\n",
            "  '0.015*\"diamant\" + 0.012*\"handelaar\" + 0.009*\"synthetische_diamant\" + '\n",
            "  '0.004*\"witwassen\" + 0.004*\"onderworpen_handelaren\" + 0.000*\"opzoeking\" + '\n",
            "  '0.000*\"Cfi\" + 0.000*\"hande_laar\" + 0.000*\"witwasbeleid\" + 0.000*\"witwas\"')]\n"
          ]
        }
      ]
    },
    {
      "cell_type": "markdown",
      "source": [
        "**NOTE**: \n",
        "\n",
        "The weights reflect how important a keyword is to that topic.\n",
        "\n",
        "Looking at these keywords, you can guess what this topic could be."
      ],
      "metadata": {
        "id": "2XyHR2UuKUIp"
      }
    },
    {
      "cell_type": "markdown",
      "source": [
        "### Compute Model Perplexity and Coherence Score"
      ],
      "metadata": {
        "id": "iW0vFYMM4QhX"
      }
    },
    {
      "cell_type": "markdown",
      "source": [
        "**Model perplexity** and **topic coherence** provide a convenient measure to judge how good a given topic model is."
      ],
      "metadata": {
        "id": "5s_26Rbn0c6j"
      }
    },
    {
      "cell_type": "code",
      "source": [
        "# Computing Perplexity\n",
        "print('\\nPerplexity: ', lda_model.log_perplexity(corpus))  # a measure of how good the model is. lower the better.\n",
        "\n",
        "# Computing Coherence Score\n",
        "coherence_model_lda = CoherenceModel(model=lda_model, texts=data_lemmatized, dictionary=id2word, coherence='c_v')\n",
        "coherence_lda = coherence_model_lda.get_coherence()\n",
        "print('\\nCoherence Score: ', coherence_lda)"
      ],
      "metadata": {
        "colab": {
          "base_uri": "https://localhost:8080/"
        },
        "id": "y1ZNKyu64R0N",
        "outputId": "9be1756f-9561-4c5b-d2d7-7fe14fbafc44"
      },
      "execution_count": 21,
      "outputs": [
        {
          "output_type": "stream",
          "name": "stdout",
          "text": [
            "\n",
            "Perplexity:  -8.893673484587291\n",
            "\n",
            "Coherence Score:  0.46444956574558544\n"
          ]
        }
      ]
    },
    {
      "cell_type": "markdown",
      "source": [
        "### Visualizing topic-keywords distribution"
      ],
      "metadata": {
        "id": "KOQtvx9LSSUs"
      }
    },
    {
      "cell_type": "code",
      "source": [
        "# Feeding the model into the pyLDAvis instance\n",
        "vis = gensimvis.prepare(lda_model, corpus, id2word)\n",
        "vis"
      ],
      "metadata": {
        "id": "qlI5CMBmyMmG",
        "colab": {
          "base_uri": "https://localhost:8080/",
          "height": 916
        },
        "outputId": "d25ccdf6-1009-4d5d-d0bf-2575b3e1020c"
      },
      "execution_count": 22,
      "outputs": [
        {
          "output_type": "stream",
          "name": "stderr",
          "text": [
            "/usr/local/lib/python3.7/dist-packages/pyLDAvis/_prepare.py:247: FutureWarning: In a future version of pandas all arguments of DataFrame.drop except for the argument 'labels' will be keyword-only\n",
            "  by='saliency', ascending=False).head(R).drop('saliency', 1)\n"
          ]
        },
        {
          "output_type": "execute_result",
          "data": {
            "text/plain": [
              "PreparedData(topic_coordinates=              x         y  topics  cluster       Freq\n",
              "topic                                                \n",
              "11     0.221797  0.133665       1        1  20.493795\n",
              "4      0.205653 -0.020854       2        1  15.618683\n",
              "12     0.154666  0.034087       3        1  12.640157\n",
              "7      0.229978 -0.115887       4        1  11.009616\n",
              "2      0.202935  0.055032       5        1   9.410017\n",
              "17     0.172845  0.048095       6        1   6.627788\n",
              "0      0.225983 -0.190319       7        1   5.833270\n",
              "3      0.156572  0.055947       8        1   4.705815\n",
              "10     0.129539  0.178345       9        1   2.784023\n",
              "5      0.058172  0.224487      10        1   2.530728\n",
              "8      0.026247 -0.162514      11        1   2.200914\n",
              "14    -0.014412 -0.186005      12        1   2.127267\n",
              "9     -0.021864 -0.075029      13        1   2.073705\n",
              "1     -0.010209 -0.068771      14        1   1.110391\n",
              "18    -0.273789  0.008021      15        1   0.449338\n",
              "16    -0.296847  0.019975      16        1   0.170240\n",
              "15    -0.294519  0.018192      17        1   0.099176\n",
              "13    -0.292341  0.006056      18        1   0.085464\n",
              "19    -0.291018  0.018691      19        1   0.028470\n",
              "6     -0.289389  0.018785      20        1   0.001144, topic_info=                   Term          Freq         Total Category  logprob  loglift\n",
              "564            regering   3118.000000   3118.000000  Default  30.0000  30.0000\n",
              "243            minister   4211.000000   4211.000000  Default  29.0000  29.0000\n",
              "483             decreet   1961.000000   1961.000000  Default  28.0000  28.0000\n",
              "35                  lid   6254.000000   6254.000000  Default  27.0000  27.0000\n",
              "7               artikel  14944.000000  14944.000000  Default  26.0000  26.0000\n",
              "..                  ...           ...           ...      ...      ...      ...\n",
              "25            hierboven      0.000311     47.323074  Topic20  -9.6664  -0.5554\n",
              "26   hierboven_vermelde      0.000311     22.613752  Topic20  -9.6664   0.1830\n",
              "27               hierna      0.000311    521.803203  Topic20  -9.6664  -2.9557\n",
              "28         inde_xcijfer      0.000311      2.786006  Topic20  -9.6664   2.2770\n",
              "29          indexcijfer      0.000311     43.979096  Topic20  -9.6664  -0.4821\n",
              "\n",
              "[1202 rows x 6 columns], token_table=      Topic      Freq        Term\n",
              "term                             \n",
              "4708     10  0.942399  Af_bevelen\n",
              "1502      1  0.210431    Brussels\n",
              "1502      3  0.043840    Brussels\n",
              "1502      8  0.061376    Brussels\n",
              "1502     15  0.683901    Brussels\n",
              "...     ...       ...         ...\n",
              "63        9  0.005384         één\n",
              "63       11  0.042801         één\n",
              "63       12  0.001884         één\n",
              "63       13  0.011575         één\n",
              "63       14  0.003230         één\n",
              "\n",
              "[2640 rows x 3 columns], R=30, lambda_step=0.01, plot_opts={'xlab': 'PC1', 'ylab': 'PC2'}, topic_order=[12, 5, 13, 8, 3, 18, 1, 4, 11, 6, 9, 15, 10, 2, 19, 17, 16, 14, 20, 7])"
            ],
            "text/html": [
              "\n",
              "<link rel=\"stylesheet\" type=\"text/css\" href=\"https://cdn.jsdelivr.net/gh/bmabey/pyLDAvis@3.3.1/pyLDAvis/js/ldavis.v1.0.0.css\">\n",
              "\n",
              "\n",
              "<div id=\"ldavis_el31271405173305241123929667003\"></div>\n",
              "<script type=\"text/javascript\">\n",
              "\n",
              "var ldavis_el31271405173305241123929667003_data = {\"mdsDat\": {\"x\": [0.2217970862462576, 0.20565304505353849, 0.15466618260714599, 0.2299780979294683, 0.20293515493754988, 0.17284483333072753, 0.22598333368946552, 0.15657203517628507, 0.12953928105716533, 0.0581719949099559, 0.02624722224585857, -0.014412195576946391, -0.02186421543457449, -0.010209250910456436, -0.27378883471182947, -0.296846727300317, -0.2945186157767322, -0.29234100803086077, -0.2910184910342687, -0.2893889284074334], \"y\": [0.13366492505354816, -0.020854382581480226, 0.034087219207940556, -0.11588705304586717, 0.05503239712751317, 0.048094758692127065, -0.1903188402435714, 0.05594701398095327, 0.17834547836714437, 0.22448692379327195, -0.16251447345543826, -0.18600473715048502, -0.07502860165905653, -0.06877070420097296, 0.008021258889323715, 0.01997512284480005, 0.018192113804194342, 0.006055630297059766, 0.01869095342166576, 0.01878499685733041], \"topics\": [1, 2, 3, 4, 5, 6, 7, 8, 9, 10, 11, 12, 13, 14, 15, 16, 17, 18, 19, 20], \"cluster\": [1, 1, 1, 1, 1, 1, 1, 1, 1, 1, 1, 1, 1, 1, 1, 1, 1, 1, 1, 1], \"Freq\": [20.493794607134156, 15.618683128757265, 12.640156642874656, 11.009616376049806, 9.41001690403938, 6.627787596103259, 5.8332702601042365, 4.705815419319489, 2.7840231094211703, 2.5307281423236656, 2.2009136900360953, 2.1272665392629264, 2.07370496682188, 1.1103908354511143, 0.4493380702314755, 0.17024011749634668, 0.09917551598188476, 0.08546393793952431, 0.028470475044090223, 0.001143665607579347]}, \"tinfo\": {\"Term\": [\"regering\", \"minister\", \"decreet\", \"lid\", \"artikel\", \"woord\", \"cov_id\", \"bedoelen\", \"wetboek\", \"besluit\", \"wet\", \"toepassing\", \"brusselse_hoofdstedelijk\", \"waals\", \"paragraaf\", \"persoon\", \"goed\", \"steun\", \"onderneming\", \"betreffen\", \"\\u00e9\\u00e9n\", \"belasting\", \"Vlaams\", \"gelet\", \"vervangen\", \"periode\", \"koninklijk\", \"werknemer\", \"gewestelijk\", \"vermellen\", \"voortzetting\", \"ove_rwegen\", \"dans\", \"voort_zetten\", \"werkloosheid\", \"cursus\", \"discriminatie\", \"feitelijke_toestand\", \"examen\", \"raden\", \"toepast\", \"accountant\", \"federatie\", \"binnenlandse__zak\", \"beoordeling\", \"eind\", \"formule\", \"zitten\", \"opleidingsjaar\", \"examens\", \"conseil\", \"delegeren\", \"exploitant\", \"perken\", \"sportieve_recreatieve\", \"toelating\", \"standplaats\", \"militair\", \"imago\", \"actor\", \"nationale_veiligheidsraad\", \"voormeld\", \"vergezellen\", \"gelet\", \"evaluatie\", \"leten\", \"uit_vaardigen\", \"verlengen\", \"verlenging\", \"dringend\", \"vergaderen\", \"overwegende\", \"letten\", \"maatregel\", \"besluit\", \"ov_erwegen\", \"omwille\", \"proef\", \"verspreiding\", \"minister\", \"covid\", \"besluiten\", \"raad\", \"coronavirus\", \"crisis\", \"erkenning\", \"advies\", \"beperken\", \"sector\", \"cov_id\", \"houdende\", \"nemen\", \"geven\", \"termijn\", \"kader\", \"uitvoering\", \"gevolg\", \"art\", \"artikel\", \"regering\", \"belasten\", \"betreffen\", \"wet\", \"koninklijk\", \"lid\", \"toepassing\", \"orgaan\", \"ontwerpen\", \"aanhef\", \"register\", \"gemachtigde\", \"verwijzen\", \"verwijzing\", \"aansprakelijk\", \"voetnoot\", \"huishouden\", \"wetgever\", \"citeren\", \"voortaan\", \"begrip\", \"opmerking\", \"wetsbepaling\", \"oordeelen\", \"op_merken\", \"preciseren\", \"actueel\", \"sexies\", \"toelichting\", \"machtigden\", \"onderscheid\", \"verkeer\", \"lezen\", \"verwezen\", \"huren\", \"draagwijdte\", \"opgesomd\", \"drempel\", \"afnemer\", \"ontwerp\", \"vijf_werkdagen\", \"immers\", \"voorliggen\", \"lijken\", \"rechtsgrond\", \"adresseren\", \"evenwel\", \"aankomst\", \"bevoegdheid\", \"beginsel\", \"richtlijn\", \"uitdrukkelijk\", \"regel\", \"wel\", \"vooraf\", \"aldus\", \"verplichting\", \"overheid\", \"vinden\", \"bepaling\", \"artikel\", \"ministerieel\", \"bepalen\", \"wet\", \"maatregel\", \"koninklijk\", \"algemeen\", \"besluit\", \"voorzien\", \"lid\", \"geval\", \"twee\", \"maken\", \"plaats\", \"advies\", \"volgen\", \"\\u00e9\\u00e9n\", \"raad\", \"federaal\", \"nemen\", \"regeling\", \"minister\", \"betreffen\", \"wijziging\", \"betrekking\", \"test\", \"vaccin\", \"lokale_besturen\", \"contactcentrum\", \"gebruiker\", \"contact_centrum\", \"besmeten\", \"besmet\", \"testen\", \"gefedereerde_entiteiten\", \"collectiviteit\", \"evalueren\", \"contacteren\", \"geneesmiddelen\", \"vaccineren\", \"vermoedelijk_besmette\", \"vermoedelijk\", \"werkzaam\", \"bewoner\", \"elektriciteit\", \"semester\", \"telefonisch\", \"geneeskunde\", \"minuut\", \"rit\", \"intensieve_zorg\", \"arts\", \"gezondheid_zorg\", \"hospitalisatie\", \"sars_cov\", \"vaccinatie\", \"medewerker\", \"verzamelen\", \"preventief\", \"quarantaine\", \"besmetting\", \"medisch\", \"persoon\", \"verwerken\", \"contact\", \"gezondheid\", \"verwerking\", \"digitaal\", \"taak\", \"gegeven\", \"volksgezondheid\", \"databank\", \"welzijn\", \"cov_id\", \"fase\", \"pati\\u00ebnt\", \"protocol\", \"federaal\", \"coronavirus\", \"bevoegd\", \"zorg\", \"mogelijk\", \"overheid\", \"bepalen\", \"noodzakelijk\", \"opdracht\", \"artikel\", \"vermellen\", \"kader\", \"betreffen\", \"nodig\", \"uit_voeren\", \"volgen\", \"basis\", \"overwegende\", \"besluit\", \"verspreiding\", \"pensioen\", \"ingevoegd_luidende\", \"cruciale_sectoren\", \"tien\", \"vroegste_aanvangt\", \"rijksdienst\", \"arbeider\", \"laatstelijk_gewijzigd\", \"acht\", \"hetgeen_volgt\", \"laatstelijk_gewijzigen\", \"wij_bekrachtigen\", \"be_stukken\", \"vernietigen\", \"integraal_verslag\", \"aangemerken\", \"kwijtgescholden\", \"bejaard\", \"programma_wet\", \"zegelen\", \"rsz\", \"paragraf\", \"af_bevelen\", \"collectief_ontslag\", \"negen\", \"woord\", \"griffierecht\", \"leerresultaten\", \"voertuig\", \"Kamer\", \"besluitwet\", \"wijzigingen_aangebracht\", \"huurprijs\", \"paragraaf\", \"streepje\", \"luiden\", \"vervangen\", \"aftrekbaar\", \"titel\", \"hetzelfde\", \"hoofdstuk\", \"kwartaal\", \"in_voegen\", \"aan_vullen\", \"lid\", \"drie\", \"vermindering\", \"wet\", \"\\u00e9\\u00e9n\", \"bedoelen\", \"vier\", \"artikel\", \"ingevoegd\", \"op_heffen\", \"toepassing\", \"wetboek\", \"twee\", \"bedrag\", \"bepaling\", \"volgen\", \"koning\", \"betreffen\", \"wijziging\", \"art\", \"werknemer\", \"koninklijk\", \"maand\", \"betrekking\", \"sociaal\", \"nace_bel\", \"leerling\", \"school_jaar\", \"tussenpersoon\", \"overheids_dienst\", \"maatstaf\", \"subsidiering\", \"civiele_noodsituatie\", \"departement\", \"gewestelijke_beleidslijnen\", \"eg\", \"initiatiefnemer\", \"basisonderwijs\", \"ontvankelijk\", \"bijzonder_stelsel\", \"authentieke_bronnen\", \"pedagogisch\", \"gewestelijke_incentives\", \"verlaagen\", \"gerangschikt\", \"leerjaar\", \"groei\", \"webplat_form\", \"subk_lass\", \"deelsectoren\", \"klassen_raad\", \"internat\", \"codificatie\", \"uitreiking\", \"ondernemerschap\", \"Vlaams\", \"middelgrote_ondernemingen\", \"Regering\", \"code\", \"subsidie\", \"vormvereisen\", \"fiscaliteit\", \"decreet\", \"waals\", \"agentschap\", \"graad\", \"vereniging\", \"plaatsgehad\", \"zinsnede\", \"onderwijs\", \"dossier\", \"project\", \"klein\", \"vergoeding\", \"organisatie\", \"regering\", \"ondersteuning\", \"vermeld\", \"baseren\", \"school\", \"lid\", \"artikel\", \"afwijking\", \"vermellen\", \"besluit\", \"volgen\", \"\\u00e9\\u00e9n\", \"uiterlijk\", \"twee\", \"minister\", \"betreffen\", \"euro\", \"bedoelen\", \"activiteit\", \"art\", \"raad\", \"verplichte_verzekering\", \"beroepsziekten\", \"geneeskundige_verzorging\", \"financiele_tussenkomst\", \"uitkeringen_gecoordineerd\", \"alinea\", \"jeugd\", \"riziv\", \"begrotings_jaar\", \"ad_hoc\", \"structureel\", \"apparatuur\", \"apotheek\", \"woonzorgcentrum\", \"adviseren\", \"facturatie\", \"verrekening\", \"honoraria\", \"jeugdcentra\", \"subsidiebedrag\", \"artsen_specialisten\", \"hulp_middel\", \"vermenigvuldigen\", \"gezinslast\", \"terug_betaling\", \"voorschot\", \"defensie\", \"verrekenen\", \"steunfonds\", \"kritieke_sectoren\", \"budget\", \"zelfstandig\", \"meewerkende_echtgenoten\", \"onderbreken\", \"dekken\", \"zorgverlener\", \"ziekte\", \"uitkering\", \"justitie\", \"overnachting\", \"ziekenhuis\", \"schijf\", \"tegemoetkoming\", \"verzekering\", \"last\", \"strijd\", \"financieel\", \"kosten\", \"zaak\", \"periode\", \"uitzonderlijk\", \"pandemie\", \"cov_id\", \"tijdelijk\", \"bedrag\", \"koning\", \"sociaal\", \"koninklijk\", \"euro\", \"vaststelling\", \"basis\", \"kader\", \"wet\", \"besluit\", \"geven\", \"artikel\", \"activiteit\", \"houdende\", \"voorzien\", \"maatregel\", \"invoer\", \"lidstaat\", \"derde_landen\", \"voldoening\", \"woon_plaats\", \"sexie\", \"heffing\", \"verbruik\", \"btw\", \"geleverde_goederen\", \"ontvanger\", \"levering\", \"rechtsvorm\", \"verzending\", \"zestien\", \"bewaard_gedurenen\", \"quinquie\", \"verzet\", \"quater\", \"toegepa\", \"belasting\", \"keuze\", \"aangifte\", \"vestigen\", \"zending\", \"langs_elektronische\", \"agent\", \"verschuldigen\", \"rechtsper_soon\", \"douane\", \"goed\", \"bericht\", \"leverancier\", \"wetboek\", \"verrichten\", \"kennisgeving\", \"handeling\", \"regeling\", \"vermelding\", \"bedoelen\", \"bijzonder\", \"artikel\", \"dienst\", \"betaling\", \"nieuw\", \"koninklijk\", \"administratie\", \"lid\", \"bedrag\", \"betrekking\", \"\\u00e9\\u00e9n\", \"euro\", \"toepassing\", \"besluit\", \"persoon\", \"betreffen\", \"creatief\", \"steun_aanvraag\", \"faillissement\", \"indexcijfer\", \"coefficient\", \"voor_komen\", \"bew\", \"kb_wib\", \"winstoogmerk\", \"eenmalige_premie\", \"financieel_gesteund\", \"prangen\", \"winstgevend_oogmerk\", \"inkomensverlie\", \"publicatieblad\", \"nationale_bank\", \"lopende_belastingjaar\", \"zaakvoerder\", \"verwant\", \"premie\", \"voorafgaande_belastingjaren\", \"dienstencheques\", \"zolang\", \"basis_bedrag\", \"scanen\", \"enkele_schijf\", \"huishoudhulpen\", \"steun_regeling\", \"staken\", \"voltijdse_equivalenten\", \"begunstigen\", \"steun\", \"lening\", \"wins_toogmerk\", \"steunmaatregel\", \"onderneming\", \"europese_unie\", \"onderdeel\", \"vullen\", \"tabel_zie\", \"werkgelegenheid\", \"aanvrager\", \"terugvordering\", \"bijzondere_machtenbesluit\", \"commercieel\", \"economisch\", \"economie\", \"beeld\", \"brusselse_hoofdstedelijk\", \"deel\", \"formulier\", \"cultureel\", \"aanslagjaar\", \"ordonnantie\", \"gewest\", \"inkomst\", \"aanvraag\", \"raadpleging\", \"betreffen\", \"ontwikkeling\", \"regering\", \"bedoelen\", \"activiteit\", \"gegeven\", \"minister\", \"hoofdstuk\", \"art\", \"artikel\", \"uit_oefenen\", \"sociaal\", \"cov_id\", \"euro\", \"besluit\", \"voorwaarde\", \"bevoegd\", \"telewerk\", \"ambtenarenzaken\", \"ambtenarenzak\", \"beschikking\", \"rang\", \"interne_markt\", \"algemeen_verbindend\", \"verzoenen\", \"stapsgewijze_heropbouw\", \"collectief\", \"klasse\", \"paritaire__comite\", \"deeltelijke_arbeiden\", \"noden\", \"bijlage_overge_nomen\", \"nummer_co\", \"verw_ijzing\", \"sectorcomite\", \"ambtenare_nzak\", \"omzendbrief\", \"tel_ewerken\", \"kwalificatie_examencommissie\", \"aangaan_namens\", \"dwingende_familiale\", \"superieur\", \"paritair_subcomite\", \"personeelsled\", \"mannelijk\", \"notulen\", \"hierarchisch\", \"statuut\", \"personeel_lid\", \"personeelslid\", \"paritair_comite\", \"ambt\", \"verlof\", \"openbaar_nut\", \"wegens_overmacht\", \"werkplek\", \"gelijkwaardig\", \"werk\", \"tele_werk\", \"Rupo\", \"werkgever\", \"prestatie\", \"franse_gemeenschap\", \"personeel\", \"werknemer\", \"instelling\", \"regering\", \"dienst\", \"week\", \"letten\", \"waals\", \"betreffen\", \"besluit\", \"ambtenaar\", \"divers\", \"minister\", \"bijzonder\", \"besluiten\", \"gelet\", \"bepaling\", \"art\", \"regeling\", \"artikel\", \"wet\", \"kader\", \"cov_id\", \"toepassing\", \"sociale_actie\", \"plenaire_vergadering\", \"cluster\", \"jeugd_sport\", \"jeugd_justitiehuizen\", \"ziekenhuizen_hulpverlening\", \"vorming_gezondheid\", \"wallonie_bruxelles\", \"morreaal\", \"enseignement_fr\", \"af_b_eve\", \"rust\", \"gezondheid_cultuur\", \"bossen_landelijk\", \"leefmilieu_natuur\", \"gemeente_raad\", \"dierenwelzijn_tellier\", \"universitaire_ziekenhuizen\", \"Af_bevelen\", \"bespreking\", \"huisvesting_plaatselijke\", \"bespreking_stemming\", \"waals_parlement\", \"_daerod\", \"applicatie\", \"franse\", \"nota_zitting\", \"parlementair\", \"voorzitster\", \"belgisch_staatsbladen\", \"parlement\", \"medium\", \"promotie\", \"bijzondere_machten\", \"president_jeholet\", \"kondigen\", \"waalse\", \"bekrachtigen\", \"franse_gemeenschap\", \"bekrachtiging\", \"aan_nemen\", \"decreet\", \"regering\", \"president\", \"minister\", \"aangelegenheid\", \"onderwijs\", \"grond_wet\", \"waals\", \"sociaal\", \"bekendgemaken\", \"ervan\", \"gezondheid\", \"cov_id\", \"betreffen\", \"artikel\", \"toekenning\", \"Waals\", \"begroting\", \"bedoelen\", \"kader\", \"hoog\", \"volgen\", \"toezicht\", \"organisator\", \"buitenschoolse_opvang\", \"huurder\", \"beslag\", \"getal\", \"erflater\", \"kinderopvang\", \"samenwonen\", \"handelshuur\", \"huurgelen\", \"ontvangsut\", \"schuld\", \"kind_opvang\", \"programmatie\", \"bezoldigen\", \"jonge_kinderen\", \"hande_lspand\", \"gezinszorg\", \"pand\", \"personeels_lid\", \"kwijtschelden\", \"opvang\", \"kinderbijslag\", \"ongeschiktheid\", \"kinderen_jonger\", \"handelspand\", \"pijler\", \"organiek_reglement\", \"mede_onthaalouders\", \"betwisting\", \"akte\", \"verhuurder\", \"gezin\", \"rentevoet\", \"kind\", \"verplichte_sluiting\", \"centrum\", \"vermelnen\", \"verzonden\", \"ouder\", \"aanwezig\", \"attest\", \"sociaal_statuut\", \"huur\", \"vermellen\", \"voor_gaan\", \"aantal\", \"ontvangen\", \"bezorgen\", \"periode\", \"geval\", \"groot\", \"lid\", \"plaats\", \"artikel\", \"\\u00e9\\u00e9n\", \"toe_kennen\", \"volgen\", \"voorwaarde\", \"maand\", \"bevoegdheid\", \"recht\", \"dienst\", \"verenigd_koninkrijk\", \"verwijderen\", \"deelneming\", \"operatie\", \"geld\", \"inschrijver\", \"bespreken\", \"groen\", \"technische_documentatie\", \"management\", \"volbrengen\", \"terugname\", \"industrieel\", \"passagier\", \"buitendienst\", \"rangschikken\", \"dienstve_rlening\", \"investeerder\", \"investering\", \"onderzoeker\", \"volstorting\", \"uit_geven\", \"bedrijfsarts\", \"aangeschaft\", \"aandeel\", \"bezitten\", \"consulair\", \"diplomatiek\", \"zeevarnen\", \"psychologisch\", \"onroerende_goederen\", \"vennootschap\", \"reizen\", \"verwerving\", \"uitgave\", \"minimum\", \"gemeente\", \"kapitaal\", \"administratie\", \"document\", \"persoonlijk\", \"functie\", \"attest\", \"verplaatsing\", \"ter_beschikking\", \"ambtenaar\", \"dir_ectiecomite\", \"verkrijgen\", \"jaar\", \"doen\", \"dragen\", \"eigen\", \"betrekking\", \"fiscaal\", \"aanmerking\", \"voorwaarde\", \"volgen\", \"nieuw\", \"stellen\", \"recht\", \"waarin\", \"constructie\", \"inhoudelijk\", \"periodiek\", \"ongeldig\", \"aanvullende_crisisuitkering\", \"automatische_uitwisseling\", \"meewerken\", \"grondwettelijk_gewaarborgde\", \"memorie\", \"redelijk_verantwoord\", \"afdoende_verantwoording\", \"aanstelling\", \"schaden\", \"implementatie\", \"rechtsgebied\", \"objectief_criterium\", \"blootstelling\", \"opgesomde\", \"rijbewijs\", \"refereren\", \"intermediair\", \"bijna\", \"succesvol\", \"geldende_beginselen\", \"berust\", \"griffier_wim\", \"belassen\", \"leiding\", \"fout\", \"behandelend_arts\", \"selectie\", \"kandidaat\", \"lijst\", \"slagen\", \"rijzen\", \"boete\", \"inlichting\", \"inbreuk\", \"voorafgaat\", \"fiscaal\", \"codex\", \"grondwettelijk\", \"kennis\", \"werknemer\", \"voorkomen\", \"beoordeelen\", \"relevant\", \"fod\", \"categorie\", \"verstrekken\", \"administratief\", \"koning\", \"beschouwen\", \"bestaan\", \"financieel\", \"procedure\", \"termijn\", \"voornoemd\", \"zaak\", \"persoon\", \"informatie\", \"betrekking\", \"stellen\", \"rekening\", \"generaal\", \"bevoegde_autoriteiten\", \"bevoegde_autoriteit\", \"grensarbeider\", \"vermogen\", \"koninkrijk\", \"adjunct_directeur\", \"overeenkomen\", \"ondergetekende_bevoegde\", \"vos_adviseur\", \"schriftelijke_overeenkomst\", \"onderling_overleg\", \"onde_rteken\", \"kalenderm_aand\", \"Duits\", \"unilateraal\", \"akkoord_verlengt\", \"inleiding\", \"bondsrepubliek_duitsland\", \"kalender_maand\", \"avenant\", \"grenszone\", \"ontgaan\", \"overeen\", \"overeen_komen\", \"voorkoming\", \"overeenkomst\", \"unilate_raal\", \"zenden\", \"verlaten\", \"akkoord\", \"kalendermaand\", \"beeindigen\", \"publiceren\", \"directeur\", \"thuis\", \"aanvang\", \"verlenging\", \"toepassing\", \"staat\", \"daadwerkelijk\", \"week\", \"verlengen\", \"paragraaf\", \"dag\", \"pandemie\", \"staan\", \"toe_passen\", \"uit_oefenen\", \"belasting\", \"belgisch_staatsblad\", \"volgen\", \"waarop\", \"artikel\", \"cov_id\", \"brussel_fiscaliteit\", \"voornamen\", \"kandidatuur\", \"kandi_datuur\", \"attache\", \"mijnheer\", \"overheveling\", \"benoemingsdatum\", \"bijgeveegd\", \"moti_vatiebrief\", \"Brussels\", \"gewestelijk\", \"vacant\", \"overheid_dienst\", \"brussels_hoofdstedelijk\", \"brusselse_hoofdstedelijk\", \"mobiliteit\", \"uit_nodigen\", \"diploma\", \"beschikken\", \"extern\", \"kandidaat\", \"vermelding\", \"Brussel_fiscaliteit\", \"attaches\", \"directeurs_diensthoofden\", \"ambtenaar_uitgeoefend\", \"ambtenaar_uitgeoefen\", \"vastbenoemde_personeelsleden\", \"uitoefenen\", \"nomenclatuur\", \"verstrekking\", \"ziekenfonds\", \"gerelateerde_problematiek\", \"logopedis\", \"vergoedbaar\", \"vroedvrouwen\", \"neurologisch\", \"toeslag\", \"oncologisch\", \"artsen_ziekenfondsen\", \"Locomotorische\", \"aangerekend\", \"tandartsen\", \"geneeskundig\", \"roepen\", \"voorschrift\", \"spoedeisendheid_gemotiveerd\", \"voorgestelde_ontwerpbesluit\", \"specialist\", \"sleutelletter\", \"traject\", \"klinisch_orthopedagogen\", \"clairs_vallon\", \"verleent\", \"feitelijk_gezin\", \"cumuleerbaar\", \"klinisch_psycholog\", \"tuss_enkomst\", \"geindexeerde_kadastraal\", \"pati\\u00ebnt\", \"financiele_tussenkomst\", \"verplichte_verzekering\", \"zorgverlener\", \"verschuldigen\", \"werkzaam_bestanddeel\", \"gecorrigeerd_jaarlijks\", \"werkzame_bestanddelen\", \"biologische_geneesmiddelen\", \"specialiteit\", \"administratieve_toeslag\", \"genereren\", \"vergoedbare_farmaceutisch\", \"prijs\", \"omzetcijfer_gelijk\", \"gebruikse_enheid\", \"viii\", \"goedkoop\", \"molecule\", \"octrooi\", \"specialiteit_vergund\", \"toedienings_vorm\", \"vergoedbare_farmaceu_tische\", \"voorafnaam\", \"beduiden\", \"betoelaging\", \"gerechtskost\", \"isomeren\", \"taalpremie\", \"toedieningsvorm\", \"toegerekend\", \"vergoedbare_farmaceutische\", \"visabeheer\", \"zeventien\", \"zakenenig\", \"kostprijs\", \"spoedig\", \"uitzendkracht\", \"uitzendarbeid\", \"doorstorting\", \"buiten_beschouwing\", \"aanmaak\", \"uren_studentenarbeid\", \"systeemvaart_actief\", \"doo_rstorting\", \"door_werken\", \"tegenstelbaar\", \"doorstorten\", \"bezoldiging\", \"schuldenaar\", \"verzekren\", \"inhouding\", \"toegekennen\", \"nummer\", \"indienen\", \"berekening\", \"tuinbouw\", \"raamden\", \"vaccins\", \"setting\", \"in_houden\", \"verzoekschrift\", \"statbel\", \"schuldeiser\", \"uit_gaan\", \"betalen\", \"vrijstelling\", \"voordeel\", \"in_vullen\", \"nl\", \"storten\", \"bijlage\", \"last\", \"publicatie\", \"diamant\", \"handelaar\", \"synthetische_diamant\", \"onderworpen_handelaren\", \"witwassen\", \"opzoeking\", \"Cfi\", \"diamant_handel\", \"hande_laar\", \"witwas\", \"witwasbeleid\", \"http\", \"Antwerps\", \"aa_nknopen\", \"afgekort\", \"cfi\", \"diamant_sector\", \"dragslijnen\", \"edelsteen\", \"ftp\", \"gedrag_lijn\", \"gedrag_slijn\", \"gedragslijnen\", \"geldmidde\", \"han_delar\", \"hande_lsbeur\", \"meldpunt\", \"muyllebijlage\", \"ongefilterd\", \"proliferatie\", \"clienteel\", \"Belgische\", \"Gaan\", \"kennisname\", \"afgewijkt\", \"kern_opdracht\", \"bevri_ezing\", \"Visee\", \"afstandsexamen\", \"alt_erneren\", \"basistoelage\", \"cursus_jaar\", \"examenperiodes\", \"franse_ontwer_pversie\", \"leerjar\", \"regelmatigheid\", \"slotopmerkingen\", \"terugwerken\", \"tussenliggen\", \"alcohol_gehalte\", \"alcoholische_dranak\", \"daarbuiten\", \"gefnuiken\", \"gunstregeling\", \"heractivering\", \"loutear\", \"onvermijdelijk\", \"uitermate\", \"verbruikssalons\", \"verergerd\", \"Ii\", \"basi_behoeft\", \"gesch_enkcheques\", \"telewerkkosten\", \"artikel\", \"aanslagjaar\", \"aanslagjaar_afgekort\", \"aanslagjaar_zijnde\", \"afgevlaken\", \"afgevlakte\", \"afwijking\", \"aj\", \"basis\", \"basis_bedrag\", \"basisbe_drag\", \"bedoelen\", \"bedrag\", \"bedragen\", \"beeld\", \"betreffen\", \"bevatten\", \"bijzonder\", \"coefficient\", \"deelen\", \"deling\", \"drie\", \"geindexeerde_bedragen\", \"gemiddeld\", \"gemiddelden\", \"hierboven\", \"hierboven_vermelde\", \"hierna\", \"inde_xcijfer\", \"indexcijfer\"], \"Freq\": [3118.0, 4211.0, 1961.0, 6254.0, 14944.0, 1865.0, 4589.0, 4015.0, 1828.0, 8446.0, 4208.0, 2426.0, 542.0, 1351.0, 1283.0, 2664.0, 1128.0, 930.0, 1189.0, 3806.0, 3714.0, 862.0, 1013.0, 1667.0, 1790.0, 1505.0, 2692.0, 891.0, 383.0, 924.0, 127.31715492584686, 81.71738227036654, 72.29803400176903, 67.38990475068672, 62.574931917509666, 60.26789853262939, 59.246224367774374, 58.330541505069334, 58.25045509871875, 51.27338442138587, 50.503649169130675, 49.37885634447756, 48.79081316524623, 48.75769599478762, 60.155093649954445, 46.308609934461266, 43.29820342482449, 41.40049346203711, 40.629004977883895, 35.49820505282594, 35.26620084693836, 35.33857916669354, 35.12116052121708, 34.899312792826215, 34.70379165595365, 122.10019106462272, 34.25597124832147, 34.05991085207503, 34.02391081633804, 33.80743268010133, 125.96288295815638, 70.89988523345859, 65.53718333177825, 1367.5611996814187, 224.74981277110308, 707.629092633219, 39.315425369202664, 528.107878501541, 389.3868139163347, 813.6449298068333, 51.74100663768554, 1021.2005980069414, 807.2865148621931, 2161.0530610655705, 4585.989461184161, 381.25149077585166, 164.90289946399324, 226.28824053710852, 698.0303371156747, 2074.7949513002914, 330.60782840511547, 752.6481621707087, 1017.6846473350824, 904.8109439188113, 363.42041699101117, 289.8842281324188, 920.4061409988076, 587.1098260401417, 438.53009825356946, 1852.6929582810458, 607.3416518887262, 866.4445460428873, 926.772734284663, 600.7472918000254, 987.3643468969827, 672.2632463657675, 457.64083708836415, 837.0568218535655, 3166.8735523664773, 945.0977798789062, 455.6305599259434, 929.0692124979123, 916.6684754966025, 585.7509946472236, 693.5197365852139, 529.6467969680194, 216.3880306738915, 327.2932225507648, 187.90791912260534, 178.6298575050499, 133.76726975869042, 133.42510141442116, 119.62360513827524, 100.39014938925807, 97.4864320621379, 81.84485574562528, 71.26241268543677, 70.36213861746917, 68.89024131413814, 66.61505321961585, 170.21236664742446, 62.63498747013321, 59.27856984601033, 59.054342764903055, 56.62100367943578, 50.57101344484199, 49.62900649431875, 69.55334732873581, 48.378800277831594, 47.59890218334029, 47.43243422196161, 46.32554868895287, 45.719457746611724, 42.42112257174717, 41.657531193057025, 40.60565842654233, 228.56441819604711, 85.42543812227139, 1125.1716799820504, 59.81253493000016, 141.493271722758, 123.651441851893, 120.24446016396239, 245.61566451579333, 69.65678161396097, 173.10665677620761, 116.01233372505922, 679.9885218582635, 183.4576114752474, 148.57630759594795, 89.41125757916882, 397.53323609886786, 160.7423018267138, 114.27961467071262, 127.40564049940063, 247.34355310487635, 374.7251815172731, 117.16024704851657, 778.7777693573604, 2774.9852408593874, 429.46579024907356, 771.0994487600883, 1049.7467385128714, 935.2998027582859, 759.1815378759736, 453.0019985137916, 1292.525050061408, 386.0277846196808, 1049.3595533487744, 400.3261799499914, 485.02885581165964, 345.7571306457789, 275.3487675921662, 461.15033896335825, 553.8988559181287, 561.4422974595241, 420.04709976376324, 323.4873145517176, 377.627200390478, 307.6718414857153, 375.52205246430754, 355.2530774110149, 278.09085131870785, 292.7298411965405, 306.4157818802199, 157.18492967479781, 147.83528895614916, 138.3670456643578, 129.4616128818019, 123.56121998941553, 119.7454958869065, 117.6793646602955, 117.05423262884086, 91.61701353596241, 88.63115434900926, 88.14480183030695, 85.92501059798153, 85.66700428801731, 78.85564148813809, 76.5523618628843, 74.0972255458937, 70.0434324718722, 70.09859118052997, 67.6721943918958, 67.45361508298748, 67.20469470114122, 60.07054500456368, 59.11918969138346, 57.795588758286875, 55.751463006437604, 317.4120374192341, 54.703718669566115, 50.958585481869385, 49.85864592434529, 310.2391858303679, 67.23847846440005, 124.61416619353012, 90.37826924451149, 127.27419302696265, 344.1636328006314, 256.7600056257088, 1849.6448716483806, 212.91526364228798, 302.0083059707229, 361.99341424662714, 278.080221075945, 139.5098675238459, 209.7612674954505, 595.1446098257056, 336.99017590357687, 156.8701189745389, 155.03999488842405, 1282.3783861848256, 175.90337920472425, 236.0189944481409, 161.02728733759153, 396.75765066461696, 535.4006411993107, 467.50498720123846, 201.35778652803262, 327.9357490325913, 291.36716456883784, 506.1658698601591, 245.43486597105806, 182.94461409439953, 1013.9959336993186, 302.64266895204895, 444.41838157287924, 489.60756348483716, 246.49907342959227, 223.01599093790426, 343.01912112245094, 240.32891485462545, 261.48887496201235, 302.55366342719606, 240.94973406523854, 194.3895662445596, 131.27102669324523, 96.63776954566835, 63.24429377987222, 59.38304363786185, 60.073697855478045, 54.107418146035, 50.51528359087898, 62.18625685986385, 42.749976453225, 41.101400465809846, 37.49122766435728, 33.370766632461915, 34.27533154980418, 30.592022707574923, 29.537187583149105, 28.03680859898833, 25.95120124438187, 141.221460461237, 24.91375082650247, 24.833887170650954, 21.43181186030674, 43.35839999286948, 21.007103012563718, 20.87956939846773, 1795.5200396379983, 34.08372083457715, 17.099326606871596, 272.4711784634697, 16.838355553205794, 43.465536576444734, 268.77627340962374, 66.22502816895883, 998.3301874685508, 172.62271640756126, 346.84718734758223, 1236.5654829202429, 61.432137891386695, 315.8248746177175, 468.0595892385711, 731.7503348446945, 176.94116428619537, 253.90236772844014, 453.72740759900444, 2586.677379414082, 531.0344598834713, 114.60286332564048, 1635.054788194257, 1451.5127955447613, 1487.358583114118, 263.6214594087487, 3675.171184937912, 174.2103786459132, 213.50510966198019, 764.1289567413667, 610.2957607787346, 602.363128243291, 445.2714160381156, 594.2599822443021, 662.983981659822, 311.95102049481187, 566.8604765024039, 295.0666727681823, 387.62521195148526, 288.45717813827923, 411.8844317343753, 292.5803219783085, 315.8596714904637, 275.7484331734706, 398.065633076141, 312.42296710714714, 176.83189604560104, 162.3002424356355, 157.84193573450636, 103.56693763486378, 130.14584106750758, 80.48685874569813, 65.34040353949523, 72.21025373001893, 62.64047934778543, 59.551727506549604, 53.27215744620273, 44.963013609173686, 43.6861840633232, 42.00020653360977, 37.11500852133806, 35.47936946827722, 34.684067068985, 33.8900672552272, 32.34204174811195, 31.998748264267423, 30.57284895225743, 29.80977322318699, 29.759458216544033, 28.696665770507494, 27.909202354431407, 26.758265940231652, 26.263342112177074, 25.347694891510454, 961.8227747712672, 96.46631153365863, 53.295575821810694, 575.0614624449997, 573.2810087385251, 72.56190957829432, 277.105540705311, 1428.9686447652614, 936.6923652289034, 197.14682289229557, 95.61004109035278, 278.4715140417349, 79.11756205591075, 115.41844757723497, 348.1837138268662, 164.67683438669036, 167.36647871418256, 142.3601128667107, 272.6851052117195, 312.6486734957487, 814.1744838269524, 201.7472264197234, 208.5045989361004, 107.90926493640953, 145.0454668764427, 888.6336714316514, 1324.530030972771, 273.71915628396414, 272.81296982417905, 745.8052567688085, 419.59074872334503, 462.2701538656126, 197.63695179738292, 275.20232946047213, 329.22591681696736, 311.061819204703, 220.74505387804578, 271.1008420097368, 211.77815832715802, 219.68411556276993, 208.3499597366559, 258.0881730902529, 200.4430166212021, 173.58857783072295, 125.60079303373706, 87.87706349293931, 72.96466580921972, 51.772615953601296, 48.89896401656674, 39.61736508533221, 39.04255270561521, 36.4284361852914, 33.560421219575574, 31.070116393630194, 28.62973761101864, 27.7538448400506, 24.832855568504833, 20.91548119771465, 20.87112434979807, 20.810947614632138, 20.233030768012913, 19.448647035546657, 19.408933663417262, 16.881352091654456, 16.63366423313765, 33.16617706598403, 113.74079052304967, 14.67543164220375, 14.568876353572023, 14.44295038168138, 14.020498228505419, 91.81887686196296, 654.0688973603883, 89.61609394082984, 53.59686550572153, 106.51121115276906, 146.04420019996323, 247.12022046421956, 252.76176748283788, 93.50984923648745, 32.636510048939925, 395.2609640332009, 34.62516740735807, 254.50648449417017, 102.6760274605617, 123.9353969701344, 264.38719263926913, 317.64270564369065, 128.09743242686525, 223.22668268590775, 472.53686485438413, 172.48371822768522, 324.2243077220645, 789.3152128549256, 273.6518475951321, 343.1096494035099, 277.4640139299664, 346.4358658308295, 469.43734393989905, 285.5368974340956, 230.6599732730652, 225.30209319822825, 315.7889124108055, 365.6580901102184, 462.77914517442116, 272.9203968417266, 475.6355922949006, 203.85918654743085, 196.4324685696468, 191.12698422587104, 183.99611301728666, 283.02558233894723, 551.546100120347, 108.25423151315317, 70.03998236627307, 69.18462561604468, 65.55851660651571, 61.993624225704316, 59.10835921773219, 404.80036091621605, 25.26273622394346, 40.60508759805953, 207.86217726860582, 19.97440427909054, 177.4600638403916, 10.438329236140618, 8.862261474853387, 216.2781455723538, 7.474799009867482, 143.78330597705096, 19.916458279267275, 767.9979032838152, 163.20178627375552, 388.3904634678226, 279.12550287308807, 92.84548404463281, 48.98555328335596, 4.2531237045509105, 317.71028750342174, 46.827846074510596, 71.11554788292834, 873.5373498652062, 108.81398626327882, 130.01770617008526, 1062.5651741740826, 402.3091892311356, 127.5745813037796, 260.8306989276817, 514.5501427777253, 99.88447102688002, 971.283108937175, 394.42406378365746, 1519.720691619579, 347.0049264145759, 185.5059855091328, 259.690448286186, 428.1039526049076, 219.37867848566515, 570.3390173545827, 278.2982549085528, 268.71561486868256, 337.96567634111096, 215.32293570723462, 266.28862200112246, 344.9939901322689, 259.3607316480433, 251.59411703117692, 53.65832484285952, 52.14772374081073, 45.035588777213356, 43.16690066044376, 42.89659714710941, 40.8123281874601, 37.298567958990326, 33.64384380278073, 28.708726058627303, 24.402940151333606, 22.69715949024695, 21.87926542482342, 21.87926542482342, 20.349835799279585, 19.8231230539433, 18.465718199286833, 17.985870191179927, 17.91075210539221, 17.7999886974162, 197.55178868000138, 17.288179616918466, 17.031097853813, 16.534393141153306, 15.902720943001398, 15.85395715633834, 14.948770196860412, 14.50219193859708, 14.11464618361931, 13.48652795437047, 12.562331721327785, 236.58721222764694, 820.0298458056398, 94.85965534917081, 112.84787411755518, 43.50478122581344, 774.997407243927, 68.61899872288205, 176.68673302293467, 84.03630361666818, 78.47635635557317, 102.72387961580091, 112.144319729344, 38.742911249772284, 50.182867197343086, 46.423974663298274, 327.7362141847531, 195.4731347095305, 77.99049077858713, 247.9854712467995, 241.20121221484337, 78.28178946884951, 82.71253705420521, 126.71946075289232, 154.6732994035117, 214.7877960803709, 104.08209667206931, 162.87299579951772, 76.01397702932513, 371.0732264822296, 79.8046299327613, 301.1837942044656, 310.440207150855, 177.93042495711398, 152.7028795137427, 245.6014106910151, 155.0123395862117, 166.19723840619812, 240.18550010884496, 105.20086918144968, 131.26810902657397, 152.86452171893768, 120.87447297927311, 164.3010997528681, 116.40183363100846, 110.64565282670287, 175.27829251089128, 113.29013792882381, 72.26537629832713, 58.622628583454926, 52.24712569061854, 45.444061181640606, 29.835611039559108, 23.939759192625278, 23.290466144935777, 231.72973567134142, 20.6565336042318, 14.926568565044349, 14.791412132198028, 13.17696477832215, 11.896211688370284, 11.896211688370284, 11.896211688370284, 11.81071852996363, 11.004894023882153, 27.575561949295448, 10.826200115750366, 10.602122382304659, 10.226306479013955, 9.997963183994424, 9.80576015972741, 9.137139111646027, 8.556206843930672, 7.266812224793356, 6.139093013281107, 5.784875030744455, 189.20254090328706, 215.84882009301887, 110.31088029945849, 28.187869668697786, 39.22646530921439, 65.19199614614617, 59.41797979225202, 40.20683203977962, 29.98397731179667, 26.569169946422413, 231.35194981881014, 33.705482928907564, 21.74787437347602, 172.20337742386525, 69.31887107142217, 128.19872489163544, 130.55258717266412, 259.9185330285078, 190.4891059337196, 423.2549862991786, 197.73825249808652, 62.80946995794388, 155.82762059534437, 162.31281848332745, 245.56218179049094, 327.73193792103183, 76.84437991910033, 87.6671102300022, 213.0537780624308, 125.8074995409072, 128.44270140385714, 139.0415588227042, 150.54178502174523, 121.10604104227846, 104.15599505650565, 163.3355977974722, 124.67855266980477, 102.30466217442105, 96.2318690284084, 88.23958289546232, 169.96098230515955, 60.71190073761049, 53.38704403614483, 53.18380709489966, 53.17930283750574, 52.453976007838286, 47.01130304235556, 44.27551203406474, 43.223596245642256, 40.98157940454454, 39.668621196718874, 39.311441664766086, 33.619307573975426, 27.748841247619904, 27.748841247619904, 62.147880213103754, 20.368855364429834, 20.3294658355046, 19.358357788125424, 54.42153360005337, 18.98339224652494, 17.475705700266616, 17.475705700266616, 15.659274275483963, 15.077651940261587, 11.433652162801325, 9.147521877092258, 7.973390234740219, 7.624638511745351, 62.095460150316384, 95.38862818135298, 46.078457197149156, 203.04105654468984, 246.66668806043535, 63.28003944799133, 50.39041006827937, 44.68989866468991, 138.27433947744402, 162.19721803819775, 53.18667527673795, 196.78296655204522, 532.1624582752138, 633.823103289898, 143.4073447470944, 600.7977668868589, 92.66077516927658, 168.30216327944888, 95.83739764672619, 210.76438348742454, 162.9445712924754, 73.20041892693116, 108.58141630198611, 102.31024780412821, 197.8545152471354, 184.32578627907736, 265.42180989482904, 93.71413514785003, 66.70187127415056, 83.96694739547615, 116.30852035742336, 97.60344021672226, 72.67119393122455, 72.13825241820636, 66.73420396483813, 330.77208418445406, 169.12295314242425, 120.74030675710254, 84.50211186743115, 42.5476906168265, 32.98722201448731, 29.86537110282744, 27.39467211976439, 22.305363028616327, 17.531338350996542, 16.20489205712321, 96.54856197755286, 79.71516840616381, 12.332704313978125, 11.627693562452922, 11.30240085184543, 11.288772836088047, 9.757464957079742, 8.42284657464683, 8.252739009717112, 8.060893370832979, 160.43522429405402, 7.109596828699361, 6.978151196815342, 6.873393991181724, 6.501610896198637, 6.348482084486347, 6.288812169363995, 6.273929273882879, 15.123415192713274, 82.90148697957133, 69.76870407064068, 181.48112284152222, 19.77495021513001, 268.36092328043713, 79.83063929839764, 207.8573200854562, 98.06643287236278, 66.73265048238434, 56.70137691772834, 106.96257495582974, 148.66701274748868, 34.279445114355234, 32.88536266977302, 248.18068314466484, 40.39363632373766, 135.41781915888456, 95.12535490540182, 54.9493320723032, 164.93791279553923, 144.62857045812817, 71.10506863522636, 241.43379980342647, 91.2517970048681, 267.58759239739123, 159.35018260509207, 91.59478428809798, 128.88791253642194, 97.25010890971815, 92.8625575441798, 89.79668107507003, 76.52062010536426, 77.6421466263289, 82.83206887541226, 75.14989626452949, 34.848369780831696, 33.8132545801472, 32.8693023541219, 23.98305689907673, 21.836156642684152, 21.10714359916518, 20.436799145367512, 19.403990874108104, 18.166986453230848, 16.564284905803422, 16.20935627962389, 14.408164359726133, 14.083693781057285, 10.945330649536668, 10.814422485541423, 10.63785112604467, 81.38294367338702, 9.736019993211338, 9.732067227752072, 9.112798870558656, 9.103606170646275, 8.946126933604047, 176.82570324102207, 78.41290892630609, 8.148901361426681, 8.148901361426681, 7.7915756084894365, 12.131803341240708, 31.07104980612271, 204.5319808158429, 45.998517349863704, 50.11094269933087, 144.47026888576542, 70.00297330082005, 94.31071300758357, 23.75376254579646, 269.15074213256713, 119.38916239302215, 62.464925416025174, 130.9432496964933, 125.95357570134162, 47.49869211986596, 98.46981600725803, 95.7060084414967, 36.68421445477986, 78.86209588737157, 175.62609993997765, 92.26618354028798, 64.05363364315426, 71.16625148315264, 156.80062202360148, 94.34263225188282, 77.43556883117733, 94.9842345297799, 97.20992268679518, 71.50364044214393, 70.37327049133422, 63.10466432314468, 60.01511917147736, 73.61195698838645, 70.43168993975134, 43.20935855583091, 40.84735219048078, 38.34160599353613, 36.91433678630864, 26.540492995968847, 23.28406729739192, 22.565368139419338, 22.44852547744053, 21.944248544718395, 21.55407718025907, 18.995057995266997, 18.781421934500358, 18.450469444210725, 18.426948644167574, 125.12607992472726, 17.110833785107765, 31.810076983330152, 17.098156882806386, 17.067090972572593, 15.781960304017339, 15.416000736805358, 15.080441943296787, 15.080441943296787, 15.06750539983036, 14.018410273268518, 13.812662752440707, 13.02619931924485, 12.253678926940083, 58.85703989716018, 124.78506659789882, 270.0137364918486, 69.33436155325406, 22.111937429114345, 60.18201255421319, 96.07175771960789, 37.024043971169945, 37.329166820458724, 214.55681661007398, 81.62826934437209, 23.898767238426412, 104.44899405240135, 212.45699610007335, 113.53292605281199, 35.62803100873548, 47.05181194917634, 38.68250346454592, 78.3801273368298, 62.36104534251905, 70.31180399367864, 102.74909127760533, 56.92476758948998, 75.34825504107489, 71.93959479677054, 65.84621180422123, 82.17489364767064, 59.756188630413234, 61.40360458164563, 85.5945188176702, 55.57899881298638, 65.40436253807505, 60.58921679287035, 47.813146048418105, 185.7925830519024, 110.34007413197274, 94.4890235220776, 87.48583803520636, 34.25792653297856, 31.717040919891367, 31.190431446536707, 27.547335836964777, 25.051320282671522, 22.790077141475297, 21.100993717498273, 51.780805578805726, 15.898646947937834, 14.944059267638234, 14.604389909370406, 14.526760187860331, 14.289854164916447, 10.699577030883631, 8.358151812472677, 7.485999460908317, 7.272286751857859, 7.272286751857859, 6.74955344717098, 16.23444124533115, 53.54815238204589, 29.332309846790196, 219.47256497118187, 1.9895712419159257, 1.7013285554118502, 21.48770440937823, 198.27473682796523, 42.04370150075022, 29.32403241544247, 54.125640584915864, 39.93486191151225, 39.82145489840606, 35.21152384609068, 77.00707079098684, 142.870069146421, 40.34213103098203, 33.19400851882325, 38.594733369030656, 66.63974311901784, 85.81959287737826, 70.85447113621026, 67.65316570013084, 47.31241062642489, 38.8857550934382, 45.80372025928188, 51.20026872884409, 44.226701202962246, 54.07614438140724, 43.799310126452845, 52.39736343488389, 46.51043033204607, 120.12984270746897, 38.84966735654382, 21.974250381602012, 21.676435446417976, 18.77026662941313, 9.640867556321457, 6.148109023060772, 2.955433308533354, 2.955433308533354, 2.955433308533354, 78.31670829242425, 260.3711278982585, 1.4807882041991625, 222.65774596036957, 79.46577168156483, 268.2557848074163, 30.57061478411731, 5.605808261762396, 2.8618168777345385, 27.366333369410796, 6.186266309469832, 9.10245164950769, 7.962860563074223, 0.04312318481123521, 0.04311872295544337, 0.04311872295544337, 0.04311503159280239, 0.043113189413723496, 0.04311164842742176, 0.04311042614510516, 15.753580855634905, 100.51515857055595, 8.147858054211383, 3.281571859824326, 3.228856679533038, 9.304699953237368, 1.9920542466094944, 1.403480319879583, 22.554196120824272, 1.2659816909959392, 1.2198275021881082, 0.9911983490653952, 18.232978688023998, 1.8653236772792268, 17.324459192004305, 1.5876656767581245, 5.004421985050412, 0.8289524857376448, 0.03181649099594834, 0.03181493322753617, 0.0318147713470027, 0.031814580274897634, 0.03181438654901333, 0.03181405217282945, 0.031814001751023946, 0.031813935406543016, 0.03181375494955489, 0.03181368595129473, 0.031813699220190915, 0.03181369656641168, 13.238093663723758, 0.36596065760512175, 0.05700500381293677, 0.03187451587896745, 0.03182417634061897, 12.434460776283293, 8.342222002456188, 4.971387107090258, 3.588032923787743, 13.651735107509104, 1.5080425010393874, 9.685437968892861, 2.986242649246148, 6.320077815965629, 0.022922589864293647, 0.02292221264215189, 0.02292221264215189, 0.022922024031081015, 0.022922024031081015, 0.022922024031081015, 0.022922024031081015, 0.022922024031081015, 0.022922024031081015, 0.022922024031081015, 0.02292183542001014, 0.02292183542001014, 0.02292183542001014, 0.02292183542001014, 0.02292183542001014, 0.02292183542001014, 0.02292183542001014, 0.02292183542001014, 0.02292183542001014, 0.02292183542001014, 0.02292183542001014, 16.61906472844577, 3.89190849309946, 2.8960217828878108, 2.0745011675064142, 1.4825284912756527, 2.385619650591905, 3.4060635894760427, 1.1076960501476347, 0.8329212662032259, 0.7545648344019402, 0.620201884772317, 0.5125162108001451, 0.823448178863029, 12.01368268544489, 11.365698716601212, 0.229800619045261, 4.653915340851418, 0.9230398682301597, 5.125795363806205, 0.42345539408542143, 2.964826769723402, 0.017975626441007468, 0.01797516814695192, 0.017975180137203374, 0.017974873719666235, 0.017975002947931897, 0.017974408764359878, 0.0179742835328447, 0.017974322168099383, 0.01797433682285116, 4.312045880854718, 1.9211913610843145, 1.5506280036897362, 0.1221577795802809, 0.03508883939148507, 0.04518249152139834, 0.01814439189471289, 0.017982163792549837, 0.01797826163182687, 1.8764846303948275, 1.4419109336588718, 1.1096190171648224, 0.4385995765481589, 0.48460484752093624, 0.00739488942778238, 0.007394817974288214, 0.007394746076983525, 0.007394746076983525, 0.007394746076983525, 0.007394746076983525, 0.007394746076983525, 0.0073946746234893595, 0.0073946746234893595, 0.0073946746234893595, 0.0073946746234893595, 0.0073946746234893595, 0.0073946746234893595, 0.0073946746234893595, 0.0073946746234893595, 0.0073946746234893595, 0.0073946746234893595, 0.0073946746234893595, 0.0073946746234893595, 0.0073946746234893595, 0.0073946746234893595, 0.0073946746234893595, 0.0073946746234893595, 0.0073946746234893595, 0.0073946746234893595, 0.007394675954920928, 0.0073946746234893595, 0.0073946746234893595, 0.0073946746234893595, 0.00031057193618140767, 0.00031057193618140767, 0.00031057193618140767, 0.00031057193618140767, 0.00031057193618140767, 0.00031057193618140767, 0.00031057193618140767, 0.00031057193618140767, 0.00031057193618140767, 0.00031057193618140767, 0.00031057193618140767, 0.00031057193618140767, 0.00031057193618140767, 0.00031057193618140767, 0.00031057193618140767, 0.00031057193618140767, 0.00031057193618140767, 0.00031057193618140767, 0.00031057193618140767, 0.00031057193618140767, 0.00031057193618140767, 0.00031057193618140767, 0.00031057193618140767, 0.00031057193618140767, 0.00031057193618140767, 0.00031057193618140767, 0.00031057193618140767, 0.00031057193618140767, 0.00031057193618140767, 0.00031057193618140767, 0.0003105719718373516, 0.00031057193618140767, 0.00031057193618140767, 0.00031057193618140767, 0.00031057193618140767, 0.00031057193618140767, 0.00031057193618140767, 0.00031057193618140767, 0.00031057193618140767, 0.00031057193618140767, 0.00031057193618140767, 0.00031057193618140767, 0.00031057193618140767, 0.00031057193618140767, 0.00031057193618140767, 0.00031057193618140767, 0.00031057193618140767, 0.00031057193618140767, 0.00031057193618140767, 0.00031057193618140767, 0.00031057193618140767, 0.00031057193618140767, 0.00031057193618140767, 0.00031057193618140767, 0.00031057193618140767, 0.00031057193618140767, 0.00031057193618140767, 0.00031057193618140767, 0.00031057193618140767, 0.00031057193618140767], \"Total\": [3118.0, 4211.0, 1961.0, 6254.0, 14944.0, 1865.0, 4589.0, 4015.0, 1828.0, 8446.0, 4208.0, 2426.0, 542.0, 1351.0, 1283.0, 2664.0, 1128.0, 930.0, 1189.0, 3806.0, 3714.0, 862.0, 1013.0, 1667.0, 1790.0, 1505.0, 2692.0, 891.0, 383.0, 924.0, 128.12764600404503, 82.52810908564841, 73.10852402335375, 68.20054599863363, 63.38542193562731, 61.07929596794204, 60.05671436913511, 59.14103154431718, 59.06130277984719, 52.08387443251892, 51.31413956196104, 50.1893463706906, 49.601322653589214, 49.568186017286315, 61.19763109461098, 47.144338969239385, 44.10869374722603, 42.21098348090256, 41.439629291524, 36.308700826326934, 36.07669097501798, 36.152289613868675, 35.93165052770663, 35.709802796303734, 35.51428167131501, 124.96911364801427, 35.066461517128246, 34.87040822672766, 34.83440081716028, 34.61806092463385, 133.98053227200876, 74.45136397031884, 68.7035570908118, 1667.7540937573265, 250.29470826305905, 842.5546525015108, 40.50036419295413, 662.6568415260673, 486.4538728112866, 1105.767759982331, 54.73173919771006, 1453.4459862331134, 1157.8478398152195, 3586.139085949698, 8446.062130678765, 511.67470650533267, 200.96984213119134, 289.1819858257788, 1078.9702707257597, 4211.935305321545, 478.68419207631905, 1276.6149868822765, 1869.9423647393924, 1683.6402984983058, 556.0187306787209, 424.67184677332733, 1813.6805418952263, 1051.0621076373247, 728.5151135248672, 4589.9465376261705, 1138.3347803127913, 1806.1945708920382, 1988.748158027774, 1135.3914575852857, 2436.3334120433547, 1410.3322193559268, 819.933918201327, 2027.5935435078973, 14944.300607952957, 3118.434668826177, 873.3920121220156, 3806.0476342840516, 4208.840195366169, 2692.1883331405184, 6254.766717132083, 2426.3970594946245, 217.22298861915075, 328.76959293087, 188.76147315074445, 179.46375483990047, 134.6022072656511, 134.2634953463636, 120.45768520341625, 101.22404374068712, 98.3203269375223, 82.71336618405111, 72.09640301075999, 71.19603558820569, 69.72413565723657, 67.45121679861501, 172.43525593244448, 63.46888289004778, 60.11246418718236, 59.88823734242039, 57.4548980176302, 51.419451154997226, 50.4629008381964, 70.73818694887703, 49.21269461113709, 48.43283859800425, 48.266332286720164, 47.159446750521575, 46.55335208305863, 43.255017124809, 42.491425520205006, 41.439552780883794, 234.0093310999944, 87.33832953466776, 1195.732008287211, 61.267392191908904, 149.67986515853622, 130.41726469153707, 128.1057208382523, 272.11429689509345, 72.47123530134527, 199.11042892265283, 128.44873179267157, 968.1505808598088, 220.42471630546643, 178.39422081720159, 98.22505803496249, 640.5303663072119, 207.41651976269355, 134.74583453308563, 155.81818295520006, 392.1310311077414, 717.7097695950098, 142.93877736772575, 2175.4537921180936, 14944.300607952957, 963.9776028854801, 2328.8792817649405, 4208.840195366169, 3586.139085949698, 2692.1883331405184, 1195.5864350035552, 8446.062130678765, 993.9383203999844, 6254.766717132083, 1253.148303216754, 1870.6829533414452, 958.0790405150628, 604.716884993898, 1813.6805418952263, 2763.7793032142117, 3714.887777819817, 1869.9423647393924, 997.9974799471128, 1806.1945708920382, 1078.0932460009833, 4211.935305321545, 3806.0476342840516, 824.3382491938494, 1723.5458141714996, 307.21268935918056, 157.9818322671386, 148.63223660221308, 139.16394822547855, 130.26195821511217, 124.35812255468143, 120.54239844388219, 118.476267232829, 117.85113528638784, 92.4139166038326, 89.42805690598496, 88.94170442040767, 86.72191321009551, 86.46390686175594, 79.65254404891802, 77.34926441985999, 74.89412840788992, 70.84033619748746, 70.90101683722256, 68.4690972018424, 68.25051766673491, 68.00159727333386, 60.86744756153936, 59.91609227766691, 58.59249133962615, 56.5483655786672, 322.0195643670972, 55.50062147545918, 51.75548897967851, 50.65554857877935, 319.1784346512264, 68.38457925335699, 127.74389482077417, 94.95265213225615, 137.24997263638622, 411.39587410083226, 299.9583148211577, 2664.2077295236722, 245.37528169252064, 376.755253666928, 465.0375145530823, 347.35371265324017, 162.3136763008677, 268.99886034325607, 999.8095136641847, 503.2647294690632, 201.7112303086262, 202.82853487781435, 4589.9465376261705, 247.69525603707615, 385.3582501060083, 221.40340534246207, 997.9974799471128, 1683.6402984983058, 1355.9371878119953, 323.9098377105084, 874.6989773844219, 717.7097695950098, 2328.8792817649405, 523.2029197688005, 293.3298725892905, 14944.300607952957, 924.813181473527, 2436.3334120433547, 3806.0476342840516, 657.7421723892636, 534.2115420179707, 2763.7793032142117, 845.5871769949895, 1453.4459862331134, 8446.062130678765, 1078.9702707257597, 195.20475387987804, 132.08621407200195, 97.45295425319031, 64.05948046455846, 60.19822818623335, 60.90150387735113, 54.922603981068214, 51.330468960044776, 63.27983262377253, 43.5651610015965, 41.91658501702296, 38.30641221272878, 34.18595118367503, 35.1478126855711, 31.40720725594641, 30.35237215285888, 28.851993147359817, 26.766385798178185, 145.66466326527222, 25.728935374873956, 25.676299816909886, 22.246996462715135, 45.019686241055574, 21.822287570944802, 21.694756338548164, 1865.9791610095504, 35.454956703311936, 17.91451116940272, 285.64434769560796, 17.653540106568943, 45.95683642367848, 292.2700248472478, 70.6904563810205, 1283.86630902627, 207.2182994031432, 442.65177944154436, 1790.6109854104898, 68.9950586093267, 424.9907361244468, 677.938884560049, 1158.5483955590496, 231.67056780753038, 359.2729523254893, 754.910248250306, 6254.766717132083, 943.1012195156173, 147.44433333764383, 4208.840195366169, 3714.887777819817, 4015.1849641993927, 445.26637083811994, 14944.300607952957, 274.42040430636825, 365.8921589565674, 2426.3970594946245, 1828.0581026421921, 1870.6829533414452, 1252.2008022908255, 2175.4537921180936, 2763.7793032142117, 903.3029829565737, 3806.0476342840516, 824.3382491938494, 2027.5935435078973, 891.2830440055064, 2692.1883331405184, 961.0137834042777, 1723.5458141714996, 1470.8367395763782, 398.8744613304122, 313.2318246051179, 177.64072538266234, 163.10908267417574, 158.65076401692235, 104.37576628615228, 131.34802672690532, 81.29569860059496, 66.1492351967336, 73.10725098752046, 63.48367325032314, 60.3605558856124, 54.080985700473946, 45.772113723779306, 44.495012322586085, 42.809034794038496, 37.92383692041604, 36.2881977275401, 35.49289542412076, 34.698895538882795, 33.15087014448306, 32.80757653076519, 31.381677206528636, 30.618601477458196, 30.568286470815238, 29.505494056872106, 28.718030608702612, 27.567094199434123, 27.07217108595193, 26.15652314578166, 1013.6060905910927, 99.57513654919872, 55.05660468022523, 616.4285143237419, 619.1157687085577, 76.62693596054878, 313.45734058907567, 1961.888032319573, 1351.3003460850287, 254.4107834037767, 113.89776386585292, 394.44086088266414, 93.8788617657594, 147.87989954017849, 559.9236600421443, 229.9089904599224, 243.79578463999107, 206.64821121877122, 509.8989651921005, 666.8391533747723, 3118.434668826177, 380.33960912354985, 408.61181381879413, 147.19137982799586, 245.25626440547333, 6254.766717132083, 14944.300607952957, 800.6166392027543, 924.813181473527, 8446.062130678765, 2763.7793032142117, 3714.887777819817, 502.039610740064, 1870.6829533414452, 4211.935305321545, 3806.0476342840516, 1088.2923180396099, 4015.1849641993927, 1077.3638563063305, 2027.5935435078973, 1869.9423647393924, 258.9179010228563, 201.24748705028242, 174.39304873957184, 126.7394115721154, 88.68224750198769, 73.76913641761134, 52.57708639231973, 49.70343444641593, 40.421836069944014, 39.847025412790096, 37.232906883852834, 34.364891828004254, 31.874589049106334, 29.434208099362323, 28.56732175762523, 25.63732596756645, 21.719951730095207, 21.675594761174715, 21.615418032784657, 21.037501175947124, 20.253117434608274, 20.21352047364765, 17.68582257591172, 17.46483978294104, 34.8383873219473, 119.76067181933858, 15.479902046628586, 15.373707291684806, 15.247420785674267, 14.824968885946108, 100.84663596220567, 756.350436013276, 98.60477334598178, 59.2990079572819, 124.21040145675762, 173.79525523913384, 304.9242662007838, 318.0153658585476, 110.38911229348301, 35.77454413079528, 618.5955831685393, 38.72042712904787, 402.8422364806229, 141.46006885506077, 180.73389806637675, 477.8701726494744, 618.999953102738, 200.95232697750552, 447.8658489683766, 1505.629430079254, 378.9797948886861, 1114.634104793736, 4589.9465376261705, 857.1696976430561, 1252.2008022908255, 903.3029829565737, 1470.8367395763782, 2692.1883331405184, 1088.2923180396099, 773.7144381828767, 845.5871769949895, 2436.3334120433547, 4208.840195366169, 8446.062130678765, 1988.748158027774, 14944.300607952957, 1077.3638563063305, 1138.3347803127913, 993.9383203999844, 3586.139085949698, 283.8669747935313, 553.5505709319883, 109.09722583880566, 70.8813661532481, 70.02600484977921, 66.39989387571786, 62.8350096671553, 59.950199671743555, 411.33012864119297, 26.10411354161951, 42.03009516587008, 215.29522676301252, 20.81578155328433, 187.07141800323413, 11.282398820116992, 9.703638768119314, 238.1664069239982, 8.316176353703355, 160.01838672388098, 22.354241696659845, 862.6730342795103, 184.93849693185268, 441.6993071997643, 319.637185413314, 106.67187419671052, 58.05286279626919, 5.094501002982985, 393.5593368030289, 58.055299486514755, 88.67754299124066, 1128.945974903067, 137.8624305583501, 178.6109979620782, 1828.0581026421921, 642.8838754228015, 187.1626164729205, 440.6226047327282, 1078.0932460009833, 145.53849846362644, 4015.1849641993927, 1160.3556847665232, 14944.300607952957, 1238.6831799316062, 447.10483269093527, 951.3659601383492, 2692.1883331405184, 704.3869521671139, 6254.766717132083, 1252.2008022908255, 1723.5458141714996, 3714.887777819817, 1088.2923180396099, 2426.3970594946245, 8446.062130678765, 2664.2077295236722, 3806.0476342840516, 54.470519732852225, 52.9599186357951, 45.84778387990873, 43.97909555043646, 43.70879205197363, 41.62452315679369, 38.11076284898303, 34.45661224665929, 29.520920953203976, 25.215135056341328, 23.515079632583035, 22.691460328975744, 22.691460328975744, 21.162372737416213, 20.63531797354358, 19.277913094271184, 18.798065081172616, 18.72294817673783, 18.61218430223323, 206.63219064649283, 18.100374506911155, 17.854204723769556, 17.34658813179398, 16.7149158383573, 16.666396497491807, 15.760965086853108, 15.314386848968011, 14.926843609001882, 14.298722844363166, 13.374526616312146, 260.7183071789672, 930.694514644052, 103.25963444218092, 126.20573889709354, 48.84107836841422, 1189.6088680942069, 83.921554311171, 240.86410166183282, 105.59832739474342, 98.68894402843424, 135.40908504156627, 149.93858764539584, 45.15397116732847, 61.420420965279064, 59.43007165699019, 702.2810647717276, 386.103544900051, 117.2775667485912, 542.8007785890868, 546.284229119994, 123.79584823358931, 145.2412347037205, 286.29804389646574, 414.1768372395898, 719.2654460949981, 240.34882276081805, 556.9012442909085, 136.24538289475524, 3806.0476342840516, 160.47921287068976, 3118.434668826177, 4015.1849641993927, 1077.3638563063305, 999.8095136641847, 4211.935305321545, 1158.5483955590496, 2027.5935435078973, 14944.300607952957, 470.1379248528988, 1470.8367395763782, 4589.9465376261705, 1088.2923180396099, 8446.062130678765, 1174.4749902544827, 1355.9371878119953, 176.09463660815828, 114.10648135977877, 73.08171973879041, 59.43897209141219, 53.06346912845211, 46.26040470697168, 30.651954806363293, 24.756102622629285, 24.106809570899056, 240.31544319283807, 21.472877483193976, 15.742911995999295, 15.607755697927884, 13.993308210442946, 12.712555114333567, 12.712555114333567, 12.712555114333567, 12.627061955926912, 11.821237456302743, 29.651438507335396, 11.642543550746042, 11.418466514211259, 11.042649904977237, 10.814306609957706, 10.622103616211792, 9.95348253760931, 9.372550269893955, 8.083155655687905, 6.955436444236054, 6.6012184567077385, 218.34318559549246, 256.2597881834654, 131.12802835947863, 32.74904282780015, 47.10680080427307, 81.67513894881296, 75.75860885629221, 50.07298979137189, 36.381137719609406, 31.988297370692, 464.497180645002, 47.229511882441805, 27.29088718357925, 397.72719891021876, 122.92338722551399, 291.1492359701306, 302.7079318253686, 891.2830440055064, 735.7385592774446, 3118.434668826177, 1238.6831799316062, 167.9201639280233, 1157.8478398152195, 1351.3003460850287, 3806.0476342840516, 8446.062130678765, 312.8639362816997, 447.5587189650801, 4211.935305321545, 1160.3556847665232, 1276.6149868822765, 1667.7540937573265, 2175.4537921180936, 2027.5935435078973, 1078.0932460009833, 14944.300607952957, 4208.840195366169, 2436.3334120433547, 4589.9465376261705, 2426.3970594946245, 170.76392723191867, 61.51484562243294, 54.18998892350953, 53.98675200876106, 53.98224774490982, 53.256920950703936, 47.81424793634597, 45.078456901799754, 44.0265411304647, 41.784524272279555, 40.4715660861253, 40.114403126567225, 34.42225243129395, 28.551786151185954, 28.55178617655195, 64.40911843071287, 21.171800244668276, 21.13241069282311, 20.16130265002792, 56.70659169168807, 19.786337145099328, 18.278650575921073, 18.278650580505058, 16.462219173602104, 15.880596818520633, 12.23659706450013, 9.950466734410774, 8.776335098216249, 8.427588989676787, 69.5086108717078, 110.71377546618716, 53.23391363958375, 255.56258031210402, 380.83265219784215, 85.57769642065936, 65.60879525327282, 57.26114331473217, 230.80120770192545, 291.1492359701306, 73.35994175376764, 393.60646631235403, 1961.888032319573, 3118.434668826177, 335.841848320484, 4211.935305321545, 193.9137570699243, 559.9236600421443, 249.8259933614561, 1351.3003460850287, 1470.8367395763782, 182.58953813337703, 534.4375318614017, 465.0375145530823, 4589.9465376261705, 3806.0476342840516, 14944.300607952957, 662.8337394627555, 154.7586543901128, 651.6894954732054, 4015.1849641993927, 2436.3334120433547, 535.2458620019748, 2763.7793032142117, 384.6671112781228, 331.5748173344326, 169.92500262408447, 121.56168097352322, 85.30503734292205, 43.35008501200066, 33.78927003963474, 30.667416338362006, 28.196717323811576, 23.221694539743584, 18.333434027519218, 17.006937271690038, 101.89689236346358, 84.83869782853375, 13.134749520709622, 12.429738797274497, 12.104446050900956, 12.090818120001849, 10.559510167925808, 9.224891793910958, 9.054784228621415, 8.862941315010309, 176.9386822649639, 7.911643844221316, 7.780196437024788, 7.675439204684961, 7.303656125204145, 7.1580012095211965, 7.090857388397788, 7.075974472938407, 17.121622097517154, 96.4893352335145, 82.61036528236808, 225.40811636275257, 23.08943380179349, 354.3989680375998, 121.41873395992505, 383.18747047955713, 165.4219250170516, 105.27713225606216, 89.14921233831826, 200.5738597209535, 304.20113559280554, 49.55525034433698, 47.68069002584461, 924.813181473527, 84.31060745049908, 823.3791158127393, 432.71662754528836, 162.62096129567692, 1505.629430079254, 1253.148303216754, 293.15858294142646, 6254.766717132083, 604.716884993898, 14944.300607952957, 3714.887777819817, 755.9378116908313, 2763.7793032142117, 1174.4749902544827, 961.0137834042777, 968.1505808598088, 543.5109714005245, 1238.6831799316062, 83.63486672888452, 75.95269422510626, 35.65116808649419, 34.61605367113004, 33.67215691059128, 24.785854747185752, 22.638954545228255, 21.909941457221404, 21.23959699883975, 20.206788737715517, 18.969784396324815, 17.367082753912445, 17.012154127732913, 15.210972091804646, 14.88649173722965, 11.748128501686425, 11.617220382755749, 11.440667626668851, 87.91640894460511, 10.538817902463185, 10.534865078702712, 9.91559672902256, 9.906404018755302, 9.7489247899179, 192.9281628172076, 85.74935745369298, 8.951699209535708, 8.951699209535708, 8.59437346654645, 13.387888111800056, 35.694614149839964, 279.8347112256962, 59.657726509132424, 69.77409398016837, 250.96492968126196, 122.64338303812042, 183.42821339785468, 32.46951446133181, 704.3869521671139, 265.02285656550214, 115.10502171992472, 308.5060371418376, 304.20113559280554, 92.17213927410154, 292.53409761952383, 312.8639362816997, 65.15001158629548, 259.88710772907103, 1095.6071768723698, 358.6467438994206, 201.6063623529517, 254.90359385943972, 1723.5458141714996, 565.5845144994825, 385.01914228042256, 1174.4749902544827, 2763.7793032142117, 951.3659601383492, 1022.2551608632822, 543.5109714005245, 643.5931792124236, 74.42662354157353, 71.23812134881231, 44.01579333702011, 41.65378295351725, 39.14803667110589, 37.720767456233666, 27.346923878700185, 24.09049799368305, 23.371798839514703, 23.25495614356131, 22.75067921583084, 22.360507900206834, 19.801488717077678, 19.587852750555548, 19.256900110331504, 19.233379370188313, 130.97999577815352, 17.91726454897935, 33.310050270804005, 17.904587614661864, 17.873521659418863, 16.588391059158955, 16.22243263087532, 15.886872609417573, 15.886872659334205, 15.874031531512511, 14.824841291201276, 14.619093418561492, 13.83435541373891, 13.060109944039127, 68.35608427604289, 157.44944310320824, 366.5763654178914, 87.36084669118783, 24.792933712335106, 90.51294195570352, 164.15359599636471, 49.82440724241821, 50.526332571983765, 565.5845144994825, 157.19707395971136, 29.18666532313114, 285.7531768304276, 891.2830440055064, 368.8483782494164, 55.79562527935173, 109.44137848420459, 76.22748710380337, 351.90277611772865, 240.34523346720107, 346.6425202417814, 903.3029829565737, 230.14508867721204, 584.973642068671, 618.999953102738, 491.7830204269679, 1135.3914575852857, 380.9816550269568, 447.8658489683766, 2664.2077295236722, 308.43759981075067, 1723.5458141714996, 1022.2551608632822, 428.7639575016295, 186.62024211353224, 111.16772549332106, 95.31667498444418, 88.31348939655467, 35.085578023281535, 32.54469230136961, 32.01808282618259, 28.37498724823363, 25.878971644019835, 23.61772850282361, 21.928645204099237, 53.966185906547324, 16.72629852994361, 15.77171071351948, 15.432041276876237, 15.354411549208649, 15.117505526264765, 11.52722839223195, 9.185803173820995, 8.313650826545238, 8.099938113206177, 8.099938113206177, 7.577204808519298, 19.84133719120872, 71.82988323984533, 40.04513419378069, 301.68048485583824, 2.8172226032642422, 2.528980089994192, 32.464862124498545, 319.81067980717427, 66.10690767034441, 50.87168927966253, 124.42882146539097, 84.09570024296916, 89.9547455078652, 80.36954552356315, 486.4538728112866, 2426.3970594946245, 170.27641021748983, 113.43880305625963, 167.9201639280233, 662.6568415260673, 1283.86630902627, 1147.4657141072655, 1114.634104793736, 503.05809160680354, 220.96582567996805, 470.1379248528988, 862.6730342795103, 477.4199614239306, 2763.7793032142117, 649.8623302279393, 14944.300607952957, 4589.9465376261705, 120.9527445535929, 39.67256838548759, 22.797151424548804, 22.499336477138208, 19.593167647906803, 10.463768574815134, 6.9710100453586845, 3.7783343270270313, 3.7783343270270313, 3.7783343270270313, 114.05161117053295, 383.38091843597044, 2.3036896763531716, 392.65038975139345, 158.7663576884373, 542.8007785890868, 69.38645731275066, 24.941648464269747, 30.411877826799447, 297.2687940149981, 87.8341513975874, 157.44944310320824, 145.53849846362644, 0.8660454565848004, 0.866035209862581, 0.866035209862581, 0.8660280794056995, 0.8660245208901406, 0.8660208206750376, 0.8660214166913668, 16.587771746331384, 108.96951216657642, 8.988447040121256, 4.115926725100217, 4.06304761420804, 11.912356926561213, 2.8262450456810346, 2.2376710073781263, 36.22871311595571, 2.1001723415494027, 2.054018897800682, 1.8253889996188584, 35.27759209538097, 3.9025033610918776, 81.72588524200422, 8.332270360005186, 62.14076016087225, 12.03155887996659, 0.8660148349941333, 0.866008477009332, 0.8660065192675287, 0.8660077629869034, 0.8660084435164731, 0.8660074914048925, 0.8660093968536638, 0.8660090967531536, 0.8660058924211214, 0.8660064698589209, 0.8660075305986913, 0.8660081185416044, 385.3582501060083, 126.7394115721154, 258.9179010228563, 173.79525523913384, 393.5593368030289, 13.277552217238702, 9.1853056679616, 5.81447503765568, 4.4311298499358145, 17.776261568142203, 2.3511243602385465, 16.29422167340835, 5.621536217582123, 37.640864904173725, 0.8660048997774825, 0.8660043204854667, 0.8660043204854667, 0.866004039421147, 0.866004039421147, 0.866004039421147, 0.866004039421147, 0.866004039421147, 0.866004039421147, 0.866004039421147, 0.8660037399420686, 0.8660037399420686, 0.8660037399420686, 0.8660037399420686, 0.8660037399420686, 0.8660037399420686, 0.8660037399420686, 0.8660037399420686, 0.8660037399420686, 0.8660049555960484, 0.8660060146428081, 17.467094801618227, 4.740009971967628, 3.744051878088018, 2.9225312345213568, 2.3305585677989065, 3.876716114594056, 5.606966874589219, 1.9557261171625768, 1.680951333218168, 1.6025949014168823, 1.468231951787259, 1.36054719979553, 2.569600867670293, 44.61821050425078, 43.24947640345348, 1.0778307748634108, 36.00080480432871, 10.009424224757186, 87.96782595184912, 17.234365831686492, 137.59520703498106, 0.8660099815849231, 0.86601216604858, 0.8660246644122219, 0.8660100735553475, 0.8660188216756514, 0.8660120316605129, 0.8660077741054283, 0.8660136107203674, 0.8660198327553089, 351.1633257601828, 165.2215020871791, 156.71456958064093, 32.12304283403418, 11.454223296322949, 69.46931617403628, 405.14655573919066, 180.73389806637675, 79.23192527563134, 2.735093196066726, 2.3005812433275534, 1.9682275828367208, 1.2972081422200572, 1.8577993301395206, 0.8660045738476417, 0.8660036791714153, 0.8660035154672223, 0.8660035154672223, 0.8660035154672223, 0.8660035154672223, 0.8660040282993963, 0.8660033512126095, 0.8660033512126095, 0.8660033512126095, 0.8660033512126095, 0.8660033512126095, 0.8660033512126095, 0.8660033512126095, 0.8660033512126095, 0.8660033512126095, 0.8660033512126095, 0.8660033512126095, 0.8660033512126095, 0.8660033512126095, 0.8660033512126095, 0.8660033512126095, 0.8660033512126095, 0.8660033512126095, 0.8660033512126095, 0.8660036992794096, 0.8660035011226308, 0.8660038089182889, 0.8660036256304672, 0.8660032148256172, 0.8660032148256172, 0.8660032198731776, 0.8660032265317624, 0.8660032265317624, 0.8660032265317624, 0.8660032265317624, 0.8660032265317624, 0.8660032265317624, 0.8660032265317624, 0.8660032265317624, 0.8660032265317624, 0.8660032265317624, 0.8660032265317624, 0.8660032265317624, 0.8660032281832856, 0.8660032281832856, 0.8660032281832856, 0.8660032281832856, 0.8660032281832856, 0.8660032281832856, 0.8660032281832856, 0.8660032281832856, 0.8660032281832856, 0.8660032281832856, 0.8660032281832856, 0.866003232787793, 0.8660032428428756, 0.8660032428428756, 0.8660032429239594, 14944.300607952957, 286.29804389646574, 11.391279335111031, 8.140719376976474, 3.494900922152005, 3.494900922152005, 800.6166392027543, 1.8290462202535105, 845.5871769949895, 16.7149158383573, 9.456751831748964, 4015.1849641993927, 1252.2008022908255, 304.128202092295, 117.2775667485912, 3806.0476342840516, 313.6282436209175, 1160.3556847665232, 43.70879205197363, 22.498918434901842, 3.494900922152005, 943.1012195156173, 9.456751831748964, 126.83388036080474, 8.838226853764727, 47.32307419173083, 22.613751983390785, 521.8032032525433, 2.7860056041213452, 43.97909555043646], \"Category\": [\"Default\", \"Default\", \"Default\", \"Default\", \"Default\", \"Default\", \"Default\", \"Default\", \"Default\", \"Default\", \"Default\", \"Default\", \"Default\", \"Default\", \"Default\", \"Default\", \"Default\", \"Default\", \"Default\", \"Default\", \"Default\", \"Default\", \"Default\", \"Default\", \"Default\", \"Default\", \"Default\", \"Default\", \"Default\", \"Default\", \"Topic1\", \"Topic1\", \"Topic1\", \"Topic1\", \"Topic1\", \"Topic1\", \"Topic1\", \"Topic1\", \"Topic1\", \"Topic1\", \"Topic1\", \"Topic1\", \"Topic1\", \"Topic1\", \"Topic1\", \"Topic1\", \"Topic1\", \"Topic1\", \"Topic1\", \"Topic1\", \"Topic1\", \"Topic1\", \"Topic1\", \"Topic1\", \"Topic1\", \"Topic1\", \"Topic1\", \"Topic1\", \"Topic1\", \"Topic1\", \"Topic1\", \"Topic1\", \"Topic1\", \"Topic1\", \"Topic1\", \"Topic1\", \"Topic1\", \"Topic1\", \"Topic1\", \"Topic1\", \"Topic1\", \"Topic1\", \"Topic1\", \"Topic1\", \"Topic1\", \"Topic1\", \"Topic1\", \"Topic1\", \"Topic1\", \"Topic1\", \"Topic1\", \"Topic1\", \"Topic1\", \"Topic1\", \"Topic1\", \"Topic1\", \"Topic1\", \"Topic1\", \"Topic1\", \"Topic1\", \"Topic1\", \"Topic1\", \"Topic1\", \"Topic1\", \"Topic1\", \"Topic1\", \"Topic1\", \"Topic1\", \"Topic1\", \"Topic1\", \"Topic1\", \"Topic1\", \"Topic1\", \"Topic1\", \"Topic1\", \"Topic1\", \"Topic2\", \"Topic2\", \"Topic2\", \"Topic2\", \"Topic2\", \"Topic2\", \"Topic2\", \"Topic2\", \"Topic2\", \"Topic2\", \"Topic2\", \"Topic2\", \"Topic2\", \"Topic2\", \"Topic2\", \"Topic2\", \"Topic2\", \"Topic2\", \"Topic2\", \"Topic2\", \"Topic2\", \"Topic2\", \"Topic2\", \"Topic2\", \"Topic2\", \"Topic2\", \"Topic2\", \"Topic2\", \"Topic2\", \"Topic2\", \"Topic2\", \"Topic2\", \"Topic2\", \"Topic2\", \"Topic2\", \"Topic2\", \"Topic2\", \"Topic2\", \"Topic2\", \"Topic2\", \"Topic2\", \"Topic2\", \"Topic2\", \"Topic2\", \"Topic2\", \"Topic2\", \"Topic2\", \"Topic2\", \"Topic2\", \"Topic2\", \"Topic2\", \"Topic2\", \"Topic2\", \"Topic2\", \"Topic2\", \"Topic2\", \"Topic2\", \"Topic2\", \"Topic2\", \"Topic2\", \"Topic2\", \"Topic2\", \"Topic2\", \"Topic2\", \"Topic2\", \"Topic2\", \"Topic2\", \"Topic2\", \"Topic2\", \"Topic2\", \"Topic2\", \"Topic2\", \"Topic2\", \"Topic2\", \"Topic2\", \"Topic2\", \"Topic2\", \"Topic2\", \"Topic3\", \"Topic3\", \"Topic3\", \"Topic3\", \"Topic3\", \"Topic3\", \"Topic3\", \"Topic3\", \"Topic3\", \"Topic3\", \"Topic3\", \"Topic3\", \"Topic3\", \"Topic3\", \"Topic3\", \"Topic3\", \"Topic3\", \"Topic3\", \"Topic3\", \"Topic3\", \"Topic3\", \"Topic3\", \"Topic3\", \"Topic3\", \"Topic3\", \"Topic3\", \"Topic3\", \"Topic3\", \"Topic3\", \"Topic3\", \"Topic3\", \"Topic3\", \"Topic3\", \"Topic3\", \"Topic3\", \"Topic3\", \"Topic3\", \"Topic3\", \"Topic3\", \"Topic3\", \"Topic3\", \"Topic3\", \"Topic3\", \"Topic3\", \"Topic3\", \"Topic3\", \"Topic3\", \"Topic3\", \"Topic3\", \"Topic3\", \"Topic3\", \"Topic3\", \"Topic3\", \"Topic3\", \"Topic3\", \"Topic3\", \"Topic3\", \"Topic3\", \"Topic3\", \"Topic3\", \"Topic3\", \"Topic3\", \"Topic3\", \"Topic3\", \"Topic3\", \"Topic3\", \"Topic3\", \"Topic3\", \"Topic3\", \"Topic3\", \"Topic3\", \"Topic3\", \"Topic4\", \"Topic4\", \"Topic4\", \"Topic4\", \"Topic4\", \"Topic4\", \"Topic4\", \"Topic4\", \"Topic4\", \"Topic4\", \"Topic4\", \"Topic4\", \"Topic4\", \"Topic4\", \"Topic4\", \"Topic4\", \"Topic4\", \"Topic4\", \"Topic4\", \"Topic4\", \"Topic4\", \"Topic4\", \"Topic4\", \"Topic4\", \"Topic4\", \"Topic4\", \"Topic4\", \"Topic4\", \"Topic4\", \"Topic4\", \"Topic4\", \"Topic4\", \"Topic4\", \"Topic4\", \"Topic4\", \"Topic4\", \"Topic4\", \"Topic4\", \"Topic4\", \"Topic4\", \"Topic4\", \"Topic4\", \"Topic4\", \"Topic4\", \"Topic4\", \"Topic4\", \"Topic4\", \"Topic4\", \"Topic4\", \"Topic4\", \"Topic4\", \"Topic4\", \"Topic4\", \"Topic4\", \"Topic4\", \"Topic4\", \"Topic4\", \"Topic4\", \"Topic4\", \"Topic4\", \"Topic4\", \"Topic4\", \"Topic4\", \"Topic4\", \"Topic4\", \"Topic4\", \"Topic4\", \"Topic4\", \"Topic4\", \"Topic5\", \"Topic5\", \"Topic5\", \"Topic5\", \"Topic5\", \"Topic5\", \"Topic5\", \"Topic5\", \"Topic5\", \"Topic5\", \"Topic5\", \"Topic5\", \"Topic5\", \"Topic5\", \"Topic5\", \"Topic5\", \"Topic5\", \"Topic5\", \"Topic5\", \"Topic5\", \"Topic5\", \"Topic5\", \"Topic5\", \"Topic5\", \"Topic5\", \"Topic5\", \"Topic5\", \"Topic5\", \"Topic5\", \"Topic5\", \"Topic5\", \"Topic5\", \"Topic5\", \"Topic5\", \"Topic5\", \"Topic5\", \"Topic5\", \"Topic5\", \"Topic5\", \"Topic5\", \"Topic5\", \"Topic5\", \"Topic5\", \"Topic5\", \"Topic5\", \"Topic5\", \"Topic5\", \"Topic5\", \"Topic5\", \"Topic5\", \"Topic5\", \"Topic5\", \"Topic5\", \"Topic5\", \"Topic5\", \"Topic5\", \"Topic5\", \"Topic5\", \"Topic5\", \"Topic5\", \"Topic5\", \"Topic5\", \"Topic5\", \"Topic5\", \"Topic5\", \"Topic5\", \"Topic5\", \"Topic5\", \"Topic5\", \"Topic5\", \"Topic5\", \"Topic6\", \"Topic6\", \"Topic6\", \"Topic6\", \"Topic6\", \"Topic6\", \"Topic6\", \"Topic6\", \"Topic6\", \"Topic6\", \"Topic6\", \"Topic6\", \"Topic6\", \"Topic6\", \"Topic6\", \"Topic6\", \"Topic6\", \"Topic6\", \"Topic6\", \"Topic6\", \"Topic6\", \"Topic6\", \"Topic6\", \"Topic6\", \"Topic6\", \"Topic6\", \"Topic6\", \"Topic6\", \"Topic6\", \"Topic6\", \"Topic6\", \"Topic6\", \"Topic6\", \"Topic6\", \"Topic6\", \"Topic6\", \"Topic6\", \"Topic6\", \"Topic6\", \"Topic6\", \"Topic6\", \"Topic6\", \"Topic6\", \"Topic6\", \"Topic6\", \"Topic6\", \"Topic6\", \"Topic6\", \"Topic6\", \"Topic6\", \"Topic6\", \"Topic6\", \"Topic6\", \"Topic6\", \"Topic6\", \"Topic6\", \"Topic6\", \"Topic6\", \"Topic6\", \"Topic6\", \"Topic6\", \"Topic6\", \"Topic6\", \"Topic6\", \"Topic6\", \"Topic6\", \"Topic6\", \"Topic6\", \"Topic6\", \"Topic6\", \"Topic7\", \"Topic7\", \"Topic7\", \"Topic7\", \"Topic7\", \"Topic7\", \"Topic7\", \"Topic7\", \"Topic7\", \"Topic7\", \"Topic7\", \"Topic7\", \"Topic7\", \"Topic7\", \"Topic7\", \"Topic7\", \"Topic7\", \"Topic7\", \"Topic7\", \"Topic7\", \"Topic7\", \"Topic7\", \"Topic7\", \"Topic7\", \"Topic7\", \"Topic7\", \"Topic7\", \"Topic7\", \"Topic7\", \"Topic7\", \"Topic7\", \"Topic7\", \"Topic7\", \"Topic7\", \"Topic7\", \"Topic7\", \"Topic7\", \"Topic7\", \"Topic7\", \"Topic7\", \"Topic7\", \"Topic7\", \"Topic7\", \"Topic7\", \"Topic7\", \"Topic7\", \"Topic7\", \"Topic7\", \"Topic7\", \"Topic7\", \"Topic7\", \"Topic7\", \"Topic7\", \"Topic7\", \"Topic7\", \"Topic7\", \"Topic8\", \"Topic8\", \"Topic8\", \"Topic8\", \"Topic8\", \"Topic8\", \"Topic8\", \"Topic8\", \"Topic8\", \"Topic8\", \"Topic8\", \"Topic8\", \"Topic8\", \"Topic8\", \"Topic8\", \"Topic8\", \"Topic8\", \"Topic8\", \"Topic8\", \"Topic8\", \"Topic8\", \"Topic8\", \"Topic8\", \"Topic8\", \"Topic8\", \"Topic8\", \"Topic8\", \"Topic8\", \"Topic8\", \"Topic8\", \"Topic8\", \"Topic8\", \"Topic8\", \"Topic8\", \"Topic8\", \"Topic8\", \"Topic8\", \"Topic8\", \"Topic8\", \"Topic8\", \"Topic8\", \"Topic8\", \"Topic8\", \"Topic8\", \"Topic8\", \"Topic8\", \"Topic8\", \"Topic8\", \"Topic8\", \"Topic8\", \"Topic8\", \"Topic8\", \"Topic8\", \"Topic8\", \"Topic8\", \"Topic8\", \"Topic8\", \"Topic8\", \"Topic8\", \"Topic8\", \"Topic8\", \"Topic8\", \"Topic8\", \"Topic8\", \"Topic8\", \"Topic8\", \"Topic8\", \"Topic8\", \"Topic8\", \"Topic8\", \"Topic8\", \"Topic8\", \"Topic8\", \"Topic8\", \"Topic8\", \"Topic9\", \"Topic9\", \"Topic9\", \"Topic9\", \"Topic9\", \"Topic9\", \"Topic9\", \"Topic9\", \"Topic9\", \"Topic9\", \"Topic9\", \"Topic9\", \"Topic9\", \"Topic9\", \"Topic9\", \"Topic9\", \"Topic9\", \"Topic9\", \"Topic9\", \"Topic9\", \"Topic9\", \"Topic9\", \"Topic9\", \"Topic9\", \"Topic9\", \"Topic9\", \"Topic9\", \"Topic9\", \"Topic9\", \"Topic9\", \"Topic9\", \"Topic9\", \"Topic9\", \"Topic9\", \"Topic9\", \"Topic9\", \"Topic9\", \"Topic9\", \"Topic9\", \"Topic9\", \"Topic9\", \"Topic9\", \"Topic9\", \"Topic9\", \"Topic9\", \"Topic9\", \"Topic9\", \"Topic9\", \"Topic9\", \"Topic9\", \"Topic9\", \"Topic9\", \"Topic9\", \"Topic9\", \"Topic9\", \"Topic9\", \"Topic9\", \"Topic9\", \"Topic9\", \"Topic9\", \"Topic9\", \"Topic9\", \"Topic9\", \"Topic9\", \"Topic9\", \"Topic9\", \"Topic9\", \"Topic9\", \"Topic9\", \"Topic9\", \"Topic10\", \"Topic10\", \"Topic10\", \"Topic10\", \"Topic10\", \"Topic10\", \"Topic10\", \"Topic10\", \"Topic10\", \"Topic10\", \"Topic10\", \"Topic10\", \"Topic10\", \"Topic10\", \"Topic10\", \"Topic10\", \"Topic10\", \"Topic10\", \"Topic10\", \"Topic10\", \"Topic10\", \"Topic10\", \"Topic10\", \"Topic10\", \"Topic10\", \"Topic10\", \"Topic10\", \"Topic10\", \"Topic10\", \"Topic10\", \"Topic10\", \"Topic10\", \"Topic10\", \"Topic10\", \"Topic10\", \"Topic10\", \"Topic10\", \"Topic10\", \"Topic10\", \"Topic10\", \"Topic10\", \"Topic10\", \"Topic10\", \"Topic10\", \"Topic10\", \"Topic10\", \"Topic10\", \"Topic10\", \"Topic10\", \"Topic10\", \"Topic10\", \"Topic10\", \"Topic10\", \"Topic10\", \"Topic10\", \"Topic10\", \"Topic10\", \"Topic10\", \"Topic10\", \"Topic10\", \"Topic10\", \"Topic10\", \"Topic10\", \"Topic10\", \"Topic11\", \"Topic11\", \"Topic11\", \"Topic11\", \"Topic11\", \"Topic11\", \"Topic11\", \"Topic11\", \"Topic11\", \"Topic11\", \"Topic11\", \"Topic11\", \"Topic11\", \"Topic11\", \"Topic11\", \"Topic11\", \"Topic11\", \"Topic11\", \"Topic11\", \"Topic11\", \"Topic11\", \"Topic11\", \"Topic11\", \"Topic11\", \"Topic11\", \"Topic11\", \"Topic11\", \"Topic11\", \"Topic11\", \"Topic11\", \"Topic11\", \"Topic11\", \"Topic11\", \"Topic11\", \"Topic11\", \"Topic11\", \"Topic11\", \"Topic11\", \"Topic11\", \"Topic11\", \"Topic11\", \"Topic11\", \"Topic11\", \"Topic11\", \"Topic11\", \"Topic11\", \"Topic11\", \"Topic11\", \"Topic11\", \"Topic11\", \"Topic11\", \"Topic11\", \"Topic11\", \"Topic11\", \"Topic11\", \"Topic11\", \"Topic11\", \"Topic11\", \"Topic11\", \"Topic11\", \"Topic11\", \"Topic11\", \"Topic11\", \"Topic12\", \"Topic12\", \"Topic12\", \"Topic12\", \"Topic12\", \"Topic12\", \"Topic12\", \"Topic12\", \"Topic12\", \"Topic12\", \"Topic12\", \"Topic12\", \"Topic12\", \"Topic12\", \"Topic12\", \"Topic12\", \"Topic12\", \"Topic12\", \"Topic12\", \"Topic12\", \"Topic12\", \"Topic12\", \"Topic12\", \"Topic12\", \"Topic12\", \"Topic12\", \"Topic12\", \"Topic12\", \"Topic12\", \"Topic12\", \"Topic12\", \"Topic12\", \"Topic12\", \"Topic12\", \"Topic12\", \"Topic12\", \"Topic12\", \"Topic12\", \"Topic12\", \"Topic12\", \"Topic12\", \"Topic12\", \"Topic12\", \"Topic12\", \"Topic12\", \"Topic12\", \"Topic12\", \"Topic12\", \"Topic12\", \"Topic12\", \"Topic12\", \"Topic12\", \"Topic12\", \"Topic12\", \"Topic12\", \"Topic12\", \"Topic12\", \"Topic12\", \"Topic12\", \"Topic12\", \"Topic12\", \"Topic13\", \"Topic13\", \"Topic13\", \"Topic13\", \"Topic13\", \"Topic13\", \"Topic13\", \"Topic13\", \"Topic13\", \"Topic13\", \"Topic13\", \"Topic13\", \"Topic13\", \"Topic13\", \"Topic13\", \"Topic13\", \"Topic13\", \"Topic13\", \"Topic13\", \"Topic13\", \"Topic13\", \"Topic13\", \"Topic13\", \"Topic13\", \"Topic13\", \"Topic13\", \"Topic13\", \"Topic13\", \"Topic13\", \"Topic13\", \"Topic13\", \"Topic13\", \"Topic13\", \"Topic13\", \"Topic13\", \"Topic13\", \"Topic13\", \"Topic13\", \"Topic13\", \"Topic13\", \"Topic13\", \"Topic13\", \"Topic13\", \"Topic13\", \"Topic13\", \"Topic13\", \"Topic13\", \"Topic13\", \"Topic13\", \"Topic13\", \"Topic13\", \"Topic13\", \"Topic13\", \"Topic13\", \"Topic13\", \"Topic13\", \"Topic13\", \"Topic13\", \"Topic13\", \"Topic13\", \"Topic13\", \"Topic13\", \"Topic13\", \"Topic13\", \"Topic14\", \"Topic14\", \"Topic14\", \"Topic14\", \"Topic14\", \"Topic14\", \"Topic14\", \"Topic14\", \"Topic14\", \"Topic14\", \"Topic14\", \"Topic14\", \"Topic14\", \"Topic14\", \"Topic14\", \"Topic14\", \"Topic14\", \"Topic14\", \"Topic14\", \"Topic14\", \"Topic14\", \"Topic14\", \"Topic14\", \"Topic14\", \"Topic14\", \"Topic14\", \"Topic14\", \"Topic14\", \"Topic14\", \"Topic14\", \"Topic14\", \"Topic14\", \"Topic14\", \"Topic14\", \"Topic14\", \"Topic14\", \"Topic14\", \"Topic14\", \"Topic14\", \"Topic14\", \"Topic14\", \"Topic14\", \"Topic14\", \"Topic14\", \"Topic14\", \"Topic14\", \"Topic14\", \"Topic14\", \"Topic14\", \"Topic14\", \"Topic14\", \"Topic14\", \"Topic14\", \"Topic14\", \"Topic14\", \"Topic15\", \"Topic15\", \"Topic15\", \"Topic15\", \"Topic15\", \"Topic15\", \"Topic15\", \"Topic15\", \"Topic15\", \"Topic15\", \"Topic15\", \"Topic15\", \"Topic15\", \"Topic15\", \"Topic15\", \"Topic15\", \"Topic15\", \"Topic15\", \"Topic15\", \"Topic15\", \"Topic15\", \"Topic15\", \"Topic15\", \"Topic15\", \"Topic15\", \"Topic15\", \"Topic15\", \"Topic15\", \"Topic15\", \"Topic15\", \"Topic16\", \"Topic16\", \"Topic16\", \"Topic16\", \"Topic16\", \"Topic16\", \"Topic16\", \"Topic16\", \"Topic16\", \"Topic16\", \"Topic16\", \"Topic16\", \"Topic16\", \"Topic16\", \"Topic16\", \"Topic16\", \"Topic16\", \"Topic16\", \"Topic16\", \"Topic16\", \"Topic16\", \"Topic16\", \"Topic16\", \"Topic16\", \"Topic16\", \"Topic16\", \"Topic16\", \"Topic16\", \"Topic16\", \"Topic16\", \"Topic16\", \"Topic16\", \"Topic16\", \"Topic16\", \"Topic16\", \"Topic17\", \"Topic17\", \"Topic17\", \"Topic17\", \"Topic17\", \"Topic17\", \"Topic17\", \"Topic17\", \"Topic17\", \"Topic17\", \"Topic17\", \"Topic17\", \"Topic17\", \"Topic17\", \"Topic17\", \"Topic17\", \"Topic17\", \"Topic17\", \"Topic17\", \"Topic17\", \"Topic17\", \"Topic17\", \"Topic17\", \"Topic17\", \"Topic17\", \"Topic17\", \"Topic17\", \"Topic17\", \"Topic17\", \"Topic17\", \"Topic18\", \"Topic18\", \"Topic18\", \"Topic18\", \"Topic18\", \"Topic18\", \"Topic18\", \"Topic18\", \"Topic18\", \"Topic18\", \"Topic18\", \"Topic18\", \"Topic18\", \"Topic18\", \"Topic18\", \"Topic18\", \"Topic18\", \"Topic18\", \"Topic18\", \"Topic18\", \"Topic18\", \"Topic18\", \"Topic18\", \"Topic18\", \"Topic18\", \"Topic18\", \"Topic18\", \"Topic18\", \"Topic18\", \"Topic18\", \"Topic18\", \"Topic18\", \"Topic18\", \"Topic18\", \"Topic18\", \"Topic18\", \"Topic18\", \"Topic18\", \"Topic18\", \"Topic19\", \"Topic19\", \"Topic19\", \"Topic19\", \"Topic19\", \"Topic19\", \"Topic19\", \"Topic19\", \"Topic19\", \"Topic19\", \"Topic19\", \"Topic19\", \"Topic19\", \"Topic19\", \"Topic19\", \"Topic19\", \"Topic19\", \"Topic19\", \"Topic19\", \"Topic19\", \"Topic19\", \"Topic19\", \"Topic19\", \"Topic19\", \"Topic19\", \"Topic19\", \"Topic19\", \"Topic19\", \"Topic19\", \"Topic19\", \"Topic19\", \"Topic19\", \"Topic19\", \"Topic19\", \"Topic20\", \"Topic20\", \"Topic20\", \"Topic20\", \"Topic20\", \"Topic20\", \"Topic20\", \"Topic20\", \"Topic20\", \"Topic20\", \"Topic20\", \"Topic20\", \"Topic20\", \"Topic20\", \"Topic20\", \"Topic20\", \"Topic20\", \"Topic20\", \"Topic20\", \"Topic20\", \"Topic20\", \"Topic20\", \"Topic20\", \"Topic20\", \"Topic20\", \"Topic20\", \"Topic20\", \"Topic20\", \"Topic20\", \"Topic20\", \"Topic20\", \"Topic20\", \"Topic20\", \"Topic20\", \"Topic20\", \"Topic20\", \"Topic20\", \"Topic20\", \"Topic20\", \"Topic20\", \"Topic20\", \"Topic20\", \"Topic20\", \"Topic20\", \"Topic20\", \"Topic20\", \"Topic20\", \"Topic20\", \"Topic20\", \"Topic20\", \"Topic20\", \"Topic20\", \"Topic20\", \"Topic20\", \"Topic20\", \"Topic20\", \"Topic20\", \"Topic20\", \"Topic20\", \"Topic20\"], \"logprob\": [30.0, 29.0, 28.0, 27.0, 26.0, 25.0, 24.0, 23.0, 22.0, 21.0, 20.0, 19.0, 18.0, 17.0, 16.0, 15.0, 14.0, 13.0, 12.0, 11.0, 10.0, 9.0, 8.0, 7.0, 6.0, 5.0, 4.0, 3.0, 2.0, 1.0, -6.5363, -6.9797, -7.1022, -7.1725, -7.2466, -7.2842, -7.3013, -7.3169, -7.3182, -7.4458, -7.4609, -7.4835, -7.4954, -7.4961, -7.2861, -7.5477, -7.6149, -7.6597, -7.6785, -7.8135, -7.8201, -7.818, -7.8242, -7.8305, -7.8361, -6.5781, -7.8491, -7.8549, -7.8559, -7.8623, -6.547, -7.1217, -7.2004, -4.1622, -5.968, -4.8211, -7.7114, -5.1137, -5.4184, -4.6815, -7.4367, -4.4542, -4.6893, -3.7046, -2.9522, -5.4395, -6.2776, -5.9612, -4.8347, -3.7454, -5.582, -4.7594, -4.4577, -4.5753, -5.4874, -5.7135, -4.5582, -5.0078, -5.2996, -3.8586, -4.9739, -4.6186, -4.5513, -4.9848, -4.4879, -4.8723, -5.2569, -4.6531, -3.3225, -4.5317, -5.2613, -4.5488, -4.5622, -5.0101, -4.8412, -5.1108, -5.7343, -5.3205, -5.8754, -5.926, -6.2152, -6.2178, -6.327, -6.5023, -6.5316, -6.7065, -6.845, -6.8577, -6.8788, -6.9124, -5.9743, -6.974, -7.0291, -7.0329, -7.0749, -7.1879, -7.2067, -6.8692, -7.2323, -7.2485, -7.252, -7.2756, -7.2888, -7.3637, -7.3818, -7.4074, -5.6795, -6.6637, -4.0856, -7.0201, -6.1591, -6.2939, -6.3218, -5.6076, -6.8677, -5.9574, -6.3576, -4.5892, -5.8993, -6.1102, -6.6181, -5.126, -6.0315, -6.3727, -6.2639, -5.6005, -5.1851, -6.3478, -4.4536, -3.1829, -5.0488, -4.4635, -4.155, -4.2705, -4.4791, -4.9954, -3.947, -5.1554, -4.1554, -5.119, -4.9271, -5.2656, -5.4933, -4.9776, -4.7943, -4.7808, -5.071, -5.3322, -5.1774, -5.3823, -5.183, -5.2385, -5.4834, -5.4321, -5.1748, -5.8423, -5.9036, -5.9698, -6.0364, -6.083, -6.1144, -6.1318, -6.1371, -6.3821, -6.4153, -6.4208, -6.4463, -6.4493, -6.5321, -6.5618, -6.5944, -6.6506, -6.6498, -6.6851, -6.6883, -6.692, -6.8042, -6.8202, -6.8428, -6.8788, -5.1395, -6.8978, -6.9687, -6.9905, -5.1624, -6.6915, -6.0745, -6.3957, -6.0534, -5.0586, -5.3516, -3.377, -5.5388, -5.1893, -5.0081, -5.2718, -5.9616, -5.5538, -4.5109, -5.0797, -5.8443, -5.8561, -3.7433, -5.7298, -5.4358, -5.8182, -4.9164, -4.6167, -4.7523, -5.5947, -5.1069, -5.2252, -4.6729, -5.3967, -5.6906, -3.9781, -5.1872, -4.803, -4.7061, -5.3924, -5.4925, -5.0619, -5.4177, -5.3333, -5.1875, -5.4151, -5.4918, -5.8844, -6.1907, -6.6146, -6.6776, -6.6661, -6.7707, -6.8394, -6.6315, -7.0063, -7.0456, -7.1375, -7.2539, -7.2272, -7.3409, -7.376, -7.4281, -7.5054, -5.8113, -7.5462, -7.5494, -7.6967, -6.9921, -7.7168, -7.7229, -3.2686, -7.2328, -7.9226, -5.1541, -7.938, -6.9897, -5.1677, -6.5686, -3.8555, -5.6105, -4.9127, -3.6415, -6.6437, -5.0064, -4.613, -4.1662, -5.5858, -5.2247, -4.6441, -2.9035, -4.4868, -6.0202, -3.3622, -3.4813, -3.4569, -5.1871, -2.5523, -5.6014, -5.398, -4.1229, -4.3477, -4.3608, -4.6629, -4.3743, -4.2649, -5.0188, -4.4215, -5.0744, -4.8016, -5.0971, -4.7409, -5.0829, -5.0063, -5.1421, -4.618, -4.8603, -5.4294, -5.5152, -5.543, -5.9644, -5.736, -6.2165, -6.425, -6.325, -6.4672, -6.5178, -6.6292, -6.7988, -6.8276, -6.867, -6.9906, -7.0357, -7.0584, -7.0815, -7.1283, -7.1389, -7.1845, -7.2098, -7.2115, -7.2479, -7.2757, -7.3178, -7.3365, -7.3719, -3.7358, -6.0354, -6.6288, -4.2502, -4.2533, -6.3202, -4.9802, -3.3399, -3.7623, -5.3207, -6.0444, -4.9753, -6.2337, -5.8561, -4.7519, -5.5006, -5.4844, -5.6463, -4.9963, -4.8596, -3.9025, -5.2976, -5.2647, -5.9233, -5.6276, -3.8149, -3.4158, -4.9925, -4.9958, -3.9902, -4.5654, -4.4685, -5.3182, -4.9871, -4.8079, -4.8646, -5.2076, -5.0021, -5.2491, -5.2124, -5.2654, -4.7008, -4.9536, -5.0974, -5.421, -5.7782, -5.9642, -6.3073, -6.3644, -6.5749, -6.5895, -6.6588, -6.7408, -6.8179, -6.8997, -6.9308, -7.042, -7.2136, -7.2158, -7.2186, -7.2468, -7.2864, -7.2884, -7.4279, -7.4427, -6.7526, -5.5202, -7.568, -7.5752, -7.5839, -7.6136, -5.7343, -3.7709, -5.7586, -6.2726, -5.5859, -5.2702, -4.7443, -4.7217, -5.7161, -6.7687, -4.2746, -6.7095, -4.7148, -5.6225, -5.4344, -4.6767, -4.4932, -5.4013, -4.8459, -4.096, -5.1038, -4.4727, -3.583, -4.6423, -4.4161, -4.6284, -4.4064, -4.1026, -4.5998, -4.8132, -4.8367, -4.4991, -4.3524, -4.1169, -4.6449, -4.0895, -4.9367, -4.9738, -5.0012, -5.0392, -4.4809, -3.8137, -5.442, -5.8774, -5.8897, -5.9435, -5.9994, -6.0471, -4.123, -6.8971, -6.4225, -4.7896, -7.132, -4.9477, -7.781, -7.9446, -4.7499, -8.1149, -5.1581, -7.1349, -3.4826, -5.0314, -4.1644, -4.4948, -5.5955, -6.2349, -8.6788, -4.3653, -6.28, -5.8621, -3.3539, -5.4368, -5.2588, -3.158, -4.1292, -5.2777, -4.5626, -3.8831, -5.5224, -3.2478, -4.149, -2.8002, -4.2771, -4.9033, -4.5669, -4.0671, -4.7356, -3.7802, -4.4977, -4.5328, -4.3035, -4.7543, -4.5419, -4.2829, -4.5682, -4.5986, -5.929, -5.9576, -6.1042, -6.1466, -6.1529, -6.2027, -6.2927, -6.3958, -6.5545, -6.717, -6.7894, -6.8261, -6.8261, -6.8986, -6.9248, -6.9957, -7.0221, -7.0263, -7.0325, -4.6257, -7.0616, -7.0766, -7.1062, -7.1452, -7.1482, -7.207, -7.2374, -7.2644, -7.31, -7.381, -4.4453, -3.2023, -5.3593, -5.1856, -6.1388, -3.2588, -5.6831, -4.7373, -5.4804, -5.5489, -5.2796, -5.1919, -6.2547, -5.996, -6.0738, -4.1194, -4.6362, -5.5551, -4.3983, -4.426, -5.5513, -5.4963, -5.0697, -4.8703, -4.542, -5.2665, -4.8187, -5.5807, -3.9953, -5.5321, -4.2039, -4.1737, -4.7303, -4.8832, -4.4079, -4.8682, -4.7985, -4.4302, -5.2558, -5.0344, -4.8821, -5.1169, -4.81, -5.1546, -5.2053, -4.2204, -4.6568, -5.1064, -5.3156, -5.4308, -5.5703, -5.9911, -6.2112, -6.2387, -3.9412, -6.3587, -6.6836, -6.6927, -6.8083, -6.9105, -6.9105, -6.9105, -6.9177, -6.9884, -6.0698, -7.0048, -7.0257, -7.0618, -7.0844, -7.1038, -7.1744, -7.2401, -7.4034, -7.5721, -7.6315, -4.1439, -4.0122, -4.6835, -6.0479, -5.7174, -5.2094, -5.3022, -5.6927, -5.9861, -6.107, -3.9428, -5.8691, -6.3072, -4.2381, -5.148, -4.5332, -4.515, -3.8264, -4.1372, -3.3388, -4.0998, -5.2466, -4.338, -4.2972, -3.8832, -3.5946, -5.045, -4.9132, -4.0252, -4.552, -4.5313, -4.452, -4.3725, -4.5901, -4.7409, -4.2909, -4.561, -4.7588, -4.82, -4.9067, -4.1558, -5.1852, -5.3138, -5.3176, -5.3177, -5.3314, -5.441, -5.5009, -5.525, -5.5782, -5.6108, -5.6198, -5.7763, -5.9682, -5.9682, -5.1618, -6.2774, -6.2793, -6.3282, -5.2946, -6.3478, -6.4306, -6.4306, -6.5403, -6.5782, -6.8548, -7.0779, -7.2153, -7.26, -5.1627, -4.7334, -5.461, -3.978, -3.7833, -5.1438, -5.3716, -5.4916, -4.3621, -4.2026, -5.3176, -4.0093, -3.0144, -2.8396, -4.3257, -2.8931, -4.7624, -4.1656, -4.7287, -3.9406, -4.198, -4.9982, -4.6039, -4.6634, -4.0038, -4.0747, -3.71, -4.7511, -5.0911, -4.8609, -4.5351, -4.7105, -5.0054, -5.0128, -5.0906, -3.3503, -4.0211, -4.3581, -4.715, -5.4011, -5.6556, -5.755, -5.8414, -6.0469, -6.2877, -6.3664, -4.5817, -4.7733, -6.6395, -6.6983, -6.7267, -6.7279, -6.8737, -7.0208, -7.0412, -7.0647, -4.0738, -7.1903, -7.2089, -7.2241, -7.2797, -7.3035, -7.313, -7.3153, -6.4355, -4.7341, -4.9065, -3.9506, -6.1673, -3.5594, -4.7718, -3.8149, -4.5661, -4.951, -5.1139, -4.4793, -4.15, -5.6172, -5.6587, -3.6376, -5.4531, -4.2434, -4.5965, -5.1453, -4.0462, -4.1776, -4.8876, -3.6651, -4.6381, -3.5623, -4.0806, -4.6344, -4.2928, -4.5744, -4.6206, -4.6542, -4.8142, -4.7996, -4.7009, -4.7982, -5.5667, -5.5968, -5.6252, -5.9403, -6.0341, -6.0681, -6.1004, -6.1522, -6.2181, -6.3104, -6.3321, -6.4499, -6.4727, -6.7248, -6.7368, -6.7533, -4.7185, -6.8419, -6.8423, -6.908, -6.909, -6.9265, -3.9425, -4.7557, -7.0198, -7.0198, -7.0647, -6.6219, -5.6814, -3.797, -5.2891, -5.2035, -4.1446, -4.8692, -4.5711, -5.95, -3.5224, -4.3353, -4.9831, -4.2429, -4.2818, -5.257, -4.5279, -4.5564, -5.5153, -4.75, -3.9493, -4.593, -4.958, -4.8527, -4.0627, -4.5708, -4.7682, -4.564, -4.5408, -4.8479, -4.8639, -4.9729, -5.0231, -4.7934, -4.8376, -5.3261, -5.3824, -5.4457, -5.4836, -5.8135, -5.9444, -5.9758, -5.981, -6.0037, -6.0216, -6.148, -6.1593, -6.1771, -6.1784, -4.2629, -6.2525, -5.6324, -6.2532, -6.255, -6.3333, -6.3568, -6.3788, -6.3788, -6.3797, -6.4518, -6.4666, -6.5252, -6.5864, -5.0171, -4.2656, -3.4937, -4.8533, -5.9961, -4.9948, -4.5271, -5.4806, -5.4724, -3.7236, -4.69, -5.9184, -4.4435, -3.7335, -4.3601, -5.5191, -5.2409, -5.4368, -4.7306, -4.9593, -4.8393, -4.4599, -5.0505, -4.7701, -4.8164, -4.9049, -4.6833, -5.0019, -4.9747, -4.6426, -5.0744, -4.9116, -4.9881, -5.2249, -3.2429, -3.764, -3.9191, -3.9961, -4.9337, -5.0107, -5.0275, -5.1517, -5.2466, -5.3412, -5.4182, -4.5205, -5.7013, -5.7633, -5.7862, -5.7916, -5.808, -6.0974, -6.3443, -6.4545, -6.4835, -6.4835, -6.5581, -5.6804, -4.487, -5.0889, -3.0763, -7.7797, -7.9362, -5.4001, -3.1779, -4.7289, -5.0892, -4.4763, -4.7803, -4.7832, -4.9062, -4.1237, -3.5056, -4.7702, -4.9652, -4.8145, -4.2683, -4.0153, -4.2069, -4.2532, -4.6108, -4.8069, -4.6432, -4.5318, -4.6782, -4.4772, -4.688, -4.5087, -4.6279, -2.7743, -3.9032, -4.473, -4.4867, -4.6306, -5.2969, -5.7467, -6.4792, -6.4792, -6.4792, -3.2021, -2.0008, -7.1703, -2.1572, -3.1876, -1.9709, -4.1428, -5.8391, -6.5114, -4.2536, -5.7405, -5.3543, -5.4881, -10.7066, -10.7067, -10.7067, -10.7068, -10.7068, -10.7068, -10.7069, -3.8352, -1.982, -4.4946, -5.404, -5.4202, -4.3618, -5.9031, -6.2534, -3.4764, -6.3565, -6.3936, -6.6012, -3.6891, -5.9689, -3.7402, -6.13, -4.982, -6.7799, -10.0401, -10.0401, -10.0401, -10.0401, -10.0401, -10.0402, -10.0402, -10.0402, -10.0402, -10.0402, -10.0402, -10.0402, -4.0092, -7.5975, -9.4569, -10.0383, -10.0398, -3.5315, -3.9307, -4.4483, -4.7744, -3.4381, -5.6412, -3.7814, -4.958, -4.2083, -9.8276, -9.8276, -9.8276, -9.8277, -9.8277, -9.8277, -9.8277, -9.8277, -9.8277, -9.8277, -9.8277, -9.8277, -9.8277, -9.8277, -9.8277, -9.8277, -9.8277, -9.8277, -9.8277, -9.8277, -9.8277, -3.0926, -4.5443, -4.8399, -5.1735, -5.5094, -5.0337, -4.6776, -5.8009, -6.086, -6.1848, -6.3809, -6.5716, -6.0975, -3.4172, -3.4726, -7.3737, -4.3655, -5.9833, -4.2689, -6.7625, -4.8164, -9.9219, -9.922, -9.922, -9.922, -9.922, -9.922, -9.922, -9.922, -9.922, -4.4418, -5.2503, -5.4645, -8.0056, -9.2531, -9.0002, -9.9126, -9.9216, -9.9218, -4.1746, -4.438, -4.7, -5.6281, -5.5284, -9.7109, -9.7109, -9.711, -9.711, -9.711, -9.711, -9.711, -9.711, -9.711, -9.711, -9.711, -9.711, -9.711, -9.711, -9.711, -9.711, -9.711, -9.711, -9.711, -9.711, -9.711, -9.711, -9.711, -9.711, -9.711, -9.711, -9.711, -9.711, -9.711, -9.6664, -9.6664, -9.6664, -9.6664, -9.6664, -9.6664, -9.6664, -9.6664, -9.6664, -9.6664, -9.6664, -9.6664, -9.6664, -9.6664, -9.6664, -9.6664, -9.6664, -9.6664, -9.6664, -9.6664, -9.6664, -9.6664, -9.6664, -9.6664, -9.6664, -9.6664, -9.6664, -9.6664, -9.6664, -9.6664, -9.6664, -9.6664, -9.6664, -9.6664, -9.6664, -9.6664, -9.6664, -9.6664, -9.6664, -9.6664, -9.6664, -9.6664, -9.6664, -9.6664, -9.6664, -9.6664, -9.6664, -9.6664, -9.6664, -9.6664, -9.6664, -9.6664, -9.6664, -9.6664, -9.6664, -9.6664, -9.6664, -9.6664, -9.6664, -9.6664], \"loglift\": [30.0, 29.0, 28.0, 27.0, 26.0, 25.0, 24.0, 23.0, 22.0, 21.0, 20.0, 19.0, 18.0, 17.0, 16.0, 15.0, 14.0, 13.0, 12.0, 11.0, 10.0, 9.0, 8.0, 7.0, 6.0, 5.0, 4.0, 3.0, 2.0, 1.0, 1.5787, 1.5752, 1.5739, 1.5731, 1.5722, 1.5717, 1.5715, 1.5712, 1.5712, 1.5694, 1.5691, 1.5688, 1.5686, 1.5686, 1.5679, 1.5672, 1.5665, 1.5657, 1.5653, 1.5625, 1.5623, 1.5623, 1.5622, 1.5621, 1.562, 1.5618, 1.5617, 1.5615, 1.5615, 1.5614, 1.5233, 1.5362, 1.5379, 1.3866, 1.4774, 1.4105, 1.5554, 1.3581, 1.3625, 1.2783, 1.5289, 1.2321, 1.2244, 1.0786, 0.9744, 1.2908, 1.3872, 1.3398, 1.1495, 0.877, 1.2149, 1.0567, 0.9767, 0.9641, 1.1598, 1.2032, 0.9067, 1.0027, 1.0775, 0.6778, 0.9568, 0.8505, 0.8215, 0.9485, 0.6818, 0.8441, 1.0019, 0.7003, 0.0335, 0.3912, 0.9343, 0.1749, 0.0609, 0.0598, -0.6143, 0.0631, 1.8529, 1.8522, 1.8522, 1.852, 1.8505, 1.8504, 1.8498, 1.8484, 1.8482, 1.8461, 1.8451, 1.8449, 1.8447, 1.8442, 1.8437, 1.8435, 1.8427, 1.8427, 1.8421, 1.8401, 1.84, 1.8398, 1.8396, 1.8393, 1.8393, 1.8389, 1.8386, 1.8372, 1.8369, 1.8364, 1.8332, 1.8346, 1.7959, 1.8327, 1.8005, 1.8034, 1.7934, 1.7542, 1.8171, 1.7168, 1.7549, 1.5034, 1.6731, 1.6738, 1.7627, 1.3797, 1.6018, 1.692, 1.6554, 1.3959, 1.2068, 1.6578, 0.8294, 0.173, 1.0482, 0.7514, 0.4681, 0.5127, 0.5908, 0.8862, -0.0204, 0.9109, 0.0715, 0.7156, 0.5069, 0.8375, 1.07, 0.4873, 0.2493, -0.0329, 0.3634, 0.7301, 0.2916, 0.6028, -0.5607, -0.5148, 0.7701, 0.0838, 2.0657, 2.0632, 2.0629, 2.0625, 2.0621, 2.0619, 2.0617, 2.0615, 2.0615, 2.0596, 2.0593, 2.0593, 2.0591, 2.059, 2.0582, 2.0579, 2.0576, 2.057, 2.0569, 2.0566, 2.0565, 2.0565, 2.0551, 2.0549, 2.0546, 2.0541, 2.0539, 2.0538, 2.0528, 2.0524, 2.0399, 2.0514, 2.0435, 2.0189, 1.9928, 1.8899, 1.9128, 1.7034, 1.9264, 1.8472, 1.8178, 1.8459, 1.9169, 1.8196, 1.5495, 1.6672, 1.8169, 1.7996, 0.7931, 1.726, 1.578, 1.7499, 1.1459, 0.9226, 1.0035, 1.5929, 1.0872, 1.1668, 0.542, 1.3114, 1.5962, -0.6221, 0.9513, 0.3668, 0.0175, 1.0868, 1.1947, -0.0183, 0.8103, 0.353, -1.2609, 0.5691, 2.2022, 2.2002, 2.198, 2.1936, 2.1928, 2.1927, 2.1914, 2.1904, 2.189, 2.1875, 2.1868, 2.1849, 2.1823, 2.1813, 2.1801, 2.1792, 2.1777, 2.1755, 2.1754, 2.1742, 2.173, 2.1691, 2.1688, 2.1683, 2.1681, 2.1679, 2.167, 2.1598, 2.1592, 2.1591, 2.1507, 2.1226, 2.1411, 1.9549, 2.0237, 1.9625, 1.8362, 2.0903, 1.9095, 1.8359, 1.7469, 1.9369, 1.8593, 1.6973, 1.3234, 1.6321, 1.9544, 1.2609, 1.2667, 1.2133, 1.6822, 0.8037, 1.752, 1.6677, 1.051, 1.1093, 1.0732, 1.1724, 0.9087, 0.7788, 1.1432, 0.3022, 1.179, 0.5518, 1.0783, 0.329, 1.0172, 0.5096, 0.5323, 2.3614, 2.3608, 2.3588, 2.3584, 2.3583, 2.3556, 2.3542, 2.3534, 2.3511, 2.351, 2.35, 2.3499, 2.3483, 2.3456, 2.3451, 2.3443, 2.3418, 2.3409, 2.3403, 2.3398, 2.3387, 2.3384, 2.3373, 2.3366, 2.3366, 2.3356, 2.3348, 2.3336, 2.3331, 2.332, 2.311, 2.3317, 2.3309, 2.2939, 2.2865, 2.3089, 2.2401, 2.0464, 1.9969, 2.1084, 2.1884, 2.0152, 2.1923, 2.1156, 1.8883, 2.0297, 1.9873, 1.9907, 1.7375, 1.6059, 1.0205, 1.7293, 1.6906, 2.053, 1.8381, 0.412, -0.0599, 1.2901, 1.1426, -0.0636, 0.4783, 0.2794, 1.4311, 0.4468, -0.1855, -0.141, 0.768, -0.332, 0.7367, 0.141, 0.169, 2.7107, 2.7099, 2.7093, 2.7049, 2.7048, 2.7029, 2.6985, 2.6976, 2.6938, 2.6935, 2.6921, 2.6902, 2.6883, 2.6862, 2.685, 2.682, 2.6762, 2.6761, 2.676, 2.6749, 2.6734, 2.6733, 2.6673, 2.6651, 2.6647, 2.6623, 2.6605, 2.6601, 2.6597, 2.6581, 2.6201, 2.5686, 2.6183, 2.6128, 2.5602, 2.5399, 2.5037, 2.4842, 2.548, 2.6221, 2.266, 2.6021, 2.2547, 2.3935, 2.3366, 2.122, 2.0467, 2.2636, 2.0176, 1.555, 1.9267, 1.4791, 0.9534, 1.5721, 1.4193, 1.5335, 1.268, 0.9673, 1.3759, 1.5036, 1.3913, 0.6707, 0.2707, -0.1903, 0.7278, -0.7335, 1.0491, 0.9569, 1.0652, -0.256, 2.8386, 2.838, 2.8338, 2.8297, 2.8295, 2.8288, 2.8281, 2.8275, 2.8256, 2.8088, 2.8071, 2.8065, 2.8003, 2.7888, 2.7638, 2.7509, 2.7452, 2.7349, 2.7346, 2.7261, 2.7253, 2.7166, 2.713, 2.7061, 2.7028, 2.6718, 2.6611, 2.6275, 2.6267, 2.6209, 2.5851, 2.605, 2.5241, 2.299, 2.3728, 2.4583, 2.3173, 2.1019, 2.4652, 1.4224, 1.7625, 0.5558, 1.5691, 1.9619, 1.5432, 1.0028, 1.6751, 0.4467, 1.3376, 0.9831, 0.4444, 1.2214, 0.632, -0.3563, 0.5122, 0.1251, 3.0413, 3.0409, 3.0385, 3.0377, 3.0376, 3.0367, 3.0348, 3.0325, 3.0285, 3.0236, 3.021, 3.0199, 3.0199, 3.0172, 3.0162, 3.0133, 3.0122, 3.012, 3.0118, 3.0114, 3.0105, 3.0092, 3.0084, 3.0066, 3.0064, 3.0035, 3.0019, 3.0004, 2.9979, 2.9937, 2.9592, 2.9298, 2.9715, 2.9445, 2.9407, 2.6279, 2.8551, 2.7465, 2.828, 2.8272, 2.7801, 2.7659, 2.9032, 2.8543, 2.8094, 2.2942, 2.3757, 2.6484, 2.273, 2.2389, 2.5981, 2.4933, 2.2413, 2.0714, 1.8478, 2.2195, 1.827, 2.4728, 0.7284, 2.3578, 0.719, 0.4965, 1.2555, 1.1773, 0.2144, 1.045, 0.5549, -1.0743, 1.5592, 0.64, -0.3457, 0.8588, -0.8834, 0.7448, 0.5505, 3.5766, 3.5741, 3.57, 3.5674, 3.5658, 3.5635, 3.5543, 3.5477, 3.5468, 3.5449, 3.5425, 3.528, 3.5276, 3.5212, 3.5149, 3.5149, 3.5149, 3.5144, 3.5097, 3.5087, 3.5086, 3.5071, 3.5045, 3.5028, 3.5013, 3.4957, 3.4901, 3.4748, 3.4564, 3.4493, 3.438, 3.4097, 3.4084, 3.4313, 3.3982, 3.3559, 3.3383, 3.3618, 3.3879, 3.3957, 2.8843, 3.2439, 3.3542, 2.7442, 3.0084, 2.761, 2.7403, 2.349, 2.23, 1.5842, 1.7464, 2.5979, 1.5757, 1.462, 0.8405, 0.332, 2.1773, 1.951, 0.5971, 1.3595, 1.2848, 1.0968, 0.9105, 0.7633, 1.2442, -0.935, 0.0621, 0.411, -0.2836, 0.2672, 3.6719, 3.6635, 3.6617, 3.6617, 3.6617, 3.6615, 3.6597, 3.6587, 3.6583, 3.6573, 3.6566, 3.6564, 3.6531, 3.6481, 3.6481, 3.6409, 3.638, 3.6379, 3.636, 3.6355, 3.6352, 3.6317, 3.6317, 3.6267, 3.6248, 3.6088, 3.5925, 3.5807, 3.5765, 3.5639, 3.5277, 3.5323, 3.4466, 3.2423, 3.3748, 3.4128, 3.4288, 3.1643, 3.0916, 3.3551, 2.9834, 2.3719, 2.0833, 2.8257, 1.7292, 2.9382, 2.4746, 2.7186, 1.8186, 1.4765, 2.7626, 2.0829, 2.1626, 0.5326, 0.649, -0.3541, 1.7204, 2.835, 1.6275, 0.1351, 0.4593, 1.6799, 0.0309, 1.925, 3.8139, 3.8116, 3.8095, 3.8068, 3.7976, 3.7923, 3.7898, 3.7874, 3.776, 3.7716, 3.768, 3.7624, 3.754, 3.7533, 3.7496, 3.7477, 3.7477, 3.7373, 3.7253, 3.7235, 3.7214, 3.7184, 3.7094, 3.7075, 3.7059, 3.7, 3.6963, 3.6963, 3.696, 3.6922, 3.6645, 3.6473, 3.5995, 3.6613, 3.5382, 3.397, 3.2046, 3.2934, 3.3604, 3.3638, 3.1876, 3.1003, 3.4478, 3.4448, 2.5009, 3.0805, 2.0112, 2.3014, 2.7313, 1.6049, 1.6571, 2.3997, 0.5618, 1.9252, -0.2063, 0.6673, 1.7057, 0.7509, 1.325, 1.4794, 1.4385, 1.8558, 1.0466, 3.8407, 3.8397, 3.8276, 3.8269, 3.8262, 3.8174, 3.8142, 3.813, 3.8118, 3.8098, 3.8071, 3.803, 3.802, 3.7961, 3.7949, 3.7796, 3.7787, 3.7776, 3.7731, 3.7711, 3.7711, 3.7659, 3.7658, 3.7644, 3.7632, 3.7609, 3.7564, 3.7564, 3.7523, 3.7518, 3.7116, 3.5369, 3.5903, 3.5193, 3.2981, 3.2896, 3.1851, 3.5378, 2.8883, 3.0529, 3.2391, 2.9934, 2.9686, 3.1874, 2.7615, 2.6658, 3.276, 2.6578, 2.0196, 2.4927, 2.7037, 2.5745, 1.4532, 2.0594, 2.2465, 1.3355, 0.5029, 1.2622, 1.1744, 1.6971, 1.4779, 3.8648, 3.8644, 3.8573, 3.8563, 3.855, 3.8542, 3.8459, 3.8418, 3.8407, 3.8405, 3.8397, 3.8391, 3.8343, 3.8338, 3.8331, 3.833, 3.8301, 3.8298, 3.8298, 3.8297, 3.8297, 3.826, 3.8248, 3.8237, 3.8237, 3.8237, 3.8199, 3.8191, 3.8156, 3.8121, 3.7262, 3.6433, 3.5701, 3.6447, 3.7614, 3.4677, 3.3401, 3.5789, 3.5731, 2.9065, 3.2205, 3.6759, 2.8694, 2.4419, 2.6975, 3.4273, 3.0317, 3.1975, 2.374, 2.5267, 2.2805, 1.7021, 2.4789, 1.8264, 1.7236, 1.8651, 1.25, 2.0234, 1.8888, 0.4378, 2.1621, 0.6043, 1.0502, 1.6822, 4.496, 4.493, 4.4917, 4.491, 4.4766, 4.4747, 4.4743, 4.4709, 4.468, 4.4648, 4.462, 4.4591, 4.4497, 4.4466, 4.4453, 4.445, 4.4442, 4.426, 4.406, 4.3956, 4.3927, 4.3927, 4.3848, 4.2998, 4.2067, 4.1891, 4.1823, 4.1526, 4.1041, 4.0878, 4.0224, 4.0479, 3.9496, 3.668, 3.7558, 3.6856, 3.6752, 2.6572, 1.6682, 3.0604, 3.2716, 3.0301, 2.2035, 1.7951, 1.7158, 1.6986, 2.1365, 2.7631, 2.1718, 1.6762, 2.1214, 0.5665, 1.8033, -1.1528, -0.0915, 5.3983, 5.3842, 5.3684, 5.3679, 5.3622, 5.3232, 5.2795, 5.1595, 5.1595, 5.1595, 5.0293, 5.0182, 4.9632, 4.8379, 4.713, 4.7003, 4.5855, 3.9124, 3.0418, 3.0198, 2.752, 2.5546, 2.4995, 2.4053, 2.4052, 2.4052, 2.4051, 2.4051, 2.405, 2.405, 6.3241, 6.295, 6.2775, 6.1492, 6.1459, 6.1287, 6.0259, 5.9092, 5.9018, 5.8695, 5.8546, 5.7651, 5.7157, 5.6375, 4.8245, 4.7178, 3.8566, 3.7006, 3.0718, 3.0718, 3.0718, 3.0717, 3.0717, 3.0717, 3.0717, 3.0717, 3.0717, 3.0717, 3.0717, 3.0717, 3.0046, 0.5284, -2.0454, -2.2281, -3.047, 6.8504, 6.8198, 6.7594, 6.705, 6.652, 6.472, 6.3958, 6.2834, 5.1317, 3.2843, 3.2843, 3.2843, 3.2842, 3.2842, 3.2842, 3.2842, 3.2842, 3.2842, 3.2842, 3.2842, 3.2842, 3.2842, 3.2842, 3.2842, 3.2842, 3.2842, 3.2842, 3.2842, 3.2842, 3.2842, 7.0151, 6.8677, 6.808, 6.7221, 6.6125, 6.5793, 6.5664, 6.4964, 6.3627, 6.3116, 6.2031, 6.0885, 5.9268, 5.7527, 5.7284, 5.5193, 5.019, 4.6812, 4.2221, 3.3586, 3.2273, 3.19, 3.1899, 3.1899, 3.1899, 3.1899, 3.1899, 3.1899, 3.1899, 3.1899, 2.665, 2.6105, 2.4491, 1.4928, 1.2766, -0.2731, -2.9488, -2.1506, -1.3261, 7.7873, 7.6969, 7.5909, 7.0797, 6.8202, 3.401, 3.4009, 3.4009, 3.4009, 3.4009, 3.4009, 3.4009, 3.4009, 3.4009, 3.4009, 3.4009, 3.4009, 3.4009, 3.4009, 3.4009, 3.4009, 3.4009, 3.4009, 3.4009, 3.4009, 3.4009, 3.4009, 3.4009, 3.4009, 3.4009, 3.4009, 3.4009, 3.4009, 3.4009, 3.4455, 3.4455, 3.4455, 3.4455, 3.4455, 3.4455, 3.4455, 3.4455, 3.4455, 3.4455, 3.4455, 3.4455, 3.4455, 3.4455, 3.4455, 3.4455, 3.4455, 3.4455, 3.4455, 3.4455, 3.4455, 3.4455, 3.4455, 3.4455, 3.4455, 3.4455, 3.4455, 3.4455, 3.4455, 3.4455, -6.3105, -2.3554, 0.8687, 1.2047, 2.0503, 2.0503, -3.3838, 2.6978, -3.4384, 0.4853, 1.0549, -4.9962, -3.8311, -2.4159, -1.463, -4.9428, -2.4466, -3.7549, -0.476, 0.1881, 2.0503, -3.5476, 1.0549, -1.5413, 1.1225, -0.5554, 0.183, -2.9557, 2.277, -0.4821]}, \"token.table\": {\"Topic\": [10, 1, 3, 8, 15, 14, 4, 16, 5, 10, 1, 9, 3, 5, 10, 1, 5, 9, 10, 10, 1, 2, 3, 4, 5, 7, 10, 1, 2, 3, 4, 5, 6, 8, 14, 4, 12, 9, 1, 2, 4, 10, 14, 4, 3, 4, 6, 16, 12, 7, 8, 2, 2, 3, 12, 18, 4, 5, 6, 8, 12, 4, 8, 12, 8, 8, 2, 13, 1, 2, 3, 4, 5, 6, 8, 11, 12, 14, 2, 14, 1, 2, 4, 5, 6, 7, 8, 11, 2, 6, 8, 13, 1, 2, 3, 9, 11, 1, 4, 1, 2, 3, 5, 6, 7, 8, 9, 12, 1, 2, 6, 14, 1, 5, 7, 12, 1, 2, 3, 5, 6, 8, 9, 10, 12, 13, 17, 2, 11, 1, 2, 3, 5, 6, 8, 9, 10, 13, 6, 10, 1, 4, 13, 8, 8, 2, 3, 4, 11, 1, 2, 3, 4, 5, 7, 9, 7, 3, 5, 8, 1, 3, 5, 6, 8, 14, 14, 1, 2, 5, 8, 11, 1, 2, 7, 1, 2, 3, 4, 5, 6, 8, 11, 12, 13, 14, 9, 6, 1, 9, 1, 2, 7, 9, 11, 12, 13, 9, 9, 9, 6, 6, 10, 4, 1, 3, 4, 5, 6, 7, 8, 9, 10, 11, 1, 2, 3, 4, 5, 6, 7, 8, 9, 10, 11, 12, 13, 14, 3, 6, 6, 16, 15, 8, 9, 11, 12, 5, 13, 14, 1, 2, 3, 4, 5, 1, 2, 3, 4, 5, 6, 8, 9, 12, 13, 14, 8, 8, 5, 4, 1, 2, 3, 4, 5, 6, 7, 8, 9, 10, 4, 5, 6, 7, 8, 11, 12, 2, 3, 4, 5, 6, 8, 12, 12, 3, 5, 14, 2, 3, 8, 12, 2, 4, 2, 1, 5, 6, 8, 9, 10, 6, 5, 6, 8, 13, 4, 1, 4, 5, 10, 1, 4, 6, 10, 4, 10, 13, 1, 3, 4, 5, 6, 7, 8, 9, 10, 14, 4, 5, 7, 14, 1, 2, 4, 6, 8, 9, 14, 1, 10, 13, 15, 1, 2, 12, 13, 1, 1, 2, 3, 4, 5, 6, 7, 8, 9, 10, 13, 14, 1, 2, 3, 4, 5, 6, 7, 8, 9, 10, 1, 2, 3, 5, 6, 8, 2, 6, 9, 11, 12, 18, 7, 11, 12, 6, 13, 1, 2, 3, 6, 8, 12, 13, 15, 9, 2, 3, 4, 8, 13, 11, 1, 2, 3, 4, 5, 6, 7, 8, 9, 10, 11, 1, 2, 3, 5, 6, 8, 9, 10, 11, 2, 4, 3, 3, 1, 2, 3, 13, 12, 1, 10, 10, 1, 2, 3, 4, 5, 6, 8, 12, 13, 1, 4, 5, 6, 7, 8, 11, 12, 18, 1, 2, 4, 5, 6, 7, 8, 11, 12, 1, 2, 3, 4, 5, 6, 7, 8, 9, 10, 13, 14, 1, 2, 3, 4, 5, 6, 7, 8, 10, 11, 12, 13, 14, 2, 11, 1, 2, 3, 4, 7, 8, 11, 1, 2, 3, 5, 7, 8, 9, 10, 14, 14, 1, 2, 3, 8, 9, 10, 11, 8, 7, 3, 4, 12, 11, 4, 14, 18, 1, 3, 5, 11, 12, 13, 15, 1, 2, 3, 4, 6, 8, 9, 12, 9, 13, 1, 2, 3, 6, 7, 9, 10, 13, 5, 1, 5, 10, 1, 8, 1, 17, 3, 13, 7, 13, 14, 10, 15, 1, 8, 15, 1, 8, 15, 7, 8, 5, 6, 4, 18, 12, 11, 2, 3, 4, 8, 13, 1, 3, 5, 6, 11, 2, 5, 10, 1, 3, 5, 8, 1, 5, 11, 13, 5, 8, 6, 9, 4, 3, 1, 4, 8, 1, 13, 12, 1, 2, 3, 5, 13, 3, 3, 3, 1, 3, 5, 6, 9, 10, 1, 2, 3, 4, 5, 6, 8, 9, 10, 14, 1, 3, 5, 6, 8, 10, 8, 1, 3, 5, 6, 8, 9, 10, 4, 1, 2, 3, 8, 1, 2, 6, 8, 11, 14, 1, 2, 3, 4, 5, 6, 7, 8, 9, 10, 11, 13, 14, 1, 3, 5, 12, 5, 10, 1, 2, 3, 4, 5, 6, 8, 12, 13, 14, 8, 11, 12, 5, 9, 6, 2, 6, 9, 1, 8, 5, 7, 19, 1, 2, 3, 5, 6, 7, 8, 9, 10, 11, 12, 8, 12, 10, 2, 3, 10, 12, 4, 15, 12, 11, 12, 1, 5, 6, 14, 1, 1, 2, 4, 6, 9, 12, 1, 2, 3, 5, 6, 8, 10, 12, 13, 2, 3, 4, 7, 8, 12, 14, 18, 18, 8, 18, 18, 2, 5, 6, 7, 12, 2, 1, 2, 3, 4, 6, 7, 8, 12, 1, 2, 5, 1, 2, 4, 5, 6, 7, 11, 14, 1, 2, 3, 4, 5, 8, 12, 9, 1, 2, 5, 8, 1, 2, 4, 5, 8, 12, 8, 5, 2, 3, 4, 8, 12, 1, 3, 8, 10, 11, 1, 2, 5, 6, 1, 2, 3, 4, 5, 6, 8, 9, 10, 12, 13, 2, 4, 5, 6, 7, 8, 9, 11, 12, 2, 8, 1, 3, 12, 3, 1, 2, 4, 10, 1, 1, 1, 1, 3, 5, 15, 6, 8, 1, 3, 6, 1, 2, 3, 4, 5, 6, 8, 10, 11, 12, 14, 1, 1, 1, 4, 5, 6, 8, 12, 13, 8, 6, 1, 4, 7, 12, 13, 4, 5, 14, 9, 13, 1, 2, 3, 5, 8, 13, 10, 9, 10, 2, 3, 4, 8, 9, 12, 13, 3, 17, 3, 2, 3, 5, 7, 8, 10, 12, 14, 8, 12, 13, 1, 2, 3, 5, 6, 8, 9, 7, 1, 9, 2, 1, 2, 3, 12, 1, 10, 3, 5, 6, 8, 11, 8, 3, 2, 3, 6, 16, 6, 3, 14, 3, 17, 5, 16, 11, 1, 2, 3, 4, 5, 7, 8, 9, 10, 11, 12, 14, 1, 2, 3, 4, 5, 6, 7, 8, 9, 12, 13, 14, 1, 2, 3, 4, 5, 6, 8, 11, 13, 1, 2, 3, 5, 8, 9, 10, 1, 2, 5, 8, 15, 5, 5, 1, 3, 4, 11, 6, 11, 3, 10, 10, 3, 1, 2, 3, 7, 8, 9, 11, 1, 5, 14, 14, 13, 2, 4, 5, 12, 1, 2, 4, 10, 2, 13, 13, 1, 2, 3, 5, 6, 11, 14, 11, 19, 2, 3, 4, 6, 7, 10, 11, 11, 7, 4, 1, 2, 4, 5, 6, 7, 11, 9, 1, 2, 6, 8, 2, 8, 1, 2, 4, 6, 7, 8, 9, 12, 14, 6, 1, 2, 3, 4, 5, 7, 8, 9, 11, 1, 2, 3, 4, 5, 6, 8, 9, 10, 13, 3, 1, 2, 3, 4, 5, 6, 9, 10, 2, 8, 10, 6, 2, 4, 11, 11, 11, 4, 11, 1, 2, 6, 13, 1, 3, 4, 5, 7, 2, 8, 13, 8, 8, 4, 5, 12, 1, 2, 3, 5, 6, 7, 8, 9, 11, 12, 13, 4, 5, 7, 11, 4, 13, 8, 18, 5, 8, 1, 4, 6, 8, 12, 14, 5, 7, 13, 12, 1, 2, 3, 4, 8, 9, 10, 13, 4, 3, 13, 5, 9, 12, 1, 12, 7, 1, 2, 3, 4, 5, 6, 7, 8, 12, 13, 6, 10, 10, 6, 11, 4, 6, 1, 2, 3, 4, 5, 6, 7, 8, 9, 10, 12, 13, 14, 14, 14, 2, 14, 15, 1, 3, 6, 13, 15, 15, 4, 12, 8, 1, 2, 4, 5, 13, 14, 1, 6, 7, 11, 14, 2, 7, 2, 3, 5, 10, 11, 12, 3, 11, 11, 11, 11, 9, 5, 1, 4, 5, 8, 12, 4, 10, 1, 2, 4, 6, 13, 1, 2, 3, 4, 6, 7, 13, 14, 2, 3, 4, 5, 6, 9, 12, 18, 6, 9, 1, 4, 5, 4, 11, 4, 4, 7, 12, 1, 2, 6, 8, 11, 10, 5, 5, 4, 13, 8, 11, 12, 1, 3, 5, 6, 8, 9, 1, 3, 5, 6, 8, 9, 2, 3, 7, 8, 3, 7, 2, 1, 2, 3, 4, 5, 6, 7, 8, 9, 10, 11, 14, 2, 7, 2, 9, 3, 4, 5, 6, 8, 12, 13, 16, 3, 8, 1, 2, 4, 5, 11, 1, 2, 4, 5, 6, 7, 8, 9, 11, 12, 14, 1, 2, 3, 5, 6, 8, 9, 10, 14, 5, 2, 1, 2, 3, 4, 5, 6, 7, 8, 9, 13, 12, 9, 11, 3, 3, 6, 9, 6, 10, 13, 6, 13, 13, 1, 5, 15, 1, 1, 3, 5, 12, 13, 1, 2, 3, 4, 5, 6, 7, 8, 9, 10, 1, 2, 3, 5, 8, 9, 3, 1, 15, 1, 2, 3, 5, 6, 8, 9, 13, 10, 15, 5, 8, 1, 3, 4, 1, 2, 3, 4, 5, 6, 8, 9, 12, 13, 16, 1, 2, 3, 4, 5, 6, 7, 12, 12, 13, 9, 1, 2, 3, 5, 6, 7, 8, 9, 13, 16, 1, 2, 3, 5, 6, 8, 9, 13, 10, 9, 2, 5, 7, 18, 9, 13, 1, 3, 6, 3, 9, 16, 14, 1, 6, 2, 5, 8, 13, 14, 14, 13, 14, 5, 1, 2, 4, 5, 8, 9, 12, 13, 2, 1, 3, 5, 6, 8, 2, 5, 9, 10, 12, 13, 11, 2, 7, 12, 14, 2, 3, 5, 6, 7, 8, 9, 11, 12, 13, 14, 7, 11, 11, 5, 1, 2, 6, 10, 2, 1, 3, 5, 8, 9, 13, 2, 1, 2, 4, 5, 7, 2, 1, 2, 3, 4, 9, 1, 9, 12, 2, 13, 1, 2, 13, 1, 5, 6, 11, 1, 3, 7, 8, 11, 2, 11, 1, 2, 3, 4, 5, 9, 12, 11, 5, 11, 1, 3, 5, 9, 14, 1, 2, 14, 6, 14, 14, 3, 4, 6, 9, 14, 1, 2, 3, 8, 2, 3, 4, 8, 11, 14, 15, 5, 15, 1, 6, 1, 3, 5, 9, 10, 11, 1, 2, 3, 4, 5, 6, 9, 10, 12, 14, 2, 3, 4, 5, 7, 14, 4, 4, 9, 9, 9, 1, 10, 10, 12, 3, 6, 16, 5, 4, 1, 2, 3, 4, 5, 6, 9, 11, 12, 13, 14, 13, 1, 1, 2, 3, 6, 8, 9, 5, 9, 11, 9, 5, 9, 11, 2, 3, 4, 5, 7, 8, 9, 10, 11, 12, 13, 2, 3, 5, 6, 12, 11, 1, 2, 3, 4, 5, 7, 11, 1, 3, 5, 10, 8, 2, 6, 8, 1, 3, 5, 8, 10, 9, 10, 1, 2, 4, 6, 9, 2, 3, 3, 7, 11, 17, 1, 2, 3, 6, 7, 8, 11, 13, 1, 3, 13, 2, 4, 11, 1, 5, 1, 10, 2, 3, 14, 12, 1, 3, 6, 12, 13, 14, 8, 3, 5, 6, 8, 12, 14, 3, 9, 10, 4, 7, 4, 7, 1, 2, 3, 5, 6, 7, 8, 9, 1, 3, 6, 8, 10, 12, 1, 9, 12, 1, 2, 4, 5, 6, 11, 12, 13, 13, 1, 2, 5, 2, 7, 11, 7, 13, 13, 1, 2, 3, 6, 8, 9, 13, 14, 1, 2, 4, 7, 9, 14, 1, 5, 8, 9, 10, 2, 1, 9, 12, 1, 2, 3, 4, 5, 6, 7, 8, 9, 12, 13, 2, 3, 5, 9, 13, 1, 11, 2, 9, 11, 13, 1, 13, 4, 2, 13, 3, 6, 2, 16, 4, 10, 11, 3, 8, 13, 1, 6, 1, 2, 5, 9, 11, 5, 14, 2, 11, 7, 18, 1, 5, 6, 8, 10, 9, 3, 13, 3, 7, 2, 5, 13, 1, 2, 3, 4, 5, 6, 8, 10, 1, 11, 10, 3, 17, 6, 8, 16, 18, 1, 1, 2, 3, 5, 7, 8, 9, 10, 12, 13, 14, 2, 3, 4, 10, 12, 14, 8, 1, 9, 1, 6, 9, 1, 2, 3, 4, 5, 6, 7, 8, 9, 10, 12, 13, 14, 1, 5, 6, 8, 10, 8, 8, 6, 5, 8, 2, 4, 5, 6, 8, 4, 12, 1, 2, 3, 4, 6, 13, 6, 5, 5, 8, 6, 5, 13, 9, 19, 18, 3, 6, 9, 13, 8, 12, 3, 16, 12, 5, 6, 18, 9, 3, 9, 3, 9, 2, 3, 4, 5, 8, 12, 1, 2, 3, 4, 5, 6, 7, 10, 12, 13, 4, 6, 12, 6, 8, 3, 3, 2, 3, 5, 9, 14, 4, 1, 3, 4, 6, 2, 3, 4, 5, 13, 1, 2, 4, 5, 6, 7, 8, 9, 11, 1, 2, 3, 4, 7, 14, 5, 7, 18, 5, 7, 1, 4, 5, 6, 8, 9, 10, 1, 3, 2, 1, 2, 3, 4, 5, 6, 7, 8, 9, 10, 11, 12, 14, 1, 1, 5, 16, 1, 2, 3, 4, 6, 8, 9, 10, 11, 5, 1, 2, 3, 4, 5, 6, 7, 10, 11, 14, 12, 2, 12, 15, 1, 2, 3, 4, 7, 8, 11, 12, 13, 14, 1, 1, 2, 3, 5, 6, 7, 9, 2, 10, 1, 2, 3, 4, 5, 6, 7, 8, 1, 4, 6, 12, 1, 4, 6, 6, 5, 1, 2, 3, 4, 5, 6, 7, 8, 9, 18, 18, 1, 2, 5, 6, 9, 14, 14, 10, 18, 15, 3, 3, 10, 3, 1, 2, 3, 4, 5, 6, 7, 9, 11, 4, 12, 7, 12, 1, 2, 4, 5, 8, 12, 1, 3, 1, 13, 6, 16, 3, 17, 4, 5, 6, 8, 9, 12, 4, 11, 2, 2, 3, 4, 5, 7, 8, 9, 12, 13, 5, 2, 3, 14, 1, 2, 4, 6, 9, 14, 1, 2, 4, 6, 9, 14, 9, 11, 2, 3, 4, 5, 7, 11, 12, 13, 2, 7, 8, 11, 12, 15, 2, 3, 5, 8, 11, 12, 2, 3, 5, 11, 12, 6, 1, 4, 11, 12, 3, 3, 14, 4, 1, 3, 12, 1, 11, 6, 1, 2, 3, 4, 5, 8, 9, 12, 6, 6, 2, 3, 5, 7, 8, 9, 2, 4, 6, 7, 1, 3, 5, 6, 8, 9, 10, 1, 2, 3, 4, 5, 8, 12, 13, 6, 16, 1, 2, 4, 5, 7, 8, 9, 10, 11, 9, 8, 3, 8, 3, 7, 8, 10, 7, 12, 2, 12, 2, 2, 3, 12, 2, 3, 4, 6, 7, 11, 12, 7, 9, 1, 2, 11, 2, 7, 12, 1, 2, 4, 5, 7, 14, 2, 6, 1, 2, 4, 5, 13, 1, 4, 8, 2, 12, 7, 1, 2, 3, 4, 5, 6, 7, 8, 9, 10, 11, 12, 13, 14, 1, 3, 6, 12, 8, 1, 2, 4, 11, 8, 2, 3, 9, 8, 1, 8, 13, 1, 2, 4, 6, 11, 18, 1, 2, 3, 5, 10, 13, 14, 3, 14, 2, 6, 1, 5, 15, 1, 2, 4, 6, 13, 4, 6, 1, 2, 3, 16, 1, 2, 1, 1, 2, 3, 4, 5, 6, 7, 8, 9, 11, 12, 1, 2, 3, 6, 7, 8, 9, 12, 14, 10, 10, 1, 5, 14, 1, 2, 4, 7, 18, 16, 4, 2, 8, 12, 1, 3, 5, 9, 10, 10, 5, 10, 1, 2, 3, 4, 5, 6, 7, 8, 11, 12, 14, 1, 2, 3, 4, 5, 6, 7, 11, 12, 14, 10, 5, 1, 3, 6, 9, 14, 4, 9, 1, 2, 4, 5, 12, 13, 3, 10, 11, 1, 3, 4, 8, 9, 10, 8, 9, 4, 9, 13, 1, 1, 2, 4, 5, 8, 9, 13, 9, 12, 3, 17, 17, 1, 2, 3, 4, 6, 7, 8, 9, 2, 4, 5, 7, 8, 10, 2, 2, 4, 1, 2, 4, 5, 6, 7, 10, 2, 4, 7, 11, 5, 8, 8, 8, 2, 7, 6, 1, 4, 7, 9, 11, 1, 2, 3, 4, 6, 7, 11, 13, 14, 8, 12, 4, 1, 4, 6, 8, 14, 5, 7, 12, 7, 16, 3, 6, 10, 1, 2, 3, 6, 1, 5, 1, 8, 3, 6, 3, 6, 1, 2, 3, 4, 5, 6, 7, 8, 9, 11, 12, 13, 14], \"Freq\": [0.9423994237779912, 0.21043104743268004, 0.043839801548475006, 0.061375722167865014, 0.6839009041562101, 0.9720036209646731, 0.9629796571892253, 0.5478284355875926, 0.962645631851615, 0.018163125129275755, 0.18321133960820693, 0.8061298942761105, 0.042422791653633614, 0.9490866411812915, 0.00789261240067602, 0.006461674172219268, 0.39416212450537536, 0.1615418543054817, 0.43293216953869096, 0.9719224262095056, 0.12194921605253474, 0.06859643402955079, 0.09908373804268449, 0.15243652006566843, 0.05335278202298395, 0.0025406086677611404, 0.5004999075489447, 0.08212896850148817, 0.05166177050900062, 0.02914253721020548, 0.6013959951560586, 0.15895929387384808, 0.04371380581530822, 0.031791858774769616, 0.0013246607822820673, 0.07774914652668907, 0.917439929014931, 0.9055797372959107, 0.030941590172152828, 0.2320619262911462, 0.14955101916540534, 0.4795946476683688, 0.1082955656025349, 0.9883906222853264, 0.056693211787033154, 0.3401592707221989, 0.056693211787033154, 0.5102389060832985, 0.9231787293412684, 0.8784256476646949, 0.11772714865609314, 0.9959659503709407, 0.9030840428010998, 0.09342248718632067, 0.17834954662065178, 0.5350486398619553, 0.29868644794871413, 0.1870036891504993, 0.2129764237547353, 0.09869639149609685, 0.1999900564526173, 0.38072212620292223, 0.4435936699795516, 0.17464317715730376, 0.9656509753118773, 0.8598748680365216, 0.9879075791140804, 0.9838774726488436, 0.1481698984793615, 0.0850155155209451, 0.19917920779192855, 0.00121450736458493, 0.1530279279377012, 0.17246004577106008, 0.01943211783335888, 0.16395849421896558, 0.04979480194798214, 0.007287044187509581, 0.5474710565222726, 0.4354883404154441, 0.019752155544213383, 0.005386951512058195, 0.008978252520096992, 0.32142144021947233, 0.1221042342733191, 0.13646943830547428, 0.29269103215516196, 0.09157817570498933, 0.013338794445163055, 0.23342890279035347, 0.7469724889291312, 0.9706744764558467, 0.08974250196432541, 0.04487125098216271, 0.259256116785829, 0.06481402919645725, 0.5334693172323789, 0.9763028121166138, 0.9797750314641046, 0.27196011661699027, 0.10767021681764803, 0.018563830485801385, 0.19677660314949466, 0.18935107095517412, 0.008353723718610623, 0.16521809132363233, 0.02320478810725173, 0.019492022010091453, 0.9821462869922317, 0.9918425586898458, 0.978743070429588, 0.9682028798629361, 0.04684924940541891, 0.2583807088420073, 0.3109086551450528, 0.38189236636538443, 0.256748652582848, 0.1327015507731574, 0.15866489766355776, 0.05769632642311191, 0.02596334689040036, 0.04615706113848953, 0.023078530569244766, 0.0663507753865787, 0.028848163211555956, 0.2019371424808917, 0.8506568320346435, 0.96590046670145, 0.02759715619147, 0.5072558142122623, 0.25417927212157926, 0.06506107182287711, 0.035287360988679115, 0.09648887770341945, 0.022054600617924445, 0.011027300308962222, 0.0016540950463443335, 0.006616380185377334, 0.9801408839639019, 0.9883482125420651, 0.02221250487276948, 0.9551377095290876, 0.9670040965058975, 0.8583934328395019, 0.8583934328395019, 0.9732267659900732, 0.011449726658706742, 0.8841212867924727, 0.10145654110733293, 0.2485584114241769, 0.014988446920050868, 0.03247496832677688, 0.3060141246177052, 0.34223620467449484, 0.01998459589340116, 0.0362220800567896, 0.7851603125915333, 0.22011645595667267, 0.7743382468475806, 0.5467330398361379, 0.18135729561930314, 0.04377589894259041, 0.0781712481117686, 0.02501479939576595, 0.04377589894259041, 0.6191162850452072, 0.926078708929642, 0.07254687767367504, 0.010363839667667863, 0.010363839667667863, 0.041455358670671454, 0.8601986924164328, 0.14760793357866858, 0.8150525028039526, 0.02567094497020323, 0.055203035153040814, 0.3788935594595074, 0.1363347686355402, 0.05603944477657173, 0.06691276988247372, 0.12462503390610728, 0.06774917950600463, 0.0585486736471645, 0.011709734729432899, 0.038474842682422385, 0.0058548673647164495, 0.97873040037799, 0.9895737369994789, 0.14859850128826893, 0.8279059357489269, 0.17259899188693617, 0.1630101590043286, 0.05433671966810953, 0.24611337732026084, 0.00639255525507171, 0.3068426522434421, 0.05114044204057368, 0.9305286388723303, 0.985198490913231, 0.9903030805385189, 0.9725615584326771, 0.9893818426715693, 0.9445488838622461, 0.9832017436502786, 0.4128046287580517, 0.059676654814485364, 0.19135985180182083, 0.10850300875360976, 0.030084925154409976, 0.0290985341657408, 0.08187045205954191, 0.059676654814485364, 0.017261842301710642, 0.009863909886691795, 0.21192025529214845, 0.1856895195565873, 0.06785195417310974, 0.2459131475208859, 0.08866256339188403, 0.031851607678895694, 0.10171101611748205, 0.016059634123812956, 0.010907168175756298, 0.017732512678376805, 0.017933258104924465, 6.691514218255398e-05, 0.00026766056873021594, 0.003479587393492807, 0.984412237880755, 0.012421605525309212, 0.9381271827088228, 0.48685043797344757, 0.9697257912265058, 0.03287298707979085, 0.06245867545160261, 0.48980750748888363, 0.4141996372053647, 0.9811013072840605, 0.9808920256707409, 0.8642041336818571, 0.02717550446686687, 0.10190814175075077, 0.10190814175075077, 0.03396938058358359, 0.7337386206054055, 0.023652203515047522, 0.10288708529045672, 0.28382644218057024, 0.048487017205847416, 0.16911325513258976, 0.2660872895442846, 0.04139135615133316, 0.004730440703009504, 0.024834813690799897, 0.016556542460533265, 0.01773915263628564, 0.9572288699942649, 0.9517009814918141, 0.9800117234093891, 0.9653088142171875, 0.07596163133690541, 0.0395996701067802, 0.04881468767879823, 0.3703440845835355, 0.06749377735180775, 0.045576978802143245, 0.24183194763323, 0.07720690398177271, 0.003735817934601905, 0.028890325360921402, 0.3553743131180713, 0.05909595319266805, 0.273917728987637, 0.2220091214535367, 0.04392266791346949, 0.027152194710144777, 0.016770473203324716, 0.1117949593825629, 0.1742686131551716, 0.18742096131782604, 0.21043757060247134, 0.07891408897592675, 0.21043757060247134, 0.023016609284645304, 0.908503225081548, 0.19657298866223805, 0.21623028752846185, 0.5700616671204903, 0.08526779909611422, 0.059687459367279955, 0.6650888329496909, 0.1875891580114513, 0.8302154271411063, 0.163321067634316, 0.9933104720710647, 0.5171174345158, 0.10894759006119227, 0.12429232105572639, 0.04756866608305578, 0.07212023567431038, 0.12889574035408663, 0.9895641536615485, 0.03068445820533994, 0.06136891641067988, 0.9090270743331957, 0.9188284058417915, 0.9713676024863115, 0.25740795710687264, 0.2683614871965268, 0.071197945582752, 0.39980384827237664, 0.1559783865883977, 0.08232192625498767, 0.16031111954918653, 0.5979171485888578, 0.2589969341002672, 0.7224651319639033, 0.944360868693358, 0.5221023248107007, 0.07442248051029725, 0.06640775183995755, 0.017174418579299366, 0.009159689908959661, 0.12938061996405523, 0.036638759635838646, 0.0595379844082378, 0.06526279060133759, 0.01946434105653928, 0.04288994616703392, 0.006955126405464959, 0.8902561798995148, 0.05911857444645215, 0.3288509335297567, 0.002094591933310552, 0.26391858359712955, 0.03770265479958994, 0.2178375610642974, 0.05655398219938491, 0.09216204506566429, 0.014386706732575943, 0.8919758174197084, 0.07193353366287972, 0.7940006734027, 0.2150706249803573, 0.07169020832678577, 0.07169020832678577, 0.6452118749410719, 0.9804301069634631, 0.1361169737229839, 0.3310605259950176, 0.21727188865561467, 0.10348325131621172, 0.07600222192103517, 0.05539144987465275, 0.04637423710436044, 0.012022950360389743, 0.010305386023191209, 0.004293910842996337, 0.006011475180194872, 0.0021469554214981687, 0.2086920906547827, 0.3580862084142637, 0.012411203629249192, 0.27304647984348224, 0.004596742084907108, 0.02298371042453554, 0.012870877837739903, 0.02252403621604483, 0.06941080548209733, 0.015169248880193456, 0.5584826964407587, 0.1122673904259106, 0.16364399282420866, 0.03520248682846349, 0.027591138325011925, 0.10275320479659614, 0.2107631553810394, 0.2834401055124323, 0.10901542519708936, 0.24710163044673586, 0.12355081522336793, 0.02180308503941787, 0.7906432489151994, 0.07978968567034123, 0.1305649401878311, 0.9938012291802146, 0.9441757557732339, 0.0740070954063548, 0.18838169739799407, 0.24893295727592074, 0.0370035477031774, 0.18838169739799407, 0.08409897205267593, 0.08073501317056889, 0.09082688981689, 0.9926147428872577, 0.39974783093908983, 0.039105766070128355, 0.23463459642077011, 0.07821153214025671, 0.24766985177747958, 0.9964241579111464, 0.5429749306889656, 0.15308909406472582, 0.035874706497766376, 0.020719714973957477, 0.08832518497469873, 0.0548184459025275, 0.04084743809151617, 0.019417332889880148, 0.038834665779760295, 0.00011839837127975701, 0.005091129965029552, 0.5898411092908767, 0.05796579294492015, 0.02271632426219844, 0.11671490741612302, 0.011749822894240572, 0.010183179841675162, 0.10026515536418622, 0.0328995041038736, 0.05718247141863745, 0.043519096518348115, 0.9356605751444844, 0.9959800621343594, 0.9955003513213262, 0.009722994934605515, 0.15070642148638547, 0.8361775643760743, 0.0024307487336513787, 0.9717763228000769, 0.035269268357264995, 0.9522702456461548, 0.9300467739338771, 0.14701517096714645, 0.3572810550248094, 0.11282559632362402, 0.006837914928704486, 0.11453507505580014, 0.017094787321761215, 0.10769716012709565, 0.008547393660880608, 0.1282109049132091, 0.13099317789071863, 0.24205261131980618, 0.05980123338489329, 0.1680129890337478, 0.13668853345118467, 0.011390711120932056, 0.15946995569304878, 0.07688730006629137, 0.011390711120932056, 0.013419671542999284, 0.002236611923833214, 0.22813441623098782, 0.029075955009831782, 0.1923486254496564, 0.4160098178329778, 0.10512076042016105, 0.004473223847666428, 0.006709835771499642, 0.24408522679321443, 0.09327261088438227, 0.12874247699534452, 0.14897343766604154, 0.08171206192969827, 0.016289864436145635, 0.06621041674046291, 0.09747644686790372, 0.06463397824664235, 0.048344113810496726, 0.0015764384938205453, 0.00893315146498309, 0.22685790930828947, 0.16999838216708138, 0.07484570409403923, 0.18334296506756897, 0.012764383643944676, 0.0023207970261717595, 0.1560736000100508, 0.007542590335058217, 0.012184184387401736, 0.006382191821972338, 0.09109128327724156, 0.03771295167529109, 0.018566376209374076, 0.05840568109168887, 0.8760852163753331, 0.06058127858843384, 0.25507906774077405, 0.17536685907178215, 0.07333523197547254, 0.16261290568474346, 0.22638267261993697, 0.04145034850787578, 0.34957371496305734, 0.14897445236822277, 0.34514873122934775, 0.03908735631443468, 0.016224940356935152, 0.08186219907362735, 0.00663747560056438, 0.01327495120112876, 0.9861863101638925, 0.9894958227476623, 0.14047401580776744, 0.7023700790388372, 0.019625046326085156, 0.004131588700228454, 0.025822429376427838, 0.01446056045079959, 0.09296074575514021, 0.9708543527878327, 0.9274871226213538, 0.9872919052868995, 0.08163326475979943, 0.9096278073234794, 0.9654265625140307, 0.22412373528623025, 0.49307221762970654, 0.2689484823434763, 0.006149268778345266, 0.22137367602042957, 0.11068683801021478, 0.3382097828089896, 0.2521200199121559, 0.06149268778345266, 0.7940006734027, 0.27150668922584026, 0.1801817119407849, 0.07898376413842625, 0.007404727887977461, 0.22707832189797547, 0.14809455775954922, 0.05923782310381969, 0.027150668922584026, 0.9439487099229837, 0.9645299500680576, 0.21114215513090437, 0.20597132684198427, 0.10083115163394209, 0.0017236094296400356, 0.33955105763908705, 0.10858739406732225, 0.02843955558906059, 0.0034472188592800713, 0.9888748806496046, 0.3439831097569482, 0.00525165053064043, 0.6485788405340931, 0.1628122999295787, 0.8140614996478936, 0.9885372844370749, 0.9027043069067228, 0.038173768217772096, 0.9543442054443023, 0.3203961706845461, 0.6628886290025091, 0.8709091462790685, 0.9806741985154916, 0.9921230017796683, 0.21415116209141433, 0.27713679800065383, 0.4975865236829921, 0.047899710217038254, 0.45688954360867257, 0.49373547454485583, 0.9846105884290455, 0.014586823532282156, 0.07932837742845644, 0.9122763404272491, 0.2579502781324274, 0.5159005562648548, 0.940449922461407, 0.99455640659232, 0.11082606517134323, 0.4916130583241635, 0.05683387957504781, 0.116509453128848, 0.22165213034268647, 0.013048443347436506, 0.190507272872573, 0.10177785811000475, 0.14875225416077617, 0.5428152432533586, 0.983200811978865, 0.9840619045915244, 0.9780404287369531, 0.021089225592138224, 0.027578218082026908, 0.9327926704214983, 0.01784472934719388, 0.01908432469149446, 0.34351784444690026, 0.11450594814896675, 0.5216382082341818, 0.9794285826670203, 0.9837837648056983, 0.03328957928675646, 0.9653977993159372, 0.9623189105050731, 0.9952133936395937, 0.050479494914880164, 0.1514384847446405, 0.7740189220281626, 0.970155495254164, 0.9942678638197898, 0.8936850772955016, 0.013271215069558844, 0.15129185179297083, 0.8015813902013542, 0.013271215069558844, 0.021233944111294152, 0.997120231897004, 0.991636136798931, 0.9916755387032736, 0.5375257415774612, 0.3177638361811511, 0.011285070817648356, 0.09206241982818397, 0.02553989711362523, 0.015442728487308278, 0.40370840592804264, 0.0023965420751259955, 0.279306085482866, 0.019172336601007964, 0.015904324680381606, 0.1718974270249464, 0.033333721590388846, 0.020915276292008685, 0.043137757352267915, 0.010239770684629253, 0.6914788611762366, 0.11907642020255434, 0.037603080063964525, 0.05431556009239321, 0.03551402006041094, 0.060582740103053964, 0.9913619378856698, 0.6528557042617849, 0.005395501688113924, 0.11870103713850634, 0.16006655008071308, 0.035970011254092826, 0.014388004501637132, 0.010791003376227848, 0.9953520726317491, 0.27540388293721496, 0.13770194146860748, 0.013770194146860747, 0.571463057094721, 0.9823295938363711, 0.3702436808961236, 0.1674911889768178, 0.09696858309184189, 0.07052260588497593, 0.2909057492755257, 0.30589149260383774, 0.07059034444703947, 0.19259834719500896, 0.12810840288536796, 0.054032115502672194, 0.015686743210453217, 0.02178714334785169, 0.005228914403484406, 0.07494777311660981, 0.010457828806968812, 0.04357428669570338, 0.015686743210453217, 0.0618754871078988, 0.9848372807663351, 0.7783404015720085, 0.2082184513759513, 0.009915164351235777, 0.7283799974611544, 0.27116736084628007, 0.03294988037453706, 0.07688305420725315, 0.07871360311694965, 0.06589976074907412, 0.10068019003330769, 0.07505250529755664, 0.44116228723685735, 0.03111933146484056, 0.05674701620059161, 0.038441527103626576, 0.4000192287482847, 0.5778055526364112, 0.9817350139856744, 0.9814092794714613, 0.9610606605017165, 0.9689983796290813, 0.07245769995464706, 0.8614415439052484, 0.06440684440413072, 0.9681267873715352, 0.8583934328395019, 0.9826266291164868, 0.9899426788319362, 0.7312365088239602, 0.23573420930453157, 0.12594019401201, 0.03713621105482347, 0.042787373606644426, 0.0314850485030025, 0.28013620078312484, 0.012109634039616348, 0.1598471693229358, 0.0032292357438976926, 0.062970097006005, 0.008880398295718656, 0.952156663543107, 0.9468702183121247, 0.9446527819492643, 0.030804551495290544, 0.8625274418681352, 0.012321820598116219, 0.09241365448587163, 0.8878110110059417, 0.09864566788954908, 0.8936850772955016, 0.4297773602528398, 0.5679200831912526, 0.09512971503758709, 0.3567364313909516, 0.07134728627819033, 0.47564857518793546, 0.9824047255958747, 0.36419802160689835, 0.11395152823283324, 0.1899192137213887, 0.11842021561451296, 0.19662224479390833, 0.017874749526718938, 0.3320468322635041, 0.011319778372619459, 0.026412816202778737, 0.0037732594575398196, 0.037732594575398196, 0.06414541077817693, 0.045279113490477835, 0.44901787544723853, 0.030186075660318556, 0.18681335085197254, 0.11431861768553543, 0.23421375330695066, 0.08364776903819666, 0.050188661422917995, 0.2565198250504698, 0.0724947331664371, 0.6239880078963701, 0.6810912940443187, 0.3891654974831331, 0.3891654974831331, 0.4290816861746791, 0.1696323398314363, 0.7176752839022305, 0.10873867937912583, 0.8006536672651519, 0.19170580765503636, 0.9884347132582942, 0.014880482763475035, 0.31249013803297576, 0.12400402302895863, 0.004960160921158345, 0.06448209197505848, 0.034721126448108416, 0.12896418395011697, 0.31745029895413407, 0.004273333867924654, 0.9785934557547457, 0.01282000160377396, 0.013784310454689986, 0.15162741500158985, 0.5630360654954141, 0.11345547835783297, 0.010603315734376912, 0.08164553115470223, 0.0360512734968815, 0.028628952482817663, 0.7361401095769032, 0.002713047086892764, 0.10038274221503227, 0.007234792231714037, 0.07053922425921186, 0.05878268688267655, 0.024417423782034875, 0.9247009873746412, 0.07251940669762108, 0.14244883458461283, 0.2771277327373377, 0.5050458680727182, 0.2919059195574838, 0.13384954360196819, 0.05980511522641131, 0.028478626298291104, 0.4670494712919741, 0.01993503840880377, 0.9518092981209024, 0.9923811395031291, 0.36876686819815485, 0.023538310736052438, 0.15299901978434083, 0.1726142787310512, 0.27853667704328716, 0.9757269060451554, 0.9931487748340023, 0.9517183698676002, 0.9812245254446987, 0.9766414001039702, 0.6828802102221536, 0.08712609578696444, 0.10125465186052623, 0.12951176400764983, 0.16653022045442872, 0.33306044090885745, 0.07671616897338851, 0.026195765015303397, 0.007484504290086684, 0.003742252145043342, 0.1160098164963436, 0.01684013465269504, 0.20395274190486215, 0.022453512870260053, 0.026195765015303397, 0.07994175696904397, 0.07626627389000747, 0.20307044011676686, 0.26279704015111005, 0.19755721549821212, 0.11118336314085425, 0.011026449237109513, 0.022971769243978153, 0.03491708925084679, 0.1787383482481963, 0.822196401941703, 0.8989402994630059, 0.007990580439671163, 0.09189167505621838, 0.9894121163233341, 0.07533507953933923, 0.868864584020379, 0.020089354543823792, 0.03013403181573569, 0.9820304881556164, 0.9639562750375796, 0.9740715910896373, 0.03415527960667931, 0.42124844848237813, 0.4667888212912839, 0.06831055921335862, 0.9751407003845594, 0.9815087271801539, 0.19782373221013752, 0.7105505483466164, 0.08881881854332704, 0.15030098072787618, 0.32364811183402675, 0.397796595659779, 0.0170341111491593, 0.02304615037827435, 0.02404815691646019, 0.012024078458230095, 0.01603210461097346, 0.022044143840088508, 0.0010020065381858413, 0.012024078458230095, 0.9878768826833754, 0.9807066005694853, 0.09693054046167521, 0.00484652702308376, 0.17609048183870996, 0.5137318644468786, 0.07108239633856181, 0.021001617100029627, 0.11631664855401025, 0.978095773408765, 0.9941658907600761, 0.040665894150857355, 0.18741672956482086, 0.224546459006908, 0.1661997413121996, 0.380137706192797, 0.04147294804316688, 0.8836928159967097, 0.07337521576867986, 0.4853892133373748, 0.511626468112368, 0.9748645073558599, 0.12116722987104245, 0.12116722987104245, 0.12116722987104245, 0.6300695953294208, 0.9396896068673853, 0.8989427323640778, 0.43963708018499387, 0.5564156796091329, 0.09400140194555436, 0.2625556399168932, 0.04537998714612969, 0.03889713183953973, 0.07779426367907946, 0.4246270225816421, 0.0583456977593096, 0.9903121507429805, 0.8709563175348695, 0.995521057660536, 0.0040007620905110905, 0.5951133609635246, 0.02300438202043877, 0.17003238884672134, 0.1530291499620492, 0.005000952613138863, 0.03900743038248313, 0.010001905226277726, 0.9517009814918141, 0.9800381985515201, 0.9441757587398388, 0.8202648130924369, 0.014990219537507985, 0.007794914159504152, 0.04197261470502236, 0.023984351260012776, 0.007195305378003833, 0.0833456206285444, 0.9577034653998441, 0.1250457301195668, 0.8440586783070759, 0.9955260223596292, 0.21261723743342165, 0.11993792880859683, 0.14719654899236884, 0.5124620594549137, 0.031051504021926177, 0.9625966246797115, 0.13403358748971525, 0.2601828463035649, 0.08672761543452163, 0.36267911908981776, 0.14980224484144647, 0.9051589342937406, 0.9857485799669464, 0.15906832898175152, 0.550621138782986, 0.07341615183773148, 0.20801243020690585, 0.9977461903303336, 0.9946346761487695, 0.9966764478145146, 0.36822869605314185, 0.6137144934219031, 0.9798582770999259, 0.7288759495413403, 0.9919242370135203, 0.09655680791283881, 0.3191960592159961, 0.1149105813177586, 0.06782916258339917, 0.05346533991867934, 0.12129450250207852, 0.02713166503335967, 0.026333674885319677, 0.010373871924519874, 0.11570857146579858, 0.02713166503335967, 0.019151763552959767, 0.46612236761003395, 0.09151485534522781, 0.0658705826935431, 0.037209336788719, 0.06637341156906633, 0.13727228301784172, 0.007542433132848446, 0.04676308542366037, 0.03771216566424223, 0.016593352892266582, 0.015084866265696892, 0.012570721888080743, 0.5585816000937072, 0.05366286114437361, 0.04024714585828021, 0.04878441922215783, 0.10366689084708539, 0.08171390219711437, 0.08903156508043804, 0.012196104805539457, 0.012196104805539457, 0.4671432526394745, 0.01251276569570021, 0.1251276569570021, 0.008341843797133474, 0.29891606939728277, 0.05283167738184533, 0.03614798978757838, 0.04173394978882395, 0.03390883420341946, 0.005216743723602994, 0.2373618394239362, 0.6781766840683892, 0.9848544299975187, 0.9645009174274187, 0.11090993706618414, 0.07098235972235785, 0.008872794965294731, 0.8029879443591732, 0.9733842515180083, 0.9470136247772835, 0.7784318225334895, 0.21933714336578986, 0.987733155111312, 0.9909798942399134, 0.042517534999069684, 0.1372962067678292, 0.023916113436976697, 0.7741734497747272, 0.0053146918748837105, 0.010629383749767421, 0.007086255833178281, 0.1580364652391256, 0.8428611479420032, 0.9851269675161775, 0.8642041336818571, 0.9449395366402406, 0.028204801048497333, 0.9589632356489093, 0.9753844502958673, 0.9584690146708954, 0.20013930226891333, 0.25217552085883077, 0.16011144181513065, 0.3842674603563136, 0.1713111088452225, 0.822293322457068, 0.9547332730951017, 0.3718124126073374, 0.06822246102886925, 0.1535005373149558, 0.08527807628608657, 0.03752235356587809, 0.24218973665248583, 0.03752235356587809, 0.9097812812023607, 0.43467276059053805, 0.32907980308444174, 0.04765983355016053, 0.009078063533363911, 0.009078063533363911, 0.5923436455519951, 0.011347579416704888, 0.9473899487544859, 0.9584240933583579, 0.9867110760135401, 0.9870272256866952, 0.01917576981653206, 0.07375296083281561, 0.6903277133951541, 0.1342303887157244, 0.01327553294990681, 0.025076006683157306, 0.042776717283033054, 0.9089231085669012, 0.06339402186437448, 0.3169701093218724, 0.3803641311862469, 0.23244474683603975, 0.8401967092393605, 0.13266263830095168, 0.1686459558919373, 0.3947848512924895, 0.1533145053563066, 0.13798305482067597, 0.007665725267815331, 0.06899152741033798, 0.015331450535630661, 0.022997175803445992, 0.026830038437353657, 0.9688315467871341, 0.0008631490957418804, 0.002589447287225641, 0.09063065505289744, 0.6318251380830564, 0.10185159329754188, 0.006905192765935043, 0.13378810983999145, 0.0034525963829675215, 0.028483920159482052, 0.03176110495542192, 0.08407351311729332, 0.14572742273664174, 0.12143951894720145, 0.3250842507202008, 0.04857580757888058, 0.029892804663926513, 0.06725881049383466, 0.1363859212791647, 0.009341501457477036, 0.9854027274290627, 0.5332350469281179, 0.10278171415253672, 0.012298666650730889, 0.039531428520206434, 0.10014628558452296, 0.17218133311023245, 0.024597333301461778, 0.01405561902940673, 0.9913754424833375, 0.9794711435679061, 0.9602585794766927, 0.9399649123352997, 0.9709856287609887, 0.2936199118010144, 0.6921040778166767, 0.9953794570046661, 0.9818127892996631, 0.9336479544602314, 0.0565847245127413, 0.976046643617041, 0.9420104691479861, 0.04676647719174399, 0.9699889131268421, 0.061234779455562056, 0.07515177478637161, 0.7069833628051256, 0.022267192529295293, 0.13081975610960986, 0.9650393382769977, 0.24084581561832916, 0.7426079314898483, 0.7178736457103299, 0.9777372513422062, 0.406165220604175, 0.5222124264910821, 0.9405040584435502, 0.012968587495345239, 0.022695028116854168, 0.4117526529772113, 0.07456937809823512, 0.012968587495345239, 0.11347514058427084, 0.07456937809823512, 0.025937174990690478, 0.048632203107544646, 0.016210734369181547, 0.18156022493483334, 0.6340636383792476, 0.051016614582238315, 0.20771050222768456, 0.10567727306320793, 0.991776476601791, 0.9826199606984308, 0.8610918608206387, 0.13888578400332882, 0.9940266307968456, 0.9450736100417948, 0.06656991208116847, 0.24963717030438173, 0.1997097362435054, 0.43270442852759505, 0.04576681455580332, 0.9542623452670339, 0.018275566744614214, 0.39597061279997464, 0.5848181358276549, 0.9682942244598209, 0.23513787311881568, 0.2337786946614815, 0.11960770424540913, 0.07067727978137812, 0.05572631675070198, 0.25824390689349697, 0.021746855317347113, 0.002718356914668389, 0.987034592008517, 0.9903027156831908, 0.9511276134572763, 0.9749972197437166, 0.972754135746207, 0.9614823504144435, 0.0682466455582884, 0.9213297150368933, 0.9969458412900554, 0.25282784363530003, 0.001825471795200722, 0.07301887180802889, 0.16246698977286428, 0.1478632154112585, 0.03194575641601264, 0.07119340001282816, 0.065716984627226, 0.16064151797766354, 0.032858492313613, 0.9890239944447734, 0.9818042451742399, 0.9817223305339627, 0.9715287471261839, 0.9087569934008877, 0.14494183047203094, 0.8515332540231817, 0.4051169659788897, 0.10302366612026476, 0.18224106676254007, 0.0332466810985715, 0.0073881513552381105, 0.12970310156973572, 0.0073881513552381105, 0.039403473894603254, 0.04186619101301596, 0.04022437960074082, 0.005335887089894191, 0.0016418114122751357, 0.0032836228245502713, 0.8419886937817029, 0.9510699424091027, 0.3479212810058246, 0.635334513141071, 0.9778066132018787, 0.08891743104370962, 0.050809960596405496, 0.006351245074550687, 0.7939056343188359, 0.057161205670956186, 0.9650328495124877, 0.2463849593293814, 0.7391548779881443, 0.9867481967353433, 0.1294823750007043, 0.05599237837868295, 0.08048904391935674, 0.2869609391907501, 0.36395045946143917, 0.07698952027068906, 0.12288778834916396, 0.09083010443199074, 0.683897256899695, 0.0320576839171732, 0.07480126247340414, 0.11355126351945108, 0.8813740930319298, 0.03386014374265014, 0.025395107806987602, 0.01693007187132507, 0.1382622536158214, 0.7562098769191864, 0.025395107806987602, 0.04714829555828805, 0.942965911165761, 0.8847718802601077, 0.9119999277340788, 0.9782369557644434, 0.9779779173255154, 0.9828677989293193, 0.08710455267838747, 0.09678283630931941, 0.6871581377961679, 0.07742626904745553, 0.038713134523727766, 0.21338602463214149, 0.762092945114791, 0.004428193059772393, 0.22915899084322133, 0.3453990586622467, 0.30665236938923823, 0.11402597128913912, 0.21766679276721085, 0.28192678448858877, 0.008171790854741704, 0.153035356006981, 0.17420772322153905, 0.15897847662861134, 0.00594312062163033, 0.9832632523815048, 0.03483413257903491, 0.014928913962443531, 0.18412327220347022, 0.009952609308295687, 0.636966995730924, 0.03483413257903491, 0.07464456981221765, 0.9732585866783666, 0.9443527408190268, 0.9633517763799156, 0.1251777481898042, 0.7640159113653567, 0.10791185188776226, 0.9704702152461941, 0.9026348833486206, 0.9935619337453938, 0.9781331180330954, 0.8440582882529097, 0.1378054348168016, 0.044263970874251275, 0.07746194902993973, 0.6860915485508948, 0.01659898907784423, 0.1715228871377237, 0.9806741976442405, 0.9652838631545065, 0.9960673708469093, 0.9489513746283701, 0.9576517229327336, 0.9200110044278162, 0.009684326362398065, 0.06779028453678645, 0.840301573195254, 0.002373733257613712, 0.06527766458437707, 0.03323226560659196, 0.04510093189466052, 0.01424239954568227, 0.6969827746353864, 0.03713786779345925, 0.018137098224712656, 0.06304800811447733, 0.049229266609934354, 0.134732729669294, 0.03919131565171707, 0.022395037515266895, 0.727838719246174, 0.20715409701621879, 0.032513493704648136, 0.9661152415095445, 0.9754143267062659, 0.11095537713646511, 0.16771209022500272, 0.018865611674499832, 0.41360455425365306, 0.14213159981890128, 0.005275976146258427, 0.09113049707173647, 0.0073543909917541716, 0.0027179271056482807, 0.0003197561300762683, 0.038530613674190334, 0.0012790245203050732, 0.0018065196795233084, 0.9971988630968663, 0.9367263164735112, 0.05464236846095482, 0.14458106141016708, 0.03819122376872338, 0.010911778219635251, 0.05183094654326744, 0.010911778219635251, 0.005455889109817626, 0.7365450298253794, 0.7383620092241407, 0.9957463023051645, 0.9575453602417875, 0.006777336360840663, 0.14684228781821437, 0.7839119057372367, 0.027109345443362652, 0.03388668180420332, 0.13319267861754816, 0.09261053435126396, 0.30488636589798135, 0.034338737456086635, 0.17273425508213278, 0.03121703405098785, 0.043703847671382995, 0.00208113560339919, 0.09677280555806234, 0.05619066129177813, 0.032257601852687445, 0.6025979328204762, 0.2607260838441209, 0.05577028531425046, 0.01784649130056015, 0.051308662489110424, 0.0008365542797137569, 0.004182771398568785, 0.0019519599859987662, 0.004461622825140037, 0.996399870395949, 0.9753580936642585, 0.11898809511448413, 0.3611393062246624, 0.11168180857236669, 0.06471282365875453, 0.08558792806480438, 0.08036915196329192, 0.0824566624038969, 0.06366906843845203, 0.0020875104406049847, 0.028181390948167295, 0.9402780544014363, 0.8659984167290262, 0.8479397463835688, 0.9797530485896933, 0.8567857175528857, 0.07667732102613374, 0.06334213476071918, 0.11271010507742402, 0.8641108055935842, 0.9873139706594058, 0.9127347180669481, 0.08113197493928427, 0.9840919887224896, 0.020085335248441534, 0.9640960919251936, 0.9556786284502352, 0.9750387715260384, 0.024461164766365995, 0.2772265340188146, 0.03261488635515466, 0.5707605112152065, 0.08969093747667531, 0.4926476428492037, 0.08927012708978342, 0.027540783889401267, 0.03228919490481528, 0.07811136120356049, 0.028015624990942668, 0.0007122616523121017, 0.05840545548959234, 0.050570577314159225, 0.14268975101319104, 0.46162898252820267, 0.44503108652718865, 0.0010373685000633769, 0.06535421550399274, 0.021784738501330912, 0.0041494740002535075, 0.9847104134658599, 0.5476573018956684, 0.4467730620727821, 0.27552335858520477, 0.10632229190217446, 0.3749861477840131, 0.04458676757187961, 0.06402202523141688, 0.073168028835905, 0.049159769374123675, 0.011432504505610156, 0.9766835843991757, 0.7940006734027, 0.9978076778154823, 0.9337110252535094, 0.940435135338867, 0.052246396407714835, 0.9679758404424349, 0.4794610801937592, 0.2092797786527032, 0.10408623911827566, 0.04816756810260629, 0.07252817725794741, 0.06699167517718806, 0.0005536502080759345, 0.0016609506242278031, 0.006090152288835278, 0.011073004161518688, 0.4468932192010199, 0.08619185827089654, 0.28064909949182165, 0.06727169426021193, 0.0010511202228158114, 0.16082139409081914, 0.055709371809238004, 0.27329125793211095, 0.07568065604273842, 0.26191212816351017, 0.6984323417693604, 0.9290154840081591, 0.2827855774008693, 0.17332019260053277, 0.3740067314011497, 0.04409022443346886, 0.00456105770001402, 0.01824423080005608, 0.04561057700014021, 0.03952916673345484, 0.016723878233384743, 0.9645659612804005, 0.3038973866397017, 0.10129912887990057, 0.4682695580297291, 0.04395999932523987, 0.04204869500675118, 0.00382260863697738, 0.02866956477733035, 0.00573391295546607, 0.9044801857259757, 0.8626345806052443, 0.09094234071874134, 0.17051688884764002, 0.6706997628007174, 0.05683896294921334, 0.9439487099229837, 0.93587297653474, 0.8210187073356482, 0.09454154811743827, 0.08458980621033951, 0.03372517659649506, 0.9443049447018615, 0.47615139968096604, 0.9565774502563504, 0.08431844262220918, 0.9106391803198592, 0.16191703010503003, 0.016606874882567183, 0.7348542135535978, 0.04982062464770155, 0.033213749765134366, 0.9660352947516386, 0.0185301218383617, 0.9635663355948084, 0.9557845230676931, 0.016812248577165255, 0.05463980787578708, 0.06472715702208623, 0.16139758634078646, 0.6514746323651537, 0.01513102371944873, 0.005043674573149577, 0.029421435010039198, 0.9910631172870779, 0.05784304203997197, 0.11831531326357903, 0.531104295094288, 0.22874293897625278, 0.06310150040724215, 0.03214723949805082, 0.6215132969623158, 0.04286298599740109, 0.3000409019818076, 0.9488730228143282, 0.9843043558793488, 0.8997202135781623, 0.02801543100598227, 0.0840462930179468, 0.8684783611854504, 0.9238235176287795, 0.04853060562781847, 0.09937219247600924, 0.09012826759452001, 0.12479298590010464, 0.07857336149265848, 0.22416517837611388, 0.02310981220372308, 0.21954321593536927, 0.03928668074632924, 0.020798830983350773, 0.030042755864840006, 0.975491486236116, 0.02379247527405161, 0.9407925568487749, 0.9831313509260513, 0.016726155912350608, 0.9408462700697215, 0.004181538978087652, 0.036797543007171335, 0.9946175286008214, 0.18694009936460287, 0.06854470310035439, 0.1682460894281426, 0.498506931638941, 0.012462673290973525, 0.062313366454867625, 0.9814936186325969, 0.16398274336106283, 0.18584710914253788, 0.5848717846544574, 0.019131320058790664, 0.04372873156295009, 0.9851684173414262, 0.07841001598975818, 0.15000176971953738, 0.623870996788076, 0.06818262259978973, 0.08181914711974766, 0.21119711992534962, 0.7787893797247267, 0.9822032379258808, 0.9893929168780373, 0.9488055474946033, 0.9893910901463127, 0.9858772736510535, 0.005799278080300315, 0.06216842953271016, 0.01695502623619368, 0.01130335082412912, 0.9042680659303296, 0.47081338806785544, 0.05070298025346136, 0.0627751184090474, 0.3742362828231671, 0.03863084209787532, 0.9943698932284972, 0.8461600158278924, 0.18595188865628948, 0.04648797216407237, 0.2159441287621426, 0.014996120052926571, 0.46937855765660164, 0.04498836015877971, 0.022494180079389855, 0.9982664023189287, 0.3589487687065711, 0.6393774942585798, 0.7446137070213558, 0.10162706762496194, 0.11139890105043906, 0.02736113359133591, 0.013680566795667955, 0.9936008580409817, 0.15119948676287992, 0.8063972627353596, 0.23667029978645146, 0.7517762463804929, 0.9867845844315939, 0.05303624464686802, 0.06961007109901428, 0.06298054051815577, 0.08618389755116053, 0.7259335986040061, 0.032046379991425324, 0.522495325947152, 0.40545637293498993, 0.03901298433738735, 0.06112307698254316, 0.03565512823981685, 0.12988653858790422, 0.08659102572526949, 0.05857628210827053, 0.05857628210827053, 0.5679352569627969, 0.9958981349950956, 0.8607074098243216, 0.05590567395318308, 0.9224436202275207, 0.7024684850147883, 0.17957323661984304, 0.0832504277049847, 0.026144762419747263, 0.007568220700453154, 0.8672188442666104, 0.2485120442741693, 0.05831510064195309, 0.10317287036653239, 0.11035011352246507, 0.00897155394491586, 0.29067834781527385, 0.07805251932076798, 0.03140043880720551, 0.00897155394491586, 0.06100656682542784, 0.01869353516894018, 0.03349258384435116, 0.7773395041084291, 0.007010075688352567, 0.09580436774081842, 0.06698516768870232, 0.9439476486273084, 0.122140974349469, 0.8549868204462829, 0.9042061374994562, 0.9528097472571727, 0.13548449537412005, 0.8580684707027603, 0.911542222405109, 0.9203882510272244, 0.6124171467331468, 0.3503233678346391, 0.0337348428285208, 0.9756396769041399, 0.9938282554295814, 0.3267736337845773, 0.029887832358345485, 0.009962610786115163, 0.1713569055211808, 0.027231136148714776, 0.31415432678883143, 0.004649218366853742, 0.10958871864726678, 0.0019925221572230324, 0.001328348104815355, 0.003320870262038387, 0.9769220713746453, 0.980123026711948, 0.009910543083260509, 0.03303514361086836, 0.42284983821911504, 0.07267731594391039, 0.029731629249781524, 0.43276038130237554, 0.15609159862164013, 0.8428946325568567, 0.8835108378080032, 0.9602509179288542, 0.06100907715983146, 0.8388748109476826, 0.09151361573974719, 0.07506922143633205, 0.6943902982860715, 0.024772843073989578, 0.021019382002172973, 0.09721464176005, 0.038660649039711004, 0.0037534610718166026, 0.0026274227502716217, 0.0018767305359083013, 0.008632960465178186, 0.03227976521762278, 0.2780069845941464, 0.026063154805701226, 0.01737543653713415, 0.12162805575993905, 0.5386385326511587, 0.8382228256708194, 0.03968799382911588, 0.45475826262528607, 0.14221531122099856, 0.021497663324104434, 0.00992199845727897, 0.18024963864056795, 0.15048364326873104, 0.06391215111843623, 0.08521620149124831, 0.841509989726077, 0.9916305467855197, 0.9695277289803694, 0.9920825197968219, 0.03871613602396749, 0.9582243665931954, 0.38113177568583817, 0.05359665595582099, 0.07741739193618588, 0.06252943194845782, 0.42579565564902233, 0.25707632853142526, 0.7361731226127177, 0.04067574212567907, 0.0569460389759507, 0.02440544527540744, 0.30913564015516093, 0.5613252413343712, 0.04212625882664703, 0.947840823599558, 0.5844711606921811, 0.1859680965838758, 0.026566870940553686, 0.1594012256433221, 0.4229507554356261, 0.00203341709344051, 0.13217211107363316, 0.03253467349504816, 0.17080703584900284, 0.07726984955073939, 0.02846783930816714, 0.13420552816707365, 0.7815147937194001, 0.09336681163904338, 0.12103105212468586, 0.02746033190435169, 0.9679766996283969, 0.9136070681119227, 0.31173631698442966, 0.6849995386368388, 0.20347266777669626, 0.794325991512872, 0.2032489063589377, 0.7271794205286438, 0.06323299308944728, 0.896332558189161, 0.11359057562580838, 0.25242350139068526, 0.06310587534767131, 0.2776658515297538, 0.11359057562580838, 0.1766964509734797, 0.9692121064304356, 0.1526977413772638, 0.008036723230382304, 0.1607344646076461, 0.12055084845573458, 0.12055084845573458, 0.4339830544406445, 0.9253189458657214, 0.02185792785509578, 0.05100183166189016, 0.09373922776688896, 0.899896586562134, 0.08817364409709282, 0.9069289107129547, 0.5444018057432883, 0.2246058530571524, 0.018717154421429363, 0.11123337484735166, 0.027273567871225646, 0.02192580946510297, 0.04919937733632861, 0.002673879203061338, 0.11743517218751873, 0.058717586093759364, 0.07339698261719921, 0.557817067890714, 0.058717586093759364, 0.13211456871095856, 0.9791898270946949, 0.9799585450043279, 0.9363193463895945, 0.16375014430833645, 0.27966316780749595, 0.26862383223614744, 0.003679778523782841, 0.016559003357022786, 0.14167147316563938, 0.11591302349915951, 0.011039335571348525, 0.9347298836712994, 0.011024779051416661, 0.9040318822161663, 0.08084837971038884, 0.03444991271579893, 0.809572948821275, 0.1550246072210952, 0.9608094679896554, 0.9460348952793544, 0.9494773275916667, 0.04683618697573405, 0.6213600805447385, 0.04059136204563618, 0.15143700455487344, 0.0843051365563213, 0.024979299720391493, 0.02810171218544043, 0.0015612062325244683, 0.12151082523327535, 0.28568957383090693, 0.001855127102798097, 0.4776952289705099, 0.09646660934550104, 0.01762370747658192, 0.30303665151199444, 0.26102839611721, 0.09652278529641305, 0.13564497734346417, 0.2033071291625444, 0.9974158857853265, 0.13409830491571545, 0.08381144057232215, 0.7710652532653638, 0.1026205660018258, 0.11194970836562815, 0.05364256859186348, 0.10028828041087522, 0.006996856772851759, 0.2892034132778727, 0.1679245625484422, 0.023322855909505863, 0.030319712682357624, 0.004664571181901173, 0.11194970836562815, 0.3106686015007307, 0.23757010702997053, 0.01827462361769004, 0.00913731180884502, 0.429453655015716, 0.12992956110370157, 0.8661970740246773, 0.8352288505616923, 0.0392389392881332, 0.005605562755447599, 0.11771681786439958, 0.030020969403234198, 0.9606710209034943, 0.9851973462073012, 0.0806681461421788, 0.8873496075639669, 0.9898879305849647, 0.9858473674052788, 0.7200918526119772, 0.2400306175373257, 0.9736605421446088, 0.972219376590221, 0.9575582749556109, 0.9870587014222174, 0.9600155619967342, 0.959523815177268, 0.07747848416035202, 0.9039156485374402, 0.06116051729141989, 0.1141662989439838, 0.5912183338170589, 0.08154735638855985, 0.14678524149940775, 0.9963931391223374, 0.9576515012461582, 0.04906920990450945, 0.9519426721474833, 0.7167716832179879, 0.2543383392063828, 0.6025955973321275, 0.22511543955004307, 0.04392496381464255, 0.1276569260863049, 0.0013726551192075798, 0.9503398369220339, 0.1316634809515307, 0.86312726401559, 0.9816775357977335, 0.9939774922462021, 0.9908269078767263, 0.19459518358485423, 0.7898275098444083, 0.2413592144171249, 0.007478736221375701, 0.08090632821306441, 0.1876482906454267, 0.04691207266135668, 0.23524024841781752, 0.08906494954547427, 0.11082127309856722, 0.3026924472335786, 0.6861028803961114, 0.9955264133104578, 0.16876439337371485, 0.7875671690773359, 0.16622949860056319, 0.7480327437025344, 0.08311474930028159, 0.8438800811930693, 0.9855190180650508, 0.32203040305456654, 0.25444377525299083, 0.16499088551561125, 0.003975683988327982, 0.0218662619358039, 0.025841945924131884, 0.001987841994163991, 0.01987841994163991, 0.009939209970819955, 0.08348936375488762, 0.09342857372570758, 0.017618412298968333, 0.47569713207214503, 0.07634645329552944, 0.12920169019243444, 0.058728040996561114, 0.23491216398624445, 0.9091721086911516, 0.9695874213995805, 0.9540872645281456, 0.07327913603698154, 0.05495935202773616, 0.8656097944368445, 0.10173585224277396, 0.23379681428868246, 0.13401742074288492, 0.08901887071242721, 0.15945138380357843, 0.012716981530346744, 0.05771553156080446, 0.024455733712205278, 0.024455733712205278, 0.03423802719708739, 0.06847605439417478, 0.05967199025778088, 0.0019564586969764222, 0.03438292532780053, 0.036531858160788064, 0.027936126828837934, 0.8810624615248887, 0.0193403954968878, 0.9818746202690293, 0.9379075956525107, 0.9181880789407817, 0.10237284202212713, 0.9008810097947187, 0.04318453333388693, 0.10076391111240283, 0.057579377778515906, 0.25910720000332155, 0.5182144000066431, 0.8348683513873865, 0.16407817310503547, 0.11718664023225596, 0.14020544456359196, 0.17368734177280795, 0.012555711453455996, 0.5524513039520639, 0.0041852371511519985, 0.9668866337055321, 0.9797965469483112, 0.9255134967653098, 0.07268430602868925, 0.9506832504835064, 0.9897369853168172, 0.924645541227354, 0.9414331060316228, 0.5080713270762843, 0.5949012206590824, 0.780672452411246, 0.022304927211749887, 0.02602241508037487, 0.16728695408812416, 0.790362089369673, 0.19252409869261267, 0.2562457754604498, 0.5124915509208996, 0.9416374520238088, 0.36738948053953363, 0.6330021455241964, 0.7349983889939908, 0.944810723881306, 0.2752516272528517, 0.719888871276689, 0.9852709743080311, 0.9937838163089882, 0.15382822161992196, 0.20852270041811644, 0.19143067579368067, 0.023928834474210084, 0.08546012312217888, 0.3350036826389412, 0.529332853426771, 0.1285900109822106, 0.011449795498416014, 0.026422604996344645, 0.08279082898854656, 0.07310254048988685, 0.014972809497928632, 0.019376576997319407, 0.03963390749451697, 0.0722217869900087, 0.028703969295674755, 0.9472309867572669, 0.9788633036927431, 0.13287867810708417, 0.8637114076960472, 0.9960526065452892, 0.9927778779192961, 0.022233401792294882, 0.377967830469013, 0.044466803584589765, 0.11116700896147441, 0.44466803584589765, 0.9834609888048557, 0.3873212047893134, 0.12016290389547976, 0.17266125996632045, 0.3196566569646743, 0.06823678149894578, 0.09882568355019733, 0.7435456190919609, 0.058824811637022224, 0.028235909585770668, 0.04233152450520306, 0.08598590915119371, 0.11773455253009601, 0.23679196520097961, 0.2116576225260153, 0.046300104927565845, 0.1269945735156092, 0.010582881126300766, 0.1217031329524588, 0.07240938706591361, 0.4163539756290033, 0.12219084067372922, 0.14934436082344682, 0.05883262699105481, 0.17649788097316443, 0.5994350789089021, 0.19981169296963402, 0.09990584648481701, 0.0894684788300754, 0.8946847883007539, 0.13276330814319495, 0.03168215307962607, 0.29570009540984327, 0.2489312027684905, 0.1387980039678856, 0.010560717693208689, 0.14181535188023095, 0.9762412202396104, 0.016003954430157546, 0.9895645198058225, 0.21843086148084503, 0.10550622743225722, 0.017721749139011953, 0.3148701474931426, 0.05563804962247939, 0.028025091661693324, 0.10962756444132976, 0.042037637492539984, 0.03626776567983842, 0.0053577381117943116, 0.0028849359063507834, 0.004533470709979803, 0.05893511922973743, 0.9938781091402357, 0.30362657279028277, 0.05520483141641505, 0.6348555612887731, 0.015597902248684495, 0.23656818410504818, 0.21317133073202144, 0.03899475562171124, 0.04159440599649199, 0.10398601499122996, 0.07538986086864173, 0.17417657511031018, 0.10138636461644922, 0.9932003622606889, 0.09622154287474581, 0.2592636016347318, 0.005345641270819212, 0.3218076045033166, 0.14700513494752834, 0.038488617149898326, 0.09889436351015542, 0.013898667304129952, 0.01336410317704803, 0.005345641270819212, 0.9076609553570644, 0.12028074264207762, 0.6014037132103881, 0.24056148528415525, 0.21483057345693146, 0.24460906878759525, 0.0957165921342764, 0.0021270353807616976, 0.01914331842685528, 0.22333871497997826, 0.05742995528056584, 0.00850814152304679, 0.03615960147294886, 0.0978436275150381, 0.9629543036747519, 0.2021671033014987, 0.0823643754191291, 0.41743762996513156, 0.04305410533272658, 0.2096547737941468, 0.028078764347430375, 0.016847258608458225, 0.9060824374195952, 0.08144561235232316, 0.07170748926948586, 0.06772373986562553, 0.07369936397141602, 0.268903084760572, 0.39439119098217224, 0.0159349976154413, 0.0697156145675557, 0.037845619336673096, 0.07969240971398275, 0.17532330137076207, 0.1673540603993638, 0.5737853499406759, 0.01886701286839323, 0.1823811243944679, 0.795559042617248, 0.9923068311730328, 0.9603958218737657, 0.4764834772808993, 0.06806906818298561, 0.13897434754026228, 0.09146781037088692, 0.11699371093950652, 0.013472003077882568, 0.018435372632891935, 0.03474358688506557, 0.03970695644007494, 0.6843382805890025, 0.8012709486098295, 0.5066233149880568, 0.0026386630988961294, 0.021109304791169035, 0.45385005301013426, 0.013193315494480646, 0.7099190520772666, 0.9769179334504086, 0.9464135583354106, 0.5113190396264833, 0.43408624445591043, 0.9937851571092151, 0.9712435626759813, 0.025064350004541453, 0.9918076182410789, 0.47175027631283245, 0.03489659578204514, 0.018094531146245627, 0.0012924665104461163, 0.033604129271599024, 0.29855976391305283, 0.09047265573122813, 0.016802064635799512, 0.03489659578204514, 0.268015356892269, 0.7325753088388686, 0.9841501833697576, 0.9924090662935766, 0.022817108703850196, 0.032958045905561395, 0.05577515460941159, 0.7047951355189283, 0.14704358942481238, 0.03549328020598919, 0.9500885731432347, 0.03654186819781672, 0.9606489502830508, 0.029110574251001536, 0.16789288738826835, 0.7555179932472075, 0.35577463572052187, 0.5336619535807827, 0.06864104928476178, 0.5354001844211419, 0.1804279009770881, 0.16669969112013575, 0.03333993822402715, 0.015689382693659836, 0.14526022199494157, 0.8473512949704924, 0.9737636520795142, 0.057717368633912025, 0.02308694745356481, 0.3501520363790663, 0.16160863217495366, 0.003847824575594135, 0.04617389490712962, 0.003847824575594135, 0.3039781414719367, 0.04617389490712962, 0.9861128426342531, 0.18481520041547617, 0.15401266701289681, 0.6468532014541666, 0.7967924978847891, 0.02716338060970872, 0.022636150508090598, 0.0015090767005393733, 0.04979953111779932, 0.10110813893613801, 0.7996647200111971, 0.002055693367638039, 0.002055693367638039, 0.03289109388220862, 0.004111386735276078, 0.158288389308129, 0.7958358055654668, 0.19589804444688416, 0.06363007412098502, 0.2324945015959068, 0.061182763577870204, 0.5114879035109949, 0.04160427923295174, 0.019578484344918465, 0.061182763577870204, 0.009789242172459233, 0.1236786155554479, 0.6871034197524883, 0.07558137617277372, 0.03435517098762442, 0.02061310259257465, 0.05496827358019907, 0.04541457760483084, 0.32763373843485105, 0.2951947544314005, 0.021625989335633734, 0.2681622677618583, 0.041089379737704095, 0.07858692249325455, 0.048361183072772033, 0.22367047171157065, 0.5924244926414574, 0.05440633095686854, 0.9612219011602087, 0.006782220634481931, 0.7799553729654221, 0.10173330951722896, 0.11529775078619282, 0.988061435163244, 0.9954845799442364, 0.9690591381290289, 0.9673432683894353, 0.13019118460855506, 0.3471764922894801, 0.5099154730501739, 0.3376744153297817, 0.6588769079605497, 0.9964548568514184, 0.0637541995321738, 0.6298914913778771, 0.09435621530761723, 0.007650503943860857, 0.053553527607025996, 0.07395487145732162, 0.01275083990643476, 0.0637541995321738, 0.975691790887229, 0.9668529774355971, 0.02177687220851932, 0.24265657603778668, 0.03422079918481607, 0.6253073305589119, 0.029554326568704787, 0.04355374441703864, 0.0431955194814963, 0.08130921314164011, 0.06606373567758259, 0.8080103055950485, 0.6469130975504047, 0.22336111247800505, 0.0018536191906888388, 0.07414476762755355, 0.04448686057653213, 0.0018536191906888388, 0.007414476762755355, 0.024964089836292908, 0.36197930262624717, 0.012482044918146454, 0.07073158786949657, 0.14146317573899314, 0.08321363278764302, 0.045767498033203666, 0.2579622616416934, 0.07341502995600079, 0.9268647531945099, 0.11895381059061842, 0.013961714858053805, 0.6908256511765023, 0.0005584685943221522, 0.09605659822341017, 0.011169371886443043, 0.04020973879119496, 0.014520183452375957, 0.013403246263731653, 0.9439487099229837, 0.9671084117644495, 0.8680580966868128, 0.13041248400928643, 0.8003369184584611, 0.031668007564903136, 0.10076184225196452, 0.06621492490843384, 0.27230736962919644, 0.7165983411294643, 0.9881135931506853, 0.9874567421889908, 0.9905894350277107, 0.9962004482931632, 0.9785203447521005, 0.015656325516033607, 0.2332813794528237, 0.02827653084276651, 0.007069132710691628, 0.7281206692012376, 0.9461627109542731, 0.042764416314317426, 0.005345552039289678, 0.8417329914946746, 0.9694579298625892, 0.09498738981298735, 0.26596469147636453, 0.6364155117470152, 0.07195658405720015, 0.8728646500851671, 0.050056754126747934, 0.044916933570245204, 0.029196006820659384, 0.5929035231272367, 0.1908969676735421, 0.12576741399668656, 0.01572092674958582, 0.9793137565258363, 0.01632189594209727, 0.09794403070891994, 0.8185322566388309, 0.013992004386988562, 0.027984008773977123, 0.03498001096747141, 0.007001713900991543, 0.95223309053485, 0.03500856950495772, 0.9865711701878158, 0.9488774159967416, 0.9875656156042119, 0.03256410520743536, 0.20045015872132438, 0.12410542317944812, 0.23988890836144053, 0.15196582430136504, 0.026051284165948294, 0.05680627241741503, 0.026774930948335746, 0.007236467823874526, 0.026051284165948294, 0.04667521746399069, 0.03509686894579145, 0.006874644432680799, 0.019538463124461218, 0.11127344461249881, 0.6696276934716446, 0.21857283763169408, 0.9492290527968892, 0.9719970188810004, 0.16605265248764528, 0.18977445998588033, 0.14233084498941023, 0.4744361499647008, 0.9849962687994959, 0.8460372849003234, 0.1261634547658377, 0.0222641390763243, 0.9392070862129949, 0.13854162064953462, 0.0989583004639533, 0.7322914234332545, 0.1659067186259356, 0.1148584975102631, 0.4785770729594296, 0.12762055278918122, 0.09571541459188593, 0.012762055278918123, 0.27653639276957126, 0.09217879758985709, 0.19249101849646627, 0.08675651537868903, 0.02440026995025629, 0.30907008603657965, 0.021689128844672258, 0.24971822922628825, 0.7241828647562359, 0.950794362182682, 0.046006178815291066, 0.9536427032862047, 0.04029476211068471, 0.9830470167962805, 0.4435909125021839, 0.31760059415836833, 0.015748789792976944, 0.06561995747073726, 0.15748789792976944, 0.041749932795489005, 0.9518984677371494, 0.3218499411372387, 0.257479952909791, 0.33794243819410064, 0.08046248528430967, 0.982396827165318, 0.9896142755960946, 0.991199042211316, 0.09110453682527159, 0.20179229184662958, 0.048532323355518506, 0.12941952894804934, 0.1549628570299012, 0.08940164828648146, 0.0059601098857654305, 0.09876753524982713, 0.015325996849111108, 0.08259009413132097, 0.08088720559253085, 0.20222582817725834, 0.3883540779921479, 0.155945290385448, 0.19216484170077783, 0.014085381067072722, 0.008048789181184412, 0.015091479714720772, 0.009054887828832464, 0.01307928241942467, 0.9492631890092702, 0.982970600365189, 0.03915072372911457, 0.952667610741788, 0.9738447114950213, 0.036314885921047375, 0.22999427749996673, 0.5144608838815046, 0.19367939157891936, 0.01210496197368246, 0.7076527221361529, 0.9800952914672766, 0.06628892874252526, 0.7954671449103031, 0.13257785748505052, 0.028861089329985254, 0.0014800558630761668, 0.6934061718511841, 0.11988452490916951, 0.1561458935545356, 0.9300467737006367, 0.20956619629550138, 0.7858732361081302, 0.14294744408662322, 0.37601392901046543, 0.04972085011708634, 0.1911145176375506, 0.026414201624702118, 0.003107553132317896, 0.05748973294788108, 0.041951967286291594, 0.006215106264635792, 0.09322659396953688, 0.012430212529271584, 0.22158539324704662, 0.07693937265522452, 0.0630902855772841, 0.16311147002907597, 0.07078422284280655, 0.09386603463937392, 0.1261805711545682, 0.05693513576486614, 0.05847392321797063, 0.06770664793659757, 0.9760760022431758, 0.9878375778319066, 0.07741774243129178, 0.279894914943901, 0.0416864766937725, 0.37517829024395244, 0.23225322729387532, 0.17973761977262234, 0.7988338656560993, 0.05785460104011614, 0.7762158972882248, 0.06267581779345915, 0.024106083766715056, 0.024106083766715056, 0.04821216753343011, 0.7641922774493901, 0.044372454819642006, 0.18735036479404402, 0.17222924774034534, 0.04951590872534929, 0.1141018766279788, 0.1011846830474529, 0.4973119528502472, 0.0645859679026295, 0.7606579718663802, 0.23632092329829288, 0.480228660557649, 0.43245722311997714, 0.08297144397069328, 0.9939193914963801, 0.030293406995222934, 0.01570769251604152, 0.3231296746157113, 0.03590329717952348, 0.06283077006416608, 0.2917142895836283, 0.23785934381434304, 0.8246031289953316, 0.16492062579906633, 0.9881376029167227, 0.9037810436489934, 0.8599228593499877, 0.2178747487275936, 0.24947490312319878, 0.01781963593737134, 0.38846806343469525, 0.08695982337437215, 0.006415068937453683, 0.0035639271874742685, 0.029699393228952237, 0.044856342301965633, 0.33368742444145166, 0.01531679981042729, 0.5814913642315789, 0.009299485599187998, 0.01531679981042729, 0.9847925421383872, 0.9926123973087716, 0.9658957303160155, 0.13586655733799677, 0.3372402048210991, 0.3578628072741879, 0.0024261885238927995, 0.04124520490617759, 0.10675229505128317, 0.018196413929195996, 0.044479415933243, 0.9203817604647975, 0.006842987066652769, 0.027371948266611077, 0.10300640932501512, 0.8953634041328238, 0.9695277289803694, 0.9823541767538442, 0.5382712673951174, 0.9853482309610521, 0.985248181371262, 0.02465193661386477, 0.9624973512717636, 0.0005359116655187994, 0.011790056641413586, 0.0005359116655187994, 0.03125936043627325, 0.16969367093976903, 0.058053097953078885, 0.026793737516805638, 0.4979169555206381, 0.004465622919467606, 0.058053097953078885, 0.136201499043762, 0.017862491677870424, 0.9613870545432556, 0.9308415594388532, 0.9716686538228935, 0.04891912298620074, 0.02247635380447061, 0.8646785522425753, 0.06346264603615231, 0.7908326395739214, 0.09374542329273497, 0.8718324366224351, 0.028123626987820487, 0.886336333206869, 0.8900313885469673, 0.3604940062096153, 0.6385431948555966, 0.9763989181449791, 0.052472045597920576, 0.049192542748050544, 0.08526707409662095, 0.8100372039178989, 0.21639181592293213, 0.7776580884730374, 0.9713111758826836, 0.9800198097077817, 0.6205430542669779, 0.37664802298791694, 0.15535521935192828, 0.8400689639030195, 0.11521209403832475, 0.15101398307359856, 0.02261171939069925, 0.3908597208963727, 0.12436445664884586, 0.017766350949835124, 0.09098525183400412, 0.022342532255095686, 0.00538374271207125, 0.042800754560966436, 0.0018843099492249374, 0.011575046830953187, 0.00323024562724275], \"Term\": [\"Af_bevelen\", \"Brussels\", \"Brussels\", \"Brussels\", \"Brussels\", \"Duits\", \"Kamer\", \"Locomotorische\", \"Regering\", \"Regering\", \"Rupo\", \"Rupo\", \"Vlaams\", \"Vlaams\", \"Vlaams\", \"Waals\", \"Waals\", \"Waals\", \"Waals\", \"_daerod\", \"aan_nemen\", \"aan_nemen\", \"aan_nemen\", \"aan_nemen\", \"aan_nemen\", \"aan_nemen\", \"aan_nemen\", \"aan_vullen\", \"aan_vullen\", \"aan_vullen\", \"aan_vullen\", \"aan_vullen\", \"aan_vullen\", \"aan_vullen\", \"aan_vullen\", \"aandeel\", \"aandeel\", \"aangaan_namens\", \"aangelegenheid\", \"aangelegenheid\", \"aangelegenheid\", \"aangelegenheid\", \"aangelegenheid\", \"aangemerken\", \"aangerekend\", \"aangerekend\", \"aangerekend\", \"aangerekend\", \"aangeschaft\", \"aangifte\", \"aangifte\", \"aanhef\", \"aankomst\", \"aankomst\", \"aanmaak\", \"aanmaak\", \"aanmerking\", \"aanmerking\", \"aanmerking\", \"aanmerking\", \"aanmerking\", \"aanslagjaar\", \"aanslagjaar\", \"aanslagjaar\", \"aanslagjaar_afgekort\", \"aanslagjaar_zijnde\", \"aansprakelijk\", \"aanstelling\", \"aantal\", \"aantal\", \"aantal\", \"aantal\", \"aantal\", \"aantal\", \"aantal\", \"aantal\", \"aantal\", \"aantal\", \"aanvang\", \"aanvang\", \"aanvraag\", \"aanvraag\", \"aanvraag\", \"aanvraag\", \"aanvraag\", \"aanvraag\", \"aanvraag\", \"aanvraag\", \"aanvrager\", \"aanvrager\", \"aanvrager\", \"aanvullende_crisisuitkering\", \"aanwezig\", \"aanwezig\", \"aanwezig\", \"aanwezig\", \"aanwezig\", \"accountant\", \"acht\", \"activiteit\", \"activiteit\", \"activiteit\", \"activiteit\", \"activiteit\", \"activiteit\", \"activiteit\", \"activiteit\", \"activiteit\", \"actor\", \"actueel\", \"ad_hoc\", \"adjunct_directeur\", \"administratie\", \"administratie\", \"administratie\", \"administratie\", \"administratief\", \"administratief\", \"administratief\", \"administratief\", \"administratief\", \"administratief\", \"administratief\", \"administratief\", \"administratief\", \"administratief\", \"administratieve_toeslag\", \"adresseren\", \"adresseren\", \"advies\", \"advies\", \"advies\", \"advies\", \"advies\", \"advies\", \"advies\", \"advies\", \"advies\", \"adviseren\", \"af_b_eve\", \"af_bevelen\", \"af_bevelen\", \"afdoende_verantwoording\", \"afgevlaken\", \"afgevlakte\", \"afnemer\", \"afnemer\", \"aftrekbaar\", \"aftrekbaar\", \"afwijking\", \"afwijking\", \"afwijking\", \"afwijking\", \"afwijking\", \"afwijking\", \"afwijking\", \"agent\", \"agentschap\", \"agentschap\", \"aj\", \"akkoord\", \"akkoord\", \"akkoord\", \"akkoord\", \"akkoord\", \"akkoord\", \"akkoord_verlengt\", \"akte\", \"akte\", \"akte\", \"akte\", \"akte\", \"aldus\", \"aldus\", \"aldus\", \"algemeen\", \"algemeen\", \"algemeen\", \"algemeen\", \"algemeen\", \"algemeen\", \"algemeen\", \"algemeen\", \"algemeen\", \"algemeen\", \"algemeen\", \"algemeen_verbindend\", \"alinea\", \"ambt\", \"ambt\", \"ambtenaar\", \"ambtenaar\", \"ambtenaar\", \"ambtenaar\", \"ambtenaar\", \"ambtenaar\", \"ambtenaar\", \"ambtenare_nzak\", \"ambtenarenzak\", \"ambtenarenzaken\", \"apotheek\", \"apparatuur\", \"applicatie\", \"arbeider\", \"art\", \"art\", \"art\", \"art\", \"art\", \"art\", \"art\", \"art\", \"art\", \"art\", \"artikel\", \"artikel\", \"artikel\", \"artikel\", \"artikel\", \"artikel\", \"artikel\", \"artikel\", \"artikel\", \"artikel\", \"artikel\", \"artikel\", \"artikel\", \"artikel\", \"arts\", \"arts\", \"artsen_specialisten\", \"artsen_ziekenfondsen\", \"attache\", \"attest\", \"attest\", \"attest\", \"attest\", \"authentieke_bronnen\", \"automatische_uitwisseling\", \"avenant\", \"baseren\", \"baseren\", \"baseren\", \"baseren\", \"baseren\", \"basis\", \"basis\", \"basis\", \"basis\", \"basis\", \"basis\", \"basis\", \"basis\", \"basis\", \"basis\", \"basis\", \"basis_bedrag\", \"basisbe_drag\", \"basisonderwijs\", \"be_stukken\", \"bedoelen\", \"bedoelen\", \"bedoelen\", \"bedoelen\", \"bedoelen\", \"bedoelen\", \"bedoelen\", \"bedoelen\", \"bedoelen\", \"bedoelen\", \"bedrag\", \"bedrag\", \"bedrag\", \"bedrag\", \"bedrag\", \"bedrag\", \"bedrag\", \"bedragen\", \"bedragen\", \"bedragen\", \"bedragen\", \"bedragen\", \"bedragen\", \"bedragen\", \"bedrijfsarts\", \"beeindigen\", \"beeindigen\", \"beeindigen\", \"beeld\", \"beeld\", \"beeld\", \"beeld\", \"beginsel\", \"beginsel\", \"begrip\", \"begroting\", \"begroting\", \"begroting\", \"begroting\", \"begroting\", \"begroting\", \"begrotings_jaar\", \"begunstigen\", \"begunstigen\", \"begunstigen\", \"behandelend_arts\", \"bejaard\", \"bekendgemaken\", \"bekendgemaken\", \"bekendgemaken\", \"bekendgemaken\", \"bekrachtigen\", \"bekrachtigen\", \"bekrachtigen\", \"bekrachtigen\", \"bekrachtiging\", \"bekrachtiging\", \"belassen\", \"belasten\", \"belasten\", \"belasten\", \"belasten\", \"belasten\", \"belasten\", \"belasten\", \"belasten\", \"belasten\", \"belasten\", \"belasting\", \"belasting\", \"belasting\", \"belasting\", \"belgisch_staatsblad\", \"belgisch_staatsblad\", \"belgisch_staatsblad\", \"belgisch_staatsblad\", \"belgisch_staatsblad\", \"belgisch_staatsblad\", \"belgisch_staatsblad\", \"belgisch_staatsbladen\", \"belgisch_staatsbladen\", \"belgisch_staatsbladen\", \"benoemingsdatum\", \"beoordeelen\", \"beoordeelen\", \"beoordeelen\", \"beoordeelen\", \"beoordeling\", \"bepalen\", \"bepalen\", \"bepalen\", \"bepalen\", \"bepalen\", \"bepalen\", \"bepalen\", \"bepalen\", \"bepalen\", \"bepalen\", \"bepalen\", \"bepalen\", \"bepaling\", \"bepaling\", \"bepaling\", \"bepaling\", \"bepaling\", \"bepaling\", \"bepaling\", \"bepaling\", \"bepaling\", \"bepaling\", \"beperken\", \"beperken\", \"beperken\", \"beperken\", \"beperken\", \"beperken\", \"berekening\", \"berekening\", \"berekening\", \"berekening\", \"berekening\", \"berekening\", \"bericht\", \"bericht\", \"bericht\", \"beroepsziekten\", \"berust\", \"beschikken\", \"beschikken\", \"beschikken\", \"beschikken\", \"beschikken\", \"beschikken\", \"beschikken\", \"beschikken\", \"beschikking\", \"beschouwen\", \"beschouwen\", \"beschouwen\", \"beschouwen\", \"beschouwen\", \"beslag\", \"besluit\", \"besluit\", \"besluit\", \"besluit\", \"besluit\", \"besluit\", \"besluit\", \"besluit\", \"besluit\", \"besluit\", \"besluit\", \"besluiten\", \"besluiten\", \"besluiten\", \"besluiten\", \"besluiten\", \"besluiten\", \"besluiten\", \"besluiten\", \"besluiten\", \"besluitwet\", \"besluitwet\", \"besmet\", \"besmeten\", \"besmetting\", \"besmetting\", \"besmetting\", \"besmetting\", \"bespreken\", \"bespreking\", \"bespreking\", \"bespreking_stemming\", \"bestaan\", \"bestaan\", \"bestaan\", \"bestaan\", \"bestaan\", \"bestaan\", \"bestaan\", \"bestaan\", \"bestaan\", \"betalen\", \"betalen\", \"betalen\", \"betalen\", \"betalen\", \"betalen\", \"betalen\", \"betalen\", \"betalen\", \"betaling\", \"betaling\", \"betaling\", \"betaling\", \"betaling\", \"betaling\", \"betaling\", \"betaling\", \"betaling\", \"betreffen\", \"betreffen\", \"betreffen\", \"betreffen\", \"betreffen\", \"betreffen\", \"betreffen\", \"betreffen\", \"betreffen\", \"betreffen\", \"betreffen\", \"betreffen\", \"betrekking\", \"betrekking\", \"betrekking\", \"betrekking\", \"betrekking\", \"betrekking\", \"betrekking\", \"betrekking\", \"betrekking\", \"betrekking\", \"betrekking\", \"betrekking\", \"betrekking\", \"betwisting\", \"betwisting\", \"bevatten\", \"bevatten\", \"bevatten\", \"bevatten\", \"bevatten\", \"bevatten\", \"bevatten\", \"bevoegd\", \"bevoegd\", \"bevoegd\", \"bevoegd\", \"bevoegd\", \"bevoegd\", \"bevoegd\", \"bevoegd\", \"bevoegde_autoriteit\", \"bevoegde_autoriteiten\", \"bevoegdheid\", \"bevoegdheid\", \"bevoegdheid\", \"bevoegdheid\", \"bevoegdheid\", \"bevoegdheid\", \"bevoegdheid\", \"bew\", \"bewaard_gedurenen\", \"bewoner\", \"bezitten\", \"bezitten\", \"bezoldigen\", \"bezoldiging\", \"bezoldiging\", \"bezoldiging\", \"bezorgen\", \"bezorgen\", \"bezorgen\", \"bezorgen\", \"bezorgen\", \"bezorgen\", \"bijgeveegd\", \"bijlage\", \"bijlage\", \"bijlage\", \"bijlage\", \"bijlage\", \"bijlage\", \"bijlage\", \"bijlage\", \"bijlage_overge_nomen\", \"bijna\", \"bijzonder\", \"bijzonder\", \"bijzonder\", \"bijzonder\", \"bijzonder\", \"bijzonder\", \"bijzonder\", \"bijzonder\", \"bijzonder_stelsel\", \"bijzondere_machten\", \"bijzondere_machten\", \"bijzondere_machten\", \"bijzondere_machtenbesluit\", \"bijzondere_machtenbesluit\", \"binnenlandse__zak\", \"biologische_geneesmiddelen\", \"blootstelling\", \"blootstelling\", \"boete\", \"boete\", \"bondsrepubliek_duitsland\", \"bossen_landelijk\", \"brussel_fiscaliteit\", \"brussels_hoofdstedelijk\", \"brussels_hoofdstedelijk\", \"brussels_hoofdstedelijk\", \"brusselse_hoofdstedelijk\", \"brusselse_hoofdstedelijk\", \"brusselse_hoofdstedelijk\", \"btw\", \"btw\", \"budget\", \"budget\", \"buiten_beschouwing\", \"buiten_beschouwing\", \"buitendienst\", \"buitenschoolse_opvang\", \"categorie\", \"categorie\", \"categorie\", \"categorie\", \"categorie\", \"centrum\", \"centrum\", \"centrum\", \"centrum\", \"centrum\", \"citeren\", \"civiele_noodsituatie\", \"cluster\", \"code\", \"code\", \"code\", \"code\", \"codex\", \"codex\", \"codex\", \"codex\", \"codificatie\", \"coefficient\", \"collectief\", \"collectief\", \"collectief_ontslag\", \"collectiviteit\", \"commercieel\", \"commercieel\", \"commercieel\", \"conseil\", \"constructie\", \"consulair\", \"contact\", \"contact\", \"contact\", \"contact\", \"contact\", \"contact_centrum\", \"contactcentrum\", \"contacteren\", \"coronavirus\", \"coronavirus\", \"coronavirus\", \"coronavirus\", \"coronavirus\", \"coronavirus\", \"cov_id\", \"cov_id\", \"cov_id\", \"cov_id\", \"cov_id\", \"cov_id\", \"cov_id\", \"cov_id\", \"cov_id\", \"cov_id\", \"covid\", \"covid\", \"covid\", \"covid\", \"covid\", \"covid\", \"creatief\", \"crisis\", \"crisis\", \"crisis\", \"crisis\", \"crisis\", \"crisis\", \"crisis\", \"cruciale_sectoren\", \"cultureel\", \"cultureel\", \"cultureel\", \"cultureel\", \"cursus\", \"daadwerkelijk\", \"daadwerkelijk\", \"daadwerkelijk\", \"daadwerkelijk\", \"daadwerkelijk\", \"dag\", \"dag\", \"dag\", \"dag\", \"dag\", \"dag\", \"dag\", \"dag\", \"dag\", \"dag\", \"dag\", \"dag\", \"dag\", \"dans\", \"databank\", \"databank\", \"databank\", \"decreet\", \"decreet\", \"deel\", \"deel\", \"deel\", \"deel\", \"deel\", \"deel\", \"deel\", \"deel\", \"deel\", \"deel\", \"deelen\", \"deelen\", \"deelneming\", \"deelsectoren\", \"deeltelijke_arbeiden\", \"defensie\", \"dekken\", \"dekken\", \"dekken\", \"delegeren\", \"deling\", \"departement\", \"derde_landen\", \"diamant\", \"dienst\", \"dienst\", \"dienst\", \"dienst\", \"dienst\", \"dienst\", \"dienst\", \"dienst\", \"dienst\", \"dienst\", \"dienst\", \"dienstencheques\", \"dienstve_rlening\", \"dierenwelzijn_tellier\", \"digitaal\", \"digitaal\", \"digitaal\", \"digitaal\", \"diploma\", \"diploma\", \"diplomatiek\", \"dir_ectiecomite\", \"dir_ectiecomite\", \"directeur\", \"directeur\", \"directeur\", \"directeur\", \"discriminatie\", \"divers\", \"divers\", \"divers\", \"divers\", \"divers\", \"divers\", \"document\", \"document\", \"document\", \"document\", \"document\", \"document\", \"document\", \"document\", \"document\", \"doen\", \"doen\", \"doen\", \"doen\", \"doen\", \"doen\", \"doen\", \"doo_rstorting\", \"door_werken\", \"doorstorten\", \"doorstorten\", \"doorstorting\", \"dossier\", \"dossier\", \"dossier\", \"douane\", \"douane\", \"draagwijdte\", \"dragen\", \"dragen\", \"dragen\", \"dragen\", \"dragen\", \"dragen\", \"dragen\", \"dragen\", \"drempel\", \"drempel\", \"drempel\", \"drie\", \"drie\", \"drie\", \"drie\", \"drie\", \"drie\", \"drie\", \"drie\", \"dringend\", \"dringend\", \"dringend\", \"dringend\", \"dringend\", \"dringend\", \"dringend\", \"dwingende_familiale\", \"economie\", \"economie\", \"economie\", \"economie\", \"economisch\", \"economisch\", \"economisch\", \"economisch\", \"economisch\", \"economisch\", \"eenmalige_premie\", \"eg\", \"eigen\", \"eigen\", \"eigen\", \"eigen\", \"eigen\", \"eind\", \"elektriciteit\", \"enkele_schijf\", \"enseignement_fr\", \"erflater\", \"erkenning\", \"erkenning\", \"erkenning\", \"erkenning\", \"ervan\", \"ervan\", \"ervan\", \"ervan\", \"ervan\", \"ervan\", \"ervan\", \"ervan\", \"ervan\", \"ervan\", \"ervan\", \"euro\", \"euro\", \"euro\", \"euro\", \"euro\", \"euro\", \"euro\", \"euro\", \"euro\", \"europese_unie\", \"europese_unie\", \"evaluatie\", \"evaluatie\", \"evaluatie\", \"evalueren\", \"evenwel\", \"evenwel\", \"evenwel\", \"evenwel\", \"examen\", \"examens\", \"exploitant\", \"extern\", \"extern\", \"extern\", \"extern\", \"facturatie\", \"faillissement\", \"fase\", \"fase\", \"fase\", \"federaal\", \"federaal\", \"federaal\", \"federaal\", \"federaal\", \"federaal\", \"federaal\", \"federaal\", \"federaal\", \"federaal\", \"federaal\", \"federatie\", \"feitelijke_toestand\", \"financieel\", \"financieel\", \"financieel\", \"financieel\", \"financieel\", \"financieel\", \"financieel\", \"financieel_gesteund\", \"financiele_tussenkomst\", \"fiscaal\", \"fiscaal\", \"fiscaal\", \"fiscaal\", \"fiscaal\", \"fiscaliteit\", \"fiscaliteit\", \"fiscaliteit\", \"fod\", \"fod\", \"formule\", \"formulier\", \"formulier\", \"formulier\", \"formulier\", \"fout\", \"franse\", \"franse_gemeenschap\", \"franse_gemeenschap\", \"functie\", \"functie\", \"functie\", \"functie\", \"functie\", \"functie\", \"functie\", \"gebruiker\", \"gecorrigeerd_jaarlijks\", \"gefedereerde_entiteiten\", \"gegeven\", \"gegeven\", \"gegeven\", \"gegeven\", \"gegeven\", \"gegeven\", \"gegeven\", \"gegeven\", \"geindexeerde_bedragen\", \"geld\", \"geldende_beginselen\", \"gelet\", \"gelet\", \"gelet\", \"gelet\", \"gelet\", \"gelet\", \"gelet\", \"geleverde_goederen\", \"gelijkwaardig\", \"gelijkwaardig\", \"gemachtigde\", \"gemeente\", \"gemeente\", \"gemeente\", \"gemeente\", \"gemeente_raad\", \"gemeente_raad\", \"gemiddeld\", \"gemiddeld\", \"gemiddeld\", \"gemiddeld\", \"gemiddeld\", \"gemiddelden\", \"geneeskunde\", \"geneeskundig\", \"geneeskundig\", \"geneeskundig\", \"geneeskundig\", \"geneeskundige_verzorging\", \"geneesmiddelen\", \"generaal\", \"genereren\", \"genereren\", \"gerangschikt\", \"gerelateerde_problematiek\", \"getal\", \"geval\", \"geval\", \"geval\", \"geval\", \"geval\", \"geval\", \"geval\", \"geval\", \"geval\", \"geval\", \"geval\", \"geval\", \"geven\", \"geven\", \"geven\", \"geven\", \"geven\", \"geven\", \"geven\", \"geven\", \"geven\", \"geven\", \"geven\", \"geven\", \"gevolg\", \"gevolg\", \"gevolg\", \"gevolg\", \"gevolg\", \"gevolg\", \"gevolg\", \"gevolg\", \"gevolg\", \"gewest\", \"gewest\", \"gewest\", \"gewest\", \"gewest\", \"gewest\", \"gewest\", \"gewestelijk\", \"gewestelijk\", \"gewestelijk\", \"gewestelijk\", \"gewestelijk\", \"gewestelijke_beleidslijnen\", \"gewestelijke_incentives\", \"gezin\", \"gezin\", \"gezin\", \"gezin\", \"gezinslast\", \"gezinszorg\", \"gezondheid\", \"gezondheid\", \"gezondheid_cultuur\", \"gezondheid_zorg\", \"goed\", \"goed\", \"goed\", \"goed\", \"goed\", \"goed\", \"goed\", \"graad\", \"graad\", \"grensarbeider\", \"grenszone\", \"griffier_wim\", \"griffierecht\", \"griffierecht\", \"groei\", \"groen\", \"grond_wet\", \"grond_wet\", \"grond_wet\", \"grond_wet\", \"grondwettelijk\", \"grondwettelijk\", \"grondwettelijk_gewaarborgde\", \"groot\", \"groot\", \"groot\", \"groot\", \"groot\", \"groot\", \"groot\", \"hande_lspand\", \"handelaar\", \"handeling\", \"handeling\", \"handeling\", \"handeling\", \"handeling\", \"handeling\", \"handelshuur\", \"handelspand\", \"heffing\", \"hetgeen_volgt\", \"hetzelfde\", \"hetzelfde\", \"hetzelfde\", \"hetzelfde\", \"hetzelfde\", \"hetzelfde\", \"hetzelfde\", \"hierarchisch\", \"hierboven\", \"hierboven\", \"hierboven\", \"hierboven\", \"hierboven_vermelde\", \"hierboven_vermelde\", \"hierna\", \"hierna\", \"hierna\", \"hierna\", \"hierna\", \"hierna\", \"hierna\", \"hierna\", \"hierna\", \"honoraria\", \"hoofdstuk\", \"hoofdstuk\", \"hoofdstuk\", \"hoofdstuk\", \"hoofdstuk\", \"hoofdstuk\", \"hoofdstuk\", \"hoofdstuk\", \"hoofdstuk\", \"hoog\", \"hoog\", \"hoog\", \"hoog\", \"hoog\", \"hoog\", \"hoog\", \"hoog\", \"hoog\", \"hoog\", \"hospitalisatie\", \"houdende\", \"houdende\", \"houdende\", \"houdende\", \"houdende\", \"houdende\", \"houdende\", \"houdende\", \"huishouden\", \"huishoudhulpen\", \"huisvesting_plaatselijke\", \"hulp_middel\", \"huren\", \"huur\", \"huur\", \"huurder\", \"huurgelen\", \"huurprijs\", \"huurprijs\", \"imago\", \"immers\", \"immers\", \"implementatie\", \"in_voegen\", \"in_voegen\", \"in_voegen\", \"in_voegen\", \"in_voegen\", \"in_vullen\", \"inbreuk\", \"inbreuk\", \"inde_xcijfer\", \"indexcijfer\", \"indienen\", \"indienen\", \"industrieel\", \"informatie\", \"informatie\", \"informatie\", \"informatie\", \"informatie\", \"informatie\", \"informatie\", \"informatie\", \"informatie\", \"informatie\", \"informatie\", \"ingevoegd\", \"ingevoegd\", \"ingevoegd\", \"ingevoegd\", \"ingevoegd_luidende\", \"inhoudelijk\", \"inhouding\", \"inhouding\", \"initiatiefnemer\", \"inkomensverlie\", \"inkomst\", \"inkomst\", \"inkomst\", \"inkomst\", \"inkomst\", \"inleiding\", \"inlichting\", \"inlichting\", \"inlichting\", \"inschrijver\", \"instelling\", \"instelling\", \"instelling\", \"instelling\", \"instelling\", \"instelling\", \"instelling\", \"instelling\", \"integraal_verslag\", \"intensieve_zorg\", \"intermediair\", \"internat\", \"interne_markt\", \"investeerder\", \"investering\", \"investering\", \"invoer\", \"jaar\", \"jaar\", \"jaar\", \"jaar\", \"jaar\", \"jaar\", \"jaar\", \"jaar\", \"jaar\", \"jaar\", \"jeugd\", \"jeugd_justitiehuizen\", \"jeugd_sport\", \"jeugdcentra\", \"jonge_kinderen\", \"justitie\", \"justitie\", \"kader\", \"kader\", \"kader\", \"kader\", \"kader\", \"kader\", \"kader\", \"kader\", \"kader\", \"kader\", \"kader\", \"kader\", \"kader\", \"kalender_maand\", \"kalenderm_aand\", \"kalendermaand\", \"kalendermaand\", \"kandi_datuur\", \"kandidaat\", \"kandidaat\", \"kandidaat\", \"kandidaat\", \"kandidaat\", \"kandidatuur\", \"kapitaal\", \"kapitaal\", \"kb_wib\", \"kennis\", \"kennis\", \"kennis\", \"kennis\", \"kennis\", \"kennis\", \"kennisgeving\", \"kennisgeving\", \"kennisgeving\", \"kennisgeving\", \"kennisgeving\", \"keuze\", \"keuze\", \"kind\", \"kind\", \"kind\", \"kind\", \"kind\", \"kind\", \"kind_opvang\", \"kind_opvang\", \"kinderbijslag\", \"kinderen_jonger\", \"kinderopvang\", \"klasse\", \"klassen_raad\", \"klein\", \"klein\", \"klein\", \"klein\", \"klein\", \"kondigen\", \"kondigen\", \"koning\", \"koning\", \"koning\", \"koning\", \"koning\", \"koninklijk\", \"koninklijk\", \"koninklijk\", \"koninklijk\", \"koninklijk\", \"koninklijk\", \"koninklijk\", \"koninkrijk\", \"kosten\", \"kosten\", \"kosten\", \"kosten\", \"kosten\", \"kosten\", \"kosten\", \"kostprijs\", \"kritieke_sectoren\", \"kwalificatie_examencommissie\", \"kwartaal\", \"kwartaal\", \"kwartaal\", \"kwijtgescholden\", \"kwijtschelden\", \"laatstelijk_gewijzigd\", \"laatstelijk_gewijzigen\", \"langs_elektronische\", \"langs_elektronische\", \"last\", \"last\", \"last\", \"last\", \"last\", \"leefmilieu_natuur\", \"leerjaar\", \"leerling\", \"leerresultaten\", \"leiding\", \"lening\", \"lening\", \"lening\", \"leten\", \"leten\", \"leten\", \"leten\", \"leten\", \"leten\", \"letten\", \"letten\", \"letten\", \"letten\", \"letten\", \"letten\", \"leverancier\", \"leverancier\", \"leverancier\", \"leverancier\", \"levering\", \"levering\", \"lezen\", \"lid\", \"lid\", \"lid\", \"lid\", \"lid\", \"lid\", \"lid\", \"lid\", \"lid\", \"lid\", \"lid\", \"lid\", \"lidstaat\", \"lidstaat\", \"lijken\", \"lijken\", \"lijst\", \"lijst\", \"lijst\", \"lijst\", \"lijst\", \"lijst\", \"lijst\", \"logopedis\", \"lokale_besturen\", \"lopende_belastingjaar\", \"luiden\", \"luiden\", \"luiden\", \"luiden\", \"luiden\", \"maand\", \"maand\", \"maand\", \"maand\", \"maand\", \"maand\", \"maand\", \"maand\", \"maand\", \"maand\", \"maand\", \"maatregel\", \"maatregel\", \"maatregel\", \"maatregel\", \"maatregel\", \"maatregel\", \"maatregel\", \"maatregel\", \"maatregel\", \"maatstaf\", \"machtigden\", \"maken\", \"maken\", \"maken\", \"maken\", \"maken\", \"maken\", \"maken\", \"maken\", \"maken\", \"maken\", \"management\", \"mannelijk\", \"mede_onthaalouders\", \"medewerker\", \"medisch\", \"medisch\", \"medisch\", \"medium\", \"medium\", \"meewerken\", \"meewerkende_echtgenoten\", \"meewerkende_echtgenoten\", \"memorie\", \"middelgrote_ondernemingen\", \"middelgrote_ondernemingen\", \"mijnheer\", \"militair\", \"minimum\", \"minimum\", \"minimum\", \"minimum\", \"minimum\", \"minister\", \"minister\", \"minister\", \"minister\", \"minister\", \"minister\", \"minister\", \"minister\", \"minister\", \"minister\", \"ministerieel\", \"ministerieel\", \"ministerieel\", \"ministerieel\", \"ministerieel\", \"ministerieel\", \"minuut\", \"mobiliteit\", \"mobiliteit\", \"mogelijk\", \"mogelijk\", \"mogelijk\", \"mogelijk\", \"mogelijk\", \"mogelijk\", \"mogelijk\", \"mogelijk\", \"morreaal\", \"moti_vatiebrief\", \"nace_bel\", \"nationale_bank\", \"nationale_veiligheidsraad\", \"nationale_veiligheidsraad\", \"negen\", \"nemen\", \"nemen\", \"nemen\", \"nemen\", \"nemen\", \"nemen\", \"nemen\", \"nemen\", \"nemen\", \"nemen\", \"neurologisch\", \"nieuw\", \"nieuw\", \"nieuw\", \"nieuw\", \"nieuw\", \"nieuw\", \"nieuw\", \"nieuw\", \"nl\", \"nl\", \"noden\", \"nodig\", \"nodig\", \"nodig\", \"nodig\", \"nodig\", \"nodig\", \"nodig\", \"nodig\", \"nodig\", \"nomenclatuur\", \"noodzakelijk\", \"noodzakelijk\", \"noodzakelijk\", \"noodzakelijk\", \"noodzakelijk\", \"noodzakelijk\", \"noodzakelijk\", \"noodzakelijk\", \"nota_zitting\", \"notulen\", \"nummer\", \"nummer\", \"nummer\", \"nummer\", \"nummer_co\", \"objectief_criterium\", \"omwille\", \"omwille\", \"omwille\", \"omzendbrief\", \"omzendbrief\", \"oncologisch\", \"onde_rteken\", \"onderbreken\", \"onderbreken\", \"onderdeel\", \"onderdeel\", \"onderdeel\", \"onderdeel\", \"onderdeel\", \"ondergetekende_bevoegde\", \"onderling_overleg\", \"onderling_overleg\", \"ondernemerschap\", \"onderneming\", \"onderneming\", \"onderneming\", \"onderneming\", \"onderneming\", \"onderneming\", \"onderneming\", \"onderneming\", \"onderscheid\", \"ondersteuning\", \"ondersteuning\", \"ondersteuning\", \"ondersteuning\", \"ondersteuning\", \"onderwijs\", \"onderwijs\", \"onderwijs\", \"onderwijs\", \"onderzoeker\", \"ongeldig\", \"ongeschiktheid\", \"onroerende_goederen\", \"onroerende_goederen\", \"onroerende_goederen\", \"ontgaan\", \"ontvangen\", \"ontvangen\", \"ontvangen\", \"ontvangen\", \"ontvangen\", \"ontvangen\", \"ontvangen\", \"ontvangen\", \"ontvangen\", \"ontvangen\", \"ontvangen\", \"ontvanger\", \"ontvanger\", \"ontvangsut\", \"ontvankelijk\", \"ontwerp\", \"ontwerp\", \"ontwerp\", \"ontwerp\", \"ontwerpen\", \"ontwikkeling\", \"ontwikkeling\", \"ontwikkeling\", \"ontwikkeling\", \"ontwikkeling\", \"ontwikkeling\", \"oordeelen\", \"op_heffen\", \"op_heffen\", \"op_heffen\", \"op_heffen\", \"op_heffen\", \"op_merken\", \"opdracht\", \"opdracht\", \"opdracht\", \"opdracht\", \"opdracht\", \"openbaar_nut\", \"openbaar_nut\", \"operatie\", \"opgesomd\", \"opgesomde\", \"opleidingsjaar\", \"opmerking\", \"opmerking\", \"opvang\", \"opvang\", \"opvang\", \"opvang\", \"ordonnantie\", \"ordonnantie\", \"ordonnantie\", \"ordonnantie\", \"ordonnantie\", \"orgaan\", \"organiek_reglement\", \"organisatie\", \"organisatie\", \"organisatie\", \"organisatie\", \"organisatie\", \"organisatie\", \"organisatie\", \"organisator\", \"ouder\", \"ouder\", \"ov_erwegen\", \"ov_erwegen\", \"ov_erwegen\", \"ov_erwegen\", \"ov_erwegen\", \"ove_rwegen\", \"overeen\", \"overeen\", \"overeen_komen\", \"overeen_komen\", \"overeenkomen\", \"overeenkomst\", \"overeenkomst\", \"overeenkomst\", \"overeenkomst\", \"overeenkomst\", \"overheid\", \"overheid\", \"overheid\", \"overheid\", \"overheid_dienst\", \"overheid_dienst\", \"overheid_dienst\", \"overheid_dienst\", \"overheid_dienst\", \"overheid_dienst\", \"overheid_dienst\", \"overheids_dienst\", \"overheveling\", \"overnachting\", \"overnachting\", \"overwegende\", \"overwegende\", \"overwegende\", \"overwegende\", \"overwegende\", \"pand\", \"pandemie\", \"pandemie\", \"pandemie\", \"pandemie\", \"pandemie\", \"pandemie\", \"pandemie\", \"pandemie\", \"pandemie\", \"pandemie\", \"paragraaf\", \"paragraaf\", \"paragraaf\", \"paragraaf\", \"paragraaf\", \"paragraaf\", \"paragraf\", \"paritair_comite\", \"paritair_comite\", \"paritair_subcomite\", \"paritaire__comite\", \"parlement\", \"parlement\", \"parlementair\", \"passagier\", \"pati\\u00ebnt\", \"pati\\u00ebnt\", \"pati\\u00ebnt\", \"pedagogisch\", \"pensioen\", \"periode\", \"periode\", \"periode\", \"periode\", \"periode\", \"periode\", \"periode\", \"periode\", \"periode\", \"periode\", \"periode\", \"periodiek\", \"perken\", \"personeel\", \"personeel\", \"personeel\", \"personeel\", \"personeel\", \"personeel\", \"personeel_lid\", \"personeel_lid\", \"personeels_lid\", \"personeelsled\", \"personeelslid\", \"personeelslid\", \"personeelslid\", \"persoon\", \"persoon\", \"persoon\", \"persoon\", \"persoon\", \"persoon\", \"persoon\", \"persoon\", \"persoon\", \"persoon\", \"persoon\", \"persoonlijk\", \"persoonlijk\", \"persoonlijk\", \"persoonlijk\", \"persoonlijk\", \"pijler\", \"plaats\", \"plaats\", \"plaats\", \"plaats\", \"plaats\", \"plaats\", \"plaats\", \"plaatsgehad\", \"plaatsgehad\", \"plaatsgehad\", \"plenaire_vergadering\", \"prangen\", \"preciseren\", \"premie\", \"premie\", \"president\", \"president\", \"president\", \"president\", \"president\", \"president_jeholet\", \"president_jeholet\", \"prestatie\", \"prestatie\", \"prestatie\", \"prestatie\", \"prestatie\", \"preventief\", \"preventief\", \"prijs\", \"prijs\", \"prijs\", \"prijs\", \"procedure\", \"procedure\", \"procedure\", \"procedure\", \"procedure\", \"procedure\", \"procedure\", \"procedure\", \"proef\", \"proef\", \"proef\", \"programma_wet\", \"programma_wet\", \"programmatie\", \"project\", \"project\", \"promotie\", \"promotie\", \"protocol\", \"protocol\", \"protocol\", \"psychologisch\", \"publicatie\", \"publicatie\", \"publicatie\", \"publicatie\", \"publicatie\", \"publicatie\", \"publicatieblad\", \"publiceren\", \"publiceren\", \"publiceren\", \"publiceren\", \"publiceren\", \"publiceren\", \"quarantaine\", \"quarantaine\", \"quarantaine\", \"quater\", \"quater\", \"quinquie\", \"quinquie\", \"raad\", \"raad\", \"raad\", \"raad\", \"raad\", \"raad\", \"raad\", \"raad\", \"raadpleging\", \"raadpleging\", \"raadpleging\", \"raadpleging\", \"raadpleging\", \"raadpleging\", \"raden\", \"rang\", \"rangschikken\", \"recht\", \"recht\", \"recht\", \"recht\", \"recht\", \"recht\", \"recht\", \"recht\", \"rechtsgebied\", \"rechtsgrond\", \"rechtsgrond\", \"rechtsgrond\", \"rechtsper_soon\", \"rechtsper_soon\", \"rechtsper_soon\", \"rechtsvorm\", \"redelijk_verantwoord\", \"refereren\", \"regel\", \"regel\", \"regel\", \"regel\", \"regel\", \"regel\", \"regel\", \"regel\", \"regeling\", \"regeling\", \"regeling\", \"regeling\", \"regeling\", \"regeling\", \"regering\", \"regering\", \"regering\", \"regering\", \"regering\", \"register\", \"reizen\", \"reizen\", \"reizen\", \"rekening\", \"rekening\", \"rekening\", \"rekening\", \"rekening\", \"rekening\", \"rekening\", \"rekening\", \"rekening\", \"rekening\", \"rekening\", \"relevant\", \"relevant\", \"relevant\", \"relevant\", \"relevant\", \"rentevoet\", \"rentevoet\", \"richtlijn\", \"richtlijn\", \"richtlijn\", \"richtlijn\", \"rijbewijs\", \"rijbewijs\", \"rijksdienst\", \"rijzen\", \"rijzen\", \"rit\", \"riziv\", \"roepen\", \"roepen\", \"rsz\", \"rust\", \"samenwonen\", \"sars_cov\", \"scanen\", \"schaden\", \"schijf\", \"schijf\", \"school\", \"school\", \"school\", \"school\", \"school\", \"school_jaar\", \"schriftelijke_overeenkomst\", \"schuld\", \"schuld\", \"schuldenaar\", \"schuldenaar\", \"sector\", \"sector\", \"sector\", \"sector\", \"sector\", \"sectorcomite\", \"selectie\", \"selectie\", \"semester\", \"sexie\", \"sexies\", \"slagen\", \"slagen\", \"sociaal\", \"sociaal\", \"sociaal\", \"sociaal\", \"sociaal\", \"sociaal\", \"sociaal\", \"sociaal\", \"sociaal_statuut\", \"sociaal_statuut\", \"sociale_actie\", \"specialiteit\", \"specialiteit\", \"spoedeisendheid_gemotiveerd\", \"spoedeisendheid_gemotiveerd\", \"spoedeisendheid_gemotiveerd\", \"spoedig\", \"sportieve_recreatieve\", \"staan\", \"staan\", \"staan\", \"staan\", \"staan\", \"staan\", \"staan\", \"staan\", \"staan\", \"staan\", \"staan\", \"staat\", \"staat\", \"staat\", \"staat\", \"staat\", \"staat\", \"staken\", \"standplaats\", \"stapsgewijze_heropbouw\", \"statuut\", \"statuut\", \"statuut\", \"stellen\", \"stellen\", \"stellen\", \"stellen\", \"stellen\", \"stellen\", \"stellen\", \"stellen\", \"stellen\", \"stellen\", \"stellen\", \"stellen\", \"stellen\", \"steun\", \"steun\", \"steun\", \"steun\", \"steun\", \"steun_aanvraag\", \"steun_regeling\", \"steunfonds\", \"steunmaatregel\", \"steunmaatregel\", \"storten\", \"storten\", \"storten\", \"storten\", \"storten\", \"streepje\", \"streepje\", \"strijd\", \"strijd\", \"strijd\", \"strijd\", \"strijd\", \"strijd\", \"structureel\", \"subk_lass\", \"subsidie\", \"subsidie\", \"subsidiebedrag\", \"subsidiering\", \"succesvol\", \"superieur\", \"synthetische_diamant\", \"systeemvaart_actief\", \"taak\", \"taak\", \"taak\", \"taak\", \"tabel_zie\", \"tabel_zie\", \"tandartsen\", \"tandartsen\", \"technische_documentatie\", \"tegemoetkoming\", \"tegemoetkoming\", \"tegenstelbaar\", \"tel_ewerken\", \"tele_werk\", \"tele_werk\", \"telefonisch\", \"telewerk\", \"ter_beschikking\", \"ter_beschikking\", \"ter_beschikking\", \"ter_beschikking\", \"ter_beschikking\", \"ter_beschikking\", \"termijn\", \"termijn\", \"termijn\", \"termijn\", \"termijn\", \"termijn\", \"termijn\", \"termijn\", \"termijn\", \"termijn\", \"terug_betaling\", \"terug_betaling\", \"terugname\", \"terugvordering\", \"terugvordering\", \"test\", \"testen\", \"thuis\", \"thuis\", \"thuis\", \"thuis\", \"thuis\", \"tien\", \"tijdelijk\", \"tijdelijk\", \"tijdelijk\", \"tijdelijk\", \"titel\", \"titel\", \"titel\", \"titel\", \"titel\", \"toe_kennen\", \"toe_kennen\", \"toe_kennen\", \"toe_kennen\", \"toe_kennen\", \"toe_kennen\", \"toe_kennen\", \"toe_kennen\", \"toe_kennen\", \"toe_passen\", \"toe_passen\", \"toe_passen\", \"toe_passen\", \"toe_passen\", \"toe_passen\", \"toegekennen\", \"toegekennen\", \"toegekennen\", \"toegepa\", \"toegepa\", \"toekenning\", \"toekenning\", \"toekenning\", \"toekenning\", \"toekenning\", \"toekenning\", \"toekenning\", \"toelating\", \"toelating\", \"toelichting\", \"toepassing\", \"toepassing\", \"toepassing\", \"toepassing\", \"toepassing\", \"toepassing\", \"toepassing\", \"toepassing\", \"toepassing\", \"toepassing\", \"toepassing\", \"toepassing\", \"toepassing\", \"toepast\", \"toeslag\", \"toeslag\", \"toeslag\", \"toezicht\", \"toezicht\", \"toezicht\", \"toezicht\", \"toezicht\", \"toezicht\", \"toezicht\", \"toezicht\", \"toezicht\", \"tussenpersoon\", \"twee\", \"twee\", \"twee\", \"twee\", \"twee\", \"twee\", \"twee\", \"twee\", \"twee\", \"twee\", \"uit_geven\", \"uit_nodigen\", \"uit_nodigen\", \"uit_nodigen\", \"uit_oefenen\", \"uit_oefenen\", \"uit_oefenen\", \"uit_oefenen\", \"uit_oefenen\", \"uit_oefenen\", \"uit_oefenen\", \"uit_oefenen\", \"uit_oefenen\", \"uit_oefenen\", \"uit_vaardigen\", \"uit_voeren\", \"uit_voeren\", \"uit_voeren\", \"uit_voeren\", \"uit_voeren\", \"uit_voeren\", \"uit_voeren\", \"uitdrukkelijk\", \"uitdrukkelijk\", \"uiterlijk\", \"uiterlijk\", \"uiterlijk\", \"uiterlijk\", \"uiterlijk\", \"uiterlijk\", \"uiterlijk\", \"uiterlijk\", \"uitgave\", \"uitgave\", \"uitgave\", \"uitgave\", \"uitkering\", \"uitkering\", \"uitkering\", \"uitkeringen_gecoordineerd\", \"uitreiking\", \"uitvoering\", \"uitvoering\", \"uitvoering\", \"uitvoering\", \"uitvoering\", \"uitvoering\", \"uitvoering\", \"uitvoering\", \"uitvoering\", \"uitzendarbeid\", \"uitzendkracht\", \"uitzonderlijk\", \"uitzonderlijk\", \"uitzonderlijk\", \"uitzonderlijk\", \"uitzonderlijk\", \"unilate_raal\", \"unilateraal\", \"universitaire_ziekenhuizen\", \"uren_studentenarbeid\", \"vacant\", \"vaccin\", \"vaccinatie\", \"vaccinatie\", \"vaccineren\", \"vaststelling\", \"vaststelling\", \"vaststelling\", \"vaststelling\", \"vaststelling\", \"vaststelling\", \"vaststelling\", \"vaststelling\", \"vaststelling\", \"vennootschap\", \"vennootschap\", \"verbruik\", \"verenigd_koninkrijk\", \"vereniging\", \"vereniging\", \"vereniging\", \"vereniging\", \"vereniging\", \"vereniging\", \"vergaderen\", \"vergaderen\", \"vergezellen\", \"vergezellen\", \"vergoedbaar\", \"vergoedbaar\", \"vergoedbare_farmaceutisch\", \"vergoedbare_farmaceutisch\", \"vergoeding\", \"vergoeding\", \"vergoeding\", \"vergoeding\", \"vergoeding\", \"vergoeding\", \"verhuurder\", \"verhuurder\", \"verkeer\", \"verkrijgen\", \"verkrijgen\", \"verkrijgen\", \"verkrijgen\", \"verkrijgen\", \"verkrijgen\", \"verkrijgen\", \"verkrijgen\", \"verkrijgen\", \"verlaagen\", \"verlaten\", \"verlaten\", \"verlaten\", \"verlengen\", \"verlengen\", \"verlengen\", \"verlengen\", \"verlengen\", \"verlengen\", \"verlenging\", \"verlenging\", \"verlenging\", \"verlenging\", \"verlenging\", \"verlenging\", \"verlof\", \"verlof\", \"vermeld\", \"vermeld\", \"vermeld\", \"vermeld\", \"vermeld\", \"vermeld\", \"vermeld\", \"vermeld\", \"vermelding\", \"vermelding\", \"vermelding\", \"vermelding\", \"vermelding\", \"vermelding\", \"vermellen\", \"vermellen\", \"vermellen\", \"vermellen\", \"vermellen\", \"vermellen\", \"vermelnen\", \"vermelnen\", \"vermelnen\", \"vermelnen\", \"vermelnen\", \"vermenigvuldigen\", \"vermindering\", \"vermindering\", \"vermindering\", \"vermindering\", \"vermoedelijk\", \"vermoedelijk_besmette\", \"vermogen\", \"vernietigen\", \"verplaatsing\", \"verplaatsing\", \"verplaatsing\", \"verplichte_sluiting\", \"verplichte_sluiting\", \"verplichte_verzekering\", \"verplichting\", \"verplichting\", \"verplichting\", \"verplichting\", \"verplichting\", \"verplichting\", \"verplichting\", \"verplichting\", \"verrekenen\", \"verrekening\", \"verrichten\", \"verrichten\", \"verrichten\", \"verrichten\", \"verrichten\", \"verrichten\", \"verschuldigen\", \"verschuldigen\", \"verschuldigen\", \"verschuldigen\", \"verspreiding\", \"verspreiding\", \"verspreiding\", \"verspreiding\", \"verspreiding\", \"verspreiding\", \"verspreiding\", \"verstrekken\", \"verstrekken\", \"verstrekken\", \"verstrekken\", \"verstrekken\", \"verstrekken\", \"verstrekken\", \"verstrekken\", \"verstrekking\", \"verstrekking\", \"vervangen\", \"vervangen\", \"vervangen\", \"vervangen\", \"vervangen\", \"vervangen\", \"vervangen\", \"vervangen\", \"vervangen\", \"verw_ijzing\", \"verwant\", \"verwerken\", \"verwerken\", \"verwerking\", \"verwerking\", \"verwerking\", \"verwerking\", \"verwerving\", \"verwerving\", \"verwezen\", \"verwijderen\", \"verwijzen\", \"verwijzing\", \"verzamelen\", \"verzamelen\", \"verzekering\", \"verzekering\", \"verzekering\", \"verzekering\", \"verzending\", \"verzending\", \"verzending\", \"verzet\", \"verzoenen\", \"verzonden\", \"verzonden\", \"verzonden\", \"vestigen\", \"vestigen\", \"vestigen\", \"vier\", \"vier\", \"vier\", \"vier\", \"vier\", \"vier\", \"vijf_werkdagen\", \"vijf_werkdagen\", \"vinden\", \"vinden\", \"vinden\", \"vinden\", \"vinden\", \"voertuig\", \"voertuig\", \"voertuig\", \"voetnoot\", \"volbrengen\", \"voldoening\", \"volgen\", \"volgen\", \"volgen\", \"volgen\", \"volgen\", \"volgen\", \"volgen\", \"volgen\", \"volgen\", \"volgen\", \"volgen\", \"volgen\", \"volgen\", \"volgen\", \"volksgezondheid\", \"volksgezondheid\", \"volksgezondheid\", \"volstorting\", \"voltijdse_equivalenten\", \"voor_gaan\", \"voor_gaan\", \"voor_gaan\", \"voor_gaan\", \"voor_komen\", \"vooraf\", \"vooraf\", \"vooraf\", \"voorafgaande_belastingjaren\", \"voorafgaat\", \"voorafgaat\", \"voorafgaat\", \"voordeel\", \"voordeel\", \"voordeel\", \"voordeel\", \"voordeel\", \"voordeel\", \"voorkomen\", \"voorkomen\", \"voorkomen\", \"voorkomen\", \"voorkomen\", \"voorkomen\", \"voorkomen\", \"voorkoming\", \"voorkoming\", \"voorliggen\", \"voorliggen\", \"voormeld\", \"voormeld\", \"voornamen\", \"voornoemd\", \"voornoemd\", \"voornoemd\", \"voornoemd\", \"voornoemd\", \"voorschot\", \"voorschot\", \"voorschrift\", \"voorschrift\", \"voorschrift\", \"voorschrift\", \"voort_zetten\", \"voortaan\", \"voortzetting\", \"voorwaarde\", \"voorwaarde\", \"voorwaarde\", \"voorwaarde\", \"voorwaarde\", \"voorwaarde\", \"voorwaarde\", \"voorwaarde\", \"voorwaarde\", \"voorwaarde\", \"voorwaarde\", \"voorzien\", \"voorzien\", \"voorzien\", \"voorzien\", \"voorzien\", \"voorzien\", \"voorzien\", \"voorzien\", \"voorzien\", \"voorzitster\", \"vorming_gezondheid\", \"vormvereisen\", \"vormvereisen\", \"vos_adviseur\", \"vrijstelling\", \"vrijstelling\", \"vrijstelling\", \"vrijstelling\", \"vrijstelling\", \"vroedvrouwen\", \"vroegste_aanvangt\", \"vullen\", \"vullen\", \"vullen\", \"waals\", \"waals\", \"waals\", \"waals\", \"waals\", \"waals_parlement\", \"waalse\", \"waalse\", \"waarin\", \"waarin\", \"waarin\", \"waarin\", \"waarin\", \"waarin\", \"waarin\", \"waarin\", \"waarin\", \"waarin\", \"waarin\", \"waarop\", \"waarop\", \"waarop\", \"waarop\", \"waarop\", \"waarop\", \"waarop\", \"waarop\", \"waarop\", \"waarop\", \"wallonie_bruxelles\", \"webplat_form\", \"week\", \"week\", \"week\", \"week\", \"week\", \"wegens_overmacht\", \"wegens_overmacht\", \"wel\", \"wel\", \"wel\", \"wel\", \"wel\", \"wel\", \"welzijn\", \"welzijn\", \"welzijn\", \"werk\", \"werk\", \"werk\", \"werk\", \"werk\", \"werk\", \"werkgelegenheid\", \"werkgelegenheid\", \"werkgever\", \"werkgever\", \"werkgever\", \"werkloosheid\", \"werknemer\", \"werknemer\", \"werknemer\", \"werknemer\", \"werknemer\", \"werknemer\", \"werknemer\", \"werkplek\", \"werkplek\", \"werkzaam\", \"werkzaam_bestanddeel\", \"werkzame_bestanddelen\", \"wet\", \"wet\", \"wet\", \"wet\", \"wet\", \"wet\", \"wet\", \"wet\", \"wetboek\", \"wetboek\", \"wetboek\", \"wetboek\", \"wetboek\", \"wetboek\", \"wetgever\", \"wetsbepaling\", \"wij_bekrachtigen\", \"wijziging\", \"wijziging\", \"wijziging\", \"wijziging\", \"wijziging\", \"wijziging\", \"wijziging\", \"wijzigingen_aangebracht\", \"wijzigingen_aangebracht\", \"wijzigingen_aangebracht\", \"wijzigingen_aangebracht\", \"wins_toogmerk\", \"wins_toogmerk\", \"winstgevend_oogmerk\", \"winstoogmerk\", \"witwassen\", \"woon_plaats\", \"woonzorgcentrum\", \"woord\", \"woord\", \"woord\", \"woord\", \"woord\", \"zaak\", \"zaak\", \"zaak\", \"zaak\", \"zaak\", \"zaak\", \"zaak\", \"zaak\", \"zaak\", \"zaakvoerder\", \"zeevarnen\", \"zegelen\", \"zelfstandig\", \"zelfstandig\", \"zelfstandig\", \"zelfstandig\", \"zenden\", \"zending\", \"zending\", \"zending\", \"zestien\", \"ziekenfonds\", \"ziekenhuis\", \"ziekenhuis\", \"ziekenhuizen_hulpverlening\", \"ziekte\", \"ziekte\", \"ziekte\", \"ziekte\", \"zinsnede\", \"zinsnede\", \"zitten\", \"zolang\", \"zorg\", \"zorg\", \"zorgverlener\", \"zorgverlener\", \"\\u00e9\\u00e9n\", \"\\u00e9\\u00e9n\", \"\\u00e9\\u00e9n\", \"\\u00e9\\u00e9n\", \"\\u00e9\\u00e9n\", \"\\u00e9\\u00e9n\", \"\\u00e9\\u00e9n\", \"\\u00e9\\u00e9n\", \"\\u00e9\\u00e9n\", \"\\u00e9\\u00e9n\", \"\\u00e9\\u00e9n\", \"\\u00e9\\u00e9n\", \"\\u00e9\\u00e9n\"]}, \"R\": 30, \"lambda.step\": 0.01, \"plot.opts\": {\"xlab\": \"PC1\", \"ylab\": \"PC2\"}, \"topic.order\": [12, 5, 13, 8, 3, 18, 1, 4, 11, 6, 9, 15, 10, 2, 19, 17, 16, 14, 20, 7]};\n",
              "\n",
              "function LDAvis_load_lib(url, callback){\n",
              "  var s = document.createElement('script');\n",
              "  s.src = url;\n",
              "  s.async = true;\n",
              "  s.onreadystatechange = s.onload = callback;\n",
              "  s.onerror = function(){console.warn(\"failed to load library \" + url);};\n",
              "  document.getElementsByTagName(\"head\")[0].appendChild(s);\n",
              "}\n",
              "\n",
              "if(typeof(LDAvis) !== \"undefined\"){\n",
              "   // already loaded: just create the visualization\n",
              "   !function(LDAvis){\n",
              "       new LDAvis(\"#\" + \"ldavis_el31271405173305241123929667003\", ldavis_el31271405173305241123929667003_data);\n",
              "   }(LDAvis);\n",
              "}else if(typeof define === \"function\" && define.amd){\n",
              "   // require.js is available: use it to load d3/LDAvis\n",
              "   require.config({paths: {d3: \"https://d3js.org/d3.v5\"}});\n",
              "   require([\"d3\"], function(d3){\n",
              "      window.d3 = d3;\n",
              "      LDAvis_load_lib(\"https://cdn.jsdelivr.net/gh/bmabey/pyLDAvis@3.3.1/pyLDAvis/js/ldavis.v3.0.0.js\", function(){\n",
              "        new LDAvis(\"#\" + \"ldavis_el31271405173305241123929667003\", ldavis_el31271405173305241123929667003_data);\n",
              "      });\n",
              "    });\n",
              "}else{\n",
              "    // require.js not available: dynamically load d3 & LDAvis\n",
              "    LDAvis_load_lib(\"https://d3js.org/d3.v5.js\", function(){\n",
              "         LDAvis_load_lib(\"https://cdn.jsdelivr.net/gh/bmabey/pyLDAvis@3.3.1/pyLDAvis/js/ldavis.v3.0.0.js\", function(){\n",
              "                 new LDAvis(\"#\" + \"ldavis_el31271405173305241123929667003\", ldavis_el31271405173305241123929667003_data);\n",
              "            })\n",
              "         });\n",
              "}\n",
              "</script>"
            ]
          },
          "metadata": {},
          "execution_count": 22
        }
      ]
    },
    {
      "cell_type": "markdown",
      "source": [
        "**How to make inferences from pyLDAvis' output:**\n",
        "\n",
        "Each bubble on the left-hand side plot represents a topic. The larger the bubble, the more prevalent is that topic.\n",
        "\n",
        "A good topic model will have fairly big, non-overlapping bubbles scattered throughout the chart instead of being clustered in one quadrant.\n",
        "\n",
        "A model with too many topics, will typically have many overlaps, small sized bubbles clustered in one region of the chart.\n",
        "\n",
        "Alright, if you move the cursor over one of the bubbles, the words and bars on the right-hand side will update. These words are the salient keywords that form the selected topic."
      ],
      "metadata": {
        "id": "2gk22bIUd26A"
      }
    },
    {
      "cell_type": "markdown",
      "source": [
        "## Mallet's version of LDA"
      ],
      "metadata": {
        "id": "ETy1_-3dfOJV"
      }
    },
    {
      "cell_type": "markdown",
      "source": [
        "Up next, we will improve upon this model by using **Mallet’s version of LDA algorithm** and then we will focus on how to arrive at the optimal number of topics given any large corpus of text."
      ],
      "metadata": {
        "id": "OK3o1pfYfR_C"
      }
    },
    {
      "cell_type": "markdown",
      "source": [
        "Gensim provides a wrapper to implement Mallet’s LDA from within Gensim itself. "
      ],
      "metadata": {
        "id": "BufgXlalgeK7"
      }
    },
    {
      "cell_type": "code",
      "source": [
        "# Upgrading Gensim\n",
        "# Updated to enforce Gensim v3.8 in Colab (the last version to support running topic models via Mallet).\n",
        "# https://github.com/polsci/colab-gensim-mallet\n",
        "!pip install --upgrade gensim==3.8"
      ],
      "metadata": {
        "id": "10EAD6GgiyVo"
      },
      "execution_count": null,
      "outputs": []
    },
    {
      "cell_type": "code",
      "source": [
        "# Installing Mallet\n",
        "!wget http://mallet.cs.umass.edu/dist/mallet-2.0.8.zip\n",
        "!unzip mallet-2.0.8.zip"
      ],
      "metadata": {
        "id": "RnZJ8JBxjnod"
      },
      "execution_count": null,
      "outputs": []
    },
    {
      "cell_type": "code",
      "source": [
        "mallet_path = 'mallet-2.0.8/bin/mallet'\n",
        "ldamallet = gensim.models.wrappers.LdaMallet(mallet_path, corpus=corpus, num_topics=20, id2word=id2word)"
      ],
      "metadata": {
        "id": "bmx7cxdXk8Is"
      },
      "execution_count": 25,
      "outputs": []
    },
    {
      "cell_type": "code",
      "source": [
        "# Showing Topics\n",
        "pprint(ldamallet.show_topics(formatted=False))"
      ],
      "metadata": {
        "colab": {
          "base_uri": "https://localhost:8080/"
        },
        "id": "59BxDHcTjhBr",
        "outputId": "a265dc6e-3790-4331-d829-8a8c9a28e4d3"
      },
      "execution_count": 26,
      "outputs": [
        {
          "output_type": "stream",
          "name": "stdout",
          "text": [
            "[(18,\n",
            "  [('code', 0.02634978041849651),\n",
            "   ('waals', 0.02221648152932059),\n",
            "   ('minister', 0.0216481529320589),\n",
            "   ('artikel', 0.021286489279256006),\n",
            "   ('nace_bel', 0.01958150348747094),\n",
            "   ('bedoelen', 0.018806509945750453),\n",
            "   ('onderneming', 0.018806509945750453),\n",
            "   ('besluit', 0.018703177473521054),\n",
            "   ('regering', 0.017773185223456472),\n",
            "   ('decreet', 0.014259881167656936)]),\n",
            " (1,\n",
            "  [('artikel', 0.04277378477874333),\n",
            "   ('ontwerp', 0.026095013898975734),\n",
            "   ('lid', 0.01677894367784428),\n",
            "   ('wet', 0.01319776614660289),\n",
            "   ('bepalen', 0.01277203175477699),\n",
            "   ('bepaling', 0.012221081365355237),\n",
            "   ('maatregel', 0.011770303774010168),\n",
            "   ('advies', 0.01144474218026095),\n",
            "   ('raad', 0.01106909418747339),\n",
            "   ('bevoegdheid', 0.010242668603340763)]),\n",
            " (14,\n",
            "  [('artikel', 0.057783479279379775),\n",
            "   ('besluit', 0.034413519995537954),\n",
            "   ('waals', 0.028557086284790006),\n",
            "   ('lid', 0.022700652574042055),\n",
            "   ('decreet', 0.022254448100842213),\n",
            "   ('betreffen', 0.02197557030509231),\n",
            "   ('woord', 0.021529365831892466),\n",
            "   ('regering', 0.01968877237994311),\n",
            "   ('vervangen', 0.0139996653466451),\n",
            "   ('cov_id', 0.013497685314295276)]),\n",
            " (2,\n",
            "  [('regering', 0.06096028841426777),\n",
            "   ('minister', 0.04173267056317256),\n",
            "   ('artikel', 0.026711094117004425),\n",
            "   ('besluit', 0.026219478887857105),\n",
            "   ('cov_id', 0.023105915769924074),\n",
            "   ('gelet', 0.022395804883377942),\n",
            "   ('overwegende', 0.021904189654230622),\n",
            "   ('decreet', 0.020975583110285682),\n",
            "   ('betreffen', 0.019828480908941935),\n",
            "   ('besluiten', 0.015895559075763368)]),\n",
            " (12,\n",
            "  [('steun', 0.03679750223015165),\n",
            "   ('onderneming', 0.026449598572702945),\n",
            "   ('betreffen', 0.016057091882247992),\n",
            "   ('besluit', 0.013425512934879572),\n",
            "   ('economisch', 0.013157894736842105),\n",
            "   ('begunstigen', 0.012132024977698483),\n",
            "   ('regering', 0.011418376449598573),\n",
            "   ('gewest', 0.010749330954504907),\n",
            "   ('minister', 0.010570918822479928),\n",
            "   ('artikel', 0.010035682426404995)]),\n",
            " (9,\n",
            "  [('persoon', 0.028245224825496455),\n",
            "   ('artikel', 0.02131919268437855),\n",
            "   ('gegeven', 0.01877604025756182),\n",
            "   ('cov_id', 0.016773984091769927),\n",
            "   ('betreffen', 0.013635625777825875),\n",
            "   ('bevoegd', 0.012878091012391105),\n",
            "   ('akkoord', 0.012174665873058817),\n",
            "   ('verwerking', 0.012120556246956333),\n",
            "   ('overeenkomst', 0.011579459985931496),\n",
            "   ('categorie', 0.009144526811319734)]),\n",
            " (0,\n",
            "  [('artikel', 0.04692106465141386),\n",
            "   ('Vlaams', 0.04185525059170369),\n",
            "   ('lid', 0.03193123780259934),\n",
            "   ('decreet', 0.026740854544699582),\n",
            "   ('vermellen', 0.025951916289498816),\n",
            "   ('besluit', 0.025329070298550846),\n",
            "   ('volgen', 0.019889548644271893),\n",
            "   ('subsidie', 0.017398164680480006),\n",
            "   ('één', 0.01598638043433127),\n",
            "   ('regering', 0.012872150479591412)]),\n",
            " (5,\n",
            "  [('persoon', 0.022386838012605385),\n",
            "   ('cov_id', 0.015511172955717443),\n",
            "   ('kader', 0.015347466644839158),\n",
            "   ('besluit', 0.011868707538675615),\n",
            "   ('mogelijk', 0.011623148072358189),\n",
            "   ('coronavirus', 0.011377588606040764),\n",
            "   ('artikel', 0.010722763362527626),\n",
            "   ('besmetting', 0.009535892608660064),\n",
            "   ('contact', 0.009126626831464353),\n",
            "   ('bepalen', 0.008553654743390357)]),\n",
            " (6,\n",
            "  [('besluit', 0.05256542954310217),\n",
            "   ('cov_id', 0.040107940263196806),\n",
            "   ('koninklijk', 0.03996007688895461),\n",
            "   ('artikel', 0.03408250776282715),\n",
            "   ('wet', 0.0320493863669969),\n",
            "   ('maatregel', 0.029942333284045542),\n",
            "   ('zelfstandig', 0.023325447286707084),\n",
            "   ('coronavirus', 0.018741682685198876),\n",
            "   ('kader', 0.017447878160579626),\n",
            "   ('houdende', 0.016191039479520924)]),\n",
            " (13,\n",
            "  [('leerling', 0.022854303813190906),\n",
            "   ('onderwijs', 0.02241957520804869),\n",
            "   ('school', 0.01273133772202211),\n",
            "   ('decreet', 0.012669233635573221),\n",
            "   ('school_jaar', 0.012172400943982115),\n",
            "   ('betrekking', 0.011427151906595453),\n",
            "   ('organiseren', 0.011116631474351012),\n",
            "   ('één', 0.010992423301453235),\n",
            "   ('jaar', 0.010930319215004347),\n",
            "   ('afwijking', 0.009253508880884363)])]\n"
          ]
        }
      ]
    },
    {
      "cell_type": "code",
      "source": [
        "# Compute Coherence Score\n",
        "coherence_model_ldamallet = CoherenceModel(model=ldamallet, texts=data_lemmatized, dictionary=id2word, coherence='c_v')\n",
        "coherence_ldamallet = coherence_model_ldamallet.get_coherence()\n",
        "print('\\nCoherence Score: ', coherence_ldamallet)"
      ],
      "metadata": {
        "colab": {
          "base_uri": "https://localhost:8080/"
        },
        "id": "gIX9rBgujzdk",
        "outputId": "0456ce97-ac9d-4c0c-932c-f5bcade7d78a"
      },
      "execution_count": 27,
      "outputs": [
        {
          "output_type": "stream",
          "name": "stdout",
          "text": [
            "\n",
            "Coherence Score:  0.4869767643836801\n"
          ]
        }
      ]
    },
    {
      "cell_type": "markdown",
      "source": [
        "**NOTE:** A *slight increase* in **coherence score** from  **0.46444956574558544** to **0.4869767643836801**."
      ],
      "metadata": {
        "id": "Jw3eiFejkNuV"
      }
    },
    {
      "cell_type": "markdown",
      "source": [
        "### Finding the optimal number of topics for LDA"
      ],
      "metadata": {
        "id": "p_OfPJxEk16s"
      }
    },
    {
      "cell_type": "markdown",
      "source": [
        "The approach to finding the optimal number of topics is to build many LDA models with different values of number of topics (k) and pick the one that gives the highest coherence value."
      ],
      "metadata": {
        "id": "rYN-JJP8k-4d"
      }
    },
    {
      "cell_type": "code",
      "source": [
        "def compute_coherence_values(dictionary, corpus, texts, limit, start=2, step=3):\n",
        "    \"\"\"\n",
        "    Compute c_v coherence for various number of topics\n",
        "\n",
        "    Parameters:\n",
        "    ----------\n",
        "    dictionary : Gensim dictionary\n",
        "    corpus : Gensim corpus\n",
        "    texts : List of input texts\n",
        "    limit : Max num of topics\n",
        "\n",
        "    Returns:\n",
        "    -------\n",
        "    model_list : List of LDA topic models\n",
        "    coherence_values : Coherence values corresponding to the LDA model with respective number of topics\n",
        "    \"\"\"\n",
        "    coherence_values = []\n",
        "    model_list = []\n",
        "    for num_topics in range(start, limit, step):\n",
        "        model = gensim.models.wrappers.LdaMallet(mallet_path, corpus=corpus, num_topics=num_topics, id2word=id2word)\n",
        "        model_list.append(model)\n",
        "        coherencemodel = CoherenceModel(model=model, texts=texts, dictionary=dictionary, coherence='c_v')\n",
        "        coherence_values.append(coherencemodel.get_coherence())\n",
        "    \n",
        "    return model_list, coherence_values"
      ],
      "metadata": {
        "id": "OvCJUPmjj4_H"
      },
      "execution_count": 28,
      "outputs": []
    },
    {
      "cell_type": "code",
      "source": [
        "# Can take a long time to run.\n",
        "model_list, coherence_values = compute_coherence_values(dictionary=id2word, corpus=corpus, texts=data_lemmatized, start=2, limit=40, step=6)"
      ],
      "metadata": {
        "id": "a2XYtjZplyTR"
      },
      "execution_count": 29,
      "outputs": []
    },
    {
      "cell_type": "code",
      "source": [
        "# Showing graph\n",
        "limit=40; start=2; step=6;\n",
        "x = range(start, limit, step)\n",
        "plt.plot(x, coherence_values)\n",
        "plt.xlabel(\"Num Topics\")\n",
        "plt.ylabel(\"Coherence score\")\n",
        "plt.legend((\"coherence_values\"), loc='best')\n",
        "plt.show()"
      ],
      "metadata": {
        "colab": {
          "base_uri": "https://localhost:8080/",
          "height": 281
        },
        "id": "k-rMtgaqmfBz",
        "outputId": "9b37cc9f-de57-46f8-aec1-a48cb0acf188"
      },
      "execution_count": 30,
      "outputs": [
        {
          "output_type": "display_data",
          "data": {
            "text/plain": [
              "<Figure size 432x288 with 1 Axes>"
            ],
            "image/png": "[encoded data removed]"
          },
          "metadata": {
            "needs_background": "light"
          }
        }
      ]
    },
    {
      "cell_type": "markdown",
      "source": [
        "**NOTE:**\n",
        "The optimal **coherence score** shown in this plot lies **around 14 number of topics**."
      ],
      "metadata": {
        "id": "K3CVzCuq01Yt"
      }
    },
    {
      "cell_type": "code",
      "source": [
        "# Printing the coherence scores\n",
        "for m, cv in zip(x, coherence_values):\n",
        "    print(\"Num Topics =\", m, \" has Coherence Value of\", round(cv, 4))"
      ],
      "metadata": {
        "colab": {
          "base_uri": "https://localhost:8080/"
        },
        "id": "OQlk6b8OmmUG",
        "outputId": "dd2e8daf-d4dc-4e79-bd63-00f0e36f0054"
      },
      "execution_count": 31,
      "outputs": [
        {
          "output_type": "stream",
          "name": "stdout",
          "text": [
            "Num Topics = 2  has Coherence Value of 0.422\n",
            "Num Topics = 8  has Coherence Value of 0.4514\n",
            "Num Topics = 14  has Coherence Value of 0.4875\n",
            "Num Topics = 20  has Coherence Value of 0.4801\n",
            "Num Topics = 26  has Coherence Value of 0.4663\n",
            "Num Topics = 32  has Coherence Value of 0.4728\n",
            "Num Topics = 38  has Coherence Value of 0.4686\n"
          ]
        }
      ]
    },
    {
      "cell_type": "markdown",
      "source": [
        "If the coherence score seems to keep increasing, it may make better sense to pick the model that gave the highest CV before flattening out."
      ],
      "metadata": {
        "id": "gKIMg0vbmtiA"
      }
    },
    {
      "cell_type": "markdown",
      "source": [
        "### Choosing the model with fourteen (14) topics"
      ],
      "metadata": {
        "id": "yGPOHR2Vm128"
      }
    },
    {
      "cell_type": "code",
      "source": [
        "# Select the model and print the topics\n",
        "# The best LDA model with the optimal coherence score has 14 topics, which is\n",
        "# index 2 from the model_list list\n",
        "optimal_model = model_list[2]\n",
        "model_topics = optimal_model.show_topics(formatted=False)\n",
        "pprint(optimal_model.print_topics(num_words=10))"
      ],
      "metadata": {
        "colab": {
          "base_uri": "https://localhost:8080/"
        },
        "id": "PHB5hvHsmveV",
        "outputId": "6be5669d-0ffc-4625-e29d-2d00021fcd53"
      },
      "execution_count": 32,
      "outputs": [
        {
          "output_type": "stream",
          "name": "stdout",
          "text": [
            "[(0,\n",
            "  '0.037*\"persoon\" + 0.024*\"cov_id\" + 0.020*\"artikel\" + 0.013*\"betreffen\" + '\n",
            "  '0.012*\"gegeven\" + 0.011*\"vaccinatie\" + 0.011*\"coronavirus\" + '\n",
            "  '0.011*\"bevoegd\" + 0.009*\"verwerking\" + 0.008*\"bepalen\"'),\n",
            " (1,\n",
            "  '0.017*\"bedrag\" + 0.014*\"financieel\" + 0.014*\"ziekenhuis\" + 0.013*\"euro\" + '\n",
            "  '0.012*\"artikel\" + 0.011*\"jaar\" + 0.009*\"instelling\" + 0.008*\"volgen\" + '\n",
            "  '0.008*\"basis\" + 0.008*\"kost\"'),\n",
            " (2,\n",
            "  '0.026*\"brusselse_hoofdstedelijk\" + 0.019*\"regering\" + 0.019*\"besluit\" + '\n",
            "  '0.015*\"ordonnantie\" + 0.014*\"minister\" + 0.014*\"gewest\" + '\n",
            "  '0.012*\"betrekking\" + 0.011*\"belasten\" + 0.010*\"belasting\" + '\n",
            "  '0.010*\"administratie\"'),\n",
            " (3,\n",
            "  '0.030*\"artikel\" + 0.020*\"bedoelen\" + 0.016*\"betreffen\" + 0.015*\"procedure\" '\n",
            "  '+ 0.015*\"persoon\" + 0.015*\"kennisgeving\" + 0.015*\"fiscaal\" + '\n",
            "  '0.015*\"akkoord\" + 0.014*\"inlichting\" + 0.013*\"toepassing\"'),\n",
            " (4,\n",
            "  '0.019*\"cov_id\" + 0.016*\"artikel\" + 0.014*\"patiënt\" + 0.011*\"bepalen\" + '\n",
            "  '0.011*\"voorzien\" + 0.010*\"verstrekking\" + 0.008*\"werknemer\" + '\n",
            "  '0.008*\"ziekenhuis\" + 0.008*\"mogelijk\" + 0.007*\"maatregel\"'),\n",
            " (5,\n",
            "  '0.067*\"besluit\" + 0.042*\"koninklijk\" + 0.040*\"wet\" + 0.037*\"artikel\" + '\n",
            "  '0.027*\"cov_id\" + 0.023*\"minister\" + 0.021*\"maatregel\" + 0.016*\"geven\" + '\n",
            "  '0.014*\"zelfstandig\" + 0.014*\"gelet\"'),\n",
            " (6,\n",
            "  '0.040*\"artikel\" + 0.022*\"bedoelen\" + 0.021*\"wet\" + 0.016*\"hoofdstuk\" + '\n",
            "  '0.016*\"werknemer\" + 0.015*\"sociaal\" + 0.014*\"periode\" + 0.013*\"toepassing\" '\n",
            "  '+ 0.012*\"maand\" + 0.011*\"bedrag\"'),\n",
            " (7,\n",
            "  '0.041*\"artikel\" + 0.036*\"Vlaams\" + 0.026*\"besluit\" + 0.025*\"lid\" + '\n",
            "  '0.024*\"decreet\" + 0.021*\"vermellen\" + 0.018*\"subsidie\" + 0.017*\"volgen\" + '\n",
            "  '0.013*\"periode\" + 0.013*\"regering\"'),\n",
            " (8,\n",
            "  '0.051*\"artikel\" + 0.032*\"wetboek\" + 0.028*\"bedoelen\" + 0.024*\"lid\" + '\n",
            "  '0.024*\"goed\" + 0.018*\"regeling\" + 0.017*\"één\" + 0.017*\"bijzonder\" + '\n",
            "  '0.016*\"belasting\" + 0.015*\"besluit\"'),\n",
            " (9,\n",
            "  '0.084*\"artikel\" + 0.071*\"lid\" + 0.052*\"woord\" + 0.038*\"vervangen\" + '\n",
            "  '0.035*\"wet\" + 0.034*\"één\" + 0.031*\"bedoelen\" + 0.026*\"paragraaf\" + '\n",
            "  '0.021*\"volgen\" + 0.018*\"hetzelfde\"'),\n",
            " (10,\n",
            "  '0.033*\"onderneming\" + 0.028*\"steun\" + 0.020*\"artikel\" + 0.016*\"code\" + '\n",
            "  '0.016*\"bedoelen\" + 0.015*\"betreffen\" + 0.014*\"regering\" + 0.013*\"besluit\" + '\n",
            "  '0.013*\"minister\" + 0.012*\"nace_bel\"'),\n",
            " (11,\n",
            "  '0.034*\"artikel\" + 0.020*\"besluit\" + 0.019*\"onderwijs\" + 0.018*\"decreet\" + '\n",
            "  '0.014*\"betreffen\" + 0.014*\"leerling\" + 0.013*\"regering\" + 0.012*\"lid\" + '\n",
            "  '0.012*\"overwegende\" + 0.011*\"organiseren\"'),\n",
            " (12,\n",
            "  '0.028*\"artikel\" + 0.019*\"maatregel\" + 0.019*\"ontwerp\" + 0.010*\"lid\" + '\n",
            "  '0.010*\"wet\" + 0.009*\"bepalen\" + 0.009*\"bepaling\" + 0.008*\"besluit\" + '\n",
            "  '0.008*\"bevoegdheid\" + 0.008*\"volgen\"'),\n",
            " (13,\n",
            "  '0.044*\"regering\" + 0.036*\"besluit\" + 0.031*\"minister\" + 0.027*\"overwegende\" '\n",
            "  '+ 0.026*\"waals\" + 0.023*\"cov_id\" + 0.023*\"artikel\" + 0.023*\"decreet\" + '\n",
            "  '0.017*\"gelet\" + 0.017*\"maatregel\"')]\n"
          ]
        }
      ]
    },
    {
      "cell_type": "markdown",
      "source": [
        "### Finding the dominant topic in each sentence"
      ],
      "metadata": {
        "id": "jM5BBtRPm-BA"
      }
    },
    {
      "cell_type": "markdown",
      "source": [
        "One of the practical application of topic modeling is to determine what topic a given document is about.\n",
        "\n",
        "To find that, we find the **topic number that has the highest percentage contribution** in the document/set of documents."
      ],
      "metadata": {
        "id": "snt2Rep5nGWg"
      }
    },
    {
      "cell_type": "code",
      "source": [
        "def format_topics_sentences(ldamodel=lda_model, corpus=corpus, texts=data_words):\n",
        "    # Init output\n",
        "    sent_topics_df = pd.DataFrame()\n",
        "\n",
        "    # Get main topic in each document\n",
        "    for i, row in enumerate(ldamodel[corpus]):\n",
        "        row = sorted(row, key=lambda x: (x[1]), reverse=True)\n",
        "        # Get the Dominant topic, Perc Contribution and Keywords for each document\n",
        "        for j, (topic_num, prop_topic) in enumerate(row):\n",
        "            if j == 0:  # => dominant topic\n",
        "                wp = ldamodel.show_topic(topic_num)\n",
        "                topic_keywords = \", \".join([word for word, prop in wp])\n",
        "                sent_topics_df = sent_topics_df.append(pd.Series([int(topic_num), round(prop_topic,4), topic_keywords]), ignore_index=True)\n",
        "            else:\n",
        "                break\n",
        "    sent_topics_df.columns = ['Dominant_Topic', 'Perc_Contribution', 'Topic_Keywords']\n",
        "\n",
        "    # Add original text to the end of the output\n",
        "    contents = pd.Series(texts)\n",
        "    sent_topics_df = pd.concat([sent_topics_df, contents], axis=1)\n",
        "    return(sent_topics_df)\n",
        "\n",
        "df_topic_sents_keywords = format_topics_sentences(ldamodel=optimal_model, corpus=corpus, texts=data_words)"
      ],
      "metadata": {
        "id": "4dZDyOL2mn1T"
      },
      "execution_count": 33,
      "outputs": []
    },
    {
      "cell_type": "code",
      "source": [
        "# Formatting\n",
        "df_dominant_topic = df_topic_sents_keywords.reset_index()\n",
        "df_dominant_topic.columns = ['Document_No', 'Dominant_Topic', 'Topic_Perc_Contrib', 'Keywords', 'Text']\n",
        "\n",
        "# Showing\n",
        "df_dominant_topic.head(10)"
      ],
      "metadata": {
        "colab": {
          "base_uri": "https://localhost:8080/",
          "height": 363
        },
        "id": "Rko8z_8PnYaa",
        "outputId": "0abd9f6c-7ad7-494b-8cfc-8a9bab16ebc1"
      },
      "execution_count": 34,
      "outputs": [
        {
          "output_type": "execute_result",
          "data": {
            "text/plain": [
              "   Document_No  Dominant_Topic  Topic_Perc_Contrib  \\\n",
              "0            0             8.0              0.7347   \n",
              "1            1             2.0              0.4394   \n",
              "2            2             5.0              0.5631   \n",
              "3            3            11.0              0.6697   \n",
              "4            4            10.0              0.2717   \n",
              "5            5             7.0              0.4446   \n",
              "6            6             9.0              0.3213   \n",
              "7            7            13.0              0.3958   \n",
              "8            8             5.0              0.4133   \n",
              "9            9             5.0              0.3022   \n",
              "\n",
              "                                            Keywords  \\\n",
              "0  artikel, wetboek, bedoelen, lid, goed, regelin...   \n",
              "1  brusselse_hoofdstedelijk, regering, besluit, o...   \n",
              "2  besluit, koninklijk, wet, artikel, cov_id, min...   \n",
              "3  artikel, besluit, onderwijs, decreet, betreffe...   \n",
              "4  onderneming, steun, artikel, code, bedoelen, b...   \n",
              "5  artikel, Vlaams, besluit, lid, decreet, vermel...   \n",
              "6  artikel, lid, woord, vervangen, wet, één, bedo...   \n",
              "7  regering, besluit, minister, overwegende, waal...   \n",
              "8  besluit, koninklijk, wet, artikel, cov_id, min...   \n",
              "9  besluit, koninklijk, wet, artikel, cov_id, min...   \n",
              "\n",
              "                                                Text  \n",
              "0  [de, coefficient, bedoeld, in, artikel, van, h...  \n",
              "1  [filip, koning, der, belgen, aan, allen, die, ...  \n",
              "2  [verslag, aan, de, koning, sire, het, koninkli...  \n",
              "3  [de, regering, van, de, franse, gemeenschap, g...  \n",
              "4  [de, waalse, regering, gelet, op, het, decreet...  \n",
              "5  [het, vlaams, parlement, heeft, aangenomen, en...  \n",
              "6  [in, worden, de, woorden, pct, vervangen, door...  \n",
              "7  [de, regering, van, de, franse, gemeenschap, g...  \n",
              "8  [filip, koning, der, belgen, aan, allen, die, ...  \n",
              "9  [de, brusselse, hoofdstedelijke, regering, gel...  "
            ],
            "text/html": [
              "\n",
              "  <div id=\"df-e7fb240d-5502-4f94-959e-794d4f15ddd8\">\n",
              "    <div class=\"colab-df-container\">\n",
              "      <div>\n",
              "<style scoped>\n",
              "    .dataframe tbody tr th:only-of-type {\n",
              "        vertical-align: middle;\n",
              "    }\n",
              "\n",
              "    .dataframe tbody tr th {\n",
              "        vertical-align: top;\n",
              "    }\n",
              "\n",
              "    .dataframe thead th {\n",
              "        text-align: right;\n",
              "    }\n",
              "</style>\n",
              "<table border=\"1\" class=\"dataframe\">\n",
              "  <thead>\n",
              "    <tr style=\"text-align: right;\">\n",
              "      <th></th>\n",
              "      <th>Document_No</th>\n",
              "      <th>Dominant_Topic</th>\n",
              "      <th>Topic_Perc_Contrib</th>\n",
              "      <th>Keywords</th>\n",
              "      <th>Text</th>\n",
              "    </tr>\n",
              "  </thead>\n",
              "  <tbody>\n",
              "    <tr>\n",
              "      <th>0</th>\n",
              "      <td>0</td>\n",
              "      <td>8.0</td>\n",
              "      <td>0.7347</td>\n",
              "      <td>artikel, wetboek, bedoelen, lid, goed, regelin...</td>\n",
              "      <td>[de, coefficient, bedoeld, in, artikel, van, h...</td>\n",
              "    </tr>\n",
              "    <tr>\n",
              "      <th>1</th>\n",
              "      <td>1</td>\n",
              "      <td>2.0</td>\n",
              "      <td>0.4394</td>\n",
              "      <td>brusselse_hoofdstedelijk, regering, besluit, o...</td>\n",
              "      <td>[filip, koning, der, belgen, aan, allen, die, ...</td>\n",
              "    </tr>\n",
              "    <tr>\n",
              "      <th>2</th>\n",
              "      <td>2</td>\n",
              "      <td>5.0</td>\n",
              "      <td>0.5631</td>\n",
              "      <td>besluit, koninklijk, wet, artikel, cov_id, min...</td>\n",
              "      <td>[verslag, aan, de, koning, sire, het, koninkli...</td>\n",
              "    </tr>\n",
              "    <tr>\n",
              "      <th>3</th>\n",
              "      <td>3</td>\n",
              "      <td>11.0</td>\n",
              "      <td>0.6697</td>\n",
              "      <td>artikel, besluit, onderwijs, decreet, betreffe...</td>\n",
              "      <td>[de, regering, van, de, franse, gemeenschap, g...</td>\n",
              "    </tr>\n",
              "    <tr>\n",
              "      <th>4</th>\n",
              "      <td>4</td>\n",
              "      <td>10.0</td>\n",
              "      <td>0.2717</td>\n",
              "      <td>onderneming, steun, artikel, code, bedoelen, b...</td>\n",
              "      <td>[de, waalse, regering, gelet, op, het, decreet...</td>\n",
              "    </tr>\n",
              "    <tr>\n",
              "      <th>5</th>\n",
              "      <td>5</td>\n",
              "      <td>7.0</td>\n",
              "      <td>0.4446</td>\n",
              "      <td>artikel, Vlaams, besluit, lid, decreet, vermel...</td>\n",
              "      <td>[het, vlaams, parlement, heeft, aangenomen, en...</td>\n",
              "    </tr>\n",
              "    <tr>\n",
              "      <th>6</th>\n",
              "      <td>6</td>\n",
              "      <td>9.0</td>\n",
              "      <td>0.3213</td>\n",
              "      <td>artikel, lid, woord, vervangen, wet, één, bedo...</td>\n",
              "      <td>[in, worden, de, woorden, pct, vervangen, door...</td>\n",
              "    </tr>\n",
              "    <tr>\n",
              "      <th>7</th>\n",
              "      <td>7</td>\n",
              "      <td>13.0</td>\n",
              "      <td>0.3958</td>\n",
              "      <td>regering, besluit, minister, overwegende, waal...</td>\n",
              "      <td>[de, regering, van, de, franse, gemeenschap, g...</td>\n",
              "    </tr>\n",
              "    <tr>\n",
              "      <th>8</th>\n",
              "      <td>8</td>\n",
              "      <td>5.0</td>\n",
              "      <td>0.4133</td>\n",
              "      <td>besluit, koninklijk, wet, artikel, cov_id, min...</td>\n",
              "      <td>[filip, koning, der, belgen, aan, allen, die, ...</td>\n",
              "    </tr>\n",
              "    <tr>\n",
              "      <th>9</th>\n",
              "      <td>9</td>\n",
              "      <td>5.0</td>\n",
              "      <td>0.3022</td>\n",
              "      <td>besluit, koninklijk, wet, artikel, cov_id, min...</td>\n",
              "      <td>[de, brusselse, hoofdstedelijke, regering, gel...</td>\n",
              "    </tr>\n",
              "  </tbody>\n",
              "</table>\n",
              "</div>\n",
              "      <button class=\"colab-df-convert\" onclick=\"convertToInteractive('df-e7fb240d-5502-4f94-959e-794d4f15ddd8')\"\n",
              "              title=\"Convert this dataframe to an interactive table.\"\n",
              "              style=\"display:none;\">\n",
              "        \n",
              "  <svg xmlns=\"http://www.w3.org/2000/svg\" height=\"24px\"viewBox=\"0 0 24 24\"\n",
              "       width=\"24px\">\n",
              "    <path d=\"M0 0h24v24H0V0z\" fill=\"none\"/>\n",
              "    <path d=\"M18.56 5.44l.94 2.06.94-2.06 2.06-.94-2.06-.94-.94-2.06-.94 2.06-2.06.94zm-11 1L8.5 8.5l.94-2.06 2.06-.94-2.06-.94L8.5 2.5l-.94 2.06-2.06.94zm10 10l.94 2.06.94-2.06 2.06-.94-2.06-.94-.94-2.06-.94 2.06-2.06.94z\"/><path d=\"M17.41 7.96l-1.37-1.37c-.4-.4-.92-.59-1.43-.59-.52 0-1.04.2-1.43.59L10.3 9.45l-7.72 7.72c-.78.78-.78 2.05 0 2.83L4 21.41c.39.39.9.59 1.41.59.51 0 1.02-.2 1.41-.59l7.78-7.78 2.81-2.81c.8-.78.8-2.07 0-2.86zM5.41 20L4 18.59l7.72-7.72 1.47 1.35L5.41 20z\"/>\n",
              "  </svg>\n",
              "      </button>\n",
              "      \n",
              "  <style>\n",
              "    .colab-df-container {\n",
              "      display:flex;\n",
              "      flex-wrap:wrap;\n",
              "      gap: 12px;\n",
              "    }\n",
              "\n",
              "    .colab-df-convert {\n",
              "      background-color: #E8F0FE;\n",
              "      border: none;\n",
              "      border-radius: 50%;\n",
              "      cursor: pointer;\n",
              "      display: none;\n",
              "      fill: #1967D2;\n",
              "      height: 32px;\n",
              "      padding: 0 0 0 0;\n",
              "      width: 32px;\n",
              "    }\n",
              "\n",
              "    .colab-df-convert:hover {\n",
              "      background-color: #E2EBFA;\n",
              "      box-shadow: 0px 1px 2px rgba(60, 64, 67, 0.3), 0px 1px 3px 1px rgba(60, 64, 67, 0.15);\n",
              "      fill: #174EA6;\n",
              "    }\n",
              "\n",
              "    [theme=dark] .colab-df-convert {\n",
              "      background-color: #3B4455;\n",
              "      fill: #D2E3FC;\n",
              "    }\n",
              "\n",
              "    [theme=dark] .colab-df-convert:hover {\n",
              "      background-color: #434B5C;\n",
              "      box-shadow: 0px 1px 3px 1px rgba(0, 0, 0, 0.15);\n",
              "      filter: drop-shadow(0px 1px 2px rgba(0, 0, 0, 0.3));\n",
              "      fill: #FFFFFF;\n",
              "    }\n",
              "  </style>\n",
              "\n",
              "      <script>\n",
              "        const buttonEl =\n",
              "          document.querySelector('#df-e7fb240d-5502-4f94-959e-794d4f15ddd8 button.colab-df-convert');\n",
              "        buttonEl.style.display =\n",
              "          google.colab.kernel.accessAllowed ? 'block' : 'none';\n",
              "\n",
              "        async function convertToInteractive(key) {\n",
              "          const element = document.querySelector('#df-e7fb240d-5502-4f94-959e-794d4f15ddd8');\n",
              "          const dataTable =\n",
              "            await google.colab.kernel.invokeFunction('convertToInteractive',\n",
              "                                                     [key], {});\n",
              "          if (!dataTable) return;\n",
              "\n",
              "          const docLinkHtml = 'Like what you see? Visit the ' +\n",
              "            '<a target=\"_blank\" href=https://colab.research.google.com/notebooks/data_table.ipynb>data table notebook</a>'\n",
              "            + ' to learn more about interactive tables.';\n",
              "          element.innerHTML = '';\n",
              "          dataTable['output_type'] = 'display_data';\n",
              "          await google.colab.output.renderOutput(dataTable, element);\n",
              "          const docLink = document.createElement('div');\n",
              "          docLink.innerHTML = docLinkHtml;\n",
              "          element.appendChild(docLink);\n",
              "        }\n",
              "      </script>\n",
              "    </div>\n",
              "  </div>\n",
              "  "
            ]
          },
          "metadata": {},
          "execution_count": 34
        }
      ]
    },
    {
      "cell_type": "markdown",
      "source": [
        "### Finding the most representative document for each topic"
      ],
      "metadata": {
        "id": "rH-gdgkgpfiM"
      }
    },
    {
      "cell_type": "markdown",
      "source": [
        "With understanding the topic, you can find the documents a given topic has contributed to the most and infer the topic by reading that document."
      ],
      "metadata": {
        "id": "Z1e_t-Ufpiyf"
      }
    },
    {
      "cell_type": "code",
      "source": [
        "# Grouping the top 5 sentences under each topic\n",
        "sent_topics_sorteddf_mallet = pd.DataFrame()\n",
        "\n",
        "sent_topics_outdf_grpd = df_topic_sents_keywords.groupby('Dominant_Topic')\n",
        "\n",
        "for i, grp in sent_topics_outdf_grpd:\n",
        "    sent_topics_sorteddf_mallet = pd.concat([sent_topics_sorteddf_mallet, \n",
        "                                             grp.sort_values(['Perc_Contribution'], ascending=[0]).head(1)], \n",
        "                                            axis=0)\n",
        "\n",
        "# Reseting Index    \n",
        "sent_topics_sorteddf_mallet.reset_index(drop=True, inplace=True)\n",
        "\n",
        "# Formating\n",
        "sent_topics_sorteddf_mallet.columns = ['Topic_Num', \"Topic_Perc_Contrib\", \"Keywords\", \"Text\"]\n",
        "\n",
        "# Showing\n",
        "sent_topics_sorteddf_mallet.head()"
      ],
      "metadata": {
        "colab": {
          "base_uri": "https://localhost:8080/",
          "height": 206
        },
        "id": "RNhW5j47pqBn",
        "outputId": "5e0ce6cb-b7e1-40bb-fa76-11b48b833854"
      },
      "execution_count": 35,
      "outputs": [
        {
          "output_type": "execute_result",
          "data": {
            "text/plain": [
              "   Topic_Num  Topic_Perc_Contrib  \\\n",
              "0        0.0              0.8710   \n",
              "1        1.0              0.8355   \n",
              "2        2.0              0.9438   \n",
              "3        3.0              0.9013   \n",
              "4        4.0              0.8259   \n",
              "\n",
              "                                            Keywords  \\\n",
              "0  persoon, cov_id, artikel, betreffen, gegeven, ...   \n",
              "1  bedrag, financieel, ziekenhuis, euro, artikel,...   \n",
              "2  brusselse_hoofdstedelijk, regering, besluit, o...   \n",
              "3  artikel, bedoelen, betreffen, procedure, perso...   \n",
              "4  cov_id, artikel, patiënt, bepalen, voorzien, v...   \n",
              "\n",
              "                                                Text  \n",
              "0  [filip, koning, der, belgen, aan, allen, die, ...  \n",
              "1  [startende, vennootschappen, kunnen, moeilijkh...  \n",
              "2  [krachtens, artikel, van, het, koninklijk, bes...  \n",
              "3  [de, brusselse, hoofdstedelijke, regering, gel...  \n",
              "4  [verslag, aan, de, koning, sire, ik, heb, de, ...  "
            ],
            "text/html": [
              "\n",
              "  <div id=\"df-7787cf52-46f7-4ac8-82b6-58ee82d1289e\">\n",
              "    <div class=\"colab-df-container\">\n",
              "      <div>\n",
              "<style scoped>\n",
              "    .dataframe tbody tr th:only-of-type {\n",
              "        vertical-align: middle;\n",
              "    }\n",
              "\n",
              "    .dataframe tbody tr th {\n",
              "        vertical-align: top;\n",
              "    }\n",
              "\n",
              "    .dataframe thead th {\n",
              "        text-align: right;\n",
              "    }\n",
              "</style>\n",
              "<table border=\"1\" class=\"dataframe\">\n",
              "  <thead>\n",
              "    <tr style=\"text-align: right;\">\n",
              "      <th></th>\n",
              "      <th>Topic_Num</th>\n",
              "      <th>Topic_Perc_Contrib</th>\n",
              "      <th>Keywords</th>\n",
              "      <th>Text</th>\n",
              "    </tr>\n",
              "  </thead>\n",
              "  <tbody>\n",
              "    <tr>\n",
              "      <th>0</th>\n",
              "      <td>0.0</td>\n",
              "      <td>0.8710</td>\n",
              "      <td>persoon, cov_id, artikel, betreffen, gegeven, ...</td>\n",
              "      <td>[filip, koning, der, belgen, aan, allen, die, ...</td>\n",
              "    </tr>\n",
              "    <tr>\n",
              "      <th>1</th>\n",
              "      <td>1.0</td>\n",
              "      <td>0.8355</td>\n",
              "      <td>bedrag, financieel, ziekenhuis, euro, artikel,...</td>\n",
              "      <td>[startende, vennootschappen, kunnen, moeilijkh...</td>\n",
              "    </tr>\n",
              "    <tr>\n",
              "      <th>2</th>\n",
              "      <td>2.0</td>\n",
              "      <td>0.9438</td>\n",
              "      <td>brusselse_hoofdstedelijk, regering, besluit, o...</td>\n",
              "      <td>[krachtens, artikel, van, het, koninklijk, bes...</td>\n",
              "    </tr>\n",
              "    <tr>\n",
              "      <th>3</th>\n",
              "      <td>3.0</td>\n",
              "      <td>0.9013</td>\n",
              "      <td>artikel, bedoelen, betreffen, procedure, perso...</td>\n",
              "      <td>[de, brusselse, hoofdstedelijke, regering, gel...</td>\n",
              "    </tr>\n",
              "    <tr>\n",
              "      <th>4</th>\n",
              "      <td>4.0</td>\n",
              "      <td>0.8259</td>\n",
              "      <td>cov_id, artikel, patiënt, bepalen, voorzien, v...</td>\n",
              "      <td>[verslag, aan, de, koning, sire, ik, heb, de, ...</td>\n",
              "    </tr>\n",
              "  </tbody>\n",
              "</table>\n",
              "</div>\n",
              "      <button class=\"colab-df-convert\" onclick=\"convertToInteractive('df-7787cf52-46f7-4ac8-82b6-58ee82d1289e')\"\n",
              "              title=\"Convert this dataframe to an interactive table.\"\n",
              "              style=\"display:none;\">\n",
              "        \n",
              "  <svg xmlns=\"http://www.w3.org/2000/svg\" height=\"24px\"viewBox=\"0 0 24 24\"\n",
              "       width=\"24px\">\n",
              "    <path d=\"M0 0h24v24H0V0z\" fill=\"none\"/>\n",
              "    <path d=\"M18.56 5.44l.94 2.06.94-2.06 2.06-.94-2.06-.94-.94-2.06-.94 2.06-2.06.94zm-11 1L8.5 8.5l.94-2.06 2.06-.94-2.06-.94L8.5 2.5l-.94 2.06-2.06.94zm10 10l.94 2.06.94-2.06 2.06-.94-2.06-.94-.94-2.06-.94 2.06-2.06.94z\"/><path d=\"M17.41 7.96l-1.37-1.37c-.4-.4-.92-.59-1.43-.59-.52 0-1.04.2-1.43.59L10.3 9.45l-7.72 7.72c-.78.78-.78 2.05 0 2.83L4 21.41c.39.39.9.59 1.41.59.51 0 1.02-.2 1.41-.59l7.78-7.78 2.81-2.81c.8-.78.8-2.07 0-2.86zM5.41 20L4 18.59l7.72-7.72 1.47 1.35L5.41 20z\"/>\n",
              "  </svg>\n",
              "      </button>\n",
              "      \n",
              "  <style>\n",
              "    .colab-df-container {\n",
              "      display:flex;\n",
              "      flex-wrap:wrap;\n",
              "      gap: 12px;\n",
              "    }\n",
              "\n",
              "    .colab-df-convert {\n",
              "      background-color: #E8F0FE;\n",
              "      border: none;\n",
              "      border-radius: 50%;\n",
              "      cursor: pointer;\n",
              "      display: none;\n",
              "      fill: #1967D2;\n",
              "      height: 32px;\n",
              "      padding: 0 0 0 0;\n",
              "      width: 32px;\n",
              "    }\n",
              "\n",
              "    .colab-df-convert:hover {\n",
              "      background-color: #E2EBFA;\n",
              "      box-shadow: 0px 1px 2px rgba(60, 64, 67, 0.3), 0px 1px 3px 1px rgba(60, 64, 67, 0.15);\n",
              "      fill: #174EA6;\n",
              "    }\n",
              "\n",
              "    [theme=dark] .colab-df-convert {\n",
              "      background-color: #3B4455;\n",
              "      fill: #D2E3FC;\n",
              "    }\n",
              "\n",
              "    [theme=dark] .colab-df-convert:hover {\n",
              "      background-color: #434B5C;\n",
              "      box-shadow: 0px 1px 3px 1px rgba(0, 0, 0, 0.15);\n",
              "      filter: drop-shadow(0px 1px 2px rgba(0, 0, 0, 0.3));\n",
              "      fill: #FFFFFF;\n",
              "    }\n",
              "  </style>\n",
              "\n",
              "      <script>\n",
              "        const buttonEl =\n",
              "          document.querySelector('#df-7787cf52-46f7-4ac8-82b6-58ee82d1289e button.colab-df-convert');\n",
              "        buttonEl.style.display =\n",
              "          google.colab.kernel.accessAllowed ? 'block' : 'none';\n",
              "\n",
              "        async function convertToInteractive(key) {\n",
              "          const element = document.querySelector('#df-7787cf52-46f7-4ac8-82b6-58ee82d1289e');\n",
              "          const dataTable =\n",
              "            await google.colab.kernel.invokeFunction('convertToInteractive',\n",
              "                                                     [key], {});\n",
              "          if (!dataTable) return;\n",
              "\n",
              "          const docLinkHtml = 'Like what you see? Visit the ' +\n",
              "            '<a target=\"_blank\" href=https://colab.research.google.com/notebooks/data_table.ipynb>data table notebook</a>'\n",
              "            + ' to learn more about interactive tables.';\n",
              "          element.innerHTML = '';\n",
              "          dataTable['output_type'] = 'display_data';\n",
              "          await google.colab.output.renderOutput(dataTable, element);\n",
              "          const docLink = document.createElement('div');\n",
              "          docLink.innerHTML = docLinkHtml;\n",
              "          element.appendChild(docLink);\n",
              "        }\n",
              "      </script>\n",
              "    </div>\n",
              "  </div>\n",
              "  "
            ]
          },
          "metadata": {},
          "execution_count": 35
        }
      ]
    },
    {
      "cell_type": "markdown",
      "source": [
        "The tabular output above actually has 20 rows, one each for a topic. It has the topic number, the keywords, and the most representative document. The **Perc_Contribution column** is nothing but the percentage contribution of the topic in the given document."
      ],
      "metadata": {
        "id": "DoYcEQQNp6Lm"
      }
    },
    {
      "cell_type": "markdown",
      "source": [
        "## Topic distribution across documents"
      ],
      "metadata": {
        "id": "GP4W5PoIp-pK"
      }
    },
    {
      "cell_type": "markdown",
      "source": [
        "Finally, we want to understand the volume and distribution of topics in order to judge how widely it was discussed. "
      ],
      "metadata": {
        "id": "nFRFXvosqB4n"
      }
    },
    {
      "cell_type": "code",
      "source": [
        "# Number of Documents for Each Topic\n",
        "topic_counts = df_topic_sents_keywords['Dominant_Topic'].value_counts()\n",
        "\n",
        "# Percentage of Documents for Each Topic\n",
        "topic_contribution = round(topic_counts/topic_counts.sum(), 4)\n",
        "\n",
        "# Topic Number and Keywords\n",
        "topic_num_keywords = df_topic_sents_keywords[['Dominant_Topic', 'Topic_Keywords']]\n",
        "\n",
        "# Concatenatinate Column wise\n",
        "df_dominant_topics = pd.concat([topic_num_keywords, topic_counts, topic_contribution], axis=1)\n",
        "\n",
        "# Change Column names\n",
        "df_dominant_topics.columns = ['Dominant_Topic', 'Topic_Keywords', 'Num_Documents', 'Perc_Documents']\n",
        "\n",
        "# Show\n",
        "df_dominant_topics"
      ],
      "metadata": {
        "id": "UhzZdILGqUaT",
        "colab": {
          "base_uri": "https://localhost:8080/",
          "height": 424
        },
        "outputId": "c7bd9f24-3077-4db2-c21e-283e3584b20a"
      },
      "execution_count": 36,
      "outputs": [
        {
          "output_type": "execute_result",
          "data": {
            "text/plain": [
              "       Dominant_Topic                                     Topic_Keywords  \\\n",
              "0.0               8.0  artikel, wetboek, bedoelen, lid, goed, regelin...   \n",
              "1.0               2.0  brusselse_hoofdstedelijk, regering, besluit, o...   \n",
              "2.0               5.0  besluit, koninklijk, wet, artikel, cov_id, min...   \n",
              "3.0              11.0  artikel, besluit, onderwijs, decreet, betreffe...   \n",
              "4.0              10.0  onderneming, steun, artikel, code, bedoelen, b...   \n",
              "...               ...                                                ...   \n",
              "623.0             3.0  artikel, bedoelen, betreffen, procedure, perso...   \n",
              "624.0            13.0  regering, besluit, minister, overwegende, waal...   \n",
              "625.0            13.0  regering, besluit, minister, overwegende, waal...   \n",
              "626.0             9.0  artikel, lid, woord, vervangen, wet, één, bedo...   \n",
              "627.0             0.0  persoon, cov_id, artikel, betreffen, gegeven, ...   \n",
              "\n",
              "       Num_Documents  Perc_Documents  \n",
              "0.0             24.0          0.0382  \n",
              "1.0             33.0          0.0525  \n",
              "2.0             58.0          0.0924  \n",
              "3.0             37.0          0.0589  \n",
              "4.0             31.0          0.0494  \n",
              "...              ...             ...  \n",
              "623.0            NaN             NaN  \n",
              "624.0            NaN             NaN  \n",
              "625.0            NaN             NaN  \n",
              "626.0            NaN             NaN  \n",
              "627.0            NaN             NaN  \n",
              "\n",
              "[628 rows x 4 columns]"
            ],
            "text/html": [
              "\n",
              "  <div id=\"df-6b3a2e88-ea9b-4842-9bbc-f992ce0eb425\">\n",
              "    <div class=\"colab-df-container\">\n",
              "      <div>\n",
              "<style scoped>\n",
              "    .dataframe tbody tr th:only-of-type {\n",
              "        vertical-align: middle;\n",
              "    }\n",
              "\n",
              "    .dataframe tbody tr th {\n",
              "        vertical-align: top;\n",
              "    }\n",
              "\n",
              "    .dataframe thead th {\n",
              "        text-align: right;\n",
              "    }\n",
              "</style>\n",
              "<table border=\"1\" class=\"dataframe\">\n",
              "  <thead>\n",
              "    <tr style=\"text-align: right;\">\n",
              "      <th></th>\n",
              "      <th>Dominant_Topic</th>\n",
              "      <th>Topic_Keywords</th>\n",
              "      <th>Num_Documents</th>\n",
              "      <th>Perc_Documents</th>\n",
              "    </tr>\n",
              "  </thead>\n",
              "  <tbody>\n",
              "    <tr>\n",
              "      <th>0.0</th>\n",
              "      <td>8.0</td>\n",
              "      <td>artikel, wetboek, bedoelen, lid, goed, regelin...</td>\n",
              "      <td>24.0</td>\n",
              "      <td>0.0382</td>\n",
              "    </tr>\n",
              "    <tr>\n",
              "      <th>1.0</th>\n",
              "      <td>2.0</td>\n",
              "      <td>brusselse_hoofdstedelijk, regering, besluit, o...</td>\n",
              "      <td>33.0</td>\n",
              "      <td>0.0525</td>\n",
              "    </tr>\n",
              "    <tr>\n",
              "      <th>2.0</th>\n",
              "      <td>5.0</td>\n",
              "      <td>besluit, koninklijk, wet, artikel, cov_id, min...</td>\n",
              "      <td>58.0</td>\n",
              "      <td>0.0924</td>\n",
              "    </tr>\n",
              "    <tr>\n",
              "      <th>3.0</th>\n",
              "      <td>11.0</td>\n",
              "      <td>artikel, besluit, onderwijs, decreet, betreffe...</td>\n",
              "      <td>37.0</td>\n",
              "      <td>0.0589</td>\n",
              "    </tr>\n",
              "    <tr>\n",
              "      <th>4.0</th>\n",
              "      <td>10.0</td>\n",
              "      <td>onderneming, steun, artikel, code, bedoelen, b...</td>\n",
              "      <td>31.0</td>\n",
              "      <td>0.0494</td>\n",
              "    </tr>\n",
              "    <tr>\n",
              "      <th>...</th>\n",
              "      <td>...</td>\n",
              "      <td>...</td>\n",
              "      <td>...</td>\n",
              "      <td>...</td>\n",
              "    </tr>\n",
              "    <tr>\n",
              "      <th>623.0</th>\n",
              "      <td>3.0</td>\n",
              "      <td>artikel, bedoelen, betreffen, procedure, perso...</td>\n",
              "      <td>NaN</td>\n",
              "      <td>NaN</td>\n",
              "    </tr>\n",
              "    <tr>\n",
              "      <th>624.0</th>\n",
              "      <td>13.0</td>\n",
              "      <td>regering, besluit, minister, overwegende, waal...</td>\n",
              "      <td>NaN</td>\n",
              "      <td>NaN</td>\n",
              "    </tr>\n",
              "    <tr>\n",
              "      <th>625.0</th>\n",
              "      <td>13.0</td>\n",
              "      <td>regering, besluit, minister, overwegende, waal...</td>\n",
              "      <td>NaN</td>\n",
              "      <td>NaN</td>\n",
              "    </tr>\n",
              "    <tr>\n",
              "      <th>626.0</th>\n",
              "      <td>9.0</td>\n",
              "      <td>artikel, lid, woord, vervangen, wet, één, bedo...</td>\n",
              "      <td>NaN</td>\n",
              "      <td>NaN</td>\n",
              "    </tr>\n",
              "    <tr>\n",
              "      <th>627.0</th>\n",
              "      <td>0.0</td>\n",
              "      <td>persoon, cov_id, artikel, betreffen, gegeven, ...</td>\n",
              "      <td>NaN</td>\n",
              "      <td>NaN</td>\n",
              "    </tr>\n",
              "  </tbody>\n",
              "</table>\n",
              "<p>628 rows × 4 columns</p>\n",
              "</div>\n",
              "      <button class=\"colab-df-convert\" onclick=\"convertToInteractive('df-6b3a2e88-ea9b-4842-9bbc-f992ce0eb425')\"\n",
              "              title=\"Convert this dataframe to an interactive table.\"\n",
              "              style=\"display:none;\">\n",
              "        \n",
              "  <svg xmlns=\"http://www.w3.org/2000/svg\" height=\"24px\"viewBox=\"0 0 24 24\"\n",
              "       width=\"24px\">\n",
              "    <path d=\"M0 0h24v24H0V0z\" fill=\"none\"/>\n",
              "    <path d=\"M18.56 5.44l.94 2.06.94-2.06 2.06-.94-2.06-.94-.94-2.06-.94 2.06-2.06.94zm-11 1L8.5 8.5l.94-2.06 2.06-.94-2.06-.94L8.5 2.5l-.94 2.06-2.06.94zm10 10l.94 2.06.94-2.06 2.06-.94-2.06-.94-.94-2.06-.94 2.06-2.06.94z\"/><path d=\"M17.41 7.96l-1.37-1.37c-.4-.4-.92-.59-1.43-.59-.52 0-1.04.2-1.43.59L10.3 9.45l-7.72 7.72c-.78.78-.78 2.05 0 2.83L4 21.41c.39.39.9.59 1.41.59.51 0 1.02-.2 1.41-.59l7.78-7.78 2.81-2.81c.8-.78.8-2.07 0-2.86zM5.41 20L4 18.59l7.72-7.72 1.47 1.35L5.41 20z\"/>\n",
              "  </svg>\n",
              "      </button>\n",
              "      \n",
              "  <style>\n",
              "    .colab-df-container {\n",
              "      display:flex;\n",
              "      flex-wrap:wrap;\n",
              "      gap: 12px;\n",
              "    }\n",
              "\n",
              "    .colab-df-convert {\n",
              "      background-color: #E8F0FE;\n",
              "      border: none;\n",
              "      border-radius: 50%;\n",
              "      cursor: pointer;\n",
              "      display: none;\n",
              "      fill: #1967D2;\n",
              "      height: 32px;\n",
              "      padding: 0 0 0 0;\n",
              "      width: 32px;\n",
              "    }\n",
              "\n",
              "    .colab-df-convert:hover {\n",
              "      background-color: #E2EBFA;\n",
              "      box-shadow: 0px 1px 2px rgba(60, 64, 67, 0.3), 0px 1px 3px 1px rgba(60, 64, 67, 0.15);\n",
              "      fill: #174EA6;\n",
              "    }\n",
              "\n",
              "    [theme=dark] .colab-df-convert {\n",
              "      background-color: #3B4455;\n",
              "      fill: #D2E3FC;\n",
              "    }\n",
              "\n",
              "    [theme=dark] .colab-df-convert:hover {\n",
              "      background-color: #434B5C;\n",
              "      box-shadow: 0px 1px 3px 1px rgba(0, 0, 0, 0.15);\n",
              "      filter: drop-shadow(0px 1px 2px rgba(0, 0, 0, 0.3));\n",
              "      fill: #FFFFFF;\n",
              "    }\n",
              "  </style>\n",
              "\n",
              "      <script>\n",
              "        const buttonEl =\n",
              "          document.querySelector('#df-6b3a2e88-ea9b-4842-9bbc-f992ce0eb425 button.colab-df-convert');\n",
              "        buttonEl.style.display =\n",
              "          google.colab.kernel.accessAllowed ? 'block' : 'none';\n",
              "\n",
              "        async function convertToInteractive(key) {\n",
              "          const element = document.querySelector('#df-6b3a2e88-ea9b-4842-9bbc-f992ce0eb425');\n",
              "          const dataTable =\n",
              "            await google.colab.kernel.invokeFunction('convertToInteractive',\n",
              "                                                     [key], {});\n",
              "          if (!dataTable) return;\n",
              "\n",
              "          const docLinkHtml = 'Like what you see? Visit the ' +\n",
              "            '<a target=\"_blank\" href=https://colab.research.google.com/notebooks/data_table.ipynb>data table notebook</a>'\n",
              "            + ' to learn more about interactive tables.';\n",
              "          element.innerHTML = '';\n",
              "          dataTable['output_type'] = 'display_data';\n",
              "          await google.colab.output.renderOutput(dataTable, element);\n",
              "          const docLink = document.createElement('div');\n",
              "          docLink.innerHTML = docLinkHtml;\n",
              "          element.appendChild(docLink);\n",
              "        }\n",
              "      </script>\n",
              "    </div>\n",
              "  </div>\n",
              "  "
            ]
          },
          "metadata": {},
          "execution_count": 36
        }
      ]
    },
    {
      "cell_type": "markdown",
      "source": [
        "## CONCLUSION"
      ],
      "metadata": {
        "id": "OXf89-LI3xO-"
      }
    },
    {
      "cell_type": "markdown",
      "source": [
        "From 628 Dutch legal text files that were cleaned, further ML preprocessing and unsupervised topic extraction were carried out via:\n",
        "\n",
        "- A basic topic model using Gensim’s LDA; \n",
        "\n",
        "- pyLDAvis for topic visualisation; and \n",
        "\n",
        "- Mallet’s LDA implementation."
      ],
      "metadata": {
        "id": "5pc767Ni3zK7"
      }
    }
  ]
}
