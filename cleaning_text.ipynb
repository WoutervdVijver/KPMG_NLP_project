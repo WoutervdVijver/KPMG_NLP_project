{
 "cells": [
  {
   "cell_type": "code",
   "execution_count": 15,
   "metadata": {},
   "outputs": [],
   "source": [
    "import re\n",
    "import os\n",
    "import shutil"
   ]
  },
  {
   "cell_type": "code",
   "execution_count": 16,
   "metadata": {},
   "outputs": [],
   "source": [
    "# fill in the path to the folder of articles\n",
    "\n",
    "path = './data/articles/'"
   ]
  },
  {
   "cell_type": "code",
   "execution_count": 17,
   "metadata": {},
   "outputs": [],
   "source": [
    "# Here we create a list of articles while ingoring german translations\n",
    "\n",
    "texts = []\n",
    "for name in os.listdir(path):\n",
    "    with open(path+name, 'r') as file:\n",
    "        text = file.read()\n",
    "    if 'Duitse vertaling' in text:\n",
    "        continue\n",
    "    else:\n",
    "        texts.append(name)"
   ]
  },
  {
   "cell_type": "code",
   "execution_count": 27,
   "metadata": {},
   "outputs": [],
   "source": [
    "def initial_clean(text:str) ->  str:\n",
    "    '''\n",
    "    Function that cleans articles and tries add spaces where they are missing\n",
    "\n",
    "    :params text: str that is the text\n",
    "\n",
    "    return a str\n",
    "    '''\n",
    "    pattern = r'(,|:|;)'\n",
    "    pat = re.compile(pattern)\n",
    "    new_text = pat.sub(r'\\1  ', text)\n",
    "\n",
    "    pattern = r'([\\s][\\w-]+\\.)([A-Za-z]+)'\n",
    "    pat = re.compile(pattern)\n",
    "    new_text = pat.sub(r'\\1  \\2', new_text)\n",
    "\n",
    "    pattern = r'([\\\"][\\.])'\n",
    "    pat = re.compile(pattern)\n",
    "    new_text = pat.sub(r'\\1 ', new_text)\n",
    "\n",
    "    pattern = r'([\\.][\\\"])'\n",
    "    pat = re.compile(pattern)\n",
    "    new_text = pat.sub(r'\\1 ', new_text)\n",
    "\n",
    "    pattern = r'([A-Za-z])([0-9])'\n",
    "    pat = re.compile(pattern)\n",
    "    new_text = pat.sub(r'\\1 \\2', new_text)\n",
    "\n",
    "    pattern = r'([0-9])([A-Za-z])'\n",
    "    pat = re.compile(pattern)\n",
    "    new_text = pat.sub(r'\\1 \\2', new_text)\n",
    "\n",
    "    pattern = r'(__+)'\n",
    "    pat = re.compile(pattern)\n",
    "    new_text = pat.sub(r' \\1  ', new_text)\n",
    "\n",
    "    new_text = re.sub(r\" +\",\" \",new_text)\n",
    "\n",
    "\n",
    "\n",
    "    pattern = r'([A-Za-z]+)([A-Z][a-z])'\n",
    "    pat = re.compile(pattern)\n",
    "    new_text = pat.sub(r'\\1 \\2', new_text)\n",
    "\n",
    "    return new_text"
   ]
  },
  {
   "cell_type": "code",
   "execution_count": 28,
   "metadata": {},
   "outputs": [],
   "source": [
    "# path where the cleaned files should be saved\n",
    "\n",
    "new_path = './data/clean_articles/'\n",
    "\n",
    "# in this new path the cleaned texts will be stored\n",
    "\n",
    "shutil.rmtree(new_path, ignore_errors=True)\n",
    "os.makedirs(new_path, exist_ok=True)\n",
    "for name in texts:\n",
    "    with open(path+name,'r') as file:\n",
    "        text = file.read()\n",
    "    with open(new_path+name, 'w+') as file:\n",
    "        file.write(initial_clean(text))\n",
    "    \n"
   ]
  }
 ],
 "metadata": {
  "interpreter": {
   "hash": "35c267216a8a9a5de802732b368407c9e859165faf5cda25a6a24bab33258039"
  },
  "kernelspec": {
   "display_name": "Python 3.8.8 64-bit ('3.8.8')",
   "language": "python",
   "name": "python3"
  },
  "language_info": {
   "codemirror_mode": {
    "name": "ipython",
    "version": 3
   },
   "file_extension": ".py",
   "mimetype": "text/x-python",
   "name": "python",
   "nbconvert_exporter": "python",
   "pygments_lexer": "ipython3",
   "version": "3.8.8"
  },
  "orig_nbformat": 4
 },
 "nbformat": 4,
 "nbformat_minor": 2
}
