{
 "cells": [
  {
   "cell_type": "markdown",
   "metadata": {},
   "source": [
    "## Text preprocessing and extraction of Dutch texts"
   ]
  },
  {
   "cell_type": "markdown",
   "metadata": {},
   "source": [
    "### Libraries for data parsing and file operations"
   ]
  },
  {
   "cell_type": "code",
   "execution_count": 19,
   "metadata": {},
   "outputs": [],
   "source": [
    "import re\n",
    "import os\n",
    "import shutil"
   ]
  },
  {
   "cell_type": "code",
   "execution_count": 20,
   "metadata": {},
   "outputs": [],
   "source": [
    "# fill in the path to the folder of articles\n",
    "\n",
    "path = './data/articles/'"
   ]
  },
  {
   "cell_type": "markdown",
   "metadata": {},
   "source": [
    "### Removal of other languages to extract Dutch text"
   ]
  },
  {
   "cell_type": "code",
   "execution_count": 21,
   "metadata": {},
   "outputs": [],
   "source": [
    "# Here we create a list of articles while ingoring german translations\n",
    "\n",
    "texts = []\n",
    "for name in os.listdir(path):\n",
    "    with open(path+name, 'r') as file:\n",
    "        text = file.read()\n",
    "    if (('Duitse' in text) and ('vertaling' in text)) or (' oder ' in text):\n",
    "        continue\n",
    "    else:\n",
    "        texts.append(name)"
   ]
  },
  {
   "cell_type": "markdown",
   "metadata": {},
   "source": [
    "### Initial cleaning"
   ]
  },
  {
   "cell_type": "code",
   "execution_count": 22,
   "metadata": {},
   "outputs": [],
   "source": [
    "def initial_clean(text:str) ->  str:\n",
    "    '''\n",
    "    Function that cleans articles and tries add spaces where they are missing\n",
    "\n",
    "    :params text: str that is the text\n",
    "\n",
    "    return a str\n",
    "    '''\n",
    "    pattern = r'(,|:|;)'\n",
    "    pat = re.compile(pattern)\n",
    "    new_text = pat.sub(r'\\1  ', text)\n",
    "\n",
    "    pattern = r'([\\s][\\w-]+\\.)([A-Za-z]+)'\n",
    "    pat = re.compile(pattern)\n",
    "    new_text = pat.sub(r'\\1  \\2', new_text)\n",
    "\n",
    "    pattern = r'([\\\"][\\.])'\n",
    "    pat = re.compile(pattern)\n",
    "    new_text = pat.sub(r'\\1 ', new_text)\n",
    "\n",
    "    pattern = r'(__+)'\n",
    "    pat = re.compile(pattern)\n",
    "    new_text = pat.sub(r' \\1  ', new_text)\n",
    "\n",
    "    new_text = re.sub(r\" +\",\" \",new_text)\n",
    "\n",
    "\n",
    "\n",
    "    pattern = r'([A-Za-z]+)([A-Z][a-z])'\n",
    "    pat = re.compile(pattern)\n",
    "    new_text = pat.sub(r'\\1 \\2', new_text)\n",
    "\n",
    "    return new_text"
   ]
  },
  {
   "cell_type": "markdown",
   "metadata": {},
   "source": [
    "### Determining the path where cleaned version of the files will be saved "
   ]
  },
  {
   "cell_type": "code",
   "execution_count": 23,
   "metadata": {},
   "outputs": [],
   "source": [
    "# path where the cleaned files should be saved\n",
    "\n",
    "new_path = './data/clean_articles/'\n",
    "\n",
    "# in this new path the cleaned texts will be stored\n",
    "\n",
    "shutil.rmtree(new_path, ignore_errors=True)\n",
    "os.makedirs(new_path, exist_ok=True)\n",
    "for name in texts:\n",
    "    with open(path+name,'r') as file:\n",
    "        text = file.read()\n",
    "    with open(new_path+name, 'w+') as file:\n",
    "        file.write(initial_clean(text))\n",
    "    \n"
   ]
  },
  {
   "cell_type": "code",
   "execution_count": 24,
   "metadata": {},
   "outputs": [
    {
     "name": "stdout",
     "output_type": "stream",
     "text": [
      "numac=2021043553%0D%0A#top.txt has the keyword\n",
      "numac=2021043671%0D%0A#top.txt has the keyword\n",
      "numac=2021022682%0D%0A#top.txt has the keyword\n",
      "numac=2021043625%0D%0A#top.txt has the keyword\n",
      "numac=2021034484%0D%0A#top.txt has the keyword\n",
      "numac=2021043650%0D%0A#top.txt has the keyword\n",
      "numac=2021022817%0D%0A#top.txt has the keyword\n",
      "numac=2021043623%0D%0A#top.txt has the keyword\n",
      "numac=2021043609%0D%0A#top.txt has the keyword\n",
      "numac=2021043630%0D%0A#top.txt has the keyword\n",
      "numac=2021034399%0D%0A#top.txt has the keyword\n",
      "numac=2021034489%0D%0A#top.txt has the keyword\n",
      "numac=2021043670%0D%0A#top.txt has the keyword\n",
      "numac=2021034344%0D%0A#top.txt has the keyword\n",
      "numac=2021022744%0D%0A#top.txt has the keyword\n",
      "numac=2021202769.txt no weird article\n"
     ]
    }
   ],
   "source": [
    "# These are files with only two lines of text\n",
    "\n",
    "import fnmatch\n",
    "for fname in os.listdir('./data/clean_articles/'):\n",
    "    \n",
    "    if fnmatch.fnmatch(fname, '%'):\n",
    "        os.remove(os.path.join('./data/clean_articles/', fname))\n",
    "        print(fname, \"has the keyword\")\n",
    "    if fname.endswith(\"top.txt\"):\n",
    "        os.remove(os.path.join('./data/clean_articles/', fname))\n",
    "        print(fname, \"has the keyword\")\n",
    "\n",
    "    "
   ]
  },
  {
   "cell_type": "code",
   "execution_count": null,
   "metadata": {},
   "outputs": [],
   "source": []
  }
 ],
 "metadata": {
  "interpreter": {
   "hash": "7e1498e182d8a133f6b16a9d67a6dd7f4dd07228d1a3d74bd8ec371215c068c1"
  },
  "kernelspec": {
   "display_name": "Python 3.10.4 64-bit",
   "language": "python",
   "name": "python3"
  },
  "language_info": {
   "codemirror_mode": {
    "name": "ipython",
    "version": 3
   },
   "file_extension": ".py",
   "mimetype": "text/x-python",
   "name": "python",
   "nbconvert_exporter": "python",
   "pygments_lexer": "ipython3",
   "version": "3.10.4"
  },
  "orig_nbformat": 4
 },
 "nbformat": 4,
 "nbformat_minor": 2
}
