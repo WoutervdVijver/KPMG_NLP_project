{
  "nbformat": 4,
  "nbformat_minor": 0,
  "metadata": {
    "colab": {
      "name": "LDA_Mallet_SpacySM.ipynb",
      "provenance": [],
      "collapsed_sections": []
    },
    "kernelspec": {
      "name": "python3",
      "display_name": "Python 3"
    },
    "language_info": {
      "name": "python"
    }
  },
  "cells": [
    {
      "cell_type": "markdown",
      "source": [
        "## Further text preprocessing"
      ],
      "metadata": {
        "id": "2v-ju9XmWFJI"
      }
    },
    {
      "cell_type": "markdown",
      "source": [
        "### Objectives of this test"
      ],
      "metadata": {
        "id": "9CiTfVEiluGf"
      }
    },
    {
      "cell_type": "markdown",
      "source": [
        "- Implement Latent Dirichlet Allocation (**LDA**) from **Gensim** package along with the Mallet’s implementation (via Gensim). \n",
        "\n",
        "- Implement **Mallet** that optimizes LDA. Mallet is known to run faster and gives better topic segregation.\n",
        "\n",
        "- Also extract the volume and percentage contribution of each topic to get **an idea of how important a topic is**."
      ],
      "metadata": {
        "id": "nOmYI8FIlwj8"
      }
    },
    {
      "cell_type": "markdown",
      "source": [
        "### Pre-requisites: Downloading NLTK Dutch stopwords, data handling tools, model preprocessing & plotting tools, and SpaCy model"
      ],
      "metadata": {
        "id": "HliZG8C-V8gW"
      }
    },
    {
      "cell_type": "code",
      "source": [
        "from google.colab import drive\n",
        "drive.mount('/content/drive')"
      ],
      "metadata": {
        "id": "JOSxNYZEvmtE"
      },
      "execution_count": null,
      "outputs": []
    },
    {
      "cell_type": "code",
      "source": [
        "# NLTK\n",
        "import nltk\n",
        "nltk.download('stopwords', 'dutch')"
      ],
      "metadata": {
        "id": "kjP68jeYftR4",
        "colab": {
          "base_uri": "https://localhost:8080/"
        },
        "outputId": "54b2a324-bb18-4379-c38d-6362082b6d0a"
      },
      "execution_count": 3,
      "outputs": [
        {
          "output_type": "stream",
          "name": "stderr",
          "text": [
            "[nltk_data] Downloading package stopwords to dutch...\n",
            "[nltk_data]   Package stopwords is already up-to-date!\n"
          ]
        },
        {
          "output_type": "execute_result",
          "data": {
            "text/plain": [
              "True"
            ]
          },
          "metadata": {},
          "execution_count": 3
        }
      ]
    },
    {
      "cell_type": "code",
      "source": [
        "# Python data analysis tools and python module for printing\n",
        "import re\n",
        "import numpy as np\n",
        "import pandas as pd\n",
        "from pprint import pprint"
      ],
      "metadata": {
        "id": "-gP7ww_liQub"
      },
      "execution_count": 4,
      "outputs": []
    },
    {
      "cell_type": "code",
      "source": [
        "# Gensim\n",
        "import gensim\n",
        "import gensim.corpora as corpora\n",
        "from gensim.utils import simple_preprocess\n",
        "from gensim.models import CoherenceModel"
      ],
      "metadata": {
        "id": "ZTlhs2HnmGyB"
      },
      "execution_count": 5,
      "outputs": []
    },
    {
      "cell_type": "code",
      "source": [
        "# SpaCy for lemmatization\n",
        "import spacy"
      ],
      "metadata": {
        "id": "fBAzmTMOmp9f"
      },
      "execution_count": 6,
      "outputs": []
    },
    {
      "cell_type": "code",
      "source": [
        "# Plotting tools\n",
        "!pip install pyLDAvis\n",
        "\n",
        "import pyLDAvis\n",
        "import pyLDAvis.gensim_models as gensimvis\n",
        "pyLDAvis.enable_notebook()\n",
        "\n",
        "import matplotlib.pyplot as plt"
      ],
      "metadata": {
        "id": "1oTmcphNmuBR"
      },
      "execution_count": null,
      "outputs": []
    },
    {
      "cell_type": "code",
      "source": [
        "# Ignoring warnings\n",
        "import warnings\n",
        "warnings.filterwarnings('ignore', category=DeprecationWarning)"
      ],
      "metadata": {
        "id": "958NglFuoAJm"
      },
      "execution_count": 8,
      "outputs": []
    },
    {
      "cell_type": "markdown",
      "source": [
        "### Preparing stopwords"
      ],
      "metadata": {
        "id": "JhmR5NYqodQe"
      }
    },
    {
      "cell_type": "code",
      "source": [
        "# NLTK Stop words\n",
        "import nltk\n",
        "from nltk.corpus import stopwords\n",
        "nltk.download('stopwords')\n",
        "\n",
        "stop_words = nltk.corpus.stopwords.words('dutch')"
      ],
      "metadata": {
        "id": "i2F9qd3Aodpz"
      },
      "execution_count": null,
      "outputs": []
    },
    {
      "cell_type": "markdown",
      "source": [
        "## Loading 628 articles into a list"
      ],
      "metadata": {
        "id": "_X85dMwl25bs"
      }
    },
    {
      "cell_type": "code",
      "source": [
        "# Importing file handling library\n",
        "import os\n",
        "\n",
        "data = []\n",
        "path = 'drive/MyDrive/clean_texts/'\n",
        "for name in os.listdir(path)[:628]:\n",
        "    with open(path+name, 'r') as file:\n",
        "        data.append(file.read())\n"
      ],
      "metadata": {
        "id": "L0Dai1aW3BLN"
      },
      "execution_count": 10,
      "outputs": []
    },
    {
      "cell_type": "markdown",
      "source": [
        "### Tokenizing words and cleaning-up text"
      ],
      "metadata": {
        "id": "arIOjuW-G9RL"
      }
    },
    {
      "cell_type": "code",
      "source": [
        "# Tokenizing each sentence into a list of words, removing punctuations and unnecessary characters altogether.\n",
        "def sent_to_words(sentences):\n",
        "    for sentence in sentences:\n",
        "        yield(gensim.utils.simple_preprocess(str(sentence), deacc=True))  # deacc=True removes punctuations\n",
        "\n",
        "data_words = list(sent_to_words(data))\n",
        "\n",
        "#print(data_words)"
      ],
      "metadata": {
        "id": "dO9v16DbxMyV"
      },
      "execution_count": 11,
      "outputs": []
    },
    {
      "cell_type": "markdown",
      "source": [
        "### Creating bigrams and trigrams"
      ],
      "metadata": {
        "id": "iLpiDNyRTGc7"
      }
    },
    {
      "cell_type": "markdown",
      "source": [
        "**Bigrams** are two (2) words frequently occurring together in the document. **Trigrams** are three (3) words frequently occurring."
      ],
      "metadata": {
        "id": "KQdTRjR-zrja"
      }
    },
    {
      "cell_type": "code",
      "source": [
        "# Building the bigram and trigram models\n",
        "bigram = gensim.models.Phrases(data_words, min_count=5, threshold=100) # higher threshold fewer phrases.\n",
        "trigram = gensim.models.Phrases(bigram[data_words], threshold=100)  \n",
        "\n",
        "# Faster way to get a sentence clubbed as a trigram/bigram\n",
        "bigram_mod = gensim.models.phrases.Phraser(bigram)\n",
        "trigram_mod = gensim.models.phrases.Phraser(trigram)\n",
        "\n",
        "# Seeing trigram example\n",
        "#print(trigram_mod[bigram_mod[data_words]])"
      ],
      "metadata": {
        "id": "oTf8PZhLOIwG"
      },
      "execution_count": null,
      "outputs": []
    },
    {
      "cell_type": "markdown",
      "source": [
        "###  Removing stopwords, making bigrams & trigtrams, and lemmatizing"
      ],
      "metadata": {
        "id": "4b9GkSVFZIUC"
      }
    },
    {
      "cell_type": "code",
      "source": [
        "# Define functions for stopwords, bigrams, trigrams and lemmatization\n",
        "def remove_stopwords(texts):\n",
        "    return [[word for word in simple_preprocess(str(doc)) if word not in stop_words] for doc in texts]\n",
        "\n",
        "def make_bigrams(texts):\n",
        "    return [bigram_mod[doc] for doc in texts]\n",
        "\n",
        "def make_trigrams(texts):\n",
        "    return [trigram_mod[bigram_mod[doc]] for doc in texts]\n",
        "\n",
        "empty_words = [\n",
        "    'advies',\n",
        "    'algemeen',\n",
        "    'art',\n",
        "    'artikel',\n",
        "    'bedoelen',\n",
        "    'bepalen',\n",
        "    'bepaling',\n",
        "    'besluit',\n",
        "    'betreffen',\n",
        "    'bevoegd',\n",
        "    'deel',\n",
        "    'drie',\n",
        "    'een',\n",
        "    'één',\n",
        "    'gegeven',\n",
        "    'gelet',\n",
        "    'geven',\n",
        "    'goed',\n",
        "    'hoofdstuk',\n",
        "    'inlichting',\n",
        "    'lid',\n",
        "    'leten',\n",
        "    'maatregel',\n",
        "    'minister',\n",
        "    'naam',\n",
        "    'nemen',\n",
        "    'ontwerp',\n",
        "    'overwegen',\n",
        "    'overwegende',\n",
        "    'paragraaf',\n",
        "    'persoon',\n",
        "    'toepassing',\n",
        "    'twee',\n",
        "    'volgen',\n",
        "    'voorzien',\n",
        "    'wet'\n",
        "] \n",
        "def lemmatization(texts, allowed_postags=['NOUN', 'ADJ', 'VERB', 'ADV']):\n",
        "    \"\"\"https://spacy.io/api/annotation\"\"\"\n",
        "    texts_out = []\n",
        "    for sent in texts:\n",
        "        doc = nlp(\" \".join(sent)) \n",
        "        texts_out.append([token.lemma_ for token in doc if (token.pos_ in allowed_postags) and (token.lemma_ not in  empty_words )])\n",
        "    return texts_out"
      ],
      "metadata": {
        "id": "1cuUNtqNT9kb"
      },
      "execution_count": 13,
      "outputs": []
    },
    {
      "cell_type": "markdown",
      "source": [
        "### Initializing SpaCy's Dutch NLP model (small size)"
      ],
      "metadata": {
        "id": "uanPqGrdGyiE"
      }
    },
    {
      "cell_type": "code",
      "source": [
        " !pip install -U spacy\n",
        " !python -m spacy download nl_core_news_sm"
      ],
      "metadata": {
        "id": "EwTE8mGpbFf6"
      },
      "execution_count": null,
      "outputs": []
    },
    {
      "cell_type": "markdown",
      "source": [
        "### Calling the functions in order"
      ],
      "metadata": {
        "id": "C4QnnSElG_vg"
      }
    },
    {
      "cell_type": "code",
      "source": [
        " # Removing Stop Words\n",
        "data_words_nostops = remove_stopwords(data_words)\n",
        "\n",
        "# Forming Bigrams\n",
        "data_words_bigrams = make_bigrams(data_words_nostops)\n",
        "\n",
        "# Loading the SpaCy 'nl' model, keeping only tagger component (for efficiency)\n",
        "nlp = spacy.load('nl_core_news_sm', disable=['parser', 'ner'])\n",
        "\n",
        "# Doing lemmatization keeping only noun, adj, vb, adv\n",
        "data_lemmatized = lemmatization(data_words_bigrams, allowed_postags=['NOUN', 'ADJ', 'VERB', 'ADV'])\n",
        "\n",
        "#print(data_lemmatized)"
      ],
      "metadata": {
        "id": "dPJP2KeuZw67"
      },
      "execution_count": 14,
      "outputs": []
    },
    {
      "cell_type": "markdown",
      "source": [
        "### Creating the Dictionary and Corpus needed for Topic Modeling"
      ],
      "metadata": {
        "id": "GgN2SSzn2fTU"
      }
    },
    {
      "cell_type": "code",
      "source": [
        "# Creating Dictionary\n",
        "id2word = corpora.Dictionary(data_lemmatized)\n",
        "\n",
        "# Creating Corpus\n",
        "texts = data_lemmatized\n",
        "\n",
        "# Term Document Frequency\n",
        "corpus = [id2word.doc2bow(text) for text in texts]\n",
        "\n",
        "# Viewing corpus\n",
        "#print(corpus)"
      ],
      "metadata": {
        "id": "lp6FqTgr2hr8"
      },
      "execution_count": 15,
      "outputs": []
    },
    {
      "cell_type": "markdown",
      "source": [
        "Gensim creates a unique id for each word in the document. The produced corpus shown above is a mapping of (word_id, word_frequency).\n",
        "\n",
        "For example, (0, 1) above implies, **word id 0 occurs once** in the document. Likewise, **word id 1 occurs once too**, and so on.\n",
        "\n",
        "This is used as the input by the LDA model.\n",
        "\n",
        "If you want to see what word a given id corresponds to, pass the id as a key to the dictionary. (From https://www.machinelearningplus.com/nlp/topic-modeling-gensim-python/)"
      ],
      "metadata": {
        "id": "mat49mSv24fY"
      }
    },
    {
      "cell_type": "code",
      "source": [
        "# Passing the id as a key to the dictionary to see what word a given ID corresponds to\n",
        "id2word[0]"
      ],
      "metadata": {
        "colab": {
          "base_uri": "https://localhost:8080/",
          "height": 35
        },
        "id": "iCYlDxcR2050",
        "outputId": "6e0361a7-0449-4adb-bc4d-3b44190da4b4"
      },
      "execution_count": 16,
      "outputs": [
        {
          "output_type": "execute_result",
          "data": {
            "text/plain": [
              "'Kb_wib'"
            ],
            "application/vnd.google.colaboratory.intrinsic+json": {
              "type": "string"
            }
          },
          "metadata": {},
          "execution_count": 16
        }
      ]
    },
    {
      "cell_type": "code",
      "source": [
        "# Human readable format of corpus (term-frequency)\n",
        "[[(id2word[id], freq) for id, freq in cp] for cp in corpus]"
      ],
      "metadata": {
        "id": "P6HbEyFs3STL"
      },
      "execution_count": null,
      "outputs": []
    },
    {
      "cell_type": "markdown",
      "source": [
        "### Building the topic model"
      ],
      "metadata": {
        "id": "xr7zp7cU3mnE"
      }
    },
    {
      "cell_type": "markdown",
      "source": [
        "The LDA model shall be built with 20 different topics where each topic is a combination of keywords and each keyword contributes a certain weightage to the topic."
      ],
      "metadata": {
        "id": "nPSZSoCl1ky7"
      }
    },
    {
      "cell_type": "code",
      "source": [
        "# Building LDA model\n",
        "lda_model = gensim.models.ldamodel.LdaModel(corpus=corpus,\n",
        "                                           id2word=id2word,\n",
        "                                           num_topics=20, \n",
        "                                           random_state=100,\n",
        "                                           update_every=1,\n",
        "                                           chunksize=100,\n",
        "                                           passes=10,\n",
        "                                           alpha='auto',\n",
        "                                           per_word_topics=True)"
      ],
      "metadata": {
        "id": "4eNI1JKD3rS8"
      },
      "execution_count": 18,
      "outputs": []
    },
    {
      "cell_type": "markdown",
      "source": [
        "###  Viewing the topics in LDA model"
      ],
      "metadata": {
        "id": "I4pNmnJP3vMM"
      }
    },
    {
      "cell_type": "markdown",
      "source": [
        "You can see the keywords for each topic and the weightage (importance) of each keyword using lda_model.print_topics() as shown next."
      ],
      "metadata": {
        "id": "r0YYrNee30UJ"
      }
    },
    {
      "cell_type": "code",
      "source": [
        "# Printing keywords for 20 topics\n",
        "pprint(lda_model.print_topics())\n",
        "doc_lda = lda_model[corpus]"
      ],
      "metadata": {
        "colab": {
          "base_uri": "https://localhost:8080/"
        },
        "id": "NrllJgXK3xAl",
        "outputId": "97a6e953-c0ac-4ae5-a47a-b7c8b3d9dffd"
      },
      "execution_count": 19,
      "outputs": [
        {
          "output_type": "stream",
          "name": "stdout",
          "text": [
            "[(0,\n",
            "  '0.035*\"koninklijk\" + 0.022*\"elektrisch\" + 0.020*\"huishoud\" + 0.020*\"virus\" '\n",
            "  '+ 0.016*\"omwille\" + 0.014*\"wijziging\" + 0.014*\"procedure\" + '\n",
            "  '0.013*\"restaurant\" + 0.012*\"instelling\" + 0.012*\"collectieve_belegging\"'),\n",
            " (1,\n",
            "  '0.028*\"fiscaal\" + 0.023*\"akkoord\" + 0.021*\"overeenkomst\" + 0.021*\"bericht\" '\n",
            "  '+ 0.020*\"generaal\" + 0.020*\"bevoegde_autoriteit\" + '\n",
            "  '0.014*\"brussel_fiscaliteit\" + 0.014*\"administratie\" + 0.013*\"gewestelijk\" + '\n",
            "  '0.013*\"betrekking\"'),\n",
            " (2,\n",
            "  '0.022*\"vaccinatie\" + 0.011*\"fase\" + 0.011*\"vaccin\" + 0.008*\"jaar\" + '\n",
            "  '0.008*\"gefedereerde_entiteiten\" + 0.007*\"verwerking\" + 0.006*\"daten\" + '\n",
            "  '0.006*\"vaccineren\" + 0.005*\"vernieuwing\" + 0.005*\"vaccins\"'),\n",
            " (3,\n",
            "  '0.068*\"decreet\" + 0.047*\"regering\" + 0.026*\"aan_nemen\" + 0.019*\"president\" '\n",
            "  '+ 0.013*\"Waals\" + 0.013*\"aangelegenheid\" + 0.012*\"bijzondere_machten\" + '\n",
            "  '0.012*\"belgisch_staatsblad\" + 0.011*\"ervan\" + 0.011*\"grond_wet\"'),\n",
            " (4,\n",
            "  '0.055*\"vermelden\" + 0.041*\"Vlaams\" + 0.023*\"subsidie\" + 0.018*\"periode\" + '\n",
            "  '0.016*\"aantal\" + 0.013*\"centrum\" + 0.012*\"ondersteuning\" + '\n",
            "  '0.012*\"agentschap\" + 0.009*\"basis\" + 0.009*\"regering\"'),\n",
            " (5,\n",
            "  '0.035*\"zelfstandig\" + 0.023*\"periode\" + 0.021*\"sociaal\" + 0.021*\"tijdelijk\" '\n",
            "  '+ 0.020*\"werknemer\" + 0.017*\"werkgever\" + 0.015*\"collectief\" + '\n",
            "  '0.015*\"onderneming\" + 0.015*\"uitkering\" + 0.013*\"kwartaal\"'),\n",
            " (6,\n",
            "  '0.030*\"woord\" + 0.018*\"bedrag\" + 0.017*\"vervangen\" + 0.013*\"wet_boek\" + '\n",
            "  '0.012*\"hetzelfde\" + 0.011*\"aan_vullen\" + 0.011*\"maand\" + 0.010*\"betrekking\" '\n",
            "  '+ 0.010*\"luiden\" + 0.010*\"titel\"'),\n",
            " (7,\n",
            "  '0.015*\"koninklijk\" + 0.013*\"raad\" + 0.009*\"koning\" + 0.007*\"maken\" + '\n",
            "  '0.007*\"geval\" + 0.006*\"ontwerpen\" + 0.006*\"regel\" + 0.006*\"kader\" + '\n",
            "  '0.006*\"wijziging\" + 0.006*\"bestaan\"'),\n",
            " (8,\n",
            "  '0.034*\"kennisgeving\" + 0.027*\"natuurlijk\" + 0.025*\"procedure\" + '\n",
            "  '0.018*\"datum\" + 0.017*\"ordonnantie\" + 0.017*\"waarbij\" + 0.016*\"middel\" + '\n",
            "  '0.015*\"elektronisch\" + 0.015*\"gebrek\" + 0.015*\"fiscaal\"'),\n",
            " (9,\n",
            "  '0.057*\"waals\" + 0.033*\"code\" + 0.025*\"regering\" + 0.019*\"onderneming\" + '\n",
            "  '0.018*\"vereniging\" + 0.017*\"vergoeding\" + 0.015*\"decreet\" + '\n",
            "  '0.015*\"winst_oogmerk\" + 0.014*\"sector\" + 0.013*\"activiteit\"'),\n",
            " (10,\n",
            "  '0.021*\"regering\" + 0.017*\"brusselse_hoofdstedelijk\" + 0.014*\"gewest\" + '\n",
            "  '0.012*\"raad\" + 0.010*\"bevoegdheid\" + 0.010*\"gemeente\" + '\n",
            "  '0.010*\"burgemeester\" + 0.009*\"bijzonder\" + 0.009*\"ordonnantie\" + '\n",
            "  '0.009*\"vergadering\"'),\n",
            " (11,\n",
            "  '0.027*\"werknemer\" + 0.015*\"ziekte\" + 0.013*\"periode\" + 0.011*\"tijdelijk\" + '\n",
            "  '0.010*\"mogelijk\" + 0.010*\"kader\" + 0.010*\"verspreiding\" + 0.009*\"werk\" + '\n",
            "  '0.008*\"vaststelling\" + 0.008*\"dienen\"'),\n",
            " (12,\n",
            "  '0.032*\"wet_boek\" + 0.029*\"belasting\" + 0.026*\"koninklijk\" + '\n",
            "  '0.022*\"regeling\" + 0.017*\"bijzonder\" + 0.017*\"lidstaat\" + '\n",
            "  '0.015*\"verrichten\" + 0.014*\"dienst\" + 0.014*\"aangifte\" + 0.014*\"vervangen\"'),\n",
            " (13,\n",
            "  '0.017*\"vermelden\" + 0.015*\"kader\" + 0.012*\"contactcentrum\" + '\n",
            "  '0.011*\"gegevensbank\" + 0.009*\"verwerking\" + 0.009*\"uitvoering\" + '\n",
            "  '0.009*\"gezondheid\" + 0.009*\"contact\" + 0.008*\"verwerken\" + '\n",
            "  '0.008*\"databank\"'),\n",
            " (14,\n",
            "  '0.022*\"ministerieel\" + 0.019*\"bevoegdheid\" + 0.016*\"federaal\" + '\n",
            "  '0.016*\"overheid\" + 0.007*\"overleg\" + 0.005*\"verschillend\" + '\n",
            "  '0.005*\"bevolking\" + 0.005*\"plaats\" + 0.005*\"binnenlandse_zaken\" + '\n",
            "  '0.005*\"overlegcomite\"'),\n",
            " (15,\n",
            "  '0.028*\"ziekenhuis\" + 0.019*\"patiënt\" + 0.016*\"geneeskundige_verzorging\" + '\n",
            "  '0.013*\"tegemoetkoming\" + 0.011*\"verplichte_verzekering\" + '\n",
            "  '0.008*\"volksgezondheid\" + 0.008*\"zorgverlener\" + 0.007*\"zorg\" + '\n",
            "  '0.007*\"basis\" + 0.006*\"epidemie\"'),\n",
            " (16,\n",
            "  '0.030*\"koninklijk\" + 0.028*\"woord\" + 0.027*\"kader\" + 0.023*\"houd_en\" + '\n",
            "  '0.022*\"regering\" + 0.020*\"vervangen\" + 0.017*\"letten\" + 0.015*\"raad\" + '\n",
            "  '0.015*\"belasten\" + 0.014*\"begroting\"'),\n",
            " (17,\n",
            "  '0.027*\"proef\" + 0.023*\"leerling\" + 0.021*\"regering\" + 0.016*\"school_jaar\" + '\n",
            "  '0.016*\"afnemer\" + 0.013*\"personeelslid\" + 0.011*\"personeel_lid\" + '\n",
            "  '0.010*\"school\" + 0.010*\"organiseren\" + 0.010*\"graad\"'),\n",
            " (18,\n",
            "  '0.035*\"steun\" + 0.019*\"regering\" + 0.019*\"onderneming\" + 0.014*\"economisch\" '\n",
            "  '+ 0.013*\"brusselse_hoofdstedelijk\" + 0.011*\"begunstigen\" + '\n",
            "  '0.010*\"activiteit\" + 0.008*\"premie\" + 0.008*\"sociaal\" + 0.007*\"economie\"'),\n",
            " (19,\n",
            "  '0.032*\"decreet\" + 0.022*\"regering\" + 0.015*\"onderwijs\" + 0.011*\"afwijking\" '\n",
            "  '+ 0.010*\"organisatie\" + 0.009*\"sociaal\" + 0.009*\"raad\" + 0.008*\"waals\" + '\n",
            "  '0.007*\"organiseren\" + 0.007*\"organisator\"')]\n"
          ]
        }
      ]
    },
    {
      "cell_type": "markdown",
      "source": [
        "**NOTE**: \n",
        "\n",
        "The weights reflect how important a keyword is to that topic.\n",
        "\n",
        "Looking at these keywords, you can guess what this topic could be."
      ],
      "metadata": {
        "id": "2XyHR2UuKUIp"
      }
    },
    {
      "cell_type": "markdown",
      "source": [
        "### Compute Model Perplexity and Coherence Score"
      ],
      "metadata": {
        "id": "iW0vFYMM4QhX"
      }
    },
    {
      "cell_type": "markdown",
      "source": [
        "**Model perplexity** and **topic coherence** provide a convenient measure to judge how good a given topic model is."
      ],
      "metadata": {
        "id": "5s_26Rbn0c6j"
      }
    },
    {
      "cell_type": "code",
      "source": [
        "# Computing Perplexity\n",
        "print('\\nPerplexity: ', lda_model.log_perplexity(corpus))  # a measure of how good the model is. lower the better.\n",
        "\n",
        "# Computing Coherence Score\n",
        "coherence_model_lda = CoherenceModel(model=lda_model, texts=data_lemmatized, dictionary=id2word, coherence='c_v')\n",
        "coherence_lda = coherence_model_lda.get_coherence()\n",
        "print('\\nCoherence Score: ', coherence_lda)"
      ],
      "metadata": {
        "colab": {
          "base_uri": "https://localhost:8080/"
        },
        "id": "y1ZNKyu64R0N",
        "outputId": "913c60a2-9fd9-4608-ad84-ae9edd92ff6a"
      },
      "execution_count": 20,
      "outputs": [
        {
          "output_type": "stream",
          "name": "stdout",
          "text": [
            "\n",
            "Perplexity:  -7.570802430967051\n",
            "\n",
            "Coherence Score:  0.51751224664593\n"
          ]
        }
      ]
    },
    {
      "cell_type": "markdown",
      "source": [
        "### Visualizing topic-keywords distribution"
      ],
      "metadata": {
        "id": "KOQtvx9LSSUs"
      }
    },
    {
      "cell_type": "code",
      "source": [
        "# Feeding the model into the pyLDAvis instance\n",
        "vis = gensimvis.prepare(lda_model, corpus, id2word)\n",
        "vis"
      ],
      "metadata": {
        "id": "qlI5CMBmyMmG",
        "colab": {
          "base_uri": "https://localhost:8080/",
          "height": 916
        },
        "outputId": "ca956dbf-1cf6-417d-8101-b02fdd42216d"
      },
      "execution_count": 21,
      "outputs": [
        {
          "output_type": "stream",
          "name": "stderr",
          "text": [
            "/usr/local/lib/python3.7/dist-packages/pyLDAvis/_prepare.py:247: FutureWarning: In a future version of pandas all arguments of DataFrame.drop except for the argument 'labels' will be keyword-only\n",
            "  by='saliency', ascending=False).head(R).drop('saliency', 1)\n"
          ]
        },
        {
          "output_type": "execute_result",
          "data": {
            "text/plain": [
              "PreparedData(topic_coordinates=              x         y  topics  cluster       Freq\n",
              "topic                                                \n",
              "7     -0.125896 -0.102670       1        1  11.745250\n",
              "19    -0.114045  0.129865       2        1   9.148802\n",
              "6     -0.064444 -0.133751       3        1   8.619813\n",
              "18    -0.116247  0.053035       4        1   7.227476\n",
              "15    -0.000171 -0.072388       5        1   6.333101\n",
              "12    -0.046896 -0.212909       6        1   5.880337\n",
              "16    -0.097460  0.104521       7        1   5.649175\n",
              "14    -0.064725 -0.084774       8        1   5.568328\n",
              "10    -0.080154  0.075815       9        1   5.225188\n",
              "13     0.033103 -0.048555      10        1   5.012970\n",
              "5     -0.080031 -0.006326      11        1   4.903634\n",
              "4     -0.008422 -0.035145      12        1   4.432681\n",
              "9     -0.120434  0.149018      13        1   3.857847\n",
              "11    -0.016201 -0.059506      14        1   3.447936\n",
              "1      0.122449 -0.111966      15        1   3.037906\n",
              "2      0.331443 -0.002004      16        1   2.831440\n",
              "17     0.052074  0.121366      17        1   2.303273\n",
              "3      0.111633  0.237986      18        1   1.925807\n",
              "8      0.158841 -0.009403      19        1   1.773506\n",
              "0      0.125583  0.007790      20        1   1.075532, topic_info=           Term         Freq        Total Category  logprob  loglift\n",
              "463     decreet  1830.000000  1830.000000  Default  30.0000  30.0000\n",
              "543    regering  2933.000000  2933.000000  Default  29.0000  29.0000\n",
              "209  koninklijk  2210.000000  2210.000000  Default  28.0000  28.0000\n",
              "963       waals  1071.000000  1071.000000  Default  27.0000  27.0000\n",
              "935   vermelden  1340.000000  1340.000000  Default  26.0000  26.0000\n",
              "..          ...          ...          ...      ...      ...      ...\n",
              "327    volledig    23.432655   399.385879  Topic20  -5.0510   1.6966\n",
              "173      gevolg    21.328344   755.899808  Topic20  -5.1451   0.9645\n",
              "322   vervangen    21.277389  1406.975973  Topic20  -5.1475   0.3408\n",
              "165     gebruik    20.027347   519.385244  Topic20  -5.2080   1.2768\n",
              "337  voorwaarde    19.395909   983.408298  Topic20  -5.2400   0.6064\n",
              "\n",
              "[1323 rows x 6 columns], token_table=       Topic      Freq                      Term\n",
              "term                                            \n",
              "5829      13  0.902850                       Bel\n",
              "60         1  0.154905                  Belgisch\n",
              "60         2  0.031892                  Belgisch\n",
              "60         3  0.082009                  Belgisch\n",
              "60         4  0.063785                  Belgisch\n",
              "...      ...       ...                       ...\n",
              "364        5  0.018841               zullen_onze\n",
              "364        7  0.659439               zullen_onze\n",
              "364       11  0.144448               zullen_onze\n",
              "13090     16  0.967387  zusta_ndigen_foderierten\n",
              "13094     16  0.955754   zustandigen_foderierten\n",
              "\n",
              "[3594 rows x 3 columns], R=30, lambda_step=0.01, plot_opts={'xlab': 'PC1', 'ylab': 'PC2'}, topic_order=[8, 20, 7, 19, 16, 13, 17, 15, 11, 14, 6, 5, 10, 12, 2, 3, 18, 4, 9, 1])"
            ],
            "text/html": [
              "\n",
              "<link rel=\"stylesheet\" type=\"text/css\" href=\"https://cdn.jsdelivr.net/gh/bmabey/pyLDAvis@3.3.1/pyLDAvis/js/ldavis.v1.0.0.css\">\n",
              "\n",
              "\n",
              "<div id=\"ldavis_el21771404644835386401164755982\"></div>\n",
              "<script type=\"text/javascript\">\n",
              "\n",
              "var ldavis_el21771404644835386401164755982_data = {\"mdsDat\": {\"x\": [-0.1258959411582086, -0.11404496646461063, -0.06444405933775643, -0.11624704831651209, -0.0001712336011483596, -0.04689581923720438, -0.0974600118825193, -0.06472547796282313, -0.08015359393493068, 0.0331028408772152, -0.08003081064543217, -0.008422179178316832, -0.12043412262562216, -0.01620133764088428, 0.12244882026708111, 0.331443483086333, 0.05207429612253754, 0.1116331210720612, 0.158841342597946, 0.12558269796279398], \"y\": [-0.10266965156829193, 0.12986497052975593, -0.13375064668626213, 0.053034634906073824, -0.07238807651363156, -0.2129090646488694, 0.10452062216790944, -0.08477363222253768, 0.07581478279711372, -0.048554871166164394, -0.006326109927410657, -0.03514530052871532, 0.14901827103001875, -0.059505913719139505, -0.1119655266009128, -0.0020037043071078056, 0.12136625591456471, 0.23798598364314952, -0.009402918618971698, 0.007789895519429855], \"topics\": [1, 2, 3, 4, 5, 6, 7, 8, 9, 10, 11, 12, 13, 14, 15, 16, 17, 18, 19, 20], \"cluster\": [1, 1, 1, 1, 1, 1, 1, 1, 1, 1, 1, 1, 1, 1, 1, 1, 1, 1, 1, 1], \"Freq\": [11.745249621584954, 9.148802345161853, 8.619812924361518, 7.227475836228242, 6.333101151068103, 5.88033732238736, 5.649174683144411, 5.568327698605765, 5.225187591053359, 5.012969662644323, 4.903633896603427, 4.432680883145249, 3.8578471526918694, 3.4479359507715177, 3.0379060152625335, 2.8314403109326935, 2.303272984666074, 1.925806882422652, 1.773505585590962, 1.0755315016731268]}, \"tinfo\": {\"Term\": [\"decreet\", \"regering\", \"koninklijk\", \"waals\", \"vermelden\", \"woord\", \"steun\", \"Vlaams\", \"wet_boek\", \"zelfstandig\", \"onderneming\", \"werknemer\", \"ziekenhuis\", \"belasting\", \"vervangen\", \"periode\", \"code\", \"fiscaal\", \"tijdelijk\", \"brusselse_hoofdstedelijk\", \"subsidie\", \"regeling\", \"sociaal\", \"onderwijs\", \"bedrag\", \"kader\", \"ministerieel\", \"raad\", \"procedure\", \"pati\\u00ebnt\", \"aanhef\", \"civiele_bescherming\", \"civiele_veiligheid\", \"aansprakelijk\", \"voetnoot\", \"sire\", \"bestemming\", \"beroepsziekten\", \"voortzetting\", \"wetgever\", \"toelichting\", \"voortaan\", \"ibp\", \"steller\", \"organen\", \"griffier\", \"meewerkende_echtgenoten\", \"louter\", \"aanvullende_crisisuitkering\", \"hof\", \"rechtbank\", \"gemachtigde\", \"lezen\", \"opgemerkt\", \"voorgelegde_ontwerp\", \"evenredigheid\", \"adv_rvs\", \"zeer_eerbiedige\", \"dienaar\", \"nodige_vermelding\", \"orgaan\", \"opmerking\", \"protocollen\", \"ontwerpen\", \"afdeling_wetgeving\", \"immers\", \"terugwerkende_kracht\", \"tekst\", \"bedrijf\", \"onderdeel\", \"rechtsgrond\", \"stelsel\", \"gemachtigd\", \"adviesaanvraag\", \"koning\", \"verslag\", \"verwijzen\", \"raad\", \"koninklijk\", \"bestaan\", \"regel\", \"bovendien\", \"maken\", \"wel\", \"bijgevolg\", \"wijziging\", \"geval\", \"hierna\", \"regeling\", \"termijn\", \"zien\", \"bevoegdheid\", \"kader\", \"activiteit\", \"houden\", \"datum\", \"dienen\", \"betrekking\", \"gaan\", \"vast_stellen\", \"uitvoering\", \"waarin\", \"organisator\", \"volwassen\", \"daardoor\", \"feitelijke_toestand\", \"kinderopvang\", \"subsidieren\", \"rechten_geeerbiedigd\", \"examens\", \"student\", \"cursus\", \"opleidingsjaar\", \"rechtsgronden\", \"cultuur\", \"gezondheids\", \"kwaliteit\", \"kunstenaar\", \"ingediende_aanvrag\", \"rangschikken\", \"initiatiefnemer\", \"pedagogisch\", \"belastingexpren\", \"general\", \"toelaatbaar\", \"verschuiven\", \"plaatselijk\", \"universiteit\", \"opera_toer\", \"bachelor_specialisatie\", \"diploma\", \"studie\", \"onderwijs\", \"ouder\", \"subsidi\\u00ebren\", \"motief\", \"evaluatie\", \"subsidiering\", \"franse_gemeenschap\", \"extra\", \"decreet\", \"eenmalig\", \"organiseren\", \"organisatie\", \"promotie\", \"afwijking\", \"financiering\", \"afdeling\", \"regering\", \"bijzondere_machten\", \"besluiten\", \"aanvrag\", \"waals\", \"sociaal\", \"termijn\", \"erkenning\", \"jaar\", \"in_dienen\", \"raad\", \"gevolg\", \"uitvoering\", \"betrekking\", \"houden\", \"subsidie\", \"uiterlijk\", \"beslissing\", \"hoog\", \"kader\", \"vast_stellen\", \"dringend\", \"vennootschap\", \"belastbaar_tijdperk\", \"factuur\", \"streep\", \"huurprijs\", \"stand_gebracht\", \"langs_elektronisch\", \"huurvoordel\", \"belastbare_tijdperk\", \"rechtsgebieden\", \"rechtsgebied\", \"verhuurder\", \"in_gaan\", \"bezitten\", \"afschrijving\", \"vaste_activa\", \"verwerving\", \"vervanging\", \"aangift\", \"raken\", \"beroepskost\", \"belastbare_tijdperken\", \"echt_genoot\", \"vroegste_aanvangt\", \"voorheen\", \"aftrekbaar\", \"vennootschappen\", \"belasen\", \"aangemerken\", \"kapitaal\", \"streepje\", \"gehuurd_voertuig\", \"aangekocht_geleased\", \"laadstation\", \"onroerende_goederen\", \"rubriek\", \"ingevoegd_luidende\", \"exemplaar\", \"voertuigen_aangekocht\", \"aandeel\", \"wijzigingen_aangebracht\", \"onroerend_goed\", \"luiden\", \"hetzelfde\", \"titel\", \"programma_wet\", \"woord\", \"investering\", \"saldo\", \"Paragraaf\", \"bedrag\", \"aan_vullen\", \"verkrijgen\", \"uitgave\", \"vervangen\", \"vijf\", \"aanslagjaar\", \"verbinden\", \"wet_boek\", \"maand\", \"bedragen\", \"recht\", \"aanmerking\", \"kost\", \"betrekking\", \"gebruik\", \"waarin\", \"vast_stellen\", \"jaar\", \"vier\", \"voorwaarde\", \"doen\", \"laat\", \"periode\", \"afwijking\", \"koning\", \"bew\", \"creatief\", \"toepast\", \"algemeen_reglement\", \"w_etboek\", \"faillissement\", \"gerechtelijke_reorganisatie\", \"culturele_feestelijk\", \"steun_aanvraag\", \"uitgevaardigde\", \"sportieve_recreatief\", \"aanvrager\", \"conseil\", \"begunstigen\", \"inhou_ding\", \"planning\", \"aanvragen\", \"activeringen\", \"inzonderheiden\", \"afwezigheden\", \"winstgevend_oogmerk\", \"prangen\", \"tijdelijke_kaderregeling\", \"tij_delijke_kaderregeling\", \"recreatief\", \"eenmalige_premie\", \"promotor\", \"voortbestaan\", \"publicatieblad\", \"onverenigbaar\", \"steun\", \"premie\", \"bijzondere_machtenbesluit\", \"lening\", \"werkgelegenheid\", \"vereffening\", \"toerisme\", \"toeristisch\", \"cultureel\", \"economisch\", \"onderneming\", \"huurder\", \"brusselse_hoofdstedelijk\", \"ontwikkeling\", \"ondernemingen\", \"staatssteun\", \"economie\", \"europese_unie\", \"ordonnantie\", \"project\", \"aanvraag\", \"controle\", \"activiteit\", \"commissie\", \"regering\", \"gewest\", \"verdrag\", \"verlenen\", \"aanvrag\", \"gevolg\", \"voorwaarde\", \"sociaal\", \"ontvangen\", \"toe_kennen\", \"kader\", \"raad\", \"euro\", \"verspreiding\", \"toekenning\", \"beperken\", \"zorgverlener\", \"financiele_tussenkomst\", \"verstrekkingen\", \"riziv\", \"evalueren\", \"besmette\", \"kwamen\", \"triage\", \"fagg\", \"geneeskundige_verzorging\", \"haio\", \"lijkgestlen\", \"facturatie\", \"kostprijs\", \"apotheker\", \"verstrekking\", \"honoraria\", \"vermoedelijk_besmette\", \"nomenclatuur\", \"procureur_de\", \"verplichte_verzekering\", \"aso\", \"afnamecentrum\", \"artsen_specialisten\", \"beschikbaarheid\", \"toediening\", \"hopital\", \"werk_groep\", \"communiceeren\", \"verrekening\", \"pati\\u00ebnt\", \"ziekenhuis\", \"geneesmiddel\", \"besmeten\", \"tegemoetkoming\", \"geneesmiddelen\", \"materiaal\", \"uitkeringen_gecoordineerd\", \"verzekering\", \"kosten\", \"geneeskundig\", \"zorg\", \"nauw_contact\", \"arts\", \"last\", \"volksgezondheid\", \"epidemie\", \"budget\", \"verdeling\", \"uit_voeren\", \"basis\", \"kost\", \"medisch\", \"financieel\", \"pandemie\", \"specifiek\", \"bedrag\", \"euro\", \"middel\", \"koninklijk\", \"koning\", \"federaal\", \"teruggaaf\", \"quinquie\", \"invoer\", \"lidstaat\", \"ingevoerde_goederen\", \"sexie\", \"douane\", \"voldoening\", \"verbruik\", \"derde_lanen\", \"intrinsieke_waarde\", \"gebruikmaakt\", \"heffing\", \"maatstaf\", \"derde_landen\", \"geleverde_goederen\", \"koper\", \"postrekening\", \"operationeel_directoraat\", \"kmo_centrum\", \"tbe_dienst\", \"Lidstaat\", \"vervoeren\", \"exclusief_btw\", \"afstandsverkoop\", \"geldboeten\", \"noord_ierland\", \"bruikmaakten\", \"oss_systeem\", \"specifieke_materies\", \"toegevoegde_waran\", \"register\", \"btw\", \"aangifte\", \"vestigen\", \"levering\", \"quater\", \"leveringen\", \"belasting\", \"fiscaliteit\", \"keuze\", \"voertuig\", \"verrichten\", \"wet_boek\", \"verschuldigen\", \"toege_voegde_waarde\", \"verschuldigde\", \"handeling\", \"regeling\", \"zending\", \"vervoer\", \"bijzonder\", \"koninklijk\", \"nieuw\", \"dienst\", \"vervangen\", \"betrekking\", \"administratie\", \"betaling\", \"bedrag\", \"plaats\", \"bis\", \"wijziging\", \"overeenkomstig\", \"gebruik\", \"ambtenarenzaken\", \"indeling\", \"accountant\", \"bezoldiging\", \"operatoren\", \"federaal_openbaar\", \"beoefijnen\", \"sub\", \"beurs\", \"afbouw\", \"academisch\", \"clarinval\", \"vastlegen\", \"hoge_gezondheidsraad\", \"vice_eersteminister\", \"rij_opleiding\", \"benoemen\", \"commissaris\", \"stagiair\", \"co\", \"geleidelijk\", \"bibf\", \"openbare_werk\", \"Coordinatie\", \"gesubsidieerd_vrij\", \"cel\", \"speciaal\", \"representatief\", \"aan_kopen\", \"aan_gereken\", \"telewerken\", \"grootschalig\", \"ambt\", \"begrotingsjaar\", \"filip\", \"geldigheidsduur\", \"voordracht\", \"inspecteur\", \"groet\", \"zullen_onze\", \"divers\", \"koningswege\", \"letten\", \"houd_en\", \"begroting\", \"personeel\", \"woord\", \"verlengen\", \"belasten\", \"wijzigen\", \"pandemie\", \"koninklijk\", \"treden\", \"vervangen\", \"kader\", \"state_gecoordineerd\", \"verlenging\", \"vaststelling\", \"werking\", \"dringend\", \"regering\", \"instelling\", \"raad\", \"covid\", \"uitvoering\", \"dienst\", \"strijd\", \"bijzonder\", \"sociaal\", \"verspreiding\", \"protocol\", \"pilootproj_ecten\", \"grensarbeider\", \"verenigd_koninkrijk\", \"epidemische_noodsituatie\", \"sanitaire_politie\", \"opvordering\", \"pilootprojecten\", \"verkeer\", \"oordeelen\", \"beleidsdomeinen\", \"oorlog_tijd\", \"iedere_verplaatsing\", \"ministeriele_departementen\", \"meter\", \"bevelen\", \"mentaal\", \"reizen\", \"incident\", \"verzuim\", \"advers\", \"verordenend\", \"blootgesteld_bedreigd\", \"meente_gelokaliseren\", \"overw\", \"preparatie\", \"proactie\", \"subsidiaire_ron\", \"verscheidene_gemeenten\", \"vrede_tijd\", \"vergezellen\", \"citeren\", \"recht_grond\", \"ministerieel\", \"binnenlandse_zaken\", \"overheid\", \"la_partie\", \"wetsbepaling\", \"bevoegdheid\", \"overlegcomite\", \"openbare_ron\", \"evenement\", \"federaal\", \"verbod\", \"bevolking\", \"overleg\", \"uitoefening\", \"naleving\", \"dragen\", \"verschillend\", \"voorliggen\", \"grond_gebied\", \"plaats\", \"verplichten\", \"behoren\", \"beginsel\", \"verplichting\", \"organiseren\", \"dringend\", \"bijzonder\", \"voorwaarde\", \"kader\", \"zin\", \"ontwerpen\", \"waarin\", \"dag\", \"dienst\", \"voorontwerp\", \"verstoring\", \"formaliteit\", \"gemeente_raad\", \"nieuwe_gemeentewet\", \"ramp\", \"rvs\", \"gouverneur\", \"belastingjaar\", \"transport\", \"openbare_oren\", \"objectief\", \"evenwicht\", \"overname\", \"duitse_taalgebied\", \"noodsituaties\", \"bergen\", \"rechtspersonen\", \"brussels\", \"exitstrategie\", \"martine_baguet\", \"virtueel\", \"ontmoetings\", \"gemeente\", \"intensieve_zorgen\", \"in_grijpen\", \"voor_ontwerp\", \"territoriale_ontwikkeling\", \"streng\", \"particulieren\", \"imago\", \"burgemeester\", \"opgesomd\", \"college\", \"werkwijze\", \"materieel\", \"gemeentelijk\", \"brusselse_hoofdstedelijk\", \"brussels_hoofdstedelijk\", \"gewest\", \"straffe\", \"Brussels\", \"vergadering\", \"afgevaardigen\", \"ordonnantie\", \"gewestelijk\", \"op_stellen\", \"regering\", \"bevoegdheid\", \"raad\", \"beslissing\", \"situatie\", \"bijzonder\", \"bijzondere_machten\", \"dag\", \"dienst\", \"belasten\", \"besluiten\", \"grond_gebied\", \"termijn\", \"verspreiding\", \"dringend\", \"periode\", \"president\", \"kader\", \"dienen\", \"contactcentrum\", \"gegevensbank\", \"mb\", \"constructie\", \"inhoudelijk\", \"beschikking\", \"vermoedelijk\", \"aanraking\", \"databank\", \"gewist\", \"contactcentra\", \"bronopsporing\", \"wallonie_bruxelles\", \"geslacht\", \"verzamelen\", \"mobiele_teams\", \"verzamellen\", \"selecteren\", \"voorjaar\", \"mogelijke_manier\", \"dae_rden\", \"allen_tijde\", \"contactopnaam\", \"door_geven\", \"com_municatie_waaronder\", \"bezoek\", \"spoor\", \"regionale_overhed\", \"and_ersluiden\", \"samenscholingen\", \"lokale_besturen\", \"collectiviteit\", \"centraal\", \"besmet\", \"verwerken\", \"contacteren\", \"digitaal\", \"sciensano\", \"contact\", \"verwerking\", \"verordening\", \"gezondheid\", \"doeleinde\", \"uitwisseling\", \"categorie\", \"vermelden\", \"informatie\", \"taak\", \"Coronavirus\", \"kader\", \"gebruiken\", \"oprichting\", \"komen\", \"uitvoering\", \"federaal\", \"nodig\", \"noodzakelijk\", \"opdracht\", \"mogelijk\", \"verspreiding\", \"covid\", \"instelling\", \"overheid\", \"tijdelijke_werkloosheid\", \"onderbreking\", \"procedureel\", \"rsz\", \"paritair_comite\", \"arbeidsduur\", \"paritaire_comite\", \"greet_verberckmoes\", \"kind_opvang\", \"peuter\", \"aangesloten\", \"aangeslotenen\", \"inrichter\", \"tij_delijke_werkloosheid\", \"voormelde_rijksdienst\", \"buurtdiensten\", \"sectoraal_niveau\", \"selectieve_subsidie\", \"voltijds\", \"halftijds\", \"verwachting\", \"vereenvoudiging\", \"opgroeien_regie\", \"notariaat\", \"golden\", \"ongeldig\", \"bestrijd\", \"rechtigden\", \"collectief_ontslag\", \"pensioenopbouw\", \"zelfstandig\", \"collectief\", \"kwartaal\", \"uitkering\", \"vrijwilliger\", \"rijksdienst\", \"besluitwet\", \"werkgever\", \"arbeider\", \"justitie\", \"werkloosheid\", \"tijdelijk\", \"verplichte_sluiting\", \"werknemer\", \"invoering\", \"automatisch\", \"periode\", \"bijdrage\", \"sociaal\", \"werk\", \"onderneming\", \"zekerheid\", \"gezin\", \"uitstel\", \"regeling\", \"uitvoering\", \"sluiten\", \"volledig\", \"verspreiding\", \"betaling\", \"koninklijk\", \"kader\", \"houden\", \"toe_kennen\", \"covid\", \"maand\", \"erkenning\", \"dag\", \"bedrag\", \"civiele_noodsituatie\", \"zinsned\", \"specifieke_materie\", \"verwijderen\", \"semester\", \"subsidiebesluit\", \"rit\", \"reiskosten\", \"kortverblijf\", \"sportfederatie\", \"inkomenstarief\", \"buitenschoolse_opvang\", \"vormvereisen\", \"interview\", \"subsidiebedrag\", \"netwerkpartner\", \"sport_vlaander\", \"dagverzorging\", \"groepsopvang\", \"stappenplan\", \"toerisme_vlaanderen\", \"opvanglocatie\", \"bezetting\", \"intern_verzelfstandigd\", \"lokaal_bestuur\", \"sport_club\", \"eindresultaat\", \"vordren\", \"toerisme_vlaander\", \"dagopvang\", \"Vlaams\", \"team\", \"volksgezondheid_gezin\", \"vermelden\", \"agentschap\", \"subsidie\", \"centrum\", \"ondersteuning\", \"opvang\", \"attest\", \"aantal\", \"bezorgen\", \"periode\", \"lokaal\", \"baseren\", \"maximaal\", \"ontvangen\", \"basis\", \"voldoen\", \"financieel\", \"kind\", \"gelden\", \"maand\", \"voorwaarde\", \"jaar\", \"euro\", \"nieuw\", \"punt\", \"regering\", \"houden\", \"toe_kennen\", \"plaats\", \"dag\", \"decreet\", \"beroepskosten\", \"authentieke_bronn\", \"interne_marken\", \"waalse_ambtenarencode\", \"gewestelijke_incentives\", \"groei\", \"webplat_form\", \"deelsectoren\", \"bijzonder_stelsel\", \"ondernemerschap\", \"exit_strategie\", \"cod\", \"financieel_gesteund\", \"ondervonden_moeilijkheden\", \"zelfs_verdwijnen\", \"base\", \"steeds_aanzienlijk\", \"subsectoren\", \"code\", \"plafonds\", \"hiernavolgen\", \"vervolledigen\", \"subklassen\", \"Bel\", \"eengemaakt_europees\", \"statistiek_nace\", \"statistieke_nomenclatuur\", \"geintegreerde_portefeuille\", \"entree\", \"vigueur\", \"resolutie\", \"gewestelijke_beleidslijnen\", \"plaatsgehad\", \"vereniging\", \"waals\", \"winst_oogmerk\", \"vergoeding\", \"ondernemer\", \"toegankelijk\", \"faillissementen\", \"instemming\", \"verordeningen\", \"sector\", \"inrichting\", \"ten_gun\", \"rapport\", \"bij_komen\", \"genderdimensie\", \"onderneming\", \"Waals\", \"crisis\", \"tegemoetkoming\", \"aanvraag\", \"activiteit\", \"regering\", \"inzonderheid\", \"decreet\", \"klein\", \"administratie\", \"toekenning\", \"sluiting\", \"dringend\", \"aan_vullen\", \"overeenkomstig\", \"ministerieel\", \"raad\", \"uitvoering\", \"letten\", \"economisch\", \"euro\", \"houden\", \"besluiten\", \"toe_kennen\", \"blootstelling\", \"rechthebben\", \"rec_hthebbenden\", \"minderjarigen\", \"geneeskund\", \"bepaallen\", \"veronderstelen\", \"aangeven\", \"bero_epsziekt\", \"codenummer\", \"laboratorium\", \"regulariseren\", \"inperking\", \"beroepsziekte\", \"arbeidsarts\", \"engageren\", \"op_vangen\", \"stilzwijgen\", \"fedris\", \"protocoll\", \"testcapaciteit\", \"meteen\", \"isolatie\", \"ambulanced_ienst\", \"revalidatie\", \"ziekt\", \"application\", \"gestraft\", \"arbeidsart\", \"teststrategie\", \"mondmasker\", \"uitgeoefende\", \"ziekte\", \"la_sante\", \"werkzaam\", \"algemene_directie\", \"cruciale_sectoar\", \"werknemer\", \"leeftijd\", \"test\", \"vaststellen\", \"preventie\", \"besmetting\", \"werk\", \"tijdelijk\", \"mogelijk\", \"bijlage\", \"periode\", \"vaststelling\", \"verspreiding\", \"dienen\", \"gaan\", \"afstand\", \"uit_voeren\", \"lijst\", \"kader\", \"dienst\", \"waarbij\", \"taak\", \"sociaal\", \"beperken\", \"verrichten\", \"gevolg\", \"werkgever\", \"erkenning\", \"covid\", \"houden\", \"bericht\", \"bevoegde_autoriteit\", \"brussel_fiscaliteit\", \"onderling_overleg\", \"generaal\", \"fictie\", \"gedwongen_invordering\", \"kandi_datuur\", \"voornamen\", \"door_brengen\", \"vos_adviseur\", \"duitsland\", \"bevoegde_autoriteiten\", \"nederlandse_staatscourant\", \"thuiswerkdagen\", \"in_komen\", \"ondergetekende_bevoegen\", \"directeur_diensthoofd\", \"koninkrijk\", \"standp_laats\", \"attach\", \"schriftelijke_overeenkomst\", \"uitgeoefend\", \"zulks_schriftelijk\", \"ambtenaar_uitgeoefend\", \"adviseur_generaal\", \"arbiter\", \"dubbele_belasting\", \"tuinbouw\", \"Luxemburg\", \"beeindigen\", \"kalendermaand\", \"overeenkomst\", \"akkoord\", \"verze_nding\", \"kandidaat\", \"verzonden\", \"directeur\", \"fiscaal\", \"overheid_dienst\", \"overeen_komen\", \"selectie\", \"publiceren\", \"gewestelijk\", \"kennis\", \"administratie\", \"ambtenaar\", \"zetel\", \"aanwezig\", \"verlenging\", \"betrekking\", \"financi\\u00ebn\", \"dag\", \"geval\", \"belasting\", \"belgisch_staatsblad\", \"staan\", \"uit_oefenen\", \"verlengen\", \"groot\", \"daten\", \"vernieuwing\", \"oder\", \"auf\", \"ist\", \"mit\", \"werkzame_bestanddel\", \"sich\", \"absatz\", \"fur\", \"od\", \"sind\", \"zusta_ndigen_foderierten\", \"hgr\", \"nicht\", \"diees\", \"und\", \"schulen\", \"dass\", \"agenturen\", \"sie\", \"maximale\", \"gefedereerde_entiteit\", \"dieser\", \"per_gevaccineerde\", \"gecorrigeerd_jaarlijks\", \"omzetcijfer_gelijk\", \"person\", \"zustandigen_foderierten\", \"von_den\", \"vaccins\", \"vaccin\", \"vaccinatie\", \"vaccineren\", \"plf\", \"specialiteit\", \"fase\", \"gefedereerde_entiteiten\", \"indexcijfer\", \"conferentie_volksgezondheid\", \"verwerking\", \"jaar\", \"Belgisch\", \"quarantaine\", \"maximaal\", \"wet_boek\", \"categorie\", \"gemiddeld\", \"betrekken\", \"gezondheid\", \"oog\", \"gaan\", \"afnemer\", \"behalen\", \"prerogatief\", \"getuigschrift\", \"elektriciteit\", \"externe_evaluatie\", \"heer\", \"adjunct_directeur\", \"theoretisch\", \"daaropvolgend\", \"druk\", \"ambtenarenza\", \"regelgeven\", \"klassenraad\", \"actieplan\", \"uit_rusten\", \"competentie\", \"stapsgewijze_heropbouw\", \"hernieuwbaar\", \"adviesverlening\", \"taal\", \"vervat\", \"specialiseren\", \"sector_xvii\", \"dco_dz\", \"afdeling_verpleegkunde\", \"dwingende_familiaal\", \"gespecialiseerd_secundair\", \"gas\", \"lossen\", \"proef\", \"personeelslid\", \"school_jaar\", \"omzendbrief\", \"graad\", \"leerling\", \"rang\", \"slagen\", \"leerjaar\", \"personeel_lid\", \"secundair_onderwijs\", \"school\", \"opleiding\", \"organiseren\", \"regering\", \"einde\", \"les\", \"tussenpersoon\", \"beslissing\", \"statuut\", \"stellen\", \"jaar\", \"dag\", \"organisatie\", \"resultaat\", \"afwijking\", \"geval\", \"staan\", \"af_bevelen\", \"plenaire_vergadering\", \"cluster\", \"bekrachtigen_hetgeen\", \"kinderbijslag_toerisme\", \"waals_parlement\", \"bossen_landelijk\", \"leefmilieu_natuur\", \"Parlement\", \"vrouwenrechten_linard\", \"contactpersonen\", \"nota_zitting\", \"aanneming_vergadering\", \"test_ing\", \"dierenwelzijn_tellier\", \"vice_president\", \"paasch\", \"ordening\", \"verwerker\", \"aangelegenheden_ruimtelijk\", \"aan_neming_vergadering\", \"verbinding\", \"sport\", \"incubatietijd\", \"aangeduide_agentschappen\", \"inter_franstalig\", \"vlaams_parlement\", \"universitaire_ziekenhuizen\", \"huisvesting_plaatselijk\", \"betrokkeen\", \"bespreking\", \"morreaal\", \"vorming_gezondheid\", \"kondigen\", \"aan_nemen\", \"parlement\", \"sociale_actie\", \"decreet\", \"president\", \"aangelegenheid\", \"bekend_maken\", \"Waals\", \"geschieden\", \"regering\", \"grond_wet\", \"integraal_verslag\", \"stuk\", \"bijzondere_machten\", \"regelen\", \"belgisch_staatsblad\", \"Frans\", \"tekst\", \"ervan\", \"bekrachtigen\", \"gezondheid\", \"verslag\", \"onderwijs\", \"waals\", \"kader\", \"sociaal\", \"woord\", \"volledige_adres\", \"rechtsvorm\", \"afzender\", \"notaris\", \"bevoegde_agent\", \"behulp\", \"technische_ingraving\", \"liter\", \"technische_storing\", \"berichten_kennisgeving\", \"private_sleutel\", \"gobf\", \"beslag\", \"afval\", \"elektronische_handtekening\", \"sectie\", \"hypotheek_vatbaar\", \"verpakking\", \"rekenplichtig\", \"gezinsbijslag\", \"ingeschreven_schuldeisers\", \"Volledige_adres\", \"doorslaggeven\", \"referte_dossier\", \"verschilt\", \"verzetdoen\", \"water_beleid\", \"iriscaar\", \"beslagleggende_schuldeisers\", \"ve_rzending\", \"functioneel\", \"certificaat\", \"afval_stof\", \"schuldeiser\", \"Woonplaats\", \"hypotheek\", \"kennisgeving\", \"aangetekende_brief\", \"natuurlijk\", \"rechtspersoon\", \"gebrek\", \"procedure\", \"elektronisch\", \"codex\", \"ordonnantie\", \"middel\", \"waarbij\", \"dergelijk\", \"gebruiken\", \"fiscaal\", \"datum\", \"intrekking\", \"adres\", \"bedrag\", \"belasten\", \"nummer\", \"mee_delen\", \"verzekeren\", \"geval\", \"elektrisch\", \"huishoud\", \"collectieve_belegging\", \"museum\", \"cafes\", \"discotheek\", \"Sexies\", \"ver_richt\", \"werklozen\", \"nut\", \"bedrijfstoeslag\", \"arbeidsrecht\", \"buitenshuis\", \"werkloos\", \"waarnaar\", \"redelijkerwijze\", \"verkiezing\", \"vers\", \"vitale_sectoren\", \"manipuler\", \"on_wijzigen\", \"restrictie\", \"herneming\", \"consumptie\", \"restaurant\", \"detail_handel\", \"degressiviteit\", \"tijdelijk_bevriezen\", \"tijdelijk_versoepelen\", \"waaronder_werklozen\", \"drank\", \"invoeging\", \"geest\", \"omwille\", \"virus\", \"koninklijk\", \"procedure\", \"wijziging\", \"instelling\", \"tijdelijk\", \"datum\", \"bis\", \"sector\", \"tarief\", \"beperken\", \"covid\", \"volledig\", \"gevolg\", \"vervangen\", \"gebruik\", \"voorwaarde\"], \"Freq\": [1830.0, 2933.0, 2210.0, 1071.0, 1340.0, 1583.0, 929.0, 664.0, 1155.0, 690.0, 1023.0, 819.0, 629.0, 707.0, 1406.0, 1323.0, 456.0, 566.0, 781.0, 633.0, 563.0, 963.0, 1365.0, 553.0, 1150.0, 2113.0, 752.0, 1703.0, 463.0, 432.0, 160.99108509216302, 147.17918289379975, 122.03208611743044, 98.07992193229421, 86.5218289722372, 83.63768860485983, 79.84413586554535, 73.50931360130835, 72.11086934390838, 69.74274501177253, 67.61647310068737, 67.4477849450538, 64.9355140762641, 57.95611491284871, 54.372610517363036, 54.141802987963125, 49.12588687343368, 48.53629715808874, 48.52413568092988, 46.97911631339598, 46.33576300583687, 45.790501735162806, 44.98649968762831, 44.38243158019524, 44.26398046754614, 43.874068808123695, 43.196059477857474, 43.12508651149997, 43.12508651149997, 41.95226231332694, 157.322320088256, 152.47523170254865, 111.48861579880963, 242.63713873601438, 102.49062078680518, 122.11383878638055, 120.45847285601039, 167.12765294700034, 96.94511747067139, 128.6549455707962, 138.3803495169203, 83.0645917879572, 79.98666800565209, 66.48924281076104, 341.2472899065801, 162.34059033723165, 109.83348249042031, 506.82091636294797, 594.1020979197152, 221.65969791759872, 232.3890797233153, 113.72061440019135, 275.7734885666278, 120.27010488079685, 122.0661791949439, 223.40508855455803, 270.39679436955765, 167.56395873428363, 221.0613383535757, 215.1649852610439, 148.25310553059435, 178.337706204188, 224.49885849875884, 172.802810450381, 190.0448819393325, 158.79783200791175, 149.57361677196977, 171.45308188821073, 140.0507428272534, 146.98724184496035, 152.77556528958516, 139.76669277887643, 228.91708950022084, 119.93477490748143, 83.55853412233792, 75.43743323613394, 72.08410114196593, 69.09967312232524, 60.611599729354204, 58.972361884574, 57.97093278776682, 56.311531260025895, 51.16794026427999, 50.13304394746161, 46.95474523275444, 44.20066301044475, 39.98461592671034, 39.59710284571224, 38.16567704904489, 37.7508574707231, 37.319215495509916, 37.28368624537566, 37.12197814669243, 36.61646910645616, 35.88468759377168, 35.53498323030221, 35.329675334764104, 35.16546670746065, 34.6912940019766, 34.39012163746652, 33.53410009190236, 31.91993276450575, 467.7610891770777, 72.94106491570582, 56.22167530765149, 44.23643144157746, 170.2858685745807, 110.49266287098813, 139.9200433391775, 105.35009020646294, 994.3015610364753, 86.21042807503463, 229.01555959249418, 304.916460372454, 149.95773055764374, 346.0608685846309, 133.95005662608526, 220.52111166351884, 686.8223559925672, 158.23594436819698, 220.00176998887187, 117.34856150654247, 249.9282849612932, 278.1440179787599, 223.8140251878951, 146.95867625755204, 219.88101982419693, 162.42469945042578, 267.17830848628523, 179.42295960686147, 216.65216331995254, 226.08892639957128, 215.66683907704137, 152.96374285041782, 144.87459799518933, 154.78154743031786, 136.2085920591398, 158.74473308727573, 140.3843009050892, 141.0251320311336, 197.8299616867329, 128.24524467942484, 105.77445225750388, 82.49063293964065, 69.56027662312071, 69.11744062597592, 68.79126836827137, 59.850635756782516, 58.019519015257856, 56.946825841382086, 52.50173182091175, 51.58799674788008, 49.19838752226202, 50.783458088189505, 39.364980932813594, 36.50063824300992, 35.752195011066476, 33.3370971757867, 33.060334920816885, 31.88014229796731, 31.608180710805176, 29.088991012947094, 28.845208594644724, 28.634991585221055, 26.76836151093129, 26.29019997385882, 25.85061620721674, 25.64097794117387, 24.426050472230703, 25.101350101203845, 114.62331221654966, 92.64366976722069, 69.32040712466728, 57.54710735342588, 40.63031199932223, 90.91102476081242, 102.53180260391063, 54.04966037801135, 45.564473199096724, 130.98013664476707, 215.5264524153431, 67.98082277023991, 304.81077464537805, 357.05323967493774, 301.0897176168161, 56.655115276553055, 889.4012459146956, 58.9569876885251, 79.07623820018212, 147.35799387077634, 528.5270024487019, 333.37506222730775, 153.21651580376567, 136.53039151349674, 510.61175696539544, 127.27892419749831, 131.00958256167567, 135.88778491031206, 366.9959621822602, 309.9379971252734, 167.47286027328326, 201.88097414506979, 155.14567406408827, 180.54199891107714, 304.87182438961804, 179.73078848403506, 182.4394304251202, 208.2143456323624, 226.19219783325178, 157.1914550908684, 199.32298986141447, 145.58547532335945, 154.33727711519236, 166.24998063127885, 148.74400061461574, 148.81634524442316, 76.98568230939324, 56.11676569761981, 53.526608909132854, 45.50517446557219, 38.55608819058922, 37.09330724028397, 35.7543693226893, 34.309910888666536, 34.13936261679465, 33.93919198930168, 33.71485568056802, 128.57581882734843, 27.62571380415807, 259.01581626756746, 27.07986314095753, 26.91283050189734, 25.847902952414042, 25.530456769140507, 25.36281433383529, 25.10563205177211, 22.946658466382207, 22.946658466382207, 22.80247744059808, 22.47129939023877, 22.314534517529694, 22.19672216927991, 22.04537675334001, 21.135857065203616, 20.534786918556744, 20.35121105131869, 859.3613761049053, 195.26484246776508, 71.56286450363433, 86.4996259859275, 114.05306032624433, 42.97129356811098, 76.70042363402032, 47.38506177326183, 95.80916481597161, 343.8900403825032, 469.4071555995172, 71.38343553715177, 311.6097060337678, 104.545598239845, 84.4132582342001, 52.12072796056423, 182.38954156662783, 100.00374419430692, 179.84188729012988, 107.72285998209978, 175.6374538335064, 105.69295420945413, 246.13552248074322, 133.48970011442967, 476.6195851026633, 176.22027017330686, 66.21680086374, 157.33166829870328, 101.65204921065182, 161.63151625886778, 178.1242200980831, 188.9733369876946, 116.99571369907457, 130.92026494670094, 163.98594814959424, 147.76544819290055, 120.31967008731598, 118.83713803703685, 110.26224622312525, 110.74379630574694, 167.61178426437863, 131.97048220790882, 110.2964650902053, 75.0650113708554, 71.16675603116383, 69.60936446044703, 65.98690181054029, 61.366399657688625, 55.280140813529094, 353.20758592298176, 50.55628350759901, 43.54676712926319, 42.189267434944306, 63.52457065049617, 38.32094495172195, 113.34555248530839, 34.52885943699603, 33.9756785749662, 33.9493832178165, 33.263626794381615, 232.35771680707572, 31.221196012680352, 29.693471384689403, 28.37481516586242, 26.236703100336786, 26.234171902534452, 24.881320681483878, 24.718245315439805, 24.537541875107333, 23.88262642866144, 409.878882079706, 593.1524540003311, 42.689461220679895, 45.95715479902473, 282.29848525740965, 59.90746641338011, 89.31606139446679, 73.08560967219043, 112.20440121603293, 98.8194272372952, 77.95684841606608, 156.6724139660557, 75.90494257579255, 136.61529289069568, 105.2303366586511, 172.84461552681552, 139.81344249929197, 69.90437819836018, 78.11302005926375, 132.32840210646748, 151.10147087032001, 115.85548722265386, 89.40450530895545, 101.78573016512674, 95.28008520976954, 84.35856625293462, 95.28542355359845, 90.29558728018553, 82.86818996278424, 90.80863021868976, 84.67664926239412, 84.20772793632541, 196.46969202690738, 169.62860098332612, 206.52282356061943, 342.21575368520496, 94.14838488523748, 83.48410753863021, 60.05896791204296, 51.721966878009056, 49.36821602771362, 46.55758257798924, 45.27531212531659, 44.45987959269792, 38.14885851337835, 35.35115020968773, 32.64932650438961, 32.169889536778115, 31.991725634277348, 31.991723305002516, 31.160470337735923, 30.731650841463367, 29.53228626782835, 29.023232570748597, 28.11847234838494, 28.0680621825059, 27.730457088590942, 25.68213705897846, 24.613416852029676, 23.640154986179436, 22.15397748558068, 22.15397748558068, 154.16229064641195, 104.07499952726272, 229.5198098635356, 272.8992366919641, 225.7028924186907, 107.34817105570421, 187.46022469079375, 46.71779475937229, 582.6918387880839, 104.86759584944437, 126.01500749765006, 101.29760017081817, 305.9190366874002, 642.9530483165494, 159.21213984447243, 49.724800052946506, 90.9006024524471, 218.29181073957963, 436.1752343816988, 68.00565702130011, 99.59462075683233, 349.20085758333653, 522.8981613035721, 255.4076125729371, 284.3890463068546, 271.50890186281094, 263.10903370110515, 164.1537429826156, 142.56670400292438, 170.04090126250165, 137.15225807421453, 114.09937849246859, 130.2146620655233, 120.69555871362233, 107.87701893029251, 163.27887106524253, 71.15763330805488, 38.59534160240865, 33.07559292944662, 31.28269841828373, 25.05126224288631, 24.40816945468659, 23.374048306758556, 22.970562624196358, 19.468642913854424, 19.33949133406628, 18.75511489623476, 18.424313340065392, 17.076476658690847, 16.227693711538215, 15.509912929045942, 15.15616702948206, 14.886092404705904, 12.96470308117929, 99.15720172010309, 54.57938243146658, 11.083366500854353, 10.931693504565104, 10.671336128649402, 10.635245248224336, 19.062460792633193, 10.40495484163817, 10.185085443213923, 9.494397715546743, 9.36055422060646, 43.59714804428496, 16.92681871884347, 49.36428209738973, 63.81115149704043, 90.21702844013797, 38.52995128664579, 205.69803568658767, 181.8622877124414, 104.57564261928059, 104.57576793095271, 220.0098459561931, 96.79320597637401, 333.71966222554954, 445.4110654903855, 267.2217523961481, 139.75784335562818, 529.0079857023753, 183.5620331347582, 288.8172678044522, 260.8953210224492, 265.3925242131954, 581.1481316818379, 231.19555964639804, 394.034354020819, 515.626918926615, 170.51042864667141, 161.23292529619027, 203.64140262207025, 248.181610507403, 233.99779716003547, 431.4704641969374, 200.2918216262757, 290.36545771017234, 200.50318661380894, 229.95008693718736, 204.46113787608354, 139.9038851586515, 185.74292167301732, 181.75827902458096, 148.94822824148406, 91.58292606794541, 62.2022455725503, 58.94768393539024, 55.75445354568559, 55.553127538969775, 52.29908644321802, 51.061203683313124, 40.69095569011541, 38.502652545993186, 33.53897039358383, 30.655521695290037, 29.060503415605584, 28.928226344428555, 27.99843572204143, 27.79386074289154, 26.507499255811837, 26.139877914612335, 25.006672502824348, 23.795654973229702, 23.48080020877176, 22.998156861807143, 22.998156861807143, 21.801890946359865, 21.801890946359865, 21.801890946359865, 21.801890946359865, 21.801890946359865, 21.801890946359865, 21.801890946359865, 21.801890946359865, 31.985725561916283, 52.9445489667871, 22.191238274304524, 411.4152133449808, 98.05461447454584, 297.43725483569347, 36.21607956558092, 42.52856391154395, 359.4492292894027, 93.07985317173843, 39.54081503708586, 48.96593628750671, 300.3713438314169, 51.12951371473419, 102.64736896553936, 131.0702885605864, 73.996597808792, 70.36671699350447, 69.77914043908665, 103.80335026962484, 58.632897547134235, 81.60240036896104, 102.2418672084656, 78.90175213802544, 72.12339426004435, 63.56512444096768, 68.8132670332311, 72.18255511450917, 87.32714714557909, 85.10348247663471, 76.42833346592091, 83.11303800408481, 66.05502839479134, 63.86203596662645, 65.31141734754856, 66.25264444113098, 65.83572606401734, 126.13148671530989, 72.27099269159835, 71.5618177654186, 56.70993518246796, 56.410995336865064, 49.892437646754466, 47.35443355573835, 44.45133589040854, 41.20437212844658, 39.824167987248465, 38.87741751522235, 37.59241000121668, 37.44069231703046, 35.08210760299406, 34.853324405547774, 34.59108764708676, 32.60668897123448, 31.981430470086057, 28.798337489498444, 27.95170139885465, 27.785981775655586, 27.498616038398566, 25.779186206668353, 176.21237204029669, 25.289101783123773, 24.395722190533764, 23.749958558594457, 22.783671604330014, 22.637871369314194, 22.418991982389194, 33.40616346803545, 173.21032319975237, 60.75809134357836, 87.13229683055586, 44.756526416842, 108.11845683682016, 70.69937283365431, 296.4938838219906, 121.72966620490115, 245.1421315960559, 47.209591620465766, 65.56857391554699, 151.42086377676165, 75.70260818853329, 153.84736979614107, 150.58310696451625, 101.274954813042, 374.2851052660119, 179.66990095577424, 220.9223743499501, 132.27456476607108, 109.12175320298242, 154.81262393923518, 100.13859759613948, 139.55485277562298, 137.53782844350172, 122.7839780614978, 113.57247804672383, 83.66180292675953, 113.30355802720258, 111.57740146941299, 94.82913683389482, 92.13274214644159, 79.2672431409712, 87.20926713477017, 81.37225718947295, 199.05122424205325, 179.89784801051096, 74.89489772087491, 64.34632080083053, 62.32085150660029, 60.854682332847204, 56.330551505727534, 54.36682555798857, 132.80300026796306, 38.408968340874026, 37.739835198555845, 36.67360580150586, 34.13324854630268, 32.765168966361124, 66.91518078953649, 31.094309896068097, 30.19101907365269, 28.580584845249714, 27.977041349742915, 26.603115869882714, 26.254407145455765, 24.357384822060233, 22.420584962261756, 22.138222436232127, 20.373352399312658, 19.83409791731333, 48.36361453766234, 19.347724604041375, 19.278457441384436, 18.688394861145188, 87.38916646397718, 62.42784894926883, 57.598496221165924, 96.59520387362946, 144.26847005337214, 38.79932910222131, 100.55699248833062, 98.3190374405358, 149.1811069983187, 157.76233208297077, 98.56546277338349, 153.24775644281053, 99.92787516637945, 43.646612698620864, 118.14907658766104, 286.55613317018054, 111.01130427218689, 86.51429100427772, 79.31952910739561, 262.4141232947493, 115.141083081561, 79.69793198514571, 116.01889737681739, 155.917903001846, 124.59059110290646, 102.55955475081443, 96.08506173494101, 82.32764175547767, 100.1497095941346, 98.99130004558215, 91.28258346658637, 84.81481005849987, 82.74603662519839, 75.73987137461495, 49.424260772696066, 48.41606301359901, 40.659336560278255, 39.19953690811781, 35.429667842004825, 34.64778576290667, 34.35036305359455, 32.818609489888026, 29.60860339053274, 27.852119137428254, 26.881329875860235, 26.04839012159471, 76.47375310110198, 23.921849410977202, 23.48405597156842, 21.175536585188873, 20.326863468340385, 37.33413893813038, 19.40853234544867, 19.18913740259582, 18.459835832771837, 18.330649386842182, 18.24637100793945, 17.135620860658115, 38.95572805979517, 16.78728809785223, 15.89626989816549, 15.471242819938995, 14.678396917989051, 584.9495453463484, 248.09237865644337, 213.0435436541257, 242.83177931276612, 65.85195412795773, 64.36766093231935, 43.28673430079603, 281.3040386219009, 39.6481436351191, 52.77121316779816, 48.68325435806654, 348.1985980132513, 77.37277686299682, 337.9171990803464, 149.77617309655565, 87.49933619940005, 391.53976197902256, 95.01116606575046, 358.40140005929726, 169.15913192944046, 246.8207344816516, 135.3553225832927, 93.96292787007498, 56.19364685548962, 164.17282919446882, 186.0619689499267, 105.88547579639904, 108.54209874351227, 152.8215771450461, 109.11186401674502, 206.84018568535382, 201.00617714397399, 154.07457437159138, 113.79747694168051, 109.80206526696468, 103.09814551163979, 91.38374414511699, 91.10823548477535, 88.54528237435358, 100.13172556665678, 64.66754134388827, 63.592363199938504, 63.25134393769714, 50.91106099231588, 46.308017334814146, 43.655301150501515, 42.6838158988951, 40.73134630079644, 40.409855492033856, 39.666675103944044, 37.89195270981623, 37.17371227436197, 34.77860943634492, 32.98384237175192, 32.5677644573517, 29.967997386787143, 29.49419798527477, 29.409596342227836, 29.07215723792958, 28.32658363979737, 27.643688265350825, 26.983982270970294, 26.55801019766404, 26.194154479214713, 23.084881243071564, 22.644412953983903, 22.168429287399817, 21.257961234754113, 20.816121634556314, 617.0624398948933, 42.896434087049414, 63.19899180957961, 830.1029286608858, 179.14385536515613, 343.7921691915007, 193.66867026994484, 186.40772367650519, 85.06382932209229, 111.23102990008844, 234.69134555844124, 71.30063463801649, 265.89380387876463, 55.524197218653796, 69.91686408660382, 105.25440307537508, 120.67730209265612, 137.3339597074375, 112.74353162352504, 114.16640824541777, 88.13703409111072, 103.25123535052347, 118.67651528696628, 122.5804922827944, 121.79716285521117, 101.98898298004583, 101.68820757266273, 81.36772272281566, 132.65495489597075, 101.3896234537117, 86.20127657898679, 82.41473016836464, 89.347074800678, 91.9138812410768, 34.22853116736845, 30.891217287582897, 29.451977143549485, 29.31821893627589, 26.89226407267513, 24.263815206494407, 23.462979009240986, 22.556583395972048, 22.538980736431498, 19.588436361324703, 19.40215135342715, 44.80324445654872, 16.826990302233718, 16.826990302233718, 16.826990302233718, 16.27794900191717, 15.909636387761093, 15.909636387761093, 431.1115927688269, 14.7966330155546, 14.122189384548166, 13.662608531737739, 13.641029648555852, 13.471572532563895, 13.471572532563895, 13.471572532563895, 13.471572532563895, 13.04328954155137, 12.509275218628, 12.011270017105234, 58.27914010082719, 57.69117245738394, 62.487146100739444, 239.59142953321228, 749.6291972501259, 190.6656633006161, 222.0812531036416, 30.750313491628724, 39.11847327504096, 22.151062069501283, 65.67344905806668, 43.53688293685966, 185.36357537397276, 94.58662803237873, 69.37796917771303, 50.37791000169778, 140.88833116430172, 51.9076222227725, 246.6364053911402, 79.15373352413528, 130.1414880400101, 114.0090226734987, 124.23425616180337, 174.81263996329332, 326.74981164654264, 73.95228287040648, 203.43473858433822, 68.36114396213152, 109.68258572346988, 104.80269267293244, 67.28251460014337, 111.78259416208918, 97.11512728922624, 94.94337567323826, 97.64135802447969, 121.96327927545451, 102.57535950187814, 86.20757260155577, 85.05701057267876, 84.34441995060445, 90.96159571016804, 82.66627019700685, 79.88408726058577, 96.02566422280286, 60.05549587920722, 35.637147093421085, 34.62965653977079, 34.361807119676655, 32.57039442582978, 32.08442328448111, 30.431272987347462, 29.604837147357447, 29.055445093531002, 28.336192179922044, 25.55617207343439, 24.770217666940823, 22.847152904927388, 21.383881563755654, 21.273736281461847, 20.77305306178579, 20.089588794713304, 61.142059073670964, 19.540438482240738, 19.08809807025835, 18.72606102876692, 18.564889200020318, 18.498023814692406, 18.335452071325903, 17.820690490769906, 17.146423321307577, 17.046323280018036, 16.81108435883061, 16.463982016235388, 40.186629232515564, 37.63558872165143, 173.35114603363675, 48.88055518940082, 41.415762463410736, 53.45535051636383, 53.839984228476006, 317.1222846250768, 22.242217702064718, 80.16006171169792, 24.047768850687408, 71.74951125236927, 55.98468074157143, 105.14144932875641, 125.10980961469738, 117.82031078298539, 66.88069834519769, 148.12962867172854, 99.47740297125945, 114.96999174448257, 98.08933231192808, 86.14058437721776, 61.07767119577769, 80.17568612462638, 62.56634996297286, 116.90398813246449, 92.61336892236847, 74.71509584624883, 53.99740838335235, 85.15704397261584, 71.9299185908785, 66.04962708060285, 67.8284938079147, 59.320580311099704, 57.28289463731986, 57.861997659576865, 56.47635260840641, 214.2234509080015, 205.40932779894095, 146.22321024499246, 61.392016528733066, 211.21649468204498, 48.03310577647738, 43.814830959567225, 39.535286251956514, 38.818762100044744, 36.3631241819726, 36.32111514975569, 36.05315023104681, 32.05289639491569, 31.523599435916136, 30.598950673347126, 28.90114318160319, 28.772170278281948, 27.878211815273527, 25.70740740982653, 25.126650288875553, 24.85769621449545, 24.360836822738495, 23.55444872044303, 23.468774843109447, 23.388828923190715, 23.17426878390855, 20.573797777908492, 20.483902540362447, 19.55637174880004, 19.29349701073503, 35.39935683964686, 85.18569170591407, 219.7493413881691, 233.641284305268, 75.20360438609787, 86.94641768114394, 71.59893339719663, 53.331553026588985, 284.9065994363934, 134.20286537967277, 54.05868111983261, 40.93092954983818, 71.10284896438405, 136.36120786768527, 96.54058269509642, 144.75020101473353, 91.70650432199366, 45.790398658540404, 59.84835125906858, 87.33735318141244, 135.7970955171045, 73.65101505504923, 104.55215639601138, 103.5433331331968, 84.24675915037987, 74.31935697694195, 72.32154169883309, 67.8520598487097, 61.379751961091856, 54.44715215438986, 54.94221715669798, 51.319922416728154, 44.46752310143473, 41.47423104076471, 33.98917273200783, 32.249480507840836, 32.175306679344175, 29.99811515568945, 28.013548580608653, 27.505529523650388, 27.25700110171045, 27.00482309501943, 27.00482309501943, 27.00482309501943, 26.259237829199616, 26.00705533623355, 25.758531400568657, 25.31759112811955, 24.760763641782777, 23.013763275563527, 23.013763275563527, 22.533240598370952, 22.015993273640124, 21.270414737232883, 21.01823673054186, 20.767763508368866, 20.34526406950221, 20.020471214893504, 20.020471214893504, 19.022707942382674, 45.95751374273688, 103.6016124781241, 207.614293366294, 53.99098328584155, 36.22789576107556, 31.929155983179374, 108.80614913319634, 79.50114552723446, 41.093090571560296, 34.681609097340754, 66.69379032968537, 79.64668028977304, 39.719065653959134, 29.626088554243893, 36.88961235802122, 42.08010697219502, 34.72495997312406, 30.81375136323734, 35.358845962812985, 30.832737279238057, 29.123094125338746, 28.78774955181849, 124.27136369384384, 61.65323576484763, 49.30747636187531, 46.327965442101664, 46.054142128358656, 41.763700999214244, 38.615521165982685, 36.77896858142412, 32.11711498680408, 29.626735887333435, 28.71135176074534, 27.403946891510465, 25.153756222384906, 24.349653872984753, 23.732642711375792, 23.524587427921457, 22.50942267263222, 21.935314097604486, 21.79590441244829, 19.169336241351388, 18.625019710008228, 16.893309500287945, 16.492933409565477, 16.363535909360422, 16.252440252614438, 15.718088463756825, 15.456819156294818, 15.390239129960356, 14.79509164615066, 14.31810783410576, 208.9802363612907, 99.19145166916034, 125.65071323744604, 23.649680436728712, 74.66512752842375, 179.54712047489866, 40.71734647221554, 51.67518384299435, 23.29943643446034, 89.97575272698204, 53.01946610567967, 78.26037596207611, 65.84381415333121, 78.06839455090801, 167.0691535179898, 59.97767736258159, 38.94712210398173, 37.039745217128, 72.28074219593722, 48.811728142331766, 68.14569338872448, 58.23039325117404, 55.54059887111833, 45.818309281297395, 39.57862876354073, 43.705586805658996, 41.01328892318794, 39.44751603573332, 57.15115463029604, 52.59566230539685, 42.96747479020989, 41.72748778596554, 28.404287049357734, 25.417091122811943, 24.043418620405916, 24.04341556906158, 23.801596530229457, 23.340767251496068, 22.43708721487217, 21.668139287518088, 20.653854121309504, 20.624249978536643, 20.419451374892294, 20.371880916653897, 19.660061783678795, 18.82404225641848, 18.45365940089698, 17.988025780502504, 17.792884681689742, 17.649352495347483, 17.15208253685065, 16.411568561715583, 15.810978558242413, 15.353641543104523, 14.327022843079416, 14.291616569046752, 14.128867016060143, 12.466901974873318, 45.87652273690042, 24.84608542837343, 33.00918063909847, 61.15765518448737, 171.85559445858033, 42.623942239195685, 70.15152313588254, 445.3249587555026, 122.97000681025953, 82.48849276613063, 49.54776598592377, 82.7503835480219, 43.13692509536401, 305.6655630585167, 71.09981382673641, 36.292198296580494, 47.080323848633604, 81.34666140656958, 58.202531938284345, 80.92784608803404, 49.24647014324413, 56.40449677333525, 71.18727145816867, 49.98499616754262, 60.386421800223694, 43.168952005541705, 48.85600181361396, 52.6529665520753, 55.90770129888307, 49.97488401240457, 48.2539105487262, 48.88860290257097, 44.503429353399966, 36.217093162032896, 31.007850045390892, 29.81037799457856, 28.455732503415152, 24.54102832386097, 29.347473227279234, 19.534979923370543, 18.97243709181634, 18.97243709181634, 18.358533926362348, 65.13174299935639, 17.318594999815144, 16.796633224861335, 16.020314507011953, 15.940303101333082, 15.47353032694236, 15.443108935898778, 15.417262274637105, 14.842748712818198, 14.242387084722328, 14.242387084722328, 14.242387084722328, 14.242387084722328, 14.242387084722328, 13.878686231953498, 13.727870485786438, 13.64202686164175, 12.933945521347036, 46.53370173669091, 38.10936494361034, 55.8513079102703, 21.64105850157953, 48.38136990289473, 33.209449993057156, 204.89636950885716, 60.74312716272663, 164.62331474011603, 73.09552140067073, 89.52904106915416, 150.03348985459834, 92.47445330093691, 56.93667660118122, 105.39538978572047, 96.26536439338284, 100.14820844623722, 74.77212052531246, 78.1633216281405, 89.23059896152671, 106.3555547541727, 36.284758698364826, 37.521149672690335, 60.54669478516237, 52.86164893699739, 36.81669467685726, 37.72225232107617, 37.54332081395524, 41.8186249775348, 78.87320754554283, 74.38192978999444, 43.59691646395478, 30.99086829965211, 23.736275776215138, 23.817773882624525, 21.305650647877382, 20.295516519426904, 18.92833227486315, 18.8391195915109, 18.575820245429536, 19.94227001182621, 17.892075603899507, 16.885204876121787, 16.755168158035026, 15.704859266733232, 13.662396477006164, 13.359054437813503, 13.266050074828417, 12.4124577831925, 12.193861061888045, 11.969017015849214, 10.163658604349049, 9.8578685886204, 47.02011300150884, 9.229344435549926, 7.65162057588579, 7.65162057588579, 7.65162057588579, 7.65162057588579, 19.626125728479977, 25.844526337729057, 12.896495936555162, 59.55039232993048, 71.38841490906208, 128.62146216095294, 51.683572207278694, 52.84719693551784, 45.34083006795766, 41.813750029092205, 40.83842437173403, 29.06161057869335, 30.78161870768973, 22.557465584062175, 29.60056077376791, 28.618023256541786, 23.432655112474176, 21.32834448952705, 21.27738942763873, 20.027346782158727, 19.39590857417942], \"Total\": [1830.0, 2933.0, 2210.0, 1071.0, 1340.0, 1583.0, 929.0, 664.0, 1155.0, 690.0, 1023.0, 819.0, 629.0, 707.0, 1406.0, 1323.0, 456.0, 566.0, 781.0, 633.0, 563.0, 963.0, 1365.0, 553.0, 1150.0, 2113.0, 752.0, 1703.0, 463.0, 432.0, 161.9302780762741, 148.1183751585424, 122.97127836849543, 99.019114213822, 87.46102123293629, 84.57716871433655, 80.79322627529763, 74.44850586095198, 73.0500617389029, 70.68221190855505, 68.5556654349306, 68.38697721423863, 65.87470880732629, 58.89530716364822, 55.31180426401999, 55.080995331427985, 50.065079126200956, 49.47549150521014, 49.463327925532894, 47.91830878746596, 47.28089081250498, 46.72969399144467, 45.92569197445243, 45.32162382695224, 45.20317271430314, 44.81326106197689, 44.13525173511894, 44.06427876817697, 44.06427879267521, 42.891454570189744, 160.84654393262278, 158.99413748353854, 122.15029042099572, 307.41231615779884, 120.48458650853485, 148.1014018952972, 149.54390324291825, 232.4359172455253, 119.44178273979507, 172.47683723119303, 190.285372881609, 99.40674701294726, 95.43989927239687, 75.16063792891312, 753.511465827185, 276.183476930951, 157.4008744635274, 1703.7766039168064, 2210.9484159191425, 495.25722399948245, 546.5833209149332, 170.4202429172924, 816.8163438287049, 195.07654014049282, 202.5928298114244, 700.5267561320152, 1069.324381649582, 447.11757806793, 963.7185954906568, 931.12825534806, 408.57011174516765, 891.2160683125591, 2113.5735350459076, 904.2893746239228, 1406.1046173379218, 869.5610130678756, 653.0137076117525, 1488.1828079173802, 503.0324691050095, 799.3262608187854, 1276.137273639921, 562.8560215126605, 229.8302883848981, 120.84797344497186, 84.47173271094373, 76.35063178722032, 72.99730635779123, 70.0128719365605, 61.524798273798346, 59.88556033882996, 58.88413434324704, 57.22472971428186, 52.081138718535954, 51.04624256518164, 47.867943772758174, 45.113956660725, 40.89781727543129, 40.51030130682695, 39.07887552444614, 38.6640560141165, 38.23241399934345, 38.196884703195515, 38.035193468546474, 37.529667736847486, 36.80025566582134, 36.448181730408564, 36.242873807463575, 36.07866519364802, 35.60449247869026, 35.30332077233202, 34.44739768324411, 32.838006180312455, 553.6743157415664, 78.4872249682083, 60.02803417031407, 46.337477024119, 207.00587314687937, 130.10916340200134, 170.32869645952204, 128.73130391905931, 1830.2823904574177, 104.19440609876779, 400.34942402943574, 586.6550930463935, 232.81316461092104, 727.3032447888262, 241.2626881660784, 513.0312580037016, 2933.0782459850625, 380.1347633760117, 682.9559570751068, 249.57017002970272, 1071.1090501978254, 1365.788424118813, 931.12825534806, 396.4572479094881, 999.0978989140336, 529.9903627351777, 1703.7766039168064, 755.8998078385773, 1276.137273639921, 1488.1828079173802, 1406.1046173379218, 563.2708183723549, 478.29175005876795, 639.2280205996163, 466.6471503823975, 2113.5735350459076, 799.3262608187854, 890.7964204591809, 198.752600251794, 129.16742346286665, 106.69678267042525, 83.41281219886683, 70.48245540237127, 70.03962984962831, 69.71344771303652, 60.77306630701296, 58.94169780097431, 57.86900462184343, 53.424279428865766, 52.51017555469274, 50.12056642839988, 51.886112797721104, 40.2871597116713, 37.42281702186762, 36.674481483730155, 34.259275989669234, 33.982513713319705, 32.80232135253076, 32.5303594873882, 30.011169792942148, 29.76738846799004, 29.55717036939155, 27.69054123381058, 27.21237879878829, 26.772845903162374, 26.563156858399285, 25.348229252692054, 26.067418824339686, 119.4551909428661, 96.4991869693042, 72.51120430486702, 60.4494608176389, 42.47928867466496, 98.49932709956157, 112.69677400183045, 57.81752633777278, 48.26071437443798, 151.09717551995763, 262.2687871838239, 75.42000423583093, 404.2528259069186, 487.4000152415224, 411.66786790981877, 61.81385205995212, 1583.915706684814, 65.49126736687819, 94.31332979472172, 211.46410515441542, 1150.5869192566097, 636.3691159003362, 228.12044558398526, 206.51576107468003, 1406.9759732019677, 197.61781711141006, 208.34789751206202, 223.54969194655442, 1155.6894159091119, 879.8814104343827, 344.9078458129559, 504.23737044810184, 334.73747240610675, 490.89331009665875, 1488.1828079173802, 519.3852437165054, 562.8560215126605, 799.3262608187854, 999.0978989140336, 404.34025555007156, 983.4082982532808, 330.12314709236256, 446.7392677489886, 1323.0937297625173, 727.3032447888262, 753.511465827185, 77.90002298687034, 57.031106383712874, 54.58363656948694, 46.41951958834916, 39.471155813286565, 38.00764791859175, 36.668710011381535, 35.22425254354659, 35.053703292117774, 34.85353321747417, 34.62919744960691, 132.18287503366886, 28.54005570238218, 267.61048323266255, 27.994203835974876, 27.82717123051363, 26.76224369383753, 26.444797474310143, 26.27715505104999, 26.019974710324224, 23.860999193023638, 23.860999196587525, 23.716828914388383, 23.385640090335027, 23.22887520607647, 23.1110629312642, 22.959719819484054, 22.050197768379554, 21.44912759603386, 21.26555186086338, 929.0831146782831, 209.24065326515998, 76.58616012180768, 103.73146908048345, 142.05786099766962, 48.651404671923565, 94.00747132442397, 56.15959105376605, 134.80073681699346, 661.4593336857614, 1023.5464012681972, 96.7532820597599, 633.2646500357329, 161.22012639052312, 124.04764903742206, 66.14212282692675, 368.84552325539346, 166.34929035954858, 439.8907514374942, 212.81329209865902, 471.54587818229226, 218.90392266935262, 904.2893746239228, 324.84452279884664, 2933.0782459850625, 572.2932742285816, 102.31861480064046, 543.5069868014589, 249.57017002970272, 755.8998078385773, 983.4082982532808, 1365.788424118813, 393.49998863176415, 713.7682302464221, 2113.5735350459076, 1703.7766039168064, 718.6119296248758, 917.0392694040002, 591.8220442056064, 666.3971574681112, 168.5173824071772, 132.8709139643446, 111.19689738985772, 75.98584819686728, 72.06718764936596, 70.50979580696625, 66.88733396058163, 62.26683097569361, 56.1805720953673, 359.33660528579765, 51.45675866997152, 44.44719851783187, 43.121090953677935, 64.94824782864556, 39.24206477033128, 116.18453066763645, 35.42929072032325, 34.87610990871154, 34.84981979617139, 34.164058275050515, 238.96431710914936, 32.12163989924626, 30.59390266268159, 29.27524643318452, 27.137134425312116, 27.13460319025377, 25.781751957892777, 25.618676612293996, 25.437973288444088, 24.783058671590616, 432.9872405792487, 629.3333401231205, 44.33076819060539, 50.459454812590565, 400.48454026364607, 69.43255726780976, 109.94301850656399, 88.45691285391291, 157.7538362220249, 139.1455996383492, 104.53561192490929, 281.56086763918506, 107.80364776345526, 267.0459980155243, 180.22316346458666, 409.6557959497663, 359.65679951826786, 106.77045512491189, 139.7799603481098, 479.499075286287, 756.204524488988, 490.89331009665875, 231.71850453882496, 525.3413052405346, 720.3608698273389, 380.1629640863874, 1150.5869192566097, 718.6119296248758, 432.1421446039202, 2210.9484159191425, 753.511465827185, 797.3492702339978, 197.421252811764, 170.5804678369703, 207.7281332018932, 345.4169540189666, 95.09994568699553, 84.43567170839088, 61.010528713276244, 52.6735277829037, 50.321944119267656, 47.50914388593808, 46.22687291017319, 45.41144038088891, 39.10041934746262, 36.30271102185796, 33.60088728591183, 33.12145035497862, 32.94328644049562, 32.943284108949086, 32.1120311222428, 31.683211635113103, 30.48384707177493, 29.9747933589396, 29.070033175333357, 29.01962588073204, 28.682017870113167, 26.633697885934662, 25.564978675032773, 24.59171577103605, 23.10553827831508, 23.10553827831508, 163.0954976903588, 110.30934813435373, 248.63527137530784, 297.14540555275227, 252.06501410592614, 116.9441077699323, 209.52792653248386, 49.42167663484343, 707.6292981976671, 120.71060693799541, 149.11799913499897, 123.40965288473978, 455.11177233476445, 1155.6894159091119, 219.95191432903545, 55.45802871251465, 118.20993904207606, 362.58786260188333, 963.7185954906568, 84.15810120969235, 151.20822838934194, 1002.8489041387111, 2210.9484159191425, 775.4319748322777, 1082.3192036407859, 1406.9759732019677, 1488.1828079173802, 548.8040124500246, 416.9384859093528, 1150.5869192566097, 504.3849844507536, 268.6825116659782, 700.5267561320152, 624.6285872400783, 519.3852437165054, 164.20148581714238, 72.08023834207718, 39.517944885810024, 33.99873622615188, 32.20923919399941, 25.973865498708907, 25.3307727354103, 24.29665164270425, 23.893165940023824, 20.39196129416937, 20.262094628084107, 19.677718181504805, 19.346916609846126, 17.99915063106603, 17.15029696747852, 16.432517148317256, 16.078808761976116, 15.808695658374516, 13.887306408078372, 106.52198577069002, 58.81214340271411, 12.005969974376876, 11.854296758233716, 11.593939434089428, 11.557856238695916, 20.72328021854304, 11.327558126500856, 11.107688765831005, 10.417001021508668, 10.283262095628123, 49.220375461712734, 18.880983282267497, 57.392448677768904, 76.11667472470461, 115.08037920959163, 46.306036654526224, 311.2825244700888, 291.76346093524404, 159.22380744218074, 159.22630433696847, 396.27124772151734, 147.91024497725775, 675.0026723929516, 1038.2799465501205, 563.8651259726133, 269.10950684022936, 1583.915706684814, 424.275503809667, 801.4579191689634, 698.99834358346, 720.3608698273389, 2210.9484159191425, 605.003762894171, 1406.9759732019677, 2113.5735350459076, 420.71940654997076, 425.97079788101314, 651.0469374356053, 933.3787926855675, 890.7964204591809, 2933.0782459850625, 702.1334780741936, 1703.7766039168064, 812.1090203577871, 1276.137273639921, 1082.3192036407859, 401.1695777202503, 1002.8489041387111, 1365.788424118813, 917.0392694040002, 92.5274831120574, 63.14680263699966, 59.89326775018618, 56.69901057901123, 56.49768464645841, 53.243645192625124, 52.00576068574995, 41.635516241474605, 39.44758689083265, 34.48352739714687, 31.600079172910988, 30.00506188984462, 29.872783915848416, 28.942994670509787, 28.738418331566933, 27.45205632614644, 27.08443506044064, 25.951229580075786, 24.74022704198299, 24.425376199352506, 23.94271410504567, 23.94271410504567, 22.74644876101134, 22.74644876101134, 22.74644876101134, 22.74644876101134, 22.74644876101134, 22.74644876101134, 22.74644876101134, 22.74644876101134, 33.47041891153885, 58.901827137020206, 23.200078387134216, 752.1107493578664, 142.25082027034657, 562.6035199372229, 42.57448219524053, 52.858391880285744, 891.2160683125591, 154.10358762332964, 49.26943939764676, 65.85239729196067, 797.3492702339978, 70.76812427523822, 189.93594521691807, 290.07675653674346, 173.6188775796393, 160.8623069827919, 159.90621695583573, 348.3451577163164, 117.68696508939912, 271.3532313914276, 504.3849844507536, 281.2678996515777, 256.8718490346983, 216.38372767973203, 304.19589202749756, 400.34942402943574, 890.7964204591809, 1002.8489041387111, 983.4082982532808, 2113.5735350459076, 353.92753860750616, 307.41231615779884, 562.8560215126605, 1026.3276019639802, 1082.3192036407859, 127.04608880036596, 73.18559476594518, 72.47641992965316, 57.624537232581496, 57.325597393558276, 50.80704400235321, 48.26903563589478, 45.365937977121085, 42.11938686842236, 40.738770412756324, 39.792019580649225, 38.5075660787516, 38.35529438245734, 35.99670969277238, 35.76792646937761, 35.50569122545157, 33.52129104923692, 32.89672117844391, 29.713120197421595, 28.866303756672306, 28.700583835912692, 28.413218114940626, 26.69378831314505, 182.48859499850045, 26.20370384687063, 25.3138662255343, 24.66456074783169, 23.69827366384475, 23.55247343419371, 23.33359413775126, 35.10084779925024, 196.96456884380132, 66.06452799404885, 106.5067332855897, 50.780368395005105, 146.68300885516365, 93.35614492484427, 633.2646500357329, 196.88405680852367, 572.2932742285816, 60.749116048982465, 98.97680193688338, 372.1570742516474, 128.5570428506771, 439.8907514374942, 429.3382569575696, 240.60171907185355, 2933.0782459850625, 891.2160683125591, 1703.7766039168064, 639.2280205996163, 421.96248332363103, 1002.8489041387111, 380.1347633760117, 1026.3276019639802, 1082.3192036407859, 801.4579191689634, 682.9559570751068, 271.3532313914276, 931.12825534806, 917.0392694040002, 890.7964204591809, 1323.0937297625173, 291.93858658558554, 2113.5735350459076, 653.0137076117525, 199.9693228843479, 180.81594922499065, 75.81299651439957, 65.26442889289959, 63.23895039008334, 61.77278097177259, 57.24865746911733, 55.28492412678847, 135.7000396902326, 39.327066909673924, 38.657933807421664, 37.59170438402325, 35.05134718021293, 33.68326753954215, 68.84269617087301, 32.01240848763041, 31.109117642452595, 29.498683547647502, 28.89513998661438, 27.52121443868262, 27.172505787721438, 25.275483425493633, 23.338683531061662, 23.05632100993168, 21.291450968112564, 20.75219651581308, 50.63401887454089, 20.265823356900178, 20.19655605428118, 19.606493500419184, 94.52473428566611, 67.79243117869419, 62.778801787120564, 108.8848339324478, 172.46506652477981, 43.18984608909267, 127.26413100154136, 124.26664405812946, 274.7626086959722, 300.1288128989366, 172.7541485930233, 332.10788283962256, 180.72837157528312, 54.92556075974789, 279.61882988901846, 1340.9822563382681, 274.25942641119735, 187.91578313123807, 166.6065416390229, 2113.5735350459076, 394.88022430858376, 191.7804918506566, 542.6012644384259, 1276.137273639921, 797.3492702339978, 572.1156195423204, 435.75873110802775, 225.86321999117672, 717.6741347788297, 917.0392694040002, 812.1090203577871, 702.1334780741936, 562.6035199372229, 76.65094599433804, 50.33503650025878, 49.32683875456025, 41.57011230897332, 40.11031260965416, 36.34044357331422, 35.558561464443024, 35.261138805289875, 33.72938520035188, 30.51937910099659, 28.762894855846096, 27.79210561882074, 26.959165827171898, 79.15358596047514, 24.832625205357957, 24.3948473162368, 22.08631229076606, 21.237639189092363, 39.10002284307264, 20.328398301103284, 20.099913265379772, 19.37061723625921, 19.24142510073541, 19.157146714610885, 18.046396591215984, 41.04330357396883, 17.698063872236347, 16.812637643041352, 16.38201854776522, 15.58917261796015, 690.8708531797158, 294.4164505575046, 253.20674849473346, 319.5496505275682, 77.81710894777851, 76.48308052103756, 49.472674890909204, 412.0863081445099, 45.59994549521696, 67.96184674829153, 62.40151967070943, 781.4035089151355, 114.93641067394584, 819.5333058076062, 279.3700852247704, 145.44391337766146, 1323.0937297625173, 176.6330166083213, 1365.788424118813, 484.79073721402085, 1023.5464012681972, 382.002724876743, 212.28401539905084, 89.13195561025022, 963.7185954906568, 1276.137273639921, 376.5271218092927, 399.3858793205344, 917.0392694040002, 416.9384859093528, 2210.9484159191425, 2113.5735350459076, 1406.1046173379218, 713.7682302464221, 812.1090203577871, 879.8814104343827, 396.4572479094881, 1026.3276019639802, 1150.5869192566097, 101.05025742462222, 65.58607604628213, 64.51089769177987, 64.16987599797658, 51.82959286971472, 47.22654923000285, 44.57383304689989, 43.602347795293475, 41.64987816647741, 41.328387425131965, 40.58520697283135, 38.8104845749098, 38.112381935335534, 35.69714138177019, 33.90237432477437, 33.48630922644813, 30.88652983493961, 30.41272984324023, 30.328128203987028, 29.99068932414175, 29.245123896738658, 28.5622201418256, 27.9025142068039, 27.47654205942323, 27.11268634988126, 24.00367008570952, 23.5629449725349, 23.086961214095716, 22.176496327325083, 21.734653492521772, 664.5410391311407, 46.56960734802515, 70.72536444107459, 1340.9822563382681, 255.71343853644808, 563.2708183723549, 345.14557610292445, 342.0244132805888, 141.49203833540966, 215.69208669576076, 689.1398816629278, 121.89721586243583, 1323.0937297625173, 89.5681345604809, 136.3157632255778, 296.3889266625067, 393.49998863176415, 756.204524488988, 482.3288005243165, 525.3413052405346, 280.91319244005587, 461.9878255244534, 879.8814104343827, 983.4082982532808, 999.0978989140336, 718.6119296248758, 775.4319748322777, 359.0793725632189, 2933.0782459850625, 1406.1046173379218, 713.7682302464221, 504.3849844507536, 1026.3276019639802, 1830.2823904574177, 35.15581208156955, 31.818498092440326, 30.3792581632262, 30.245501219120914, 27.819544865897598, 25.19109602213743, 24.390259802463454, 23.483864189194517, 23.466262588676752, 20.515717154547172, 20.329432394264813, 47.14567892251718, 17.754271285570187, 17.754271285570187, 17.754271285570187, 17.205229958665782, 16.836917180983562, 16.83691718657515, 456.76042720453495, 15.7239138262367, 15.049470469558809, 14.589889448157056, 14.568310441778323, 14.398853325786366, 14.398853325786366, 14.398853325786366, 14.398853325786366, 13.97057033477384, 13.436556088288132, 12.938550899193613, 66.4557736908826, 65.98701148116062, 73.2879078204536, 308.4625437009448, 1071.1090501978254, 251.35113825288477, 384.3039564268499, 38.435049336136586, 52.521399071359966, 26.951400768500374, 111.0792753702792, 67.18126990442953, 500.3587649983914, 197.47354473498424, 132.87475045952712, 85.92076655501724, 398.4194740709503, 94.18074769303983, 1023.5464012681972, 197.92281793224834, 459.331354311657, 400.48454026364607, 471.54587818229226, 904.2893746239228, 2933.0782459850625, 211.87051320467364, 1830.2823904574177, 182.12019022436297, 548.8040124500246, 591.8220442056064, 197.7595926810492, 890.7964204591809, 636.3691159003362, 624.6285872400783, 752.1107493578664, 1703.7766039168064, 1276.137273639921, 675.0026723929516, 661.4593336857614, 718.6119296248758, 1406.1046173379218, 682.9559570751068, 713.7682302464221, 96.95212390850945, 60.98195438352642, 36.56360538931388, 35.55630431832593, 35.288265949020065, 33.4968527621744, 33.01088157863586, 31.357731327543938, 30.531295420969833, 29.9819033283716, 29.262650440867507, 26.482630373076503, 25.69667599808324, 23.77365671279979, 22.310339800202872, 22.200194543481306, 21.699511389137225, 21.016047062135584, 64.02851591169191, 20.466901049216283, 20.01455630282725, 19.652519526964383, 19.491347506791207, 19.42448206048998, 19.261946076231187, 18.74824897078745, 18.072899854566163, 17.97278160592855, 17.737542595277827, 17.390440248804286, 43.816492832357355, 41.056043229852115, 214.10142215640982, 55.47962164842723, 47.38938335313719, 70.76930116978428, 76.31734357744797, 819.5333058076062, 24.921347438164844, 164.2893907431233, 28.212242305911108, 175.39977423483055, 143.58990251538427, 484.79073721402085, 781.4035089151355, 717.6741347788297, 234.05045015141224, 1323.0937297625173, 651.0469374356053, 917.0392694040002, 653.0137076117525, 503.0324691050095, 218.87939574099565, 479.499075286287, 277.11811096006625, 2113.5735350459076, 1082.3192036407859, 522.6520595272309, 187.91578313123807, 1365.788424118813, 666.3971574681112, 455.11177233476445, 755.8998078385773, 412.0863081445099, 396.4572479094881, 812.1090203577871, 1406.1046173379218, 215.15001185468893, 206.33588869380284, 147.14979973486086, 62.31857742962728, 214.9908062699053, 48.9596667547186, 44.74642826784552, 40.46184714466444, 39.745323003729354, 37.29067093593933, 37.24767604246362, 36.97971112375473, 32.97945729105299, 32.45016032862406, 31.525511566055055, 29.82770409796443, 29.698731170989877, 28.804772894260818, 26.633968322826227, 26.05332819993639, 25.78425710720338, 25.287397931954693, 24.48100962458671, 24.395335735817376, 24.3153899446772, 24.100829687962914, 21.50035867277041, 21.410463433070376, 20.482932664013056, 20.22005790344296, 38.1421033969989, 105.13063419815319, 313.60796232169986, 336.8848693847243, 99.68993902354939, 120.22494576484681, 95.26537354884451, 66.93938564780119, 566.8426954751592, 227.02472880946394, 74.35116096842388, 53.05367317337209, 128.06681799480197, 429.3382569575696, 245.0649352198437, 548.8040124500246, 267.3038541554209, 67.92550701837385, 131.30954734497345, 425.97079788101314, 1488.1828079173802, 282.0765208882945, 1026.3276019639802, 1069.324381649582, 707.6292981976671, 446.75055017177186, 454.0678582586688, 392.10878084996045, 424.275503809667, 267.6452035587297, 55.84764037962727, 52.225345641235016, 45.37294626088913, 42.37965420021911, 34.89459592513884, 33.15490366729524, 33.08072988254256, 30.903538342860802, 28.918971740063057, 28.410952683104792, 28.162424261164855, 27.91024627831246, 27.91024627831246, 27.910246537040468, 27.16466098865402, 26.912478513566924, 26.66395456002306, 26.22301459326327, 25.66618680123718, 23.919186446937243, 23.919186446937243, 23.438663866849318, 22.921421246582735, 22.175837896687288, 21.92366015735429, 21.673186718088516, 21.250687284044176, 20.92589438626722, 20.92589438626722, 19.92813111375639, 48.746837493629485, 114.1557438160128, 239.53101279892428, 60.31806799939984, 40.226161152679246, 35.79659764949181, 206.04455242606574, 135.59224995951797, 59.187714674400574, 52.64396537333574, 300.1288128989366, 999.0978989140336, 219.4887202544567, 63.09432791066903, 296.3889266625067, 1155.6894159091119, 279.61882988901846, 116.29391947337368, 617.9667710423176, 332.10788283962256, 319.0474974373196, 503.0324691050095, 125.19520693301881, 62.57711552243376, 50.23131978127582, 47.25180916773667, 46.97798538128581, 42.68754686716316, 39.53936437111501, 37.70281180849887, 33.04096060671473, 30.551428547732574, 29.657748285471165, 28.327790101327867, 26.077599476379582, 25.273497079592065, 24.656485962905563, 24.448430699454313, 23.433265902796794, 22.85915730742189, 22.719747639215704, 20.093179518597694, 19.548862949626383, 17.817290783194505, 17.41677696736709, 17.287379136333907, 17.176283470670313, 16.6419316632861, 16.380662366112222, 16.314082821413148, 15.718934851271525, 15.241951106906978, 227.71893389162588, 116.6082496719544, 153.1313910476685, 26.15345033329924, 97.11014502537654, 270.9374234205907, 49.928218503091074, 72.31294894587904, 27.44688691088917, 188.45483470515333, 88.83143960031721, 218.2289529786695, 177.79354375492323, 400.34942402943574, 2933.0782459850625, 291.2141586253219, 96.11838617368075, 87.27718952820814, 639.2280205996163, 218.50355361249686, 929.1036007814109, 999.0978989140336, 1026.3276019639802, 586.6550930463935, 181.94885854499975, 727.3032447888262, 1069.324381649582, 454.0678582586688, 58.067144796052766, 53.51165244371187, 43.88346495768438, 42.64347792428056, 29.320282202837994, 26.333081540709387, 24.959956761515777, 24.9599561485549, 24.717586826202112, 24.25675738981108, 23.35925296799809, 22.584129432911137, 21.569844259624517, 21.54024014742853, 21.335457757300333, 21.28787105496891, 20.576051932407246, 19.740033882709692, 19.369649567922522, 18.904015924849826, 18.708875204188622, 18.56534285276187, 18.06807279679488, 17.32755890714673, 16.726968727870887, 16.26963169372081, 15.243012989822114, 15.207606714030545, 15.044857323167959, 13.382892157142367, 49.7041740617431, 28.569194891584242, 42.04305751761504, 92.11093058833093, 349.30591618423364, 60.23998276380588, 115.42219921964987, 1830.2823904574177, 291.93858658558554, 172.93551838669245, 88.69805053789737, 197.92281793224834, 86.69989648346574, 2933.0782459850625, 221.20940828486337, 63.773949455862436, 105.28940562828623, 380.1347633760117, 197.43186033494393, 446.75055017177186, 141.41401576573412, 232.4359172455253, 503.00759526688296, 190.47671549469104, 332.10788283962256, 276.183476930951, 553.6743157415664, 1071.1090501978254, 2113.5735350459076, 1365.788424118813, 1583.915706684814, 49.80697846233888, 45.42180489906609, 37.13546875000438, 31.926225607126984, 30.72968810320203, 29.374108052415664, 25.459403869527094, 30.48778112263976, 20.453357071939664, 19.890812637482462, 19.890812637482462, 19.27690971175883, 68.54597396024194, 18.23697056302149, 17.71500877992865, 16.93871202495216, 16.858678792717658, 16.391906244014542, 16.3614844815649, 16.335637900143798, 15.76112425848432, 15.16076263038845, 15.16076263038845, 15.16076263038845, 15.16076263038845, 15.16076263038845, 14.797061795471038, 14.64624604846018, 14.560402407307873, 13.85232106701316, 50.460541835769824, 41.35912350738496, 63.05620070383277, 23.510575424596187, 55.22714423480859, 38.236679377326254, 286.14864408158746, 74.75891046290931, 288.4885495375203, 113.00911714918216, 186.9558870087188, 463.17615215536324, 288.7863500459809, 150.13924090300455, 439.8907514374942, 432.1421446039202, 522.6520595272309, 338.4553249645272, 394.88022430858376, 566.8426954751592, 869.5610130678756, 83.23053234656864, 96.731457225197, 1150.5869192566097, 801.4579191689634, 115.15671648658478, 158.6562478496294, 154.82309090835176, 1069.324381649582, 79.80075930982831, 75.30947866879119, 44.524465119708964, 31.918416582443456, 24.66384514264649, 24.74921886189583, 22.23319889188705, 21.223064939711954, 19.855880533181775, 19.766667959550656, 19.503368497026667, 20.964772865125862, 18.819623929338157, 17.812753339736375, 17.682717255094072, 16.63240755821535, 14.589944827590724, 14.286602725356364, 14.193598318838085, 13.340069778831788, 13.121409590993517, 12.896565283791173, 11.09120685240122, 10.785416844418148, 51.720626337468914, 10.1568962386449, 8.579168819895457, 8.579168819895457, 8.579168819895457, 8.579168819895457, 24.45995193408234, 43.57663484831369, 17.30291112905914, 227.1278933825472, 333.55960439882875, 2210.9484159191425, 463.17615215536324, 700.5267561320152, 702.1334780741936, 781.4035089151355, 869.5610130678756, 268.6825116659782, 500.3587649983914, 170.2522090051462, 666.3971574681112, 812.1090203577871, 399.3858793205344, 755.8998078385773, 1406.9759732019677, 519.3852437165054, 983.4082982532808], \"Category\": [\"Default\", \"Default\", \"Default\", \"Default\", \"Default\", \"Default\", \"Default\", \"Default\", \"Default\", \"Default\", \"Default\", \"Default\", \"Default\", \"Default\", \"Default\", \"Default\", \"Default\", \"Default\", \"Default\", \"Default\", \"Default\", \"Default\", \"Default\", \"Default\", \"Default\", \"Default\", \"Default\", \"Default\", \"Default\", \"Default\", \"Topic1\", \"Topic1\", \"Topic1\", \"Topic1\", \"Topic1\", \"Topic1\", \"Topic1\", \"Topic1\", \"Topic1\", \"Topic1\", \"Topic1\", \"Topic1\", \"Topic1\", \"Topic1\", \"Topic1\", \"Topic1\", \"Topic1\", \"Topic1\", \"Topic1\", \"Topic1\", \"Topic1\", \"Topic1\", \"Topic1\", \"Topic1\", \"Topic1\", \"Topic1\", \"Topic1\", \"Topic1\", \"Topic1\", \"Topic1\", \"Topic1\", \"Topic1\", \"Topic1\", \"Topic1\", \"Topic1\", \"Topic1\", \"Topic1\", \"Topic1\", \"Topic1\", \"Topic1\", \"Topic1\", \"Topic1\", \"Topic1\", \"Topic1\", \"Topic1\", \"Topic1\", \"Topic1\", \"Topic1\", \"Topic1\", \"Topic1\", \"Topic1\", \"Topic1\", \"Topic1\", \"Topic1\", \"Topic1\", \"Topic1\", \"Topic1\", \"Topic1\", \"Topic1\", \"Topic1\", \"Topic1\", \"Topic1\", \"Topic1\", \"Topic1\", \"Topic1\", \"Topic1\", \"Topic1\", \"Topic1\", \"Topic1\", \"Topic1\", \"Topic1\", \"Topic1\", \"Topic2\", \"Topic2\", \"Topic2\", \"Topic2\", \"Topic2\", \"Topic2\", \"Topic2\", \"Topic2\", \"Topic2\", \"Topic2\", \"Topic2\", \"Topic2\", \"Topic2\", \"Topic2\", \"Topic2\", \"Topic2\", \"Topic2\", \"Topic2\", \"Topic2\", \"Topic2\", \"Topic2\", \"Topic2\", \"Topic2\", \"Topic2\", \"Topic2\", \"Topic2\", \"Topic2\", \"Topic2\", \"Topic2\", \"Topic2\", \"Topic2\", \"Topic2\", \"Topic2\", \"Topic2\", \"Topic2\", \"Topic2\", \"Topic2\", \"Topic2\", \"Topic2\", \"Topic2\", \"Topic2\", \"Topic2\", \"Topic2\", \"Topic2\", \"Topic2\", \"Topic2\", \"Topic2\", \"Topic2\", \"Topic2\", \"Topic2\", \"Topic2\", \"Topic2\", \"Topic2\", \"Topic2\", \"Topic2\", \"Topic2\", \"Topic2\", \"Topic2\", \"Topic2\", \"Topic2\", \"Topic2\", \"Topic2\", \"Topic2\", \"Topic2\", \"Topic2\", \"Topic2\", \"Topic2\", \"Topic2\", \"Topic3\", \"Topic3\", \"Topic3\", \"Topic3\", \"Topic3\", \"Topic3\", \"Topic3\", \"Topic3\", \"Topic3\", \"Topic3\", \"Topic3\", \"Topic3\", \"Topic3\", \"Topic3\", \"Topic3\", \"Topic3\", \"Topic3\", \"Topic3\", \"Topic3\", \"Topic3\", \"Topic3\", \"Topic3\", \"Topic3\", \"Topic3\", \"Topic3\", \"Topic3\", \"Topic3\", \"Topic3\", \"Topic3\", \"Topic3\", \"Topic3\", \"Topic3\", \"Topic3\", \"Topic3\", \"Topic3\", \"Topic3\", \"Topic3\", \"Topic3\", \"Topic3\", \"Topic3\", \"Topic3\", \"Topic3\", \"Topic3\", \"Topic3\", \"Topic3\", \"Topic3\", \"Topic3\", \"Topic3\", \"Topic3\", \"Topic3\", \"Topic3\", \"Topic3\", \"Topic3\", \"Topic3\", \"Topic3\", \"Topic3\", \"Topic3\", \"Topic3\", \"Topic3\", \"Topic3\", \"Topic3\", \"Topic3\", \"Topic3\", \"Topic3\", \"Topic3\", \"Topic3\", \"Topic3\", \"Topic3\", \"Topic3\", \"Topic3\", \"Topic3\", \"Topic3\", \"Topic3\", \"Topic3\", \"Topic3\", \"Topic3\", \"Topic4\", \"Topic4\", \"Topic4\", \"Topic4\", \"Topic4\", \"Topic4\", \"Topic4\", \"Topic4\", \"Topic4\", \"Topic4\", \"Topic4\", \"Topic4\", \"Topic4\", \"Topic4\", \"Topic4\", \"Topic4\", \"Topic4\", \"Topic4\", \"Topic4\", \"Topic4\", \"Topic4\", \"Topic4\", \"Topic4\", \"Topic4\", \"Topic4\", \"Topic4\", \"Topic4\", \"Topic4\", \"Topic4\", \"Topic4\", \"Topic4\", \"Topic4\", \"Topic4\", \"Topic4\", \"Topic4\", \"Topic4\", \"Topic4\", \"Topic4\", \"Topic4\", \"Topic4\", \"Topic4\", \"Topic4\", \"Topic4\", \"Topic4\", \"Topic4\", \"Topic4\", \"Topic4\", \"Topic4\", \"Topic4\", \"Topic4\", \"Topic4\", \"Topic4\", \"Topic4\", \"Topic4\", \"Topic4\", \"Topic4\", \"Topic4\", \"Topic4\", \"Topic4\", \"Topic4\", \"Topic4\", \"Topic4\", \"Topic4\", \"Topic4\", \"Topic4\", \"Topic4\", \"Topic4\", \"Topic4\", \"Topic4\", \"Topic4\", \"Topic5\", \"Topic5\", \"Topic5\", \"Topic5\", \"Topic5\", \"Topic5\", \"Topic5\", \"Topic5\", \"Topic5\", \"Topic5\", \"Topic5\", \"Topic5\", \"Topic5\", \"Topic5\", \"Topic5\", \"Topic5\", \"Topic5\", \"Topic5\", \"Topic5\", \"Topic5\", \"Topic5\", \"Topic5\", \"Topic5\", \"Topic5\", \"Topic5\", \"Topic5\", \"Topic5\", \"Topic5\", \"Topic5\", \"Topic5\", \"Topic5\", \"Topic5\", \"Topic5\", \"Topic5\", \"Topic5\", \"Topic5\", \"Topic5\", \"Topic5\", \"Topic5\", \"Topic5\", \"Topic5\", \"Topic5\", \"Topic5\", \"Topic5\", \"Topic5\", \"Topic5\", \"Topic5\", \"Topic5\", \"Topic5\", \"Topic5\", \"Topic5\", \"Topic5\", \"Topic5\", \"Topic5\", \"Topic5\", \"Topic5\", \"Topic5\", \"Topic5\", \"Topic5\", \"Topic5\", \"Topic5\", \"Topic5\", \"Topic6\", \"Topic6\", \"Topic6\", \"Topic6\", \"Topic6\", \"Topic6\", \"Topic6\", \"Topic6\", \"Topic6\", \"Topic6\", \"Topic6\", \"Topic6\", \"Topic6\", \"Topic6\", \"Topic6\", \"Topic6\", \"Topic6\", \"Topic6\", \"Topic6\", \"Topic6\", \"Topic6\", \"Topic6\", \"Topic6\", \"Topic6\", \"Topic6\", \"Topic6\", \"Topic6\", \"Topic6\", \"Topic6\", \"Topic6\", \"Topic6\", \"Topic6\", \"Topic6\", \"Topic6\", \"Topic6\", \"Topic6\", \"Topic6\", \"Topic6\", \"Topic6\", \"Topic6\", \"Topic6\", \"Topic6\", \"Topic6\", \"Topic6\", \"Topic6\", \"Topic6\", \"Topic6\", \"Topic6\", \"Topic6\", \"Topic6\", \"Topic6\", \"Topic6\", \"Topic6\", \"Topic6\", \"Topic6\", \"Topic6\", \"Topic6\", \"Topic6\", \"Topic6\", \"Topic6\", \"Topic6\", \"Topic6\", \"Topic6\", \"Topic6\", \"Topic6\", \"Topic7\", \"Topic7\", \"Topic7\", \"Topic7\", \"Topic7\", \"Topic7\", \"Topic7\", \"Topic7\", \"Topic7\", \"Topic7\", \"Topic7\", \"Topic7\", \"Topic7\", \"Topic7\", \"Topic7\", \"Topic7\", \"Topic7\", \"Topic7\", \"Topic7\", \"Topic7\", \"Topic7\", \"Topic7\", \"Topic7\", \"Topic7\", \"Topic7\", \"Topic7\", \"Topic7\", \"Topic7\", \"Topic7\", \"Topic7\", \"Topic7\", \"Topic7\", \"Topic7\", \"Topic7\", \"Topic7\", \"Topic7\", \"Topic7\", \"Topic7\", \"Topic7\", \"Topic7\", \"Topic7\", \"Topic7\", \"Topic7\", \"Topic7\", \"Topic7\", \"Topic7\", \"Topic7\", \"Topic7\", \"Topic7\", \"Topic7\", \"Topic7\", \"Topic7\", \"Topic7\", \"Topic7\", \"Topic7\", \"Topic7\", \"Topic7\", \"Topic7\", \"Topic7\", \"Topic7\", \"Topic7\", \"Topic7\", \"Topic7\", \"Topic7\", \"Topic7\", \"Topic7\", \"Topic7\", \"Topic7\", \"Topic7\", \"Topic7\", \"Topic8\", \"Topic8\", \"Topic8\", \"Topic8\", \"Topic8\", \"Topic8\", \"Topic8\", \"Topic8\", \"Topic8\", \"Topic8\", \"Topic8\", \"Topic8\", \"Topic8\", \"Topic8\", \"Topic8\", \"Topic8\", \"Topic8\", \"Topic8\", \"Topic8\", \"Topic8\", \"Topic8\", \"Topic8\", \"Topic8\", \"Topic8\", \"Topic8\", \"Topic8\", \"Topic8\", \"Topic8\", \"Topic8\", \"Topic8\", \"Topic8\", \"Topic8\", \"Topic8\", \"Topic8\", \"Topic8\", \"Topic8\", \"Topic8\", \"Topic8\", \"Topic8\", \"Topic8\", \"Topic8\", \"Topic8\", \"Topic8\", \"Topic8\", \"Topic8\", \"Topic8\", \"Topic8\", \"Topic8\", \"Topic8\", \"Topic8\", \"Topic8\", \"Topic8\", \"Topic8\", \"Topic8\", \"Topic8\", \"Topic8\", \"Topic8\", \"Topic8\", \"Topic8\", \"Topic8\", \"Topic8\", \"Topic8\", \"Topic8\", \"Topic8\", \"Topic8\", \"Topic8\", \"Topic8\", \"Topic9\", \"Topic9\", \"Topic9\", \"Topic9\", \"Topic9\", \"Topic9\", \"Topic9\", \"Topic9\", \"Topic9\", \"Topic9\", \"Topic9\", \"Topic9\", \"Topic9\", \"Topic9\", \"Topic9\", \"Topic9\", \"Topic9\", \"Topic9\", \"Topic9\", \"Topic9\", \"Topic9\", \"Topic9\", \"Topic9\", \"Topic9\", \"Topic9\", \"Topic9\", \"Topic9\", \"Topic9\", \"Topic9\", \"Topic9\", \"Topic9\", \"Topic9\", \"Topic9\", \"Topic9\", \"Topic9\", \"Topic9\", \"Topic9\", \"Topic9\", \"Topic9\", \"Topic9\", \"Topic9\", \"Topic9\", \"Topic9\", \"Topic9\", \"Topic9\", \"Topic9\", \"Topic9\", \"Topic9\", \"Topic9\", \"Topic9\", \"Topic9\", \"Topic9\", \"Topic9\", \"Topic9\", \"Topic9\", \"Topic9\", \"Topic9\", \"Topic9\", \"Topic9\", \"Topic9\", \"Topic9\", \"Topic9\", \"Topic9\", \"Topic9\", \"Topic9\", \"Topic9\", \"Topic10\", \"Topic10\", \"Topic10\", \"Topic10\", \"Topic10\", \"Topic10\", \"Topic10\", \"Topic10\", \"Topic10\", \"Topic10\", \"Topic10\", \"Topic10\", \"Topic10\", \"Topic10\", \"Topic10\", \"Topic10\", \"Topic10\", \"Topic10\", \"Topic10\", \"Topic10\", \"Topic10\", \"Topic10\", \"Topic10\", \"Topic10\", \"Topic10\", \"Topic10\", \"Topic10\", \"Topic10\", \"Topic10\", \"Topic10\", \"Topic10\", \"Topic10\", \"Topic10\", \"Topic10\", \"Topic10\", \"Topic10\", \"Topic10\", \"Topic10\", \"Topic10\", \"Topic10\", \"Topic10\", \"Topic10\", \"Topic10\", \"Topic10\", \"Topic10\", \"Topic10\", \"Topic10\", \"Topic10\", \"Topic10\", \"Topic10\", \"Topic10\", \"Topic10\", \"Topic10\", \"Topic10\", \"Topic10\", \"Topic10\", \"Topic10\", \"Topic10\", \"Topic10\", \"Topic10\", \"Topic10\", \"Topic10\", \"Topic10\", \"Topic11\", \"Topic11\", \"Topic11\", \"Topic11\", \"Topic11\", \"Topic11\", \"Topic11\", \"Topic11\", \"Topic11\", \"Topic11\", \"Topic11\", \"Topic11\", \"Topic11\", \"Topic11\", \"Topic11\", \"Topic11\", \"Topic11\", \"Topic11\", \"Topic11\", \"Topic11\", \"Topic11\", \"Topic11\", \"Topic11\", \"Topic11\", \"Topic11\", \"Topic11\", \"Topic11\", \"Topic11\", \"Topic11\", \"Topic11\", \"Topic11\", \"Topic11\", \"Topic11\", \"Topic11\", \"Topic11\", \"Topic11\", \"Topic11\", \"Topic11\", \"Topic11\", \"Topic11\", \"Topic11\", \"Topic11\", \"Topic11\", \"Topic11\", \"Topic11\", \"Topic11\", \"Topic11\", \"Topic11\", \"Topic11\", \"Topic11\", \"Topic11\", \"Topic11\", \"Topic11\", \"Topic11\", \"Topic11\", \"Topic11\", \"Topic11\", \"Topic11\", \"Topic11\", \"Topic11\", \"Topic11\", \"Topic11\", \"Topic11\", \"Topic11\", \"Topic11\", \"Topic11\", \"Topic11\", \"Topic11\", \"Topic11\", \"Topic12\", \"Topic12\", \"Topic12\", \"Topic12\", \"Topic12\", \"Topic12\", \"Topic12\", \"Topic12\", \"Topic12\", \"Topic12\", \"Topic12\", \"Topic12\", \"Topic12\", \"Topic12\", \"Topic12\", \"Topic12\", \"Topic12\", \"Topic12\", \"Topic12\", \"Topic12\", \"Topic12\", \"Topic12\", \"Topic12\", \"Topic12\", \"Topic12\", \"Topic12\", \"Topic12\", \"Topic12\", \"Topic12\", \"Topic12\", \"Topic12\", \"Topic12\", \"Topic12\", \"Topic12\", \"Topic12\", \"Topic12\", \"Topic12\", \"Topic12\", \"Topic12\", \"Topic12\", \"Topic12\", \"Topic12\", \"Topic12\", \"Topic12\", \"Topic12\", \"Topic12\", \"Topic12\", \"Topic12\", \"Topic12\", \"Topic12\", \"Topic12\", \"Topic12\", \"Topic12\", \"Topic12\", \"Topic12\", \"Topic12\", \"Topic12\", \"Topic12\", \"Topic12\", \"Topic12\", \"Topic12\", \"Topic12\", \"Topic12\", \"Topic12\", \"Topic13\", \"Topic13\", \"Topic13\", \"Topic13\", \"Topic13\", \"Topic13\", \"Topic13\", \"Topic13\", \"Topic13\", \"Topic13\", \"Topic13\", \"Topic13\", \"Topic13\", \"Topic13\", \"Topic13\", \"Topic13\", \"Topic13\", \"Topic13\", \"Topic13\", \"Topic13\", \"Topic13\", \"Topic13\", \"Topic13\", \"Topic13\", \"Topic13\", \"Topic13\", \"Topic13\", \"Topic13\", \"Topic13\", \"Topic13\", \"Topic13\", \"Topic13\", \"Topic13\", \"Topic13\", \"Topic13\", \"Topic13\", \"Topic13\", \"Topic13\", \"Topic13\", \"Topic13\", \"Topic13\", \"Topic13\", \"Topic13\", \"Topic13\", \"Topic13\", \"Topic13\", \"Topic13\", \"Topic13\", \"Topic13\", \"Topic13\", \"Topic13\", \"Topic13\", \"Topic13\", \"Topic13\", \"Topic13\", \"Topic13\", \"Topic13\", \"Topic13\", \"Topic13\", \"Topic13\", \"Topic13\", \"Topic13\", \"Topic13\", \"Topic13\", \"Topic13\", \"Topic13\", \"Topic13\", \"Topic13\", \"Topic13\", \"Topic13\", \"Topic13\", \"Topic13\", \"Topic13\", \"Topic14\", \"Topic14\", \"Topic14\", \"Topic14\", \"Topic14\", \"Topic14\", \"Topic14\", \"Topic14\", \"Topic14\", \"Topic14\", \"Topic14\", \"Topic14\", \"Topic14\", \"Topic14\", \"Topic14\", \"Topic14\", \"Topic14\", \"Topic14\", \"Topic14\", \"Topic14\", \"Topic14\", \"Topic14\", \"Topic14\", \"Topic14\", \"Topic14\", \"Topic14\", \"Topic14\", \"Topic14\", \"Topic14\", \"Topic14\", \"Topic14\", \"Topic14\", \"Topic14\", \"Topic14\", \"Topic14\", \"Topic14\", \"Topic14\", \"Topic14\", \"Topic14\", \"Topic14\", \"Topic14\", \"Topic14\", \"Topic14\", \"Topic14\", \"Topic14\", \"Topic14\", \"Topic14\", \"Topic14\", \"Topic14\", \"Topic14\", \"Topic14\", \"Topic14\", \"Topic14\", \"Topic14\", \"Topic14\", \"Topic14\", \"Topic14\", \"Topic14\", \"Topic14\", \"Topic14\", \"Topic14\", \"Topic14\", \"Topic14\", \"Topic14\", \"Topic14\", \"Topic14\", \"Topic14\", \"Topic15\", \"Topic15\", \"Topic15\", \"Topic15\", \"Topic15\", \"Topic15\", \"Topic15\", \"Topic15\", \"Topic15\", \"Topic15\", \"Topic15\", \"Topic15\", \"Topic15\", \"Topic15\", \"Topic15\", \"Topic15\", \"Topic15\", \"Topic15\", \"Topic15\", \"Topic15\", \"Topic15\", \"Topic15\", \"Topic15\", \"Topic15\", \"Topic15\", \"Topic15\", \"Topic15\", \"Topic15\", \"Topic15\", \"Topic15\", \"Topic15\", \"Topic15\", \"Topic15\", \"Topic15\", \"Topic15\", \"Topic15\", \"Topic15\", \"Topic15\", \"Topic15\", \"Topic15\", \"Topic15\", \"Topic15\", \"Topic15\", \"Topic15\", \"Topic15\", \"Topic15\", \"Topic15\", \"Topic15\", \"Topic15\", \"Topic15\", \"Topic15\", \"Topic15\", \"Topic15\", \"Topic15\", \"Topic15\", \"Topic15\", \"Topic15\", \"Topic15\", \"Topic15\", \"Topic15\", \"Topic16\", \"Topic16\", \"Topic16\", \"Topic16\", \"Topic16\", \"Topic16\", \"Topic16\", \"Topic16\", \"Topic16\", \"Topic16\", \"Topic16\", \"Topic16\", \"Topic16\", \"Topic16\", \"Topic16\", \"Topic16\", \"Topic16\", \"Topic16\", \"Topic16\", \"Topic16\", \"Topic16\", \"Topic16\", \"Topic16\", \"Topic16\", \"Topic16\", \"Topic16\", \"Topic16\", \"Topic16\", \"Topic16\", \"Topic16\", \"Topic16\", \"Topic16\", \"Topic16\", \"Topic16\", \"Topic16\", \"Topic16\", \"Topic16\", \"Topic16\", \"Topic16\", \"Topic16\", \"Topic16\", \"Topic16\", \"Topic16\", \"Topic16\", \"Topic16\", \"Topic16\", \"Topic16\", \"Topic16\", \"Topic16\", \"Topic16\", \"Topic16\", \"Topic16\", \"Topic17\", \"Topic17\", \"Topic17\", \"Topic17\", \"Topic17\", \"Topic17\", \"Topic17\", \"Topic17\", \"Topic17\", \"Topic17\", \"Topic17\", \"Topic17\", \"Topic17\", \"Topic17\", \"Topic17\", \"Topic17\", \"Topic17\", \"Topic17\", \"Topic17\", \"Topic17\", \"Topic17\", \"Topic17\", \"Topic17\", \"Topic17\", \"Topic17\", \"Topic17\", \"Topic17\", \"Topic17\", \"Topic17\", \"Topic17\", \"Topic17\", \"Topic17\", \"Topic17\", \"Topic17\", \"Topic17\", \"Topic17\", \"Topic17\", \"Topic17\", \"Topic17\", \"Topic17\", \"Topic17\", \"Topic17\", \"Topic17\", \"Topic17\", \"Topic17\", \"Topic17\", \"Topic17\", \"Topic17\", \"Topic17\", \"Topic17\", \"Topic17\", \"Topic17\", \"Topic17\", \"Topic17\", \"Topic17\", \"Topic17\", \"Topic17\", \"Topic17\", \"Topic18\", \"Topic18\", \"Topic18\", \"Topic18\", \"Topic18\", \"Topic18\", \"Topic18\", \"Topic18\", \"Topic18\", \"Topic18\", \"Topic18\", \"Topic18\", \"Topic18\", \"Topic18\", \"Topic18\", \"Topic18\", \"Topic18\", \"Topic18\", \"Topic18\", \"Topic18\", \"Topic18\", \"Topic18\", \"Topic18\", \"Topic18\", \"Topic18\", \"Topic18\", \"Topic18\", \"Topic18\", \"Topic18\", \"Topic18\", \"Topic18\", \"Topic18\", \"Topic18\", \"Topic18\", \"Topic18\", \"Topic18\", \"Topic18\", \"Topic18\", \"Topic18\", \"Topic18\", \"Topic18\", \"Topic18\", \"Topic18\", \"Topic18\", \"Topic18\", \"Topic18\", \"Topic18\", \"Topic18\", \"Topic18\", \"Topic18\", \"Topic18\", \"Topic18\", \"Topic18\", \"Topic18\", \"Topic18\", \"Topic18\", \"Topic18\", \"Topic18\", \"Topic18\", \"Topic18\", \"Topic18\", \"Topic19\", \"Topic19\", \"Topic19\", \"Topic19\", \"Topic19\", \"Topic19\", \"Topic19\", \"Topic19\", \"Topic19\", \"Topic19\", \"Topic19\", \"Topic19\", \"Topic19\", \"Topic19\", \"Topic19\", \"Topic19\", \"Topic19\", \"Topic19\", \"Topic19\", \"Topic19\", \"Topic19\", \"Topic19\", \"Topic19\", \"Topic19\", \"Topic19\", \"Topic19\", \"Topic19\", \"Topic19\", \"Topic19\", \"Topic19\", \"Topic19\", \"Topic19\", \"Topic19\", \"Topic19\", \"Topic19\", \"Topic19\", \"Topic19\", \"Topic19\", \"Topic19\", \"Topic19\", \"Topic19\", \"Topic19\", \"Topic19\", \"Topic19\", \"Topic19\", \"Topic19\", \"Topic19\", \"Topic19\", \"Topic19\", \"Topic19\", \"Topic19\", \"Topic19\", \"Topic19\", \"Topic19\", \"Topic19\", \"Topic19\", \"Topic19\", \"Topic19\", \"Topic19\", \"Topic20\", \"Topic20\", \"Topic20\", \"Topic20\", \"Topic20\", \"Topic20\", \"Topic20\", \"Topic20\", \"Topic20\", \"Topic20\", \"Topic20\", \"Topic20\", \"Topic20\", \"Topic20\", \"Topic20\", \"Topic20\", \"Topic20\", \"Topic20\", \"Topic20\", \"Topic20\", \"Topic20\", \"Topic20\", \"Topic20\", \"Topic20\", \"Topic20\", \"Topic20\", \"Topic20\", \"Topic20\", \"Topic20\", \"Topic20\", \"Topic20\", \"Topic20\", \"Topic20\", \"Topic20\", \"Topic20\", \"Topic20\", \"Topic20\", \"Topic20\", \"Topic20\", \"Topic20\", \"Topic20\", \"Topic20\", \"Topic20\", \"Topic20\", \"Topic20\", \"Topic20\", \"Topic20\", \"Topic20\", \"Topic20\", \"Topic20\", \"Topic20\"], \"logprob\": [30.0, 29.0, 28.0, 27.0, 26.0, 25.0, 24.0, 23.0, 22.0, 21.0, 20.0, 19.0, 18.0, 17.0, 16.0, 15.0, 14.0, 13.0, 12.0, 11.0, 10.0, 9.0, 8.0, 7.0, 6.0, 5.0, 4.0, 3.0, 2.0, 1.0, -5.5144, -5.6041, -5.7915, -6.01, -6.1353, -6.1692, -6.2157, -6.2983, -6.3175, -6.3509, -6.3819, -6.3844, -6.4223, -6.5361, -6.5999, -6.6041, -6.7014, -6.7134, -6.7137, -6.746, -6.7598, -6.7717, -6.7894, -6.8029, -6.8056, -6.8144, -6.83, -6.8316, -6.8316, -6.8592, -5.5374, -5.5687, -5.8818, -5.1042, -5.966, -5.7908, -5.8044, -5.477, -6.0216, -5.7386, -5.6657, -6.1761, -6.2139, -6.3987, -4.7631, -5.506, -5.8968, -4.3676, -4.2087, -5.1946, -5.1473, -5.862, -4.9762, -5.806, -5.7912, -5.1868, -4.9958, -5.4744, -5.1973, -5.2243, -5.5968, -5.4121, -5.1819, -5.4436, -5.3485, -5.5281, -5.5879, -5.4514, -5.6537, -5.6054, -5.5668, -5.6558, -4.9126, -5.559, -5.9204, -6.0226, -6.0681, -6.1104, -6.2414, -6.2688, -6.286, -6.315, -6.4108, -6.4312, -6.4967, -6.5572, -6.6574, -6.6672, -6.704, -6.7149, -6.7264, -6.7274, -6.7317, -6.7454, -6.7656, -6.7754, -6.7812, -6.7858, -6.7994, -6.8081, -6.8333, -6.8827, -4.198, -6.0563, -6.3166, -6.5564, -5.2084, -5.641, -5.4048, -5.6886, -3.4439, -5.8891, -4.9121, -4.6259, -5.3356, -4.4993, -5.4484, -4.9499, -3.8138, -5.2818, -4.9523, -5.5808, -4.8247, -4.7178, -4.9351, -5.3558, -4.9528, -5.2557, -4.758, -5.1562, -4.9676, -4.925, -4.9722, -5.3157, -5.37, -5.3039, -5.4317, -5.2786, -5.4015, -5.397, -4.9989, -5.4324, -5.625, -5.8737, -6.0442, -6.0505, -6.0553, -6.1945, -6.2256, -6.2442, -6.3255, -6.3431, -6.3905, -6.3588, -6.6135, -6.689, -6.7097, -6.7797, -6.788, -6.8244, -6.8329, -6.916, -6.9244, -6.9317, -6.9991, -7.0172, -7.034, -7.0422, -7.0907, -7.0634, -5.5447, -5.7576, -6.0476, -6.2337, -6.5818, -5.7765, -5.6562, -6.2964, -6.4672, -5.4113, -4.9133, -6.0671, -4.5667, -4.4085, -4.5789, -6.2494, -3.4958, -6.2095, -5.9159, -5.2935, -4.0163, -4.4771, -5.2545, -5.3698, -4.0507, -5.44, -5.4111, -5.3745, -4.381, -4.55, -5.1655, -4.9787, -5.242, -5.0904, -4.5665, -5.0949, -5.0799, -4.9478, -4.865, -5.2289, -4.9914, -5.3056, -5.2472, -5.1729, -5.2841, -5.2836, -5.7666, -6.0827, -6.13, -6.2924, -6.4581, -6.4967, -6.5335, -6.5747, -6.5797, -6.5856, -6.5922, -5.2537, -6.7914, -4.5533, -6.8114, -6.8176, -6.8579, -6.8703, -6.8769, -6.8871, -6.977, -6.977, -6.9833, -6.9979, -7.0049, -7.0102, -7.0171, -7.0592, -7.0881, -7.097, -3.354, -4.8358, -5.8396, -5.65, -5.3735, -6.3496, -5.7703, -6.2519, -5.5478, -4.2699, -3.9587, -5.8421, -4.3684, -5.4606, -5.6745, -6.1566, -4.904, -5.505, -4.9181, -5.4306, -4.9418, -5.4496, -4.6043, -5.2162, -3.9435, -4.9384, -5.9172, -5.0518, -5.4886, -5.0249, -4.9277, -4.8686, -5.348, -5.2356, -5.0104, -5.1146, -5.32, -5.3324, -5.4073, -5.403, -4.8564, -5.0955, -5.2749, -5.6597, -5.7131, -5.7352, -5.7886, -5.8612, -5.9657, -4.111, -6.055, -6.2042, -6.2359, -5.8267, -6.3321, -5.2476, -6.4363, -6.4524, -6.4532, -6.4736, -4.5298, -6.537, -6.5872, -6.6326, -6.7109, -6.711, -6.764, -6.7705, -6.7779, -6.8049, -3.9622, -3.5926, -6.2241, -6.1504, -4.3351, -5.8853, -5.4859, -5.6864, -5.2578, -5.3848, -5.6219, -4.9239, -5.6486, -5.0609, -5.3219, -4.8257, -5.0378, -5.731, -5.6199, -5.0928, -4.9601, -5.2257, -5.4849, -5.3552, -5.4213, -5.543, -5.4212, -5.475, -5.5608, -5.4693, -5.5392, -5.5448, -4.6234, -4.7703, -4.5735, -4.0685, -5.359, -5.4792, -5.8086, -5.958, -6.0046, -6.0632, -6.0911, -6.1093, -6.2624, -6.3386, -6.4181, -6.4329, -6.4384, -6.4384, -6.4648, -6.4786, -6.5184, -6.5358, -6.5675, -6.5693, -6.5814, -6.6581, -6.7006, -6.741, -6.8059, -6.8059, -4.8659, -5.2588, -4.4679, -4.2948, -4.4847, -5.2278, -4.6703, -6.0598, -3.5362, -5.2512, -5.0675, -5.2858, -4.1806, -3.4378, -4.8337, -5.9974, -5.3941, -4.5181, -3.8259, -5.6843, -5.3028, -4.0483, -3.6445, -4.361, -4.2536, -4.2999, -4.3313, -4.8031, -4.9441, -4.7679, -4.9828, -5.1668, -5.0347, -5.1106, -5.2229, -4.7683, -5.5989, -6.2107, -6.365, -6.4207, -6.6429, -6.6689, -6.7122, -6.7296, -6.895, -6.9016, -6.9323, -6.9501, -7.0261, -7.0771, -7.1223, -7.1454, -7.1634, -7.3016, -5.2671, -5.8641, -7.4584, -7.4721, -7.4962, -7.4996, -6.9161, -7.5215, -7.5429, -7.6131, -7.6273, -6.0888, -7.0349, -5.9646, -5.7079, -5.3616, -6.2124, -4.5374, -4.6605, -5.2139, -5.2139, -4.4701, -5.2912, -4.0535, -3.7648, -4.2757, -4.9239, -3.5928, -4.6512, -4.198, -4.2997, -4.2826, -3.4988, -4.4205, -3.8874, -3.6184, -4.725, -4.7809, -4.5474, -4.3496, -4.4085, -3.7966, -4.564, -4.1927, -4.563, -4.4259, -4.5434, -4.9228, -4.6394, -4.6611, -4.8602, -5.3321, -5.719, -5.7727, -5.8284, -5.832, -5.8924, -5.9164, -6.1434, -6.1987, -6.3367, -6.4266, -6.48, -6.4846, -6.5172, -6.5246, -6.572, -6.5859, -6.6302, -6.6799, -6.6932, -6.714, -6.714, -6.7674, -6.7674, -6.7674, -6.7674, -6.7674, -6.7674, -6.7674, -6.7674, -6.3841, -5.8801, -6.7497, -3.8298, -5.2639, -4.1542, -6.2599, -6.0992, -3.9648, -5.3159, -6.1721, -5.9583, -4.1444, -5.915, -5.2181, -4.9737, -5.5454, -5.5957, -5.604, -5.2069, -5.7781, -5.4475, -5.222, -5.4812, -5.571, -5.6973, -5.618, -5.5702, -5.3797, -5.4055, -5.513, -5.4292, -5.6589, -5.6927, -5.6702, -5.6559, -5.6622, -4.9485, -5.5054, -5.5152, -5.7478, -5.7531, -5.8759, -5.9281, -5.9914, -6.0672, -6.1013, -6.1254, -6.159, -6.163, -6.2281, -6.2346, -6.2422, -6.3013, -6.3206, -6.4255, -6.4553, -6.4612, -6.4716, -6.5362, -4.6141, -6.5554, -6.5914, -6.6182, -6.6597, -6.6662, -6.6759, -6.277, -4.6313, -5.6789, -5.3184, -5.9845, -5.1026, -5.5273, -4.0938, -4.984, -4.2839, -5.9312, -5.6027, -4.7657, -5.459, -4.7498, -4.7713, -5.1679, -3.8608, -4.5947, -4.388, -4.9009, -5.0933, -4.7436, -5.1792, -4.8473, -4.8619, -4.9754, -5.0533, -5.359, -5.0557, -5.0711, -5.2337, -5.2625, -5.413, -5.3175, -5.3867, -4.4508, -4.5519, -5.4282, -5.58, -5.612, -5.6358, -5.7131, -5.7486, -4.8555, -6.096, -6.1136, -6.1423, -6.214, -6.255, -5.5409, -6.3073, -6.3368, -6.3916, -6.4129, -6.4633, -6.4765, -6.5515, -6.6343, -6.647, -6.7301, -6.7569, -5.8656, -6.7817, -6.7853, -6.8164, -5.2739, -5.6103, -5.6908, -5.1738, -4.7726, -6.0859, -5.1336, -5.1561, -4.7392, -4.6832, -5.1536, -4.7123, -5.1399, -5.9682, -4.9724, -4.0864, -5.0347, -5.284, -5.3708, -4.1744, -4.9982, -5.3661, -4.9906, -4.695, -4.9193, -5.1139, -5.1791, -5.3336, -5.1377, -5.1493, -5.2304, -5.3038, -5.3285, -5.395, -5.8218, -5.8424, -6.017, -6.0536, -6.1547, -6.177, -6.1857, -6.2313, -6.3342, -6.3954, -6.4308, -6.4623, -5.3853, -6.5475, -6.5659, -6.6694, -6.7103, -6.1024, -6.7566, -6.7679, -6.8067, -6.8137, -6.8183, -6.8811, -6.0598, -6.9016, -6.9562, -6.9833, -7.0359, -3.3507, -4.2085, -4.3608, -4.2299, -5.5349, -5.5577, -5.9544, -4.0828, -6.0422, -5.7563, -5.8369, -3.8695, -5.3736, -3.8995, -4.7131, -5.2506, -3.7522, -5.1683, -3.8406, -4.5914, -4.2136, -4.8144, -5.1794, -5.6935, -4.6213, -4.4962, -5.0599, -5.0351, -4.693, -5.0299, -4.3903, -4.4189, -4.6848, -4.9878, -5.0236, -5.0866, -5.2072, -5.2102, -5.2388, -5.0148, -5.452, -5.4688, -5.4742, -5.6912, -5.786, -5.845, -5.8675, -5.9143, -5.9222, -5.9408, -5.9866, -6.0057, -6.0723, -6.1253, -6.138, -6.2212, -6.2371, -6.24, -6.2515, -6.2775, -6.3019, -6.3261, -6.342, -6.3558, -6.4821, -6.5014, -6.5226, -6.5646, -6.5856, -3.1963, -5.8625, -5.475, -2.8997, -4.4331, -3.7813, -4.3551, -4.3934, -5.1779, -4.9097, -4.163, -5.3544, -4.0382, -5.6045, -5.374, -4.9649, -4.8282, -4.6989, -4.8962, -4.8836, -5.1424, -4.9841, -4.8449, -4.8125, -4.8189, -4.9964, -4.9994, -5.2223, -4.7335, -5.0023, -5.1646, -5.2095, -5.1288, -5.1004, -5.9493, -6.0519, -6.0996, -6.1042, -6.1906, -6.2934, -6.327, -6.3664, -6.3672, -6.5075, -6.517, -5.6801, -6.6594, -6.6594, -6.6594, -6.6926, -6.7155, -6.7155, -3.416, -6.788, -6.8347, -6.8677, -6.8693, -6.8818, -6.8818, -6.8818, -6.8818, -6.9141, -6.9559, -6.9966, -5.4172, -5.4273, -5.3474, -4.0035, -2.8628, -4.2319, -4.0794, -6.0565, -5.8158, -6.3845, -5.2977, -5.7088, -4.2601, -4.9329, -5.2428, -5.5628, -4.5344, -5.5329, -3.9745, -5.111, -4.6138, -4.7461, -4.6602, -4.3187, -3.6932, -5.179, -4.1671, -5.2576, -4.7848, -4.8303, -5.2735, -4.7658, -4.9065, -4.9291, -4.9011, -4.6787, -4.8518, -5.0256, -5.0391, -5.0475, -4.972, -5.0676, -5.1018, -4.8054, -5.2748, -5.7967, -5.8254, -5.8331, -5.8867, -5.9017, -5.9546, -5.9821, -6.0009, -6.0259, -6.1292, -6.1604, -6.2412, -6.3074, -6.3126, -6.3364, -6.3699, -5.2569, -6.3976, -6.421, -6.4401, -6.4488, -6.4524, -6.4612, -6.4897, -6.5283, -6.5341, -6.548, -6.5689, -5.6765, -5.7421, -4.2147, -5.4807, -5.6464, -5.3912, -5.384, -3.6108, -6.2681, -4.986, -6.19, -5.0969, -5.345, -4.7148, -4.5409, -4.6009, -5.1672, -4.372, -4.7701, -4.6254, -4.7842, -4.9141, -5.2579, -4.9858, -5.2338, -4.6087, -4.8416, -5.0564, -5.3811, -4.9256, -5.0944, -5.1797, -5.1531, -5.2871, -5.3221, -5.312, -5.3362, -3.8764, -3.9185, -4.2583, -5.1262, -3.8906, -5.3716, -5.4635, -5.5663, -5.5846, -5.6499, -5.6511, -5.6585, -5.7761, -5.7927, -5.8225, -5.8796, -5.884, -5.9156, -5.9967, -6.0195, -6.0303, -6.0505, -6.0841, -6.0878, -6.0912, -6.1004, -6.2194, -6.2238, -6.2702, -6.2837, -5.6768, -4.7986, -3.851, -3.7897, -4.9233, -4.7782, -4.9724, -5.2669, -3.5913, -4.3441, -5.2534, -5.5316, -4.9793, -4.3282, -4.6735, -4.2684, -4.7249, -5.4194, -5.1516, -4.7737, -4.3323, -4.9441, -4.5938, -4.6035, -4.8097, -4.9351, -4.9623, -5.0261, -5.1264, -5.2462, -5.1668, -5.235, -5.3783, -5.448, -5.647, -5.6996, -5.7019, -5.7719, -5.8404, -5.8587, -5.8678, -5.8771, -5.8771, -5.8771, -5.9051, -5.9147, -5.9243, -5.9416, -5.9638, -6.037, -6.037, -6.0581, -6.0813, -6.1158, -6.1277, -6.1397, -6.1602, -6.1763, -6.1763, -6.2274, -5.3454, -4.5325, -3.8374, -5.1843, -5.5832, -5.7096, -4.4835, -4.7973, -5.4572, -5.6269, -4.973, -4.7955, -5.4912, -5.7844, -5.5651, -5.4335, -5.6256, -5.7451, -5.6075, -5.7445, -5.8015, -5.8131, -4.1442, -4.8451, -5.0685, -5.1309, -5.1368, -5.2346, -5.313, -5.3617, -5.4972, -5.5779, -5.6093, -5.6559, -5.7416, -5.7741, -5.7998, -5.8086, -5.8527, -5.8785, -5.8849, -6.0133, -6.0421, -6.1397, -6.1637, -6.1716, -6.1784, -6.2118, -6.2286, -6.2329, -6.2723, -6.3051, -3.6244, -4.3696, -4.1331, -5.8033, -4.6536, -3.7762, -5.26, -5.0216, -5.8182, -4.4671, -4.996, -4.6066, -4.7793, -4.609, -3.8482, -4.8726, -5.3044, -5.3546, -4.6861, -5.0786, -4.745, -4.9022, -4.9495, -5.1419, -5.2883, -5.1891, -5.2527, -5.2916, -4.7419, -4.825, -5.0272, -5.0565, -5.4411, -5.5522, -5.6078, -5.6078, -5.6179, -5.6374, -5.6769, -5.7118, -5.7597, -5.7612, -5.7711, -5.7735, -5.809, -5.8525, -5.8724, -5.8979, -5.9088, -5.9169, -5.9455, -5.9896, -6.0269, -6.0563, -6.1255, -6.128, -6.1394, -6.2646, -4.9617, -5.5749, -5.2908, -4.6742, -3.641, -5.0352, -4.537, -2.6888, -3.9757, -4.375, -4.8847, -4.3718, -5.0233, -3.0651, -4.5235, -5.196, -4.9358, -4.3889, -4.7237, -4.3941, -4.8908, -4.7551, -4.5223, -4.8759, -4.6869, -5.0225, -4.8988, -4.8239, -4.7639, -4.8761, -4.9112, -4.8157, -4.9097, -5.1157, -5.271, -5.3104, -5.3569, -5.5049, -5.326, -5.733, -5.7623, -5.7623, -5.7952, -4.5288, -5.8535, -5.8841, -5.9314, -5.9364, -5.9661, -5.9681, -5.9698, -6.0077, -6.049, -6.049, -6.049, -6.049, -6.049, -6.0749, -6.0858, -6.0921, -6.1454, -4.8651, -5.0648, -4.6826, -5.6307, -4.8261, -5.2024, -3.3827, -4.5986, -3.6016, -4.4135, -4.2107, -3.6944, -4.1783, -4.6633, -4.0475, -4.1381, -4.0986, -4.3908, -4.3464, -4.214, -4.0385, -5.1138, -5.0803, -4.6018, -4.7376, -5.0993, -5.075, -5.0798, -4.9719, -3.8373, -3.8959, -4.4301, -4.7714, -5.0381, -5.0347, -5.1461, -5.1947, -5.2644, -5.2692, -5.2832, -5.2123, -5.3207, -5.3787, -5.3864, -5.4511, -5.5905, -5.6129, -5.6199, -5.6864, -5.7042, -5.7228, -5.8863, -5.9168, -4.3545, -5.9827, -6.1702, -6.1702, -6.1702, -6.1702, -5.2282, -4.953, -5.6481, -4.1183, -3.937, -3.3482, -4.26, -4.2377, -4.3909, -4.4719, -4.4955, -4.8357, -4.7782, -5.089, -4.8173, -4.8511, -5.051, -5.1451, -5.1475, -5.208, -5.24], \"loglift\": [30.0, 29.0, 28.0, 27.0, 26.0, 25.0, 24.0, 23.0, 22.0, 21.0, 20.0, 19.0, 18.0, 17.0, 16.0, 15.0, 14.0, 13.0, 12.0, 11.0, 10.0, 9.0, 8.0, 7.0, 6.0, 5.0, 4.0, 3.0, 2.0, 1.0, 2.1359, 2.1354, 2.1341, 2.1322, 2.1309, 2.1306, 2.1299, 2.129, 2.1288, 2.1283, 2.1279, 2.1279, 2.1274, 2.1256, 2.1246, 2.1245, 2.1228, 2.1226, 2.1226, 2.1219, 2.1215, 2.1214, 2.1211, 2.1208, 2.1207, 2.1205, 2.1202, 2.1202, 2.1202, 2.1196, 2.1196, 2.0999, 2.0504, 1.9051, 1.98, 1.9488, 1.9254, 1.8119, 1.933, 1.8486, 1.8232, 1.9621, 1.9651, 2.0191, 1.3496, 1.6104, 1.7819, 0.9293, 0.8276, 1.3378, 1.2864, 1.7372, 1.0559, 1.6581, 1.6351, 0.9989, 0.7668, 1.1603, 0.6694, 0.6767, 1.128, 0.5328, -0.1005, 0.4867, 0.1404, 0.4414, 0.6679, -0.0193, 0.8631, 0.4483, 0.0191, 0.7487, 2.3876, 2.384, 2.3807, 2.3795, 2.379, 2.3784, 2.3766, 2.3762, 2.3759, 2.3755, 2.3739, 2.3735, 2.3723, 2.3711, 2.369, 2.3687, 2.3679, 2.3676, 2.3674, 2.3673, 2.3672, 2.3669, 2.3664, 2.3662, 2.366, 2.3659, 2.3656, 2.3653, 2.3647, 2.3632, 2.2229, 2.3183, 2.326, 2.3451, 2.1963, 2.2281, 2.1949, 2.1911, 1.7814, 2.2021, 1.833, 1.7371, 1.9517, 1.6488, 1.8031, 1.5472, 0.9398, 1.5151, 1.2588, 1.637, 0.9363, 0.8002, 0.966, 1.3991, 0.8778, 1.2089, 0.5389, 0.9534, 0.6182, 0.5072, 0.5167, 1.088, 1.1972, 0.9733, 1.1602, -0.1973, 0.6522, 0.5484, 2.4465, 2.4439, 2.4424, 2.44, 2.4379, 2.4379, 2.4378, 2.4358, 2.4353, 2.435, 2.4337, 2.4334, 2.4325, 2.4296, 2.428, 2.4262, 2.4256, 2.4238, 2.4236, 2.4226, 2.4223, 2.4199, 2.4196, 2.4194, 2.4172, 2.4166, 2.4161, 2.4158, 2.414, 2.4133, 2.4098, 2.4103, 2.4061, 2.4019, 2.4066, 2.3709, 2.3566, 2.3837, 2.3936, 2.3082, 2.2548, 2.3473, 2.1688, 2.1399, 2.1383, 2.364, 1.874, 2.346, 2.2749, 2.0899, 1.6732, 1.8046, 2.0531, 2.0373, 1.4375, 2.0112, 1.9872, 1.9533, 1.304, 1.4077, 1.7287, 1.5357, 1.6821, 1.4508, 0.8657, 1.3899, 1.3245, 1.1059, 0.9656, 1.5063, 0.855, 1.6324, 1.3883, 0.3769, 0.864, 0.8291, 2.6155, 2.6111, 2.6077, 2.6074, 2.6038, 2.6029, 2.602, 2.601, 2.6009, 2.6007, 2.6005, 2.5996, 2.5947, 2.5946, 2.5941, 2.5939, 2.5925, 2.5921, 2.5919, 2.5915, 2.5882, 2.5882, 2.588, 2.5874, 2.5871, 2.5869, 2.5866, 2.5849, 2.5837, 2.5833, 2.5493, 2.5582, 2.5594, 2.4456, 2.4077, 2.5031, 2.4238, 2.4574, 2.2858, 1.9732, 1.8477, 2.3232, 1.9181, 2.1941, 2.2423, 2.389, 1.923, 2.1184, 1.7328, 1.9464, 1.6397, 1.8992, 1.326, 1.738, 0.8102, 1.4494, 2.1921, 1.3876, 1.7291, 1.0847, 0.9187, 0.6494, 1.4143, 0.9313, 0.0709, 0.1823, 0.8401, 0.5839, 0.9469, 0.8326, 2.754, 2.7526, 2.7512, 2.7472, 2.7468, 2.7465, 2.7458, 2.7448, 2.7432, 2.7422, 2.7417, 2.7389, 2.7375, 2.7372, 2.7356, 2.7346, 2.7336, 2.7332, 2.7332, 2.7327, 2.7313, 2.7309, 2.7295, 2.7281, 2.7256, 2.7256, 2.7238, 2.7236, 2.7233, 2.7224, 2.7045, 2.7002, 2.7217, 2.6659, 2.4097, 2.6118, 2.5516, 2.5685, 2.4187, 2.4172, 2.466, 2.1732, 2.4086, 2.0891, 2.2213, 1.8965, 1.8145, 2.3358, 2.1775, 1.4719, 1.149, 1.3155, 1.807, 1.1182, 0.7364, 1.2539, 0.2682, 0.6851, 1.1079, -0.433, 0.5735, 0.5114, 2.8287, 2.828, 2.8277, 2.8242, 2.8235, 2.8222, 2.8178, 2.8153, 2.8144, 2.8133, 2.8128, 2.8124, 2.8089, 2.807, 2.8048, 2.8044, 2.8042, 2.8042, 2.8035, 2.8031, 2.8018, 2.8013, 2.8003, 2.8002, 2.7998, 2.7972, 2.7956, 2.7941, 2.7915, 2.7915, 2.7772, 2.7754, 2.7536, 2.7484, 2.7231, 2.7479, 2.7223, 2.7773, 2.6393, 2.6929, 2.6652, 2.6361, 2.4363, 2.2472, 2.5104, 2.7244, 2.5709, 2.3261, 2.0408, 2.6204, 2.416, 1.7786, 1.3918, 1.723, 1.497, 1.1884, 1.1008, 1.6266, 1.7604, 0.9216, 1.5313, 1.9771, 1.1509, 1.1897, 1.2619, 2.868, 2.8608, 2.85, 2.8461, 2.8445, 2.8375, 2.8366, 2.8349, 2.8343, 2.8273, 2.8271, 2.8256, 2.8248, 2.821, 2.8184, 2.8159, 2.8146, 2.8135, 2.8049, 2.802, 2.799, 2.7937, 2.7926, 2.7907, 2.7905, 2.7901, 2.7887, 2.7869, 2.7809, 2.7796, 2.7523, 2.7644, 2.723, 2.6973, 2.6302, 2.6898, 2.4594, 2.401, 2.4533, 2.4532, 2.2852, 2.4496, 2.1692, 2.0273, 2.1269, 2.2185, 1.777, 2.0358, 1.853, 1.8881, 1.8751, 1.5375, 1.9117, 1.6009, 1.4629, 1.9705, 1.9021, 1.7114, 1.549, 1.5369, 0.9571, 1.6193, 1.1042, 1.4749, 1.1599, 1.2072, 1.8202, 1.1874, 0.8569, 1.0561, 2.8778, 2.873, 2.8722, 2.8713, 2.8712, 2.8702, 2.8697, 2.8651, 2.8638, 2.8603, 2.8577, 2.8561, 2.8559, 2.8549, 2.8547, 2.8531, 2.8526, 2.851, 2.8491, 2.8486, 2.8478, 2.8478, 2.8457, 2.8457, 2.8457, 2.8457, 2.8457, 2.8457, 2.8457, 2.8457, 2.8427, 2.7814, 2.8436, 2.2848, 2.516, 2.2507, 2.7263, 2.6706, 1.9801, 2.3839, 2.6681, 2.5918, 1.9118, 2.563, 2.2727, 2.0937, 2.0352, 2.0612, 2.0588, 1.6774, 2.1913, 1.6865, 1.2921, 1.617, 1.6179, 1.6631, 1.4018, 1.1749, 0.5656, 0.4213, 0.3334, -0.3479, 1.2095, 1.3166, 0.7342, 0.1478, 0.0884, 2.9445, 2.9391, 2.939, 2.9357, 2.9356, 2.9335, 2.9325, 2.9313, 2.9297, 2.929, 2.9284, 2.9276, 2.9275, 2.9259, 2.9258, 2.9256, 2.924, 2.9235, 2.9204, 2.9195, 2.9193, 2.919, 2.9168, 2.9167, 2.9162, 2.9147, 2.9139, 2.9123, 2.9121, 2.9117, 2.9022, 2.8232, 2.8679, 2.7509, 2.8254, 2.6466, 2.6737, 2.1928, 2.4709, 2.1039, 2.6995, 2.5399, 2.0524, 2.4221, 1.9011, 1.9039, 2.0864, 0.8929, 1.3502, 0.9089, 1.3763, 1.5992, 1.0833, 1.6177, 0.9564, 0.8887, 1.0757, 1.1577, 1.775, 0.8454, 0.8452, 0.7116, 0.2872, 1.648, -0.2361, 0.8691, 2.9885, 2.9881, 2.981, 2.979, 2.9785, 2.9782, 2.977, 2.9764, 2.9716, 2.9695, 2.9691, 2.9684, 2.9666, 2.9655, 2.9647, 2.964, 2.9632, 2.9615, 2.9609, 2.9592, 2.9588, 2.9561, 2.953, 2.9525, 2.9491, 2.9479, 2.9473, 2.9468, 2.9466, 2.9452, 2.9147, 2.9107, 2.907, 2.8734, 2.8146, 2.8859, 2.7576, 2.7589, 2.3824, 2.35, 2.432, 2.2197, 2.4006, 2.7633, 2.1317, 1.4499, 2.0887, 2.2175, 2.251, 0.9069, 1.7607, 2.115, 1.4505, 0.8909, 1.1369, 1.2742, 1.4813, 1.9839, 1.0238, 0.767, 0.8075, 0.8795, 1.0763, 3.0032, 2.9969, 2.9966, 2.993, 2.9922, 2.9898, 2.9892, 2.989, 2.9878, 2.9849, 2.983, 2.9819, 2.9808, 2.9808, 2.9778, 2.9771, 2.9731, 2.9714, 2.969, 2.9689, 2.9688, 2.967, 2.9667, 2.9665, 2.9634, 2.963, 2.9624, 2.9591, 2.958, 2.955, 2.8488, 2.844, 2.8425, 2.7406, 2.8482, 2.8427, 2.8816, 2.6334, 2.8753, 2.7622, 2.7669, 2.2069, 2.6194, 2.1293, 2.3918, 2.507, 1.7976, 2.3951, 1.6774, 1.9623, 1.5928, 1.9777, 2.2002, 2.5539, 1.2453, 1.0897, 1.7466, 1.7124, 1.2233, 1.6746, 0.646, 0.6624, 0.8041, 1.1791, 1.0142, 0.8711, 1.5477, 0.5935, 0.4507, 3.107, 3.1021, 3.1018, 3.1017, 3.0983, 3.0965, 3.0953, 3.0949, 3.0939, 3.0937, 3.0933, 3.0922, 3.0912, 3.0901, 3.0887, 3.0884, 3.086, 3.0855, 3.0854, 3.0851, 3.0843, 3.0835, 3.0827, 3.0822, 3.0817, 3.0771, 3.0764, 3.0756, 3.0739, 3.073, 3.042, 3.034, 3.0036, 2.6366, 2.7603, 2.6224, 2.5383, 2.5092, 2.6073, 2.4539, 2.039, 2.5799, 1.5115, 2.638, 2.4485, 2.0809, 1.9342, 1.4103, 1.6627, 1.5898, 1.957, 1.6178, 1.1128, 1.0339, 1.0117, 1.1637, 1.0847, 1.6316, 0.0201, 0.4866, 1.0023, 1.3046, 0.675, 0.1248, 3.2283, 3.2255, 3.2241, 3.2239, 3.2212, 3.2176, 3.2163, 3.2148, 3.2147, 3.2088, 3.2084, 3.2041, 3.2014, 3.2014, 3.2014, 3.1997, 3.1984, 3.1984, 3.1973, 3.1943, 3.1915, 3.1894, 3.1893, 3.1885, 3.1885, 3.1885, 3.1885, 3.1864, 3.1836, 3.1807, 3.1238, 3.1207, 3.0956, 3.0024, 2.8982, 2.9787, 2.7067, 3.032, 2.9604, 3.0589, 2.7295, 2.8213, 2.2621, 2.519, 2.6052, 2.7212, 2.2155, 2.6593, 1.8319, 2.3386, 1.9939, 1.9987, 1.9212, 1.6116, 1.0604, 2.2025, 1.0582, 2.2752, 1.6449, 1.5239, 2.1769, 1.1795, 1.3752, 1.3712, 1.2135, 0.6182, 0.7341, 1.1971, 1.2039, 1.1126, 0.5169, 1.1434, 1.0651, 3.3578, 3.3521, 3.3417, 3.341, 3.3408, 3.3393, 3.3389, 3.3374, 3.3366, 3.336, 3.3352, 3.3318, 3.3307, 3.3276, 3.325, 3.3248, 3.3238, 3.3223, 3.3213, 3.3211, 3.32, 3.3191, 3.3187, 3.3185, 3.3181, 3.3167, 3.3148, 3.3145, 3.3137, 3.3126, 3.2809, 3.2804, 3.1563, 3.2408, 3.2327, 3.0868, 3.0185, 2.4179, 3.2537, 2.6498, 3.2077, 2.4735, 2.4255, 1.839, 1.5355, 1.5605, 2.1148, 1.1778, 1.4887, 1.2909, 1.4717, 1.6027, 2.091, 1.5789, 1.8792, 0.4726, 0.909, 1.4222, 2.1203, 0.5924, 1.1412, 1.4373, 0.9565, 1.4291, 1.4328, 0.7258, 0.1526, 3.4897, 3.4895, 3.4877, 3.479, 3.4763, 3.4749, 3.473, 3.4708, 3.4704, 3.4688, 3.4688, 3.4686, 3.4655, 3.465, 3.4642, 3.4624, 3.4623, 3.4613, 3.4586, 3.4578, 3.4574, 3.4567, 3.4554, 3.4553, 3.4552, 3.4548, 3.45, 3.4498, 3.4477, 3.4471, 3.4194, 3.2836, 3.1383, 3.128, 3.2121, 3.1699, 3.2084, 3.2667, 2.8061, 2.9683, 3.1753, 3.2346, 2.9056, 2.3471, 2.5624, 2.1613, 2.4242, 3.0997, 2.7083, 1.9094, 1.0999, 2.1512, 1.2099, 1.1592, 1.3658, 1.7004, 1.6569, 1.7398, 1.5607, 1.9016, 3.548, 3.5469, 3.5442, 3.5428, 3.5381, 3.5367, 3.5366, 3.5346, 3.5326, 3.532, 3.5317, 3.5314, 3.5314, 3.5314, 3.5305, 3.5302, 3.5298, 3.5292, 3.5285, 3.5258, 3.5258, 3.525, 3.5241, 3.5227, 3.5222, 3.5217, 3.5208, 3.5202, 3.5202, 3.5179, 3.5055, 3.4674, 3.4214, 3.4536, 3.4597, 3.4501, 2.9259, 3.0305, 3.1995, 3.147, 2.0603, 1.0351, 1.8549, 2.8084, 1.4806, 0.2515, 1.4784, 2.2362, 0.7035, 1.1875, 1.1706, 0.7037, 3.7634, 3.756, 3.7523, 3.7511, 3.751, 3.749, 3.7472, 3.746, 3.7425, 3.7401, 3.7384, 3.7377, 3.7348, 3.7336, 3.7327, 3.7323, 3.7306, 3.7296, 3.7293, 3.7238, 3.7224, 3.7176, 3.7163, 3.7159, 3.7156, 3.7137, 3.7128, 3.7125, 3.7103, 3.7083, 3.685, 3.6091, 3.573, 3.6702, 3.508, 3.3594, 3.5669, 3.4348, 3.607, 3.0315, 3.2548, 2.7453, 2.7775, 2.1361, 0.9054, 2.1908, 2.8675, 2.9137, 1.5911, 2.272, 1.1583, 0.9284, 0.8542, 1.2211, 2.2454, 0.959, 0.51, 1.3276, 3.9339, 3.9326, 3.9287, 3.9281, 3.9181, 3.9144, 3.9124, 3.9124, 3.9121, 3.9113, 3.9095, 3.9084, 3.9064, 3.9064, 3.9059, 3.9058, 3.9043, 3.9023, 3.9014, 3.9002, 3.8996, 3.8992, 3.8978, 3.8955, 3.8935, 3.8919, 3.8879, 3.8877, 3.887, 3.8789, 3.8697, 3.8102, 3.7079, 3.5403, 3.2405, 3.6039, 3.4519, 2.5364, 3.0852, 3.2096, 3.3675, 3.0778, 3.2518, 1.6885, 2.8148, 3.3861, 3.145, 2.408, 2.7284, 2.2414, 2.895, 2.5338, 1.9945, 2.612, 2.2451, 2.0939, 1.5221, 0.9371, 0.3174, 0.6419, 0.4586, 4.0136, 4.0118, 4.0072, 4.003, 4.0018, 4.0004, 3.9955, 3.9941, 3.9863, 3.9849, 3.9849, 3.9834, 3.9811, 3.9805, 3.979, 3.9765, 3.9762, 3.9746, 3.9744, 3.9744, 3.9722, 3.9697, 3.9697, 3.9697, 3.9697, 3.9697, 3.9681, 3.9675, 3.9671, 3.9636, 3.9512, 3.9504, 3.9109, 3.9494, 3.8999, 3.8913, 3.6982, 3.8246, 3.4712, 3.5965, 3.2959, 2.905, 2.8935, 3.0626, 2.6034, 2.5306, 2.3799, 2.5223, 2.4124, 2.1834, 1.931, 3.202, 3.0852, 1.0876, 1.3135, 2.8919, 2.5957, 2.6154, 0.7908, 4.5207, 4.52, 4.5113, 4.5029, 4.494, 4.494, 4.4897, 4.4877, 4.4845, 4.4843, 4.4836, 4.4824, 4.4818, 4.4789, 4.4785, 4.475, 4.4667, 4.4652, 4.4648, 4.4603, 4.459, 4.4577, 4.445, 4.4424, 4.4371, 4.4366, 4.4179, 4.4179, 4.4179, 4.4179, 4.3122, 4.0099, 4.2384, 3.1937, 2.9907, 1.6881, 2.3394, 1.9479, 1.7924, 1.6045, 1.474, 2.3082, 1.7439, 2.5111, 1.4183, 1.1868, 1.6966, 0.9645, 0.3408, 1.2768, 0.6064]}, \"token.table\": {\"Topic\": [13, 1, 2, 3, 4, 5, 6, 8, 9, 10, 15, 16, 4, 9, 19, 7, 1, 2, 5, 8, 10, 11, 1, 2, 9, 18, 6, 15, 3, 6, 15, 16, 17, 18, 20, 2, 10, 12, 18, 19, 2, 10, 13, 18, 15, 19, 7, 7, 1, 3, 4, 5, 6, 7, 8, 9, 13, 17, 18, 18, 1, 2, 3, 4, 6, 7, 9, 11, 13, 14, 15, 17, 3, 12, 18, 3, 6, 18, 1, 2, 3, 4, 6, 8, 9, 15, 18, 3, 11, 11, 2, 19, 14, 3, 1, 4, 6, 1, 1, 2, 3, 4, 12, 13, 18, 10, 1, 3, 1, 1, 2, 3, 4, 5, 7, 8, 9, 11, 12, 13, 14, 17, 19, 1, 2, 3, 4, 6, 11, 12, 13, 20, 1, 2, 4, 12, 14, 20, 4, 1, 4, 1, 8, 9, 14, 15, 17, 20, 16, 7, 7, 17, 4, 1, 2, 3, 4, 5, 6, 8, 9, 10, 11, 12, 13, 17, 17, 3, 4, 6, 7, 9, 12, 13, 15, 17, 3, 6, 10, 13, 19, 1, 8, 1, 7, 9, 13, 17, 15, 18, 7, 1, 2, 3, 4, 5, 6, 8, 9, 11, 14, 19, 17, 1, 9, 2, 4, 9, 5, 17, 3, 1, 2, 5, 6, 8, 14, 6, 3, 19, 10, 19, 4, 2, 3, 4, 6, 7, 9, 11, 12, 13, 17, 20, 19, 2, 10, 12, 16, 2, 4, 5, 7, 9, 11, 12, 15, 4, 3, 11, 14, 10, 3, 7, 1, 3, 6, 7, 8, 9, 15, 17, 15, 17, 7, 14, 10, 5, 14, 11, 20, 14, 14, 11, 20, 15, 5, 10, 14, 5, 5, 15, 3, 4, 12, 14, 15, 17, 16, 13, 1, 4, 6, 9, 11, 16, 2, 13, 2, 3, 4, 8, 10, 12, 1, 2, 3, 4, 5, 8, 9, 10, 11, 12, 13, 14, 15, 16, 17, 1, 2, 3, 4, 5, 6, 7, 11, 12, 13, 19, 3, 4, 5, 8, 9, 11, 12, 13, 16, 1, 4, 8, 20, 12, 15, 1, 3, 8, 11, 17, 2, 4, 7, 9, 12, 13, 18, 19, 7, 9, 10, 3, 4, 17, 3, 4, 5, 8, 9, 10, 11, 13, 14, 17, 19, 3, 7, 9, 11, 17, 18, 1, 2, 3, 5, 6, 7, 9, 18, 18, 3, 3, 3, 3, 1, 2, 4, 6, 7, 9, 10, 11, 13, 15, 17, 18, 19, 3, 6, 9, 13, 15, 2, 9, 8, 1, 2, 3, 4, 7, 9, 11, 13, 14, 15, 18, 7, 7, 14, 1, 2, 3, 4, 5, 7, 8, 9, 11, 12, 13, 14, 20, 9, 15, 19, 14, 3, 13, 14, 1, 5, 10, 14, 19, 19, 1, 2, 4, 5, 7, 8, 9, 10, 11, 13, 14, 15, 17, 1, 2, 4, 7, 9, 12, 13, 14, 17, 18, 19, 11, 20, 10, 14, 5, 16, 5, 1, 8, 10, 14, 2, 18, 1, 2, 3, 4, 6, 8, 9, 10, 11, 12, 13, 20, 1, 11, 1, 3, 4, 5, 6, 11, 13, 1, 2, 3, 4, 5, 6, 7, 8, 9, 10, 11, 13, 14, 16, 17, 19, 20, 1, 2, 3, 4, 5, 6, 7, 8, 9, 10, 11, 12, 15, 16, 17, 18, 20, 18, 7, 8, 19, 15, 15, 1, 2, 4, 7, 8, 9, 10, 11, 14, 15, 17, 19, 1, 2, 5, 8, 9, 10, 17, 4, 12, 3, 10, 7, 1, 3, 5, 10, 11, 12, 15, 7, 1, 2, 4, 5, 6, 9, 10, 11, 12, 13, 14, 20, 2, 3, 4, 11, 13, 1, 2, 4, 8, 9, 10, 13, 1, 4, 5, 6, 14, 17, 20, 1, 2, 4, 5, 6, 7, 8, 9, 10, 14, 17, 18, 13, 1, 2, 4, 9, 18, 4, 7, 7, 8, 9, 1, 2, 3, 4, 6, 7, 8, 10, 16, 20, 8, 14, 18, 1, 2, 4, 5, 6, 8, 9, 10, 14, 10, 6, 15, 9, 4, 9, 19, 4, 9, 19, 4, 6, 2, 4, 5, 11, 12, 12, 20, 9, 12, 11, 20, 1, 3, 4, 6, 10, 11, 16, 2, 7, 5, 10, 16, 2, 3, 5, 7, 9, 12, 14, 18, 19, 1, 8, 1, 12, 1, 7, 18, 1, 7, 4, 13, 13, 14, 14, 2, 6, 9, 10, 14, 19, 5, 11, 11, 20, 5, 10, 5, 9, 18, 10, 7, 1, 2, 4, 5, 6, 10, 13, 18, 5, 17, 10, 16, 18, 4, 10, 20, 1, 8, 10, 13, 14, 10, 10, 5, 10, 10, 18, 2, 4, 5, 6, 8, 9, 10, 12, 13, 14, 1, 2, 4, 5, 7, 8, 9, 10, 11, 12, 13, 14, 18, 20, 4, 1, 2, 4, 5, 7, 9, 11, 13, 1, 14, 2, 4, 7, 8, 4, 2, 2, 2, 17, 10, 1, 2, 3, 4, 5, 6, 7, 8, 9, 10, 11, 12, 13, 14, 15, 17, 18, 12, 12, 16, 10, 12, 16, 1, 2, 3, 4, 5, 6, 7, 10, 11, 12, 13, 14, 15, 16, 18, 19, 20, 17, 2, 10, 12, 13, 17, 18, 13, 20, 6, 6, 1, 2, 3, 4, 6, 8, 9, 10, 12, 14, 19, 20, 16, 1, 1, 2, 3, 4, 5, 6, 7, 8, 9, 10, 11, 13, 14, 15, 16, 19, 1, 2, 3, 4, 5, 6, 7, 8, 9, 11, 12, 13, 14, 16, 17, 19, 20, 18, 16, 3, 10, 2, 11, 15, 15, 20, 1, 2, 3, 7, 11, 16, 18, 6, 10, 1, 3, 4, 6, 10, 14, 15, 15, 10, 19, 6, 1, 2, 3, 4, 5, 8, 19, 8, 20, 1, 2, 3, 4, 5, 7, 8, 9, 11, 12, 13, 14, 20, 17, 15, 9, 15, 17, 3, 2, 4, 7, 8, 13, 20, 1, 2, 3, 4, 6, 8, 9, 11, 13, 20, 13, 2, 4, 14, 4, 1, 2, 3, 4, 5, 6, 7, 9, 10, 11, 13, 15, 17, 12, 17, 20, 2, 3, 5, 6, 7, 9, 10, 12, 13, 15, 19, 19, 14, 13, 1, 2, 5, 7, 9, 10, 12, 13, 14, 20, 8, 1, 2, 4, 7, 11, 12, 14, 1, 2, 3, 4, 5, 6, 8, 9, 10, 17, 18, 20, 1, 2, 3, 4, 5, 6, 7, 8, 12, 13, 19, 3, 4, 8, 12, 13, 2, 5, 8, 9, 5, 2, 8, 1, 9, 2, 6, 3, 18, 13, 9, 17, 2, 3, 5, 12, 5, 3, 5, 4, 4, 13, 5, 7, 8, 9, 16, 17, 3, 4, 5, 7, 8, 9, 10, 11, 13, 15, 16, 18, 7, 1, 14, 2, 15, 3, 7, 1, 2, 3, 4, 5, 7, 12, 13, 13, 5, 2, 3, 5, 7, 12, 2, 3, 4, 7, 9, 10, 13, 15, 1, 3, 6, 9, 13, 15, 19, 6, 15, 9, 2, 7, 11, 17, 7, 19, 16, 1, 2, 3, 4, 5, 6, 8, 9, 10, 11, 12, 13, 14, 15, 16, 17, 18, 20, 17, 5, 6, 8, 9, 10, 11, 17, 18, 19, 1, 2, 3, 4, 5, 6, 8, 9, 10, 13, 14, 20, 1, 2, 3, 4, 5, 6, 10, 14, 15, 19, 6, 16, 15, 4, 20, 16, 5, 10, 16, 18, 10, 3, 6, 13, 6, 1, 2, 3, 4, 6, 8, 9, 11, 12, 13, 14, 19, 5, 7, 1, 7, 6, 1, 6, 16, 1, 3, 9, 9, 1, 9, 3, 4, 9, 12, 13, 16, 2, 13, 14, 5, 14, 1, 5, 5, 16, 5, 8, 16, 2, 15, 2, 4, 1, 2, 18, 10, 17, 14, 7, 17, 1, 2, 3, 4, 5, 6, 8, 9, 10, 11, 12, 13, 14, 15, 17, 18, 19, 20, 1, 2, 3, 4, 5, 6, 7, 9, 11, 12, 13, 14, 16, 20, 2, 4, 8, 9, 10, 11, 13, 18, 19, 4, 9, 13, 15, 17, 19, 2, 13, 13, 10, 2, 3, 11, 19, 2, 5, 8, 10, 16, 18, 19, 2, 19, 11, 9, 2, 3, 17, 11, 8, 1, 13, 12, 1, 5, 7, 11, 1, 4, 5, 6, 7, 8, 9, 10, 13, 16, 20, 1, 3, 6, 7, 8, 9, 18, 1, 2, 3, 4, 5, 6, 7, 8, 9, 10, 11, 12, 13, 14, 15, 17, 20, 7, 8, 5, 11, 1, 6, 14, 18, 17, 6, 20, 17, 2, 3, 6, 7, 10, 12, 17, 16, 1, 3, 5, 6, 7, 11, 13, 15, 16, 13, 1, 7, 5, 1, 2, 3, 4, 5, 6, 7, 8, 9, 10, 11, 12, 13, 14, 18, 5, 1, 2, 3, 4, 6, 7, 8, 9, 11, 12, 13, 17, 20, 1, 2, 3, 4, 5, 6, 7, 8, 9, 10, 11, 12, 13, 14, 16, 18, 19, 20, 18, 3, 4, 3, 3, 6, 19, 19, 1, 8, 9, 17, 1, 5, 14, 1, 2, 3, 4, 5, 6, 7, 8, 9, 12, 13, 3, 9, 15, 8, 18, 7, 12, 16, 1, 3, 4, 5, 6, 9, 10, 11, 13, 15, 2, 19, 3, 6, 6, 4, 10, 2, 12, 14, 11, 3, 4, 6, 8, 9, 11, 13, 14, 17, 20, 1, 2, 4, 5, 6, 7, 13, 14, 1, 2, 3, 4, 7, 8, 9, 10, 16, 17, 20, 2, 10, 13, 17, 18, 3, 18, 9, 18, 12, 13, 12, 4, 10, 19, 6, 3, 7, 12, 2, 20, 6, 1, 3, 4, 6, 9, 11, 19, 2, 4, 9, 11, 13, 17, 4, 19, 14, 16, 1, 2, 3, 4, 6, 7, 9, 11, 12, 13, 14, 16, 17, 19, 7, 11, 1, 2, 3, 4, 5, 6, 7, 8, 9, 10, 11, 12, 13, 14, 15, 17, 18, 19, 7, 12, 15, 15, 2, 5, 15, 16, 3, 2, 6, 7, 10, 11, 13, 14, 15, 17, 2, 4, 5, 13, 15, 19, 3, 6, 9, 2, 3, 8, 12, 18, 11, 18, 2, 17, 2, 3, 4, 13, 6, 1, 2, 3, 4, 5, 8, 9, 10, 12, 13, 15, 3, 18, 1, 3, 5, 6, 7, 11, 14, 1, 6, 7, 11, 14, 20, 1, 3, 5, 6, 7, 10, 11, 14, 19, 20, 15, 6, 12, 2, 3, 4, 5, 8, 12, 17, 1, 4, 5, 12, 5, 8, 2, 2, 5, 3, 6, 11, 13, 1, 8, 5, 14, 3, 6, 1, 2, 3, 4, 5, 6, 8, 9, 11, 13, 14, 15, 18, 14, 3, 1, 3, 4, 5, 18, 3, 14, 2, 17, 2, 17, 3, 4, 1, 2, 17, 1, 2, 4, 5, 7, 9, 10, 11, 13, 17, 19, 20, 5, 6, 20, 6, 10, 1, 3, 6, 5, 1, 2, 3, 4, 5, 10, 13, 14, 15, 16, 19, 8, 9, 12, 14, 12, 9, 10, 17, 1, 1, 3, 6, 7, 8, 12, 20, 1, 2, 3, 4, 5, 6, 7, 9, 11, 12, 13, 14, 15, 17, 18, 20, 6, 1, 2, 3, 4, 5, 6, 7, 8, 9, 10, 11, 12, 13, 14, 17, 19, 20, 20, 9, 2, 5, 14, 2, 6, 7, 9, 15, 2, 3, 4, 8, 10, 11, 12, 14, 16, 16, 10, 5, 7, 8, 10, 14, 2, 5, 6, 9, 10, 15, 17, 18, 19, 8, 1, 8, 14, 8, 1, 2, 3, 4, 5, 6, 7, 8, 10, 15, 19, 14, 1, 2, 4, 7, 8, 9, 11, 12, 13, 17, 8, 16, 10, 1, 2, 4, 5, 7, 8, 9, 10, 11, 12, 13, 14, 17, 20, 10, 3, 14, 2, 18, 1, 2, 20, 1, 4, 5, 8, 10, 11, 18, 3, 4, 6, 10, 13, 19, 4, 5, 15, 12, 16, 1, 2, 3, 5, 6, 7, 8, 9, 12, 13, 14, 15, 9, 1, 2, 4, 5, 6, 7, 8, 9, 10, 13, 14, 15, 17, 19, 20, 1, 5, 9, 1, 2, 4, 5, 7, 8, 9, 10, 11, 12, 13, 14, 16, 17, 6, 18, 11, 19, 1, 5, 6, 13, 19, 20, 9, 16, 16, 1, 2, 5, 8, 9, 11, 14, 19, 20, 2, 17, 16, 20, 11, 1, 4, 15, 17, 15, 15, 4, 13, 13, 1, 3, 4, 8, 11, 13, 14, 1, 3, 4, 8, 13, 2, 4, 5, 7, 10, 11, 12, 13, 13, 2, 17, 18, 8, 11, 3, 15, 3, 15, 9, 1, 3, 4, 5, 6, 8, 10, 11, 12, 15, 1, 8, 2, 4, 9, 20, 4, 1, 2, 3, 4, 5, 7, 9, 10, 11, 14, 15, 16, 17, 18, 8, 8, 2, 3, 4, 5, 6, 9, 10, 12, 13, 15, 17, 14, 2, 3, 5, 7, 8, 10, 11, 14, 9, 8, 9, 10, 13, 7, 2, 6, 7, 1, 6, 9, 11, 2, 7, 14, 17, 2, 1, 8, 2, 3, 5, 7, 9, 10, 12, 13, 16, 19, 2, 3, 7, 12, 12, 8, 18, 4, 9, 19, 1, 10, 1, 2, 3, 4, 5, 7, 8, 10, 12, 17, 19, 2, 2, 5, 8, 10, 17, 6, 2, 3, 1, 11, 12, 15, 3, 4, 5, 10, 11, 15, 1, 2, 3, 4, 5, 6, 8, 9, 10, 11, 13, 15, 16, 17, 18, 19, 1, 3, 4, 5, 7, 8, 9, 10, 14, 3, 4, 7, 11, 15, 17, 1, 2, 3, 5, 8, 10, 11, 14, 17, 18, 19, 2, 8, 9, 13, 9, 8, 18, 1, 2, 3, 5, 7, 8, 9, 10, 11, 12, 13, 14, 15, 17, 18, 11, 11, 9, 18, 9, 5, 8, 14, 2, 11, 16, 1, 2, 3, 4, 5, 7, 9, 11, 12, 14, 19, 16, 2, 4, 5, 7, 8, 12, 14, 16, 2, 7, 8, 12, 17, 3, 8, 13, 17, 19, 11, 8, 8, 1, 2, 3, 5, 6, 8, 9, 10, 11, 12, 17, 19, 2, 2, 5, 13, 13, 4, 18, 8, 16, 6, 4, 3, 4, 8, 17, 2, 4, 9, 12, 18, 19, 5, 8, 10, 14, 17, 18, 19, 8, 1, 2, 4, 5, 6, 7, 9, 14, 15, 19, 20, 11, 5, 2, 17, 3, 11, 2, 3, 4, 2, 9, 18, 19, 4, 8, 14, 1, 16, 4, 4, 5, 7, 12, 15, 1, 2, 3, 4, 6, 9, 10, 11, 12, 13, 14, 16, 17, 19, 8, 10, 14, 16, 18, 3, 6, 9, 6, 1, 2, 4, 5, 6, 7, 8, 9, 10, 11, 12, 13, 14, 17, 19, 3, 9, 15, 17, 2, 2, 5, 9, 13, 14, 1, 2, 3, 6, 7, 9, 11, 12, 14, 17, 20, 8, 1, 2, 14, 11, 3, 3, 1, 2, 8, 9, 2, 9, 4, 6, 19, 19, 4, 20, 19, 1, 2, 4, 5, 6, 7, 8, 9, 14, 15, 1, 2, 3, 4, 5, 6, 9, 10, 11, 14, 18, 17, 1, 2, 4, 6, 7, 9, 11, 15, 17, 2, 4, 7, 9, 10, 12, 13, 17, 18, 19, 10, 6, 10, 14, 12, 8, 19, 7, 2, 13, 8, 13, 20, 20, 2, 3, 5, 8, 10, 12, 14, 16, 17, 14, 7, 3, 11, 20, 12, 5, 11, 3, 20, 9, 3, 5, 10, 8, 2, 3, 8, 17, 2, 17, 15, 4, 19, 16, 5, 10, 19, 1, 2, 4, 5, 7, 8, 9, 11, 13, 20, 17, 11, 2, 17, 10, 5, 15, 16, 11, 12, 6, 16, 16, 16, 1, 1, 4, 5, 7, 8, 9, 11, 12, 14, 15, 20, 2, 7, 17, 2, 3, 4, 5, 6, 8, 11, 12, 13, 15, 18, 2, 3, 4, 8, 9, 11, 12, 13, 14, 20, 1, 2, 3, 4, 5, 7, 8, 10, 11, 13, 14, 18, 19, 2, 18, 7, 17, 14, 16, 1, 2, 4, 5, 6, 7, 8, 9, 10, 12, 13, 14, 17, 12, 6, 5, 10, 18, 12, 12, 12, 4, 1, 2, 3, 4, 5, 6, 7, 8, 9, 10, 15, 17, 4, 12, 7, 3, 15, 12, 17, 1, 2, 4, 7, 9, 12, 13, 19, 13, 13, 2, 4, 5, 7, 17, 20, 13, 1, 2, 3, 4, 5, 6, 7, 8, 9, 10, 11, 13, 15, 17, 1, 1, 2, 20, 2, 4, 8, 13, 4, 14, 4, 9, 3, 3, 6, 9, 1, 5, 7, 8, 10, 11, 14, 2, 2, 1, 4, 6, 18, 7, 13, 13, 8, 2, 4, 12, 12, 12, 2, 2, 12, 2, 11, 5, 8, 9, 10, 14, 17, 3, 6, 12, 20, 6, 5, 12, 19, 19, 5, 12, 13, 1, 2, 9, 18, 7, 8, 11, 13, 1, 2, 3, 4, 5, 6, 7, 9, 12, 13, 15, 18, 19, 9, 6, 1, 2, 17, 5, 10, 14, 16, 18, 14, 14, 17, 15, 4, 4, 11, 1, 2, 3, 5, 7, 11, 12, 13, 14, 20, 20, 20, 4, 11, 1, 2, 3, 5, 6, 13, 14, 16, 1, 2, 3, 4, 6, 7, 8, 11, 12, 13, 15, 19, 5, 5, 10, 12, 13, 6, 13, 6, 20, 1, 2, 3, 4, 5, 7, 11, 13, 17, 18, 2, 1, 4, 4, 9, 12, 12, 4, 8, 9, 1, 2, 3, 4, 5, 6, 7, 8, 9, 10, 11, 13, 14, 17, 18, 19, 5, 15, 1, 17, 1, 3, 4, 8, 9, 10, 11, 13, 14, 15, 17, 1, 2, 4, 5, 6, 7, 8, 9, 10, 11, 13, 14, 16, 17, 19, 1, 2, 3, 4, 6, 10, 11, 12, 17, 3, 4, 5, 7, 15, 11, 14, 4, 1, 3, 5, 7, 11, 20, 1, 5, 16, 1, 2, 8, 9, 10, 13, 1, 11, 17, 1, 2, 3, 4, 5, 6, 7, 8, 9, 10, 11, 12, 13, 16, 17, 19, 1, 9, 10, 16, 18, 2, 5, 16, 18, 8, 16, 18, 8, 16, 18, 10, 16, 1, 2, 3, 4, 5, 6, 7, 8, 9, 10, 13, 14, 16, 3, 7, 3, 14, 1, 2, 5, 6, 7, 8, 9, 12, 14, 17, 19, 19, 3, 3, 20, 1, 2, 3, 5, 8, 9, 10, 13, 14, 18, 18, 5, 8, 13, 20, 6, 2, 3, 5, 7, 9, 11, 12, 16, 17, 4, 7, 12, 13, 15, 11, 3, 4, 8, 3, 4, 8, 12, 13, 1, 2, 8, 9, 11, 8, 17, 3, 4, 5, 11, 12, 13, 14, 3, 8, 20, 1, 2, 3, 4, 12, 13, 17, 1, 2, 3, 4, 5, 6, 7, 8, 12, 14, 17, 18, 19, 1, 2, 7, 8, 9, 11, 15, 1, 2, 7, 9, 11, 13, 15, 2, 3, 4, 6, 8, 9, 10, 11, 12, 13, 19, 10, 5, 16, 14, 8, 4, 10, 13, 19, 4, 10, 13, 19, 4, 11, 14, 1, 5, 1, 2, 3, 5, 8, 10, 12, 14, 17, 18, 1, 2, 3, 4, 6, 8, 10, 12, 14, 17, 5, 4, 5, 6, 7, 13, 14, 17, 20, 8, 1, 2, 3, 4, 5, 6, 8, 9, 10, 17, 19, 2, 3, 6, 11, 1, 3, 5, 6, 11, 1, 2, 4, 7, 13, 18, 1, 2, 4, 5, 7, 8, 9, 10, 11, 13, 14, 17, 18, 20, 9, 5, 13, 5, 1, 2, 3, 4, 6, 7, 8, 9, 11, 12, 18, 20, 3, 17, 6, 8, 11, 12, 14, 6, 13, 11, 1, 4, 10, 18, 4, 10, 16, 18, 19, 3, 12, 1, 3, 8, 3, 10, 10, 6, 15, 1, 3, 5, 8, 9, 10, 12, 14, 19, 1, 5, 11, 14, 19, 15, 17, 8, 1, 3, 6, 8, 7, 18, 1, 2, 3, 4, 6, 7, 11, 12, 13, 15, 17, 13, 1, 2, 3, 6, 12, 15, 16, 17, 9, 2, 4, 5, 7, 8, 9, 10, 12, 14, 17, 20, 20, 18, 4, 6, 9, 3, 6, 1, 1, 2, 3, 4, 5, 6, 8, 9, 12, 13, 14, 6, 2, 5, 7, 8, 10, 12, 14, 16, 12, 18, 1, 3, 4, 5, 6, 8, 9, 11, 12, 13, 17, 18, 19, 20, 19, 3, 11, 2, 16, 9, 1, 2, 4, 5, 7, 11, 13, 17, 1, 3, 10, 1, 5, 8, 11, 15, 9, 1, 4, 1, 1, 2, 3, 4, 5, 6, 7, 8, 11, 12, 13, 14, 17, 20, 12, 2, 18, 12, 15, 8, 11, 14, 16, 3, 18, 4, 2, 13, 17, 18, 18, 13, 1, 2, 3, 4, 5, 6, 7, 8, 9, 10, 11, 12, 14, 19, 1, 2, 3, 4, 5, 6, 8, 9, 12, 13, 14, 20, 20, 10, 19, 13, 1, 3, 6, 8, 11, 13, 14, 2, 4, 7, 8, 9, 11, 14, 15, 17, 18, 20, 5, 2, 4, 17, 3, 8, 11, 14, 1, 2, 3, 4, 5, 6, 7, 8, 9, 10, 11, 12, 13, 14, 17, 18, 19, 20, 20, 11, 20, 20, 3, 4, 8, 11, 13, 14, 20, 5, 9, 14, 16, 16, 1, 3, 4, 6, 13, 16, 18, 19, 1, 1, 8, 1, 2, 3, 6, 7, 9, 10, 12, 13, 14, 15, 17, 1, 2, 3, 6, 7, 9, 11, 12, 18, 20, 3, 6, 8, 12, 4, 13, 4, 2, 3, 6, 7, 12, 18, 1, 1, 3, 6, 7, 10, 11, 13, 19, 13, 1, 2, 4, 11, 13, 2, 6, 8, 6, 15, 5, 8, 14, 1, 5, 7, 14, 1, 2, 4, 5, 7, 8, 9, 11, 12, 13, 14, 16, 17, 1, 2, 3, 4, 6, 7, 8, 10, 11, 13, 14, 19, 12, 3, 5, 7, 8, 9, 10, 12, 14, 16, 5, 15, 1, 5, 7, 11, 16, 16], \"Freq\": [0.9028496718359362, 0.15490545464287764, 0.031892299485298335, 0.08200877010505286, 0.06378459897059667, 0.1047889840231231, 0.06378459897059667, 0.13212524072480739, 0.022780213918070242, 0.06834064175421073, 0.09112085567228097, 0.18224171134456194, 0.2020675512707899, 0.6668229191936067, 0.12124053076247394, 0.9487715597044538, 0.054019487539089535, 0.15605629733514756, 0.012004330564242119, 0.08403031394969483, 0.4741710572875637, 0.21607795015635814, 0.32528600330679674, 0.05657147883596465, 0.2687145244708321, 0.3465003078702835, 0.9674795636698232, 0.9396610084269237, 0.695153439363421, 0.14186804884967774, 0.1324101789263659, 0.0189157398466237, 0.00945786992331185, 0.9709685726504083, 0.9445334475761359, 0.009028787759812015, 0.04363914083909141, 0.9284603413006688, 0.01805757551962403, 0.9234363957350139, 0.08083959276225047, 0.09599701640517243, 0.3991454892636117, 0.41935538745417433, 0.10864222807700995, 0.8691378246160796, 0.8752086561934762, 0.8639722681621234, 0.042942301590129905, 0.09161024339227714, 0.011451280424034642, 0.028628201060086605, 0.03721666137811259, 0.04866794180214723, 0.014314100530043302, 0.10592434392232043, 0.06298204233219053, 0.06011922222618187, 0.49240505823348957, 0.9621102179338972, 0.08957065730532239, 0.010999905283109767, 0.5232812084679361, 0.009428490242665516, 0.021999810566219535, 0.10371339266932067, 0.0015714150404442526, 0.02357122560666379, 0.1524272589230925, 0.04242820609199482, 0.009428490242665516, 0.01257132032355402, 0.8669917193964813, 0.12574689059948965, 0.9565391231550763, 0.9515770791765578, 0.027581944323958194, 0.9521786308029145, 0.005782502110202429, 0.005782502110202429, 0.12721504642445344, 0.10408503798364371, 0.011565004220404858, 0.11565004220404858, 0.005782502110202429, 0.14456255275506072, 0.47416517303659916, 0.9468116987876434, 0.9734764230210633, 0.9714988986554394, 0.17389231490271365, 0.8159562468511948, 0.9567018636213859, 0.9710876681575619, 0.013461423011266717, 0.0639417593035169, 0.9187421205189534, 0.9942550702232728, 0.056760899409997984, 0.056760899409997984, 0.4630494425552467, 0.18223236126367773, 0.21509393460630813, 0.023899326067367572, 0.9735814383838097, 0.9767581461477334, 0.36477449932318173, 0.6287560448860106, 0.9897079041565519, 0.07980963148915768, 0.09141830516030788, 0.015961926297831535, 0.04063035784902573, 0.10012481041367055, 0.011608673671150208, 0.06529878940021992, 0.04498361047570706, 0.09286938936920167, 0.34100478909003734, 0.03772818943123818, 0.04498361047570706, 0.013059757880043984, 0.01741301050672531, 0.0021206844259879535, 0.010603422129939769, 0.036051635241795214, 0.37324045897387986, 0.1145169590033495, 0.08482737703951815, 0.11027559015137359, 0.26296486882250625, 0.0021206844259879535, 0.08013778248265684, 0.4688060275235425, 0.4087026906615499, 0.004006889124132842, 0.016027556496531366, 0.016027556496531366, 0.9715179451111176, 0.022695829540973874, 0.9759206702618767, 0.9906329002724921, 0.20562099669010522, 0.10661829458005455, 0.15992744187008184, 0.4569355482002338, 0.060924739760031175, 0.007615592470003897, 0.9682225305822353, 0.9377115421060767, 0.9868934255739598, 0.9733747151198588, 0.9831801519848189, 0.19131044204953476, 0.1349125660696141, 0.005529203527443201, 0.2720368135502055, 0.006635044232931841, 0.018799291993306884, 0.04312778751405697, 0.029857699048193284, 0.004423362821954561, 0.08514973432262529, 0.008846725643909122, 0.19352212346051204, 0.005529203527443201, 0.9813591672666587, 0.11661722317642127, 0.038265026354763226, 0.2988316343895795, 0.010932864672789495, 0.02368787345771057, 0.04190931457902639, 0.20043585233447406, 0.26421089625907945, 0.0036442882242631648, 0.2997990605319441, 0.19642007414161855, 0.09304108775129301, 0.020675797278065112, 0.3928401482832371, 0.9742778914702415, 0.96062626396867, 0.8781192099835922, 0.05321934605961164, 0.02660967302980582, 0.02660967302980582, 0.9455944979944126, 0.9543239920693386, 0.9816222271682057, 0.931739704970538, 0.009745994853132173, 0.43077297250844204, 0.12279953514946539, 0.023390387647517216, 0.12474873412009181, 0.15398671867948832, 0.05847596911879304, 0.02533958661814365, 0.0019491989706264346, 0.01754279073563791, 0.031187183530022953, 0.9614268537887178, 0.8465813176258405, 0.14109688627097342, 0.38115375800075757, 0.023335944367393318, 0.5911772573072974, 0.9805875481389292, 0.9904532532650531, 0.9680503733476549, 0.19645522071379784, 0.324379550480922, 0.01827490425244631, 0.10964942551467785, 0.06853089094667367, 0.2786922898498062, 0.9762214125518751, 0.9554475260045154, 0.9321723660875093, 0.0951532114689444, 0.8880966403768144, 0.9608003189211588, 0.47573003761376276, 0.20486640348107124, 0.0027498846104841777, 0.03437355763105222, 0.07149699987258863, 0.027498846104841778, 0.05224780759919938, 0.0371234422415364, 0.013749423052420889, 0.06049746143065191, 0.017874249968147158, 0.969423605296372, 0.12905070687278858, 0.1681569816827245, 0.7000023190978532, 0.9615711659350796, 0.026715358325345127, 0.07124095553425366, 0.03858885091438741, 0.06530420923973253, 0.020778612030823988, 0.014841865736302848, 0.07124095553425366, 0.6945993164589733, 0.99096243149284, 0.04239126217740415, 0.19782589016121938, 0.7489122984674733, 0.9495367347076281, 0.12196726505435664, 0.8537708553804965, 0.011223182731423255, 0.014964243641897674, 0.13841925368755348, 0.1234550100456558, 0.19079410643419534, 0.13093713186660463, 0.3441776037636465, 0.041151670015218605, 0.9459029878743463, 0.953127649683283, 0.9926828566065451, 0.9266656348388603, 0.9407544508546277, 0.9683486386967503, 0.9406348807773042, 0.877194030948911, 0.10964925386861388, 0.9584191219659606, 0.9412676000483436, 0.9631142759551086, 0.9539812393230968, 0.9767278918279582, 0.5130202325370019, 0.2995738584157675, 0.18723366150985468, 0.9564394296015564, 0.9650814870360158, 0.9695838781027248, 0.34771790263121444, 0.05099862571924478, 0.5146224958941973, 0.004636238701749526, 0.013908716105248577, 0.06490734182449336, 0.967445364379307, 0.9742760299350902, 0.00687550256849448, 0.01375100513698896, 0.07563052825343927, 0.2681446001712847, 0.5981687234590197, 0.034377512842472396, 0.9630822046249694, 0.9299497907577374, 0.32277998493239557, 0.05135136123924475, 0.022007726245390605, 0.05868726998770828, 0.022007726245390605, 0.5135136123924474, 0.047606168482431814, 0.14281850544729546, 0.07669882699947349, 0.058185317034083334, 0.19968142891242235, 0.0502509556203447, 0.02512547781017235, 0.08463318841321212, 0.014546329258520833, 0.18116791894703219, 0.0026447871379128786, 0.023803084241215907, 0.0436389877755625, 0.01983590353434659, 0.029092658517041667, 0.002607364945482163, 0.06431500198856002, 0.4597653520533547, 0.06779148858253624, 0.08256655660693517, 0.14775068024398924, 0.011298581430422706, 0.07735182671597084, 0.02433540615783352, 0.009560338133434598, 0.053016420558137316, 0.48418730402138893, 0.17975816077440787, 0.0724831293445193, 0.049288527954273124, 0.037691227259150036, 0.026093926564026947, 0.06088582864939621, 0.08697975521342316, 0.002899325173780772, 0.8121111203716317, 0.10883963468898157, 0.07535051632314109, 0.9741906893107513, 0.05243549311329706, 0.9176211294826985, 0.526841834284002, 0.12477832917252679, 0.2957708543348783, 0.046214195989824736, 0.004621419598982474, 0.07448589754075324, 0.15783916383635807, 0.47351749150907424, 0.1028614775562783, 0.008867368754851578, 0.09576758255239703, 0.06916547628784231, 0.01596126375873284, 0.8408144500725018, 0.05255090312953136, 0.09196408047667988, 0.02989419511284519, 0.967824566778363, 0.9907775307695852, 0.09343180301846964, 0.08175282764116093, 0.07007385226385222, 0.2802954090554089, 0.1712916388671943, 0.09732479481090586, 0.054501885094107284, 0.1012177866033421, 0.027250942547053642, 0.019464958962181172, 0.9532204331119202, 0.2254840989031066, 0.02254840989031066, 0.06764522967093198, 0.05637102472577665, 0.05637102472577665, 0.5637102472577665, 0.03149991317530479, 0.05249985529217465, 0.05249985529217465, 0.036749898704522256, 0.010499971058434929, 0.4304988133958321, 0.11549968164278422, 0.26249927646087323, 0.9849102850986229, 0.9787993248919428, 0.9909619358227559, 0.9840232325143721, 0.9663068850725056, 0.0012477261451691764, 0.05240449809710541, 0.08234992558116563, 0.10605672233937999, 0.36059285595389196, 0.1534703158558087, 0.05365222424227458, 0.049909045806767055, 0.01372498759686094, 0.01746816603236847, 0.016220439887199293, 0.02744997519372188, 0.06612948569396634, 0.02967655530019324, 0.8238777019053647, 0.019784370200128826, 0.007065846500046009, 0.11870622120077295, 0.9727832732229288, 0.97342347665413, 0.9810102003343902, 0.05595964009532323, 0.0067151568114387885, 0.17683246270122144, 0.058198025699136166, 0.19250116192791195, 0.07834349613345253, 0.04700609768007152, 0.024622241641942225, 0.008953542415251719, 0.16564053468215678, 0.1813092339088473, 0.9329049323276155, 0.9474641871643343, 0.9851671807586814, 0.17256976370806779, 0.10804367814765983, 0.007503033204698599, 0.1665673371443089, 0.03901577266443272, 0.0225090996140958, 0.08853579181544348, 0.12154913791611731, 0.058523658996649075, 0.01050424648657804, 0.05102062579195048, 0.10804367814765983, 0.0450181992281916, 0.9844489566803607, 0.9946548371307289, 0.9552148696125263, 0.9825983334921019, 0.9836964762841364, 0.9671231579322417, 0.9674573952948832, 0.9939756230730854, 0.9580967390480457, 0.9874899436351147, 0.04376624660319308, 0.9482686764025168, 0.9615118874031526, 0.12671534630790968, 0.24247998367562962, 0.056317931692404295, 0.06101109266677132, 0.0187726438974681, 0.020337030888923774, 0.20649908287214908, 0.014079482923101074, 0.07196180160696104, 0.053189157709492944, 0.001564386991455675, 0.010950708940189725, 0.11263586338480859, 0.004392669789202938, 0.32212911787488213, 0.08492494925792347, 0.1844921311465234, 0.16692145198971164, 0.03514135831362351, 0.12153053083461461, 0.010249562841473521, 0.019034902419879398, 0.038069804839758796, 0.013178009367608814, 0.8691666681621336, 0.10106589164675972, 0.8908495012278647, 0.10102417024233516, 0.9116230084301694, 0.07927156595044951, 0.9927698584128379, 0.027857112024791846, 0.2367854522107307, 0.3412496223037001, 0.3899995683470858, 0.060357103938058904, 0.9254755937169032, 0.44825191686700566, 0.1494173056223352, 0.016153222229441645, 0.11105340282741132, 0.04240220835228432, 0.016153222229441645, 0.04442136113096452, 0.12720662505685296, 0.006057458336040617, 0.010095763893401027, 0.01413406945076144, 0.016153222229441645, 0.9901820200545679, 0.960557048653699, 0.0047968706837843295, 0.14630455585542204, 0.12951550846217688, 0.07195306025676494, 0.34297625389057956, 0.2614294522662459, 0.0407734008121668, 0.15858457864118566, 0.08091049930672738, 0.12136574896009107, 0.0016182099861345475, 0.07929228932059283, 0.0712012393899201, 0.02589135977815276, 0.01294567988907638, 0.09223796920966922, 0.08900154923740011, 0.017800309847480024, 0.08576512926513102, 0.004854629958403643, 0.05663734951470917, 0.05340092954244007, 0.02589135977815276, 0.019418519833614572, 0.11490523818058611, 0.15186306332638866, 0.20494793944490505, 0.03897370651739178, 0.02755037874505281, 0.17672560024265582, 0.04166154834617742, 0.0335980228598205, 0.030238220573838452, 0.03561390423140973, 0.02217469508748153, 0.00403176274317846, 0.09138662217871177, 0.00806352548635692, 0.010751367315142561, 0.00604764411476769, 0.0006719604571964101, 0.896667167238262, 0.962618351110697, 0.983532879257723, 0.976254620588681, 0.9935256600184311, 0.9703009882058093, 0.1997270991051897, 0.003366187063570613, 0.034783932990229666, 0.01009856119071184, 0.40282038527395003, 0.20197122381423677, 0.0594693047897475, 0.015708872963329526, 0.005610311772617688, 0.034783932990229666, 0.026929496508564903, 0.003366187063570613, 0.07897399295783172, 0.02632466431927724, 0.005264932863855448, 0.5422880849771112, 0.20006744882650704, 0.07897399295783172, 0.057914261502409935, 0.9884464348999995, 0.9676547353362219, 0.9829219660147672, 0.9637534024294774, 0.9706243132242178, 0.04101816407064317, 0.13946175784018677, 0.06562906251302907, 0.13125812502605813, 0.016407265628257266, 0.582457929803133, 0.008203632814128633, 0.916210853723288, 0.022589257267071453, 0.022589257267071453, 0.005019834948238101, 0.08784711159416676, 0.025099174741190503, 0.17569422318833353, 0.055218184430619106, 0.030119009689428603, 0.10792645138711916, 0.3538983638507861, 0.09537686401652391, 0.020079339792952403, 0.01132291141488538, 0.3340258867391187, 0.04529164565954152, 0.5378382922070555, 0.06227601278186959, 0.6021930791605948, 0.08884815922041563, 0.08391215037483699, 0.009872017691157291, 0.10365618575715156, 0.10365618575715156, 0.009872017691157291, 0.13672265949199636, 0.17517590747412032, 0.16235815814674567, 0.15808557503762077, 0.28626306831136733, 0.02136291554562443, 0.05554358041862351, 0.03589773080613606, 0.009971591890593351, 0.061823869721678776, 0.04886080026390742, 0.34800855698170796, 0.18547160916503633, 0.08475853107004348, 0.15455967430419693, 0.045869322696729414, 0.0029914775671780053, 0.006980114323415346, 0.014957387835890026, 0.9801305134588523, 0.013153230069237925, 0.4156420701879184, 0.09207261048466547, 0.2630646013847585, 0.21308232712165437, 0.9401176385588004, 0.05222875769771113, 0.04920885508214684, 0.6889239711500558, 0.2530741118510409, 0.11909967567886177, 0.06699356756935974, 0.12654340540879064, 0.022331189189786584, 0.4242925946059451, 0.007443729729928861, 0.052106108109502024, 0.029774918919715444, 0.040940513514608735, 0.10793408108396849, 0.9671839429154852, 0.990179442490523, 0.961540127225065, 0.6689346174405231, 0.08801771282112146, 0.005867847521408097, 0.011735695042816194, 0.029339237607040485, 0.09388556034252955, 0.017603542564224292, 0.017603542564224292, 0.06454632273548906, 0.9842597085256201, 0.9759384104571928, 0.9921861957207376, 0.9759998212007543, 0.3250644111942601, 0.6196540338390583, 0.05079131424910314, 0.49268500931229137, 0.46741911139884057, 0.037898846870176264, 0.07239519920256815, 0.9250497675883708, 0.028097660504399536, 0.05619532100879907, 0.6556120784359892, 0.028097660504399536, 0.2247812840351963, 0.9791168653577245, 0.9564484427310774, 0.8783305597322637, 0.11677227094706397, 0.9428220517982742, 0.9730842802974533, 0.164509664882932, 0.06794964419077626, 0.1931200413843115, 0.01430518825068974, 0.4220030533953473, 0.010728891188017306, 0.12517039719353523, 0.04825490894560251, 0.9168432699664477, 0.031857887424833135, 0.9238787353201608, 0.031857887424833135, 0.1680450337938101, 0.023178625350870362, 0.21440228449555085, 0.011589312675435181, 0.011589312675435181, 0.5620816647586062, 0.0057946563377175905, 0.048356924189722886, 0.9187815596047347, 0.08488701018338131, 0.899802307943842, 0.9924494502633768, 0.989606583383465, 0.9921015835455097, 0.9655591072474147, 0.9798679306992671, 0.05632640019419283, 0.9293856032041816, 0.021210851616825302, 0.9544883227571386, 0.9436018847731755, 0.05473328797988257, 0.9672501336016771, 0.0732653231349851, 0.019981451764086843, 0.1398701623486079, 0.17317258195541932, 0.20647500156223073, 0.37964758351765004, 0.15284472017371434, 0.8423442356240257, 0.9156380794139835, 0.9882207429488736, 0.0737545462386574, 0.9145563733593518, 0.14083616628986864, 0.8168497644812381, 0.02816723325797373, 0.9393441541374178, 0.9488448841162859, 0.03386235330435763, 0.18162534954155451, 0.40942663540723306, 0.16931176652178812, 0.04001914481424083, 0.009235187264824807, 0.12005743444272249, 0.03386235330435763, 0.9827826972110608, 0.9815106479568824, 0.22794635462772378, 0.6648435343308611, 0.09497764776155158, 0.9810772723075974, 0.9806260636253396, 0.9271778869794328, 0.12738268924622084, 0.11646417302511619, 0.5422863056481972, 0.007279010814069762, 0.20017279738691846, 0.982980626675517, 0.9951526420634604, 0.09261436106414317, 0.9029900203753959, 0.942641000753963, 0.9418109401931539, 0.004568214163573798, 0.48423070133882257, 0.03197749914501658, 0.04568214163573798, 0.04568214163573798, 0.027409284981442787, 0.13704642490721394, 0.09593249743504975, 0.10506892576219735, 0.027409284981442787, 0.032015405996285204, 0.08373260029797669, 0.05417991783986727, 0.07265034437618566, 0.24750371558666637, 0.04063493837990045, 0.019701788305406278, 0.1120539209869982, 0.13544979459966816, 0.02955268245810942, 0.027089958919933634, 0.07141898260709777, 0.038172214841724665, 0.03570949130354888, 0.9819202808941588, 0.015239543162669645, 0.12627050049069133, 0.09579141416535206, 0.10014556935468623, 0.13062465568002551, 0.11538511251735588, 0.13062465568002551, 0.28302008730672196, 0.28826999170475676, 0.7075717978207666, 0.044510142464173966, 0.7121622794267835, 0.0519284995415363, 0.1854589269340582, 0.9652440447946173, 0.9818679537003191, 0.978597894295057, 0.9944154962162555, 0.9819508097020393, 0.9568495523791087, 0.00682043432000153, 0.023384346240005245, 0.09646042824002163, 0.03410217160000765, 0.047743040240010706, 0.024358694000005465, 0.1208191222400271, 0.06430695216001442, 0.1364086864000306, 0.03215347608000721, 0.08866564616001989, 0.08671695064001946, 0.016563911920003716, 0.05456347456001224, 0.10230651480002295, 0.05456347456001224, 0.010717825360002403, 0.9661989783837803, 0.953548075081651, 0.9740441848103019, 0.9801028820890837, 0.014738389204347122, 0.9848222704868927, 0.1828508840788943, 0.06670032249418785, 0.06440031137369862, 0.04255020572905087, 0.04140020016880625, 0.11845057270519567, 0.12535060606666337, 0.04140020016880625, 0.05635027245198629, 0.02645012788562622, 0.023000111204892364, 0.0034500166807338545, 0.008050038921712327, 0.02645012788562622, 0.0023000111204892365, 0.12190058938592953, 0.047150227970029344, 0.9315169971036577, 0.5430855944320062, 0.037152736842431006, 0.05026546749270078, 0.11091184675019845, 0.014205458204458916, 0.24313188080708528, 0.9793958870952271, 0.93249126668864, 0.9821169220681928, 0.9892832443548035, 0.29250536983093994, 0.00295459969526202, 0.050228194819454335, 0.03840979603840626, 0.10932018872469473, 0.17136678232519714, 0.029545996952620196, 0.00295459969526202, 0.00295459969526202, 0.07681959207681252, 0.22159497714465148, 0.8860974640812861, 0.9660945938848802, 0.975847130105483, 0.22970421332898283, 0.035221312710444035, 0.0015313614221932187, 0.07809943253185415, 0.029095867021671155, 0.0245017827550915, 0.036752674132637254, 0.09188168533159313, 0.12404027519765072, 0.02603314417728472, 0.0566603726211491, 0.06431717973211519, 0.15007341937493543, 0.02603314417728472, 0.019907698488511844, 0.004594084266579657, 0.020326720551566268, 0.11456878856337352, 0.0009239418432530122, 0.02125066239481928, 0.0036957673730120487, 0.26239948348385544, 0.1884841360236145, 0.06098016165469881, 0.1275039743689157, 0.03695767373012049, 0.0378816155733735, 0.02494642976783133, 0.08592659142253013, 0.0036957673730120487, 0.0009239418432530122, 0.00831547658927711, 0.0018478836865060244, 0.9374066508208205, 0.9469766192301153, 0.19644183952898098, 0.7936250316970831, 0.9870121485704642, 0.19420554691671302, 0.7917610758912146, 0.9720611269106321, 0.9697275754003963, 0.1589820113425785, 0.05299400378085949, 0.09337038761389531, 0.5551752777042424, 0.12112915149910743, 0.007570571968694214, 0.007570571968694214, 0.44265324421780494, 0.5533165552722562, 0.14237111336773436, 0.4422592032274302, 0.06058345249690825, 0.09087517874536237, 0.08481683349567154, 0.024233380998763297, 0.1514586312422706, 0.9653889054944454, 0.9541851881105984, 0.9234363957350139, 0.9834368143566612, 0.01876099664610642, 0.05628298993831927, 0.17510263536365994, 0.2188782942045749, 0.03752199329221284, 0.4377565884091498, 0.05628298993831927, 0.16353261898386748, 0.8176630949193374, 0.02245181900224807, 0.1582853239658489, 0.024697000902472878, 0.07633618460764344, 0.0011225909501124036, 0.2626862823263024, 0.0976654126597791, 0.10664614026067834, 0.052761774655282964, 0.004490363800449614, 0.1257301864125892, 0.0628650932062946, 0.004490363800449614, 0.9778220423499452, 0.9341227041871598, 0.9785303050755524, 0.9735067934826188, 0.9157138865783296, 0.9742204974139657, 0.16809204962769844, 0.49343150052001805, 0.02168929672615464, 0.09489067317692654, 0.2087594809892384, 0.01084464836307732, 0.10431480287007294, 0.022677131058711508, 0.036283409693938416, 0.5200622056131172, 0.013606278635226905, 0.045354262117423015, 0.001511808737247434, 0.12094469897979472, 0.12850374266603187, 0.006047234948989736, 0.9028496718359362, 0.8253802024503986, 0.09597444214539519, 0.07677955371631615, 0.9519250614059306, 0.024037292805554306, 0.15452545374999196, 0.12705426197221562, 0.02747119177777635, 0.09614917122221722, 0.04807458561110861, 0.006867797944444087, 0.1098847671111054, 0.006867797944444087, 0.04464068663888657, 0.01716949486111022, 0.12705426197221562, 0.20603393833332262, 0.9761088873572012, 0.9791820493503878, 0.9899655176623152, 0.006925535087380542, 0.07618088596118595, 0.06925535087380541, 0.18006391227189408, 0.017313837718451353, 0.07271811841749569, 0.11427132894177894, 0.06232981578642487, 0.04847874561166379, 0.031164907893212437, 0.31857461401950493, 0.959638248627979, 0.9459376564862707, 0.9675098227983693, 0.041706426849405676, 0.10009542443857361, 0.38925998392778627, 0.21409299116028246, 0.07507156832893021, 0.04726728376265976, 0.025023856109643403, 0.052828140675913855, 0.041706426849405676, 0.008341285369881135, 0.9911910611988308, 0.11602764293642548, 0.3707839893837944, 0.007567020191506009, 0.02270106057451803, 0.22953294580901562, 0.10593828268108413, 0.14377338363861417, 0.22862477839720083, 0.11530640997424042, 0.0536771218845602, 0.15705528255112056, 0.031808664820480115, 0.009940207756400036, 0.06759341274352025, 0.07952166205120029, 0.051689080333280187, 0.033796706371760125, 0.1411509501408805, 0.0278325817179201, 0.038964006643497195, 0.006957858329195928, 0.1836874598907725, 0.16698859990070228, 0.12524144992552672, 0.14194030991559695, 0.020873574987587785, 0.03757243497765801, 0.14194030991559695, 0.1168920199304916, 0.016698859990070227, 0.21641210444715056, 0.6011447345754182, 0.066125920803296, 0.006011447345754182, 0.10820605222357528, 0.8212327380652522, 0.019323123248594167, 0.11110795867941647, 0.04347702730933688, 0.9851917677909365, 0.2429676163354086, 0.7440883250271888, 0.9818522231432311, 0.9646647378340234, 0.9852124563280447, 0.9648642651382686, 0.9339728525314174, 0.05188738069618985, 0.9346055330772608, 0.9699890999563093, 0.9838935024937673, 0.8156524233299111, 0.031072473269710896, 0.12428989307884358, 0.023304354952283172, 0.9740013313929778, 0.9934695062682674, 0.9789861147486489, 0.9734882852853715, 0.14841529144841428, 0.8162841029662786, 0.08735974714235106, 0.23781264499862234, 0.058239831428234044, 0.0485331928568617, 0.5290118021397926, 0.03882655428548936, 0.04264128816474872, 0.03135388835643288, 0.10534906487761449, 0.09406166506929865, 0.3762466602771946, 0.057691154575836505, 0.15676944178216443, 0.01881233301385973, 0.030099732822175568, 0.04514959923326335, 0.02132064408237436, 0.01881233301385973, 0.9625059466502083, 0.031236082416128443, 0.9527005136919175, 0.9823101426195874, 0.9803988299281856, 0.2085498863041604, 0.7820620736406015, 0.11992203805705817, 0.07043040330335162, 0.11040441598903769, 0.17512424605157703, 0.194159490187618, 0.03616696385847786, 0.21700178315086718, 0.07614097654416392, 0.9575160662221478, 0.9934454130075578, 0.5554112035250067, 0.09947663346716538, 0.22382242530112212, 0.1077663529227625, 0.008289719455597115, 0.07444788362345209, 0.13117008066989178, 0.01418054926160992, 0.2836109852321984, 0.0531770597310372, 0.046086785100232244, 0.13117008066989178, 0.26234016133978355, 0.04233978878369749, 0.23816131190829842, 0.01940573652586135, 0.033518999453760516, 0.0052924735979621865, 0.5027849918064078, 0.15701005007287822, 0.8698489939159583, 0.12426414198799404, 0.9934265526620164, 0.8219401833634679, 0.11154902488504206, 0.011742002619478113, 0.052839011787651505, 0.05945239370920505, 0.9314208347775458, 0.985535413483365, 0.27831205458583347, 0.05367446767012503, 0.0556624109171667, 0.0019879432470416678, 0.013915602729291675, 0.05367446767012503, 0.059638297411250034, 0.02783120545858335, 0.07752978663462504, 0.005963829741125003, 0.029819148705625017, 0.015903545976333342, 0.1709631192455834, 0.0556624109171667, 0.05765035416420836, 0.02783120545858335, 0.0039758864940833355, 0.009939716235208338, 0.9542631318168884, 0.016046566107116453, 0.04813969832134935, 0.03744198758327172, 0.06418626442846581, 0.07488397516654344, 0.2246519254996303, 0.032093132214232906, 0.02139542147615527, 0.48139698321349356, 0.015402824968139868, 0.0346563561783147, 0.346563561783147, 0.02117888433119232, 0.11167048101901404, 0.2079381370698882, 0.038507062420349666, 0.053909887388489536, 0.08664089044578675, 0.01732817808915735, 0.025029590573227282, 0.038507062420349666, 0.012662067361703815, 0.03545378861277068, 0.17220411611917188, 0.08103723111490442, 0.07090757722554136, 0.05571309639149679, 0.29122754931918776, 0.022791721251066866, 0.05824550986383755, 0.19752825084257952, 0.9689188369923869, 0.9689391907685329, 0.9833187072859199, 0.2311749722439627, 0.7513186597928788, 0.9598008676394747, 0.11800084447877304, 0.2728769528571626, 0.5900042223938652, 0.022125158339769944, 0.9954874045763775, 0.9637386896283667, 0.031088344826721508, 0.9305275080747409, 0.9762069131876231, 0.24892430849114, 0.03896206567687409, 0.04112662488114487, 0.04329118408541565, 0.11472163782635147, 0.08225324976228975, 0.07792413135374818, 0.00865823681708313, 0.22294959803989062, 0.0064936776128123475, 0.09524060498791444, 0.01731647363416626, 0.151168195460662, 0.8422228032808312, 0.05100987358099847, 0.9351810156516386, 0.966141266672821, 0.8382238519727524, 0.11525577964625346, 0.041911192598637625, 0.9843847898602062, 0.027398972522316184, 0.9644438327855296, 0.9891619566494605, 0.23565668888438945, 0.7605284050359842, 0.06019231299193334, 0.06019231299193334, 0.06019231299193334, 0.39554948537556195, 0.1547802334078286, 0.2665659575357048, 0.4353331334088569, 0.5521298277380624, 0.9634930786658322, 0.7461572048387632, 0.24871906827958773, 0.013914530071388802, 0.9823658230400495, 0.9699809354784109, 0.022557696173916533, 0.8641479208172148, 0.02880493069390716, 0.10081725742867506, 0.01395408507019467, 0.9814373166036917, 0.9858866926144554, 0.9817634705127621, 0.4844296441346927, 0.011534039146064112, 0.4959636832807568, 0.979714927040851, 0.9194510144518612, 0.9458747328456011, 0.9517335890692079, 0.9735076986514328, 0.2524958792985599, 0.04021230670310398, 0.08603563294617596, 0.057980535246335965, 0.008416529309951995, 0.09538733217945594, 0.03366611723980798, 0.05611019539967997, 0.07107291417292796, 0.026184757853183985, 0.05704536532300797, 0.008416529309951995, 0.029925437546495983, 0.09725767202611195, 0.03834196685644798, 0.001870339846655999, 0.03927713677977598, 0.001870339846655999, 0.08995901215326334, 0.2368038702269726, 0.027781459635566618, 0.21431411718865678, 0.0013229266493126962, 0.005291706597250785, 0.027781459635566618, 0.09657364539982682, 0.07937559895876177, 0.04365657942731897, 0.058208772569758635, 0.08995901215326334, 0.0013229266493126962, 0.027781459635566618, 0.015726202639951486, 0.30753462940349574, 0.022715626035485482, 0.42810218297645714, 0.08212572489752443, 0.026210337733252476, 0.07164158980422344, 0.03145240527990297, 0.013978846791067989, 0.23058741771941352, 0.35170404116799436, 0.046583316710992625, 0.31676655363474987, 0.03493748753324447, 0.020962492519946682, 0.10608148244444301, 0.8789608545396707, 0.9705406803077418, 0.9662556347585768, 0.4757776972050416, 0.0800813945790664, 0.44280300531954364, 0.9182377873268089, 0.1686199060413234, 0.006022139501475836, 0.0812988832699238, 0.46069367186290144, 0.09334316227287547, 0.1806641850442751, 0.006022139501475836, 0.9753079369849468, 0.9337596258501994, 0.9420163141197222, 0.9698906704450825, 0.1647613644879114, 0.051487926402472316, 0.7723188960370847, 0.964234314374989, 0.985085673503206, 0.9803744408588929, 0.9527175784217281, 0.9562080391162279, 0.1695726313403513, 0.018841403482261255, 0.659449121879144, 0.14445076003066964, 0.022111400587468914, 0.08476036891863084, 0.05159326803742747, 0.08107513548738601, 0.018426167156224096, 0.30218914136207514, 0.3095596082245648, 0.03316710088120337, 0.03316710088120337, 0.05527850146867228, 0.014740933724979276, 0.04068543046962185, 0.11301508463783846, 0.004520603385513538, 0.18082413542054154, 0.1853447388060551, 0.14917991172194678, 0.3209628403714612, 0.041099185988536714, 0.12703384760093167, 0.014945158541286079, 0.16066045431882534, 0.10461610978900254, 0.0037362896353215196, 0.0037362896353215196, 0.0037362896353215196, 0.14945158541286077, 0.029890317082572157, 0.03362660671789368, 0.029890317082572157, 0.022417737811929118, 0.03736289635321519, 0.20175964030736204, 0.011208868905964559, 0.026154027447250636, 0.9003768366219537, 0.052963343330703155, 0.9911234465252459, 0.9346530758878732, 0.284069078487309, 0.6012335835944986, 0.09928627985964197, 0.01378976109161694, 0.9863588001553956, 0.9718565845116945, 0.9016151382872302, 0.9683206147072966, 0.006155108547777545, 0.7324579171855278, 0.09232662821666317, 0.07591300542258972, 0.0553959769299979, 0.02462043419111018, 0.010258514246295907, 0.9673866536494956, 0.37574009218326004, 0.09617157121357252, 0.0044730963355150005, 0.09840811938133001, 0.26167613562762754, 0.07380608953599752, 0.022365481677575003, 0.033548222516362504, 0.033548222516362504, 0.9302652892883098, 0.9808359516288654, 0.9444890122014133, 0.9878831692197271, 0.04071598848172609, 0.29144075965867094, 0.14143448630494326, 0.04071598848172609, 0.017143574097568882, 0.008571787048784441, 0.07714608343905996, 0.05357366905490275, 0.03214420143294165, 0.03214420143294165, 0.01285768057317666, 0.0042858935243922204, 0.12429091220737438, 0.03214420143294165, 0.09214671077443273, 0.9696780901790714, 0.12520707968207354, 0.04237778081547105, 0.05682475154801799, 0.06067727707669718, 0.015410102114716745, 0.42859346506555945, 0.01637323349688654, 0.0548984887836784, 0.07127172228056494, 0.026004547318584505, 0.06549293398754616, 0.02504141593641471, 0.010594445203867762, 0.13512508077792498, 0.15361588130543052, 0.08320860237377486, 0.044804632047417234, 0.05405003231117, 0.06685135575328921, 0.07182964820300224, 0.008534215628079473, 0.044093447411743945, 0.033425677876644605, 0.10952243389368657, 0.07182964820300224, 0.06471780184626934, 0.03982633959770421, 0.004978292449713026, 0.0021335539070198683, 0.009956584899426052, 0.9826120338111722, 0.9305505329346689, 0.2583891674554119, 0.7338252355733698, 0.9931549575051405, 0.9872794585827283, 0.10461159455106703, 0.8630456550463029, 0.949066068386772, 0.9867216292388529, 0.9707833083683447, 0.940148231995265, 0.028489340363492877, 0.8237599269063637, 0.04726491383888972, 0.12153834987143071, 0.04151018876355083, 0.3056659354406925, 0.03584970847761208, 0.1566066212443054, 0.02452874790573458, 0.18302219591201957, 0.009434133809897915, 0.0037736535239591665, 0.09811499162293832, 0.06226528314532624, 0.0773598972411629, 0.977642582511499, 0.9480969752376667, 0.9722504925204446, 0.9700800222759937, 0.923384539376797, 0.9850133910913196, 0.28722176711027353, 0.6927113206777185, 0.01823091393950302, 0.04010801066690664, 0.08750838690961449, 0.07656983854591268, 0.06563129018221087, 0.02916946230320483, 0.404726289456967, 0.08750838690961449, 0.06198510739431026, 0.12761639757652113, 0.9723923600674937, 0.951708758461529, 0.9139569514059652, 0.07986031614226881, 0.988433792689895, 0.9644853684069685, 0.9804084289438552, 0.9677652057397, 0.9855807813614674, 0.9728884779441821, 0.9644215316853326, 0.015191908384619798, 0.015191908384619798, 0.02025587784615973, 0.05570366407693926, 0.07089557246155906, 0.10634335869233859, 0.4810770988462936, 0.09621541976925872, 0.12153526707695839, 0.005063969461539933, 0.00685486795909613, 0.034274339795480654, 0.17137169897740326, 0.03084690581593259, 0.010282301938644196, 0.6237929842777479, 0.06169381163186518, 0.05826637765231711, 0.19511959517407226, 0.06693883922030217, 0.06836306984201072, 0.07690845357226206, 0.28484612434171136, 0.0028484612434171133, 0.07690845357226206, 0.12105960284522732, 0.0014242306217085567, 0.03987845740783959, 0.06409037797688505, 0.09902837377478249, 0.1260361120769959, 0.594170242648695, 0.01800515886814227, 0.1530438503792093, 0.4233703609447387, 0.5644938145929849, 0.9540635990276473, 0.9219630955622173, 0.9826564034734568, 0.9545986884928026, 0.9804706664235529, 0.24029643252455474, 0.31238536228192115, 0.4325335785441985, 0.9734597468326006, 0.9008834669435469, 0.015269211304127913, 0.061076845216511653, 0.3901173199623022, 0.596650018765874, 0.9964947780992884, 0.05011273840839523, 0.06443066366793673, 0.20403043494846632, 0.04653325709350986, 0.06443066366793673, 0.5369221972328061, 0.02863585051908299, 0.29263156567759874, 0.023599319812709574, 0.0943972792508383, 0.07551782340067063, 0.3492699332281017, 0.1604753747264251, 0.9513967532417875, 0.9558763353884716, 0.9747915065071816, 0.9743629091720087, 0.03503160204624906, 0.22019864143356555, 0.22620405892720824, 0.05104604869596292, 0.05404875744278427, 0.009008126240464044, 0.05905327202081985, 0.0560505632739985, 0.12211015570406816, 0.008007223324856929, 0.001000902915607116, 0.08007223324856928, 0.058052369105212734, 0.01801625248092809, 0.20599793369140518, 0.7798493204031768, 0.10598164496563618, 0.07522804263185782, 0.015613367338687473, 0.07759370434984078, 0.03737745514413062, 0.007570117497545442, 0.2441362892958405, 0.03926998451851698, 0.04116251389290334, 0.12396067402230661, 0.09509960106291461, 0.0018925293743863605, 0.03548492576974426, 0.05535648420080105, 0.005677588123159082, 0.0033119264051761307, 0.026495411241409045, 0.008516382184738623, 0.11414370408326521, 0.06658382738190471, 0.8085179039231286, 0.9885856139238235, 0.158037085224916, 0.04158870663813579, 0.7236434955035628, 0.07485967194864443, 0.9590516103058498, 0.22851086366053686, 0.06120826705192951, 0.008161102273590602, 0.020402755683976505, 0.06120826705192951, 0.13465818751424494, 0.020402755683976505, 0.3958134602691442, 0.06528881818872481, 0.07688311811020604, 0.02446281030779283, 0.03844155905510302, 0.006989374373655094, 0.13629280028627436, 0.7164108732996473, 0.11400367560330274, 0.8449684191774203, 0.0335304928245008, 0.2954649416036642, 0.2456274815741305, 0.056957097176609975, 0.31326403447135487, 0.08543564576491496, 0.9783753781452184, 0.9549703446336475, 0.9863377649456954, 0.9496113626230066, 0.3404345225184484, 0.1702172612592242, 0.10432670851371806, 0.37337979889120143, 0.9784361622495388, 0.14928089060727176, 0.10504951561252458, 0.09399167186383778, 0.11979330727744031, 0.06634706249212079, 0.07003301040834972, 0.023958661455488063, 0.2137849791412781, 0.08477680207326545, 0.016586765623030197, 0.05344624478531952, 0.3256942450628172, 0.6622449649610617, 0.45254785821428634, 0.19774085300272337, 0.11280518459886903, 0.015925437825722685, 0.15394589898198596, 0.04644919365835783, 0.01990679728215336, 0.05408685518187099, 0.006760856897733873, 0.6558031190801857, 0.22310827762521782, 0.05408685518187099, 0.006760856897733873, 0.26866298450163545, 0.00859359714735871, 0.041158807389981185, 0.23655006884571605, 0.2627831548744953, 0.026233086028779218, 0.09362497944753963, 0.00226147293351545, 0.00180917834681236, 0.058346001684698605, 0.9761970009447336, 0.9713663528318752, 0.9843966370350521, 0.026482332785183506, 0.3687155564706319, 0.21389576480340525, 0.23630389254471437, 0.05907597313617859, 0.07944699835555052, 0.01425971765356035, 0.050307016665949715, 0.13654761666472065, 0.7114849499898602, 0.10061403333189943, 0.9853999474913111, 0.015396874179551736, 0.9874031717769288, 0.9780473058162291, 0.9867339015021206, 0.08688551995863407, 0.003949341816301548, 0.8412098068722298, 0.06713881087712632, 0.11744124043765725, 0.8455769311511321, 0.10814781755401699, 0.8832071766911388, 0.9594791949422292, 0.033085489480766526, 0.17236004434529434, 0.1701216022109399, 0.3447200886905887, 0.05372261122450733, 0.013430652806126833, 0.044768842687089444, 0.09177612750853335, 0.004476884268708944, 0.03133818988096261, 0.024622863477899194, 0.006715326403063417, 0.03133818988096261, 0.008953768537417889, 0.9568511251768186, 0.9897659958524315, 0.07768146852416649, 0.21084970027988045, 0.12761955543255923, 0.5826110139312486, 0.9615401508383468, 0.08025248253379656, 0.8827773078717622, 0.10930201336639718, 0.8379821024757118, 0.3358709138483827, 0.6643600493704274, 0.1542444172615147, 0.8290637427806415, 0.4473649809548541, 0.13524987796309543, 0.4057496338892863, 0.07407378080851892, 0.05629607341447438, 0.03999984163660022, 0.014814756161703784, 0.4948128558009064, 0.11407362244511914, 0.007407378080851892, 0.03703689040425946, 0.12740690299065255, 0.01925918301021492, 0.010370329313192648, 0.005925902464681513, 0.0427554675079197, 0.9149670046694816, 0.03420437400633576, 0.9509997070164938, 0.040468072638999736, 0.979843701103788, 0.005790103747745345, 0.9901077408644541, 0.9899386568165267, 0.15877706385758586, 0.02886855706501561, 0.36446553294582207, 0.018042848165634756, 0.06134568376315817, 0.007217139266253903, 0.0036085696331269513, 0.2273398868869979, 0.039694265964396465, 0.09021424082817378, 0.9512007411541354, 0.20096432831081792, 0.11164684906156551, 0.6252223547447668, 0.06698810943693931, 0.9589606748839873, 0.06347544952485362, 0.9203940181103776, 0.91851757703486, 0.9903893525714633, 0.014842196802308891, 0.754478337450702, 0.009894797868205928, 0.004947398934102964, 0.12121127388552261, 0.07915838294564742, 0.01236849733525741, 0.1113786458468523, 0.017047751915334534, 0.35232020625024707, 0.08523875957667268, 0.020457302298401443, 0.025003369475823985, 0.020457302298401443, 0.010228651149200721, 0.11706122981863047, 0.13524549852832066, 0.017047751915334534, 0.01818426870969017, 0.047733705362936696, 0.0011365167943556357, 0.0056825839717781785, 0.0159112351209789, 0.9641153240298337, 0.3378972544872096, 0.10283829484393335, 0.06611033239967144, 0.07468019030333256, 0.06121327074043652, 0.11752947982163812, 0.007345592488852383, 0.024485308296174606, 0.0024485308296174606, 0.036727962444261915, 0.013466919562896034, 0.004897061659234921, 0.052643412836775406, 0.05998900532562779, 0.015915450392513495, 0.008569857903661113, 0.013466919562896034, 0.8995455195475641, 0.9755899099503313, 0.14552993193510275, 0.8095102463890091, 0.03638248298377569, 0.08180906632375483, 0.0749916441301086, 0.06817422193646236, 0.7362815969137935, 0.03408711096823118, 0.11134019199569006, 0.057357068603840336, 0.14507964411559615, 0.05398312339184973, 0.0404873425438873, 0.060731013815830945, 0.35426424725901384, 0.04723523296786851, 0.1248359728436525, 0.9812846043895127, 0.9892762909820462, 0.38408671839623343, 0.01294674331672697, 0.08199604100593748, 0.289143934073569, 0.2287257985955098, 0.031514674447229336, 0.11975576289947147, 0.10714989312057974, 0.13866456756780907, 0.1701792420150384, 0.094544023341688, 0.08824108845224214, 0.006302934889445867, 0.23951152579894294, 0.9671839429154852, 0.9787261072030632, 0.9599609495999952, 0.9667971566663964, 0.9743055333439893, 0.2892566752881016, 0.10181834970141176, 0.03239674763226738, 0.04165296124148663, 0.19206643239129947, 0.004628106804609626, 0.02314053402304813, 0.07636376227605883, 0.004628106804609626, 0.011570267011524065, 0.22214912662126204, 0.9843542705297635, 0.013295914210158214, 0.0013295914210158216, 0.010636731368126573, 0.12631118499650304, 0.5464620740375027, 0.074457119576886, 0.05318365684063286, 0.029251011262348074, 0.1302999592595505, 0.013295914210158214, 0.9674188976902721, 0.9651664297117394, 0.9683744980318615, 0.17138697639967992, 0.1393390052029918, 0.06409594239337624, 0.10311086385021394, 0.06409594239337624, 0.033441361248718035, 0.026474410988568443, 0.1393390052029918, 0.0027867801040598363, 0.0013933900520299181, 0.03483475130074795, 0.16442002613953033, 0.03622814135277787, 0.019507460728418854, 0.9810613575994661, 0.06846736938709475, 0.9128982584945965, 0.10500820941523009, 0.8750684117935841, 0.02158080379472306, 0.9495553669678146, 0.9712261233237797, 0.024865986787245917, 0.17406190751072143, 0.03729898018086888, 0.4351547687768036, 0.10568044384579516, 0.1491959207234755, 0.06838146366492627, 0.10399026251854149, 0.1421200254420067, 0.010399026251854149, 0.14558636752595808, 0.02426439458765968, 0.5719464438519782, 0.28755984276172886, 0.7049854209642386, 0.9861276393070091, 0.985477371568198, 0.9571258780243762, 0.17151730173206656, 0.05803216975896988, 0.03352969808296038, 0.03095049053811727, 0.328848961967496, 0.024502471676009507, 0.045136132034754355, 0.043846528262332804, 0.1315395847869984, 0.09414107538677337, 0.03095049053811727, 0.006448018862107765, 0.9768759951255696, 0.12759658626065543, 0.08215122677055897, 0.06816803923514468, 0.10312600807368041, 0.01048739065156072, 0.08739492209633933, 0.07341173456092503, 0.05768064858358396, 0.18003353951845902, 0.03495796883853573, 0.09089071898019291, 0.00524369532578036, 0.0262184766289018, 0.029714273512755372, 0.02447057818697501, 0.9792160331440631, 0.9756148008471266, 0.985757460057866, 0.10326815457162733, 0.10097330669225783, 0.0596660448636069, 0.07802482789856287, 0.08031967577793236, 0.05507634910486791, 0.09179391517477985, 0.22030539641947164, 0.004589695758738992, 0.04130726182865093, 0.013769087276216977, 0.09179391517477985, 0.027538174552433955, 0.02983302243180345, 0.9779002876468448, 0.9741354018251461, 0.9395971262396635, 0.9709885653717795, 0.12157345595756834, 0.21709545706708633, 0.23446309363245324, 0.09552200110951799, 0.3213012764592878, 0.9612141023909786, 0.9868190558262347, 0.9587242827398278, 0.9697408615919528, 0.06163928081004153, 0.13648697893652054, 0.06163928081004153, 0.004402805772145824, 0.08365330967077064, 0.25095992901231196, 0.074847698126479, 0.06163928081004153, 0.2641683463287494, 0.0764717455827826, 0.9176609469933911, 0.941146031310562, 0.9145358901254597, 0.9734769935003044, 0.7479265162259707, 0.1565427592100869, 0.08117031959041543, 0.011595759941487918, 0.9764726928242508, 0.9788413425977788, 0.18212543292922506, 0.8065554886865681, 0.9748623384372958, 0.004884976385833497, 0.01953990554333399, 0.458210784991182, 0.011723943326000392, 0.24131783346017474, 0.24131783346017474, 0.023447886652000784, 0.08061418396557642, 0.08867560236213405, 0.6771591453108419, 0.04030709198278821, 0.0967370207586917, 0.06432289376358558, 0.12572201962882634, 0.03216144688179279, 0.05847535796689597, 0.03508521478013758, 0.052627822170206374, 0.5438208290921326, 0.08771303695034396, 0.9575160662221478, 0.8452622538092307, 0.06502017336994081, 0.08849968042019724, 0.02436451047849464, 0.9502159086612909, 0.9016175574237664, 0.09281357208774066, 0.9651762371541965, 0.023540883833029182, 0.9740093723301386, 0.048284626553776425, 0.020330369075274284, 0.2973316477258864, 0.048284626553776425, 0.05844981109141356, 0.015247776806455712, 0.03811944201613928, 0.07878018016668785, 0.30749683226352353, 0.08894536470432499, 0.7904693053197805, 0.2081894466685842, 0.2977295767882585, 0.6512834492243156, 0.037216197098532314, 0.012405399032844105, 0.9404881721789468, 0.27895533020905466, 0.021940306870375084, 0.13477617077516124, 0.0031343295529107263, 0.07208957971694671, 0.00940298865873218, 0.040746284187839446, 0.08776122748150034, 0.040746284187839446, 0.03761195463492872, 0.0470149432936609, 0.09089555703441106, 0.040746284187839446, 0.10029854569314324, 0.9859780180960582, 0.9665035888432949, 0.08312492561213654, 0.16209360494366626, 0.020781231403034135, 0.07481243305092289, 0.037406216525461444, 0.4197808743412895, 0.008312492561213655, 0.012468738841820481, 0.11637489585699115, 0.008312492561213655, 0.05403120164788875, 0.9677637262612558, 0.0354196668245167, 0.030992208471452117, 0.013282375059193764, 0.16824341741645435, 0.20366308424097104, 0.3630515849512962, 0.07969425035516259, 0.10183154212048552, 0.9800960195286398, 0.811862292102932, 0.08118622921029321, 0.020296557302573303, 0.08118622921029321, 0.9279335775325229, 0.9830220167005033, 0.9653702651816212, 0.9624567601017819, 0.9708390010031749, 0.06054686412593947, 0.9233396779205769, 0.9354816447203819, 0.4218375899148655, 0.05062051078978386, 0.1462370311704867, 0.3712170791250816, 0.9792412619013806, 0.956010091980513, 0.03773724047291498, 0.04692865219580563, 0.04171435750738278, 0.010428589376845696, 0.09907159908003411, 0.06257153626107417, 0.4171435750738278, 0.1512145459642626, 0.09907159908003411, 0.02085717875369139, 0.05214294688422848, 0.14841824492074307, 0.1554857803931594, 0.09187796114141239, 0.6007405151553886, 0.9803159509648096, 0.9806605908174797, 0.9625110125389457, 0.40919250839393223, 0.350086923848142, 0.23869562989646045, 0.9760856289567896, 0.018651317750766682, 0.9762834664051393, 0.5198966200330595, 0.034091581641512096, 0.017045790820756048, 0.023864107149058466, 0.05113737246226815, 0.07841063777547783, 0.1073884821707631, 0.07670605869340222, 0.07841063777547783, 0.011932053574529233, 0.9963873848362945, 0.5720003233554365, 0.02997381607102724, 0.17984289642616344, 0.019982544047351492, 0.19482980446167705, 0.9521526715803611, 0.9300876675098282, 0.06370463476094713, 0.026899378220191852, 0.18829564754134298, 0.053798756440383705, 0.72628321194518, 0.01913216729441705, 0.02869825094162557, 0.035075640039764586, 0.025509556392556063, 0.18813297839510099, 0.7015128007952918, 0.011206659674238579, 0.027216173494579405, 0.21612843657460115, 0.11366754812441987, 0.02881712487661349, 0.193715117226124, 0.006403805528136331, 0.0368218817867839, 0.05123044422509065, 0.04802854146102248, 0.15209038129323785, 0.02401427073051124, 0.014408562438306745, 0.014408562438306745, 0.040023784550852065, 0.022413319348477158, 0.0710980265542301, 0.024884309293980535, 0.05332351991567258, 0.08709508252893187, 0.01421960531084602, 0.5279028471651585, 0.019551957302413277, 0.14752840510002746, 0.05332351991567258, 0.09690574289140122, 0.1629778403173566, 0.07488171041608276, 0.06607209742595538, 0.5902440703385348, 0.004404806495063692, 0.06549990501425546, 0.01723681710901459, 0.1309998100285109, 0.12410508318490505, 0.4516046082561823, 0.04136836106163502, 0.0068947268436058366, 0.09652617581048172, 0.03447363421802918, 0.02068418053081751, 0.010342090265408756, 0.012978283184999785, 0.60349016810249, 0.1622285398124973, 0.21414167255249644, 0.9723110889500964, 0.9671839429154852, 0.972003767569231, 0.09856171118375402, 0.04858675903424494, 0.13326653906535754, 0.1318783459500934, 0.3678711755449974, 0.0235992829594904, 0.05136314526477322, 0.03886940722739595, 0.02498747607475454, 0.006940965576320706, 0.013881931152641412, 0.033316634766339386, 0.008329158691584846, 0.011105544922113129, 0.0055527724610565645, 0.9723185251518853, 0.9842917868035365, 0.2822045960181474, 0.7138116252223728, 0.9428466043474354, 0.9469101201492763, 0.03233351629778017, 0.018476295027302952, 0.9686653842978094, 0.962206293278107, 0.9578692540057254, 0.09976617455793758, 0.03627860893015912, 0.12546352255013363, 0.02796476105033099, 0.010581260937963077, 0.015871891406944616, 0.06953400044947165, 0.29627530626296616, 0.20104395782129847, 0.11185904420132396, 0.00453482611626989, 0.9557536529059973, 0.014863837576629372, 0.05945535030651749, 0.10033090364224825, 0.520234315182028, 0.03715959394157343, 0.033443634547416085, 0.130058578795507, 0.1040468630364056, 0.15388302478613455, 0.29184711597370344, 0.05836942319474069, 0.015918933598565645, 0.4775680079569693, 0.01715144516469852, 0.05145433549409556, 0.03430289032939704, 0.8489965356525767, 0.0428786129117463, 0.9829819899258818, 0.9818391020746993, 0.9847361988310945, 0.12886981572375966, 0.0753392768846595, 0.011895675297577814, 0.03370441334313714, 0.2716179192946934, 0.20222648005882285, 0.03172180079354084, 0.03766963844232975, 0.00793045019838521, 0.1625742290668968, 0.0019826125495963024, 0.029739188243944538, 0.9657070845411926, 0.1091585261186473, 0.027289631529661827, 0.8459785774195167, 0.9539609645386896, 0.9702746921826317, 0.9904384854448278, 0.07457833196196466, 0.894939983543576, 0.9713664215799043, 0.9639160460342054, 0.06212941795553355, 0.9319412693330033, 0.9671839429154852, 0.9754870111588267, 0.04452991347270527, 0.11303747266148262, 0.2706048587956705, 0.1267389844992381, 0.42132148901098065, 0.020552267756633203, 0.017103784842867065, 0.1311290171286475, 0.33067317362876325, 0.4104908362288096, 0.04561009291431217, 0.06841513937146826, 0.9552148696125263, 0.9671839429154852, 0.00647701740696207, 0.10147327270907243, 0.12090432492995865, 0.12522233653460002, 0.01727204641856552, 0.00863602320928276, 0.0647701740696207, 0.04102111024409311, 0.07556520308122415, 0.3238508703481035, 0.11226830172067588, 0.973101078681277, 0.9659274004956078, 0.07904481060220672, 0.9177980786589558, 0.9221234092435584, 0.06471041468375847, 0.4745944156212619, 0.014096863830334514, 0.5074870978920425, 0.6442934627458934, 0.17610687981721088, 0.15033514130737513, 0.025771738509835735, 0.9581998462076345, 0.994299173669097, 0.9771875063990617, 0.9087166278314541, 0.08186636286769856, 0.9790607989055504, 0.13274320597775768, 0.2264442925502925, 0.06246739104835655, 0.023425271643133707, 0.5543980955541644, 0.00556979919432126, 0.11696578308074645, 0.013924497985803148, 0.19772787139840473, 0.12532048187222833, 0.025064096374445666, 0.11975068267790707, 0.01113959838864252, 0.225576867370011, 0.00556979919432126, 0.01949429718012441, 0.05012819274889133, 0.047343293151730706, 0.03341879516592756, 0.06339714095478326, 0.07924642619347907, 0.2852871342965247, 0.47547855716087445, 0.09509571143217489, 0.08113476939010528, 0.8924824632911581, 0.01909053397414242, 0.996597102562029, 0.29757422354225277, 0.15671068577077216, 0.08686584829241303, 0.0017607942221435076, 0.026998844739533782, 0.17021010814053905, 0.008803971110717538, 0.1297118410312384, 0.02112953066572209, 0.0041085198516681845, 0.0011738628147623385, 0.07160563170050264, 0.002934657036905846, 0.006456245481192861, 0.013499422369766891, 0.9755407142101893, 0.9841155096069784, 0.16023003102954128, 0.8211789090263991, 0.9828249779621143, 0.0465545194762514, 0.05819314934531425, 0.3026043765956341, 0.5819314934531425, 0.9845856177662775, 0.22806718966070022, 0.08329410404999486, 0.4006049766214039, 0.023798315442855676, 0.019831929535713062, 0.0317310872571409, 0.08726048995713748, 0.07139494632856702, 0.001983192953571306, 0.029747894303569593, 0.02181512248928437, 0.948272658087236, 0.9729089111796895, 0.9914701341812957, 0.9838976235928627, 0.9516650712223196, 0.9920583032021856, 0.9849832457371245, 0.7252265264017971, 0.13663688178584582, 0.11561582304956185, 0.01576579405221298, 0.9795040239475867, 0.9727413205231072, 0.23891877647674728, 0.10618612287855435, 0.6459655808445389, 0.990713603301247, 0.9470970851935608, 0.9619773892623874, 0.9234363957350139, 0.4244549570441558, 0.020125019515024628, 0.08781826697465292, 0.08964781420329153, 0.10794328648967755, 0.05671596408779668, 0.10611373926103895, 0.01463637782910882, 0.08232962528873712, 0.0054886416859158075, 0.15701619762589675, 0.025325193165467216, 0.12662596582733607, 0.010130077266186886, 0.06584550223021476, 0.040520309064747545, 0.06078046359712132, 0.10130077266186886, 0.025325193165467216, 0.09117069539568198, 0.2937722407194197, 0.9586771981310763, 0.22932005362777355, 0.036317655551909835, 0.02386588793411218, 0.4524142234466482, 0.010376473014831382, 0.02386588793411218, 0.17017415744323466, 0.02282824063262904, 0.030091771743011007, 0.23422491402689252, 0.1626277787348293, 0.1469445967184726, 0.12751108856776974, 0.0006818774789720307, 0.04534485235164004, 0.11148696781192702, 0.05693676949416456, 0.10432725428272069, 0.009887223445094444, 0.937539011635114, 0.9428031418817822, 0.04532707412893183, 0.9817755877615855, 0.986185427488414, 0.9633454909278711, 0.9167872277665919, 0.900277295377736, 0.10533321051321032, 0.8727608871094569, 0.019334645978089246, 0.05800393793426773, 0.9087283609701945, 0.9304803050996837, 0.09892889762508855, 0.005496049868060475, 0.08244074802090713, 0.11541704722926999, 0.24182619419466092, 0.17037754590987475, 0.02748024934030238, 0.0439683989444838, 0.21984199472241903, 0.9344850166625479, 0.9736791908133473, 0.11767308453958579, 0.8367863789481655, 0.026149574342130173, 0.9871262351098208, 0.9870258973182334, 0.9862855239664517, 0.923864179376765, 0.07106647533667423, 0.9737091156022376, 0.8376334519409712, 0.14844137123004553, 0.9690667022940018, 0.9766423732235865, 0.4948930860267488, 0.054988120669638756, 0.08706452439359469, 0.3574227843526519, 0.17631917149890663, 0.822822800328231, 0.9490893473729909, 0.04253405039818058, 0.9357491087599727, 0.9533610222839344, 0.20118029411259788, 0.7886267529213837, 0.9445818534744933, 0.04596701728623449, 0.1498924476725038, 0.17987093720700453, 0.03197705550346747, 0.003997131937933434, 0.03997131937933434, 0.015988527751733737, 0.09593116651040243, 0.3697347042588427, 0.061955545037968233, 0.9255306934509149, 0.9508151348914762, 0.3940046469749548, 0.5966356082763601, 0.9830947185544058, 0.03769767257140284, 0.7728022877137584, 0.18848836285701423, 0.9417242576694677, 0.9839938378099923, 0.9829968580892072, 0.9707626248866246, 0.9615711659350796, 0.9673866626171707, 0.9931758331106357, 0.1966999514891512, 0.0379180629376677, 0.07346624694173118, 0.011849394668021157, 0.1279734624146285, 0.2583168037628612, 0.12560358348102427, 0.0450276997384804, 0.06398673120731425, 0.04976745760568886, 0.009479515734416926, 0.20743172859989992, 0.06914390953329998, 0.7190966591463197, 0.07170798180555832, 0.013279255889918207, 0.0770196841615256, 0.11154574947531294, 0.013279255889918207, 0.10357819594136201, 0.281520224866266, 0.061084577093623756, 0.16731862421296942, 0.08764308887346017, 0.010623404711934566, 0.025283223595955237, 0.02022657887676419, 0.030339868315146283, 0.18709585461006875, 0.05562309191110152, 0.106189539103012, 0.16686927573330457, 0.3387951961858002, 0.050566447191910474, 0.02022657887676419, 0.03294800219809547, 0.20354543580156756, 0.051984625690328405, 0.13838160923200096, 0.024161868278603345, 0.13325636444563058, 0.0014643556532486874, 0.030019290891598095, 0.2621196619315151, 0.014643556532486876, 0.06223511526306922, 0.03660889133121719, 0.008053956092867782, 0.38120916337997907, 0.6064691235590576, 0.8828027972423262, 0.9186544691924556, 0.08380684749357988, 0.8939397065981854, 0.09469623135571786, 0.08680487874274137, 0.09469623135571786, 0.22095787316334167, 0.0631308209038119, 0.007891352612976488, 0.044717664806866765, 0.015782705225952976, 0.03682631219389028, 0.010521803483968651, 0.10521803483968652, 0.1341529944206003, 0.08154397700075705, 0.9920804436140256, 0.9521526715803611, 0.019749568022197947, 0.9479792650655013, 0.9408861803465643, 0.9581868071788301, 0.9712972017356011, 0.9678577484413494, 0.9818304351256614, 0.2202313997372459, 0.09249718788964327, 0.052855535936939015, 0.06606941992117377, 0.028630081965841967, 0.03964165195270426, 0.002202313997372459, 0.055057849934311474, 0.11672264186074031, 0.07708098990803607, 0.15856660781081705, 0.08589024589752589, 0.7861858340420633, 0.19654645851051583, 0.9361066586993272, 0.9851565484874728, 0.9595703016576991, 0.9669667704721855, 0.962415180233134, 0.1616279138574116, 0.15687415168513477, 0.07843707584256739, 0.40644666572966737, 0.06417578932573696, 0.01188440543069203, 0.10933652996236666, 0.01663816760296884, 0.9028496718359362, 0.9028496718359362, 0.31120775326425115, 0.0594955998887539, 0.03661267685461778, 0.34782043011886893, 0.22425264573453393, 0.01830633842730889, 0.9502927304335251, 0.14099611699903444, 0.1356145858158652, 0.11839368602972357, 0.05273900559505868, 0.0871808051673419, 0.060273149251495635, 0.008610449893070806, 0.040899636992086326, 0.08395188645744035, 0.07749404903763725, 0.0010763062366338507, 0.06457837419803104, 0.05273900559505868, 0.07318882409110185, 0.9847983276297296, 0.8349533859023637, 0.13077583152687625, 0.0201193586964425, 0.00538164984489183, 0.9245674433524163, 0.00538164984489183, 0.06350346816972359, 0.9699403146270508, 0.9516537501495138, 0.21399488330855718, 0.7736738088847837, 0.9830624077809713, 0.9627040825291807, 0.03348535939231933, 0.976542869871509, 0.2343148763527366, 0.13709912978085653, 0.34897960307854387, 0.004985422901122055, 0.07976676641795288, 0.17448980153927193, 0.02243440305504925, 0.9849851856852773, 0.974480601053822, 0.18995263465165727, 0.05698579039549718, 0.29442658371006875, 0.44638869143139454, 0.9466324964537405, 0.9609899552834522, 0.9502927301179303, 0.9671839429154852, 0.27162777656778603, 0.11717276636257436, 0.6107186610412967, 0.9733831525742149, 0.9740283961034436, 0.9855330611565503, 0.8454439112803332, 0.14603122103933028, 0.9328974499000656, 0.04997664910178923, 0.07450145893398732, 0.10110912283898278, 0.07450145893398732, 0.4629733519469212, 0.28736277017395107, 0.9719235358577788, 0.399407446149169, 0.26431375112812655, 0.1997037230745845, 0.13509369502104246, 0.9841277555737732, 0.06441969711233177, 0.923348991943422, 0.9819554349394267, 0.9778345887012537, 0.704147031029848, 0.0074909258620196595, 0.28465518275674706, 0.7184776001016898, 0.008604522156906465, 0.025813566470719394, 0.24092662039338103, 0.8939387314147262, 0.10158394675167343, 0.4741307116824233, 0.5192860175569398, 0.2309026697075496, 0.24056836285809818, 0.04725449984712643, 0.015035522678631136, 0.07195571567630615, 0.008591727244932078, 0.12458004505151514, 0.12135814733466561, 0.018257420395480665, 0.0644379543369906, 0.019331386301097177, 0.013961556773014628, 0.023627249923563215, 0.9705348299310903, 0.9928009128119599, 0.8024399350140854, 0.17386198591971852, 0.020060998375352135, 0.14608368739723124, 0.3408619372602062, 0.48694562465743746, 0.018260460924653905, 0.9749194928315121, 0.9493090784788503, 0.9200457131095409, 0.9684948443507669, 0.9833305935431387, 0.9407482504228014, 0.025267332815454346, 0.9601586469872652, 0.04095195329289898, 0.058868432858542284, 0.007678491242418558, 0.10110013469184435, 0.11389762009587528, 0.4453524920602764, 0.012797485404030931, 0.005118994161612373, 0.15996856755038663, 0.05374943869692991, 0.93249126668864, 0.93249126668864, 0.9697755160702154, 0.9915076587001793, 0.036437140640002405, 0.05829942502400385, 0.7311719555093816, 0.11902799275734119, 0.002429142709333494, 0.021862284384001444, 0.017003998965334458, 0.009716570837333975, 0.10087308029266397, 0.05323857015446153, 0.17932992052029148, 0.18353296553248583, 0.032223345093489876, 0.005604060016259109, 0.0014010150040647772, 0.15971571046338462, 0.12048729034957084, 0.11208120032518218, 0.03502537510161943, 0.016812180048777325, 0.9581861145232705, 0.11423915025279312, 0.11423915025279312, 0.01903985837546552, 0.7425544766431552, 0.9015827132838029, 0.0901582713283803, 0.944232073728811, 0.04905101681708109, 0.010138182683028827, 0.21121213922976723, 0.010138182683028827, 0.18586668252219518, 0.013517576910705103, 0.19262547097754773, 0.10645091817180269, 0.17741819695300448, 0.02196606247989579, 0.06927758166736366, 0.9782540732029591, 0.9918946824977141, 0.9893074810297048, 0.8190838336058373, 0.17019923815186228, 0.946948503047551, 0.9574245641381088, 0.8369006810431215, 0.14245117975202068, 0.9818656673907616, 0.06942105582795649, 0.04462782160368632, 0.1123959951500248, 0.05950376213824842, 0.011570175971326082, 0.0033057645632360235, 0.3818158070537607, 0.0280989987875062, 0.061156644419866436, 0.014875940534562105, 0.04462782160368632, 0.05785087985663041, 0.0016528822816180117, 0.03305764563236024, 0.061156644419866436, 0.011570175971326082, 0.9796548024711884, 0.9764226797043798, 0.5614296274304652, 0.42393665744749415, 0.20912564065066708, 0.035704377672065114, 0.15301876145170762, 0.12751563454308967, 0.05355656650809767, 0.05355656650809767, 0.015301876145170762, 0.11986469647050431, 0.05610687919895946, 0.17342126297860197, 0.9816580988380443, 0.07299284149631174, 0.1355581342074361, 0.0291971365985247, 0.2752872879289472, 0.016684078056299827, 0.025026117084449743, 0.025026117084449743, 0.0875914097955741, 0.06465080246816184, 0.006256529271112436, 0.022940607327412262, 0.16684078056299828, 0.0291971365985247, 0.022940607327412262, 0.020855097570374785, 0.01881696683853352, 0.3031622435097067, 0.18816966838533522, 0.0710863191677933, 0.07526786735413409, 0.08572173781998604, 0.08154018963364526, 0.15680805698777936, 0.01881696683853352, 0.663387623719713, 0.0871604177149988, 0.024211227143055222, 0.22274328971610804, 0.9803517243788987, 0.07307085057380007, 0.9255641072681342, 0.9755108553228042, 0.0031294041422014573, 0.04068225384861895, 0.15647020711007287, 0.009388212426604372, 0.7604452065549542, 0.02503523313761166, 0.06782963373262905, 0.8252605437469869, 0.10174445059894359, 0.19583123951716677, 0.1382338161297648, 0.4262209330667747, 0.08639613508110298, 0.11519484677480399, 0.0345584540324412, 0.20194777368858707, 0.6282819625867153, 0.15707049064667883, 0.11989305787111659, 0.1700444023400804, 0.022724827962499222, 0.059554721556894515, 0.008619762330603154, 0.014888680389223629, 0.18023139418533868, 0.001567229514655119, 0.022724827962499222, 0.12224390214309927, 0.14575234486292607, 0.021941213205171665, 0.08071232000473862, 0.007052532815948035, 0.0007836147573275595, 0.021157598447844105, 0.0364129190915006, 0.1456516763660024, 0.8010842200130132, 0.9750991714852935, 0.9205919289774632, 0.9701024085049041, 0.026279886580522507, 0.9110360681247802, 0.06131973535455252, 0.05009789696866297, 0.8683635474568249, 0.07932167020038304, 0.033157560683473815, 0.895254138453793, 0.06631512136694763, 0.04102830261063339, 0.9436509600445678, 0.1839048799040099, 0.1751475046704856, 0.26021914979615, 0.04128476895804303, 0.10133534198792381, 0.03502950093409712, 0.013761589652681011, 0.03377844732930794, 0.10133534198792381, 0.011259482443102646, 0.01751475046704856, 0.023770018490994475, 0.0012510536047891827, 0.988701624957294, 0.9303808127667927, 0.10633681532543167, 0.8506945226034534, 0.033791726425525206, 0.09369524145259263, 0.11980703005413483, 0.08755129119340622, 0.3133414632185065, 0.021503825907152406, 0.07372740311023682, 0.08755129119340622, 0.15206276891486345, 0.0030719751295932005, 0.012287900518372802, 0.9384708842012902, 0.9962133816068793, 0.9711332181136901, 0.942370956165554, 0.06709917544232695, 0.017893113451287187, 0.6083658573437644, 0.08051901053079234, 0.026839670176930782, 0.004473278362821797, 0.026839670176930782, 0.11630523743336672, 0.008946556725643593, 0.04025950526539617, 0.9695484830393118, 0.15543721290701076, 0.7206634416597771, 0.04239196715645748, 0.0706532785940958, 0.973730265346376, 0.028616405313310642, 0.035770506641638306, 0.5580199036095576, 0.09300331726825958, 0.06438691195494894, 0.057232810626621285, 0.035770506641638306, 0.050078709298293625, 0.07869511461160426, 0.6450439162863537, 0.01954678534201072, 0.03909357068402144, 0.22478803143312326, 0.05864035602603216, 0.9292424593629574, 0.10277195558313386, 0.8838388180149512, 0.9876715559606257, 0.09401465621095173, 0.00972565409078811, 0.048628270453940546, 0.06807957863551677, 0.7780523272630487, 0.3197574578940662, 0.11016853591308162, 0.13703891052602837, 0.40574265665549575, 0.026870374612946737, 0.9560681055284932, 0.029877128297765412, 0.06505267401471213, 0.18474959420178244, 0.07285899489647758, 0.020816855684707883, 0.07285899489647758, 0.5776677452506437, 0.0026021069605884854, 0.9902842534936613, 0.9886536306499227, 0.9595649720021495, 0.039452842453293134, 0.13589312400578746, 0.6706983217059833, 0.013150947484431045, 0.07013838658363224, 0.05260378993772418, 0.00876729832295403, 0.13431290079563712, 0.016559124755626493, 0.1251133870425113, 0.2888647318481511, 0.11591387328938546, 0.020238930256876828, 0.07727591552625697, 0.04415766601500398, 0.06807640177313114, 0.06991630452375631, 0.00919951375312583, 0.020238930256876828, 0.005519708251875498, 0.1437745037181431, 0.13434666740875667, 0.43368047023177586, 0.025926549850812688, 0.04242526339223895, 0.07542269047509145, 0.1437745037181431, 0.1338119896564409, 0.06807978421117168, 0.3779601813102979, 0.02817094519082966, 0.1338119896564409, 0.051646732849854375, 0.20423935263351503, 0.008948664267018423, 0.07233503615839892, 0.0067114982002638175, 0.02684599280105527, 0.0037286101112576765, 0.011931552356024566, 0.21402222038619062, 0.011185830333773029, 0.6189492784687743, 0.007457220222515353, 0.017897328534036847, 0.9781888777079023, 0.9748793683984606, 0.9765373378349165, 0.9693773225586896, 0.96062626396867, 0.28364007694793425, 0.5730687268948059, 0.10419431398087381, 0.0347314379936246, 0.31258712480240547, 0.029770202362133857, 0.6549444519669448, 0.915085761027776, 0.08700463100738566, 0.6699356587568696, 0.23491250371994127, 0.025108351207345486, 0.9708562466840255, 0.17776646415014938, 0.01422131713201195, 0.14932382988612547, 0.0284426342640239, 0.280871013357236, 0.2026537691311703, 0.0284426342640239, 0.0035553292830029877, 0.06044059781105079, 0.05332993924504482, 0.23668958683206548, 0.11177008267069759, 0.055885041335348794, 0.10848272729803002, 0.17751719012404912, 0.22682752071406276, 0.009862066118002728, 0.003287355372667576, 0.03944826447201091, 0.02629884298134061, 0.9684034694035465, 0.03955072378738607, 0.05053703595054886, 0.6723623043855631, 0.015380837028427914, 0.059326085681079097, 0.14501932055374891, 0.017578099461060474, 0.9099434099141809, 0.9671839429154852, 0.21530369617216877, 0.137794365550188, 0.040190023285471506, 0.00861214784688675, 0.16363080909084826, 0.04306073923443376, 0.29855445869207403, 0.048802171132358255, 0.020095011642735753, 0.022965727591698, 0.9234363957350139, 0.9877035915337679, 0.00845952555346515, 0.7698168253653286, 0.2199476643900939, 0.07728962056028744, 0.027278689609513216, 0.03637158614601762, 0.7228852746521002, 0.13184699977931388, 0.5865665889943946, 0.10138187957927809, 0.08689875392509551, 0.02896625130836517, 0.03620781413545646, 0.15569360078246278, 0.0054523292151377415, 0.04798049709321212, 0.12976543532027826, 0.009814192587247935, 0.16247941061110469, 0.0316235094477989, 0.12213217441908542, 0.10795611845972729, 0.16684127398321488, 0.04689003125018458, 0.12540357194816806, 0.014176055959358128, 0.01308559011633058, 0.015266521802385677, 0.9838001621803193, 0.9725907515455195, 0.01721399560257557, 0.9892362339421991, 0.0007107441911209188, 0.01563637220466021, 0.3631902816627895, 0.018479348969143886, 0.19332241998488991, 0.280033211301642, 0.02203306992474848, 0.02985125602707859, 0.019900837351385724, 0.014925628013539294, 0.02771902345371583, 0.014925628013539294, 0.9632427728464267, 0.9541293458618645, 0.6613396708974907, 0.019840190126924718, 0.2182420913961719, 0.03306698354487453, 0.07274736379872397, 0.9631911952463368, 0.9595686142617367, 0.9452777108608588, 0.06378103242385912, 0.09277241079834053, 0.8349516971850647, 0.9292888824281696, 0.10662088618187908, 0.526440625523028, 0.22323748044330932, 0.05331044309093954, 0.08996137271596047, 0.9816089701491929, 0.9817690780949387, 0.6988525341737474, 0.04447243399287483, 0.24777498938887407, 0.014525869200676292, 0.9732332364453116, 0.9643475056026966, 0.24074646082721116, 0.7523326900850348, 0.09688477288493949, 0.07750781830795159, 0.20022853062887494, 0.12272071232092335, 0.06458984858995966, 0.1291796971799193, 0.04521289401297176, 0.006458984858995966, 0.2454414246418467, 0.15213576147981642, 0.7099668869058099, 0.12677980123318033, 0.006338990061659017, 0.9234363957350139, 0.7557835267720241, 0.24143084882995214, 0.9416436337471726, 0.015868921810462226, 0.04760676543138668, 0.8965940822911158, 0.03570507407354001, 0.9329284519294455, 0.9395021206374555, 0.061829114605444276, 0.04699012710013765, 0.38828683972219, 0.004946329168435542, 0.11623873545823524, 0.061829114605444276, 0.09892658336871084, 0.09645341878449307, 0.02720481042639548, 0.03462430417904879, 0.06430227918966204, 0.9274608952342486, 0.06072326966973234, 0.01012054494495539, 0.6426546040046673, 0.02024108988991078, 0.14674790170185317, 0.050602724724776955, 0.03036163483486617, 0.03542190730734387, 0.9502619481811704, 0.03597557930201855, 0.05995929883669759, 0.13490842238256956, 0.06895319366220222, 0.06295726377853246, 0.14090435226623932, 0.04796743906935807, 0.06595522872036734, 0.1588921419172486, 0.011991859767339517, 0.21285551087027643, 0.9159058688272225, 0.9184535898085185, 0.11344331397703145, 0.8184124794057268, 0.05672165698851572, 0.9531562181840515, 0.041441574703654414, 0.9947288377560966, 0.1264697441531375, 0.10988354819862767, 0.22806019437451025, 0.06427150932372562, 0.033172391909019674, 0.04353876438058832, 0.029025842920392213, 0.024879293931764756, 0.23428001785745145, 0.03939221539196086, 0.06634478381803935, 0.9872131635898839, 0.01464644235312063, 0.4223057545149782, 0.21237341412024915, 0.05858576941248252, 0.07323221176560316, 0.11717153882496505, 0.048821474510402106, 0.05126254823592221, 0.8907695350582316, 0.09897439278424795, 0.03254997403042038, 0.1001537662474473, 0.0575884155922822, 0.11267298702837822, 0.03505381818660656, 0.03004612987423419, 0.03755766234279274, 0.2729190130242939, 0.12268836365312294, 0.01752690909330328, 0.015023064937117095, 0.042565350655165105, 0.06760379221702693, 0.0575884155922822, 0.9837978836048231, 0.025575432628607026, 0.94629100725846, 0.9929831388909639, 0.9534260835369704, 0.9730560477185829, 0.04497521993511481, 0.07067534561232326, 0.04176270422546375, 0.009637547128953173, 0.6617782361881179, 0.05782528277371904, 0.05140025135441692, 0.0610377984833701, 0.9733830029607096, 0.975062198027122, 0.9690210884242453, 0.3653760632482595, 0.13595388399935238, 0.5013299472476118, 0.9664705121398801, 0.9812475293342208, 0.9917660684382835, 0.9797186939569856, 0.9523724104694625, 0.9856254503568245, 0.06304604111041541, 0.13626079852896233, 0.2023574545318172, 0.181003150284741, 0.05084358154065759, 0.03355676381683401, 0.004067486523252607, 0.07728224394179953, 0.03253989218602086, 0.12507521059001767, 0.015253074462197277, 0.03965799360171292, 0.019320560985449882, 0.019320560985449882, 0.9529188270376583, 0.1902811182713862, 0.784909612869468, 0.9708131090514655, 0.9665032513426818, 0.9671839429154852, 0.8481425343659487, 0.06425322230045065, 0.08995451122063092, 0.9811494008922946, 0.9481893902958779, 0.9880632881510917, 0.23340293871462198, 0.700208816143866, 0.016805011587452783, 0.04948142300749986, 0.9493761663006085, 0.9588202817305762, 0.17411200882345088, 0.047832969456991996, 0.12627903936645887, 0.05548624457011072, 0.05165960701355136, 0.030613100452474878, 0.02678646289591552, 0.0382663755655936, 0.0019133187782796799, 0.06887947601806847, 0.02295982533935616, 0.02295982533935616, 0.143498908370976, 0.19133187782796798, 0.248731459998871, 0.05685290514259909, 0.32335089799853234, 0.044416332142655536, 0.008883266428531107, 0.08350270442819241, 0.1154824635709044, 0.03553306571412443, 0.02309649271418088, 0.03375641242841821, 0.024873145999887103, 0.9613907045368045, 0.93249126668864, 0.9700055129177336, 0.9461337793618598, 0.9429993852577562, 0.6151431633633485, 0.09227147450450228, 0.04613573725225114, 0.06664050936436276, 0.1025238605605581, 0.01025238605605581, 0.061514316336334855, 0.008250982729140136, 0.13820396071309726, 0.12376474093710203, 0.018564711140565304, 0.02681569386970544, 0.3486040203061707, 0.21658829663992857, 0.008250982729140136, 0.04331765932798571, 0.04538040501027075, 0.018564711140565304, 0.9758505631786967, 0.1196695478913263, 0.8024899093888941, 0.07039385170078018, 0.13589386226431477, 0.03640014167794145, 0.6818959874334365, 0.14317389059990304, 0.0803532291367002, 0.06535395969784949, 0.12106553189929496, 0.10392350968346559, 0.0535688194244668, 0.014999269438850703, 0.2657013443453553, 0.017142022215829375, 0.08571011107914688, 0.0267844097122334, 0.017142022215829375, 0.0267844097122334, 0.05999707775540281, 0.001071376388489336, 0.0385695499856161, 0.006428258330936016, 0.01071376388489336, 0.001071376388489336, 0.954372391272982, 0.7852372868252445, 0.20832825976996283, 0.9568953624720149, 0.10859839297476173, 0.030505166565944306, 0.0012202066626377723, 0.412429851971567, 0.058569919806613066, 0.3868055120561738, 0.0012202066626377723, 0.09846324786591767, 0.8861692307932592, 0.865172684237635, 0.10550886393141891, 0.967330530904855, 0.028554384548067243, 0.31755936754971753, 0.0034611375209778476, 0.556377856497189, 0.02682381578757832, 0.036341943970267396, 0.00951812818268908, 0.019901540745622625, 0.9903481811033636, 0.17026624685032601, 0.8134942905071131, 0.02575113398369707, 0.03576546386624593, 0.1187413400359365, 0.1072963915987378, 0.37339144276360753, 0.08011463906039089, 0.03576546386624593, 0.041487938084845286, 0.08726773183364007, 0.004291855663949512, 0.06723907206854235, 0.02145927831974756, 0.31833188104235, 0.0299774417125083, 0.15559719746016212, 0.18557463917267042, 0.08850482791311974, 0.009992480570836099, 0.08564983346430942, 0.01570246946845673, 0.03425993338572377, 0.07565735289347332, 0.8235825632144546, 0.05719323355655934, 0.03431594013393561, 0.08388340921628704, 0.23870987980024147, 0.759893117364102, 0.9639160461781763, 0.0075761607447636095, 0.5612672418412374, 0.06376601960176038, 0.33398241949832913, 0.0018940401861909024, 0.030304642979054438, 0.9758471306480208, 0.002617782373993955, 0.13874246582167962, 0.2513071079034197, 0.07329790647183074, 0.12303577157771589, 0.35340062048918397, 0.02094225899195164, 0.03141338848792746, 0.9575160662221478, 0.08829436025452372, 0.002894897057525368, 0.053555595564219315, 0.8467573893261702, 0.007237242643813421, 0.16635356310044272, 0.8080030207735789, 0.011882397364317336, 0.30916221198495436, 0.6772124643479952, 0.9422669389865594, 0.05561440617964516, 0.9600896610689705, 0.04203615234944648, 0.12143777345395651, 0.01868273437753177, 0.808028261828249, 0.3622389297343174, 0.09545485310566472, 0.002447560336042685, 0.03916096537668296, 0.03916096537668296, 0.132168258146305, 0.07587437041732324, 0.07832193075336592, 0.017132922352298796, 0.06363656873710982, 0.02202804302438417, 0.01958048268834148, 0.04895120672085371, 0.1440972923459265, 0.008476311314466264, 0.22320953128094495, 0.14692272945074858, 0.0480324307819755, 0.05368330499161967, 0.1864788489182578, 0.08193767603984055, 0.02825437104822088, 0.008476311314466264, 0.002825437104822088, 0.062159616306085935, 0.9910640172180974, 0.02841303930861532, 0.5576058964315757, 0.02841303930861532, 0.03906792904934606, 0.010654889740730745, 0.07813585809869213, 0.21309779481461488, 0.03906792904934606, 0.003551629913576915, 0.9969297979841208, 0.9428031755361851, 0.16956997220044914, 0.018841108022272127, 0.6594387807795244, 0.14444849483741964, 0.9673866626171707, 0.9557536529059973], \"Term\": [\"Bel\", \"Belgisch\", \"Belgisch\", \"Belgisch\", \"Belgisch\", \"Belgisch\", \"Belgisch\", \"Belgisch\", \"Belgisch\", \"Belgisch\", \"Belgisch\", \"Belgisch\", \"Brussels\", \"Brussels\", \"Brussels\", \"Coordinatie\", \"Coronavirus\", \"Coronavirus\", \"Coronavirus\", \"Coronavirus\", \"Coronavirus\", \"Coronavirus\", \"Frans\", \"Frans\", \"Frans\", \"Frans\", \"Lidstaat\", \"Luxemburg\", \"Paragraaf\", \"Paragraaf\", \"Paragraaf\", \"Paragraaf\", \"Paragraaf\", \"Parlement\", \"Sexies\", \"Vlaams\", \"Vlaams\", \"Vlaams\", \"Vlaams\", \"Volledige_adres\", \"Waals\", \"Waals\", \"Waals\", \"Waals\", \"Woonplaats\", \"Woonplaats\", \"aan_gereken\", \"aan_kopen\", \"aan_nemen\", \"aan_nemen\", \"aan_nemen\", \"aan_nemen\", \"aan_nemen\", \"aan_nemen\", \"aan_nemen\", \"aan_nemen\", \"aan_nemen\", \"aan_nemen\", \"aan_nemen\", \"aan_neming_vergadering\", \"aan_vullen\", \"aan_vullen\", \"aan_vullen\", \"aan_vullen\", \"aan_vullen\", \"aan_vullen\", \"aan_vullen\", \"aan_vullen\", \"aan_vullen\", \"aan_vullen\", \"aan_vullen\", \"aan_vullen\", \"aandeel\", \"aandeel\", \"aangeduide_agentschappen\", \"aangekocht_geleased\", \"aangekocht_geleased\", \"aangelegenheden_ruimtelijk\", \"aangelegenheid\", \"aangelegenheid\", \"aangelegenheid\", \"aangelegenheid\", \"aangelegenheid\", \"aangelegenheid\", \"aangelegenheid\", \"aangelegenheid\", \"aangelegenheid\", \"aangemerken\", \"aangesloten\", \"aangeslotenen\", \"aangetekende_brief\", \"aangetekende_brief\", \"aangeven\", \"aangift\", \"aangifte\", \"aangifte\", \"aangifte\", \"aanhef\", \"aanmerking\", \"aanmerking\", \"aanmerking\", \"aanmerking\", \"aanmerking\", \"aanmerking\", \"aanneming_vergadering\", \"aanraking\", \"aanslagjaar\", \"aanslagjaar\", \"aansprakelijk\", \"aantal\", \"aantal\", \"aantal\", \"aantal\", \"aantal\", \"aantal\", \"aantal\", \"aantal\", \"aantal\", \"aantal\", \"aantal\", \"aantal\", \"aantal\", \"aantal\", \"aanvraag\", \"aanvraag\", \"aanvraag\", \"aanvraag\", \"aanvraag\", \"aanvraag\", \"aanvraag\", \"aanvraag\", \"aanvraag\", \"aanvrag\", \"aanvrag\", \"aanvrag\", \"aanvrag\", \"aanvrag\", \"aanvrag\", \"aanvragen\", \"aanvrager\", \"aanvrager\", \"aanvullende_crisisuitkering\", \"aanwezig\", \"aanwezig\", \"aanwezig\", \"aanwezig\", \"aanwezig\", \"aanwezig\", \"absatz\", \"academisch\", \"accountant\", \"actieplan\", \"activeringen\", \"activiteit\", \"activiteit\", \"activiteit\", \"activiteit\", \"activiteit\", \"activiteit\", \"activiteit\", \"activiteit\", \"activiteit\", \"activiteit\", \"activiteit\", \"activiteit\", \"activiteit\", \"adjunct_directeur\", \"administratie\", \"administratie\", \"administratie\", \"administratie\", \"administratie\", \"administratie\", \"administratie\", \"administratie\", \"administratie\", \"adres\", \"adres\", \"adres\", \"adres\", \"adres\", \"adv_rvs\", \"advers\", \"adviesaanvraag\", \"adviesaanvraag\", \"adviesaanvraag\", \"adviesaanvraag\", \"adviesverlening\", \"adviseur_generaal\", \"af_bevelen\", \"afbouw\", \"afdeling\", \"afdeling\", \"afdeling\", \"afdeling\", \"afdeling\", \"afdeling\", \"afdeling\", \"afdeling\", \"afdeling\", \"afdeling\", \"afdeling\", \"afdeling_verpleegkunde\", \"afdeling_wetgeving\", \"afdeling_wetgeving\", \"afgevaardigen\", \"afgevaardigen\", \"afgevaardigen\", \"afnamecentrum\", \"afnemer\", \"afschrijving\", \"afstand\", \"afstand\", \"afstand\", \"afstand\", \"afstand\", \"afstand\", \"afstandsverkoop\", \"aftrekbaar\", \"afval\", \"afval_stof\", \"afval_stof\", \"afwezigheden\", \"afwijking\", \"afwijking\", \"afwijking\", \"afwijking\", \"afwijking\", \"afwijking\", \"afwijking\", \"afwijking\", \"afwijking\", \"afwijking\", \"afwijking\", \"afzender\", \"agentschap\", \"agentschap\", \"agentschap\", \"agenturen\", \"akkoord\", \"akkoord\", \"akkoord\", \"akkoord\", \"akkoord\", \"akkoord\", \"akkoord\", \"akkoord\", \"algemeen_reglement\", \"algemene_directie\", \"algemene_directie\", \"algemene_directie\", \"allen_tijde\", \"ambt\", \"ambt\", \"ambtenaar\", \"ambtenaar\", \"ambtenaar\", \"ambtenaar\", \"ambtenaar\", \"ambtenaar\", \"ambtenaar\", \"ambtenaar\", \"ambtenaar_uitgeoefend\", \"ambtenarenza\", \"ambtenarenzaken\", \"ambulanced_ienst\", \"and_ersluiden\", \"apotheker\", \"application\", \"arbeider\", \"arbeider\", \"arbeidsart\", \"arbeidsarts\", \"arbeidsduur\", \"arbeidsrecht\", \"arbiter\", \"arts\", \"arts\", \"arts\", \"artsen_specialisten\", \"aso\", \"attach\", \"attest\", \"attest\", \"attest\", \"attest\", \"attest\", \"attest\", \"auf\", \"authentieke_bronn\", \"automatisch\", \"automatisch\", \"automatisch\", \"automatisch\", \"automatisch\", \"automatisch\", \"bachelor_specialisatie\", \"base\", \"baseren\", \"baseren\", \"baseren\", \"baseren\", \"baseren\", \"baseren\", \"basis\", \"basis\", \"basis\", \"basis\", \"basis\", \"basis\", \"basis\", \"basis\", \"basis\", \"basis\", \"basis\", \"basis\", \"basis\", \"basis\", \"basis\", \"bedrag\", \"bedrag\", \"bedrag\", \"bedrag\", \"bedrag\", \"bedrag\", \"bedrag\", \"bedrag\", \"bedrag\", \"bedrag\", \"bedrag\", \"bedragen\", \"bedragen\", \"bedragen\", \"bedragen\", \"bedragen\", \"bedragen\", \"bedragen\", \"bedragen\", \"bedragen\", \"bedrijf\", \"bedrijf\", \"bedrijf\", \"bedrijfstoeslag\", \"beeindigen\", \"beeindigen\", \"beginsel\", \"beginsel\", \"beginsel\", \"beginsel\", \"beginsel\", \"begroting\", \"begroting\", \"begroting\", \"begroting\", \"begroting\", \"begroting\", \"begroting\", \"begroting\", \"begrotingsjaar\", \"begrotingsjaar\", \"begrotingsjaar\", \"begunstigen\", \"begunstigen\", \"behalen\", \"behoren\", \"behoren\", \"behoren\", \"behoren\", \"behoren\", \"behoren\", \"behoren\", \"behoren\", \"behoren\", \"behoren\", \"behulp\", \"bekend_maken\", \"bekend_maken\", \"bekend_maken\", \"bekend_maken\", \"bekend_maken\", \"bekend_maken\", \"bekrachtigen\", \"bekrachtigen\", \"bekrachtigen\", \"bekrachtigen\", \"bekrachtigen\", \"bekrachtigen\", \"bekrachtigen\", \"bekrachtigen\", \"bekrachtigen_hetgeen\", \"belasen\", \"belastbaar_tijdperk\", \"belastbare_tijdperk\", \"belastbare_tijdperken\", \"belasten\", \"belasten\", \"belasten\", \"belasten\", \"belasten\", \"belasten\", \"belasten\", \"belasten\", \"belasten\", \"belasten\", \"belasten\", \"belasten\", \"belasten\", \"belasting\", \"belasting\", \"belasting\", \"belasting\", \"belasting\", \"belastingexpren\", \"belastingjaar\", \"beleidsdomeinen\", \"belgisch_staatsblad\", \"belgisch_staatsblad\", \"belgisch_staatsblad\", \"belgisch_staatsblad\", \"belgisch_staatsblad\", \"belgisch_staatsblad\", \"belgisch_staatsblad\", \"belgisch_staatsblad\", \"belgisch_staatsblad\", \"belgisch_staatsblad\", \"belgisch_staatsblad\", \"benoemen\", \"beoefijnen\", \"bepaallen\", \"beperken\", \"beperken\", \"beperken\", \"beperken\", \"beperken\", \"beperken\", \"beperken\", \"beperken\", \"beperken\", \"beperken\", \"beperken\", \"beperken\", \"beperken\", \"bergen\", \"bericht\", \"berichten_kennisgeving\", \"bero_epsziekt\", \"beroepskost\", \"beroepskosten\", \"beroepsziekte\", \"beroepsziekten\", \"beschikbaarheid\", \"beschikking\", \"beslag\", \"beslag\", \"beslagleggende_schuldeisers\", \"beslissing\", \"beslissing\", \"beslissing\", \"beslissing\", \"beslissing\", \"beslissing\", \"beslissing\", \"beslissing\", \"beslissing\", \"beslissing\", \"beslissing\", \"beslissing\", \"beslissing\", \"besluiten\", \"besluiten\", \"besluiten\", \"besluiten\", \"besluiten\", \"besluiten\", \"besluiten\", \"besluiten\", \"besluiten\", \"besluiten\", \"besluiten\", \"besluitwet\", \"besluitwet\", \"besmet\", \"besmet\", \"besmeten\", \"besmeten\", \"besmette\", \"besmetting\", \"besmetting\", \"besmetting\", \"besmetting\", \"bespreking\", \"bespreking\", \"bestaan\", \"bestaan\", \"bestaan\", \"bestaan\", \"bestaan\", \"bestaan\", \"bestaan\", \"bestaan\", \"bestaan\", \"bestaan\", \"bestaan\", \"bestaan\", \"bestemming\", \"bestrijd\", \"betaling\", \"betaling\", \"betaling\", \"betaling\", \"betaling\", \"betaling\", \"betaling\", \"betrekken\", \"betrekken\", \"betrekken\", \"betrekken\", \"betrekken\", \"betrekken\", \"betrekken\", \"betrekken\", \"betrekken\", \"betrekken\", \"betrekken\", \"betrekken\", \"betrekken\", \"betrekken\", \"betrekken\", \"betrekken\", \"betrekken\", \"betrekking\", \"betrekking\", \"betrekking\", \"betrekking\", \"betrekking\", \"betrekking\", \"betrekking\", \"betrekking\", \"betrekking\", \"betrekking\", \"betrekking\", \"betrekking\", \"betrekking\", \"betrekking\", \"betrekking\", \"betrekking\", \"betrekking\", \"betrokkeen\", \"beurs\", \"bevelen\", \"bevoegde_agent\", \"bevoegde_autoriteit\", \"bevoegde_autoriteiten\", \"bevoegdheid\", \"bevoegdheid\", \"bevoegdheid\", \"bevoegdheid\", \"bevoegdheid\", \"bevoegdheid\", \"bevoegdheid\", \"bevoegdheid\", \"bevoegdheid\", \"bevoegdheid\", \"bevoegdheid\", \"bevoegdheid\", \"bevolking\", \"bevolking\", \"bevolking\", \"bevolking\", \"bevolking\", \"bevolking\", \"bevolking\", \"bew\", \"bezetting\", \"bezitten\", \"bezoek\", \"bezoldiging\", \"bezorgen\", \"bezorgen\", \"bezorgen\", \"bezorgen\", \"bezorgen\", \"bezorgen\", \"bezorgen\", \"bibf\", \"bij_komen\", \"bij_komen\", \"bij_komen\", \"bij_komen\", \"bij_komen\", \"bij_komen\", \"bij_komen\", \"bij_komen\", \"bij_komen\", \"bij_komen\", \"bij_komen\", \"bij_komen\", \"bijdrage\", \"bijdrage\", \"bijdrage\", \"bijdrage\", \"bijdrage\", \"bijgevolg\", \"bijgevolg\", \"bijgevolg\", \"bijgevolg\", \"bijgevolg\", \"bijgevolg\", \"bijgevolg\", \"bijlage\", \"bijlage\", \"bijlage\", \"bijlage\", \"bijlage\", \"bijlage\", \"bijlage\", \"bijzonder\", \"bijzonder\", \"bijzonder\", \"bijzonder\", \"bijzonder\", \"bijzonder\", \"bijzonder\", \"bijzonder\", \"bijzonder\", \"bijzonder\", \"bijzonder\", \"bijzonder\", \"bijzonder_stelsel\", \"bijzondere_machten\", \"bijzondere_machten\", \"bijzondere_machten\", \"bijzondere_machten\", \"bijzondere_machten\", \"bijzondere_machtenbesluit\", \"bijzondere_machtenbesluit\", \"binnenlandse_zaken\", \"binnenlandse_zaken\", \"binnenlandse_zaken\", \"bis\", \"bis\", \"bis\", \"bis\", \"bis\", \"bis\", \"bis\", \"bis\", \"bis\", \"bis\", \"blootgesteld_bedreigd\", \"blootstelling\", \"bossen_landelijk\", \"bovendien\", \"bovendien\", \"bovendien\", \"bovendien\", \"bovendien\", \"bovendien\", \"bovendien\", \"bovendien\", \"bovendien\", \"bronopsporing\", \"bruikmaakten\", \"brussel_fiscaliteit\", \"brussels\", \"brussels_hoofdstedelijk\", \"brussels_hoofdstedelijk\", \"brussels_hoofdstedelijk\", \"brusselse_hoofdstedelijk\", \"brusselse_hoofdstedelijk\", \"brusselse_hoofdstedelijk\", \"btw\", \"btw\", \"budget\", \"budget\", \"budget\", \"budget\", \"budget\", \"buitenschoolse_opvang\", \"buitenshuis\", \"burgemeester\", \"burgemeester\", \"buurtdiensten\", \"cafes\", \"categorie\", \"categorie\", \"categorie\", \"categorie\", \"categorie\", \"categorie\", \"categorie\", \"cel\", \"cel\", \"centraal\", \"centraal\", \"centraal\", \"centrum\", \"centrum\", \"centrum\", \"centrum\", \"centrum\", \"centrum\", \"centrum\", \"certificaat\", \"certificaat\", \"citeren\", \"citeren\", \"civiele_bescherming\", \"civiele_noodsituatie\", \"civiele_veiligheid\", \"clarinval\", \"cluster\", \"co\", \"co\", \"cod\", \"cod\", \"code\", \"code\", \"codenummer\", \"codex\", \"codex\", \"codex\", \"codex\", \"codex\", \"codex\", \"collectief\", \"collectief\", \"collectief_ontslag\", \"collectieve_belegging\", \"collectiviteit\", \"collectiviteit\", \"college\", \"college\", \"college\", \"com_municatie_waaronder\", \"commissaris\", \"commissie\", \"commissie\", \"commissie\", \"commissie\", \"commissie\", \"commissie\", \"commissie\", \"commissie\", \"communiceeren\", \"competentie\", \"conferentie_volksgezondheid\", \"conferentie_volksgezondheid\", \"conferentie_volksgezondheid\", \"conseil\", \"constructie\", \"consumptie\", \"contact\", \"contact\", \"contact\", \"contact\", \"contact\", \"contactcentra\", \"contactcentrum\", \"contacteren\", \"contacteren\", \"contactopnaam\", \"contactpersonen\", \"controle\", \"controle\", \"controle\", \"controle\", \"controle\", \"controle\", \"controle\", \"controle\", \"controle\", \"controle\", \"covid\", \"covid\", \"covid\", \"covid\", \"covid\", \"covid\", \"covid\", \"covid\", \"covid\", \"covid\", \"covid\", \"covid\", \"covid\", \"covid\", \"creatief\", \"crisis\", \"crisis\", \"crisis\", \"crisis\", \"crisis\", \"crisis\", \"crisis\", \"crisis\", \"cruciale_sectoar\", \"cruciale_sectoar\", \"cultureel\", \"cultureel\", \"cultureel\", \"cultureel\", \"culturele_feestelijk\", \"cultuur\", \"cursus\", \"daardoor\", \"daaropvolgend\", \"dae_rden\", \"dag\", \"dag\", \"dag\", \"dag\", \"dag\", \"dag\", \"dag\", \"dag\", \"dag\", \"dag\", \"dag\", \"dag\", \"dag\", \"dag\", \"dag\", \"dag\", \"dag\", \"dagopvang\", \"dagverzorging\", \"dass\", \"databank\", \"databank\", \"daten\", \"datum\", \"datum\", \"datum\", \"datum\", \"datum\", \"datum\", \"datum\", \"datum\", \"datum\", \"datum\", \"datum\", \"datum\", \"datum\", \"datum\", \"datum\", \"datum\", \"datum\", \"dco_dz\", \"decreet\", \"decreet\", \"decreet\", \"decreet\", \"decreet\", \"decreet\", \"deelsectoren\", \"degressiviteit\", \"derde_landen\", \"derde_lanen\", \"dergelijk\", \"dergelijk\", \"dergelijk\", \"dergelijk\", \"dergelijk\", \"dergelijk\", \"dergelijk\", \"dergelijk\", \"dergelijk\", \"dergelijk\", \"dergelijk\", \"detail_handel\", \"diees\", \"dienaar\", \"dienen\", \"dienen\", \"dienen\", \"dienen\", \"dienen\", \"dienen\", \"dienen\", \"dienen\", \"dienen\", \"dienen\", \"dienen\", \"dienen\", \"dienen\", \"dienen\", \"dienen\", \"dienen\", \"dienst\", \"dienst\", \"dienst\", \"dienst\", \"dienst\", \"dienst\", \"dienst\", \"dienst\", \"dienst\", \"dienst\", \"dienst\", \"dienst\", \"dienst\", \"dienst\", \"dienst\", \"dienst\", \"dienst\", \"dierenwelzijn_tellier\", \"dieser\", \"digitaal\", \"digitaal\", \"diploma\", \"directeur\", \"directeur\", \"directeur_diensthoofd\", \"discotheek\", \"divers\", \"divers\", \"divers\", \"divers\", \"divers\", \"divers\", \"divers\", \"doeleinde\", \"doeleinde\", \"doen\", \"doen\", \"doen\", \"doen\", \"doen\", \"doen\", \"doen\", \"door_brengen\", \"door_geven\", \"doorslaggeven\", \"douane\", \"dragen\", \"dragen\", \"dragen\", \"dragen\", \"dragen\", \"dragen\", \"dragen\", \"drank\", \"drank\", \"dringend\", \"dringend\", \"dringend\", \"dringend\", \"dringend\", \"dringend\", \"dringend\", \"dringend\", \"dringend\", \"dringend\", \"dringend\", \"dringend\", \"dringend\", \"druk\", \"dubbele_belasting\", \"duitse_taalgebied\", \"duitsland\", \"dwingende_familiaal\", \"echt_genoot\", \"economie\", \"economie\", \"economie\", \"economie\", \"economie\", \"economie\", \"economisch\", \"economisch\", \"economisch\", \"economisch\", \"economisch\", \"economisch\", \"economisch\", \"economisch\", \"economisch\", \"economisch\", \"eengemaakt_europees\", \"eenmalig\", \"eenmalig\", \"eenmalig\", \"eenmalige_premie\", \"einde\", \"einde\", \"einde\", \"einde\", \"einde\", \"einde\", \"einde\", \"einde\", \"einde\", \"einde\", \"einde\", \"einde\", \"einde\", \"eindresultaat\", \"elektriciteit\", \"elektrisch\", \"elektronisch\", \"elektronisch\", \"elektronisch\", \"elektronisch\", \"elektronisch\", \"elektronisch\", \"elektronisch\", \"elektronisch\", \"elektronisch\", \"elektronisch\", \"elektronisch\", \"elektronische_handtekening\", \"engageren\", \"entree\", \"epidemie\", \"epidemie\", \"epidemie\", \"epidemie\", \"epidemie\", \"epidemie\", \"epidemie\", \"epidemie\", \"epidemie\", \"epidemie\", \"epidemische_noodsituatie\", \"erkenning\", \"erkenning\", \"erkenning\", \"erkenning\", \"erkenning\", \"erkenning\", \"erkenning\", \"ervan\", \"ervan\", \"ervan\", \"ervan\", \"ervan\", \"ervan\", \"ervan\", \"ervan\", \"ervan\", \"ervan\", \"ervan\", \"ervan\", \"euro\", \"euro\", \"euro\", \"euro\", \"euro\", \"euro\", \"euro\", \"euro\", \"euro\", \"euro\", \"euro\", \"europese_unie\", \"europese_unie\", \"europese_unie\", \"europese_unie\", \"europese_unie\", \"evaluatie\", \"evaluatie\", \"evaluatie\", \"evaluatie\", \"evalueren\", \"evenement\", \"evenement\", \"evenredigheid\", \"evenwicht\", \"examens\", \"exclusief_btw\", \"exemplaar\", \"exemplaar\", \"exit_strategie\", \"exitstrategie\", \"externe_evaluatie\", \"extra\", \"extra\", \"extra\", \"extra\", \"facturatie\", \"factuur\", \"fagg\", \"faillissement\", \"faillissementen\", \"faillissementen\", \"fase\", \"fase\", \"fase\", \"fase\", \"fase\", \"fase\", \"federaal\", \"federaal\", \"federaal\", \"federaal\", \"federaal\", \"federaal\", \"federaal\", \"federaal\", \"federaal\", \"federaal\", \"federaal\", \"federaal\", \"federaal_openbaar\", \"fedris\", \"fedris\", \"feitelijke_toestand\", \"fictie\", \"filip\", \"filip\", \"financieel\", \"financieel\", \"financieel\", \"financieel\", \"financieel\", \"financieel\", \"financieel\", \"financieel\", \"financieel_gesteund\", \"financiele_tussenkomst\", \"financiering\", \"financiering\", \"financiering\", \"financiering\", \"financiering\", \"financi\\u00ebn\", \"financi\\u00ebn\", \"financi\\u00ebn\", \"financi\\u00ebn\", \"financi\\u00ebn\", \"financi\\u00ebn\", \"financi\\u00ebn\", \"financi\\u00ebn\", \"fiscaal\", \"fiscaal\", \"fiscaal\", \"fiscaal\", \"fiscaal\", \"fiscaal\", \"fiscaal\", \"fiscaliteit\", \"fiscaliteit\", \"formaliteit\", \"franse_gemeenschap\", \"franse_gemeenschap\", \"franse_gemeenschap\", \"franse_gemeenschap\", \"functioneel\", \"functioneel\", \"fur\", \"gaan\", \"gaan\", \"gaan\", \"gaan\", \"gaan\", \"gaan\", \"gaan\", \"gaan\", \"gaan\", \"gaan\", \"gaan\", \"gaan\", \"gaan\", \"gaan\", \"gaan\", \"gaan\", \"gaan\", \"gaan\", \"gas\", \"gebrek\", \"gebrek\", \"gebrek\", \"gebrek\", \"gebrek\", \"gebrek\", \"gebrek\", \"gebrek\", \"gebrek\", \"gebruik\", \"gebruik\", \"gebruik\", \"gebruik\", \"gebruik\", \"gebruik\", \"gebruik\", \"gebruik\", \"gebruik\", \"gebruik\", \"gebruik\", \"gebruik\", \"gebruiken\", \"gebruiken\", \"gebruiken\", \"gebruiken\", \"gebruiken\", \"gebruiken\", \"gebruiken\", \"gebruiken\", \"gebruiken\", \"gebruiken\", \"gebruikmaakt\", \"gecorrigeerd_jaarlijks\", \"gedwongen_invordering\", \"geest\", \"geest\", \"gefedereerde_entiteit\", \"gefedereerde_entiteiten\", \"gefedereerde_entiteiten\", \"gefedereerde_entiteiten\", \"gefedereerde_entiteiten\", \"gegevensbank\", \"gehuurd_voertuig\", \"gehuurd_voertuig\", \"geintegreerde_portefeuille\", \"geldboeten\", \"gelden\", \"gelden\", \"gelden\", \"gelden\", \"gelden\", \"gelden\", \"gelden\", \"gelden\", \"gelden\", \"gelden\", \"gelden\", \"gelden\", \"geldigheidsduur\", \"geldigheidsduur\", \"geleidelijk\", \"geleidelijk\", \"geleverde_goederen\", \"gemachtigd\", \"gemachtigd\", \"gemachtigd\", \"gemachtigde\", \"gemeente\", \"gemeente\", \"gemeente_raad\", \"gemeentelijk\", \"gemeentelijk\", \"gemiddeld\", \"gemiddeld\", \"gemiddeld\", \"gemiddeld\", \"gemiddeld\", \"gemiddeld\", \"genderdimensie\", \"genderdimensie\", \"geneeskund\", \"geneeskundig\", \"geneeskundig\", \"geneeskundige_verzorging\", \"geneeskundige_verzorging\", \"geneesmiddel\", \"geneesmiddel\", \"geneesmiddelen\", \"geneesmiddelen\", \"geneesmiddelen\", \"generaal\", \"generaal\", \"general\", \"gerechtelijke_reorganisatie\", \"geschieden\", \"geschieden\", \"geschieden\", \"geslacht\", \"gespecialiseerd_secundair\", \"gestraft\", \"gesubsidieerd_vrij\", \"getuigschrift\", \"geval\", \"geval\", \"geval\", \"geval\", \"geval\", \"geval\", \"geval\", \"geval\", \"geval\", \"geval\", \"geval\", \"geval\", \"geval\", \"geval\", \"geval\", \"geval\", \"geval\", \"geval\", \"gevolg\", \"gevolg\", \"gevolg\", \"gevolg\", \"gevolg\", \"gevolg\", \"gevolg\", \"gevolg\", \"gevolg\", \"gevolg\", \"gevolg\", \"gevolg\", \"gevolg\", \"gevolg\", \"gewest\", \"gewest\", \"gewest\", \"gewest\", \"gewest\", \"gewest\", \"gewest\", \"gewest\", \"gewest\", \"gewestelijk\", \"gewestelijk\", \"gewestelijk\", \"gewestelijk\", \"gewestelijk\", \"gewestelijk\", \"gewestelijke_beleidslijnen\", \"gewestelijke_beleidslijnen\", \"gewestelijke_incentives\", \"gewist\", \"gezin\", \"gezin\", \"gezin\", \"gezinsbijslag\", \"gezondheid\", \"gezondheid\", \"gezondheid\", \"gezondheid\", \"gezondheid\", \"gezondheid\", \"gezondheid\", \"gezondheids\", \"gobf\", \"golden\", \"gouverneur\", \"graad\", \"graad\", \"graad\", \"greet_verberckmoes\", \"grensarbeider\", \"griffier\", \"groei\", \"groepsopvang\", \"groet\", \"groet\", \"groet\", \"groet\", \"grond_gebied\", \"grond_gebied\", \"grond_gebied\", \"grond_gebied\", \"grond_gebied\", \"grond_gebied\", \"grond_gebied\", \"grond_gebied\", \"grond_gebied\", \"grond_gebied\", \"grond_gebied\", \"grond_wet\", \"grond_wet\", \"grond_wet\", \"grond_wet\", \"grond_wet\", \"grond_wet\", \"grond_wet\", \"groot\", \"groot\", \"groot\", \"groot\", \"groot\", \"groot\", \"groot\", \"groot\", \"groot\", \"groot\", \"groot\", \"groot\", \"groot\", \"groot\", \"groot\", \"groot\", \"groot\", \"grootschalig\", \"grootschalig\", \"haio\", \"halftijds\", \"handeling\", \"handeling\", \"handeling\", \"handeling\", \"heer\", \"heffing\", \"herneming\", \"hernieuwbaar\", \"hetzelfde\", \"hetzelfde\", \"hetzelfde\", \"hetzelfde\", \"hetzelfde\", \"hetzelfde\", \"hetzelfde\", \"hgr\", \"hierna\", \"hierna\", \"hierna\", \"hierna\", \"hierna\", \"hierna\", \"hierna\", \"hierna\", \"hierna\", \"hiernavolgen\", \"hof\", \"hoge_gezondheidsraad\", \"honoraria\", \"hoog\", \"hoog\", \"hoog\", \"hoog\", \"hoog\", \"hoog\", \"hoog\", \"hoog\", \"hoog\", \"hoog\", \"hoog\", \"hoog\", \"hoog\", \"hoog\", \"hoog\", \"hopital\", \"houd_en\", \"houd_en\", \"houd_en\", \"houd_en\", \"houd_en\", \"houd_en\", \"houd_en\", \"houd_en\", \"houd_en\", \"houd_en\", \"houd_en\", \"houd_en\", \"houd_en\", \"houden\", \"houden\", \"houden\", \"houden\", \"houden\", \"houden\", \"houden\", \"houden\", \"houden\", \"houden\", \"houden\", \"houden\", \"houden\", \"houden\", \"houden\", \"houden\", \"houden\", \"huishoud\", \"huisvesting_plaatselijk\", \"huurder\", \"huurder\", \"huurprijs\", \"huurvoordel\", \"hypotheek\", \"hypotheek\", \"hypotheek_vatbaar\", \"ibp\", \"iedere_verplaatsing\", \"imago\", \"imago\", \"immers\", \"immers\", \"immers\", \"in_dienen\", \"in_dienen\", \"in_dienen\", \"in_dienen\", \"in_dienen\", \"in_dienen\", \"in_dienen\", \"in_dienen\", \"in_dienen\", \"in_dienen\", \"in_dienen\", \"in_gaan\", \"in_grijpen\", \"in_komen\", \"incident\", \"incubatietijd\", \"indeling\", \"indexcijfer\", \"indexcijfer\", \"informatie\", \"informatie\", \"informatie\", \"informatie\", \"informatie\", \"informatie\", \"informatie\", \"informatie\", \"informatie\", \"informatie\", \"ingediende_aanvrag\", \"ingeschreven_schuldeisers\", \"ingevoegd_luidende\", \"ingevoegd_luidende\", \"ingevoerde_goederen\", \"inhou_ding\", \"inhoudelijk\", \"initiatiefnemer\", \"inkomenstarief\", \"inperking\", \"inrichter\", \"inrichting\", \"inrichting\", \"inrichting\", \"inrichting\", \"inrichting\", \"inrichting\", \"inrichting\", \"inrichting\", \"inrichting\", \"inrichting\", \"inspecteur\", \"inspecteur\", \"inspecteur\", \"inspecteur\", \"inspecteur\", \"inspecteur\", \"inspecteur\", \"inspecteur\", \"instelling\", \"instelling\", \"instelling\", \"instelling\", \"instelling\", \"instelling\", \"instelling\", \"instelling\", \"instelling\", \"instelling\", \"instelling\", \"instemming\", \"instemming\", \"instemming\", \"instemming\", \"instemming\", \"integraal_verslag\", \"integraal_verslag\", \"intensieve_zorgen\", \"inter_franstalig\", \"intern_verzelfstandigd\", \"interne_marken\", \"interview\", \"intrekking\", \"intrekking\", \"intrekking\", \"intrinsieke_waarde\", \"investering\", \"investering\", \"investering\", \"invoeging\", \"invoeging\", \"invoer\", \"invoering\", \"invoering\", \"invoering\", \"invoering\", \"invoering\", \"invoering\", \"invoering\", \"inzonderheid\", \"inzonderheid\", \"inzonderheid\", \"inzonderheid\", \"inzonderheid\", \"inzonderheid\", \"inzonderheiden\", \"iriscaar\", \"isolatie\", \"ist\", \"jaar\", \"jaar\", \"jaar\", \"jaar\", \"jaar\", \"jaar\", \"jaar\", \"jaar\", \"jaar\", \"jaar\", \"jaar\", \"jaar\", \"jaar\", \"jaar\", \"justitie\", \"justitie\", \"kader\", \"kader\", \"kader\", \"kader\", \"kader\", \"kader\", \"kader\", \"kader\", \"kader\", \"kader\", \"kader\", \"kader\", \"kader\", \"kader\", \"kader\", \"kader\", \"kader\", \"kader\", \"kalendermaand\", \"kalendermaand\", \"kalendermaand\", \"kandi_datuur\", \"kandidaat\", \"kandidaat\", \"kandidaat\", \"kandidaat\", \"kapitaal\", \"kennis\", \"kennis\", \"kennis\", \"kennis\", \"kennis\", \"kennis\", \"kennis\", \"kennis\", \"kennis\", \"kennisgeving\", \"kennisgeving\", \"kennisgeving\", \"kennisgeving\", \"kennisgeving\", \"kennisgeving\", \"keuze\", \"keuze\", \"keuze\", \"kind\", \"kind\", \"kind\", \"kind\", \"kind\", \"kind_opvang\", \"kinderbijslag_toerisme\", \"kinderopvang\", \"klassenraad\", \"klein\", \"klein\", \"klein\", \"klein\", \"kmo_centrum\", \"komen\", \"komen\", \"komen\", \"komen\", \"komen\", \"komen\", \"komen\", \"komen\", \"komen\", \"komen\", \"komen\", \"kondigen\", \"kondigen\", \"koning\", \"koning\", \"koning\", \"koning\", \"koning\", \"koning\", \"koning\", \"koningswege\", \"koningswege\", \"koningswege\", \"koningswege\", \"koningswege\", \"koningswege\", \"koninklijk\", \"koninklijk\", \"koninklijk\", \"koninklijk\", \"koninklijk\", \"koninklijk\", \"koninklijk\", \"koninklijk\", \"koninklijk\", \"koninklijk\", \"koninkrijk\", \"koper\", \"kortverblijf\", \"kost\", \"kost\", \"kost\", \"kost\", \"kost\", \"kost\", \"kost\", \"kosten\", \"kosten\", \"kosten\", \"kosten\", \"kostprijs\", \"kostprijs\", \"kunstenaar\", \"kwaliteit\", \"kwamen\", \"kwartaal\", \"kwartaal\", \"kwartaal\", \"kwartaal\", \"la_partie\", \"la_partie\", \"la_sante\", \"la_sante\", \"laadstation\", \"laadstation\", \"laat\", \"laat\", \"laat\", \"laat\", \"laat\", \"laat\", \"laat\", \"laat\", \"laat\", \"laat\", \"laat\", \"laat\", \"laat\", \"laboratorium\", \"langs_elektronisch\", \"last\", \"last\", \"last\", \"last\", \"leefmilieu_natuur\", \"leeftijd\", \"leeftijd\", \"leerjaar\", \"leerjaar\", \"leerling\", \"leerling\", \"lening\", \"lening\", \"les\", \"les\", \"les\", \"letten\", \"letten\", \"letten\", \"letten\", \"letten\", \"letten\", \"letten\", \"letten\", \"letten\", \"letten\", \"letten\", \"letten\", \"levering\", \"levering\", \"levering\", \"leveringen\", \"leveringen\", \"lezen\", \"lidstaat\", \"lidstaat\", \"lijkgestlen\", \"lijst\", \"lijst\", \"lijst\", \"lijst\", \"lijst\", \"lijst\", \"lijst\", \"lijst\", \"lijst\", \"lijst\", \"liter\", \"lokaal\", \"lokaal\", \"lokaal\", \"lokaal\", \"lokaal_bestuur\", \"lokale_besturen\", \"lokale_besturen\", \"lossen\", \"louter\", \"luiden\", \"luiden\", \"luiden\", \"luiden\", \"luiden\", \"luiden\", \"luiden\", \"maand\", \"maand\", \"maand\", \"maand\", \"maand\", \"maand\", \"maand\", \"maand\", \"maand\", \"maand\", \"maand\", \"maand\", \"maand\", \"maand\", \"maand\", \"maand\", \"maatstaf\", \"maken\", \"maken\", \"maken\", \"maken\", \"maken\", \"maken\", \"maken\", \"maken\", \"maken\", \"maken\", \"maken\", \"maken\", \"maken\", \"maken\", \"maken\", \"maken\", \"maken\", \"manipuler\", \"martine_baguet\", \"materiaal\", \"materiaal\", \"materiaal\", \"materieel\", \"materieel\", \"materieel\", \"materieel\", \"materieel\", \"maximaal\", \"maximaal\", \"maximaal\", \"maximaal\", \"maximaal\", \"maximaal\", \"maximaal\", \"maximaal\", \"maximaal\", \"maximale\", \"mb\", \"medisch\", \"medisch\", \"medisch\", \"medisch\", \"medisch\", \"mee_delen\", \"mee_delen\", \"mee_delen\", \"mee_delen\", \"mee_delen\", \"mee_delen\", \"mee_delen\", \"mee_delen\", \"mee_delen\", \"meente_gelokaliseren\", \"meewerkende_echtgenoten\", \"mentaal\", \"meteen\", \"meter\", \"middel\", \"middel\", \"middel\", \"middel\", \"middel\", \"middel\", \"middel\", \"middel\", \"middel\", \"middel\", \"middel\", \"minderjarigen\", \"ministerieel\", \"ministerieel\", \"ministerieel\", \"ministerieel\", \"ministerieel\", \"ministerieel\", \"ministerieel\", \"ministerieel\", \"ministerieel\", \"ministerieel\", \"ministeriele_departementen\", \"mit\", \"mobiele_teams\", \"mogelijk\", \"mogelijk\", \"mogelijk\", \"mogelijk\", \"mogelijk\", \"mogelijk\", \"mogelijk\", \"mogelijk\", \"mogelijk\", \"mogelijk\", \"mogelijk\", \"mogelijk\", \"mogelijk\", \"mogelijk\", \"mogelijke_manier\", \"mondmasker\", \"mondmasker\", \"morreaal\", \"morreaal\", \"motief\", \"motief\", \"museum\", \"naleving\", \"naleving\", \"naleving\", \"naleving\", \"naleving\", \"naleving\", \"naleving\", \"natuurlijk\", \"natuurlijk\", \"natuurlijk\", \"natuurlijk\", \"natuurlijk\", \"natuurlijk\", \"nauw_contact\", \"nauw_contact\", \"nederlandse_staatscourant\", \"netwerkpartner\", \"nicht\", \"nieuw\", \"nieuw\", \"nieuw\", \"nieuw\", \"nieuw\", \"nieuw\", \"nieuw\", \"nieuw\", \"nieuw\", \"nieuw\", \"nieuw\", \"nieuw\", \"nieuwe_gemeentewet\", \"nodig\", \"nodig\", \"nodig\", \"nodig\", \"nodig\", \"nodig\", \"nodig\", \"nodig\", \"nodig\", \"nodig\", \"nodig\", \"nodig\", \"nodig\", \"nodig\", \"nodig\", \"nodige_vermelding\", \"nomenclatuur\", \"noodsituaties\", \"noodzakelijk\", \"noodzakelijk\", \"noodzakelijk\", \"noodzakelijk\", \"noodzakelijk\", \"noodzakelijk\", \"noodzakelijk\", \"noodzakelijk\", \"noodzakelijk\", \"noodzakelijk\", \"noodzakelijk\", \"noodzakelijk\", \"noodzakelijk\", \"noodzakelijk\", \"noord_ierland\", \"nota_zitting\", \"notariaat\", \"notaris\", \"nummer\", \"nummer\", \"nummer\", \"nummer\", \"nummer\", \"nut\", \"objectief\", \"od\", \"oder\", \"omwille\", \"omwille\", \"omwille\", \"omwille\", \"omwille\", \"omwille\", \"omwille\", \"omwille\", \"omwille\", \"omzendbrief\", \"omzendbrief\", \"omzetcijfer_gelijk\", \"on_wijzigen\", \"onderbreking\", \"onderdeel\", \"onderdeel\", \"onderdeel\", \"onderdeel\", \"ondergetekende_bevoegen\", \"onderling_overleg\", \"ondernemer\", \"ondernemer\", \"ondernemerschap\", \"onderneming\", \"onderneming\", \"onderneming\", \"onderneming\", \"onderneming\", \"onderneming\", \"onderneming\", \"ondernemingen\", \"ondernemingen\", \"ondernemingen\", \"ondernemingen\", \"ondernemingen\", \"ondersteuning\", \"ondersteuning\", \"ondersteuning\", \"ondersteuning\", \"ondersteuning\", \"ondersteuning\", \"ondersteuning\", \"ondersteuning\", \"ondervonden_moeilijkheden\", \"onderwijs\", \"onderwijs\", \"onderwijs\", \"ongeldig\", \"ongeldig\", \"onroerend_goed\", \"onroerend_goed\", \"onroerende_goederen\", \"onroerende_goederen\", \"ontmoetings\", \"ontvangen\", \"ontvangen\", \"ontvangen\", \"ontvangen\", \"ontvangen\", \"ontvangen\", \"ontvangen\", \"ontvangen\", \"ontvangen\", \"ontvangen\", \"ontwerpen\", \"ontwerpen\", \"ontwikkeling\", \"ontwikkeling\", \"ontwikkeling\", \"ontwikkeling\", \"onverenigbaar\", \"oog\", \"oog\", \"oog\", \"oog\", \"oog\", \"oog\", \"oog\", \"oog\", \"oog\", \"oog\", \"oog\", \"oog\", \"oog\", \"oog\", \"oordeelen\", \"oorlog_tijd\", \"op_stellen\", \"op_stellen\", \"op_stellen\", \"op_stellen\", \"op_stellen\", \"op_stellen\", \"op_stellen\", \"op_stellen\", \"op_stellen\", \"op_stellen\", \"op_stellen\", \"op_vangen\", \"opdracht\", \"opdracht\", \"opdracht\", \"opdracht\", \"opdracht\", \"opdracht\", \"opdracht\", \"opdracht\", \"openbare_oren\", \"openbare_ron\", \"openbare_ron\", \"openbare_ron\", \"openbare_ron\", \"openbare_werk\", \"opera_toer\", \"operationeel_directoraat\", \"operatoren\", \"opgemerkt\", \"opgesomd\", \"opgesomd\", \"opgroeien_regie\", \"opleiding\", \"opleiding\", \"opleiding\", \"opleiding\", \"opleidingsjaar\", \"opmerking\", \"opmerking\", \"oprichting\", \"oprichting\", \"oprichting\", \"oprichting\", \"oprichting\", \"oprichting\", \"oprichting\", \"oprichting\", \"oprichting\", \"oprichting\", \"opvang\", \"opvang\", \"opvang\", \"opvang\", \"opvanglocatie\", \"opvordering\", \"ordening\", \"ordonnantie\", \"ordonnantie\", \"ordonnantie\", \"orgaan\", \"orgaan\", \"organen\", \"organisatie\", \"organisatie\", \"organisatie\", \"organisatie\", \"organisatie\", \"organisatie\", \"organisatie\", \"organisatie\", \"organisatie\", \"organisatie\", \"organisator\", \"organiseren\", \"organiseren\", \"organiseren\", \"organiseren\", \"organiseren\", \"oss_systeem\", \"ouder\", \"ouder\", \"overeen_komen\", \"overeen_komen\", \"overeen_komen\", \"overeen_komen\", \"overeenkomst\", \"overeenkomst\", \"overeenkomst\", \"overeenkomst\", \"overeenkomst\", \"overeenkomst\", \"overeenkomstig\", \"overeenkomstig\", \"overeenkomstig\", \"overeenkomstig\", \"overeenkomstig\", \"overeenkomstig\", \"overeenkomstig\", \"overeenkomstig\", \"overeenkomstig\", \"overeenkomstig\", \"overeenkomstig\", \"overeenkomstig\", \"overeenkomstig\", \"overeenkomstig\", \"overeenkomstig\", \"overeenkomstig\", \"overheid\", \"overheid\", \"overheid\", \"overheid\", \"overheid\", \"overheid\", \"overheid\", \"overheid\", \"overheid\", \"overheid_dienst\", \"overheid_dienst\", \"overheid_dienst\", \"overheid_dienst\", \"overheid_dienst\", \"overheid_dienst\", \"overleg\", \"overleg\", \"overleg\", \"overleg\", \"overleg\", \"overleg\", \"overleg\", \"overleg\", \"overleg\", \"overleg\", \"overleg\", \"overlegcomite\", \"overlegcomite\", \"overlegcomite\", \"overlegcomite\", \"overname\", \"overw\", \"paasch\", \"pandemie\", \"pandemie\", \"pandemie\", \"pandemie\", \"pandemie\", \"pandemie\", \"pandemie\", \"pandemie\", \"pandemie\", \"pandemie\", \"pandemie\", \"pandemie\", \"pandemie\", \"pandemie\", \"pandemie\", \"paritair_comite\", \"paritaire_comite\", \"parlement\", \"parlement\", \"particulieren\", \"pati\\u00ebnt\", \"pati\\u00ebnt\", \"pati\\u00ebnt\", \"pedagogisch\", \"pensioenopbouw\", \"per_gevaccineerde\", \"periode\", \"periode\", \"periode\", \"periode\", \"periode\", \"periode\", \"periode\", \"periode\", \"periode\", \"periode\", \"periode\", \"person\", \"personeel\", \"personeel\", \"personeel\", \"personeel\", \"personeel\", \"personeel\", \"personeel\", \"personeel\", \"personeel_lid\", \"personeel_lid\", \"personeel_lid\", \"personeel_lid\", \"personeel_lid\", \"personeelslid\", \"personeelslid\", \"personeelslid\", \"personeelslid\", \"personeelslid\", \"peuter\", \"pilootproj_ecten\", \"pilootprojecten\", \"plaats\", \"plaats\", \"plaats\", \"plaats\", \"plaats\", \"plaats\", \"plaats\", \"plaats\", \"plaats\", \"plaats\", \"plaats\", \"plaats\", \"plaatselijk\", \"plaatsgehad\", \"plaatsgehad\", \"plaatsgehad\", \"plafonds\", \"planning\", \"plenaire_vergadering\", \"plf\", \"plf\", \"postrekening\", \"prangen\", \"premie\", \"premie\", \"preparatie\", \"prerogatief\", \"president\", \"president\", \"president\", \"president\", \"president\", \"president\", \"preventie\", \"preventie\", \"preventie\", \"preventie\", \"preventie\", \"preventie\", \"private_sleutel\", \"proactie\", \"procedure\", \"procedure\", \"procedure\", \"procedure\", \"procedure\", \"procedure\", \"procedure\", \"procedure\", \"procedure\", \"procedure\", \"procedure\", \"procedureel\", \"procureur_de\", \"proef\", \"proef\", \"programma_wet\", \"programma_wet\", \"project\", \"project\", \"project\", \"promotie\", \"promotie\", \"promotie\", \"promotie\", \"promotor\", \"protocol\", \"protocoll\", \"protocollen\", \"protocollen\", \"publicatieblad\", \"publiceren\", \"publiceren\", \"publiceren\", \"publiceren\", \"publiceren\", \"punt\", \"punt\", \"punt\", \"punt\", \"punt\", \"punt\", \"punt\", \"punt\", \"punt\", \"punt\", \"punt\", \"punt\", \"punt\", \"punt\", \"quarantaine\", \"quarantaine\", \"quarantaine\", \"quarantaine\", \"quarantaine\", \"quater\", \"quater\", \"quater\", \"quinquie\", \"raad\", \"raad\", \"raad\", \"raad\", \"raad\", \"raad\", \"raad\", \"raad\", \"raad\", \"raad\", \"raad\", \"raad\", \"raad\", \"raad\", \"raad\", \"raken\", \"ramp\", \"rang\", \"rang\", \"rangschikken\", \"rapport\", \"rapport\", \"rapport\", \"rapport\", \"rec_hthebbenden\", \"recht\", \"recht\", \"recht\", \"recht\", \"recht\", \"recht\", \"recht\", \"recht\", \"recht\", \"recht\", \"recht\", \"recht_grond\", \"rechtbank\", \"rechten_geeerbiedigd\", \"rechthebben\", \"rechtigden\", \"rechtsgebied\", \"rechtsgebieden\", \"rechtsgrond\", \"rechtsgrond\", \"rechtsgrond\", \"rechtsgrond\", \"rechtsgronden\", \"rechtspersonen\", \"rechtspersoon\", \"rechtspersoon\", \"rechtspersoon\", \"rechtsvorm\", \"recreatief\", \"redelijkerwijze\", \"referte_dossier\", \"regel\", \"regel\", \"regel\", \"regel\", \"regel\", \"regel\", \"regel\", \"regel\", \"regel\", \"regel\", \"regelen\", \"regelen\", \"regelen\", \"regelen\", \"regelen\", \"regelen\", \"regelen\", \"regelen\", \"regelen\", \"regelen\", \"regelen\", \"regelgeven\", \"regeling\", \"regeling\", \"regeling\", \"regeling\", \"regeling\", \"regeling\", \"regeling\", \"regeling\", \"regeling\", \"regering\", \"regering\", \"regering\", \"regering\", \"regering\", \"regering\", \"regering\", \"regering\", \"regering\", \"regering\", \"regionale_overhed\", \"register\", \"register\", \"regulariseren\", \"reiskosten\", \"reizen\", \"rekenplichtig\", \"representatief\", \"resolutie\", \"resolutie\", \"restaurant\", \"restaurant\", \"restaurant\", \"restrictie\", \"resultaat\", \"resultaat\", \"resultaat\", \"resultaat\", \"resultaat\", \"resultaat\", \"resultaat\", \"resultaat\", \"resultaat\", \"revalidatie\", \"rij_opleiding\", \"rijksdienst\", \"rijksdienst\", \"rijksdienst\", \"rit\", \"riziv\", \"rsz\", \"rubriek\", \"rubriek\", \"rvs\", \"saldo\", \"saldo\", \"samenscholingen\", \"sanitaire_politie\", \"school\", \"school\", \"school\", \"school\", \"school_jaar\", \"school_jaar\", \"schriftelijke_overeenkomst\", \"schuldeiser\", \"schuldeiser\", \"schulen\", \"sciensano\", \"sciensano\", \"sectie\", \"sector\", \"sector\", \"sector\", \"sector\", \"sector\", \"sector\", \"sector\", \"sector\", \"sector\", \"sector\", \"sector_xvii\", \"sectoraal_niveau\", \"secundair_onderwijs\", \"secundair_onderwijs\", \"selecteren\", \"selectie\", \"selectie\", \"selectie\", \"selectieve_subsidie\", \"semester\", \"sexie\", \"sich\", \"sie\", \"sind\", \"sire\", \"situatie\", \"situatie\", \"situatie\", \"situatie\", \"situatie\", \"situatie\", \"situatie\", \"situatie\", \"situatie\", \"situatie\", \"situatie\", \"slagen\", \"slagen\", \"slagen\", \"sluiten\", \"sluiten\", \"sluiten\", \"sluiten\", \"sluiten\", \"sluiten\", \"sluiten\", \"sluiten\", \"sluiten\", \"sluiten\", \"sluiten\", \"sluiting\", \"sluiting\", \"sluiting\", \"sluiting\", \"sluiting\", \"sluiting\", \"sluiting\", \"sluiting\", \"sluiting\", \"sluiting\", \"sociaal\", \"sociaal\", \"sociaal\", \"sociaal\", \"sociaal\", \"sociaal\", \"sociaal\", \"sociaal\", \"sociaal\", \"sociaal\", \"sociaal\", \"sociaal\", \"sociaal\", \"sociale_actie\", \"sociale_actie\", \"speciaal\", \"specialiseren\", \"specialiteit\", \"specialiteit\", \"specifiek\", \"specifiek\", \"specifiek\", \"specifiek\", \"specifiek\", \"specifiek\", \"specifiek\", \"specifiek\", \"specifiek\", \"specifiek\", \"specifiek\", \"specifiek\", \"specifiek\", \"specifieke_materie\", \"specifieke_materies\", \"spoor\", \"spoor\", \"sport\", \"sport_club\", \"sport_vlaander\", \"sportfederatie\", \"sportieve_recreatief\", \"staan\", \"staan\", \"staan\", \"staan\", \"staan\", \"staan\", \"staan\", \"staan\", \"staan\", \"staan\", \"staan\", \"staan\", \"staatssteun\", \"staatssteun\", \"stagiair\", \"stand_gebracht\", \"standp_laats\", \"stappenplan\", \"stapsgewijze_heropbouw\", \"state_gecoordineerd\", \"state_gecoordineerd\", \"state_gecoordineerd\", \"state_gecoordineerd\", \"state_gecoordineerd\", \"state_gecoordineerd\", \"state_gecoordineerd\", \"state_gecoordineerd\", \"statistiek_nace\", \"statistieke_nomenclatuur\", \"statuut\", \"statuut\", \"statuut\", \"statuut\", \"statuut\", \"statuut\", \"steeds_aanzienlijk\", \"stellen\", \"stellen\", \"stellen\", \"stellen\", \"stellen\", \"stellen\", \"stellen\", \"stellen\", \"stellen\", \"stellen\", \"stellen\", \"stellen\", \"stellen\", \"stellen\", \"steller\", \"stelsel\", \"stelsel\", \"stelsel\", \"steun\", \"steun\", \"steun\", \"steun\", \"steun_aanvraag\", \"stilzwijgen\", \"straffe\", \"straffe\", \"streep\", \"streepje\", \"streepje\", \"streng\", \"strijd\", \"strijd\", \"strijd\", \"strijd\", \"strijd\", \"strijd\", \"strijd\", \"student\", \"studie\", \"stuk\", \"stuk\", \"stuk\", \"stuk\", \"sub\", \"subklassen\", \"subsectoren\", \"subsidiaire_ron\", \"subsidie\", \"subsidie\", \"subsidie\", \"subsidiebedrag\", \"subsidiebesluit\", \"subsidieren\", \"subsidiering\", \"subsidiering\", \"subsidi\\u00ebren\", \"subsidi\\u00ebren\", \"taak\", \"taak\", \"taak\", \"taak\", \"taak\", \"taal\", \"tarief\", \"tarief\", \"tarief\", \"tarief\", \"tbe_dienst\", \"team\", \"team\", \"technische_ingraving\", \"technische_storing\", \"tegemoetkoming\", \"tegemoetkoming\", \"tegemoetkoming\", \"tekst\", \"tekst\", \"tekst\", \"tekst\", \"telewerken\", \"telewerken\", \"ten_gun\", \"ten_gun\", \"termijn\", \"termijn\", \"termijn\", \"termijn\", \"termijn\", \"termijn\", \"termijn\", \"termijn\", \"termijn\", \"termijn\", \"termijn\", \"termijn\", \"termijn\", \"territoriale_ontwikkeling\", \"teruggaaf\", \"terugwerkende_kracht\", \"terugwerkende_kracht\", \"terugwerkende_kracht\", \"test\", \"test\", \"test\", \"test\", \"test_ing\", \"testcapaciteit\", \"teststrategie\", \"theoretisch\", \"thuiswerkdagen\", \"tij_delijke_kaderregeling\", \"tij_delijke_werkloosheid\", \"tij_delijke_werkloosheid\", \"tijdelijk\", \"tijdelijk\", \"tijdelijk\", \"tijdelijk\", \"tijdelijk\", \"tijdelijk\", \"tijdelijk\", \"tijdelijk\", \"tijdelijk\", \"tijdelijk\", \"tijdelijk_bevriezen\", \"tijdelijk_versoepelen\", \"tijdelijke_kaderregeling\", \"tijdelijke_werkloosheid\", \"titel\", \"titel\", \"titel\", \"titel\", \"titel\", \"titel\", \"titel\", \"titel\", \"toe_kennen\", \"toe_kennen\", \"toe_kennen\", \"toe_kennen\", \"toe_kennen\", \"toe_kennen\", \"toe_kennen\", \"toe_kennen\", \"toe_kennen\", \"toe_kennen\", \"toe_kennen\", \"toe_kennen\", \"toediening\", \"toegankelijk\", \"toegankelijk\", \"toegankelijk\", \"toegankelijk\", \"toege_voegde_waarde\", \"toege_voegde_waarde\", \"toegevoegde_waran\", \"toegevoegde_waran\", \"toekenning\", \"toekenning\", \"toekenning\", \"toekenning\", \"toekenning\", \"toekenning\", \"toekenning\", \"toekenning\", \"toekenning\", \"toekenning\", \"toelaatbaar\", \"toelichting\", \"toepast\", \"toerisme\", \"toerisme\", \"toerisme_vlaander\", \"toerisme_vlaanderen\", \"toeristisch\", \"toeristisch\", \"transport\", \"treden\", \"treden\", \"treden\", \"treden\", \"treden\", \"treden\", \"treden\", \"treden\", \"treden\", \"treden\", \"treden\", \"treden\", \"treden\", \"treden\", \"treden\", \"treden\", \"triage\", \"tuinbouw\", \"tussenpersoon\", \"tussenpersoon\", \"uit_oefenen\", \"uit_oefenen\", \"uit_oefenen\", \"uit_oefenen\", \"uit_oefenen\", \"uit_oefenen\", \"uit_oefenen\", \"uit_oefenen\", \"uit_oefenen\", \"uit_oefenen\", \"uit_rusten\", \"uit_voeren\", \"uit_voeren\", \"uit_voeren\", \"uit_voeren\", \"uit_voeren\", \"uit_voeren\", \"uit_voeren\", \"uit_voeren\", \"uit_voeren\", \"uit_voeren\", \"uit_voeren\", \"uit_voeren\", \"uit_voeren\", \"uit_voeren\", \"uit_voeren\", \"uiterlijk\", \"uiterlijk\", \"uiterlijk\", \"uiterlijk\", \"uiterlijk\", \"uiterlijk\", \"uiterlijk\", \"uiterlijk\", \"uiterlijk\", \"uitgave\", \"uitgave\", \"uitgave\", \"uitgave\", \"uitgeoefend\", \"uitgeoefende\", \"uitgeoefende\", \"uitgevaardigde\", \"uitkering\", \"uitkering\", \"uitkering\", \"uitkering\", \"uitkering\", \"uitkering\", \"uitkeringen_gecoordineerd\", \"uitkeringen_gecoordineerd\", \"uitkeringen_gecoordineerd\", \"uitoefening\", \"uitoefening\", \"uitoefening\", \"uitoefening\", \"uitoefening\", \"uitoefening\", \"uitstel\", \"uitstel\", \"uitstel\", \"uitvoering\", \"uitvoering\", \"uitvoering\", \"uitvoering\", \"uitvoering\", \"uitvoering\", \"uitvoering\", \"uitvoering\", \"uitvoering\", \"uitvoering\", \"uitvoering\", \"uitvoering\", \"uitvoering\", \"uitvoering\", \"uitvoering\", \"uitvoering\", \"uitwisseling\", \"uitwisseling\", \"uitwisseling\", \"und\", \"universitaire_ziekenhuizen\", \"universiteit\", \"vaccin\", \"vaccin\", \"vaccin\", \"vaccinatie\", \"vaccinatie\", \"vaccinatie\", \"vaccineren\", \"vaccineren\", \"vaccineren\", \"vaccins\", \"vaccins\", \"vast_stellen\", \"vast_stellen\", \"vast_stellen\", \"vast_stellen\", \"vast_stellen\", \"vast_stellen\", \"vast_stellen\", \"vast_stellen\", \"vast_stellen\", \"vast_stellen\", \"vast_stellen\", \"vast_stellen\", \"vast_stellen\", \"vaste_activa\", \"vastlegen\", \"vaststellen\", \"vaststellen\", \"vaststelling\", \"vaststelling\", \"vaststelling\", \"vaststelling\", \"vaststelling\", \"vaststelling\", \"vaststelling\", \"vaststelling\", \"vaststelling\", \"vaststelling\", \"vaststelling\", \"ve_rzending\", \"vennootschap\", \"vennootschappen\", \"ver_richt\", \"verbinden\", \"verbinden\", \"verbinden\", \"verbinden\", \"verbinden\", \"verbinden\", \"verbinden\", \"verbinden\", \"verbinden\", \"verbinden\", \"verbinding\", \"verbod\", \"verbod\", \"verbod\", \"verbod\", \"verbruik\", \"verdeling\", \"verdeling\", \"verdeling\", \"verdeling\", \"verdeling\", \"verdeling\", \"verdeling\", \"verdeling\", \"verdeling\", \"verdrag\", \"verdrag\", \"verdrag\", \"verdrag\", \"verdrag\", \"vereenvoudiging\", \"vereffening\", \"vereffening\", \"verenigd_koninkrijk\", \"vereniging\", \"vereniging\", \"vereniging\", \"vereniging\", \"vereniging\", \"vergadering\", \"vergadering\", \"vergadering\", \"vergadering\", \"vergadering\", \"vergezellen\", \"vergezellen\", \"vergoeding\", \"vergoeding\", \"vergoeding\", \"vergoeding\", \"vergoeding\", \"vergoeding\", \"vergoeding\", \"verhuurder\", \"verkeer\", \"verkiezing\", \"verkrijgen\", \"verkrijgen\", \"verkrijgen\", \"verkrijgen\", \"verkrijgen\", \"verkrijgen\", \"verkrijgen\", \"verlenen\", \"verlenen\", \"verlenen\", \"verlenen\", \"verlenen\", \"verlenen\", \"verlenen\", \"verlenen\", \"verlenen\", \"verlenen\", \"verlenen\", \"verlenen\", \"verlenen\", \"verlengen\", \"verlengen\", \"verlengen\", \"verlengen\", \"verlengen\", \"verlengen\", \"verlengen\", \"verlenging\", \"verlenging\", \"verlenging\", \"verlenging\", \"verlenging\", \"verlenging\", \"verlenging\", \"vermelden\", \"vermelden\", \"vermelden\", \"vermelden\", \"vermelden\", \"vermelden\", \"vermelden\", \"vermelden\", \"vermelden\", \"vermelden\", \"vermelden\", \"vermoedelijk\", \"vermoedelijk_besmette\", \"vernieuwing\", \"veronderstelen\", \"verordenend\", \"verordening\", \"verordening\", \"verordening\", \"verordening\", \"verordeningen\", \"verordeningen\", \"verordeningen\", \"verpakking\", \"verplichte_sluiting\", \"verplichte_sluiting\", \"verplichte_sluiting\", \"verplichte_verzekering\", \"verplichte_verzekering\", \"verplichten\", \"verplichten\", \"verplichten\", \"verplichten\", \"verplichten\", \"verplichten\", \"verplichten\", \"verplichten\", \"verplichten\", \"verplichten\", \"verplichting\", \"verplichting\", \"verplichting\", \"verplichting\", \"verplichting\", \"verplichting\", \"verplichting\", \"verplichting\", \"verplichting\", \"verplichting\", \"verrekening\", \"verrichten\", \"verrichten\", \"verrichten\", \"verrichten\", \"verrichten\", \"verrichten\", \"verrichten\", \"vers\", \"verscheidene_gemeenten\", \"verschillend\", \"verschillend\", \"verschillend\", \"verschillend\", \"verschillend\", \"verschillend\", \"verschillend\", \"verschillend\", \"verschillend\", \"verschillend\", \"verschilt\", \"verschuiven\", \"verschuldigde\", \"verschuldigde\", \"verschuldigde\", \"verschuldigen\", \"verschuldigen\", \"verschuldigen\", \"verschuldigen\", \"verschuldigen\", \"verslag\", \"verslag\", \"verslag\", \"verslag\", \"verslag\", \"verslag\", \"verspreiding\", \"verspreiding\", \"verspreiding\", \"verspreiding\", \"verspreiding\", \"verspreiding\", \"verspreiding\", \"verspreiding\", \"verspreiding\", \"verspreiding\", \"verspreiding\", \"verspreiding\", \"verspreiding\", \"verspreiding\", \"verstoring\", \"verstrekking\", \"verstrekking\", \"verstrekkingen\", \"vervangen\", \"vervangen\", \"vervangen\", \"vervangen\", \"vervangen\", \"vervangen\", \"vervangen\", \"vervangen\", \"vervangen\", \"vervangen\", \"vervangen\", \"vervangen\", \"vervanging\", \"vervat\", \"vervoer\", \"vervoer\", \"vervoer\", \"vervoer\", \"vervoer\", \"vervoeren\", \"vervolledigen\", \"verwachting\", \"verwerken\", \"verwerken\", \"verwerken\", \"verwerker\", \"verwerking\", \"verwerking\", \"verwerking\", \"verwerking\", \"verwerking\", \"verwerving\", \"verwijderen\", \"verwijzen\", \"verwijzen\", \"verwijzen\", \"verzamelen\", \"verzamelen\", \"verzamellen\", \"verze_nding\", \"verze_nding\", \"verzekeren\", \"verzekeren\", \"verzekeren\", \"verzekeren\", \"verzekeren\", \"verzekeren\", \"verzekeren\", \"verzekeren\", \"verzekeren\", \"verzekering\", \"verzekering\", \"verzekering\", \"verzekering\", \"verzetdoen\", \"verzonden\", \"verzonden\", \"verzuim\", \"vestigen\", \"vestigen\", \"vestigen\", \"vestigen\", \"vice_eersteminister\", \"vice_president\", \"vier\", \"vier\", \"vier\", \"vier\", \"vier\", \"vier\", \"vier\", \"vier\", \"vier\", \"vier\", \"vier\", \"vigueur\", \"vijf\", \"vijf\", \"vijf\", \"vijf\", \"vijf\", \"vijf\", \"vijf\", \"vijf\", \"virtueel\", \"virus\", \"virus\", \"virus\", \"virus\", \"virus\", \"virus\", \"virus\", \"virus\", \"virus\", \"virus\", \"virus\", \"vitale_sectoren\", \"vlaams_parlement\", \"voertuig\", \"voertuig\", \"voertuig\", \"voertuigen_aangekocht\", \"voertuigen_aangekocht\", \"voetnoot\", \"voldoen\", \"voldoen\", \"voldoen\", \"voldoen\", \"voldoen\", \"voldoen\", \"voldoen\", \"voldoen\", \"voldoen\", \"voldoen\", \"voldoen\", \"voldoening\", \"volksgezondheid\", \"volksgezondheid\", \"volksgezondheid\", \"volksgezondheid\", \"volksgezondheid\", \"volksgezondheid\", \"volksgezondheid\", \"volksgezondheid\", \"volksgezondheid_gezin\", \"volksgezondheid_gezin\", \"volledig\", \"volledig\", \"volledig\", \"volledig\", \"volledig\", \"volledig\", \"volledig\", \"volledig\", \"volledig\", \"volledig\", \"volledig\", \"volledig\", \"volledig\", \"volledig\", \"volledige_adres\", \"voltijds\", \"voltijds\", \"volwassen\", \"von_den\", \"voor_ontwerp\", \"voordracht\", \"voordracht\", \"voordracht\", \"voordracht\", \"voordracht\", \"voordracht\", \"voordracht\", \"voordracht\", \"voorgelegde_ontwerp\", \"voorheen\", \"voorjaar\", \"voorliggen\", \"voorliggen\", \"voorliggen\", \"voormelde_rijksdienst\", \"voornamen\", \"voorontwerp\", \"voortaan\", \"voortbestaan\", \"voortzetting\", \"voorwaarde\", \"voorwaarde\", \"voorwaarde\", \"voorwaarde\", \"voorwaarde\", \"voorwaarde\", \"voorwaarde\", \"voorwaarde\", \"voorwaarde\", \"voorwaarde\", \"voorwaarde\", \"voorwaarde\", \"voorwaarde\", \"voorwaarde\", \"vordren\", \"vorming_gezondheid\", \"vorming_gezondheid\", \"vormvereisen\", \"vos_adviseur\", \"vrede_tijd\", \"vrijwilliger\", \"vrijwilliger\", \"vrijwilliger\", \"vroegste_aanvangt\", \"vrouwenrechten_linard\", \"w_etboek\", \"waals\", \"waals\", \"waals\", \"waals\", \"waals_parlement\", \"waalse_ambtenarencode\", \"waarbij\", \"waarbij\", \"waarbij\", \"waarbij\", \"waarbij\", \"waarbij\", \"waarbij\", \"waarbij\", \"waarbij\", \"waarbij\", \"waarbij\", \"waarbij\", \"waarbij\", \"waarbij\", \"waarin\", \"waarin\", \"waarin\", \"waarin\", \"waarin\", \"waarin\", \"waarin\", \"waarin\", \"waarin\", \"waarin\", \"waarin\", \"waarnaar\", \"waaronder_werklozen\", \"wallonie_bruxelles\", \"water_beleid\", \"webplat_form\", \"wel\", \"wel\", \"wel\", \"wel\", \"wel\", \"wel\", \"wel\", \"werk\", \"werk\", \"werk\", \"werk\", \"werk\", \"werk\", \"werk\", \"werk\", \"werk\", \"werk\", \"werk\", \"werk_groep\", \"werkgelegenheid\", \"werkgelegenheid\", \"werkgelegenheid\", \"werkgever\", \"werkgever\", \"werkgever\", \"werkgever\", \"werking\", \"werking\", \"werking\", \"werking\", \"werking\", \"werking\", \"werking\", \"werking\", \"werking\", \"werking\", \"werking\", \"werking\", \"werking\", \"werking\", \"werking\", \"werking\", \"werking\", \"werking\", \"werkloos\", \"werkloosheid\", \"werkloosheid\", \"werklozen\", \"werknemer\", \"werknemer\", \"werknemer\", \"werknemer\", \"werknemer\", \"werknemer\", \"werknemer\", \"werkwijze\", \"werkwijze\", \"werkzaam\", \"werkzaam\", \"werkzame_bestanddel\", \"wet_boek\", \"wet_boek\", \"wet_boek\", \"wet_boek\", \"wet_boek\", \"wet_boek\", \"wet_boek\", \"wet_boek\", \"wetgever\", \"wetsbepaling\", \"wetsbepaling\", \"wijzigen\", \"wijzigen\", \"wijzigen\", \"wijzigen\", \"wijzigen\", \"wijzigen\", \"wijzigen\", \"wijzigen\", \"wijzigen\", \"wijzigen\", \"wijzigen\", \"wijzigen\", \"wijziging\", \"wijziging\", \"wijziging\", \"wijziging\", \"wijziging\", \"wijziging\", \"wijziging\", \"wijziging\", \"wijziging\", \"wijziging\", \"wijzigingen_aangebracht\", \"wijzigingen_aangebracht\", \"wijzigingen_aangebracht\", \"wijzigingen_aangebracht\", \"winst_oogmerk\", \"winst_oogmerk\", \"winstgevend_oogmerk\", \"woord\", \"woord\", \"woord\", \"woord\", \"woord\", \"woord\", \"zeer_eerbiedige\", \"zekerheid\", \"zekerheid\", \"zekerheid\", \"zekerheid\", \"zekerheid\", \"zekerheid\", \"zekerheid\", \"zekerheid\", \"zelfs_verdwijnen\", \"zelfstandig\", \"zelfstandig\", \"zelfstandig\", \"zelfstandig\", \"zelfstandig\", \"zending\", \"zending\", \"zending\", \"zetel\", \"zetel\", \"ziekenhuis\", \"ziekenhuis\", \"ziekt\", \"ziekte\", \"ziekte\", \"ziekte\", \"ziekte\", \"zien\", \"zien\", \"zien\", \"zien\", \"zien\", \"zien\", \"zien\", \"zien\", \"zien\", \"zien\", \"zien\", \"zien\", \"zien\", \"zin\", \"zin\", \"zin\", \"zin\", \"zin\", \"zin\", \"zin\", \"zin\", \"zin\", \"zin\", \"zin\", \"zin\", \"zinsned\", \"zorg\", \"zorg\", \"zorg\", \"zorg\", \"zorg\", \"zorg\", \"zorg\", \"zorg\", \"zorg\", \"zorgverlener\", \"zulks_schriftelijk\", \"zullen_onze\", \"zullen_onze\", \"zullen_onze\", \"zullen_onze\", \"zusta_ndigen_foderierten\", \"zustandigen_foderierten\"]}, \"R\": 30, \"lambda.step\": 0.01, \"plot.opts\": {\"xlab\": \"PC1\", \"ylab\": \"PC2\"}, \"topic.order\": [8, 20, 7, 19, 16, 13, 17, 15, 11, 14, 6, 5, 10, 12, 2, 3, 18, 4, 9, 1]};\n",
              "\n",
              "function LDAvis_load_lib(url, callback){\n",
              "  var s = document.createElement('script');\n",
              "  s.src = url;\n",
              "  s.async = true;\n",
              "  s.onreadystatechange = s.onload = callback;\n",
              "  s.onerror = function(){console.warn(\"failed to load library \" + url);};\n",
              "  document.getElementsByTagName(\"head\")[0].appendChild(s);\n",
              "}\n",
              "\n",
              "if(typeof(LDAvis) !== \"undefined\"){\n",
              "   // already loaded: just create the visualization\n",
              "   !function(LDAvis){\n",
              "       new LDAvis(\"#\" + \"ldavis_el21771404644835386401164755982\", ldavis_el21771404644835386401164755982_data);\n",
              "   }(LDAvis);\n",
              "}else if(typeof define === \"function\" && define.amd){\n",
              "   // require.js is available: use it to load d3/LDAvis\n",
              "   require.config({paths: {d3: \"https://d3js.org/d3.v5\"}});\n",
              "   require([\"d3\"], function(d3){\n",
              "      window.d3 = d3;\n",
              "      LDAvis_load_lib(\"https://cdn.jsdelivr.net/gh/bmabey/pyLDAvis@3.3.1/pyLDAvis/js/ldavis.v3.0.0.js\", function(){\n",
              "        new LDAvis(\"#\" + \"ldavis_el21771404644835386401164755982\", ldavis_el21771404644835386401164755982_data);\n",
              "      });\n",
              "    });\n",
              "}else{\n",
              "    // require.js not available: dynamically load d3 & LDAvis\n",
              "    LDAvis_load_lib(\"https://d3js.org/d3.v5.js\", function(){\n",
              "         LDAvis_load_lib(\"https://cdn.jsdelivr.net/gh/bmabey/pyLDAvis@3.3.1/pyLDAvis/js/ldavis.v3.0.0.js\", function(){\n",
              "                 new LDAvis(\"#\" + \"ldavis_el21771404644835386401164755982\", ldavis_el21771404644835386401164755982_data);\n",
              "            })\n",
              "         });\n",
              "}\n",
              "</script>"
            ]
          },
          "metadata": {},
          "execution_count": 21
        }
      ]
    },
    {
      "cell_type": "markdown",
      "source": [
        "**How to make inferences from pyLDAvis' output:**\n",
        "\n",
        "Each bubble on the left-hand side plot represents a topic. The larger the bubble, the more prevalent is that topic.\n",
        "\n",
        "A good topic model will have fairly big, non-overlapping bubbles scattered throughout the chart instead of being clustered in one quadrant.\n",
        "\n",
        "A model with too many topics, will typically have many overlaps, small sized bubbles clustered in one region of the chart.\n",
        "\n",
        "Alright, if you move the cursor over one of the bubbles, the words and bars on the right-hand side will update. These words are the salient keywords that form the selected topic."
      ],
      "metadata": {
        "id": "2gk22bIUd26A"
      }
    },
    {
      "cell_type": "markdown",
      "source": [
        "## Mallet's version of LDA"
      ],
      "metadata": {
        "id": "ETy1_-3dfOJV"
      }
    },
    {
      "cell_type": "markdown",
      "source": [
        "Up next, we will improve upon this model by using **Mallet’s version of LDA algorithm** and then we will focus on how to arrive at the optimal number of topics given any large corpus of text."
      ],
      "metadata": {
        "id": "OK3o1pfYfR_C"
      }
    },
    {
      "cell_type": "markdown",
      "source": [
        "Gensim provides a wrapper to implement Mallet’s LDA from within Gensim itself. "
      ],
      "metadata": {
        "id": "BufgXlalgeK7"
      }
    },
    {
      "cell_type": "code",
      "source": [
        "# Upgrading Gensim\n",
        "# Updated to enforce Gensim v3.8 in Colab (the last version to support running topic models via Mallet).\n",
        "# https://github.com/polsci/colab-gensim-mallet\n",
        "!pip install --upgrade gensim==3.8"
      ],
      "metadata": {
        "id": "10EAD6GgiyVo"
      },
      "execution_count": null,
      "outputs": []
    },
    {
      "cell_type": "code",
      "source": [
        "# Installing Mallet\n",
        "!wget http://mallet.cs.umass.edu/dist/mallet-2.0.8.zip\n",
        "!unzip mallet-2.0.8.zip"
      ],
      "metadata": {
        "id": "RnZJ8JBxjnod"
      },
      "execution_count": null,
      "outputs": []
    },
    {
      "cell_type": "code",
      "source": [
        "mallet_path = 'mallet-2.0.8/bin/mallet'\n",
        "ldamallet = gensim.models.wrappers.LdaMallet(mallet_path, corpus=corpus, num_topics=20, id2word=id2word)"
      ],
      "metadata": {
        "id": "bmx7cxdXk8Is"
      },
      "execution_count": 24,
      "outputs": []
    },
    {
      "cell_type": "code",
      "source": [
        "# Showing Topics\n",
        "pprint(ldamallet.show_topics(formatted=False))"
      ],
      "metadata": {
        "colab": {
          "base_uri": "https://localhost:8080/"
        },
        "id": "59BxDHcTjhBr",
        "outputId": "990d703a-3b0e-4885-fc4e-5c9176d2a362"
      },
      "execution_count": 25,
      "outputs": [
        {
          "output_type": "stream",
          "name": "stdout",
          "text": [
            "[(4,\n",
            "  [('patiënt', 0.023876019933190953),\n",
            "   ('geneeskundige_verzorging', 0.010295164558348393),\n",
            "   ('zorg', 0.009857072449482503),\n",
            "   ('verstrekking', 0.008652319150101308),\n",
            "   ('arts', 0.008597557636493072),\n",
            "   ('verstrekkingen', 0.008378511582060127),\n",
            "   ('koning', 0.00794041947319424),\n",
            "   ('tijdelijk', 0.007447565850720114),\n",
            "   ('ziekenhuis', 0.0073380428235036415),\n",
            "   ('mogelijk', 0.006571381632988336)]),\n",
            " (0,\n",
            "  [('ministerieel', 0.015966659450097422),\n",
            "   ('verspreiding', 0.015317168218229054),\n",
            "   ('overheid', 0.015208919679584326),\n",
            "   ('beperken', 0.01369344013855813),\n",
            "   ('federaal', 0.012719203290755574),\n",
            "   ('dringend', 0.012394457674821389),\n",
            "   ('grond_gebied', 0.010662481056505737),\n",
            "   ('activiteit', 0.010229486901926824),\n",
            "   ('blijven', 0.007848019051742802),\n",
            "   ('situatie', 0.007631521974453345)]),\n",
            " (17,\n",
            "  [('verwerking', 0.017171292402579197),\n",
            "   ('gegevensbank', 0.014087468460891506),\n",
            "   ('categorie', 0.009531819456125596),\n",
            "   ('contact', 0.00897112419400056),\n",
            "   ('contactcentrum', 0.008410428931875526),\n",
            "   ('gefedereerde_entiteiten', 0.008130081300813009),\n",
            "   ('verwerken', 0.00791982057751612),\n",
            "   ('digitaal', 0.007779646761984861),\n",
            "   ('gezondheid', 0.007218951499859826),\n",
            "   ('federaal', 0.006938603868797309)]),\n",
            " (15,\n",
            "  [('onderwijs', 0.03499156829679595),\n",
            "   ('decreet', 0.03323496346261945),\n",
            "   ('leerling', 0.025646430578976954),\n",
            "   ('regering', 0.021571107363687465),\n",
            "   ('afwijking', 0.015036537380550871),\n",
            "   ('school_jaar', 0.01391231028667791),\n",
            "   ('school', 0.013420460933108488),\n",
            "   ('organisatie', 0.012647554806070826),\n",
            "   ('franse_gemeenschap', 0.012085441259134345),\n",
            "   ('sociaal', 0.010609893198426082)]),\n",
            " (3,\n",
            "  [('bevoegdheid', 0.013911239852662446),\n",
            "   ('ontwerpen', 0.012409255087079355),\n",
            "   ('raad', 0.00979866251832779),\n",
            "   ('geval', 0.006508600650860065),\n",
            "   ('ministerieel', 0.006115223688445446),\n",
            "   ('opmerking', 0.006079462146407753),\n",
            "   ('rechtsgrond', 0.005972177520294675),\n",
            "   ('regel', 0.005757608268068519),\n",
            "   ('regeling', 0.005650323641955441),\n",
            "   ('afdeling_wetgeving', 0.005435754389729285)]),\n",
            " (13,\n",
            "  [('woord', 0.08228929384965832),\n",
            "   ('vervangen', 0.06513382687927106),\n",
            "   ('decreet', 0.039934510250569474),\n",
            "   ('regering', 0.024202733485193622),\n",
            "   ('hetzelfde', 0.019504555808656038),\n",
            "   ('aan_nemen', 0.01751138952164009),\n",
            "   ('wijzigen', 0.016158883826879272),\n",
            "   ('waals', 0.015731776765375856),\n",
            "   ('in_voeggen', 0.015660592255125286),\n",
            "   ('belgisch_staatsblad', 0.014664009111617311)]),\n",
            " (1,\n",
            "  [('werknemer', 0.019902847119147214),\n",
            "   ('collectief', 0.01814869788152746),\n",
            "   ('werkgever', 0.017608959654567536),\n",
            "   ('kind', 0.016799352314127648),\n",
            "   ('periode', 0.016462015922277695),\n",
            "   ('werk', 0.014910268519767912),\n",
            "   ('onderneming', 0.01450546484954797),\n",
            "   ('regeling', 0.013223586560518148),\n",
            "   ('sociaal', 0.011401970044528404),\n",
            "   ('organisator', 0.010794764539198488)]),\n",
            " (2,\n",
            "  [('regering', 0.03891587215926126),\n",
            "   ('brusselse_hoofdstedelijk', 0.016669664807819153),\n",
            "   ('vaccinatie', 0.015230557054626132),\n",
            "   ('belasten', 0.014930742939377586),\n",
            "   ('ordonnantie', 0.013611560832283985),\n",
            "   ('bijzonder', 0.011512862025544163),\n",
            "   ('bevoegdheid', 0.010733345325897944),\n",
            "   ('brussel_fiscaliteit', 0.010553456856748815),\n",
            "   ('uitvoering', 0.010373568387599688),\n",
            "   ('kader', 0.01031360556454998)]),\n",
            " (5,\n",
            "  [('regering', 0.03697581879400061),\n",
            "   ('decreet', 0.019712274257728802),\n",
            "   ('waals', 0.017875726966636057),\n",
            "   ('termijn', 0.01591674318947046),\n",
            "   ('bijzondere_machten', 0.014569941842669116),\n",
            "   ('gevolg', 0.014447505356596266),\n",
            "   ('kader', 0.013774104683195593),\n",
            "   ('sociaal', 0.013223140495867768),\n",
            "   ('verlengen', 0.012672176308539946),\n",
            "   ('dienst', 0.012304866850321396)]),\n",
            " (16,\n",
            "  [('code', 0.03307888040712468),\n",
            "   ('onderneming', 0.028793357439400025),\n",
            "   ('waals', 0.024039105397080488),\n",
            "   ('regering', 0.02256595687692514),\n",
            "   ('decreet', 0.014530601312441408),\n",
            "   ('vergoeding', 0.013794027052363734),\n",
            "   ('sector', 0.013794027052363734),\n",
            "   ('activiteit', 0.013057452792286059),\n",
            "   ('administratie', 0.012387839828579082),\n",
            "   ('aanvraag', 0.0118521494576135)])]\n"
          ]
        }
      ]
    },
    {
      "cell_type": "code",
      "source": [
        "# Compute Coherence Score\n",
        "coherence_model_ldamallet = CoherenceModel(model=ldamallet, texts=data_lemmatized, dictionary=id2word, coherence='c_v')\n",
        "coherence_ldamallet = coherence_model_ldamallet.get_coherence()\n",
        "print('\\nCoherence Score: ', coherence_ldamallet)"
      ],
      "metadata": {
        "colab": {
          "base_uri": "https://localhost:8080/"
        },
        "id": "gIX9rBgujzdk",
        "outputId": "b0d64914-0d33-4c05-9f44-c31a46c3b167"
      },
      "execution_count": 26,
      "outputs": [
        {
          "output_type": "stream",
          "name": "stdout",
          "text": [
            "\n",
            "Coherence Score:  0.518856755508771\n"
          ]
        }
      ]
    },
    {
      "cell_type": "markdown",
      "source": [
        "**NOTE:** A *remarkable increase* in **coherence score** from  **0.51751224664593** to **0.518856755508771**."
      ],
      "metadata": {
        "id": "Jw3eiFejkNuV"
      }
    },
    {
      "cell_type": "markdown",
      "source": [
        "### Finding the optimal number of topics for LDA"
      ],
      "metadata": {
        "id": "p_OfPJxEk16s"
      }
    },
    {
      "cell_type": "markdown",
      "source": [
        "The approach to finding the optimal number of topics is to build many LDA models with different values of number of topics (k) and pick the one that gives the highest coherence value."
      ],
      "metadata": {
        "id": "rYN-JJP8k-4d"
      }
    },
    {
      "cell_type": "code",
      "source": [
        "def compute_coherence_values(dictionary, corpus, texts, limit, start=2, step=3):\n",
        "    \"\"\"\n",
        "    Compute c_v coherence for various number of topics\n",
        "\n",
        "    Parameters:\n",
        "    ----------\n",
        "    dictionary : Gensim dictionary\n",
        "    corpus : Gensim corpus\n",
        "    texts : List of input texts\n",
        "    limit : Max num of topics\n",
        "\n",
        "    Returns:\n",
        "    -------\n",
        "    model_list : List of LDA topic models\n",
        "    coherence_values : Coherence values corresponding to the LDA model with respective number of topics\n",
        "    \"\"\"\n",
        "    coherence_values = []\n",
        "    model_list = []\n",
        "    for num_topics in range(start, limit, step):\n",
        "        model = gensim.models.wrappers.LdaMallet(mallet_path, corpus=corpus, num_topics=num_topics, id2word=id2word)\n",
        "        model_list.append(model)\n",
        "        coherencemodel = CoherenceModel(model=model, texts=texts, dictionary=dictionary, coherence='c_v')\n",
        "        coherence_values.append(coherencemodel.get_coherence())\n",
        "    \n",
        "    return model_list, coherence_values"
      ],
      "metadata": {
        "id": "OvCJUPmjj4_H"
      },
      "execution_count": 27,
      "outputs": []
    },
    {
      "cell_type": "code",
      "source": [
        "# Can take a long time to run.\n",
        "model_list, coherence_values = compute_coherence_values(dictionary=id2word, corpus=corpus, texts=data_lemmatized, start=2, limit=40, step=6)"
      ],
      "metadata": {
        "id": "a2XYtjZplyTR"
      },
      "execution_count": 28,
      "outputs": []
    },
    {
      "cell_type": "code",
      "source": [
        "# Showing graph\n",
        "limit=40; start=2; step=6;\n",
        "x = range(start, limit, step)\n",
        "plt.plot(x, coherence_values)\n",
        "plt.xlabel(\"Num Topics\")\n",
        "plt.ylabel(\"Coherence score\")\n",
        "plt.legend((\"coherence_values\"), loc='best')\n",
        "plt.show()"
      ],
      "metadata": {
        "colab": {
          "base_uri": "https://localhost:8080/",
          "height": 279
        },
        "id": "k-rMtgaqmfBz",
        "outputId": "11589ca7-c6e5-4d71-f6e0-a2f98888eb43"
      },
      "execution_count": 29,
      "outputs": [
        {
          "output_type": "display_data",
          "data": {
            "text/plain": [
              "<Figure size 432x288 with 1 Axes>"
            ],
            "image/png": "[encoded data removed]"
          },
          "metadata": {
            "needs_background": "light"
          }
        }
      ]
    },
    {
      "cell_type": "markdown",
      "source": [
        "**NOTE:**\n",
        "The optimal **coherence score** shown in this plot lies **around 8 number of topics**."
      ],
      "metadata": {
        "id": "K3CVzCuq01Yt"
      }
    },
    {
      "cell_type": "code",
      "source": [
        "# Printing the coherence scores\n",
        "for m, cv in zip(x, coherence_values):\n",
        "    print(\"Num Topics =\", m, \" has Coherence Value of\", round(cv, 4))"
      ],
      "metadata": {
        "colab": {
          "base_uri": "https://localhost:8080/"
        },
        "id": "OQlk6b8OmmUG",
        "outputId": "da692229-adb9-48a4-bfc4-831b40f8e4cf"
      },
      "execution_count": 30,
      "outputs": [
        {
          "output_type": "stream",
          "name": "stdout",
          "text": [
            "Num Topics = 2  has Coherence Value of 0.4413\n",
            "Num Topics = 8  has Coherence Value of 0.4807\n",
            "Num Topics = 14  has Coherence Value of 0.4909\n",
            "Num Topics = 20  has Coherence Value of 0.5135\n",
            "Num Topics = 26  has Coherence Value of 0.5265\n",
            "Num Topics = 32  has Coherence Value of 0.5199\n",
            "Num Topics = 38  has Coherence Value of 0.5161\n"
          ]
        }
      ]
    },
    {
      "cell_type": "markdown",
      "source": [
        "If the coherence score seems to keep increasing, it may make better sense to pick the model that gave the highest CV before flattening out."
      ],
      "metadata": {
        "id": "gKIMg0vbmtiA"
      }
    },
    {
      "cell_type": "markdown",
      "source": [
        "### Choosing the model with eight (8) topics"
      ],
      "metadata": {
        "id": "yGPOHR2Vm128"
      }
    },
    {
      "cell_type": "code",
      "source": [
        "# Select the model and print the topics\n",
        "# The best LDA model with the optimal coherence score has 8 topics, which is\n",
        "# index 1 from the model_list list\n",
        "optimal_model = model_list[1]\n",
        "model_topics = optimal_model.show_topics(formatted=False)\n",
        "pprint(optimal_model.print_topics(num_words=10))"
      ],
      "metadata": {
        "colab": {
          "base_uri": "https://localhost:8080/"
        },
        "id": "PHB5hvHsmveV",
        "outputId": "a6a18d7c-f06f-42a4-b96d-bfce30c708c2"
      },
      "execution_count": 31,
      "outputs": [
        {
          "output_type": "stream",
          "name": "stdout",
          "text": [
            "[(0,\n",
            "  '0.012*\"verwerking\" + 0.008*\"categorie\" + 0.007*\"gegevensbank\" + '\n",
            "  '0.007*\"vermelden\" + 0.007*\"kader\" + 0.006*\"contact\" + 0.006*\"betrekking\" + '\n",
            "  '0.005*\"digitaal\" + 0.005*\"verwerken\" + 0.005*\"federaal\"'),\n",
            " (1,\n",
            "  '0.030*\"decreet\" + 0.023*\"vermelden\" + 0.018*\"Vlaams\" + 0.015*\"regering\" + '\n",
            "  '0.012*\"subsidie\" + 0.012*\"onderwijs\" + 0.010*\"afwijking\" + 0.010*\"periode\" '\n",
            "  '+ 0.009*\"aantal\" + 0.009*\"leerling\"'),\n",
            " (2,\n",
            "  '0.009*\"raad\" + 0.008*\"ministerieel\" + 0.008*\"bevoegdheid\" + '\n",
            "  '0.007*\"ontwerpen\" + 0.006*\"regel\" + 0.006*\"overheid\" + 0.005*\"federaal\" + '\n",
            "  '0.005*\"geval\" + 0.005*\"activiteit\" + 0.005*\"beperken\"'),\n",
            " (3,\n",
            "  '0.023*\"wet_boek\" + 0.016*\"woord\" + 0.015*\"belasting\" + 0.015*\"vervangen\" + '\n",
            "  '0.010*\"bedrag\" + 0.010*\"betrekking\" + 0.010*\"hetzelfde\" + 0.010*\"regeling\" '\n",
            "  '+ 0.009*\"fiscaal\" + 0.009*\"jaar\"'),\n",
            " (4,\n",
            "  '0.023*\"onderneming\" + 0.022*\"steun\" + 0.015*\"regering\" + 0.014*\"waals\" + '\n",
            "  '0.012*\"activiteit\" + 0.012*\"code\" + 0.011*\"decreet\" + 0.010*\"economisch\" + '\n",
            "  '0.010*\"sector\" + 0.010*\"economie\"'),\n",
            " (5,\n",
            "  '0.052*\"regering\" + 0.022*\"brusselse_hoofdstedelijk\" + 0.014*\"ordonnantie\" + '\n",
            "  '0.012*\"woord\" + 0.012*\"gewestelijk\" + 0.012*\"belasten\" + '\n",
            "  '0.011*\"bijzondere_machten\" + 0.011*\"kader\" + 0.011*\"vervangen\" + '\n",
            "  '0.010*\"bijzonder\"'),\n",
            " (6,\n",
            "  '0.011*\"patiënt\" + 0.007*\"mogelijk\" + 0.007*\"kader\" + 0.007*\"ziekenhuis\" + '\n",
            "  '0.006*\"volksgezondheid\" + 0.006*\"vaccinatie\" + 0.006*\"akkoord\" + '\n",
            "  '0.006*\"lijst\" + 0.006*\"federaal\" + 0.006*\"dag\"'),\n",
            " (7,\n",
            "  '0.034*\"koninklijk\" + 0.017*\"periode\" + 0.016*\"sociaal\" + 0.014*\"tijdelijk\" '\n",
            "  '+ 0.013*\"zelfstandig\" + 0.013*\"kader\" + 0.011*\"werknemer\" + 0.011*\"koning\" '\n",
            "  '+ 0.010*\"maand\" + 0.009*\"uitvoering\"')]\n"
          ]
        }
      ]
    },
    {
      "cell_type": "markdown",
      "source": [
        "### Finding the dominant topic in each sentence"
      ],
      "metadata": {
        "id": "jM5BBtRPm-BA"
      }
    },
    {
      "cell_type": "markdown",
      "source": [
        "One of the practical application of topic modeling is to determine what topic a given document is about.\n",
        "\n",
        "To find that, we find the **topic number that has the highest percentage contribution** in the document/set of documents."
      ],
      "metadata": {
        "id": "snt2Rep5nGWg"
      }
    },
    {
      "cell_type": "code",
      "source": [
        "def format_topics_sentences(ldamodel=lda_model, corpus=corpus, texts=data_words):\n",
        "    # Init output\n",
        "    sent_topics_df = pd.DataFrame()\n",
        "\n",
        "    # Get main topic in each document\n",
        "    for i, row in enumerate(ldamodel[corpus]):\n",
        "        row = sorted(row, key=lambda x: (x[1]), reverse=True)\n",
        "        # Get the Dominant topic, Perc Contribution and Keywords for each document\n",
        "        for j, (topic_num, prop_topic) in enumerate(row):\n",
        "            if j == 0:  # => dominant topic\n",
        "                wp = ldamodel.show_topic(topic_num)\n",
        "                topic_keywords = \", \".join([word for word, prop in wp])\n",
        "                sent_topics_df = sent_topics_df.append(pd.Series([int(topic_num), round(prop_topic,4), topic_keywords]), ignore_index=True)\n",
        "            else:\n",
        "                break\n",
        "    sent_topics_df.columns = ['Dominant_Topic', 'Perc_Contribution', 'Topic_Keywords']\n",
        "\n",
        "    # Add original text to the end of the output\n",
        "    contents = pd.Series(texts)\n",
        "    sent_topics_df = pd.concat([sent_topics_df, contents], axis=1)\n",
        "    return(sent_topics_df)\n",
        "\n",
        "df_topic_sents_keywords = format_topics_sentences(ldamodel=optimal_model, corpus=corpus, texts=data_words)"
      ],
      "metadata": {
        "id": "4dZDyOL2mn1T"
      },
      "execution_count": 32,
      "outputs": []
    },
    {
      "cell_type": "code",
      "source": [
        "# Formatting\n",
        "df_dominant_topic = df_topic_sents_keywords.reset_index()\n",
        "df_dominant_topic.columns = ['Document_No', 'Dominant_Topic', 'Topic_Perc_Contrib', 'Keywords', 'Text']\n",
        "\n",
        "# Showing\n",
        "df_dominant_topic.head(10)"
      ],
      "metadata": {
        "colab": {
          "base_uri": "https://localhost:8080/",
          "height": 363
        },
        "id": "Rko8z_8PnYaa",
        "outputId": "ed2ff9ef-6424-4dfb-879e-8c90b6059496"
      },
      "execution_count": 33,
      "outputs": [
        {
          "output_type": "execute_result",
          "data": {
            "text/plain": [
              "   Document_No  Dominant_Topic  Topic_Perc_Contrib  \\\n",
              "0            0             3.0              0.8185   \n",
              "1            1             6.0              0.5919   \n",
              "2            2             7.0              0.5014   \n",
              "3            3             1.0              0.5558   \n",
              "4            4             4.0              0.5883   \n",
              "5            5             0.0              0.3099   \n",
              "6            6             3.0              0.2575   \n",
              "7            7             4.0              0.3093   \n",
              "8            8             5.0              0.3293   \n",
              "9            9             5.0              0.3973   \n",
              "\n",
              "                                            Keywords  \\\n",
              "0  wet_boek, woord, belasting, vervangen, bedrag,...   \n",
              "1  patiënt, mogelijk, kader, ziekenhuis, volksgez...   \n",
              "2  koninklijk, periode, sociaal, tijdelijk, zelfs...   \n",
              "3  decreet, vermelden, Vlaams, regering, subsidie...   \n",
              "4  onderneming, steun, regering, waals, activitei...   \n",
              "5  verwerking, categorie, gegevensbank, vermelden...   \n",
              "6  wet_boek, woord, belasting, vervangen, bedrag,...   \n",
              "7  onderneming, steun, regering, waals, activitei...   \n",
              "8  regering, brusselse_hoofdstedelijk, ordonnanti...   \n",
              "9  regering, brusselse_hoofdstedelijk, ordonnanti...   \n",
              "\n",
              "                                                Text  \n",
              "0  [de, coefficient, bedoeld, in, artikel, van, h...  \n",
              "1  [filip, koning, der, belgen, aan, allen, die, ...  \n",
              "2  [verslag, aan, de, koning, sire, het, koninkli...  \n",
              "3  [de, regering, van, de, franse, gemeenschap, g...  \n",
              "4  [de, waalse, regering, gelet, op, het, decreet...  \n",
              "5  [het, vlaams, parlement, heeft, aangenomen, en...  \n",
              "6  [in, worden, de, woorden, pct, vervangen, door...  \n",
              "7  [de, regering, van, de, franse, gemeenschap, g...  \n",
              "8  [filip, koning, der, belgen, aan, allen, die, ...  \n",
              "9  [de, brusselse, hoofdstedelijke, regering, gel...  "
            ],
            "text/html": [
              "\n",
              "  <div id=\"df-482f0392-478c-48e6-a7aa-36d6901116e9\">\n",
              "    <div class=\"colab-df-container\">\n",
              "      <div>\n",
              "<style scoped>\n",
              "    .dataframe tbody tr th:only-of-type {\n",
              "        vertical-align: middle;\n",
              "    }\n",
              "\n",
              "    .dataframe tbody tr th {\n",
              "        vertical-align: top;\n",
              "    }\n",
              "\n",
              "    .dataframe thead th {\n",
              "        text-align: right;\n",
              "    }\n",
              "</style>\n",
              "<table border=\"1\" class=\"dataframe\">\n",
              "  <thead>\n",
              "    <tr style=\"text-align: right;\">\n",
              "      <th></th>\n",
              "      <th>Document_No</th>\n",
              "      <th>Dominant_Topic</th>\n",
              "      <th>Topic_Perc_Contrib</th>\n",
              "      <th>Keywords</th>\n",
              "      <th>Text</th>\n",
              "    </tr>\n",
              "  </thead>\n",
              "  <tbody>\n",
              "    <tr>\n",
              "      <th>0</th>\n",
              "      <td>0</td>\n",
              "      <td>3.0</td>\n",
              "      <td>0.8185</td>\n",
              "      <td>wet_boek, woord, belasting, vervangen, bedrag,...</td>\n",
              "      <td>[de, coefficient, bedoeld, in, artikel, van, h...</td>\n",
              "    </tr>\n",
              "    <tr>\n",
              "      <th>1</th>\n",
              "      <td>1</td>\n",
              "      <td>6.0</td>\n",
              "      <td>0.5919</td>\n",
              "      <td>patiënt, mogelijk, kader, ziekenhuis, volksgez...</td>\n",
              "      <td>[filip, koning, der, belgen, aan, allen, die, ...</td>\n",
              "    </tr>\n",
              "    <tr>\n",
              "      <th>2</th>\n",
              "      <td>2</td>\n",
              "      <td>7.0</td>\n",
              "      <td>0.5014</td>\n",
              "      <td>koninklijk, periode, sociaal, tijdelijk, zelfs...</td>\n",
              "      <td>[verslag, aan, de, koning, sire, het, koninkli...</td>\n",
              "    </tr>\n",
              "    <tr>\n",
              "      <th>3</th>\n",
              "      <td>3</td>\n",
              "      <td>1.0</td>\n",
              "      <td>0.5558</td>\n",
              "      <td>decreet, vermelden, Vlaams, regering, subsidie...</td>\n",
              "      <td>[de, regering, van, de, franse, gemeenschap, g...</td>\n",
              "    </tr>\n",
              "    <tr>\n",
              "      <th>4</th>\n",
              "      <td>4</td>\n",
              "      <td>4.0</td>\n",
              "      <td>0.5883</td>\n",
              "      <td>onderneming, steun, regering, waals, activitei...</td>\n",
              "      <td>[de, waalse, regering, gelet, op, het, decreet...</td>\n",
              "    </tr>\n",
              "    <tr>\n",
              "      <th>5</th>\n",
              "      <td>5</td>\n",
              "      <td>0.0</td>\n",
              "      <td>0.3099</td>\n",
              "      <td>verwerking, categorie, gegevensbank, vermelden...</td>\n",
              "      <td>[het, vlaams, parlement, heeft, aangenomen, en...</td>\n",
              "    </tr>\n",
              "    <tr>\n",
              "      <th>6</th>\n",
              "      <td>6</td>\n",
              "      <td>3.0</td>\n",
              "      <td>0.2575</td>\n",
              "      <td>wet_boek, woord, belasting, vervangen, bedrag,...</td>\n",
              "      <td>[in, worden, de, woorden, pct, vervangen, door...</td>\n",
              "    </tr>\n",
              "    <tr>\n",
              "      <th>7</th>\n",
              "      <td>7</td>\n",
              "      <td>4.0</td>\n",
              "      <td>0.3093</td>\n",
              "      <td>onderneming, steun, regering, waals, activitei...</td>\n",
              "      <td>[de, regering, van, de, franse, gemeenschap, g...</td>\n",
              "    </tr>\n",
              "    <tr>\n",
              "      <th>8</th>\n",
              "      <td>8</td>\n",
              "      <td>5.0</td>\n",
              "      <td>0.3293</td>\n",
              "      <td>regering, brusselse_hoofdstedelijk, ordonnanti...</td>\n",
              "      <td>[filip, koning, der, belgen, aan, allen, die, ...</td>\n",
              "    </tr>\n",
              "    <tr>\n",
              "      <th>9</th>\n",
              "      <td>9</td>\n",
              "      <td>5.0</td>\n",
              "      <td>0.3973</td>\n",
              "      <td>regering, brusselse_hoofdstedelijk, ordonnanti...</td>\n",
              "      <td>[de, brusselse, hoofdstedelijke, regering, gel...</td>\n",
              "    </tr>\n",
              "  </tbody>\n",
              "</table>\n",
              "</div>\n",
              "      <button class=\"colab-df-convert\" onclick=\"convertToInteractive('df-482f0392-478c-48e6-a7aa-36d6901116e9')\"\n",
              "              title=\"Convert this dataframe to an interactive table.\"\n",
              "              style=\"display:none;\">\n",
              "        \n",
              "  <svg xmlns=\"http://www.w3.org/2000/svg\" height=\"24px\"viewBox=\"0 0 24 24\"\n",
              "       width=\"24px\">\n",
              "    <path d=\"M0 0h24v24H0V0z\" fill=\"none\"/>\n",
              "    <path d=\"M18.56 5.44l.94 2.06.94-2.06 2.06-.94-2.06-.94-.94-2.06-.94 2.06-2.06.94zm-11 1L8.5 8.5l.94-2.06 2.06-.94-2.06-.94L8.5 2.5l-.94 2.06-2.06.94zm10 10l.94 2.06.94-2.06 2.06-.94-2.06-.94-.94-2.06-.94 2.06-2.06.94z\"/><path d=\"M17.41 7.96l-1.37-1.37c-.4-.4-.92-.59-1.43-.59-.52 0-1.04.2-1.43.59L10.3 9.45l-7.72 7.72c-.78.78-.78 2.05 0 2.83L4 21.41c.39.39.9.59 1.41.59.51 0 1.02-.2 1.41-.59l7.78-7.78 2.81-2.81c.8-.78.8-2.07 0-2.86zM5.41 20L4 18.59l7.72-7.72 1.47 1.35L5.41 20z\"/>\n",
              "  </svg>\n",
              "      </button>\n",
              "      \n",
              "  <style>\n",
              "    .colab-df-container {\n",
              "      display:flex;\n",
              "      flex-wrap:wrap;\n",
              "      gap: 12px;\n",
              "    }\n",
              "\n",
              "    .colab-df-convert {\n",
              "      background-color: #E8F0FE;\n",
              "      border: none;\n",
              "      border-radius: 50%;\n",
              "      cursor: pointer;\n",
              "      display: none;\n",
              "      fill: #1967D2;\n",
              "      height: 32px;\n",
              "      padding: 0 0 0 0;\n",
              "      width: 32px;\n",
              "    }\n",
              "\n",
              "    .colab-df-convert:hover {\n",
              "      background-color: #E2EBFA;\n",
              "      box-shadow: 0px 1px 2px rgba(60, 64, 67, 0.3), 0px 1px 3px 1px rgba(60, 64, 67, 0.15);\n",
              "      fill: #174EA6;\n",
              "    }\n",
              "\n",
              "    [theme=dark] .colab-df-convert {\n",
              "      background-color: #3B4455;\n",
              "      fill: #D2E3FC;\n",
              "    }\n",
              "\n",
              "    [theme=dark] .colab-df-convert:hover {\n",
              "      background-color: #434B5C;\n",
              "      box-shadow: 0px 1px 3px 1px rgba(0, 0, 0, 0.15);\n",
              "      filter: drop-shadow(0px 1px 2px rgba(0, 0, 0, 0.3));\n",
              "      fill: #FFFFFF;\n",
              "    }\n",
              "  </style>\n",
              "\n",
              "      <script>\n",
              "        const buttonEl =\n",
              "          document.querySelector('#df-482f0392-478c-48e6-a7aa-36d6901116e9 button.colab-df-convert');\n",
              "        buttonEl.style.display =\n",
              "          google.colab.kernel.accessAllowed ? 'block' : 'none';\n",
              "\n",
              "        async function convertToInteractive(key) {\n",
              "          const element = document.querySelector('#df-482f0392-478c-48e6-a7aa-36d6901116e9');\n",
              "          const dataTable =\n",
              "            await google.colab.kernel.invokeFunction('convertToInteractive',\n",
              "                                                     [key], {});\n",
              "          if (!dataTable) return;\n",
              "\n",
              "          const docLinkHtml = 'Like what you see? Visit the ' +\n",
              "            '<a target=\"_blank\" href=https://colab.research.google.com/notebooks/data_table.ipynb>data table notebook</a>'\n",
              "            + ' to learn more about interactive tables.';\n",
              "          element.innerHTML = '';\n",
              "          dataTable['output_type'] = 'display_data';\n",
              "          await google.colab.output.renderOutput(dataTable, element);\n",
              "          const docLink = document.createElement('div');\n",
              "          docLink.innerHTML = docLinkHtml;\n",
              "          element.appendChild(docLink);\n",
              "        }\n",
              "      </script>\n",
              "    </div>\n",
              "  </div>\n",
              "  "
            ]
          },
          "metadata": {},
          "execution_count": 33
        }
      ]
    },
    {
      "cell_type": "markdown",
      "source": [
        "### Finding the most representative document for each topic"
      ],
      "metadata": {
        "id": "rH-gdgkgpfiM"
      }
    },
    {
      "cell_type": "markdown",
      "source": [
        "With understanding the topic, you can find the documents a given topic has contributed to the most and infer the topic by reading that document."
      ],
      "metadata": {
        "id": "Z1e_t-Ufpiyf"
      }
    },
    {
      "cell_type": "code",
      "source": [
        "# Grouping the top 5 sentences under each topic\n",
        "sent_topics_sorteddf_mallet = pd.DataFrame()\n",
        "\n",
        "sent_topics_outdf_grpd = df_topic_sents_keywords.groupby('Dominant_Topic')\n",
        "\n",
        "for i, grp in sent_topics_outdf_grpd:\n",
        "    sent_topics_sorteddf_mallet = pd.concat([sent_topics_sorteddf_mallet, \n",
        "                                             grp.sort_values(['Perc_Contribution'], ascending=[0]).head(1)], \n",
        "                                            axis=0)\n",
        "\n",
        "# Reseting Index    \n",
        "sent_topics_sorteddf_mallet.reset_index(drop=True, inplace=True)\n",
        "\n",
        "# Formating\n",
        "sent_topics_sorteddf_mallet.columns = ['Topic_Num', \"Topic_Perc_Contrib\", \"Keywords\", \"Text\"]\n",
        "\n",
        "# Showing\n",
        "sent_topics_sorteddf_mallet.head()"
      ],
      "metadata": {
        "colab": {
          "base_uri": "https://localhost:8080/",
          "height": 206
        },
        "id": "RNhW5j47pqBn",
        "outputId": "a8de6aa7-28e6-4e0e-aaba-b7677e7b975b"
      },
      "execution_count": 34,
      "outputs": [
        {
          "output_type": "execute_result",
          "data": {
            "text/plain": [
              "   Topic_Num  Topic_Perc_Contrib  \\\n",
              "0        0.0              0.9386   \n",
              "1        1.0              0.8483   \n",
              "2        2.0              0.9573   \n",
              "3        3.0              0.9799   \n",
              "4        4.0              0.9051   \n",
              "\n",
              "                                            Keywords  \\\n",
              "0  verwerking, categorie, gegevensbank, vermelden...   \n",
              "1  decreet, vermelden, Vlaams, regering, subsidie...   \n",
              "2  raad, ministerieel, bevoegdheid, ontwerpen, re...   \n",
              "3  wet_boek, woord, belasting, vervangen, bedrag,...   \n",
              "4  onderneming, steun, regering, waals, activitei...   \n",
              "\n",
              "                                                Text  \n",
              "0  [krachtens, artikel, van, het, koninklijk, bes...  \n",
              "1  [rechtsgronden, dit, besluit, is, gebaseerd, o...  \n",
              "2  [in, het, belgisch, staatsblad, nr, van, zonda...  \n",
              "3  [filip, koning, der, belgen, aan, allen, die, ...  \n",
              "4  [de, minister, van, economie, gelet, op, het, ...  "
            ],
            "text/html": [
              "\n",
              "  <div id=\"df-fa9c8cf6-9260-4b13-96ba-c63279e24e10\">\n",
              "    <div class=\"colab-df-container\">\n",
              "      <div>\n",
              "<style scoped>\n",
              "    .dataframe tbody tr th:only-of-type {\n",
              "        vertical-align: middle;\n",
              "    }\n",
              "\n",
              "    .dataframe tbody tr th {\n",
              "        vertical-align: top;\n",
              "    }\n",
              "\n",
              "    .dataframe thead th {\n",
              "        text-align: right;\n",
              "    }\n",
              "</style>\n",
              "<table border=\"1\" class=\"dataframe\">\n",
              "  <thead>\n",
              "    <tr style=\"text-align: right;\">\n",
              "      <th></th>\n",
              "      <th>Topic_Num</th>\n",
              "      <th>Topic_Perc_Contrib</th>\n",
              "      <th>Keywords</th>\n",
              "      <th>Text</th>\n",
              "    </tr>\n",
              "  </thead>\n",
              "  <tbody>\n",
              "    <tr>\n",
              "      <th>0</th>\n",
              "      <td>0.0</td>\n",
              "      <td>0.9386</td>\n",
              "      <td>verwerking, categorie, gegevensbank, vermelden...</td>\n",
              "      <td>[krachtens, artikel, van, het, koninklijk, bes...</td>\n",
              "    </tr>\n",
              "    <tr>\n",
              "      <th>1</th>\n",
              "      <td>1.0</td>\n",
              "      <td>0.8483</td>\n",
              "      <td>decreet, vermelden, Vlaams, regering, subsidie...</td>\n",
              "      <td>[rechtsgronden, dit, besluit, is, gebaseerd, o...</td>\n",
              "    </tr>\n",
              "    <tr>\n",
              "      <th>2</th>\n",
              "      <td>2.0</td>\n",
              "      <td>0.9573</td>\n",
              "      <td>raad, ministerieel, bevoegdheid, ontwerpen, re...</td>\n",
              "      <td>[in, het, belgisch, staatsblad, nr, van, zonda...</td>\n",
              "    </tr>\n",
              "    <tr>\n",
              "      <th>3</th>\n",
              "      <td>3.0</td>\n",
              "      <td>0.9799</td>\n",
              "      <td>wet_boek, woord, belasting, vervangen, bedrag,...</td>\n",
              "      <td>[filip, koning, der, belgen, aan, allen, die, ...</td>\n",
              "    </tr>\n",
              "    <tr>\n",
              "      <th>4</th>\n",
              "      <td>4.0</td>\n",
              "      <td>0.9051</td>\n",
              "      <td>onderneming, steun, regering, waals, activitei...</td>\n",
              "      <td>[de, minister, van, economie, gelet, op, het, ...</td>\n",
              "    </tr>\n",
              "  </tbody>\n",
              "</table>\n",
              "</div>\n",
              "      <button class=\"colab-df-convert\" onclick=\"convertToInteractive('df-fa9c8cf6-9260-4b13-96ba-c63279e24e10')\"\n",
              "              title=\"Convert this dataframe to an interactive table.\"\n",
              "              style=\"display:none;\">\n",
              "        \n",
              "  <svg xmlns=\"http://www.w3.org/2000/svg\" height=\"24px\"viewBox=\"0 0 24 24\"\n",
              "       width=\"24px\">\n",
              "    <path d=\"M0 0h24v24H0V0z\" fill=\"none\"/>\n",
              "    <path d=\"M18.56 5.44l.94 2.06.94-2.06 2.06-.94-2.06-.94-.94-2.06-.94 2.06-2.06.94zm-11 1L8.5 8.5l.94-2.06 2.06-.94-2.06-.94L8.5 2.5l-.94 2.06-2.06.94zm10 10l.94 2.06.94-2.06 2.06-.94-2.06-.94-.94-2.06-.94 2.06-2.06.94z\"/><path d=\"M17.41 7.96l-1.37-1.37c-.4-.4-.92-.59-1.43-.59-.52 0-1.04.2-1.43.59L10.3 9.45l-7.72 7.72c-.78.78-.78 2.05 0 2.83L4 21.41c.39.39.9.59 1.41.59.51 0 1.02-.2 1.41-.59l7.78-7.78 2.81-2.81c.8-.78.8-2.07 0-2.86zM5.41 20L4 18.59l7.72-7.72 1.47 1.35L5.41 20z\"/>\n",
              "  </svg>\n",
              "      </button>\n",
              "      \n",
              "  <style>\n",
              "    .colab-df-container {\n",
              "      display:flex;\n",
              "      flex-wrap:wrap;\n",
              "      gap: 12px;\n",
              "    }\n",
              "\n",
              "    .colab-df-convert {\n",
              "      background-color: #E8F0FE;\n",
              "      border: none;\n",
              "      border-radius: 50%;\n",
              "      cursor: pointer;\n",
              "      display: none;\n",
              "      fill: #1967D2;\n",
              "      height: 32px;\n",
              "      padding: 0 0 0 0;\n",
              "      width: 32px;\n",
              "    }\n",
              "\n",
              "    .colab-df-convert:hover {\n",
              "      background-color: #E2EBFA;\n",
              "      box-shadow: 0px 1px 2px rgba(60, 64, 67, 0.3), 0px 1px 3px 1px rgba(60, 64, 67, 0.15);\n",
              "      fill: #174EA6;\n",
              "    }\n",
              "\n",
              "    [theme=dark] .colab-df-convert {\n",
              "      background-color: #3B4455;\n",
              "      fill: #D2E3FC;\n",
              "    }\n",
              "\n",
              "    [theme=dark] .colab-df-convert:hover {\n",
              "      background-color: #434B5C;\n",
              "      box-shadow: 0px 1px 3px 1px rgba(0, 0, 0, 0.15);\n",
              "      filter: drop-shadow(0px 1px 2px rgba(0, 0, 0, 0.3));\n",
              "      fill: #FFFFFF;\n",
              "    }\n",
              "  </style>\n",
              "\n",
              "      <script>\n",
              "        const buttonEl =\n",
              "          document.querySelector('#df-fa9c8cf6-9260-4b13-96ba-c63279e24e10 button.colab-df-convert');\n",
              "        buttonEl.style.display =\n",
              "          google.colab.kernel.accessAllowed ? 'block' : 'none';\n",
              "\n",
              "        async function convertToInteractive(key) {\n",
              "          const element = document.querySelector('#df-fa9c8cf6-9260-4b13-96ba-c63279e24e10');\n",
              "          const dataTable =\n",
              "            await google.colab.kernel.invokeFunction('convertToInteractive',\n",
              "                                                     [key], {});\n",
              "          if (!dataTable) return;\n",
              "\n",
              "          const docLinkHtml = 'Like what you see? Visit the ' +\n",
              "            '<a target=\"_blank\" href=https://colab.research.google.com/notebooks/data_table.ipynb>data table notebook</a>'\n",
              "            + ' to learn more about interactive tables.';\n",
              "          element.innerHTML = '';\n",
              "          dataTable['output_type'] = 'display_data';\n",
              "          await google.colab.output.renderOutput(dataTable, element);\n",
              "          const docLink = document.createElement('div');\n",
              "          docLink.innerHTML = docLinkHtml;\n",
              "          element.appendChild(docLink);\n",
              "        }\n",
              "      </script>\n",
              "    </div>\n",
              "  </div>\n",
              "  "
            ]
          },
          "metadata": {},
          "execution_count": 34
        }
      ]
    },
    {
      "cell_type": "markdown",
      "source": [
        "The tabular output above actually has 20 rows, one each for a topic. It has the topic number, the keywords, and the most representative document. The **Perc_Contribution column** is nothing but the percentage contribution of the topic in the given document."
      ],
      "metadata": {
        "id": "DoYcEQQNp6Lm"
      }
    },
    {
      "cell_type": "markdown",
      "source": [
        "## Topic distribution across documents"
      ],
      "metadata": {
        "id": "GP4W5PoIp-pK"
      }
    },
    {
      "cell_type": "markdown",
      "source": [
        "Finally, we want to understand the volume and distribution of topics in order to judge how widely it was discussed. "
      ],
      "metadata": {
        "id": "nFRFXvosqB4n"
      }
    },
    {
      "cell_type": "code",
      "source": [
        "# Number of Documents for Each Topic\n",
        "topic_counts = df_topic_sents_keywords['Dominant_Topic'].value_counts()\n",
        "\n",
        "# Percentage of Documents for Each Topic\n",
        "topic_contribution = round(topic_counts/topic_counts.sum(), 4)\n",
        "\n",
        "# Topic Number and Keywords\n",
        "topic_num_keywords = df_topic_sents_keywords[['Dominant_Topic', 'Topic_Keywords']]\n",
        "\n",
        "# Concatenatinate Column wise\n",
        "df_dominant_topics = pd.concat([topic_num_keywords, topic_counts, topic_contribution], axis=1)\n",
        "\n",
        "# Change Column names\n",
        "df_dominant_topics.columns = ['Dominant_Topic', 'Topic_Keywords', 'Num_Documents', 'Perc_Documents']\n",
        "\n",
        "# Show\n",
        "df_dominant_topics"
      ],
      "metadata": {
        "id": "UhzZdILGqUaT",
        "colab": {
          "base_uri": "https://localhost:8080/",
          "height": 424
        },
        "outputId": "54e5968d-8588-4756-d8b7-f20c12ea24a7"
      },
      "execution_count": 35,
      "outputs": [
        {
          "output_type": "execute_result",
          "data": {
            "text/plain": [
              "       Dominant_Topic                                     Topic_Keywords  \\\n",
              "0.0               3.0  wet_boek, woord, belasting, vervangen, bedrag,...   \n",
              "1.0               6.0  patiënt, mogelijk, kader, ziekenhuis, volksgez...   \n",
              "2.0               7.0  koninklijk, periode, sociaal, tijdelijk, zelfs...   \n",
              "3.0               1.0  decreet, vermelden, Vlaams, regering, subsidie...   \n",
              "4.0               4.0  onderneming, steun, regering, waals, activitei...   \n",
              "...               ...                                                ...   \n",
              "623.0             6.0  patiënt, mogelijk, kader, ziekenhuis, volksgez...   \n",
              "624.0             5.0  regering, brusselse_hoofdstedelijk, ordonnanti...   \n",
              "625.0             5.0  regering, brusselse_hoofdstedelijk, ordonnanti...   \n",
              "626.0             3.0  wet_boek, woord, belasting, vervangen, bedrag,...   \n",
              "627.0             0.0  verwerking, categorie, gegevensbank, vermelden...   \n",
              "\n",
              "       Num_Documents  Perc_Documents  \n",
              "0.0             36.0          0.0573  \n",
              "1.0             90.0          0.1433  \n",
              "2.0             35.0          0.0557  \n",
              "3.0             87.0          0.1385  \n",
              "4.0             84.0          0.1338  \n",
              "...              ...             ...  \n",
              "623.0            NaN             NaN  \n",
              "624.0            NaN             NaN  \n",
              "625.0            NaN             NaN  \n",
              "626.0            NaN             NaN  \n",
              "627.0            NaN             NaN  \n",
              "\n",
              "[628 rows x 4 columns]"
            ],
            "text/html": [
              "\n",
              "  <div id=\"df-def09497-66f4-4cbf-ac1c-4896e363ee31\">\n",
              "    <div class=\"colab-df-container\">\n",
              "      <div>\n",
              "<style scoped>\n",
              "    .dataframe tbody tr th:only-of-type {\n",
              "        vertical-align: middle;\n",
              "    }\n",
              "\n",
              "    .dataframe tbody tr th {\n",
              "        vertical-align: top;\n",
              "    }\n",
              "\n",
              "    .dataframe thead th {\n",
              "        text-align: right;\n",
              "    }\n",
              "</style>\n",
              "<table border=\"1\" class=\"dataframe\">\n",
              "  <thead>\n",
              "    <tr style=\"text-align: right;\">\n",
              "      <th></th>\n",
              "      <th>Dominant_Topic</th>\n",
              "      <th>Topic_Keywords</th>\n",
              "      <th>Num_Documents</th>\n",
              "      <th>Perc_Documents</th>\n",
              "    </tr>\n",
              "  </thead>\n",
              "  <tbody>\n",
              "    <tr>\n",
              "      <th>0.0</th>\n",
              "      <td>3.0</td>\n",
              "      <td>wet_boek, woord, belasting, vervangen, bedrag,...</td>\n",
              "      <td>36.0</td>\n",
              "      <td>0.0573</td>\n",
              "    </tr>\n",
              "    <tr>\n",
              "      <th>1.0</th>\n",
              "      <td>6.0</td>\n",
              "      <td>patiënt, mogelijk, kader, ziekenhuis, volksgez...</td>\n",
              "      <td>90.0</td>\n",
              "      <td>0.1433</td>\n",
              "    </tr>\n",
              "    <tr>\n",
              "      <th>2.0</th>\n",
              "      <td>7.0</td>\n",
              "      <td>koninklijk, periode, sociaal, tijdelijk, zelfs...</td>\n",
              "      <td>35.0</td>\n",
              "      <td>0.0557</td>\n",
              "    </tr>\n",
              "    <tr>\n",
              "      <th>3.0</th>\n",
              "      <td>1.0</td>\n",
              "      <td>decreet, vermelden, Vlaams, regering, subsidie...</td>\n",
              "      <td>87.0</td>\n",
              "      <td>0.1385</td>\n",
              "    </tr>\n",
              "    <tr>\n",
              "      <th>4.0</th>\n",
              "      <td>4.0</td>\n",
              "      <td>onderneming, steun, regering, waals, activitei...</td>\n",
              "      <td>84.0</td>\n",
              "      <td>0.1338</td>\n",
              "    </tr>\n",
              "    <tr>\n",
              "      <th>...</th>\n",
              "      <td>...</td>\n",
              "      <td>...</td>\n",
              "      <td>...</td>\n",
              "      <td>...</td>\n",
              "    </tr>\n",
              "    <tr>\n",
              "      <th>623.0</th>\n",
              "      <td>6.0</td>\n",
              "      <td>patiënt, mogelijk, kader, ziekenhuis, volksgez...</td>\n",
              "      <td>NaN</td>\n",
              "      <td>NaN</td>\n",
              "    </tr>\n",
              "    <tr>\n",
              "      <th>624.0</th>\n",
              "      <td>5.0</td>\n",
              "      <td>regering, brusselse_hoofdstedelijk, ordonnanti...</td>\n",
              "      <td>NaN</td>\n",
              "      <td>NaN</td>\n",
              "    </tr>\n",
              "    <tr>\n",
              "      <th>625.0</th>\n",
              "      <td>5.0</td>\n",
              "      <td>regering, brusselse_hoofdstedelijk, ordonnanti...</td>\n",
              "      <td>NaN</td>\n",
              "      <td>NaN</td>\n",
              "    </tr>\n",
              "    <tr>\n",
              "      <th>626.0</th>\n",
              "      <td>3.0</td>\n",
              "      <td>wet_boek, woord, belasting, vervangen, bedrag,...</td>\n",
              "      <td>NaN</td>\n",
              "      <td>NaN</td>\n",
              "    </tr>\n",
              "    <tr>\n",
              "      <th>627.0</th>\n",
              "      <td>0.0</td>\n",
              "      <td>verwerking, categorie, gegevensbank, vermelden...</td>\n",
              "      <td>NaN</td>\n",
              "      <td>NaN</td>\n",
              "    </tr>\n",
              "  </tbody>\n",
              "</table>\n",
              "<p>628 rows × 4 columns</p>\n",
              "</div>\n",
              "      <button class=\"colab-df-convert\" onclick=\"convertToInteractive('df-def09497-66f4-4cbf-ac1c-4896e363ee31')\"\n",
              "              title=\"Convert this dataframe to an interactive table.\"\n",
              "              style=\"display:none;\">\n",
              "        \n",
              "  <svg xmlns=\"http://www.w3.org/2000/svg\" height=\"24px\"viewBox=\"0 0 24 24\"\n",
              "       width=\"24px\">\n",
              "    <path d=\"M0 0h24v24H0V0z\" fill=\"none\"/>\n",
              "    <path d=\"M18.56 5.44l.94 2.06.94-2.06 2.06-.94-2.06-.94-.94-2.06-.94 2.06-2.06.94zm-11 1L8.5 8.5l.94-2.06 2.06-.94-2.06-.94L8.5 2.5l-.94 2.06-2.06.94zm10 10l.94 2.06.94-2.06 2.06-.94-2.06-.94-.94-2.06-.94 2.06-2.06.94z\"/><path d=\"M17.41 7.96l-1.37-1.37c-.4-.4-.92-.59-1.43-.59-.52 0-1.04.2-1.43.59L10.3 9.45l-7.72 7.72c-.78.78-.78 2.05 0 2.83L4 21.41c.39.39.9.59 1.41.59.51 0 1.02-.2 1.41-.59l7.78-7.78 2.81-2.81c.8-.78.8-2.07 0-2.86zM5.41 20L4 18.59l7.72-7.72 1.47 1.35L5.41 20z\"/>\n",
              "  </svg>\n",
              "      </button>\n",
              "      \n",
              "  <style>\n",
              "    .colab-df-container {\n",
              "      display:flex;\n",
              "      flex-wrap:wrap;\n",
              "      gap: 12px;\n",
              "    }\n",
              "\n",
              "    .colab-df-convert {\n",
              "      background-color: #E8F0FE;\n",
              "      border: none;\n",
              "      border-radius: 50%;\n",
              "      cursor: pointer;\n",
              "      display: none;\n",
              "      fill: #1967D2;\n",
              "      height: 32px;\n",
              "      padding: 0 0 0 0;\n",
              "      width: 32px;\n",
              "    }\n",
              "\n",
              "    .colab-df-convert:hover {\n",
              "      background-color: #E2EBFA;\n",
              "      box-shadow: 0px 1px 2px rgba(60, 64, 67, 0.3), 0px 1px 3px 1px rgba(60, 64, 67, 0.15);\n",
              "      fill: #174EA6;\n",
              "    }\n",
              "\n",
              "    [theme=dark] .colab-df-convert {\n",
              "      background-color: #3B4455;\n",
              "      fill: #D2E3FC;\n",
              "    }\n",
              "\n",
              "    [theme=dark] .colab-df-convert:hover {\n",
              "      background-color: #434B5C;\n",
              "      box-shadow: 0px 1px 3px 1px rgba(0, 0, 0, 0.15);\n",
              "      filter: drop-shadow(0px 1px 2px rgba(0, 0, 0, 0.3));\n",
              "      fill: #FFFFFF;\n",
              "    }\n",
              "  </style>\n",
              "\n",
              "      <script>\n",
              "        const buttonEl =\n",
              "          document.querySelector('#df-def09497-66f4-4cbf-ac1c-4896e363ee31 button.colab-df-convert');\n",
              "        buttonEl.style.display =\n",
              "          google.colab.kernel.accessAllowed ? 'block' : 'none';\n",
              "\n",
              "        async function convertToInteractive(key) {\n",
              "          const element = document.querySelector('#df-def09497-66f4-4cbf-ac1c-4896e363ee31');\n",
              "          const dataTable =\n",
              "            await google.colab.kernel.invokeFunction('convertToInteractive',\n",
              "                                                     [key], {});\n",
              "          if (!dataTable) return;\n",
              "\n",
              "          const docLinkHtml = 'Like what you see? Visit the ' +\n",
              "            '<a target=\"_blank\" href=https://colab.research.google.com/notebooks/data_table.ipynb>data table notebook</a>'\n",
              "            + ' to learn more about interactive tables.';\n",
              "          element.innerHTML = '';\n",
              "          dataTable['output_type'] = 'display_data';\n",
              "          await google.colab.output.renderOutput(dataTable, element);\n",
              "          const docLink = document.createElement('div');\n",
              "          docLink.innerHTML = docLinkHtml;\n",
              "          element.appendChild(docLink);\n",
              "        }\n",
              "      </script>\n",
              "    </div>\n",
              "  </div>\n",
              "  "
            ]
          },
          "metadata": {},
          "execution_count": 35
        }
      ]
    },
    {
      "cell_type": "markdown",
      "source": [
        "## CONCLUSION"
      ],
      "metadata": {
        "id": "OXf89-LI3xO-"
      }
    },
    {
      "cell_type": "markdown",
      "source": [
        "From ten (10) Dutch legal text files that were cleaned, further ML preprocessing and unsupervised topic extraction were carried out via:\n",
        "\n",
        "- A basic topic model using Gensim’s LDA; \n",
        "\n",
        "- pyLDAvis for topic visualisation; and \n",
        "\n",
        "- Mallet’s LDA implementation."
      ],
      "metadata": {
        "id": "5pc767Ni3zK7"
      }
    }
  ]
}